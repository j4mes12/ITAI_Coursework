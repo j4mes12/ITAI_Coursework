{
 "cells": [
  {
   "cell_type": "markdown",
   "metadata": {},
   "source": [
    "# Model Tuning\n",
    "---\n",
    "In this notebook, we train and tune and baseline model, XGBoost model and Random Forest model."
   ]
  },
  {
   "cell_type": "code",
   "execution_count": 15,
   "metadata": {},
   "outputs": [
    {
     "name": "stdout",
     "output_type": "stream",
     "text": [
      "The autoreload extension is already loaded. To reload it, use:\n",
      "  %reload_ext autoreload\n"
     ]
    }
   ],
   "source": [
    "%load_ext autoreload\n",
    "%autoreload 2"
   ]
  },
  {
   "cell_type": "markdown",
   "metadata": {},
   "source": [
    "### Import Packages"
   ]
  },
  {
   "cell_type": "code",
   "execution_count": 2,
   "metadata": {},
   "outputs": [],
   "source": [
    "import pandas as pd\n",
    "import numpy as np\n",
    "import seaborn as sns\n",
    "import matplotlib.pyplot as plt\n",
    "from itertools import product\n",
    "import dataframe_image as dfi\n",
    "import joblib\n",
    "\n",
    "import warnings\n",
    "\n",
    "import params as p\n",
    "import functions as f\n",
    "\n",
    "from xgboost import XGBRegressor\n",
    "\n",
    "from sklearn.linear_model import LinearRegression\n",
    "from sklearn.ensemble import RandomForestRegressor\n",
    "\n",
    "import optuna\n",
    "from optuna.integration import OptunaSearchCV\n",
    "from optuna.distributions import IntUniformDistribution, UniformDistribution, LogUniformDistribution, CategoricalDistribution\n",
    "from optuna.samplers import TPESampler"
   ]
  },
  {
   "cell_type": "markdown",
   "metadata": {},
   "source": [
    "### Settings"
   ]
  },
  {
   "cell_type": "code",
   "execution_count": 17,
   "metadata": {},
   "outputs": [],
   "source": [
    "warnings.simplefilter(action='ignore', category = FutureWarning)"
   ]
  },
  {
   "cell_type": "markdown",
   "metadata": {},
   "source": [
    "### Import Data"
   ]
  },
  {
   "cell_type": "code",
   "execution_count": 18,
   "metadata": {},
   "outputs": [],
   "source": [
    "# Load train, test and validation datasets\n",
    "train, test, val = f.load_split_datasets(part = '03')"
   ]
  },
  {
   "cell_type": "code",
   "execution_count": 19,
   "metadata": {},
   "outputs": [],
   "source": [
    "# Split datasets into X and y components\n",
    "X_train, y_train = f.split_data_X_y(train)\n",
    "X_val, y_val = f.split_data_X_y(val)\n",
    "X_test, y_test = f.split_data_X_y(test)"
   ]
  },
  {
   "cell_type": "code",
   "execution_count": 20,
   "metadata": {},
   "outputs": [],
   "source": [
    "# Define train/test/validation dictionaries to make fitting and evaluation arguments cleaner\n",
    "train_data = {'X' : X_train, 'y' : y_train}\n",
    "val_data = {'X' : X_val, 'y' : y_val}\n",
    "test_data = {'X' : X_test, 'y' : y_test}"
   ]
  },
  {
   "cell_type": "markdown",
   "metadata": {},
   "source": [
    "### Create Baseline Model"
   ]
  },
  {
   "cell_type": "code",
   "execution_count": 21,
   "metadata": {},
   "outputs": [
    {
     "name": "stdout",
     "output_type": "stream",
     "text": [
      "lr model... trained\n"
     ]
    }
   ],
   "source": [
    "# Create and train baseline model\n",
    "print('lr model...', end = ' ')\n",
    "lr = LinearRegression().fit(**train_data)\n",
    "print('trained')"
   ]
  },
  {
   "cell_type": "code",
   "execution_count": 22,
   "metadata": {},
   "outputs": [
    {
     "data": {
      "text/plain": [
       "['./outputs/baseline_model.pkl']"
      ]
     },
     "execution_count": 22,
     "metadata": {},
     "output_type": "execute_result"
    }
   ],
   "source": [
    "# Save baseline model\n",
    "joblib.dump(lr, p.OUTPUTS_PATH + 'baseline_model.pkl')"
   ]
  },
  {
   "cell_type": "markdown",
   "metadata": {},
   "source": [
    "### Evaluate Initial Models on Train and Test Data"
   ]
  },
  {
   "cell_type": "code",
   "execution_count": 23,
   "metadata": {},
   "outputs": [
    {
     "data": {
      "text/html": [
       "<div>\n",
       "<style scoped>\n",
       "    .dataframe tbody tr th:only-of-type {\n",
       "        vertical-align: middle;\n",
       "    }\n",
       "\n",
       "    .dataframe tbody tr th {\n",
       "        vertical-align: top;\n",
       "    }\n",
       "\n",
       "    .dataframe thead th {\n",
       "        text-align: right;\n",
       "    }\n",
       "</style>\n",
       "<table border=\"1\" class=\"dataframe\">\n",
       "  <thead>\n",
       "    <tr style=\"text-align: right;\">\n",
       "      <th></th>\n",
       "      <th>0</th>\n",
       "    </tr>\n",
       "  </thead>\n",
       "  <tbody>\n",
       "    <tr>\n",
       "      <th>R2 Train</th>\n",
       "      <td>0.684695</td>\n",
       "    </tr>\n",
       "    <tr>\n",
       "      <th>R2 Validation</th>\n",
       "      <td>0.659549</td>\n",
       "    </tr>\n",
       "  </tbody>\n",
       "</table>\n",
       "</div>"
      ],
      "text/plain": [
       "                      0\n",
       "R2 Train       0.684695\n",
       "R2 Validation  0.659549"
      ]
     },
     "execution_count": 23,
     "metadata": {},
     "output_type": "execute_result"
    }
   ],
   "source": [
    "models = [lr]\n",
    "\n",
    "# Calculate initial results for train and validation\n",
    "r2_baseline_results = {\n",
    "    'Model' : ['Linear Regresssion (Baseline)'],\n",
    "    'R2 Train' : [f.evaluate_model(model, metric = 'r2', **train_data) for model in models],\n",
    "    'R2 Validation' : [f.evaluate_model(model, metric = 'r2', **val_data) for model in models]\n",
    "    }\n",
    "\n",
    "# Display results as a dataframe\n",
    "baseline_results = pd.DataFrame(r2_baseline_results)\n",
    "baseline_results[['R2 Train', 'R2 Validation']].T"
   ]
  },
  {
   "cell_type": "markdown",
   "metadata": {},
   "source": [
    "Our baseline seems to perform at a reasonably high level which is a good start. The values are close which suggests the model is robust."
   ]
  },
  {
   "cell_type": "markdown",
   "metadata": {},
   "source": [
    "### Initial Models for XGBoost and Random Forest"
   ]
  },
  {
   "cell_type": "code",
   "execution_count": 24,
   "metadata": {},
   "outputs": [],
   "source": [
    "# Define base parameters for each model\n",
    "base_params = {\n",
    "    'n_jobs' : -1,\n",
    "    'random_state' : p.RANDOM_STATE,\n",
    "    }"
   ]
  },
  {
   "cell_type": "code",
   "execution_count": 25,
   "metadata": {},
   "outputs": [],
   "source": [
    "# Initiate XGB Model\n",
    "xgb_optuna_base = XGBRegressor(**base_params)"
   ]
  },
  {
   "cell_type": "code",
   "execution_count": 26,
   "metadata": {},
   "outputs": [],
   "source": [
    "# Initiate RF Model\n",
    "rf_optuna_base = RandomForestRegressor(**base_params)"
   ]
  },
  {
   "cell_type": "code",
   "execution_count": 27,
   "metadata": {},
   "outputs": [
    {
     "data": {
      "text/html": [
       "<div>\n",
       "<style scoped>\n",
       "    .dataframe tbody tr th:only-of-type {\n",
       "        vertical-align: middle;\n",
       "    }\n",
       "\n",
       "    .dataframe tbody tr th {\n",
       "        vertical-align: top;\n",
       "    }\n",
       "\n",
       "    .dataframe thead th {\n",
       "        text-align: right;\n",
       "    }\n",
       "</style>\n",
       "<table border=\"1\" class=\"dataframe\">\n",
       "  <thead>\n",
       "    <tr style=\"text-align: right;\">\n",
       "      <th></th>\n",
       "      <th>Model</th>\n",
       "      <th>R2 Train</th>\n",
       "      <th>R2 Validation</th>\n",
       "    </tr>\n",
       "  </thead>\n",
       "  <tbody>\n",
       "    <tr>\n",
       "      <th>0</th>\n",
       "      <td>Linear Regresssion (Baseline)</td>\n",
       "      <td>0.684695</td>\n",
       "      <td>0.659549</td>\n",
       "    </tr>\n",
       "    <tr>\n",
       "      <th>1</th>\n",
       "      <td>Initial XGBoost</td>\n",
       "      <td>0.978792</td>\n",
       "      <td>0.874675</td>\n",
       "    </tr>\n",
       "    <tr>\n",
       "      <th>2</th>\n",
       "      <td>Initial Random Forest</td>\n",
       "      <td>0.981705</td>\n",
       "      <td>0.868119</td>\n",
       "    </tr>\n",
       "  </tbody>\n",
       "</table>\n",
       "</div>"
      ],
      "text/plain": [
       "                           Model  R2 Train  R2 Validation\n",
       "0  Linear Regresssion (Baseline)  0.684695       0.659549\n",
       "1                Initial XGBoost  0.978792       0.874675\n",
       "2          Initial Random Forest  0.981705       0.868119"
      ]
     },
     "execution_count": 27,
     "metadata": {},
     "output_type": "execute_result"
    }
   ],
   "source": [
    "models = [lr, xgb_optuna_base, rf_optuna_base]\n",
    "\n",
    "# Calculate R2 Score for train and validation datasets for each model\n",
    "r2_initial_results = {\n",
    "    'Model' : ['Linear Regresssion (Baseline)', 'Initial XGBoost', 'Initial Random Forest'],\n",
    "    'R2 Train' : [f.evaluate_model(model.fit(**train_data), metric = 'r2', **train_data) for model in models],\n",
    "    'R2 Validation' : [f.evaluate_model(model.fit(**train_data), metric = 'r2', **val_data) for model in models]\n",
    "    }\n",
    "\n",
    "# Display results as a dataframe\n",
    "initial_results = pd.DataFrame(r2_initial_results)\n",
    "initial_results"
   ]
  },
  {
   "cell_type": "code",
   "execution_count": 56,
   "metadata": {},
   "outputs": [
    {
     "data": {
      "image/png": "[encoded data removed]",
      "text/plain": [
       "<Figure size 1080x576 with 1 Axes>"
      ]
     },
     "metadata": {
      "needs_background": "light"
     },
     "output_type": "display_data"
    }
   ],
   "source": [
    "fig, ax = plt.subplots(1, 1, figsize = (15, 8))\n",
    "\n",
    "# Change data so it is it displayable format\n",
    "melt_data = initial_results.melt(id_vars = 'Model')\n",
    "\n",
    "# Make barplot\n",
    "sns.barplot(\n",
    "    ax = ax,\n",
    "    data = melt_data,\n",
    "    x = 'Model',\n",
    "    y = 'value',\n",
    "    hue = 'variable').set(title = 'Figure 1: Bar Chart of R2 Scores of Train and Validation Data')\n",
    "\n",
    "# Adjust plot features\n",
    "plt.ylabel('R2 Score')\n",
    "plt.legend()\n",
    "\n",
    "# Save plot\n",
    "plt.savefig(p.OUTPUTS_PATH + 'initial_models.png')\n",
    "\n",
    "# Show plot\n",
    "plt.show()"
   ]
  },
  {
   "cell_type": "markdown",
   "metadata": {},
   "source": [
    "1. The Linear Regression model does show a reasonable performance and, since we cannot tune it, will provide a good baseline to compare our initial results against.\n",
    "\n",
    "1. We can see that the XGBoost model does seem to have the best performance currently with R2 scores of 0.978792 and 0.874675 from train and validation respectively. However, the RandomForest model does show similar R2, albeit slightly lower. Comparing these models to our baseline, we can see that we have already got more value out changing the model before tuning."
   ]
  },
  {
   "cell_type": "markdown",
   "metadata": {},
   "source": [
    "### Model Tuning - Optuna"
   ]
  },
  {
   "cell_type": "markdown",
   "metadata": {},
   "source": [
    "We will be using the optuna framework to train our models due to the improved performance on sklearn's `RandomizedSearchCV` and the nice structure optuna brings.\n",
    "\n",
    "1. We start with the XGBoost tuning, breaking it down into three sections: Tree-based parameters, Regularization Parameters and Learning Rate. We will use a separate optuna study for each section to effectively tune the model and avoid over fitting. Tree-based parameters include `max_depth`, `min_child_weight`, `n_estimators`, `subsample`, `gamma` and `colsample_by_tree`; Regularization parameters include `alpha` and `lambda` to focus on over fitting control; and the final section just looks at finding the optimal `learning_rate` based on the other optimal parameters.\n",
    "\n",
    "1. Since all the RandomForest parameters fall into the same category, we can use a single optuna study to tune this model. The parameters that we will be tuning are the following: `max_depth`, `max_features`, `n_estimators`, `bootstrap`, `min_samples_leaf` and `min_samples_split`.\n",
    "\n",
    "1. The final model to tune is the Naive Bayes model which only requires tuning of `var_smoothing` which helps control over fitting."
   ]
  },
  {
   "cell_type": "code",
   "execution_count": 29,
   "metadata": {},
   "outputs": [],
   "source": [
    "# Define sampler to be used in optuna search\n",
    "sampler = TPESampler(seed = p.RANDOM_STATE)"
   ]
  },
  {
   "cell_type": "markdown",
   "metadata": {},
   "source": [
    "### XGB Tuning"
   ]
  },
  {
   "cell_type": "code",
   "execution_count": 30,
   "metadata": {},
   "outputs": [
    {
     "name": "stderr",
     "output_type": "stream",
     "text": [
      "\u001b[32m[I 2022-05-04 18:17:50,347]\u001b[0m A new study created in memory with name: XGB_HyperParam_CV\u001b[0m\n",
      "/var/folders/2f/cwgmhyzx4fn5cwp5j_dpmsd00000gn/T/ipykernel_58821/4286368788.py:15: ExperimentalWarning: OptunaSearchCV is experimental (supported from v0.17.0). The interface can change in the future.\n",
      "  xgb_oscv = OptunaSearchCV(\n",
      "\u001b[32m[I 2022-05-04 18:17:50,352]\u001b[0m Searching the best hyperparameters using 5256 samples...\u001b[0m\n",
      "\u001b[32m[I 2022-05-04 18:18:19,908]\u001b[0m Trial 4 finished with value: 0.8324038308072138 and parameters: {'max_depth': 4, 'learning_rate': 0.1, 'min_child_weight': 7, 'n_estimators': 103, 'subsample': 0.2658207756245732, 'gamma': 2.8601461412265836, 'colsample_bytree': 0.9525074867034767, 'reg_lambda': 2.028417647785666, 'reg_alpha': 1.9003613706517777}. Best is trial 4 with value: 0.8324038308072138.\u001b[0m\n",
      "\u001b[32m[I 2022-05-04 18:18:32,360]\u001b[0m Trial 6 finished with value: 0.726482938562997 and parameters: {'max_depth': 2, 'learning_rate': 0.03, 'min_child_weight': 8, 'n_estimators': 298, 'subsample': 0.7862568052713937, 'gamma': 0.06350458373562959, 'colsample_bytree': 0.926948299536022, 'reg_lambda': 0.4707589696032856, 'reg_alpha': 0.8591677497169202}. Best is trial 4 with value: 0.8324038308072138.\u001b[0m\n",
      "\u001b[32m[I 2022-05-04 18:18:32,704]\u001b[0m Trial 3 finished with value: 0.8371493776138038 and parameters: {'max_depth': 2, 'learning_rate': 0.3, 'min_child_weight': 8, 'n_estimators': 301, 'subsample': 0.8447508335609728, 'gamma': 0.016345081739063502, 'colsample_bytree': 0.3081264844164878, 'reg_lambda': 0.012765544572565244, 'reg_alpha': 0.4134119186374969}. Best is trial 3 with value: 0.8371493776138038.\u001b[0m\n",
      "\u001b[32m[I 2022-05-04 18:19:21,898]\u001b[0m Trial 5 finished with value: 0.7928429211416071 and parameters: {'max_depth': 2, 'learning_rate': 0.03, 'min_child_weight': 8, 'n_estimators': 654, 'subsample': 0.8914250871750747, 'gamma': 8.7193898243569, 'colsample_bytree': 0.9269554322832195, 'reg_lambda': 0.10035942665854744, 'reg_alpha': 0.029361913464170417}. Best is trial 3 with value: 0.8371493776138038.\u001b[0m\n",
      "\u001b[32m[I 2022-05-04 18:19:31,763]\u001b[0m Trial 8 finished with value: 0.7879925467962872 and parameters: {'max_depth': 2, 'learning_rate': 0.03, 'min_child_weight': 8, 'n_estimators': 509, 'subsample': 0.2983978144476217, 'gamma': 0.12088457749122038, 'colsample_bytree': 0.748398068107787, 'reg_lambda': 0.7029069306182643, 'reg_alpha': 0.03661519606781296}. Best is trial 3 with value: 0.8371493776138038.\u001b[0m\n",
      "\u001b[32m[I 2022-05-04 18:19:45,808]\u001b[0m Trial 11 finished with value: 0.664058399937467 and parameters: {'max_depth': 3, 'learning_rate': 0.03, 'min_child_weight': 5, 'n_estimators': 115, 'subsample': 0.8163747874236943, 'gamma': 0.7017664206002028, 'colsample_bytree': 0.3972224890067574, 'reg_lambda': 0.046885015597327905, 'reg_alpha': 0.09990207934958621}. Best is trial 3 with value: 0.8371493776138038.\u001b[0m\n",
      "\u001b[32m[I 2022-05-04 18:19:47,515]\u001b[0m Trial 7 finished with value: 0.7039683532221055 and parameters: {'max_depth': 2, 'learning_rate': 0.01, 'min_child_weight': 5, 'n_estimators': 834, 'subsample': 0.919728144299394, 'gamma': 0.27802164323125933, 'colsample_bytree': 0.33989930088830217, 'reg_lambda': 0.172274853869739, 'reg_alpha': 0.02512579268344481}. Best is trial 3 with value: 0.8371493776138038.\u001b[0m\n",
      "\u001b[32m[I 2022-05-04 18:20:12,874]\u001b[0m Trial 14 finished with value: 0.42102732549775557 and parameters: {'max_depth': 3, 'learning_rate': 0.01, 'min_child_weight': 5, 'n_estimators': 133, 'subsample': 0.11637746872060062, 'gamma': 5.425367564065905, 'colsample_bytree': 0.6725254962807654, 'reg_lambda': 0.012972482411197335, 'reg_alpha': 0.06241463571894224}. Best is trial 3 with value: 0.8371493776138038.\u001b[0m\n",
      "\u001b[32m[I 2022-05-04 18:20:26,072]\u001b[0m Trial 10 finished with value: 0.742746596613264 and parameters: {'max_depth': 5, 'learning_rate': 0.01, 'min_child_weight': 8, 'n_estimators': 278, 'subsample': 0.9923022541586947, 'gamma': 0.13952139088175156, 'colsample_bytree': 0.5788564660470025, 'reg_lambda': 0.8975855932908791, 'reg_alpha': 1.357794727558239}. Best is trial 3 with value: 0.8371493776138038.\u001b[0m\n",
      "\u001b[32m[I 2022-05-04 18:21:12,956]\u001b[0m Trial 2 finished with value: 0.8724283026962679 and parameters: {'max_depth': 5, 'learning_rate': 0.03, 'min_child_weight': 7, 'n_estimators': 529, 'subsample': 0.6677678105319135, 'gamma': 0.4287103031687064, 'colsample_bytree': 0.5413656701207811, 'reg_lambda': 0.042599216238039285, 'reg_alpha': 1.945714185336228}. Best is trial 2 with value: 0.8724283026962679.\u001b[0m\n",
      "\u001b[32m[I 2022-05-04 18:21:15,581]\u001b[0m Trial 9 finished with value: 0.852574838157396 and parameters: {'max_depth': 5, 'learning_rate': 0.3, 'min_child_weight': 5, 'n_estimators': 438, 'subsample': 0.46796375280270974, 'gamma': 0.20259784450282736, 'colsample_bytree': 0.5044049614082222, 'reg_lambda': 0.8992664423292437, 'reg_alpha': 3.970459891896972}. Best is trial 2 with value: 0.8724283026962679.\u001b[0m\n",
      "\u001b[32m[I 2022-05-04 18:21:36,775]\u001b[0m Trial 12 finished with value: 0.726550421972443 and parameters: {'max_depth': 2, 'learning_rate': 0.01, 'min_child_weight': 10, 'n_estimators': 875, 'subsample': 0.21144051978970574, 'gamma': 1.370109196507918, 'colsample_bytree': 0.4560970321359542, 'reg_lambda': 0.4688931678105195, 'reg_alpha': 0.02053768136871292}. Best is trial 2 with value: 0.8724283026962679.\u001b[0m\n",
      "\u001b[32m[I 2022-05-04 18:21:55,475]\u001b[0m Trial 0 finished with value: 0.8697333695869662 and parameters: {'max_depth': 4, 'learning_rate': 0.03, 'min_child_weight': 7, 'n_estimators': 857, 'subsample': 0.9440996181288698, 'gamma': 4.243593864579479, 'colsample_bytree': 0.45430752272977337, 'reg_lambda': 0.6439179329132, 'reg_alpha': 0.12146887704304733}. Best is trial 2 with value: 0.8724283026962679.\u001b[0m\n",
      "\u001b[32m[I 2022-05-04 18:22:10,787]\u001b[0m Trial 1 finished with value: 0.8343887017369023 and parameters: {'max_depth': 5, 'learning_rate': 0.01, 'min_child_weight': 6, 'n_estimators': 689, 'subsample': 0.5231516175291796, 'gamma': 0.08927284877856026, 'colsample_bytree': 0.42441428397334857, 'reg_lambda': 0.09067662164443044, 'reg_alpha': 7.607807743212431}. Best is trial 2 with value: 0.8724283026962679.\u001b[0m\n",
      "\u001b[32m[I 2022-05-04 18:22:20,278]\u001b[0m Trial 16 finished with value: 0.8596488799861819 and parameters: {'max_depth': 2, 'learning_rate': 0.3, 'min_child_weight': 9, 'n_estimators': 852, 'subsample': 0.5439972820751471, 'gamma': 2.948629336320145, 'colsample_bytree': 0.8256072520273198, 'reg_lambda': 8.656500922663078, 'reg_alpha': 0.012402112376734558}. Best is trial 2 with value: 0.8724283026962679.\u001b[0m\n",
      "\u001b[32m[I 2022-05-04 18:22:47,874]\u001b[0m Trial 13 finished with value: 0.8687697886929644 and parameters: {'max_depth': 4, 'learning_rate': 0.03, 'min_child_weight': 7, 'n_estimators': 678, 'subsample': 0.5532920706520098, 'gamma': 0.0642531863937813, 'colsample_bytree': 0.7359597977080681, 'reg_lambda': 2.860621187842368, 'reg_alpha': 1.4221963473663215}. Best is trial 2 with value: 0.8724283026962679.\u001b[0m\n",
      "\u001b[32m[I 2022-05-04 18:22:58,840]\u001b[0m Trial 15 finished with value: 0.8724883764319697 and parameters: {'max_depth': 5, 'learning_rate': 0.03, 'min_child_weight': 7, 'n_estimators': 453, 'subsample': 0.8928906061232987, 'gamma': 0.35330693387671636, 'colsample_bytree': 0.8799042170628926, 'reg_lambda': 0.07722888885549821, 'reg_alpha': 1.4156499359159338}. Best is trial 15 with value: 0.8724883764319697.\u001b[0m\n",
      "\u001b[32m[I 2022-05-04 18:23:16,508]\u001b[0m Trial 18 finished with value: 0.8398629347441615 and parameters: {'max_depth': 5, 'learning_rate': 0.3, 'min_child_weight': 10, 'n_estimators': 496, 'subsample': 0.6017000381530939, 'gamma': 0.9972154355485828, 'colsample_bytree': 0.13354820006301205, 'reg_lambda': 7.25168331843674, 'reg_alpha': 8.794270246482299}. Best is trial 15 with value: 0.8724883764319697.\u001b[0m\n",
      "\u001b[32m[I 2022-05-04 18:23:44,792]\u001b[0m Trial 19 finished with value: 0.852345110144723 and parameters: {'max_depth': 5, 'learning_rate': 0.3, 'min_child_weight': 6, 'n_estimators': 540, 'subsample': 0.5375391152288371, 'gamma': 0.5564284148341339, 'colsample_bytree': 0.17225964845979946, 'reg_lambda': 8.04929148316109, 'reg_alpha': 8.745535276726805}. Best is trial 15 with value: 0.8724883764319697.\u001b[0m\n",
      "\u001b[32m[I 2022-05-04 18:24:01,762]\u001b[0m Trial 20 finished with value: 0.8123676566794081 and parameters: {'max_depth': 4, 'learning_rate': 0.03, 'min_child_weight': 7, 'n_estimators': 699, 'subsample': 0.6632606452976058, 'gamma': 0.8506588778877031, 'colsample_bytree': 0.15326905905407207, 'reg_lambda': 6.420570964248973, 'reg_alpha': 9.522090193480718}. Best is trial 15 with value: 0.8724883764319697.\u001b[0m\n",
      "\u001b[32m[I 2022-05-04 18:24:22,996]\u001b[0m Trial 24 finished with value: 0.8332955929518084 and parameters: {'max_depth': 5, 'learning_rate': 0.1, 'min_child_weight': 9, 'n_estimators': 416, 'subsample': 0.6474968333878884, 'gamma': 0.6468149083724172, 'colsample_bytree': 0.1213446359032333, 'reg_lambda': 0.02957032704533844, 'reg_alpha': 0.3872624950554612}. Best is trial 15 with value: 0.8724883764319697.\u001b[0m\n",
      "\u001b[32m[I 2022-05-04 18:24:47,746]\u001b[0m Trial 25 finished with value: 0.8635315322176871 and parameters: {'max_depth': 5, 'learning_rate': 0.1, 'min_child_weight': 6, 'n_estimators': 391, 'subsample': 0.7230222744041519, 'gamma': 0.558775873953424, 'colsample_bytree': 0.23490194697044237, 'reg_lambda': 0.027711851952411267, 'reg_alpha': 0.4062585307910143}. Best is trial 15 with value: 0.8724883764319697.\u001b[0m\n",
      "\u001b[32m[I 2022-05-04 18:24:57,031]\u001b[0m Trial 17 finished with value: 0.8538968116330924 and parameters: {'max_depth': 5, 'learning_rate': 0.1, 'min_child_weight': 6, 'n_estimators': 962, 'subsample': 0.5971638947466175, 'gamma': 1.0931720880484053, 'colsample_bytree': 0.1224753794359339, 'reg_lambda': 5.204776563513606, 'reg_alpha': 8.308533305280557}. Best is trial 15 with value: 0.8724883764319697.\u001b[0m\n",
      "\u001b[32m[I 2022-05-04 18:25:03,944]\u001b[0m Trial 21 finished with value: 0.8044800552938014 and parameters: {'max_depth': 4, 'learning_rate': 0.03, 'min_child_weight': 7, 'n_estimators': 995, 'subsample': 0.6998679329186507, 'gamma': 0.9458235876667808, 'colsample_bytree': 0.11155565379430282, 'reg_lambda': 7.9095800464194586, 'reg_alpha': 0.1864677618907882}. Best is trial 15 with value: 0.8724883764319697.\u001b[0m\n",
      "\u001b[32m[I 2022-05-04 18:25:28,798]\u001b[0m Trial 26 finished with value: 0.8845964362403608 and parameters: {'max_depth': 5, 'learning_rate': 0.1, 'min_child_weight': 6, 'n_estimators': 373, 'subsample': 0.6872060684219726, 'gamma': 0.03507849053427484, 'colsample_bytree': 0.5994430187158055, 'reg_lambda': 0.04268891803932816, 'reg_alpha': 0.38474541585464095}. Best is trial 26 with value: 0.8845964362403608.\u001b[0m\n",
      "\u001b[32m[I 2022-05-04 18:25:30,405]\u001b[0m Trial 22 finished with value: 0.8481949393826929 and parameters: {'max_depth': 4, 'learning_rate': 0.03, 'min_child_weight': 7, 'n_estimators': 984, 'subsample': 0.6876056391621297, 'gamma': 0.6753702613185388, 'colsample_bytree': 0.17538777329848376, 'reg_lambda': 0.030897279178511376, 'reg_alpha': 0.1933218904282565}. Best is trial 26 with value: 0.8845964362403608.\u001b[0m\n",
      "\u001b[32m[I 2022-05-04 18:25:53,717]\u001b[0m Trial 27 finished with value: 0.884202364108609 and parameters: {'max_depth': 5, 'learning_rate': 0.1, 'min_child_weight': 6, 'n_estimators': 374, 'subsample': 0.7226136315983707, 'gamma': 0.023759026893382364, 'colsample_bytree': 0.588609251483347, 'reg_lambda': 0.033055419922120785, 'reg_alpha': 0.45221291259197943}. Best is trial 26 with value: 0.8845964362403608.\u001b[0m\n",
      "\u001b[32m[I 2022-05-04 18:25:53,937]\u001b[0m Trial 23 finished with value: 0.8627617780487922 and parameters: {'max_depth': 4, 'learning_rate': 0.1, 'min_child_weight': 6, 'n_estimators': 981, 'subsample': 0.6736428234671534, 'gamma': 0.6703757075104698, 'colsample_bytree': 0.1458970397767646, 'reg_lambda': 0.05386091263657555, 'reg_alpha': 0.16238460051783196}. Best is trial 26 with value: 0.8845964362403608.\u001b[0m\n",
      "\u001b[32m[I 2022-05-04 18:27:08,423]\u001b[0m Trial 35 finished with value: 0.8769094781136811 and parameters: {'max_depth': 5, 'learning_rate': 0.1, 'min_child_weight': 6, 'n_estimators': 204, 'subsample': 0.757948976895511, 'gamma': 0.0203911964134061, 'colsample_bytree': 0.6045629278131681, 'reg_lambda': 0.20851556501726842, 'reg_alpha': 0.7721706110982284}. Best is trial 26 with value: 0.8845964362403608.\u001b[0m\n",
      "\u001b[32m[I 2022-05-04 18:27:10,799]\u001b[0m Trial 34 finished with value: 0.8731172816343076 and parameters: {'max_depth': 5, 'learning_rate': 0.1, 'min_child_weight': 6, 'n_estimators': 216, 'subsample': 0.42876452937857595, 'gamma': 0.01117769986973985, 'colsample_bytree': 0.6352045501035902, 'reg_lambda': 0.1611080320830284, 'reg_alpha': 0.755903313402808}. Best is trial 26 with value: 0.8845964362403608.\u001b[0m\n",
      "\u001b[32m[I 2022-05-04 18:27:37,895]\u001b[0m Trial 29 finished with value: 0.8622714338092983 and parameters: {'max_depth': 4, 'learning_rate': 0.03, 'min_child_weight': 7, 'n_estimators': 606, 'subsample': 0.9822987599826537, 'gamma': 0.027274315189978342, 'colsample_bytree': 0.5891755892645618, 'reg_lambda': 0.10594049014922555, 'reg_alpha': 0.1559797894426953}. Best is trial 26 with value: 0.8845964362403608.\u001b[0m\n",
      "\u001b[32m[I 2022-05-04 18:27:43,655]\u001b[0m Trial 30 finished with value: 0.8606647995384031 and parameters: {'max_depth': 4, 'learning_rate': 0.03, 'min_child_weight': 7, 'n_estimators': 579, 'subsample': 0.986290738224358, 'gamma': 0.03586506810325151, 'colsample_bytree': 0.5967378135615641, 'reg_lambda': 0.2055331505967541, 'reg_alpha': 0.20726452886690142}. Best is trial 26 with value: 0.8845964362403608.\u001b[0m\n",
      "\u001b[32m[I 2022-05-04 18:27:52,430]\u001b[0m Trial 31 finished with value: 0.8608208327715985 and parameters: {'max_depth': 4, 'learning_rate': 0.03, 'min_child_weight': 7, 'n_estimators': 574, 'subsample': 0.9783472275064254, 'gamma': 0.026950246716532327, 'colsample_bytree': 0.5892076208494896, 'reg_lambda': 0.2147983339433618, 'reg_alpha': 3.048890887576378}. Best is trial 26 with value: 0.8845964362403608.\u001b[0m\n",
      "\u001b[32m[I 2022-05-04 18:28:03,658]\u001b[0m Trial 36 finished with value: 0.8467642410957555 and parameters: {'max_depth': 3, 'learning_rate': 0.1, 'min_child_weight': 6, 'n_estimators': 209, 'subsample': 0.42602813369952663, 'gamma': 0.010727166028539995, 'colsample_bytree': 0.634376621952807, 'reg_lambda': 0.1436051337008892, 'reg_alpha': 0.6643875962182967}. Best is trial 26 with value: 0.8845964362403608.\u001b[0m\n",
      "\u001b[32m[I 2022-05-04 18:28:07,356]\u001b[0m Trial 37 finished with value: 0.8465127873096098 and parameters: {'max_depth': 3, 'learning_rate': 0.1, 'min_child_weight': 5, 'n_estimators': 213, 'subsample': 0.7624630287106815, 'gamma': 0.027962502879456497, 'colsample_bytree': 0.6051451058391464, 'reg_lambda': 0.220676094926302, 'reg_alpha': 0.6429888608066447}. Best is trial 26 with value: 0.8845964362403608.\u001b[0m\n",
      "\u001b[32m[I 2022-05-04 18:29:07,172]\u001b[0m Trial 39 finished with value: 0.8718175640185757 and parameters: {'max_depth': 5, 'learning_rate': 0.1, 'min_child_weight': 6, 'n_estimators': 193, 'subsample': 0.4059217266648639, 'gamma': 0.011556474277183103, 'colsample_bytree': 0.6544031411066499, 'reg_lambda': 0.20524644966391256, 'reg_alpha': 0.6423615283048618}. Best is trial 26 with value: 0.8845964362403608.\u001b[0m\n",
      "\u001b[32m[I 2022-05-04 18:29:07,286]\u001b[0m Trial 28 finished with value: 0.8782260404137723 and parameters: {'max_depth': 4, 'learning_rate': 0.03, 'min_child_weight': 6, 'n_estimators': 998, 'subsample': 0.7252218419706794, 'gamma': 0.021740501568832518, 'colsample_bytree': 0.6120747167350665, 'reg_lambda': 0.21044575268764917, 'reg_alpha': 0.21373009571981647}. Best is trial 26 with value: 0.8845964362403608.\u001b[0m\n",
      "\u001b[32m[I 2022-05-04 18:29:10,626]\u001b[0m Trial 38 finished with value: 0.8730626526193219 and parameters: {'max_depth': 5, 'learning_rate': 0.1, 'min_child_weight': 6, 'n_estimators': 215, 'subsample': 0.4153157635879714, 'gamma': 0.010113921064403886, 'colsample_bytree': 0.6461867882608864, 'reg_lambda': 0.2032560936315813, 'reg_alpha': 0.6862708176561978}. Best is trial 26 with value: 0.8845964362403608.\u001b[0m\n",
      "\u001b[32m[I 2022-05-04 18:29:18,810]\u001b[0m Trial 32 finished with value: 0.8764435821670421 and parameters: {'max_depth': 5, 'learning_rate': 0.1, 'min_child_weight': 6, 'n_estimators': 595, 'subsample': 0.43509923755485735, 'gamma': 0.018090723658337176, 'colsample_bytree': 0.581476197973649, 'reg_lambda': 0.1741510710102675, 'reg_alpha': 0.8030219792619255}. Best is trial 26 with value: 0.8845964362403608.\u001b[0m\n",
      "\u001b[32m[I 2022-05-04 18:29:22,937]\u001b[0m Trial 33 finished with value: 0.8746170067402741 and parameters: {'max_depth': 5, 'learning_rate': 0.1, 'min_child_weight': 6, 'n_estimators': 604, 'subsample': 0.39913154484400815, 'gamma': 0.027281132526453797, 'colsample_bytree': 0.6075801635571685, 'reg_lambda': 0.17764783642872126, 'reg_alpha': 3.2168923869937585}. Best is trial 26 with value: 0.8845964362403608.\u001b[0m\n",
      "\u001b[32m[I 2022-05-04 18:29:23,276]\u001b[0m Trial 41 finished with value: 0.8776323091053356 and parameters: {'max_depth': 5, 'learning_rate': 0.1, 'min_child_weight': 6, 'n_estimators': 190, 'subsample': 0.7689020720827743, 'gamma': 0.0102244964521256, 'colsample_bytree': 0.6756161923024668, 'reg_lambda': 0.01842632387304727, 'reg_alpha': 0.665791180046399}. Best is trial 26 with value: 0.8845964362403608.\u001b[0m\n",
      "\u001b[32m[I 2022-05-04 18:29:23,731]\u001b[0m Trial 40 finished with value: 0.8699661581900529 and parameters: {'max_depth': 5, 'learning_rate': 0.1, 'min_child_weight': 6, 'n_estimators': 223, 'subsample': 0.399126279194651, 'gamma': 0.010116875641647245, 'colsample_bytree': 0.6636925736865109, 'reg_lambda': 0.13912544315825762, 'reg_alpha': 0.807155152091417}. Best is trial 26 with value: 0.8845964362403608.\u001b[0m\n",
      "\u001b[32m[I 2022-05-04 18:29:43,521]\u001b[0m Trial 49 finished with value: 0.8184509487476752 and parameters: {'max_depth': 5, 'learning_rate': 0.1, 'min_child_weight': 5, 'n_estimators': 53, 'subsample': 0.7517311702613683, 'gamma': 0.04417714099957695, 'colsample_bytree': 0.5201009946663682, 'reg_lambda': 0.016112899705058515, 'reg_alpha': 0.29034913790449357}. Best is trial 26 with value: 0.8845964362403608.\u001b[0m\n",
      "\u001b[32m[I 2022-05-04 18:29:44,552]\u001b[0m Trial 48 finished with value: 0.8311622722655981 and parameters: {'max_depth': 5, 'learning_rate': 0.1, 'min_child_weight': 5, 'n_estimators': 56, 'subsample': 0.8422036721176405, 'gamma': 0.051821613919243927, 'colsample_bytree': 0.7421820945920825, 'reg_lambda': 0.017788713441723582, 'reg_alpha': 0.2838461773686049}. Best is trial 26 with value: 0.8845964362403608.\u001b[0m\n",
      "\u001b[32m[I 2022-05-04 18:30:20,935]\u001b[0m Trial 42 finished with value: 0.8769789529901597 and parameters: {'max_depth': 5, 'learning_rate': 0.1, 'min_child_weight': 6, 'n_estimators': 359, 'subsample': 0.409147596474284, 'gamma': 0.012019774701411865, 'colsample_bytree': 0.6849131640174747, 'reg_lambda': 0.017821453354929184, 'reg_alpha': 0.28069154434802357}. Best is trial 26 with value: 0.8845964362403608.\u001b[0m\n",
      "\u001b[32m[I 2022-05-04 18:31:10,222]\u001b[0m Trial 43 finished with value: 0.8787026660357485 and parameters: {'max_depth': 5, 'learning_rate': 0.1, 'min_child_weight': 6, 'n_estimators': 355, 'subsample': 0.7486217663463932, 'gamma': 0.01826736648030385, 'colsample_bytree': 0.5042241731386892, 'reg_lambda': 0.01583386337824936, 'reg_alpha': 0.28215833118608363}. Best is trial 26 with value: 0.8845964362403608.\u001b[0m\n",
      "\u001b[32m[I 2022-05-04 18:31:12,227]\u001b[0m Trial 44 finished with value: 0.8823530339097652 and parameters: {'max_depth': 5, 'learning_rate': 0.1, 'min_child_weight': 6, 'n_estimators': 360, 'subsample': 0.8508332579122243, 'gamma': 0.04542863420252493, 'colsample_bytree': 0.5227297846114145, 'reg_lambda': 0.017549047208924685, 'reg_alpha': 0.29870609758378613}. Best is trial 26 with value: 0.8845964362403608.\u001b[0m\n",
      "\u001b[32m[I 2022-05-04 18:31:18,438]\u001b[0m Trial 45 finished with value: 0.8796390355855014 and parameters: {'max_depth': 5, 'learning_rate': 0.1, 'min_child_weight': 5, 'n_estimators': 366, 'subsample': 0.7527985841882339, 'gamma': 0.018255962832742393, 'colsample_bytree': 0.5185174906455278, 'reg_lambda': 0.017359832570901398, 'reg_alpha': 0.27562057538804396}. Best is trial 26 with value: 0.8845964362403608.\u001b[0m\n",
      "\u001b[32m[I 2022-05-04 18:31:21,573]\u001b[0m Trial 47 finished with value: 0.8801238209426717 and parameters: {'max_depth': 5, 'learning_rate': 0.1, 'min_child_weight': 5, 'n_estimators': 337, 'subsample': 0.8507362333402266, 'gamma': 0.04766131464560651, 'colsample_bytree': 0.5196806116272, 'reg_lambda': 0.3817696985491818, 'reg_alpha': 0.2727413809917752}. Best is trial 26 with value: 0.8845964362403608.\u001b[0m\n",
      "\u001b[32m[I 2022-05-04 18:31:24,201]\u001b[0m Trial 46 finished with value: 0.8817371811581397 and parameters: {'max_depth': 5, 'learning_rate': 0.1, 'min_child_weight': 5, 'n_estimators': 358, 'subsample': 0.8383268006717248, 'gamma': 0.0483974820813533, 'colsample_bytree': 0.5178374166020244, 'reg_lambda': 0.01640297811642104, 'reg_alpha': 0.28881450586779056}. Best is trial 26 with value: 0.8845964362403608.\u001b[0m\n",
      "\u001b[32m[I 2022-05-04 18:31:32,480]\u001b[0m Trial 50 finished with value: 0.8841087722344192 and parameters: {'max_depth': 5, 'learning_rate': 0.1, 'min_child_weight': 5, 'n_estimators': 301, 'subsample': 0.8527581016156502, 'gamma': 0.01775693830483341, 'colsample_bytree': 0.7311666622298313, 'reg_lambda': 0.019402113738631502, 'reg_alpha': 0.29703634966217346}. Best is trial 26 with value: 0.8845964362403608.\u001b[0m\n",
      "\u001b[32m[I 2022-05-04 18:31:51,702]\u001b[0m Trial 51 finished with value: 0.8816148531456118 and parameters: {'max_depth': 5, 'learning_rate': 0.1, 'min_child_weight': 5, 'n_estimators': 366, 'subsample': 0.7866878193334128, 'gamma': 0.016363326485850354, 'colsample_bytree': 0.48436221248292155, 'reg_lambda': 0.06806367851626786, 'reg_alpha': 0.09819614374007779}. Best is trial 26 with value: 0.8845964362403608.\u001b[0m\n",
      "\u001b[32m[I 2022-05-04 18:32:02,890]\u001b[0m Trial 57 finished with value: 0.5554651671869262 and parameters: {'max_depth': 2, 'learning_rate': 0.01, 'min_child_weight': 5, 'n_estimators': 310, 'subsample': 0.8172280050636178, 'gamma': 0.10060277529437263, 'colsample_bytree': 0.4594046773365309, 'reg_lambda': 0.011608250970539885, 'reg_alpha': 0.1023424170058449}. Best is trial 26 with value: 0.8845964362403608.\u001b[0m\n",
      "\u001b[32m[I 2022-05-04 18:39:30,696]\u001b[0m Trial 52 finished with value: 0.8850928345354762 and parameters: {'max_depth': 5, 'learning_rate': 0.1, 'min_child_weight': 5, 'n_estimators': 364, 'subsample': 0.8039080720069934, 'gamma': 0.015421550992908309, 'colsample_bytree': 0.7068864508328596, 'reg_lambda': 0.02177931072584323, 'reg_alpha': 0.09854412979095808}. Best is trial 52 with value: 0.8850928345354762.\u001b[0m\n",
      "\u001b[32m[I 2022-05-04 18:40:05,424]\u001b[0m Trial 53 finished with value: 0.7503288437057085 and parameters: {'max_depth': 5, 'learning_rate': 0.01, 'min_child_weight': 5, 'n_estimators': 312, 'subsample': 0.8282920427745781, 'gamma': 0.0761658430155179, 'colsample_bytree': 0.4612790665412233, 'reg_lambda': 0.010125006633867097, 'reg_alpha': 0.11085724236689527}. Best is trial 52 with value: 0.8850928345354762.\u001b[0m\n",
      "\u001b[32m[I 2022-05-04 18:40:05,487]\u001b[0m Trial 56 finished with value: 0.7283004796121253 and parameters: {'max_depth': 5, 'learning_rate': 0.01, 'min_child_weight': 5, 'n_estimators': 282, 'subsample': 0.8341930717677171, 'gamma': 0.08573323888345447, 'colsample_bytree': 0.42983549391091214, 'reg_lambda': 0.011065958651050613, 'reg_alpha': 0.0923452127771238}. Best is trial 52 with value: 0.8850928345354762.\u001b[0m\n",
      "\u001b[32m[I 2022-05-04 18:40:10,286]\u001b[0m Trial 54 finished with value: 0.880839317175027 and parameters: {'max_depth': 5, 'learning_rate': 0.1, 'min_child_weight': 5, 'n_estimators': 343, 'subsample': 0.8527014611256633, 'gamma': 0.09492808291563354, 'colsample_bytree': 0.4809685544123632, 'reg_lambda': 0.01132417542332098, 'reg_alpha': 0.08628481973754337}. Best is trial 52 with value: 0.8850928345354762.\u001b[0m\n",
      "\u001b[32m[I 2022-05-04 18:40:14,686]\u001b[0m Trial 55 finished with value: 0.8805603056570869 and parameters: {'max_depth': 5, 'learning_rate': 0.1, 'min_child_weight': 5, 'n_estimators': 340, 'subsample': 0.8139722708168184, 'gamma': 0.08437927710240004, 'colsample_bytree': 0.464940731419049, 'reg_lambda': 0.06339417982512975, 'reg_alpha': 0.1058662816784537}. Best is trial 52 with value: 0.8850928345354762.\u001b[0m\n",
      "\u001b[32m[I 2022-05-04 18:55:50,797]\u001b[0m Trial 58 finished with value: 0.7419839178730845 and parameters: {'max_depth': 5, 'learning_rate': 0.01, 'min_child_weight': 5, 'n_estimators': 303, 'subsample': 0.8206989350135774, 'gamma': 0.07031881697102826, 'colsample_bytree': 0.43972136770509446, 'reg_lambda': 0.05809508767395863, 'reg_alpha': 0.10351927274532235}. Best is trial 52 with value: 0.8850928345354762.\u001b[0m\n",
      "\u001b[32m[I 2022-05-04 18:56:01,966]\u001b[0m Trial 60 finished with value: 0.874545907292716 and parameters: {'max_depth': 5, 'learning_rate': 0.1, 'min_child_weight': 5, 'n_estimators': 257, 'subsample': 0.916046282124094, 'gamma': 0.0775730184016709, 'colsample_bytree': 0.3956617038911273, 'reg_lambda': 0.06785537163254056, 'reg_alpha': 0.04635596207178073}. Best is trial 52 with value: 0.8850928345354762.\u001b[0m\n",
      "\u001b[32m[I 2022-05-04 18:56:05,522]\u001b[0m Trial 59 finished with value: 0.7282774347881676 and parameters: {'max_depth': 5, 'learning_rate': 0.01, 'min_child_weight': 5, 'n_estimators': 276, 'subsample': 0.8074261094301367, 'gamma': 0.08431543780969036, 'colsample_bytree': 0.4515036926413395, 'reg_lambda': 0.010623001340907228, 'reg_alpha': 0.09633061580079362}. Best is trial 52 with value: 0.8850928345354762.\u001b[0m\n",
      "\u001b[32m[I 2022-05-04 18:56:41,831]\u001b[0m Trial 61 finished with value: 0.8832249492071291 and parameters: {'max_depth': 5, 'learning_rate': 0.1, 'min_child_weight': 5, 'n_estimators': 270, 'subsample': 0.8583783708111693, 'gamma': 0.07094273597375317, 'colsample_bytree': 0.7971016342276189, 'reg_lambda': 0.010024822645723243, 'reg_alpha': 0.056326780599618376}. Best is trial 52 with value: 0.8850928345354762.\u001b[0m\n",
      "\u001b[32m[I 2022-05-04 19:10:20,122]\u001b[0m Trial 63 finished with value: 0.8716104587508878 and parameters: {'max_depth': 3, 'learning_rate': 0.3, 'min_child_weight': 5, 'n_estimators': 464, 'subsample': 0.8838576952920031, 'gamma': 0.19595971884442545, 'colsample_bytree': 0.7758928459078722, 'reg_lambda': 0.036765454204274926, 'reg_alpha': 0.071351841722776}. Best is trial 52 with value: 0.8850928345354762.\u001b[0m\n",
      "\u001b[32m[I 2022-05-04 19:10:25,028]\u001b[0m Trial 64 finished with value: 0.8685445980614134 and parameters: {'max_depth': 3, 'learning_rate': 0.3, 'min_child_weight': 5, 'n_estimators': 466, 'subsample': 0.8953170194986055, 'gamma': 0.1688642473389229, 'colsample_bytree': 0.38165683747231727, 'reg_lambda': 0.024994798016891247, 'reg_alpha': 0.48710012496424365}. Best is trial 52 with value: 0.8850928345354762.\u001b[0m\n",
      "\u001b[32m[I 2022-05-04 19:10:31,181]\u001b[0m Trial 62 finished with value: 0.875337225328723 and parameters: {'max_depth': 5, 'learning_rate': 0.1, 'min_child_weight': 5, 'n_estimators': 276, 'subsample': 0.9263780490352097, 'gamma': 0.1604841685863035, 'colsample_bytree': 0.40539435912255856, 'reg_lambda': 0.038580563587072805, 'reg_alpha': 0.4291298315852445}. Best is trial 52 with value: 0.8850928345354762.\u001b[0m\n",
      "\u001b[32m[I 2022-05-04 19:10:34,881]\u001b[0m Trial 65 finished with value: 0.8707373990740532 and parameters: {'max_depth': 3, 'learning_rate': 0.3, 'min_child_weight': 5, 'n_estimators': 480, 'subsample': 0.9228267739765562, 'gamma': 0.03964951870662803, 'colsample_bytree': 0.8079691810077707, 'reg_lambda': 0.03980559447232103, 'reg_alpha': 0.47759072825542076}. Best is trial 52 with value: 0.8850928345354762.\u001b[0m\n",
      "\u001b[32m[I 2022-05-04 19:10:48,794]\u001b[0m Trial 67 finished with value: 0.8730733160425576 and parameters: {'max_depth': 3, 'learning_rate': 0.3, 'min_child_weight': 8, 'n_estimators': 436, 'subsample': 0.8813011012083066, 'gamma': 0.16214571312461692, 'colsample_bytree': 0.7813691597541335, 'reg_lambda': 0.039529315846665324, 'reg_alpha': 0.49814622172342987}. Best is trial 52 with value: 0.8850928345354762.\u001b[0m\n",
      "\u001b[32m[I 2022-05-04 19:10:50,323]\u001b[0m Trial 66 finished with value: 0.8659371186670665 and parameters: {'max_depth': 3, 'learning_rate': 0.3, 'min_child_weight': 8, 'n_estimators': 488, 'subsample': 0.9205205972512138, 'gamma': 0.20389632915325265, 'colsample_bytree': 0.3914029569021124, 'reg_lambda': 0.024018974732708313, 'reg_alpha': 0.046143845259481064}. Best is trial 52 with value: 0.8850928345354762.\u001b[0m\n",
      "\u001b[32m[I 2022-05-04 19:11:03,721]\u001b[0m Trial 68 finished with value: 0.8734490862061556 and parameters: {'max_depth': 3, 'learning_rate': 0.3, 'min_child_weight': 5, 'n_estimators': 478, 'subsample': 0.8793835554282229, 'gamma': 0.014592139023108993, 'colsample_bytree': 0.8129714592455747, 'reg_lambda': 0.03910191370167498, 'reg_alpha': 0.5132432376501374}. Best is trial 52 with value: 0.8850928345354762.\u001b[0m\n",
      "\u001b[32m[I 2022-05-04 19:11:30,892]\u001b[0m Trial 70 finished with value: 0.8251067215151018 and parameters: {'max_depth': 2, 'learning_rate': 0.1, 'min_child_weight': 8, 'n_estimators': 417, 'subsample': 0.9470696905823552, 'gamma': 0.03682883163694119, 'colsample_bytree': 0.8540487982499708, 'reg_lambda': 0.023556265463467774, 'reg_alpha': 0.4381100248249268}. Best is trial 52 with value: 0.8850928345354762.\u001b[0m\n",
      "\u001b[32m[I 2022-05-04 19:11:39,696]\u001b[0m Trial 72 finished with value: 0.8303195182547627 and parameters: {'max_depth': 2, 'learning_rate': 0.1, 'min_child_weight': 9, 'n_estimators': 399, 'subsample': 0.6421437754229946, 'gamma': 0.03874301934582317, 'colsample_bytree': 0.8324672956997136, 'reg_lambda': 0.022031712274244844, 'reg_alpha': 1.1015813781166395}. Best is trial 52 with value: 0.8850928345354762.\u001b[0m\n",
      "\u001b[32m[I 2022-05-04 19:11:43,924]\u001b[0m Trial 69 finished with value: 0.8722843556928146 and parameters: {'max_depth': 3, 'learning_rate': 0.3, 'min_child_weight': 5, 'n_estimators': 473, 'subsample': 0.8869274881514708, 'gamma': 0.03672393344941319, 'colsample_bytree': 0.7912470930858784, 'reg_lambda': 0.03832335149686047, 'reg_alpha': 0.5001289099299725}. Best is trial 52 with value: 0.8850928345354762.\u001b[0m\n",
      "\u001b[32m[I 2022-05-04 19:11:47,103]\u001b[0m Trial 73 finished with value: 0.8317431120666601 and parameters: {'max_depth': 2, 'learning_rate': 0.1, 'min_child_weight': 6, 'n_estimators': 426, 'subsample': 0.6070317482279792, 'gamma': 0.03437455381283181, 'colsample_bytree': 0.5569560589662937, 'reg_lambda': 0.02289046929963615, 'reg_alpha': 0.045219380453454826}. Best is trial 52 with value: 0.8850928345354762.\u001b[0m\n",
      "\u001b[32m[I 2022-05-04 19:11:53,785]\u001b[0m Trial 74 finished with value: 0.829292219051499 and parameters: {'max_depth': 2, 'learning_rate': 0.1, 'min_child_weight': 6, 'n_estimators': 396, 'subsample': 0.63264736451901, 'gamma': 0.0578212228082703, 'colsample_bytree': 0.8661630956409109, 'reg_lambda': 0.022834193477269824, 'reg_alpha': 0.14301883168143967}. Best is trial 52 with value: 0.8850928345354762.\u001b[0m\n",
      "\u001b[32m[I 2022-05-04 19:11:55,994]\u001b[0m Trial 75 finished with value: 0.8320992126572836 and parameters: {'max_depth': 2, 'learning_rate': 0.1, 'min_child_weight': 6, 'n_estimators': 402, 'subsample': 0.6330764417693376, 'gamma': 0.03522271572708449, 'colsample_bytree': 0.8674870852541565, 'reg_lambda': 0.022238317538726956, 'reg_alpha': 1.1085255551012583}. Best is trial 52 with value: 0.8850928345354762.\u001b[0m\n",
      "\u001b[32m[I 2022-05-04 19:12:07,456]\u001b[0m Trial 76 finished with value: 0.8303124665729837 and parameters: {'max_depth': 2, 'learning_rate': 0.1, 'min_child_weight': 6, 'n_estimators': 400, 'subsample': 0.7104257548123127, 'gamma': 0.037433877109491115, 'colsample_bytree': 0.9984369812115204, 'reg_lambda': 0.02061817471506307, 'reg_alpha': 1.1058326539163268}. Best is trial 52 with value: 0.8850928345354762.\u001b[0m\n",
      "\u001b[32m[I 2022-05-04 19:12:43,568]\u001b[0m Trial 77 finished with value: 0.8749651726914944 and parameters: {'max_depth': 5, 'learning_rate': 0.1, 'min_child_weight': 6, 'n_estimators': 169, 'subsample': 0.6407587937684841, 'gamma': 0.05750268844682605, 'colsample_bytree': 0.7097639055975938, 'reg_lambda': 0.014413441492654602, 'reg_alpha': 0.13364212950326257}. Best is trial 52 with value: 0.8850928345354762.\u001b[0m\n",
      "\u001b[32m[I 2022-05-04 19:13:02,282]\u001b[0m Trial 82 finished with value: 0.8743685946683547 and parameters: {'max_depth': 5, 'learning_rate': 0.1, 'min_child_weight': 5, 'n_estimators': 157, 'subsample': 0.7900423872390341, 'gamma': 0.014686699804693955, 'colsample_bytree': 0.7101898777777377, 'reg_lambda': 0.013849174093552517, 'reg_alpha': 0.02758079595518849}. Best is trial 52 with value: 0.8850928345354762.\u001b[0m\n",
      "\u001b[32m[I 2022-05-04 19:13:25,745]\u001b[0m Trial 71 finished with value: 0.8836418040493706 and parameters: {'max_depth': 5, 'learning_rate': 0.1, 'min_child_weight': 8, 'n_estimators': 420, 'subsample': 0.9489138463933516, 'gamma': 0.035829321467899064, 'colsample_bytree': 0.8175126538471139, 'reg_lambda': 0.023053538764440266, 'reg_alpha': 0.053260040041728546}. Best is trial 52 with value: 0.8850928345354762.\u001b[0m\n",
      "\u001b[32m[I 2022-05-04 19:13:41,030]\u001b[0m Trial 81 finished with value: 0.8815719925990726 and parameters: {'max_depth': 5, 'learning_rate': 0.1, 'min_child_weight': 5, 'n_estimators': 251, 'subsample': 0.7907516973282729, 'gamma': 0.022742011854705164, 'colsample_bytree': 0.7130618627206661, 'reg_lambda': 0.013886107684611479, 'reg_alpha': 0.01879923488205952}. Best is trial 52 with value: 0.8850928345354762.\u001b[0m\n",
      "\u001b[32m[I 2022-05-04 19:14:25,062]\u001b[0m Trial 79 finished with value: 0.8822988051290684 and parameters: {'max_depth': 5, 'learning_rate': 0.1, 'min_child_weight': 6, 'n_estimators': 382, 'subsample': 0.7893289944765959, 'gamma': 0.015256331842607577, 'colsample_bytree': 0.5536778587023662, 'reg_lambda': 0.013270072949871205, 'reg_alpha': 0.15243628995145975}. Best is trial 52 with value: 0.8850928345354762.\u001b[0m\n",
      "\u001b[32m[I 2022-05-04 19:14:25,875]\u001b[0m Trial 78 finished with value: 0.8821621257740537 and parameters: {'max_depth': 5, 'learning_rate': 0.1, 'min_child_weight': 5, 'n_estimators': 388, 'subsample': 0.7914200050189752, 'gamma': 0.02256964766677682, 'colsample_bytree': 0.5684768092443278, 'reg_lambda': 0.013633398025070268, 'reg_alpha': 0.1531884531491677}. Best is trial 52 with value: 0.8850928345354762.\u001b[0m\n",
      "\u001b[32m[I 2022-05-04 19:14:39,383]\u001b[0m Trial 80 finished with value: 0.885442744598816 and parameters: {'max_depth': 5, 'learning_rate': 0.1, 'min_child_weight': 5, 'n_estimators': 396, 'subsample': 0.7076782976569451, 'gamma': 0.02350051527412943, 'colsample_bytree': 0.7133623638665525, 'reg_lambda': 0.0492281063649216, 'reg_alpha': 0.023286307187608598}. Best is trial 80 with value: 0.885442744598816.\u001b[0m\n",
      "\u001b[32m[I 2022-05-04 19:14:54,326]\u001b[0m Trial 85 finished with value: 0.8795618936619343 and parameters: {'max_depth': 5, 'learning_rate': 0.1, 'min_child_weight': 5, 'n_estimators': 246, 'subsample': 0.7286140395812136, 'gamma': 0.022053184743299117, 'colsample_bytree': 0.5537834639119171, 'reg_lambda': 0.05071649621878721, 'reg_alpha': 0.019928388801341925}. Best is trial 80 with value: 0.885442744598816.\u001b[0m\n",
      "\u001b[32m[I 2022-05-04 19:15:26,861]\u001b[0m Trial 86 finished with value: 0.8805964670686418 and parameters: {'max_depth': 5, 'learning_rate': 0.1, 'min_child_weight': 8, 'n_estimators': 252, 'subsample': 0.9609913691328653, 'gamma': 0.024180849562057335, 'colsample_bytree': 0.8976251773007518, 'reg_lambda': 0.030680798441913945, 'reg_alpha': 0.016498773108276604}. Best is trial 80 with value: 0.885442744598816.\u001b[0m\n",
      "\u001b[32m[I 2022-05-04 19:15:29,413]\u001b[0m Trial 84 finished with value: 0.8832829029741314 and parameters: {'max_depth': 5, 'learning_rate': 0.1, 'min_child_weight': 5, 'n_estimators': 373, 'subsample': 0.79135944996846, 'gamma': 0.029612765549844614, 'colsample_bytree': 0.556384726253499, 'reg_lambda': 0.030749419830624552, 'reg_alpha': 0.01675586327333892}. Best is trial 80 with value: 0.885442744598816.\u001b[0m\n",
      "\u001b[32m[I 2022-05-04 19:15:56,906]\u001b[0m Trial 83 finished with value: 0.8851299916719917 and parameters: {'max_depth': 5, 'learning_rate': 0.1, 'min_child_weight': 5, 'n_estimators': 517, 'subsample': 0.7952394599671829, 'gamma': 0.021998851539299296, 'colsample_bytree': 0.7026656092629755, 'reg_lambda': 0.013672617331896258, 'reg_alpha': 0.01998354803638681}. Best is trial 80 with value: 0.885442744598816.\u001b[0m\n",
      "\u001b[32m[I 2022-05-04 19:17:06,796]\u001b[0m Trial 88 finished with value: 0.8815203981476 and parameters: {'max_depth': 5, 'learning_rate': 0.1, 'min_child_weight': 8, 'n_estimators': 378, 'subsample': 0.9569359183379013, 'gamma': 0.02343715283086293, 'colsample_bytree': 0.5635354440403489, 'reg_lambda': 0.031005391223298703, 'reg_alpha': 0.06726569845656657}. Best is trial 80 with value: 0.885442744598816.\u001b[0m\n",
      "\u001b[32m[I 2022-05-04 19:17:35,929]\u001b[0m Trial 87 finished with value: 0.8844025162427135 and parameters: {'max_depth': 5, 'learning_rate': 0.1, 'min_child_weight': 8, 'n_estimators': 536, 'subsample': 0.9619091496639667, 'gamma': 0.023994770120375424, 'colsample_bytree': 0.8949055434221455, 'reg_lambda': 0.031374261905474626, 'reg_alpha': 0.35119773317418096}. Best is trial 80 with value: 0.885442744598816.\u001b[0m\n",
      "\u001b[32m[I 2022-05-04 19:18:06,252]\u001b[0m Trial 89 finished with value: 0.8830814105411295 and parameters: {'max_depth': 5, 'learning_rate': 0.1, 'min_child_weight': 8, 'n_estimators': 531, 'subsample': 0.9631049134350703, 'gamma': 0.024191299986311244, 'colsample_bytree': 0.5504091390380987, 'reg_lambda': 0.03151043785290096, 'reg_alpha': 0.0635557461362921}. Best is trial 80 with value: 0.885442744598816.\u001b[0m\n",
      "\u001b[32m[I 2022-05-04 19:18:24,728]\u001b[0m Trial 90 finished with value: 0.8866263893117683 and parameters: {'max_depth': 5, 'learning_rate': 0.1, 'min_child_weight': 7, 'n_estimators': 522, 'subsample': 0.690376445928067, 'gamma': 0.013503069937528771, 'colsample_bytree': 0.906346319987914, 'reg_lambda': 0.030588605420821657, 'reg_alpha': 0.01148335402362536}. Best is trial 90 with value: 0.8866263893117683.\u001b[0m\n",
      "\u001b[32m[I 2022-05-04 19:18:38,310]\u001b[0m Trial 91 finished with value: 0.8861304759674568 and parameters: {'max_depth': 5, 'learning_rate': 0.1, 'min_child_weight': 7, 'n_estimators': 523, 'subsample': 0.951341135631249, 'gamma': 0.029959740073575294, 'colsample_bytree': 0.9022637878537692, 'reg_lambda': 0.0308832580462791, 'reg_alpha': 0.06676286032480563}. Best is trial 90 with value: 0.8866263893117683.\u001b[0m\n",
      "\u001b[32m[I 2022-05-04 19:19:03,422]\u001b[0m Trial 92 finished with value: 0.8850247544163695 and parameters: {'max_depth': 5, 'learning_rate': 0.1, 'min_child_weight': 7, 'n_estimators': 523, 'subsample': 0.6964144172703733, 'gamma': 0.03016948229613128, 'colsample_bytree': 0.7295133499681187, 'reg_lambda': 1.3297242858657639, 'reg_alpha': 0.036552962576916995}. Best is trial 90 with value: 0.8866263893117683.\u001b[0m\n",
      "\u001b[32m[I 2022-05-04 19:19:06,132]\u001b[0m Trial 93 finished with value: 0.8847778021195716 and parameters: {'max_depth': 5, 'learning_rate': 0.1, 'min_child_weight': 9, 'n_estimators': 529, 'subsample': 0.6878112488744064, 'gamma': 0.027475517216995805, 'colsample_bytree': 0.7502960884684144, 'reg_lambda': 1.4585708995379345, 'reg_alpha': 0.011598605544971479}. Best is trial 90 with value: 0.8866263893117683.\u001b[0m\n",
      "\u001b[32m[I 2022-05-04 19:19:39,472]\u001b[0m Trial 94 finished with value: 0.8846223442950756 and parameters: {'max_depth': 5, 'learning_rate': 0.1, 'min_child_weight': 9, 'n_estimators': 546, 'subsample': 0.685924502886597, 'gamma': 0.02892085441759411, 'colsample_bytree': 0.7570222589639528, 'reg_lambda': 1.599728137910436, 'reg_alpha': 0.01013649812103653}. Best is trial 90 with value: 0.8866263893117683.\u001b[0m\n",
      "\u001b[32m[I 2022-05-04 19:20:57,489]\u001b[0m Trial 95 finished with value: 0.8808562878504645 and parameters: {'max_depth': 5, 'learning_rate': 0.1, 'min_child_weight': 9, 'n_estimators': 521, 'subsample': 0.6988606219994826, 'gamma': 0.013974833340812188, 'colsample_bytree': 0.7478838447529462, 'reg_lambda': 0.08920617499448208, 'reg_alpha': 0.010186054704621137}. Best is trial 90 with value: 0.8866263893117683.\u001b[0m\n",
      "\u001b[32m[I 2022-05-04 19:21:36,441]\u001b[0m Trial 96 finished with value: 0.8837638679800218 and parameters: {'max_depth': 5, 'learning_rate': 0.1, 'min_child_weight': 9, 'n_estimators': 537, 'subsample': 0.6898434846550043, 'gamma': 0.02962113384596674, 'colsample_bytree': 0.7501794446600557, 'reg_lambda': 0.10403404886738074, 'reg_alpha': 0.030892240110691815}. Best is trial 90 with value: 0.8866263893117683.\u001b[0m\n",
      "\u001b[32m[I 2022-05-04 19:21:58,110]\u001b[0m Trial 97 finished with value: 0.8832889719781439 and parameters: {'max_depth': 5, 'learning_rate': 0.1, 'min_child_weight': 9, 'n_estimators': 511, 'subsample': 0.7350466341325461, 'gamma': 0.012903620214092389, 'colsample_bytree': 0.7501918042867887, 'reg_lambda': 0.08620511775516132, 'reg_alpha': 0.010380917692208214}. Best is trial 90 with value: 0.8866263893117683.\u001b[0m\n",
      "\u001b[32m[I 2022-05-04 19:22:56,154]\u001b[0m Trial 99 finished with value: 0.8853738361319925 and parameters: {'max_depth': 5, 'learning_rate': 0.1, 'min_child_weight': 7, 'n_estimators': 549, 'subsample': 0.6793721615520965, 'gamma': 0.0130209816893849, 'colsample_bytree': 0.9265159153087342, 'reg_lambda': 0.10429782080916357, 'reg_alpha': 0.011195215721680647}. Best is trial 90 with value: 0.8866263893117683.\u001b[0m\n",
      "\u001b[32m[I 2022-05-04 19:23:15,327]\u001b[0m Trial 98 finished with value: 0.8844328732276084 and parameters: {'max_depth': 5, 'learning_rate': 0.1, 'min_child_weight': 9, 'n_estimators': 645, 'subsample': 0.681784415082019, 'gamma': 0.030447026373975974, 'colsample_bytree': 0.7612296509769912, 'reg_lambda': 0.10780571001058507, 'reg_alpha': 0.010866816281780942}. Best is trial 90 with value: 0.8866263893117683.\u001b[0m\n",
      "\u001b[32m[I 2022-05-04 19:24:03,201]\u001b[0m Trial 102 finished with value: 0.8844233034181057 and parameters: {'max_depth': 5, 'learning_rate': 0.1, 'min_child_weight': 9, 'n_estimators': 559, 'subsample': 0.6806474540647283, 'gamma': 0.01330154771426808, 'colsample_bytree': 0.9346729149731475, 'reg_lambda': 1.1311505234232289, 'reg_alpha': 0.011002047213766634}. Best is trial 90 with value: 0.8866263893117683.\u001b[0m\n",
      "\u001b[32m[I 2022-05-04 19:24:07,051]\u001b[0m Trial 100 finished with value: 0.8864388943394752 and parameters: {'max_depth': 5, 'learning_rate': 0.1, 'min_child_weight': 7, 'n_estimators': 640, 'subsample': 0.6769982321232745, 'gamma': 0.01351859503179193, 'colsample_bytree': 0.9356598755654655, 'reg_lambda': 1.2483144333396239, 'reg_alpha': 0.013864995026498532}. Best is trial 90 with value: 0.8866263893117683.\u001b[0m\n",
      "\u001b[32m[I 2022-05-04 19:24:08,596]\u001b[0m Trial 101 finished with value: 0.8859736474884704 and parameters: {'max_depth': 5, 'learning_rate': 0.1, 'min_child_weight': 7, 'n_estimators': 638, 'subsample': 0.673998095114122, 'gamma': 0.012307096941385876, 'colsample_bytree': 0.9431047093221484, 'reg_lambda': 1.079300103033759, 'reg_alpha': 0.010580270744644196}. Best is trial 90 with value: 0.8866263893117683.\u001b[0m\n",
      "\u001b[32m[I 2022-05-04 19:30:31,304]\u001b[0m Trial 103 finished with value: 0.8813158066248448 and parameters: {'max_depth': 5, 'learning_rate': 0.1, 'min_child_weight': 10, 'n_estimators': 638, 'subsample': 0.5814531330163613, 'gamma': 0.012882123777746703, 'colsample_bytree': 0.9349497995088529, 'reg_lambda': 1.5724879120390534, 'reg_alpha': 0.03483950069831785}. Best is trial 90 with value: 0.8866263893117683.\u001b[0m\n",
      "\u001b[32m[I 2022-05-04 19:48:21,056]\u001b[0m Trial 104 finished with value: 0.8839017713528591 and parameters: {'max_depth': 5, 'learning_rate': 0.1, 'min_child_weight': 10, 'n_estimators': 639, 'subsample': 0.5628497756416455, 'gamma': 0.019545645559744786, 'colsample_bytree': 0.9283948613053912, 'reg_lambda': 1.5395052566743181, 'reg_alpha': 0.01277167863666461}. Best is trial 90 with value: 0.8866263893117683.\u001b[0m\n",
      "\u001b[32m[I 2022-05-04 19:48:52,213]\u001b[0m Trial 105 finished with value: 0.885972655368246 and parameters: {'max_depth': 5, 'learning_rate': 0.1, 'min_child_weight': 7, 'n_estimators': 643, 'subsample': 0.6635038780445305, 'gamma': 0.019493073320576045, 'colsample_bytree': 0.9336862354912345, 'reg_lambda': 1.3617856128995447, 'reg_alpha': 0.014743741222566642}. Best is trial 90 with value: 0.8866263893117683.\u001b[0m\n",
      "\u001b[32m[I 2022-05-04 20:06:01,916]\u001b[0m Trial 107 finished with value: 0.885113315349407 and parameters: {'max_depth': 5, 'learning_rate': 0.1, 'min_child_weight': 7, 'n_estimators': 563, 'subsample': 0.5808023349884066, 'gamma': 0.01927325751634837, 'colsample_bytree': 0.9372986238861137, 'reg_lambda': 1.472205177416647, 'reg_alpha': 0.014794771862529858}. Best is trial 90 with value: 0.8866263893117683.\u001b[0m\n",
      "\u001b[32m[I 2022-05-04 20:06:21,638]\u001b[0m Trial 106 finished with value: 0.8845951428175407 and parameters: {'max_depth': 5, 'learning_rate': 0.1, 'min_child_weight': 7, 'n_estimators': 639, 'subsample': 0.5701864545784294, 'gamma': 0.019094938027327226, 'colsample_bytree': 0.9532263778879054, 'reg_lambda': 1.2714509044518538, 'reg_alpha': 0.013046356159254691}. Best is trial 90 with value: 0.8866263893117683.\u001b[0m\n",
      "\u001b[32m[I 2022-05-04 20:22:25,282]\u001b[0m Trial 108 finished with value: 0.884659973370433 and parameters: {'max_depth': 5, 'learning_rate': 0.1, 'min_child_weight': 7, 'n_estimators': 622, 'subsample': 0.5750433607067401, 'gamma': 0.019246737009336528, 'colsample_bytree': 0.6934575963139101, 'reg_lambda': 2.05121369638807, 'reg_alpha': 0.014132076723302986}. Best is trial 90 with value: 0.8866263893117683.\u001b[0m\n",
      "\u001b[32m[I 2022-05-04 20:23:35,792]\u001b[0m Trial 110 finished with value: 0.8836373735714439 and parameters: {'max_depth': 5, 'learning_rate': 0.1, 'min_child_weight': 7, 'n_estimators': 739, 'subsample': 0.5721381527497079, 'gamma': 0.017050439014531765, 'colsample_bytree': 0.974202187599768, 'reg_lambda': 1.729564485872821, 'reg_alpha': 0.013485894686248197}. Best is trial 90 with value: 0.8866263893117683.\u001b[0m\n",
      "\u001b[32m[I 2022-05-04 20:23:36,354]\u001b[0m Trial 109 finished with value: 0.8844649184261956 and parameters: {'max_depth': 5, 'learning_rate': 0.1, 'min_child_weight': 7, 'n_estimators': 744, 'subsample': 0.5919535306184904, 'gamma': 0.01995916948558386, 'colsample_bytree': 0.9789662415744452, 'reg_lambda': 1.598765266067097, 'reg_alpha': 0.014040149620190399}. Best is trial 90 with value: 0.8866263893117683.\u001b[0m\n",
      "\u001b[32m[I 2022-05-04 20:39:58,252]\u001b[0m Trial 112 finished with value: 0.8816876771291458 and parameters: {'max_depth': 4, 'learning_rate': 0.1, 'min_child_weight': 7, 'n_estimators': 752, 'subsample': 0.6610523563739698, 'gamma': 0.017733571868333978, 'colsample_bytree': 0.9702276629779536, 'reg_lambda': 0.6123888553107006, 'reg_alpha': 0.012891878082579496}. Best is trial 90 with value: 0.8866263893117683.\u001b[0m\n",
      "\u001b[32m[I 2022-05-04 20:40:12,562]\u001b[0m Trial 113 finished with value: 0.8710122362922732 and parameters: {'max_depth': 4, 'learning_rate': 0.03, 'min_child_weight': 7, 'n_estimators': 695, 'subsample': 0.7113054580559198, 'gamma': 0.016694261397521858, 'colsample_bytree': 0.9601175193758328, 'reg_lambda': 3.055295008182688, 'reg_alpha': 0.024551157393518576}. Best is trial 90 with value: 0.8866263893117683.\u001b[0m\n",
      "\u001b[32m[I 2022-05-04 20:40:34,896]\u001b[0m Trial 111 finished with value: 0.8871269772682592 and parameters: {'max_depth': 5, 'learning_rate': 0.1, 'min_child_weight': 7, 'n_estimators': 734, 'subsample': 0.6552316861108687, 'gamma': 0.018507046369924174, 'colsample_bytree': 0.9050087952349428, 'reg_lambda': 2.433342979515043, 'reg_alpha': 0.014006623686913862}. Best is trial 111 with value: 0.8871269772682592.\u001b[0m\n",
      "\u001b[32m[I 2022-05-04 20:58:13,013]\u001b[0m Trial 114 finished with value: 0.8817057697990937 and parameters: {'max_depth': 4, 'learning_rate': 0.1, 'min_child_weight': 7, 'n_estimators': 763, 'subsample': 0.5185338177098953, 'gamma': 0.016946068561391033, 'colsample_bytree': 0.9762729891304726, 'reg_lambda': 1.0345769471119692, 'reg_alpha': 0.014537447750621678}. Best is trial 111 with value: 0.8871269772682592.\u001b[0m\n",
      "\u001b[32m[I 2022-05-04 20:58:15,584]\u001b[0m Trial 115 finished with value: 0.8720552202999923 and parameters: {'max_depth': 4, 'learning_rate': 0.03, 'min_child_weight': 7, 'n_estimators': 720, 'subsample': 0.6691540857060011, 'gamma': 0.017462215440824217, 'colsample_bytree': 0.975798932183924, 'reg_lambda': 2.70316692632871, 'reg_alpha': 0.014840712140255782}. Best is trial 111 with value: 0.8871269772682592.\u001b[0m\n",
      "\u001b[32m[I 2022-05-04 20:58:58,553]\u001b[0m Trial 116 finished with value: 0.8715086451264863 and parameters: {'max_depth': 4, 'learning_rate': 0.03, 'min_child_weight': 7, 'n_estimators': 702, 'subsample': 0.6612124575146535, 'gamma': 0.01705342383125384, 'colsample_bytree': 0.971588361254669, 'reg_lambda': 2.489802742097369, 'reg_alpha': 0.021943551108280692}. Best is trial 111 with value: 0.8871269772682592.\u001b[0m\n",
      "\u001b[32m[I 2022-05-04 21:31:25,297]\u001b[0m Trial 117 finished with value: 0.8707895644861109 and parameters: {'max_depth': 4, 'learning_rate': 0.03, 'min_child_weight': 7, 'n_estimators': 685, 'subsample': 0.6591227095789363, 'gamma': 1.575635769907712, 'colsample_bytree': 0.9690746581024126, 'reg_lambda': 2.6956228064506074, 'reg_alpha': 0.024043924806181158}. Best is trial 111 with value: 0.8871269772682592.\u001b[0m\n",
      "\u001b[32m[I 2022-05-04 21:31:27,575]\u001b[0m Trial 118 finished with value: 0.8697556317685043 and parameters: {'max_depth': 4, 'learning_rate': 0.03, 'min_child_weight': 7, 'n_estimators': 694, 'subsample': 0.5052160581445523, 'gamma': 1.5058384047840683, 'colsample_bytree': 0.9039596372548712, 'reg_lambda': 3.482400841511943, 'reg_alpha': 0.021694928257825926}. Best is trial 111 with value: 0.8871269772682592.\u001b[0m\n",
      "\u001b[32m[I 2022-05-04 21:33:25,711]\u001b[0m Trial 119 finished with value: 0.8810083403764676 and parameters: {'max_depth': 5, 'learning_rate': 0.03, 'min_child_weight': 7, 'n_estimators': 672, 'subsample': 0.6672061468985687, 'gamma': 0.01129454400437708, 'colsample_bytree': 0.9077718709662455, 'reg_lambda': 2.60683784104657, 'reg_alpha': 0.024420315600153994}. Best is trial 111 with value: 0.8871269772682592.\u001b[0m\n",
      "\u001b[32m[I 2022-05-04 21:33:29,016]\u001b[0m Trial 120 finished with value: 0.8831146025945686 and parameters: {'max_depth': 5, 'learning_rate': 0.1, 'min_child_weight': 7, 'n_estimators': 665, 'subsample': 0.49473695705519755, 'gamma': 0.011762350611928405, 'colsample_bytree': 0.9051594049267573, 'reg_lambda': 1.025788667917901, 'reg_alpha': 0.02333714976909595}. Best is trial 111 with value: 0.8871269772682592.\u001b[0m\n",
      "\u001b[32m[I 2022-05-04 21:33:55,072]\u001b[0m Trial 122 finished with value: 0.8849902076222896 and parameters: {'max_depth': 5, 'learning_rate': 0.1, 'min_child_weight': 7, 'n_estimators': 582, 'subsample': 0.6156386645520479, 'gamma': 1.624756111125518, 'colsample_bytree': 0.8973492201138733, 'reg_lambda': 3.006456832774274, 'reg_alpha': 0.016895081771113644}. Best is trial 111 with value: 0.8871269772682592.\u001b[0m\n",
      "\u001b[32m[I 2022-05-04 21:33:55,355]\u001b[0m Trial 121 finished with value: 0.8814469969853101 and parameters: {'max_depth': 5, 'learning_rate': 0.1, 'min_child_weight': 7, 'n_estimators': 673, 'subsample': 0.515653552100806, 'gamma': 0.011603292239440162, 'colsample_bytree': 0.9070079518076167, 'reg_lambda': 2.698184631601955, 'reg_alpha': 0.021562583703953492}. Best is trial 111 with value: 0.8871269772682592.\u001b[0m\n",
      "\u001b[32m[I 2022-05-04 21:34:38,827]\u001b[0m Trial 124 finished with value: 0.8843657365503258 and parameters: {'max_depth': 5, 'learning_rate': 0.1, 'min_child_weight': 7, 'n_estimators': 582, 'subsample': 0.6108637469813096, 'gamma': 0.011372493217965792, 'colsample_bytree': 0.9019114299968839, 'reg_lambda': 0.7797519248396584, 'reg_alpha': 0.02380383704178766}. Best is trial 111 with value: 0.8871269772682592.\u001b[0m\n",
      "\u001b[32m[I 2022-05-04 21:34:39,262]\u001b[0m Trial 123 finished with value: 0.8857461173522909 and parameters: {'max_depth': 5, 'learning_rate': 0.1, 'min_child_weight': 7, 'n_estimators': 678, 'subsample': 0.6076802207592443, 'gamma': 0.01136691753455269, 'colsample_bytree': 0.9085963379057393, 'reg_lambda': 4.340609121018673, 'reg_alpha': 0.023291284992785634}. Best is trial 111 with value: 0.8871269772682592.\u001b[0m\n",
      "\u001b[32m[I 2022-05-04 21:35:40,424]\u001b[0m Trial 125 finished with value: 0.8852856056937703 and parameters: {'max_depth': 5, 'learning_rate': 0.1, 'min_child_weight': 7, 'n_estimators': 589, 'subsample': 0.6099022422139118, 'gamma': 0.012428084888900489, 'colsample_bytree': 0.9115827778293843, 'reg_lambda': 3.7449477387691936, 'reg_alpha': 0.016599430760371875}. Best is trial 111 with value: 0.8871269772682592.\u001b[0m\n",
      "\u001b[32m[I 2022-05-04 21:37:09,176]\u001b[0m Trial 126 finished with value: 0.8856824678628517 and parameters: {'max_depth': 5, 'learning_rate': 0.1, 'min_child_weight': 7, 'n_estimators': 795, 'subsample': 0.6220311607239101, 'gamma': 0.011043371243379327, 'colsample_bytree': 0.9152869334578375, 'reg_lambda': 0.6734843864683759, 'reg_alpha': 0.01786049714145052}. Best is trial 111 with value: 0.8871269772682592.\u001b[0m\n",
      "\u001b[32m[I 2022-05-04 21:37:32,362]\u001b[0m Trial 127 finished with value: 0.8859411464220424 and parameters: {'max_depth': 5, 'learning_rate': 0.1, 'min_child_weight': 7, 'n_estimators': 580, 'subsample': 0.6298257552414546, 'gamma': 0.012615459263501395, 'colsample_bytree': 0.8497097831334451, 'reg_lambda': 0.7593593734370178, 'reg_alpha': 0.017763578232120072}. Best is trial 111 with value: 0.8871269772682592.\u001b[0m\n",
      "\u001b[32m[I 2022-05-04 21:37:37,972]\u001b[0m Trial 128 finished with value: 0.8844127188175064 and parameters: {'max_depth': 5, 'learning_rate': 0.1, 'min_child_weight': 7, 'n_estimators': 585, 'subsample': 0.6187316369350789, 'gamma': 8.02326565986493, 'colsample_bytree': 0.8436141120570088, 'reg_lambda': 0.8130627025313156, 'reg_alpha': 0.017545644189024347}. Best is trial 111 with value: 0.8871269772682592.\u001b[0m\n",
      "\u001b[32m[I 2022-05-04 21:38:04,462]\u001b[0m Trial 130 finished with value: 0.8859102423588034 and parameters: {'max_depth': 5, 'learning_rate': 0.1, 'min_child_weight': 7, 'n_estimators': 587, 'subsample': 0.6083542554880099, 'gamma': 4.687330738765319, 'colsample_bytree': 0.8400211044751258, 'reg_lambda': 0.7760462010626576, 'reg_alpha': 0.01773864025858106}. Best is trial 111 with value: 0.8871269772682592.\u001b[0m\n",
      "\u001b[32m[I 2022-05-04 21:38:04,509]\u001b[0m Trial 129 finished with value: 0.8845341785673491 and parameters: {'max_depth': 5, 'learning_rate': 0.1, 'min_child_weight': 7, 'n_estimators': 587, 'subsample': 0.6196105386619435, 'gamma': 0.3318813216481968, 'colsample_bytree': 0.8418234974901069, 'reg_lambda': 0.7268127174743437, 'reg_alpha': 0.01799675417516033}. Best is trial 111 with value: 0.8871269772682592.\u001b[0m\n",
      "\u001b[32m[I 2022-05-04 21:38:59,809]\u001b[0m Trial 131 finished with value: 0.8854202604488013 and parameters: {'max_depth': 5, 'learning_rate': 0.1, 'min_child_weight': 7, 'n_estimators': 611, 'subsample': 0.620886503998258, 'gamma': 3.8178109732705288, 'colsample_bytree': 0.8526195498656396, 'reg_lambda': 2.1791660566007818, 'reg_alpha': 0.017352169653161414}. Best is trial 111 with value: 0.8871269772682592.\u001b[0m\n",
      "\u001b[32m[I 2022-05-04 21:39:01,484]\u001b[0m Trial 132 finished with value: 0.8871866105161462 and parameters: {'max_depth': 5, 'learning_rate': 0.1, 'min_child_weight': 7, 'n_estimators': 613, 'subsample': 0.6304876100754011, 'gamma': 0.014742273207061063, 'colsample_bytree': 0.8394626693656351, 'reg_lambda': 4.735197186165087, 'reg_alpha': 0.017725035737108933}. Best is trial 132 with value: 0.8871866105161462.\u001b[0m\n",
      "\u001b[32m[I 2022-05-04 21:40:03,103]\u001b[0m Trial 133 finished with value: 0.8839643995587416 and parameters: {'max_depth': 5, 'learning_rate': 0.1, 'min_child_weight': 7, 'n_estimators': 615, 'subsample': 0.540558130635628, 'gamma': 0.013418023568882454, 'colsample_bytree': 0.8531534749095213, 'reg_lambda': 3.867795516956825, 'reg_alpha': 0.01794463609234856}. Best is trial 132 with value: 0.8871866105161462.\u001b[0m\n",
      "\u001b[32m[I 2022-05-04 21:42:27,531]\u001b[0m Trial 138 finished with value: 0.8874825138168487 and parameters: {'max_depth': 5, 'learning_rate': 0.1, 'min_child_weight': 7, 'n_estimators': 613, 'subsample': 0.6453601020822827, 'gamma': 2.2841490455094067, 'colsample_bytree': 0.8784297050023219, 'reg_lambda': 4.971518959497594, 'reg_alpha': 0.02818916159052124}. Best is trial 138 with value: 0.8874825138168487.\u001b[0m\n",
      "\u001b[32m[I 2022-05-04 21:42:48,510]\u001b[0m Trial 134 finished with value: 0.8855764927307648 and parameters: {'max_depth': 5, 'learning_rate': 0.1, 'min_child_weight': 7, 'n_estimators': 794, 'subsample': 0.6267195669458764, 'gamma': 0.010699391560737296, 'colsample_bytree': 0.8453678582281399, 'reg_lambda': 3.615864378365876, 'reg_alpha': 0.018282616714765578}. Best is trial 138 with value: 0.8874825138168487.\u001b[0m\n",
      "\u001b[32m[I 2022-05-04 21:43:16,193]\u001b[0m Trial 140 finished with value: 0.8852535996745953 and parameters: {'max_depth': 5, 'learning_rate': 0.1, 'min_child_weight': 7, 'n_estimators': 599, 'subsample': 0.6473295269191874, 'gamma': 0.013933317121079921, 'colsample_bytree': 0.8817325287289377, 'reg_lambda': 0.5915422413946927, 'reg_alpha': 0.028511536692544668}. Best is trial 138 with value: 0.8874825138168487.\u001b[0m\n",
      "\u001b[32m[I 2022-05-04 21:43:16,260]\u001b[0m Trial 135 finished with value: 0.883523422859129 and parameters: {'max_depth': 5, 'learning_rate': 0.1, 'min_child_weight': 7, 'n_estimators': 810, 'subsample': 0.5447358246869636, 'gamma': 0.010016675592883916, 'colsample_bytree': 0.8340053825981013, 'reg_lambda': 4.3935413143129916, 'reg_alpha': 0.018770658705049986}. Best is trial 138 with value: 0.8874825138168487.\u001b[0m\n",
      "\u001b[32m[I 2022-05-04 21:43:31,811]\u001b[0m Trial 136 finished with value: 0.8513038748050379 and parameters: {'max_depth': 5, 'learning_rate': 0.01, 'min_child_weight': 7, 'n_estimators': 805, 'subsample': 0.544490504451695, 'gamma': 0.010098305638801316, 'colsample_bytree': 0.9997755945247777, 'reg_lambda': 4.408538678790852, 'reg_alpha': 0.030029581067848112}. Best is trial 138 with value: 0.8874825138168487.\u001b[0m\n",
      "\u001b[32m[I 2022-05-04 21:43:33,256]\u001b[0m Trial 139 finished with value: 0.8393885439488257 and parameters: {'max_depth': 5, 'learning_rate': 0.01, 'min_child_weight': 7, 'n_estimators': 612, 'subsample': 0.543612849200017, 'gamma': 3.115008460834785, 'colsample_bytree': 0.8735046309333259, 'reg_lambda': 0.5101194729636734, 'reg_alpha': 0.029323589402005197}. Best is trial 138 with value: 0.8874825138168487.\u001b[0m\n",
      "\u001b[32m[I 2022-05-04 21:43:52,249]\u001b[0m Trial 137 finished with value: 0.8530207569161383 and parameters: {'max_depth': 5, 'learning_rate': 0.01, 'min_child_weight': 7, 'n_estimators': 779, 'subsample': 0.6304408195489026, 'gamma': 0.3403087517334814, 'colsample_bytree': 0.8775130173091331, 'reg_lambda': 0.542817955892235, 'reg_alpha': 0.029014177887465204}. Best is trial 138 with value: 0.8874825138168487.\u001b[0m\n",
      "\u001b[32m[I 2022-05-04 21:45:42,652]\u001b[0m Trial 141 finished with value: 0.8506436988876136 and parameters: {'max_depth': 5, 'learning_rate': 0.01, 'min_child_weight': 7, 'n_estimators': 804, 'subsample': 0.3444062379238788, 'gamma': 4.777498108783734, 'colsample_bytree': 0.8721847949518591, 'reg_lambda': 0.590302389153381, 'reg_alpha': 0.028536732447224607}. Best is trial 138 with value: 0.8874825138168487.\u001b[0m\n",
      "\u001b[32m[I 2022-05-04 21:48:15,529]\u001b[0m Trial 142 finished with value: 0.8494885927202326 and parameters: {'max_depth': 5, 'learning_rate': 0.01, 'min_child_weight': 7, 'n_estimators': 809, 'subsample': 0.6294044129723662, 'gamma': 3.5568990917643832, 'colsample_bytree': 0.8782457380761381, 'reg_lambda': 6.947670057563804, 'reg_alpha': 0.028670131998918796}. Best is trial 138 with value: 0.8874825138168487.\u001b[0m\n",
      "\u001b[32m[I 2022-05-04 21:48:36,974]\u001b[0m Trial 143 finished with value: 0.8511756941095449 and parameters: {'max_depth': 5, 'learning_rate': 0.01, 'min_child_weight': 7, 'n_estimators': 807, 'subsample': 0.6397251106688132, 'gamma': 2.1539836626928643, 'colsample_bytree': 0.8691052866265866, 'reg_lambda': 4.996342715875446, 'reg_alpha': 0.028421997045680363}. Best is trial 138 with value: 0.8874825138168487.\u001b[0m\n",
      "\u001b[32m[I 2022-05-04 21:48:51,229]\u001b[0m Trial 147 finished with value: 0.8782753702508608 and parameters: {'max_depth': 5, 'learning_rate': 0.1, 'min_child_weight': 7, 'n_estimators': 768, 'subsample': 0.36110726488016087, 'gamma': 6.836556183258678, 'colsample_bytree': 0.8784388149136823, 'reg_lambda': 6.3905901290549005, 'reg_alpha': 0.03362438464056455}. Best is trial 138 with value: 0.8874825138168487.\u001b[0m\n",
      "\u001b[32m[I 2022-05-04 21:48:52,551]\u001b[0m Trial 148 finished with value: 0.8861445965491335 and parameters: {'max_depth': 5, 'learning_rate': 0.1, 'min_child_weight': 7, 'n_estimators': 719, 'subsample': 0.5949381912502573, 'gamma': 4.05842617239988, 'colsample_bytree': 0.8589071728011987, 'reg_lambda': 2.1115288047049687, 'reg_alpha': 0.012310840327614592}. Best is trial 138 with value: 0.8874825138168487.\u001b[0m\n",
      "\u001b[32m[I 2022-05-04 21:48:56,825]\u001b[0m Trial 145 finished with value: 0.8493895133185518 and parameters: {'max_depth': 5, 'learning_rate': 0.01, 'min_child_weight': 7, 'n_estimators': 789, 'subsample': 0.6409272829725893, 'gamma': 5.829955878292349, 'colsample_bytree': 0.8766943674695545, 'reg_lambda': 5.279486206580079, 'reg_alpha': 0.032660686516890115}. Best is trial 138 with value: 0.8874825138168487.\u001b[0m\n",
      "\u001b[32m[I 2022-05-04 21:49:04,804]\u001b[0m Trial 146 finished with value: 0.885875081718616 and parameters: {'max_depth': 5, 'learning_rate': 0.1, 'min_child_weight': 7, 'n_estimators': 792, 'subsample': 0.5963375589617683, 'gamma': 2.666689029285043, 'colsample_bytree': 0.8748713565332282, 'reg_lambda': 5.871807348490744, 'reg_alpha': 0.03213522206568907}. Best is trial 138 with value: 0.8874825138168487.\u001b[0m\n",
      "\u001b[32m[I 2022-05-04 21:49:07,895]\u001b[0m Trial 144 finished with value: 0.8506682010936124 and parameters: {'max_depth': 5, 'learning_rate': 0.01, 'min_child_weight': 7, 'n_estimators': 817, 'subsample': 0.5924641741141048, 'gamma': 6.281540649311866, 'colsample_bytree': 0.8765449465595971, 'reg_lambda': 5.348253745465481, 'reg_alpha': 0.03118646225767212}. Best is trial 138 with value: 0.8874825138168487.\u001b[0m\n",
      "\u001b[32m[I 2022-05-04 21:52:18,425]\u001b[0m Trial 149 finished with value: 0.8868671580665961 and parameters: {'max_depth': 5, 'learning_rate': 0.1, 'min_child_weight': 7, 'n_estimators': 898, 'subsample': 0.5946170064848393, 'gamma': 3.7857157390359406, 'colsample_bytree': 0.9243302948128974, 'reg_lambda': 6.346050226540076, 'reg_alpha': 0.016141756396482815}. Best is trial 138 with value: 0.8874825138168487.\u001b[0m\n",
      "\u001b[32m[I 2022-05-04 21:53:32,975]\u001b[0m Trial 152 finished with value: 0.8852759266644071 and parameters: {'max_depth': 5, 'learning_rate': 0.1, 'min_child_weight': 7, 'n_estimators': 628, 'subsample': 0.595400614503981, 'gamma': 3.7391208974728225, 'colsample_bytree': 0.918672770983813, 'reg_lambda': 0.42264354564086637, 'reg_alpha': 0.015697656422856383}. Best is trial 138 with value: 0.8874825138168487.\u001b[0m\n",
      "\u001b[32m[I 2022-05-04 21:53:52,709]\u001b[0m Trial 154 finished with value: 0.8835370908529555 and parameters: {'max_depth': 5, 'learning_rate': 0.1, 'min_child_weight': 7, 'n_estimators': 658, 'subsample': 0.5937148881723231, 'gamma': 2.4850581915878935, 'colsample_bytree': 0.9444870630718074, 'reg_lambda': 0.26325908957021804, 'reg_alpha': 0.041329128949230604}. Best is trial 138 with value: 0.8874825138168487.\u001b[0m\n",
      "\u001b[32m[I 2022-05-04 21:54:40,517]\u001b[0m Trial 150 finished with value: 0.8878865302371544 and parameters: {'max_depth': 5, 'learning_rate': 0.1, 'min_child_weight': 7, 'n_estimators': 863, 'subsample': 0.6481185911418688, 'gamma': 6.9939059437683175, 'colsample_bytree': 0.8572002396780904, 'reg_lambda': 5.853011684561701, 'reg_alpha': 0.015600042295679968}. Best is trial 150 with value: 0.8878865302371544.\u001b[0m\n",
      "\u001b[32m[I 2022-05-04 21:55:01,765]\u001b[0m Trial 151 finished with value: 0.8866097411152714 and parameters: {'max_depth': 5, 'learning_rate': 0.1, 'min_child_weight': 7, 'n_estimators': 859, 'subsample': 0.5968753126680195, 'gamma': 5.570216076044625, 'colsample_bytree': 0.9201326564636496, 'reg_lambda': 6.203223816037923, 'reg_alpha': 0.015248993882102848}. Best is trial 150 with value: 0.8878865302371544.\u001b[0m\n",
      "\u001b[32m[I 2022-05-04 21:55:09,282]\u001b[0m Trial 153 finished with value: 0.88419271050085 and parameters: {'max_depth': 5, 'learning_rate': 0.1, 'min_child_weight': 7, 'n_estimators': 846, 'subsample': 0.5947970008809303, 'gamma': 5.656371378697171, 'colsample_bytree': 0.9493659090633833, 'reg_lambda': 0.35040531168166617, 'reg_alpha': 0.012139128380978543}. Best is trial 150 with value: 0.8878865302371544.\u001b[0m\n",
      "\u001b[32m[I 2022-05-04 21:55:30,570]\u001b[0m Trial 155 finished with value: 0.8823529149377041 and parameters: {'max_depth': 5, 'learning_rate': 0.1, 'min_child_weight': 7, 'n_estimators': 871, 'subsample': 0.6021801379923596, 'gamma': 0.01520346821891487, 'colsample_bytree': 0.9468486123052859, 'reg_lambda': 0.35191677026504153, 'reg_alpha': 0.015420302043732372}. Best is trial 150 with value: 0.8878865302371544.\u001b[0m\n",
      "\u001b[32m[I 2022-05-04 21:55:39,710]\u001b[0m Trial 156 finished with value: 0.8860792617673336 and parameters: {'max_depth': 5, 'learning_rate': 0.1, 'min_child_weight': 7, 'n_estimators': 869, 'subsample': 0.5956142937743185, 'gamma': 2.0847755258988796, 'colsample_bytree': 0.9452725061513999, 'reg_lambda': 9.499324030553634, 'reg_alpha': 0.012454129738731888}. Best is trial 150 with value: 0.8878865302371544.\u001b[0m\n",
      "\u001b[32m[I 2022-05-04 21:58:40,950]\u001b[0m Trial 157 finished with value: 0.8859104219063021 and parameters: {'max_depth': 5, 'learning_rate': 0.1, 'min_child_weight': 7, 'n_estimators': 881, 'subsample': 0.6041083457373768, 'gamma': 4.835561926775646, 'colsample_bytree': 0.9226772705227357, 'reg_lambda': 9.262601566651888, 'reg_alpha': 0.011870451366091214}. Best is trial 150 with value: 0.8878865302371544.\u001b[0m\n",
      "\u001b[32m[I 2022-05-04 21:59:12,940]\u001b[0m Trial 158 finished with value: 0.8513080030168355 and parameters: {'max_depth': 5, 'learning_rate': 0.1, 'min_child_weight': 7, 'n_estimators': 872, 'subsample': 0.14691807698448178, 'gamma': 2.504866184129515, 'colsample_bytree': 0.9445331231049594, 'reg_lambda': 0.2715831985603589, 'reg_alpha': 0.01259098734869652}. Best is trial 150 with value: 0.8878865302371544.\u001b[0m\n",
      "\u001b[32m[I 2022-05-04 22:00:00,970]\u001b[0m Trial 159 finished with value: 0.8851830901541955 and parameters: {'max_depth': 5, 'learning_rate': 0.1, 'min_child_weight': 7, 'n_estimators': 890, 'subsample': 0.5581376898410046, 'gamma': 4.560420868687466, 'colsample_bytree': 0.8110569881203574, 'reg_lambda': 0.9376945133013487, 'reg_alpha': 0.012205272460352396}. Best is trial 150 with value: 0.8878865302371544.\u001b[0m\n",
      "\u001b[32m[I 2022-05-04 22:01:04,192]\u001b[0m Trial 160 finished with value: 0.8885290981596754 and parameters: {'max_depth': 5, 'learning_rate': 0.1, 'min_child_weight': 7, 'n_estimators': 912, 'subsample': 0.6554878641126669, 'gamma': 4.718090736393265, 'colsample_bytree': 0.9490709510601113, 'reg_lambda': 8.755436005008255, 'reg_alpha': 0.012336822888611989}. Best is trial 160 with value: 0.8885290981596754.\u001b[0m\n",
      "\u001b[32m[I 2022-05-04 22:01:17,796]\u001b[0m Trial 162 finished with value: 0.8883463994343778 and parameters: {'max_depth': 5, 'learning_rate': 0.1, 'min_child_weight': 7, 'n_estimators': 889, 'subsample': 0.6566437923874245, 'gamma': 4.860275093415614, 'colsample_bytree': 0.8052358536278463, 'reg_lambda': 9.246553270203844, 'reg_alpha': 0.012299796335394374}. Best is trial 160 with value: 0.8885290981596754.\u001b[0m\n",
      "\u001b[32m[I 2022-05-04 22:01:23,712]\u001b[0m Trial 161 finished with value: 0.8882088532595084 and parameters: {'max_depth': 5, 'learning_rate': 0.1, 'min_child_weight': 7, 'n_estimators': 907, 'subsample': 0.6510704638245721, 'gamma': 4.803515243688152, 'colsample_bytree': 0.9496074326452509, 'reg_lambda': 9.297375129483687, 'reg_alpha': 0.011918310216220793}. Best is trial 160 with value: 0.8885290981596754.\u001b[0m\n",
      "\u001b[32m[I 2022-05-04 22:02:03,227]\u001b[0m Trial 164 finished with value: 0.8888693480074407 and parameters: {'max_depth': 5, 'learning_rate': 0.1, 'min_child_weight': 7, 'n_estimators': 924, 'subsample': 0.6548068768739322, 'gamma': 4.641094831144169, 'colsample_bytree': 0.8014555178369419, 'reg_lambda': 9.6284624387146, 'reg_alpha': 0.012387874051899925}. Best is trial 164 with value: 0.8888693480074407.\u001b[0m\n",
      "\u001b[32m[I 2022-05-04 22:02:09,699]\u001b[0m Trial 163 finished with value: 0.8892500079359404 and parameters: {'max_depth': 5, 'learning_rate': 0.1, 'min_child_weight': 7, 'n_estimators': 957, 'subsample': 0.6597425532128511, 'gamma': 7.563047444712488, 'colsample_bytree': 0.8290505396247816, 'reg_lambda': 9.288328176069006, 'reg_alpha': 0.011679636419836626}. Best is trial 163 with value: 0.8892500079359404.\u001b[0m\n",
      "\u001b[32m[I 2022-05-04 22:04:59,066]\u001b[0m Trial 165 finished with value: 0.8625767224479828 and parameters: {'max_depth': 5, 'learning_rate': 0.1, 'min_child_weight': 7, 'n_estimators': 946, 'subsample': 0.178711403266122, 'gamma': 4.600234705254448, 'colsample_bytree': 0.9302113565560739, 'reg_lambda': 8.413694341999697, 'reg_alpha': 0.012514074876745933}. Best is trial 163 with value: 0.8892500079359404.\u001b[0m\n",
      "\u001b[32m[I 2022-05-04 22:05:42,630]\u001b[0m Trial 166 finished with value: 0.887796283009903 and parameters: {'max_depth': 5, 'learning_rate': 0.1, 'min_child_weight': 7, 'n_estimators': 918, 'subsample': 0.6489276272788354, 'gamma': 4.47777771916942, 'colsample_bytree': 0.8284472687956554, 'reg_lambda': 9.390557307918598, 'reg_alpha': 0.010005311814385819}. Best is trial 163 with value: 0.8892500079359404.\u001b[0m\n",
      "\u001b[32m[I 2022-05-04 22:06:09,234]\u001b[0m Trial 167 finished with value: 0.8874556160192102 and parameters: {'max_depth': 5, 'learning_rate': 0.1, 'min_child_weight': 7, 'n_estimators': 853, 'subsample': 0.6542266275940476, 'gamma': 4.69633306882, 'colsample_bytree': 0.9292943151819347, 'reg_lambda': 9.222762460865658, 'reg_alpha': 0.011462154106109419}. Best is trial 163 with value: 0.8892500079359404.\u001b[0m\n",
      "\u001b[32m[I 2022-05-04 22:07:49,289]\u001b[0m Trial 168 finished with value: 0.8872599242505388 and parameters: {'max_depth': 5, 'learning_rate': 0.1, 'min_child_weight': 7, 'n_estimators': 919, 'subsample': 0.6499487692768176, 'gamma': 4.95105295698944, 'colsample_bytree': 0.9243133892637811, 'reg_lambda': 9.737817174310932, 'reg_alpha': 0.011245263693485365}. Best is trial 163 with value: 0.8892500079359404.\u001b[0m\n",
      "\u001b[32m[I 2022-05-04 22:08:02,453]\u001b[0m Trial 169 finished with value: 0.8891665204996357 and parameters: {'max_depth': 5, 'learning_rate': 0.1, 'min_child_weight': 7, 'n_estimators': 921, 'subsample': 0.656116532973881, 'gamma': 7.1019084627470885, 'colsample_bytree': 0.9323885527286587, 'reg_lambda': 9.977283186633287, 'reg_alpha': 0.011394497098292202}. Best is trial 163 with value: 0.8892500079359404.\u001b[0m\n",
      "\u001b[32m[I 2022-05-04 22:08:09,548]\u001b[0m Trial 170 finished with value: 0.8874195730670872 and parameters: {'max_depth': 5, 'learning_rate': 0.1, 'min_child_weight': 7, 'n_estimators': 926, 'subsample': 0.6506780501945484, 'gamma': 7.366259731304961, 'colsample_bytree': 0.891376053470361, 'reg_lambda': 9.997436130629964, 'reg_alpha': 0.010302809800405703}. Best is trial 163 with value: 0.8892500079359404.\u001b[0m\n",
      "\u001b[32m[I 2022-05-04 22:08:45,117]\u001b[0m Trial 171 finished with value: 0.8887955464471974 and parameters: {'max_depth': 5, 'learning_rate': 0.1, 'min_child_weight': 7, 'n_estimators': 911, 'subsample': 0.6601852041746128, 'gamma': 7.589214043370396, 'colsample_bytree': 0.9329105741377693, 'reg_lambda': 7.907947448814363, 'reg_alpha': 0.013859434742878105}. Best is trial 163 with value: 0.8892500079359404.\u001b[0m\n",
      "\u001b[32m[I 2022-05-04 22:08:52,196]\u001b[0m Trial 172 finished with value: 0.8872011939695736 and parameters: {'max_depth': 5, 'learning_rate': 0.1, 'min_child_weight': 7, 'n_estimators': 924, 'subsample': 0.6565192198143093, 'gamma': 9.212582390941952, 'colsample_bytree': 0.7855065161037269, 'reg_lambda': 8.03243236167839, 'reg_alpha': 0.01006032260702466}. Best is trial 163 with value: 0.8892500079359404.\u001b[0m\n",
      "\u001b[32m[I 2022-05-04 22:11:39,058]\u001b[0m Trial 173 finished with value: 0.8882347308608048 and parameters: {'max_depth': 5, 'learning_rate': 0.1, 'min_child_weight': 7, 'n_estimators': 918, 'subsample': 0.6542318764549707, 'gamma': 7.625244574440466, 'colsample_bytree': 0.7926916408159034, 'reg_lambda': 9.822738374382643, 'reg_alpha': 0.010520561466217942}. Best is trial 163 with value: 0.8892500079359404.\u001b[0m\n",
      "\u001b[32m[I 2022-05-04 22:12:24,175]\u001b[0m Trial 174 finished with value: 0.8881623779687151 and parameters: {'max_depth': 5, 'learning_rate': 0.1, 'min_child_weight': 7, 'n_estimators': 924, 'subsample': 0.6452334896631289, 'gamma': 7.217906102399302, 'colsample_bytree': 0.799055900728509, 'reg_lambda': 9.90162580502887, 'reg_alpha': 0.010134022975683716}. Best is trial 163 with value: 0.8892500079359404.\u001b[0m\n",
      "\u001b[32m[I 2022-05-04 22:12:44,924]\u001b[0m Trial 175 finished with value: 0.8886203496187373 and parameters: {'max_depth': 5, 'learning_rate': 0.1, 'min_child_weight': 7, 'n_estimators': 912, 'subsample': 0.6504132228435917, 'gamma': 9.998085024339225, 'colsample_bytree': 0.7946069665201673, 'reg_lambda': 7.6303144402252085, 'reg_alpha': 0.010150058900251014}. Best is trial 163 with value: 0.8892500079359404.\u001b[0m\n",
      "\u001b[32m[I 2022-05-04 22:14:23,033]\u001b[0m Trial 176 finished with value: 0.8885332604598102 and parameters: {'max_depth': 5, 'learning_rate': 0.1, 'min_child_weight': 7, 'n_estimators': 918, 'subsample': 0.6476167346157335, 'gamma': 8.872049068096622, 'colsample_bytree': 0.7894027969924371, 'reg_lambda': 7.557200927591663, 'reg_alpha': 6.323985868233008}. Best is trial 163 with value: 0.8892500079359404.\u001b[0m\n",
      "\u001b[32m[I 2022-05-04 22:14:35,227]\u001b[0m Trial 177 finished with value: 0.8901887955873724 and parameters: {'max_depth': 5, 'learning_rate': 0.1, 'min_child_weight': 7, 'n_estimators': 914, 'subsample': 0.6553868804632379, 'gamma': 9.154729564483125, 'colsample_bytree': 0.8019175698169113, 'reg_lambda': 7.304335721268749, 'reg_alpha': 0.01036472358905855}. Best is trial 177 with value: 0.8901887955873724.\u001b[0m\n",
      "\u001b[32m[I 2022-05-04 22:14:41,425]\u001b[0m Trial 178 finished with value: 0.8884577841731037 and parameters: {'max_depth': 5, 'learning_rate': 0.1, 'min_child_weight': 7, 'n_estimators': 913, 'subsample': 0.6569756583172782, 'gamma': 9.487416698476476, 'colsample_bytree': 0.8039618548137516, 'reg_lambda': 7.508875323601354, 'reg_alpha': 0.010044962667487516}. Best is trial 177 with value: 0.8901887955873724.\u001b[0m\n",
      "\u001b[32m[I 2022-05-04 22:15:17,136]\u001b[0m Trial 179 finished with value: 0.8894172395402524 and parameters: {'max_depth': 5, 'learning_rate': 0.1, 'min_child_weight': 7, 'n_estimators': 916, 'subsample': 0.6553835645551682, 'gamma': 9.307553359176598, 'colsample_bytree': 0.8190475017042056, 'reg_lambda': 7.459941982740287, 'reg_alpha': 0.01023024090789699}. Best is trial 177 with value: 0.8901887955873724.\u001b[0m\n",
      "\u001b[32m[I 2022-05-04 22:15:21,281]\u001b[0m Trial 180 finished with value: 0.8891885037448543 and parameters: {'max_depth': 5, 'learning_rate': 0.1, 'min_child_weight': 7, 'n_estimators': 909, 'subsample': 0.6549409563474259, 'gamma': 9.142319440472544, 'colsample_bytree': 0.7974289975917215, 'reg_lambda': 9.92209029396836, 'reg_alpha': 0.01011120845281706}. Best is trial 177 with value: 0.8901887955873724.\u001b[0m\n",
      "\u001b[32m[I 2022-05-04 22:17:02,487]\u001b[0m Trial 185 finished with value: 0.8469513565367643 and parameters: {'max_depth': 2, 'learning_rate': 0.1, 'min_child_weight': 7, 'n_estimators': 914, 'subsample': 0.7097361468411323, 'gamma': 7.70766869423024, 'colsample_bytree': 0.7993277066248515, 'reg_lambda': 9.983278322136083, 'reg_alpha': 2.3674427169521133}. Best is trial 177 with value: 0.8901887955873724.\u001b[0m\n",
      "\u001b[32m[I 2022-05-04 22:17:16,183]\u001b[0m Trial 186 finished with value: 0.8497630075979419 and parameters: {'max_depth': 2, 'learning_rate': 0.1, 'min_child_weight': 7, 'n_estimators': 962, 'subsample': 0.719071947658219, 'gamma': 7.567008424924024, 'colsample_bytree': 0.7951744684850293, 'reg_lambda': 7.502542867112681, 'reg_alpha': 0.010192064521739}. Best is trial 177 with value: 0.8901887955873724.\u001b[0m\n",
      "\u001b[32m[I 2022-05-04 22:17:54,178]\u001b[0m Trial 187 finished with value: 0.8655950827352686 and parameters: {'max_depth': 2, 'learning_rate': 0.3, 'min_child_weight': 7, 'n_estimators': 976, 'subsample': 0.732208144159762, 'gamma': 9.992949033398032, 'colsample_bytree': 0.7697947936002504, 'reg_lambda': 7.441849054037981, 'reg_alpha': 3.701426616531737}. Best is trial 177 with value: 0.8901887955873724.\u001b[0m\n",
      "\u001b[32m[I 2022-05-04 22:18:12,634]\u001b[0m Trial 181 finished with value: 0.8860646574461011 and parameters: {'max_depth': 5, 'learning_rate': 0.1, 'min_child_weight': 7, 'n_estimators': 913, 'subsample': 0.6528306159909598, 'gamma': 9.801394629146861, 'colsample_bytree': 0.7739747564292816, 'reg_lambda': 7.577627430381478, 'reg_alpha': 0.010565628976616507}. Best is trial 177 with value: 0.8901887955873724.\u001b[0m\n",
      "\u001b[32m[I 2022-05-04 22:18:59,899]\u001b[0m Trial 182 finished with value: 0.8887930924455676 and parameters: {'max_depth': 5, 'learning_rate': 0.1, 'min_child_weight': 7, 'n_estimators': 915, 'subsample': 0.653112673261521, 'gamma': 9.684492626171988, 'colsample_bytree': 0.7951694547802949, 'reg_lambda': 7.653222415124481, 'reg_alpha': 0.010524397549242398}. Best is trial 177 with value: 0.8901887955873724.\u001b[0m\n",
      "\u001b[32m[I 2022-05-04 22:19:21,649]\u001b[0m Trial 183 finished with value: 0.8882736604218581 and parameters: {'max_depth': 5, 'learning_rate': 0.1, 'min_child_weight': 7, 'n_estimators': 921, 'subsample': 0.6505471540462009, 'gamma': 9.894936687687693, 'colsample_bytree': 0.7840610979102757, 'reg_lambda': 7.413252800300344, 'reg_alpha': 0.010001334170534606}. Best is trial 177 with value: 0.8901887955873724.\u001b[0m\n",
      "\u001b[32m[I 2022-05-04 22:21:02,044]\u001b[0m Trial 184 finished with value: 0.8880939220429832 and parameters: {'max_depth': 5, 'learning_rate': 0.1, 'min_child_weight': 7, 'n_estimators': 924, 'subsample': 0.648436225307068, 'gamma': 9.879646362145776, 'colsample_bytree': 0.7800520883786548, 'reg_lambda': 7.79929205332614, 'reg_alpha': 4.348308854753083}. Best is trial 177 with value: 0.8901887955873724.\u001b[0m\n",
      "\u001b[32m[I 2022-05-04 22:22:20,810]\u001b[0m Trial 188 finished with value: 0.8885538466179994 and parameters: {'max_depth': 5, 'learning_rate': 0.1, 'min_child_weight': 7, 'n_estimators': 965, 'subsample': 0.7111404731659079, 'gamma': 9.872848577582596, 'colsample_bytree': 0.8018040256046551, 'reg_lambda': 7.620881693140348, 'reg_alpha': 0.010532979085020737}. Best is trial 177 with value: 0.8901887955873724.\u001b[0m\n",
      "\u001b[32m[I 2022-05-04 22:22:42,830]\u001b[0m Trial 193 finished with value: 0.8758547036024573 and parameters: {'max_depth': 3, 'learning_rate': 0.1, 'min_child_weight': 7, 'n_estimators': 945, 'subsample': 0.6720842948198754, 'gamma': 8.46208777503416, 'colsample_bytree': 0.824852050934746, 'reg_lambda': 8.11485351629935, 'reg_alpha': 0.013197278425837237}. Best is trial 177 with value: 0.8901887955873724.\u001b[0m\n",
      "\u001b[32m[I 2022-05-04 22:23:59,760]\u001b[0m Trial 189 finished with value: 0.8875850665143055 and parameters: {'max_depth': 5, 'learning_rate': 0.1, 'min_child_weight': 7, 'n_estimators': 965, 'subsample': 0.6723247770223605, 'gamma': 8.15469063917053, 'colsample_bytree': 0.7791116637722868, 'reg_lambda': 7.294601754393084, 'reg_alpha': 0.010008414674319394}. Best is trial 177 with value: 0.8901887955873724.\u001b[0m\n",
      "\u001b[32m[I 2022-05-04 22:24:06,085]\u001b[0m Trial 190 finished with value: 0.8880008978744348 and parameters: {'max_depth': 5, 'learning_rate': 0.1, 'min_child_weight': 7, 'n_estimators': 943, 'subsample': 0.678289338211453, 'gamma': 9.886676132404856, 'colsample_bytree': 0.8233212446424657, 'reg_lambda': 7.748751735988195, 'reg_alpha': 0.011387710258264646}. Best is trial 177 with value: 0.8901887955873724.\u001b[0m\n",
      "\u001b[32m[I 2022-05-04 22:24:47,436]\u001b[0m Trial 191 finished with value: 0.8885622860045386 and parameters: {'max_depth': 5, 'learning_rate': 0.1, 'min_child_weight': 7, 'n_estimators': 950, 'subsample': 0.6704205631762349, 'gamma': 8.377874862815645, 'colsample_bytree': 0.809979343053922, 'reg_lambda': 8.389142444397981, 'reg_alpha': 0.01028720725451163}. Best is trial 177 with value: 0.8901887955873724.\u001b[0m\n",
      "\u001b[32m[I 2022-05-04 22:25:02,411]\u001b[0m Trial 192 finished with value: 0.888668255339476 and parameters: {'max_depth': 5, 'learning_rate': 0.1, 'min_child_weight': 7, 'n_estimators': 944, 'subsample': 0.6697384983906978, 'gamma': 8.282086909776574, 'colsample_bytree': 0.8188548809559228, 'reg_lambda': 8.530481895422023, 'reg_alpha': 0.010099801500169939}. Best is trial 177 with value: 0.8901887955873724.\u001b[0m\n",
      "\u001b[32m[I 2022-05-04 22:25:45,454]\u001b[0m Trial 196 finished with value: 0.8773786483609728 and parameters: {'max_depth': 3, 'learning_rate': 0.1, 'min_child_weight': 7, 'n_estimators': 946, 'subsample': 0.6990477533997784, 'gamma': 8.61497542813286, 'colsample_bytree': 0.8168423522993056, 'reg_lambda': 8.318689068996047, 'reg_alpha': 0.013319227409221803}. Best is trial 177 with value: 0.8901887955873724.\u001b[0m\n",
      "\u001b[32m[I 2022-05-04 22:25:50,019]\u001b[0m Trial 194 finished with value: 0.8890414567628838 and parameters: {'max_depth': 5, 'learning_rate': 0.1, 'min_child_weight': 7, 'n_estimators': 942, 'subsample': 0.6702999220328271, 'gamma': 8.448796546562976, 'colsample_bytree': 0.8164277461489565, 'reg_lambda': 8.155390183648876, 'reg_alpha': 0.01011550796291721}. Best is trial 177 with value: 0.8901887955873724.\u001b[0m\n",
      "\u001b[32m[I 2022-05-04 22:26:36,813]\u001b[0m Trial 195 finished with value: 0.8877532755481145 and parameters: {'max_depth': 5, 'learning_rate': 0.1, 'min_child_weight': 7, 'n_estimators': 954, 'subsample': 0.6731480582688217, 'gamma': 8.48852332225729, 'colsample_bytree': 0.8171016404444488, 'reg_lambda': 8.006791374030065, 'reg_alpha': 5.00297693288949}. Best is trial 177 with value: 0.8901887955873724.\u001b[0m\n",
      "\u001b[32m[I 2022-05-04 22:27:06,635]\u001b[0m Trial 197 finished with value: 0.8880974438687399 and parameters: {'max_depth': 5, 'learning_rate': 0.1, 'min_child_weight': 7, 'n_estimators': 946, 'subsample': 0.690477251252692, 'gamma': 8.654658248771131, 'colsample_bytree': 0.8071833309718024, 'reg_lambda': 6.9722385058124905, 'reg_alpha': 5.264078312362168}. Best is trial 177 with value: 0.8901887955873724.\u001b[0m\n",
      "\u001b[32m[I 2022-05-04 22:27:21,375]\u001b[0m Trial 198 finished with value: 0.8886433074584381 and parameters: {'max_depth': 5, 'learning_rate': 0.1, 'min_child_weight': 7, 'n_estimators': 943, 'subsample': 0.68990194258921, 'gamma': 6.611357427977003, 'colsample_bytree': 0.806530257949132, 'reg_lambda': 8.392268224622391, 'reg_alpha': 5.7949520633603875}. Best is trial 177 with value: 0.8901887955873724.\u001b[0m\n",
      "\u001b[32m[I 2022-05-04 22:27:22,108]\u001b[0m Trial 199 finished with value: 0.888960116316644 and parameters: {'max_depth': 5, 'learning_rate': 0.1, 'min_child_weight': 7, 'n_estimators': 939, 'subsample': 0.6961604033699265, 'gamma': 8.899571309057848, 'colsample_bytree': 0.8165570371407522, 'reg_lambda': 8.359169451128391, 'reg_alpha': 5.110818377305446}. Best is trial 177 with value: 0.8901887955873724.\u001b[0m\n",
      "\u001b[32m[I 2022-05-04 22:27:22,109]\u001b[0m Finished hyperparemeter search!\u001b[0m\n",
      "\u001b[32m[I 2022-05-04 22:27:22,112]\u001b[0m Refitting the estimator using 5256 samples...\u001b[0m\n",
      "\u001b[32m[I 2022-05-04 22:27:27,429]\u001b[0m Finished refitting! (elapsed time: 5.310 sec.)\u001b[0m\n"
     ]
    },
    {
     "data": {
      "text/plain": [
       "OptunaSearchCV(cv=10,\n",
       "               estimator=XGBRegressor(base_score=0.5, booster='gbtree',\n",
       "                                      colsample_bylevel=1, colsample_bynode=1,\n",
       "                                      colsample_bytree=1,\n",
       "                                      enable_categorical=False, gamma=0,\n",
       "                                      gpu_id=-1, importance_type=None,\n",
       "                                      interaction_constraints='',\n",
       "                                      learning_rate=0.300000012,\n",
       "                                      max_delta_step=0, max_depth=6,\n",
       "                                      min_child_weight=1, missing=nan,\n",
       "                                      monotone_constraints='()',\n",
       "                                      n_estimators=...\n",
       "                                    'min_child_weight': IntUniformDistribution(high=10, low=5, step=1),\n",
       "                                    'n_estimators': IntUniformDistribution(high=1000, low=50, step=1),\n",
       "                                    'reg_alpha': LogUniformDistribution(high=10.0, low=0.01),\n",
       "                                    'reg_lambda': LogUniformDistribution(high=10.0, low=0.01),\n",
       "                                    'subsample': UniformDistribution(high=1.0, low=0.1)},\n",
       "               random_state=73, scoring='r2',\n",
       "               study=<optuna.study.study.Study object at 0x175da1c40>,\n",
       "               verbose=1)"
      ]
     },
     "execution_count": 30,
     "metadata": {},
     "output_type": "execute_result"
    }
   ],
   "source": [
    "# Define Optuna parameters\n",
    "xgb_oscv_params = {\n",
    "    'max_depth' : CategoricalDistribution([2,3,4,5]),\n",
    "    'learning_rate' : CategoricalDistribution([0.01, 0.03, 0.1, 0.3]),\n",
    "    'min_child_weight' : IntUniformDistribution(5, 10),\n",
    "    'n_estimators' : IntUniformDistribution(50, 1000),\n",
    "    'subsample' : UniformDistribution(0.1, 1),\n",
    "    'gamma' : LogUniformDistribution(1e-2, 10.0),\n",
    "    'colsample_bytree' : UniformDistribution(0.1, 1),\n",
    "    'reg_lambda' : LogUniformDistribution(1e-2, 10.0),\n",
    "    'reg_alpha' : LogUniformDistribution(1e-2, 10.0)\n",
    "    }\n",
    "\n",
    "# Create optuna study\n",
    "xgb_study = optuna.create_study(sampler = sampler, direction = 'maximize', study_name = 'XGB_HyperParam_CV')\n",
    "\n",
    "# Initiate Optuna Search\n",
    "xgb_oscv = OptunaSearchCV(\n",
    "    study = xgb_study,\n",
    "    estimator = xgb_optuna_base,\n",
    "    param_distributions = xgb_oscv_params,\n",
    "    cv = 10,\n",
    "    n_jobs = -1,\n",
    "    n_trials = 200,\n",
    "    random_state = p.RANDOM_STATE,\n",
    "    refit = True,\n",
    "    scoring = 'r2',\n",
    "    verbose = 1,\n",
    ")\n",
    "\n",
    "# Fit search to training set\n",
    "xgb_oscv.fit(X_train, y_train, verbose = 0)"
   ]
  },
  {
   "cell_type": "markdown",
   "metadata": {},
   "source": [
    "### Generate Tuning Visualisations"
   ]
  },
  {
   "cell_type": "code",
   "execution_count": 31,
   "metadata": {},
   "outputs": [
    {
     "data": {
      "application/vnd.plotly.v1+json": {
       "config": {
        "plotlyServerURL": "https://plot.ly"
       },
       "data": [
        {
         "mode": "markers",
         "name": "Objective Value",
         "type": "scatter",
         "x": [
          0,
          1,
          2,
          3,
          4,
          5,
          6,
          7,
          8,
          9,
          10,
          11,
          12,
          13,
          14,
          15,
          16,
          17,
          18,
          19,
          20,
          21,
          22,
          23,
          24,
          25,
          26,
          27,
          28,
          29,
          30,
          31,
          32,
          33,
          34,
          35,
          36,
          37,
          38,
          39,
          40,
          41,
          42,
          43,
          44,
          45,
          46,
          47,
          48,
          49,
          50,
          51,
          52,
          53,
          54,
          55,
          56,
          57,
          58,
          59,
          60,
          61,
          62,
          63,
          64,
          65,
          66,
          67,
          68,
          69,
          70,
          71,
          72,
          73,
          74,
          75,
          76,
          77,
          78,
          79,
          80,
          81,
          82,
          83,
          84,
          85,
          86,
          87,
          88,
          89,
          90,
          91,
          92,
          93,
          94,
          95,
          96,
          97,
          98,
          99,
          100,
          101,
          102,
          103,
          104,
          105,
          106,
          107,
          108,
          109,
          110,
          111,
          112,
          113,
          114,
          115,
          116,
          117,
          118,
          119,
          120,
          121,
          122,
          123,
          124,
          125,
          126,
          127,
          128,
          129,
          130,
          131,
          132,
          133,
          134,
          135,
          136,
          137,
          138,
          139,
          140,
          141,
          142,
          143,
          144,
          145,
          146,
          147,
          148,
          149,
          150,
          151,
          152,
          153,
          154,
          155,
          156,
          157,
          158,
          159,
          160,
          161,
          162,
          163,
          164,
          165,
          166,
          167,
          168,
          169,
          170,
          171,
          172,
          173,
          174,
          175,
          176,
          177,
          178,
          179,
          180,
          181,
          182,
          183,
          184,
          185,
          186,
          187,
          188,
          189,
          190,
          191,
          192,
          193,
          194,
          195,
          196,
          197,
          198,
          199
         ],
         "y": [
          0.8697333695869662,
          0.8343887017369023,
          0.8724283026962679,
          0.8371493776138038,
          0.8324038308072138,
          0.7928429211416071,
          0.726482938562997,
          0.7039683532221055,
          0.7879925467962872,
          0.852574838157396,
          0.742746596613264,
          0.664058399937467,
          0.726550421972443,
          0.8687697886929644,
          0.42102732549775557,
          0.8724883764319697,
          0.8596488799861819,
          0.8538968116330924,
          0.8398629347441615,
          0.852345110144723,
          0.8123676566794081,
          0.8044800552938014,
          0.8481949393826929,
          0.8627617780487922,
          0.8332955929518084,
          0.8635315322176871,
          0.8845964362403608,
          0.884202364108609,
          0.8782260404137723,
          0.8622714338092983,
          0.8606647995384031,
          0.8608208327715985,
          0.8764435821670421,
          0.8746170067402741,
          0.8731172816343076,
          0.8769094781136811,
          0.8467642410957555,
          0.8465127873096098,
          0.8730626526193219,
          0.8718175640185757,
          0.8699661581900529,
          0.8776323091053356,
          0.8769789529901597,
          0.8787026660357485,
          0.8823530339097652,
          0.8796390355855014,
          0.8817371811581397,
          0.8801238209426717,
          0.8311622722655981,
          0.8184509487476752,
          0.8841087722344192,
          0.8816148531456118,
          0.8850928345354762,
          0.7503288437057085,
          0.880839317175027,
          0.8805603056570869,
          0.7283004796121253,
          0.5554651671869262,
          0.7419839178730845,
          0.7282774347881676,
          0.874545907292716,
          0.8832249492071291,
          0.875337225328723,
          0.8716104587508878,
          0.8685445980614134,
          0.8707373990740532,
          0.8659371186670665,
          0.8730733160425576,
          0.8734490862061556,
          0.8722843556928146,
          0.8251067215151018,
          0.8836418040493706,
          0.8303195182547627,
          0.8317431120666601,
          0.829292219051499,
          0.8320992126572836,
          0.8303124665729837,
          0.8749651726914944,
          0.8821621257740537,
          0.8822988051290684,
          0.885442744598816,
          0.8815719925990726,
          0.8743685946683547,
          0.8851299916719917,
          0.8832829029741314,
          0.8795618936619343,
          0.8805964670686418,
          0.8844025162427135,
          0.8815203981476,
          0.8830814105411295,
          0.8866263893117683,
          0.8861304759674568,
          0.8850247544163695,
          0.8847778021195716,
          0.8846223442950756,
          0.8808562878504645,
          0.8837638679800218,
          0.8832889719781439,
          0.8844328732276084,
          0.8853738361319925,
          0.8864388943394752,
          0.8859736474884704,
          0.8844233034181057,
          0.8813158066248448,
          0.8839017713528591,
          0.885972655368246,
          0.8845951428175407,
          0.885113315349407,
          0.884659973370433,
          0.8844649184261956,
          0.8836373735714439,
          0.8871269772682592,
          0.8816876771291458,
          0.8710122362922732,
          0.8817057697990937,
          0.8720552202999923,
          0.8715086451264863,
          0.8707895644861109,
          0.8697556317685043,
          0.8810083403764676,
          0.8831146025945686,
          0.8814469969853101,
          0.8849902076222896,
          0.8857461173522909,
          0.8843657365503258,
          0.8852856056937703,
          0.8856824678628517,
          0.8859411464220424,
          0.8844127188175064,
          0.8845341785673491,
          0.8859102423588034,
          0.8854202604488013,
          0.8871866105161462,
          0.8839643995587416,
          0.8855764927307648,
          0.883523422859129,
          0.8513038748050379,
          0.8530207569161383,
          0.8874825138168487,
          0.8393885439488257,
          0.8852535996745953,
          0.8506436988876136,
          0.8494885927202326,
          0.8511756941095449,
          0.8506682010936124,
          0.8493895133185518,
          0.885875081718616,
          0.8782753702508608,
          0.8861445965491335,
          0.8868671580665961,
          0.8878865302371544,
          0.8866097411152714,
          0.8852759266644071,
          0.88419271050085,
          0.8835370908529555,
          0.8823529149377041,
          0.8860792617673336,
          0.8859104219063021,
          0.8513080030168355,
          0.8851830901541955,
          0.8885290981596754,
          0.8882088532595084,
          0.8883463994343778,
          0.8892500079359404,
          0.8888693480074407,
          0.8625767224479828,
          0.887796283009903,
          0.8874556160192102,
          0.8872599242505388,
          0.8891665204996357,
          0.8874195730670872,
          0.8887955464471974,
          0.8872011939695736,
          0.8882347308608048,
          0.8881623779687151,
          0.8886203496187373,
          0.8885332604598102,
          0.8901887955873724,
          0.8884577841731037,
          0.8894172395402524,
          0.8891885037448543,
          0.8860646574461011,
          0.8887930924455676,
          0.8882736604218581,
          0.8880939220429832,
          0.8469513565367643,
          0.8497630075979419,
          0.8655950827352686,
          0.8885538466179994,
          0.8875850665143055,
          0.8880008978744348,
          0.8885622860045386,
          0.888668255339476,
          0.8758547036024573,
          0.8890414567628838,
          0.8877532755481145,
          0.8773786483609728,
          0.8880974438687399,
          0.8886433074584381,
          0.888960116316644
         ]
        },
        {
         "name": "Best Value",
         "type": "scatter",
         "x": [
          0,
          1,
          2,
          3,
          4,
          5,
          6,
          7,
          8,
          9,
          10,
          11,
          12,
          13,
          14,
          15,
          16,
          17,
          18,
          19,
          20,
          21,
          22,
          23,
          24,
          25,
          26,
          27,
          28,
          29,
          30,
          31,
          32,
          33,
          34,
          35,
          36,
          37,
          38,
          39,
          40,
          41,
          42,
          43,
          44,
          45,
          46,
          47,
          48,
          49,
          50,
          51,
          52,
          53,
          54,
          55,
          56,
          57,
          58,
          59,
          60,
          61,
          62,
          63,
          64,
          65,
          66,
          67,
          68,
          69,
          70,
          71,
          72,
          73,
          74,
          75,
          76,
          77,
          78,
          79,
          80,
          81,
          82,
          83,
          84,
          85,
          86,
          87,
          88,
          89,
          90,
          91,
          92,
          93,
          94,
          95,
          96,
          97,
          98,
          99,
          100,
          101,
          102,
          103,
          104,
          105,
          106,
          107,
          108,
          109,
          110,
          111,
          112,
          113,
          114,
          115,
          116,
          117,
          118,
          119,
          120,
          121,
          122,
          123,
          124,
          125,
          126,
          127,
          128,
          129,
          130,
          131,
          132,
          133,
          134,
          135,
          136,
          137,
          138,
          139,
          140,
          141,
          142,
          143,
          144,
          145,
          146,
          147,
          148,
          149,
          150,
          151,
          152,
          153,
          154,
          155,
          156,
          157,
          158,
          159,
          160,
          161,
          162,
          163,
          164,
          165,
          166,
          167,
          168,
          169,
          170,
          171,
          172,
          173,
          174,
          175,
          176,
          177,
          178,
          179,
          180,
          181,
          182,
          183,
          184,
          185,
          186,
          187,
          188,
          189,
          190,
          191,
          192,
          193,
          194,
          195,
          196,
          197,
          198,
          199
         ],
         "y": [
          0.8697333695869662,
          0.8697333695869662,
          0.8724283026962679,
          0.8724283026962679,
          0.8724283026962679,
          0.8724283026962679,
          0.8724283026962679,
          0.8724283026962679,
          0.8724283026962679,
          0.8724283026962679,
          0.8724283026962679,
          0.8724283026962679,
          0.8724283026962679,
          0.8724283026962679,
          0.8724283026962679,
          0.8724883764319697,
          0.8724883764319697,
          0.8724883764319697,
          0.8724883764319697,
          0.8724883764319697,
          0.8724883764319697,
          0.8724883764319697,
          0.8724883764319697,
          0.8724883764319697,
          0.8724883764319697,
          0.8724883764319697,
          0.8845964362403608,
          0.8845964362403608,
          0.8845964362403608,
          0.8845964362403608,
          0.8845964362403608,
          0.8845964362403608,
          0.8845964362403608,
          0.8845964362403608,
          0.8845964362403608,
          0.8845964362403608,
          0.8845964362403608,
          0.8845964362403608,
          0.8845964362403608,
          0.8845964362403608,
          0.8845964362403608,
          0.8845964362403608,
          0.8845964362403608,
          0.8845964362403608,
          0.8845964362403608,
          0.8845964362403608,
          0.8845964362403608,
          0.8845964362403608,
          0.8845964362403608,
          0.8845964362403608,
          0.8845964362403608,
          0.8845964362403608,
          0.8850928345354762,
          0.8850928345354762,
          0.8850928345354762,
          0.8850928345354762,
          0.8850928345354762,
          0.8850928345354762,
          0.8850928345354762,
          0.8850928345354762,
          0.8850928345354762,
          0.8850928345354762,
          0.8850928345354762,
          0.8850928345354762,
          0.8850928345354762,
          0.8850928345354762,
          0.8850928345354762,
          0.8850928345354762,
          0.8850928345354762,
          0.8850928345354762,
          0.8850928345354762,
          0.8850928345354762,
          0.8850928345354762,
          0.8850928345354762,
          0.8850928345354762,
          0.8850928345354762,
          0.8850928345354762,
          0.8850928345354762,
          0.8850928345354762,
          0.8850928345354762,
          0.885442744598816,
          0.885442744598816,
          0.885442744598816,
          0.885442744598816,
          0.885442744598816,
          0.885442744598816,
          0.885442744598816,
          0.885442744598816,
          0.885442744598816,
          0.885442744598816,
          0.8866263893117683,
          0.8866263893117683,
          0.8866263893117683,
          0.8866263893117683,
          0.8866263893117683,
          0.8866263893117683,
          0.8866263893117683,
          0.8866263893117683,
          0.8866263893117683,
          0.8866263893117683,
          0.8866263893117683,
          0.8866263893117683,
          0.8866263893117683,
          0.8866263893117683,
          0.8866263893117683,
          0.8866263893117683,
          0.8866263893117683,
          0.8866263893117683,
          0.8866263893117683,
          0.8866263893117683,
          0.8866263893117683,
          0.8871269772682592,
          0.8871269772682592,
          0.8871269772682592,
          0.8871269772682592,
          0.8871269772682592,
          0.8871269772682592,
          0.8871269772682592,
          0.8871269772682592,
          0.8871269772682592,
          0.8871269772682592,
          0.8871269772682592,
          0.8871269772682592,
          0.8871269772682592,
          0.8871269772682592,
          0.8871269772682592,
          0.8871269772682592,
          0.8871269772682592,
          0.8871269772682592,
          0.8871269772682592,
          0.8871269772682592,
          0.8871269772682592,
          0.8871866105161462,
          0.8871866105161462,
          0.8871866105161462,
          0.8871866105161462,
          0.8871866105161462,
          0.8871866105161462,
          0.8874825138168487,
          0.8874825138168487,
          0.8874825138168487,
          0.8874825138168487,
          0.8874825138168487,
          0.8874825138168487,
          0.8874825138168487,
          0.8874825138168487,
          0.8874825138168487,
          0.8874825138168487,
          0.8874825138168487,
          0.8874825138168487,
          0.8878865302371544,
          0.8878865302371544,
          0.8878865302371544,
          0.8878865302371544,
          0.8878865302371544,
          0.8878865302371544,
          0.8878865302371544,
          0.8878865302371544,
          0.8878865302371544,
          0.8878865302371544,
          0.8885290981596754,
          0.8885290981596754,
          0.8885290981596754,
          0.8892500079359404,
          0.8892500079359404,
          0.8892500079359404,
          0.8892500079359404,
          0.8892500079359404,
          0.8892500079359404,
          0.8892500079359404,
          0.8892500079359404,
          0.8892500079359404,
          0.8892500079359404,
          0.8892500079359404,
          0.8892500079359404,
          0.8892500079359404,
          0.8892500079359404,
          0.8901887955873724,
          0.8901887955873724,
          0.8901887955873724,
          0.8901887955873724,
          0.8901887955873724,
          0.8901887955873724,
          0.8901887955873724,
          0.8901887955873724,
          0.8901887955873724,
          0.8901887955873724,
          0.8901887955873724,
          0.8901887955873724,
          0.8901887955873724,
          0.8901887955873724,
          0.8901887955873724,
          0.8901887955873724,
          0.8901887955873724,
          0.8901887955873724,
          0.8901887955873724,
          0.8901887955873724,
          0.8901887955873724,
          0.8901887955873724,
          0.8901887955873724
         ]
        }
       ],
       "layout": {
        "template": {
         "data": {
          "bar": [
           {
            "error_x": {
             "color": "#2a3f5f"
            },
            "error_y": {
             "color": "#2a3f5f"
            },
            "marker": {
             "line": {
              "color": "#E5ECF6",
              "width": 0.5
             },
             "pattern": {
              "fillmode": "overlay",
              "size": 10,
              "solidity": 0.2
             }
            },
            "type": "bar"
           }
          ],
          "barpolar": [
           {
            "marker": {
             "line": {
              "color": "#E5ECF6",
              "width": 0.5
             },
             "pattern": {
              "fillmode": "overlay",
              "size": 10,
              "solidity": 0.2
             }
            },
            "type": "barpolar"
           }
          ],
          "carpet": [
           {
            "aaxis": {
             "endlinecolor": "#2a3f5f",
             "gridcolor": "white",
             "linecolor": "white",
             "minorgridcolor": "white",
             "startlinecolor": "#2a3f5f"
            },
            "baxis": {
             "endlinecolor": "#2a3f5f",
             "gridcolor": "white",
             "linecolor": "white",
             "minorgridcolor": "white",
             "startlinecolor": "#2a3f5f"
            },
            "type": "carpet"
           }
          ],
          "choropleth": [
           {
            "colorbar": {
             "outlinewidth": 0,
             "ticks": ""
            },
            "type": "choropleth"
           }
          ],
          "contour": [
           {
            "colorbar": {
             "outlinewidth": 0,
             "ticks": ""
            },
            "colorscale": [
             [
              0,
              "#0d0887"
             ],
             [
              0.1111111111111111,
              "#46039f"
             ],
             [
              0.2222222222222222,
              "#7201a8"
             ],
             [
              0.3333333333333333,
              "#9c179e"
             ],
             [
              0.4444444444444444,
              "#bd3786"
             ],
             [
              0.5555555555555556,
              "#d8576b"
             ],
             [
              0.6666666666666666,
              "#ed7953"
             ],
             [
              0.7777777777777778,
              "#fb9f3a"
             ],
             [
              0.8888888888888888,
              "#fdca26"
             ],
             [
              1,
              "#f0f921"
             ]
            ],
            "type": "contour"
           }
          ],
          "contourcarpet": [
           {
            "colorbar": {
             "outlinewidth": 0,
             "ticks": ""
            },
            "type": "contourcarpet"
           }
          ],
          "heatmap": [
           {
            "colorbar": {
             "outlinewidth": 0,
             "ticks": ""
            },
            "colorscale": [
             [
              0,
              "#0d0887"
             ],
             [
              0.1111111111111111,
              "#46039f"
             ],
             [
              0.2222222222222222,
              "#7201a8"
             ],
             [
              0.3333333333333333,
              "#9c179e"
             ],
             [
              0.4444444444444444,
              "#bd3786"
             ],
             [
              0.5555555555555556,
              "#d8576b"
             ],
             [
              0.6666666666666666,
              "#ed7953"
             ],
             [
              0.7777777777777778,
              "#fb9f3a"
             ],
             [
              0.8888888888888888,
              "#fdca26"
             ],
             [
              1,
              "#f0f921"
             ]
            ],
            "type": "heatmap"
           }
          ],
          "heatmapgl": [
           {
            "colorbar": {
             "outlinewidth": 0,
             "ticks": ""
            },
            "colorscale": [
             [
              0,
              "#0d0887"
             ],
             [
              0.1111111111111111,
              "#46039f"
             ],
             [
              0.2222222222222222,
              "#7201a8"
             ],
             [
              0.3333333333333333,
              "#9c179e"
             ],
             [
              0.4444444444444444,
              "#bd3786"
             ],
             [
              0.5555555555555556,
              "#d8576b"
             ],
             [
              0.6666666666666666,
              "#ed7953"
             ],
             [
              0.7777777777777778,
              "#fb9f3a"
             ],
             [
              0.8888888888888888,
              "#fdca26"
             ],
             [
              1,
              "#f0f921"
             ]
            ],
            "type": "heatmapgl"
           }
          ],
          "histogram": [
           {
            "marker": {
             "pattern": {
              "fillmode": "overlay",
              "size": 10,
              "solidity": 0.2
             }
            },
            "type": "histogram"
           }
          ],
          "histogram2d": [
           {
            "colorbar": {
             "outlinewidth": 0,
             "ticks": ""
            },
            "colorscale": [
             [
              0,
              "#0d0887"
             ],
             [
              0.1111111111111111,
              "#46039f"
             ],
             [
              0.2222222222222222,
              "#7201a8"
             ],
             [
              0.3333333333333333,
              "#9c179e"
             ],
             [
              0.4444444444444444,
              "#bd3786"
             ],
             [
              0.5555555555555556,
              "#d8576b"
             ],
             [
              0.6666666666666666,
              "#ed7953"
             ],
             [
              0.7777777777777778,
              "#fb9f3a"
             ],
             [
              0.8888888888888888,
              "#fdca26"
             ],
             [
              1,
              "#f0f921"
             ]
            ],
            "type": "histogram2d"
           }
          ],
          "histogram2dcontour": [
           {
            "colorbar": {
             "outlinewidth": 0,
             "ticks": ""
            },
            "colorscale": [
             [
              0,
              "#0d0887"
             ],
             [
              0.1111111111111111,
              "#46039f"
             ],
             [
              0.2222222222222222,
              "#7201a8"
             ],
             [
              0.3333333333333333,
              "#9c179e"
             ],
             [
              0.4444444444444444,
              "#bd3786"
             ],
             [
              0.5555555555555556,
              "#d8576b"
             ],
             [
              0.6666666666666666,
              "#ed7953"
             ],
             [
              0.7777777777777778,
              "#fb9f3a"
             ],
             [
              0.8888888888888888,
              "#fdca26"
             ],
             [
              1,
              "#f0f921"
             ]
            ],
            "type": "histogram2dcontour"
           }
          ],
          "mesh3d": [
           {
            "colorbar": {
             "outlinewidth": 0,
             "ticks": ""
            },
            "type": "mesh3d"
           }
          ],
          "parcoords": [
           {
            "line": {
             "colorbar": {
              "outlinewidth": 0,
              "ticks": ""
             }
            },
            "type": "parcoords"
           }
          ],
          "pie": [
           {
            "automargin": true,
            "type": "pie"
           }
          ],
          "scatter": [
           {
            "marker": {
             "colorbar": {
              "outlinewidth": 0,
              "ticks": ""
             }
            },
            "type": "scatter"
           }
          ],
          "scatter3d": [
           {
            "line": {
             "colorbar": {
              "outlinewidth": 0,
              "ticks": ""
             }
            },
            "marker": {
             "colorbar": {
              "outlinewidth": 0,
              "ticks": ""
             }
            },
            "type": "scatter3d"
           }
          ],
          "scattercarpet": [
           {
            "marker": {
             "colorbar": {
              "outlinewidth": 0,
              "ticks": ""
             }
            },
            "type": "scattercarpet"
           }
          ],
          "scattergeo": [
           {
            "marker": {
             "colorbar": {
              "outlinewidth": 0,
              "ticks": ""
             }
            },
            "type": "scattergeo"
           }
          ],
          "scattergl": [
           {
            "marker": {
             "colorbar": {
              "outlinewidth": 0,
              "ticks": ""
             }
            },
            "type": "scattergl"
           }
          ],
          "scattermapbox": [
           {
            "marker": {
             "colorbar": {
              "outlinewidth": 0,
              "ticks": ""
             }
            },
            "type": "scattermapbox"
           }
          ],
          "scatterpolar": [
           {
            "marker": {
             "colorbar": {
              "outlinewidth": 0,
              "ticks": ""
             }
            },
            "type": "scatterpolar"
           }
          ],
          "scatterpolargl": [
           {
            "marker": {
             "colorbar": {
              "outlinewidth": 0,
              "ticks": ""
             }
            },
            "type": "scatterpolargl"
           }
          ],
          "scatterternary": [
           {
            "marker": {
             "colorbar": {
              "outlinewidth": 0,
              "ticks": ""
             }
            },
            "type": "scatterternary"
           }
          ],
          "surface": [
           {
            "colorbar": {
             "outlinewidth": 0,
             "ticks": ""
            },
            "colorscale": [
             [
              0,
              "#0d0887"
             ],
             [
              0.1111111111111111,
              "#46039f"
             ],
             [
              0.2222222222222222,
              "#7201a8"
             ],
             [
              0.3333333333333333,
              "#9c179e"
             ],
             [
              0.4444444444444444,
              "#bd3786"
             ],
             [
              0.5555555555555556,
              "#d8576b"
             ],
             [
              0.6666666666666666,
              "#ed7953"
             ],
             [
              0.7777777777777778,
              "#fb9f3a"
             ],
             [
              0.8888888888888888,
              "#fdca26"
             ],
             [
              1,
              "#f0f921"
             ]
            ],
            "type": "surface"
           }
          ],
          "table": [
           {
            "cells": {
             "fill": {
              "color": "#EBF0F8"
             },
             "line": {
              "color": "white"
             }
            },
            "header": {
             "fill": {
              "color": "#C8D4E3"
             },
             "line": {
              "color": "white"
             }
            },
            "type": "table"
           }
          ]
         },
         "layout": {
          "annotationdefaults": {
           "arrowcolor": "#2a3f5f",
           "arrowhead": 0,
           "arrowwidth": 1
          },
          "autotypenumbers": "strict",
          "coloraxis": {
           "colorbar": {
            "outlinewidth": 0,
            "ticks": ""
           }
          },
          "colorscale": {
           "diverging": [
            [
             0,
             "#8e0152"
            ],
            [
             0.1,
             "#c51b7d"
            ],
            [
             0.2,
             "#de77ae"
            ],
            [
             0.3,
             "#f1b6da"
            ],
            [
             0.4,
             "#fde0ef"
            ],
            [
             0.5,
             "#f7f7f7"
            ],
            [
             0.6,
             "#e6f5d0"
            ],
            [
             0.7,
             "#b8e186"
            ],
            [
             0.8,
             "#7fbc41"
            ],
            [
             0.9,
             "#4d9221"
            ],
            [
             1,
             "#276419"
            ]
           ],
           "sequential": [
            [
             0,
             "#0d0887"
            ],
            [
             0.1111111111111111,
             "#46039f"
            ],
            [
             0.2222222222222222,
             "#7201a8"
            ],
            [
             0.3333333333333333,
             "#9c179e"
            ],
            [
             0.4444444444444444,
             "#bd3786"
            ],
            [
             0.5555555555555556,
             "#d8576b"
            ],
            [
             0.6666666666666666,
             "#ed7953"
            ],
            [
             0.7777777777777778,
             "#fb9f3a"
            ],
            [
             0.8888888888888888,
             "#fdca26"
            ],
            [
             1,
             "#f0f921"
            ]
           ],
           "sequentialminus": [
            [
             0,
             "#0d0887"
            ],
            [
             0.1111111111111111,
             "#46039f"
            ],
            [
             0.2222222222222222,
             "#7201a8"
            ],
            [
             0.3333333333333333,
             "#9c179e"
            ],
            [
             0.4444444444444444,
             "#bd3786"
            ],
            [
             0.5555555555555556,
             "#d8576b"
            ],
            [
             0.6666666666666666,
             "#ed7953"
            ],
            [
             0.7777777777777778,
             "#fb9f3a"
            ],
            [
             0.8888888888888888,
             "#fdca26"
            ],
            [
             1,
             "#f0f921"
            ]
           ]
          },
          "colorway": [
           "#636efa",
           "#EF553B",
           "#00cc96",
           "#ab63fa",
           "#FFA15A",
           "#19d3f3",
           "#FF6692",
           "#B6E880",
           "#FF97FF",
           "#FECB52"
          ],
          "font": {
           "color": "#2a3f5f"
          },
          "geo": {
           "bgcolor": "white",
           "lakecolor": "white",
           "landcolor": "#E5ECF6",
           "showlakes": true,
           "showland": true,
           "subunitcolor": "white"
          },
          "hoverlabel": {
           "align": "left"
          },
          "hovermode": "closest",
          "mapbox": {
           "style": "light"
          },
          "paper_bgcolor": "white",
          "plot_bgcolor": "#E5ECF6",
          "polar": {
           "angularaxis": {
            "gridcolor": "white",
            "linecolor": "white",
            "ticks": ""
           },
           "bgcolor": "#E5ECF6",
           "radialaxis": {
            "gridcolor": "white",
            "linecolor": "white",
            "ticks": ""
           }
          },
          "scene": {
           "xaxis": {
            "backgroundcolor": "#E5ECF6",
            "gridcolor": "white",
            "gridwidth": 2,
            "linecolor": "white",
            "showbackground": true,
            "ticks": "",
            "zerolinecolor": "white"
           },
           "yaxis": {
            "backgroundcolor": "#E5ECF6",
            "gridcolor": "white",
            "gridwidth": 2,
            "linecolor": "white",
            "showbackground": true,
            "ticks": "",
            "zerolinecolor": "white"
           },
           "zaxis": {
            "backgroundcolor": "#E5ECF6",
            "gridcolor": "white",
            "gridwidth": 2,
            "linecolor": "white",
            "showbackground": true,
            "ticks": "",
            "zerolinecolor": "white"
           }
          },
          "shapedefaults": {
           "line": {
            "color": "#2a3f5f"
           }
          },
          "ternary": {
           "aaxis": {
            "gridcolor": "white",
            "linecolor": "white",
            "ticks": ""
           },
           "baxis": {
            "gridcolor": "white",
            "linecolor": "white",
            "ticks": ""
           },
           "bgcolor": "#E5ECF6",
           "caxis": {
            "gridcolor": "white",
            "linecolor": "white",
            "ticks": ""
           }
          },
          "title": {
           "x": 0.05
          },
          "xaxis": {
           "automargin": true,
           "gridcolor": "white",
           "linecolor": "white",
           "ticks": "",
           "title": {
            "standoff": 15
           },
           "zerolinecolor": "white",
           "zerolinewidth": 2
          },
          "yaxis": {
           "automargin": true,
           "gridcolor": "white",
           "linecolor": "white",
           "ticks": "",
           "title": {
            "standoff": 15
           },
           "zerolinecolor": "white",
           "zerolinewidth": 2
          }
         }
        },
        "title": {
         "text": "Optimization History Plot"
        },
        "xaxis": {
         "title": {
          "text": "#Trials"
         }
        },
        "yaxis": {
         "title": {
          "text": "Objective Value"
         }
        }
       }
      }
     },
     "metadata": {},
     "output_type": "display_data"
    },
    {
     "data": {
      "application/vnd.plotly.v1+json": {
       "config": {
        "plotlyServerURL": "https://plot.ly"
       },
       "data": [
        {
         "cliponaxis": false,
         "hovertemplate": [
          "gamma (LogUniformDistribution): 0.0020784270410174857<extra></extra>",
          "reg_alpha (LogUniformDistribution): 0.004095281901881605<extra></extra>",
          "min_child_weight (IntUniformDistribution): 0.013534420081369883<extra></extra>",
          "reg_lambda (LogUniformDistribution): 0.01403145118344473<extra></extra>",
          "colsample_bytree (UniformDistribution): 0.06860333679698842<extra></extra>",
          "max_depth (CategoricalDistribution): 0.12081782334837596<extra></extra>",
          "n_estimators (IntUniformDistribution): 0.15104887265102104<extra></extra>",
          "learning_rate (CategoricalDistribution): 0.24327936713069323<extra></extra>",
          "subsample (UniformDistribution): 0.3825110198652077<extra></extra>"
         ],
         "marker": {
          "color": "rgb(66,146,198)"
         },
         "orientation": "h",
         "text": [
          "0.0020784270410174857",
          "0.004095281901881605",
          "0.013534420081369883",
          "0.01403145118344473",
          "0.06860333679698842",
          "0.12081782334837596",
          "0.15104887265102104",
          "0.24327936713069323",
          "0.3825110198652077"
         ],
         "textposition": "outside",
         "texttemplate": "%{text:.2f}",
         "type": "bar",
         "x": [
          0.0020784270410174857,
          0.004095281901881605,
          0.013534420081369883,
          0.01403145118344473,
          0.06860333679698842,
          0.12081782334837596,
          0.15104887265102104,
          0.24327936713069323,
          0.3825110198652077
         ],
         "y": [
          "gamma",
          "reg_alpha",
          "min_child_weight",
          "reg_lambda",
          "colsample_bytree",
          "max_depth",
          "n_estimators",
          "learning_rate",
          "subsample"
         ]
        }
       ],
       "layout": {
        "showlegend": false,
        "template": {
         "data": {
          "bar": [
           {
            "error_x": {
             "color": "#2a3f5f"
            },
            "error_y": {
             "color": "#2a3f5f"
            },
            "marker": {
             "line": {
              "color": "#E5ECF6",
              "width": 0.5
             },
             "pattern": {
              "fillmode": "overlay",
              "size": 10,
              "solidity": 0.2
             }
            },
            "type": "bar"
           }
          ],
          "barpolar": [
           {
            "marker": {
             "line": {
              "color": "#E5ECF6",
              "width": 0.5
             },
             "pattern": {
              "fillmode": "overlay",
              "size": 10,
              "solidity": 0.2
             }
            },
            "type": "barpolar"
           }
          ],
          "carpet": [
           {
            "aaxis": {
             "endlinecolor": "#2a3f5f",
             "gridcolor": "white",
             "linecolor": "white",
             "minorgridcolor": "white",
             "startlinecolor": "#2a3f5f"
            },
            "baxis": {
             "endlinecolor": "#2a3f5f",
             "gridcolor": "white",
             "linecolor": "white",
             "minorgridcolor": "white",
             "startlinecolor": "#2a3f5f"
            },
            "type": "carpet"
           }
          ],
          "choropleth": [
           {
            "colorbar": {
             "outlinewidth": 0,
             "ticks": ""
            },
            "type": "choropleth"
           }
          ],
          "contour": [
           {
            "colorbar": {
             "outlinewidth": 0,
             "ticks": ""
            },
            "colorscale": [
             [
              0,
              "#0d0887"
             ],
             [
              0.1111111111111111,
              "#46039f"
             ],
             [
              0.2222222222222222,
              "#7201a8"
             ],
             [
              0.3333333333333333,
              "#9c179e"
             ],
             [
              0.4444444444444444,
              "#bd3786"
             ],
             [
              0.5555555555555556,
              "#d8576b"
             ],
             [
              0.6666666666666666,
              "#ed7953"
             ],
             [
              0.7777777777777778,
              "#fb9f3a"
             ],
             [
              0.8888888888888888,
              "#fdca26"
             ],
             [
              1,
              "#f0f921"
             ]
            ],
            "type": "contour"
           }
          ],
          "contourcarpet": [
           {
            "colorbar": {
             "outlinewidth": 0,
             "ticks": ""
            },
            "type": "contourcarpet"
           }
          ],
          "heatmap": [
           {
            "colorbar": {
             "outlinewidth": 0,
             "ticks": ""
            },
            "colorscale": [
             [
              0,
              "#0d0887"
             ],
             [
              0.1111111111111111,
              "#46039f"
             ],
             [
              0.2222222222222222,
              "#7201a8"
             ],
             [
              0.3333333333333333,
              "#9c179e"
             ],
             [
              0.4444444444444444,
              "#bd3786"
             ],
             [
              0.5555555555555556,
              "#d8576b"
             ],
             [
              0.6666666666666666,
              "#ed7953"
             ],
             [
              0.7777777777777778,
              "#fb9f3a"
             ],
             [
              0.8888888888888888,
              "#fdca26"
             ],
             [
              1,
              "#f0f921"
             ]
            ],
            "type": "heatmap"
           }
          ],
          "heatmapgl": [
           {
            "colorbar": {
             "outlinewidth": 0,
             "ticks": ""
            },
            "colorscale": [
             [
              0,
              "#0d0887"
             ],
             [
              0.1111111111111111,
              "#46039f"
             ],
             [
              0.2222222222222222,
              "#7201a8"
             ],
             [
              0.3333333333333333,
              "#9c179e"
             ],
             [
              0.4444444444444444,
              "#bd3786"
             ],
             [
              0.5555555555555556,
              "#d8576b"
             ],
             [
              0.6666666666666666,
              "#ed7953"
             ],
             [
              0.7777777777777778,
              "#fb9f3a"
             ],
             [
              0.8888888888888888,
              "#fdca26"
             ],
             [
              1,
              "#f0f921"
             ]
            ],
            "type": "heatmapgl"
           }
          ],
          "histogram": [
           {
            "marker": {
             "pattern": {
              "fillmode": "overlay",
              "size": 10,
              "solidity": 0.2
             }
            },
            "type": "histogram"
           }
          ],
          "histogram2d": [
           {
            "colorbar": {
             "outlinewidth": 0,
             "ticks": ""
            },
            "colorscale": [
             [
              0,
              "#0d0887"
             ],
             [
              0.1111111111111111,
              "#46039f"
             ],
             [
              0.2222222222222222,
              "#7201a8"
             ],
             [
              0.3333333333333333,
              "#9c179e"
             ],
             [
              0.4444444444444444,
              "#bd3786"
             ],
             [
              0.5555555555555556,
              "#d8576b"
             ],
             [
              0.6666666666666666,
              "#ed7953"
             ],
             [
              0.7777777777777778,
              "#fb9f3a"
             ],
             [
              0.8888888888888888,
              "#fdca26"
             ],
             [
              1,
              "#f0f921"
             ]
            ],
            "type": "histogram2d"
           }
          ],
          "histogram2dcontour": [
           {
            "colorbar": {
             "outlinewidth": 0,
             "ticks": ""
            },
            "colorscale": [
             [
              0,
              "#0d0887"
             ],
             [
              0.1111111111111111,
              "#46039f"
             ],
             [
              0.2222222222222222,
              "#7201a8"
             ],
             [
              0.3333333333333333,
              "#9c179e"
             ],
             [
              0.4444444444444444,
              "#bd3786"
             ],
             [
              0.5555555555555556,
              "#d8576b"
             ],
             [
              0.6666666666666666,
              "#ed7953"
             ],
             [
              0.7777777777777778,
              "#fb9f3a"
             ],
             [
              0.8888888888888888,
              "#fdca26"
             ],
             [
              1,
              "#f0f921"
             ]
            ],
            "type": "histogram2dcontour"
           }
          ],
          "mesh3d": [
           {
            "colorbar": {
             "outlinewidth": 0,
             "ticks": ""
            },
            "type": "mesh3d"
           }
          ],
          "parcoords": [
           {
            "line": {
             "colorbar": {
              "outlinewidth": 0,
              "ticks": ""
             }
            },
            "type": "parcoords"
           }
          ],
          "pie": [
           {
            "automargin": true,
            "type": "pie"
           }
          ],
          "scatter": [
           {
            "marker": {
             "colorbar": {
              "outlinewidth": 0,
              "ticks": ""
             }
            },
            "type": "scatter"
           }
          ],
          "scatter3d": [
           {
            "line": {
             "colorbar": {
              "outlinewidth": 0,
              "ticks": ""
             }
            },
            "marker": {
             "colorbar": {
              "outlinewidth": 0,
              "ticks": ""
             }
            },
            "type": "scatter3d"
           }
          ],
          "scattercarpet": [
           {
            "marker": {
             "colorbar": {
              "outlinewidth": 0,
              "ticks": ""
             }
            },
            "type": "scattercarpet"
           }
          ],
          "scattergeo": [
           {
            "marker": {
             "colorbar": {
              "outlinewidth": 0,
              "ticks": ""
             }
            },
            "type": "scattergeo"
           }
          ],
          "scattergl": [
           {
            "marker": {
             "colorbar": {
              "outlinewidth": 0,
              "ticks": ""
             }
            },
            "type": "scattergl"
           }
          ],
          "scattermapbox": [
           {
            "marker": {
             "colorbar": {
              "outlinewidth": 0,
              "ticks": ""
             }
            },
            "type": "scattermapbox"
           }
          ],
          "scatterpolar": [
           {
            "marker": {
             "colorbar": {
              "outlinewidth": 0,
              "ticks": ""
             }
            },
            "type": "scatterpolar"
           }
          ],
          "scatterpolargl": [
           {
            "marker": {
             "colorbar": {
              "outlinewidth": 0,
              "ticks": ""
             }
            },
            "type": "scatterpolargl"
           }
          ],
          "scatterternary": [
           {
            "marker": {
             "colorbar": {
              "outlinewidth": 0,
              "ticks": ""
             }
            },
            "type": "scatterternary"
           }
          ],
          "surface": [
           {
            "colorbar": {
             "outlinewidth": 0,
             "ticks": ""
            },
            "colorscale": [
             [
              0,
              "#0d0887"
             ],
             [
              0.1111111111111111,
              "#46039f"
             ],
             [
              0.2222222222222222,
              "#7201a8"
             ],
             [
              0.3333333333333333,
              "#9c179e"
             ],
             [
              0.4444444444444444,
              "#bd3786"
             ],
             [
              0.5555555555555556,
              "#d8576b"
             ],
             [
              0.6666666666666666,
              "#ed7953"
             ],
             [
              0.7777777777777778,
              "#fb9f3a"
             ],
             [
              0.8888888888888888,
              "#fdca26"
             ],
             [
              1,
              "#f0f921"
             ]
            ],
            "type": "surface"
           }
          ],
          "table": [
           {
            "cells": {
             "fill": {
              "color": "#EBF0F8"
             },
             "line": {
              "color": "white"
             }
            },
            "header": {
             "fill": {
              "color": "#C8D4E3"
             },
             "line": {
              "color": "white"
             }
            },
            "type": "table"
           }
          ]
         },
         "layout": {
          "annotationdefaults": {
           "arrowcolor": "#2a3f5f",
           "arrowhead": 0,
           "arrowwidth": 1
          },
          "autotypenumbers": "strict",
          "coloraxis": {
           "colorbar": {
            "outlinewidth": 0,
            "ticks": ""
           }
          },
          "colorscale": {
           "diverging": [
            [
             0,
             "#8e0152"
            ],
            [
             0.1,
             "#c51b7d"
            ],
            [
             0.2,
             "#de77ae"
            ],
            [
             0.3,
             "#f1b6da"
            ],
            [
             0.4,
             "#fde0ef"
            ],
            [
             0.5,
             "#f7f7f7"
            ],
            [
             0.6,
             "#e6f5d0"
            ],
            [
             0.7,
             "#b8e186"
            ],
            [
             0.8,
             "#7fbc41"
            ],
            [
             0.9,
             "#4d9221"
            ],
            [
             1,
             "#276419"
            ]
           ],
           "sequential": [
            [
             0,
             "#0d0887"
            ],
            [
             0.1111111111111111,
             "#46039f"
            ],
            [
             0.2222222222222222,
             "#7201a8"
            ],
            [
             0.3333333333333333,
             "#9c179e"
            ],
            [
             0.4444444444444444,
             "#bd3786"
            ],
            [
             0.5555555555555556,
             "#d8576b"
            ],
            [
             0.6666666666666666,
             "#ed7953"
            ],
            [
             0.7777777777777778,
             "#fb9f3a"
            ],
            [
             0.8888888888888888,
             "#fdca26"
            ],
            [
             1,
             "#f0f921"
            ]
           ],
           "sequentialminus": [
            [
             0,
             "#0d0887"
            ],
            [
             0.1111111111111111,
             "#46039f"
            ],
            [
             0.2222222222222222,
             "#7201a8"
            ],
            [
             0.3333333333333333,
             "#9c179e"
            ],
            [
             0.4444444444444444,
             "#bd3786"
            ],
            [
             0.5555555555555556,
             "#d8576b"
            ],
            [
             0.6666666666666666,
             "#ed7953"
            ],
            [
             0.7777777777777778,
             "#fb9f3a"
            ],
            [
             0.8888888888888888,
             "#fdca26"
            ],
            [
             1,
             "#f0f921"
            ]
           ]
          },
          "colorway": [
           "#636efa",
           "#EF553B",
           "#00cc96",
           "#ab63fa",
           "#FFA15A",
           "#19d3f3",
           "#FF6692",
           "#B6E880",
           "#FF97FF",
           "#FECB52"
          ],
          "font": {
           "color": "#2a3f5f"
          },
          "geo": {
           "bgcolor": "white",
           "lakecolor": "white",
           "landcolor": "#E5ECF6",
           "showlakes": true,
           "showland": true,
           "subunitcolor": "white"
          },
          "hoverlabel": {
           "align": "left"
          },
          "hovermode": "closest",
          "mapbox": {
           "style": "light"
          },
          "paper_bgcolor": "white",
          "plot_bgcolor": "#E5ECF6",
          "polar": {
           "angularaxis": {
            "gridcolor": "white",
            "linecolor": "white",
            "ticks": ""
           },
           "bgcolor": "#E5ECF6",
           "radialaxis": {
            "gridcolor": "white",
            "linecolor": "white",
            "ticks": ""
           }
          },
          "scene": {
           "xaxis": {
            "backgroundcolor": "#E5ECF6",
            "gridcolor": "white",
            "gridwidth": 2,
            "linecolor": "white",
            "showbackground": true,
            "ticks": "",
            "zerolinecolor": "white"
           },
           "yaxis": {
            "backgroundcolor": "#E5ECF6",
            "gridcolor": "white",
            "gridwidth": 2,
            "linecolor": "white",
            "showbackground": true,
            "ticks": "",
            "zerolinecolor": "white"
           },
           "zaxis": {
            "backgroundcolor": "#E5ECF6",
            "gridcolor": "white",
            "gridwidth": 2,
            "linecolor": "white",
            "showbackground": true,
            "ticks": "",
            "zerolinecolor": "white"
           }
          },
          "shapedefaults": {
           "line": {
            "color": "#2a3f5f"
           }
          },
          "ternary": {
           "aaxis": {
            "gridcolor": "white",
            "linecolor": "white",
            "ticks": ""
           },
           "baxis": {
            "gridcolor": "white",
            "linecolor": "white",
            "ticks": ""
           },
           "bgcolor": "#E5ECF6",
           "caxis": {
            "gridcolor": "white",
            "linecolor": "white",
            "ticks": ""
           }
          },
          "title": {
           "x": 0.05
          },
          "xaxis": {
           "automargin": true,
           "gridcolor": "white",
           "linecolor": "white",
           "ticks": "",
           "title": {
            "standoff": 15
           },
           "zerolinecolor": "white",
           "zerolinewidth": 2
          },
          "yaxis": {
           "automargin": true,
           "gridcolor": "white",
           "linecolor": "white",
           "ticks": "",
           "title": {
            "standoff": 15
           },
           "zerolinecolor": "white",
           "zerolinewidth": 2
          }
         }
        },
        "title": {
         "text": "Hyperparameter Importances"
        },
        "xaxis": {
         "title": {
          "text": "Importance for Objective Value"
         }
        },
        "yaxis": {
         "title": {
          "text": "Hyperparameter"
         }
        }
       }
      }
     },
     "metadata": {},
     "output_type": "display_data"
    },
    {
     "data": {
      "application/vnd.plotly.v1+json": {
       "config": {
        "plotlyServerURL": "https://plot.ly"
       },
       "data": [
        {
         "marker": {
          "color": [
           0,
           1,
           2,
           3,
           4,
           5,
           6,
           7,
           8,
           9,
           10,
           11,
           12,
           13,
           14,
           15,
           16,
           17,
           18,
           19,
           20,
           21,
           22,
           23,
           24,
           25,
           26,
           27,
           28,
           29,
           30,
           31,
           32,
           33,
           34,
           35,
           36,
           37,
           38,
           39,
           40,
           41,
           42,
           43,
           44,
           45,
           46,
           47,
           48,
           49,
           50,
           51,
           52,
           53,
           54,
           55,
           56,
           57,
           58,
           59,
           60,
           61,
           62,
           63,
           64,
           65,
           66,
           67,
           68,
           69,
           70,
           71,
           72,
           73,
           74,
           75,
           76,
           77,
           78,
           79,
           80,
           81,
           82,
           83,
           84,
           85,
           86,
           87,
           88,
           89,
           90,
           91,
           92,
           93,
           94,
           95,
           96,
           97,
           98,
           99,
           100,
           101,
           102,
           103,
           104,
           105,
           106,
           107,
           108,
           109,
           110,
           111,
           112,
           113,
           114,
           115,
           116,
           117,
           118,
           119,
           120,
           121,
           122,
           123,
           124,
           125,
           126,
           127,
           128,
           129,
           130,
           131,
           132,
           133,
           134,
           135,
           136,
           137,
           138,
           139,
           140,
           141,
           142,
           143,
           144,
           145,
           146,
           147,
           148,
           149,
           150,
           151,
           152,
           153,
           154,
           155,
           156,
           157,
           158,
           159,
           160,
           161,
           162,
           163,
           164,
           165,
           166,
           167,
           168,
           169,
           170,
           171,
           172,
           173,
           174,
           175,
           176,
           177,
           178,
           179,
           180,
           181,
           182,
           183,
           184,
           185,
           186,
           187,
           188,
           189,
           190,
           191,
           192,
           193,
           194,
           195,
           196,
           197,
           198,
           199
          ],
          "colorbar": {
           "title": {
            "text": "#Trials"
           },
           "x": 1,
           "xpad": 40
          },
          "colorscale": [
           [
            0,
            "rgb(247,251,255)"
           ],
           [
            0.125,
            "rgb(222,235,247)"
           ],
           [
            0.25,
            "rgb(198,219,239)"
           ],
           [
            0.375,
            "rgb(158,202,225)"
           ],
           [
            0.5,
            "rgb(107,174,214)"
           ],
           [
            0.625,
            "rgb(66,146,198)"
           ],
           [
            0.75,
            "rgb(33,113,181)"
           ],
           [
            0.875,
            "rgb(8,81,156)"
           ],
           [
            1,
            "rgb(8,48,107)"
           ]
          ],
          "line": {
           "color": "Grey",
           "width": 0.5
          },
          "showscale": true
         },
         "mode": "markers",
         "showlegend": false,
         "type": "scatter",
         "x": [
          0.45430752272977337,
          0.42441428397334857,
          0.5413656701207811,
          0.3081264844164878,
          0.9525074867034767,
          0.9269554322832195,
          0.926948299536022,
          0.33989930088830217,
          0.748398068107787,
          0.5044049614082222,
          0.5788564660470025,
          0.3972224890067574,
          0.4560970321359542,
          0.7359597977080681,
          0.6725254962807654,
          0.8799042170628926,
          0.8256072520273198,
          0.1224753794359339,
          0.13354820006301205,
          0.17225964845979946,
          0.15326905905407207,
          0.11155565379430282,
          0.17538777329848376,
          0.1458970397767646,
          0.1213446359032333,
          0.23490194697044237,
          0.5994430187158055,
          0.588609251483347,
          0.6120747167350665,
          0.5891755892645618,
          0.5967378135615641,
          0.5892076208494896,
          0.581476197973649,
          0.6075801635571685,
          0.6352045501035902,
          0.6045629278131681,
          0.634376621952807,
          0.6051451058391464,
          0.6461867882608864,
          0.6544031411066499,
          0.6636925736865109,
          0.6756161923024668,
          0.6849131640174747,
          0.5042241731386892,
          0.5227297846114145,
          0.5185174906455278,
          0.5178374166020244,
          0.5196806116272,
          0.7421820945920825,
          0.5201009946663682,
          0.7311666622298313,
          0.48436221248292155,
          0.7068864508328596,
          0.4612790665412233,
          0.4809685544123632,
          0.464940731419049,
          0.42983549391091214,
          0.4594046773365309,
          0.43972136770509446,
          0.4515036926413395,
          0.3956617038911273,
          0.7971016342276189,
          0.40539435912255856,
          0.7758928459078722,
          0.38165683747231727,
          0.8079691810077707,
          0.3914029569021124,
          0.7813691597541335,
          0.8129714592455747,
          0.7912470930858784,
          0.8540487982499708,
          0.8175126538471139,
          0.8324672956997136,
          0.5569560589662937,
          0.8661630956409109,
          0.8674870852541565,
          0.9984369812115204,
          0.7097639055975938,
          0.5684768092443278,
          0.5536778587023662,
          0.7133623638665525,
          0.7130618627206661,
          0.7101898777777377,
          0.7026656092629755,
          0.556384726253499,
          0.5537834639119171,
          0.8976251773007518,
          0.8949055434221455,
          0.5635354440403489,
          0.5504091390380987,
          0.906346319987914,
          0.9022637878537692,
          0.7295133499681187,
          0.7502960884684144,
          0.7570222589639528,
          0.7478838447529462,
          0.7501794446600557,
          0.7501918042867887,
          0.7612296509769912,
          0.9265159153087342,
          0.9356598755654655,
          0.9431047093221484,
          0.9346729149731475,
          0.9349497995088529,
          0.9283948613053912,
          0.9336862354912345,
          0.9532263778879054,
          0.9372986238861137,
          0.6934575963139101,
          0.9789662415744452,
          0.974202187599768,
          0.9050087952349428,
          0.9702276629779536,
          0.9601175193758328,
          0.9762729891304726,
          0.975798932183924,
          0.971588361254669,
          0.9690746581024126,
          0.9039596372548712,
          0.9077718709662455,
          0.9051594049267573,
          0.9070079518076167,
          0.8973492201138733,
          0.9085963379057393,
          0.9019114299968839,
          0.9115827778293843,
          0.9152869334578375,
          0.8497097831334451,
          0.8436141120570088,
          0.8418234974901069,
          0.8400211044751258,
          0.8526195498656396,
          0.8394626693656351,
          0.8531534749095213,
          0.8453678582281399,
          0.8340053825981013,
          0.9997755945247777,
          0.8775130173091331,
          0.8784297050023219,
          0.8735046309333259,
          0.8817325287289377,
          0.8721847949518591,
          0.8782457380761381,
          0.8691052866265866,
          0.8765449465595971,
          0.8766943674695545,
          0.8748713565332282,
          0.8784388149136823,
          0.8589071728011987,
          0.9243302948128974,
          0.8572002396780904,
          0.9201326564636496,
          0.918672770983813,
          0.9493659090633833,
          0.9444870630718074,
          0.9468486123052859,
          0.9452725061513999,
          0.9226772705227357,
          0.9445331231049594,
          0.8110569881203574,
          0.9490709510601113,
          0.9496074326452509,
          0.8052358536278463,
          0.8290505396247816,
          0.8014555178369419,
          0.9302113565560739,
          0.8284472687956554,
          0.9292943151819347,
          0.9243133892637811,
          0.9323885527286587,
          0.891376053470361,
          0.9329105741377693,
          0.7855065161037269,
          0.7926916408159034,
          0.799055900728509,
          0.7946069665201673,
          0.7894027969924371,
          0.8019175698169113,
          0.8039618548137516,
          0.8190475017042056,
          0.7974289975917215,
          0.7739747564292816,
          0.7951694547802949,
          0.7840610979102757,
          0.7800520883786548,
          0.7993277066248515,
          0.7951744684850293,
          0.7697947936002504,
          0.8018040256046551,
          0.7791116637722868,
          0.8233212446424657,
          0.809979343053922,
          0.8188548809559228,
          0.824852050934746,
          0.8164277461489565,
          0.8171016404444488,
          0.8168423522993056,
          0.8071833309718024,
          0.806530257949132,
          0.8165570371407522
         ],
         "xaxis": "x",
         "y": [
          0.8697333695869662,
          0.8343887017369023,
          0.8724283026962679,
          0.8371493776138038,
          0.8324038308072138,
          0.7928429211416071,
          0.726482938562997,
          0.7039683532221055,
          0.7879925467962872,
          0.852574838157396,
          0.742746596613264,
          0.664058399937467,
          0.726550421972443,
          0.8687697886929644,
          0.42102732549775557,
          0.8724883764319697,
          0.8596488799861819,
          0.8538968116330924,
          0.8398629347441615,
          0.852345110144723,
          0.8123676566794081,
          0.8044800552938014,
          0.8481949393826929,
          0.8627617780487922,
          0.8332955929518084,
          0.8635315322176871,
          0.8845964362403608,
          0.884202364108609,
          0.8782260404137723,
          0.8622714338092983,
          0.8606647995384031,
          0.8608208327715985,
          0.8764435821670421,
          0.8746170067402741,
          0.8731172816343076,
          0.8769094781136811,
          0.8467642410957555,
          0.8465127873096098,
          0.8730626526193219,
          0.8718175640185757,
          0.8699661581900529,
          0.8776323091053356,
          0.8769789529901597,
          0.8787026660357485,
          0.8823530339097652,
          0.8796390355855014,
          0.8817371811581397,
          0.8801238209426717,
          0.8311622722655981,
          0.8184509487476752,
          0.8841087722344192,
          0.8816148531456118,
          0.8850928345354762,
          0.7503288437057085,
          0.880839317175027,
          0.8805603056570869,
          0.7283004796121253,
          0.5554651671869262,
          0.7419839178730845,
          0.7282774347881676,
          0.874545907292716,
          0.8832249492071291,
          0.875337225328723,
          0.8716104587508878,
          0.8685445980614134,
          0.8707373990740532,
          0.8659371186670665,
          0.8730733160425576,
          0.8734490862061556,
          0.8722843556928146,
          0.8251067215151018,
          0.8836418040493706,
          0.8303195182547627,
          0.8317431120666601,
          0.829292219051499,
          0.8320992126572836,
          0.8303124665729837,
          0.8749651726914944,
          0.8821621257740537,
          0.8822988051290684,
          0.885442744598816,
          0.8815719925990726,
          0.8743685946683547,
          0.8851299916719917,
          0.8832829029741314,
          0.8795618936619343,
          0.8805964670686418,
          0.8844025162427135,
          0.8815203981476,
          0.8830814105411295,
          0.8866263893117683,
          0.8861304759674568,
          0.8850247544163695,
          0.8847778021195716,
          0.8846223442950756,
          0.8808562878504645,
          0.8837638679800218,
          0.8832889719781439,
          0.8844328732276084,
          0.8853738361319925,
          0.8864388943394752,
          0.8859736474884704,
          0.8844233034181057,
          0.8813158066248448,
          0.8839017713528591,
          0.885972655368246,
          0.8845951428175407,
          0.885113315349407,
          0.884659973370433,
          0.8844649184261956,
          0.8836373735714439,
          0.8871269772682592,
          0.8816876771291458,
          0.8710122362922732,
          0.8817057697990937,
          0.8720552202999923,
          0.8715086451264863,
          0.8707895644861109,
          0.8697556317685043,
          0.8810083403764676,
          0.8831146025945686,
          0.8814469969853101,
          0.8849902076222896,
          0.8857461173522909,
          0.8843657365503258,
          0.8852856056937703,
          0.8856824678628517,
          0.8859411464220424,
          0.8844127188175064,
          0.8845341785673491,
          0.8859102423588034,
          0.8854202604488013,
          0.8871866105161462,
          0.8839643995587416,
          0.8855764927307648,
          0.883523422859129,
          0.8513038748050379,
          0.8530207569161383,
          0.8874825138168487,
          0.8393885439488257,
          0.8852535996745953,
          0.8506436988876136,
          0.8494885927202326,
          0.8511756941095449,
          0.8506682010936124,
          0.8493895133185518,
          0.885875081718616,
          0.8782753702508608,
          0.8861445965491335,
          0.8868671580665961,
          0.8878865302371544,
          0.8866097411152714,
          0.8852759266644071,
          0.88419271050085,
          0.8835370908529555,
          0.8823529149377041,
          0.8860792617673336,
          0.8859104219063021,
          0.8513080030168355,
          0.8851830901541955,
          0.8885290981596754,
          0.8882088532595084,
          0.8883463994343778,
          0.8892500079359404,
          0.8888693480074407,
          0.8625767224479828,
          0.887796283009903,
          0.8874556160192102,
          0.8872599242505388,
          0.8891665204996357,
          0.8874195730670872,
          0.8887955464471974,
          0.8872011939695736,
          0.8882347308608048,
          0.8881623779687151,
          0.8886203496187373,
          0.8885332604598102,
          0.8901887955873724,
          0.8884577841731037,
          0.8894172395402524,
          0.8891885037448543,
          0.8860646574461011,
          0.8887930924455676,
          0.8882736604218581,
          0.8880939220429832,
          0.8469513565367643,
          0.8497630075979419,
          0.8655950827352686,
          0.8885538466179994,
          0.8875850665143055,
          0.8880008978744348,
          0.8885622860045386,
          0.888668255339476,
          0.8758547036024573,
          0.8890414567628838,
          0.8877532755481145,
          0.8773786483609728,
          0.8880974438687399,
          0.8886433074584381,
          0.888960116316644
         ],
         "yaxis": "y"
        },
        {
         "marker": {
          "color": [
           0,
           1,
           2,
           3,
           4,
           5,
           6,
           7,
           8,
           9,
           10,
           11,
           12,
           13,
           14,
           15,
           16,
           17,
           18,
           19,
           20,
           21,
           22,
           23,
           24,
           25,
           26,
           27,
           28,
           29,
           30,
           31,
           32,
           33,
           34,
           35,
           36,
           37,
           38,
           39,
           40,
           41,
           42,
           43,
           44,
           45,
           46,
           47,
           48,
           49,
           50,
           51,
           52,
           53,
           54,
           55,
           56,
           57,
           58,
           59,
           60,
           61,
           62,
           63,
           64,
           65,
           66,
           67,
           68,
           69,
           70,
           71,
           72,
           73,
           74,
           75,
           76,
           77,
           78,
           79,
           80,
           81,
           82,
           83,
           84,
           85,
           86,
           87,
           88,
           89,
           90,
           91,
           92,
           93,
           94,
           95,
           96,
           97,
           98,
           99,
           100,
           101,
           102,
           103,
           104,
           105,
           106,
           107,
           108,
           109,
           110,
           111,
           112,
           113,
           114,
           115,
           116,
           117,
           118,
           119,
           120,
           121,
           122,
           123,
           124,
           125,
           126,
           127,
           128,
           129,
           130,
           131,
           132,
           133,
           134,
           135,
           136,
           137,
           138,
           139,
           140,
           141,
           142,
           143,
           144,
           145,
           146,
           147,
           148,
           149,
           150,
           151,
           152,
           153,
           154,
           155,
           156,
           157,
           158,
           159,
           160,
           161,
           162,
           163,
           164,
           165,
           166,
           167,
           168,
           169,
           170,
           171,
           172,
           173,
           174,
           175,
           176,
           177,
           178,
           179,
           180,
           181,
           182,
           183,
           184,
           185,
           186,
           187,
           188,
           189,
           190,
           191,
           192,
           193,
           194,
           195,
           196,
           197,
           198,
           199
          ],
          "colorbar": {
           "title": {
            "text": "#Trials"
           },
           "x": 1,
           "xpad": 40
          },
          "colorscale": [
           [
            0,
            "rgb(247,251,255)"
           ],
           [
            0.125,
            "rgb(222,235,247)"
           ],
           [
            0.25,
            "rgb(198,219,239)"
           ],
           [
            0.375,
            "rgb(158,202,225)"
           ],
           [
            0.5,
            "rgb(107,174,214)"
           ],
           [
            0.625,
            "rgb(66,146,198)"
           ],
           [
            0.75,
            "rgb(33,113,181)"
           ],
           [
            0.875,
            "rgb(8,81,156)"
           ],
           [
            1,
            "rgb(8,48,107)"
           ]
          ],
          "line": {
           "color": "Grey",
           "width": 0.5
          },
          "showscale": false
         },
         "mode": "markers",
         "showlegend": false,
         "type": "scatter",
         "x": [
          4.243593864579479,
          0.08927284877856026,
          0.4287103031687064,
          0.016345081739063502,
          2.8601461412265836,
          8.7193898243569,
          0.06350458373562959,
          0.27802164323125933,
          0.12088457749122038,
          0.20259784450282736,
          0.13952139088175156,
          0.7017664206002028,
          1.370109196507918,
          0.0642531863937813,
          5.425367564065905,
          0.35330693387671636,
          2.948629336320145,
          1.0931720880484053,
          0.9972154355485828,
          0.5564284148341339,
          0.8506588778877031,
          0.9458235876667808,
          0.6753702613185388,
          0.6703757075104698,
          0.6468149083724172,
          0.558775873953424,
          0.03507849053427484,
          0.023759026893382364,
          0.021740501568832518,
          0.027274315189978342,
          0.03586506810325151,
          0.026950246716532327,
          0.018090723658337176,
          0.027281132526453797,
          0.01117769986973985,
          0.0203911964134061,
          0.010727166028539995,
          0.027962502879456497,
          0.010113921064403886,
          0.011556474277183103,
          0.010116875641647245,
          0.0102244964521256,
          0.012019774701411865,
          0.01826736648030385,
          0.04542863420252493,
          0.018255962832742393,
          0.0483974820813533,
          0.04766131464560651,
          0.051821613919243927,
          0.04417714099957695,
          0.01775693830483341,
          0.016363326485850354,
          0.015421550992908309,
          0.0761658430155179,
          0.09492808291563354,
          0.08437927710240004,
          0.08573323888345447,
          0.10060277529437263,
          0.07031881697102826,
          0.08431543780969036,
          0.0775730184016709,
          0.07094273597375317,
          0.1604841685863035,
          0.19595971884442545,
          0.1688642473389229,
          0.03964951870662803,
          0.20389632915325265,
          0.16214571312461692,
          0.014592139023108993,
          0.03672393344941319,
          0.03682883163694119,
          0.035829321467899064,
          0.03874301934582317,
          0.03437455381283181,
          0.0578212228082703,
          0.03522271572708449,
          0.037433877109491115,
          0.05750268844682605,
          0.02256964766677682,
          0.015256331842607577,
          0.02350051527412943,
          0.022742011854705164,
          0.014686699804693955,
          0.021998851539299296,
          0.029612765549844614,
          0.022053184743299117,
          0.024180849562057335,
          0.023994770120375424,
          0.02343715283086293,
          0.024191299986311244,
          0.013503069937528771,
          0.029959740073575294,
          0.03016948229613128,
          0.027475517216995805,
          0.02892085441759411,
          0.013974833340812188,
          0.02962113384596674,
          0.012903620214092389,
          0.030447026373975974,
          0.0130209816893849,
          0.01351859503179193,
          0.012307096941385876,
          0.01330154771426808,
          0.012882123777746703,
          0.019545645559744786,
          0.019493073320576045,
          0.019094938027327226,
          0.01927325751634837,
          0.019246737009336528,
          0.01995916948558386,
          0.017050439014531765,
          0.018507046369924174,
          0.017733571868333978,
          0.016694261397521858,
          0.016946068561391033,
          0.017462215440824217,
          0.01705342383125384,
          1.575635769907712,
          1.5058384047840683,
          0.01129454400437708,
          0.011762350611928405,
          0.011603292239440162,
          1.624756111125518,
          0.01136691753455269,
          0.011372493217965792,
          0.012428084888900489,
          0.011043371243379327,
          0.012615459263501395,
          8.02326565986493,
          0.3318813216481968,
          4.687330738765319,
          3.8178109732705288,
          0.014742273207061063,
          0.013418023568882454,
          0.010699391560737296,
          0.010016675592883916,
          0.010098305638801316,
          0.3403087517334814,
          2.2841490455094067,
          3.115008460834785,
          0.013933317121079921,
          4.777498108783734,
          3.5568990917643832,
          2.1539836626928643,
          6.281540649311866,
          5.829955878292349,
          2.666689029285043,
          6.836556183258678,
          4.05842617239988,
          3.7857157390359406,
          6.9939059437683175,
          5.570216076044625,
          3.7391208974728225,
          5.656371378697171,
          2.4850581915878935,
          0.01520346821891487,
          2.0847755258988796,
          4.835561926775646,
          2.504866184129515,
          4.560420868687466,
          4.718090736393265,
          4.803515243688152,
          4.860275093415614,
          7.563047444712488,
          4.641094831144169,
          4.600234705254448,
          4.47777771916942,
          4.69633306882,
          4.95105295698944,
          7.1019084627470885,
          7.366259731304961,
          7.589214043370396,
          9.212582390941952,
          7.625244574440466,
          7.217906102399302,
          9.998085024339225,
          8.872049068096622,
          9.154729564483125,
          9.487416698476476,
          9.307553359176598,
          9.142319440472544,
          9.801394629146861,
          9.684492626171988,
          9.894936687687693,
          9.879646362145776,
          7.70766869423024,
          7.567008424924024,
          9.992949033398032,
          9.872848577582596,
          8.15469063917053,
          9.886676132404856,
          8.377874862815645,
          8.282086909776574,
          8.46208777503416,
          8.448796546562976,
          8.48852332225729,
          8.61497542813286,
          8.654658248771131,
          6.611357427977003,
          8.899571309057848
         ],
         "xaxis": "x2",
         "y": [
          0.8697333695869662,
          0.8343887017369023,
          0.8724283026962679,
          0.8371493776138038,
          0.8324038308072138,
          0.7928429211416071,
          0.726482938562997,
          0.7039683532221055,
          0.7879925467962872,
          0.852574838157396,
          0.742746596613264,
          0.664058399937467,
          0.726550421972443,
          0.8687697886929644,
          0.42102732549775557,
          0.8724883764319697,
          0.8596488799861819,
          0.8538968116330924,
          0.8398629347441615,
          0.852345110144723,
          0.8123676566794081,
          0.8044800552938014,
          0.8481949393826929,
          0.8627617780487922,
          0.8332955929518084,
          0.8635315322176871,
          0.8845964362403608,
          0.884202364108609,
          0.8782260404137723,
          0.8622714338092983,
          0.8606647995384031,
          0.8608208327715985,
          0.8764435821670421,
          0.8746170067402741,
          0.8731172816343076,
          0.8769094781136811,
          0.8467642410957555,
          0.8465127873096098,
          0.8730626526193219,
          0.8718175640185757,
          0.8699661581900529,
          0.8776323091053356,
          0.8769789529901597,
          0.8787026660357485,
          0.8823530339097652,
          0.8796390355855014,
          0.8817371811581397,
          0.8801238209426717,
          0.8311622722655981,
          0.8184509487476752,
          0.8841087722344192,
          0.8816148531456118,
          0.8850928345354762,
          0.7503288437057085,
          0.880839317175027,
          0.8805603056570869,
          0.7283004796121253,
          0.5554651671869262,
          0.7419839178730845,
          0.7282774347881676,
          0.874545907292716,
          0.8832249492071291,
          0.875337225328723,
          0.8716104587508878,
          0.8685445980614134,
          0.8707373990740532,
          0.8659371186670665,
          0.8730733160425576,
          0.8734490862061556,
          0.8722843556928146,
          0.8251067215151018,
          0.8836418040493706,
          0.8303195182547627,
          0.8317431120666601,
          0.829292219051499,
          0.8320992126572836,
          0.8303124665729837,
          0.8749651726914944,
          0.8821621257740537,
          0.8822988051290684,
          0.885442744598816,
          0.8815719925990726,
          0.8743685946683547,
          0.8851299916719917,
          0.8832829029741314,
          0.8795618936619343,
          0.8805964670686418,
          0.8844025162427135,
          0.8815203981476,
          0.8830814105411295,
          0.8866263893117683,
          0.8861304759674568,
          0.8850247544163695,
          0.8847778021195716,
          0.8846223442950756,
          0.8808562878504645,
          0.8837638679800218,
          0.8832889719781439,
          0.8844328732276084,
          0.8853738361319925,
          0.8864388943394752,
          0.8859736474884704,
          0.8844233034181057,
          0.8813158066248448,
          0.8839017713528591,
          0.885972655368246,
          0.8845951428175407,
          0.885113315349407,
          0.884659973370433,
          0.8844649184261956,
          0.8836373735714439,
          0.8871269772682592,
          0.8816876771291458,
          0.8710122362922732,
          0.8817057697990937,
          0.8720552202999923,
          0.8715086451264863,
          0.8707895644861109,
          0.8697556317685043,
          0.8810083403764676,
          0.8831146025945686,
          0.8814469969853101,
          0.8849902076222896,
          0.8857461173522909,
          0.8843657365503258,
          0.8852856056937703,
          0.8856824678628517,
          0.8859411464220424,
          0.8844127188175064,
          0.8845341785673491,
          0.8859102423588034,
          0.8854202604488013,
          0.8871866105161462,
          0.8839643995587416,
          0.8855764927307648,
          0.883523422859129,
          0.8513038748050379,
          0.8530207569161383,
          0.8874825138168487,
          0.8393885439488257,
          0.8852535996745953,
          0.8506436988876136,
          0.8494885927202326,
          0.8511756941095449,
          0.8506682010936124,
          0.8493895133185518,
          0.885875081718616,
          0.8782753702508608,
          0.8861445965491335,
          0.8868671580665961,
          0.8878865302371544,
          0.8866097411152714,
          0.8852759266644071,
          0.88419271050085,
          0.8835370908529555,
          0.8823529149377041,
          0.8860792617673336,
          0.8859104219063021,
          0.8513080030168355,
          0.8851830901541955,
          0.8885290981596754,
          0.8882088532595084,
          0.8883463994343778,
          0.8892500079359404,
          0.8888693480074407,
          0.8625767224479828,
          0.887796283009903,
          0.8874556160192102,
          0.8872599242505388,
          0.8891665204996357,
          0.8874195730670872,
          0.8887955464471974,
          0.8872011939695736,
          0.8882347308608048,
          0.8881623779687151,
          0.8886203496187373,
          0.8885332604598102,
          0.8901887955873724,
          0.8884577841731037,
          0.8894172395402524,
          0.8891885037448543,
          0.8860646574461011,
          0.8887930924455676,
          0.8882736604218581,
          0.8880939220429832,
          0.8469513565367643,
          0.8497630075979419,
          0.8655950827352686,
          0.8885538466179994,
          0.8875850665143055,
          0.8880008978744348,
          0.8885622860045386,
          0.888668255339476,
          0.8758547036024573,
          0.8890414567628838,
          0.8877532755481145,
          0.8773786483609728,
          0.8880974438687399,
          0.8886433074584381,
          0.888960116316644
         ],
         "yaxis": "y2"
        },
        {
         "marker": {
          "color": [
           0,
           1,
           2,
           3,
           4,
           5,
           6,
           7,
           8,
           9,
           10,
           11,
           12,
           13,
           14,
           15,
           16,
           17,
           18,
           19,
           20,
           21,
           22,
           23,
           24,
           25,
           26,
           27,
           28,
           29,
           30,
           31,
           32,
           33,
           34,
           35,
           36,
           37,
           38,
           39,
           40,
           41,
           42,
           43,
           44,
           45,
           46,
           47,
           48,
           49,
           50,
           51,
           52,
           53,
           54,
           55,
           56,
           57,
           58,
           59,
           60,
           61,
           62,
           63,
           64,
           65,
           66,
           67,
           68,
           69,
           70,
           71,
           72,
           73,
           74,
           75,
           76,
           77,
           78,
           79,
           80,
           81,
           82,
           83,
           84,
           85,
           86,
           87,
           88,
           89,
           90,
           91,
           92,
           93,
           94,
           95,
           96,
           97,
           98,
           99,
           100,
           101,
           102,
           103,
           104,
           105,
           106,
           107,
           108,
           109,
           110,
           111,
           112,
           113,
           114,
           115,
           116,
           117,
           118,
           119,
           120,
           121,
           122,
           123,
           124,
           125,
           126,
           127,
           128,
           129,
           130,
           131,
           132,
           133,
           134,
           135,
           136,
           137,
           138,
           139,
           140,
           141,
           142,
           143,
           144,
           145,
           146,
           147,
           148,
           149,
           150,
           151,
           152,
           153,
           154,
           155,
           156,
           157,
           158,
           159,
           160,
           161,
           162,
           163,
           164,
           165,
           166,
           167,
           168,
           169,
           170,
           171,
           172,
           173,
           174,
           175,
           176,
           177,
           178,
           179,
           180,
           181,
           182,
           183,
           184,
           185,
           186,
           187,
           188,
           189,
           190,
           191,
           192,
           193,
           194,
           195,
           196,
           197,
           198,
           199
          ],
          "colorbar": {
           "title": {
            "text": "#Trials"
           },
           "x": 1,
           "xpad": 40
          },
          "colorscale": [
           [
            0,
            "rgb(247,251,255)"
           ],
           [
            0.125,
            "rgb(222,235,247)"
           ],
           [
            0.25,
            "rgb(198,219,239)"
           ],
           [
            0.375,
            "rgb(158,202,225)"
           ],
           [
            0.5,
            "rgb(107,174,214)"
           ],
           [
            0.625,
            "rgb(66,146,198)"
           ],
           [
            0.75,
            "rgb(33,113,181)"
           ],
           [
            0.875,
            "rgb(8,81,156)"
           ],
           [
            1,
            "rgb(8,48,107)"
           ]
          ],
          "line": {
           "color": "Grey",
           "width": 0.5
          },
          "showscale": false
         },
         "mode": "markers",
         "showlegend": false,
         "type": "scatter",
         "x": [
          0.03,
          0.01,
          0.03,
          0.3,
          0.1,
          0.03,
          0.03,
          0.01,
          0.03,
          0.3,
          0.01,
          0.03,
          0.01,
          0.03,
          0.01,
          0.03,
          0.3,
          0.1,
          0.3,
          0.3,
          0.03,
          0.03,
          0.03,
          0.1,
          0.1,
          0.1,
          0.1,
          0.1,
          0.03,
          0.03,
          0.03,
          0.03,
          0.1,
          0.1,
          0.1,
          0.1,
          0.1,
          0.1,
          0.1,
          0.1,
          0.1,
          0.1,
          0.1,
          0.1,
          0.1,
          0.1,
          0.1,
          0.1,
          0.1,
          0.1,
          0.1,
          0.1,
          0.1,
          0.01,
          0.1,
          0.1,
          0.01,
          0.01,
          0.01,
          0.01,
          0.1,
          0.1,
          0.1,
          0.3,
          0.3,
          0.3,
          0.3,
          0.3,
          0.3,
          0.3,
          0.1,
          0.1,
          0.1,
          0.1,
          0.1,
          0.1,
          0.1,
          0.1,
          0.1,
          0.1,
          0.1,
          0.1,
          0.1,
          0.1,
          0.1,
          0.1,
          0.1,
          0.1,
          0.1,
          0.1,
          0.1,
          0.1,
          0.1,
          0.1,
          0.1,
          0.1,
          0.1,
          0.1,
          0.1,
          0.1,
          0.1,
          0.1,
          0.1,
          0.1,
          0.1,
          0.1,
          0.1,
          0.1,
          0.1,
          0.1,
          0.1,
          0.1,
          0.1,
          0.03,
          0.1,
          0.03,
          0.03,
          0.03,
          0.03,
          0.03,
          0.1,
          0.1,
          0.1,
          0.1,
          0.1,
          0.1,
          0.1,
          0.1,
          0.1,
          0.1,
          0.1,
          0.1,
          0.1,
          0.1,
          0.1,
          0.1,
          0.01,
          0.01,
          0.1,
          0.01,
          0.1,
          0.01,
          0.01,
          0.01,
          0.01,
          0.01,
          0.1,
          0.1,
          0.1,
          0.1,
          0.1,
          0.1,
          0.1,
          0.1,
          0.1,
          0.1,
          0.1,
          0.1,
          0.1,
          0.1,
          0.1,
          0.1,
          0.1,
          0.1,
          0.1,
          0.1,
          0.1,
          0.1,
          0.1,
          0.1,
          0.1,
          0.1,
          0.1,
          0.1,
          0.1,
          0.1,
          0.1,
          0.1,
          0.1,
          0.1,
          0.1,
          0.1,
          0.1,
          0.1,
          0.1,
          0.1,
          0.1,
          0.3,
          0.1,
          0.1,
          0.1,
          0.1,
          0.1,
          0.1,
          0.1,
          0.1,
          0.1,
          0.1,
          0.1,
          0.1
         ],
         "xaxis": "x3",
         "y": [
          0.8697333695869662,
          0.8343887017369023,
          0.8724283026962679,
          0.8371493776138038,
          0.8324038308072138,
          0.7928429211416071,
          0.726482938562997,
          0.7039683532221055,
          0.7879925467962872,
          0.852574838157396,
          0.742746596613264,
          0.664058399937467,
          0.726550421972443,
          0.8687697886929644,
          0.42102732549775557,
          0.8724883764319697,
          0.8596488799861819,
          0.8538968116330924,
          0.8398629347441615,
          0.852345110144723,
          0.8123676566794081,
          0.8044800552938014,
          0.8481949393826929,
          0.8627617780487922,
          0.8332955929518084,
          0.8635315322176871,
          0.8845964362403608,
          0.884202364108609,
          0.8782260404137723,
          0.8622714338092983,
          0.8606647995384031,
          0.8608208327715985,
          0.8764435821670421,
          0.8746170067402741,
          0.8731172816343076,
          0.8769094781136811,
          0.8467642410957555,
          0.8465127873096098,
          0.8730626526193219,
          0.8718175640185757,
          0.8699661581900529,
          0.8776323091053356,
          0.8769789529901597,
          0.8787026660357485,
          0.8823530339097652,
          0.8796390355855014,
          0.8817371811581397,
          0.8801238209426717,
          0.8311622722655981,
          0.8184509487476752,
          0.8841087722344192,
          0.8816148531456118,
          0.8850928345354762,
          0.7503288437057085,
          0.880839317175027,
          0.8805603056570869,
          0.7283004796121253,
          0.5554651671869262,
          0.7419839178730845,
          0.7282774347881676,
          0.874545907292716,
          0.8832249492071291,
          0.875337225328723,
          0.8716104587508878,
          0.8685445980614134,
          0.8707373990740532,
          0.8659371186670665,
          0.8730733160425576,
          0.8734490862061556,
          0.8722843556928146,
          0.8251067215151018,
          0.8836418040493706,
          0.8303195182547627,
          0.8317431120666601,
          0.829292219051499,
          0.8320992126572836,
          0.8303124665729837,
          0.8749651726914944,
          0.8821621257740537,
          0.8822988051290684,
          0.885442744598816,
          0.8815719925990726,
          0.8743685946683547,
          0.8851299916719917,
          0.8832829029741314,
          0.8795618936619343,
          0.8805964670686418,
          0.8844025162427135,
          0.8815203981476,
          0.8830814105411295,
          0.8866263893117683,
          0.8861304759674568,
          0.8850247544163695,
          0.8847778021195716,
          0.8846223442950756,
          0.8808562878504645,
          0.8837638679800218,
          0.8832889719781439,
          0.8844328732276084,
          0.8853738361319925,
          0.8864388943394752,
          0.8859736474884704,
          0.8844233034181057,
          0.8813158066248448,
          0.8839017713528591,
          0.885972655368246,
          0.8845951428175407,
          0.885113315349407,
          0.884659973370433,
          0.8844649184261956,
          0.8836373735714439,
          0.8871269772682592,
          0.8816876771291458,
          0.8710122362922732,
          0.8817057697990937,
          0.8720552202999923,
          0.8715086451264863,
          0.8707895644861109,
          0.8697556317685043,
          0.8810083403764676,
          0.8831146025945686,
          0.8814469969853101,
          0.8849902076222896,
          0.8857461173522909,
          0.8843657365503258,
          0.8852856056937703,
          0.8856824678628517,
          0.8859411464220424,
          0.8844127188175064,
          0.8845341785673491,
          0.8859102423588034,
          0.8854202604488013,
          0.8871866105161462,
          0.8839643995587416,
          0.8855764927307648,
          0.883523422859129,
          0.8513038748050379,
          0.8530207569161383,
          0.8874825138168487,
          0.8393885439488257,
          0.8852535996745953,
          0.8506436988876136,
          0.8494885927202326,
          0.8511756941095449,
          0.8506682010936124,
          0.8493895133185518,
          0.885875081718616,
          0.8782753702508608,
          0.8861445965491335,
          0.8868671580665961,
          0.8878865302371544,
          0.8866097411152714,
          0.8852759266644071,
          0.88419271050085,
          0.8835370908529555,
          0.8823529149377041,
          0.8860792617673336,
          0.8859104219063021,
          0.8513080030168355,
          0.8851830901541955,
          0.8885290981596754,
          0.8882088532595084,
          0.8883463994343778,
          0.8892500079359404,
          0.8888693480074407,
          0.8625767224479828,
          0.887796283009903,
          0.8874556160192102,
          0.8872599242505388,
          0.8891665204996357,
          0.8874195730670872,
          0.8887955464471974,
          0.8872011939695736,
          0.8882347308608048,
          0.8881623779687151,
          0.8886203496187373,
          0.8885332604598102,
          0.8901887955873724,
          0.8884577841731037,
          0.8894172395402524,
          0.8891885037448543,
          0.8860646574461011,
          0.8887930924455676,
          0.8882736604218581,
          0.8880939220429832,
          0.8469513565367643,
          0.8497630075979419,
          0.8655950827352686,
          0.8885538466179994,
          0.8875850665143055,
          0.8880008978744348,
          0.8885622860045386,
          0.888668255339476,
          0.8758547036024573,
          0.8890414567628838,
          0.8877532755481145,
          0.8773786483609728,
          0.8880974438687399,
          0.8886433074584381,
          0.888960116316644
         ],
         "yaxis": "y3"
        },
        {
         "marker": {
          "color": [
           0,
           1,
           2,
           3,
           4,
           5,
           6,
           7,
           8,
           9,
           10,
           11,
           12,
           13,
           14,
           15,
           16,
           17,
           18,
           19,
           20,
           21,
           22,
           23,
           24,
           25,
           26,
           27,
           28,
           29,
           30,
           31,
           32,
           33,
           34,
           35,
           36,
           37,
           38,
           39,
           40,
           41,
           42,
           43,
           44,
           45,
           46,
           47,
           48,
           49,
           50,
           51,
           52,
           53,
           54,
           55,
           56,
           57,
           58,
           59,
           60,
           61,
           62,
           63,
           64,
           65,
           66,
           67,
           68,
           69,
           70,
           71,
           72,
           73,
           74,
           75,
           76,
           77,
           78,
           79,
           80,
           81,
           82,
           83,
           84,
           85,
           86,
           87,
           88,
           89,
           90,
           91,
           92,
           93,
           94,
           95,
           96,
           97,
           98,
           99,
           100,
           101,
           102,
           103,
           104,
           105,
           106,
           107,
           108,
           109,
           110,
           111,
           112,
           113,
           114,
           115,
           116,
           117,
           118,
           119,
           120,
           121,
           122,
           123,
           124,
           125,
           126,
           127,
           128,
           129,
           130,
           131,
           132,
           133,
           134,
           135,
           136,
           137,
           138,
           139,
           140,
           141,
           142,
           143,
           144,
           145,
           146,
           147,
           148,
           149,
           150,
           151,
           152,
           153,
           154,
           155,
           156,
           157,
           158,
           159,
           160,
           161,
           162,
           163,
           164,
           165,
           166,
           167,
           168,
           169,
           170,
           171,
           172,
           173,
           174,
           175,
           176,
           177,
           178,
           179,
           180,
           181,
           182,
           183,
           184,
           185,
           186,
           187,
           188,
           189,
           190,
           191,
           192,
           193,
           194,
           195,
           196,
           197,
           198,
           199
          ],
          "colorbar": {
           "title": {
            "text": "#Trials"
           },
           "x": 1,
           "xpad": 40
          },
          "colorscale": [
           [
            0,
            "rgb(247,251,255)"
           ],
           [
            0.125,
            "rgb(222,235,247)"
           ],
           [
            0.25,
            "rgb(198,219,239)"
           ],
           [
            0.375,
            "rgb(158,202,225)"
           ],
           [
            0.5,
            "rgb(107,174,214)"
           ],
           [
            0.625,
            "rgb(66,146,198)"
           ],
           [
            0.75,
            "rgb(33,113,181)"
           ],
           [
            0.875,
            "rgb(8,81,156)"
           ],
           [
            1,
            "rgb(8,48,107)"
           ]
          ],
          "line": {
           "color": "Grey",
           "width": 0.5
          },
          "showscale": false
         },
         "mode": "markers",
         "showlegend": false,
         "type": "scatter",
         "x": [
          4,
          5,
          5,
          2,
          4,
          2,
          2,
          2,
          2,
          5,
          5,
          3,
          2,
          4,
          3,
          5,
          2,
          5,
          5,
          5,
          4,
          4,
          4,
          4,
          5,
          5,
          5,
          5,
          4,
          4,
          4,
          4,
          5,
          5,
          5,
          5,
          3,
          3,
          5,
          5,
          5,
          5,
          5,
          5,
          5,
          5,
          5,
          5,
          5,
          5,
          5,
          5,
          5,
          5,
          5,
          5,
          5,
          2,
          5,
          5,
          5,
          5,
          5,
          3,
          3,
          3,
          3,
          3,
          3,
          3,
          2,
          5,
          2,
          2,
          2,
          2,
          2,
          5,
          5,
          5,
          5,
          5,
          5,
          5,
          5,
          5,
          5,
          5,
          5,
          5,
          5,
          5,
          5,
          5,
          5,
          5,
          5,
          5,
          5,
          5,
          5,
          5,
          5,
          5,
          5,
          5,
          5,
          5,
          5,
          5,
          5,
          5,
          4,
          4,
          4,
          4,
          4,
          4,
          4,
          5,
          5,
          5,
          5,
          5,
          5,
          5,
          5,
          5,
          5,
          5,
          5,
          5,
          5,
          5,
          5,
          5,
          5,
          5,
          5,
          5,
          5,
          5,
          5,
          5,
          5,
          5,
          5,
          5,
          5,
          5,
          5,
          5,
          5,
          5,
          5,
          5,
          5,
          5,
          5,
          5,
          5,
          5,
          5,
          5,
          5,
          5,
          5,
          5,
          5,
          5,
          5,
          5,
          5,
          5,
          5,
          5,
          5,
          5,
          5,
          5,
          5,
          5,
          5,
          5,
          5,
          2,
          2,
          2,
          5,
          5,
          5,
          5,
          5,
          3,
          5,
          5,
          3,
          5,
          5,
          5
         ],
         "xaxis": "x4",
         "y": [
          0.8697333695869662,
          0.8343887017369023,
          0.8724283026962679,
          0.8371493776138038,
          0.8324038308072138,
          0.7928429211416071,
          0.726482938562997,
          0.7039683532221055,
          0.7879925467962872,
          0.852574838157396,
          0.742746596613264,
          0.664058399937467,
          0.726550421972443,
          0.8687697886929644,
          0.42102732549775557,
          0.8724883764319697,
          0.8596488799861819,
          0.8538968116330924,
          0.8398629347441615,
          0.852345110144723,
          0.8123676566794081,
          0.8044800552938014,
          0.8481949393826929,
          0.8627617780487922,
          0.8332955929518084,
          0.8635315322176871,
          0.8845964362403608,
          0.884202364108609,
          0.8782260404137723,
          0.8622714338092983,
          0.8606647995384031,
          0.8608208327715985,
          0.8764435821670421,
          0.8746170067402741,
          0.8731172816343076,
          0.8769094781136811,
          0.8467642410957555,
          0.8465127873096098,
          0.8730626526193219,
          0.8718175640185757,
          0.8699661581900529,
          0.8776323091053356,
          0.8769789529901597,
          0.8787026660357485,
          0.8823530339097652,
          0.8796390355855014,
          0.8817371811581397,
          0.8801238209426717,
          0.8311622722655981,
          0.8184509487476752,
          0.8841087722344192,
          0.8816148531456118,
          0.8850928345354762,
          0.7503288437057085,
          0.880839317175027,
          0.8805603056570869,
          0.7283004796121253,
          0.5554651671869262,
          0.7419839178730845,
          0.7282774347881676,
          0.874545907292716,
          0.8832249492071291,
          0.875337225328723,
          0.8716104587508878,
          0.8685445980614134,
          0.8707373990740532,
          0.8659371186670665,
          0.8730733160425576,
          0.8734490862061556,
          0.8722843556928146,
          0.8251067215151018,
          0.8836418040493706,
          0.8303195182547627,
          0.8317431120666601,
          0.829292219051499,
          0.8320992126572836,
          0.8303124665729837,
          0.8749651726914944,
          0.8821621257740537,
          0.8822988051290684,
          0.885442744598816,
          0.8815719925990726,
          0.8743685946683547,
          0.8851299916719917,
          0.8832829029741314,
          0.8795618936619343,
          0.8805964670686418,
          0.8844025162427135,
          0.8815203981476,
          0.8830814105411295,
          0.8866263893117683,
          0.8861304759674568,
          0.8850247544163695,
          0.8847778021195716,
          0.8846223442950756,
          0.8808562878504645,
          0.8837638679800218,
          0.8832889719781439,
          0.8844328732276084,
          0.8853738361319925,
          0.8864388943394752,
          0.8859736474884704,
          0.8844233034181057,
          0.8813158066248448,
          0.8839017713528591,
          0.885972655368246,
          0.8845951428175407,
          0.885113315349407,
          0.884659973370433,
          0.8844649184261956,
          0.8836373735714439,
          0.8871269772682592,
          0.8816876771291458,
          0.8710122362922732,
          0.8817057697990937,
          0.8720552202999923,
          0.8715086451264863,
          0.8707895644861109,
          0.8697556317685043,
          0.8810083403764676,
          0.8831146025945686,
          0.8814469969853101,
          0.8849902076222896,
          0.8857461173522909,
          0.8843657365503258,
          0.8852856056937703,
          0.8856824678628517,
          0.8859411464220424,
          0.8844127188175064,
          0.8845341785673491,
          0.8859102423588034,
          0.8854202604488013,
          0.8871866105161462,
          0.8839643995587416,
          0.8855764927307648,
          0.883523422859129,
          0.8513038748050379,
          0.8530207569161383,
          0.8874825138168487,
          0.8393885439488257,
          0.8852535996745953,
          0.8506436988876136,
          0.8494885927202326,
          0.8511756941095449,
          0.8506682010936124,
          0.8493895133185518,
          0.885875081718616,
          0.8782753702508608,
          0.8861445965491335,
          0.8868671580665961,
          0.8878865302371544,
          0.8866097411152714,
          0.8852759266644071,
          0.88419271050085,
          0.8835370908529555,
          0.8823529149377041,
          0.8860792617673336,
          0.8859104219063021,
          0.8513080030168355,
          0.8851830901541955,
          0.8885290981596754,
          0.8882088532595084,
          0.8883463994343778,
          0.8892500079359404,
          0.8888693480074407,
          0.8625767224479828,
          0.887796283009903,
          0.8874556160192102,
          0.8872599242505388,
          0.8891665204996357,
          0.8874195730670872,
          0.8887955464471974,
          0.8872011939695736,
          0.8882347308608048,
          0.8881623779687151,
          0.8886203496187373,
          0.8885332604598102,
          0.8901887955873724,
          0.8884577841731037,
          0.8894172395402524,
          0.8891885037448543,
          0.8860646574461011,
          0.8887930924455676,
          0.8882736604218581,
          0.8880939220429832,
          0.8469513565367643,
          0.8497630075979419,
          0.8655950827352686,
          0.8885538466179994,
          0.8875850665143055,
          0.8880008978744348,
          0.8885622860045386,
          0.888668255339476,
          0.8758547036024573,
          0.8890414567628838,
          0.8877532755481145,
          0.8773786483609728,
          0.8880974438687399,
          0.8886433074584381,
          0.888960116316644
         ],
         "yaxis": "y4"
        },
        {
         "marker": {
          "color": [
           0,
           1,
           2,
           3,
           4,
           5,
           6,
           7,
           8,
           9,
           10,
           11,
           12,
           13,
           14,
           15,
           16,
           17,
           18,
           19,
           20,
           21,
           22,
           23,
           24,
           25,
           26,
           27,
           28,
           29,
           30,
           31,
           32,
           33,
           34,
           35,
           36,
           37,
           38,
           39,
           40,
           41,
           42,
           43,
           44,
           45,
           46,
           47,
           48,
           49,
           50,
           51,
           52,
           53,
           54,
           55,
           56,
           57,
           58,
           59,
           60,
           61,
           62,
           63,
           64,
           65,
           66,
           67,
           68,
           69,
           70,
           71,
           72,
           73,
           74,
           75,
           76,
           77,
           78,
           79,
           80,
           81,
           82,
           83,
           84,
           85,
           86,
           87,
           88,
           89,
           90,
           91,
           92,
           93,
           94,
           95,
           96,
           97,
           98,
           99,
           100,
           101,
           102,
           103,
           104,
           105,
           106,
           107,
           108,
           109,
           110,
           111,
           112,
           113,
           114,
           115,
           116,
           117,
           118,
           119,
           120,
           121,
           122,
           123,
           124,
           125,
           126,
           127,
           128,
           129,
           130,
           131,
           132,
           133,
           134,
           135,
           136,
           137,
           138,
           139,
           140,
           141,
           142,
           143,
           144,
           145,
           146,
           147,
           148,
           149,
           150,
           151,
           152,
           153,
           154,
           155,
           156,
           157,
           158,
           159,
           160,
           161,
           162,
           163,
           164,
           165,
           166,
           167,
           168,
           169,
           170,
           171,
           172,
           173,
           174,
           175,
           176,
           177,
           178,
           179,
           180,
           181,
           182,
           183,
           184,
           185,
           186,
           187,
           188,
           189,
           190,
           191,
           192,
           193,
           194,
           195,
           196,
           197,
           198,
           199
          ],
          "colorbar": {
           "title": {
            "text": "#Trials"
           },
           "x": 1,
           "xpad": 40
          },
          "colorscale": [
           [
            0,
            "rgb(247,251,255)"
           ],
           [
            0.125,
            "rgb(222,235,247)"
           ],
           [
            0.25,
            "rgb(198,219,239)"
           ],
           [
            0.375,
            "rgb(158,202,225)"
           ],
           [
            0.5,
            "rgb(107,174,214)"
           ],
           [
            0.625,
            "rgb(66,146,198)"
           ],
           [
            0.75,
            "rgb(33,113,181)"
           ],
           [
            0.875,
            "rgb(8,81,156)"
           ],
           [
            1,
            "rgb(8,48,107)"
           ]
          ],
          "line": {
           "color": "Grey",
           "width": 0.5
          },
          "showscale": false
         },
         "mode": "markers",
         "showlegend": false,
         "type": "scatter",
         "x": [
          7,
          6,
          7,
          8,
          7,
          8,
          8,
          5,
          8,
          5,
          8,
          5,
          10,
          7,
          5,
          7,
          9,
          6,
          10,
          6,
          7,
          7,
          7,
          6,
          9,
          6,
          6,
          6,
          6,
          7,
          7,
          7,
          6,
          6,
          6,
          6,
          6,
          5,
          6,
          6,
          6,
          6,
          6,
          6,
          6,
          5,
          5,
          5,
          5,
          5,
          5,
          5,
          5,
          5,
          5,
          5,
          5,
          5,
          5,
          5,
          5,
          5,
          5,
          5,
          5,
          5,
          8,
          8,
          5,
          5,
          8,
          8,
          9,
          6,
          6,
          6,
          6,
          6,
          5,
          6,
          5,
          5,
          5,
          5,
          5,
          5,
          8,
          8,
          8,
          8,
          7,
          7,
          7,
          9,
          9,
          9,
          9,
          9,
          9,
          7,
          7,
          7,
          9,
          10,
          10,
          7,
          7,
          7,
          7,
          7,
          7,
          7,
          7,
          7,
          7,
          7,
          7,
          7,
          7,
          7,
          7,
          7,
          7,
          7,
          7,
          7,
          7,
          7,
          7,
          7,
          7,
          7,
          7,
          7,
          7,
          7,
          7,
          7,
          7,
          7,
          7,
          7,
          7,
          7,
          7,
          7,
          7,
          7,
          7,
          7,
          7,
          7,
          7,
          7,
          7,
          7,
          7,
          7,
          7,
          7,
          7,
          7,
          7,
          7,
          7,
          7,
          7,
          7,
          7,
          7,
          7,
          7,
          7,
          7,
          7,
          7,
          7,
          7,
          7,
          7,
          7,
          7,
          7,
          7,
          7,
          7,
          7,
          7,
          7,
          7,
          7,
          7,
          7,
          7,
          7,
          7,
          7,
          7,
          7,
          7
         ],
         "xaxis": "x5",
         "y": [
          0.8697333695869662,
          0.8343887017369023,
          0.8724283026962679,
          0.8371493776138038,
          0.8324038308072138,
          0.7928429211416071,
          0.726482938562997,
          0.7039683532221055,
          0.7879925467962872,
          0.852574838157396,
          0.742746596613264,
          0.664058399937467,
          0.726550421972443,
          0.8687697886929644,
          0.42102732549775557,
          0.8724883764319697,
          0.8596488799861819,
          0.8538968116330924,
          0.8398629347441615,
          0.852345110144723,
          0.8123676566794081,
          0.8044800552938014,
          0.8481949393826929,
          0.8627617780487922,
          0.8332955929518084,
          0.8635315322176871,
          0.8845964362403608,
          0.884202364108609,
          0.8782260404137723,
          0.8622714338092983,
          0.8606647995384031,
          0.8608208327715985,
          0.8764435821670421,
          0.8746170067402741,
          0.8731172816343076,
          0.8769094781136811,
          0.8467642410957555,
          0.8465127873096098,
          0.8730626526193219,
          0.8718175640185757,
          0.8699661581900529,
          0.8776323091053356,
          0.8769789529901597,
          0.8787026660357485,
          0.8823530339097652,
          0.8796390355855014,
          0.8817371811581397,
          0.8801238209426717,
          0.8311622722655981,
          0.8184509487476752,
          0.8841087722344192,
          0.8816148531456118,
          0.8850928345354762,
          0.7503288437057085,
          0.880839317175027,
          0.8805603056570869,
          0.7283004796121253,
          0.5554651671869262,
          0.7419839178730845,
          0.7282774347881676,
          0.874545907292716,
          0.8832249492071291,
          0.875337225328723,
          0.8716104587508878,
          0.8685445980614134,
          0.8707373990740532,
          0.8659371186670665,
          0.8730733160425576,
          0.8734490862061556,
          0.8722843556928146,
          0.8251067215151018,
          0.8836418040493706,
          0.8303195182547627,
          0.8317431120666601,
          0.829292219051499,
          0.8320992126572836,
          0.8303124665729837,
          0.8749651726914944,
          0.8821621257740537,
          0.8822988051290684,
          0.885442744598816,
          0.8815719925990726,
          0.8743685946683547,
          0.8851299916719917,
          0.8832829029741314,
          0.8795618936619343,
          0.8805964670686418,
          0.8844025162427135,
          0.8815203981476,
          0.8830814105411295,
          0.8866263893117683,
          0.8861304759674568,
          0.8850247544163695,
          0.8847778021195716,
          0.8846223442950756,
          0.8808562878504645,
          0.8837638679800218,
          0.8832889719781439,
          0.8844328732276084,
          0.8853738361319925,
          0.8864388943394752,
          0.8859736474884704,
          0.8844233034181057,
          0.8813158066248448,
          0.8839017713528591,
          0.885972655368246,
          0.8845951428175407,
          0.885113315349407,
          0.884659973370433,
          0.8844649184261956,
          0.8836373735714439,
          0.8871269772682592,
          0.8816876771291458,
          0.8710122362922732,
          0.8817057697990937,
          0.8720552202999923,
          0.8715086451264863,
          0.8707895644861109,
          0.8697556317685043,
          0.8810083403764676,
          0.8831146025945686,
          0.8814469969853101,
          0.8849902076222896,
          0.8857461173522909,
          0.8843657365503258,
          0.8852856056937703,
          0.8856824678628517,
          0.8859411464220424,
          0.8844127188175064,
          0.8845341785673491,
          0.8859102423588034,
          0.8854202604488013,
          0.8871866105161462,
          0.8839643995587416,
          0.8855764927307648,
          0.883523422859129,
          0.8513038748050379,
          0.8530207569161383,
          0.8874825138168487,
          0.8393885439488257,
          0.8852535996745953,
          0.8506436988876136,
          0.8494885927202326,
          0.8511756941095449,
          0.8506682010936124,
          0.8493895133185518,
          0.885875081718616,
          0.8782753702508608,
          0.8861445965491335,
          0.8868671580665961,
          0.8878865302371544,
          0.8866097411152714,
          0.8852759266644071,
          0.88419271050085,
          0.8835370908529555,
          0.8823529149377041,
          0.8860792617673336,
          0.8859104219063021,
          0.8513080030168355,
          0.8851830901541955,
          0.8885290981596754,
          0.8882088532595084,
          0.8883463994343778,
          0.8892500079359404,
          0.8888693480074407,
          0.8625767224479828,
          0.887796283009903,
          0.8874556160192102,
          0.8872599242505388,
          0.8891665204996357,
          0.8874195730670872,
          0.8887955464471974,
          0.8872011939695736,
          0.8882347308608048,
          0.8881623779687151,
          0.8886203496187373,
          0.8885332604598102,
          0.8901887955873724,
          0.8884577841731037,
          0.8894172395402524,
          0.8891885037448543,
          0.8860646574461011,
          0.8887930924455676,
          0.8882736604218581,
          0.8880939220429832,
          0.8469513565367643,
          0.8497630075979419,
          0.8655950827352686,
          0.8885538466179994,
          0.8875850665143055,
          0.8880008978744348,
          0.8885622860045386,
          0.888668255339476,
          0.8758547036024573,
          0.8890414567628838,
          0.8877532755481145,
          0.8773786483609728,
          0.8880974438687399,
          0.8886433074584381,
          0.888960116316644
         ],
         "yaxis": "y5"
        },
        {
         "marker": {
          "color": [
           0,
           1,
           2,
           3,
           4,
           5,
           6,
           7,
           8,
           9,
           10,
           11,
           12,
           13,
           14,
           15,
           16,
           17,
           18,
           19,
           20,
           21,
           22,
           23,
           24,
           25,
           26,
           27,
           28,
           29,
           30,
           31,
           32,
           33,
           34,
           35,
           36,
           37,
           38,
           39,
           40,
           41,
           42,
           43,
           44,
           45,
           46,
           47,
           48,
           49,
           50,
           51,
           52,
           53,
           54,
           55,
           56,
           57,
           58,
           59,
           60,
           61,
           62,
           63,
           64,
           65,
           66,
           67,
           68,
           69,
           70,
           71,
           72,
           73,
           74,
           75,
           76,
           77,
           78,
           79,
           80,
           81,
           82,
           83,
           84,
           85,
           86,
           87,
           88,
           89,
           90,
           91,
           92,
           93,
           94,
           95,
           96,
           97,
           98,
           99,
           100,
           101,
           102,
           103,
           104,
           105,
           106,
           107,
           108,
           109,
           110,
           111,
           112,
           113,
           114,
           115,
           116,
           117,
           118,
           119,
           120,
           121,
           122,
           123,
           124,
           125,
           126,
           127,
           128,
           129,
           130,
           131,
           132,
           133,
           134,
           135,
           136,
           137,
           138,
           139,
           140,
           141,
           142,
           143,
           144,
           145,
           146,
           147,
           148,
           149,
           150,
           151,
           152,
           153,
           154,
           155,
           156,
           157,
           158,
           159,
           160,
           161,
           162,
           163,
           164,
           165,
           166,
           167,
           168,
           169,
           170,
           171,
           172,
           173,
           174,
           175,
           176,
           177,
           178,
           179,
           180,
           181,
           182,
           183,
           184,
           185,
           186,
           187,
           188,
           189,
           190,
           191,
           192,
           193,
           194,
           195,
           196,
           197,
           198,
           199
          ],
          "colorbar": {
           "title": {
            "text": "#Trials"
           },
           "x": 1,
           "xpad": 40
          },
          "colorscale": [
           [
            0,
            "rgb(247,251,255)"
           ],
           [
            0.125,
            "rgb(222,235,247)"
           ],
           [
            0.25,
            "rgb(198,219,239)"
           ],
           [
            0.375,
            "rgb(158,202,225)"
           ],
           [
            0.5,
            "rgb(107,174,214)"
           ],
           [
            0.625,
            "rgb(66,146,198)"
           ],
           [
            0.75,
            "rgb(33,113,181)"
           ],
           [
            0.875,
            "rgb(8,81,156)"
           ],
           [
            1,
            "rgb(8,48,107)"
           ]
          ],
          "line": {
           "color": "Grey",
           "width": 0.5
          },
          "showscale": false
         },
         "mode": "markers",
         "showlegend": false,
         "type": "scatter",
         "x": [
          857,
          689,
          529,
          301,
          103,
          654,
          298,
          834,
          509,
          438,
          278,
          115,
          875,
          678,
          133,
          453,
          852,
          962,
          496,
          540,
          699,
          995,
          984,
          981,
          416,
          391,
          373,
          374,
          998,
          606,
          579,
          574,
          595,
          604,
          216,
          204,
          209,
          213,
          215,
          193,
          223,
          190,
          359,
          355,
          360,
          366,
          358,
          337,
          56,
          53,
          301,
          366,
          364,
          312,
          343,
          340,
          282,
          310,
          303,
          276,
          257,
          270,
          276,
          464,
          466,
          480,
          488,
          436,
          478,
          473,
          417,
          420,
          399,
          426,
          396,
          402,
          400,
          169,
          388,
          382,
          396,
          251,
          157,
          517,
          373,
          246,
          252,
          536,
          378,
          531,
          522,
          523,
          523,
          529,
          546,
          521,
          537,
          511,
          645,
          549,
          640,
          638,
          559,
          638,
          639,
          643,
          639,
          563,
          622,
          744,
          739,
          734,
          752,
          695,
          763,
          720,
          702,
          685,
          694,
          672,
          665,
          673,
          582,
          678,
          582,
          589,
          795,
          580,
          585,
          587,
          587,
          611,
          613,
          615,
          794,
          810,
          805,
          779,
          613,
          612,
          599,
          804,
          809,
          807,
          817,
          789,
          792,
          768,
          719,
          898,
          863,
          859,
          628,
          846,
          658,
          871,
          869,
          881,
          872,
          890,
          912,
          907,
          889,
          957,
          924,
          946,
          918,
          853,
          919,
          921,
          926,
          911,
          924,
          918,
          924,
          912,
          918,
          914,
          913,
          916,
          909,
          913,
          915,
          921,
          924,
          914,
          962,
          976,
          965,
          965,
          943,
          950,
          944,
          945,
          942,
          954,
          946,
          946,
          943,
          939
         ],
         "xaxis": "x6",
         "y": [
          0.8697333695869662,
          0.8343887017369023,
          0.8724283026962679,
          0.8371493776138038,
          0.8324038308072138,
          0.7928429211416071,
          0.726482938562997,
          0.7039683532221055,
          0.7879925467962872,
          0.852574838157396,
          0.742746596613264,
          0.664058399937467,
          0.726550421972443,
          0.8687697886929644,
          0.42102732549775557,
          0.8724883764319697,
          0.8596488799861819,
          0.8538968116330924,
          0.8398629347441615,
          0.852345110144723,
          0.8123676566794081,
          0.8044800552938014,
          0.8481949393826929,
          0.8627617780487922,
          0.8332955929518084,
          0.8635315322176871,
          0.8845964362403608,
          0.884202364108609,
          0.8782260404137723,
          0.8622714338092983,
          0.8606647995384031,
          0.8608208327715985,
          0.8764435821670421,
          0.8746170067402741,
          0.8731172816343076,
          0.8769094781136811,
          0.8467642410957555,
          0.8465127873096098,
          0.8730626526193219,
          0.8718175640185757,
          0.8699661581900529,
          0.8776323091053356,
          0.8769789529901597,
          0.8787026660357485,
          0.8823530339097652,
          0.8796390355855014,
          0.8817371811581397,
          0.8801238209426717,
          0.8311622722655981,
          0.8184509487476752,
          0.8841087722344192,
          0.8816148531456118,
          0.8850928345354762,
          0.7503288437057085,
          0.880839317175027,
          0.8805603056570869,
          0.7283004796121253,
          0.5554651671869262,
          0.7419839178730845,
          0.7282774347881676,
          0.874545907292716,
          0.8832249492071291,
          0.875337225328723,
          0.8716104587508878,
          0.8685445980614134,
          0.8707373990740532,
          0.8659371186670665,
          0.8730733160425576,
          0.8734490862061556,
          0.8722843556928146,
          0.8251067215151018,
          0.8836418040493706,
          0.8303195182547627,
          0.8317431120666601,
          0.829292219051499,
          0.8320992126572836,
          0.8303124665729837,
          0.8749651726914944,
          0.8821621257740537,
          0.8822988051290684,
          0.885442744598816,
          0.8815719925990726,
          0.8743685946683547,
          0.8851299916719917,
          0.8832829029741314,
          0.8795618936619343,
          0.8805964670686418,
          0.8844025162427135,
          0.8815203981476,
          0.8830814105411295,
          0.8866263893117683,
          0.8861304759674568,
          0.8850247544163695,
          0.8847778021195716,
          0.8846223442950756,
          0.8808562878504645,
          0.8837638679800218,
          0.8832889719781439,
          0.8844328732276084,
          0.8853738361319925,
          0.8864388943394752,
          0.8859736474884704,
          0.8844233034181057,
          0.8813158066248448,
          0.8839017713528591,
          0.885972655368246,
          0.8845951428175407,
          0.885113315349407,
          0.884659973370433,
          0.8844649184261956,
          0.8836373735714439,
          0.8871269772682592,
          0.8816876771291458,
          0.8710122362922732,
          0.8817057697990937,
          0.8720552202999923,
          0.8715086451264863,
          0.8707895644861109,
          0.8697556317685043,
          0.8810083403764676,
          0.8831146025945686,
          0.8814469969853101,
          0.8849902076222896,
          0.8857461173522909,
          0.8843657365503258,
          0.8852856056937703,
          0.8856824678628517,
          0.8859411464220424,
          0.8844127188175064,
          0.8845341785673491,
          0.8859102423588034,
          0.8854202604488013,
          0.8871866105161462,
          0.8839643995587416,
          0.8855764927307648,
          0.883523422859129,
          0.8513038748050379,
          0.8530207569161383,
          0.8874825138168487,
          0.8393885439488257,
          0.8852535996745953,
          0.8506436988876136,
          0.8494885927202326,
          0.8511756941095449,
          0.8506682010936124,
          0.8493895133185518,
          0.885875081718616,
          0.8782753702508608,
          0.8861445965491335,
          0.8868671580665961,
          0.8878865302371544,
          0.8866097411152714,
          0.8852759266644071,
          0.88419271050085,
          0.8835370908529555,
          0.8823529149377041,
          0.8860792617673336,
          0.8859104219063021,
          0.8513080030168355,
          0.8851830901541955,
          0.8885290981596754,
          0.8882088532595084,
          0.8883463994343778,
          0.8892500079359404,
          0.8888693480074407,
          0.8625767224479828,
          0.887796283009903,
          0.8874556160192102,
          0.8872599242505388,
          0.8891665204996357,
          0.8874195730670872,
          0.8887955464471974,
          0.8872011939695736,
          0.8882347308608048,
          0.8881623779687151,
          0.8886203496187373,
          0.8885332604598102,
          0.8901887955873724,
          0.8884577841731037,
          0.8894172395402524,
          0.8891885037448543,
          0.8860646574461011,
          0.8887930924455676,
          0.8882736604218581,
          0.8880939220429832,
          0.8469513565367643,
          0.8497630075979419,
          0.8655950827352686,
          0.8885538466179994,
          0.8875850665143055,
          0.8880008978744348,
          0.8885622860045386,
          0.888668255339476,
          0.8758547036024573,
          0.8890414567628838,
          0.8877532755481145,
          0.8773786483609728,
          0.8880974438687399,
          0.8886433074584381,
          0.888960116316644
         ],
         "yaxis": "y6"
        },
        {
         "marker": {
          "color": [
           0,
           1,
           2,
           3,
           4,
           5,
           6,
           7,
           8,
           9,
           10,
           11,
           12,
           13,
           14,
           15,
           16,
           17,
           18,
           19,
           20,
           21,
           22,
           23,
           24,
           25,
           26,
           27,
           28,
           29,
           30,
           31,
           32,
           33,
           34,
           35,
           36,
           37,
           38,
           39,
           40,
           41,
           42,
           43,
           44,
           45,
           46,
           47,
           48,
           49,
           50,
           51,
           52,
           53,
           54,
           55,
           56,
           57,
           58,
           59,
           60,
           61,
           62,
           63,
           64,
           65,
           66,
           67,
           68,
           69,
           70,
           71,
           72,
           73,
           74,
           75,
           76,
           77,
           78,
           79,
           80,
           81,
           82,
           83,
           84,
           85,
           86,
           87,
           88,
           89,
           90,
           91,
           92,
           93,
           94,
           95,
           96,
           97,
           98,
           99,
           100,
           101,
           102,
           103,
           104,
           105,
           106,
           107,
           108,
           109,
           110,
           111,
           112,
           113,
           114,
           115,
           116,
           117,
           118,
           119,
           120,
           121,
           122,
           123,
           124,
           125,
           126,
           127,
           128,
           129,
           130,
           131,
           132,
           133,
           134,
           135,
           136,
           137,
           138,
           139,
           140,
           141,
           142,
           143,
           144,
           145,
           146,
           147,
           148,
           149,
           150,
           151,
           152,
           153,
           154,
           155,
           156,
           157,
           158,
           159,
           160,
           161,
           162,
           163,
           164,
           165,
           166,
           167,
           168,
           169,
           170,
           171,
           172,
           173,
           174,
           175,
           176,
           177,
           178,
           179,
           180,
           181,
           182,
           183,
           184,
           185,
           186,
           187,
           188,
           189,
           190,
           191,
           192,
           193,
           194,
           195,
           196,
           197,
           198,
           199
          ],
          "colorbar": {
           "title": {
            "text": "#Trials"
           },
           "x": 1,
           "xpad": 40
          },
          "colorscale": [
           [
            0,
            "rgb(247,251,255)"
           ],
           [
            0.125,
            "rgb(222,235,247)"
           ],
           [
            0.25,
            "rgb(198,219,239)"
           ],
           [
            0.375,
            "rgb(158,202,225)"
           ],
           [
            0.5,
            "rgb(107,174,214)"
           ],
           [
            0.625,
            "rgb(66,146,198)"
           ],
           [
            0.75,
            "rgb(33,113,181)"
           ],
           [
            0.875,
            "rgb(8,81,156)"
           ],
           [
            1,
            "rgb(8,48,107)"
           ]
          ],
          "line": {
           "color": "Grey",
           "width": 0.5
          },
          "showscale": false
         },
         "mode": "markers",
         "showlegend": false,
         "type": "scatter",
         "x": [
          0.12146887704304733,
          7.607807743212431,
          1.945714185336228,
          0.4134119186374969,
          1.9003613706517777,
          0.029361913464170417,
          0.8591677497169202,
          0.02512579268344481,
          0.03661519606781296,
          3.970459891896972,
          1.357794727558239,
          0.09990207934958621,
          0.02053768136871292,
          1.4221963473663215,
          0.06241463571894224,
          1.4156499359159338,
          0.012402112376734558,
          8.308533305280557,
          8.794270246482299,
          8.745535276726805,
          9.522090193480718,
          0.1864677618907882,
          0.1933218904282565,
          0.16238460051783196,
          0.3872624950554612,
          0.4062585307910143,
          0.38474541585464095,
          0.45221291259197943,
          0.21373009571981647,
          0.1559797894426953,
          0.20726452886690142,
          3.048890887576378,
          0.8030219792619255,
          3.2168923869937585,
          0.755903313402808,
          0.7721706110982284,
          0.6643875962182967,
          0.6429888608066447,
          0.6862708176561978,
          0.6423615283048618,
          0.807155152091417,
          0.665791180046399,
          0.28069154434802357,
          0.28215833118608363,
          0.29870609758378613,
          0.27562057538804396,
          0.28881450586779056,
          0.2727413809917752,
          0.2838461773686049,
          0.29034913790449357,
          0.29703634966217346,
          0.09819614374007779,
          0.09854412979095808,
          0.11085724236689527,
          0.08628481973754337,
          0.1058662816784537,
          0.0923452127771238,
          0.1023424170058449,
          0.10351927274532235,
          0.09633061580079362,
          0.04635596207178073,
          0.056326780599618376,
          0.4291298315852445,
          0.071351841722776,
          0.48710012496424365,
          0.47759072825542076,
          0.046143845259481064,
          0.49814622172342987,
          0.5132432376501374,
          0.5001289099299725,
          0.4381100248249268,
          0.053260040041728546,
          1.1015813781166395,
          0.045219380453454826,
          0.14301883168143967,
          1.1085255551012583,
          1.1058326539163268,
          0.13364212950326257,
          0.1531884531491677,
          0.15243628995145975,
          0.023286307187608598,
          0.01879923488205952,
          0.02758079595518849,
          0.01998354803638681,
          0.01675586327333892,
          0.019928388801341925,
          0.016498773108276604,
          0.35119773317418096,
          0.06726569845656657,
          0.0635557461362921,
          0.01148335402362536,
          0.06676286032480563,
          0.036552962576916995,
          0.011598605544971479,
          0.01013649812103653,
          0.010186054704621137,
          0.030892240110691815,
          0.010380917692208214,
          0.010866816281780942,
          0.011195215721680647,
          0.013864995026498532,
          0.010580270744644196,
          0.011002047213766634,
          0.03483950069831785,
          0.01277167863666461,
          0.014743741222566642,
          0.013046356159254691,
          0.014794771862529858,
          0.014132076723302986,
          0.014040149620190399,
          0.013485894686248197,
          0.014006623686913862,
          0.012891878082579496,
          0.024551157393518576,
          0.014537447750621678,
          0.014840712140255782,
          0.021943551108280692,
          0.024043924806181158,
          0.021694928257825926,
          0.024420315600153994,
          0.02333714976909595,
          0.021562583703953492,
          0.016895081771113644,
          0.023291284992785634,
          0.02380383704178766,
          0.016599430760371875,
          0.01786049714145052,
          0.017763578232120072,
          0.017545644189024347,
          0.01799675417516033,
          0.01773864025858106,
          0.017352169653161414,
          0.017725035737108933,
          0.01794463609234856,
          0.018282616714765578,
          0.018770658705049986,
          0.030029581067848112,
          0.029014177887465204,
          0.02818916159052124,
          0.029323589402005197,
          0.028511536692544668,
          0.028536732447224607,
          0.028670131998918796,
          0.028421997045680363,
          0.03118646225767212,
          0.032660686516890115,
          0.03213522206568907,
          0.03362438464056455,
          0.012310840327614592,
          0.016141756396482815,
          0.015600042295679968,
          0.015248993882102848,
          0.015697656422856383,
          0.012139128380978543,
          0.041329128949230604,
          0.015420302043732372,
          0.012454129738731888,
          0.011870451366091214,
          0.01259098734869652,
          0.012205272460352396,
          0.012336822888611989,
          0.011918310216220793,
          0.012299796335394374,
          0.011679636419836626,
          0.012387874051899925,
          0.012514074876745933,
          0.010005311814385819,
          0.011462154106109419,
          0.011245263693485365,
          0.011394497098292202,
          0.010302809800405703,
          0.013859434742878105,
          0.01006032260702466,
          0.010520561466217942,
          0.010134022975683716,
          0.010150058900251014,
          6.323985868233008,
          0.01036472358905855,
          0.010044962667487516,
          0.01023024090789699,
          0.01011120845281706,
          0.010565628976616507,
          0.010524397549242398,
          0.010001334170534606,
          4.348308854753083,
          2.3674427169521133,
          0.010192064521739,
          3.701426616531737,
          0.010532979085020737,
          0.010008414674319394,
          0.011387710258264646,
          0.01028720725451163,
          0.010099801500169939,
          0.013197278425837237,
          0.01011550796291721,
          5.00297693288949,
          0.013319227409221803,
          5.264078312362168,
          5.7949520633603875,
          5.110818377305446
         ],
         "xaxis": "x7",
         "y": [
          0.8697333695869662,
          0.8343887017369023,
          0.8724283026962679,
          0.8371493776138038,
          0.8324038308072138,
          0.7928429211416071,
          0.726482938562997,
          0.7039683532221055,
          0.7879925467962872,
          0.852574838157396,
          0.742746596613264,
          0.664058399937467,
          0.726550421972443,
          0.8687697886929644,
          0.42102732549775557,
          0.8724883764319697,
          0.8596488799861819,
          0.8538968116330924,
          0.8398629347441615,
          0.852345110144723,
          0.8123676566794081,
          0.8044800552938014,
          0.8481949393826929,
          0.8627617780487922,
          0.8332955929518084,
          0.8635315322176871,
          0.8845964362403608,
          0.884202364108609,
          0.8782260404137723,
          0.8622714338092983,
          0.8606647995384031,
          0.8608208327715985,
          0.8764435821670421,
          0.8746170067402741,
          0.8731172816343076,
          0.8769094781136811,
          0.8467642410957555,
          0.8465127873096098,
          0.8730626526193219,
          0.8718175640185757,
          0.8699661581900529,
          0.8776323091053356,
          0.8769789529901597,
          0.8787026660357485,
          0.8823530339097652,
          0.8796390355855014,
          0.8817371811581397,
          0.8801238209426717,
          0.8311622722655981,
          0.8184509487476752,
          0.8841087722344192,
          0.8816148531456118,
          0.8850928345354762,
          0.7503288437057085,
          0.880839317175027,
          0.8805603056570869,
          0.7283004796121253,
          0.5554651671869262,
          0.7419839178730845,
          0.7282774347881676,
          0.874545907292716,
          0.8832249492071291,
          0.875337225328723,
          0.8716104587508878,
          0.8685445980614134,
          0.8707373990740532,
          0.8659371186670665,
          0.8730733160425576,
          0.8734490862061556,
          0.8722843556928146,
          0.8251067215151018,
          0.8836418040493706,
          0.8303195182547627,
          0.8317431120666601,
          0.829292219051499,
          0.8320992126572836,
          0.8303124665729837,
          0.8749651726914944,
          0.8821621257740537,
          0.8822988051290684,
          0.885442744598816,
          0.8815719925990726,
          0.8743685946683547,
          0.8851299916719917,
          0.8832829029741314,
          0.8795618936619343,
          0.8805964670686418,
          0.8844025162427135,
          0.8815203981476,
          0.8830814105411295,
          0.8866263893117683,
          0.8861304759674568,
          0.8850247544163695,
          0.8847778021195716,
          0.8846223442950756,
          0.8808562878504645,
          0.8837638679800218,
          0.8832889719781439,
          0.8844328732276084,
          0.8853738361319925,
          0.8864388943394752,
          0.8859736474884704,
          0.8844233034181057,
          0.8813158066248448,
          0.8839017713528591,
          0.885972655368246,
          0.8845951428175407,
          0.885113315349407,
          0.884659973370433,
          0.8844649184261956,
          0.8836373735714439,
          0.8871269772682592,
          0.8816876771291458,
          0.8710122362922732,
          0.8817057697990937,
          0.8720552202999923,
          0.8715086451264863,
          0.8707895644861109,
          0.8697556317685043,
          0.8810083403764676,
          0.8831146025945686,
          0.8814469969853101,
          0.8849902076222896,
          0.8857461173522909,
          0.8843657365503258,
          0.8852856056937703,
          0.8856824678628517,
          0.8859411464220424,
          0.8844127188175064,
          0.8845341785673491,
          0.8859102423588034,
          0.8854202604488013,
          0.8871866105161462,
          0.8839643995587416,
          0.8855764927307648,
          0.883523422859129,
          0.8513038748050379,
          0.8530207569161383,
          0.8874825138168487,
          0.8393885439488257,
          0.8852535996745953,
          0.8506436988876136,
          0.8494885927202326,
          0.8511756941095449,
          0.8506682010936124,
          0.8493895133185518,
          0.885875081718616,
          0.8782753702508608,
          0.8861445965491335,
          0.8868671580665961,
          0.8878865302371544,
          0.8866097411152714,
          0.8852759266644071,
          0.88419271050085,
          0.8835370908529555,
          0.8823529149377041,
          0.8860792617673336,
          0.8859104219063021,
          0.8513080030168355,
          0.8851830901541955,
          0.8885290981596754,
          0.8882088532595084,
          0.8883463994343778,
          0.8892500079359404,
          0.8888693480074407,
          0.8625767224479828,
          0.887796283009903,
          0.8874556160192102,
          0.8872599242505388,
          0.8891665204996357,
          0.8874195730670872,
          0.8887955464471974,
          0.8872011939695736,
          0.8882347308608048,
          0.8881623779687151,
          0.8886203496187373,
          0.8885332604598102,
          0.8901887955873724,
          0.8884577841731037,
          0.8894172395402524,
          0.8891885037448543,
          0.8860646574461011,
          0.8887930924455676,
          0.8882736604218581,
          0.8880939220429832,
          0.8469513565367643,
          0.8497630075979419,
          0.8655950827352686,
          0.8885538466179994,
          0.8875850665143055,
          0.8880008978744348,
          0.8885622860045386,
          0.888668255339476,
          0.8758547036024573,
          0.8890414567628838,
          0.8877532755481145,
          0.8773786483609728,
          0.8880974438687399,
          0.8886433074584381,
          0.888960116316644
         ],
         "yaxis": "y7"
        },
        {
         "marker": {
          "color": [
           0,
           1,
           2,
           3,
           4,
           5,
           6,
           7,
           8,
           9,
           10,
           11,
           12,
           13,
           14,
           15,
           16,
           17,
           18,
           19,
           20,
           21,
           22,
           23,
           24,
           25,
           26,
           27,
           28,
           29,
           30,
           31,
           32,
           33,
           34,
           35,
           36,
           37,
           38,
           39,
           40,
           41,
           42,
           43,
           44,
           45,
           46,
           47,
           48,
           49,
           50,
           51,
           52,
           53,
           54,
           55,
           56,
           57,
           58,
           59,
           60,
           61,
           62,
           63,
           64,
           65,
           66,
           67,
           68,
           69,
           70,
           71,
           72,
           73,
           74,
           75,
           76,
           77,
           78,
           79,
           80,
           81,
           82,
           83,
           84,
           85,
           86,
           87,
           88,
           89,
           90,
           91,
           92,
           93,
           94,
           95,
           96,
           97,
           98,
           99,
           100,
           101,
           102,
           103,
           104,
           105,
           106,
           107,
           108,
           109,
           110,
           111,
           112,
           113,
           114,
           115,
           116,
           117,
           118,
           119,
           120,
           121,
           122,
           123,
           124,
           125,
           126,
           127,
           128,
           129,
           130,
           131,
           132,
           133,
           134,
           135,
           136,
           137,
           138,
           139,
           140,
           141,
           142,
           143,
           144,
           145,
           146,
           147,
           148,
           149,
           150,
           151,
           152,
           153,
           154,
           155,
           156,
           157,
           158,
           159,
           160,
           161,
           162,
           163,
           164,
           165,
           166,
           167,
           168,
           169,
           170,
           171,
           172,
           173,
           174,
           175,
           176,
           177,
           178,
           179,
           180,
           181,
           182,
           183,
           184,
           185,
           186,
           187,
           188,
           189,
           190,
           191,
           192,
           193,
           194,
           195,
           196,
           197,
           198,
           199
          ],
          "colorbar": {
           "title": {
            "text": "#Trials"
           },
           "x": 1,
           "xpad": 40
          },
          "colorscale": [
           [
            0,
            "rgb(247,251,255)"
           ],
           [
            0.125,
            "rgb(222,235,247)"
           ],
           [
            0.25,
            "rgb(198,219,239)"
           ],
           [
            0.375,
            "rgb(158,202,225)"
           ],
           [
            0.5,
            "rgb(107,174,214)"
           ],
           [
            0.625,
            "rgb(66,146,198)"
           ],
           [
            0.75,
            "rgb(33,113,181)"
           ],
           [
            0.875,
            "rgb(8,81,156)"
           ],
           [
            1,
            "rgb(8,48,107)"
           ]
          ],
          "line": {
           "color": "Grey",
           "width": 0.5
          },
          "showscale": false
         },
         "mode": "markers",
         "showlegend": false,
         "type": "scatter",
         "x": [
          0.6439179329132,
          0.09067662164443044,
          0.042599216238039285,
          0.012765544572565244,
          2.028417647785666,
          0.10035942665854744,
          0.4707589696032856,
          0.172274853869739,
          0.7029069306182643,
          0.8992664423292437,
          0.8975855932908791,
          0.046885015597327905,
          0.4688931678105195,
          2.860621187842368,
          0.012972482411197335,
          0.07722888885549821,
          8.656500922663078,
          5.204776563513606,
          7.25168331843674,
          8.04929148316109,
          6.420570964248973,
          7.9095800464194586,
          0.030897279178511376,
          0.05386091263657555,
          0.02957032704533844,
          0.027711851952411267,
          0.04268891803932816,
          0.033055419922120785,
          0.21044575268764917,
          0.10594049014922555,
          0.2055331505967541,
          0.2147983339433618,
          0.1741510710102675,
          0.17764783642872126,
          0.1611080320830284,
          0.20851556501726842,
          0.1436051337008892,
          0.220676094926302,
          0.2032560936315813,
          0.20524644966391256,
          0.13912544315825762,
          0.01842632387304727,
          0.017821453354929184,
          0.01583386337824936,
          0.017549047208924685,
          0.017359832570901398,
          0.01640297811642104,
          0.3817696985491818,
          0.017788713441723582,
          0.016112899705058515,
          0.019402113738631502,
          0.06806367851626786,
          0.02177931072584323,
          0.010125006633867097,
          0.01132417542332098,
          0.06339417982512975,
          0.011065958651050613,
          0.011608250970539885,
          0.05809508767395863,
          0.010623001340907228,
          0.06785537163254056,
          0.010024822645723243,
          0.038580563587072805,
          0.036765454204274926,
          0.024994798016891247,
          0.03980559447232103,
          0.024018974732708313,
          0.039529315846665324,
          0.03910191370167498,
          0.03832335149686047,
          0.023556265463467774,
          0.023053538764440266,
          0.022031712274244844,
          0.02289046929963615,
          0.022834193477269824,
          0.022238317538726956,
          0.02061817471506307,
          0.014413441492654602,
          0.013633398025070268,
          0.013270072949871205,
          0.0492281063649216,
          0.013886107684611479,
          0.013849174093552517,
          0.013672617331896258,
          0.030749419830624552,
          0.05071649621878721,
          0.030680798441913945,
          0.031374261905474626,
          0.031005391223298703,
          0.03151043785290096,
          0.030588605420821657,
          0.0308832580462791,
          1.3297242858657639,
          1.4585708995379345,
          1.599728137910436,
          0.08920617499448208,
          0.10403404886738074,
          0.08620511775516132,
          0.10780571001058507,
          0.10429782080916357,
          1.2483144333396239,
          1.079300103033759,
          1.1311505234232289,
          1.5724879120390534,
          1.5395052566743181,
          1.3617856128995447,
          1.2714509044518538,
          1.472205177416647,
          2.05121369638807,
          1.598765266067097,
          1.729564485872821,
          2.433342979515043,
          0.6123888553107006,
          3.055295008182688,
          1.0345769471119692,
          2.70316692632871,
          2.489802742097369,
          2.6956228064506074,
          3.482400841511943,
          2.60683784104657,
          1.025788667917901,
          2.698184631601955,
          3.006456832774274,
          4.340609121018673,
          0.7797519248396584,
          3.7449477387691936,
          0.6734843864683759,
          0.7593593734370178,
          0.8130627025313156,
          0.7268127174743437,
          0.7760462010626576,
          2.1791660566007818,
          4.735197186165087,
          3.867795516956825,
          3.615864378365876,
          4.3935413143129916,
          4.408538678790852,
          0.542817955892235,
          4.971518959497594,
          0.5101194729636734,
          0.5915422413946927,
          0.590302389153381,
          6.947670057563804,
          4.996342715875446,
          5.348253745465481,
          5.279486206580079,
          5.871807348490744,
          6.3905901290549005,
          2.1115288047049687,
          6.346050226540076,
          5.853011684561701,
          6.203223816037923,
          0.42264354564086637,
          0.35040531168166617,
          0.26325908957021804,
          0.35191677026504153,
          9.499324030553634,
          9.262601566651888,
          0.2715831985603589,
          0.9376945133013487,
          8.755436005008255,
          9.297375129483687,
          9.246553270203844,
          9.288328176069006,
          9.6284624387146,
          8.413694341999697,
          9.390557307918598,
          9.222762460865658,
          9.737817174310932,
          9.977283186633287,
          9.997436130629964,
          7.907947448814363,
          8.03243236167839,
          9.822738374382643,
          9.90162580502887,
          7.6303144402252085,
          7.557200927591663,
          7.304335721268749,
          7.508875323601354,
          7.459941982740287,
          9.92209029396836,
          7.577627430381478,
          7.653222415124481,
          7.413252800300344,
          7.79929205332614,
          9.983278322136083,
          7.502542867112681,
          7.441849054037981,
          7.620881693140348,
          7.294601754393084,
          7.748751735988195,
          8.389142444397981,
          8.530481895422023,
          8.11485351629935,
          8.155390183648876,
          8.006791374030065,
          8.318689068996047,
          6.9722385058124905,
          8.392268224622391,
          8.359169451128391
         ],
         "xaxis": "x8",
         "y": [
          0.8697333695869662,
          0.8343887017369023,
          0.8724283026962679,
          0.8371493776138038,
          0.8324038308072138,
          0.7928429211416071,
          0.726482938562997,
          0.7039683532221055,
          0.7879925467962872,
          0.852574838157396,
          0.742746596613264,
          0.664058399937467,
          0.726550421972443,
          0.8687697886929644,
          0.42102732549775557,
          0.8724883764319697,
          0.8596488799861819,
          0.8538968116330924,
          0.8398629347441615,
          0.852345110144723,
          0.8123676566794081,
          0.8044800552938014,
          0.8481949393826929,
          0.8627617780487922,
          0.8332955929518084,
          0.8635315322176871,
          0.8845964362403608,
          0.884202364108609,
          0.8782260404137723,
          0.8622714338092983,
          0.8606647995384031,
          0.8608208327715985,
          0.8764435821670421,
          0.8746170067402741,
          0.8731172816343076,
          0.8769094781136811,
          0.8467642410957555,
          0.8465127873096098,
          0.8730626526193219,
          0.8718175640185757,
          0.8699661581900529,
          0.8776323091053356,
          0.8769789529901597,
          0.8787026660357485,
          0.8823530339097652,
          0.8796390355855014,
          0.8817371811581397,
          0.8801238209426717,
          0.8311622722655981,
          0.8184509487476752,
          0.8841087722344192,
          0.8816148531456118,
          0.8850928345354762,
          0.7503288437057085,
          0.880839317175027,
          0.8805603056570869,
          0.7283004796121253,
          0.5554651671869262,
          0.7419839178730845,
          0.7282774347881676,
          0.874545907292716,
          0.8832249492071291,
          0.875337225328723,
          0.8716104587508878,
          0.8685445980614134,
          0.8707373990740532,
          0.8659371186670665,
          0.8730733160425576,
          0.8734490862061556,
          0.8722843556928146,
          0.8251067215151018,
          0.8836418040493706,
          0.8303195182547627,
          0.8317431120666601,
          0.829292219051499,
          0.8320992126572836,
          0.8303124665729837,
          0.8749651726914944,
          0.8821621257740537,
          0.8822988051290684,
          0.885442744598816,
          0.8815719925990726,
          0.8743685946683547,
          0.8851299916719917,
          0.8832829029741314,
          0.8795618936619343,
          0.8805964670686418,
          0.8844025162427135,
          0.8815203981476,
          0.8830814105411295,
          0.8866263893117683,
          0.8861304759674568,
          0.8850247544163695,
          0.8847778021195716,
          0.8846223442950756,
          0.8808562878504645,
          0.8837638679800218,
          0.8832889719781439,
          0.8844328732276084,
          0.8853738361319925,
          0.8864388943394752,
          0.8859736474884704,
          0.8844233034181057,
          0.8813158066248448,
          0.8839017713528591,
          0.885972655368246,
          0.8845951428175407,
          0.885113315349407,
          0.884659973370433,
          0.8844649184261956,
          0.8836373735714439,
          0.8871269772682592,
          0.8816876771291458,
          0.8710122362922732,
          0.8817057697990937,
          0.8720552202999923,
          0.8715086451264863,
          0.8707895644861109,
          0.8697556317685043,
          0.8810083403764676,
          0.8831146025945686,
          0.8814469969853101,
          0.8849902076222896,
          0.8857461173522909,
          0.8843657365503258,
          0.8852856056937703,
          0.8856824678628517,
          0.8859411464220424,
          0.8844127188175064,
          0.8845341785673491,
          0.8859102423588034,
          0.8854202604488013,
          0.8871866105161462,
          0.8839643995587416,
          0.8855764927307648,
          0.883523422859129,
          0.8513038748050379,
          0.8530207569161383,
          0.8874825138168487,
          0.8393885439488257,
          0.8852535996745953,
          0.8506436988876136,
          0.8494885927202326,
          0.8511756941095449,
          0.8506682010936124,
          0.8493895133185518,
          0.885875081718616,
          0.8782753702508608,
          0.8861445965491335,
          0.8868671580665961,
          0.8878865302371544,
          0.8866097411152714,
          0.8852759266644071,
          0.88419271050085,
          0.8835370908529555,
          0.8823529149377041,
          0.8860792617673336,
          0.8859104219063021,
          0.8513080030168355,
          0.8851830901541955,
          0.8885290981596754,
          0.8882088532595084,
          0.8883463994343778,
          0.8892500079359404,
          0.8888693480074407,
          0.8625767224479828,
          0.887796283009903,
          0.8874556160192102,
          0.8872599242505388,
          0.8891665204996357,
          0.8874195730670872,
          0.8887955464471974,
          0.8872011939695736,
          0.8882347308608048,
          0.8881623779687151,
          0.8886203496187373,
          0.8885332604598102,
          0.8901887955873724,
          0.8884577841731037,
          0.8894172395402524,
          0.8891885037448543,
          0.8860646574461011,
          0.8887930924455676,
          0.8882736604218581,
          0.8880939220429832,
          0.8469513565367643,
          0.8497630075979419,
          0.8655950827352686,
          0.8885538466179994,
          0.8875850665143055,
          0.8880008978744348,
          0.8885622860045386,
          0.888668255339476,
          0.8758547036024573,
          0.8890414567628838,
          0.8877532755481145,
          0.8773786483609728,
          0.8880974438687399,
          0.8886433074584381,
          0.888960116316644
         ],
         "yaxis": "y8"
        },
        {
         "marker": {
          "color": [
           0,
           1,
           2,
           3,
           4,
           5,
           6,
           7,
           8,
           9,
           10,
           11,
           12,
           13,
           14,
           15,
           16,
           17,
           18,
           19,
           20,
           21,
           22,
           23,
           24,
           25,
           26,
           27,
           28,
           29,
           30,
           31,
           32,
           33,
           34,
           35,
           36,
           37,
           38,
           39,
           40,
           41,
           42,
           43,
           44,
           45,
           46,
           47,
           48,
           49,
           50,
           51,
           52,
           53,
           54,
           55,
           56,
           57,
           58,
           59,
           60,
           61,
           62,
           63,
           64,
           65,
           66,
           67,
           68,
           69,
           70,
           71,
           72,
           73,
           74,
           75,
           76,
           77,
           78,
           79,
           80,
           81,
           82,
           83,
           84,
           85,
           86,
           87,
           88,
           89,
           90,
           91,
           92,
           93,
           94,
           95,
           96,
           97,
           98,
           99,
           100,
           101,
           102,
           103,
           104,
           105,
           106,
           107,
           108,
           109,
           110,
           111,
           112,
           113,
           114,
           115,
           116,
           117,
           118,
           119,
           120,
           121,
           122,
           123,
           124,
           125,
           126,
           127,
           128,
           129,
           130,
           131,
           132,
           133,
           134,
           135,
           136,
           137,
           138,
           139,
           140,
           141,
           142,
           143,
           144,
           145,
           146,
           147,
           148,
           149,
           150,
           151,
           152,
           153,
           154,
           155,
           156,
           157,
           158,
           159,
           160,
           161,
           162,
           163,
           164,
           165,
           166,
           167,
           168,
           169,
           170,
           171,
           172,
           173,
           174,
           175,
           176,
           177,
           178,
           179,
           180,
           181,
           182,
           183,
           184,
           185,
           186,
           187,
           188,
           189,
           190,
           191,
           192,
           193,
           194,
           195,
           196,
           197,
           198,
           199
          ],
          "colorbar": {
           "title": {
            "text": "#Trials"
           },
           "x": 1,
           "xpad": 40
          },
          "colorscale": [
           [
            0,
            "rgb(247,251,255)"
           ],
           [
            0.125,
            "rgb(222,235,247)"
           ],
           [
            0.25,
            "rgb(198,219,239)"
           ],
           [
            0.375,
            "rgb(158,202,225)"
           ],
           [
            0.5,
            "rgb(107,174,214)"
           ],
           [
            0.625,
            "rgb(66,146,198)"
           ],
           [
            0.75,
            "rgb(33,113,181)"
           ],
           [
            0.875,
            "rgb(8,81,156)"
           ],
           [
            1,
            "rgb(8,48,107)"
           ]
          ],
          "line": {
           "color": "Grey",
           "width": 0.5
          },
          "showscale": false
         },
         "mode": "markers",
         "showlegend": false,
         "type": "scatter",
         "x": [
          0.9440996181288698,
          0.5231516175291796,
          0.6677678105319135,
          0.8447508335609728,
          0.2658207756245732,
          0.8914250871750747,
          0.7862568052713937,
          0.919728144299394,
          0.2983978144476217,
          0.46796375280270974,
          0.9923022541586947,
          0.8163747874236943,
          0.21144051978970574,
          0.5532920706520098,
          0.11637746872060062,
          0.8928906061232987,
          0.5439972820751471,
          0.5971638947466175,
          0.6017000381530939,
          0.5375391152288371,
          0.6632606452976058,
          0.6998679329186507,
          0.6876056391621297,
          0.6736428234671534,
          0.6474968333878884,
          0.7230222744041519,
          0.6872060684219726,
          0.7226136315983707,
          0.7252218419706794,
          0.9822987599826537,
          0.986290738224358,
          0.9783472275064254,
          0.43509923755485735,
          0.39913154484400815,
          0.42876452937857595,
          0.757948976895511,
          0.42602813369952663,
          0.7624630287106815,
          0.4153157635879714,
          0.4059217266648639,
          0.399126279194651,
          0.7689020720827743,
          0.409147596474284,
          0.7486217663463932,
          0.8508332579122243,
          0.7527985841882339,
          0.8383268006717248,
          0.8507362333402266,
          0.8422036721176405,
          0.7517311702613683,
          0.8527581016156502,
          0.7866878193334128,
          0.8039080720069934,
          0.8282920427745781,
          0.8527014611256633,
          0.8139722708168184,
          0.8341930717677171,
          0.8172280050636178,
          0.8206989350135774,
          0.8074261094301367,
          0.916046282124094,
          0.8583783708111693,
          0.9263780490352097,
          0.8838576952920031,
          0.8953170194986055,
          0.9228267739765562,
          0.9205205972512138,
          0.8813011012083066,
          0.8793835554282229,
          0.8869274881514708,
          0.9470696905823552,
          0.9489138463933516,
          0.6421437754229946,
          0.6070317482279792,
          0.63264736451901,
          0.6330764417693376,
          0.7104257548123127,
          0.6407587937684841,
          0.7914200050189752,
          0.7893289944765959,
          0.7076782976569451,
          0.7907516973282729,
          0.7900423872390341,
          0.7952394599671829,
          0.79135944996846,
          0.7286140395812136,
          0.9609913691328653,
          0.9619091496639667,
          0.9569359183379013,
          0.9631049134350703,
          0.690376445928067,
          0.951341135631249,
          0.6964144172703733,
          0.6878112488744064,
          0.685924502886597,
          0.6988606219994826,
          0.6898434846550043,
          0.7350466341325461,
          0.681784415082019,
          0.6793721615520965,
          0.6769982321232745,
          0.673998095114122,
          0.6806474540647283,
          0.5814531330163613,
          0.5628497756416455,
          0.6635038780445305,
          0.5701864545784294,
          0.5808023349884066,
          0.5750433607067401,
          0.5919535306184904,
          0.5721381527497079,
          0.6552316861108687,
          0.6610523563739698,
          0.7113054580559198,
          0.5185338177098953,
          0.6691540857060011,
          0.6612124575146535,
          0.6591227095789363,
          0.5052160581445523,
          0.6672061468985687,
          0.49473695705519755,
          0.515653552100806,
          0.6156386645520479,
          0.6076802207592443,
          0.6108637469813096,
          0.6099022422139118,
          0.6220311607239101,
          0.6298257552414546,
          0.6187316369350789,
          0.6196105386619435,
          0.6083542554880099,
          0.620886503998258,
          0.6304876100754011,
          0.540558130635628,
          0.6267195669458764,
          0.5447358246869636,
          0.544490504451695,
          0.6304408195489026,
          0.6453601020822827,
          0.543612849200017,
          0.6473295269191874,
          0.3444062379238788,
          0.6294044129723662,
          0.6397251106688132,
          0.5924641741141048,
          0.6409272829725893,
          0.5963375589617683,
          0.36110726488016087,
          0.5949381912502573,
          0.5946170064848393,
          0.6481185911418688,
          0.5968753126680195,
          0.595400614503981,
          0.5947970008809303,
          0.5937148881723231,
          0.6021801379923596,
          0.5956142937743185,
          0.6041083457373768,
          0.14691807698448178,
          0.5581376898410046,
          0.6554878641126669,
          0.6510704638245721,
          0.6566437923874245,
          0.6597425532128511,
          0.6548068768739322,
          0.178711403266122,
          0.6489276272788354,
          0.6542266275940476,
          0.6499487692768176,
          0.656116532973881,
          0.6506780501945484,
          0.6601852041746128,
          0.6565192198143093,
          0.6542318764549707,
          0.6452334896631289,
          0.6504132228435917,
          0.6476167346157335,
          0.6553868804632379,
          0.6569756583172782,
          0.6553835645551682,
          0.6549409563474259,
          0.6528306159909598,
          0.653112673261521,
          0.6505471540462009,
          0.648436225307068,
          0.7097361468411323,
          0.719071947658219,
          0.732208144159762,
          0.7111404731659079,
          0.6723247770223605,
          0.678289338211453,
          0.6704205631762349,
          0.6697384983906978,
          0.6720842948198754,
          0.6702999220328271,
          0.6731480582688217,
          0.6990477533997784,
          0.690477251252692,
          0.68990194258921,
          0.6961604033699265
         ],
         "xaxis": "x9",
         "y": [
          0.8697333695869662,
          0.8343887017369023,
          0.8724283026962679,
          0.8371493776138038,
          0.8324038308072138,
          0.7928429211416071,
          0.726482938562997,
          0.7039683532221055,
          0.7879925467962872,
          0.852574838157396,
          0.742746596613264,
          0.664058399937467,
          0.726550421972443,
          0.8687697886929644,
          0.42102732549775557,
          0.8724883764319697,
          0.8596488799861819,
          0.8538968116330924,
          0.8398629347441615,
          0.852345110144723,
          0.8123676566794081,
          0.8044800552938014,
          0.8481949393826929,
          0.8627617780487922,
          0.8332955929518084,
          0.8635315322176871,
          0.8845964362403608,
          0.884202364108609,
          0.8782260404137723,
          0.8622714338092983,
          0.8606647995384031,
          0.8608208327715985,
          0.8764435821670421,
          0.8746170067402741,
          0.8731172816343076,
          0.8769094781136811,
          0.8467642410957555,
          0.8465127873096098,
          0.8730626526193219,
          0.8718175640185757,
          0.8699661581900529,
          0.8776323091053356,
          0.8769789529901597,
          0.8787026660357485,
          0.8823530339097652,
          0.8796390355855014,
          0.8817371811581397,
          0.8801238209426717,
          0.8311622722655981,
          0.8184509487476752,
          0.8841087722344192,
          0.8816148531456118,
          0.8850928345354762,
          0.7503288437057085,
          0.880839317175027,
          0.8805603056570869,
          0.7283004796121253,
          0.5554651671869262,
          0.7419839178730845,
          0.7282774347881676,
          0.874545907292716,
          0.8832249492071291,
          0.875337225328723,
          0.8716104587508878,
          0.8685445980614134,
          0.8707373990740532,
          0.8659371186670665,
          0.8730733160425576,
          0.8734490862061556,
          0.8722843556928146,
          0.8251067215151018,
          0.8836418040493706,
          0.8303195182547627,
          0.8317431120666601,
          0.829292219051499,
          0.8320992126572836,
          0.8303124665729837,
          0.8749651726914944,
          0.8821621257740537,
          0.8822988051290684,
          0.885442744598816,
          0.8815719925990726,
          0.8743685946683547,
          0.8851299916719917,
          0.8832829029741314,
          0.8795618936619343,
          0.8805964670686418,
          0.8844025162427135,
          0.8815203981476,
          0.8830814105411295,
          0.8866263893117683,
          0.8861304759674568,
          0.8850247544163695,
          0.8847778021195716,
          0.8846223442950756,
          0.8808562878504645,
          0.8837638679800218,
          0.8832889719781439,
          0.8844328732276084,
          0.8853738361319925,
          0.8864388943394752,
          0.8859736474884704,
          0.8844233034181057,
          0.8813158066248448,
          0.8839017713528591,
          0.885972655368246,
          0.8845951428175407,
          0.885113315349407,
          0.884659973370433,
          0.8844649184261956,
          0.8836373735714439,
          0.8871269772682592,
          0.8816876771291458,
          0.8710122362922732,
          0.8817057697990937,
          0.8720552202999923,
          0.8715086451264863,
          0.8707895644861109,
          0.8697556317685043,
          0.8810083403764676,
          0.8831146025945686,
          0.8814469969853101,
          0.8849902076222896,
          0.8857461173522909,
          0.8843657365503258,
          0.8852856056937703,
          0.8856824678628517,
          0.8859411464220424,
          0.8844127188175064,
          0.8845341785673491,
          0.8859102423588034,
          0.8854202604488013,
          0.8871866105161462,
          0.8839643995587416,
          0.8855764927307648,
          0.883523422859129,
          0.8513038748050379,
          0.8530207569161383,
          0.8874825138168487,
          0.8393885439488257,
          0.8852535996745953,
          0.8506436988876136,
          0.8494885927202326,
          0.8511756941095449,
          0.8506682010936124,
          0.8493895133185518,
          0.885875081718616,
          0.8782753702508608,
          0.8861445965491335,
          0.8868671580665961,
          0.8878865302371544,
          0.8866097411152714,
          0.8852759266644071,
          0.88419271050085,
          0.8835370908529555,
          0.8823529149377041,
          0.8860792617673336,
          0.8859104219063021,
          0.8513080030168355,
          0.8851830901541955,
          0.8885290981596754,
          0.8882088532595084,
          0.8883463994343778,
          0.8892500079359404,
          0.8888693480074407,
          0.8625767224479828,
          0.887796283009903,
          0.8874556160192102,
          0.8872599242505388,
          0.8891665204996357,
          0.8874195730670872,
          0.8887955464471974,
          0.8872011939695736,
          0.8882347308608048,
          0.8881623779687151,
          0.8886203496187373,
          0.8885332604598102,
          0.8901887955873724,
          0.8884577841731037,
          0.8894172395402524,
          0.8891885037448543,
          0.8860646574461011,
          0.8887930924455676,
          0.8882736604218581,
          0.8880939220429832,
          0.8469513565367643,
          0.8497630075979419,
          0.8655950827352686,
          0.8885538466179994,
          0.8875850665143055,
          0.8880008978744348,
          0.8885622860045386,
          0.888668255339476,
          0.8758547036024573,
          0.8890414567628838,
          0.8877532755481145,
          0.8773786483609728,
          0.8880974438687399,
          0.8886433074584381,
          0.888960116316644
         ],
         "yaxis": "y9"
        }
       ],
       "layout": {
        "template": {
         "data": {
          "bar": [
           {
            "error_x": {
             "color": "#2a3f5f"
            },
            "error_y": {
             "color": "#2a3f5f"
            },
            "marker": {
             "line": {
              "color": "#E5ECF6",
              "width": 0.5
             },
             "pattern": {
              "fillmode": "overlay",
              "size": 10,
              "solidity": 0.2
             }
            },
            "type": "bar"
           }
          ],
          "barpolar": [
           {
            "marker": {
             "line": {
              "color": "#E5ECF6",
              "width": 0.5
             },
             "pattern": {
              "fillmode": "overlay",
              "size": 10,
              "solidity": 0.2
             }
            },
            "type": "barpolar"
           }
          ],
          "carpet": [
           {
            "aaxis": {
             "endlinecolor": "#2a3f5f",
             "gridcolor": "white",
             "linecolor": "white",
             "minorgridcolor": "white",
             "startlinecolor": "#2a3f5f"
            },
            "baxis": {
             "endlinecolor": "#2a3f5f",
             "gridcolor": "white",
             "linecolor": "white",
             "minorgridcolor": "white",
             "startlinecolor": "#2a3f5f"
            },
            "type": "carpet"
           }
          ],
          "choropleth": [
           {
            "colorbar": {
             "outlinewidth": 0,
             "ticks": ""
            },
            "type": "choropleth"
           }
          ],
          "contour": [
           {
            "colorbar": {
             "outlinewidth": 0,
             "ticks": ""
            },
            "colorscale": [
             [
              0,
              "#0d0887"
             ],
             [
              0.1111111111111111,
              "#46039f"
             ],
             [
              0.2222222222222222,
              "#7201a8"
             ],
             [
              0.3333333333333333,
              "#9c179e"
             ],
             [
              0.4444444444444444,
              "#bd3786"
             ],
             [
              0.5555555555555556,
              "#d8576b"
             ],
             [
              0.6666666666666666,
              "#ed7953"
             ],
             [
              0.7777777777777778,
              "#fb9f3a"
             ],
             [
              0.8888888888888888,
              "#fdca26"
             ],
             [
              1,
              "#f0f921"
             ]
            ],
            "type": "contour"
           }
          ],
          "contourcarpet": [
           {
            "colorbar": {
             "outlinewidth": 0,
             "ticks": ""
            },
            "type": "contourcarpet"
           }
          ],
          "heatmap": [
           {
            "colorbar": {
             "outlinewidth": 0,
             "ticks": ""
            },
            "colorscale": [
             [
              0,
              "#0d0887"
             ],
             [
              0.1111111111111111,
              "#46039f"
             ],
             [
              0.2222222222222222,
              "#7201a8"
             ],
             [
              0.3333333333333333,
              "#9c179e"
             ],
             [
              0.4444444444444444,
              "#bd3786"
             ],
             [
              0.5555555555555556,
              "#d8576b"
             ],
             [
              0.6666666666666666,
              "#ed7953"
             ],
             [
              0.7777777777777778,
              "#fb9f3a"
             ],
             [
              0.8888888888888888,
              "#fdca26"
             ],
             [
              1,
              "#f0f921"
             ]
            ],
            "type": "heatmap"
           }
          ],
          "heatmapgl": [
           {
            "colorbar": {
             "outlinewidth": 0,
             "ticks": ""
            },
            "colorscale": [
             [
              0,
              "#0d0887"
             ],
             [
              0.1111111111111111,
              "#46039f"
             ],
             [
              0.2222222222222222,
              "#7201a8"
             ],
             [
              0.3333333333333333,
              "#9c179e"
             ],
             [
              0.4444444444444444,
              "#bd3786"
             ],
             [
              0.5555555555555556,
              "#d8576b"
             ],
             [
              0.6666666666666666,
              "#ed7953"
             ],
             [
              0.7777777777777778,
              "#fb9f3a"
             ],
             [
              0.8888888888888888,
              "#fdca26"
             ],
             [
              1,
              "#f0f921"
             ]
            ],
            "type": "heatmapgl"
           }
          ],
          "histogram": [
           {
            "marker": {
             "pattern": {
              "fillmode": "overlay",
              "size": 10,
              "solidity": 0.2
             }
            },
            "type": "histogram"
           }
          ],
          "histogram2d": [
           {
            "colorbar": {
             "outlinewidth": 0,
             "ticks": ""
            },
            "colorscale": [
             [
              0,
              "#0d0887"
             ],
             [
              0.1111111111111111,
              "#46039f"
             ],
             [
              0.2222222222222222,
              "#7201a8"
             ],
             [
              0.3333333333333333,
              "#9c179e"
             ],
             [
              0.4444444444444444,
              "#bd3786"
             ],
             [
              0.5555555555555556,
              "#d8576b"
             ],
             [
              0.6666666666666666,
              "#ed7953"
             ],
             [
              0.7777777777777778,
              "#fb9f3a"
             ],
             [
              0.8888888888888888,
              "#fdca26"
             ],
             [
              1,
              "#f0f921"
             ]
            ],
            "type": "histogram2d"
           }
          ],
          "histogram2dcontour": [
           {
            "colorbar": {
             "outlinewidth": 0,
             "ticks": ""
            },
            "colorscale": [
             [
              0,
              "#0d0887"
             ],
             [
              0.1111111111111111,
              "#46039f"
             ],
             [
              0.2222222222222222,
              "#7201a8"
             ],
             [
              0.3333333333333333,
              "#9c179e"
             ],
             [
              0.4444444444444444,
              "#bd3786"
             ],
             [
              0.5555555555555556,
              "#d8576b"
             ],
             [
              0.6666666666666666,
              "#ed7953"
             ],
             [
              0.7777777777777778,
              "#fb9f3a"
             ],
             [
              0.8888888888888888,
              "#fdca26"
             ],
             [
              1,
              "#f0f921"
             ]
            ],
            "type": "histogram2dcontour"
           }
          ],
          "mesh3d": [
           {
            "colorbar": {
             "outlinewidth": 0,
             "ticks": ""
            },
            "type": "mesh3d"
           }
          ],
          "parcoords": [
           {
            "line": {
             "colorbar": {
              "outlinewidth": 0,
              "ticks": ""
             }
            },
            "type": "parcoords"
           }
          ],
          "pie": [
           {
            "automargin": true,
            "type": "pie"
           }
          ],
          "scatter": [
           {
            "marker": {
             "colorbar": {
              "outlinewidth": 0,
              "ticks": ""
             }
            },
            "type": "scatter"
           }
          ],
          "scatter3d": [
           {
            "line": {
             "colorbar": {
              "outlinewidth": 0,
              "ticks": ""
             }
            },
            "marker": {
             "colorbar": {
              "outlinewidth": 0,
              "ticks": ""
             }
            },
            "type": "scatter3d"
           }
          ],
          "scattercarpet": [
           {
            "marker": {
             "colorbar": {
              "outlinewidth": 0,
              "ticks": ""
             }
            },
            "type": "scattercarpet"
           }
          ],
          "scattergeo": [
           {
            "marker": {
             "colorbar": {
              "outlinewidth": 0,
              "ticks": ""
             }
            },
            "type": "scattergeo"
           }
          ],
          "scattergl": [
           {
            "marker": {
             "colorbar": {
              "outlinewidth": 0,
              "ticks": ""
             }
            },
            "type": "scattergl"
           }
          ],
          "scattermapbox": [
           {
            "marker": {
             "colorbar": {
              "outlinewidth": 0,
              "ticks": ""
             }
            },
            "type": "scattermapbox"
           }
          ],
          "scatterpolar": [
           {
            "marker": {
             "colorbar": {
              "outlinewidth": 0,
              "ticks": ""
             }
            },
            "type": "scatterpolar"
           }
          ],
          "scatterpolargl": [
           {
            "marker": {
             "colorbar": {
              "outlinewidth": 0,
              "ticks": ""
             }
            },
            "type": "scatterpolargl"
           }
          ],
          "scatterternary": [
           {
            "marker": {
             "colorbar": {
              "outlinewidth": 0,
              "ticks": ""
             }
            },
            "type": "scatterternary"
           }
          ],
          "surface": [
           {
            "colorbar": {
             "outlinewidth": 0,
             "ticks": ""
            },
            "colorscale": [
             [
              0,
              "#0d0887"
             ],
             [
              0.1111111111111111,
              "#46039f"
             ],
             [
              0.2222222222222222,
              "#7201a8"
             ],
             [
              0.3333333333333333,
              "#9c179e"
             ],
             [
              0.4444444444444444,
              "#bd3786"
             ],
             [
              0.5555555555555556,
              "#d8576b"
             ],
             [
              0.6666666666666666,
              "#ed7953"
             ],
             [
              0.7777777777777778,
              "#fb9f3a"
             ],
             [
              0.8888888888888888,
              "#fdca26"
             ],
             [
              1,
              "#f0f921"
             ]
            ],
            "type": "surface"
           }
          ],
          "table": [
           {
            "cells": {
             "fill": {
              "color": "#EBF0F8"
             },
             "line": {
              "color": "white"
             }
            },
            "header": {
             "fill": {
              "color": "#C8D4E3"
             },
             "line": {
              "color": "white"
             }
            },
            "type": "table"
           }
          ]
         },
         "layout": {
          "annotationdefaults": {
           "arrowcolor": "#2a3f5f",
           "arrowhead": 0,
           "arrowwidth": 1
          },
          "autotypenumbers": "strict",
          "coloraxis": {
           "colorbar": {
            "outlinewidth": 0,
            "ticks": ""
           }
          },
          "colorscale": {
           "diverging": [
            [
             0,
             "#8e0152"
            ],
            [
             0.1,
             "#c51b7d"
            ],
            [
             0.2,
             "#de77ae"
            ],
            [
             0.3,
             "#f1b6da"
            ],
            [
             0.4,
             "#fde0ef"
            ],
            [
             0.5,
             "#f7f7f7"
            ],
            [
             0.6,
             "#e6f5d0"
            ],
            [
             0.7,
             "#b8e186"
            ],
            [
             0.8,
             "#7fbc41"
            ],
            [
             0.9,
             "#4d9221"
            ],
            [
             1,
             "#276419"
            ]
           ],
           "sequential": [
            [
             0,
             "#0d0887"
            ],
            [
             0.1111111111111111,
             "#46039f"
            ],
            [
             0.2222222222222222,
             "#7201a8"
            ],
            [
             0.3333333333333333,
             "#9c179e"
            ],
            [
             0.4444444444444444,
             "#bd3786"
            ],
            [
             0.5555555555555556,
             "#d8576b"
            ],
            [
             0.6666666666666666,
             "#ed7953"
            ],
            [
             0.7777777777777778,
             "#fb9f3a"
            ],
            [
             0.8888888888888888,
             "#fdca26"
            ],
            [
             1,
             "#f0f921"
            ]
           ],
           "sequentialminus": [
            [
             0,
             "#0d0887"
            ],
            [
             0.1111111111111111,
             "#46039f"
            ],
            [
             0.2222222222222222,
             "#7201a8"
            ],
            [
             0.3333333333333333,
             "#9c179e"
            ],
            [
             0.4444444444444444,
             "#bd3786"
            ],
            [
             0.5555555555555556,
             "#d8576b"
            ],
            [
             0.6666666666666666,
             "#ed7953"
            ],
            [
             0.7777777777777778,
             "#fb9f3a"
            ],
            [
             0.8888888888888888,
             "#fdca26"
            ],
            [
             1,
             "#f0f921"
            ]
           ]
          },
          "colorway": [
           "#636efa",
           "#EF553B",
           "#00cc96",
           "#ab63fa",
           "#FFA15A",
           "#19d3f3",
           "#FF6692",
           "#B6E880",
           "#FF97FF",
           "#FECB52"
          ],
          "font": {
           "color": "#2a3f5f"
          },
          "geo": {
           "bgcolor": "white",
           "lakecolor": "white",
           "landcolor": "#E5ECF6",
           "showlakes": true,
           "showland": true,
           "subunitcolor": "white"
          },
          "hoverlabel": {
           "align": "left"
          },
          "hovermode": "closest",
          "mapbox": {
           "style": "light"
          },
          "paper_bgcolor": "white",
          "plot_bgcolor": "#E5ECF6",
          "polar": {
           "angularaxis": {
            "gridcolor": "white",
            "linecolor": "white",
            "ticks": ""
           },
           "bgcolor": "#E5ECF6",
           "radialaxis": {
            "gridcolor": "white",
            "linecolor": "white",
            "ticks": ""
           }
          },
          "scene": {
           "xaxis": {
            "backgroundcolor": "#E5ECF6",
            "gridcolor": "white",
            "gridwidth": 2,
            "linecolor": "white",
            "showbackground": true,
            "ticks": "",
            "zerolinecolor": "white"
           },
           "yaxis": {
            "backgroundcolor": "#E5ECF6",
            "gridcolor": "white",
            "gridwidth": 2,
            "linecolor": "white",
            "showbackground": true,
            "ticks": "",
            "zerolinecolor": "white"
           },
           "zaxis": {
            "backgroundcolor": "#E5ECF6",
            "gridcolor": "white",
            "gridwidth": 2,
            "linecolor": "white",
            "showbackground": true,
            "ticks": "",
            "zerolinecolor": "white"
           }
          },
          "shapedefaults": {
           "line": {
            "color": "#2a3f5f"
           }
          },
          "ternary": {
           "aaxis": {
            "gridcolor": "white",
            "linecolor": "white",
            "ticks": ""
           },
           "baxis": {
            "gridcolor": "white",
            "linecolor": "white",
            "ticks": ""
           },
           "bgcolor": "#E5ECF6",
           "caxis": {
            "gridcolor": "white",
            "linecolor": "white",
            "ticks": ""
           }
          },
          "title": {
           "x": 0.05
          },
          "xaxis": {
           "automargin": true,
           "gridcolor": "white",
           "linecolor": "white",
           "ticks": "",
           "title": {
            "standoff": 15
           },
           "zerolinecolor": "white",
           "zerolinewidth": 2
          },
          "yaxis": {
           "automargin": true,
           "gridcolor": "white",
           "linecolor": "white",
           "ticks": "",
           "title": {
            "standoff": 15
           },
           "zerolinecolor": "white",
           "zerolinewidth": 2
          }
         }
        },
        "title": {
         "text": "Slice Plot"
        },
        "width": 2700,
        "xaxis": {
         "anchor": "y",
         "domain": [
          0,
          0.09135802469135802
         ],
         "title": {
          "text": "colsample_bytree"
         }
        },
        "xaxis2": {
         "anchor": "y2",
         "domain": [
          0.11358024691358025,
          0.20493827160493827
         ],
         "title": {
          "text": "gamma"
         },
         "type": "log"
        },
        "xaxis3": {
         "anchor": "y3",
         "domain": [
          0.2271604938271605,
          0.31851851851851853
         ],
         "title": {
          "text": "learning_rate"
         }
        },
        "xaxis4": {
         "anchor": "y4",
         "domain": [
          0.34074074074074073,
          0.43209876543209874
         ],
         "title": {
          "text": "max_depth"
         }
        },
        "xaxis5": {
         "anchor": "y5",
         "domain": [
          0.454320987654321,
          0.5456790123456791
         ],
         "title": {
          "text": "min_child_weight"
         }
        },
        "xaxis6": {
         "anchor": "y6",
         "domain": [
          0.5679012345679012,
          0.6592592592592592
         ],
         "title": {
          "text": "n_estimators"
         }
        },
        "xaxis7": {
         "anchor": "y7",
         "domain": [
          0.6814814814814815,
          0.7728395061728395
         ],
         "title": {
          "text": "reg_alpha"
         },
         "type": "log"
        },
        "xaxis8": {
         "anchor": "y8",
         "domain": [
          0.7950617283950617,
          0.8864197530864197
         ],
         "title": {
          "text": "reg_lambda"
         },
         "type": "log"
        },
        "xaxis9": {
         "anchor": "y9",
         "domain": [
          0.908641975308642,
          1
         ],
         "title": {
          "text": "subsample"
         }
        },
        "yaxis": {
         "anchor": "x",
         "domain": [
          0,
          1
         ],
         "title": {
          "text": "Objective Value"
         }
        },
        "yaxis2": {
         "anchor": "x2",
         "domain": [
          0,
          1
         ],
         "matches": "y",
         "showticklabels": false
        },
        "yaxis3": {
         "anchor": "x3",
         "domain": [
          0,
          1
         ],
         "matches": "y",
         "showticklabels": false
        },
        "yaxis4": {
         "anchor": "x4",
         "domain": [
          0,
          1
         ],
         "matches": "y",
         "showticklabels": false
        },
        "yaxis5": {
         "anchor": "x5",
         "domain": [
          0,
          1
         ],
         "matches": "y",
         "showticklabels": false
        },
        "yaxis6": {
         "anchor": "x6",
         "domain": [
          0,
          1
         ],
         "matches": "y",
         "showticklabels": false
        },
        "yaxis7": {
         "anchor": "x7",
         "domain": [
          0,
          1
         ],
         "matches": "y",
         "showticklabels": false
        },
        "yaxis8": {
         "anchor": "x8",
         "domain": [
          0,
          1
         ],
         "matches": "y",
         "showticklabels": false
        },
        "yaxis9": {
         "anchor": "x9",
         "domain": [
          0,
          1
         ],
         "matches": "y",
         "showticklabels": false
        }
       }
      }
     },
     "metadata": {},
     "output_type": "display_data"
    }
   ],
   "source": [
    "# Display optuna visualisation for xgb study\n",
    "f.make_optuna_visualizations(xgb_study)"
   ]
  },
  {
   "cell_type": "markdown",
   "metadata": {},
   "source": [
    "### Extract Best Performing Estimator"
   ]
  },
  {
   "cell_type": "code",
   "execution_count": 32,
   "metadata": {},
   "outputs": [],
   "source": [
    "# Take best estimator from the optuna search\n",
    "xgb_tuned = xgb_oscv.best_estimator_"
   ]
  },
  {
   "cell_type": "code",
   "execution_count": 33,
   "metadata": {},
   "outputs": [
    {
     "name": "stdout",
     "output_type": "stream",
     "text": [
      "Train R2: 0.985247\n",
      "Validation R2: 0.878169\n"
     ]
    }
   ],
   "source": [
    "# Evaluate xgb model\n",
    "train_r2 = f.evaluate_model(xgb_tuned, metric = 'r2', **train_data)\n",
    "val_r2 = f.evaluate_model(xgb_tuned, metric = 'r2', **val_data)\n",
    "\n",
    "# Print performance metrics\n",
    "print('Train R2:', train_r2)\n",
    "print('Validation R2:', val_r2)"
   ]
  },
  {
   "cell_type": "markdown",
   "metadata": {},
   "source": [
    "The metrics show the model is a little overfit so we will do some manual adjustments."
   ]
  },
  {
   "cell_type": "markdown",
   "metadata": {},
   "source": [
    "### Manual Hyperparameter Adjustments"
   ]
  },
  {
   "cell_type": "markdown",
   "metadata": {},
   "source": [
    "##### subsample"
   ]
  },
  {
   "cell_type": "code",
   "execution_count": 58,
   "metadata": {},
   "outputs": [
    {
     "data": {
      "text/html": [
       "<div>\n",
       "<style scoped>\n",
       "    .dataframe tbody tr th:only-of-type {\n",
       "        vertical-align: middle;\n",
       "    }\n",
       "\n",
       "    .dataframe tbody tr th {\n",
       "        vertical-align: top;\n",
       "    }\n",
       "\n",
       "    .dataframe thead th {\n",
       "        text-align: right;\n",
       "    }\n",
       "</style>\n",
       "<table border=\"1\" class=\"dataframe\">\n",
       "  <thead>\n",
       "    <tr style=\"text-align: right;\">\n",
       "      <th></th>\n",
       "      <th>Train R2 Score</th>\n",
       "      <th>Validation R2 Score</th>\n",
       "      <th>Difference</th>\n",
       "    </tr>\n",
       "    <tr>\n",
       "      <th>subsample</th>\n",
       "      <th></th>\n",
       "      <th></th>\n",
       "      <th></th>\n",
       "    </tr>\n",
       "  </thead>\n",
       "  <tbody>\n",
       "    <tr>\n",
       "      <th>0.60</th>\n",
       "      <td>0.984580</td>\n",
       "      <td>0.879588</td>\n",
       "      <td>0.104992</td>\n",
       "    </tr>\n",
       "    <tr>\n",
       "      <th>0.80</th>\n",
       "      <td>0.986143</td>\n",
       "      <td>0.880749</td>\n",
       "      <td>0.105394</td>\n",
       "    </tr>\n",
       "    <tr>\n",
       "      <th>0.65</th>\n",
       "      <td>0.985050</td>\n",
       "      <td>0.879540</td>\n",
       "      <td>0.105510</td>\n",
       "    </tr>\n",
       "    <tr>\n",
       "      <th>0.50</th>\n",
       "      <td>0.982182</td>\n",
       "      <td>0.876306</td>\n",
       "      <td>0.105876</td>\n",
       "    </tr>\n",
       "    <tr>\n",
       "      <th>0.70</th>\n",
       "      <td>0.985483</td>\n",
       "      <td>0.879463</td>\n",
       "      <td>0.106020</td>\n",
       "    </tr>\n",
       "    <tr>\n",
       "      <th>0.45</th>\n",
       "      <td>0.980634</td>\n",
       "      <td>0.874369</td>\n",
       "      <td>0.106265</td>\n",
       "    </tr>\n",
       "    <tr>\n",
       "      <th>0.75</th>\n",
       "      <td>0.986250</td>\n",
       "      <td>0.879381</td>\n",
       "      <td>0.106869</td>\n",
       "    </tr>\n",
       "    <tr>\n",
       "      <th>0.55</th>\n",
       "      <td>0.983150</td>\n",
       "      <td>0.876185</td>\n",
       "      <td>0.106965</td>\n",
       "    </tr>\n",
       "  </tbody>\n",
       "</table>\n",
       "</div>"
      ],
      "text/plain": [
       "           Train R2 Score  Validation R2 Score  Difference\n",
       "subsample                                                 \n",
       "0.60             0.984580             0.879588    0.104992\n",
       "0.80             0.986143             0.880749    0.105394\n",
       "0.65             0.985050             0.879540    0.105510\n",
       "0.50             0.982182             0.876306    0.105876\n",
       "0.70             0.985483             0.879463    0.106020\n",
       "0.45             0.980634             0.874369    0.106265\n",
       "0.75             0.986250             0.879381    0.106869\n",
       "0.55             0.983150             0.876185    0.106965"
      ]
     },
     "execution_count": 58,
     "metadata": {},
     "output_type": "execute_result"
    }
   ],
   "source": [
    "oscv_params = xgb_oscv.best_params_\n",
    "\n",
    "# Create record dictionary\n",
    "results_record = {\n",
    "    'subsample' : [],\n",
    "    'Train R2 Score' : [],\n",
    "    'Validation R2 Score' : []}\n",
    "\n",
    "# Loop through hyperparameter options\n",
    "for ss in np.arange(0.45, 0.85, 0.05):\n",
    "\n",
    "    model_params = {\n",
    "        **base_params,\n",
    "        **oscv_params,\n",
    "        'subsample' : ss\n",
    "        }\n",
    "\n",
    "    # Create model with parameters\n",
    "    fn_model = XGBRegressor(**model_params).fit(**train_data)\n",
    "\n",
    "    # Evaluate model\n",
    "    train_r2 = f.evaluate_model(fn_model, metric = 'r2', **train_data)\n",
    "    val_r2 = f.evaluate_model(fn_model, metric = 'r2', **val_data)\n",
    "\n",
    "    # Save metrics to record dictionary\n",
    "    results_record['subsample'].append(ss)\n",
    "    results_record['Train R2 Score'].append(train_r2)\n",
    "    results_record['Validation R2 Score'].append(val_r2)\n",
    "\n",
    "# Make Results a dataframe\n",
    "pd_results_record = pd.DataFrame(results_record)\n",
    "\n",
    "# Calculate difference in R2 Scores\n",
    "pd_results_record['Difference'] = pd_results_record['Train R2 Score'] - pd_results_record['Validation R2 Score']\n",
    "\n",
    "pd_results_record_out = pd_results_record.nsmallest(8, 'Difference').set_index('subsample')\n",
    "\n",
    "pd_results_record_out"
   ]
  },
  {
   "cell_type": "markdown",
   "metadata": {},
   "source": [
    "There does not seem to be much of a change here so we will move to another set of hyperparameters."
   ]
  },
  {
   "cell_type": "markdown",
   "metadata": {},
   "source": [
    "##### `max_depth` and `learning_rate`"
   ]
  },
  {
   "cell_type": "code",
   "execution_count": 50,
   "metadata": {},
   "outputs": [
    {
     "data": {
      "text/html": [
       "<div>\n",
       "<style scoped>\n",
       "    .dataframe tbody tr th:only-of-type {\n",
       "        vertical-align: middle;\n",
       "    }\n",
       "\n",
       "    .dataframe tbody tr th {\n",
       "        vertical-align: top;\n",
       "    }\n",
       "\n",
       "    .dataframe thead th {\n",
       "        text-align: right;\n",
       "    }\n",
       "</style>\n",
       "<table border=\"1\" class=\"dataframe\">\n",
       "  <thead>\n",
       "    <tr style=\"text-align: right;\">\n",
       "      <th></th>\n",
       "      <th></th>\n",
       "      <th>Train R2 Score</th>\n",
       "      <th>Validation R2 Score</th>\n",
       "      <th>Difference</th>\n",
       "    </tr>\n",
       "    <tr>\n",
       "      <th>max_depth</th>\n",
       "      <th>learning_rate</th>\n",
       "      <th></th>\n",
       "      <th></th>\n",
       "      <th></th>\n",
       "    </tr>\n",
       "  </thead>\n",
       "  <tbody>\n",
       "    <tr>\n",
       "      <th rowspan=\"2\" valign=\"top\">2</th>\n",
       "      <th>0.03</th>\n",
       "      <td>0.831287</td>\n",
       "      <td>0.809192</td>\n",
       "      <td>0.022095</td>\n",
       "    </tr>\n",
       "    <tr>\n",
       "      <th>0.01</th>\n",
       "      <td>0.736916</td>\n",
       "      <td>0.714724</td>\n",
       "      <td>0.022192</td>\n",
       "    </tr>\n",
       "    <tr>\n",
       "      <th>3</th>\n",
       "      <th>0.01</th>\n",
       "      <td>0.813143</td>\n",
       "      <td>0.786560</td>\n",
       "      <td>0.026583</td>\n",
       "    </tr>\n",
       "    <tr>\n",
       "      <th>4</th>\n",
       "      <th>0.01</th>\n",
       "      <td>0.859726</td>\n",
       "      <td>0.826695</td>\n",
       "      <td>0.033031</td>\n",
       "    </tr>\n",
       "    <tr>\n",
       "      <th>3</th>\n",
       "      <th>0.03</th>\n",
       "      <td>0.886174</td>\n",
       "      <td>0.846713</td>\n",
       "      <td>0.039461</td>\n",
       "    </tr>\n",
       "    <tr>\n",
       "      <th>5</th>\n",
       "      <th>0.01</th>\n",
       "      <td>0.889622</td>\n",
       "      <td>0.848550</td>\n",
       "      <td>0.041072</td>\n",
       "    </tr>\n",
       "    <tr>\n",
       "      <th>2</th>\n",
       "      <th>0.10</th>\n",
       "      <td>0.885431</td>\n",
       "      <td>0.843926</td>\n",
       "      <td>0.041505</td>\n",
       "    </tr>\n",
       "    <tr>\n",
       "      <th>6</th>\n",
       "      <th>0.01</th>\n",
       "      <td>0.911562</td>\n",
       "      <td>0.861799</td>\n",
       "      <td>0.049763</td>\n",
       "    </tr>\n",
       "  </tbody>\n",
       "</table>\n",
       "</div>"
      ],
      "text/plain": [
       "                         Train R2 Score  Validation R2 Score  Difference\n",
       "max_depth learning_rate                                                 \n",
       "2         0.03                 0.831287             0.809192    0.022095\n",
       "          0.01                 0.736916             0.714724    0.022192\n",
       "3         0.01                 0.813143             0.786560    0.026583\n",
       "4         0.01                 0.859726             0.826695    0.033031\n",
       "3         0.03                 0.886174             0.846713    0.039461\n",
       "5         0.01                 0.889622             0.848550    0.041072\n",
       "2         0.10                 0.885431             0.843926    0.041505\n",
       "6         0.01                 0.911562             0.861799    0.049763"
      ]
     },
     "execution_count": 50,
     "metadata": {},
     "output_type": "execute_result"
    }
   ],
   "source": [
    "oscv_params = xgb_oscv.best_params_\n",
    "\n",
    "# Set parameters to test\n",
    "max_depth_params  = [2,3,4,5,6]\n",
    "learning_rate_params = [0.01, 0.03, 0.1]\n",
    "\n",
    "# Find all permutations of parameters\n",
    "param_perms = product(max_depth_params, learning_rate_params)\n",
    "\n",
    "# Define record dictionary\n",
    "results_record = {\n",
    "    'max_depth' : [],\n",
    "    'learning_rate' : [],\n",
    "    'Train R2 Score' : [],\n",
    "    'Validation R2 Score' : []}\n",
    "\n",
    "# Loop through possible reults\n",
    "for md, learnr in param_perms:\n",
    "\n",
    "    model_params = {\n",
    "        **base_params,\n",
    "        **oscv_params,\n",
    "        'max_depth' : md,\n",
    "        'learning_rate' : learnr\n",
    "        }\n",
    "\n",
    "\n",
    "    # Train model\n",
    "    fn_model = XGBRegressor(**model_params).fit(**train_data)\n",
    "\n",
    "    # Evaluate model\n",
    "    train_r2 = f.evaluate_model(fn_model, metric = 'r2', **train_data)\n",
    "    val_r2 = f.evaluate_model(fn_model, metric = 'r2', **val_data)\n",
    "\n",
    "    # Save metrics\n",
    "    results_record['max_depth'].append(md)\n",
    "    results_record['learning_rate'].append(learnr)\n",
    "    results_record['Train R2 Score'].append(train_r2)\n",
    "    results_record['Validation R2 Score'].append(val_r2)\n",
    "\n",
    "pd_results_record = pd.DataFrame(results_record)\n",
    "\n",
    "pd_results_record['Difference'] = pd_results_record['Train R2 Score'] - pd_results_record['Validation R2 Score']\n",
    "\n",
    "pd_results_record_out = pd_results_record.nsmallest(8, 'Difference').set_index(['max_depth', 'learning_rate'])\n",
    "\n",
    "pd_results_record_out"
   ]
  },
  {
   "cell_type": "code",
   "execution_count": 43,
   "metadata": {},
   "outputs": [
    {
     "name": "stderr",
     "output_type": "stream",
     "text": [
      "objc[65631]: Class WebSwapCGLLayer is implemented in both /System/Library/Frameworks/WebKit.framework/Versions/A/Frameworks/WebCore.framework/Versions/A/Frameworks/libANGLE-shared.dylib (0x7ffa62d1a318) and /Applications/Google Chrome.app/Contents/Frameworks/Google Chrome Framework.framework/Versions/101.0.4951.54/Libraries/libGLESv2.dylib (0x10e829218). One of the two will be used. Which one is undefined.\n",
      "[0505/175841.628972:INFO:headless_shell.cc(660)] Written to file /var/folders/2f/cwgmhyzx4fn5cwp5j_dpmsd00000gn/T/tmpti5xmk2m/temp.png.\n"
     ]
    }
   ],
   "source": [
    "# Export dataframe as image\n",
    "dfi.export(pd_results_record_out, p.OUTPUTS_PATH + 'tweaking_df.png')"
   ]
  },
  {
   "cell_type": "markdown",
   "metadata": {},
   "source": [
    "These results seem more promising. Due to the small gap and high values, we choose `max_depth` = 3 and `learning_rate` = 0.03"
   ]
  },
  {
   "cell_type": "markdown",
   "metadata": {},
   "source": [
    "### Train final XGBoost Model"
   ]
  },
  {
   "cell_type": "code",
   "execution_count": 51,
   "metadata": {},
   "outputs": [],
   "source": [
    "xgb_final_params = {**base_params, **oscv_params}\n",
    "\n",
    "# Set manual adjustments\n",
    "xgb_final_params['max_depth'] = 3\n",
    "xgb_final_params['learning_rate'] = 0.03\n",
    "\n",
    "# Train final XGB model\n",
    "final_xgb_tuned = XGBRegressor(**xgb_final_params).fit(**train_data)"
   ]
  },
  {
   "cell_type": "code",
   "execution_count": 52,
   "metadata": {},
   "outputs": [
    {
     "name": "stdout",
     "output_type": "stream",
     "text": [
      "Train R2: 0.886174\n",
      "Test R2: 0.846713\n"
     ]
    }
   ],
   "source": [
    "# Evaluate final model\n",
    "train_r2 = f.evaluate_model(final_xgb_tuned, metric = 'r2', **train_data)\n",
    "val_r2 = f.evaluate_model(final_xgb_tuned, metric = 'r2', **val_data)\n",
    "\n",
    "# Print metrics\n",
    "print('Train R2:', train_r2)\n",
    "print('Test R2:', val_r2)"
   ]
  },
  {
   "cell_type": "code",
   "execution_count": 55,
   "metadata": {},
   "outputs": [
    {
     "data": {
      "text/plain": [
       "['./outputs/xgb_model.pkl']"
      ]
     },
     "execution_count": 55,
     "metadata": {},
     "output_type": "execute_result"
    }
   ],
   "source": [
    "# Save XGB model\n",
    "joblib.dump(final_xgb_tuned, p.OUTPUTS_PATH + 'xgb_model.pkl')"
   ]
  },
  {
   "cell_type": "markdown",
   "metadata": {},
   "source": [
    "### RandomForest Model Tuning\n",
    "\n",
    "As mentioned, since the RandomForest hyperparameters are tree-based, we can tune them all with a single study. The parameters we will be tuning are the following: `max_depth`, `max_features`, `n_estimators`, `bootstrap`, `min_samples_leaf` and `min_samples_split`."
   ]
  },
  {
   "cell_type": "code",
   "execution_count": 34,
   "metadata": {},
   "outputs": [
    {
     "name": "stdout",
     "output_type": "stream",
     "text": [
      "Train R2: 0.981705\n",
      "Test R2: 0.868119\n"
     ]
    }
   ],
   "source": [
    "model = rf_optuna_base.fit(**train_data)\n",
    "\n",
    "# Evaluate model\n",
    "train_r2 = f.evaluate_model(model, metric = 'r2', **train_data)\n",
    "val_r2 = f.evaluate_model(model, metric = 'r2', **val_data)\n",
    "\n",
    "# Print results\n",
    "print('Train R2:', train_r2)\n",
    "print('Test R2:', val_r2)"
   ]
  },
  {
   "cell_type": "markdown",
   "metadata": {},
   "source": [
    "### Optuna Search"
   ]
  },
  {
   "cell_type": "code",
   "execution_count": 35,
   "metadata": {},
   "outputs": [
    {
     "name": "stderr",
     "output_type": "stream",
     "text": [
      "\u001b[32m[I 2022-05-04 22:27:34,325]\u001b[0m A new study created in memory with name: RF_HyperParam_CV\u001b[0m\n",
      "/var/folders/2f/cwgmhyzx4fn5cwp5j_dpmsd00000gn/T/ipykernel_58821/548707989.py:12: ExperimentalWarning:\n",
      "\n",
      "OptunaSearchCV is experimental (supported from v0.17.0). The interface can change in the future.\n",
      "\n",
      "\u001b[32m[I 2022-05-04 22:27:34,329]\u001b[0m Searching the best hyperparameters using 5256 samples...\u001b[0m\n",
      "\u001b[32m[I 2022-05-04 22:27:57,581]\u001b[0m Trial 4 finished with value: 0.24239856233205948 and parameters: {'max_depth': 15, 'max_features': 'auto', 'n_estimators': 73, 'bootstrap': True, 'min_samples_leaf': 0.29865857160004006, 'min_samples_split': 0.387935949304937}. Best is trial 4 with value: 0.24239856233205948.\u001b[0m\n",
      "\u001b[32m[I 2022-05-04 22:28:57,095]\u001b[0m Trial 3 finished with value: 0.2384037390712665 and parameters: {'max_depth': 6, 'max_features': 'auto', 'n_estimators': 129, 'bootstrap': False, 'min_samples_leaf': 0.48761740104823403, 'min_samples_split': 0.17321585685906338}. Best is trial 4 with value: 0.24239856233205948.\u001b[0m\n",
      "\u001b[32m[I 2022-05-04 22:32:07,112]\u001b[0m Trial 7 finished with value: 0.3437665512969016 and parameters: {'max_depth': 6, 'max_features': 'auto', 'n_estimators': 360, 'bootstrap': False, 'min_samples_leaf': 0.17047652178870915, 'min_samples_split': 0.15091764620410408}. Best is trial 7 with value: 0.3437665512969016.\u001b[0m\n",
      "\u001b[32m[I 2022-05-04 22:34:07,149]\u001b[0m Trial 2 finished with value: -0.0012845596280067983 and parameters: {'max_depth': 12, 'max_features': 'sqrt', 'n_estimators': 454, 'bootstrap': True, 'min_samples_leaf': 0.3947073347445695, 'min_samples_split': 0.33336849692660747}. Best is trial 7 with value: 0.3437665512969016.\u001b[0m\n",
      "\u001b[32m[I 2022-05-04 22:34:20,685]\u001b[0m Trial 5 finished with value: -0.001288822322591332 and parameters: {'max_depth': 10, 'max_features': 'log2', 'n_estimators': 517, 'bootstrap': True, 'min_samples_leaf': 0.44826276351747063, 'min_samples_split': 0.3378366465242841}. Best is trial 7 with value: 0.3437665512969016.\u001b[0m\n",
      "\u001b[32m[I 2022-05-04 22:35:38,917]\u001b[0m Trial 6 finished with value: 0.11215535479883725 and parameters: {'max_depth': 8, 'max_features': 'sqrt', 'n_estimators': 583, 'bootstrap': True, 'min_samples_leaf': 0.19885254979749312, 'min_samples_split': 0.4281684246470812}. Best is trial 7 with value: 0.3437665512969016.\u001b[0m\n",
      "\u001b[32m[I 2022-05-04 22:37:22,809]\u001b[0m Trial 0 finished with value: 0.0804891100285682 and parameters: {'max_depth': 10, 'max_features': 'log2', 'n_estimators': 760, 'bootstrap': False, 'min_samples_leaf': 0.3611824559639179, 'min_samples_split': 0.2640901869097675}. Best is trial 7 with value: 0.3437665512969016.\u001b[0m\n",
      "\u001b[32m[I 2022-05-04 22:37:45,967]\u001b[0m Trial 8 finished with value: 0.2462929368716981 and parameters: {'max_depth': 9, 'max_features': 'auto', 'n_estimators': 559, 'bootstrap': True, 'min_samples_leaf': 0.28837099027341884, 'min_samples_split': 0.20572634934126466}. Best is trial 7 with value: 0.3437665512969016.\u001b[0m\n",
      "\u001b[32m[I 2022-05-04 22:42:48,497]\u001b[0m Trial 14 finished with value: 0.08640398290017635 and parameters: {'max_depth': 6, 'max_features': 'log2', 'n_estimators': 211, 'bootstrap': True, 'min_samples_leaf': 0.19799476608271588, 'min_samples_split': 0.20876097787036585}. Best is trial 7 with value: 0.3437665512969016.\u001b[0m\n",
      "\u001b[32m[I 2022-05-04 22:43:07,350]\u001b[0m Trial 11 finished with value: 0.12483655347196901 and parameters: {'max_depth': 12, 'max_features': 'log2', 'n_estimators': 452, 'bootstrap': True, 'min_samples_leaf': 0.15745293359133, 'min_samples_split': 0.01638087187286974}. Best is trial 7 with value: 0.3437665512969016.\u001b[0m\n",
      "\u001b[32m[I 2022-05-04 22:43:45,905]\u001b[0m Trial 1 finished with value: -0.0012766438433560179 and parameters: {'max_depth': 11, 'max_features': 'log2', 'n_estimators': 991, 'bootstrap': True, 'min_samples_leaf': 0.3311937877575671, 'min_samples_split': 0.4813764013476718}. Best is trial 7 with value: 0.3437665512969016.\u001b[0m\n",
      "\u001b[32m[I 2022-05-04 22:44:47,060]\u001b[0m Trial 10 finished with value: 0.23928822502338676 and parameters: {'max_depth': 14, 'max_features': 'auto', 'n_estimators': 612, 'bootstrap': False, 'min_samples_leaf': 0.4781187014745683, 'min_samples_split': 0.4848748267856358}. Best is trial 7 with value: 0.3437665512969016.\u001b[0m\n",
      "\u001b[32m[I 2022-05-04 22:45:49,434]\u001b[0m Trial 9 finished with value: 0.2933625518994634 and parameters: {'max_depth': 7, 'max_features': 'log2', 'n_estimators': 832, 'bootstrap': False, 'min_samples_leaf': 0.06785336669489378, 'min_samples_split': 0.31663054714054484}. Best is trial 7 with value: 0.3437665512969016.\u001b[0m\n",
      "\u001b[32m[I 2022-05-04 22:48:40,514]\u001b[0m Trial 16 finished with value: 0.2350510658598779 and parameters: {'max_depth': 6, 'max_features': 'auto', 'n_estimators': 225, 'bootstrap': False, 'min_samples_leaf': 0.41855219515044767, 'min_samples_split': 0.09559394949638494}. Best is trial 7 with value: 0.3437665512969016.\u001b[0m\n",
      "\u001b[32m[I 2022-05-04 22:52:08,343]\u001b[0m Trial 18 finished with value: 0.42405532742679286 and parameters: {'max_depth': 8, 'max_features': 'auto', 'n_estimators': 334, 'bootstrap': False, 'min_samples_leaf': 0.0685387605915515, 'min_samples_split': 0.1088715546682163}. Best is trial 18 with value: 0.42405532742679286.\u001b[0m\n",
      "\u001b[32m[I 2022-05-04 22:52:17,940]\u001b[0m Trial 19 finished with value: 0.6280872895661493 and parameters: {'max_depth': 8, 'max_features': 'auto', 'n_estimators': 300, 'bootstrap': False, 'min_samples_leaf': 0.01197014697214041, 'min_samples_split': 0.10520423688725572}. Best is trial 19 with value: 0.6280872895661493.\u001b[0m\n",
      "\u001b[32m[I 2022-05-04 22:53:01,487]\u001b[0m Trial 12 finished with value: 0.07751927117017868 and parameters: {'max_depth': 11, 'max_features': 'log2', 'n_estimators': 841, 'bootstrap': True, 'min_samples_leaf': 0.29729492798331897, 'min_samples_split': 0.48313623843485215}. Best is trial 19 with value: 0.6280872895661493.\u001b[0m\n",
      "\u001b[32m[I 2022-05-04 22:53:46,821]\u001b[0m Trial 20 finished with value: 0.4869746336241869 and parameters: {'max_depth': 7, 'max_features': 'auto', 'n_estimators': 318, 'bootstrap': False, 'min_samples_leaf': 0.02961652768015871, 'min_samples_split': 0.05068853316045478}. Best is trial 19 with value: 0.6280872895661493.\u001b[0m\n",
      "\u001b[32m[I 2022-05-04 22:55:37,393]\u001b[0m Trial 13 finished with value: 0.39728306883542824 and parameters: {'max_depth': 10, 'max_features': 'auto', 'n_estimators': 971, 'bootstrap': False, 'min_samples_leaf': 0.06658858821653152, 'min_samples_split': 0.25387142647014227}. Best is trial 19 with value: 0.6280872895661493.\u001b[0m\n",
      "\u001b[32m[I 2022-05-04 22:55:52,030]\u001b[0m Trial 23 finished with value: 0.6627606273078482 and parameters: {'max_depth': 8, 'max_features': 'auto', 'n_estimators': 317, 'bootstrap': False, 'min_samples_leaf': 0.0008794234627899685, 'min_samples_split': 0.056781639288725705}. Best is trial 23 with value: 0.6627606273078482.\u001b[0m\n",
      "\u001b[32m[I 2022-05-04 22:55:54,492]\u001b[0m Trial 22 finished with value: 0.616474726753508 and parameters: {'max_depth': 8, 'max_features': 'auto', 'n_estimators': 334, 'bootstrap': False, 'min_samples_leaf': 0.016747533605877496, 'min_samples_split': 0.11388449820230995}. Best is trial 23 with value: 0.6627606273078482.\u001b[0m\n",
      "\u001b[32m[I 2022-05-04 22:55:57,363]\u001b[0m Trial 24 finished with value: 0.6555476274579792 and parameters: {'max_depth': 8, 'max_features': 'auto', 'n_estimators': 310, 'bootstrap': False, 'min_samples_leaf': 0.007876045711555387, 'min_samples_split': 0.050461822581239886}. Best is trial 23 with value: 0.6627606273078482.\u001b[0m\n",
      "\u001b[32m[I 2022-05-04 22:55:57,385]\u001b[0m Trial 15 finished with value: -0.0012747484138936338 and parameters: {'max_depth': 14, 'max_features': 'log2', 'n_estimators': 920, 'bootstrap': True, 'min_samples_leaf': 0.3665087524014136, 'min_samples_split': 0.3425112104804051}. Best is trial 23 with value: 0.6627606273078482.\u001b[0m\n",
      "\u001b[32m[I 2022-05-04 22:56:03,445]\u001b[0m Trial 25 finished with value: 0.6711888211406061 and parameters: {'max_depth': 8, 'max_features': 'auto', 'n_estimators': 329, 'bootstrap': False, 'min_samples_leaf': 0.007405990383968674, 'min_samples_split': 0.005645605953761401}. Best is trial 25 with value: 0.6711888211406061.\u001b[0m\n",
      "\u001b[32m[I 2022-05-04 22:56:24,056]\u001b[0m Trial 28 finished with value: 0.6527027307229204 and parameters: {'max_depth': 8, 'max_features': 'auto', 'n_estimators': 229, 'bootstrap': False, 'min_samples_leaf': 0.0015258234180280522, 'min_samples_split': 0.07920430281653558}. Best is trial 25 with value: 0.6711888211406061.\u001b[0m\n",
      "\u001b[32m[I 2022-05-04 22:56:25,064]\u001b[0m Trial 29 finished with value: 0.6805131262840851 and parameters: {'max_depth': 9, 'max_features': 'sqrt', 'n_estimators': 168, 'bootstrap': False, 'min_samples_leaf': 0.003694121796956054, 'min_samples_split': 0.000539932481340398}. Best is trial 29 with value: 0.6805131262840851.\u001b[0m\n",
      "\u001b[32m[I 2022-05-04 22:56:26,982]\u001b[0m Trial 17 finished with value: 0.4687551383716843 and parameters: {'max_depth': 15, 'max_features': 'auto', 'n_estimators': 992, 'bootstrap': False, 'min_samples_leaf': 0.039599896236701015, 'min_samples_split': 0.07165824133141699}. Best is trial 29 with value: 0.6805131262840851.\u001b[0m\n",
      "\u001b[32m[I 2022-05-04 22:56:27,676]\u001b[0m Trial 26 finished with value: 0.4542302185109948 and parameters: {'max_depth': 8, 'max_features': 'sqrt', 'n_estimators': 300, 'bootstrap': False, 'min_samples_leaf': 0.0335202694710946, 'min_samples_split': 0.009789142621859245}. Best is trial 29 with value: 0.6805131262840851.\u001b[0m\n",
      "\u001b[32m[I 2022-05-04 22:56:29,630]\u001b[0m Trial 27 finished with value: 0.6561138113480082 and parameters: {'max_depth': 8, 'max_features': 'sqrt', 'n_estimators': 222, 'bootstrap': False, 'min_samples_leaf': 0.002864362020354336, 'min_samples_split': 0.0016712608759010886}. Best is trial 29 with value: 0.6805131262840851.\u001b[0m\n",
      "\u001b[32m[I 2022-05-04 22:56:30,172]\u001b[0m Trial 30 finished with value: 0.2736809814980228 and parameters: {'max_depth': 9, 'max_features': 'sqrt', 'n_estimators': 221, 'bootstrap': False, 'min_samples_leaf': 0.11516285802507804, 'min_samples_split': 0.00014997645764832507}. Best is trial 29 with value: 0.6805131262840851.\u001b[0m\n",
      "\u001b[32m[I 2022-05-04 22:56:33,048]\u001b[0m Trial 31 finished with value: 0.26624421023188527 and parameters: {'max_depth': 9, 'max_features': 'sqrt', 'n_estimators': 209, 'bootstrap': False, 'min_samples_leaf': 0.12739464795006775, 'min_samples_split': 0.0002735838487438677}. Best is trial 29 with value: 0.6805131262840851.\u001b[0m\n",
      "\u001b[32m[I 2022-05-04 22:56:33,493]\u001b[0m Trial 21 finished with value: 0.5517163543986022 and parameters: {'max_depth': 8, 'max_features': 'sqrt', 'n_estimators': 908, 'bootstrap': False, 'min_samples_leaf': 0.0163312307544285, 'min_samples_split': 0.12638655853918418}. Best is trial 29 with value: 0.6805131262840851.\u001b[0m\n",
      "\u001b[32m[I 2022-05-04 22:56:39,087]\u001b[0m Trial 33 finished with value: 0.2745075651366841 and parameters: {'max_depth': 9, 'max_features': 'sqrt', 'n_estimators': 158, 'bootstrap': False, 'min_samples_leaf': 0.12030831180699107, 'min_samples_split': 0.0036731163462638368}. Best is trial 29 with value: 0.6805131262840851.\u001b[0m\n",
      "\u001b[32m[I 2022-05-04 22:56:40,151]\u001b[0m Trial 34 finished with value: 0.28607940990595154 and parameters: {'max_depth': 9, 'max_features': 'sqrt', 'n_estimators': 150, 'bootstrap': False, 'min_samples_leaf': 0.10393406813759831, 'min_samples_split': 0.01800772139727519}. Best is trial 29 with value: 0.6805131262840851.\u001b[0m\n",
      "\u001b[32m[I 2022-05-04 22:56:40,907]\u001b[0m Trial 35 finished with value: 0.27465878794342335 and parameters: {'max_depth': 9, 'max_features': 'sqrt', 'n_estimators': 153, 'bootstrap': False, 'min_samples_leaf': 0.11896202770007208, 'min_samples_split': 0.0034865963634676134}. Best is trial 29 with value: 0.6805131262840851.\u001b[0m\n",
      "\u001b[32m[I 2022-05-04 22:56:41,730]\u001b[0m Trial 37 finished with value: 0.2776562518065778 and parameters: {'max_depth': 9, 'max_features': 'sqrt', 'n_estimators': 139, 'bootstrap': False, 'min_samples_leaf': 0.11031649130630312, 'min_samples_split': 0.04104439937397005}. Best is trial 29 with value: 0.6805131262840851.\u001b[0m\n",
      "\u001b[32m[I 2022-05-04 22:56:42,632]\u001b[0m Trial 36 finished with value: 0.2687847722064792 and parameters: {'max_depth': 9, 'max_features': 'sqrt', 'n_estimators': 147, 'bootstrap': False, 'min_samples_leaf': 0.12370036370633959, 'min_samples_split': 0.03873231199516379}. Best is trial 29 with value: 0.6805131262840851.\u001b[0m\n",
      "\u001b[32m[I 2022-05-04 22:56:43,481]\u001b[0m Trial 39 finished with value: 0.2958388615524653 and parameters: {'max_depth': 7, 'max_features': 'sqrt', 'n_estimators': 101, 'bootstrap': False, 'min_samples_leaf': 0.09736707410740808, 'min_samples_split': 0.03610598180433662}. Best is trial 29 with value: 0.6805131262840851.\u001b[0m\n",
      "\u001b[32m[I 2022-05-04 22:56:45,524]\u001b[0m Trial 38 finished with value: 0.2777561721403106 and parameters: {'max_depth': 7, 'max_features': 'sqrt', 'n_estimators': 146, 'bootstrap': False, 'min_samples_leaf': 0.11226404641362576, 'min_samples_split': 0.03777109542629974}. Best is trial 29 with value: 0.6805131262840851.\u001b[0m\n",
      "\u001b[32m[I 2022-05-04 22:56:51,829]\u001b[0m Trial 32 finished with value: 0.2807424645697528 and parameters: {'max_depth': 9, 'max_features': 'sqrt', 'n_estimators': 415, 'bootstrap': False, 'min_samples_leaf': 0.11193768833396138, 'min_samples_split': 0.01306669980037501}. Best is trial 29 with value: 0.6805131262840851.\u001b[0m\n",
      "\u001b[32m[I 2022-05-04 22:57:11,511]\u001b[0m Trial 40 finished with value: 0.3306048215244822 and parameters: {'max_depth': 7, 'max_features': 'sqrt', 'n_estimators': 406, 'bootstrap': False, 'min_samples_leaf': 0.08077366849913994, 'min_samples_split': 0.04197973503544361}. Best is trial 29 with value: 0.6805131262840851.\u001b[0m\n",
      "\u001b[32m[I 2022-05-04 22:57:16,036]\u001b[0m Trial 44 finished with value: 0.367793614173286 and parameters: {'max_depth': 7, 'max_features': 'sqrt', 'n_estimators': 393, 'bootstrap': False, 'min_samples_leaf': 0.06107849038430999, 'min_samples_split': 0.06907810347033372}. Best is trial 29 with value: 0.6805131262840851.\u001b[0m\n",
      "\u001b[32m[I 2022-05-04 22:57:16,984]\u001b[0m Trial 42 finished with value: 0.3240118369145058 and parameters: {'max_depth': 10, 'max_features': 'sqrt', 'n_estimators': 407, 'bootstrap': False, 'min_samples_leaf': 0.08348493698205589, 'min_samples_split': 0.05369085994434994}. Best is trial 29 with value: 0.6805131262840851.\u001b[0m\n",
      "\u001b[32m[I 2022-05-04 22:57:17,491]\u001b[0m Trial 41 finished with value: 0.33957374509154475 and parameters: {'max_depth': 7, 'max_features': 'sqrt', 'n_estimators': 413, 'bootstrap': False, 'min_samples_leaf': 0.07581238781820415, 'min_samples_split': 0.042872954362372956}. Best is trial 29 with value: 0.6805131262840851.\u001b[0m\n",
      "\u001b[32m[I 2022-05-04 22:57:17,526]\u001b[0m Trial 45 finished with value: 0.3903032553582451 and parameters: {'max_depth': 10, 'max_features': 'sqrt', 'n_estimators': 424, 'bootstrap': False, 'min_samples_leaf': 0.052790308727537476, 'min_samples_split': 0.07104888067559445}. Best is trial 29 with value: 0.6805131262840851.\u001b[0m\n",
      "\u001b[32m[I 2022-05-04 22:57:18,218]\u001b[0m Trial 43 finished with value: 0.35177167364035933 and parameters: {'max_depth': 7, 'max_features': 'sqrt', 'n_estimators': 431, 'bootstrap': False, 'min_samples_leaf': 0.07016675730161075, 'min_samples_split': 0.05852584143882529}. Best is trial 29 with value: 0.6805131262840851.\u001b[0m\n",
      "\u001b[32m[I 2022-05-04 22:57:28,576]\u001b[0m Trial 49 finished with value: 0.4611921342568902 and parameters: {'max_depth': 10, 'max_features': 'auto', 'n_estimators': 52, 'bootstrap': False, 'min_samples_leaf': 0.04694120384209699, 'min_samples_split': 0.06588757587715302}. Best is trial 29 with value: 0.6805131262840851.\u001b[0m\n",
      "\u001b[32m[I 2022-05-04 22:57:29,363]\u001b[0m Trial 50 finished with value: 0.41734625782743295 and parameters: {'max_depth': 10, 'max_features': 'auto', 'n_estimators': 62, 'bootstrap': False, 'min_samples_leaf': 0.040573890996349574, 'min_samples_split': 0.15526465628425923}. Best is trial 29 with value: 0.6805131262840851.\u001b[0m\n",
      "\u001b[32m[I 2022-05-04 22:57:31,610]\u001b[0m Trial 46 finished with value: 0.37149501238873167 and parameters: {'max_depth': 10, 'max_features': 'sqrt', 'n_estimators': 469, 'bootstrap': False, 'min_samples_leaf': 0.06027352897590288, 'min_samples_split': 0.0708657172287771}. Best is trial 29 with value: 0.6805131262840851.\u001b[0m\n",
      "\u001b[32m[I 2022-05-04 22:57:42,025]\u001b[0m Trial 47 finished with value: 0.418901151275682 and parameters: {'max_depth': 10, 'max_features': 'auto', 'n_estimators': 389, 'bootstrap': False, 'min_samples_leaf': 0.04967945097430619, 'min_samples_split': 0.15211079432465857}. Best is trial 29 with value: 0.6805131262840851.\u001b[0m\n",
      "\u001b[32m[I 2022-05-04 22:58:00,657]\u001b[0m Trial 48 finished with value: 0.46220968544697605 and parameters: {'max_depth': 10, 'max_features': 'auto', 'n_estimators': 266, 'bootstrap': False, 'min_samples_leaf': 0.046123766398226, 'min_samples_split': 0.07161646119725228}. Best is trial 29 with value: 0.6805131262840851.\u001b[0m\n",
      "\u001b[32m[I 2022-05-04 22:58:08,560]\u001b[0m Trial 51 finished with value: 0.648671135764374 and parameters: {'max_depth': 10, 'max_features': 'auto', 'n_estimators': 267, 'bootstrap': False, 'min_samples_leaf': 0.004170192921227182, 'min_samples_split': 0.14772164709674102}. Best is trial 29 with value: 0.6805131262840851.\u001b[0m\n",
      "\u001b[32m[I 2022-05-04 22:58:21,529]\u001b[0m Trial 56 finished with value: 0.2537299143481947 and parameters: {'max_depth': 11, 'max_features': 'auto', 'n_estimators': 268, 'bootstrap': True, 'min_samples_leaf': 0.004394273006128413, 'min_samples_split': 0.4443480646518986}. Best is trial 29 with value: 0.6805131262840851.\u001b[0m\n",
      "\u001b[32m[I 2022-05-04 22:58:33,312]\u001b[0m Trial 57 finished with value: 0.25381547803321597 and parameters: {'max_depth': 11, 'max_features': 'auto', 'n_estimators': 281, 'bootstrap': True, 'min_samples_leaf': 0.0009923831979121072, 'min_samples_split': 0.4531319951608792}. Best is trial 29 with value: 0.6805131262840851.\u001b[0m\n",
      "\u001b[32m[I 2022-05-04 22:58:42,078]\u001b[0m Trial 53 finished with value: 0.43986225165838455 and parameters: {'max_depth': 11, 'max_features': 'auto', 'n_estimators': 496, 'bootstrap': True, 'min_samples_leaf': 0.03865513767788084, 'min_samples_split': 0.14861210280728487}. Best is trial 29 with value: 0.6805131262840851.\u001b[0m\n",
      "\u001b[32m[I 2022-05-04 22:58:44,119]\u001b[0m Trial 58 finished with value: 0.6568484122889172 and parameters: {'max_depth': 8, 'max_features': 'auto', 'n_estimators': 275, 'bootstrap': True, 'min_samples_leaf': 0.007517088500749948, 'min_samples_split': 0.09126818925654298}. Best is trial 29 with value: 0.6805131262840851.\u001b[0m\n",
      "\u001b[32m[I 2022-05-04 22:58:47,860]\u001b[0m Trial 55 finished with value: 0.2542210565314077 and parameters: {'max_depth': 11, 'max_features': 'auto', 'n_estimators': 490, 'bootstrap': True, 'min_samples_leaf': 0.24312330955474792, 'min_samples_split': 0.44748300100563854}. Best is trial 29 with value: 0.6805131262840851.\u001b[0m\n",
      "\u001b[32m[I 2022-05-04 22:58:54,005]\u001b[0m Trial 52 finished with value: 0.617144029514652 and parameters: {'max_depth': 8, 'max_features': 'auto', 'n_estimators': 516, 'bootstrap': False, 'min_samples_leaf': 0.002177482087150343, 'min_samples_split': 0.15504842882228953}. Best is trial 29 with value: 0.6805131262840851.\u001b[0m\n",
      "\u001b[32m[I 2022-05-04 22:58:58,056]\u001b[0m Trial 54 finished with value: 0.6472940380355995 and parameters: {'max_depth': 8, 'max_features': 'auto', 'n_estimators': 500, 'bootstrap': True, 'min_samples_leaf': 0.0030408980170265358, 'min_samples_split': 0.14905685549540215}. Best is trial 29 with value: 0.6805131262840851.\u001b[0m\n",
      "\u001b[32m[I 2022-05-04 22:58:59,488]\u001b[0m Trial 60 finished with value: 0.4823767140964307 and parameters: {'max_depth': 8, 'max_features': 'auto', 'n_estimators': 199, 'bootstrap': True, 'min_samples_leaf': 0.02410571130658836, 'min_samples_split': 0.08615472704879414}. Best is trial 29 with value: 0.6805131262840851.\u001b[0m\n",
      "\u001b[32m[I 2022-05-04 22:59:06,181]\u001b[0m Trial 61 finished with value: 0.6190874415382001 and parameters: {'max_depth': 8, 'max_features': 'auto', 'n_estimators': 185, 'bootstrap': False, 'min_samples_leaf': 0.01971609441722725, 'min_samples_split': 0.09250415003946838}. Best is trial 29 with value: 0.6805131262840851.\u001b[0m\n",
      "\u001b[32m[I 2022-05-04 22:59:29,728]\u001b[0m Trial 65 finished with value: 0.32433224511994885 and parameters: {'max_depth': 8, 'max_features': 'log2', 'n_estimators': 358, 'bootstrap': True, 'min_samples_leaf': 0.025856928575129147, 'min_samples_split': 0.2878310289328632}. Best is trial 29 with value: 0.6805131262840851.\u001b[0m\n",
      "\u001b[32m[I 2022-05-04 22:59:36,330]\u001b[0m Trial 59 finished with value: 0.6621214007737207 and parameters: {'max_depth': 8, 'max_features': 'auto', 'n_estimators': 639, 'bootstrap': True, 'min_samples_leaf': 0.0031369273638920956, 'min_samples_split': 0.09375613553454187}. Best is trial 29 with value: 0.6805131262840851.\u001b[0m\n",
      "\u001b[32m[I 2022-05-04 22:59:38,886]\u001b[0m Trial 66 finished with value: 0.35912021595653915 and parameters: {'max_depth': 6, 'max_features': 'log2', 'n_estimators': 361, 'bootstrap': True, 'min_samples_leaf': 0.02509062178624045, 'min_samples_split': 0.19520163790938855}. Best is trial 29 with value: 0.6805131262840851.\u001b[0m\n",
      "\u001b[32m[I 2022-05-04 22:59:50,971]\u001b[0m Trial 64 finished with value: 0.43755861517882144 and parameters: {'max_depth': 8, 'max_features': 'log2', 'n_estimators': 616, 'bootstrap': True, 'min_samples_leaf': 0.016715533518753302, 'min_samples_split': 0.20437173170111672}. Best is trial 29 with value: 0.6805131262840851.\u001b[0m\n",
      "\u001b[32m[I 2022-05-04 22:59:52,665]\u001b[0m Trial 63 finished with value: 0.07869294844119624 and parameters: {'max_depth': 8, 'max_features': 'log2', 'n_estimators': 677, 'bootstrap': True, 'min_samples_leaf': 0.2596002332542497, 'min_samples_split': 0.19392919632355818}. Best is trial 29 with value: 0.6805131262840851.\u001b[0m\n",
      "\u001b[32m[I 2022-05-04 22:59:58,743]\u001b[0m Trial 67 finished with value: 0.3680371949077411 and parameters: {'max_depth': 6, 'max_features': 'log2', 'n_estimators': 668, 'bootstrap': True, 'min_samples_leaf': 0.023755168326021304, 'min_samples_split': 0.20640955347690004}. Best is trial 29 with value: 0.6805131262840851.\u001b[0m\n",
      "\u001b[32m[I 2022-05-04 23:00:01,424]\u001b[0m Trial 68 finished with value: 0.3962053937079216 and parameters: {'max_depth': 8, 'max_features': 'log2', 'n_estimators': 612, 'bootstrap': True, 'min_samples_leaf': 0.024472878591361102, 'min_samples_split': 0.02431345508119035}. Best is trial 29 with value: 0.6805131262840851.\u001b[0m\n",
      "\u001b[32m[I 2022-05-04 23:00:05,739]\u001b[0m Trial 62 finished with value: 0.281868799748893 and parameters: {'max_depth': 8, 'max_features': 'auto', 'n_estimators': 683, 'bootstrap': False, 'min_samples_leaf': 0.2540453029377512, 'min_samples_split': 0.09342434404043568}. Best is trial 29 with value: 0.6805131262840851.\u001b[0m\n",
      "\u001b[32m[I 2022-05-04 23:00:17,334]\u001b[0m Trial 74 finished with value: 0.319564743979819 and parameters: {'max_depth': 9, 'max_features': 'auto', 'n_estimators': 107, 'bootstrap': True, 'min_samples_leaf': 0.16076128740062123, 'min_samples_split': 0.023050386576757533}. Best is trial 29 with value: 0.6805131262840851.\u001b[0m\n",
      "\u001b[32m[I 2022-05-04 23:00:23,939]\u001b[0m Trial 76 finished with value: 0.3452446792314657 and parameters: {'max_depth': 9, 'max_features': 'auto', 'n_estimators': 103, 'bootstrap': True, 'min_samples_leaf': 0.1426921700604565, 'min_samples_split': 0.023464520960135727}. Best is trial 29 with value: 0.6805131262840851.\u001b[0m\n",
      "\u001b[32m[I 2022-05-04 23:00:35,560]\u001b[0m Trial 75 finished with value: 0.327930422185212 and parameters: {'max_depth': 9, 'max_features': 'auto', 'n_estimators': 242, 'bootstrap': True, 'min_samples_leaf': 0.15490181610698078, 'min_samples_split': 0.11978945192808137}. Best is trial 29 with value: 0.6805131262840851.\u001b[0m\n",
      "\u001b[32m[I 2022-05-04 23:00:53,908]\u001b[0m Trial 77 finished with value: 0.4116426847525746 and parameters: {'max_depth': 7, 'max_features': 'auto', 'n_estimators': 247, 'bootstrap': False, 'min_samples_leaf': 0.08991500450250299, 'min_samples_split': 0.12431065006245533}. Best is trial 29 with value: 0.6805131262840851.\u001b[0m\n",
      "\u001b[32m[I 2022-05-04 23:00:59,480]\u001b[0m Trial 69 finished with value: 0.48551181236444885 and parameters: {'max_depth': 6, 'max_features': 'auto', 'n_estimators': 682, 'bootstrap': False, 'min_samples_leaf': 0.0282671923997821, 'min_samples_split': 0.027429474841522694}. Best is trial 29 with value: 0.6805131262840851.\u001b[0m\n",
      "\u001b[32m[I 2022-05-04 23:00:59,977]\u001b[0m Trial 71 finished with value: -0.0012857620453925022 and parameters: {'max_depth': 7, 'max_features': 'auto', 'n_estimators': 642, 'bootstrap': True, 'min_samples_leaf': 0.3457058413808191, 'min_samples_split': 0.02354808618530905}. Best is trial 29 with value: 0.6805131262840851.\u001b[0m\n",
      "\u001b[32m[I 2022-05-04 23:01:00,357]\u001b[0m Trial 78 finished with value: 0.2350510658598779 and parameters: {'max_depth': 7, 'max_features': 'auto', 'n_estimators': 237, 'bootstrap': False, 'min_samples_leaf': 0.34905771832762117, 'min_samples_split': 0.12401778057236228}. Best is trial 29 with value: 0.6805131262840851.\u001b[0m\n",
      "\u001b[32m[I 2022-05-04 23:01:17,855]\u001b[0m Trial 70 finished with value: 0.4097980769060053 and parameters: {'max_depth': 6, 'max_features': 'auto', 'n_estimators': 681, 'bootstrap': True, 'min_samples_leaf': 0.025911739775715474, 'min_samples_split': 0.21894106189328438}. Best is trial 29 with value: 0.6805131262840851.\u001b[0m\n",
      "\u001b[32m[I 2022-05-04 23:01:19,956]\u001b[0m Trial 79 finished with value: 0.38956323573040413 and parameters: {'max_depth': 7, 'max_features': 'auto', 'n_estimators': 239, 'bootstrap': False, 'min_samples_leaf': 0.09052878502255607, 'min_samples_split': 0.3821133759031822}. Best is trial 29 with value: 0.6805131262840851.\u001b[0m\n",
      "\u001b[32m[I 2022-05-04 23:01:27,512]\u001b[0m Trial 72 finished with value: 0.5035934319302883 and parameters: {'max_depth': 7, 'max_features': 'auto', 'n_estimators': 714, 'bootstrap': True, 'min_samples_leaf': 0.030883808038275992, 'min_samples_split': 0.027180742520179955}. Best is trial 29 with value: 0.6805131262840851.\u001b[0m\n",
      "\u001b[32m[I 2022-05-04 23:01:33,980]\u001b[0m Trial 81 finished with value: 0.2350510658598778 and parameters: {'max_depth': 7, 'max_features': 'auto', 'n_estimators': 180, 'bootstrap': False, 'min_samples_leaf': 0.3470529609301407, 'min_samples_split': 0.0515789503206886}. Best is trial 29 with value: 0.6805131262840851.\u001b[0m\n",
      "\u001b[32m[I 2022-05-04 23:01:35,554]\u001b[0m Trial 83 finished with value: 0.46961778172043633 and parameters: {'max_depth': 8, 'max_features': 'auto', 'n_estimators': 183, 'bootstrap': False, 'min_samples_leaf': 0.037934979914015565, 'min_samples_split': 0.08486610372879494}. Best is trial 29 with value: 0.6805131262840851.\u001b[0m\n",
      "\u001b[32m[I 2022-05-04 23:01:51,985]\u001b[0m Trial 73 finished with value: 0.39198991635679575 and parameters: {'max_depth': 9, 'max_features': 'auto', 'n_estimators': 665, 'bootstrap': True, 'min_samples_leaf': 0.09123239460971824, 'min_samples_split': 0.02281297828436305}. Best is trial 29 with value: 0.6805131262840851.\u001b[0m\n",
      "\u001b[32m[I 2022-05-04 23:01:56,957]\u001b[0m Trial 80 finished with value: 0.47556492698001646 and parameters: {'max_depth': 7, 'max_features': 'auto', 'n_estimators': 316, 'bootstrap': False, 'min_samples_leaf': 0.035676112681555475, 'min_samples_split': 0.08208458086183516}. Best is trial 29 with value: 0.6805131262840851.\u001b[0m\n",
      "\u001b[32m[I 2022-05-04 23:01:58,715]\u001b[0m Trial 85 finished with value: 0.43717476169437397 and parameters: {'max_depth': 8, 'max_features': 'auto', 'n_estimators': 184, 'bootstrap': False, 'min_samples_leaf': 0.056805479365777976, 'min_samples_split': 0.08387138430235273}. Best is trial 29 with value: 0.6805131262840851.\u001b[0m\n",
      "\u001b[32m[I 2022-05-04 23:02:36,848]\u001b[0m Trial 86 finished with value: 0.43476902369818465 and parameters: {'max_depth': 8, 'max_features': 'auto', 'n_estimators': 317, 'bootstrap': False, 'min_samples_leaf': 0.058058490050704785, 'min_samples_split': 0.08479620356727187}. Best is trial 29 with value: 0.6805131262840851.\u001b[0m\n",
      "\u001b[32m[I 2022-05-04 23:02:48,198]\u001b[0m Trial 88 finished with value: 0.6885681283189549 and parameters: {'max_depth': 12, 'max_features': 'auto', 'n_estimators': 310, 'bootstrap': False, 'min_samples_leaf': 0.011736768611783042, 'min_samples_split': 0.10438716571746426}. Best is trial 88 with value: 0.6885681283189549.\u001b[0m\n",
      "\u001b[32m[I 2022-05-04 23:03:09,040]\u001b[0m Trial 90 finished with value: 0.7017202218584145 and parameters: {'max_depth': 14, 'max_features': 'auto', 'n_estimators': 284, 'bootstrap': False, 'min_samples_leaf': 0.007863748044651475, 'min_samples_split': 0.1009618404320334}. Best is trial 90 with value: 0.7017202218584145.\u001b[0m\n",
      "\u001b[32m[I 2022-05-04 23:03:10,853]\u001b[0m Trial 89 finished with value: 0.6391865451292393 and parameters: {'max_depth': 9, 'max_features': 'auto', 'n_estimators': 309, 'bootstrap': False, 'min_samples_leaf': 0.008843636280477863, 'min_samples_split': 0.10467665033065253}. Best is trial 90 with value: 0.7017202218584145.\u001b[0m\n",
      "\u001b[32m[I 2022-05-04 23:03:16,713]\u001b[0m Trial 91 finished with value: 0.6387106154541987 and parameters: {'max_depth': 9, 'max_features': 'auto', 'n_estimators': 307, 'bootstrap': False, 'min_samples_leaf': 0.009110444700430728, 'min_samples_split': 0.10663256234684468}. Best is trial 90 with value: 0.7017202218584145.\u001b[0m\n",
      "\u001b[32m[I 2022-05-04 23:03:23,474]\u001b[0m Trial 84 finished with value: 0.38956323573040436 and parameters: {'max_depth': 8, 'max_features': 'auto', 'n_estimators': 548, 'bootstrap': False, 'min_samples_leaf': 0.05901985182108618, 'min_samples_split': 0.3636538920000177}. Best is trial 90 with value: 0.7017202218584145.\u001b[0m\n",
      "\u001b[32m[I 2022-05-04 23:03:37,258]\u001b[0m Trial 82 finished with value: 0.47142096758736535 and parameters: {'max_depth': 8, 'max_features': 'auto', 'n_estimators': 743, 'bootstrap': False, 'min_samples_leaf': 0.03838936150235694, 'min_samples_split': 0.05350923926923698}. Best is trial 90 with value: 0.7017202218584145.\u001b[0m\n",
      "\u001b[32m[I 2022-05-04 23:03:40,882]\u001b[0m Trial 87 finished with value: 0.44081579819370864 and parameters: {'max_depth': 8, 'max_features': 'auto', 'n_estimators': 551, 'bootstrap': False, 'min_samples_leaf': 0.054847897472183965, 'min_samples_split': 0.08058818291568204}. Best is trial 90 with value: 0.7017202218584145.\u001b[0m\n",
      "\u001b[32m[I 2022-05-04 23:03:45,605]\u001b[0m Trial 92 finished with value: 0.6706224028865659 and parameters: {'max_depth': 9, 'max_features': 'auto', 'n_estimators': 290, 'bootstrap': False, 'min_samples_leaf': 0.01192280771560648, 'min_samples_split': 0.009756837686055782}. Best is trial 90 with value: 0.7017202218584145.\u001b[0m\n",
      "\u001b[32m[I 2022-05-04 23:04:29,211]\u001b[0m Trial 95 finished with value: 0.605950970897646 and parameters: {'max_depth': 13, 'max_features': 'sqrt', 'n_estimators': 349, 'bootstrap': False, 'min_samples_leaf': 0.014905041406461195, 'min_samples_split': 0.05559996595758379}. Best is trial 90 with value: 0.7017202218584145.\u001b[0m\n",
      "\u001b[32m[I 2022-05-04 23:04:29,513]\u001b[0m Trial 94 finished with value: 0.6280952816615484 and parameters: {'max_depth': 13, 'max_features': 'sqrt', 'n_estimators': 347, 'bootstrap': False, 'min_samples_leaf': 0.01231489429595519, 'min_samples_split': 0.05569691689739194}. Best is trial 90 with value: 0.7017202218584145.\u001b[0m\n",
      "\u001b[32m[I 2022-05-04 23:04:33,892]\u001b[0m Trial 97 finished with value: 0.586835986110255 and parameters: {'max_depth': 13, 'max_features': 'sqrt', 'n_estimators': 350, 'bootstrap': False, 'min_samples_leaf': 0.014258421586296727, 'min_samples_split': 0.13535674590466545}. Best is trial 90 with value: 0.7017202218584145.\u001b[0m\n",
      "\u001b[32m[I 2022-05-04 23:04:48,413]\u001b[0m Trial 93 finished with value: 0.6044960015595433 and parameters: {'max_depth': 13, 'max_features': 'sqrt', 'n_estimators': 548, 'bootstrap': False, 'min_samples_leaf': 0.012590944598078194, 'min_samples_split': 0.11108107928739255}. Best is trial 90 with value: 0.7017202218584145.\u001b[0m\n",
      "\u001b[32m[I 2022-05-04 23:05:20,350]\u001b[0m Trial 100 finished with value: 0.6198327106636635 and parameters: {'max_depth': 12, 'max_features': 'sqrt', 'n_estimators': 362, 'bootstrap': False, 'min_samples_leaf': 0.014148579188329694, 'min_samples_split': 0.012333865630416597}. Best is trial 90 with value: 0.7017202218584145.\u001b[0m\n",
      "\u001b[32m[I 2022-05-04 23:10:52,925]\u001b[0m Trial 98 finished with value: 0.6170332410241921 and parameters: {'max_depth': 13, 'max_features': 'sqrt', 'n_estimators': 347, 'bootstrap': False, 'min_samples_leaf': 0.013426167859223766, 'min_samples_split': 0.06090163956978752}. Best is trial 90 with value: 0.7017202218584145.\u001b[0m\n",
      "\u001b[32m[I 2022-05-04 23:11:07,516]\u001b[0m Trial 99 finished with value: 0.6541644875633204 and parameters: {'max_depth': 14, 'max_features': 'sqrt', 'n_estimators': 351, 'bootstrap': False, 'min_samples_leaf': 5.8321271923433924e-05, 'min_samples_split': 0.13282243936306715}. Best is trial 90 with value: 0.7017202218584145.\u001b[0m\n",
      "\u001b[32m[I 2022-05-04 23:45:07,677]\u001b[0m Trial 101 finished with value: 0.7603373965732685 and parameters: {'max_depth': 12, 'max_features': 'sqrt', 'n_estimators': 283, 'bootstrap': False, 'min_samples_leaf': 0.00046480989459027344, 'min_samples_split': 0.01068448520911772}. Best is trial 101 with value: 0.7603373965732685.\u001b[0m\n",
      "\u001b[32m[I 2022-05-04 23:45:35,331]\u001b[0m Trial 102 finished with value: 0.3319921121843219 and parameters: {'max_depth': 14, 'max_features': 'auto', 'n_estimators': 287, 'bootstrap': False, 'min_samples_leaf': 0.19244793602738228, 'min_samples_split': 0.004412065046388059}. Best is trial 101 with value: 0.7603373965732685.\u001b[0m\n",
      "\u001b[32m[I 2022-05-04 23:45:37,065]\u001b[0m Trial 103 finished with value: 0.8011916305913968 and parameters: {'max_depth': 15, 'max_features': 'auto', 'n_estimators': 286, 'bootstrap': False, 'min_samples_leaf': 0.0009843589179222164, 'min_samples_split': 0.005391643571965053}. Best is trial 103 with value: 0.8011916305913968.\u001b[0m\n",
      "\u001b[32m[I 2022-05-04 23:47:26,441]\u001b[0m Trial 104 finished with value: 0.8009524823143479 and parameters: {'max_depth': 15, 'max_features': 'auto', 'n_estimators': 279, 'bootstrap': False, 'min_samples_leaf': 0.00042748318612675657, 'min_samples_split': 0.006781621581376477}. Best is trial 103 with value: 0.8011916305913968.\u001b[0m\n",
      "\u001b[32m[I 2022-05-04 23:47:39,809]\u001b[0m Trial 96 finished with value: 0.6390911419558386 and parameters: {'max_depth': 13, 'max_features': 'sqrt', 'n_estimators': 762, 'bootstrap': False, 'min_samples_leaf': 0.010808203589089446, 'min_samples_split': 0.059078101770093136}. Best is trial 103 with value: 0.8011916305913968.\u001b[0m\n",
      "\u001b[32m[I 2022-05-04 23:47:42,570]\u001b[0m Trial 105 finished with value: 0.46828095544670434 and parameters: {'max_depth': 12, 'max_features': 'auto', 'n_estimators': 277, 'bootstrap': False, 'min_samples_leaf': 0.041036567567438495, 'min_samples_split': 0.001947742255905707}. Best is trial 103 with value: 0.8011916305913968.\u001b[0m\n",
      "\u001b[32m[I 2022-05-04 23:48:15,456]\u001b[0m Trial 106 finished with value: 0.41915951073491764 and parameters: {'max_depth': 9, 'max_features': 'auto', 'n_estimators': 284, 'bootstrap': False, 'min_samples_leaf': 0.07252644489457608, 'min_samples_split': 0.004928029653412093}. Best is trial 103 with value: 0.8011916305913968.\u001b[0m\n",
      "\u001b[32m[I 2022-05-04 23:48:38,993]\u001b[0m Trial 107 finished with value: 0.2350510658598779 and parameters: {'max_depth': 12, 'max_features': 'auto', 'n_estimators': 291, 'bootstrap': False, 'min_samples_leaf': 0.42260114254103065, 'min_samples_split': 0.0026781052930820518}. Best is trial 103 with value: 0.8011916305913968.\u001b[0m\n",
      "\u001b[32m[I 2022-05-04 23:49:47,054]\u001b[0m Trial 108 finished with value: 0.4622069115136706 and parameters: {'max_depth': 15, 'max_features': 'auto', 'n_estimators': 275, 'bootstrap': False, 'min_samples_leaf': 0.04649595596734067, 'min_samples_split': 0.000596372071798167}. Best is trial 103 with value: 0.8011916305913968.\u001b[0m\n",
      "\u001b[32m[I 2022-05-04 23:50:12,703]\u001b[0m Trial 110 finished with value: 0.4622069115136706 and parameters: {'max_depth': 15, 'max_features': 'auto', 'n_estimators': 285, 'bootstrap': False, 'min_samples_leaf': 0.046459979100091434, 'min_samples_split': 0.009822480108698153}. Best is trial 103 with value: 0.8011916305913968.\u001b[0m\n",
      "\u001b[32m[I 2022-05-04 23:52:57,051]\u001b[0m Trial 113 finished with value: 0.23505106585987798 and parameters: {'max_depth': 15, 'max_features': 'auto', 'n_estimators': 293, 'bootstrap': False, 'min_samples_leaf': 0.4177952548863907, 'min_samples_split': 0.034551392211286475}. Best is trial 103 with value: 0.8011916305913968.\u001b[0m\n",
      "\u001b[32m[I 2022-05-04 23:54:14,053]\u001b[0m Trial 111 finished with value: 0.4641763297081182 and parameters: {'max_depth': 15, 'max_features': 'auto', 'n_estimators': 378, 'bootstrap': False, 'min_samples_leaf': 0.04449922036354864, 'min_samples_split': 0.03410621809962389}. Best is trial 103 with value: 0.8011916305913968.\u001b[0m\n",
      "\u001b[32m[I 2022-05-04 23:54:34,082]\u001b[0m Trial 112 finished with value: 0.23505106585987798 and parameters: {'max_depth': 15, 'max_features': 'auto', 'n_estimators': 380, 'bootstrap': False, 'min_samples_leaf': 0.4114920098299424, 'min_samples_split': 0.011271251621284173}. Best is trial 103 with value: 0.8011916305913968.\u001b[0m\n",
      "\u001b[32m[I 2022-05-04 23:55:10,040]\u001b[0m Trial 116 finished with value: 0.7662071373881849 and parameters: {'max_depth': 15, 'max_features': 'auto', 'n_estimators': 258, 'bootstrap': False, 'min_samples_leaf': 0.00014350665833241707, 'min_samples_split': 0.035737841928774286}. Best is trial 103 with value: 0.8011916305913968.\u001b[0m\n",
      "\u001b[32m[I 2022-05-04 23:55:17,199]\u001b[0m Trial 114 finished with value: 0.45867264147170966 and parameters: {'max_depth': 15, 'max_features': 'auto', 'n_estimators': 381, 'bootstrap': False, 'min_samples_leaf': 0.047498627826298725, 'min_samples_split': 0.0419986857582378}. Best is trial 103 with value: 0.8011916305913968.\u001b[0m\n",
      "\u001b[32m[I 2022-05-04 23:55:38,054]\u001b[0m Trial 117 finished with value: 0.23928822502338667 and parameters: {'max_depth': 14, 'max_features': 'auto', 'n_estimators': 259, 'bootstrap': False, 'min_samples_leaf': 0.4855005001660647, 'min_samples_split': 0.04403185492649432}. Best is trial 103 with value: 0.8011916305913968.\u001b[0m\n",
      "\u001b[32m[I 2022-05-04 23:57:10,508]\u001b[0m Trial 115 finished with value: 0.4625558120957556 and parameters: {'max_depth': 15, 'max_features': 'auto', 'n_estimators': 444, 'bootstrap': False, 'min_samples_leaf': 0.04587660888040206, 'min_samples_split': 0.03158918533763691}. Best is trial 103 with value: 0.8011916305913968.\u001b[0m\n",
      "\u001b[32m[I 2022-05-04 23:58:32,104]\u001b[0m Trial 118 finished with value: 0.4819050949943879 and parameters: {'max_depth': 15, 'max_features': 'auto', 'n_estimators': 257, 'bootstrap': False, 'min_samples_leaf': 0.0334766828002013, 'min_samples_split': 0.03479014675565323}. Best is trial 103 with value: 0.8011916305913968.\u001b[0m\n",
      "\u001b[32m[I 2022-05-04 23:59:01,959]\u001b[0m Trial 120 finished with value: 0.7338756350117133 and parameters: {'max_depth': 14, 'max_features': 'sqrt', 'n_estimators': 214, 'bootstrap': False, 'min_samples_leaf': 0.00019326198722992218, 'min_samples_split': 0.04419818066836489}. Best is trial 103 with value: 0.8011916305913968.\u001b[0m\n",
      "\u001b[32m[I 2022-05-04 23:59:24,391]\u001b[0m Trial 119 finished with value: 0.7532657051314009 and parameters: {'max_depth': 14, 'max_features': 'auto', 'n_estimators': 254, 'bootstrap': False, 'min_samples_leaf': 0.002056562237426627, 'min_samples_split': 0.04463669554892821}. Best is trial 103 with value: 0.8011916305913968.\u001b[0m\n",
      "\u001b[32m[I 2022-05-05 00:00:20,200]\u001b[0m Trial 121 finished with value: 0.4877716338492669 and parameters: {'max_depth': 14, 'max_features': 'auto', 'n_estimators': 256, 'bootstrap': False, 'min_samples_leaf': 0.031148815822384983, 'min_samples_split': 0.03477969553523941}. Best is trial 103 with value: 0.8011916305913968.\u001b[0m\n",
      "\u001b[32m[I 2022-05-05 00:00:42,460]\u001b[0m Trial 122 finished with value: 0.23421529459679924 and parameters: {'max_depth': 14, 'max_features': 'auto', 'n_estimators': 258, 'bootstrap': False, 'min_samples_leaf': 0.4951687264580979, 'min_samples_split': 0.017177329202371205}. Best is trial 103 with value: 0.8011916305913968.\u001b[0m\n",
      "\u001b[32m[I 2022-05-05 00:01:05,221]\u001b[0m Trial 109 finished with value: 0.4644790580057183 and parameters: {'max_depth': 12, 'max_features': 'auto', 'n_estimators': 819, 'bootstrap': False, 'min_samples_leaf': 0.0431547087076058, 'min_samples_split': 0.0349631877921968}. Best is trial 103 with value: 0.8011916305913968.\u001b[0m\n",
      "\u001b[32m[I 2022-05-05 00:01:37,228]\u001b[0m Trial 124 finished with value: 0.4864291552062502 and parameters: {'max_depth': 14, 'max_features': 'auto', 'n_estimators': 210, 'bootstrap': False, 'min_samples_leaf': 0.03165934309712824, 'min_samples_split': 0.016550979407627998}. Best is trial 103 with value: 0.8011916305913968.\u001b[0m\n",
      "\u001b[32m[I 2022-05-05 00:02:26,023]\u001b[0m Trial 123 finished with value: 0.48772602366789836 and parameters: {'max_depth': 14, 'max_features': 'auto', 'n_estimators': 329, 'bootstrap': False, 'min_samples_leaf': 0.03142642194717016, 'min_samples_split': 0.01781568292492077}. Best is trial 103 with value: 0.8011916305913968.\u001b[0m\n",
      "\u001b[32m[I 2022-05-05 00:02:56,511]\u001b[0m Trial 125 finished with value: 0.7860910057418563 and parameters: {'max_depth': 14, 'max_features': 'auto', 'n_estimators': 213, 'bootstrap': False, 'min_samples_leaf': 0.00016018924036724416, 'min_samples_split': 0.02068358373866544}. Best is trial 103 with value: 0.8011916305913968.\u001b[0m\n",
      "\u001b[32m[I 2022-05-05 00:03:38,693]\u001b[0m Trial 126 finished with value: 0.539070443431949 and parameters: {'max_depth': 14, 'max_features': 'sqrt', 'n_estimators': 226, 'bootstrap': False, 'min_samples_leaf': 0.023224320103913444, 'min_samples_split': 0.016822615271302768}. Best is trial 103 with value: 0.8011916305913968.\u001b[0m\n",
      "\u001b[32m[I 2022-05-05 00:03:43,670]\u001b[0m Trial 127 finished with value: 0.7773376805115718 and parameters: {'max_depth': 14, 'max_features': 'sqrt', 'n_estimators': 213, 'bootstrap': False, 'min_samples_leaf': 0.00036914552596894416, 'min_samples_split': 0.016346331785839847}. Best is trial 103 with value: 0.8011916305913968.\u001b[0m\n",
      "\u001b[32m[I 2022-05-05 00:05:01,995]\u001b[0m Trial 129 finished with value: 0.7762234767076419 and parameters: {'max_depth': 14, 'max_features': 'sqrt', 'n_estimators': 221, 'bootstrap': False, 'min_samples_leaf': 0.0008380365333520144, 'min_samples_split': 0.015189228874580057}. Best is trial 103 with value: 0.8011916305913968.\u001b[0m\n",
      "\u001b[32m[I 2022-05-05 00:05:20,636]\u001b[0m Trial 130 finished with value: 0.5580262222857152 and parameters: {'max_depth': 14, 'max_features': 'sqrt', 'n_estimators': 215, 'bootstrap': False, 'min_samples_leaf': 0.02103079004634527, 'min_samples_split': 0.015666432676698483}. Best is trial 103 with value: 0.8011916305913968.\u001b[0m\n",
      "\u001b[32m[I 2022-05-05 00:07:08,530]\u001b[0m Trial 128 finished with value: 0.7705446829294533 and parameters: {'max_depth': 14, 'max_features': 'sqrt', 'n_estimators': 334, 'bootstrap': False, 'min_samples_leaf': 0.0007377964582756021, 'min_samples_split': 0.01856398706310523}. Best is trial 103 with value: 0.8011916305913968.\u001b[0m\n",
      "\u001b[32m[I 2022-05-05 00:07:12,411]\u001b[0m Trial 133 finished with value: 0.5622554572747256 and parameters: {'max_depth': 14, 'max_features': 'sqrt', 'n_estimators': 207, 'bootstrap': False, 'min_samples_leaf': 0.020202386105553048, 'min_samples_split': 0.046661689669933566}. Best is trial 103 with value: 0.8011916305913968.\u001b[0m\n",
      "\u001b[32m[I 2022-05-05 00:07:15,024]\u001b[0m Trial 132 finished with value: 0.7327632161757531 and parameters: {'max_depth': 14, 'max_features': 'sqrt', 'n_estimators': 227, 'bootstrap': False, 'min_samples_leaf': 0.0015033576353349401, 'min_samples_split': 0.04539726009004244}. Best is trial 103 with value: 0.8011916305913968.\u001b[0m\n",
      "\u001b[32m[I 2022-05-05 00:07:59,901]\u001b[0m Trial 134 finished with value: 0.7317071321755899 and parameters: {'max_depth': 14, 'max_features': 'sqrt', 'n_estimators': 196, 'bootstrap': False, 'min_samples_leaf': 0.0022464872540770816, 'min_samples_split': 0.043176748250468355}. Best is trial 103 with value: 0.8011916305913968.\u001b[0m\n",
      "\u001b[32m[I 2022-05-05 00:08:09,138]\u001b[0m Trial 135 finished with value: 0.7324840810741178 and parameters: {'max_depth': 14, 'max_features': 'sqrt', 'n_estimators': 205, 'bootstrap': False, 'min_samples_leaf': 0.00025385932607616807, 'min_samples_split': 0.04730905291705277}. Best is trial 103 with value: 0.8011916305913968.\u001b[0m\n",
      "\u001b[32m[I 2022-05-05 00:08:11,535]\u001b[0m Trial 137 finished with value: 0.7346058294440403 and parameters: {'max_depth': 14, 'max_features': 'sqrt', 'n_estimators': 118, 'bootstrap': False, 'min_samples_leaf': 0.0008765639084475503, 'min_samples_split': 0.04376468902092417}. Best is trial 103 with value: 0.8011916305913968.\u001b[0m\n",
      "\u001b[32m[I 2022-05-05 00:08:22,739]\u001b[0m Trial 131 finished with value: 0.5454814478102735 and parameters: {'max_depth': 14, 'max_features': 'sqrt', 'n_estimators': 331, 'bootstrap': False, 'min_samples_leaf': 0.02146092243948415, 'min_samples_split': 0.06729348542137781}. Best is trial 103 with value: 0.8011916305913968.\u001b[0m\n",
      "\u001b[32m[I 2022-05-05 00:09:34,307]\u001b[0m Trial 136 finished with value: 0.7336229548969692 and parameters: {'max_depth': 14, 'max_features': 'sqrt', 'n_estimators': 207, 'bootstrap': False, 'min_samples_leaf': 6.84839156176939e-05, 'min_samples_split': 0.04565195395932058}. Best is trial 103 with value: 0.8011916305913968.\u001b[0m\n",
      "\u001b[32m[I 2022-05-05 00:10:13,837]\u001b[0m Trial 139 finished with value: 0.7656319735765995 and parameters: {'max_depth': 14, 'max_features': 'sqrt', 'n_estimators': 134, 'bootstrap': False, 'min_samples_leaf': 0.0003696775453138991, 'min_samples_split': 0.02265430354377898}. Best is trial 103 with value: 0.8011916305913968.\u001b[0m\n",
      "\u001b[32m[I 2022-05-05 00:10:35,196]\u001b[0m Trial 140 finished with value: 0.7046944612450821 and parameters: {'max_depth': 14, 'max_features': 'sqrt', 'n_estimators': 160, 'bootstrap': False, 'min_samples_leaf': 0.0028843636471569288, 'min_samples_split': 0.06870667511750517}. Best is trial 103 with value: 0.8011916305913968.\u001b[0m\n",
      "\u001b[32m[I 2022-05-05 00:10:45,586]\u001b[0m Trial 138 finished with value: 0.7323152001035302 and parameters: {'max_depth': 14, 'max_features': 'sqrt', 'n_estimators': 165, 'bootstrap': False, 'min_samples_leaf': 0.0015309894955556757, 'min_samples_split': 0.04652525437900418}. Best is trial 103 with value: 0.8011916305913968.\u001b[0m\n",
      "\u001b[32m[I 2022-05-05 00:10:46,780]\u001b[0m Trial 142 finished with value: 0.42891740695065683 and parameters: {'max_depth': 14, 'max_features': 'sqrt', 'n_estimators': 128, 'bootstrap': False, 'min_samples_leaf': 0.0033034273219513604, 'min_samples_split': 0.49961252786308585}. Best is trial 103 with value: 0.8011916305913968.\u001b[0m\n",
      "\u001b[32m[I 2022-05-05 00:10:49,212]\u001b[0m Trial 143 finished with value: 0.704295062247766 and parameters: {'max_depth': 14, 'max_features': 'sqrt', 'n_estimators': 124, 'bootstrap': False, 'min_samples_leaf': 0.0012357541951623918, 'min_samples_split': 0.07283350512947986}. Best is trial 103 with value: 0.8011916305913968.\u001b[0m\n",
      "\u001b[32m[I 2022-05-05 00:11:39,839]\u001b[0m Trial 141 finished with value: 0.7094849458053495 and parameters: {'max_depth': 14, 'max_features': 'sqrt', 'n_estimators': 172, 'bootstrap': False, 'min_samples_leaf': 0.00047556128356494664, 'min_samples_split': 0.06696403799409845}. Best is trial 103 with value: 0.8011916305913968.\u001b[0m\n",
      "\u001b[32m[I 2022-05-05 00:12:01,529]\u001b[0m Trial 144 finished with value: 0.7326355392669301 and parameters: {'max_depth': 14, 'max_features': 'sqrt', 'n_estimators': 166, 'bootstrap': False, 'min_samples_leaf': 0.0005088825434327764, 'min_samples_split': 0.047832215012839394}. Best is trial 103 with value: 0.8011916305913968.\u001b[0m\n",
      "\u001b[32m[I 2022-05-05 00:12:27,040]\u001b[0m Trial 150 finished with value: 0.6056945616227906 and parameters: {'max_depth': 15, 'max_features': 'sqrt', 'n_estimators': 71, 'bootstrap': False, 'min_samples_leaf': 0.015893119673263418, 'min_samples_split': 0.02667869225063631}. Best is trial 103 with value: 0.8011916305913968.\u001b[0m\n",
      "\u001b[32m[I 2022-05-05 00:12:29,128]\u001b[0m Trial 145 finished with value: 0.7642899562220277 and parameters: {'max_depth': 15, 'max_features': 'sqrt', 'n_estimators': 139, 'bootstrap': False, 'min_samples_leaf': 0.0007528376580091011, 'min_samples_split': 0.027600967523905336}. Best is trial 103 with value: 0.8011916305913968.\u001b[0m\n",
      "\u001b[32m[I 2022-05-05 00:12:41,145]\u001b[0m Trial 149 finished with value: 0.5593043962609743 and parameters: {'max_depth': 15, 'max_features': 'sqrt', 'n_estimators': 81, 'bootstrap': False, 'min_samples_leaf': 0.02114676645816561, 'min_samples_split': 0.027226554231084714}. Best is trial 103 with value: 0.8011916305913968.\u001b[0m\n",
      "\u001b[32m[I 2022-05-05 00:12:43,733]\u001b[0m Trial 146 finished with value: 0.7557397468443263 and parameters: {'max_depth': 15, 'max_features': 'sqrt', 'n_estimators': 115, 'bootstrap': False, 'min_samples_leaf': 0.0018294397730070542, 'min_samples_split': 0.030166579943162512}. Best is trial 103 with value: 0.8011916305913968.\u001b[0m\n",
      "\u001b[32m[I 2022-05-05 00:13:05,286]\u001b[0m Trial 147 finished with value: 0.7732238633784607 and parameters: {'max_depth': 15, 'max_features': 'sqrt', 'n_estimators': 126, 'bootstrap': False, 'min_samples_leaf': 0.00033787174514600263, 'min_samples_split': 0.023406059723867167}. Best is trial 103 with value: 0.8011916305913968.\u001b[0m\n",
      "\u001b[32m[I 2022-05-05 00:13:15,540]\u001b[0m Trial 148 finished with value: 0.5753592646831367 and parameters: {'max_depth': 15, 'max_features': 'sqrt', 'n_estimators': 119, 'bootstrap': False, 'min_samples_leaf': 0.019505240188504087, 'min_samples_split': 0.029361101412763022}. Best is trial 103 with value: 0.8011916305913968.\u001b[0m\n",
      "\u001b[32m[I 2022-05-05 00:13:45,988]\u001b[0m Trial 152 finished with value: 0.5780979767915329 and parameters: {'max_depth': 15, 'max_features': 'sqrt', 'n_estimators': 86, 'bootstrap': False, 'min_samples_leaf': 0.01919719366964921, 'min_samples_split': 0.025643814633071926}. Best is trial 103 with value: 0.8011916305913968.\u001b[0m\n",
      "/opt/anaconda3/envs/data_analytics/lib/python3.9/site-packages/joblib/externals/loky/process_executor.py:702: UserWarning:\n",
      "\n",
      "A worker stopped while some jobs were given to the executor. This can be caused by a too short worker timeout or by a memory leak.\n",
      "\n",
      "\u001b[32m[I 2022-05-05 00:30:08,921]\u001b[0m Trial 156 finished with value: 0.5741467131613047 and parameters: {'max_depth': 15, 'max_features': 'sqrt', 'n_estimators': 89, 'bootstrap': False, 'min_samples_leaf': 0.020028557080901854, 'min_samples_split': 0.021713432114582782}. Best is trial 103 with value: 0.8011916305913968.\u001b[0m\n",
      "\u001b[32m[I 2022-05-05 00:30:21,880]\u001b[0m Trial 154 finished with value: 0.5605795737192576 and parameters: {'max_depth': 15, 'max_features': 'sqrt', 'n_estimators': 83, 'bootstrap': False, 'min_samples_leaf': 0.021013044764317142, 'min_samples_split': 0.02694800902104861}. Best is trial 103 with value: 0.8011916305913968.\u001b[0m\n",
      "\u001b[32m[I 2022-05-05 00:31:00,229]\u001b[0m Trial 157 finished with value: 0.5715835605354762 and parameters: {'max_depth': 15, 'max_features': 'sqrt', 'n_estimators': 85, 'bootstrap': False, 'min_samples_leaf': 0.019699244451846894, 'min_samples_split': 0.023361745649683338}. Best is trial 103 with value: 0.8011916305913968.\u001b[0m\n",
      "\u001b[32m[I 2022-05-05 00:31:40,631]\u001b[0m Trial 151 finished with value: 0.5750775097683496 and parameters: {'max_depth': 15, 'max_features': 'sqrt', 'n_estimators': 234, 'bootstrap': False, 'min_samples_leaf': 0.019029493485770575, 'min_samples_split': 0.025858738586919058}. Best is trial 103 with value: 0.8011916305913968.\u001b[0m\n",
      "\u001b[32m[I 2022-05-05 00:31:41,604]\u001b[0m Trial 158 finished with value: 0.6107032063750365 and parameters: {'max_depth': 15, 'max_features': 'sqrt', 'n_estimators': 97, 'bootstrap': False, 'min_samples_leaf': 0.015247529234827889, 'min_samples_split': 0.02132451875192619}. Best is trial 103 with value: 0.8011916305913968.\u001b[0m\n",
      "/opt/anaconda3/envs/data_analytics/lib/python3.9/site-packages/joblib/externals/loky/process_executor.py:702: UserWarning:\n",
      "\n",
      "A worker stopped while some jobs were given to the executor. This can be caused by a too short worker timeout or by a memory leak.\n",
      "\n",
      "\u001b[32m[I 2022-05-05 00:41:26,904]\u001b[0m Trial 160 finished with value: 0.48978982417736117 and parameters: {'max_depth': 15, 'max_features': 'sqrt', 'n_estimators': 105, 'bootstrap': False, 'min_samples_leaf': 0.029858371961110988, 'min_samples_split': 0.013204195677840449}. Best is trial 103 with value: 0.8011916305913968.\u001b[0m\n",
      "\u001b[32m[I 2022-05-05 00:41:42,496]\u001b[0m Trial 153 finished with value: 0.5662496055333776 and parameters: {'max_depth': 13, 'max_features': 'sqrt', 'n_estimators': 231, 'bootstrap': False, 'min_samples_leaf': 0.020187520912882274, 'min_samples_split': 0.02232733091863909}. Best is trial 103 with value: 0.8011916305913968.\u001b[0m\n",
      "\u001b[32m[I 2022-05-05 00:41:56,647]\u001b[0m Trial 155 finished with value: 0.5786307247800547 and parameters: {'max_depth': 15, 'max_features': 'sqrt', 'n_estimators': 230, 'bootstrap': False, 'min_samples_leaf': 0.018861354393015253, 'min_samples_split': 0.024348663563125546}. Best is trial 103 with value: 0.8011916305913968.\u001b[0m\n",
      "\u001b[32m[I 2022-05-05 00:42:15,867]\u001b[0m Trial 161 finished with value: 0.49172508976165935 and parameters: {'max_depth': 15, 'max_features': 'sqrt', 'n_estimators': 138, 'bootstrap': False, 'min_samples_leaf': 0.029790336325906015, 'min_samples_split': 0.012745009032140627}. Best is trial 103 with value: 0.8011916305913968.\u001b[0m\n",
      "\u001b[32m[I 2022-05-05 00:42:49,128]\u001b[0m Trial 159 finished with value: 0.4980738081930206 and parameters: {'max_depth': 15, 'max_features': 'sqrt', 'n_estimators': 143, 'bootstrap': False, 'min_samples_leaf': 0.028780680714130032, 'min_samples_split': 0.011177182770601852}. Best is trial 103 with value: 0.8011916305913968.\u001b[0m\n",
      "\u001b[32m[I 2022-05-05 00:42:58,534]\u001b[0m Trial 162 finished with value: 0.4425868245966039 and parameters: {'max_depth': 13, 'max_features': 'sqrt', 'n_estimators': 148, 'bootstrap': False, 'min_samples_leaf': 0.031107792579754462, 'min_samples_split': 0.2861744883005076}. Best is trial 103 with value: 0.8011916305913968.\u001b[0m\n",
      "\u001b[32m[I 2022-05-05 00:43:20,583]\u001b[0m Trial 163 finished with value: 0.4334692971097282 and parameters: {'max_depth': 13, 'max_features': 'sqrt', 'n_estimators': 144, 'bootstrap': False, 'min_samples_leaf': 0.031815154306472034, 'min_samples_split': 0.3156381599248567}. Best is trial 103 with value: 0.8011916305913968.\u001b[0m\n",
      "\u001b[32m[I 2022-05-05 00:43:21,136]\u001b[0m Trial 164 finished with value: 0.42472017563690817 and parameters: {'max_depth': 13, 'max_features': 'sqrt', 'n_estimators': 141, 'bootstrap': False, 'min_samples_leaf': 0.03311729332538977, 'min_samples_split': 0.28338267412994367}. Best is trial 103 with value: 0.8011916305913968.\u001b[0m\n",
      "\u001b[32m[I 2022-05-05 00:43:42,783]\u001b[0m Trial 165 finished with value: 0.6585532168070718 and parameters: {'max_depth': 13, 'max_features': 'sqrt', 'n_estimators': 142, 'bootstrap': False, 'min_samples_leaf': 0.010527605887057642, 'min_samples_split': 0.009954786903176277}. Best is trial 103 with value: 0.8011916305913968.\u001b[0m\n",
      "\u001b[32m[I 2022-05-05 00:44:07,879]\u001b[0m Trial 166 finished with value: 0.6579897673075246 and parameters: {'max_depth': 13, 'max_features': 'sqrt', 'n_estimators': 146, 'bootstrap': False, 'min_samples_leaf': 0.010439283289805857, 'min_samples_split': 0.010961759785811459}. Best is trial 103 with value: 0.8011916305913968.\u001b[0m\n",
      "\u001b[32m[I 2022-05-05 00:44:08,285]\u001b[0m Trial 167 finished with value: 0.10410777407726539 and parameters: {'max_depth': 13, 'max_features': 'sqrt', 'n_estimators': 136, 'bootstrap': False, 'min_samples_leaf': 0.2828157578735766, 'min_samples_split': 0.0001240428221634532}. Best is trial 103 with value: 0.8011916305913968.\u001b[0m\n",
      "\u001b[32m[I 2022-05-05 00:44:20,180]\u001b[0m Trial 171 finished with value: 0.650903418069167 and parameters: {'max_depth': 14, 'max_features': 'sqrt', 'n_estimators': 50, 'bootstrap': False, 'min_samples_leaf': 0.01067233796511222, 'min_samples_split': 0.051881136764346136}. Best is trial 103 with value: 0.8011916305913968.\u001b[0m\n",
      "\u001b[32m[I 2022-05-05 00:44:54,579]\u001b[0m Trial 169 finished with value: 0.5263276001968801 and parameters: {'max_depth': 14, 'max_features': 'sqrt', 'n_estimators': 121, 'bootstrap': False, 'min_samples_leaf': 0.010228945091023834, 'min_samples_split': 0.3110658147317885}. Best is trial 103 with value: 0.8011916305913968.\u001b[0m\n",
      "\u001b[32m[I 2022-05-05 00:45:25,960]\u001b[0m Trial 168 finished with value: 0.6786358472180185 and parameters: {'max_depth': 14, 'max_features': 'sqrt', 'n_estimators': 189, 'bootstrap': False, 'min_samples_leaf': 0.008617591892115448, 'min_samples_split': 0.039431555340495084}. Best is trial 103 with value: 0.8011916305913968.\u001b[0m\n",
      "\u001b[32m[I 2022-05-05 00:46:14,049]\u001b[0m Trial 170 finished with value: 0.6733194638058932 and parameters: {'max_depth': 14, 'max_features': 'sqrt', 'n_estimators': 190, 'bootstrap': False, 'min_samples_leaf': 0.009045655172776026, 'min_samples_split': 0.03690576061876733}. Best is trial 103 with value: 0.8011916305913968.\u001b[0m\n",
      "\u001b[32m[I 2022-05-05 00:46:41,787]\u001b[0m Trial 172 finished with value: 0.6515144119321917 and parameters: {'max_depth': 14, 'max_features': 'sqrt', 'n_estimators': 189, 'bootstrap': False, 'min_samples_leaf': 0.010592352590330319, 'min_samples_split': 0.03696619750856032}. Best is trial 103 with value: 0.8011916305913968.\u001b[0m\n",
      "\u001b[32m[I 2022-05-05 00:47:06,430]\u001b[0m Trial 173 finished with value: 0.6820423841771508 and parameters: {'max_depth': 14, 'max_features': 'sqrt', 'n_estimators': 182, 'bootstrap': False, 'min_samples_leaf': 0.008369470519153129, 'min_samples_split': 0.039136001471035}. Best is trial 103 with value: 0.8011916305913968.\u001b[0m\n",
      "\u001b[32m[I 2022-05-05 00:47:35,740]\u001b[0m Trial 174 finished with value: 0.6768337744726391 and parameters: {'max_depth': 14, 'max_features': 'sqrt', 'n_estimators': 192, 'bootstrap': False, 'min_samples_leaf': 0.008829574943886254, 'min_samples_split': 0.03826066893779176}. Best is trial 103 with value: 0.8011916305913968.\u001b[0m\n",
      "\u001b[32m[I 2022-05-05 00:47:36,260]\u001b[0m Trial 175 finished with value: 0.657882075729545 and parameters: {'max_depth': 14, 'max_features': 'sqrt', 'n_estimators': 191, 'bootstrap': False, 'min_samples_leaf': 0.010025965995213377, 'min_samples_split': 0.041349721652539216}. Best is trial 103 with value: 0.8011916305913968.\u001b[0m\n",
      "\u001b[32m[I 2022-05-05 00:47:50,508]\u001b[0m Trial 176 finished with value: 0.6856634846719154 and parameters: {'max_depth': 14, 'max_features': 'sqrt', 'n_estimators': 192, 'bootstrap': False, 'min_samples_leaf': 0.00809327704229136, 'min_samples_split': 0.03551098095792406}. Best is trial 103 with value: 0.8011916305913968.\u001b[0m\n",
      "\u001b[32m[I 2022-05-05 00:48:22,718]\u001b[0m Trial 177 finished with value: 0.7047374445009564 and parameters: {'max_depth': 14, 'max_features': 'log2', 'n_estimators': 192, 'bootstrap': False, 'min_samples_leaf': 0.001121617521858442, 'min_samples_split': 0.03726111609189582}. Best is trial 103 with value: 0.8011916305913968.\u001b[0m\n",
      "\u001b[32m[I 2022-05-05 00:49:06,840]\u001b[0m Trial 178 finished with value: 0.7130982207943911 and parameters: {'max_depth': 14, 'max_features': 'sqrt', 'n_estimators': 193, 'bootstrap': False, 'min_samples_leaf': 0.004749359811939828, 'min_samples_split': 0.04483572622606745}. Best is trial 103 with value: 0.8011916305913968.\u001b[0m\n",
      "\u001b[32m[I 2022-05-05 00:49:28,251]\u001b[0m Trial 179 finished with value: 0.7181597851069017 and parameters: {'max_depth': 14, 'max_features': 'sqrt', 'n_estimators': 168, 'bootstrap': False, 'min_samples_leaf': 0.0017642344939097058, 'min_samples_split': 0.058434956026748155}. Best is trial 103 with value: 0.8011916305913968.\u001b[0m\n",
      "\u001b[32m[I 2022-05-05 00:50:28,488]\u001b[0m Trial 182 finished with value: 0.6839865476715831 and parameters: {'max_depth': 14, 'max_features': 'log2', 'n_estimators': 160, 'bootstrap': False, 'min_samples_leaf': 0.0006374814113741777, 'min_samples_split': 0.0536271630383347}. Best is trial 103 with value: 0.8011916305913968.\u001b[0m\n",
      "\u001b[32m[I 2022-05-05 00:51:02,455]\u001b[0m Trial 181 finished with value: 0.6848576665094118 and parameters: {'max_depth': 14, 'max_features': 'log2', 'n_estimators': 215, 'bootstrap': False, 'min_samples_leaf': 0.0021805347775880157, 'min_samples_split': 0.049348963906193}. Best is trial 103 with value: 0.8011916305913968.\u001b[0m\n",
      "\u001b[32m[I 2022-05-05 00:51:12,782]\u001b[0m Trial 180 finished with value: 0.7253275248404769 and parameters: {'max_depth': 14, 'max_features': 'sqrt', 'n_estimators': 245, 'bootstrap': False, 'min_samples_leaf': 0.00039193108814283297, 'min_samples_split': 0.05230981091345069}. Best is trial 103 with value: 0.8011916305913968.\u001b[0m\n",
      "\u001b[32m[I 2022-05-05 00:52:10,320]\u001b[0m Trial 183 finished with value: 0.6870141794243133 and parameters: {'max_depth': 15, 'max_features': 'log2', 'n_estimators': 247, 'bootstrap': False, 'min_samples_leaf': 0.0016705207669091022, 'min_samples_split': 0.05764974616926653}. Best is trial 103 with value: 0.8011916305913968.\u001b[0m\n",
      "\u001b[32m[I 2022-05-05 00:52:28,220]\u001b[0m Trial 184 finished with value: 0.7291163445131548 and parameters: {'max_depth': 15, 'max_features': 'sqrt', 'n_estimators': 250, 'bootstrap': False, 'min_samples_leaf': 0.0025997331791482183, 'min_samples_split': 0.04890859737784079}. Best is trial 103 with value: 0.8011916305913968.\u001b[0m\n",
      "\u001b[32m[I 2022-05-05 00:52:58,269]\u001b[0m Trial 185 finished with value: 0.7274172308179144 and parameters: {'max_depth': 15, 'max_features': 'sqrt', 'n_estimators': 245, 'bootstrap': False, 'min_samples_leaf': 0.0005367961354032533, 'min_samples_split': 0.05577834174724293}. Best is trial 103 with value: 0.8011916305913968.\u001b[0m\n",
      "\u001b[32m[I 2022-05-05 00:53:08,703]\u001b[0m Trial 186 finished with value: 0.7308300777841218 and parameters: {'max_depth': 15, 'max_features': 'sqrt', 'n_estimators': 219, 'bootstrap': False, 'min_samples_leaf': 0.000629980383698271, 'min_samples_split': 0.052659035403889665}. Best is trial 103 with value: 0.8011916305913968.\u001b[0m\n",
      "\u001b[32m[I 2022-05-05 00:53:25,337]\u001b[0m Trial 187 finished with value: 0.7278033736414332 and parameters: {'max_depth': 15, 'max_features': 'sqrt', 'n_estimators': 217, 'bootstrap': False, 'min_samples_leaf': 0.0015621565749139668, 'min_samples_split': 0.05337526079960316}. Best is trial 103 with value: 0.8011916305913968.\u001b[0m\n",
      "\u001b[32m[I 2022-05-05 00:54:35,171]\u001b[0m Trial 188 finished with value: 0.7297656648454487 and parameters: {'max_depth': 15, 'max_features': 'sqrt', 'n_estimators': 243, 'bootstrap': False, 'min_samples_leaf': 0.00014704424524309648, 'min_samples_split': 0.05370851313948358}. Best is trial 103 with value: 0.8011916305913968.\u001b[0m\n",
      "\u001b[32m[I 2022-05-05 00:54:36,830]\u001b[0m Trial 189 finished with value: 0.5752861336738337 and parameters: {'max_depth': 15, 'max_features': 'sqrt', 'n_estimators': 212, 'bootstrap': False, 'min_samples_leaf': 0.0010529677588847583, 'min_samples_split': 0.2434293819470342}. Best is trial 103 with value: 0.8011916305913968.\u001b[0m\n",
      "\u001b[32m[I 2022-05-05 00:55:24,211]\u001b[0m Trial 190 finished with value: 0.782325327647462 and parameters: {'max_depth': 15, 'max_features': 'sqrt', 'n_estimators': 251, 'bootstrap': False, 'min_samples_leaf': 0.0006472295887866297, 'min_samples_split': 0.016169417996266238}. Best is trial 103 with value: 0.8011916305913968.\u001b[0m\n",
      "\u001b[32m[I 2022-05-05 00:55:41,237]\u001b[0m Trial 191 finished with value: 0.5881235495429988 and parameters: {'max_depth': 15, 'max_features': 'sqrt', 'n_estimators': 212, 'bootstrap': False, 'min_samples_leaf': 0.017710377524084803, 'min_samples_split': 0.01606576520858983}. Best is trial 103 with value: 0.8011916305913968.\u001b[0m\n",
      "\u001b[32m[I 2022-05-05 00:55:59,243]\u001b[0m Trial 192 finished with value: 0.5240384068951753 and parameters: {'max_depth': 15, 'max_features': 'sqrt', 'n_estimators': 224, 'bootstrap': False, 'min_samples_leaf': 0.025058180647349923, 'min_samples_split': 0.0009615008281198146}. Best is trial 103 with value: 0.8011916305913968.\u001b[0m\n",
      "\u001b[32m[I 2022-05-05 00:56:06,403]\u001b[0m Trial 195 finished with value: 0.5391977423388974 and parameters: {'max_depth': 14, 'max_features': 'sqrt', 'n_estimators': 167, 'bootstrap': False, 'min_samples_leaf': 0.023396313788101312, 'min_samples_split': 0.03043238140712859}. Best is trial 103 with value: 0.8011916305913968.\u001b[0m\n",
      "\u001b[32m[I 2022-05-05 00:56:19,574]\u001b[0m Trial 193 finished with value: 0.5300074027210673 and parameters: {'max_depth': 15, 'max_features': 'sqrt', 'n_estimators': 213, 'bootstrap': False, 'min_samples_leaf': 0.024357245471020014, 'min_samples_split': 0.01881217761180015}. Best is trial 103 with value: 0.8011916305913968.\u001b[0m\n",
      "\u001b[32m[I 2022-05-05 00:56:22,921]\u001b[0m Trial 197 finished with value: 0.5740874748678341 and parameters: {'max_depth': 14, 'max_features': 'sqrt', 'n_estimators': 111, 'bootstrap': False, 'min_samples_leaf': 0.019837589334209035, 'min_samples_split': 0.018191595169154973}. Best is trial 103 with value: 0.8011916305913968.\u001b[0m\n",
      "\u001b[32m[I 2022-05-05 00:56:23,522]\u001b[0m Trial 194 finished with value: 0.5559334795707433 and parameters: {'max_depth': 14, 'max_features': 'sqrt', 'n_estimators': 211, 'bootstrap': False, 'min_samples_leaf': 0.02135774457205442, 'min_samples_split': 0.018401670398787543}. Best is trial 103 with value: 0.8011916305913968.\u001b[0m\n",
      "\u001b[32m[I 2022-05-05 00:56:28,544]\u001b[0m Trial 196 finished with value: 0.5150353587114775 and parameters: {'max_depth': 14, 'max_features': 'sqrt', 'n_estimators': 115, 'bootstrap': False, 'min_samples_leaf': 0.0219677601746179, 'min_samples_split': 0.23305637408272495}. Best is trial 103 with value: 0.8011916305913968.\u001b[0m\n",
      "\u001b[32m[I 2022-05-05 00:57:10,840]\u001b[0m Trial 198 finished with value: 0.5881703820491507 and parameters: {'max_depth': 14, 'max_features': 'sqrt', 'n_estimators': 263, 'bootstrap': False, 'min_samples_leaf': 0.017501303016491422, 'min_samples_split': 0.012322290777198161}. Best is trial 103 with value: 0.8011916305913968.\u001b[0m\n",
      "\u001b[32m[I 2022-05-05 00:57:15,690]\u001b[0m Trial 199 finished with value: 0.5301199682093477 and parameters: {'max_depth': 14, 'max_features': 'sqrt', 'n_estimators': 261, 'bootstrap': False, 'min_samples_leaf': 0.024034304937297874, 'min_samples_split': 0.03188768670395564}. Best is trial 103 with value: 0.8011916305913968.\u001b[0m\n",
      "\u001b[32m[I 2022-05-05 00:57:15,692]\u001b[0m Finished hyperparemeter search!\u001b[0m\n",
      "\u001b[32m[I 2022-05-05 00:57:15,694]\u001b[0m Refitting the estimator using 5256 samples...\u001b[0m\n",
      "\u001b[32m[I 2022-05-05 00:57:17,367]\u001b[0m Finished refitting! (elapsed time: 1.654 sec.)\u001b[0m\n"
     ]
    },
    {
     "data": {
      "text/plain": [
       "OptunaSearchCV(cv=10,\n",
       "               estimator=RandomForestRegressor(n_jobs=-1, random_state=73),\n",
       "               n_jobs=-1, n_trials=200,\n",
       "               param_distributions={'bootstrap': CategoricalDistribution(choices=(True, False)),\n",
       "                                    'max_depth': IntUniformDistribution(high=15, low=6, step=1),\n",
       "                                    'max_features': CategoricalDistribution(choices=('auto', 'sqrt', 'log2')),\n",
       "                                    'min_samples_leaf': UniformDistribution(high=0.5, low=0.0),\n",
       "                                    'min_samples_split': UniformDistribution(high=0.5, low=0.0),\n",
       "                                    'n_estimators': IntUniformDistribution(high=1000, low=50, step=1)},\n",
       "               random_state=73, scoring='r2',\n",
       "               study=<optuna.study.study.Study object at 0x176129df0>,\n",
       "               verbose=1)"
      ]
     },
     "execution_count": 35,
     "metadata": {},
     "output_type": "execute_result"
    }
   ],
   "source": [
    "# Define optuna parameters\n",
    "rf_oscv_params = {\n",
    "    'max_depth' : IntUniformDistribution(6, 15),\n",
    "    'max_features' : CategoricalDistribution(['auto', 'sqrt', 'log2']),\n",
    "    'n_estimators' : IntUniformDistribution(50, 1000),\n",
    "    'bootstrap' : CategoricalDistribution([True, False]),\n",
    "    'min_samples_leaf' : UniformDistribution(0, 0.5),\n",
    "    'min_samples_split' : UniformDistribution(0, 0.5),\n",
    "    }\n",
    "\n",
    "# Create optuna study\n",
    "rf_study = optuna.create_study(sampler = sampler, direction = 'maximize', study_name = 'RF_HyperParam_CV')\n",
    "\n",
    "# Initiate optuna search\n",
    "rf_oscv = OptunaSearchCV(\n",
    "    study = rf_study,\n",
    "    estimator = rf_optuna_base,\n",
    "    param_distributions = rf_oscv_params,\n",
    "    cv = 10,\n",
    "    n_jobs = -1,\n",
    "    n_trials = 200,\n",
    "    random_state = p.RANDOM_STATE,\n",
    "    refit = True,\n",
    "    scoring = 'r2',\n",
    "    verbose = 1\n",
    ")\n",
    "\n",
    "# Fit optuna search to training data\n",
    "rf_oscv.fit(X_train, y_train)"
   ]
  },
  {
   "cell_type": "markdown",
   "metadata": {},
   "source": [
    "### Generate Tuning Visualisations"
   ]
  },
  {
   "cell_type": "code",
   "execution_count": 36,
   "metadata": {},
   "outputs": [
    {
     "data": {
      "application/vnd.plotly.v1+json": {
       "config": {
        "plotlyServerURL": "https://plot.ly"
       },
       "data": [
        {
         "mode": "markers",
         "name": "Objective Value",
         "type": "scatter",
         "x": [
          0,
          1,
          2,
          3,
          4,
          5,
          6,
          7,
          8,
          9,
          10,
          11,
          12,
          13,
          14,
          15,
          16,
          17,
          18,
          19,
          20,
          21,
          22,
          23,
          24,
          25,
          26,
          27,
          28,
          29,
          30,
          31,
          32,
          33,
          34,
          35,
          36,
          37,
          38,
          39,
          40,
          41,
          42,
          43,
          44,
          45,
          46,
          47,
          48,
          49,
          50,
          51,
          52,
          53,
          54,
          55,
          56,
          57,
          58,
          59,
          60,
          61,
          62,
          63,
          64,
          65,
          66,
          67,
          68,
          69,
          70,
          71,
          72,
          73,
          74,
          75,
          76,
          77,
          78,
          79,
          80,
          81,
          82,
          83,
          84,
          85,
          86,
          87,
          88,
          89,
          90,
          91,
          92,
          93,
          94,
          95,
          96,
          97,
          98,
          99,
          100,
          101,
          102,
          103,
          104,
          105,
          106,
          107,
          108,
          109,
          110,
          111,
          112,
          113,
          114,
          115,
          116,
          117,
          118,
          119,
          120,
          121,
          122,
          123,
          124,
          125,
          126,
          127,
          128,
          129,
          130,
          131,
          132,
          133,
          134,
          135,
          136,
          137,
          138,
          139,
          140,
          141,
          142,
          143,
          144,
          145,
          146,
          147,
          148,
          149,
          150,
          151,
          152,
          153,
          154,
          155,
          156,
          157,
          158,
          159,
          160,
          161,
          162,
          163,
          164,
          165,
          166,
          167,
          168,
          169,
          170,
          171,
          172,
          173,
          174,
          175,
          176,
          177,
          178,
          179,
          180,
          181,
          182,
          183,
          184,
          185,
          186,
          187,
          188,
          189,
          190,
          191,
          192,
          193,
          194,
          195,
          196,
          197,
          198,
          199
         ],
         "y": [
          0.0804891100285682,
          -0.0012766438433560179,
          -0.0012845596280067983,
          0.2384037390712665,
          0.24239856233205948,
          -0.001288822322591332,
          0.11215535479883725,
          0.3437665512969016,
          0.2462929368716981,
          0.2933625518994634,
          0.23928822502338676,
          0.12483655347196901,
          0.07751927117017868,
          0.39728306883542824,
          0.08640398290017635,
          -0.0012747484138936338,
          0.2350510658598779,
          0.4687551383716843,
          0.42405532742679286,
          0.6280872895661493,
          0.4869746336241869,
          0.5517163543986022,
          0.616474726753508,
          0.6627606273078482,
          0.6555476274579792,
          0.6711888211406061,
          0.4542302185109948,
          0.6561138113480082,
          0.6527027307229204,
          0.6805131262840851,
          0.2736809814980228,
          0.26624421023188527,
          0.2807424645697528,
          0.2745075651366841,
          0.28607940990595154,
          0.27465878794342335,
          0.2687847722064792,
          0.2776562518065778,
          0.2777561721403106,
          0.2958388615524653,
          0.3306048215244822,
          0.33957374509154475,
          0.3240118369145058,
          0.35177167364035933,
          0.367793614173286,
          0.3903032553582451,
          0.37149501238873167,
          0.418901151275682,
          0.46220968544697605,
          0.4611921342568902,
          0.41734625782743295,
          0.648671135764374,
          0.617144029514652,
          0.43986225165838455,
          0.6472940380355995,
          0.2542210565314077,
          0.2537299143481947,
          0.25381547803321597,
          0.6568484122889172,
          0.6621214007737207,
          0.4823767140964307,
          0.6190874415382001,
          0.281868799748893,
          0.07869294844119624,
          0.43755861517882144,
          0.32433224511994885,
          0.35912021595653915,
          0.3680371949077411,
          0.3962053937079216,
          0.48551181236444885,
          0.4097980769060053,
          -0.0012857620453925022,
          0.5035934319302883,
          0.39198991635679575,
          0.319564743979819,
          0.327930422185212,
          0.3452446792314657,
          0.4116426847525746,
          0.2350510658598779,
          0.38956323573040413,
          0.47556492698001646,
          0.2350510658598778,
          0.47142096758736535,
          0.46961778172043633,
          0.38956323573040436,
          0.43717476169437397,
          0.43476902369818465,
          0.44081579819370864,
          0.6885681283189549,
          0.6391865451292393,
          0.7017202218584145,
          0.6387106154541987,
          0.6706224028865659,
          0.6044960015595433,
          0.6280952816615484,
          0.605950970897646,
          0.6390911419558386,
          0.586835986110255,
          0.6170332410241921,
          0.6541644875633204,
          0.6198327106636635,
          0.7603373965732685,
          0.3319921121843219,
          0.8011916305913968,
          0.8009524823143479,
          0.46828095544670434,
          0.41915951073491764,
          0.2350510658598779,
          0.4622069115136706,
          0.4644790580057183,
          0.4622069115136706,
          0.4641763297081182,
          0.23505106585987798,
          0.23505106585987798,
          0.45867264147170966,
          0.4625558120957556,
          0.7662071373881849,
          0.23928822502338667,
          0.4819050949943879,
          0.7532657051314009,
          0.7338756350117133,
          0.4877716338492669,
          0.23421529459679924,
          0.48772602366789836,
          0.4864291552062502,
          0.7860910057418563,
          0.539070443431949,
          0.7773376805115718,
          0.7705446829294533,
          0.7762234767076419,
          0.5580262222857152,
          0.5454814478102735,
          0.7327632161757531,
          0.5622554572747256,
          0.7317071321755899,
          0.7324840810741178,
          0.7336229548969692,
          0.7346058294440403,
          0.7323152001035302,
          0.7656319735765995,
          0.7046944612450821,
          0.7094849458053495,
          0.42891740695065683,
          0.704295062247766,
          0.7326355392669301,
          0.7642899562220277,
          0.7557397468443263,
          0.7732238633784607,
          0.5753592646831367,
          0.5593043962609743,
          0.6056945616227906,
          0.5750775097683496,
          0.5780979767915329,
          0.5662496055333776,
          0.5605795737192576,
          0.5786307247800547,
          0.5741467131613047,
          0.5715835605354762,
          0.6107032063750365,
          0.4980738081930206,
          0.48978982417736117,
          0.49172508976165935,
          0.4425868245966039,
          0.4334692971097282,
          0.42472017563690817,
          0.6585532168070718,
          0.6579897673075246,
          0.10410777407726539,
          0.6786358472180185,
          0.5263276001968801,
          0.6733194638058932,
          0.650903418069167,
          0.6515144119321917,
          0.6820423841771508,
          0.6768337744726391,
          0.657882075729545,
          0.6856634846719154,
          0.7047374445009564,
          0.7130982207943911,
          0.7181597851069017,
          0.7253275248404769,
          0.6848576665094118,
          0.6839865476715831,
          0.6870141794243133,
          0.7291163445131548,
          0.7274172308179144,
          0.7308300777841218,
          0.7278033736414332,
          0.7297656648454487,
          0.5752861336738337,
          0.782325327647462,
          0.5881235495429988,
          0.5240384068951753,
          0.5300074027210673,
          0.5559334795707433,
          0.5391977423388974,
          0.5150353587114775,
          0.5740874748678341,
          0.5881703820491507,
          0.5301199682093477
         ]
        },
        {
         "name": "Best Value",
         "type": "scatter",
         "x": [
          0,
          1,
          2,
          3,
          4,
          5,
          6,
          7,
          8,
          9,
          10,
          11,
          12,
          13,
          14,
          15,
          16,
          17,
          18,
          19,
          20,
          21,
          22,
          23,
          24,
          25,
          26,
          27,
          28,
          29,
          30,
          31,
          32,
          33,
          34,
          35,
          36,
          37,
          38,
          39,
          40,
          41,
          42,
          43,
          44,
          45,
          46,
          47,
          48,
          49,
          50,
          51,
          52,
          53,
          54,
          55,
          56,
          57,
          58,
          59,
          60,
          61,
          62,
          63,
          64,
          65,
          66,
          67,
          68,
          69,
          70,
          71,
          72,
          73,
          74,
          75,
          76,
          77,
          78,
          79,
          80,
          81,
          82,
          83,
          84,
          85,
          86,
          87,
          88,
          89,
          90,
          91,
          92,
          93,
          94,
          95,
          96,
          97,
          98,
          99,
          100,
          101,
          102,
          103,
          104,
          105,
          106,
          107,
          108,
          109,
          110,
          111,
          112,
          113,
          114,
          115,
          116,
          117,
          118,
          119,
          120,
          121,
          122,
          123,
          124,
          125,
          126,
          127,
          128,
          129,
          130,
          131,
          132,
          133,
          134,
          135,
          136,
          137,
          138,
          139,
          140,
          141,
          142,
          143,
          144,
          145,
          146,
          147,
          148,
          149,
          150,
          151,
          152,
          153,
          154,
          155,
          156,
          157,
          158,
          159,
          160,
          161,
          162,
          163,
          164,
          165,
          166,
          167,
          168,
          169,
          170,
          171,
          172,
          173,
          174,
          175,
          176,
          177,
          178,
          179,
          180,
          181,
          182,
          183,
          184,
          185,
          186,
          187,
          188,
          189,
          190,
          191,
          192,
          193,
          194,
          195,
          196,
          197,
          198,
          199
         ],
         "y": [
          0.0804891100285682,
          0.0804891100285682,
          0.0804891100285682,
          0.2384037390712665,
          0.24239856233205948,
          0.24239856233205948,
          0.24239856233205948,
          0.3437665512969016,
          0.3437665512969016,
          0.3437665512969016,
          0.3437665512969016,
          0.3437665512969016,
          0.3437665512969016,
          0.39728306883542824,
          0.39728306883542824,
          0.39728306883542824,
          0.39728306883542824,
          0.4687551383716843,
          0.4687551383716843,
          0.6280872895661493,
          0.6280872895661493,
          0.6280872895661493,
          0.6280872895661493,
          0.6627606273078482,
          0.6627606273078482,
          0.6711888211406061,
          0.6711888211406061,
          0.6711888211406061,
          0.6711888211406061,
          0.6805131262840851,
          0.6805131262840851,
          0.6805131262840851,
          0.6805131262840851,
          0.6805131262840851,
          0.6805131262840851,
          0.6805131262840851,
          0.6805131262840851,
          0.6805131262840851,
          0.6805131262840851,
          0.6805131262840851,
          0.6805131262840851,
          0.6805131262840851,
          0.6805131262840851,
          0.6805131262840851,
          0.6805131262840851,
          0.6805131262840851,
          0.6805131262840851,
          0.6805131262840851,
          0.6805131262840851,
          0.6805131262840851,
          0.6805131262840851,
          0.6805131262840851,
          0.6805131262840851,
          0.6805131262840851,
          0.6805131262840851,
          0.6805131262840851,
          0.6805131262840851,
          0.6805131262840851,
          0.6805131262840851,
          0.6805131262840851,
          0.6805131262840851,
          0.6805131262840851,
          0.6805131262840851,
          0.6805131262840851,
          0.6805131262840851,
          0.6805131262840851,
          0.6805131262840851,
          0.6805131262840851,
          0.6805131262840851,
          0.6805131262840851,
          0.6805131262840851,
          0.6805131262840851,
          0.6805131262840851,
          0.6805131262840851,
          0.6805131262840851,
          0.6805131262840851,
          0.6805131262840851,
          0.6805131262840851,
          0.6805131262840851,
          0.6805131262840851,
          0.6805131262840851,
          0.6805131262840851,
          0.6805131262840851,
          0.6805131262840851,
          0.6805131262840851,
          0.6805131262840851,
          0.6805131262840851,
          0.6805131262840851,
          0.6885681283189549,
          0.6885681283189549,
          0.7017202218584145,
          0.7017202218584145,
          0.7017202218584145,
          0.7017202218584145,
          0.7017202218584145,
          0.7017202218584145,
          0.7017202218584145,
          0.7017202218584145,
          0.7017202218584145,
          0.7017202218584145,
          0.7017202218584145,
          0.7603373965732685,
          0.7603373965732685,
          0.8011916305913968,
          0.8011916305913968,
          0.8011916305913968,
          0.8011916305913968,
          0.8011916305913968,
          0.8011916305913968,
          0.8011916305913968,
          0.8011916305913968,
          0.8011916305913968,
          0.8011916305913968,
          0.8011916305913968,
          0.8011916305913968,
          0.8011916305913968,
          0.8011916305913968,
          0.8011916305913968,
          0.8011916305913968,
          0.8011916305913968,
          0.8011916305913968,
          0.8011916305913968,
          0.8011916305913968,
          0.8011916305913968,
          0.8011916305913968,
          0.8011916305913968,
          0.8011916305913968,
          0.8011916305913968,
          0.8011916305913968,
          0.8011916305913968,
          0.8011916305913968,
          0.8011916305913968,
          0.8011916305913968,
          0.8011916305913968,
          0.8011916305913968,
          0.8011916305913968,
          0.8011916305913968,
          0.8011916305913968,
          0.8011916305913968,
          0.8011916305913968,
          0.8011916305913968,
          0.8011916305913968,
          0.8011916305913968,
          0.8011916305913968,
          0.8011916305913968,
          0.8011916305913968,
          0.8011916305913968,
          0.8011916305913968,
          0.8011916305913968,
          0.8011916305913968,
          0.8011916305913968,
          0.8011916305913968,
          0.8011916305913968,
          0.8011916305913968,
          0.8011916305913968,
          0.8011916305913968,
          0.8011916305913968,
          0.8011916305913968,
          0.8011916305913968,
          0.8011916305913968,
          0.8011916305913968,
          0.8011916305913968,
          0.8011916305913968,
          0.8011916305913968,
          0.8011916305913968,
          0.8011916305913968,
          0.8011916305913968,
          0.8011916305913968,
          0.8011916305913968,
          0.8011916305913968,
          0.8011916305913968,
          0.8011916305913968,
          0.8011916305913968,
          0.8011916305913968,
          0.8011916305913968,
          0.8011916305913968,
          0.8011916305913968,
          0.8011916305913968,
          0.8011916305913968,
          0.8011916305913968,
          0.8011916305913968,
          0.8011916305913968,
          0.8011916305913968,
          0.8011916305913968,
          0.8011916305913968,
          0.8011916305913968,
          0.8011916305913968,
          0.8011916305913968,
          0.8011916305913968,
          0.8011916305913968,
          0.8011916305913968,
          0.8011916305913968,
          0.8011916305913968,
          0.8011916305913968,
          0.8011916305913968,
          0.8011916305913968,
          0.8011916305913968,
          0.8011916305913968,
          0.8011916305913968,
          0.8011916305913968
         ]
        }
       ],
       "layout": {
        "template": {
         "data": {
          "bar": [
           {
            "error_x": {
             "color": "#2a3f5f"
            },
            "error_y": {
             "color": "#2a3f5f"
            },
            "marker": {
             "line": {
              "color": "#E5ECF6",
              "width": 0.5
             },
             "pattern": {
              "fillmode": "overlay",
              "size": 10,
              "solidity": 0.2
             }
            },
            "type": "bar"
           }
          ],
          "barpolar": [
           {
            "marker": {
             "line": {
              "color": "#E5ECF6",
              "width": 0.5
             },
             "pattern": {
              "fillmode": "overlay",
              "size": 10,
              "solidity": 0.2
             }
            },
            "type": "barpolar"
           }
          ],
          "carpet": [
           {
            "aaxis": {
             "endlinecolor": "#2a3f5f",
             "gridcolor": "white",
             "linecolor": "white",
             "minorgridcolor": "white",
             "startlinecolor": "#2a3f5f"
            },
            "baxis": {
             "endlinecolor": "#2a3f5f",
             "gridcolor": "white",
             "linecolor": "white",
             "minorgridcolor": "white",
             "startlinecolor": "#2a3f5f"
            },
            "type": "carpet"
           }
          ],
          "choropleth": [
           {
            "colorbar": {
             "outlinewidth": 0,
             "ticks": ""
            },
            "type": "choropleth"
           }
          ],
          "contour": [
           {
            "colorbar": {
             "outlinewidth": 0,
             "ticks": ""
            },
            "colorscale": [
             [
              0,
              "#0d0887"
             ],
             [
              0.1111111111111111,
              "#46039f"
             ],
             [
              0.2222222222222222,
              "#7201a8"
             ],
             [
              0.3333333333333333,
              "#9c179e"
             ],
             [
              0.4444444444444444,
              "#bd3786"
             ],
             [
              0.5555555555555556,
              "#d8576b"
             ],
             [
              0.6666666666666666,
              "#ed7953"
             ],
             [
              0.7777777777777778,
              "#fb9f3a"
             ],
             [
              0.8888888888888888,
              "#fdca26"
             ],
             [
              1,
              "#f0f921"
             ]
            ],
            "type": "contour"
           }
          ],
          "contourcarpet": [
           {
            "colorbar": {
             "outlinewidth": 0,
             "ticks": ""
            },
            "type": "contourcarpet"
           }
          ],
          "heatmap": [
           {
            "colorbar": {
             "outlinewidth": 0,
             "ticks": ""
            },
            "colorscale": [
             [
              0,
              "#0d0887"
             ],
             [
              0.1111111111111111,
              "#46039f"
             ],
             [
              0.2222222222222222,
              "#7201a8"
             ],
             [
              0.3333333333333333,
              "#9c179e"
             ],
             [
              0.4444444444444444,
              "#bd3786"
             ],
             [
              0.5555555555555556,
              "#d8576b"
             ],
             [
              0.6666666666666666,
              "#ed7953"
             ],
             [
              0.7777777777777778,
              "#fb9f3a"
             ],
             [
              0.8888888888888888,
              "#fdca26"
             ],
             [
              1,
              "#f0f921"
             ]
            ],
            "type": "heatmap"
           }
          ],
          "heatmapgl": [
           {
            "colorbar": {
             "outlinewidth": 0,
             "ticks": ""
            },
            "colorscale": [
             [
              0,
              "#0d0887"
             ],
             [
              0.1111111111111111,
              "#46039f"
             ],
             [
              0.2222222222222222,
              "#7201a8"
             ],
             [
              0.3333333333333333,
              "#9c179e"
             ],
             [
              0.4444444444444444,
              "#bd3786"
             ],
             [
              0.5555555555555556,
              "#d8576b"
             ],
             [
              0.6666666666666666,
              "#ed7953"
             ],
             [
              0.7777777777777778,
              "#fb9f3a"
             ],
             [
              0.8888888888888888,
              "#fdca26"
             ],
             [
              1,
              "#f0f921"
             ]
            ],
            "type": "heatmapgl"
           }
          ],
          "histogram": [
           {
            "marker": {
             "pattern": {
              "fillmode": "overlay",
              "size": 10,
              "solidity": 0.2
             }
            },
            "type": "histogram"
           }
          ],
          "histogram2d": [
           {
            "colorbar": {
             "outlinewidth": 0,
             "ticks": ""
            },
            "colorscale": [
             [
              0,
              "#0d0887"
             ],
             [
              0.1111111111111111,
              "#46039f"
             ],
             [
              0.2222222222222222,
              "#7201a8"
             ],
             [
              0.3333333333333333,
              "#9c179e"
             ],
             [
              0.4444444444444444,
              "#bd3786"
             ],
             [
              0.5555555555555556,
              "#d8576b"
             ],
             [
              0.6666666666666666,
              "#ed7953"
             ],
             [
              0.7777777777777778,
              "#fb9f3a"
             ],
             [
              0.8888888888888888,
              "#fdca26"
             ],
             [
              1,
              "#f0f921"
             ]
            ],
            "type": "histogram2d"
           }
          ],
          "histogram2dcontour": [
           {
            "colorbar": {
             "outlinewidth": 0,
             "ticks": ""
            },
            "colorscale": [
             [
              0,
              "#0d0887"
             ],
             [
              0.1111111111111111,
              "#46039f"
             ],
             [
              0.2222222222222222,
              "#7201a8"
             ],
             [
              0.3333333333333333,
              "#9c179e"
             ],
             [
              0.4444444444444444,
              "#bd3786"
             ],
             [
              0.5555555555555556,
              "#d8576b"
             ],
             [
              0.6666666666666666,
              "#ed7953"
             ],
             [
              0.7777777777777778,
              "#fb9f3a"
             ],
             [
              0.8888888888888888,
              "#fdca26"
             ],
             [
              1,
              "#f0f921"
             ]
            ],
            "type": "histogram2dcontour"
           }
          ],
          "mesh3d": [
           {
            "colorbar": {
             "outlinewidth": 0,
             "ticks": ""
            },
            "type": "mesh3d"
           }
          ],
          "parcoords": [
           {
            "line": {
             "colorbar": {
              "outlinewidth": 0,
              "ticks": ""
             }
            },
            "type": "parcoords"
           }
          ],
          "pie": [
           {
            "automargin": true,
            "type": "pie"
           }
          ],
          "scatter": [
           {
            "marker": {
             "colorbar": {
              "outlinewidth": 0,
              "ticks": ""
             }
            },
            "type": "scatter"
           }
          ],
          "scatter3d": [
           {
            "line": {
             "colorbar": {
              "outlinewidth": 0,
              "ticks": ""
             }
            },
            "marker": {
             "colorbar": {
              "outlinewidth": 0,
              "ticks": ""
             }
            },
            "type": "scatter3d"
           }
          ],
          "scattercarpet": [
           {
            "marker": {
             "colorbar": {
              "outlinewidth": 0,
              "ticks": ""
             }
            },
            "type": "scattercarpet"
           }
          ],
          "scattergeo": [
           {
            "marker": {
             "colorbar": {
              "outlinewidth": 0,
              "ticks": ""
             }
            },
            "type": "scattergeo"
           }
          ],
          "scattergl": [
           {
            "marker": {
             "colorbar": {
              "outlinewidth": 0,
              "ticks": ""
             }
            },
            "type": "scattergl"
           }
          ],
          "scattermapbox": [
           {
            "marker": {
             "colorbar": {
              "outlinewidth": 0,
              "ticks": ""
             }
            },
            "type": "scattermapbox"
           }
          ],
          "scatterpolar": [
           {
            "marker": {
             "colorbar": {
              "outlinewidth": 0,
              "ticks": ""
             }
            },
            "type": "scatterpolar"
           }
          ],
          "scatterpolargl": [
           {
            "marker": {
             "colorbar": {
              "outlinewidth": 0,
              "ticks": ""
             }
            },
            "type": "scatterpolargl"
           }
          ],
          "scatterternary": [
           {
            "marker": {
             "colorbar": {
              "outlinewidth": 0,
              "ticks": ""
             }
            },
            "type": "scatterternary"
           }
          ],
          "surface": [
           {
            "colorbar": {
             "outlinewidth": 0,
             "ticks": ""
            },
            "colorscale": [
             [
              0,
              "#0d0887"
             ],
             [
              0.1111111111111111,
              "#46039f"
             ],
             [
              0.2222222222222222,
              "#7201a8"
             ],
             [
              0.3333333333333333,
              "#9c179e"
             ],
             [
              0.4444444444444444,
              "#bd3786"
             ],
             [
              0.5555555555555556,
              "#d8576b"
             ],
             [
              0.6666666666666666,
              "#ed7953"
             ],
             [
              0.7777777777777778,
              "#fb9f3a"
             ],
             [
              0.8888888888888888,
              "#fdca26"
             ],
             [
              1,
              "#f0f921"
             ]
            ],
            "type": "surface"
           }
          ],
          "table": [
           {
            "cells": {
             "fill": {
              "color": "#EBF0F8"
             },
             "line": {
              "color": "white"
             }
            },
            "header": {
             "fill": {
              "color": "#C8D4E3"
             },
             "line": {
              "color": "white"
             }
            },
            "type": "table"
           }
          ]
         },
         "layout": {
          "annotationdefaults": {
           "arrowcolor": "#2a3f5f",
           "arrowhead": 0,
           "arrowwidth": 1
          },
          "autotypenumbers": "strict",
          "coloraxis": {
           "colorbar": {
            "outlinewidth": 0,
            "ticks": ""
           }
          },
          "colorscale": {
           "diverging": [
            [
             0,
             "#8e0152"
            ],
            [
             0.1,
             "#c51b7d"
            ],
            [
             0.2,
             "#de77ae"
            ],
            [
             0.3,
             "#f1b6da"
            ],
            [
             0.4,
             "#fde0ef"
            ],
            [
             0.5,
             "#f7f7f7"
            ],
            [
             0.6,
             "#e6f5d0"
            ],
            [
             0.7,
             "#b8e186"
            ],
            [
             0.8,
             "#7fbc41"
            ],
            [
             0.9,
             "#4d9221"
            ],
            [
             1,
             "#276419"
            ]
           ],
           "sequential": [
            [
             0,
             "#0d0887"
            ],
            [
             0.1111111111111111,
             "#46039f"
            ],
            [
             0.2222222222222222,
             "#7201a8"
            ],
            [
             0.3333333333333333,
             "#9c179e"
            ],
            [
             0.4444444444444444,
             "#bd3786"
            ],
            [
             0.5555555555555556,
             "#d8576b"
            ],
            [
             0.6666666666666666,
             "#ed7953"
            ],
            [
             0.7777777777777778,
             "#fb9f3a"
            ],
            [
             0.8888888888888888,
             "#fdca26"
            ],
            [
             1,
             "#f0f921"
            ]
           ],
           "sequentialminus": [
            [
             0,
             "#0d0887"
            ],
            [
             0.1111111111111111,
             "#46039f"
            ],
            [
             0.2222222222222222,
             "#7201a8"
            ],
            [
             0.3333333333333333,
             "#9c179e"
            ],
            [
             0.4444444444444444,
             "#bd3786"
            ],
            [
             0.5555555555555556,
             "#d8576b"
            ],
            [
             0.6666666666666666,
             "#ed7953"
            ],
            [
             0.7777777777777778,
             "#fb9f3a"
            ],
            [
             0.8888888888888888,
             "#fdca26"
            ],
            [
             1,
             "#f0f921"
            ]
           ]
          },
          "colorway": [
           "#636efa",
           "#EF553B",
           "#00cc96",
           "#ab63fa",
           "#FFA15A",
           "#19d3f3",
           "#FF6692",
           "#B6E880",
           "#FF97FF",
           "#FECB52"
          ],
          "font": {
           "color": "#2a3f5f"
          },
          "geo": {
           "bgcolor": "white",
           "lakecolor": "white",
           "landcolor": "#E5ECF6",
           "showlakes": true,
           "showland": true,
           "subunitcolor": "white"
          },
          "hoverlabel": {
           "align": "left"
          },
          "hovermode": "closest",
          "mapbox": {
           "style": "light"
          },
          "paper_bgcolor": "white",
          "plot_bgcolor": "#E5ECF6",
          "polar": {
           "angularaxis": {
            "gridcolor": "white",
            "linecolor": "white",
            "ticks": ""
           },
           "bgcolor": "#E5ECF6",
           "radialaxis": {
            "gridcolor": "white",
            "linecolor": "white",
            "ticks": ""
           }
          },
          "scene": {
           "xaxis": {
            "backgroundcolor": "#E5ECF6",
            "gridcolor": "white",
            "gridwidth": 2,
            "linecolor": "white",
            "showbackground": true,
            "ticks": "",
            "zerolinecolor": "white"
           },
           "yaxis": {
            "backgroundcolor": "#E5ECF6",
            "gridcolor": "white",
            "gridwidth": 2,
            "linecolor": "white",
            "showbackground": true,
            "ticks": "",
            "zerolinecolor": "white"
           },
           "zaxis": {
            "backgroundcolor": "#E5ECF6",
            "gridcolor": "white",
            "gridwidth": 2,
            "linecolor": "white",
            "showbackground": true,
            "ticks": "",
            "zerolinecolor": "white"
           }
          },
          "shapedefaults": {
           "line": {
            "color": "#2a3f5f"
           }
          },
          "ternary": {
           "aaxis": {
            "gridcolor": "white",
            "linecolor": "white",
            "ticks": ""
           },
           "baxis": {
            "gridcolor": "white",
            "linecolor": "white",
            "ticks": ""
           },
           "bgcolor": "#E5ECF6",
           "caxis": {
            "gridcolor": "white",
            "linecolor": "white",
            "ticks": ""
           }
          },
          "title": {
           "x": 0.05
          },
          "xaxis": {
           "automargin": true,
           "gridcolor": "white",
           "linecolor": "white",
           "ticks": "",
           "title": {
            "standoff": 15
           },
           "zerolinecolor": "white",
           "zerolinewidth": 2
          },
          "yaxis": {
           "automargin": true,
           "gridcolor": "white",
           "linecolor": "white",
           "ticks": "",
           "title": {
            "standoff": 15
           },
           "zerolinecolor": "white",
           "zerolinewidth": 2
          }
         }
        },
        "title": {
         "text": "Optimization History Plot"
        },
        "xaxis": {
         "title": {
          "text": "#Trials"
         }
        },
        "yaxis": {
         "title": {
          "text": "Objective Value"
         }
        }
       }
      }
     },
     "metadata": {},
     "output_type": "display_data"
    },
    {
     "data": {
      "application/vnd.plotly.v1+json": {
       "config": {
        "plotlyServerURL": "https://plot.ly"
       },
       "data": [
        {
         "cliponaxis": false,
         "hovertemplate": [
          "max_depth (IntUniformDistribution): 0.00595842601906579<extra></extra>",
          "bootstrap (CategoricalDistribution): 0.013922332399522484<extra></extra>",
          "min_samples_split (UniformDistribution): 0.03370331405388426<extra></extra>",
          "n_estimators (IntUniformDistribution): 0.05027145541504758<extra></extra>",
          "max_features (CategoricalDistribution): 0.14321245817350486<extra></extra>",
          "min_samples_leaf (UniformDistribution): 0.7529320139389751<extra></extra>"
         ],
         "marker": {
          "color": "rgb(66,146,198)"
         },
         "orientation": "h",
         "text": [
          "0.00595842601906579",
          "0.013922332399522484",
          "0.03370331405388426",
          "0.05027145541504758",
          "0.14321245817350486",
          "0.7529320139389751"
         ],
         "textposition": "outside",
         "texttemplate": "%{text:.2f}",
         "type": "bar",
         "x": [
          0.00595842601906579,
          0.013922332399522484,
          0.03370331405388426,
          0.05027145541504758,
          0.14321245817350486,
          0.7529320139389751
         ],
         "y": [
          "max_depth",
          "bootstrap",
          "min_samples_split",
          "n_estimators",
          "max_features",
          "min_samples_leaf"
         ]
        }
       ],
       "layout": {
        "showlegend": false,
        "template": {
         "data": {
          "bar": [
           {
            "error_x": {
             "color": "#2a3f5f"
            },
            "error_y": {
             "color": "#2a3f5f"
            },
            "marker": {
             "line": {
              "color": "#E5ECF6",
              "width": 0.5
             },
             "pattern": {
              "fillmode": "overlay",
              "size": 10,
              "solidity": 0.2
             }
            },
            "type": "bar"
           }
          ],
          "barpolar": [
           {
            "marker": {
             "line": {
              "color": "#E5ECF6",
              "width": 0.5
             },
             "pattern": {
              "fillmode": "overlay",
              "size": 10,
              "solidity": 0.2
             }
            },
            "type": "barpolar"
           }
          ],
          "carpet": [
           {
            "aaxis": {
             "endlinecolor": "#2a3f5f",
             "gridcolor": "white",
             "linecolor": "white",
             "minorgridcolor": "white",
             "startlinecolor": "#2a3f5f"
            },
            "baxis": {
             "endlinecolor": "#2a3f5f",
             "gridcolor": "white",
             "linecolor": "white",
             "minorgridcolor": "white",
             "startlinecolor": "#2a3f5f"
            },
            "type": "carpet"
           }
          ],
          "choropleth": [
           {
            "colorbar": {
             "outlinewidth": 0,
             "ticks": ""
            },
            "type": "choropleth"
           }
          ],
          "contour": [
           {
            "colorbar": {
             "outlinewidth": 0,
             "ticks": ""
            },
            "colorscale": [
             [
              0,
              "#0d0887"
             ],
             [
              0.1111111111111111,
              "#46039f"
             ],
             [
              0.2222222222222222,
              "#7201a8"
             ],
             [
              0.3333333333333333,
              "#9c179e"
             ],
             [
              0.4444444444444444,
              "#bd3786"
             ],
             [
              0.5555555555555556,
              "#d8576b"
             ],
             [
              0.6666666666666666,
              "#ed7953"
             ],
             [
              0.7777777777777778,
              "#fb9f3a"
             ],
             [
              0.8888888888888888,
              "#fdca26"
             ],
             [
              1,
              "#f0f921"
             ]
            ],
            "type": "contour"
           }
          ],
          "contourcarpet": [
           {
            "colorbar": {
             "outlinewidth": 0,
             "ticks": ""
            },
            "type": "contourcarpet"
           }
          ],
          "heatmap": [
           {
            "colorbar": {
             "outlinewidth": 0,
             "ticks": ""
            },
            "colorscale": [
             [
              0,
              "#0d0887"
             ],
             [
              0.1111111111111111,
              "#46039f"
             ],
             [
              0.2222222222222222,
              "#7201a8"
             ],
             [
              0.3333333333333333,
              "#9c179e"
             ],
             [
              0.4444444444444444,
              "#bd3786"
             ],
             [
              0.5555555555555556,
              "#d8576b"
             ],
             [
              0.6666666666666666,
              "#ed7953"
             ],
             [
              0.7777777777777778,
              "#fb9f3a"
             ],
             [
              0.8888888888888888,
              "#fdca26"
             ],
             [
              1,
              "#f0f921"
             ]
            ],
            "type": "heatmap"
           }
          ],
          "heatmapgl": [
           {
            "colorbar": {
             "outlinewidth": 0,
             "ticks": ""
            },
            "colorscale": [
             [
              0,
              "#0d0887"
             ],
             [
              0.1111111111111111,
              "#46039f"
             ],
             [
              0.2222222222222222,
              "#7201a8"
             ],
             [
              0.3333333333333333,
              "#9c179e"
             ],
             [
              0.4444444444444444,
              "#bd3786"
             ],
             [
              0.5555555555555556,
              "#d8576b"
             ],
             [
              0.6666666666666666,
              "#ed7953"
             ],
             [
              0.7777777777777778,
              "#fb9f3a"
             ],
             [
              0.8888888888888888,
              "#fdca26"
             ],
             [
              1,
              "#f0f921"
             ]
            ],
            "type": "heatmapgl"
           }
          ],
          "histogram": [
           {
            "marker": {
             "pattern": {
              "fillmode": "overlay",
              "size": 10,
              "solidity": 0.2
             }
            },
            "type": "histogram"
           }
          ],
          "histogram2d": [
           {
            "colorbar": {
             "outlinewidth": 0,
             "ticks": ""
            },
            "colorscale": [
             [
              0,
              "#0d0887"
             ],
             [
              0.1111111111111111,
              "#46039f"
             ],
             [
              0.2222222222222222,
              "#7201a8"
             ],
             [
              0.3333333333333333,
              "#9c179e"
             ],
             [
              0.4444444444444444,
              "#bd3786"
             ],
             [
              0.5555555555555556,
              "#d8576b"
             ],
             [
              0.6666666666666666,
              "#ed7953"
             ],
             [
              0.7777777777777778,
              "#fb9f3a"
             ],
             [
              0.8888888888888888,
              "#fdca26"
             ],
             [
              1,
              "#f0f921"
             ]
            ],
            "type": "histogram2d"
           }
          ],
          "histogram2dcontour": [
           {
            "colorbar": {
             "outlinewidth": 0,
             "ticks": ""
            },
            "colorscale": [
             [
              0,
              "#0d0887"
             ],
             [
              0.1111111111111111,
              "#46039f"
             ],
             [
              0.2222222222222222,
              "#7201a8"
             ],
             [
              0.3333333333333333,
              "#9c179e"
             ],
             [
              0.4444444444444444,
              "#bd3786"
             ],
             [
              0.5555555555555556,
              "#d8576b"
             ],
             [
              0.6666666666666666,
              "#ed7953"
             ],
             [
              0.7777777777777778,
              "#fb9f3a"
             ],
             [
              0.8888888888888888,
              "#fdca26"
             ],
             [
              1,
              "#f0f921"
             ]
            ],
            "type": "histogram2dcontour"
           }
          ],
          "mesh3d": [
           {
            "colorbar": {
             "outlinewidth": 0,
             "ticks": ""
            },
            "type": "mesh3d"
           }
          ],
          "parcoords": [
           {
            "line": {
             "colorbar": {
              "outlinewidth": 0,
              "ticks": ""
             }
            },
            "type": "parcoords"
           }
          ],
          "pie": [
           {
            "automargin": true,
            "type": "pie"
           }
          ],
          "scatter": [
           {
            "marker": {
             "colorbar": {
              "outlinewidth": 0,
              "ticks": ""
             }
            },
            "type": "scatter"
           }
          ],
          "scatter3d": [
           {
            "line": {
             "colorbar": {
              "outlinewidth": 0,
              "ticks": ""
             }
            },
            "marker": {
             "colorbar": {
              "outlinewidth": 0,
              "ticks": ""
             }
            },
            "type": "scatter3d"
           }
          ],
          "scattercarpet": [
           {
            "marker": {
             "colorbar": {
              "outlinewidth": 0,
              "ticks": ""
             }
            },
            "type": "scattercarpet"
           }
          ],
          "scattergeo": [
           {
            "marker": {
             "colorbar": {
              "outlinewidth": 0,
              "ticks": ""
             }
            },
            "type": "scattergeo"
           }
          ],
          "scattergl": [
           {
            "marker": {
             "colorbar": {
              "outlinewidth": 0,
              "ticks": ""
             }
            },
            "type": "scattergl"
           }
          ],
          "scattermapbox": [
           {
            "marker": {
             "colorbar": {
              "outlinewidth": 0,
              "ticks": ""
             }
            },
            "type": "scattermapbox"
           }
          ],
          "scatterpolar": [
           {
            "marker": {
             "colorbar": {
              "outlinewidth": 0,
              "ticks": ""
             }
            },
            "type": "scatterpolar"
           }
          ],
          "scatterpolargl": [
           {
            "marker": {
             "colorbar": {
              "outlinewidth": 0,
              "ticks": ""
             }
            },
            "type": "scatterpolargl"
           }
          ],
          "scatterternary": [
           {
            "marker": {
             "colorbar": {
              "outlinewidth": 0,
              "ticks": ""
             }
            },
            "type": "scatterternary"
           }
          ],
          "surface": [
           {
            "colorbar": {
             "outlinewidth": 0,
             "ticks": ""
            },
            "colorscale": [
             [
              0,
              "#0d0887"
             ],
             [
              0.1111111111111111,
              "#46039f"
             ],
             [
              0.2222222222222222,
              "#7201a8"
             ],
             [
              0.3333333333333333,
              "#9c179e"
             ],
             [
              0.4444444444444444,
              "#bd3786"
             ],
             [
              0.5555555555555556,
              "#d8576b"
             ],
             [
              0.6666666666666666,
              "#ed7953"
             ],
             [
              0.7777777777777778,
              "#fb9f3a"
             ],
             [
              0.8888888888888888,
              "#fdca26"
             ],
             [
              1,
              "#f0f921"
             ]
            ],
            "type": "surface"
           }
          ],
          "table": [
           {
            "cells": {
             "fill": {
              "color": "#EBF0F8"
             },
             "line": {
              "color": "white"
             }
            },
            "header": {
             "fill": {
              "color": "#C8D4E3"
             },
             "line": {
              "color": "white"
             }
            },
            "type": "table"
           }
          ]
         },
         "layout": {
          "annotationdefaults": {
           "arrowcolor": "#2a3f5f",
           "arrowhead": 0,
           "arrowwidth": 1
          },
          "autotypenumbers": "strict",
          "coloraxis": {
           "colorbar": {
            "outlinewidth": 0,
            "ticks": ""
           }
          },
          "colorscale": {
           "diverging": [
            [
             0,
             "#8e0152"
            ],
            [
             0.1,
             "#c51b7d"
            ],
            [
             0.2,
             "#de77ae"
            ],
            [
             0.3,
             "#f1b6da"
            ],
            [
             0.4,
             "#fde0ef"
            ],
            [
             0.5,
             "#f7f7f7"
            ],
            [
             0.6,
             "#e6f5d0"
            ],
            [
             0.7,
             "#b8e186"
            ],
            [
             0.8,
             "#7fbc41"
            ],
            [
             0.9,
             "#4d9221"
            ],
            [
             1,
             "#276419"
            ]
           ],
           "sequential": [
            [
             0,
             "#0d0887"
            ],
            [
             0.1111111111111111,
             "#46039f"
            ],
            [
             0.2222222222222222,
             "#7201a8"
            ],
            [
             0.3333333333333333,
             "#9c179e"
            ],
            [
             0.4444444444444444,
             "#bd3786"
            ],
            [
             0.5555555555555556,
             "#d8576b"
            ],
            [
             0.6666666666666666,
             "#ed7953"
            ],
            [
             0.7777777777777778,
             "#fb9f3a"
            ],
            [
             0.8888888888888888,
             "#fdca26"
            ],
            [
             1,
             "#f0f921"
            ]
           ],
           "sequentialminus": [
            [
             0,
             "#0d0887"
            ],
            [
             0.1111111111111111,
             "#46039f"
            ],
            [
             0.2222222222222222,
             "#7201a8"
            ],
            [
             0.3333333333333333,
             "#9c179e"
            ],
            [
             0.4444444444444444,
             "#bd3786"
            ],
            [
             0.5555555555555556,
             "#d8576b"
            ],
            [
             0.6666666666666666,
             "#ed7953"
            ],
            [
             0.7777777777777778,
             "#fb9f3a"
            ],
            [
             0.8888888888888888,
             "#fdca26"
            ],
            [
             1,
             "#f0f921"
            ]
           ]
          },
          "colorway": [
           "#636efa",
           "#EF553B",
           "#00cc96",
           "#ab63fa",
           "#FFA15A",
           "#19d3f3",
           "#FF6692",
           "#B6E880",
           "#FF97FF",
           "#FECB52"
          ],
          "font": {
           "color": "#2a3f5f"
          },
          "geo": {
           "bgcolor": "white",
           "lakecolor": "white",
           "landcolor": "#E5ECF6",
           "showlakes": true,
           "showland": true,
           "subunitcolor": "white"
          },
          "hoverlabel": {
           "align": "left"
          },
          "hovermode": "closest",
          "mapbox": {
           "style": "light"
          },
          "paper_bgcolor": "white",
          "plot_bgcolor": "#E5ECF6",
          "polar": {
           "angularaxis": {
            "gridcolor": "white",
            "linecolor": "white",
            "ticks": ""
           },
           "bgcolor": "#E5ECF6",
           "radialaxis": {
            "gridcolor": "white",
            "linecolor": "white",
            "ticks": ""
           }
          },
          "scene": {
           "xaxis": {
            "backgroundcolor": "#E5ECF6",
            "gridcolor": "white",
            "gridwidth": 2,
            "linecolor": "white",
            "showbackground": true,
            "ticks": "",
            "zerolinecolor": "white"
           },
           "yaxis": {
            "backgroundcolor": "#E5ECF6",
            "gridcolor": "white",
            "gridwidth": 2,
            "linecolor": "white",
            "showbackground": true,
            "ticks": "",
            "zerolinecolor": "white"
           },
           "zaxis": {
            "backgroundcolor": "#E5ECF6",
            "gridcolor": "white",
            "gridwidth": 2,
            "linecolor": "white",
            "showbackground": true,
            "ticks": "",
            "zerolinecolor": "white"
           }
          },
          "shapedefaults": {
           "line": {
            "color": "#2a3f5f"
           }
          },
          "ternary": {
           "aaxis": {
            "gridcolor": "white",
            "linecolor": "white",
            "ticks": ""
           },
           "baxis": {
            "gridcolor": "white",
            "linecolor": "white",
            "ticks": ""
           },
           "bgcolor": "#E5ECF6",
           "caxis": {
            "gridcolor": "white",
            "linecolor": "white",
            "ticks": ""
           }
          },
          "title": {
           "x": 0.05
          },
          "xaxis": {
           "automargin": true,
           "gridcolor": "white",
           "linecolor": "white",
           "ticks": "",
           "title": {
            "standoff": 15
           },
           "zerolinecolor": "white",
           "zerolinewidth": 2
          },
          "yaxis": {
           "automargin": true,
           "gridcolor": "white",
           "linecolor": "white",
           "ticks": "",
           "title": {
            "standoff": 15
           },
           "zerolinecolor": "white",
           "zerolinewidth": 2
          }
         }
        },
        "title": {
         "text": "Hyperparameter Importances"
        },
        "xaxis": {
         "title": {
          "text": "Importance for Objective Value"
         }
        },
        "yaxis": {
         "title": {
          "text": "Hyperparameter"
         }
        }
       }
      }
     },
     "metadata": {},
     "output_type": "display_data"
    },
    {
     "data": {
      "application/vnd.plotly.v1+json": {
       "config": {
        "plotlyServerURL": "https://plot.ly"
       },
       "data": [
        {
         "marker": {
          "color": [
           0,
           1,
           2,
           3,
           4,
           5,
           6,
           7,
           8,
           9,
           10,
           11,
           12,
           13,
           14,
           15,
           16,
           17,
           18,
           19,
           20,
           21,
           22,
           23,
           24,
           25,
           26,
           27,
           28,
           29,
           30,
           31,
           32,
           33,
           34,
           35,
           36,
           37,
           38,
           39,
           40,
           41,
           42,
           43,
           44,
           45,
           46,
           47,
           48,
           49,
           50,
           51,
           52,
           53,
           54,
           55,
           56,
           57,
           58,
           59,
           60,
           61,
           62,
           63,
           64,
           65,
           66,
           67,
           68,
           69,
           70,
           71,
           72,
           73,
           74,
           75,
           76,
           77,
           78,
           79,
           80,
           81,
           82,
           83,
           84,
           85,
           86,
           87,
           88,
           89,
           90,
           91,
           92,
           93,
           94,
           95,
           96,
           97,
           98,
           99,
           100,
           101,
           102,
           103,
           104,
           105,
           106,
           107,
           108,
           109,
           110,
           111,
           112,
           113,
           114,
           115,
           116,
           117,
           118,
           119,
           120,
           121,
           122,
           123,
           124,
           125,
           126,
           127,
           128,
           129,
           130,
           131,
           132,
           133,
           134,
           135,
           136,
           137,
           138,
           139,
           140,
           141,
           142,
           143,
           144,
           145,
           146,
           147,
           148,
           149,
           150,
           151,
           152,
           153,
           154,
           155,
           156,
           157,
           158,
           159,
           160,
           161,
           162,
           163,
           164,
           165,
           166,
           167,
           168,
           169,
           170,
           171,
           172,
           173,
           174,
           175,
           176,
           177,
           178,
           179,
           180,
           181,
           182,
           183,
           184,
           185,
           186,
           187,
           188,
           189,
           190,
           191,
           192,
           193,
           194,
           195,
           196,
           197,
           198,
           199
          ],
          "colorbar": {
           "title": {
            "text": "#Trials"
           },
           "x": 1,
           "xpad": 40
          },
          "colorscale": [
           [
            0,
            "rgb(247,251,255)"
           ],
           [
            0.125,
            "rgb(222,235,247)"
           ],
           [
            0.25,
            "rgb(198,219,239)"
           ],
           [
            0.375,
            "rgb(158,202,225)"
           ],
           [
            0.5,
            "rgb(107,174,214)"
           ],
           [
            0.625,
            "rgb(66,146,198)"
           ],
           [
            0.75,
            "rgb(33,113,181)"
           ],
           [
            0.875,
            "rgb(8,81,156)"
           ],
           [
            1,
            "rgb(8,48,107)"
           ]
          ],
          "line": {
           "color": "Grey",
           "width": 0.5
          },
          "showscale": true
         },
         "mode": "markers",
         "showlegend": false,
         "type": "scatter",
         "x": [
          false,
          true,
          true,
          false,
          true,
          true,
          true,
          false,
          true,
          false,
          false,
          true,
          true,
          false,
          true,
          true,
          false,
          false,
          false,
          false,
          false,
          false,
          false,
          false,
          false,
          false,
          false,
          false,
          false,
          false,
          false,
          false,
          false,
          false,
          false,
          false,
          false,
          false,
          false,
          false,
          false,
          false,
          false,
          false,
          false,
          false,
          false,
          false,
          false,
          false,
          false,
          false,
          false,
          true,
          true,
          true,
          true,
          true,
          true,
          true,
          true,
          false,
          false,
          true,
          true,
          true,
          true,
          true,
          true,
          false,
          true,
          true,
          true,
          true,
          true,
          true,
          true,
          false,
          false,
          false,
          false,
          false,
          false,
          false,
          false,
          false,
          false,
          false,
          false,
          false,
          false,
          false,
          false,
          false,
          false,
          false,
          false,
          false,
          false,
          false,
          false,
          false,
          false,
          false,
          false,
          false,
          false,
          false,
          false,
          false,
          false,
          false,
          false,
          false,
          false,
          false,
          false,
          false,
          false,
          false,
          false,
          false,
          false,
          false,
          false,
          false,
          false,
          false,
          false,
          false,
          false,
          false,
          false,
          false,
          false,
          false,
          false,
          false,
          false,
          false,
          false,
          false,
          false,
          false,
          false,
          false,
          false,
          false,
          false,
          false,
          false,
          false,
          false,
          false,
          false,
          false,
          false,
          false,
          false,
          false,
          false,
          false,
          false,
          false,
          false,
          false,
          false,
          false,
          false,
          false,
          false,
          false,
          false,
          false,
          false,
          false,
          false,
          false,
          false,
          false,
          false,
          false,
          false,
          false,
          false,
          false,
          false,
          false,
          false,
          false,
          false,
          false,
          false,
          false,
          false,
          false,
          false,
          false,
          false,
          false
         ],
         "xaxis": "x",
         "y": [
          0.0804891100285682,
          -0.0012766438433560179,
          -0.0012845596280067983,
          0.2384037390712665,
          0.24239856233205948,
          -0.001288822322591332,
          0.11215535479883725,
          0.3437665512969016,
          0.2462929368716981,
          0.2933625518994634,
          0.23928822502338676,
          0.12483655347196901,
          0.07751927117017868,
          0.39728306883542824,
          0.08640398290017635,
          -0.0012747484138936338,
          0.2350510658598779,
          0.4687551383716843,
          0.42405532742679286,
          0.6280872895661493,
          0.4869746336241869,
          0.5517163543986022,
          0.616474726753508,
          0.6627606273078482,
          0.6555476274579792,
          0.6711888211406061,
          0.4542302185109948,
          0.6561138113480082,
          0.6527027307229204,
          0.6805131262840851,
          0.2736809814980228,
          0.26624421023188527,
          0.2807424645697528,
          0.2745075651366841,
          0.28607940990595154,
          0.27465878794342335,
          0.2687847722064792,
          0.2776562518065778,
          0.2777561721403106,
          0.2958388615524653,
          0.3306048215244822,
          0.33957374509154475,
          0.3240118369145058,
          0.35177167364035933,
          0.367793614173286,
          0.3903032553582451,
          0.37149501238873167,
          0.418901151275682,
          0.46220968544697605,
          0.4611921342568902,
          0.41734625782743295,
          0.648671135764374,
          0.617144029514652,
          0.43986225165838455,
          0.6472940380355995,
          0.2542210565314077,
          0.2537299143481947,
          0.25381547803321597,
          0.6568484122889172,
          0.6621214007737207,
          0.4823767140964307,
          0.6190874415382001,
          0.281868799748893,
          0.07869294844119624,
          0.43755861517882144,
          0.32433224511994885,
          0.35912021595653915,
          0.3680371949077411,
          0.3962053937079216,
          0.48551181236444885,
          0.4097980769060053,
          -0.0012857620453925022,
          0.5035934319302883,
          0.39198991635679575,
          0.319564743979819,
          0.327930422185212,
          0.3452446792314657,
          0.4116426847525746,
          0.2350510658598779,
          0.38956323573040413,
          0.47556492698001646,
          0.2350510658598778,
          0.47142096758736535,
          0.46961778172043633,
          0.38956323573040436,
          0.43717476169437397,
          0.43476902369818465,
          0.44081579819370864,
          0.6885681283189549,
          0.6391865451292393,
          0.7017202218584145,
          0.6387106154541987,
          0.6706224028865659,
          0.6044960015595433,
          0.6280952816615484,
          0.605950970897646,
          0.6390911419558386,
          0.586835986110255,
          0.6170332410241921,
          0.6541644875633204,
          0.6198327106636635,
          0.7603373965732685,
          0.3319921121843219,
          0.8011916305913968,
          0.8009524823143479,
          0.46828095544670434,
          0.41915951073491764,
          0.2350510658598779,
          0.4622069115136706,
          0.4644790580057183,
          0.4622069115136706,
          0.4641763297081182,
          0.23505106585987798,
          0.23505106585987798,
          0.45867264147170966,
          0.4625558120957556,
          0.7662071373881849,
          0.23928822502338667,
          0.4819050949943879,
          0.7532657051314009,
          0.7338756350117133,
          0.4877716338492669,
          0.23421529459679924,
          0.48772602366789836,
          0.4864291552062502,
          0.7860910057418563,
          0.539070443431949,
          0.7773376805115718,
          0.7705446829294533,
          0.7762234767076419,
          0.5580262222857152,
          0.5454814478102735,
          0.7327632161757531,
          0.5622554572747256,
          0.7317071321755899,
          0.7324840810741178,
          0.7336229548969692,
          0.7346058294440403,
          0.7323152001035302,
          0.7656319735765995,
          0.7046944612450821,
          0.7094849458053495,
          0.42891740695065683,
          0.704295062247766,
          0.7326355392669301,
          0.7642899562220277,
          0.7557397468443263,
          0.7732238633784607,
          0.5753592646831367,
          0.5593043962609743,
          0.6056945616227906,
          0.5750775097683496,
          0.5780979767915329,
          0.5662496055333776,
          0.5605795737192576,
          0.5786307247800547,
          0.5741467131613047,
          0.5715835605354762,
          0.6107032063750365,
          0.4980738081930206,
          0.48978982417736117,
          0.49172508976165935,
          0.4425868245966039,
          0.4334692971097282,
          0.42472017563690817,
          0.6585532168070718,
          0.6579897673075246,
          0.10410777407726539,
          0.6786358472180185,
          0.5263276001968801,
          0.6733194638058932,
          0.650903418069167,
          0.6515144119321917,
          0.6820423841771508,
          0.6768337744726391,
          0.657882075729545,
          0.6856634846719154,
          0.7047374445009564,
          0.7130982207943911,
          0.7181597851069017,
          0.7253275248404769,
          0.6848576665094118,
          0.6839865476715831,
          0.6870141794243133,
          0.7291163445131548,
          0.7274172308179144,
          0.7308300777841218,
          0.7278033736414332,
          0.7297656648454487,
          0.5752861336738337,
          0.782325327647462,
          0.5881235495429988,
          0.5240384068951753,
          0.5300074027210673,
          0.5559334795707433,
          0.5391977423388974,
          0.5150353587114775,
          0.5740874748678341,
          0.5881703820491507,
          0.5301199682093477
         ],
         "yaxis": "y"
        },
        {
         "marker": {
          "color": [
           0,
           1,
           2,
           3,
           4,
           5,
           6,
           7,
           8,
           9,
           10,
           11,
           12,
           13,
           14,
           15,
           16,
           17,
           18,
           19,
           20,
           21,
           22,
           23,
           24,
           25,
           26,
           27,
           28,
           29,
           30,
           31,
           32,
           33,
           34,
           35,
           36,
           37,
           38,
           39,
           40,
           41,
           42,
           43,
           44,
           45,
           46,
           47,
           48,
           49,
           50,
           51,
           52,
           53,
           54,
           55,
           56,
           57,
           58,
           59,
           60,
           61,
           62,
           63,
           64,
           65,
           66,
           67,
           68,
           69,
           70,
           71,
           72,
           73,
           74,
           75,
           76,
           77,
           78,
           79,
           80,
           81,
           82,
           83,
           84,
           85,
           86,
           87,
           88,
           89,
           90,
           91,
           92,
           93,
           94,
           95,
           96,
           97,
           98,
           99,
           100,
           101,
           102,
           103,
           104,
           105,
           106,
           107,
           108,
           109,
           110,
           111,
           112,
           113,
           114,
           115,
           116,
           117,
           118,
           119,
           120,
           121,
           122,
           123,
           124,
           125,
           126,
           127,
           128,
           129,
           130,
           131,
           132,
           133,
           134,
           135,
           136,
           137,
           138,
           139,
           140,
           141,
           142,
           143,
           144,
           145,
           146,
           147,
           148,
           149,
           150,
           151,
           152,
           153,
           154,
           155,
           156,
           157,
           158,
           159,
           160,
           161,
           162,
           163,
           164,
           165,
           166,
           167,
           168,
           169,
           170,
           171,
           172,
           173,
           174,
           175,
           176,
           177,
           178,
           179,
           180,
           181,
           182,
           183,
           184,
           185,
           186,
           187,
           188,
           189,
           190,
           191,
           192,
           193,
           194,
           195,
           196,
           197,
           198,
           199
          ],
          "colorbar": {
           "title": {
            "text": "#Trials"
           },
           "x": 1,
           "xpad": 40
          },
          "colorscale": [
           [
            0,
            "rgb(247,251,255)"
           ],
           [
            0.125,
            "rgb(222,235,247)"
           ],
           [
            0.25,
            "rgb(198,219,239)"
           ],
           [
            0.375,
            "rgb(158,202,225)"
           ],
           [
            0.5,
            "rgb(107,174,214)"
           ],
           [
            0.625,
            "rgb(66,146,198)"
           ],
           [
            0.75,
            "rgb(33,113,181)"
           ],
           [
            0.875,
            "rgb(8,81,156)"
           ],
           [
            1,
            "rgb(8,48,107)"
           ]
          ],
          "line": {
           "color": "Grey",
           "width": 0.5
          },
          "showscale": false
         },
         "mode": "markers",
         "showlegend": false,
         "type": "scatter",
         "x": [
          10,
          11,
          12,
          6,
          15,
          10,
          8,
          6,
          9,
          7,
          14,
          12,
          11,
          10,
          6,
          14,
          6,
          15,
          8,
          8,
          7,
          8,
          8,
          8,
          8,
          8,
          8,
          8,
          8,
          9,
          9,
          9,
          9,
          9,
          9,
          9,
          9,
          9,
          7,
          7,
          7,
          7,
          10,
          7,
          7,
          10,
          10,
          10,
          10,
          10,
          10,
          10,
          8,
          11,
          8,
          11,
          11,
          11,
          8,
          8,
          8,
          8,
          8,
          8,
          8,
          8,
          6,
          6,
          8,
          6,
          6,
          7,
          7,
          9,
          9,
          9,
          9,
          7,
          7,
          7,
          7,
          7,
          8,
          8,
          8,
          8,
          8,
          8,
          12,
          9,
          14,
          9,
          9,
          13,
          13,
          13,
          13,
          13,
          13,
          14,
          12,
          12,
          14,
          15,
          15,
          12,
          9,
          12,
          15,
          12,
          15,
          15,
          15,
          15,
          15,
          15,
          15,
          14,
          15,
          14,
          14,
          14,
          14,
          14,
          14,
          14,
          14,
          14,
          14,
          14,
          14,
          14,
          14,
          14,
          14,
          14,
          14,
          14,
          14,
          14,
          14,
          14,
          14,
          14,
          14,
          15,
          15,
          15,
          15,
          15,
          15,
          15,
          15,
          13,
          15,
          15,
          15,
          15,
          15,
          15,
          15,
          15,
          13,
          13,
          13,
          13,
          13,
          13,
          14,
          14,
          14,
          14,
          14,
          14,
          14,
          14,
          14,
          14,
          14,
          14,
          14,
          14,
          14,
          15,
          15,
          15,
          15,
          15,
          15,
          15,
          15,
          15,
          15,
          15,
          14,
          14,
          14,
          14,
          14,
          14
         ],
         "xaxis": "x2",
         "y": [
          0.0804891100285682,
          -0.0012766438433560179,
          -0.0012845596280067983,
          0.2384037390712665,
          0.24239856233205948,
          -0.001288822322591332,
          0.11215535479883725,
          0.3437665512969016,
          0.2462929368716981,
          0.2933625518994634,
          0.23928822502338676,
          0.12483655347196901,
          0.07751927117017868,
          0.39728306883542824,
          0.08640398290017635,
          -0.0012747484138936338,
          0.2350510658598779,
          0.4687551383716843,
          0.42405532742679286,
          0.6280872895661493,
          0.4869746336241869,
          0.5517163543986022,
          0.616474726753508,
          0.6627606273078482,
          0.6555476274579792,
          0.6711888211406061,
          0.4542302185109948,
          0.6561138113480082,
          0.6527027307229204,
          0.6805131262840851,
          0.2736809814980228,
          0.26624421023188527,
          0.2807424645697528,
          0.2745075651366841,
          0.28607940990595154,
          0.27465878794342335,
          0.2687847722064792,
          0.2776562518065778,
          0.2777561721403106,
          0.2958388615524653,
          0.3306048215244822,
          0.33957374509154475,
          0.3240118369145058,
          0.35177167364035933,
          0.367793614173286,
          0.3903032553582451,
          0.37149501238873167,
          0.418901151275682,
          0.46220968544697605,
          0.4611921342568902,
          0.41734625782743295,
          0.648671135764374,
          0.617144029514652,
          0.43986225165838455,
          0.6472940380355995,
          0.2542210565314077,
          0.2537299143481947,
          0.25381547803321597,
          0.6568484122889172,
          0.6621214007737207,
          0.4823767140964307,
          0.6190874415382001,
          0.281868799748893,
          0.07869294844119624,
          0.43755861517882144,
          0.32433224511994885,
          0.35912021595653915,
          0.3680371949077411,
          0.3962053937079216,
          0.48551181236444885,
          0.4097980769060053,
          -0.0012857620453925022,
          0.5035934319302883,
          0.39198991635679575,
          0.319564743979819,
          0.327930422185212,
          0.3452446792314657,
          0.4116426847525746,
          0.2350510658598779,
          0.38956323573040413,
          0.47556492698001646,
          0.2350510658598778,
          0.47142096758736535,
          0.46961778172043633,
          0.38956323573040436,
          0.43717476169437397,
          0.43476902369818465,
          0.44081579819370864,
          0.6885681283189549,
          0.6391865451292393,
          0.7017202218584145,
          0.6387106154541987,
          0.6706224028865659,
          0.6044960015595433,
          0.6280952816615484,
          0.605950970897646,
          0.6390911419558386,
          0.586835986110255,
          0.6170332410241921,
          0.6541644875633204,
          0.6198327106636635,
          0.7603373965732685,
          0.3319921121843219,
          0.8011916305913968,
          0.8009524823143479,
          0.46828095544670434,
          0.41915951073491764,
          0.2350510658598779,
          0.4622069115136706,
          0.4644790580057183,
          0.4622069115136706,
          0.4641763297081182,
          0.23505106585987798,
          0.23505106585987798,
          0.45867264147170966,
          0.4625558120957556,
          0.7662071373881849,
          0.23928822502338667,
          0.4819050949943879,
          0.7532657051314009,
          0.7338756350117133,
          0.4877716338492669,
          0.23421529459679924,
          0.48772602366789836,
          0.4864291552062502,
          0.7860910057418563,
          0.539070443431949,
          0.7773376805115718,
          0.7705446829294533,
          0.7762234767076419,
          0.5580262222857152,
          0.5454814478102735,
          0.7327632161757531,
          0.5622554572747256,
          0.7317071321755899,
          0.7324840810741178,
          0.7336229548969692,
          0.7346058294440403,
          0.7323152001035302,
          0.7656319735765995,
          0.7046944612450821,
          0.7094849458053495,
          0.42891740695065683,
          0.704295062247766,
          0.7326355392669301,
          0.7642899562220277,
          0.7557397468443263,
          0.7732238633784607,
          0.5753592646831367,
          0.5593043962609743,
          0.6056945616227906,
          0.5750775097683496,
          0.5780979767915329,
          0.5662496055333776,
          0.5605795737192576,
          0.5786307247800547,
          0.5741467131613047,
          0.5715835605354762,
          0.6107032063750365,
          0.4980738081930206,
          0.48978982417736117,
          0.49172508976165935,
          0.4425868245966039,
          0.4334692971097282,
          0.42472017563690817,
          0.6585532168070718,
          0.6579897673075246,
          0.10410777407726539,
          0.6786358472180185,
          0.5263276001968801,
          0.6733194638058932,
          0.650903418069167,
          0.6515144119321917,
          0.6820423841771508,
          0.6768337744726391,
          0.657882075729545,
          0.6856634846719154,
          0.7047374445009564,
          0.7130982207943911,
          0.7181597851069017,
          0.7253275248404769,
          0.6848576665094118,
          0.6839865476715831,
          0.6870141794243133,
          0.7291163445131548,
          0.7274172308179144,
          0.7308300777841218,
          0.7278033736414332,
          0.7297656648454487,
          0.5752861336738337,
          0.782325327647462,
          0.5881235495429988,
          0.5240384068951753,
          0.5300074027210673,
          0.5559334795707433,
          0.5391977423388974,
          0.5150353587114775,
          0.5740874748678341,
          0.5881703820491507,
          0.5301199682093477
         ],
         "yaxis": "y2"
        },
        {
         "marker": {
          "color": [
           0,
           1,
           2,
           3,
           4,
           5,
           6,
           7,
           8,
           9,
           10,
           11,
           12,
           13,
           14,
           15,
           16,
           17,
           18,
           19,
           20,
           21,
           22,
           23,
           24,
           25,
           26,
           27,
           28,
           29,
           30,
           31,
           32,
           33,
           34,
           35,
           36,
           37,
           38,
           39,
           40,
           41,
           42,
           43,
           44,
           45,
           46,
           47,
           48,
           49,
           50,
           51,
           52,
           53,
           54,
           55,
           56,
           57,
           58,
           59,
           60,
           61,
           62,
           63,
           64,
           65,
           66,
           67,
           68,
           69,
           70,
           71,
           72,
           73,
           74,
           75,
           76,
           77,
           78,
           79,
           80,
           81,
           82,
           83,
           84,
           85,
           86,
           87,
           88,
           89,
           90,
           91,
           92,
           93,
           94,
           95,
           96,
           97,
           98,
           99,
           100,
           101,
           102,
           103,
           104,
           105,
           106,
           107,
           108,
           109,
           110,
           111,
           112,
           113,
           114,
           115,
           116,
           117,
           118,
           119,
           120,
           121,
           122,
           123,
           124,
           125,
           126,
           127,
           128,
           129,
           130,
           131,
           132,
           133,
           134,
           135,
           136,
           137,
           138,
           139,
           140,
           141,
           142,
           143,
           144,
           145,
           146,
           147,
           148,
           149,
           150,
           151,
           152,
           153,
           154,
           155,
           156,
           157,
           158,
           159,
           160,
           161,
           162,
           163,
           164,
           165,
           166,
           167,
           168,
           169,
           170,
           171,
           172,
           173,
           174,
           175,
           176,
           177,
           178,
           179,
           180,
           181,
           182,
           183,
           184,
           185,
           186,
           187,
           188,
           189,
           190,
           191,
           192,
           193,
           194,
           195,
           196,
           197,
           198,
           199
          ],
          "colorbar": {
           "title": {
            "text": "#Trials"
           },
           "x": 1,
           "xpad": 40
          },
          "colorscale": [
           [
            0,
            "rgb(247,251,255)"
           ],
           [
            0.125,
            "rgb(222,235,247)"
           ],
           [
            0.25,
            "rgb(198,219,239)"
           ],
           [
            0.375,
            "rgb(158,202,225)"
           ],
           [
            0.5,
            "rgb(107,174,214)"
           ],
           [
            0.625,
            "rgb(66,146,198)"
           ],
           [
            0.75,
            "rgb(33,113,181)"
           ],
           [
            0.875,
            "rgb(8,81,156)"
           ],
           [
            1,
            "rgb(8,48,107)"
           ]
          ],
          "line": {
           "color": "Grey",
           "width": 0.5
          },
          "showscale": false
         },
         "mode": "markers",
         "showlegend": false,
         "type": "scatter",
         "x": [
          "log2",
          "log2",
          "sqrt",
          "auto",
          "auto",
          "log2",
          "sqrt",
          "auto",
          "auto",
          "log2",
          "auto",
          "log2",
          "log2",
          "auto",
          "log2",
          "log2",
          "auto",
          "auto",
          "auto",
          "auto",
          "auto",
          "sqrt",
          "auto",
          "auto",
          "auto",
          "auto",
          "sqrt",
          "sqrt",
          "auto",
          "sqrt",
          "sqrt",
          "sqrt",
          "sqrt",
          "sqrt",
          "sqrt",
          "sqrt",
          "sqrt",
          "sqrt",
          "sqrt",
          "sqrt",
          "sqrt",
          "sqrt",
          "sqrt",
          "sqrt",
          "sqrt",
          "sqrt",
          "sqrt",
          "auto",
          "auto",
          "auto",
          "auto",
          "auto",
          "auto",
          "auto",
          "auto",
          "auto",
          "auto",
          "auto",
          "auto",
          "auto",
          "auto",
          "auto",
          "auto",
          "log2",
          "log2",
          "log2",
          "log2",
          "log2",
          "log2",
          "auto",
          "auto",
          "auto",
          "auto",
          "auto",
          "auto",
          "auto",
          "auto",
          "auto",
          "auto",
          "auto",
          "auto",
          "auto",
          "auto",
          "auto",
          "auto",
          "auto",
          "auto",
          "auto",
          "auto",
          "auto",
          "auto",
          "auto",
          "auto",
          "sqrt",
          "sqrt",
          "sqrt",
          "sqrt",
          "sqrt",
          "sqrt",
          "sqrt",
          "sqrt",
          "sqrt",
          "auto",
          "auto",
          "auto",
          "auto",
          "auto",
          "auto",
          "auto",
          "auto",
          "auto",
          "auto",
          "auto",
          "auto",
          "auto",
          "auto",
          "auto",
          "auto",
          "auto",
          "auto",
          "sqrt",
          "auto",
          "auto",
          "auto",
          "auto",
          "auto",
          "sqrt",
          "sqrt",
          "sqrt",
          "sqrt",
          "sqrt",
          "sqrt",
          "sqrt",
          "sqrt",
          "sqrt",
          "sqrt",
          "sqrt",
          "sqrt",
          "sqrt",
          "sqrt",
          "sqrt",
          "sqrt",
          "sqrt",
          "sqrt",
          "sqrt",
          "sqrt",
          "sqrt",
          "sqrt",
          "sqrt",
          "sqrt",
          "sqrt",
          "sqrt",
          "sqrt",
          "sqrt",
          "sqrt",
          "sqrt",
          "sqrt",
          "sqrt",
          "sqrt",
          "sqrt",
          "sqrt",
          "sqrt",
          "sqrt",
          "sqrt",
          "sqrt",
          "sqrt",
          "sqrt",
          "sqrt",
          "sqrt",
          "sqrt",
          "sqrt",
          "sqrt",
          "sqrt",
          "sqrt",
          "sqrt",
          "sqrt",
          "sqrt",
          "log2",
          "sqrt",
          "sqrt",
          "sqrt",
          "log2",
          "log2",
          "log2",
          "sqrt",
          "sqrt",
          "sqrt",
          "sqrt",
          "sqrt",
          "sqrt",
          "sqrt",
          "sqrt",
          "sqrt",
          "sqrt",
          "sqrt",
          "sqrt",
          "sqrt",
          "sqrt",
          "sqrt",
          "sqrt"
         ],
         "xaxis": "x3",
         "y": [
          0.0804891100285682,
          -0.0012766438433560179,
          -0.0012845596280067983,
          0.2384037390712665,
          0.24239856233205948,
          -0.001288822322591332,
          0.11215535479883725,
          0.3437665512969016,
          0.2462929368716981,
          0.2933625518994634,
          0.23928822502338676,
          0.12483655347196901,
          0.07751927117017868,
          0.39728306883542824,
          0.08640398290017635,
          -0.0012747484138936338,
          0.2350510658598779,
          0.4687551383716843,
          0.42405532742679286,
          0.6280872895661493,
          0.4869746336241869,
          0.5517163543986022,
          0.616474726753508,
          0.6627606273078482,
          0.6555476274579792,
          0.6711888211406061,
          0.4542302185109948,
          0.6561138113480082,
          0.6527027307229204,
          0.6805131262840851,
          0.2736809814980228,
          0.26624421023188527,
          0.2807424645697528,
          0.2745075651366841,
          0.28607940990595154,
          0.27465878794342335,
          0.2687847722064792,
          0.2776562518065778,
          0.2777561721403106,
          0.2958388615524653,
          0.3306048215244822,
          0.33957374509154475,
          0.3240118369145058,
          0.35177167364035933,
          0.367793614173286,
          0.3903032553582451,
          0.37149501238873167,
          0.418901151275682,
          0.46220968544697605,
          0.4611921342568902,
          0.41734625782743295,
          0.648671135764374,
          0.617144029514652,
          0.43986225165838455,
          0.6472940380355995,
          0.2542210565314077,
          0.2537299143481947,
          0.25381547803321597,
          0.6568484122889172,
          0.6621214007737207,
          0.4823767140964307,
          0.6190874415382001,
          0.281868799748893,
          0.07869294844119624,
          0.43755861517882144,
          0.32433224511994885,
          0.35912021595653915,
          0.3680371949077411,
          0.3962053937079216,
          0.48551181236444885,
          0.4097980769060053,
          -0.0012857620453925022,
          0.5035934319302883,
          0.39198991635679575,
          0.319564743979819,
          0.327930422185212,
          0.3452446792314657,
          0.4116426847525746,
          0.2350510658598779,
          0.38956323573040413,
          0.47556492698001646,
          0.2350510658598778,
          0.47142096758736535,
          0.46961778172043633,
          0.38956323573040436,
          0.43717476169437397,
          0.43476902369818465,
          0.44081579819370864,
          0.6885681283189549,
          0.6391865451292393,
          0.7017202218584145,
          0.6387106154541987,
          0.6706224028865659,
          0.6044960015595433,
          0.6280952816615484,
          0.605950970897646,
          0.6390911419558386,
          0.586835986110255,
          0.6170332410241921,
          0.6541644875633204,
          0.6198327106636635,
          0.7603373965732685,
          0.3319921121843219,
          0.8011916305913968,
          0.8009524823143479,
          0.46828095544670434,
          0.41915951073491764,
          0.2350510658598779,
          0.4622069115136706,
          0.4644790580057183,
          0.4622069115136706,
          0.4641763297081182,
          0.23505106585987798,
          0.23505106585987798,
          0.45867264147170966,
          0.4625558120957556,
          0.7662071373881849,
          0.23928822502338667,
          0.4819050949943879,
          0.7532657051314009,
          0.7338756350117133,
          0.4877716338492669,
          0.23421529459679924,
          0.48772602366789836,
          0.4864291552062502,
          0.7860910057418563,
          0.539070443431949,
          0.7773376805115718,
          0.7705446829294533,
          0.7762234767076419,
          0.5580262222857152,
          0.5454814478102735,
          0.7327632161757531,
          0.5622554572747256,
          0.7317071321755899,
          0.7324840810741178,
          0.7336229548969692,
          0.7346058294440403,
          0.7323152001035302,
          0.7656319735765995,
          0.7046944612450821,
          0.7094849458053495,
          0.42891740695065683,
          0.704295062247766,
          0.7326355392669301,
          0.7642899562220277,
          0.7557397468443263,
          0.7732238633784607,
          0.5753592646831367,
          0.5593043962609743,
          0.6056945616227906,
          0.5750775097683496,
          0.5780979767915329,
          0.5662496055333776,
          0.5605795737192576,
          0.5786307247800547,
          0.5741467131613047,
          0.5715835605354762,
          0.6107032063750365,
          0.4980738081930206,
          0.48978982417736117,
          0.49172508976165935,
          0.4425868245966039,
          0.4334692971097282,
          0.42472017563690817,
          0.6585532168070718,
          0.6579897673075246,
          0.10410777407726539,
          0.6786358472180185,
          0.5263276001968801,
          0.6733194638058932,
          0.650903418069167,
          0.6515144119321917,
          0.6820423841771508,
          0.6768337744726391,
          0.657882075729545,
          0.6856634846719154,
          0.7047374445009564,
          0.7130982207943911,
          0.7181597851069017,
          0.7253275248404769,
          0.6848576665094118,
          0.6839865476715831,
          0.6870141794243133,
          0.7291163445131548,
          0.7274172308179144,
          0.7308300777841218,
          0.7278033736414332,
          0.7297656648454487,
          0.5752861336738337,
          0.782325327647462,
          0.5881235495429988,
          0.5240384068951753,
          0.5300074027210673,
          0.5559334795707433,
          0.5391977423388974,
          0.5150353587114775,
          0.5740874748678341,
          0.5881703820491507,
          0.5301199682093477
         ],
         "yaxis": "y3"
        },
        {
         "marker": {
          "color": [
           0,
           1,
           2,
           3,
           4,
           5,
           6,
           7,
           8,
           9,
           10,
           11,
           12,
           13,
           14,
           15,
           16,
           17,
           18,
           19,
           20,
           21,
           22,
           23,
           24,
           25,
           26,
           27,
           28,
           29,
           30,
           31,
           32,
           33,
           34,
           35,
           36,
           37,
           38,
           39,
           40,
           41,
           42,
           43,
           44,
           45,
           46,
           47,
           48,
           49,
           50,
           51,
           52,
           53,
           54,
           55,
           56,
           57,
           58,
           59,
           60,
           61,
           62,
           63,
           64,
           65,
           66,
           67,
           68,
           69,
           70,
           71,
           72,
           73,
           74,
           75,
           76,
           77,
           78,
           79,
           80,
           81,
           82,
           83,
           84,
           85,
           86,
           87,
           88,
           89,
           90,
           91,
           92,
           93,
           94,
           95,
           96,
           97,
           98,
           99,
           100,
           101,
           102,
           103,
           104,
           105,
           106,
           107,
           108,
           109,
           110,
           111,
           112,
           113,
           114,
           115,
           116,
           117,
           118,
           119,
           120,
           121,
           122,
           123,
           124,
           125,
           126,
           127,
           128,
           129,
           130,
           131,
           132,
           133,
           134,
           135,
           136,
           137,
           138,
           139,
           140,
           141,
           142,
           143,
           144,
           145,
           146,
           147,
           148,
           149,
           150,
           151,
           152,
           153,
           154,
           155,
           156,
           157,
           158,
           159,
           160,
           161,
           162,
           163,
           164,
           165,
           166,
           167,
           168,
           169,
           170,
           171,
           172,
           173,
           174,
           175,
           176,
           177,
           178,
           179,
           180,
           181,
           182,
           183,
           184,
           185,
           186,
           187,
           188,
           189,
           190,
           191,
           192,
           193,
           194,
           195,
           196,
           197,
           198,
           199
          ],
          "colorbar": {
           "title": {
            "text": "#Trials"
           },
           "x": 1,
           "xpad": 40
          },
          "colorscale": [
           [
            0,
            "rgb(247,251,255)"
           ],
           [
            0.125,
            "rgb(222,235,247)"
           ],
           [
            0.25,
            "rgb(198,219,239)"
           ],
           [
            0.375,
            "rgb(158,202,225)"
           ],
           [
            0.5,
            "rgb(107,174,214)"
           ],
           [
            0.625,
            "rgb(66,146,198)"
           ],
           [
            0.75,
            "rgb(33,113,181)"
           ],
           [
            0.875,
            "rgb(8,81,156)"
           ],
           [
            1,
            "rgb(8,48,107)"
           ]
          ],
          "line": {
           "color": "Grey",
           "width": 0.5
          },
          "showscale": false
         },
         "mode": "markers",
         "showlegend": false,
         "type": "scatter",
         "x": [
          0.3611824559639179,
          0.3311937877575671,
          0.3947073347445695,
          0.48761740104823403,
          0.29865857160004006,
          0.44826276351747063,
          0.19885254979749312,
          0.17047652178870915,
          0.28837099027341884,
          0.06785336669489378,
          0.4781187014745683,
          0.15745293359133,
          0.29729492798331897,
          0.06658858821653152,
          0.19799476608271588,
          0.3665087524014136,
          0.41855219515044767,
          0.039599896236701015,
          0.0685387605915515,
          0.01197014697214041,
          0.02961652768015871,
          0.0163312307544285,
          0.016747533605877496,
          0.0008794234627899685,
          0.007876045711555387,
          0.007405990383968674,
          0.0335202694710946,
          0.002864362020354336,
          0.0015258234180280522,
          0.003694121796956054,
          0.11516285802507804,
          0.12739464795006775,
          0.11193768833396138,
          0.12030831180699107,
          0.10393406813759831,
          0.11896202770007208,
          0.12370036370633959,
          0.11031649130630312,
          0.11226404641362576,
          0.09736707410740808,
          0.08077366849913994,
          0.07581238781820415,
          0.08348493698205589,
          0.07016675730161075,
          0.06107849038430999,
          0.052790308727537476,
          0.06027352897590288,
          0.04967945097430619,
          0.046123766398226,
          0.04694120384209699,
          0.040573890996349574,
          0.004170192921227182,
          0.002177482087150343,
          0.03865513767788084,
          0.0030408980170265358,
          0.24312330955474792,
          0.004394273006128413,
          0.0009923831979121072,
          0.007517088500749948,
          0.0031369273638920956,
          0.02410571130658836,
          0.01971609441722725,
          0.2540453029377512,
          0.2596002332542497,
          0.016715533518753302,
          0.025856928575129147,
          0.02509062178624045,
          0.023755168326021304,
          0.024472878591361102,
          0.0282671923997821,
          0.025911739775715474,
          0.3457058413808191,
          0.030883808038275992,
          0.09123239460971824,
          0.16076128740062123,
          0.15490181610698078,
          0.1426921700604565,
          0.08991500450250299,
          0.34905771832762117,
          0.09052878502255607,
          0.035676112681555475,
          0.3470529609301407,
          0.03838936150235694,
          0.037934979914015565,
          0.05901985182108618,
          0.056805479365777976,
          0.058058490050704785,
          0.054847897472183965,
          0.011736768611783042,
          0.008843636280477863,
          0.007863748044651475,
          0.009110444700430728,
          0.01192280771560648,
          0.012590944598078194,
          0.01231489429595519,
          0.014905041406461195,
          0.010808203589089446,
          0.014258421586296727,
          0.013426167859223766,
          0.000058321271923433924,
          0.014148579188329694,
          0.00046480989459027344,
          0.19244793602738228,
          0.0009843589179222164,
          0.00042748318612675657,
          0.041036567567438495,
          0.07252644489457608,
          0.42260114254103065,
          0.04649595596734067,
          0.0431547087076058,
          0.046459979100091434,
          0.04449922036354864,
          0.4114920098299424,
          0.4177952548863907,
          0.047498627826298725,
          0.04587660888040206,
          0.00014350665833241707,
          0.4855005001660647,
          0.0334766828002013,
          0.002056562237426627,
          0.00019326198722992218,
          0.031148815822384983,
          0.4951687264580979,
          0.03142642194717016,
          0.03165934309712824,
          0.00016018924036724416,
          0.023224320103913444,
          0.00036914552596894416,
          0.0007377964582756021,
          0.0008380365333520144,
          0.02103079004634527,
          0.02146092243948415,
          0.0015033576353349401,
          0.020202386105553048,
          0.0022464872540770816,
          0.00025385932607616807,
          0.0000684839156176939,
          0.0008765639084475503,
          0.0015309894955556757,
          0.0003696775453138991,
          0.0028843636471569288,
          0.00047556128356494664,
          0.0033034273219513604,
          0.0012357541951623918,
          0.0005088825434327764,
          0.0007528376580091011,
          0.0018294397730070542,
          0.00033787174514600263,
          0.019505240188504087,
          0.02114676645816561,
          0.015893119673263418,
          0.019029493485770575,
          0.01919719366964921,
          0.020187520912882274,
          0.021013044764317142,
          0.018861354393015253,
          0.020028557080901854,
          0.019699244451846894,
          0.015247529234827889,
          0.028780680714130032,
          0.029858371961110988,
          0.029790336325906015,
          0.031107792579754462,
          0.031815154306472034,
          0.03311729332538977,
          0.010527605887057642,
          0.010439283289805857,
          0.2828157578735766,
          0.008617591892115448,
          0.010228945091023834,
          0.009045655172776026,
          0.01067233796511222,
          0.010592352590330319,
          0.008369470519153129,
          0.008829574943886254,
          0.010025965995213377,
          0.00809327704229136,
          0.001121617521858442,
          0.004749359811939828,
          0.0017642344939097058,
          0.00039193108814283297,
          0.0021805347775880157,
          0.0006374814113741777,
          0.0016705207669091022,
          0.0025997331791482183,
          0.0005367961354032533,
          0.000629980383698271,
          0.0015621565749139668,
          0.00014704424524309648,
          0.0010529677588847583,
          0.0006472295887866297,
          0.017710377524084803,
          0.025058180647349923,
          0.024357245471020014,
          0.02135774457205442,
          0.023396313788101312,
          0.0219677601746179,
          0.019837589334209035,
          0.017501303016491422,
          0.024034304937297874
         ],
         "xaxis": "x4",
         "y": [
          0.0804891100285682,
          -0.0012766438433560179,
          -0.0012845596280067983,
          0.2384037390712665,
          0.24239856233205948,
          -0.001288822322591332,
          0.11215535479883725,
          0.3437665512969016,
          0.2462929368716981,
          0.2933625518994634,
          0.23928822502338676,
          0.12483655347196901,
          0.07751927117017868,
          0.39728306883542824,
          0.08640398290017635,
          -0.0012747484138936338,
          0.2350510658598779,
          0.4687551383716843,
          0.42405532742679286,
          0.6280872895661493,
          0.4869746336241869,
          0.5517163543986022,
          0.616474726753508,
          0.6627606273078482,
          0.6555476274579792,
          0.6711888211406061,
          0.4542302185109948,
          0.6561138113480082,
          0.6527027307229204,
          0.6805131262840851,
          0.2736809814980228,
          0.26624421023188527,
          0.2807424645697528,
          0.2745075651366841,
          0.28607940990595154,
          0.27465878794342335,
          0.2687847722064792,
          0.2776562518065778,
          0.2777561721403106,
          0.2958388615524653,
          0.3306048215244822,
          0.33957374509154475,
          0.3240118369145058,
          0.35177167364035933,
          0.367793614173286,
          0.3903032553582451,
          0.37149501238873167,
          0.418901151275682,
          0.46220968544697605,
          0.4611921342568902,
          0.41734625782743295,
          0.648671135764374,
          0.617144029514652,
          0.43986225165838455,
          0.6472940380355995,
          0.2542210565314077,
          0.2537299143481947,
          0.25381547803321597,
          0.6568484122889172,
          0.6621214007737207,
          0.4823767140964307,
          0.6190874415382001,
          0.281868799748893,
          0.07869294844119624,
          0.43755861517882144,
          0.32433224511994885,
          0.35912021595653915,
          0.3680371949077411,
          0.3962053937079216,
          0.48551181236444885,
          0.4097980769060053,
          -0.0012857620453925022,
          0.5035934319302883,
          0.39198991635679575,
          0.319564743979819,
          0.327930422185212,
          0.3452446792314657,
          0.4116426847525746,
          0.2350510658598779,
          0.38956323573040413,
          0.47556492698001646,
          0.2350510658598778,
          0.47142096758736535,
          0.46961778172043633,
          0.38956323573040436,
          0.43717476169437397,
          0.43476902369818465,
          0.44081579819370864,
          0.6885681283189549,
          0.6391865451292393,
          0.7017202218584145,
          0.6387106154541987,
          0.6706224028865659,
          0.6044960015595433,
          0.6280952816615484,
          0.605950970897646,
          0.6390911419558386,
          0.586835986110255,
          0.6170332410241921,
          0.6541644875633204,
          0.6198327106636635,
          0.7603373965732685,
          0.3319921121843219,
          0.8011916305913968,
          0.8009524823143479,
          0.46828095544670434,
          0.41915951073491764,
          0.2350510658598779,
          0.4622069115136706,
          0.4644790580057183,
          0.4622069115136706,
          0.4641763297081182,
          0.23505106585987798,
          0.23505106585987798,
          0.45867264147170966,
          0.4625558120957556,
          0.7662071373881849,
          0.23928822502338667,
          0.4819050949943879,
          0.7532657051314009,
          0.7338756350117133,
          0.4877716338492669,
          0.23421529459679924,
          0.48772602366789836,
          0.4864291552062502,
          0.7860910057418563,
          0.539070443431949,
          0.7773376805115718,
          0.7705446829294533,
          0.7762234767076419,
          0.5580262222857152,
          0.5454814478102735,
          0.7327632161757531,
          0.5622554572747256,
          0.7317071321755899,
          0.7324840810741178,
          0.7336229548969692,
          0.7346058294440403,
          0.7323152001035302,
          0.7656319735765995,
          0.7046944612450821,
          0.7094849458053495,
          0.42891740695065683,
          0.704295062247766,
          0.7326355392669301,
          0.7642899562220277,
          0.7557397468443263,
          0.7732238633784607,
          0.5753592646831367,
          0.5593043962609743,
          0.6056945616227906,
          0.5750775097683496,
          0.5780979767915329,
          0.5662496055333776,
          0.5605795737192576,
          0.5786307247800547,
          0.5741467131613047,
          0.5715835605354762,
          0.6107032063750365,
          0.4980738081930206,
          0.48978982417736117,
          0.49172508976165935,
          0.4425868245966039,
          0.4334692971097282,
          0.42472017563690817,
          0.6585532168070718,
          0.6579897673075246,
          0.10410777407726539,
          0.6786358472180185,
          0.5263276001968801,
          0.6733194638058932,
          0.650903418069167,
          0.6515144119321917,
          0.6820423841771508,
          0.6768337744726391,
          0.657882075729545,
          0.6856634846719154,
          0.7047374445009564,
          0.7130982207943911,
          0.7181597851069017,
          0.7253275248404769,
          0.6848576665094118,
          0.6839865476715831,
          0.6870141794243133,
          0.7291163445131548,
          0.7274172308179144,
          0.7308300777841218,
          0.7278033736414332,
          0.7297656648454487,
          0.5752861336738337,
          0.782325327647462,
          0.5881235495429988,
          0.5240384068951753,
          0.5300074027210673,
          0.5559334795707433,
          0.5391977423388974,
          0.5150353587114775,
          0.5740874748678341,
          0.5881703820491507,
          0.5301199682093477
         ],
         "yaxis": "y4"
        },
        {
         "marker": {
          "color": [
           0,
           1,
           2,
           3,
           4,
           5,
           6,
           7,
           8,
           9,
           10,
           11,
           12,
           13,
           14,
           15,
           16,
           17,
           18,
           19,
           20,
           21,
           22,
           23,
           24,
           25,
           26,
           27,
           28,
           29,
           30,
           31,
           32,
           33,
           34,
           35,
           36,
           37,
           38,
           39,
           40,
           41,
           42,
           43,
           44,
           45,
           46,
           47,
           48,
           49,
           50,
           51,
           52,
           53,
           54,
           55,
           56,
           57,
           58,
           59,
           60,
           61,
           62,
           63,
           64,
           65,
           66,
           67,
           68,
           69,
           70,
           71,
           72,
           73,
           74,
           75,
           76,
           77,
           78,
           79,
           80,
           81,
           82,
           83,
           84,
           85,
           86,
           87,
           88,
           89,
           90,
           91,
           92,
           93,
           94,
           95,
           96,
           97,
           98,
           99,
           100,
           101,
           102,
           103,
           104,
           105,
           106,
           107,
           108,
           109,
           110,
           111,
           112,
           113,
           114,
           115,
           116,
           117,
           118,
           119,
           120,
           121,
           122,
           123,
           124,
           125,
           126,
           127,
           128,
           129,
           130,
           131,
           132,
           133,
           134,
           135,
           136,
           137,
           138,
           139,
           140,
           141,
           142,
           143,
           144,
           145,
           146,
           147,
           148,
           149,
           150,
           151,
           152,
           153,
           154,
           155,
           156,
           157,
           158,
           159,
           160,
           161,
           162,
           163,
           164,
           165,
           166,
           167,
           168,
           169,
           170,
           171,
           172,
           173,
           174,
           175,
           176,
           177,
           178,
           179,
           180,
           181,
           182,
           183,
           184,
           185,
           186,
           187,
           188,
           189,
           190,
           191,
           192,
           193,
           194,
           195,
           196,
           197,
           198,
           199
          ],
          "colorbar": {
           "title": {
            "text": "#Trials"
           },
           "x": 1,
           "xpad": 40
          },
          "colorscale": [
           [
            0,
            "rgb(247,251,255)"
           ],
           [
            0.125,
            "rgb(222,235,247)"
           ],
           [
            0.25,
            "rgb(198,219,239)"
           ],
           [
            0.375,
            "rgb(158,202,225)"
           ],
           [
            0.5,
            "rgb(107,174,214)"
           ],
           [
            0.625,
            "rgb(66,146,198)"
           ],
           [
            0.75,
            "rgb(33,113,181)"
           ],
           [
            0.875,
            "rgb(8,81,156)"
           ],
           [
            1,
            "rgb(8,48,107)"
           ]
          ],
          "line": {
           "color": "Grey",
           "width": 0.5
          },
          "showscale": false
         },
         "mode": "markers",
         "showlegend": false,
         "type": "scatter",
         "x": [
          0.2640901869097675,
          0.4813764013476718,
          0.33336849692660747,
          0.17321585685906338,
          0.387935949304937,
          0.3378366465242841,
          0.4281684246470812,
          0.15091764620410408,
          0.20572634934126466,
          0.31663054714054484,
          0.4848748267856358,
          0.01638087187286974,
          0.48313623843485215,
          0.25387142647014227,
          0.20876097787036585,
          0.3425112104804051,
          0.09559394949638494,
          0.07165824133141699,
          0.1088715546682163,
          0.10520423688725572,
          0.05068853316045478,
          0.12638655853918418,
          0.11388449820230995,
          0.056781639288725705,
          0.050461822581239886,
          0.005645605953761401,
          0.009789142621859245,
          0.0016712608759010886,
          0.07920430281653558,
          0.000539932481340398,
          0.00014997645764832507,
          0.0002735838487438677,
          0.01306669980037501,
          0.0036731163462638368,
          0.01800772139727519,
          0.0034865963634676134,
          0.03873231199516379,
          0.04104439937397005,
          0.03777109542629974,
          0.03610598180433662,
          0.04197973503544361,
          0.042872954362372956,
          0.05369085994434994,
          0.05852584143882529,
          0.06907810347033372,
          0.07104888067559445,
          0.0708657172287771,
          0.15211079432465857,
          0.07161646119725228,
          0.06588757587715302,
          0.15526465628425923,
          0.14772164709674102,
          0.15504842882228953,
          0.14861210280728487,
          0.14905685549540215,
          0.44748300100563854,
          0.4443480646518986,
          0.4531319951608792,
          0.09126818925654298,
          0.09375613553454187,
          0.08615472704879414,
          0.09250415003946838,
          0.09342434404043568,
          0.19392919632355818,
          0.20437173170111672,
          0.2878310289328632,
          0.19520163790938855,
          0.20640955347690004,
          0.02431345508119035,
          0.027429474841522694,
          0.21894106189328438,
          0.02354808618530905,
          0.027180742520179955,
          0.02281297828436305,
          0.023050386576757533,
          0.11978945192808137,
          0.023464520960135727,
          0.12431065006245533,
          0.12401778057236228,
          0.3821133759031822,
          0.08208458086183516,
          0.0515789503206886,
          0.05350923926923698,
          0.08486610372879494,
          0.3636538920000177,
          0.08387138430235273,
          0.08479620356727187,
          0.08058818291568204,
          0.10438716571746426,
          0.10467665033065253,
          0.1009618404320334,
          0.10663256234684468,
          0.009756837686055782,
          0.11108107928739255,
          0.05569691689739194,
          0.05559996595758379,
          0.059078101770093136,
          0.13535674590466545,
          0.06090163956978752,
          0.13282243936306715,
          0.012333865630416597,
          0.01068448520911772,
          0.004412065046388059,
          0.005391643571965053,
          0.006781621581376477,
          0.001947742255905707,
          0.004928029653412093,
          0.0026781052930820518,
          0.000596372071798167,
          0.0349631877921968,
          0.009822480108698153,
          0.03410621809962389,
          0.011271251621284173,
          0.034551392211286475,
          0.0419986857582378,
          0.03158918533763691,
          0.035737841928774286,
          0.04403185492649432,
          0.03479014675565323,
          0.04463669554892821,
          0.04419818066836489,
          0.03477969553523941,
          0.017177329202371205,
          0.01781568292492077,
          0.016550979407627998,
          0.02068358373866544,
          0.016822615271302768,
          0.016346331785839847,
          0.01856398706310523,
          0.015189228874580057,
          0.015666432676698483,
          0.06729348542137781,
          0.04539726009004244,
          0.046661689669933566,
          0.043176748250468355,
          0.04730905291705277,
          0.04565195395932058,
          0.04376468902092417,
          0.04652525437900418,
          0.02265430354377898,
          0.06870667511750517,
          0.06696403799409845,
          0.49961252786308585,
          0.07283350512947986,
          0.047832215012839394,
          0.027600967523905336,
          0.030166579943162512,
          0.023406059723867167,
          0.029361101412763022,
          0.027226554231084714,
          0.02667869225063631,
          0.025858738586919058,
          0.025643814633071926,
          0.02232733091863909,
          0.02694800902104861,
          0.024348663563125546,
          0.021713432114582782,
          0.023361745649683338,
          0.02132451875192619,
          0.011177182770601852,
          0.013204195677840449,
          0.012745009032140627,
          0.2861744883005076,
          0.3156381599248567,
          0.28338267412994367,
          0.009954786903176277,
          0.010961759785811459,
          0.0001240428221634532,
          0.039431555340495084,
          0.3110658147317885,
          0.03690576061876733,
          0.051881136764346136,
          0.03696619750856032,
          0.039136001471035,
          0.03826066893779176,
          0.041349721652539216,
          0.03551098095792406,
          0.03726111609189582,
          0.04483572622606745,
          0.058434956026748155,
          0.05230981091345069,
          0.049348963906193,
          0.0536271630383347,
          0.05764974616926653,
          0.04890859737784079,
          0.05577834174724293,
          0.052659035403889665,
          0.05337526079960316,
          0.05370851313948358,
          0.2434293819470342,
          0.016169417996266238,
          0.01606576520858983,
          0.0009615008281198146,
          0.01881217761180015,
          0.018401670398787543,
          0.03043238140712859,
          0.23305637408272495,
          0.018191595169154973,
          0.012322290777198161,
          0.03188768670395564
         ],
         "xaxis": "x5",
         "y": [
          0.0804891100285682,
          -0.0012766438433560179,
          -0.0012845596280067983,
          0.2384037390712665,
          0.24239856233205948,
          -0.001288822322591332,
          0.11215535479883725,
          0.3437665512969016,
          0.2462929368716981,
          0.2933625518994634,
          0.23928822502338676,
          0.12483655347196901,
          0.07751927117017868,
          0.39728306883542824,
          0.08640398290017635,
          -0.0012747484138936338,
          0.2350510658598779,
          0.4687551383716843,
          0.42405532742679286,
          0.6280872895661493,
          0.4869746336241869,
          0.5517163543986022,
          0.616474726753508,
          0.6627606273078482,
          0.6555476274579792,
          0.6711888211406061,
          0.4542302185109948,
          0.6561138113480082,
          0.6527027307229204,
          0.6805131262840851,
          0.2736809814980228,
          0.26624421023188527,
          0.2807424645697528,
          0.2745075651366841,
          0.28607940990595154,
          0.27465878794342335,
          0.2687847722064792,
          0.2776562518065778,
          0.2777561721403106,
          0.2958388615524653,
          0.3306048215244822,
          0.33957374509154475,
          0.3240118369145058,
          0.35177167364035933,
          0.367793614173286,
          0.3903032553582451,
          0.37149501238873167,
          0.418901151275682,
          0.46220968544697605,
          0.4611921342568902,
          0.41734625782743295,
          0.648671135764374,
          0.617144029514652,
          0.43986225165838455,
          0.6472940380355995,
          0.2542210565314077,
          0.2537299143481947,
          0.25381547803321597,
          0.6568484122889172,
          0.6621214007737207,
          0.4823767140964307,
          0.6190874415382001,
          0.281868799748893,
          0.07869294844119624,
          0.43755861517882144,
          0.32433224511994885,
          0.35912021595653915,
          0.3680371949077411,
          0.3962053937079216,
          0.48551181236444885,
          0.4097980769060053,
          -0.0012857620453925022,
          0.5035934319302883,
          0.39198991635679575,
          0.319564743979819,
          0.327930422185212,
          0.3452446792314657,
          0.4116426847525746,
          0.2350510658598779,
          0.38956323573040413,
          0.47556492698001646,
          0.2350510658598778,
          0.47142096758736535,
          0.46961778172043633,
          0.38956323573040436,
          0.43717476169437397,
          0.43476902369818465,
          0.44081579819370864,
          0.6885681283189549,
          0.6391865451292393,
          0.7017202218584145,
          0.6387106154541987,
          0.6706224028865659,
          0.6044960015595433,
          0.6280952816615484,
          0.605950970897646,
          0.6390911419558386,
          0.586835986110255,
          0.6170332410241921,
          0.6541644875633204,
          0.6198327106636635,
          0.7603373965732685,
          0.3319921121843219,
          0.8011916305913968,
          0.8009524823143479,
          0.46828095544670434,
          0.41915951073491764,
          0.2350510658598779,
          0.4622069115136706,
          0.4644790580057183,
          0.4622069115136706,
          0.4641763297081182,
          0.23505106585987798,
          0.23505106585987798,
          0.45867264147170966,
          0.4625558120957556,
          0.7662071373881849,
          0.23928822502338667,
          0.4819050949943879,
          0.7532657051314009,
          0.7338756350117133,
          0.4877716338492669,
          0.23421529459679924,
          0.48772602366789836,
          0.4864291552062502,
          0.7860910057418563,
          0.539070443431949,
          0.7773376805115718,
          0.7705446829294533,
          0.7762234767076419,
          0.5580262222857152,
          0.5454814478102735,
          0.7327632161757531,
          0.5622554572747256,
          0.7317071321755899,
          0.7324840810741178,
          0.7336229548969692,
          0.7346058294440403,
          0.7323152001035302,
          0.7656319735765995,
          0.7046944612450821,
          0.7094849458053495,
          0.42891740695065683,
          0.704295062247766,
          0.7326355392669301,
          0.7642899562220277,
          0.7557397468443263,
          0.7732238633784607,
          0.5753592646831367,
          0.5593043962609743,
          0.6056945616227906,
          0.5750775097683496,
          0.5780979767915329,
          0.5662496055333776,
          0.5605795737192576,
          0.5786307247800547,
          0.5741467131613047,
          0.5715835605354762,
          0.6107032063750365,
          0.4980738081930206,
          0.48978982417736117,
          0.49172508976165935,
          0.4425868245966039,
          0.4334692971097282,
          0.42472017563690817,
          0.6585532168070718,
          0.6579897673075246,
          0.10410777407726539,
          0.6786358472180185,
          0.5263276001968801,
          0.6733194638058932,
          0.650903418069167,
          0.6515144119321917,
          0.6820423841771508,
          0.6768337744726391,
          0.657882075729545,
          0.6856634846719154,
          0.7047374445009564,
          0.7130982207943911,
          0.7181597851069017,
          0.7253275248404769,
          0.6848576665094118,
          0.6839865476715831,
          0.6870141794243133,
          0.7291163445131548,
          0.7274172308179144,
          0.7308300777841218,
          0.7278033736414332,
          0.7297656648454487,
          0.5752861336738337,
          0.782325327647462,
          0.5881235495429988,
          0.5240384068951753,
          0.5300074027210673,
          0.5559334795707433,
          0.5391977423388974,
          0.5150353587114775,
          0.5740874748678341,
          0.5881703820491507,
          0.5301199682093477
         ],
         "yaxis": "y5"
        },
        {
         "marker": {
          "color": [
           0,
           1,
           2,
           3,
           4,
           5,
           6,
           7,
           8,
           9,
           10,
           11,
           12,
           13,
           14,
           15,
           16,
           17,
           18,
           19,
           20,
           21,
           22,
           23,
           24,
           25,
           26,
           27,
           28,
           29,
           30,
           31,
           32,
           33,
           34,
           35,
           36,
           37,
           38,
           39,
           40,
           41,
           42,
           43,
           44,
           45,
           46,
           47,
           48,
           49,
           50,
           51,
           52,
           53,
           54,
           55,
           56,
           57,
           58,
           59,
           60,
           61,
           62,
           63,
           64,
           65,
           66,
           67,
           68,
           69,
           70,
           71,
           72,
           73,
           74,
           75,
           76,
           77,
           78,
           79,
           80,
           81,
           82,
           83,
           84,
           85,
           86,
           87,
           88,
           89,
           90,
           91,
           92,
           93,
           94,
           95,
           96,
           97,
           98,
           99,
           100,
           101,
           102,
           103,
           104,
           105,
           106,
           107,
           108,
           109,
           110,
           111,
           112,
           113,
           114,
           115,
           116,
           117,
           118,
           119,
           120,
           121,
           122,
           123,
           124,
           125,
           126,
           127,
           128,
           129,
           130,
           131,
           132,
           133,
           134,
           135,
           136,
           137,
           138,
           139,
           140,
           141,
           142,
           143,
           144,
           145,
           146,
           147,
           148,
           149,
           150,
           151,
           152,
           153,
           154,
           155,
           156,
           157,
           158,
           159,
           160,
           161,
           162,
           163,
           164,
           165,
           166,
           167,
           168,
           169,
           170,
           171,
           172,
           173,
           174,
           175,
           176,
           177,
           178,
           179,
           180,
           181,
           182,
           183,
           184,
           185,
           186,
           187,
           188,
           189,
           190,
           191,
           192,
           193,
           194,
           195,
           196,
           197,
           198,
           199
          ],
          "colorbar": {
           "title": {
            "text": "#Trials"
           },
           "x": 1,
           "xpad": 40
          },
          "colorscale": [
           [
            0,
            "rgb(247,251,255)"
           ],
           [
            0.125,
            "rgb(222,235,247)"
           ],
           [
            0.25,
            "rgb(198,219,239)"
           ],
           [
            0.375,
            "rgb(158,202,225)"
           ],
           [
            0.5,
            "rgb(107,174,214)"
           ],
           [
            0.625,
            "rgb(66,146,198)"
           ],
           [
            0.75,
            "rgb(33,113,181)"
           ],
           [
            0.875,
            "rgb(8,81,156)"
           ],
           [
            1,
            "rgb(8,48,107)"
           ]
          ],
          "line": {
           "color": "Grey",
           "width": 0.5
          },
          "showscale": false
         },
         "mode": "markers",
         "showlegend": false,
         "type": "scatter",
         "x": [
          760,
          991,
          454,
          129,
          73,
          517,
          583,
          360,
          559,
          832,
          612,
          452,
          841,
          971,
          211,
          920,
          225,
          992,
          334,
          300,
          318,
          908,
          334,
          317,
          310,
          329,
          300,
          222,
          229,
          168,
          221,
          209,
          415,
          158,
          150,
          153,
          147,
          139,
          146,
          101,
          406,
          413,
          407,
          431,
          393,
          424,
          469,
          389,
          266,
          52,
          62,
          267,
          516,
          496,
          500,
          490,
          268,
          281,
          275,
          639,
          199,
          185,
          683,
          677,
          616,
          358,
          361,
          668,
          612,
          682,
          681,
          642,
          714,
          665,
          107,
          242,
          103,
          247,
          237,
          239,
          316,
          180,
          743,
          183,
          548,
          184,
          317,
          551,
          310,
          309,
          284,
          307,
          290,
          548,
          347,
          349,
          762,
          350,
          347,
          351,
          362,
          283,
          287,
          286,
          279,
          277,
          284,
          291,
          275,
          819,
          285,
          378,
          380,
          293,
          381,
          444,
          258,
          259,
          257,
          254,
          214,
          256,
          258,
          329,
          210,
          213,
          226,
          213,
          334,
          221,
          215,
          331,
          227,
          207,
          196,
          205,
          207,
          118,
          165,
          134,
          160,
          172,
          128,
          124,
          166,
          139,
          115,
          126,
          119,
          81,
          71,
          234,
          86,
          231,
          83,
          230,
          89,
          85,
          97,
          143,
          105,
          138,
          148,
          144,
          141,
          142,
          146,
          136,
          189,
          121,
          190,
          50,
          189,
          182,
          192,
          191,
          192,
          192,
          193,
          168,
          245,
          215,
          160,
          247,
          250,
          245,
          219,
          217,
          243,
          212,
          251,
          212,
          224,
          213,
          211,
          167,
          115,
          111,
          263,
          261
         ],
         "xaxis": "x6",
         "y": [
          0.0804891100285682,
          -0.0012766438433560179,
          -0.0012845596280067983,
          0.2384037390712665,
          0.24239856233205948,
          -0.001288822322591332,
          0.11215535479883725,
          0.3437665512969016,
          0.2462929368716981,
          0.2933625518994634,
          0.23928822502338676,
          0.12483655347196901,
          0.07751927117017868,
          0.39728306883542824,
          0.08640398290017635,
          -0.0012747484138936338,
          0.2350510658598779,
          0.4687551383716843,
          0.42405532742679286,
          0.6280872895661493,
          0.4869746336241869,
          0.5517163543986022,
          0.616474726753508,
          0.6627606273078482,
          0.6555476274579792,
          0.6711888211406061,
          0.4542302185109948,
          0.6561138113480082,
          0.6527027307229204,
          0.6805131262840851,
          0.2736809814980228,
          0.26624421023188527,
          0.2807424645697528,
          0.2745075651366841,
          0.28607940990595154,
          0.27465878794342335,
          0.2687847722064792,
          0.2776562518065778,
          0.2777561721403106,
          0.2958388615524653,
          0.3306048215244822,
          0.33957374509154475,
          0.3240118369145058,
          0.35177167364035933,
          0.367793614173286,
          0.3903032553582451,
          0.37149501238873167,
          0.418901151275682,
          0.46220968544697605,
          0.4611921342568902,
          0.41734625782743295,
          0.648671135764374,
          0.617144029514652,
          0.43986225165838455,
          0.6472940380355995,
          0.2542210565314077,
          0.2537299143481947,
          0.25381547803321597,
          0.6568484122889172,
          0.6621214007737207,
          0.4823767140964307,
          0.6190874415382001,
          0.281868799748893,
          0.07869294844119624,
          0.43755861517882144,
          0.32433224511994885,
          0.35912021595653915,
          0.3680371949077411,
          0.3962053937079216,
          0.48551181236444885,
          0.4097980769060053,
          -0.0012857620453925022,
          0.5035934319302883,
          0.39198991635679575,
          0.319564743979819,
          0.327930422185212,
          0.3452446792314657,
          0.4116426847525746,
          0.2350510658598779,
          0.38956323573040413,
          0.47556492698001646,
          0.2350510658598778,
          0.47142096758736535,
          0.46961778172043633,
          0.38956323573040436,
          0.43717476169437397,
          0.43476902369818465,
          0.44081579819370864,
          0.6885681283189549,
          0.6391865451292393,
          0.7017202218584145,
          0.6387106154541987,
          0.6706224028865659,
          0.6044960015595433,
          0.6280952816615484,
          0.605950970897646,
          0.6390911419558386,
          0.586835986110255,
          0.6170332410241921,
          0.6541644875633204,
          0.6198327106636635,
          0.7603373965732685,
          0.3319921121843219,
          0.8011916305913968,
          0.8009524823143479,
          0.46828095544670434,
          0.41915951073491764,
          0.2350510658598779,
          0.4622069115136706,
          0.4644790580057183,
          0.4622069115136706,
          0.4641763297081182,
          0.23505106585987798,
          0.23505106585987798,
          0.45867264147170966,
          0.4625558120957556,
          0.7662071373881849,
          0.23928822502338667,
          0.4819050949943879,
          0.7532657051314009,
          0.7338756350117133,
          0.4877716338492669,
          0.23421529459679924,
          0.48772602366789836,
          0.4864291552062502,
          0.7860910057418563,
          0.539070443431949,
          0.7773376805115718,
          0.7705446829294533,
          0.7762234767076419,
          0.5580262222857152,
          0.5454814478102735,
          0.7327632161757531,
          0.5622554572747256,
          0.7317071321755899,
          0.7324840810741178,
          0.7336229548969692,
          0.7346058294440403,
          0.7323152001035302,
          0.7656319735765995,
          0.7046944612450821,
          0.7094849458053495,
          0.42891740695065683,
          0.704295062247766,
          0.7326355392669301,
          0.7642899562220277,
          0.7557397468443263,
          0.7732238633784607,
          0.5753592646831367,
          0.5593043962609743,
          0.6056945616227906,
          0.5750775097683496,
          0.5780979767915329,
          0.5662496055333776,
          0.5605795737192576,
          0.5786307247800547,
          0.5741467131613047,
          0.5715835605354762,
          0.6107032063750365,
          0.4980738081930206,
          0.48978982417736117,
          0.49172508976165935,
          0.4425868245966039,
          0.4334692971097282,
          0.42472017563690817,
          0.6585532168070718,
          0.6579897673075246,
          0.10410777407726539,
          0.6786358472180185,
          0.5263276001968801,
          0.6733194638058932,
          0.650903418069167,
          0.6515144119321917,
          0.6820423841771508,
          0.6768337744726391,
          0.657882075729545,
          0.6856634846719154,
          0.7047374445009564,
          0.7130982207943911,
          0.7181597851069017,
          0.7253275248404769,
          0.6848576665094118,
          0.6839865476715831,
          0.6870141794243133,
          0.7291163445131548,
          0.7274172308179144,
          0.7308300777841218,
          0.7278033736414332,
          0.7297656648454487,
          0.5752861336738337,
          0.782325327647462,
          0.5881235495429988,
          0.5240384068951753,
          0.5300074027210673,
          0.5559334795707433,
          0.5391977423388974,
          0.5150353587114775,
          0.5740874748678341,
          0.5881703820491507,
          0.5301199682093477
         ],
         "yaxis": "y6"
        }
       ],
       "layout": {
        "template": {
         "data": {
          "bar": [
           {
            "error_x": {
             "color": "#2a3f5f"
            },
            "error_y": {
             "color": "#2a3f5f"
            },
            "marker": {
             "line": {
              "color": "#E5ECF6",
              "width": 0.5
             },
             "pattern": {
              "fillmode": "overlay",
              "size": 10,
              "solidity": 0.2
             }
            },
            "type": "bar"
           }
          ],
          "barpolar": [
           {
            "marker": {
             "line": {
              "color": "#E5ECF6",
              "width": 0.5
             },
             "pattern": {
              "fillmode": "overlay",
              "size": 10,
              "solidity": 0.2
             }
            },
            "type": "barpolar"
           }
          ],
          "carpet": [
           {
            "aaxis": {
             "endlinecolor": "#2a3f5f",
             "gridcolor": "white",
             "linecolor": "white",
             "minorgridcolor": "white",
             "startlinecolor": "#2a3f5f"
            },
            "baxis": {
             "endlinecolor": "#2a3f5f",
             "gridcolor": "white",
             "linecolor": "white",
             "minorgridcolor": "white",
             "startlinecolor": "#2a3f5f"
            },
            "type": "carpet"
           }
          ],
          "choropleth": [
           {
            "colorbar": {
             "outlinewidth": 0,
             "ticks": ""
            },
            "type": "choropleth"
           }
          ],
          "contour": [
           {
            "colorbar": {
             "outlinewidth": 0,
             "ticks": ""
            },
            "colorscale": [
             [
              0,
              "#0d0887"
             ],
             [
              0.1111111111111111,
              "#46039f"
             ],
             [
              0.2222222222222222,
              "#7201a8"
             ],
             [
              0.3333333333333333,
              "#9c179e"
             ],
             [
              0.4444444444444444,
              "#bd3786"
             ],
             [
              0.5555555555555556,
              "#d8576b"
             ],
             [
              0.6666666666666666,
              "#ed7953"
             ],
             [
              0.7777777777777778,
              "#fb9f3a"
             ],
             [
              0.8888888888888888,
              "#fdca26"
             ],
             [
              1,
              "#f0f921"
             ]
            ],
            "type": "contour"
           }
          ],
          "contourcarpet": [
           {
            "colorbar": {
             "outlinewidth": 0,
             "ticks": ""
            },
            "type": "contourcarpet"
           }
          ],
          "heatmap": [
           {
            "colorbar": {
             "outlinewidth": 0,
             "ticks": ""
            },
            "colorscale": [
             [
              0,
              "#0d0887"
             ],
             [
              0.1111111111111111,
              "#46039f"
             ],
             [
              0.2222222222222222,
              "#7201a8"
             ],
             [
              0.3333333333333333,
              "#9c179e"
             ],
             [
              0.4444444444444444,
              "#bd3786"
             ],
             [
              0.5555555555555556,
              "#d8576b"
             ],
             [
              0.6666666666666666,
              "#ed7953"
             ],
             [
              0.7777777777777778,
              "#fb9f3a"
             ],
             [
              0.8888888888888888,
              "#fdca26"
             ],
             [
              1,
              "#f0f921"
             ]
            ],
            "type": "heatmap"
           }
          ],
          "heatmapgl": [
           {
            "colorbar": {
             "outlinewidth": 0,
             "ticks": ""
            },
            "colorscale": [
             [
              0,
              "#0d0887"
             ],
             [
              0.1111111111111111,
              "#46039f"
             ],
             [
              0.2222222222222222,
              "#7201a8"
             ],
             [
              0.3333333333333333,
              "#9c179e"
             ],
             [
              0.4444444444444444,
              "#bd3786"
             ],
             [
              0.5555555555555556,
              "#d8576b"
             ],
             [
              0.6666666666666666,
              "#ed7953"
             ],
             [
              0.7777777777777778,
              "#fb9f3a"
             ],
             [
              0.8888888888888888,
              "#fdca26"
             ],
             [
              1,
              "#f0f921"
             ]
            ],
            "type": "heatmapgl"
           }
          ],
          "histogram": [
           {
            "marker": {
             "pattern": {
              "fillmode": "overlay",
              "size": 10,
              "solidity": 0.2
             }
            },
            "type": "histogram"
           }
          ],
          "histogram2d": [
           {
            "colorbar": {
             "outlinewidth": 0,
             "ticks": ""
            },
            "colorscale": [
             [
              0,
              "#0d0887"
             ],
             [
              0.1111111111111111,
              "#46039f"
             ],
             [
              0.2222222222222222,
              "#7201a8"
             ],
             [
              0.3333333333333333,
              "#9c179e"
             ],
             [
              0.4444444444444444,
              "#bd3786"
             ],
             [
              0.5555555555555556,
              "#d8576b"
             ],
             [
              0.6666666666666666,
              "#ed7953"
             ],
             [
              0.7777777777777778,
              "#fb9f3a"
             ],
             [
              0.8888888888888888,
              "#fdca26"
             ],
             [
              1,
              "#f0f921"
             ]
            ],
            "type": "histogram2d"
           }
          ],
          "histogram2dcontour": [
           {
            "colorbar": {
             "outlinewidth": 0,
             "ticks": ""
            },
            "colorscale": [
             [
              0,
              "#0d0887"
             ],
             [
              0.1111111111111111,
              "#46039f"
             ],
             [
              0.2222222222222222,
              "#7201a8"
             ],
             [
              0.3333333333333333,
              "#9c179e"
             ],
             [
              0.4444444444444444,
              "#bd3786"
             ],
             [
              0.5555555555555556,
              "#d8576b"
             ],
             [
              0.6666666666666666,
              "#ed7953"
             ],
             [
              0.7777777777777778,
              "#fb9f3a"
             ],
             [
              0.8888888888888888,
              "#fdca26"
             ],
             [
              1,
              "#f0f921"
             ]
            ],
            "type": "histogram2dcontour"
           }
          ],
          "mesh3d": [
           {
            "colorbar": {
             "outlinewidth": 0,
             "ticks": ""
            },
            "type": "mesh3d"
           }
          ],
          "parcoords": [
           {
            "line": {
             "colorbar": {
              "outlinewidth": 0,
              "ticks": ""
             }
            },
            "type": "parcoords"
           }
          ],
          "pie": [
           {
            "automargin": true,
            "type": "pie"
           }
          ],
          "scatter": [
           {
            "marker": {
             "colorbar": {
              "outlinewidth": 0,
              "ticks": ""
             }
            },
            "type": "scatter"
           }
          ],
          "scatter3d": [
           {
            "line": {
             "colorbar": {
              "outlinewidth": 0,
              "ticks": ""
             }
            },
            "marker": {
             "colorbar": {
              "outlinewidth": 0,
              "ticks": ""
             }
            },
            "type": "scatter3d"
           }
          ],
          "scattercarpet": [
           {
            "marker": {
             "colorbar": {
              "outlinewidth": 0,
              "ticks": ""
             }
            },
            "type": "scattercarpet"
           }
          ],
          "scattergeo": [
           {
            "marker": {
             "colorbar": {
              "outlinewidth": 0,
              "ticks": ""
             }
            },
            "type": "scattergeo"
           }
          ],
          "scattergl": [
           {
            "marker": {
             "colorbar": {
              "outlinewidth": 0,
              "ticks": ""
             }
            },
            "type": "scattergl"
           }
          ],
          "scattermapbox": [
           {
            "marker": {
             "colorbar": {
              "outlinewidth": 0,
              "ticks": ""
             }
            },
            "type": "scattermapbox"
           }
          ],
          "scatterpolar": [
           {
            "marker": {
             "colorbar": {
              "outlinewidth": 0,
              "ticks": ""
             }
            },
            "type": "scatterpolar"
           }
          ],
          "scatterpolargl": [
           {
            "marker": {
             "colorbar": {
              "outlinewidth": 0,
              "ticks": ""
             }
            },
            "type": "scatterpolargl"
           }
          ],
          "scatterternary": [
           {
            "marker": {
             "colorbar": {
              "outlinewidth": 0,
              "ticks": ""
             }
            },
            "type": "scatterternary"
           }
          ],
          "surface": [
           {
            "colorbar": {
             "outlinewidth": 0,
             "ticks": ""
            },
            "colorscale": [
             [
              0,
              "#0d0887"
             ],
             [
              0.1111111111111111,
              "#46039f"
             ],
             [
              0.2222222222222222,
              "#7201a8"
             ],
             [
              0.3333333333333333,
              "#9c179e"
             ],
             [
              0.4444444444444444,
              "#bd3786"
             ],
             [
              0.5555555555555556,
              "#d8576b"
             ],
             [
              0.6666666666666666,
              "#ed7953"
             ],
             [
              0.7777777777777778,
              "#fb9f3a"
             ],
             [
              0.8888888888888888,
              "#fdca26"
             ],
             [
              1,
              "#f0f921"
             ]
            ],
            "type": "surface"
           }
          ],
          "table": [
           {
            "cells": {
             "fill": {
              "color": "#EBF0F8"
             },
             "line": {
              "color": "white"
             }
            },
            "header": {
             "fill": {
              "color": "#C8D4E3"
             },
             "line": {
              "color": "white"
             }
            },
            "type": "table"
           }
          ]
         },
         "layout": {
          "annotationdefaults": {
           "arrowcolor": "#2a3f5f",
           "arrowhead": 0,
           "arrowwidth": 1
          },
          "autotypenumbers": "strict",
          "coloraxis": {
           "colorbar": {
            "outlinewidth": 0,
            "ticks": ""
           }
          },
          "colorscale": {
           "diverging": [
            [
             0,
             "#8e0152"
            ],
            [
             0.1,
             "#c51b7d"
            ],
            [
             0.2,
             "#de77ae"
            ],
            [
             0.3,
             "#f1b6da"
            ],
            [
             0.4,
             "#fde0ef"
            ],
            [
             0.5,
             "#f7f7f7"
            ],
            [
             0.6,
             "#e6f5d0"
            ],
            [
             0.7,
             "#b8e186"
            ],
            [
             0.8,
             "#7fbc41"
            ],
            [
             0.9,
             "#4d9221"
            ],
            [
             1,
             "#276419"
            ]
           ],
           "sequential": [
            [
             0,
             "#0d0887"
            ],
            [
             0.1111111111111111,
             "#46039f"
            ],
            [
             0.2222222222222222,
             "#7201a8"
            ],
            [
             0.3333333333333333,
             "#9c179e"
            ],
            [
             0.4444444444444444,
             "#bd3786"
            ],
            [
             0.5555555555555556,
             "#d8576b"
            ],
            [
             0.6666666666666666,
             "#ed7953"
            ],
            [
             0.7777777777777778,
             "#fb9f3a"
            ],
            [
             0.8888888888888888,
             "#fdca26"
            ],
            [
             1,
             "#f0f921"
            ]
           ],
           "sequentialminus": [
            [
             0,
             "#0d0887"
            ],
            [
             0.1111111111111111,
             "#46039f"
            ],
            [
             0.2222222222222222,
             "#7201a8"
            ],
            [
             0.3333333333333333,
             "#9c179e"
            ],
            [
             0.4444444444444444,
             "#bd3786"
            ],
            [
             0.5555555555555556,
             "#d8576b"
            ],
            [
             0.6666666666666666,
             "#ed7953"
            ],
            [
             0.7777777777777778,
             "#fb9f3a"
            ],
            [
             0.8888888888888888,
             "#fdca26"
            ],
            [
             1,
             "#f0f921"
            ]
           ]
          },
          "colorway": [
           "#636efa",
           "#EF553B",
           "#00cc96",
           "#ab63fa",
           "#FFA15A",
           "#19d3f3",
           "#FF6692",
           "#B6E880",
           "#FF97FF",
           "#FECB52"
          ],
          "font": {
           "color": "#2a3f5f"
          },
          "geo": {
           "bgcolor": "white",
           "lakecolor": "white",
           "landcolor": "#E5ECF6",
           "showlakes": true,
           "showland": true,
           "subunitcolor": "white"
          },
          "hoverlabel": {
           "align": "left"
          },
          "hovermode": "closest",
          "mapbox": {
           "style": "light"
          },
          "paper_bgcolor": "white",
          "plot_bgcolor": "#E5ECF6",
          "polar": {
           "angularaxis": {
            "gridcolor": "white",
            "linecolor": "white",
            "ticks": ""
           },
           "bgcolor": "#E5ECF6",
           "radialaxis": {
            "gridcolor": "white",
            "linecolor": "white",
            "ticks": ""
           }
          },
          "scene": {
           "xaxis": {
            "backgroundcolor": "#E5ECF6",
            "gridcolor": "white",
            "gridwidth": 2,
            "linecolor": "white",
            "showbackground": true,
            "ticks": "",
            "zerolinecolor": "white"
           },
           "yaxis": {
            "backgroundcolor": "#E5ECF6",
            "gridcolor": "white",
            "gridwidth": 2,
            "linecolor": "white",
            "showbackground": true,
            "ticks": "",
            "zerolinecolor": "white"
           },
           "zaxis": {
            "backgroundcolor": "#E5ECF6",
            "gridcolor": "white",
            "gridwidth": 2,
            "linecolor": "white",
            "showbackground": true,
            "ticks": "",
            "zerolinecolor": "white"
           }
          },
          "shapedefaults": {
           "line": {
            "color": "#2a3f5f"
           }
          },
          "ternary": {
           "aaxis": {
            "gridcolor": "white",
            "linecolor": "white",
            "ticks": ""
           },
           "baxis": {
            "gridcolor": "white",
            "linecolor": "white",
            "ticks": ""
           },
           "bgcolor": "#E5ECF6",
           "caxis": {
            "gridcolor": "white",
            "linecolor": "white",
            "ticks": ""
           }
          },
          "title": {
           "x": 0.05
          },
          "xaxis": {
           "automargin": true,
           "gridcolor": "white",
           "linecolor": "white",
           "ticks": "",
           "title": {
            "standoff": 15
           },
           "zerolinecolor": "white",
           "zerolinewidth": 2
          },
          "yaxis": {
           "automargin": true,
           "gridcolor": "white",
           "linecolor": "white",
           "ticks": "",
           "title": {
            "standoff": 15
           },
           "zerolinecolor": "white",
           "zerolinewidth": 2
          }
         }
        },
        "title": {
         "text": "Slice Plot"
        },
        "width": 1800,
        "xaxis": {
         "anchor": "y",
         "domain": [
          0,
          0.1388888888888889
         ],
         "title": {
          "text": "bootstrap"
         }
        },
        "xaxis2": {
         "anchor": "y2",
         "domain": [
          0.17222222222222222,
          0.3111111111111111
         ],
         "title": {
          "text": "max_depth"
         }
        },
        "xaxis3": {
         "anchor": "y3",
         "domain": [
          0.34444444444444444,
          0.48333333333333334
         ],
         "title": {
          "text": "max_features"
         }
        },
        "xaxis4": {
         "anchor": "y4",
         "domain": [
          0.5166666666666667,
          0.6555555555555557
         ],
         "title": {
          "text": "min_samples_leaf"
         }
        },
        "xaxis5": {
         "anchor": "y5",
         "domain": [
          0.6888888888888889,
          0.8277777777777777
         ],
         "title": {
          "text": "min_samples_split"
         }
        },
        "xaxis6": {
         "anchor": "y6",
         "domain": [
          0.861111111111111,
          1
         ],
         "title": {
          "text": "n_estimators"
         }
        },
        "yaxis": {
         "anchor": "x",
         "domain": [
          0,
          1
         ],
         "title": {
          "text": "Objective Value"
         }
        },
        "yaxis2": {
         "anchor": "x2",
         "domain": [
          0,
          1
         ],
         "matches": "y",
         "showticklabels": false
        },
        "yaxis3": {
         "anchor": "x3",
         "domain": [
          0,
          1
         ],
         "matches": "y",
         "showticklabels": false
        },
        "yaxis4": {
         "anchor": "x4",
         "domain": [
          0,
          1
         ],
         "matches": "y",
         "showticklabels": false
        },
        "yaxis5": {
         "anchor": "x5",
         "domain": [
          0,
          1
         ],
         "matches": "y",
         "showticklabels": false
        },
        "yaxis6": {
         "anchor": "x6",
         "domain": [
          0,
          1
         ],
         "matches": "y",
         "showticklabels": false
        }
       }
      }
     },
     "metadata": {},
     "output_type": "display_data"
    }
   ],
   "source": [
    "# Display optuna visualisations for RF study\n",
    "f.make_optuna_visualizations(rf_study)"
   ]
  },
  {
   "cell_type": "markdown",
   "metadata": {},
   "source": [
    "### Extract Best Estimator"
   ]
  },
  {
   "cell_type": "code",
   "execution_count": 37,
   "metadata": {},
   "outputs": [],
   "source": [
    "# Get best estimator from optuna search\n",
    "rf_tuned = rf_oscv.best_estimator_"
   ]
  },
  {
   "cell_type": "code",
   "execution_count": 38,
   "metadata": {},
   "outputs": [
    {
     "name": "stdout",
     "output_type": "stream",
     "text": [
      "Train R2: 0.862037\n",
      "Test R2: 0.790892\n"
     ]
    }
   ],
   "source": [
    "# Print evaluation metrics\n",
    "print('Train R2:', f.evaluate_model(rf_tuned, metric = 'r2', **train_data))\n",
    "print('Test R2:', f.evaluate_model(rf_tuned, metric = 'r2', **val_data))"
   ]
  },
  {
   "cell_type": "markdown",
   "metadata": {},
   "source": [
    "These values look much better, but it would be good to explore if we can reduce the overfitting with some manual adjustments. Since `min_samples_leaf` is the most influencial feature, we shall explore adjusting this."
   ]
  },
  {
   "cell_type": "code",
   "execution_count": 66,
   "metadata": {},
   "outputs": [
    {
     "data": {
      "text/html": [
       "<div>\n",
       "<style scoped>\n",
       "    .dataframe tbody tr th:only-of-type {\n",
       "        vertical-align: middle;\n",
       "    }\n",
       "\n",
       "    .dataframe tbody tr th {\n",
       "        vertical-align: top;\n",
       "    }\n",
       "\n",
       "    .dataframe thead th {\n",
       "        text-align: right;\n",
       "    }\n",
       "</style>\n",
       "<table border=\"1\" class=\"dataframe\">\n",
       "  <thead>\n",
       "    <tr style=\"text-align: right;\">\n",
       "      <th></th>\n",
       "      <th>Train R2 Score</th>\n",
       "      <th>Validation R2 Score</th>\n",
       "      <th>Difference</th>\n",
       "    </tr>\n",
       "    <tr>\n",
       "      <th>min_samples_leaf</th>\n",
       "      <th></th>\n",
       "      <th></th>\n",
       "      <th></th>\n",
       "    </tr>\n",
       "  </thead>\n",
       "  <tbody>\n",
       "    <tr>\n",
       "      <th>0.00077</th>\n",
       "      <td>0.865041</td>\n",
       "      <td>0.798588</td>\n",
       "      <td>0.066453</td>\n",
       "    </tr>\n",
       "    <tr>\n",
       "      <th>0.00078</th>\n",
       "      <td>0.865041</td>\n",
       "      <td>0.798588</td>\n",
       "      <td>0.066453</td>\n",
       "    </tr>\n",
       "    <tr>\n",
       "      <th>0.00079</th>\n",
       "      <td>0.865041</td>\n",
       "      <td>0.798588</td>\n",
       "      <td>0.066453</td>\n",
       "    </tr>\n",
       "    <tr>\n",
       "      <th>0.00080</th>\n",
       "      <td>0.865041</td>\n",
       "      <td>0.798588</td>\n",
       "      <td>0.066453</td>\n",
       "    </tr>\n",
       "    <tr>\n",
       "      <th>0.00081</th>\n",
       "      <td>0.865041</td>\n",
       "      <td>0.798588</td>\n",
       "      <td>0.066453</td>\n",
       "    </tr>\n",
       "    <tr>\n",
       "      <th>0.00082</th>\n",
       "      <td>0.865041</td>\n",
       "      <td>0.798588</td>\n",
       "      <td>0.066453</td>\n",
       "    </tr>\n",
       "    <tr>\n",
       "      <th>0.00083</th>\n",
       "      <td>0.865041</td>\n",
       "      <td>0.798588</td>\n",
       "      <td>0.066453</td>\n",
       "    </tr>\n",
       "    <tr>\n",
       "      <th>0.00084</th>\n",
       "      <td>0.865041</td>\n",
       "      <td>0.798588</td>\n",
       "      <td>0.066453</td>\n",
       "    </tr>\n",
       "  </tbody>\n",
       "</table>\n",
       "</div>"
      ],
      "text/plain": [
       "                  Train R2 Score  Validation R2 Score  Difference\n",
       "min_samples_leaf                                                 \n",
       "0.00077                 0.865041             0.798588    0.066453\n",
       "0.00078                 0.865041             0.798588    0.066453\n",
       "0.00079                 0.865041             0.798588    0.066453\n",
       "0.00080                 0.865041             0.798588    0.066453\n",
       "0.00081                 0.865041             0.798588    0.066453\n",
       "0.00082                 0.865041             0.798588    0.066453\n",
       "0.00083                 0.865041             0.798588    0.066453\n",
       "0.00084                 0.865041             0.798588    0.066453"
      ]
     },
     "execution_count": 66,
     "metadata": {},
     "output_type": "execute_result"
    }
   ],
   "source": [
    "oscv_params = rf_oscv.best_params_\n",
    "\n",
    "# Define record dictionary\n",
    "results_record = {\n",
    "    'min_samples_leaf' : [],\n",
    "    'Train R2 Score' : [],\n",
    "    'Validation R2 Score' : []}\n",
    "\n",
    "# Loop through possible hyperparameters\n",
    "for msl in np.arange(0.00001, 0.001, 0.00001):\n",
    "\n",
    "    model_params = {\n",
    "        **base_params,\n",
    "        **oscv_params,\n",
    "        'min_samples_leaf' : msl\n",
    "        }\n",
    "\n",
    "    # Train model\n",
    "    fn_model = RandomForestRegressor(**model_params).fit(**train_data)\n",
    "\n",
    "    # Evaluate model\n",
    "    train_r2 = f.evaluate_model(fn_model, metric = 'r2', **train_data)\n",
    "    val_r2 = f.evaluate_model(fn_model, metric = 'r2', **val_data)\n",
    "\n",
    "    # Save metrics to record\n",
    "    results_record['min_samples_leaf'].append(msl)\n",
    "    results_record['Train R2 Score'].append(train_r2)\n",
    "    results_record['Validation R2 Score'].append(val_r2)\n",
    "\n",
    "pd_results_record = pd.DataFrame(results_record)\n",
    "\n",
    "pd_results_record['Difference'] = pd_results_record['Train R2 Score'] - pd_results_record['Validation R2 Score']\n",
    "\n",
    "pd_results_record_out = pd_results_record.nsmallest(8, 'Difference').set_index('min_samples_leaf')\n",
    "\n",
    "pd_results_record_out"
   ]
  },
  {
   "cell_type": "markdown",
   "metadata": {},
   "source": [
    "There does not seem to be much of an effect so we will keep the hyperparameters that optuna found."
   ]
  },
  {
   "cell_type": "code",
   "execution_count": 54,
   "metadata": {},
   "outputs": [
    {
     "data": {
      "text/plain": [
       "['./outputs/rf_model.pkl']"
      ]
     },
     "execution_count": 54,
     "metadata": {},
     "output_type": "execute_result"
    }
   ],
   "source": [
    "# Save RF Model\n",
    "joblib.dump(rf_tuned, p.OUTPUTS_PATH + 'rf_model.pkl')"
   ]
  }
 ],
 "metadata": {
  "interpreter": {
   "hash": "1c31da5edd4aad8fb53d12d73a780cc43060c0f39f08ff1fc327c1bcdbfa7e83"
  },
  "kernelspec": {
   "display_name": "Python 3.9.10 ('data_analytics')",
   "language": "python",
   "name": "python3"
  },
  "language_info": {
   "codemirror_mode": {
    "name": "ipython",
    "version": 3
   },
   "file_extension": ".py",
   "mimetype": "text/x-python",
   "name": "python",
   "nbconvert_exporter": "python",
   "pygments_lexer": "ipython3",
   "version": "3.9.10"
  },
  "orig_nbformat": 4
 },
 "nbformat": 4,
 "nbformat_minor": 2
}
