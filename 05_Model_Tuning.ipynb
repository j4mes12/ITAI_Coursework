{
 "cells": [
  {
   "cell_type": "code",
   "execution_count": 12,
   "metadata": {},
   "outputs": [],
   "source": [
    "import numpy as np\n",
    "import joblib\n",
    "\n",
    "import params as p\n",
    "import functions as f\n",
    "\n",
    "from sklearn.ensemble import RandomForestRegressor\n",
    "\n",
    "from sklearn.model_selection import RandomizedSearchCV\n",
    "\n",
    "from sklearn.model_selection import RepeatedKFold"
   ]
  },
  {
   "cell_type": "code",
   "execution_count": 2,
   "metadata": {},
   "outputs": [],
   "source": [
    "train, test, val = f.load_split_datasets(part='03')"
   ]
  },
  {
   "cell_type": "code",
   "execution_count": 3,
   "metadata": {},
   "outputs": [],
   "source": [
    "X_train, y_train = f.split_data_X_y(train)\n",
    "X_test, y_test = f.split_data_X_y(test)\n",
    "X_val, y_val = f.split_data_X_y(val)"
   ]
  },
  {
   "cell_type": "code",
   "execution_count": 4,
   "metadata": {},
   "outputs": [],
   "source": [
    "rf = joblib.load(p.OUTPUTS_PATH + 'model_rf.pkl')"
   ]
  },
  {
   "cell_type": "code",
   "execution_count": 5,
   "metadata": {},
   "outputs": [
    {
     "name": "stdout",
     "output_type": "stream",
     "text": [
      "rmse : 209.2937000841431\n",
      "mae : 131.43007100591717\n",
      "r2 : 0.8928343612430919\n"
     ]
    }
   ],
   "source": [
    "f.evaluate_model(rf, X_test, y_test)"
   ]
  },
  {
   "cell_type": "code",
   "execution_count": 6,
   "metadata": {},
   "outputs": [],
   "source": [
    "rf_1 = RandomForestRegressor(random_state=p.RANDOM_STATE)"
   ]
  },
  {
   "cell_type": "code",
   "execution_count": 18,
   "metadata": {},
   "outputs": [
    {
     "name": "stderr",
     "output_type": "stream",
     "text": [
      "/opt/anaconda3/envs/itai-dev/lib/python3.10/site-packages/sklearn/model_selection/_search.py:292: UserWarning: The total space of parameters 8 is smaller than n_iter=10. Running 8 iterations. For exhaustive searches, use GridSearchCV.\n",
      "  warnings.warn(\n"
     ]
    },
    {
     "data": {
      "text/plain": [
       "RandomizedSearchCV(cv=3, estimator=RandomForestRegressor(), n_jobs=-1,\n",
       "                   param_distributions={'max_depth': array([2, 3, 4, 5, 6, 7, 8, 9])},\n",
       "                   random_state=73, scoring='neg_mean_squared_error')"
      ]
     },
     "execution_count": 18,
     "metadata": {},
     "output_type": "execute_result"
    }
   ],
   "source": [
    "param_space = {\n",
    "    \"max_depth\": np.arange(2, 10),\n",
    "    # \"n_estimators\": np.arange(100, 5000, 50),\n",
    "    # \"min_samples_leaf\": np.arange(2, 16, 1),\n",
    "    # \"min_samples_split\": np.arange(0.1, 1, 0.05),\n",
    "    # \"max_features\": [\"auto\", \"sqrt\", \"log2\"],\n",
    "}\n",
    "\n",
    "# cv = RepeatedKFold(n_splits=10, n_repeats=3, random_state=p.RANDOM_STATE)\n",
    "\n",
    "rs = RandomizedSearchCV(\n",
    "    estimator = rf,\n",
    "    param_distributions = param_space,\n",
    "    n_jobs = -1,\n",
    "    scoring='neg_mean_squared_error',\n",
    "    cv = 3,\n",
    "    random_state = p.RANDOM_STATE)\n",
    "\n",
    "rs.fit(X_train, y_train)"
   ]
  },
  {
   "cell_type": "code",
   "execution_count": 19,
   "metadata": {},
   "outputs": [],
   "source": [
    "tuned_params = rs.best_params_\n",
    "tuned_params['random_state'] = p.RANDOM_STATE"
   ]
  },
  {
   "cell_type": "code",
   "execution_count": 20,
   "metadata": {},
   "outputs": [
    {
     "data": {
      "text/plain": [
       "RandomForestRegressor(max_depth=9, random_state=73)"
      ]
     },
     "execution_count": 20,
     "metadata": {},
     "output_type": "execute_result"
    }
   ],
   "source": [
    "rf_tuned = RandomForestRegressor(**tuned_params)\n",
    "rf_tuned.fit(X_train, y_train)"
   ]
  },
  {
   "cell_type": "code",
   "execution_count": 21,
   "metadata": {},
   "outputs": [
    {
     "name": "stdout",
     "output_type": "stream",
     "text": [
      "rmse : 235.22013351208037\n",
      "mae : 150.33502223661534\n",
      "r2 : 0.8646394128970033\n"
     ]
    }
   ],
   "source": [
    "f.evaluate_model(rf_tuned, X_test, y_test)"
   ]
  },
  {
   "cell_type": "code",
   "execution_count": null,
   "metadata": {},
   "outputs": [],
   "source": []
  }
 ],
 "metadata": {
  "interpreter": {
   "hash": "d4d0be0daef6eafac08144bde7256d0240e3dc154c04f6176bdf38ffbf1040ae"
  },
  "kernelspec": {
   "display_name": "Python 3.10.0 ('itai-dev')",
   "language": "python",
   "name": "python3"
  },
  "language_info": {
   "codemirror_mode": {
    "name": "ipython",
    "version": 3
   },
   "file_extension": ".py",
   "mimetype": "text/x-python",
   "name": "python",
   "nbconvert_exporter": "python",
   "pygments_lexer": "ipython3",
   "version": "3.10.0"
  },
  "orig_nbformat": 4
 },
 "nbformat": 4,
 "nbformat_minor": 2
}
