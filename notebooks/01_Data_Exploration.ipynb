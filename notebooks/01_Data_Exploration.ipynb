{
 "cells": [
  {
   "cell_type": "markdown",
   "metadata": {},
   "source": [
    "# Data Exploration"
   ]
  },
  {
   "cell_type": "code",
   "execution_count": 392,
   "metadata": {},
   "outputs": [],
   "source": [
    "import pandas as pd\n",
    "import numpy as np\n",
    "\n",
    "from datetime import datetime\n",
    "\n",
    "import seaborn as sns\n",
    "import matplotlib.pyplot as plt\n",
    "\n",
    "import joblib"
   ]
  },
  {
   "cell_type": "markdown",
   "metadata": {},
   "source": [
    "## Settings"
   ]
  },
  {
   "cell_type": "code",
   "execution_count": 393,
   "metadata": {},
   "outputs": [],
   "source": [
    "pd.set_option('max_rows', 1000)\n",
    "pd.set_option('max_columns', 1000)\n",
    "\n",
    "colour_palette = sns.color_palette(\"hls\", 9)"
   ]
  },
  {
   "cell_type": "markdown",
   "metadata": {},
   "source": [
    "## Load Data"
   ]
  },
  {
   "cell_type": "code",
   "execution_count": 394,
   "metadata": {},
   "outputs": [],
   "source": [
    "data = joblib.load('../data/00_data.pkl')"
   ]
  },
  {
   "cell_type": "code",
   "execution_count": 395,
   "metadata": {},
   "outputs": [
    {
     "data": {
      "text/html": [
       "<div>\n",
       "<style scoped>\n",
       "    .dataframe tbody tr th:only-of-type {\n",
       "        vertical-align: middle;\n",
       "    }\n",
       "\n",
       "    .dataframe tbody tr th {\n",
       "        vertical-align: top;\n",
       "    }\n",
       "\n",
       "    .dataframe thead th {\n",
       "        text-align: right;\n",
       "    }\n",
       "</style>\n",
       "<table border=\"1\" class=\"dataframe\">\n",
       "  <thead>\n",
       "    <tr style=\"text-align: right;\">\n",
       "      <th></th>\n",
       "      <th>date</th>\n",
       "      <th>rented_bike_count</th>\n",
       "      <th>hour</th>\n",
       "      <th>temperature</th>\n",
       "      <th>humidity</th>\n",
       "      <th>wind_speed</th>\n",
       "      <th>visibility</th>\n",
       "      <th>dew_point_temperature</th>\n",
       "      <th>solar_radiation</th>\n",
       "      <th>rainfall</th>\n",
       "      <th>snowfall</th>\n",
       "      <th>seasons</th>\n",
       "      <th>holiday</th>\n",
       "      <th>functioning_day</th>\n",
       "    </tr>\n",
       "  </thead>\n",
       "  <tbody>\n",
       "    <tr>\n",
       "      <th>0</th>\n",
       "      <td>2017-01-12</td>\n",
       "      <td>254</td>\n",
       "      <td>0</td>\n",
       "      <td>-5.2</td>\n",
       "      <td>37</td>\n",
       "      <td>2.2</td>\n",
       "      <td>2000</td>\n",
       "      <td>-17.6</td>\n",
       "      <td>0.0</td>\n",
       "      <td>0.0</td>\n",
       "      <td>0.0</td>\n",
       "      <td>Winter</td>\n",
       "      <td>No Holiday</td>\n",
       "      <td>Yes</td>\n",
       "    </tr>\n",
       "    <tr>\n",
       "      <th>1</th>\n",
       "      <td>2017-01-12</td>\n",
       "      <td>204</td>\n",
       "      <td>1</td>\n",
       "      <td>-5.5</td>\n",
       "      <td>38</td>\n",
       "      <td>0.8</td>\n",
       "      <td>2000</td>\n",
       "      <td>-17.6</td>\n",
       "      <td>0.0</td>\n",
       "      <td>0.0</td>\n",
       "      <td>0.0</td>\n",
       "      <td>Winter</td>\n",
       "      <td>No Holiday</td>\n",
       "      <td>Yes</td>\n",
       "    </tr>\n",
       "    <tr>\n",
       "      <th>2</th>\n",
       "      <td>2017-01-12</td>\n",
       "      <td>173</td>\n",
       "      <td>2</td>\n",
       "      <td>-6.0</td>\n",
       "      <td>39</td>\n",
       "      <td>1.0</td>\n",
       "      <td>2000</td>\n",
       "      <td>-17.7</td>\n",
       "      <td>0.0</td>\n",
       "      <td>0.0</td>\n",
       "      <td>0.0</td>\n",
       "      <td>Winter</td>\n",
       "      <td>No Holiday</td>\n",
       "      <td>Yes</td>\n",
       "    </tr>\n",
       "    <tr>\n",
       "      <th>3</th>\n",
       "      <td>2017-01-12</td>\n",
       "      <td>107</td>\n",
       "      <td>3</td>\n",
       "      <td>-6.2</td>\n",
       "      <td>40</td>\n",
       "      <td>0.9</td>\n",
       "      <td>2000</td>\n",
       "      <td>-17.6</td>\n",
       "      <td>0.0</td>\n",
       "      <td>0.0</td>\n",
       "      <td>0.0</td>\n",
       "      <td>Winter</td>\n",
       "      <td>No Holiday</td>\n",
       "      <td>Yes</td>\n",
       "    </tr>\n",
       "    <tr>\n",
       "      <th>4</th>\n",
       "      <td>2017-01-12</td>\n",
       "      <td>78</td>\n",
       "      <td>4</td>\n",
       "      <td>-6.0</td>\n",
       "      <td>36</td>\n",
       "      <td>2.3</td>\n",
       "      <td>2000</td>\n",
       "      <td>-18.6</td>\n",
       "      <td>0.0</td>\n",
       "      <td>0.0</td>\n",
       "      <td>0.0</td>\n",
       "      <td>Winter</td>\n",
       "      <td>No Holiday</td>\n",
       "      <td>Yes</td>\n",
       "    </tr>\n",
       "  </tbody>\n",
       "</table>\n",
       "</div>"
      ],
      "text/plain": [
       "        date  rented_bike_count  hour  temperature  humidity  wind_speed  \\\n",
       "0 2017-01-12                254     0         -5.2        37         2.2   \n",
       "1 2017-01-12                204     1         -5.5        38         0.8   \n",
       "2 2017-01-12                173     2         -6.0        39         1.0   \n",
       "3 2017-01-12                107     3         -6.2        40         0.9   \n",
       "4 2017-01-12                 78     4         -6.0        36         2.3   \n",
       "\n",
       "   visibility  dew_point_temperature  solar_radiation  rainfall  snowfall  \\\n",
       "0        2000                  -17.6              0.0       0.0       0.0   \n",
       "1        2000                  -17.6              0.0       0.0       0.0   \n",
       "2        2000                  -17.7              0.0       0.0       0.0   \n",
       "3        2000                  -17.6              0.0       0.0       0.0   \n",
       "4        2000                  -18.6              0.0       0.0       0.0   \n",
       "\n",
       "  seasons     holiday functioning_day  \n",
       "0  Winter  No Holiday             Yes  \n",
       "1  Winter  No Holiday             Yes  \n",
       "2  Winter  No Holiday             Yes  \n",
       "3  Winter  No Holiday             Yes  \n",
       "4  Winter  No Holiday             Yes  "
      ]
     },
     "execution_count": 395,
     "metadata": {},
     "output_type": "execute_result"
    }
   ],
   "source": [
    "data.head()"
   ]
  },
  {
   "cell_type": "code",
   "execution_count": 396,
   "metadata": {},
   "outputs": [
    {
     "data": {
      "text/plain": [
       "(8760, 14)"
      ]
     },
     "execution_count": 396,
     "metadata": {},
     "output_type": "execute_result"
    }
   ],
   "source": [
    "data.shape"
   ]
  },
  {
   "cell_type": "code",
   "execution_count": 397,
   "metadata": {},
   "outputs": [
    {
     "data": {
      "text/plain": [
       "Index(['date', 'rented_bike_count', 'hour', 'temperature', 'humidity',\n",
       "       'wind_speed', 'visibility', 'dew_point_temperature', 'solar_radiation',\n",
       "       'rainfall', 'snowfall', 'seasons', 'holiday', 'functioning_day'],\n",
       "      dtype='object')"
      ]
     },
     "execution_count": 397,
     "metadata": {},
     "output_type": "execute_result"
    }
   ],
   "source": [
    "data.columns"
   ]
  },
  {
   "cell_type": "markdown",
   "metadata": {},
   "source": [
    "## Initial Analysis"
   ]
  },
  {
   "cell_type": "markdown",
   "metadata": {},
   "source": [
    "### Duplicated Rows"
   ]
  },
  {
   "cell_type": "code",
   "execution_count": 398,
   "metadata": {},
   "outputs": [
    {
     "name": "stdout",
     "output_type": "stream",
     "text": [
      "Number of duplicated rows: 0\n"
     ]
    }
   ],
   "source": [
    "num_dup_rows = data.duplicated().sum()\n",
    "\n",
    "print(f'Number of duplicated rows: {num_dup_rows}')"
   ]
  },
  {
   "cell_type": "markdown",
   "metadata": {},
   "source": [
    "### Unique Values"
   ]
  },
  {
   "cell_type": "code",
   "execution_count": 399,
   "metadata": {},
   "outputs": [
    {
     "data": {
      "text/html": [
       "<div>\n",
       "<style scoped>\n",
       "    .dataframe tbody tr th:only-of-type {\n",
       "        vertical-align: middle;\n",
       "    }\n",
       "\n",
       "    .dataframe tbody tr th {\n",
       "        vertical-align: top;\n",
       "    }\n",
       "\n",
       "    .dataframe thead th {\n",
       "        text-align: right;\n",
       "    }\n",
       "</style>\n",
       "<table border=\"1\" class=\"dataframe\">\n",
       "  <thead>\n",
       "    <tr style=\"text-align: right;\">\n",
       "      <th></th>\n",
       "      <th>number of unique values</th>\n",
       "      <th>proportion of unique values over total rows</th>\n",
       "    </tr>\n",
       "  </thead>\n",
       "  <tbody>\n",
       "    <tr>\n",
       "      <th>date</th>\n",
       "      <td>365</td>\n",
       "      <td>0.041667</td>\n",
       "    </tr>\n",
       "    <tr>\n",
       "      <th>rented_bike_count</th>\n",
       "      <td>2166</td>\n",
       "      <td>0.247260</td>\n",
       "    </tr>\n",
       "    <tr>\n",
       "      <th>hour</th>\n",
       "      <td>24</td>\n",
       "      <td>0.002740</td>\n",
       "    </tr>\n",
       "    <tr>\n",
       "      <th>temperature</th>\n",
       "      <td>546</td>\n",
       "      <td>0.062329</td>\n",
       "    </tr>\n",
       "    <tr>\n",
       "      <th>humidity</th>\n",
       "      <td>90</td>\n",
       "      <td>0.010274</td>\n",
       "    </tr>\n",
       "    <tr>\n",
       "      <th>wind_speed</th>\n",
       "      <td>65</td>\n",
       "      <td>0.007420</td>\n",
       "    </tr>\n",
       "    <tr>\n",
       "      <th>visibility</th>\n",
       "      <td>1789</td>\n",
       "      <td>0.204224</td>\n",
       "    </tr>\n",
       "    <tr>\n",
       "      <th>dew_point_temperature</th>\n",
       "      <td>556</td>\n",
       "      <td>0.063470</td>\n",
       "    </tr>\n",
       "    <tr>\n",
       "      <th>solar_radiation</th>\n",
       "      <td>345</td>\n",
       "      <td>0.039384</td>\n",
       "    </tr>\n",
       "    <tr>\n",
       "      <th>rainfall</th>\n",
       "      <td>61</td>\n",
       "      <td>0.006963</td>\n",
       "    </tr>\n",
       "    <tr>\n",
       "      <th>snowfall</th>\n",
       "      <td>51</td>\n",
       "      <td>0.005822</td>\n",
       "    </tr>\n",
       "    <tr>\n",
       "      <th>seasons</th>\n",
       "      <td>4</td>\n",
       "      <td>0.000457</td>\n",
       "    </tr>\n",
       "    <tr>\n",
       "      <th>holiday</th>\n",
       "      <td>2</td>\n",
       "      <td>0.000228</td>\n",
       "    </tr>\n",
       "    <tr>\n",
       "      <th>functioning_day</th>\n",
       "      <td>2</td>\n",
       "      <td>0.000228</td>\n",
       "    </tr>\n",
       "  </tbody>\n",
       "</table>\n",
       "</div>"
      ],
      "text/plain": [
       "                       number of unique values  \\\n",
       "date                                       365   \n",
       "rented_bike_count                         2166   \n",
       "hour                                        24   \n",
       "temperature                                546   \n",
       "humidity                                    90   \n",
       "wind_speed                                  65   \n",
       "visibility                                1789   \n",
       "dew_point_temperature                      556   \n",
       "solar_radiation                            345   \n",
       "rainfall                                    61   \n",
       "snowfall                                    51   \n",
       "seasons                                      4   \n",
       "holiday                                      2   \n",
       "functioning_day                              2   \n",
       "\n",
       "                       proportion of unique values over total rows  \n",
       "date                                                      0.041667  \n",
       "rented_bike_count                                         0.247260  \n",
       "hour                                                      0.002740  \n",
       "temperature                                               0.062329  \n",
       "humidity                                                  0.010274  \n",
       "wind_speed                                                0.007420  \n",
       "visibility                                                0.204224  \n",
       "dew_point_temperature                                     0.063470  \n",
       "solar_radiation                                           0.039384  \n",
       "rainfall                                                  0.006963  \n",
       "snowfall                                                  0.005822  \n",
       "seasons                                                   0.000457  \n",
       "holiday                                                   0.000228  \n",
       "functioning_day                                           0.000228  "
      ]
     },
     "execution_count": 399,
     "metadata": {},
     "output_type": "execute_result"
    }
   ],
   "source": [
    "unique_values = data.nunique().to_frame(name = 'number of unique values')\n",
    "\n",
    "unique_values['proportion of unique values over total rows'] = unique_values['number of unique values'] / data.shape[0]\n",
    "\n",
    "unique_values"
   ]
  },
  {
   "cell_type": "markdown",
   "metadata": {},
   "source": [
    "### Datatypes"
   ]
  },
  {
   "cell_type": "code",
   "execution_count": 400,
   "metadata": {},
   "outputs": [
    {
     "data": {
      "text/plain": [
       "date                     datetime64[ns]\n",
       "rented_bike_count                 int64\n",
       "hour                              int64\n",
       "temperature                     float64\n",
       "humidity                          int64\n",
       "wind_speed                      float64\n",
       "visibility                        int64\n",
       "dew_point_temperature           float64\n",
       "solar_radiation                 float64\n",
       "rainfall                        float64\n",
       "snowfall                        float64\n",
       "seasons                          object\n",
       "holiday                          object\n",
       "functioning_day                  object\n",
       "dtype: object"
      ]
     },
     "execution_count": 400,
     "metadata": {},
     "output_type": "execute_result"
    }
   ],
   "source": [
    "data.dtypes"
   ]
  },
  {
   "cell_type": "markdown",
   "metadata": {},
   "source": [
    "## Response Analysis"
   ]
  },
  {
   "cell_type": "markdown",
   "metadata": {},
   "source": [
    "### Define response"
   ]
  },
  {
   "cell_type": "code",
   "execution_count": 401,
   "metadata": {},
   "outputs": [],
   "source": [
    "RESPONSE = 'rented_bike_count'"
   ]
  },
  {
   "cell_type": "markdown",
   "metadata": {},
   "source": [
    "### Response Distribution"
   ]
  },
  {
   "cell_type": "code",
   "execution_count": 402,
   "metadata": {},
   "outputs": [
    {
     "data": {
      "image/png": "[encoded data removed]",
      "text/plain": [
       "<Figure size 1080x576 with 1 Axes>"
      ]
     },
     "metadata": {
      "needs_background": "light"
     },
     "output_type": "display_data"
    }
   ],
   "source": [
    "fig, ax = plt.subplots(nrows = 1, ncols=1, figsize = (15,8))\n",
    "\n",
    "ax = sns.histplot(data=data, x = RESPONSE, alpha = 0.6, color=colour_palette[1])\n",
    "ax.set_title('Reponse Distribution')\n",
    "plt.show()"
   ]
  },
  {
   "cell_type": "markdown",
   "metadata": {},
   "source": [
    "Conclusion: there is a positive skew in the response"
   ]
  },
  {
   "cell_type": "markdown",
   "metadata": {},
   "source": [
    "### Response over time"
   ]
  },
  {
   "cell_type": "code",
   "execution_count": 403,
   "metadata": {},
   "outputs": [
    {
     "name": "stdout",
     "output_type": "stream",
     "text": [
      "Min Date: 12/01/2017\n",
      "Max Date: 11/12/2018\n"
     ]
    }
   ],
   "source": [
    "print(f'Min Date: {data.date.min().strftime(\"%d/%m/%Y\")}')\n",
    "print(f'Max Date: {data.date.max().strftime(\"%d/%m/%Y\")}')"
   ]
  },
  {
   "cell_type": "markdown",
   "metadata": {},
   "source": [
    "### Level 1: Monthly"
   ]
  },
  {
   "cell_type": "code",
   "execution_count": 404,
   "metadata": {},
   "outputs": [],
   "source": [
    "data['month'] = data.date.dt.to_period('M')"
   ]
  },
  {
   "cell_type": "code",
   "execution_count": 405,
   "metadata": {},
   "outputs": [],
   "source": [
    "mean_month_response = data[[RESPONSE, 'month']].groupby('month', as_index = False).mean()"
   ]
  },
  {
   "cell_type": "code",
   "execution_count": 406,
   "metadata": {},
   "outputs": [
    {
     "data": {
      "image/png": "[encoded data removed]",
      "text/plain": [
       "<Figure size 1080x576 with 1 Axes>"
      ]
     },
     "metadata": {
      "needs_background": "light"
     },
     "output_type": "display_data"
    }
   ],
   "source": [
    "fig1, ax1 = plt.subplots(nrows=1, ncols=1, figsize = (15, 8))\n",
    "\n",
    "ax1 = sns.barplot(data=mean_month_response, x = 'month', y=RESPONSE)\n",
    "ax1.set_title('Mean bike rental count each month')\n",
    "plt.xticks(rotation = 45)\n",
    "plt.show()"
   ]
  },
  {
   "cell_type": "markdown",
   "metadata": {},
   "source": [
    "As we can see there seems to be a split in the data between 2017 and 2018 - is there anything more going on here?"
   ]
  },
  {
   "cell_type": "markdown",
   "metadata": {},
   "source": [
    "### Monthly value counts"
   ]
  },
  {
   "cell_type": "code",
   "execution_count": 407,
   "metadata": {},
   "outputs": [
    {
     "data": {
      "text/plain": [
       "2017-01     24\n",
       "2017-02     24\n",
       "2017-03     24\n",
       "2017-04     24\n",
       "2017-05     24\n",
       "2017-06     24\n",
       "2017-07     24\n",
       "2017-08     24\n",
       "2017-09     24\n",
       "2017-10     24\n",
       "2017-11     24\n",
       "2017-12    480\n",
       "2018-01    720\n",
       "2018-02    648\n",
       "2018-03    720\n",
       "2018-04    696\n",
       "2018-05    720\n",
       "2018-06    696\n",
       "2018-07    720\n",
       "2018-08    720\n",
       "2018-09    696\n",
       "2018-10    720\n",
       "2018-11    696\n",
       "2018-12    264\n",
       "Freq: M, Name: month, dtype: int64"
      ]
     },
     "execution_count": 407,
     "metadata": {},
     "output_type": "execute_result"
    }
   ],
   "source": [
    "data['month'].value_counts().sort_index()"
   ]
  },
  {
   "cell_type": "markdown",
   "metadata": {},
   "source": [
    "We see here that there is a lot more data entries from December 2017 onwards. Coupled with the above bar chart, we can also see that this split is matched with an average value split i.e. there are more entries and there are a greater number of hires for each entry on average."
   ]
  },
  {
   "cell_type": "code",
   "execution_count": 408,
   "metadata": {},
   "outputs": [],
   "source": [
    "del data['month']"
   ]
  },
  {
   "cell_type": "markdown",
   "metadata": {},
   "source": [
    "### Splitting the data into the two years"
   ]
  },
  {
   "cell_type": "code",
   "execution_count": 409,
   "metadata": {},
   "outputs": [],
   "source": [
    "KEYDATE = datetime(day = 1, month = 12, year = 2017)\n",
    "\n",
    "data_012117 = data[data.date < KEYDATE]\n",
    "data_onwards = data[data.date >= KEYDATE]"
   ]
  },
  {
   "cell_type": "code",
   "execution_count": 410,
   "metadata": {},
   "outputs": [
    {
     "data": {
      "text/plain": [
       "((8760, 14), (264, 14), (8496, 14))"
      ]
     },
     "execution_count": 410,
     "metadata": {},
     "output_type": "execute_result"
    }
   ],
   "source": [
    "data.shape, data_012117.shape, data_onwards.shape"
   ]
  },
  {
   "cell_type": "markdown",
   "metadata": {},
   "source": [
    "Due to the imbalance in both data count and average value, pre-01/12/2017 is unrepresentative of the current state of the feature and so we should exclude them. Further, since this only accounts for 264 data points, this shouldn't have a significant effect on our datasize.\n",
    "\n",
    "We will now use `data_onwards` for further analysis."
   ]
  },
  {
   "cell_type": "markdown",
   "metadata": {},
   "source": [
    "## Feature Analysis"
   ]
  },
  {
   "cell_type": "markdown",
   "metadata": {},
   "source": [
    "### Define features"
   ]
  },
  {
   "cell_type": "code",
   "execution_count": 411,
   "metadata": {},
   "outputs": [],
   "source": [
    "date_features = ['date']\n",
    "\n",
    "target_feature = ['rented_bike_count']\n",
    "\n",
    "numeric_features = ['hour', 'temperature', 'humidity', 'wind_speed', 'visibility', 'dew_point_temperature', 'solar_radiation', 'rainfall', 'snowfall']\n",
    "\n",
    "object_features = ['seasons', 'holiday', 'functioning_day']"
   ]
  },
  {
   "cell_type": "code",
   "execution_count": 412,
   "metadata": {},
   "outputs": [
    {
     "name": "stdout",
     "output_type": "stream",
     "text": [
      "All features accounted for.\n"
     ]
    }
   ],
   "source": [
    "all_fields = date_features + target_feature + numeric_features + object_features\n",
    "\n",
    "if len(all_fields) == data_onwards.shape[1]:\n",
    "    print('All features accounted for.')"
   ]
  },
  {
   "cell_type": "markdown",
   "metadata": {},
   "source": [
    "### Numeric Features"
   ]
  },
  {
   "cell_type": "code",
   "execution_count": 413,
   "metadata": {},
   "outputs": [
    {
     "data": {
      "text/html": [
       "<div>\n",
       "<style scoped>\n",
       "    .dataframe tbody tr th:only-of-type {\n",
       "        vertical-align: middle;\n",
       "    }\n",
       "\n",
       "    .dataframe tbody tr th {\n",
       "        vertical-align: top;\n",
       "    }\n",
       "\n",
       "    .dataframe thead th {\n",
       "        text-align: right;\n",
       "    }\n",
       "</style>\n",
       "<table border=\"1\" class=\"dataframe\">\n",
       "  <thead>\n",
       "    <tr style=\"text-align: right;\">\n",
       "      <th></th>\n",
       "      <th>count</th>\n",
       "      <th>mean</th>\n",
       "      <th>std</th>\n",
       "      <th>min</th>\n",
       "      <th>25%</th>\n",
       "      <th>50%</th>\n",
       "      <th>75%</th>\n",
       "      <th>max</th>\n",
       "      <th>Null</th>\n",
       "      <th>Unique</th>\n",
       "    </tr>\n",
       "  </thead>\n",
       "  <tbody>\n",
       "    <tr>\n",
       "      <th>hour</th>\n",
       "      <td>8496.0</td>\n",
       "      <td>11.500000</td>\n",
       "      <td>6.922594</td>\n",
       "      <td>0.0</td>\n",
       "      <td>5.75</td>\n",
       "      <td>11.50</td>\n",
       "      <td>17.250</td>\n",
       "      <td>23.00</td>\n",
       "      <td>0</td>\n",
       "      <td>24</td>\n",
       "    </tr>\n",
       "    <tr>\n",
       "      <th>temperature</th>\n",
       "      <td>8496.0</td>\n",
       "      <td>13.310428</td>\n",
       "      <td>11.853957</td>\n",
       "      <td>-17.8</td>\n",
       "      <td>4.20</td>\n",
       "      <td>14.40</td>\n",
       "      <td>22.700</td>\n",
       "      <td>39.40</td>\n",
       "      <td>0</td>\n",
       "      <td>546</td>\n",
       "    </tr>\n",
       "    <tr>\n",
       "      <th>humidity</th>\n",
       "      <td>8496.0</td>\n",
       "      <td>58.302613</td>\n",
       "      <td>20.318619</td>\n",
       "      <td>0.0</td>\n",
       "      <td>43.00</td>\n",
       "      <td>57.00</td>\n",
       "      <td>74.000</td>\n",
       "      <td>98.00</td>\n",
       "      <td>0</td>\n",
       "      <td>90</td>\n",
       "    </tr>\n",
       "    <tr>\n",
       "      <th>wind_speed</th>\n",
       "      <td>8496.0</td>\n",
       "      <td>1.721022</td>\n",
       "      <td>1.026314</td>\n",
       "      <td>0.0</td>\n",
       "      <td>0.90</td>\n",
       "      <td>1.50</td>\n",
       "      <td>2.300</td>\n",
       "      <td>7.40</td>\n",
       "      <td>0</td>\n",
       "      <td>65</td>\n",
       "    </tr>\n",
       "    <tr>\n",
       "      <th>visibility</th>\n",
       "      <td>8496.0</td>\n",
       "      <td>1436.208686</td>\n",
       "      <td>605.569561</td>\n",
       "      <td>27.0</td>\n",
       "      <td>937.00</td>\n",
       "      <td>1691.00</td>\n",
       "      <td>2000.000</td>\n",
       "      <td>2000.00</td>\n",
       "      <td>0</td>\n",
       "      <td>1779</td>\n",
       "    </tr>\n",
       "    <tr>\n",
       "      <th>dew_point_temperature</th>\n",
       "      <td>8496.0</td>\n",
       "      <td>4.492903</td>\n",
       "      <td>12.976407</td>\n",
       "      <td>-30.6</td>\n",
       "      <td>-4.00</td>\n",
       "      <td>5.70</td>\n",
       "      <td>15.125</td>\n",
       "      <td>27.20</td>\n",
       "      <td>0</td>\n",
       "      <td>556</td>\n",
       "    </tr>\n",
       "    <tr>\n",
       "      <th>solar_radiation</th>\n",
       "      <td>8496.0</td>\n",
       "      <td>0.580056</td>\n",
       "      <td>0.877407</td>\n",
       "      <td>0.0</td>\n",
       "      <td>0.00</td>\n",
       "      <td>0.01</td>\n",
       "      <td>0.950</td>\n",
       "      <td>3.52</td>\n",
       "      <td>0</td>\n",
       "      <td>345</td>\n",
       "    </tr>\n",
       "    <tr>\n",
       "      <th>rainfall</th>\n",
       "      <td>8496.0</td>\n",
       "      <td>0.152189</td>\n",
       "      <td>1.144558</td>\n",
       "      <td>0.0</td>\n",
       "      <td>0.00</td>\n",
       "      <td>0.00</td>\n",
       "      <td>0.000</td>\n",
       "      <td>35.00</td>\n",
       "      <td>0</td>\n",
       "      <td>60</td>\n",
       "    </tr>\n",
       "    <tr>\n",
       "      <th>snowfall</th>\n",
       "      <td>8496.0</td>\n",
       "      <td>0.071339</td>\n",
       "      <td>0.427403</td>\n",
       "      <td>0.0</td>\n",
       "      <td>0.00</td>\n",
       "      <td>0.00</td>\n",
       "      <td>0.000</td>\n",
       "      <td>8.80</td>\n",
       "      <td>0</td>\n",
       "      <td>49</td>\n",
       "    </tr>\n",
       "  </tbody>\n",
       "</table>\n",
       "</div>"
      ],
      "text/plain": [
       "                        count         mean         std   min     25%      50%  \\\n",
       "hour                   8496.0    11.500000    6.922594   0.0    5.75    11.50   \n",
       "temperature            8496.0    13.310428   11.853957 -17.8    4.20    14.40   \n",
       "humidity               8496.0    58.302613   20.318619   0.0   43.00    57.00   \n",
       "wind_speed             8496.0     1.721022    1.026314   0.0    0.90     1.50   \n",
       "visibility             8496.0  1436.208686  605.569561  27.0  937.00  1691.00   \n",
       "dew_point_temperature  8496.0     4.492903   12.976407 -30.6   -4.00     5.70   \n",
       "solar_radiation        8496.0     0.580056    0.877407   0.0    0.00     0.01   \n",
       "rainfall               8496.0     0.152189    1.144558   0.0    0.00     0.00   \n",
       "snowfall               8496.0     0.071339    0.427403   0.0    0.00     0.00   \n",
       "\n",
       "                            75%      max  Null  Unique  \n",
       "hour                     17.250    23.00     0      24  \n",
       "temperature              22.700    39.40     0     546  \n",
       "humidity                 74.000    98.00     0      90  \n",
       "wind_speed                2.300     7.40     0      65  \n",
       "visibility             2000.000  2000.00     0    1779  \n",
       "dew_point_temperature    15.125    27.20     0     556  \n",
       "solar_radiation           0.950     3.52     0     345  \n",
       "rainfall                  0.000    35.00     0      60  \n",
       "snowfall                  0.000     8.80     0      49  "
      ]
     },
     "execution_count": 413,
     "metadata": {},
     "output_type": "execute_result"
    }
   ],
   "source": [
    "num_summary = data_onwards[numeric_features].describe().T\n",
    "num_summary['Null'] = data_onwards[numeric_features].isnull().sum()\n",
    "num_summary['Unique'] =data_onwards[numeric_features].nunique()\n",
    "num_summary"
   ]
  },
  {
   "cell_type": "markdown",
   "metadata": {},
   "source": [
    "#### Distributions"
   ]
  },
  {
   "cell_type": "code",
   "execution_count": 414,
   "metadata": {},
   "outputs": [
    {
     "data": {
      "image/png": "[encoded data removed]",
      "text/plain": [
       "<Figure size 1440x1440 with 9 Axes>"
      ]
     },
     "metadata": {
      "needs_background": "light"
     },
     "output_type": "display_data"
    }
   ],
   "source": [
    "fig3, ax3 = plt.subplots(nrows = 3, ncols = 3, figsize = (20, 20))\n",
    "\n",
    "for idx, col in enumerate(numeric_features):\n",
    "    x, y = idx // 3, idx % 3\n",
    "    if col == 'hour':\n",
    "\n",
    "        sns.histplot(\n",
    "            ax = ax3[x, y],\n",
    "            data=data_onwards,\n",
    "            x = col, color= colour_palette[idx],\n",
    "            bins = 24\n",
    "            ).set(title = f'Distribution of {col}')\n",
    "\n",
    "    else:\n",
    "\n",
    "        sns.histplot(\n",
    "            ax = ax3[x, y],\n",
    "            data=data_onwards,\n",
    "            x = col, color= colour_palette[idx]\n",
    "            ).set(title = f'Distribution of {col}')\n",
    "\n",
    "fig3.suptitle('Distributions of Numeric Features', fontsize = 20)\n",
    "plt.show()"
   ]
  },
  {
   "cell_type": "markdown",
   "metadata": {},
   "source": [
    "High skew in `solar_radiation`, `rainfall`, `snowfall` and `visibility` - we will turn these features into binary features."
   ]
  },
  {
   "cell_type": "markdown",
   "metadata": {},
   "source": [
    "#### Correlation"
   ]
  },
  {
   "cell_type": "code",
   "execution_count": 415,
   "metadata": {},
   "outputs": [
    {
     "data": {
      "image/png": "[encoded data removed]",
      "text/plain": [
       "<Figure size 576x432 with 2 Axes>"
      ]
     },
     "metadata": {
      "needs_background": "light"
     },
     "output_type": "display_data"
    }
   ],
   "source": [
    "correlation = data_onwards[numeric_features].corr()\n",
    "\n",
    "fig4, ax4 = plt.subplots(figsize = (8, 6))\n",
    "\n",
    "sns.heatmap(\n",
    "    ax=ax4,\n",
    "    data = correlation,\n",
    "    xticklabels = correlation.columns,\n",
    "    yticklabels = correlation.columns\n",
    ").set(title = 'Correlation Heatmap of Numeric Features')\n",
    "\n",
    "plt.show()"
   ]
  },
  {
   "cell_type": "markdown",
   "metadata": {},
   "source": [
    "High correlation (~0.91) between `temperature` and `dew_point_temperature`. Due to this correlation, and since there is also a light correlation with `humidity`, we will remove `dew_point_temperature` for modelling."
   ]
  },
  {
   "cell_type": "markdown",
   "metadata": {},
   "source": [
    "### Object Features"
   ]
  },
  {
   "cell_type": "code",
   "execution_count": 416,
   "metadata": {},
   "outputs": [
    {
     "data": {
      "text/html": [
       "<div>\n",
       "<style scoped>\n",
       "    .dataframe tbody tr th:only-of-type {\n",
       "        vertical-align: middle;\n",
       "    }\n",
       "\n",
       "    .dataframe tbody tr th {\n",
       "        vertical-align: top;\n",
       "    }\n",
       "\n",
       "    .dataframe thead th {\n",
       "        text-align: right;\n",
       "    }\n",
       "</style>\n",
       "<table border=\"1\" class=\"dataframe\">\n",
       "  <thead>\n",
       "    <tr style=\"text-align: right;\">\n",
       "      <th></th>\n",
       "      <th>count</th>\n",
       "      <th>unique</th>\n",
       "      <th>top</th>\n",
       "      <th>freq</th>\n",
       "      <th>Null</th>\n",
       "    </tr>\n",
       "  </thead>\n",
       "  <tbody>\n",
       "    <tr>\n",
       "      <th>seasons</th>\n",
       "      <td>8496</td>\n",
       "      <td>4</td>\n",
       "      <td>Spring</td>\n",
       "      <td>2208</td>\n",
       "      <td>0</td>\n",
       "    </tr>\n",
       "    <tr>\n",
       "      <th>holiday</th>\n",
       "      <td>8496</td>\n",
       "      <td>2</td>\n",
       "      <td>No Holiday</td>\n",
       "      <td>8064</td>\n",
       "      <td>0</td>\n",
       "    </tr>\n",
       "    <tr>\n",
       "      <th>functioning_day</th>\n",
       "      <td>8496</td>\n",
       "      <td>2</td>\n",
       "      <td>Yes</td>\n",
       "      <td>8201</td>\n",
       "      <td>0</td>\n",
       "    </tr>\n",
       "  </tbody>\n",
       "</table>\n",
       "</div>"
      ],
      "text/plain": [
       "                count unique         top  freq  Null\n",
       "seasons          8496      4      Spring  2208     0\n",
       "holiday          8496      2  No Holiday  8064     0\n",
       "functioning_day  8496      2         Yes  8201     0"
      ]
     },
     "execution_count": 416,
     "metadata": {},
     "output_type": "execute_result"
    }
   ],
   "source": [
    "obj_summary = data_onwards[object_features].describe().T\n",
    "obj_summary['Null'] = data_onwards[object_features].isnull().sum()\n",
    "obj_summary"
   ]
  },
  {
   "cell_type": "markdown",
   "metadata": {},
   "source": [
    "No missing values, few unique values."
   ]
  },
  {
   "cell_type": "markdown",
   "metadata": {},
   "source": [
    "#### Distributions"
   ]
  },
  {
   "cell_type": "code",
   "execution_count": 417,
   "metadata": {},
   "outputs": [
    {
     "data": {
      "image/png": "[encoded data removed]",
      "text/plain": [
       "<Figure size 1440x360 with 3 Axes>"
      ]
     },
     "metadata": {
      "needs_background": "light"
     },
     "output_type": "display_data"
    }
   ],
   "source": [
    "fig5, ax5 = plt.subplots(nrows=1, ncols=3, figsize = (20, 5))\n",
    "\n",
    "for idx, col in enumerate(object_features):\n",
    "    \n",
    "    sns.countplot(\n",
    "        ax = ax5[idx],\n",
    "        data = data_onwards,\n",
    "        x = col,\n",
    "        color=colour_palette[idx]\n",
    "        ).set(title = f'Distribution of {col}')\n",
    "\n",
    "fig5.suptitle('Distributions of Object Features', fontsize = 20)\n",
    "plt.show()"
   ]
  },
  {
   "cell_type": "markdown",
   "metadata": {},
   "source": [
    "There is quite a severe imbalance between the `holiday` and `functioning_day` features. However, this shouldn't be an issue, but something to keep an eye on to avoid overfitting."
   ]
  },
  {
   "cell_type": "markdown",
   "metadata": {},
   "source": [
    "#### Influence that `holiday` and `functioning_day` has on `response`"
   ]
  },
  {
   "cell_type": "code",
   "execution_count": 418,
   "metadata": {},
   "outputs": [
    {
     "data": {
      "image/png": "[encoded data removed]",
      "text/plain": [
       "<Figure size 936x360 with 2 Axes>"
      ]
     },
     "metadata": {
      "needs_background": "light"
     },
     "output_type": "display_data"
    }
   ],
   "source": [
    "fig6, ax6 = plt.subplots(nrows=1, ncols=2, figsize = (13, 5))\n",
    "\n",
    "for idx, col in enumerate(['holiday', 'functioning_day']):\n",
    "\n",
    "    sns.barplot(\n",
    "        ax = ax6[idx],\n",
    "        data = data_onwards,\n",
    "        x = col,\n",
    "        y = RESPONSE,\n",
    "        color=colour_palette[idx]\n",
    "        ).set(title = f'Distribution of {col}')\n",
    "\n",
    "fig6.suptitle('Distributions of Object Features', fontsize = 20)\n",
    "plt.show()"
   ]
  },
  {
   "cell_type": "markdown",
   "metadata": {},
   "source": [
    "`holiday` does seem to be influencial so something we should keep. However, `functioning_day` is clearly a feature to remove."
   ]
  },
  {
   "cell_type": "markdown",
   "metadata": {},
   "source": [
    "Note: need to think about functioning_day... is it a flag to predict 0 if true?"
   ]
  },
  {
   "cell_type": "markdown",
   "metadata": {},
   "source": [
    "### Remove additional features"
   ]
  },
  {
   "cell_type": "code",
   "execution_count": 419,
   "metadata": {},
   "outputs": [
    {
     "name": "stderr",
     "output_type": "stream",
     "text": [
      "/opt/anaconda3/envs/itai-dev/lib/python3.10/site-packages/pandas/core/frame.py:4906: SettingWithCopyWarning: \n",
      "A value is trying to be set on a copy of a slice from a DataFrame\n",
      "\n",
      "See the caveats in the documentation: https://pandas.pydata.org/pandas-docs/stable/user_guide/indexing.html#returning-a-view-versus-a-copy\n",
      "  return super().drop(\n"
     ]
    }
   ],
   "source": [
    "data_onwards.drop(columns=['date', 'dew_point_temperature', 'functioning_day'], inplace= True)"
   ]
  },
  {
   "cell_type": "code",
   "execution_count": 420,
   "metadata": {},
   "outputs": [
    {
     "data": {
      "text/html": [
       "<div>\n",
       "<style scoped>\n",
       "    .dataframe tbody tr th:only-of-type {\n",
       "        vertical-align: middle;\n",
       "    }\n",
       "\n",
       "    .dataframe tbody tr th {\n",
       "        vertical-align: top;\n",
       "    }\n",
       "\n",
       "    .dataframe thead th {\n",
       "        text-align: right;\n",
       "    }\n",
       "</style>\n",
       "<table border=\"1\" class=\"dataframe\">\n",
       "  <thead>\n",
       "    <tr style=\"text-align: right;\">\n",
       "      <th></th>\n",
       "      <th>rented_bike_count</th>\n",
       "      <th>hour</th>\n",
       "      <th>temperature</th>\n",
       "      <th>humidity</th>\n",
       "      <th>wind_speed</th>\n",
       "      <th>visibility</th>\n",
       "      <th>solar_radiation</th>\n",
       "      <th>rainfall</th>\n",
       "      <th>snowfall</th>\n",
       "      <th>seasons</th>\n",
       "      <th>holiday</th>\n",
       "    </tr>\n",
       "  </thead>\n",
       "  <tbody>\n",
       "    <tr>\n",
       "      <th>264</th>\n",
       "      <td>133</td>\n",
       "      <td>0</td>\n",
       "      <td>-11.0</td>\n",
       "      <td>51</td>\n",
       "      <td>1.1</td>\n",
       "      <td>2000</td>\n",
       "      <td>0.0</td>\n",
       "      <td>0.0</td>\n",
       "      <td>0.0</td>\n",
       "      <td>Winter</td>\n",
       "      <td>No Holiday</td>\n",
       "    </tr>\n",
       "    <tr>\n",
       "      <th>265</th>\n",
       "      <td>127</td>\n",
       "      <td>1</td>\n",
       "      <td>-11.2</td>\n",
       "      <td>51</td>\n",
       "      <td>1.1</td>\n",
       "      <td>2000</td>\n",
       "      <td>0.0</td>\n",
       "      <td>0.0</td>\n",
       "      <td>0.0</td>\n",
       "      <td>Winter</td>\n",
       "      <td>No Holiday</td>\n",
       "    </tr>\n",
       "    <tr>\n",
       "      <th>266</th>\n",
       "      <td>95</td>\n",
       "      <td>2</td>\n",
       "      <td>-11.5</td>\n",
       "      <td>50</td>\n",
       "      <td>0.7</td>\n",
       "      <td>2000</td>\n",
       "      <td>0.0</td>\n",
       "      <td>0.0</td>\n",
       "      <td>0.0</td>\n",
       "      <td>Winter</td>\n",
       "      <td>No Holiday</td>\n",
       "    </tr>\n",
       "    <tr>\n",
       "      <th>267</th>\n",
       "      <td>54</td>\n",
       "      <td>3</td>\n",
       "      <td>-11.6</td>\n",
       "      <td>50</td>\n",
       "      <td>2.2</td>\n",
       "      <td>1995</td>\n",
       "      <td>0.0</td>\n",
       "      <td>0.0</td>\n",
       "      <td>0.0</td>\n",
       "      <td>Winter</td>\n",
       "      <td>No Holiday</td>\n",
       "    </tr>\n",
       "    <tr>\n",
       "      <th>268</th>\n",
       "      <td>46</td>\n",
       "      <td>4</td>\n",
       "      <td>-11.6</td>\n",
       "      <td>47</td>\n",
       "      <td>2.1</td>\n",
       "      <td>1982</td>\n",
       "      <td>0.0</td>\n",
       "      <td>0.0</td>\n",
       "      <td>0.0</td>\n",
       "      <td>Winter</td>\n",
       "      <td>No Holiday</td>\n",
       "    </tr>\n",
       "  </tbody>\n",
       "</table>\n",
       "</div>"
      ],
      "text/plain": [
       "     rented_bike_count  hour  temperature  humidity  wind_speed  visibility  \\\n",
       "264                133     0        -11.0        51         1.1        2000   \n",
       "265                127     1        -11.2        51         1.1        2000   \n",
       "266                 95     2        -11.5        50         0.7        2000   \n",
       "267                 54     3        -11.6        50         2.2        1995   \n",
       "268                 46     4        -11.6        47         2.1        1982   \n",
       "\n",
       "     solar_radiation  rainfall  snowfall seasons     holiday  \n",
       "264              0.0       0.0       0.0  Winter  No Holiday  \n",
       "265              0.0       0.0       0.0  Winter  No Holiday  \n",
       "266              0.0       0.0       0.0  Winter  No Holiday  \n",
       "267              0.0       0.0       0.0  Winter  No Holiday  \n",
       "268              0.0       0.0       0.0  Winter  No Holiday  "
      ]
     },
     "execution_count": 420,
     "metadata": {},
     "output_type": "execute_result"
    }
   ],
   "source": [
    "data_onwards.head()"
   ]
  },
  {
   "cell_type": "markdown",
   "metadata": {},
   "source": [
    "## save .pkl"
   ]
  },
  {
   "cell_type": "code",
   "execution_count": 421,
   "metadata": {},
   "outputs": [
    {
     "data": {
      "text/plain": [
       "['../data/01_data.pkl']"
      ]
     },
     "execution_count": 421,
     "metadata": {},
     "output_type": "execute_result"
    }
   ],
   "source": [
    "joblib.dump(data_onwards, '../data/01_data.pkl')"
   ]
  }
 ],
 "metadata": {
  "interpreter": {
   "hash": "d186370726e06e53ef63bbbfb41b59cb3f441907eefa936ab63b28aa19e1fd33"
  },
  "kernelspec": {
   "display_name": "Python 3.10.0 ('SDPA-dev')",
   "language": "python",
   "name": "python3"
  },
  "language_info": {
   "codemirror_mode": {
    "name": "ipython",
    "version": 3
   },
   "file_extension": ".py",
   "mimetype": "text/x-python",
   "name": "python",
   "nbconvert_exporter": "python",
   "pygments_lexer": "ipython3",
   "version": "3.10.0"
  },
  "orig_nbformat": 4
 },
 "nbformat": 4,
 "nbformat_minor": 2
}
