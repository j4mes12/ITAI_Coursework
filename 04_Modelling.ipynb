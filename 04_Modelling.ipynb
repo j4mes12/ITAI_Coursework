{
 "cells": [
  {
   "cell_type": "markdown",
   "metadata": {},
   "source": [
    "# Modelling"
   ]
  },
  {
   "cell_type": "code",
   "execution_count": 19,
   "metadata": {},
   "outputs": [],
   "source": [
    "import warnings\n",
    "\n",
    "from sklearn.linear_model import LinearRegression\n",
    "from sklearn.naive_bayes import GaussianNB\n",
    "from sklearn.ensemble import RandomForestRegressor\n",
    "from sklearn.dummy import DummyRegressor\n",
    "\n",
    "from xgboost import XGBRegressor\n",
    "\n",
    "import functions as f\n",
    "import params as p"
   ]
  },
  {
   "cell_type": "markdown",
   "metadata": {},
   "source": [
    "### Settings"
   ]
  },
  {
   "cell_type": "code",
   "execution_count": 20,
   "metadata": {},
   "outputs": [],
   "source": [
    "warnings.simplefilter(action='ignore', category=FutureWarning)"
   ]
  },
  {
   "cell_type": "markdown",
   "metadata": {},
   "source": [
    "### Import Data"
   ]
  },
  {
   "cell_type": "code",
   "execution_count": 21,
   "metadata": {},
   "outputs": [],
   "source": [
    "train, test, val = f.load_split_datasets(part='03')"
   ]
  },
  {
   "cell_type": "code",
   "execution_count": 22,
   "metadata": {},
   "outputs": [],
   "source": [
    "X_train, y_train = f.split_data_X_y(train)\n",
    "X_test, y_test = f.split_data_X_y(test)\n",
    "X_val, y_val = f.split_data_X_y(val)"
   ]
  },
  {
   "cell_type": "code",
   "execution_count": 23,
   "metadata": {},
   "outputs": [],
   "source": [
    "train_data = {'X' : X_train, 'y' : y_train}\n",
    "test_data = {'X' : X_test, 'y' : y_test}\n",
    "val_data = {'X' : X_val, 'y' : y_val}"
   ]
  },
  {
   "cell_type": "markdown",
   "metadata": {},
   "source": [
    "### Dummy - baseline"
   ]
  },
  {
   "cell_type": "code",
   "execution_count": 24,
   "metadata": {},
   "outputs": [],
   "source": [
    "dummy = DummyRegressor().fit(**train_data)"
   ]
  },
  {
   "cell_type": "code",
   "execution_count": 25,
   "metadata": {},
   "outputs": [
    {
     "name": "stdout",
     "output_type": "stream",
     "text": [
      "rmse : 639.3735506978311\n",
      "mae : 518.3287428683848\n",
      "r2 : -0.00012107339438527376\n"
     ]
    }
   ],
   "source": [
    "f.evaluate_model(dummy, **test_data)"
   ]
  },
  {
   "cell_type": "markdown",
   "metadata": {},
   "source": [
    "Since we are using this model as a baseline, we will not pursue it further with any type of tuning."
   ]
  },
  {
   "cell_type": "markdown",
   "metadata": {},
   "source": [
    "### Random Forest"
   ]
  },
  {
   "cell_type": "code",
   "execution_count": 26,
   "metadata": {},
   "outputs": [],
   "source": [
    "rf = RandomForestRegressor(random_state=p.RANDOM_STATE).fit(**train_data)"
   ]
  },
  {
   "cell_type": "code",
   "execution_count": 27,
   "metadata": {},
   "outputs": [
    {
     "name": "stdout",
     "output_type": "stream",
     "text": [
      "rmse : 218.1043116667645\n",
      "mae : 136.07476331360948\n",
      "r2 : 0.883621770083004\n"
     ]
    }
   ],
   "source": [
    "f.evaluate_model(rf, **test_data)"
   ]
  },
  {
   "cell_type": "markdown",
   "metadata": {},
   "source": [
    "### Linear Regression"
   ]
  },
  {
   "cell_type": "code",
   "execution_count": 28,
   "metadata": {},
   "outputs": [],
   "source": [
    "lr = LinearRegression().fit(**train_data)"
   ]
  },
  {
   "cell_type": "code",
   "execution_count": 29,
   "metadata": {},
   "outputs": [
    {
     "name": "stdout",
     "output_type": "stream",
     "text": [
      "rmse : 428.15200157505717\n",
      "mae : 320.21941759822073\n",
      "r2 : 0.5515240046747174\n"
     ]
    }
   ],
   "source": [
    "f.evaluate_model(lr, **test_data)"
   ]
  },
  {
   "cell_type": "markdown",
   "metadata": {},
   "source": [
    "Since we cannot tune this model, we will be using these figures to represent the `LinearRegression()` model in our comparisons."
   ]
  },
  {
   "cell_type": "markdown",
   "metadata": {},
   "source": [
    "### Naive Bayes"
   ]
  },
  {
   "cell_type": "code",
   "execution_count": 30,
   "metadata": {},
   "outputs": [],
   "source": [
    "nb = GaussianNB().fit(**train_data)"
   ]
  },
  {
   "cell_type": "code",
   "execution_count": 31,
   "metadata": {},
   "outputs": [
    {
     "name": "stdout",
     "output_type": "stream",
     "text": [
      "rmse : 528.3442356654862\n",
      "mae : 362.60059171597635\n",
      "r2 : 0.3170684256007753\n"
     ]
    }
   ],
   "source": [
    "f.evaluate_model(nb, **test_data)"
   ]
  },
  {
   "cell_type": "markdown",
   "metadata": {},
   "source": [
    "### XGB"
   ]
  },
  {
   "cell_type": "code",
   "execution_count": 32,
   "metadata": {},
   "outputs": [],
   "source": [
    "xgb = XGBRegressor(random_state = p.RANDOM_STATE).fit(**train_data)"
   ]
  },
  {
   "cell_type": "code",
   "execution_count": 33,
   "metadata": {},
   "outputs": [
    {
     "name": "stdout",
     "output_type": "stream",
     "text": [
      "rmse : 191.26158706184336\n",
      "mae : 122.09586748265656\n",
      "r2 : 0.9105050034929465\n"
     ]
    }
   ],
   "source": [
    "f.evaluate_model(xgb, **test_data)"
   ]
  },
  {
   "cell_type": "markdown",
   "metadata": {},
   "source": [
    "Progressing with `RandomForestRegressor()`, `GaussianNB()` and  `XGBRegressor()` models into the tuning phase of this project."
   ]
  }
 ],
 "metadata": {
  "interpreter": {
   "hash": "d186370726e06e53ef63bbbfb41b59cb3f441907eefa936ab63b28aa19e1fd33"
  },
  "kernelspec": {
   "display_name": "Python 3.10.0 ('SDPA-dev')",
   "language": "python",
   "name": "python3"
  },
  "language_info": {
   "codemirror_mode": {
    "name": "ipython",
    "version": 3
   },
   "file_extension": ".py",
   "mimetype": "text/x-python",
   "name": "python",
   "nbconvert_exporter": "python",
   "pygments_lexer": "ipython3",
   "version": "3.9.10"
  },
  "orig_nbformat": 4
 },
 "nbformat": 4,
 "nbformat_minor": 2
}
