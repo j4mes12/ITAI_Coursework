{
 "cells": [
  {
   "cell_type": "code",
   "execution_count": 7,
   "metadata": {},
   "outputs": [],
   "source": [
    "import joblib\n",
    "\n",
    "import params as p\n",
    "import functions as f\n",
    "\n",
    "from sklearn.model_selection import train_test_split"
   ]
  },
  {
   "cell_type": "code",
   "execution_count": 8,
   "metadata": {},
   "outputs": [],
   "source": [
    "data = joblib.load(p.DATA_PATH + f'00_{p.DATA_SAVE_NAME}.pkl')"
   ]
  },
  {
   "cell_type": "markdown",
   "metadata": {},
   "source": [
    "### Split Data"
   ]
  },
  {
   "cell_type": "code",
   "execution_count": 9,
   "metadata": {},
   "outputs": [],
   "source": [
    "train, test = train_test_split(data, test_size = 0.2, random_state = p.RANDOM_STATE)\n",
    "train, val = train_test_split(train, test_size = 0.25, random_state = p.RANDOM_STATE)"
   ]
  },
  {
   "cell_type": "code",
   "execution_count": 10,
   "metadata": {},
   "outputs": [
    {
     "data": {
      "text/plain": [
       "((5256, 14), (1752, 14), (1752, 14))"
      ]
     },
     "execution_count": 10,
     "metadata": {},
     "output_type": "execute_result"
    }
   ],
   "source": [
    "train.shape, test.shape, val.shape"
   ]
  },
  {
   "cell_type": "code",
   "execution_count": 11,
   "metadata": {},
   "outputs": [],
   "source": [
    "datasets = {\n",
    "    'train' : train,\n",
    "    'test' : test,\n",
    "    'val' : val\n",
    "}\n",
    "f.save_split_datasets(datasets, part = '02')"
   ]
  }
 ],
 "metadata": {
  "interpreter": {
   "hash": "d4d0be0daef6eafac08144bde7256d0240e3dc154c04f6176bdf38ffbf1040ae"
  },
  "kernelspec": {
   "display_name": "Python 3.10.0 ('itai-dev')",
   "language": "python",
   "name": "python3"
  },
  "language_info": {
   "codemirror_mode": {
    "name": "ipython",
    "version": 3
   },
   "file_extension": ".py",
   "mimetype": "text/x-python",
   "name": "python",
   "nbconvert_exporter": "python",
   "pygments_lexer": "ipython3",
   "version": "3.10.0"
  },
  "orig_nbformat": 4
 },
 "nbformat": 4,
 "nbformat_minor": 2
}
