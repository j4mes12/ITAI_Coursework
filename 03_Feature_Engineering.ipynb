{
 "cells": [
  {
   "cell_type": "markdown",
   "metadata": {},
   "source": [
    "# Feature Engineering"
   ]
  },
  {
   "cell_type": "code",
   "execution_count": 149,
   "metadata": {},
   "outputs": [],
   "source": [
    "import pandas as pd\n",
    "import numpy as np\n",
    "\n",
    "from sklearn.preprocessing import FunctionTransformer\n",
    "from sklearn.pipeline import Pipeline\n",
    "\n",
    "import joblib\n",
    "\n",
    "import params as p"
   ]
  },
  {
   "cell_type": "code",
   "execution_count": 150,
   "metadata": {},
   "outputs": [],
   "source": [
    "train = joblib.load(p.TTV_DATA_PATH + f'02_{p.DATA_SAVE_NAME}_train.pkl')\n",
    "test = joblib.load(p.TTV_DATA_PATH + f'02_{p.DATA_SAVE_NAME}_test.pkl')\n",
    "val = joblib.load(p.TTV_DATA_PATH + f'02_{p.DATA_SAVE_NAME}_val.pkl')"
   ]
  },
  {
   "cell_type": "code",
   "execution_count": 151,
   "metadata": {},
   "outputs": [
    {
     "data": {
      "text/plain": [
       "((5256, 14), (1752, 14), (1752, 14))"
      ]
     },
     "execution_count": 151,
     "metadata": {},
     "output_type": "execute_result"
    }
   ],
   "source": [
    "train.shape, test.shape, val.shape"
   ]
  },
  {
   "cell_type": "markdown",
   "metadata": {},
   "source": [
    "### Filter funcitoning day"
   ]
  },
  {
   "cell_type": "code",
   "execution_count": 152,
   "metadata": {},
   "outputs": [],
   "source": [
    "def filter_functioning_day(df: pd.DataFrame):\n",
    "\n",
    "    df = df[df.loc[:, 'functioning_day'] == 'Yes']\n",
    "\n",
    "    return df"
   ]
  },
  {
   "cell_type": "markdown",
   "metadata": {},
   "source": [
    "### Dealing with other categorical features"
   ]
  },
  {
   "cell_type": "markdown",
   "metadata": {},
   "source": [
    "`holiday`: map to a binary features\n",
    "\n",
    "`seasons`: Create dummy columns for each season. Remove one season for linear independence."
   ]
  },
  {
   "cell_type": "markdown",
   "metadata": {},
   "source": [
    "### Turn `holiday` into a binary feature"
   ]
  },
  {
   "cell_type": "code",
   "execution_count": 153,
   "metadata": {},
   "outputs": [],
   "source": [
    "def holiday_to_binary(df: pd.DataFrame):\n",
    "\n",
    "    df.loc[:, 'bin_holiday'] = np.where(df.loc[:, 'holiday'] == 'Holiday', 1, 0)\n",
    "\n",
    "    return df"
   ]
  },
  {
   "cell_type": "markdown",
   "metadata": {},
   "source": [
    "### Create Features from Date"
   ]
  },
  {
   "cell_type": "code",
   "execution_count": 154,
   "metadata": {},
   "outputs": [],
   "source": [
    "def extract_date_features(df: pd.DataFrame):\n",
    "\n",
    "    df.loc[:, 'date_weekday'] = df.loc[:, 'date'].dt.weekday\n",
    "    df.loc[:, 'date_month'] = df.loc[:, 'date'].dt.month\n",
    "\n",
    "    return df"
   ]
  },
  {
   "cell_type": "markdown",
   "metadata": {},
   "source": [
    "### Drop extra features"
   ]
  },
  {
   "cell_type": "code",
   "execution_count": 155,
   "metadata": {},
   "outputs": [],
   "source": [
    "def drop_extra_features(df: pd.DataFrame):\n",
    "\n",
    "    df.drop(columns=['date', 'dew_point_temperature', 'functioning_day', 'holiday'], inplace= True)\n",
    "\n",
    "    return df"
   ]
  },
  {
   "cell_type": "markdown",
   "metadata": {},
   "source": [
    "### Create dummy features for `seasons`"
   ]
  },
  {
   "cell_type": "code",
   "execution_count": 156,
   "metadata": {},
   "outputs": [],
   "source": [
    "def create_dummy_features(df: pd.DataFrame):\n",
    "\n",
    "    df = pd.get_dummies(df)\n",
    "\n",
    "    # Drop to maintain linear independence\n",
    "    df.drop(columns = ['seasons_Winter'], inplace=True)\n",
    "\n",
    "    return df"
   ]
  },
  {
   "cell_type": "markdown",
   "metadata": {},
   "source": [
    "### Make Pipeline"
   ]
  },
  {
   "cell_type": "code",
   "execution_count": 157,
   "metadata": {},
   "outputs": [],
   "source": [
    "pipeline = Pipeline(\n",
    "    [\n",
    "        (\"filter_functioning_day\", FunctionTransformer(filter_functioning_day)),\n",
    "        (\"make_holiday_binary\", FunctionTransformer(holiday_to_binary)),\n",
    "        (\"extract_date_features\", FunctionTransformer(extract_date_features)),\n",
    "        (\"drop_extra_features\", FunctionTransformer(drop_extra_features)),\n",
    "        (\"create_dummy_features\", FunctionTransformer(create_dummy_features)),\n",
    "    ]\n",
    ")"
   ]
  },
  {
   "cell_type": "code",
   "execution_count": 158,
   "metadata": {},
   "outputs": [
    {
     "name": "stderr",
     "output_type": "stream",
     "text": [
      "/opt/anaconda3/envs/itai-dev/lib/python3.10/site-packages/pandas/core/indexing.py:1667: SettingWithCopyWarning: \n",
      "A value is trying to be set on a copy of a slice from a DataFrame.\n",
      "Try using .loc[row_indexer,col_indexer] = value instead\n",
      "\n",
      "See the caveats in the documentation: https://pandas.pydata.org/pandas-docs/stable/user_guide/indexing.html#returning-a-view-versus-a-copy\n",
      "  self.obj[key] = value\n",
      "/opt/anaconda3/envs/itai-dev/lib/python3.10/site-packages/pandas/core/frame.py:4906: SettingWithCopyWarning: \n",
      "A value is trying to be set on a copy of a slice from a DataFrame\n",
      "\n",
      "See the caveats in the documentation: https://pandas.pydata.org/pandas-docs/stable/user_guide/indexing.html#returning-a-view-versus-a-copy\n",
      "  return super().drop(\n"
     ]
    }
   ],
   "source": [
    "train = pipeline.transform(train)\n",
    "test = pipeline.transform(test)\n",
    "val = pipeline.transform(val)"
   ]
  },
  {
   "cell_type": "markdown",
   "metadata": {},
   "source": [
    "### Check data"
   ]
  },
  {
   "cell_type": "code",
   "execution_count": 161,
   "metadata": {},
   "outputs": [
    {
     "data": {
      "text/html": [
       "<div>\n",
       "<style scoped>\n",
       "    .dataframe tbody tr th:only-of-type {\n",
       "        vertical-align: middle;\n",
       "    }\n",
       "\n",
       "    .dataframe tbody tr th {\n",
       "        vertical-align: top;\n",
       "    }\n",
       "\n",
       "    .dataframe thead th {\n",
       "        text-align: right;\n",
       "    }\n",
       "</style>\n",
       "<table border=\"1\" class=\"dataframe\">\n",
       "  <thead>\n",
       "    <tr style=\"text-align: right;\">\n",
       "      <th></th>\n",
       "      <th>rented_bike_count</th>\n",
       "      <th>hour</th>\n",
       "      <th>temperature</th>\n",
       "      <th>humidity</th>\n",
       "      <th>wind_speed</th>\n",
       "      <th>visibility</th>\n",
       "      <th>solar_radiation</th>\n",
       "      <th>rainfall</th>\n",
       "      <th>snowfall</th>\n",
       "      <th>bin_holiday</th>\n",
       "      <th>date_weekday</th>\n",
       "      <th>date_month</th>\n",
       "      <th>seasons_Autumn</th>\n",
       "      <th>seasons_Spring</th>\n",
       "      <th>seasons_Summer</th>\n",
       "    </tr>\n",
       "  </thead>\n",
       "  <tbody>\n",
       "    <tr>\n",
       "      <th>3919</th>\n",
       "      <td>220</td>\n",
       "      <td>7</td>\n",
       "      <td>13.7</td>\n",
       "      <td>98</td>\n",
       "      <td>1.6</td>\n",
       "      <td>468</td>\n",
       "      <td>0.10</td>\n",
       "      <td>0.0</td>\n",
       "      <td>0.0</td>\n",
       "      <td>0</td>\n",
       "      <td>6</td>\n",
       "      <td>5</td>\n",
       "      <td>0</td>\n",
       "      <td>1</td>\n",
       "      <td>0</td>\n",
       "    </tr>\n",
       "    <tr>\n",
       "      <th>6606</th>\n",
       "      <td>249</td>\n",
       "      <td>6</td>\n",
       "      <td>20.2</td>\n",
       "      <td>66</td>\n",
       "      <td>1.0</td>\n",
       "      <td>2000</td>\n",
       "      <td>0.00</td>\n",
       "      <td>0.0</td>\n",
       "      <td>0.0</td>\n",
       "      <td>0</td>\n",
       "      <td>4</td>\n",
       "      <td>2</td>\n",
       "      <td>1</td>\n",
       "      <td>0</td>\n",
       "      <td>0</td>\n",
       "    </tr>\n",
       "    <tr>\n",
       "      <th>2567</th>\n",
       "      <td>422</td>\n",
       "      <td>23</td>\n",
       "      <td>6.4</td>\n",
       "      <td>59</td>\n",
       "      <td>1.1</td>\n",
       "      <td>961</td>\n",
       "      <td>0.00</td>\n",
       "      <td>0.0</td>\n",
       "      <td>0.0</td>\n",
       "      <td>0</td>\n",
       "      <td>5</td>\n",
       "      <td>3</td>\n",
       "      <td>0</td>\n",
       "      <td>1</td>\n",
       "      <td>0</td>\n",
       "    </tr>\n",
       "    <tr>\n",
       "      <th>7618</th>\n",
       "      <td>847</td>\n",
       "      <td>10</td>\n",
       "      <td>13.3</td>\n",
       "      <td>47</td>\n",
       "      <td>0.5</td>\n",
       "      <td>818</td>\n",
       "      <td>1.67</td>\n",
       "      <td>0.0</td>\n",
       "      <td>0.0</td>\n",
       "      <td>0</td>\n",
       "      <td>6</td>\n",
       "      <td>10</td>\n",
       "      <td>1</td>\n",
       "      <td>0</td>\n",
       "      <td>0</td>\n",
       "    </tr>\n",
       "    <tr>\n",
       "      <th>3715</th>\n",
       "      <td>1890</td>\n",
       "      <td>19</td>\n",
       "      <td>15.5</td>\n",
       "      <td>46</td>\n",
       "      <td>2.6</td>\n",
       "      <td>1782</td>\n",
       "      <td>0.34</td>\n",
       "      <td>0.0</td>\n",
       "      <td>0.0</td>\n",
       "      <td>0</td>\n",
       "      <td>3</td>\n",
       "      <td>4</td>\n",
       "      <td>0</td>\n",
       "      <td>1</td>\n",
       "      <td>0</td>\n",
       "    </tr>\n",
       "  </tbody>\n",
       "</table>\n",
       "</div>"
      ],
      "text/plain": [
       "      rented_bike_count  hour  temperature  humidity  wind_speed  visibility  \\\n",
       "3919                220     7         13.7        98         1.6         468   \n",
       "6606                249     6         20.2        66         1.0        2000   \n",
       "2567                422    23          6.4        59         1.1         961   \n",
       "7618                847    10         13.3        47         0.5         818   \n",
       "3715               1890    19         15.5        46         2.6        1782   \n",
       "\n",
       "      solar_radiation  rainfall  snowfall  bin_holiday  date_weekday  \\\n",
       "3919             0.10       0.0       0.0            0             6   \n",
       "6606             0.00       0.0       0.0            0             4   \n",
       "2567             0.00       0.0       0.0            0             5   \n",
       "7618             1.67       0.0       0.0            0             6   \n",
       "3715             0.34       0.0       0.0            0             3   \n",
       "\n",
       "      date_month  seasons_Autumn  seasons_Spring  seasons_Summer  \n",
       "3919           5               0               1               0  \n",
       "6606           2               1               0               0  \n",
       "2567           3               0               1               0  \n",
       "7618          10               1               0               0  \n",
       "3715           4               0               1               0  "
      ]
     },
     "execution_count": 161,
     "metadata": {},
     "output_type": "execute_result"
    }
   ],
   "source": [
    "train.head()"
   ]
  },
  {
   "cell_type": "markdown",
   "metadata": {},
   "source": [
    "### save csv"
   ]
  },
  {
   "cell_type": "code",
   "execution_count": 162,
   "metadata": {},
   "outputs": [
    {
     "data": {
      "text/plain": [
       "['./data/ttv_data/03_data_val.pkl']"
      ]
     },
     "execution_count": 162,
     "metadata": {},
     "output_type": "execute_result"
    }
   ],
   "source": [
    "joblib.dump(train, p.TTV_DATA_PATH + f'03_{p.DATA_SAVE_NAME}_train.pkl')\n",
    "joblib.dump(test, p.TTV_DATA_PATH + f'03_{p.DATA_SAVE_NAME}_test.pkl')\n",
    "joblib.dump(val, p.TTV_DATA_PATH + f'03_{p.DATA_SAVE_NAME}_val.pkl')"
   ]
  }
 ],
 "metadata": {
  "interpreter": {
   "hash": "d186370726e06e53ef63bbbfb41b59cb3f441907eefa936ab63b28aa19e1fd33"
  },
  "kernelspec": {
   "display_name": "Python 3.10.0 ('SDPA-dev')",
   "language": "python",
   "name": "python3"
  },
  "language_info": {
   "codemirror_mode": {
    "name": "ipython",
    "version": 3
   },
   "file_extension": ".py",
   "mimetype": "text/x-python",
   "name": "python",
   "nbconvert_exporter": "python",
   "pygments_lexer": "ipython3",
   "version": "3.10.0"
  },
  "orig_nbformat": 4
 },
 "nbformat": 4,
 "nbformat_minor": 2
}
