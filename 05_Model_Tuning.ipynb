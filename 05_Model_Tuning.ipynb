{
 "cells": [
  {
   "cell_type": "code",
   "execution_count": 1,
   "metadata": {},
   "outputs": [],
   "source": [
    "import numpy as np\n",
    "import joblib\n",
    "\n",
    "import params as p\n",
    "import functions as f\n",
    "\n",
    "from sklearn.ensemble import RandomForestRegressor\n",
    "\n",
    "from sklearn.model_selection import RandomizedSearchCV"
   ]
  },
  {
   "cell_type": "code",
   "execution_count": 2,
   "metadata": {},
   "outputs": [],
   "source": [
    "train, test, val = f.load_split_datasets(part='03')"
   ]
  },
  {
   "cell_type": "code",
   "execution_count": 3,
   "metadata": {},
   "outputs": [],
   "source": [
    "X_train, y_train = f.split_data_X_y(train)\n",
    "X_test, y_test = f.split_data_X_y(test)\n",
    "X_val, y_val = f.split_data_X_y(val)"
   ]
  },
  {
   "cell_type": "code",
   "execution_count": 4,
   "metadata": {},
   "outputs": [],
   "source": [
    "rf = joblib.load(p.OUTPUTS_PATH + 'model_rf.pkl')"
   ]
  },
  {
   "cell_type": "code",
   "execution_count": 5,
   "metadata": {},
   "outputs": [
    {
     "name": "stdout",
     "output_type": "stream",
     "text": [
      "rmse : 215.91885368701548\n",
      "mae : 136.12454437869823\n",
      "r2 : 0.8859423611477213\n"
     ]
    }
   ],
   "source": [
    "f.evaluate_model(rf, X_test, y_test)"
   ]
  },
  {
   "cell_type": "code",
   "execution_count": 6,
   "metadata": {},
   "outputs": [],
   "source": [
    "rf_1 = RandomForestRegressor(random_state=p.RANDOM_STATE)"
   ]
  },
  {
   "cell_type": "code",
   "execution_count": 7,
   "metadata": {},
   "outputs": [
    {
     "data": {
      "text/plain": [
       "RandomizedSearchCV(cv=3, estimator=RandomForestRegressor(random_state=73),\n",
       "                   n_jobs=-1,\n",
       "                   param_distributions={'max_depth': array([ 2,  3,  4,  5,  6,  7,  8,  9, 10, 11, 12, 13, 14]),\n",
       "                                        'n_estimators': array([ 100,  150,  200,  250,  300,  350,  400,  450,  500,  550,  600,\n",
       "        650,  700,  750,  800,  850,  900,  950, 1000, 1050, 1100, 1150,\n",
       "       1200, 1250, 1300, 1350, 1400, 1450, 1500, 1550, 1600, 1650, 1700,\n",
       "       1750, 1800, 1850, 1900, 1950, 2000, 2050, 2100, 2150, 2200, 2250,\n",
       "       2300, 2350, 2400, 2450, 2500, 2550, 2600, 2650, 2700, 2750, 2800,\n",
       "       2850, 2900, 2950, 3000, 3050, 3100, 3150, 3200, 3250, 3300, 3350,\n",
       "       3400, 3450, 3500, 3550, 3600, 3650, 3700, 3750, 3800, 3850, 3900,\n",
       "       3950, 4000, 4050, 4100, 4150, 4200, 4250, 4300, 4350, 4400, 4450,\n",
       "       4500, 4550, 4600, 4650, 4700, 4750, 4800, 4850, 4900, 4950])},\n",
       "                   random_state=73, scoring='neg_mean_squared_error')"
      ]
     },
     "execution_count": 7,
     "metadata": {},
     "output_type": "execute_result"
    }
   ],
   "source": [
    "param_space = {\n",
    "    \"max_depth\": np.arange(2, 15),\n",
    "    \"n_estimators\": np.arange(100, 5000, 50),\n",
    "    # \"min_samples_leaf\": np.arange(2, 16, 1),\n",
    "    # \"min_samples_split\": np.arange(0.1, 1, 0.05),\n",
    "    # \"max_features\": [\"auto\", \"sqrt\", \"log2\"],\n",
    "}\n",
    "\n",
    "# cv = RepeatedKFold(n_splits=10, n_repeats=3, random_state=p.RANDOM_STATE)\n",
    "\n",
    "rs = RandomizedSearchCV(\n",
    "    estimator = rf,\n",
    "    param_distributions = param_space,\n",
    "    n_jobs = -1,\n",
    "    scoring='neg_mean_squared_error',\n",
    "    cv = 3,\n",
    "    random_state = p.RANDOM_STATE)\n",
    "\n",
    "rs.fit(X_train, y_train)"
   ]
  },
  {
   "cell_type": "code",
   "execution_count": 8,
   "metadata": {},
   "outputs": [],
   "source": [
    "tuned_params = rs.best_params_\n",
    "tuned_params['random_state'] = p.RANDOM_STATE"
   ]
  },
  {
   "cell_type": "code",
   "execution_count": 9,
   "metadata": {},
   "outputs": [
    {
     "data": {
      "text/plain": [
       "RandomForestRegressor(max_depth=11, n_estimators=1900, random_state=73)"
      ]
     },
     "execution_count": 9,
     "metadata": {},
     "output_type": "execute_result"
    }
   ],
   "source": [
    "rf_tuned = RandomForestRegressor(**tuned_params)\n",
    "rf_tuned.fit(X_train, y_train)"
   ]
  },
  {
   "cell_type": "code",
   "execution_count": 10,
   "metadata": {},
   "outputs": [
    {
     "name": "stdout",
     "output_type": "stream",
     "text": [
      "rmse : 220.93317345485215\n",
      "mae : 140.59335835499837\n",
      "r2 : 0.8805832887234577\n"
     ]
    }
   ],
   "source": [
    "f.evaluate_model(rf_tuned, X_test, y_test)"
   ]
  },
  {
   "cell_type": "code",
   "execution_count": null,
   "metadata": {},
   "outputs": [],
   "source": []
  }
 ],
 "metadata": {
  "interpreter": {
   "hash": "d4d0be0daef6eafac08144bde7256d0240e3dc154c04f6176bdf38ffbf1040ae"
  },
  "kernelspec": {
   "display_name": "Python 3.10.0 ('itai-dev')",
   "language": "python",
   "name": "python3"
  },
  "language_info": {
   "codemirror_mode": {
    "name": "ipython",
    "version": 3
   },
   "file_extension": ".py",
   "mimetype": "text/x-python",
   "name": "python",
   "nbconvert_exporter": "python",
   "pygments_lexer": "ipython3",
   "version": "3.9.10"
  },
  "orig_nbformat": 4
 },
 "nbformat": 4,
 "nbformat_minor": 2
}
