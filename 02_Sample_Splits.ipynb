{
 "cells": [
  {
   "cell_type": "code",
   "execution_count": 5,
   "metadata": {},
   "outputs": [],
   "source": [
    "import pandas as pd\n",
    "import joblib\n",
    "\n",
    "import params as p\n",
    "\n",
    "from sklearn.model_selection import train_test_split"
   ]
  },
  {
   "cell_type": "code",
   "execution_count": 6,
   "metadata": {},
   "outputs": [],
   "source": [
    "data = joblib.load(p.DATA_PATH + f'01_{p.DATA_SAVE_NAME}.pkl')"
   ]
  },
  {
   "cell_type": "markdown",
   "metadata": {},
   "source": [
    "### Split Data"
   ]
  },
  {
   "cell_type": "code",
   "execution_count": 7,
   "metadata": {},
   "outputs": [],
   "source": [
    "train, test = train_test_split(data, test_size = 0.2, random_state = p.RANDOM_STATE)\n",
    "train, val = train_test_split(train, test_size = 0.25, random_state = p.RANDOM_STATE)"
   ]
  },
  {
   "cell_type": "code",
   "execution_count": 8,
   "metadata": {},
   "outputs": [
    {
     "data": {
      "text/plain": [
       "((5079, 13), (1693, 13), (1693, 13))"
      ]
     },
     "execution_count": 8,
     "metadata": {},
     "output_type": "execute_result"
    }
   ],
   "source": [
    "train.shape, test.shape, val.shape"
   ]
  },
  {
   "cell_type": "code",
   "execution_count": 9,
   "metadata": {},
   "outputs": [
    {
     "data": {
      "text/plain": [
       "['./data/ttv_data/02_data_all_val.pkl']"
      ]
     },
     "execution_count": 9,
     "metadata": {},
     "output_type": "execute_result"
    }
   ],
   "source": [
    "joblib.dump(train, p.TTV_DATA_PATH + f'02_{p.DATA_SAVE_NAME}_train.pkl')\n",
    "joblib.dump(test, p.TTV_DATA_PATH + f'02_{p.DATA_SAVE_NAME}_test.pkl')\n",
    "joblib.dump(val, p.TTV_DATA_PATH + f'02_{p.DATA_SAVE_NAME}_val.pkl')"
   ]
  }
 ],
 "metadata": {
  "interpreter": {
   "hash": "d4d0be0daef6eafac08144bde7256d0240e3dc154c04f6176bdf38ffbf1040ae"
  },
  "kernelspec": {
   "display_name": "Python 3.10.0 ('itai-dev')",
   "language": "python",
   "name": "python3"
  },
  "language_info": {
   "codemirror_mode": {
    "name": "ipython",
    "version": 3
   },
   "file_extension": ".py",
   "mimetype": "text/x-python",
   "name": "python",
   "nbconvert_exporter": "python",
   "pygments_lexer": "ipython3",
   "version": "3.10.0"
  },
  "orig_nbformat": 4
 },
 "nbformat": 4,
 "nbformat_minor": 2
}
