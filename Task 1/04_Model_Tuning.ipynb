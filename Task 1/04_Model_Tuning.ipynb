{
 "cells": [
  {
   "cell_type": "markdown",
   "metadata": {},
   "source": [
    "# Model Tuning\n",
    "---"
   ]
  },
  {
   "cell_type": "markdown",
   "metadata": {},
   "source": [
    "### Import Packages"
   ]
  },
  {
   "cell_type": "code",
   "execution_count": 29,
   "metadata": {},
   "outputs": [],
   "source": [
    "import pandas as pd\n",
    "import numpy as np\n",
    "import seaborn as sns\n",
    "import matplotlib.pyplot as plt\n",
    "from itertools import product\n",
    "import dataframe_image as dfi\n",
    "import joblib\n",
    "\n",
    "import warnings\n",
    "\n",
    "import params as p\n",
    "import functions as f\n",
    "\n",
    "from xgboost import XGBRegressor\n",
    "\n",
    "from sklearn.linear_model import LinearRegression\n",
    "from sklearn.ensemble import RandomForestRegressor\n",
    "\n",
    "import optuna\n",
    "from optuna.integration import OptunaSearchCV\n",
    "from optuna.distributions import IntUniformDistribution, UniformDistribution, LogUniformDistribution, CategoricalDistribution\n",
    "from optuna.samplers import TPESampler"
   ]
  },
  {
   "cell_type": "markdown",
   "metadata": {},
   "source": [
    "### Settings"
   ]
  },
  {
   "cell_type": "code",
   "execution_count": 2,
   "metadata": {},
   "outputs": [],
   "source": [
    "warnings.simplefilter(action='ignore', category = FutureWarning)"
   ]
  },
  {
   "cell_type": "markdown",
   "metadata": {},
   "source": [
    "### Import Data"
   ]
  },
  {
   "cell_type": "code",
   "execution_count": 3,
   "metadata": {},
   "outputs": [],
   "source": [
    "# Load train, test and validation datasets\n",
    "train, test, val = f.load_split_datasets(part = '03')"
   ]
  },
  {
   "cell_type": "code",
   "execution_count": 4,
   "metadata": {},
   "outputs": [],
   "source": [
    "# Split datasets into X and y components\n",
    "X_train, y_train = f.split_data_X_y(train)\n",
    "X_test, y_test = f.split_data_X_y(test)\n",
    "X_val, y_val = f.split_data_X_y(val)"
   ]
  },
  {
   "cell_type": "code",
   "execution_count": 5,
   "metadata": {},
   "outputs": [],
   "source": [
    "# Define train/test/validation dictionaries to make fitting and evaluation arguments cleaner\n",
    "train_data = {'X' : X_train, 'y' : y_train}\n",
    "test_data = {'X' : X_test, 'y' : y_test}\n",
    "val_data = {'X' : X_val, 'y' : y_val}"
   ]
  },
  {
   "cell_type": "markdown",
   "metadata": {},
   "source": [
    "### Create Baseline Model"
   ]
  },
  {
   "cell_type": "code",
   "execution_count": 42,
   "metadata": {},
   "outputs": [
    {
     "name": "stdout",
     "output_type": "stream",
     "text": [
      "lr model... trained\n"
     ]
    }
   ],
   "source": [
    "print('lr model...', end = ' ')\n",
    "lr = LinearRegression().fit(**train_data)\n",
    "print('trained')"
   ]
  },
  {
   "cell_type": "code",
   "execution_count": 45,
   "metadata": {},
   "outputs": [
    {
     "data": {
      "text/plain": [
       "['./outputs/baseline_model.pkl']"
      ]
     },
     "execution_count": 45,
     "metadata": {},
     "output_type": "execute_result"
    }
   ],
   "source": [
    "joblib.dump(lr, p.OUTPUTS_PATH + 'baseline_model.pkl')"
   ]
  },
  {
   "cell_type": "markdown",
   "metadata": {},
   "source": [
    "### Evaluate Initial Models on Train and Test Data"
   ]
  },
  {
   "cell_type": "code",
   "execution_count": 43,
   "metadata": {},
   "outputs": [
    {
     "data": {
      "text/html": [
       "<div>\n",
       "<style scoped>\n",
       "    .dataframe tbody tr th:only-of-type {\n",
       "        vertical-align: middle;\n",
       "    }\n",
       "\n",
       "    .dataframe tbody tr th {\n",
       "        vertical-align: top;\n",
       "    }\n",
       "\n",
       "    .dataframe thead th {\n",
       "        text-align: right;\n",
       "    }\n",
       "</style>\n",
       "<table border=\"1\" class=\"dataframe\">\n",
       "  <thead>\n",
       "    <tr style=\"text-align: right;\">\n",
       "      <th></th>\n",
       "      <th>0</th>\n",
       "    </tr>\n",
       "  </thead>\n",
       "  <tbody>\n",
       "    <tr>\n",
       "      <th>R2 Train</th>\n",
       "      <td>0.567670</td>\n",
       "    </tr>\n",
       "    <tr>\n",
       "      <th>R2 Test</th>\n",
       "      <td>0.551524</td>\n",
       "    </tr>\n",
       "  </tbody>\n",
       "</table>\n",
       "</div>"
      ],
      "text/plain": [
       "                 0\n",
       "R2 Train  0.567670\n",
       "R2 Test   0.551524"
      ]
     },
     "execution_count": 43,
     "metadata": {},
     "output_type": "execute_result"
    }
   ],
   "source": [
    "models = [lr]\n",
    "\n",
    "rmse_initial_results = {\n",
    "    'Model' : ['Linear Regresssion (Baseline)'],\n",
    "    'R2 Train' : [f.evaluate_model(model, metric = 'r2', **train_data) for model in models],\n",
    "    'R2 Test' : [f.evaluate_model(model, metric = 'r2', **test_data) for model in models]\n",
    "    }\n",
    "initial_results = pd.DataFrame(rmse_initial_results)\n",
    "initial_results[['R2 Train', 'R2 Test']].T"
   ]
  },
  {
   "cell_type": "markdown",
   "metadata": {},
   "source": [
    "### Initial Models for xgb/rf"
   ]
  },
  {
   "cell_type": "code",
   "execution_count": 8,
   "metadata": {},
   "outputs": [],
   "source": [
    "base_params = {\n",
    "    'n_jobs' : -1,\n",
    "    'random_state' : p.RANDOM_STATE,\n",
    "    }"
   ]
  },
  {
   "cell_type": "code",
   "execution_count": 9,
   "metadata": {},
   "outputs": [],
   "source": [
    "xgb_optuna_base = XGBRegressor(**base_params)"
   ]
  },
  {
   "cell_type": "code",
   "execution_count": 10,
   "metadata": {},
   "outputs": [],
   "source": [
    "rf_optuna_base = RandomForestRegressor(**base_params)"
   ]
  },
  {
   "cell_type": "code",
   "execution_count": 11,
   "metadata": {},
   "outputs": [
    {
     "data": {
      "text/html": [
       "<div>\n",
       "<style scoped>\n",
       "    .dataframe tbody tr th:only-of-type {\n",
       "        vertical-align: middle;\n",
       "    }\n",
       "\n",
       "    .dataframe tbody tr th {\n",
       "        vertical-align: top;\n",
       "    }\n",
       "\n",
       "    .dataframe thead th {\n",
       "        text-align: right;\n",
       "    }\n",
       "</style>\n",
       "<table border=\"1\" class=\"dataframe\">\n",
       "  <thead>\n",
       "    <tr style=\"text-align: right;\">\n",
       "      <th></th>\n",
       "      <th>Model</th>\n",
       "      <th>R2 Train</th>\n",
       "      <th>R2 Test</th>\n",
       "    </tr>\n",
       "  </thead>\n",
       "  <tbody>\n",
       "    <tr>\n",
       "      <th>0</th>\n",
       "      <td>Linear Regresssion (Baseline)</td>\n",
       "      <td>0.567670</td>\n",
       "      <td>0.551524</td>\n",
       "    </tr>\n",
       "    <tr>\n",
       "      <th>1</th>\n",
       "      <td>Initial XGBoost</td>\n",
       "      <td>0.986061</td>\n",
       "      <td>0.910505</td>\n",
       "    </tr>\n",
       "    <tr>\n",
       "      <th>2</th>\n",
       "      <td>Initial Random Forest</td>\n",
       "      <td>0.983250</td>\n",
       "      <td>0.883622</td>\n",
       "    </tr>\n",
       "  </tbody>\n",
       "</table>\n",
       "</div>"
      ],
      "text/plain": [
       "                           Model  R2 Train   R2 Test\n",
       "0  Linear Regresssion (Baseline)  0.567670  0.551524\n",
       "1                Initial XGBoost  0.986061  0.910505\n",
       "2          Initial Random Forest  0.983250  0.883622"
      ]
     },
     "execution_count": 11,
     "metadata": {},
     "output_type": "execute_result"
    }
   ],
   "source": [
    "models = [lr, xgb_optuna_base, rf_optuna_base]\n",
    "\n",
    "rmse_initial_results = {\n",
    "    'Model' : ['Linear Regresssion (Baseline)', 'Initial XGBoost', 'Initial Random Forest'],\n",
    "    'R2 Train' : [f.evaluate_model(model.fit(**train_data), metric = 'r2', **train_data) for model in models],\n",
    "    'R2 Test' : [f.evaluate_model(model.fit(**train_data), metric = 'r2', **test_data) for model in models]\n",
    "    }\n",
    "initial_results = pd.DataFrame(rmse_initial_results)\n",
    "initial_results"
   ]
  },
  {
   "cell_type": "code",
   "execution_count": 12,
   "metadata": {},
   "outputs": [
    {
     "data": {
      "image/png": "[encoded data removed]",
      "text/plain": [
       "<Figure size 1080x576 with 1 Axes>"
      ]
     },
     "metadata": {
      "needs_background": "light"
     },
     "output_type": "display_data"
    }
   ],
   "source": [
    "fig, ax = plt.subplots(1, 1, figsize = (15, 8))\n",
    "\n",
    "melt_data = initial_results.melt(id_vars = 'Model')\n",
    "\n",
    "sns.barplot(\n",
    "    ax = ax,\n",
    "    data = melt_data,\n",
    "    x = 'Model',\n",
    "    y = 'value',\n",
    "    hue = 'variable').set(title = 'Bar Chart of R2 Scores of Train and Test Data')\n",
    "\n",
    "plt.ylabel('R2 Score')\n",
    "plt.legend()\n",
    "plt.savefig(p.OUTPUTS_PATH + 'initial_models.png')\n",
    "plt.show()"
   ]
  },
  {
   "cell_type": "markdown",
   "metadata": {},
   "source": [
    "1. The Linear Regression model does show a reasonable performance and, since we cannot tune it, will provide a good baseline to compare our initial results against.\n",
    "\n",
    "1. We can see that the XGBoost model does seem to have the best performance currently with R2 scores of 0.986061 and 0.910505 from train and test respectively. However, the RandomForest model does show similar R2, albeit slightly lower. Since these are the two models that are more open to extensive tuning, initial results show that the most appropriate model will be one of these. Comparing these models to our baseline, we can see that we have already got more value out changing the model before tuning."
   ]
  },
  {
   "cell_type": "markdown",
   "metadata": {},
   "source": [
    "### Model Tuning - Optuna"
   ]
  },
  {
   "cell_type": "markdown",
   "metadata": {},
   "source": [
    "We will be using the optuna framework to train our models due to the improved performance on sklearn's `RandomizedSearchCV` and the nice structure optuna brings.\n",
    "\n",
    "1. We start with the XGBoost tuning, breaking it down into three sections: Tree-based parameters, Regularization Parameters and Learning Rate. We will use a separate optuna study for each section to effectively tune the model and avoid over fitting. Tree-based parameters include `max_depth`, `min_child_weight`, `n_estimators`, `subsample`, `gamma` and `colsample_by_tree`; Regularization parameters include `alpha` and `lambda` to focus on over fitting control; and the final section just looks at finding the optimal `learning_rate` based on the other optimal parameters.\n",
    "\n",
    "1. Since all the RandomForest parameters fall into the same category, we can use a single optuna study to tune this model. The parameters that we will be tuning are the following: `max_depth`, `max_features`, `n_estimators`, `bootstrap`, `min_samples_leaf` and `min_samples_split`.\n",
    "\n",
    "1. The final model to tune is the Naive Bayes model which only requires tuning of `var_smoothing` which helps control over fitting."
   ]
  },
  {
   "cell_type": "code",
   "execution_count": 13,
   "metadata": {},
   "outputs": [],
   "source": [
    "sampler = TPESampler(seed = p.RANDOM_STATE)"
   ]
  },
  {
   "cell_type": "markdown",
   "metadata": {},
   "source": [
    "### XGB Tuning"
   ]
  },
  {
   "cell_type": "code",
   "execution_count": 14,
   "metadata": {},
   "outputs": [],
   "source": [
    "# xgb_optuna_base = XGBRegressor(**base_params, max_depth = 3, learning_rate = 0.01)\n",
    "xgb_optuna_base = XGBRegressor(**base_params)"
   ]
  },
  {
   "cell_type": "code",
   "execution_count": 15,
   "metadata": {},
   "outputs": [
    {
     "name": "stderr",
     "output_type": "stream",
     "text": [
      "\u001b[32m[I 2022-04-17 12:24:29,946]\u001b[0m A new study created in memory with name: XGB_HyperParam_CV\u001b[0m\n",
      "/var/folders/2f/cwgmhyzx4fn5cwp5j_dpmsd00000gn/T/ipykernel_82761/4286368788.py:15: ExperimentalWarning: OptunaSearchCV is experimental (supported from v0.17.0). The interface can change in the future.\n",
      "  xgb_oscv = OptunaSearchCV(\n",
      "\u001b[32m[I 2022-04-17 12:24:29,955]\u001b[0m Searching the best hyperparameters using 5083 samples...\u001b[0m\n",
      "\u001b[32m[I 2022-04-17 12:33:56,917]\u001b[0m Trial 0 finished with value: 0.47727483354604894 and parameters: {'max_depth': 5, 'learning_rate': 0.03, 'min_child_weight': 9, 'n_estimators': 67, 'subsample': 0.28597737602408035, 'gamma': 8.032007880256426, 'colsample_bytree': 0.18296714499432493, 'reg_lambda': 0.6800649514156517, 'reg_alpha': 0.03540807447183764}. Best is trial 0 with value: 0.47727483354604894.\u001b[0m\n",
      "\u001b[32m[I 2022-04-17 12:42:19,288]\u001b[0m Trial 5 finished with value: 0.7955679655932874 and parameters: {'max_depth': 2, 'learning_rate': 0.03, 'min_child_weight': 9, 'n_estimators': 287, 'subsample': 0.19281878838698566, 'gamma': 1.5037904232561594, 'colsample_bytree': 0.7801682135389737, 'reg_lambda': 2.366123803922429, 'reg_alpha': 0.13595708710546603}. Best is trial 5 with value: 0.7955679655932874.\u001b[0m\n",
      "\u001b[32m[I 2022-04-17 13:45:12,168]\u001b[0m Trial 8 finished with value: 0.8569977416341464 and parameters: {'max_depth': 3, 'learning_rate': 0.03, 'min_child_weight': 7, 'n_estimators': 339, 'subsample': 0.33029175985086573, 'gamma': 3.0245071626815734, 'colsample_bytree': 0.975825523651683, 'reg_lambda': 0.015534297173891968, 'reg_alpha': 0.33212807400481903}. Best is trial 8 with value: 0.8569977416341464.\u001b[0m\n",
      "\u001b[32m[I 2022-04-17 13:45:24,074]\u001b[0m Trial 3 finished with value: 0.7766438142084142 and parameters: {'max_depth': 2, 'learning_rate': 0.01, 'min_child_weight': 6, 'n_estimators': 749, 'subsample': 0.472180350761116, 'gamma': 0.7562313051951715, 'colsample_bytree': 0.668459334779269, 'reg_lambda': 9.263369574950609, 'reg_alpha': 2.8179502815226734}. Best is trial 8 with value: 0.8569977416341464.\u001b[0m\n",
      "\u001b[32m[I 2022-04-17 14:02:25,684]\u001b[0m Trial 1 finished with value: 0.8832415595769108 and parameters: {'max_depth': 3, 'learning_rate': 0.1, 'min_child_weight': 5, 'n_estimators': 635, 'subsample': 0.9333565811733708, 'gamma': 0.02259654855295797, 'colsample_bytree': 0.9506997837670826, 'reg_lambda': 0.24463554380288638, 'reg_alpha': 0.04948524661765664}. Best is trial 1 with value: 0.8832415595769108.\u001b[0m\n",
      "\u001b[32m[I 2022-04-17 14:02:52,066]\u001b[0m Trial 2 finished with value: 0.8746506618051384 and parameters: {'max_depth': 3, 'learning_rate': 0.1, 'min_child_weight': 7, 'n_estimators': 733, 'subsample': 0.25200153246866597, 'gamma': 0.8042264165438304, 'colsample_bytree': 0.583075519577882, 'reg_lambda': 0.06654085547737175, 'reg_alpha': 0.14443125739027735}. Best is trial 1 with value: 0.8832415595769108.\u001b[0m\n",
      "\u001b[32m[I 2022-04-17 14:03:11,433]\u001b[0m Trial 12 finished with value: 0.8228926529593948 and parameters: {'max_depth': 5, 'learning_rate': 0.1, 'min_child_weight': 7, 'n_estimators': 98, 'subsample': 0.34607599140044293, 'gamma': 1.4629507710646164, 'colsample_bytree': 0.2609193844917418, 'reg_lambda': 0.20477545133834021, 'reg_alpha': 0.9816966728019452}. Best is trial 1 with value: 0.8832415595769108.\u001b[0m\n",
      "\u001b[32m[I 2022-04-17 14:03:23,407]\u001b[0m Trial 4 finished with value: 0.857671174079298 and parameters: {'max_depth': 3, 'learning_rate': 0.1, 'min_child_weight': 9, 'n_estimators': 918, 'subsample': 0.22720791867310472, 'gamma': 7.085921769174465, 'colsample_bytree': 0.2278166736399974, 'reg_lambda': 0.37136737017504945, 'reg_alpha': 8.407304018459044}. Best is trial 1 with value: 0.8832415595769108.\u001b[0m\n",
      "\u001b[32m[I 2022-04-17 14:19:12,287]\u001b[0m Trial 11 finished with value: 0.8492970864454519 and parameters: {'max_depth': 4, 'learning_rate': 0.03, 'min_child_weight': 10, 'n_estimators': 269, 'subsample': 0.5503359846941008, 'gamma': 0.07062966030699339, 'colsample_bytree': 0.4418852435239452, 'reg_lambda': 5.853225531993987, 'reg_alpha': 0.10681562098959536}. Best is trial 1 with value: 0.8832415595769108.\u001b[0m\n",
      "\u001b[32m[I 2022-04-17 14:19:12,941]\u001b[0m Trial 9 finished with value: 0.890331220952454 and parameters: {'max_depth': 4, 'learning_rate': 0.1, 'min_child_weight': 8, 'n_estimators': 485, 'subsample': 0.5480985854619821, 'gamma': 7.581483975589376, 'colsample_bytree': 0.7676208703357098, 'reg_lambda': 0.28441420379353166, 'reg_alpha': 0.024677959455498978}. Best is trial 9 with value: 0.890331220952454.\u001b[0m\n",
      "\u001b[32m[I 2022-04-17 14:36:18,658]\u001b[0m Trial 6 finished with value: 0.8506779022777762 and parameters: {'max_depth': 4, 'learning_rate': 0.3, 'min_child_weight': 6, 'n_estimators': 966, 'subsample': 0.4038410677579203, 'gamma': 0.506952604198692, 'colsample_bytree': 0.2132538953433452, 'reg_lambda': 3.8815706447924465, 'reg_alpha': 0.19609829330496786}. Best is trial 9 with value: 0.890331220952454.\u001b[0m\n",
      "\u001b[32m[I 2022-04-17 14:37:20,266]\u001b[0m Trial 17 finished with value: 0.8861041004352208 and parameters: {'max_depth': 4, 'learning_rate': 0.3, 'min_child_weight': 8, 'n_estimators': 481, 'subsample': 0.7698891782823315, 'gamma': 0.1690657004522185, 'colsample_bytree': 0.7823581423369796, 'reg_lambda': 0.033902410881105786, 'reg_alpha': 0.010073848625081488}. Best is trial 9 with value: 0.890331220952454.\u001b[0m\n",
      "\u001b[32m[I 2022-04-17 14:37:21,777]\u001b[0m Trial 14 finished with value: 0.8636202571450827 and parameters: {'max_depth': 3, 'learning_rate': 0.1, 'min_child_weight': 5, 'n_estimators': 758, 'subsample': 0.12410301730326156, 'gamma': 4.971852562441805, 'colsample_bytree': 0.5799047815141013, 'reg_lambda': 0.5386008239745997, 'reg_alpha': 0.11509883495948495}. Best is trial 9 with value: 0.890331220952454.\u001b[0m\n",
      "\u001b[32m[I 2022-04-17 14:52:41,157]\u001b[0m Trial 13 finished with value: 0.844150842008592 and parameters: {'max_depth': 3, 'learning_rate': 0.01, 'min_child_weight': 6, 'n_estimators': 871, 'subsample': 0.6850746322499022, 'gamma': 2.0113845570598716, 'colsample_bytree': 0.7094180884081517, 'reg_lambda': 1.3110641804576488, 'reg_alpha': 0.36883944014663517}. Best is trial 9 with value: 0.890331220952454.\u001b[0m\n",
      "\u001b[32m[I 2022-04-17 14:52:58,240]\u001b[0m Trial 7 finished with value: 0.7726552064040655 and parameters: {'max_depth': 5, 'learning_rate': 0.3, 'min_child_weight': 9, 'n_estimators': 964, 'subsample': 0.16897438586751418, 'gamma': 1.1314803065989272, 'colsample_bytree': 0.9243725153422704, 'reg_lambda': 1.1497312533887223, 'reg_alpha': 0.08690460192228551}. Best is trial 9 with value: 0.890331220952454.\u001b[0m\n",
      "\u001b[32m[I 2022-04-17 14:53:19,761]\u001b[0m Trial 15 finished with value: 0.7031503401841451 and parameters: {'max_depth': 5, 'learning_rate': 0.3, 'min_child_weight': 5, 'n_estimators': 550, 'subsample': 0.14461879340608907, 'gamma': 4.295898346804767, 'colsample_bytree': 0.7821439866990499, 'reg_lambda': 0.07414395858451968, 'reg_alpha': 0.020427760415267126}. Best is trial 9 with value: 0.890331220952454.\u001b[0m\n",
      "\u001b[32m[I 2022-04-17 14:53:26,803]\u001b[0m Trial 10 finished with value: 0.7978506368531979 and parameters: {'max_depth': 5, 'learning_rate': 0.01, 'min_child_weight': 6, 'n_estimators': 894, 'subsample': 0.7382392024919774, 'gamma': 0.747862102058586, 'colsample_bytree': 0.2033122076653427, 'reg_lambda': 1.0184932921994208, 'reg_alpha': 0.1700240566133417}. Best is trial 9 with value: 0.890331220952454.\u001b[0m\n",
      "\u001b[32m[I 2022-04-17 14:53:41,546]\u001b[0m Trial 16 finished with value: 0.8881429347738232 and parameters: {'max_depth': 4, 'learning_rate': 0.1, 'min_child_weight': 9, 'n_estimators': 812, 'subsample': 0.5354240461506818, 'gamma': 0.7816075663796006, 'colsample_bytree': 0.5091023576278131, 'reg_lambda': 1.5444325147861826, 'reg_alpha': 0.2933237458383083}. Best is trial 9 with value: 0.890331220952454.\u001b[0m\n",
      "\u001b[32m[I 2022-04-17 14:53:45,042]\u001b[0m Trial 18 finished with value: 0.8918455125423155 and parameters: {'max_depth': 4, 'learning_rate': 0.1, 'min_child_weight': 5, 'n_estimators': 546, 'subsample': 0.8264442391369028, 'gamma': 0.010921832078306697, 'colsample_bytree': 0.9671878062648123, 'reg_lambda': 0.10362858986026682, 'reg_alpha': 0.011329897819534794}. Best is trial 18 with value: 0.8918455125423155.\u001b[0m\n",
      "\u001b[32m[I 2022-04-17 14:58:44,818]\u001b[0m Trial 19 finished with value: 0.8831168197566222 and parameters: {'max_depth': 4, 'learning_rate': 0.3, 'min_child_weight': 8, 'n_estimators': 474, 'subsample': 0.6997144894966697, 'gamma': 0.06963661126554523, 'colsample_bytree': 0.7946729153941874, 'reg_lambda': 0.010933474608416878, 'reg_alpha': 0.010474055869350967}. Best is trial 18 with value: 0.8918455125423155.\u001b[0m\n",
      "\u001b[32m[I 2022-04-17 14:58:46,718]\u001b[0m Trial 20 finished with value: 0.8841310860395989 and parameters: {'max_depth': 4, 'learning_rate': 0.3, 'min_child_weight': 8, 'n_estimators': 473, 'subsample': 0.708661875439065, 'gamma': 0.15748812745032087, 'colsample_bytree': 0.8054474589661575, 'reg_lambda': 0.017509357609185573, 'reg_alpha': 0.011428334078177883}. Best is trial 18 with value: 0.8918455125423155.\u001b[0m\n",
      "\u001b[32m[I 2022-04-17 14:58:58,044]\u001b[0m Trial 21 finished with value: 0.8860253256327211 and parameters: {'max_depth': 4, 'learning_rate': 0.3, 'min_child_weight': 8, 'n_estimators': 487, 'subsample': 0.7661822872859798, 'gamma': 0.16273929574911555, 'colsample_bytree': 0.8243554357189645, 'reg_lambda': 0.04504309894381117, 'reg_alpha': 0.013877828136286468}. Best is trial 18 with value: 0.8918455125423155.\u001b[0m\n",
      "\u001b[32m[I 2022-04-17 14:59:13,967]\u001b[0m Trial 22 finished with value: 0.8853999184803509 and parameters: {'max_depth': 4, 'learning_rate': 0.3, 'min_child_weight': 8, 'n_estimators': 480, 'subsample': 0.7564621779354752, 'gamma': 0.2058546264477326, 'colsample_bytree': 0.8267323430120666, 'reg_lambda': 0.050394512670279626, 'reg_alpha': 0.01213624641849352}. Best is trial 18 with value: 0.8918455125423155.\u001b[0m\n",
      "\u001b[32m[I 2022-04-17 14:59:19,410]\u001b[0m Trial 23 finished with value: 0.8745376577491044 and parameters: {'max_depth': 4, 'learning_rate': 0.3, 'min_child_weight': 8, 'n_estimators': 431, 'subsample': 0.7425056439642539, 'gamma': 0.18605686227992058, 'colsample_bytree': 0.4571888320220032, 'reg_lambda': 0.016042495271585598, 'reg_alpha': 0.01068600258989653}. Best is trial 18 with value: 0.8918455125423155.\u001b[0m\n",
      "\u001b[32m[I 2022-04-17 15:15:24,325]\u001b[0m Trial 24 finished with value: 0.8746935312477419 and parameters: {'max_depth': 4, 'learning_rate': 0.3, 'min_child_weight': 8, 'n_estimators': 434, 'subsample': 0.8544960242298785, 'gamma': 0.1942396809988893, 'colsample_bytree': 0.43087843525398917, 'reg_lambda': 0.017949383710078422, 'reg_alpha': 0.010281704538907714}. Best is trial 18 with value: 0.8918455125423155.\u001b[0m\n",
      "\u001b[32m[I 2022-04-17 15:15:42,622]\u001b[0m Trial 25 finished with value: 0.8808981276289354 and parameters: {'max_depth': 4, 'learning_rate': 0.1, 'min_child_weight': 10, 'n_estimators': 447, 'subsample': 0.5859814474541395, 'gamma': 0.12590942808351654, 'colsample_bytree': 0.4059182072705958, 'reg_lambda': 0.15350404011300842, 'reg_alpha': 0.865916943003615}. Best is trial 18 with value: 0.8918455125423155.\u001b[0m\n",
      "\u001b[32m[I 2022-04-17 15:15:46,631]\u001b[0m Trial 26 finished with value: 0.8908747997238722 and parameters: {'max_depth': 4, 'learning_rate': 0.1, 'min_child_weight': 10, 'n_estimators': 431, 'subsample': 0.988509677204951, 'gamma': 0.010799609231164482, 'colsample_bytree': 0.8722704622866125, 'reg_lambda': 0.13045547527988405, 'reg_alpha': 0.010289677283790878}. Best is trial 18 with value: 0.8918455125423155.\u001b[0m\n",
      "\u001b[32m[I 2022-04-17 15:16:08,781]\u001b[0m Trial 27 finished with value: 0.8912445852622588 and parameters: {'max_depth': 4, 'learning_rate': 0.1, 'min_child_weight': 8, 'n_estimators': 374, 'subsample': 0.9523419104975899, 'gamma': 0.01936825735178872, 'colsample_bytree': 0.8739099501147207, 'reg_lambda': 0.11144862416499482, 'reg_alpha': 0.019393463146501828}. Best is trial 18 with value: 0.8918455125423155.\u001b[0m\n",
      "\u001b[32m[I 2022-04-17 15:34:06,967]\u001b[0m Trial 34 finished with value: 0.8556880813857253 and parameters: {'max_depth': 2, 'learning_rate': 0.1, 'min_child_weight': 10, 'n_estimators': 573, 'subsample': 0.964927683624962, 'gamma': 0.010408132546021394, 'colsample_bytree': 0.9114168851037279, 'reg_lambda': 0.12103537825793237, 'reg_alpha': 0.029525247978440167}. Best is trial 18 with value: 0.8918455125423155.\u001b[0m\n",
      "\u001b[32m[I 2022-04-17 15:34:10,953]\u001b[0m Trial 33 finished with value: 0.8595509758954307 and parameters: {'max_depth': 2, 'learning_rate': 0.1, 'min_child_weight': 10, 'n_estimators': 633, 'subsample': 0.613217073325414, 'gamma': 0.020246101013577187, 'colsample_bytree': 0.8846945091169688, 'reg_lambda': 0.13290619202724804, 'reg_alpha': 0.032024726634331785}. Best is trial 18 with value: 0.8918455125423155.\u001b[0m\n",
      "\u001b[32m[I 2022-04-17 15:34:16,196]\u001b[0m Trial 28 finished with value: 0.884922917803509 and parameters: {'max_depth': 4, 'learning_rate': 0.1, 'min_child_weight': 10, 'n_estimators': 611, 'subsample': 0.5926482022013281, 'gamma': 0.020658122688520592, 'colsample_bytree': 0.4294890056852362, 'reg_lambda': 0.1274039744739205, 'reg_alpha': 0.023910265237174096}. Best is trial 18 with value: 0.8918455125423155.\u001b[0m\n",
      "\u001b[32m[I 2022-04-17 15:34:24,746]\u001b[0m Trial 29 finished with value: 0.883860115023045 and parameters: {'max_depth': 4, 'learning_rate': 0.1, 'min_child_weight': 10, 'n_estimators': 611, 'subsample': 0.588676788653857, 'gamma': 0.014935931028136966, 'colsample_bytree': 0.3974619663330653, 'reg_lambda': 0.17627736198074936, 'reg_alpha': 0.031959877469872076}. Best is trial 18 with value: 0.8918455125423155.\u001b[0m\n",
      "\u001b[32m[I 2022-04-17 15:34:35,602]\u001b[0m Trial 35 finished with value: 0.8559611141489846 and parameters: {'max_depth': 2, 'learning_rate': 0.1, 'min_child_weight': 10, 'n_estimators': 631, 'subsample': 0.9967145471866833, 'gamma': 0.011340508347170136, 'colsample_bytree': 0.8729346630097515, 'reg_lambda': 0.12442499783447131, 'reg_alpha': 0.055105847068088076}. Best is trial 18 with value: 0.8918455125423155.\u001b[0m\n",
      "\u001b[32m[I 2022-04-17 15:34:37,252]\u001b[0m Trial 37 finished with value: 0.7234051422276903 and parameters: {'max_depth': 4, 'learning_rate': 0.1, 'min_child_weight': 7, 'n_estimators': 151, 'subsample': 0.8823418356714503, 'gamma': 0.011613633569380798, 'colsample_bytree': 0.11045645731593778, 'reg_lambda': 0.09045304295299557, 'reg_alpha': 0.05215254407603785}. Best is trial 18 with value: 0.8918455125423155.\u001b[0m\n",
      "\u001b[32m[I 2022-04-17 15:34:38,969]\u001b[0m Trial 36 finished with value: 0.8823869554435422 and parameters: {'max_depth': 4, 'learning_rate': 0.1, 'min_child_weight': 10, 'n_estimators': 146, 'subsample': 0.8821391773643213, 'gamma': 0.01018426149921159, 'colsample_bytree': 0.8732378320075411, 'reg_lambda': 0.10406947802561503, 'reg_alpha': 0.0548338774975445}. Best is trial 18 with value: 0.8918455125423155.\u001b[0m\n",
      "\u001b[32m[I 2022-04-17 15:34:41,332]\u001b[0m Trial 30 finished with value: 0.8841729092012637 and parameters: {'max_depth': 4, 'learning_rate': 0.1, 'min_child_weight': 10, 'n_estimators': 623, 'subsample': 0.6061792878481511, 'gamma': 0.01282827479229793, 'colsample_bytree': 0.3969112334374687, 'reg_lambda': 0.13443715661161845, 'reg_alpha': 0.03334803437973532}. Best is trial 18 with value: 0.8918455125423155.\u001b[0m\n",
      "\u001b[32m[I 2022-04-17 15:34:45,458]\u001b[0m Trial 31 finished with value: 0.8841979167966564 and parameters: {'max_depth': 4, 'learning_rate': 0.1, 'min_child_weight': 10, 'n_estimators': 614, 'subsample': 0.5931057300850355, 'gamma': 0.010060971822155169, 'colsample_bytree': 0.38349589252044003, 'reg_lambda': 0.13633674885020922, 'reg_alpha': 0.03438306808119283}. Best is trial 18 with value: 0.8918455125423155.\u001b[0m\n",
      "\u001b[32m[I 2022-04-17 15:34:49,368]\u001b[0m Trial 32 finished with value: 0.882350516804884 and parameters: {'max_depth': 4, 'learning_rate': 0.1, 'min_child_weight': 10, 'n_estimators': 608, 'subsample': 0.5803992621002864, 'gamma': 0.041342886858852096, 'colsample_bytree': 0.33862981325929964, 'reg_lambda': 0.13368129150942484, 'reg_alpha': 0.02872472453597066}. Best is trial 18 with value: 0.8918455125423155.\u001b[0m\n",
      "\u001b[32m[I 2022-04-17 15:51:48,253]\u001b[0m Trial 38 finished with value: 0.8904171347850781 and parameters: {'max_depth': 4, 'learning_rate': 0.1, 'min_child_weight': 7, 'n_estimators': 371, 'subsample': 0.8776239222626174, 'gamma': 0.010956694904135136, 'colsample_bytree': 0.8727261447642748, 'reg_lambda': 0.42204953721637134, 'reg_alpha': 0.0419760884333439}. Best is trial 18 with value: 0.8918455125423155.\u001b[0m\n",
      "\u001b[32m[I 2022-04-17 15:52:03,318]\u001b[0m Trial 39 finished with value: 0.8913174353706086 and parameters: {'max_depth': 4, 'learning_rate': 0.1, 'min_child_weight': 7, 'n_estimators': 378, 'subsample': 0.8897066604639089, 'gamma': 0.0332612305422617, 'colsample_bytree': 0.9961071353871478, 'reg_lambda': 0.32820853376570935, 'reg_alpha': 0.05511255593550682}. Best is trial 18 with value: 0.8918455125423155.\u001b[0m\n",
      "\u001b[32m[I 2022-04-17 15:52:15,222]\u001b[0m Trial 43 finished with value: 0.889554701752375 and parameters: {'max_depth': 4, 'learning_rate': 0.1, 'min_child_weight': 9, 'n_estimators': 356, 'subsample': 0.8187454609842392, 'gamma': 0.03604382170116102, 'colsample_bytree': 0.6984656051711902, 'reg_lambda': 0.29477609454545267, 'reg_alpha': 0.017855085783769438}. Best is trial 18 with value: 0.8918455125423155.\u001b[0m\n",
      "\u001b[32m[I 2022-04-17 15:52:17,780]\u001b[0m Trial 40 finished with value: 0.8898710728924302 and parameters: {'max_depth': 4, 'learning_rate': 0.1, 'min_child_weight': 7, 'n_estimators': 394, 'subsample': 0.894369709605591, 'gamma': 0.032224385221323495, 'colsample_bytree': 0.710108277826832, 'reg_lambda': 0.2749078412002454, 'reg_alpha': 0.0510149309406279}. Best is trial 18 with value: 0.8918455125423155.\u001b[0m\n",
      "\u001b[32m[I 2022-04-17 15:52:18,191]\u001b[0m Trial 42 finished with value: 0.8915702295256253 and parameters: {'max_depth': 4, 'learning_rate': 0.1, 'min_child_weight': 9, 'n_estimators': 373, 'subsample': 0.8328182700407056, 'gamma': 0.03352961198997665, 'colsample_bytree': 0.9883320409015777, 'reg_lambda': 0.45399701138885734, 'reg_alpha': 0.01807410744109226}. Best is trial 18 with value: 0.8918455125423155.\u001b[0m\n",
      "\u001b[32m[I 2022-04-17 15:52:20,025]\u001b[0m Trial 41 finished with value: 0.8898346805366779 and parameters: {'max_depth': 4, 'learning_rate': 0.1, 'min_child_weight': 7, 'n_estimators': 388, 'subsample': 0.907670822580842, 'gamma': 0.039152000813160205, 'colsample_bytree': 0.9934875417278164, 'reg_lambda': 0.3035109504472567, 'reg_alpha': 0.020339060396979556}. Best is trial 18 with value: 0.8918455125423155.\u001b[0m\n",
      "\u001b[32m[I 2022-04-17 15:52:25,409]\u001b[0m Trial 44 finished with value: 0.8358166888803465 and parameters: {'max_depth': 4, 'learning_rate': 0.01, 'min_child_weight': 9, 'n_estimators': 365, 'subsample': 0.825317808155626, 'gamma': 0.037297977279222495, 'colsample_bytree': 0.9949113604618621, 'reg_lambda': 0.31585026476302475, 'reg_alpha': 0.016452959163086773}. Best is trial 18 with value: 0.8918455125423155.\u001b[0m\n",
      "\u001b[32m[I 2022-04-17 16:07:41,288]\u001b[0m Trial 45 finished with value: 0.8354115387421924 and parameters: {'max_depth': 4, 'learning_rate': 0.01, 'min_child_weight': 9, 'n_estimators': 370, 'subsample': 0.8188407064364183, 'gamma': 0.03264749034892783, 'colsample_bytree': 0.7257669111086694, 'reg_lambda': 0.30410513525749705, 'reg_alpha': 0.0167709879415097}. Best is trial 18 with value: 0.8918455125423155.\u001b[0m\n",
      "\u001b[32m[I 2022-04-17 16:08:03,989]\u001b[0m Trial 47 finished with value: 0.838184524350077 and parameters: {'max_depth': 3, 'learning_rate': 0.03, 'min_child_weight': 5, 'n_estimators': 248, 'subsample': 0.8137886046765405, 'gamma': 0.03604494734091284, 'colsample_bytree': 0.9947811806659566, 'reg_lambda': 0.27949569013752235, 'reg_alpha': 0.01864937240519527}. Best is trial 18 with value: 0.8918455125423155.\u001b[0m\n",
      "\u001b[32m[I 2022-04-17 16:08:27,230]\u001b[0m Trial 51 finished with value: 0.8406580751843563 and parameters: {'max_depth': 3, 'learning_rate': 0.03, 'min_child_weight': 9, 'n_estimators': 277, 'subsample': 0.9465926330403074, 'gamma': 0.06088786301948709, 'colsample_bytree': 0.9509815394333198, 'reg_lambda': 0.737159637933628, 'reg_alpha': 0.016389893538295543}. Best is trial 18 with value: 0.8918455125423155.\u001b[0m\n",
      "\u001b[32m[I 2022-04-17 16:08:29,549]\u001b[0m Trial 50 finished with value: 0.8440330676182114 and parameters: {'max_depth': 3, 'learning_rate': 0.03, 'min_child_weight': 9, 'n_estimators': 298, 'subsample': 0.9359471437463357, 'gamma': 0.0548435684625396, 'colsample_bytree': 0.9920524312082677, 'reg_lambda': 0.7098760195799424, 'reg_alpha': 0.016549489478199057}. Best is trial 18 with value: 0.8918455125423155.\u001b[0m\n",
      "\u001b[32m[I 2022-04-17 16:08:34,761]\u001b[0m Trial 46 finished with value: 0.8295130952327441 and parameters: {'max_depth': 4, 'learning_rate': 0.01, 'min_child_weight': 5, 'n_estimators': 337, 'subsample': 0.83233778204157, 'gamma': 0.03221398695781037, 'colsample_bytree': 0.9995725487669329, 'reg_lambda': 0.5844439625654361, 'reg_alpha': 0.01640168195131329}. Best is trial 18 with value: 0.8918455125423155.\u001b[0m\n",
      "\u001b[32m[I 2022-04-17 16:08:38,842]\u001b[0m Trial 52 finished with value: 0.8451800874278396 and parameters: {'max_depth': 3, 'learning_rate': 0.03, 'min_child_weight': 9, 'n_estimators': 312, 'subsample': 0.9504685299504975, 'gamma': 0.058732402623391695, 'colsample_bytree': 0.9471841679081423, 'reg_lambda': 0.6057594008116599, 'reg_alpha': 0.07379182729230718}. Best is trial 18 with value: 0.8918455125423155.\u001b[0m\n",
      "\u001b[32m[I 2022-04-17 16:08:39,412]\u001b[0m Trial 53 finished with value: 0.8426458839828712 and parameters: {'max_depth': 3, 'learning_rate': 0.03, 'min_child_weight': 5, 'n_estimators': 289, 'subsample': 0.9466725598590234, 'gamma': 0.061614870932135725, 'colsample_bytree': 0.9332749605017345, 'reg_lambda': 0.6961940041482049, 'reg_alpha': 0.07651845454570265}. Best is trial 18 with value: 0.8918455125423155.\u001b[0m\n",
      "\u001b[32m[I 2022-04-17 16:08:41,674]\u001b[0m Trial 49 finished with value: 0.7993401488668992 and parameters: {'max_depth': 4, 'learning_rate': 0.01, 'min_child_weight': 6, 'n_estimators': 259, 'subsample': 0.9402055484146957, 'gamma': 0.026517694663647274, 'colsample_bytree': 0.9891155757965345, 'reg_lambda': 0.5150536141654554, 'reg_alpha': 0.016742213729209733}. Best is trial 18 with value: 0.8918455125423155.\u001b[0m\n",
      "\u001b[32m[I 2022-04-17 16:24:28,821]\u001b[0m Trial 57 finished with value: 0.8320465861510824 and parameters: {'max_depth': 2, 'learning_rate': 0.1, 'min_child_weight': 6, 'n_estimators': 214, 'subsample': 0.9843887408573834, 'gamma': 0.019066941951192958, 'colsample_bytree': 0.9355075187558044, 'reg_lambda': 0.45197649801863, 'reg_alpha': 0.06747723204503045}. Best is trial 18 with value: 0.8918455125423155.\u001b[0m\n",
      "\u001b[32m[I 2022-04-17 16:24:35,767]\u001b[0m Trial 48 finished with value: 0.8344420319828629 and parameters: {'max_depth': 4, 'learning_rate': 0.01, 'min_child_weight': 7, 'n_estimators': 370, 'subsample': 0.9423382480912825, 'gamma': 0.030548411553004712, 'colsample_bytree': 0.9938031343733122, 'reg_lambda': 0.42476630496932344, 'reg_alpha': 0.017848327881731206}. Best is trial 18 with value: 0.8918455125423155.\u001b[0m\n",
      "\u001b[32m[I 2022-04-17 16:25:10,266]\u001b[0m Trial 56 finished with value: 0.8941505293398079 and parameters: {'max_depth': 5, 'learning_rate': 0.1, 'min_child_weight': 6, 'n_estimators': 216, 'subsample': 0.9855112338296218, 'gamma': 0.01835390996741373, 'colsample_bytree': 0.9381764919397823, 'reg_lambda': 0.4964320237866658, 'reg_alpha': 0.0695276472727946}. Best is trial 56 with value: 0.8941505293398079.\u001b[0m\n",
      "\u001b[32m[I 2022-04-17 16:25:20,338]\u001b[0m Trial 59 finished with value: 0.8945598124720094 and parameters: {'max_depth': 5, 'learning_rate': 0.1, 'min_child_weight': 6, 'n_estimators': 220, 'subsample': 0.9968226007626547, 'gamma': 0.016426923858189467, 'colsample_bytree': 0.9060636075011068, 'reg_lambda': 0.19757456818597893, 'reg_alpha': 0.04347210494410244}. Best is trial 59 with value: 0.8945598124720094.\u001b[0m\n",
      "\u001b[32m[I 2022-04-17 16:25:20,946]\u001b[0m Trial 54 finished with value: 0.88564480757954 and parameters: {'max_depth': 5, 'learning_rate': 0.03, 'min_child_weight': 6, 'n_estimators': 310, 'subsample': 0.9439765258323276, 'gamma': 0.06945511150240909, 'colsample_bytree': 0.932349951577662, 'reg_lambda': 0.5932403667454825, 'reg_alpha': 0.07995468070086928}. Best is trial 59 with value: 0.8945598124720094.\u001b[0m\n",
      "\u001b[32m[I 2022-04-17 16:25:22,018]\u001b[0m Trial 60 finished with value: 0.8939169126188492 and parameters: {'max_depth': 5, 'learning_rate': 0.1, 'min_child_weight': 7, 'n_estimators': 220, 'subsample': 0.9904844537824479, 'gamma': 0.016225063706505876, 'colsample_bytree': 0.900852803148232, 'reg_lambda': 0.44614835721044016, 'reg_alpha': 0.04075670022536787}. Best is trial 59 with value: 0.8945598124720094.\u001b[0m\n",
      "\u001b[32m[I 2022-04-17 16:25:24,480]\u001b[0m Trial 58 finished with value: 0.89589767689666 and parameters: {'max_depth': 5, 'learning_rate': 0.1, 'min_child_weight': 6, 'n_estimators': 236, 'subsample': 0.9118010460529758, 'gamma': 0.016946077603309892, 'colsample_bytree': 0.9168572354670348, 'reg_lambda': 0.44225695310804636, 'reg_alpha': 7.289352317099125}. Best is trial 58 with value: 0.89589767689666.\u001b[0m\n",
      "\u001b[32m[I 2022-04-17 16:42:28,420]\u001b[0m Trial 66 finished with value: 0.891638623557205 and parameters: {'max_depth': 5, 'learning_rate': 0.1, 'min_child_weight': 6, 'n_estimators': 190, 'subsample': 0.45947957529798417, 'gamma': 0.01537888484946503, 'colsample_bytree': 0.8399373438339033, 'reg_lambda': 0.21748823089179628, 'reg_alpha': 9.943346972839596}. Best is trial 58 with value: 0.89589767689666.\u001b[0m\n",
      "\u001b[32m[I 2022-04-17 16:42:31,330]\u001b[0m Trial 67 finished with value: 0.8948822043124443 and parameters: {'max_depth': 5, 'learning_rate': 0.1, 'min_child_weight': 6, 'n_estimators': 189, 'subsample': 0.7878480988619645, 'gamma': 0.01571192761140191, 'colsample_bytree': 0.836870510162262, 'reg_lambda': 1.7003731302655416, 'reg_alpha': 3.944984120324401}. Best is trial 58 with value: 0.89589767689666.\u001b[0m\n",
      "\u001b[32m[I 2022-04-17 16:42:35,182]\u001b[0m Trial 64 finished with value: 0.8921397104918496 and parameters: {'max_depth': 5, 'learning_rate': 0.1, 'min_child_weight': 6, 'n_estimators': 221, 'subsample': 0.9075236054714382, 'gamma': 0.015754383158648168, 'colsample_bytree': 0.634425899579675, 'reg_lambda': 0.20632528641600054, 'reg_alpha': 0.10659702609049085}. Best is trial 58 with value: 0.89589767689666.\u001b[0m\n",
      "\u001b[32m[I 2022-04-17 16:42:50,432]\u001b[0m Trial 69 finished with value: 0.8769429698489951 and parameters: {'max_depth': 5, 'learning_rate': 0.1, 'min_child_weight': 6, 'n_estimators': 63, 'subsample': 0.48318425658989994, 'gamma': 0.015491323398637756, 'colsample_bytree': 0.8220428260105601, 'reg_lambda': 0.20198499312821705, 'reg_alpha': 9.69373037289487}. Best is trial 58 with value: 0.89589767689666.\u001b[0m\n",
      "\u001b[32m[I 2022-04-17 16:42:53,964]\u001b[0m Trial 70 finished with value: 0.8668263143108422 and parameters: {'max_depth': 5, 'learning_rate': 0.1, 'min_child_weight': 6, 'n_estimators': 62, 'subsample': 0.912623240277451, 'gamma': 0.01581963058328939, 'colsample_bytree': 0.6213100372381071, 'reg_lambda': 1.7948385647453413, 'reg_alpha': 5.661061848441314}. Best is trial 58 with value: 0.89589767689666.\u001b[0m\n",
      "\u001b[32m[I 2022-04-17 16:43:12,272]\u001b[0m Trial 61 finished with value: 0.8954205671061205 and parameters: {'max_depth': 5, 'learning_rate': 0.1, 'min_child_weight': 7, 'n_estimators': 529, 'subsample': 0.6542204664886315, 'gamma': 0.015084040412584612, 'colsample_bytree': 0.6314764904635423, 'reg_lambda': 0.06908620482860522, 'reg_alpha': 0.03898040460117607}. Best is trial 58 with value: 0.89589767689666.\u001b[0m\n",
      "\u001b[32m[I 2022-04-17 16:43:20,941]\u001b[0m Trial 62 finished with value: 0.8969601826703165 and parameters: {'max_depth': 5, 'learning_rate': 0.1, 'min_child_weight': 6, 'n_estimators': 522, 'subsample': 0.8595346758633834, 'gamma': 0.015203273356046527, 'colsample_bytree': 0.8954553457711459, 'reg_lambda': 0.20079280600745888, 'reg_alpha': 0.04149302207187171}. Best is trial 62 with value: 0.8969601826703165.\u001b[0m\n",
      "\u001b[32m[I 2022-04-17 16:43:21,979]\u001b[0m Trial 71 finished with value: 0.8821139264533292 and parameters: {'max_depth': 5, 'learning_rate': 0.1, 'min_child_weight': 6, 'n_estimators': 108, 'subsample': 0.7879936615500327, 'gamma': 0.4204446532519819, 'colsample_bytree': 0.6285537814295181, 'reg_lambda': 3.630914320991033, 'reg_alpha': 6.413006012096386}. Best is trial 62 with value: 0.8969601826703165.\u001b[0m\n",
      "\u001b[32m[I 2022-04-17 16:43:29,316]\u001b[0m Trial 72 finished with value: 0.8880872084065331 and parameters: {'max_depth': 5, 'learning_rate': 0.1, 'min_child_weight': 6, 'n_estimators': 119, 'subsample': 0.7913195888710182, 'gamma': 0.024459497672738945, 'colsample_bytree': 0.7456465820872158, 'reg_lambda': 3.12483891007012, 'reg_alpha': 3.3964505997476855}. Best is trial 62 with value: 0.8969601826703165.\u001b[0m\n",
      "\u001b[32m[I 2022-04-17 16:59:26,776]\u001b[0m Trial 55 finished with value: 0.8963729260356939 and parameters: {'max_depth': 5, 'learning_rate': 0.1, 'min_child_weight': 6, 'n_estimators': 686, 'subsample': 0.9999899392282461, 'gamma': 0.01771784429810639, 'colsample_bytree': 0.9459977542444807, 'reg_lambda': 0.6992378162907533, 'reg_alpha': 0.0800196291855976}. Best is trial 62 with value: 0.8969601826703165.\u001b[0m\n",
      "\u001b[32m[I 2022-04-17 16:59:26,936]\u001b[0m Trial 68 finished with value: 0.8924202840066078 and parameters: {'max_depth': 5, 'learning_rate': 0.1, 'min_child_weight': 6, 'n_estimators': 215, 'subsample': 0.4078697377860047, 'gamma': 0.015722313539644064, 'colsample_bytree': 0.8996022557506701, 'reg_lambda': 0.217605760404465, 'reg_alpha': 6.439044535687626}. Best is trial 62 with value: 0.8969601826703165.\u001b[0m\n",
      "\u001b[32m[I 2022-04-17 16:59:47,384]\u001b[0m Trial 73 finished with value: 0.8834457276242682 and parameters: {'max_depth': 5, 'learning_rate': 0.1, 'min_child_weight': 6, 'n_estimators': 108, 'subsample': 0.8580250476850318, 'gamma': 0.024481114768789777, 'colsample_bytree': 0.6579438878079991, 'reg_lambda': 0.8353404053840023, 'reg_alpha': 4.1233072542977665}. Best is trial 62 with value: 0.8969601826703165.\u001b[0m\n",
      "\u001b[32m[I 2022-04-17 17:00:03,258]\u001b[0m Trial 74 finished with value: 0.8907529830916566 and parameters: {'max_depth': 5, 'learning_rate': 0.1, 'min_child_weight': 6, 'n_estimators': 128, 'subsample': 0.7827536448629042, 'gamma': 0.024470960519772753, 'colsample_bytree': 0.9036180535909393, 'reg_lambda': 0.961697401189447, 'reg_alpha': 5.676460961950426}. Best is trial 62 with value: 0.8969601826703165.\u001b[0m\n",
      "\u001b[32m[I 2022-04-17 17:00:38,122]\u001b[0m Trial 63 finished with value: 0.8946170649743598 and parameters: {'max_depth': 5, 'learning_rate': 0.1, 'min_child_weight': 6, 'n_estimators': 699, 'subsample': 0.9984344227745832, 'gamma': 0.015617927223723257, 'colsample_bytree': 0.6373596236975214, 'reg_lambda': 0.20731566804299412, 'reg_alpha': 0.2160688793014658}. Best is trial 62 with value: 0.8969601826703165.\u001b[0m\n",
      "\u001b[32m[I 2022-04-17 17:00:52,309]\u001b[0m Trial 65 finished with value: 0.8971483340784314 and parameters: {'max_depth': 5, 'learning_rate': 0.1, 'min_child_weight': 6, 'n_estimators': 679, 'subsample': 0.6570761247392833, 'gamma': 0.015065971553551235, 'colsample_bytree': 0.8419354166727809, 'reg_lambda': 0.2019908356509564, 'reg_alpha': 0.10690208722316306}. Best is trial 65 with value: 0.8971483340784314.\u001b[0m\n",
      "\u001b[32m[I 2022-04-17 17:27:25,437]\u001b[0m Trial 77 finished with value: 0.8935936517105185 and parameters: {'max_depth': 5, 'learning_rate': 0.1, 'min_child_weight': 6, 'n_estimators': 672, 'subsample': 0.650657339297839, 'gamma': 0.09536391544316697, 'colsample_bytree': 0.526579831226499, 'reg_lambda': 0.9879381590076741, 'reg_alpha': 0.23080564004572038}. Best is trial 65 with value: 0.8971483340784314.\u001b[0m\n",
      "\u001b[32m[I 2022-04-17 17:27:33,153]\u001b[0m Trial 78 finished with value: 0.8938024198146474 and parameters: {'max_depth': 5, 'learning_rate': 0.1, 'min_child_weight': 6, 'n_estimators': 689, 'subsample': 0.6573786472529148, 'gamma': 0.02508461247828641, 'colsample_bytree': 0.5371238494867264, 'reg_lambda': 0.9580842969458637, 'reg_alpha': 0.1588183611441317}. Best is trial 65 with value: 0.8971483340784314.\u001b[0m\n",
      "\u001b[32m[I 2022-04-17 17:27:33,632]\u001b[0m Trial 75 finished with value: 0.8986889695161079 and parameters: {'max_depth': 5, 'learning_rate': 0.1, 'min_child_weight': 6, 'n_estimators': 691, 'subsample': 0.6531877021571784, 'gamma': 0.024692068908359576, 'colsample_bytree': 0.7653278565486719, 'reg_lambda': 1.0197252957152678, 'reg_alpha': 2.215968078764281}. Best is trial 75 with value: 0.8986889695161079.\u001b[0m\n",
      "\u001b[32m[I 2022-04-17 17:27:49,464]\u001b[0m Trial 76 finished with value: 0.8987039297060264 and parameters: {'max_depth': 5, 'learning_rate': 0.1, 'min_child_weight': 6, 'n_estimators': 686, 'subsample': 0.6465238246411033, 'gamma': 0.0896746972879163, 'colsample_bytree': 0.9116156078232024, 'reg_lambda': 1.0769873075175143, 'reg_alpha': 0.9440630299363847}. Best is trial 76 with value: 0.8987039297060264.\u001b[0m\n",
      "\u001b[32m[I 2022-04-17 17:28:10,304]\u001b[0m Trial 80 finished with value: 0.8983479613516053 and parameters: {'max_depth': 5, 'learning_rate': 0.1, 'min_child_weight': 7, 'n_estimators': 671, 'subsample': 0.977070133542883, 'gamma': 0.047501176963442304, 'colsample_bytree': 0.8337917910878918, 'reg_lambda': 1.2685030568773898, 'reg_alpha': 1.8873699937250084}. Best is trial 76 with value: 0.8987039297060264.\u001b[0m\n",
      "\u001b[32m[I 2022-04-17 17:28:12,150]\u001b[0m Trial 79 finished with value: 0.898745541133759 and parameters: {'max_depth': 5, 'learning_rate': 0.1, 'min_child_weight': 6, 'n_estimators': 708, 'subsample': 0.6389302130148375, 'gamma': 0.018927691934183023, 'colsample_bytree': 0.8501407751432419, 'reg_lambda': 0.9999825103321109, 'reg_alpha': 0.2400597260717848}. Best is trial 79 with value: 0.898745541133759.\u001b[0m\n",
      "\u001b[32m[I 2022-04-17 17:28:48,267]\u001b[0m Trial 81 finished with value: 0.8943319470414789 and parameters: {'max_depth': 5, 'learning_rate': 0.1, 'min_child_weight': 5, 'n_estimators': 690, 'subsample': 0.9732520088573249, 'gamma': 0.04809599365560378, 'colsample_bytree': 0.5116533539709127, 'reg_lambda': 1.8924430895276354, 'reg_alpha': 0.2220551990395246}. Best is trial 79 with value: 0.898745541133759.\u001b[0m\n",
      "\u001b[32m[I 2022-04-17 17:29:04,040]\u001b[0m Trial 82 finished with value: 0.8899538531250387 and parameters: {'max_depth': 5, 'learning_rate': 0.1, 'min_child_weight': 5, 'n_estimators': 686, 'subsample': 0.6364788377945485, 'gamma': 0.04790359458874809, 'colsample_bytree': 0.5243655010960068, 'reg_lambda': 0.06351234219539587, 'reg_alpha': 0.1805883534140198}. Best is trial 79 with value: 0.898745541133759.\u001b[0m\n",
      "\u001b[32m[I 2022-04-17 17:32:02,290]\u001b[0m Trial 83 finished with value: 0.9007163639819613 and parameters: {'max_depth': 5, 'learning_rate': 0.1, 'min_child_weight': 5, 'n_estimators': 780, 'subsample': 0.6695139262925309, 'gamma': 0.04726580416149403, 'colsample_bytree': 0.8471235680443144, 'reg_lambda': 5.942329711644473, 'reg_alpha': 0.6738663643593709}. Best is trial 83 with value: 0.9007163639819613.\u001b[0m\n",
      "\u001b[32m[I 2022-04-17 17:32:11,175]\u001b[0m Trial 84 finished with value: 0.8970960245145345 and parameters: {'max_depth': 5, 'learning_rate': 0.1, 'min_child_weight': 5, 'n_estimators': 804, 'subsample': 0.7009212865060692, 'gamma': 0.013030194855464014, 'colsample_bytree': 0.8416259977877483, 'reg_lambda': 0.07619476245643374, 'reg_alpha': 0.4863367748328688}. Best is trial 83 with value: 0.9007163639819613.\u001b[0m\n",
      "\u001b[32m[I 2022-04-17 17:32:13,695]\u001b[0m Trial 86 finished with value: 0.8991522549376313 and parameters: {'max_depth': 5, 'learning_rate': 0.1, 'min_child_weight': 5, 'n_estimators': 772, 'subsample': 0.7199415359205459, 'gamma': 0.04507060004274007, 'colsample_bytree': 0.8362205321983832, 'reg_lambda': 1.356187114526211, 'reg_alpha': 1.7269528666673275}. Best is trial 83 with value: 0.9007163639819613.\u001b[0m\n",
      "\u001b[32m[I 2022-04-17 17:32:19,696]\u001b[0m Trial 85 finished with value: 0.8994618207597537 and parameters: {'max_depth': 5, 'learning_rate': 0.1, 'min_child_weight': 5, 'n_estimators': 824, 'subsample': 0.7259207026708496, 'gamma': 0.01294162929977023, 'colsample_bytree': 0.8467898976940685, 'reg_lambda': 1.5206556634926558, 'reg_alpha': 1.5483961005220375}. Best is trial 83 with value: 0.9007163639819613.\u001b[0m\n",
      "\u001b[32m[I 2022-04-17 17:32:27,210]\u001b[0m Trial 87 finished with value: 0.8996928019651975 and parameters: {'max_depth': 5, 'learning_rate': 0.1, 'min_child_weight': 7, 'n_estimators': 771, 'subsample': 0.7060620674642512, 'gamma': 0.046305848327425646, 'colsample_bytree': 0.7659226709663364, 'reg_lambda': 1.2966324692185203, 'reg_alpha': 1.3895979787831172}. Best is trial 83 with value: 0.9007163639819613.\u001b[0m\n",
      "\u001b[32m[I 2022-04-17 17:32:31,930]\u001b[0m Trial 88 finished with value: 0.8995040231772471 and parameters: {'max_depth': 5, 'learning_rate': 0.1, 'min_child_weight': 7, 'n_estimators': 778, 'subsample': 0.7129679887286341, 'gamma': 0.2477590049207632, 'colsample_bytree': 0.7684361518220817, 'reg_lambda': 1.2818356047918953, 'reg_alpha': 1.8069403888980646}. Best is trial 83 with value: 0.9007163639819613.\u001b[0m\n",
      "\u001b[32m[I 2022-04-17 17:33:10,766]\u001b[0m Trial 89 finished with value: 0.9002413419161732 and parameters: {'max_depth': 5, 'learning_rate': 0.1, 'min_child_weight': 7, 'n_estimators': 778, 'subsample': 0.7170698083370435, 'gamma': 9.847950339241502, 'colsample_bytree': 0.8544365628061281, 'reg_lambda': 1.2806087048297592, 'reg_alpha': 1.2683335194847496}. Best is trial 83 with value: 0.9007163639819613.\u001b[0m\n",
      "\u001b[32m[I 2022-04-17 17:33:29,744]\u001b[0m Trial 90 finished with value: 0.9000421968864993 and parameters: {'max_depth': 5, 'learning_rate': 0.1, 'min_child_weight': 7, 'n_estimators': 790, 'subsample': 0.7122482535736545, 'gamma': 0.09351290198028243, 'colsample_bytree': 0.7641405517622135, 'reg_lambda': 1.393620234550832, 'reg_alpha': 1.6689342684361492}. Best is trial 83 with value: 0.9007163639819613.\u001b[0m\n",
      "\u001b[32m[I 2022-04-17 17:36:21,533]\u001b[0m Trial 91 finished with value: 0.9025803734583245 and parameters: {'max_depth': 5, 'learning_rate': 0.1, 'min_child_weight': 5, 'n_estimators': 787, 'subsample': 0.708766316415159, 'gamma': 0.08475013195223936, 'colsample_bytree': 0.7618482738728869, 'reg_lambda': 7.590389730740774, 'reg_alpha': 1.6530229293439203}. Best is trial 91 with value: 0.9025803734583245.\u001b[0m\n",
      "\u001b[32m[I 2022-04-17 17:36:33,591]\u001b[0m Trial 92 finished with value: 0.9015985165595378 and parameters: {'max_depth': 5, 'learning_rate': 0.1, 'min_child_weight': 5, 'n_estimators': 793, 'subsample': 0.690621336239148, 'gamma': 0.09663008630994453, 'colsample_bytree': 0.8553620134820397, 'reg_lambda': 7.861664529930142, 'reg_alpha': 1.3019247127460623}. Best is trial 91 with value: 0.9025803734583245.\u001b[0m\n",
      "\u001b[32m[I 2022-04-17 17:36:37,267]\u001b[0m Trial 96 finished with value: 0.8850497583392123 and parameters: {'max_depth': 5, 'learning_rate': 0.3, 'min_child_weight': 5, 'n_estimators': 774, 'subsample': 0.7250626933268137, 'gamma': 0.09252434349423093, 'colsample_bytree': 0.7570411002328076, 'reg_lambda': 1.2997364922143124, 'reg_alpha': 1.856114416340737}. Best is trial 91 with value: 0.9025803734583245.\u001b[0m\n",
      "\u001b[32m[I 2022-04-17 17:36:39,574]\u001b[0m Trial 94 finished with value: 0.8937023426953591 and parameters: {'max_depth': 5, 'learning_rate': 0.3, 'min_child_weight': 5, 'n_estimators': 790, 'subsample': 0.7251121356617638, 'gamma': 0.09562979805556263, 'colsample_bytree': 0.8535019465434274, 'reg_lambda': 7.257273963008284, 'reg_alpha': 1.5239577272947258}. Best is trial 91 with value: 0.9025803734583245.\u001b[0m\n",
      "\u001b[32m[I 2022-04-17 17:36:39,828]\u001b[0m Trial 93 finished with value: 0.8917116647058766 and parameters: {'max_depth': 5, 'learning_rate': 0.3, 'min_child_weight': 5, 'n_estimators': 818, 'subsample': 0.6855047488740813, 'gamma': 0.09204646254286812, 'colsample_bytree': 0.7630598452426179, 'reg_lambda': 6.218117356503381, 'reg_alpha': 1.1766265139715995}. Best is trial 91 with value: 0.9025803734583245.\u001b[0m\n",
      "\u001b[32m[I 2022-04-17 17:36:41,214]\u001b[0m Trial 95 finished with value: 0.8915292059755021 and parameters: {'max_depth': 5, 'learning_rate': 0.3, 'min_child_weight': 5, 'n_estimators': 782, 'subsample': 0.7259111282847112, 'gamma': 0.0933325416209066, 'colsample_bytree': 0.7604360758339744, 'reg_lambda': 6.887165377613458, 'reg_alpha': 1.8494764210218733}. Best is trial 91 with value: 0.9025803734583245.\u001b[0m\n",
      "\u001b[32m[I 2022-04-17 17:37:20,299]\u001b[0m Trial 97 finished with value: 0.88923699506927 and parameters: {'max_depth': 5, 'learning_rate': 0.3, 'min_child_weight': 5, 'n_estimators': 774, 'subsample': 0.7252089132800118, 'gamma': 0.2710656213115528, 'colsample_bytree': 0.7636785817868325, 'reg_lambda': 2.437559171745559, 'reg_alpha': 1.5844696703567454}. Best is trial 91 with value: 0.9025803734583245.\u001b[0m\n",
      "\u001b[32m[I 2022-04-17 17:37:36,523]\u001b[0m Trial 98 finished with value: 0.8840229896320997 and parameters: {'max_depth': 5, 'learning_rate': 0.3, 'min_child_weight': 5, 'n_estimators': 776, 'subsample': 0.7345755265665947, 'gamma': 0.09633128407461243, 'colsample_bytree': 0.7554865689492558, 'reg_lambda': 2.314916863591252, 'reg_alpha': 1.6523935448581835}. Best is trial 91 with value: 0.9025803734583245.\u001b[0m\n",
      "\u001b[32m[I 2022-04-17 17:38:22,529]\u001b[0m Trial 104 finished with value: 0.8624774289572523 and parameters: {'max_depth': 2, 'learning_rate': 0.1, 'min_child_weight': 5, 'n_estimators': 866, 'subsample': 0.7509094303220735, 'gamma': 0.27076879699702844, 'colsample_bytree': 0.7986116540947368, 'reg_lambda': 2.2648505075790184, 'reg_alpha': 0.6992396870770603}. Best is trial 91 with value: 0.9025803734583245.\u001b[0m\n",
      "\u001b[32m[I 2022-04-17 17:39:01,892]\u001b[0m Trial 105 finished with value: 0.8628338600561589 and parameters: {'max_depth': 2, 'learning_rate': 0.1, 'min_child_weight': 5, 'n_estimators': 845, 'subsample': 0.7538904772217166, 'gamma': 0.24394115692593588, 'colsample_bytree': 0.8034860780801026, 'reg_lambda': 5.149372386315921, 'reg_alpha': 0.7411210986771767}. Best is trial 91 with value: 0.9025803734583245.\u001b[0m\n",
      "\u001b[32m[I 2022-04-17 17:39:20,105]\u001b[0m Trial 106 finished with value: 0.8628739109537232 and parameters: {'max_depth': 2, 'learning_rate': 0.1, 'min_child_weight': 7, 'n_estimators': 860, 'subsample': 0.7566692383534754, 'gamma': 0.1269970361243426, 'colsample_bytree': 0.7929804974530262, 'reg_lambda': 9.120751673518535, 'reg_alpha': 0.6638938852853298}. Best is trial 91 with value: 0.9025803734583245.\u001b[0m\n",
      "\u001b[32m[I 2022-04-17 17:40:43,941]\u001b[0m Trial 99 finished with value: 0.8911411198119227 and parameters: {'max_depth': 5, 'learning_rate': 0.3, 'min_child_weight': 5, 'n_estimators': 781, 'subsample': 0.7322557373904656, 'gamma': 0.09036129339535179, 'colsample_bytree': 0.8015376433990711, 'reg_lambda': 7.3034269241879235, 'reg_alpha': 1.3057707287582576}. Best is trial 91 with value: 0.9025803734583245.\u001b[0m\n",
      "\u001b[32m[I 2022-04-17 17:40:59,326]\u001b[0m Trial 100 finished with value: 0.8899166190032897 and parameters: {'max_depth': 5, 'learning_rate': 0.3, 'min_child_weight': 5, 'n_estimators': 789, 'subsample': 0.7299949482201866, 'gamma': 0.1154923081974473, 'colsample_bytree': 0.8060141264842299, 'reg_lambda': 9.536096222971068, 'reg_alpha': 1.4185631416667608}. Best is trial 91 with value: 0.9025803734583245.\u001b[0m\n",
      "\u001b[32m[I 2022-04-17 17:41:19,855]\u001b[0m Trial 103 finished with value: 0.8988779660357906 and parameters: {'max_depth': 5, 'learning_rate': 0.1, 'min_child_weight': 5, 'n_estimators': 849, 'subsample': 0.738910053627987, 'gamma': 0.12958141684412247, 'colsample_bytree': 0.8006075455629557, 'reg_lambda': 2.3526751154646712, 'reg_alpha': 0.631405436810869}. Best is trial 91 with value: 0.9025803734583245.\u001b[0m\n",
      "\u001b[32m[I 2022-04-17 17:41:23,392]\u001b[0m Trial 101 finished with value: 0.9018688155371948 and parameters: {'max_depth': 5, 'learning_rate': 0.1, 'min_child_weight': 5, 'n_estimators': 856, 'subsample': 0.6823416116535594, 'gamma': 0.24924497564390877, 'colsample_bytree': 0.8084967311558734, 'reg_lambda': 8.074247589384887, 'reg_alpha': 1.2697548648858876}. Best is trial 91 with value: 0.9025803734583245.\u001b[0m\n",
      "\u001b[32m[I 2022-04-17 17:41:26,252]\u001b[0m Trial 102 finished with value: 0.9011921556398667 and parameters: {'max_depth': 5, 'learning_rate': 0.1, 'min_child_weight': 5, 'n_estimators': 854, 'subsample': 0.6778536692157356, 'gamma': 0.2938752422788403, 'colsample_bytree': 0.7943336844754112, 'reg_lambda': 9.93544511747606, 'reg_alpha': 1.2495363703874405}. Best is trial 91 with value: 0.9025803734583245.\u001b[0m\n",
      "\u001b[32m[I 2022-04-17 17:42:19,894]\u001b[0m Trial 107 finished with value: 0.898518969872066 and parameters: {'max_depth': 5, 'learning_rate': 0.1, 'min_child_weight': 7, 'n_estimators': 727, 'subsample': 0.6750801415235823, 'gamma': 0.13024245231584985, 'colsample_bytree': 0.8126156457623798, 'reg_lambda': 4.878771130039152, 'reg_alpha': 1.2752641920723156}. Best is trial 91 with value: 0.9025803734583245.\u001b[0m\n",
      "\u001b[32m[I 2022-04-17 17:42:57,062]\u001b[0m Trial 108 finished with value: 0.8992784655016217 and parameters: {'max_depth': 5, 'learning_rate': 0.1, 'min_child_weight': 7, 'n_estimators': 735, 'subsample': 0.6886984705619412, 'gamma': 0.12382684702581236, 'colsample_bytree': 0.7853745948376387, 'reg_lambda': 8.613054978254498, 'reg_alpha': 1.2026208986769362}. Best is trial 91 with value: 0.9025803734583245.\u001b[0m\n",
      "\u001b[32m[I 2022-04-17 17:43:10,263]\u001b[0m Trial 109 finished with value: 0.8954989510894812 and parameters: {'max_depth': 5, 'learning_rate': 0.1, 'min_child_weight': 7, 'n_estimators': 735, 'subsample': 0.685217554241811, 'gamma': 0.13098114039414022, 'colsample_bytree': 0.7359543371385094, 'reg_lambda': 1.5142852692596678, 'reg_alpha': 1.1923574996367141}. Best is trial 91 with value: 0.9025803734583245.\u001b[0m\n",
      "\u001b[32m[I 2022-04-17 17:44:29,441]\u001b[0m Trial 110 finished with value: 0.8985722264187013 and parameters: {'max_depth': 5, 'learning_rate': 0.1, 'min_child_weight': 7, 'n_estimators': 730, 'subsample': 0.6780033352767647, 'gamma': 0.13763940183663662, 'colsample_bytree': 0.8580145619864652, 'reg_lambda': 1.4976948268585202, 'reg_alpha': 1.0356887494501235}. Best is trial 91 with value: 0.9025803734583245.\u001b[0m\n",
      "\u001b[32m[I 2022-04-17 17:44:40,225]\u001b[0m Trial 111 finished with value: 0.8978831071076119 and parameters: {'max_depth': 5, 'learning_rate': 0.1, 'min_child_weight': 7, 'n_estimators': 725, 'subsample': 0.620383190562486, 'gamma': 0.6414851291052329, 'colsample_bytree': 0.7253759272464033, 'reg_lambda': 1.4130596826192257, 'reg_alpha': 1.0599935869467636}. Best is trial 91 with value: 0.9025803734583245.\u001b[0m\n",
      "\u001b[32m[I 2022-04-17 17:45:57,926]\u001b[0m Trial 113 finished with value: 0.8999049463724539 and parameters: {'max_depth': 5, 'learning_rate': 0.1, 'min_child_weight': 5, 'n_estimators': 895, 'subsample': 0.6736644398788114, 'gamma': 0.1474207109024205, 'colsample_bytree': 0.7349373240185634, 'reg_lambda': 4.774119523554963, 'reg_alpha': 1.1209907161397024}. Best is trial 91 with value: 0.9025803734583245.\u001b[0m\n",
      "\u001b[32m[I 2022-04-17 17:45:59,868]\u001b[0m Trial 112 finished with value: 0.8977303957034353 and parameters: {'max_depth': 5, 'learning_rate': 0.1, 'min_child_weight': 7, 'n_estimators': 926, 'subsample': 0.6741634375129549, 'gamma': 8.616824142675409, 'colsample_bytree': 0.727491642757446, 'reg_lambda': 4.425150421739882, 'reg_alpha': 2.335105197330958}. Best is trial 91 with value: 0.9025803734583245.\u001b[0m\n",
      "\u001b[32m[I 2022-04-17 17:46:08,059]\u001b[0m Trial 114 finished with value: 0.8987884473283746 and parameters: {'max_depth': 5, 'learning_rate': 0.1, 'min_child_weight': 7, 'n_estimators': 934, 'subsample': 0.6766266849670497, 'gamma': 0.40190953272846913, 'colsample_bytree': 0.7396448673738728, 'reg_lambda': 4.944499340578034, 'reg_alpha': 2.530969496802245}. Best is trial 91 with value: 0.9025803734583245.\u001b[0m\n",
      "\u001b[32m[I 2022-04-17 17:46:56,114]\u001b[0m Trial 115 finished with value: 0.8987959493178155 and parameters: {'max_depth': 5, 'learning_rate': 0.1, 'min_child_weight': 5, 'n_estimators': 909, 'subsample': 0.6196824235399185, 'gamma': 0.41888584744943913, 'colsample_bytree': 0.7190814993366815, 'reg_lambda': 8.14633788194511, 'reg_alpha': 2.395165715433908}. Best is trial 91 with value: 0.9025803734583245.\u001b[0m\n",
      "\u001b[32m[I 2022-04-17 17:47:28,095]\u001b[0m Trial 116 finished with value: 0.8987774417319783 and parameters: {'max_depth': 5, 'learning_rate': 0.1, 'min_child_weight': 7, 'n_estimators': 908, 'subsample': 0.681884648914835, 'gamma': 0.4041019073219762, 'colsample_bytree': 0.7284586501424097, 'reg_lambda': 8.346042103032206, 'reg_alpha': 2.410410239981752}. Best is trial 91 with value: 0.9025803734583245.\u001b[0m\n",
      "\u001b[32m[I 2022-04-17 17:47:49,828]\u001b[0m Trial 117 finished with value: 0.8856526258241176 and parameters: {'max_depth': 5, 'learning_rate': 0.01, 'min_child_weight': 7, 'n_estimators': 920, 'subsample': 0.5637951184147553, 'gamma': 0.45262492177935, 'colsample_bytree': 0.7056406714198882, 'reg_lambda': 4.909003523926575, 'reg_alpha': 1.0603850885821438}. Best is trial 91 with value: 0.9025803734583245.\u001b[0m\n",
      "\u001b[32m[I 2022-04-17 17:49:10,192]\u001b[0m Trial 118 finished with value: 0.9005419191807021 and parameters: {'max_depth': 5, 'learning_rate': 0.1, 'min_child_weight': 5, 'n_estimators': 920, 'subsample': 0.7124024873112508, 'gamma': 0.0759067566922547, 'colsample_bytree': 0.7075483810132855, 'reg_lambda': 8.2100659589527, 'reg_alpha': 2.3231017833498364}. Best is trial 91 with value: 0.9025803734583245.\u001b[0m\n",
      "\u001b[32m[I 2022-04-17 17:49:37,787]\u001b[0m Trial 119 finished with value: 0.9024175045782513 and parameters: {'max_depth': 5, 'learning_rate': 0.1, 'min_child_weight': 5, 'n_estimators': 959, 'subsample': 0.7084270995052365, 'gamma': 0.4798129799828395, 'colsample_bytree': 0.7791929891475174, 'reg_lambda': 8.247541794781334, 'reg_alpha': 2.5539587644591104}. Best is trial 91 with value: 0.9025803734583245.\u001b[0m\n",
      "\u001b[32m[I 2022-04-17 17:50:45,920]\u001b[0m Trial 120 finished with value: 0.8959455234101608 and parameters: {'max_depth': 5, 'learning_rate': 0.1, 'min_child_weight': 8, 'n_estimators': 916, 'subsample': 0.5652483160795145, 'gamma': 0.44620283333364313, 'colsample_bytree': 0.6953777528773805, 'reg_lambda': 8.500191066940653, 'reg_alpha': 2.66090604717055}. Best is trial 91 with value: 0.9025803734583245.\u001b[0m\n",
      "\u001b[32m[I 2022-04-17 17:50:47,525]\u001b[0m Trial 121 finished with value: 0.8834396056828767 and parameters: {'max_depth': 5, 'learning_rate': 0.01, 'min_child_weight': 8, 'n_estimators': 899, 'subsample': 0.5682607666626875, 'gamma': 0.3665816561957548, 'colsample_bytree': 0.6839695367246252, 'reg_lambda': 8.510237300568015, 'reg_alpha': 0.8432124412059016}. Best is trial 91 with value: 0.9025803734583245.\u001b[0m\n",
      "\u001b[32m[I 2022-04-17 17:50:58,417]\u001b[0m Trial 122 finished with value: 0.8847930124535954 and parameters: {'max_depth': 5, 'learning_rate': 0.01, 'min_child_weight': 8, 'n_estimators': 897, 'subsample': 0.7055262702378231, 'gamma': 0.22004914957778443, 'colsample_bytree': 0.7007933337310959, 'reg_lambda': 8.210478756438969, 'reg_alpha': 0.8194101598267806}. Best is trial 91 with value: 0.9025803734583245.\u001b[0m\n",
      "\u001b[32m[I 2022-04-17 17:58:32,181]\u001b[0m Trial 123 finished with value: 0.884237473316339 and parameters: {'max_depth': 5, 'learning_rate': 0.01, 'min_child_weight': 8, 'n_estimators': 828, 'subsample': 0.5640628276340511, 'gamma': 0.22404533377435615, 'colsample_bytree': 0.7811463489605008, 'reg_lambda': 5.794167722320468, 'reg_alpha': 0.8209807103113417}. Best is trial 91 with value: 0.9025803734583245.\u001b[0m\n",
      "\u001b[32m[I 2022-04-17 17:59:04,706]\u001b[0m Trial 124 finished with value: 0.8824250724093046 and parameters: {'max_depth': 5, 'learning_rate': 0.01, 'min_child_weight': 8, 'n_estimators': 823, 'subsample': 0.7045601820092523, 'gamma': 0.20109215730121482, 'colsample_bytree': 0.6809758389883913, 'reg_lambda': 6.086669123277008, 'reg_alpha': 0.8524879925373327}. Best is trial 91 with value: 0.9025803734583245.\u001b[0m\n",
      "\u001b[32m[I 2022-04-17 18:48:10,979]\u001b[0m Trial 125 finished with value: 0.8961923519646131 and parameters: {'max_depth': 5, 'learning_rate': 0.1, 'min_child_weight': 8, 'n_estimators': 822, 'subsample': 0.6976428957609258, 'gamma': 0.17422302664714684, 'colsample_bytree': 0.6843658346193565, 'reg_lambda': 2.842386495477484, 'reg_alpha': 0.8446828199197502}. Best is trial 91 with value: 0.9025803734583245.\u001b[0m\n",
      "\u001b[32m[I 2022-04-17 20:24:21,941]\u001b[0m Trial 126 finished with value: 0.900502145415649 and parameters: {'max_depth': 5, 'learning_rate': 0.1, 'min_child_weight': 5, 'n_estimators': 995, 'subsample': 0.7711840618503989, 'gamma': 0.21071681437350795, 'colsample_bytree': 0.6951230424203039, 'reg_lambda': 6.1786203780942905, 'reg_alpha': 0.8105967154712831}. Best is trial 91 with value: 0.9025803734583245.\u001b[0m\n",
      "\u001b[32m[I 2022-04-17 20:24:32,818]\u001b[0m Trial 127 finished with value: 0.8987209872840088 and parameters: {'max_depth': 5, 'learning_rate': 0.1, 'min_child_weight': 5, 'n_estimators': 949, 'subsample': 0.7063584809244073, 'gamma': 2.406057751052462, 'colsample_bytree': 0.6817382060017736, 'reg_lambda': 6.095103082396589, 'reg_alpha': 2.9967144421623435}. Best is trial 91 with value: 0.9025803734583245.\u001b[0m\n",
      "\u001b[32m[I 2022-04-17 20:24:51,886]\u001b[0m Trial 133 finished with value: 0.8873434148252848 and parameters: {'max_depth': 3, 'learning_rate': 0.1, 'min_child_weight': 5, 'n_estimators': 995, 'subsample': 0.7750504000727931, 'gamma': 0.07496978615209837, 'colsample_bytree': 0.8212952462975794, 'reg_lambda': 3.449121144531329, 'reg_alpha': 2.0126803035768415}. Best is trial 91 with value: 0.9025803734583245.\u001b[0m\n",
      "\u001b[32m[I 2022-04-17 20:25:51,532]\u001b[0m Trial 128 finished with value: 0.8987683787250225 and parameters: {'max_depth': 5, 'learning_rate': 0.1, 'min_child_weight': 5, 'n_estimators': 1000, 'subsample': 0.7138822284186093, 'gamma': 0.2157437318558077, 'colsample_bytree': 0.677763739109762, 'reg_lambda': 5.9221358688489705, 'reg_alpha': 2.8822623628150077}. Best is trial 91 with value: 0.9025803734583245.\u001b[0m\n",
      "\u001b[32m[I 2022-04-17 20:25:57,269]\u001b[0m Trial 129 finished with value: 0.900832787698071 and parameters: {'max_depth': 5, 'learning_rate': 0.1, 'min_child_weight': 5, 'n_estimators': 994, 'subsample': 0.7100779502203651, 'gamma': 0.17206131715969222, 'colsample_bytree': 0.7765677249776123, 'reg_lambda': 5.778006448231355, 'reg_alpha': 1.4109791434047785}. Best is trial 91 with value: 0.9025803734583245.\u001b[0m\n",
      "\u001b[32m[I 2022-04-17 20:26:01,551]\u001b[0m Trial 130 finished with value: 0.9000957011198608 and parameters: {'max_depth': 5, 'learning_rate': 0.1, 'min_child_weight': 5, 'n_estimators': 974, 'subsample': 0.7710858516502797, 'gamma': 6.559218043270034, 'colsample_bytree': 0.7755705194837642, 'reg_lambda': 5.94748267520927, 'reg_alpha': 2.0130694620939917}. Best is trial 91 with value: 0.9025803734583245.\u001b[0m\n",
      "\u001b[32m[I 2022-04-17 20:26:33,339]\u001b[0m Trial 131 finished with value: 0.901507616188997 and parameters: {'max_depth': 5, 'learning_rate': 0.1, 'min_child_weight': 5, 'n_estimators': 990, 'subsample': 0.7719362512226072, 'gamma': 1.2643220643687634, 'colsample_bytree': 0.8214804120304112, 'reg_lambda': 3.6392486698869924, 'reg_alpha': 2.084057738413437}. Best is trial 91 with value: 0.9025803734583245.\u001b[0m\n",
      "\u001b[32m[I 2022-04-17 21:00:03,151]\u001b[0m Trial 132 finished with value: 0.9008620190134389 and parameters: {'max_depth': 5, 'learning_rate': 0.1, 'min_child_weight': 5, 'n_estimators': 965, 'subsample': 0.7709153662073857, 'gamma': 0.07775086519751159, 'colsample_bytree': 0.7759291327838456, 'reg_lambda': 3.9730832490439227, 'reg_alpha': 2.0743139576261203}. Best is trial 91 with value: 0.9025803734583245.\u001b[0m\n",
      "\u001b[32m[I 2022-04-17 21:09:04,137]\u001b[0m Trial 134 finished with value: 0.8873243352642355 and parameters: {'max_depth': 3, 'learning_rate': 0.1, 'min_child_weight': 5, 'n_estimators': 977, 'subsample': 0.7641375149474617, 'gamma': 6.38419411745315, 'colsample_bytree': 0.8202554770267466, 'reg_lambda': 6.53356911736236, 'reg_alpha': 3.1578509171061184}. Best is trial 91 with value: 0.9025803734583245.\u001b[0m\n",
      "\u001b[32m[I 2022-04-17 21:09:17,316]\u001b[0m Trial 135 finished with value: 0.8875125488123196 and parameters: {'max_depth': 3, 'learning_rate': 0.1, 'min_child_weight': 5, 'n_estimators': 983, 'subsample': 0.7641746861220609, 'gamma': 6.26062821770983, 'colsample_bytree': 0.8183279714985588, 'reg_lambda': 3.8349129165618003, 'reg_alpha': 1.3975994690133684}. Best is trial 91 with value: 0.9025803734583245.\u001b[0m\n",
      "\u001b[32m[I 2022-04-17 22:58:44,327]\u001b[0m Trial 136 finished with value: 0.896148770940637 and parameters: {'max_depth': 5, 'learning_rate': 0.1, 'min_child_weight': 5, 'n_estimators': 987, 'subsample': 0.609657695744577, 'gamma': 0.3166561100668476, 'colsample_bytree': 0.5838447996732731, 'reg_lambda': 4.105945913139039, 'reg_alpha': 0.5475436928875943}. Best is trial 91 with value: 0.9025803734583245.\u001b[0m\n",
      "\u001b[32m[I 2022-04-17 23:11:11,829]\u001b[0m Trial 137 finished with value: 0.896896461330614 and parameters: {'max_depth': 5, 'learning_rate': 0.1, 'min_child_weight': 5, 'n_estimators': 969, 'subsample': 0.62874558719871, 'gamma': 1.2385340259068127, 'colsample_bytree': 0.5835464628773663, 'reg_lambda': 9.820824837780883, 'reg_alpha': 0.5492637947230186}. Best is trial 91 with value: 0.9025803734583245.\u001b[0m\n",
      "\u001b[32m[I 2022-04-17 23:11:15,911]\u001b[0m Trial 138 finished with value: 0.8972589757085963 and parameters: {'max_depth': 5, 'learning_rate': 0.1, 'min_child_weight': 5, 'n_estimators': 969, 'subsample': 0.6666146005062672, 'gamma': 1.1915181604484295, 'colsample_bytree': 0.5840462066090024, 'reg_lambda': 6.824291099419233, 'reg_alpha': 1.362160673618022}. Best is trial 91 with value: 0.9025803734583245.\u001b[0m\n",
      "\u001b[32m[I 2022-04-17 23:11:24,751]\u001b[0m Trial 139 finished with value: 0.8996672185192794 and parameters: {'max_depth': 5, 'learning_rate': 0.1, 'min_child_weight': 5, 'n_estimators': 972, 'subsample': 0.766506106990733, 'gamma': 6.353808705780945, 'colsample_bytree': 0.6586820872404077, 'reg_lambda': 4.204195222925176, 'reg_alpha': 0.5037891321029615}. Best is trial 91 with value: 0.9025803734583245.\u001b[0m\n",
      "\u001b[32m[I 2022-04-17 23:13:07,540]\u001b[0m Trial 140 finished with value: 0.9001856314249442 and parameters: {'max_depth': 5, 'learning_rate': 0.1, 'min_child_weight': 5, 'n_estimators': 971, 'subsample': 0.7659245103281378, 'gamma': 5.252546330672479, 'colsample_bytree': 0.6575177779357492, 'reg_lambda': 9.824837035057921, 'reg_alpha': 3.3732851684317375}. Best is trial 91 with value: 0.9025803734583245.\u001b[0m\n",
      "\u001b[32m[I 2022-04-17 23:13:28,365]\u001b[0m Trial 142 finished with value: 0.8951498788494398 and parameters: {'max_depth': 5, 'learning_rate': 0.1, 'min_child_weight': 5, 'n_estimators': 965, 'subsample': 0.7619841048753417, 'gamma': 1.395840202729014, 'colsample_bytree': 0.5715743971873022, 'reg_lambda': 4.036541904969101, 'reg_alpha': 3.797440615619641}. Best is trial 91 with value: 0.9025803734583245.\u001b[0m\n",
      "\u001b[32m[I 2022-04-17 23:13:38,143]\u001b[0m Trial 141 finished with value: 0.8996117107171129 and parameters: {'max_depth': 5, 'learning_rate': 0.1, 'min_child_weight': 5, 'n_estimators': 978, 'subsample': 0.7652999089181555, 'gamma': 1.4612879807442936, 'colsample_bytree': 0.8690946860121745, 'reg_lambda': 3.948279970050445, 'reg_alpha': 0.48351708180678643}. Best is trial 91 with value: 0.9025803734583245.\u001b[0m\n",
      "\u001b[32m[I 2022-04-17 23:20:22,196]\u001b[0m Trial 143 finished with value: 0.896401581612821 and parameters: {'max_depth': 5, 'learning_rate': 0.03, 'min_child_weight': 5, 'n_estimators': 956, 'subsample': 0.7830743940154469, 'gamma': 1.3899846001595593, 'colsample_bytree': 0.5807936656268063, 'reg_lambda': 9.873810183120488, 'reg_alpha': 0.5569396885513124}. Best is trial 91 with value: 0.9025803734583245.\u001b[0m\n",
      "\u001b[32m[I 2022-04-18 00:40:08,673]\u001b[0m Trial 144 finished with value: 0.899344260555841 and parameters: {'max_depth': 5, 'learning_rate': 0.03, 'min_child_weight': 5, 'n_estimators': 964, 'subsample': 0.7974846901048044, 'gamma': 1.2076835561523385, 'colsample_bytree': 0.8665778770843551, 'reg_lambda': 9.947779642681088, 'reg_alpha': 2.1079596492572836}. Best is trial 91 with value: 0.9025803734583245.\u001b[0m\n",
      "\u001b[32m[I 2022-04-18 01:15:29,058]\u001b[0m Trial 146 finished with value: 0.9004963880732408 and parameters: {'max_depth': 5, 'learning_rate': 0.1, 'min_child_weight': 5, 'n_estimators': 952, 'subsample': 0.794607713442311, 'gamma': 0.9310606677857277, 'colsample_bytree': 0.8749014738462981, 'reg_lambda': 5.517218277452385, 'reg_alpha': 2.0663448565366282}. Best is trial 91 with value: 0.9025803734583245.\u001b[0m\n",
      "\u001b[32m[I 2022-04-18 01:15:29,989]\u001b[0m Trial 145 finished with value: 0.8997900624808481 and parameters: {'max_depth': 5, 'learning_rate': 0.03, 'min_child_weight': 5, 'n_estimators': 954, 'subsample': 0.7986697961657608, 'gamma': 3.988288359305264, 'colsample_bytree': 0.8832688321631186, 'reg_lambda': 7.442476158312371, 'reg_alpha': 2.1001865596520455}. Best is trial 91 with value: 0.9025803734583245.\u001b[0m\n",
      "\u001b[32m[I 2022-04-18 01:15:35,680]\u001b[0m Trial 147 finished with value: 0.8996834903088372 and parameters: {'max_depth': 5, 'learning_rate': 0.03, 'min_child_weight': 5, 'n_estimators': 948, 'subsample': 0.7998009911797229, 'gamma': 4.387318596304656, 'colsample_bytree': 0.7790835827205336, 'reg_lambda': 5.348507592278766, 'reg_alpha': 2.066325814414549}. Best is trial 91 with value: 0.9025803734583245.\u001b[0m\n",
      "\u001b[32m[I 2022-04-18 01:48:19,257]\u001b[0m Trial 148 finished with value: 0.8993916716436869 and parameters: {'max_depth': 5, 'learning_rate': 0.03, 'min_child_weight': 5, 'n_estimators': 949, 'subsample': 0.7907194782260111, 'gamma': 9.715662948348024, 'colsample_bytree': 0.7804376677876232, 'reg_lambda': 7.56361511979369, 'reg_alpha': 2.143645379303441}. Best is trial 91 with value: 0.9025803734583245.\u001b[0m\n",
      "\u001b[32m[I 2022-04-18 03:25:07,583]\u001b[0m Trial 149 finished with value: 0.899614514177132 and parameters: {'max_depth': 5, 'learning_rate': 0.03, 'min_child_weight': 5, 'n_estimators': 937, 'subsample': 0.8078314153344659, 'gamma': 7.500940023010449, 'colsample_bytree': 0.7791040225260036, 'reg_lambda': 9.918387613778654, 'reg_alpha': 2.0667642097316494}. Best is trial 91 with value: 0.9025803734583245.\u001b[0m\n",
      "\u001b[32m[I 2022-04-18 04:00:00,062]\u001b[0m Trial 151 finished with value: 0.9002543127595624 and parameters: {'max_depth': 5, 'learning_rate': 0.1, 'min_child_weight': 5, 'n_estimators': 939, 'subsample': 0.8037018302015706, 'gamma': 9.407284273003777, 'colsample_bytree': 0.7783485992324055, 'reg_lambda': 7.342554372772864, 'reg_alpha': 2.163943236699162}. Best is trial 91 with value: 0.9025803734583245.\u001b[0m\n",
      "\u001b[32m[I 2022-04-18 04:00:01,085]\u001b[0m Trial 150 finished with value: 0.8996953113266872 and parameters: {'max_depth': 5, 'learning_rate': 0.03, 'min_child_weight': 5, 'n_estimators': 947, 'subsample': 0.7832140672523681, 'gamma': 9.943385898416304, 'colsample_bytree': 0.7803259386293125, 'reg_lambda': 7.445497306864343, 'reg_alpha': 2.0564091616144324}. Best is trial 91 with value: 0.9025803734583245.\u001b[0m\n",
      "\u001b[32m[I 2022-04-18 07:56:40,940]\u001b[0m Trial 152 finished with value: 0.9004393615201224 and parameters: {'max_depth': 5, 'learning_rate': 0.1, 'min_child_weight': 5, 'n_estimators': 938, 'subsample': 0.8016040357487155, 'gamma': 3.525673525533403, 'colsample_bytree': 0.7814875119085724, 'reg_lambda': 7.361748733428764, 'reg_alpha': 2.062387062173379}. Best is trial 91 with value: 0.9025803734583245.\u001b[0m\n",
      "\u001b[32m[I 2022-04-18 08:01:02,329]\u001b[0m Trial 154 finished with value: 0.9006260272555575 and parameters: {'max_depth': 5, 'learning_rate': 0.1, 'min_child_weight': 5, 'n_estimators': 877, 'subsample': 0.8074012744635234, 'gamma': 0.9915738542661345, 'colsample_bytree': 0.7809551876853449, 'reg_lambda': 5.6445287056260085, 'reg_alpha': 3.555484524579198}. Best is trial 91 with value: 0.9025803734583245.\u001b[0m\n",
      "\u001b[32m[I 2022-04-18 08:01:11,534]\u001b[0m Trial 155 finished with value: 0.8992091709722473 and parameters: {'max_depth': 5, 'learning_rate': 0.1, 'min_child_weight': 5, 'n_estimators': 881, 'subsample': 0.7468952853829427, 'gamma': 7.3989610237551835, 'colsample_bytree': 0.784029435112274, 'reg_lambda': 7.637030896880806, 'reg_alpha': 3.3770961978426595}. Best is trial 91 with value: 0.9025803734583245.\u001b[0m\n",
      "\u001b[32m[I 2022-04-18 08:10:12,590]\u001b[0m Trial 153 finished with value: 0.9003729395305807 and parameters: {'max_depth': 5, 'learning_rate': 0.1, 'min_child_weight': 5, 'n_estimators': 939, 'subsample': 0.8129875534163571, 'gamma': 9.814139928157383, 'colsample_bytree': 0.7730818003874772, 'reg_lambda': 7.558179134611518, 'reg_alpha': 4.708047839482061}. Best is trial 91 with value: 0.9025803734583245.\u001b[0m\n",
      "\u001b[32m[I 2022-04-18 08:18:45,922]\u001b[0m Trial 156 finished with value: 0.9003515638971654 and parameters: {'max_depth': 5, 'learning_rate': 0.1, 'min_child_weight': 5, 'n_estimators': 934, 'subsample': 0.8342941213945237, 'gamma': 0.8595924836114952, 'colsample_bytree': 0.7815848578416276, 'reg_lambda': 6.757252983104539, 'reg_alpha': 3.5100970559716154}. Best is trial 91 with value: 0.9025803734583245.\u001b[0m\n",
      "\u001b[32m[I 2022-04-18 08:18:53,778]\u001b[0m Trial 158 finished with value: 0.9003359928789724 and parameters: {'max_depth': 5, 'learning_rate': 0.1, 'min_child_weight': 5, 'n_estimators': 867, 'subsample': 0.7437151000453256, 'gamma': 0.9547768087090656, 'colsample_bytree': 0.7466881960557387, 'reg_lambda': 5.476006595111552, 'reg_alpha': 4.684822748188709}. Best is trial 91 with value: 0.9025803734583245.\u001b[0m\n",
      "\u001b[32m[I 2022-04-18 08:19:05,847]\u001b[0m Trial 157 finished with value: 0.9000817992696583 and parameters: {'max_depth': 5, 'learning_rate': 0.1, 'min_child_weight': 5, 'n_estimators': 938, 'subsample': 0.8408030149026061, 'gamma': 0.864364826967635, 'colsample_bytree': 0.8296424234159046, 'reg_lambda': 5.37509569596164, 'reg_alpha': 4.90119395876887}. Best is trial 91 with value: 0.9025803734583245.\u001b[0m\n",
      "\u001b[32m[I 2022-04-18 08:28:11,613]\u001b[0m Trial 159 finished with value: 0.9003351505914916 and parameters: {'max_depth': 5, 'learning_rate': 0.1, 'min_child_weight': 5, 'n_estimators': 994, 'subsample': 0.8363293049027686, 'gamma': 0.5559396949065799, 'colsample_bytree': 0.8840097916587771, 'reg_lambda': 5.531927262375187, 'reg_alpha': 3.458099620022629}. Best is trial 91 with value: 0.9025803734583245.\u001b[0m\n",
      "\u001b[32m[I 2022-04-18 08:47:32,186]\u001b[0m Trial 160 finished with value: 0.8995487337964786 and parameters: {'max_depth': 5, 'learning_rate': 0.1, 'min_child_weight': 5, 'n_estimators': 882, 'subsample': 0.849332364916944, 'gamma': 0.9710120362254004, 'colsample_bytree': 0.7478689077436923, 'reg_lambda': 6.751286933319621, 'reg_alpha': 4.601318259457925}. Best is trial 91 with value: 0.9025803734583245.\u001b[0m\n",
      "\u001b[32m[I 2022-04-18 08:48:06,114]\u001b[0m Trial 161 finished with value: 0.9002445160030058 and parameters: {'max_depth': 5, 'learning_rate': 0.1, 'min_child_weight': 5, 'n_estimators': 876, 'subsample': 0.8424969995405508, 'gamma': 0.9398639422316785, 'colsample_bytree': 0.8268886488894411, 'reg_lambda': 5.418579850273127, 'reg_alpha': 2.7800075878552053}. Best is trial 91 with value: 0.9025803734583245.\u001b[0m\n",
      "\u001b[32m[I 2022-04-18 08:48:15,438]\u001b[0m Trial 162 finished with value: 0.9009733777121669 and parameters: {'max_depth': 5, 'learning_rate': 0.1, 'min_child_weight': 5, 'n_estimators': 874, 'subsample': 0.8405298722212132, 'gamma': 0.9813564294289112, 'colsample_bytree': 0.8306540731334926, 'reg_lambda': 5.407921593337987, 'reg_alpha': 4.906081400632683}. Best is trial 91 with value: 0.9025803734583245.\u001b[0m\n",
      "\u001b[32m[I 2022-04-18 08:48:24,827]\u001b[0m Trial 163 finished with value: 0.9005639011215985 and parameters: {'max_depth': 5, 'learning_rate': 0.1, 'min_child_weight': 5, 'n_estimators': 878, 'subsample': 0.7459825042203387, 'gamma': 1.8447713500088672, 'colsample_bytree': 0.7452338641113998, 'reg_lambda': 5.541143409127919, 'reg_alpha': 4.6667616548026984}. Best is trial 91 with value: 0.9025803734583245.\u001b[0m\n",
      "\u001b[32m[I 2022-04-18 08:49:07,182]\u001b[0m Trial 164 finished with value: 0.9004901784672462 and parameters: {'max_depth': 5, 'learning_rate': 0.1, 'min_child_weight': 5, 'n_estimators': 878, 'subsample': 0.838769032826597, 'gamma': 0.9171122595699537, 'colsample_bytree': 0.7482070690507909, 'reg_lambda': 5.686307162435713, 'reg_alpha': 4.776705456196418}. Best is trial 91 with value: 0.9025803734583245.\u001b[0m\n",
      "\u001b[32m[I 2022-04-18 08:49:19,716]\u001b[0m Trial 165 finished with value: 0.8992249309762789 and parameters: {'max_depth': 5, 'learning_rate': 0.1, 'min_child_weight': 5, 'n_estimators': 880, 'subsample': 0.8405247125952264, 'gamma': 0.6136330318748234, 'colsample_bytree': 0.8262434680138455, 'reg_lambda': 6.592647229940732, 'reg_alpha': 4.831881848956776}. Best is trial 91 with value: 0.9025803734583245.\u001b[0m\n",
      "\u001b[32m[I 2022-04-18 08:49:19,921]\u001b[0m Trial 166 finished with value: 0.9006846975763023 and parameters: {'max_depth': 5, 'learning_rate': 0.1, 'min_child_weight': 5, 'n_estimators': 845, 'subsample': 0.83780473799573, 'gamma': 0.6041311939081294, 'colsample_bytree': 0.8079644973494156, 'reg_lambda': 6.638247681326679, 'reg_alpha': 2.7882473699546777}. Best is trial 91 with value: 0.9025803734583245.\u001b[0m\n",
      "\u001b[32m[I 2022-04-18 08:56:53,288]\u001b[0m Trial 171 finished with value: 0.8624638857939114 and parameters: {'max_depth': 2, 'learning_rate': 0.1, 'min_child_weight': 5, 'n_estimators': 841, 'subsample': 0.8104757597735575, 'gamma': 0.7464013138392475, 'colsample_bytree': 0.8074988791474379, 'reg_lambda': 3.2900236171362995, 'reg_alpha': 4.270546106102759}. Best is trial 91 with value: 0.9025803734583245.\u001b[0m\n",
      "\u001b[32m[I 2022-04-18 08:56:54,628]\u001b[0m Trial 167 finished with value: 0.8995134732174568 and parameters: {'max_depth': 5, 'learning_rate': 0.1, 'min_child_weight': 5, 'n_estimators': 882, 'subsample': 0.8567432003636004, 'gamma': 1.0239113105516018, 'colsample_bytree': 0.8072851454955247, 'reg_lambda': 6.646277097632298, 'reg_alpha': 2.8077994436630958}. Best is trial 91 with value: 0.9025803734583245.\u001b[0m\n",
      "\u001b[32m[I 2022-04-18 09:04:56,006]\u001b[0m Trial 172 finished with value: 0.8620043448289987 and parameters: {'max_depth': 2, 'learning_rate': 0.1, 'min_child_weight': 5, 'n_estimators': 848, 'subsample': 0.8678442498031069, 'gamma': 1.808835683823604, 'colsample_bytree': 0.8012043534409137, 'reg_lambda': 4.554736702697992, 'reg_alpha': 1.6138468308985054}. Best is trial 91 with value: 0.9025803734583245.\u001b[0m\n",
      "\u001b[32m[I 2022-04-18 09:05:06,923]\u001b[0m Trial 174 finished with value: 0.8617973649879659 and parameters: {'max_depth': 2, 'learning_rate': 0.1, 'min_child_weight': 5, 'n_estimators': 838, 'subsample': 0.8729832357482029, 'gamma': 1.6646754307590867, 'colsample_bytree': 0.8006776692326927, 'reg_lambda': 4.537674926451744, 'reg_alpha': 5.823743588177629}. Best is trial 91 with value: 0.9025803734583245.\u001b[0m\n",
      "\u001b[32m[I 2022-04-18 09:05:07,882]\u001b[0m Trial 173 finished with value: 0.8614549797907584 and parameters: {'max_depth': 2, 'learning_rate': 0.1, 'min_child_weight': 5, 'n_estimators': 849, 'subsample': 0.873208624413916, 'gamma': 1.8855995358064501, 'colsample_bytree': 0.8049317094231008, 'reg_lambda': 4.636121826203693, 'reg_alpha': 0.3816233352406982}. Best is trial 91 with value: 0.9025803734583245.\u001b[0m\n",
      "\u001b[32m[I 2022-04-18 09:17:48,523]\u001b[0m Trial 168 finished with value: 0.9017438937659126 and parameters: {'max_depth': 5, 'learning_rate': 0.1, 'min_child_weight': 5, 'n_estimators': 841, 'subsample': 0.8254981089774609, 'gamma': 1.6961154550515858, 'colsample_bytree': 0.7494482432087071, 'reg_lambda': 6.572380278821641, 'reg_alpha': 4.707605506138693}. Best is trial 91 with value: 0.9025803734583245.\u001b[0m\n",
      "\u001b[32m[I 2022-04-18 09:18:32,933]\u001b[0m Trial 169 finished with value: 0.9014109385206135 and parameters: {'max_depth': 5, 'learning_rate': 0.1, 'min_child_weight': 5, 'n_estimators': 857, 'subsample': 0.8160312587779976, 'gamma': 1.7951203261218758, 'colsample_bytree': 0.7500324885832401, 'reg_lambda': 6.562416576947547, 'reg_alpha': 1.6799512926164824}. Best is trial 91 with value: 0.9025803734583245.\u001b[0m\n",
      "\u001b[32m[I 2022-04-18 09:19:09,096]\u001b[0m Trial 170 finished with value: 0.9014669955420018 and parameters: {'max_depth': 5, 'learning_rate': 0.1, 'min_child_weight': 5, 'n_estimators': 923, 'subsample': 0.8166465395668923, 'gamma': 0.7228159500653875, 'colsample_bytree': 0.8035284836206439, 'reg_lambda': 4.469015379326725, 'reg_alpha': 4.255093893094937}. Best is trial 91 with value: 0.9025803734583245.\u001b[0m\n",
      "\u001b[32m[I 2022-04-18 09:20:18,529]\u001b[0m Trial 176 finished with value: 0.8967560642855519 and parameters: {'max_depth': 5, 'learning_rate': 0.1, 'min_child_weight': 5, 'n_estimators': 835, 'subsample': 0.8743905032594136, 'gamma': 0.07519893817959115, 'colsample_bytree': 0.4788026508666976, 'reg_lambda': 4.454849922851235, 'reg_alpha': 1.6092098386202274}. Best is trial 91 with value: 0.9025803734583245.\u001b[0m\n",
      "\u001b[32m[I 2022-04-18 09:20:37,910]\u001b[0m Trial 175 finished with value: 0.9002239632157375 and parameters: {'max_depth': 5, 'learning_rate': 0.1, 'min_child_weight': 5, 'n_estimators': 849, 'subsample': 0.8616858927951183, 'gamma': 0.6897131199109022, 'colsample_bytree': 0.8009113620616145, 'reg_lambda': 4.518300630205935, 'reg_alpha': 6.12099655594582}. Best is trial 91 with value: 0.9025803734583245.\u001b[0m\n",
      "\u001b[32m[I 2022-04-18 09:21:15,162]\u001b[0m Trial 178 finished with value: 0.8892940571242957 and parameters: {'max_depth': 5, 'learning_rate': 0.1, 'min_child_weight': 5, 'n_estimators': 805, 'subsample': 0.22864758072406655, 'gamma': 2.4185933505427384, 'colsample_bytree': 0.7157973721483455, 'reg_lambda': 8.417445292048761, 'reg_alpha': 7.232890953901583}. Best is trial 91 with value: 0.9025803734583245.\u001b[0m\n",
      "\u001b[32m[I 2022-04-18 09:21:16,006]\u001b[0m Trial 179 finished with value: 0.8898956438348261 and parameters: {'max_depth': 5, 'learning_rate': 0.1, 'min_child_weight': 5, 'n_estimators': 801, 'subsample': 0.2699388777277991, 'gamma': 0.6839398660529676, 'colsample_bytree': 0.7142378755854185, 'reg_lambda': 8.290020716306124, 'reg_alpha': 2.531167794849895}. Best is trial 91 with value: 0.9025803734583245.\u001b[0m\n",
      "\u001b[32m[I 2022-04-18 09:21:33,695]\u001b[0m Trial 177 finished with value: 0.8998203004797738 and parameters: {'max_depth': 5, 'learning_rate': 0.1, 'min_child_weight': 5, 'n_estimators': 909, 'subsample': 0.8761891824350679, 'gamma': 1.9173074518919693, 'colsample_bytree': 0.7136031487579075, 'reg_lambda': 4.705683422697678, 'reg_alpha': 5.313995253742776}. Best is trial 91 with value: 0.9025803734583245.\u001b[0m\n",
      "\u001b[32m[I 2022-04-18 09:22:12,968]\u001b[0m Trial 180 finished with value: 0.8996417329902382 and parameters: {'max_depth': 5, 'learning_rate': 0.1, 'min_child_weight': 5, 'n_estimators': 812, 'subsample': 0.822534111687051, 'gamma': 0.0767567442513206, 'colsample_bytree': 0.7121019746086161, 'reg_lambda': 2.8980475887414276, 'reg_alpha': 6.981659788176666}. Best is trial 91 with value: 0.9025803734583245.\u001b[0m\n",
      "\u001b[32m[I 2022-04-18 09:23:17,337]\u001b[0m Trial 182 finished with value: 0.9002822721918134 and parameters: {'max_depth': 5, 'learning_rate': 0.1, 'min_child_weight': 5, 'n_estimators': 798, 'subsample': 0.8204711185256638, 'gamma': 2.2360252226262762, 'colsample_bytree': 0.7131880667373885, 'reg_lambda': 2.981028059260347, 'reg_alpha': 6.732819817832106}. Best is trial 91 with value: 0.9025803734583245.\u001b[0m\n",
      "\u001b[32m[I 2022-04-18 09:23:23,035]\u001b[0m Trial 181 finished with value: 0.9007565691184327 and parameters: {'max_depth': 5, 'learning_rate': 0.1, 'min_child_weight': 5, 'n_estimators': 915, 'subsample': 0.8244017854694495, 'gamma': 2.195648561804785, 'colsample_bytree': 0.7191641273427177, 'reg_lambda': 8.538461136700738, 'reg_alpha': 7.410438079733279}. Best is trial 91 with value: 0.9025803734583245.\u001b[0m\n",
      "\u001b[32m[I 2022-04-18 09:24:37,438]\u001b[0m Trial 184 finished with value: 0.9004879225685251 and parameters: {'max_depth': 5, 'learning_rate': 0.1, 'min_child_weight': 5, 'n_estimators': 801, 'subsample': 0.820237101096638, 'gamma': 2.421059162514692, 'colsample_bytree': 0.7083278907456774, 'reg_lambda': 8.535577380925087, 'reg_alpha': 7.948050276783856}. Best is trial 91 with value: 0.9025803734583245.\u001b[0m\n",
      "\u001b[32m[I 2022-04-18 09:24:54,755]\u001b[0m Trial 183 finished with value: 0.8911231103840522 and parameters: {'max_depth': 5, 'learning_rate': 0.1, 'min_child_weight': 5, 'n_estimators': 909, 'subsample': 0.2961931201811885, 'gamma': 2.473855449777385, 'colsample_bytree': 0.7108302729749053, 'reg_lambda': 8.297126926096228, 'reg_alpha': 7.360730796594587}. Best is trial 91 with value: 0.9025803734583245.\u001b[0m\n",
      "\u001b[32m[I 2022-04-18 09:25:27,117]\u001b[0m Trial 187 finished with value: 0.9017460533937449 and parameters: {'max_depth': 5, 'learning_rate': 0.1, 'min_child_weight': 5, 'n_estimators': 752, 'subsample': 0.8172688189146019, 'gamma': 2.175470711189307, 'colsample_bytree': 0.8485039281727675, 'reg_lambda': 6.0853408799082995, 'reg_alpha': 0.9973554494488976}. Best is trial 91 with value: 0.9025803734583245.\u001b[0m\n",
      "\u001b[32m[I 2022-04-18 09:25:57,130]\u001b[0m Trial 185 finished with value: 0.9007916990733076 and parameters: {'max_depth': 5, 'learning_rate': 0.1, 'min_child_weight': 5, 'n_estimators': 912, 'subsample': 0.8223915792166646, 'gamma': 2.2744024137496597, 'colsample_bytree': 0.8454908019317554, 'reg_lambda': 2.938671573597013, 'reg_alpha': 4.066854137966988}. Best is trial 91 with value: 0.9025803734583245.\u001b[0m\n",
      "\u001b[32m[I 2022-04-18 09:25:57,481]\u001b[0m Trial 186 finished with value: 0.9005352766653439 and parameters: {'max_depth': 5, 'learning_rate': 0.1, 'min_child_weight': 5, 'n_estimators': 912, 'subsample': 0.8225237252184112, 'gamma': 2.5059787485585683, 'colsample_bytree': 0.8489997721059668, 'reg_lambda': 3.511660906232014, 'reg_alpha': 3.8531326915874744}. Best is trial 91 with value: 0.9025803734583245.\u001b[0m\n",
      "\u001b[32m[I 2022-04-18 09:26:52,752]\u001b[0m Trial 188 finished with value: 0.8989932619520905 and parameters: {'max_depth': 5, 'learning_rate': 0.1, 'min_child_weight': 5, 'n_estimators': 898, 'subsample': 0.5172773143897283, 'gamma': 2.2935371514874183, 'colsample_bytree': 0.8400300457479923, 'reg_lambda': 6.300847659965957, 'reg_alpha': 4.011658538253732}. Best is trial 91 with value: 0.9025803734583245.\u001b[0m\n",
      "\u001b[32m[I 2022-04-18 09:27:46,583]\u001b[0m Trial 189 finished with value: 0.8998882882348417 and parameters: {'max_depth': 5, 'learning_rate': 0.1, 'min_child_weight': 5, 'n_estimators': 862, 'subsample': 0.7393146488974526, 'gamma': 0.5066966818125875, 'colsample_bytree': 0.8636618990234598, 'reg_lambda': 6.1816020117450075, 'reg_alpha': 3.81137867654209}. Best is trial 91 with value: 0.9025803734583245.\u001b[0m\n",
      "\u001b[32m[I 2022-04-18 09:28:03,052]\u001b[0m Trial 190 finished with value: 0.8997760637578385 and parameters: {'max_depth': 5, 'learning_rate': 0.1, 'min_child_weight': 5, 'n_estimators': 914, 'subsample': 0.7381093007934182, 'gamma': 2.9316829297858216, 'colsample_bytree': 0.7557514661919794, 'reg_lambda': 6.367686739954251, 'reg_alpha': 3.9464055110265783}. Best is trial 91 with value: 0.9025803734583245.\u001b[0m\n",
      "\u001b[32m[I 2022-04-18 09:28:41,140]\u001b[0m Trial 192 finished with value: 0.8997299964728143 and parameters: {'max_depth': 5, 'learning_rate': 0.1, 'min_child_weight': 5, 'n_estimators': 751, 'subsample': 0.6917866049915607, 'gamma': 0.29241058588383795, 'colsample_bytree': 0.7437528864578368, 'reg_lambda': 6.525550586673599, 'reg_alpha': 0.9882536615723083}. Best is trial 91 with value: 0.9025803734583245.\u001b[0m\n",
      "\u001b[32m[I 2022-04-18 09:29:05,681]\u001b[0m Trial 193 finished with value: 0.887933529189685 and parameters: {'max_depth': 5, 'learning_rate': 0.1, 'min_child_weight': 5, 'n_estimators': 861, 'subsample': 0.8916254613002805, 'gamma': 0.32866972589028753, 'colsample_bytree': 0.2727404868641095, 'reg_lambda': 6.281516481245643, 'reg_alpha': 3.7671442951072684}. Best is trial 91 with value: 0.9025803734583245.\u001b[0m\n",
      "\u001b[32m[I 2022-04-18 09:29:11,997]\u001b[0m Trial 191 finished with value: 0.9008946653846349 and parameters: {'max_depth': 5, 'learning_rate': 0.1, 'min_child_weight': 5, 'n_estimators': 916, 'subsample': 0.6913672927808758, 'gamma': 0.32919989545364303, 'colsample_bytree': 0.7473919689929368, 'reg_lambda': 6.261038124839863, 'reg_alpha': 4.015628721226547}. Best is trial 91 with value: 0.9025803734583245.\u001b[0m\n",
      "\u001b[32m[I 2022-04-18 09:29:45,417]\u001b[0m Trial 194 finished with value: 0.8998034537782116 and parameters: {'max_depth': 5, 'learning_rate': 0.1, 'min_child_weight': 5, 'n_estimators': 865, 'subsample': 0.896990075137301, 'gamma': 3.0934727046956887, 'colsample_bytree': 0.8578643531346921, 'reg_lambda': 3.7069059951891212, 'reg_alpha': 3.9289502377523253}. Best is trial 91 with value: 0.9025803734583245.\u001b[0m\n",
      "\u001b[32m[I 2022-04-18 09:29:51,534]\u001b[0m Trial 195 finished with value: 0.8985638478216005 and parameters: {'max_depth': 5, 'learning_rate': 0.1, 'min_child_weight': 5, 'n_estimators': 895, 'subsample': 0.7480262530117239, 'gamma': 1.6752445621553897, 'colsample_bytree': 0.8473754939652255, 'reg_lambda': 0.026965496332115584, 'reg_alpha': 0.9850714896118635}. Best is trial 91 with value: 0.9025803734583245.\u001b[0m\n",
      "\u001b[32m[I 2022-04-18 09:30:15,687]\u001b[0m Trial 196 finished with value: 0.9012850516608817 and parameters: {'max_depth': 5, 'learning_rate': 0.1, 'min_child_weight': 5, 'n_estimators': 870, 'subsample': 0.7432282837293113, 'gamma': 3.0763275700424657, 'colsample_bytree': 0.8509758867671161, 'reg_lambda': 3.589795191192589, 'reg_alpha': 0.9859686122282525}. Best is trial 91 with value: 0.9025803734583245.\u001b[0m\n",
      "\u001b[32m[I 2022-04-18 09:30:20,341]\u001b[0m Trial 197 finished with value: 0.9003011869389649 and parameters: {'max_depth': 5, 'learning_rate': 0.1, 'min_child_weight': 5, 'n_estimators': 755, 'subsample': 0.8497433485882282, 'gamma': 2.8738159850304275, 'colsample_bytree': 0.8210818624091516, 'reg_lambda': 3.9039382285254485, 'reg_alpha': 1.0156859565629417}. Best is trial 91 with value: 0.9025803734583245.\u001b[0m\n",
      "\u001b[32m[I 2022-04-18 09:30:20,532]\u001b[0m Trial 198 finished with value: 0.8891352584458196 and parameters: {'max_depth': 5, 'learning_rate': 0.1, 'min_child_weight': 5, 'n_estimators': 756, 'subsample': 0.6979087240062939, 'gamma': 0.32872214770242764, 'colsample_bytree': 0.32659307168004315, 'reg_lambda': 8.966104007157965, 'reg_alpha': 3.0026096923491057}. Best is trial 91 with value: 0.9025803734583245.\u001b[0m\n",
      "\u001b[32m[I 2022-04-18 09:30:28,801]\u001b[0m Trial 199 finished with value: 0.9001119619111924 and parameters: {'max_depth': 5, 'learning_rate': 0.1, 'min_child_weight': 5, 'n_estimators': 859, 'subsample': 0.663701327458787, 'gamma': 1.5157492511647912, 'colsample_bytree': 0.8234712542067754, 'reg_lambda': 5.299469984239216, 'reg_alpha': 1.446232966973769}. Best is trial 91 with value: 0.9025803734583245.\u001b[0m\n",
      "\u001b[32m[I 2022-04-18 09:30:28,805]\u001b[0m Finished hyperparemeter search!\u001b[0m\n",
      "\u001b[32m[I 2022-04-18 09:30:28,807]\u001b[0m Refitting the estimator using 5083 samples...\u001b[0m\n",
      "\u001b[32m[I 2022-04-18 09:30:31,051]\u001b[0m Finished refitting! (elapsed time: 2.243 sec.)\u001b[0m\n"
     ]
    },
    {
     "data": {
      "text/plain": [
       "OptunaSearchCV(cv=10,\n",
       "               estimator=XGBRegressor(base_score=None, booster=None,\n",
       "                                      colsample_bylevel=None,\n",
       "                                      colsample_bynode=None,\n",
       "                                      colsample_bytree=None,\n",
       "                                      enable_categorical=False, gamma=None,\n",
       "                                      gpu_id=None, importance_type=None,\n",
       "                                      interaction_constraints=None,\n",
       "                                      learning_rate=None, max_delta_step=None,\n",
       "                                      max_depth=None, min_child_weight=None,\n",
       "                                      missing=nan, monotone_constraints=Non...\n",
       "                                    'min_child_weight': IntUniformDistribution(high=10, low=5, step=1),\n",
       "                                    'n_estimators': IntUniformDistribution(high=1000, low=50, step=1),\n",
       "                                    'reg_alpha': LogUniformDistribution(high=10.0, low=0.01),\n",
       "                                    'reg_lambda': LogUniformDistribution(high=10.0, low=0.01),\n",
       "                                    'subsample': UniformDistribution(high=1.0, low=0.1)},\n",
       "               random_state=73, scoring='r2',\n",
       "               study=<optuna.study.study.Study object at 0x1738c03d0>,\n",
       "               verbose=1)"
      ]
     },
     "execution_count": 15,
     "metadata": {},
     "output_type": "execute_result"
    }
   ],
   "source": [
    "xgb_oscv_params = {\n",
    "    'max_depth' : CategoricalDistribution([2,3,4,5]),\n",
    "    'learning_rate' : CategoricalDistribution([0.01, 0.03, 0.1, 0.3]),\n",
    "    'min_child_weight' : IntUniformDistribution(5, 10),\n",
    "    'n_estimators' : IntUniformDistribution(50, 1000),\n",
    "    'subsample' : UniformDistribution(0.1, 1),\n",
    "    'gamma' : LogUniformDistribution(1e-2, 10.0),\n",
    "    'colsample_bytree' : UniformDistribution(0.1, 1),\n",
    "    'reg_lambda' : LogUniformDistribution(1e-2, 10.0),\n",
    "    'reg_alpha' : LogUniformDistribution(1e-2, 10.0)\n",
    "    }\n",
    "\n",
    "xgb_study = optuna.create_study(sampler = sampler, direction = 'maximize', study_name = 'XGB_HyperParam_CV')\n",
    "\n",
    "xgb_oscv = OptunaSearchCV(\n",
    "    study = xgb_study,\n",
    "    estimator = xgb_optuna_base,\n",
    "    param_distributions = xgb_oscv_params,\n",
    "    cv = 10,\n",
    "    n_jobs = -1,\n",
    "    n_trials = 200,\n",
    "    random_state = p.RANDOM_STATE,\n",
    "    refit = True,\n",
    "    scoring = 'r2',\n",
    "    verbose = 1,\n",
    ")\n",
    "\n",
    "xgb_oscv.fit(X_train, y_train, verbose = 0)"
   ]
  },
  {
   "cell_type": "code",
   "execution_count": 16,
   "metadata": {},
   "outputs": [
    {
     "data": {
      "application/vnd.plotly.v1+json": {
       "config": {
        "plotlyServerURL": "https://plot.ly"
       },
       "data": [
        {
         "mode": "markers",
         "name": "Objective Value",
         "type": "scatter",
         "x": [
          0,
          1,
          2,
          3,
          4,
          5,
          6,
          7,
          8,
          9,
          10,
          11,
          12,
          13,
          14,
          15,
          16,
          17,
          18,
          19,
          20,
          21,
          22,
          23,
          24,
          25,
          26,
          27,
          28,
          29,
          30,
          31,
          32,
          33,
          34,
          35,
          36,
          37,
          38,
          39,
          40,
          41,
          42,
          43,
          44,
          45,
          46,
          47,
          48,
          49,
          50,
          51,
          52,
          53,
          54,
          55,
          56,
          57,
          58,
          59,
          60,
          61,
          62,
          63,
          64,
          65,
          66,
          67,
          68,
          69,
          70,
          71,
          72,
          73,
          74,
          75,
          76,
          77,
          78,
          79,
          80,
          81,
          82,
          83,
          84,
          85,
          86,
          87,
          88,
          89,
          90,
          91,
          92,
          93,
          94,
          95,
          96,
          97,
          98,
          99,
          100,
          101,
          102,
          103,
          104,
          105,
          106,
          107,
          108,
          109,
          110,
          111,
          112,
          113,
          114,
          115,
          116,
          117,
          118,
          119,
          120,
          121,
          122,
          123,
          124,
          125,
          126,
          127,
          128,
          129,
          130,
          131,
          132,
          133,
          134,
          135,
          136,
          137,
          138,
          139,
          140,
          141,
          142,
          143,
          144,
          145,
          146,
          147,
          148,
          149,
          150,
          151,
          152,
          153,
          154,
          155,
          156,
          157,
          158,
          159,
          160,
          161,
          162,
          163,
          164,
          165,
          166,
          167,
          168,
          169,
          170,
          171,
          172,
          173,
          174,
          175,
          176,
          177,
          178,
          179,
          180,
          181,
          182,
          183,
          184,
          185,
          186,
          187,
          188,
          189,
          190,
          191,
          192,
          193,
          194,
          195,
          196,
          197,
          198,
          199
         ],
         "y": [
          0.47727483354604894,
          0.8832415595769108,
          0.8746506618051384,
          0.7766438142084142,
          0.857671174079298,
          0.7955679655932874,
          0.8506779022777762,
          0.7726552064040655,
          0.8569977416341464,
          0.890331220952454,
          0.7978506368531979,
          0.8492970864454519,
          0.8228926529593948,
          0.844150842008592,
          0.8636202571450827,
          0.7031503401841451,
          0.8881429347738232,
          0.8861041004352208,
          0.8918455125423155,
          0.8831168197566222,
          0.8841310860395989,
          0.8860253256327211,
          0.8853999184803509,
          0.8745376577491044,
          0.8746935312477419,
          0.8808981276289354,
          0.8908747997238722,
          0.8912445852622588,
          0.884922917803509,
          0.883860115023045,
          0.8841729092012637,
          0.8841979167966564,
          0.882350516804884,
          0.8595509758954307,
          0.8556880813857253,
          0.8559611141489846,
          0.8823869554435422,
          0.7234051422276903,
          0.8904171347850781,
          0.8913174353706086,
          0.8898710728924302,
          0.8898346805366779,
          0.8915702295256253,
          0.889554701752375,
          0.8358166888803465,
          0.8354115387421924,
          0.8295130952327441,
          0.838184524350077,
          0.8344420319828629,
          0.7993401488668992,
          0.8440330676182114,
          0.8406580751843563,
          0.8451800874278396,
          0.8426458839828712,
          0.88564480757954,
          0.8963729260356939,
          0.8941505293398079,
          0.8320465861510824,
          0.89589767689666,
          0.8945598124720094,
          0.8939169126188492,
          0.8954205671061205,
          0.8969601826703165,
          0.8946170649743598,
          0.8921397104918496,
          0.8971483340784314,
          0.891638623557205,
          0.8948822043124443,
          0.8924202840066078,
          0.8769429698489951,
          0.8668263143108422,
          0.8821139264533292,
          0.8880872084065331,
          0.8834457276242682,
          0.8907529830916566,
          0.8986889695161079,
          0.8987039297060264,
          0.8935936517105185,
          0.8938024198146474,
          0.898745541133759,
          0.8983479613516053,
          0.8943319470414789,
          0.8899538531250387,
          0.9007163639819613,
          0.8970960245145345,
          0.8994618207597537,
          0.8991522549376313,
          0.8996928019651975,
          0.8995040231772471,
          0.9002413419161732,
          0.9000421968864993,
          0.9025803734583245,
          0.9015985165595378,
          0.8917116647058766,
          0.8937023426953591,
          0.8915292059755021,
          0.8850497583392123,
          0.88923699506927,
          0.8840229896320997,
          0.8911411198119227,
          0.8899166190032897,
          0.9018688155371948,
          0.9011921556398667,
          0.8988779660357906,
          0.8624774289572523,
          0.8628338600561589,
          0.8628739109537232,
          0.898518969872066,
          0.8992784655016217,
          0.8954989510894812,
          0.8985722264187013,
          0.8978831071076119,
          0.8977303957034353,
          0.8999049463724539,
          0.8987884473283746,
          0.8987959493178155,
          0.8987774417319783,
          0.8856526258241176,
          0.9005419191807021,
          0.9024175045782513,
          0.8959455234101608,
          0.8834396056828767,
          0.8847930124535954,
          0.884237473316339,
          0.8824250724093046,
          0.8961923519646131,
          0.900502145415649,
          0.8987209872840088,
          0.8987683787250225,
          0.900832787698071,
          0.9000957011198608,
          0.901507616188997,
          0.9008620190134389,
          0.8873434148252848,
          0.8873243352642355,
          0.8875125488123196,
          0.896148770940637,
          0.896896461330614,
          0.8972589757085963,
          0.8996672185192794,
          0.9001856314249442,
          0.8996117107171129,
          0.8951498788494398,
          0.896401581612821,
          0.899344260555841,
          0.8997900624808481,
          0.9004963880732408,
          0.8996834903088372,
          0.8993916716436869,
          0.899614514177132,
          0.8996953113266872,
          0.9002543127595624,
          0.9004393615201224,
          0.9003729395305807,
          0.9006260272555575,
          0.8992091709722473,
          0.9003515638971654,
          0.9000817992696583,
          0.9003359928789724,
          0.9003351505914916,
          0.8995487337964786,
          0.9002445160030058,
          0.9009733777121669,
          0.9005639011215985,
          0.9004901784672462,
          0.8992249309762789,
          0.9006846975763023,
          0.8995134732174568,
          0.9017438937659126,
          0.9014109385206135,
          0.9014669955420018,
          0.8624638857939114,
          0.8620043448289987,
          0.8614549797907584,
          0.8617973649879659,
          0.9002239632157375,
          0.8967560642855519,
          0.8998203004797738,
          0.8892940571242957,
          0.8898956438348261,
          0.8996417329902382,
          0.9007565691184327,
          0.9002822721918134,
          0.8911231103840522,
          0.9004879225685251,
          0.9007916990733076,
          0.9005352766653439,
          0.9017460533937449,
          0.8989932619520905,
          0.8998882882348417,
          0.8997760637578385,
          0.9008946653846349,
          0.8997299964728143,
          0.887933529189685,
          0.8998034537782116,
          0.8985638478216005,
          0.9012850516608817,
          0.9003011869389649,
          0.8891352584458196,
          0.9001119619111924
         ]
        },
        {
         "name": "Best Value",
         "type": "scatter",
         "x": [
          0,
          1,
          2,
          3,
          4,
          5,
          6,
          7,
          8,
          9,
          10,
          11,
          12,
          13,
          14,
          15,
          16,
          17,
          18,
          19,
          20,
          21,
          22,
          23,
          24,
          25,
          26,
          27,
          28,
          29,
          30,
          31,
          32,
          33,
          34,
          35,
          36,
          37,
          38,
          39,
          40,
          41,
          42,
          43,
          44,
          45,
          46,
          47,
          48,
          49,
          50,
          51,
          52,
          53,
          54,
          55,
          56,
          57,
          58,
          59,
          60,
          61,
          62,
          63,
          64,
          65,
          66,
          67,
          68,
          69,
          70,
          71,
          72,
          73,
          74,
          75,
          76,
          77,
          78,
          79,
          80,
          81,
          82,
          83,
          84,
          85,
          86,
          87,
          88,
          89,
          90,
          91,
          92,
          93,
          94,
          95,
          96,
          97,
          98,
          99,
          100,
          101,
          102,
          103,
          104,
          105,
          106,
          107,
          108,
          109,
          110,
          111,
          112,
          113,
          114,
          115,
          116,
          117,
          118,
          119,
          120,
          121,
          122,
          123,
          124,
          125,
          126,
          127,
          128,
          129,
          130,
          131,
          132,
          133,
          134,
          135,
          136,
          137,
          138,
          139,
          140,
          141,
          142,
          143,
          144,
          145,
          146,
          147,
          148,
          149,
          150,
          151,
          152,
          153,
          154,
          155,
          156,
          157,
          158,
          159,
          160,
          161,
          162,
          163,
          164,
          165,
          166,
          167,
          168,
          169,
          170,
          171,
          172,
          173,
          174,
          175,
          176,
          177,
          178,
          179,
          180,
          181,
          182,
          183,
          184,
          185,
          186,
          187,
          188,
          189,
          190,
          191,
          192,
          193,
          194,
          195,
          196,
          197,
          198,
          199
         ],
         "y": [
          0.47727483354604894,
          0.8832415595769108,
          0.8832415595769108,
          0.8832415595769108,
          0.8832415595769108,
          0.8832415595769108,
          0.8832415595769108,
          0.8832415595769108,
          0.8832415595769108,
          0.890331220952454,
          0.890331220952454,
          0.890331220952454,
          0.890331220952454,
          0.890331220952454,
          0.890331220952454,
          0.890331220952454,
          0.890331220952454,
          0.890331220952454,
          0.8918455125423155,
          0.8918455125423155,
          0.8918455125423155,
          0.8918455125423155,
          0.8918455125423155,
          0.8918455125423155,
          0.8918455125423155,
          0.8918455125423155,
          0.8918455125423155,
          0.8918455125423155,
          0.8918455125423155,
          0.8918455125423155,
          0.8918455125423155,
          0.8918455125423155,
          0.8918455125423155,
          0.8918455125423155,
          0.8918455125423155,
          0.8918455125423155,
          0.8918455125423155,
          0.8918455125423155,
          0.8918455125423155,
          0.8918455125423155,
          0.8918455125423155,
          0.8918455125423155,
          0.8918455125423155,
          0.8918455125423155,
          0.8918455125423155,
          0.8918455125423155,
          0.8918455125423155,
          0.8918455125423155,
          0.8918455125423155,
          0.8918455125423155,
          0.8918455125423155,
          0.8918455125423155,
          0.8918455125423155,
          0.8918455125423155,
          0.8918455125423155,
          0.8963729260356939,
          0.8963729260356939,
          0.8963729260356939,
          0.8963729260356939,
          0.8963729260356939,
          0.8963729260356939,
          0.8963729260356939,
          0.8969601826703165,
          0.8969601826703165,
          0.8969601826703165,
          0.8971483340784314,
          0.8971483340784314,
          0.8971483340784314,
          0.8971483340784314,
          0.8971483340784314,
          0.8971483340784314,
          0.8971483340784314,
          0.8971483340784314,
          0.8971483340784314,
          0.8971483340784314,
          0.8986889695161079,
          0.8987039297060264,
          0.8987039297060264,
          0.8987039297060264,
          0.898745541133759,
          0.898745541133759,
          0.898745541133759,
          0.898745541133759,
          0.9007163639819613,
          0.9007163639819613,
          0.9007163639819613,
          0.9007163639819613,
          0.9007163639819613,
          0.9007163639819613,
          0.9007163639819613,
          0.9007163639819613,
          0.9025803734583245,
          0.9025803734583245,
          0.9025803734583245,
          0.9025803734583245,
          0.9025803734583245,
          0.9025803734583245,
          0.9025803734583245,
          0.9025803734583245,
          0.9025803734583245,
          0.9025803734583245,
          0.9025803734583245,
          0.9025803734583245,
          0.9025803734583245,
          0.9025803734583245,
          0.9025803734583245,
          0.9025803734583245,
          0.9025803734583245,
          0.9025803734583245,
          0.9025803734583245,
          0.9025803734583245,
          0.9025803734583245,
          0.9025803734583245,
          0.9025803734583245,
          0.9025803734583245,
          0.9025803734583245,
          0.9025803734583245,
          0.9025803734583245,
          0.9025803734583245,
          0.9025803734583245,
          0.9025803734583245,
          0.9025803734583245,
          0.9025803734583245,
          0.9025803734583245,
          0.9025803734583245,
          0.9025803734583245,
          0.9025803734583245,
          0.9025803734583245,
          0.9025803734583245,
          0.9025803734583245,
          0.9025803734583245,
          0.9025803734583245,
          0.9025803734583245,
          0.9025803734583245,
          0.9025803734583245,
          0.9025803734583245,
          0.9025803734583245,
          0.9025803734583245,
          0.9025803734583245,
          0.9025803734583245,
          0.9025803734583245,
          0.9025803734583245,
          0.9025803734583245,
          0.9025803734583245,
          0.9025803734583245,
          0.9025803734583245,
          0.9025803734583245,
          0.9025803734583245,
          0.9025803734583245,
          0.9025803734583245,
          0.9025803734583245,
          0.9025803734583245,
          0.9025803734583245,
          0.9025803734583245,
          0.9025803734583245,
          0.9025803734583245,
          0.9025803734583245,
          0.9025803734583245,
          0.9025803734583245,
          0.9025803734583245,
          0.9025803734583245,
          0.9025803734583245,
          0.9025803734583245,
          0.9025803734583245,
          0.9025803734583245,
          0.9025803734583245,
          0.9025803734583245,
          0.9025803734583245,
          0.9025803734583245,
          0.9025803734583245,
          0.9025803734583245,
          0.9025803734583245,
          0.9025803734583245,
          0.9025803734583245,
          0.9025803734583245,
          0.9025803734583245,
          0.9025803734583245,
          0.9025803734583245,
          0.9025803734583245,
          0.9025803734583245,
          0.9025803734583245,
          0.9025803734583245,
          0.9025803734583245,
          0.9025803734583245,
          0.9025803734583245,
          0.9025803734583245,
          0.9025803734583245,
          0.9025803734583245,
          0.9025803734583245,
          0.9025803734583245,
          0.9025803734583245,
          0.9025803734583245,
          0.9025803734583245,
          0.9025803734583245,
          0.9025803734583245,
          0.9025803734583245,
          0.9025803734583245,
          0.9025803734583245,
          0.9025803734583245,
          0.9025803734583245
         ]
        }
       ],
       "layout": {
        "template": {
         "data": {
          "bar": [
           {
            "error_x": {
             "color": "#2a3f5f"
            },
            "error_y": {
             "color": "#2a3f5f"
            },
            "marker": {
             "line": {
              "color": "#E5ECF6",
              "width": 0.5
             },
             "pattern": {
              "fillmode": "overlay",
              "size": 10,
              "solidity": 0.2
             }
            },
            "type": "bar"
           }
          ],
          "barpolar": [
           {
            "marker": {
             "line": {
              "color": "#E5ECF6",
              "width": 0.5
             },
             "pattern": {
              "fillmode": "overlay",
              "size": 10,
              "solidity": 0.2
             }
            },
            "type": "barpolar"
           }
          ],
          "carpet": [
           {
            "aaxis": {
             "endlinecolor": "#2a3f5f",
             "gridcolor": "white",
             "linecolor": "white",
             "minorgridcolor": "white",
             "startlinecolor": "#2a3f5f"
            },
            "baxis": {
             "endlinecolor": "#2a3f5f",
             "gridcolor": "white",
             "linecolor": "white",
             "minorgridcolor": "white",
             "startlinecolor": "#2a3f5f"
            },
            "type": "carpet"
           }
          ],
          "choropleth": [
           {
            "colorbar": {
             "outlinewidth": 0,
             "ticks": ""
            },
            "type": "choropleth"
           }
          ],
          "contour": [
           {
            "colorbar": {
             "outlinewidth": 0,
             "ticks": ""
            },
            "colorscale": [
             [
              0,
              "#0d0887"
             ],
             [
              0.1111111111111111,
              "#46039f"
             ],
             [
              0.2222222222222222,
              "#7201a8"
             ],
             [
              0.3333333333333333,
              "#9c179e"
             ],
             [
              0.4444444444444444,
              "#bd3786"
             ],
             [
              0.5555555555555556,
              "#d8576b"
             ],
             [
              0.6666666666666666,
              "#ed7953"
             ],
             [
              0.7777777777777778,
              "#fb9f3a"
             ],
             [
              0.8888888888888888,
              "#fdca26"
             ],
             [
              1,
              "#f0f921"
             ]
            ],
            "type": "contour"
           }
          ],
          "contourcarpet": [
           {
            "colorbar": {
             "outlinewidth": 0,
             "ticks": ""
            },
            "type": "contourcarpet"
           }
          ],
          "heatmap": [
           {
            "colorbar": {
             "outlinewidth": 0,
             "ticks": ""
            },
            "colorscale": [
             [
              0,
              "#0d0887"
             ],
             [
              0.1111111111111111,
              "#46039f"
             ],
             [
              0.2222222222222222,
              "#7201a8"
             ],
             [
              0.3333333333333333,
              "#9c179e"
             ],
             [
              0.4444444444444444,
              "#bd3786"
             ],
             [
              0.5555555555555556,
              "#d8576b"
             ],
             [
              0.6666666666666666,
              "#ed7953"
             ],
             [
              0.7777777777777778,
              "#fb9f3a"
             ],
             [
              0.8888888888888888,
              "#fdca26"
             ],
             [
              1,
              "#f0f921"
             ]
            ],
            "type": "heatmap"
           }
          ],
          "heatmapgl": [
           {
            "colorbar": {
             "outlinewidth": 0,
             "ticks": ""
            },
            "colorscale": [
             [
              0,
              "#0d0887"
             ],
             [
              0.1111111111111111,
              "#46039f"
             ],
             [
              0.2222222222222222,
              "#7201a8"
             ],
             [
              0.3333333333333333,
              "#9c179e"
             ],
             [
              0.4444444444444444,
              "#bd3786"
             ],
             [
              0.5555555555555556,
              "#d8576b"
             ],
             [
              0.6666666666666666,
              "#ed7953"
             ],
             [
              0.7777777777777778,
              "#fb9f3a"
             ],
             [
              0.8888888888888888,
              "#fdca26"
             ],
             [
              1,
              "#f0f921"
             ]
            ],
            "type": "heatmapgl"
           }
          ],
          "histogram": [
           {
            "marker": {
             "pattern": {
              "fillmode": "overlay",
              "size": 10,
              "solidity": 0.2
             }
            },
            "type": "histogram"
           }
          ],
          "histogram2d": [
           {
            "colorbar": {
             "outlinewidth": 0,
             "ticks": ""
            },
            "colorscale": [
             [
              0,
              "#0d0887"
             ],
             [
              0.1111111111111111,
              "#46039f"
             ],
             [
              0.2222222222222222,
              "#7201a8"
             ],
             [
              0.3333333333333333,
              "#9c179e"
             ],
             [
              0.4444444444444444,
              "#bd3786"
             ],
             [
              0.5555555555555556,
              "#d8576b"
             ],
             [
              0.6666666666666666,
              "#ed7953"
             ],
             [
              0.7777777777777778,
              "#fb9f3a"
             ],
             [
              0.8888888888888888,
              "#fdca26"
             ],
             [
              1,
              "#f0f921"
             ]
            ],
            "type": "histogram2d"
           }
          ],
          "histogram2dcontour": [
           {
            "colorbar": {
             "outlinewidth": 0,
             "ticks": ""
            },
            "colorscale": [
             [
              0,
              "#0d0887"
             ],
             [
              0.1111111111111111,
              "#46039f"
             ],
             [
              0.2222222222222222,
              "#7201a8"
             ],
             [
              0.3333333333333333,
              "#9c179e"
             ],
             [
              0.4444444444444444,
              "#bd3786"
             ],
             [
              0.5555555555555556,
              "#d8576b"
             ],
             [
              0.6666666666666666,
              "#ed7953"
             ],
             [
              0.7777777777777778,
              "#fb9f3a"
             ],
             [
              0.8888888888888888,
              "#fdca26"
             ],
             [
              1,
              "#f0f921"
             ]
            ],
            "type": "histogram2dcontour"
           }
          ],
          "mesh3d": [
           {
            "colorbar": {
             "outlinewidth": 0,
             "ticks": ""
            },
            "type": "mesh3d"
           }
          ],
          "parcoords": [
           {
            "line": {
             "colorbar": {
              "outlinewidth": 0,
              "ticks": ""
             }
            },
            "type": "parcoords"
           }
          ],
          "pie": [
           {
            "automargin": true,
            "type": "pie"
           }
          ],
          "scatter": [
           {
            "marker": {
             "colorbar": {
              "outlinewidth": 0,
              "ticks": ""
             }
            },
            "type": "scatter"
           }
          ],
          "scatter3d": [
           {
            "line": {
             "colorbar": {
              "outlinewidth": 0,
              "ticks": ""
             }
            },
            "marker": {
             "colorbar": {
              "outlinewidth": 0,
              "ticks": ""
             }
            },
            "type": "scatter3d"
           }
          ],
          "scattercarpet": [
           {
            "marker": {
             "colorbar": {
              "outlinewidth": 0,
              "ticks": ""
             }
            },
            "type": "scattercarpet"
           }
          ],
          "scattergeo": [
           {
            "marker": {
             "colorbar": {
              "outlinewidth": 0,
              "ticks": ""
             }
            },
            "type": "scattergeo"
           }
          ],
          "scattergl": [
           {
            "marker": {
             "colorbar": {
              "outlinewidth": 0,
              "ticks": ""
             }
            },
            "type": "scattergl"
           }
          ],
          "scattermapbox": [
           {
            "marker": {
             "colorbar": {
              "outlinewidth": 0,
              "ticks": ""
             }
            },
            "type": "scattermapbox"
           }
          ],
          "scatterpolar": [
           {
            "marker": {
             "colorbar": {
              "outlinewidth": 0,
              "ticks": ""
             }
            },
            "type": "scatterpolar"
           }
          ],
          "scatterpolargl": [
           {
            "marker": {
             "colorbar": {
              "outlinewidth": 0,
              "ticks": ""
             }
            },
            "type": "scatterpolargl"
           }
          ],
          "scatterternary": [
           {
            "marker": {
             "colorbar": {
              "outlinewidth": 0,
              "ticks": ""
             }
            },
            "type": "scatterternary"
           }
          ],
          "surface": [
           {
            "colorbar": {
             "outlinewidth": 0,
             "ticks": ""
            },
            "colorscale": [
             [
              0,
              "#0d0887"
             ],
             [
              0.1111111111111111,
              "#46039f"
             ],
             [
              0.2222222222222222,
              "#7201a8"
             ],
             [
              0.3333333333333333,
              "#9c179e"
             ],
             [
              0.4444444444444444,
              "#bd3786"
             ],
             [
              0.5555555555555556,
              "#d8576b"
             ],
             [
              0.6666666666666666,
              "#ed7953"
             ],
             [
              0.7777777777777778,
              "#fb9f3a"
             ],
             [
              0.8888888888888888,
              "#fdca26"
             ],
             [
              1,
              "#f0f921"
             ]
            ],
            "type": "surface"
           }
          ],
          "table": [
           {
            "cells": {
             "fill": {
              "color": "#EBF0F8"
             },
             "line": {
              "color": "white"
             }
            },
            "header": {
             "fill": {
              "color": "#C8D4E3"
             },
             "line": {
              "color": "white"
             }
            },
            "type": "table"
           }
          ]
         },
         "layout": {
          "annotationdefaults": {
           "arrowcolor": "#2a3f5f",
           "arrowhead": 0,
           "arrowwidth": 1
          },
          "autotypenumbers": "strict",
          "coloraxis": {
           "colorbar": {
            "outlinewidth": 0,
            "ticks": ""
           }
          },
          "colorscale": {
           "diverging": [
            [
             0,
             "#8e0152"
            ],
            [
             0.1,
             "#c51b7d"
            ],
            [
             0.2,
             "#de77ae"
            ],
            [
             0.3,
             "#f1b6da"
            ],
            [
             0.4,
             "#fde0ef"
            ],
            [
             0.5,
             "#f7f7f7"
            ],
            [
             0.6,
             "#e6f5d0"
            ],
            [
             0.7,
             "#b8e186"
            ],
            [
             0.8,
             "#7fbc41"
            ],
            [
             0.9,
             "#4d9221"
            ],
            [
             1,
             "#276419"
            ]
           ],
           "sequential": [
            [
             0,
             "#0d0887"
            ],
            [
             0.1111111111111111,
             "#46039f"
            ],
            [
             0.2222222222222222,
             "#7201a8"
            ],
            [
             0.3333333333333333,
             "#9c179e"
            ],
            [
             0.4444444444444444,
             "#bd3786"
            ],
            [
             0.5555555555555556,
             "#d8576b"
            ],
            [
             0.6666666666666666,
             "#ed7953"
            ],
            [
             0.7777777777777778,
             "#fb9f3a"
            ],
            [
             0.8888888888888888,
             "#fdca26"
            ],
            [
             1,
             "#f0f921"
            ]
           ],
           "sequentialminus": [
            [
             0,
             "#0d0887"
            ],
            [
             0.1111111111111111,
             "#46039f"
            ],
            [
             0.2222222222222222,
             "#7201a8"
            ],
            [
             0.3333333333333333,
             "#9c179e"
            ],
            [
             0.4444444444444444,
             "#bd3786"
            ],
            [
             0.5555555555555556,
             "#d8576b"
            ],
            [
             0.6666666666666666,
             "#ed7953"
            ],
            [
             0.7777777777777778,
             "#fb9f3a"
            ],
            [
             0.8888888888888888,
             "#fdca26"
            ],
            [
             1,
             "#f0f921"
            ]
           ]
          },
          "colorway": [
           "#636efa",
           "#EF553B",
           "#00cc96",
           "#ab63fa",
           "#FFA15A",
           "#19d3f3",
           "#FF6692",
           "#B6E880",
           "#FF97FF",
           "#FECB52"
          ],
          "font": {
           "color": "#2a3f5f"
          },
          "geo": {
           "bgcolor": "white",
           "lakecolor": "white",
           "landcolor": "#E5ECF6",
           "showlakes": true,
           "showland": true,
           "subunitcolor": "white"
          },
          "hoverlabel": {
           "align": "left"
          },
          "hovermode": "closest",
          "mapbox": {
           "style": "light"
          },
          "paper_bgcolor": "white",
          "plot_bgcolor": "#E5ECF6",
          "polar": {
           "angularaxis": {
            "gridcolor": "white",
            "linecolor": "white",
            "ticks": ""
           },
           "bgcolor": "#E5ECF6",
           "radialaxis": {
            "gridcolor": "white",
            "linecolor": "white",
            "ticks": ""
           }
          },
          "scene": {
           "xaxis": {
            "backgroundcolor": "#E5ECF6",
            "gridcolor": "white",
            "gridwidth": 2,
            "linecolor": "white",
            "showbackground": true,
            "ticks": "",
            "zerolinecolor": "white"
           },
           "yaxis": {
            "backgroundcolor": "#E5ECF6",
            "gridcolor": "white",
            "gridwidth": 2,
            "linecolor": "white",
            "showbackground": true,
            "ticks": "",
            "zerolinecolor": "white"
           },
           "zaxis": {
            "backgroundcolor": "#E5ECF6",
            "gridcolor": "white",
            "gridwidth": 2,
            "linecolor": "white",
            "showbackground": true,
            "ticks": "",
            "zerolinecolor": "white"
           }
          },
          "shapedefaults": {
           "line": {
            "color": "#2a3f5f"
           }
          },
          "ternary": {
           "aaxis": {
            "gridcolor": "white",
            "linecolor": "white",
            "ticks": ""
           },
           "baxis": {
            "gridcolor": "white",
            "linecolor": "white",
            "ticks": ""
           },
           "bgcolor": "#E5ECF6",
           "caxis": {
            "gridcolor": "white",
            "linecolor": "white",
            "ticks": ""
           }
          },
          "title": {
           "x": 0.05
          },
          "xaxis": {
           "automargin": true,
           "gridcolor": "white",
           "linecolor": "white",
           "ticks": "",
           "title": {
            "standoff": 15
           },
           "zerolinecolor": "white",
           "zerolinewidth": 2
          },
          "yaxis": {
           "automargin": true,
           "gridcolor": "white",
           "linecolor": "white",
           "ticks": "",
           "title": {
            "standoff": 15
           },
           "zerolinecolor": "white",
           "zerolinewidth": 2
          }
         }
        },
        "title": {
         "text": "Optimization History Plot"
        },
        "xaxis": {
         "title": {
          "text": "#Trials"
         }
        },
        "yaxis": {
         "title": {
          "text": "Objective Value"
         }
        }
       }
      }
     },
     "metadata": {},
     "output_type": "display_data"
    },
    {
     "data": {
      "application/vnd.plotly.v1+json": {
       "config": {
        "plotlyServerURL": "https://plot.ly"
       },
       "data": [
        {
         "cliponaxis": false,
         "hovertemplate": [
          "gamma (LogUniformDistribution): 0.001314585018698892<extra></extra>",
          "reg_alpha (LogUniformDistribution): 0.0018389008678682077<extra></extra>",
          "reg_lambda (LogUniformDistribution): 0.003972729001770791<extra></extra>",
          "min_child_weight (IntUniformDistribution): 0.015568955911613901<extra></extra>",
          "learning_rate (CategoricalDistribution): 0.042235778530560514<extra></extra>",
          "max_depth (CategoricalDistribution): 0.11542177723254986<extra></extra>",
          "n_estimators (IntUniformDistribution): 0.11942938624726396<extra></extra>",
          "subsample (UniformDistribution): 0.14001496076903644<extra></extra>",
          "colsample_bytree (UniformDistribution): 0.5602029264206374<extra></extra>"
         ],
         "marker": {
          "color": "rgb(66,146,198)"
         },
         "orientation": "h",
         "text": [
          "0.001314585018698892",
          "0.0018389008678682077",
          "0.003972729001770791",
          "0.015568955911613901",
          "0.042235778530560514",
          "0.11542177723254986",
          "0.11942938624726396",
          "0.14001496076903644",
          "0.5602029264206374"
         ],
         "textposition": "outside",
         "texttemplate": "%{text:.2f}",
         "type": "bar",
         "x": [
          0.001314585018698892,
          0.0018389008678682077,
          0.003972729001770791,
          0.015568955911613901,
          0.042235778530560514,
          0.11542177723254986,
          0.11942938624726396,
          0.14001496076903644,
          0.5602029264206374
         ],
         "y": [
          "gamma",
          "reg_alpha",
          "reg_lambda",
          "min_child_weight",
          "learning_rate",
          "max_depth",
          "n_estimators",
          "subsample",
          "colsample_bytree"
         ]
        }
       ],
       "layout": {
        "showlegend": false,
        "template": {
         "data": {
          "bar": [
           {
            "error_x": {
             "color": "#2a3f5f"
            },
            "error_y": {
             "color": "#2a3f5f"
            },
            "marker": {
             "line": {
              "color": "#E5ECF6",
              "width": 0.5
             },
             "pattern": {
              "fillmode": "overlay",
              "size": 10,
              "solidity": 0.2
             }
            },
            "type": "bar"
           }
          ],
          "barpolar": [
           {
            "marker": {
             "line": {
              "color": "#E5ECF6",
              "width": 0.5
             },
             "pattern": {
              "fillmode": "overlay",
              "size": 10,
              "solidity": 0.2
             }
            },
            "type": "barpolar"
           }
          ],
          "carpet": [
           {
            "aaxis": {
             "endlinecolor": "#2a3f5f",
             "gridcolor": "white",
             "linecolor": "white",
             "minorgridcolor": "white",
             "startlinecolor": "#2a3f5f"
            },
            "baxis": {
             "endlinecolor": "#2a3f5f",
             "gridcolor": "white",
             "linecolor": "white",
             "minorgridcolor": "white",
             "startlinecolor": "#2a3f5f"
            },
            "type": "carpet"
           }
          ],
          "choropleth": [
           {
            "colorbar": {
             "outlinewidth": 0,
             "ticks": ""
            },
            "type": "choropleth"
           }
          ],
          "contour": [
           {
            "colorbar": {
             "outlinewidth": 0,
             "ticks": ""
            },
            "colorscale": [
             [
              0,
              "#0d0887"
             ],
             [
              0.1111111111111111,
              "#46039f"
             ],
             [
              0.2222222222222222,
              "#7201a8"
             ],
             [
              0.3333333333333333,
              "#9c179e"
             ],
             [
              0.4444444444444444,
              "#bd3786"
             ],
             [
              0.5555555555555556,
              "#d8576b"
             ],
             [
              0.6666666666666666,
              "#ed7953"
             ],
             [
              0.7777777777777778,
              "#fb9f3a"
             ],
             [
              0.8888888888888888,
              "#fdca26"
             ],
             [
              1,
              "#f0f921"
             ]
            ],
            "type": "contour"
           }
          ],
          "contourcarpet": [
           {
            "colorbar": {
             "outlinewidth": 0,
             "ticks": ""
            },
            "type": "contourcarpet"
           }
          ],
          "heatmap": [
           {
            "colorbar": {
             "outlinewidth": 0,
             "ticks": ""
            },
            "colorscale": [
             [
              0,
              "#0d0887"
             ],
             [
              0.1111111111111111,
              "#46039f"
             ],
             [
              0.2222222222222222,
              "#7201a8"
             ],
             [
              0.3333333333333333,
              "#9c179e"
             ],
             [
              0.4444444444444444,
              "#bd3786"
             ],
             [
              0.5555555555555556,
              "#d8576b"
             ],
             [
              0.6666666666666666,
              "#ed7953"
             ],
             [
              0.7777777777777778,
              "#fb9f3a"
             ],
             [
              0.8888888888888888,
              "#fdca26"
             ],
             [
              1,
              "#f0f921"
             ]
            ],
            "type": "heatmap"
           }
          ],
          "heatmapgl": [
           {
            "colorbar": {
             "outlinewidth": 0,
             "ticks": ""
            },
            "colorscale": [
             [
              0,
              "#0d0887"
             ],
             [
              0.1111111111111111,
              "#46039f"
             ],
             [
              0.2222222222222222,
              "#7201a8"
             ],
             [
              0.3333333333333333,
              "#9c179e"
             ],
             [
              0.4444444444444444,
              "#bd3786"
             ],
             [
              0.5555555555555556,
              "#d8576b"
             ],
             [
              0.6666666666666666,
              "#ed7953"
             ],
             [
              0.7777777777777778,
              "#fb9f3a"
             ],
             [
              0.8888888888888888,
              "#fdca26"
             ],
             [
              1,
              "#f0f921"
             ]
            ],
            "type": "heatmapgl"
           }
          ],
          "histogram": [
           {
            "marker": {
             "pattern": {
              "fillmode": "overlay",
              "size": 10,
              "solidity": 0.2
             }
            },
            "type": "histogram"
           }
          ],
          "histogram2d": [
           {
            "colorbar": {
             "outlinewidth": 0,
             "ticks": ""
            },
            "colorscale": [
             [
              0,
              "#0d0887"
             ],
             [
              0.1111111111111111,
              "#46039f"
             ],
             [
              0.2222222222222222,
              "#7201a8"
             ],
             [
              0.3333333333333333,
              "#9c179e"
             ],
             [
              0.4444444444444444,
              "#bd3786"
             ],
             [
              0.5555555555555556,
              "#d8576b"
             ],
             [
              0.6666666666666666,
              "#ed7953"
             ],
             [
              0.7777777777777778,
              "#fb9f3a"
             ],
             [
              0.8888888888888888,
              "#fdca26"
             ],
             [
              1,
              "#f0f921"
             ]
            ],
            "type": "histogram2d"
           }
          ],
          "histogram2dcontour": [
           {
            "colorbar": {
             "outlinewidth": 0,
             "ticks": ""
            },
            "colorscale": [
             [
              0,
              "#0d0887"
             ],
             [
              0.1111111111111111,
              "#46039f"
             ],
             [
              0.2222222222222222,
              "#7201a8"
             ],
             [
              0.3333333333333333,
              "#9c179e"
             ],
             [
              0.4444444444444444,
              "#bd3786"
             ],
             [
              0.5555555555555556,
              "#d8576b"
             ],
             [
              0.6666666666666666,
              "#ed7953"
             ],
             [
              0.7777777777777778,
              "#fb9f3a"
             ],
             [
              0.8888888888888888,
              "#fdca26"
             ],
             [
              1,
              "#f0f921"
             ]
            ],
            "type": "histogram2dcontour"
           }
          ],
          "mesh3d": [
           {
            "colorbar": {
             "outlinewidth": 0,
             "ticks": ""
            },
            "type": "mesh3d"
           }
          ],
          "parcoords": [
           {
            "line": {
             "colorbar": {
              "outlinewidth": 0,
              "ticks": ""
             }
            },
            "type": "parcoords"
           }
          ],
          "pie": [
           {
            "automargin": true,
            "type": "pie"
           }
          ],
          "scatter": [
           {
            "marker": {
             "colorbar": {
              "outlinewidth": 0,
              "ticks": ""
             }
            },
            "type": "scatter"
           }
          ],
          "scatter3d": [
           {
            "line": {
             "colorbar": {
              "outlinewidth": 0,
              "ticks": ""
             }
            },
            "marker": {
             "colorbar": {
              "outlinewidth": 0,
              "ticks": ""
             }
            },
            "type": "scatter3d"
           }
          ],
          "scattercarpet": [
           {
            "marker": {
             "colorbar": {
              "outlinewidth": 0,
              "ticks": ""
             }
            },
            "type": "scattercarpet"
           }
          ],
          "scattergeo": [
           {
            "marker": {
             "colorbar": {
              "outlinewidth": 0,
              "ticks": ""
             }
            },
            "type": "scattergeo"
           }
          ],
          "scattergl": [
           {
            "marker": {
             "colorbar": {
              "outlinewidth": 0,
              "ticks": ""
             }
            },
            "type": "scattergl"
           }
          ],
          "scattermapbox": [
           {
            "marker": {
             "colorbar": {
              "outlinewidth": 0,
              "ticks": ""
             }
            },
            "type": "scattermapbox"
           }
          ],
          "scatterpolar": [
           {
            "marker": {
             "colorbar": {
              "outlinewidth": 0,
              "ticks": ""
             }
            },
            "type": "scatterpolar"
           }
          ],
          "scatterpolargl": [
           {
            "marker": {
             "colorbar": {
              "outlinewidth": 0,
              "ticks": ""
             }
            },
            "type": "scatterpolargl"
           }
          ],
          "scatterternary": [
           {
            "marker": {
             "colorbar": {
              "outlinewidth": 0,
              "ticks": ""
             }
            },
            "type": "scatterternary"
           }
          ],
          "surface": [
           {
            "colorbar": {
             "outlinewidth": 0,
             "ticks": ""
            },
            "colorscale": [
             [
              0,
              "#0d0887"
             ],
             [
              0.1111111111111111,
              "#46039f"
             ],
             [
              0.2222222222222222,
              "#7201a8"
             ],
             [
              0.3333333333333333,
              "#9c179e"
             ],
             [
              0.4444444444444444,
              "#bd3786"
             ],
             [
              0.5555555555555556,
              "#d8576b"
             ],
             [
              0.6666666666666666,
              "#ed7953"
             ],
             [
              0.7777777777777778,
              "#fb9f3a"
             ],
             [
              0.8888888888888888,
              "#fdca26"
             ],
             [
              1,
              "#f0f921"
             ]
            ],
            "type": "surface"
           }
          ],
          "table": [
           {
            "cells": {
             "fill": {
              "color": "#EBF0F8"
             },
             "line": {
              "color": "white"
             }
            },
            "header": {
             "fill": {
              "color": "#C8D4E3"
             },
             "line": {
              "color": "white"
             }
            },
            "type": "table"
           }
          ]
         },
         "layout": {
          "annotationdefaults": {
           "arrowcolor": "#2a3f5f",
           "arrowhead": 0,
           "arrowwidth": 1
          },
          "autotypenumbers": "strict",
          "coloraxis": {
           "colorbar": {
            "outlinewidth": 0,
            "ticks": ""
           }
          },
          "colorscale": {
           "diverging": [
            [
             0,
             "#8e0152"
            ],
            [
             0.1,
             "#c51b7d"
            ],
            [
             0.2,
             "#de77ae"
            ],
            [
             0.3,
             "#f1b6da"
            ],
            [
             0.4,
             "#fde0ef"
            ],
            [
             0.5,
             "#f7f7f7"
            ],
            [
             0.6,
             "#e6f5d0"
            ],
            [
             0.7,
             "#b8e186"
            ],
            [
             0.8,
             "#7fbc41"
            ],
            [
             0.9,
             "#4d9221"
            ],
            [
             1,
             "#276419"
            ]
           ],
           "sequential": [
            [
             0,
             "#0d0887"
            ],
            [
             0.1111111111111111,
             "#46039f"
            ],
            [
             0.2222222222222222,
             "#7201a8"
            ],
            [
             0.3333333333333333,
             "#9c179e"
            ],
            [
             0.4444444444444444,
             "#bd3786"
            ],
            [
             0.5555555555555556,
             "#d8576b"
            ],
            [
             0.6666666666666666,
             "#ed7953"
            ],
            [
             0.7777777777777778,
             "#fb9f3a"
            ],
            [
             0.8888888888888888,
             "#fdca26"
            ],
            [
             1,
             "#f0f921"
            ]
           ],
           "sequentialminus": [
            [
             0,
             "#0d0887"
            ],
            [
             0.1111111111111111,
             "#46039f"
            ],
            [
             0.2222222222222222,
             "#7201a8"
            ],
            [
             0.3333333333333333,
             "#9c179e"
            ],
            [
             0.4444444444444444,
             "#bd3786"
            ],
            [
             0.5555555555555556,
             "#d8576b"
            ],
            [
             0.6666666666666666,
             "#ed7953"
            ],
            [
             0.7777777777777778,
             "#fb9f3a"
            ],
            [
             0.8888888888888888,
             "#fdca26"
            ],
            [
             1,
             "#f0f921"
            ]
           ]
          },
          "colorway": [
           "#636efa",
           "#EF553B",
           "#00cc96",
           "#ab63fa",
           "#FFA15A",
           "#19d3f3",
           "#FF6692",
           "#B6E880",
           "#FF97FF",
           "#FECB52"
          ],
          "font": {
           "color": "#2a3f5f"
          },
          "geo": {
           "bgcolor": "white",
           "lakecolor": "white",
           "landcolor": "#E5ECF6",
           "showlakes": true,
           "showland": true,
           "subunitcolor": "white"
          },
          "hoverlabel": {
           "align": "left"
          },
          "hovermode": "closest",
          "mapbox": {
           "style": "light"
          },
          "paper_bgcolor": "white",
          "plot_bgcolor": "#E5ECF6",
          "polar": {
           "angularaxis": {
            "gridcolor": "white",
            "linecolor": "white",
            "ticks": ""
           },
           "bgcolor": "#E5ECF6",
           "radialaxis": {
            "gridcolor": "white",
            "linecolor": "white",
            "ticks": ""
           }
          },
          "scene": {
           "xaxis": {
            "backgroundcolor": "#E5ECF6",
            "gridcolor": "white",
            "gridwidth": 2,
            "linecolor": "white",
            "showbackground": true,
            "ticks": "",
            "zerolinecolor": "white"
           },
           "yaxis": {
            "backgroundcolor": "#E5ECF6",
            "gridcolor": "white",
            "gridwidth": 2,
            "linecolor": "white",
            "showbackground": true,
            "ticks": "",
            "zerolinecolor": "white"
           },
           "zaxis": {
            "backgroundcolor": "#E5ECF6",
            "gridcolor": "white",
            "gridwidth": 2,
            "linecolor": "white",
            "showbackground": true,
            "ticks": "",
            "zerolinecolor": "white"
           }
          },
          "shapedefaults": {
           "line": {
            "color": "#2a3f5f"
           }
          },
          "ternary": {
           "aaxis": {
            "gridcolor": "white",
            "linecolor": "white",
            "ticks": ""
           },
           "baxis": {
            "gridcolor": "white",
            "linecolor": "white",
            "ticks": ""
           },
           "bgcolor": "#E5ECF6",
           "caxis": {
            "gridcolor": "white",
            "linecolor": "white",
            "ticks": ""
           }
          },
          "title": {
           "x": 0.05
          },
          "xaxis": {
           "automargin": true,
           "gridcolor": "white",
           "linecolor": "white",
           "ticks": "",
           "title": {
            "standoff": 15
           },
           "zerolinecolor": "white",
           "zerolinewidth": 2
          },
          "yaxis": {
           "automargin": true,
           "gridcolor": "white",
           "linecolor": "white",
           "ticks": "",
           "title": {
            "standoff": 15
           },
           "zerolinecolor": "white",
           "zerolinewidth": 2
          }
         }
        },
        "title": {
         "text": "Hyperparameter Importances"
        },
        "xaxis": {
         "title": {
          "text": "Importance for Objective Value"
         }
        },
        "yaxis": {
         "title": {
          "text": "Hyperparameter"
         }
        }
       }
      }
     },
     "metadata": {},
     "output_type": "display_data"
    },
    {
     "data": {
      "application/vnd.plotly.v1+json": {
       "config": {
        "plotlyServerURL": "https://plot.ly"
       },
       "data": [
        {
         "marker": {
          "color": [
           0,
           1,
           2,
           3,
           4,
           5,
           6,
           7,
           8,
           9,
           10,
           11,
           12,
           13,
           14,
           15,
           16,
           17,
           18,
           19,
           20,
           21,
           22,
           23,
           24,
           25,
           26,
           27,
           28,
           29,
           30,
           31,
           32,
           33,
           34,
           35,
           36,
           37,
           38,
           39,
           40,
           41,
           42,
           43,
           44,
           45,
           46,
           47,
           48,
           49,
           50,
           51,
           52,
           53,
           54,
           55,
           56,
           57,
           58,
           59,
           60,
           61,
           62,
           63,
           64,
           65,
           66,
           67,
           68,
           69,
           70,
           71,
           72,
           73,
           74,
           75,
           76,
           77,
           78,
           79,
           80,
           81,
           82,
           83,
           84,
           85,
           86,
           87,
           88,
           89,
           90,
           91,
           92,
           93,
           94,
           95,
           96,
           97,
           98,
           99,
           100,
           101,
           102,
           103,
           104,
           105,
           106,
           107,
           108,
           109,
           110,
           111,
           112,
           113,
           114,
           115,
           116,
           117,
           118,
           119,
           120,
           121,
           122,
           123,
           124,
           125,
           126,
           127,
           128,
           129,
           130,
           131,
           132,
           133,
           134,
           135,
           136,
           137,
           138,
           139,
           140,
           141,
           142,
           143,
           144,
           145,
           146,
           147,
           148,
           149,
           150,
           151,
           152,
           153,
           154,
           155,
           156,
           157,
           158,
           159,
           160,
           161,
           162,
           163,
           164,
           165,
           166,
           167,
           168,
           169,
           170,
           171,
           172,
           173,
           174,
           175,
           176,
           177,
           178,
           179,
           180,
           181,
           182,
           183,
           184,
           185,
           186,
           187,
           188,
           189,
           190,
           191,
           192,
           193,
           194,
           195,
           196,
           197,
           198,
           199
          ],
          "colorbar": {
           "title": {
            "text": "#Trials"
           },
           "x": 1,
           "xpad": 40
          },
          "colorscale": [
           [
            0,
            "rgb(247,251,255)"
           ],
           [
            0.125,
            "rgb(222,235,247)"
           ],
           [
            0.25,
            "rgb(198,219,239)"
           ],
           [
            0.375,
            "rgb(158,202,225)"
           ],
           [
            0.5,
            "rgb(107,174,214)"
           ],
           [
            0.625,
            "rgb(66,146,198)"
           ],
           [
            0.75,
            "rgb(33,113,181)"
           ],
           [
            0.875,
            "rgb(8,81,156)"
           ],
           [
            1,
            "rgb(8,48,107)"
           ]
          ],
          "line": {
           "color": "Grey",
           "width": 0.5
          },
          "showscale": true
         },
         "mode": "markers",
         "showlegend": false,
         "type": "scatter",
         "x": [
          0.18296714499432493,
          0.9506997837670826,
          0.583075519577882,
          0.668459334779269,
          0.2278166736399974,
          0.7801682135389737,
          0.2132538953433452,
          0.9243725153422704,
          0.975825523651683,
          0.7676208703357098,
          0.2033122076653427,
          0.4418852435239452,
          0.2609193844917418,
          0.7094180884081517,
          0.5799047815141013,
          0.7821439866990499,
          0.5091023576278131,
          0.7823581423369796,
          0.9671878062648123,
          0.7946729153941874,
          0.8054474589661575,
          0.8243554357189645,
          0.8267323430120666,
          0.4571888320220032,
          0.43087843525398917,
          0.4059182072705958,
          0.8722704622866125,
          0.8739099501147207,
          0.4294890056852362,
          0.3974619663330653,
          0.3969112334374687,
          0.38349589252044003,
          0.33862981325929964,
          0.8846945091169688,
          0.9114168851037279,
          0.8729346630097515,
          0.8732378320075411,
          0.11045645731593778,
          0.8727261447642748,
          0.9961071353871478,
          0.710108277826832,
          0.9934875417278164,
          0.9883320409015777,
          0.6984656051711902,
          0.9949113604618621,
          0.7257669111086694,
          0.9995725487669329,
          0.9947811806659566,
          0.9938031343733122,
          0.9891155757965345,
          0.9920524312082677,
          0.9509815394333198,
          0.9471841679081423,
          0.9332749605017345,
          0.932349951577662,
          0.9459977542444807,
          0.9381764919397823,
          0.9355075187558044,
          0.9168572354670348,
          0.9060636075011068,
          0.900852803148232,
          0.6314764904635423,
          0.8954553457711459,
          0.6373596236975214,
          0.634425899579675,
          0.8419354166727809,
          0.8399373438339033,
          0.836870510162262,
          0.8996022557506701,
          0.8220428260105601,
          0.6213100372381071,
          0.6285537814295181,
          0.7456465820872158,
          0.6579438878079991,
          0.9036180535909393,
          0.7653278565486719,
          0.9116156078232024,
          0.526579831226499,
          0.5371238494867264,
          0.8501407751432419,
          0.8337917910878918,
          0.5116533539709127,
          0.5243655010960068,
          0.8471235680443144,
          0.8416259977877483,
          0.8467898976940685,
          0.8362205321983832,
          0.7659226709663364,
          0.7684361518220817,
          0.8544365628061281,
          0.7641405517622135,
          0.7618482738728869,
          0.8553620134820397,
          0.7630598452426179,
          0.8535019465434274,
          0.7604360758339744,
          0.7570411002328076,
          0.7636785817868325,
          0.7554865689492558,
          0.8015376433990711,
          0.8060141264842299,
          0.8084967311558734,
          0.7943336844754112,
          0.8006075455629557,
          0.7986116540947368,
          0.8034860780801026,
          0.7929804974530262,
          0.8126156457623798,
          0.7853745948376387,
          0.7359543371385094,
          0.8580145619864652,
          0.7253759272464033,
          0.727491642757446,
          0.7349373240185634,
          0.7396448673738728,
          0.7190814993366815,
          0.7284586501424097,
          0.7056406714198882,
          0.7075483810132855,
          0.7791929891475174,
          0.6953777528773805,
          0.6839695367246252,
          0.7007933337310959,
          0.7811463489605008,
          0.6809758389883913,
          0.6843658346193565,
          0.6951230424203039,
          0.6817382060017736,
          0.677763739109762,
          0.7765677249776123,
          0.7755705194837642,
          0.8214804120304112,
          0.7759291327838456,
          0.8212952462975794,
          0.8202554770267466,
          0.8183279714985588,
          0.5838447996732731,
          0.5835464628773663,
          0.5840462066090024,
          0.6586820872404077,
          0.6575177779357492,
          0.8690946860121745,
          0.5715743971873022,
          0.5807936656268063,
          0.8665778770843551,
          0.8832688321631186,
          0.8749014738462981,
          0.7790835827205336,
          0.7804376677876232,
          0.7791040225260036,
          0.7803259386293125,
          0.7783485992324055,
          0.7814875119085724,
          0.7730818003874772,
          0.7809551876853449,
          0.784029435112274,
          0.7815848578416276,
          0.8296424234159046,
          0.7466881960557387,
          0.8840097916587771,
          0.7478689077436923,
          0.8268886488894411,
          0.8306540731334926,
          0.7452338641113998,
          0.7482070690507909,
          0.8262434680138455,
          0.8079644973494156,
          0.8072851454955247,
          0.7494482432087071,
          0.7500324885832401,
          0.8035284836206439,
          0.8074988791474379,
          0.8012043534409137,
          0.8049317094231008,
          0.8006776692326927,
          0.8009113620616145,
          0.4788026508666976,
          0.7136031487579075,
          0.7157973721483455,
          0.7142378755854185,
          0.7121019746086161,
          0.7191641273427177,
          0.7131880667373885,
          0.7108302729749053,
          0.7083278907456774,
          0.8454908019317554,
          0.8489997721059668,
          0.8485039281727675,
          0.8400300457479923,
          0.8636618990234598,
          0.7557514661919794,
          0.7473919689929368,
          0.7437528864578368,
          0.2727404868641095,
          0.8578643531346921,
          0.8473754939652255,
          0.8509758867671161,
          0.8210818624091516,
          0.32659307168004315,
          0.8234712542067754
         ],
         "xaxis": "x",
         "y": [
          0.47727483354604894,
          0.8832415595769108,
          0.8746506618051384,
          0.7766438142084142,
          0.857671174079298,
          0.7955679655932874,
          0.8506779022777762,
          0.7726552064040655,
          0.8569977416341464,
          0.890331220952454,
          0.7978506368531979,
          0.8492970864454519,
          0.8228926529593948,
          0.844150842008592,
          0.8636202571450827,
          0.7031503401841451,
          0.8881429347738232,
          0.8861041004352208,
          0.8918455125423155,
          0.8831168197566222,
          0.8841310860395989,
          0.8860253256327211,
          0.8853999184803509,
          0.8745376577491044,
          0.8746935312477419,
          0.8808981276289354,
          0.8908747997238722,
          0.8912445852622588,
          0.884922917803509,
          0.883860115023045,
          0.8841729092012637,
          0.8841979167966564,
          0.882350516804884,
          0.8595509758954307,
          0.8556880813857253,
          0.8559611141489846,
          0.8823869554435422,
          0.7234051422276903,
          0.8904171347850781,
          0.8913174353706086,
          0.8898710728924302,
          0.8898346805366779,
          0.8915702295256253,
          0.889554701752375,
          0.8358166888803465,
          0.8354115387421924,
          0.8295130952327441,
          0.838184524350077,
          0.8344420319828629,
          0.7993401488668992,
          0.8440330676182114,
          0.8406580751843563,
          0.8451800874278396,
          0.8426458839828712,
          0.88564480757954,
          0.8963729260356939,
          0.8941505293398079,
          0.8320465861510824,
          0.89589767689666,
          0.8945598124720094,
          0.8939169126188492,
          0.8954205671061205,
          0.8969601826703165,
          0.8946170649743598,
          0.8921397104918496,
          0.8971483340784314,
          0.891638623557205,
          0.8948822043124443,
          0.8924202840066078,
          0.8769429698489951,
          0.8668263143108422,
          0.8821139264533292,
          0.8880872084065331,
          0.8834457276242682,
          0.8907529830916566,
          0.8986889695161079,
          0.8987039297060264,
          0.8935936517105185,
          0.8938024198146474,
          0.898745541133759,
          0.8983479613516053,
          0.8943319470414789,
          0.8899538531250387,
          0.9007163639819613,
          0.8970960245145345,
          0.8994618207597537,
          0.8991522549376313,
          0.8996928019651975,
          0.8995040231772471,
          0.9002413419161732,
          0.9000421968864993,
          0.9025803734583245,
          0.9015985165595378,
          0.8917116647058766,
          0.8937023426953591,
          0.8915292059755021,
          0.8850497583392123,
          0.88923699506927,
          0.8840229896320997,
          0.8911411198119227,
          0.8899166190032897,
          0.9018688155371948,
          0.9011921556398667,
          0.8988779660357906,
          0.8624774289572523,
          0.8628338600561589,
          0.8628739109537232,
          0.898518969872066,
          0.8992784655016217,
          0.8954989510894812,
          0.8985722264187013,
          0.8978831071076119,
          0.8977303957034353,
          0.8999049463724539,
          0.8987884473283746,
          0.8987959493178155,
          0.8987774417319783,
          0.8856526258241176,
          0.9005419191807021,
          0.9024175045782513,
          0.8959455234101608,
          0.8834396056828767,
          0.8847930124535954,
          0.884237473316339,
          0.8824250724093046,
          0.8961923519646131,
          0.900502145415649,
          0.8987209872840088,
          0.8987683787250225,
          0.900832787698071,
          0.9000957011198608,
          0.901507616188997,
          0.9008620190134389,
          0.8873434148252848,
          0.8873243352642355,
          0.8875125488123196,
          0.896148770940637,
          0.896896461330614,
          0.8972589757085963,
          0.8996672185192794,
          0.9001856314249442,
          0.8996117107171129,
          0.8951498788494398,
          0.896401581612821,
          0.899344260555841,
          0.8997900624808481,
          0.9004963880732408,
          0.8996834903088372,
          0.8993916716436869,
          0.899614514177132,
          0.8996953113266872,
          0.9002543127595624,
          0.9004393615201224,
          0.9003729395305807,
          0.9006260272555575,
          0.8992091709722473,
          0.9003515638971654,
          0.9000817992696583,
          0.9003359928789724,
          0.9003351505914916,
          0.8995487337964786,
          0.9002445160030058,
          0.9009733777121669,
          0.9005639011215985,
          0.9004901784672462,
          0.8992249309762789,
          0.9006846975763023,
          0.8995134732174568,
          0.9017438937659126,
          0.9014109385206135,
          0.9014669955420018,
          0.8624638857939114,
          0.8620043448289987,
          0.8614549797907584,
          0.8617973649879659,
          0.9002239632157375,
          0.8967560642855519,
          0.8998203004797738,
          0.8892940571242957,
          0.8898956438348261,
          0.8996417329902382,
          0.9007565691184327,
          0.9002822721918134,
          0.8911231103840522,
          0.9004879225685251,
          0.9007916990733076,
          0.9005352766653439,
          0.9017460533937449,
          0.8989932619520905,
          0.8998882882348417,
          0.8997760637578385,
          0.9008946653846349,
          0.8997299964728143,
          0.887933529189685,
          0.8998034537782116,
          0.8985638478216005,
          0.9012850516608817,
          0.9003011869389649,
          0.8891352584458196,
          0.9001119619111924
         ],
         "yaxis": "y"
        },
        {
         "marker": {
          "color": [
           0,
           1,
           2,
           3,
           4,
           5,
           6,
           7,
           8,
           9,
           10,
           11,
           12,
           13,
           14,
           15,
           16,
           17,
           18,
           19,
           20,
           21,
           22,
           23,
           24,
           25,
           26,
           27,
           28,
           29,
           30,
           31,
           32,
           33,
           34,
           35,
           36,
           37,
           38,
           39,
           40,
           41,
           42,
           43,
           44,
           45,
           46,
           47,
           48,
           49,
           50,
           51,
           52,
           53,
           54,
           55,
           56,
           57,
           58,
           59,
           60,
           61,
           62,
           63,
           64,
           65,
           66,
           67,
           68,
           69,
           70,
           71,
           72,
           73,
           74,
           75,
           76,
           77,
           78,
           79,
           80,
           81,
           82,
           83,
           84,
           85,
           86,
           87,
           88,
           89,
           90,
           91,
           92,
           93,
           94,
           95,
           96,
           97,
           98,
           99,
           100,
           101,
           102,
           103,
           104,
           105,
           106,
           107,
           108,
           109,
           110,
           111,
           112,
           113,
           114,
           115,
           116,
           117,
           118,
           119,
           120,
           121,
           122,
           123,
           124,
           125,
           126,
           127,
           128,
           129,
           130,
           131,
           132,
           133,
           134,
           135,
           136,
           137,
           138,
           139,
           140,
           141,
           142,
           143,
           144,
           145,
           146,
           147,
           148,
           149,
           150,
           151,
           152,
           153,
           154,
           155,
           156,
           157,
           158,
           159,
           160,
           161,
           162,
           163,
           164,
           165,
           166,
           167,
           168,
           169,
           170,
           171,
           172,
           173,
           174,
           175,
           176,
           177,
           178,
           179,
           180,
           181,
           182,
           183,
           184,
           185,
           186,
           187,
           188,
           189,
           190,
           191,
           192,
           193,
           194,
           195,
           196,
           197,
           198,
           199
          ],
          "colorbar": {
           "title": {
            "text": "#Trials"
           },
           "x": 1,
           "xpad": 40
          },
          "colorscale": [
           [
            0,
            "rgb(247,251,255)"
           ],
           [
            0.125,
            "rgb(222,235,247)"
           ],
           [
            0.25,
            "rgb(198,219,239)"
           ],
           [
            0.375,
            "rgb(158,202,225)"
           ],
           [
            0.5,
            "rgb(107,174,214)"
           ],
           [
            0.625,
            "rgb(66,146,198)"
           ],
           [
            0.75,
            "rgb(33,113,181)"
           ],
           [
            0.875,
            "rgb(8,81,156)"
           ],
           [
            1,
            "rgb(8,48,107)"
           ]
          ],
          "line": {
           "color": "Grey",
           "width": 0.5
          },
          "showscale": false
         },
         "mode": "markers",
         "showlegend": false,
         "type": "scatter",
         "x": [
          8.032007880256426,
          0.02259654855295797,
          0.8042264165438304,
          0.7562313051951715,
          7.085921769174465,
          1.5037904232561594,
          0.506952604198692,
          1.1314803065989272,
          3.0245071626815734,
          7.581483975589376,
          0.747862102058586,
          0.07062966030699339,
          1.4629507710646164,
          2.0113845570598716,
          4.971852562441805,
          4.295898346804767,
          0.7816075663796006,
          0.1690657004522185,
          0.010921832078306697,
          0.06963661126554523,
          0.15748812745032087,
          0.16273929574911555,
          0.2058546264477326,
          0.18605686227992058,
          0.1942396809988893,
          0.12590942808351654,
          0.010799609231164482,
          0.01936825735178872,
          0.020658122688520592,
          0.014935931028136966,
          0.01282827479229793,
          0.010060971822155169,
          0.041342886858852096,
          0.020246101013577187,
          0.010408132546021394,
          0.011340508347170136,
          0.01018426149921159,
          0.011613633569380798,
          0.010956694904135136,
          0.0332612305422617,
          0.032224385221323495,
          0.039152000813160205,
          0.03352961198997665,
          0.03604382170116102,
          0.037297977279222495,
          0.03264749034892783,
          0.03221398695781037,
          0.03604494734091284,
          0.030548411553004712,
          0.026517694663647274,
          0.0548435684625396,
          0.06088786301948709,
          0.058732402623391695,
          0.061614870932135725,
          0.06945511150240909,
          0.01771784429810639,
          0.01835390996741373,
          0.019066941951192958,
          0.016946077603309892,
          0.016426923858189467,
          0.016225063706505876,
          0.015084040412584612,
          0.015203273356046527,
          0.015617927223723257,
          0.015754383158648168,
          0.015065971553551235,
          0.01537888484946503,
          0.01571192761140191,
          0.015722313539644064,
          0.015491323398637756,
          0.01581963058328939,
          0.4204446532519819,
          0.024459497672738945,
          0.024481114768789777,
          0.024470960519772753,
          0.024692068908359576,
          0.0896746972879163,
          0.09536391544316697,
          0.02508461247828641,
          0.018927691934183023,
          0.047501176963442304,
          0.04809599365560378,
          0.04790359458874809,
          0.04726580416149403,
          0.013030194855464014,
          0.01294162929977023,
          0.04507060004274007,
          0.046305848327425646,
          0.2477590049207632,
          9.847950339241502,
          0.09351290198028243,
          0.08475013195223936,
          0.09663008630994453,
          0.09204646254286812,
          0.09562979805556263,
          0.0933325416209066,
          0.09252434349423093,
          0.2710656213115528,
          0.09633128407461243,
          0.09036129339535179,
          0.1154923081974473,
          0.24924497564390877,
          0.2938752422788403,
          0.12958141684412247,
          0.27076879699702844,
          0.24394115692593588,
          0.1269970361243426,
          0.13024245231584985,
          0.12382684702581236,
          0.13098114039414022,
          0.13763940183663662,
          0.6414851291052329,
          8.616824142675409,
          0.1474207109024205,
          0.40190953272846913,
          0.41888584744943913,
          0.4041019073219762,
          0.45262492177935,
          0.0759067566922547,
          0.4798129799828395,
          0.44620283333364313,
          0.3665816561957548,
          0.22004914957778443,
          0.22404533377435615,
          0.20109215730121482,
          0.17422302664714684,
          0.21071681437350795,
          2.406057751052462,
          0.2157437318558077,
          0.17206131715969222,
          6.559218043270034,
          1.2643220643687634,
          0.07775086519751159,
          0.07496978615209837,
          6.38419411745315,
          6.26062821770983,
          0.3166561100668476,
          1.2385340259068127,
          1.1915181604484295,
          6.353808705780945,
          5.252546330672479,
          1.4612879807442936,
          1.395840202729014,
          1.3899846001595593,
          1.2076835561523385,
          3.988288359305264,
          0.9310606677857277,
          4.387318596304656,
          9.715662948348024,
          7.500940023010449,
          9.943385898416304,
          9.407284273003777,
          3.525673525533403,
          9.814139928157383,
          0.9915738542661345,
          7.3989610237551835,
          0.8595924836114952,
          0.864364826967635,
          0.9547768087090656,
          0.5559396949065799,
          0.9710120362254004,
          0.9398639422316785,
          0.9813564294289112,
          1.8447713500088672,
          0.9171122595699537,
          0.6136330318748234,
          0.6041311939081294,
          1.0239113105516018,
          1.6961154550515858,
          1.7951203261218758,
          0.7228159500653875,
          0.7464013138392475,
          1.808835683823604,
          1.8855995358064501,
          1.6646754307590867,
          0.6897131199109022,
          0.07519893817959115,
          1.9173074518919693,
          2.4185933505427384,
          0.6839398660529676,
          0.0767567442513206,
          2.195648561804785,
          2.2360252226262762,
          2.473855449777385,
          2.421059162514692,
          2.2744024137496597,
          2.5059787485585683,
          2.175470711189307,
          2.2935371514874183,
          0.5066966818125875,
          2.9316829297858216,
          0.32919989545364303,
          0.29241058588383795,
          0.32866972589028753,
          3.0934727046956887,
          1.6752445621553897,
          3.0763275700424657,
          2.8738159850304275,
          0.32872214770242764,
          1.5157492511647912
         ],
         "xaxis": "x2",
         "y": [
          0.47727483354604894,
          0.8832415595769108,
          0.8746506618051384,
          0.7766438142084142,
          0.857671174079298,
          0.7955679655932874,
          0.8506779022777762,
          0.7726552064040655,
          0.8569977416341464,
          0.890331220952454,
          0.7978506368531979,
          0.8492970864454519,
          0.8228926529593948,
          0.844150842008592,
          0.8636202571450827,
          0.7031503401841451,
          0.8881429347738232,
          0.8861041004352208,
          0.8918455125423155,
          0.8831168197566222,
          0.8841310860395989,
          0.8860253256327211,
          0.8853999184803509,
          0.8745376577491044,
          0.8746935312477419,
          0.8808981276289354,
          0.8908747997238722,
          0.8912445852622588,
          0.884922917803509,
          0.883860115023045,
          0.8841729092012637,
          0.8841979167966564,
          0.882350516804884,
          0.8595509758954307,
          0.8556880813857253,
          0.8559611141489846,
          0.8823869554435422,
          0.7234051422276903,
          0.8904171347850781,
          0.8913174353706086,
          0.8898710728924302,
          0.8898346805366779,
          0.8915702295256253,
          0.889554701752375,
          0.8358166888803465,
          0.8354115387421924,
          0.8295130952327441,
          0.838184524350077,
          0.8344420319828629,
          0.7993401488668992,
          0.8440330676182114,
          0.8406580751843563,
          0.8451800874278396,
          0.8426458839828712,
          0.88564480757954,
          0.8963729260356939,
          0.8941505293398079,
          0.8320465861510824,
          0.89589767689666,
          0.8945598124720094,
          0.8939169126188492,
          0.8954205671061205,
          0.8969601826703165,
          0.8946170649743598,
          0.8921397104918496,
          0.8971483340784314,
          0.891638623557205,
          0.8948822043124443,
          0.8924202840066078,
          0.8769429698489951,
          0.8668263143108422,
          0.8821139264533292,
          0.8880872084065331,
          0.8834457276242682,
          0.8907529830916566,
          0.8986889695161079,
          0.8987039297060264,
          0.8935936517105185,
          0.8938024198146474,
          0.898745541133759,
          0.8983479613516053,
          0.8943319470414789,
          0.8899538531250387,
          0.9007163639819613,
          0.8970960245145345,
          0.8994618207597537,
          0.8991522549376313,
          0.8996928019651975,
          0.8995040231772471,
          0.9002413419161732,
          0.9000421968864993,
          0.9025803734583245,
          0.9015985165595378,
          0.8917116647058766,
          0.8937023426953591,
          0.8915292059755021,
          0.8850497583392123,
          0.88923699506927,
          0.8840229896320997,
          0.8911411198119227,
          0.8899166190032897,
          0.9018688155371948,
          0.9011921556398667,
          0.8988779660357906,
          0.8624774289572523,
          0.8628338600561589,
          0.8628739109537232,
          0.898518969872066,
          0.8992784655016217,
          0.8954989510894812,
          0.8985722264187013,
          0.8978831071076119,
          0.8977303957034353,
          0.8999049463724539,
          0.8987884473283746,
          0.8987959493178155,
          0.8987774417319783,
          0.8856526258241176,
          0.9005419191807021,
          0.9024175045782513,
          0.8959455234101608,
          0.8834396056828767,
          0.8847930124535954,
          0.884237473316339,
          0.8824250724093046,
          0.8961923519646131,
          0.900502145415649,
          0.8987209872840088,
          0.8987683787250225,
          0.900832787698071,
          0.9000957011198608,
          0.901507616188997,
          0.9008620190134389,
          0.8873434148252848,
          0.8873243352642355,
          0.8875125488123196,
          0.896148770940637,
          0.896896461330614,
          0.8972589757085963,
          0.8996672185192794,
          0.9001856314249442,
          0.8996117107171129,
          0.8951498788494398,
          0.896401581612821,
          0.899344260555841,
          0.8997900624808481,
          0.9004963880732408,
          0.8996834903088372,
          0.8993916716436869,
          0.899614514177132,
          0.8996953113266872,
          0.9002543127595624,
          0.9004393615201224,
          0.9003729395305807,
          0.9006260272555575,
          0.8992091709722473,
          0.9003515638971654,
          0.9000817992696583,
          0.9003359928789724,
          0.9003351505914916,
          0.8995487337964786,
          0.9002445160030058,
          0.9009733777121669,
          0.9005639011215985,
          0.9004901784672462,
          0.8992249309762789,
          0.9006846975763023,
          0.8995134732174568,
          0.9017438937659126,
          0.9014109385206135,
          0.9014669955420018,
          0.8624638857939114,
          0.8620043448289987,
          0.8614549797907584,
          0.8617973649879659,
          0.9002239632157375,
          0.8967560642855519,
          0.8998203004797738,
          0.8892940571242957,
          0.8898956438348261,
          0.8996417329902382,
          0.9007565691184327,
          0.9002822721918134,
          0.8911231103840522,
          0.9004879225685251,
          0.9007916990733076,
          0.9005352766653439,
          0.9017460533937449,
          0.8989932619520905,
          0.8998882882348417,
          0.8997760637578385,
          0.9008946653846349,
          0.8997299964728143,
          0.887933529189685,
          0.8998034537782116,
          0.8985638478216005,
          0.9012850516608817,
          0.9003011869389649,
          0.8891352584458196,
          0.9001119619111924
         ],
         "yaxis": "y2"
        },
        {
         "marker": {
          "color": [
           0,
           1,
           2,
           3,
           4,
           5,
           6,
           7,
           8,
           9,
           10,
           11,
           12,
           13,
           14,
           15,
           16,
           17,
           18,
           19,
           20,
           21,
           22,
           23,
           24,
           25,
           26,
           27,
           28,
           29,
           30,
           31,
           32,
           33,
           34,
           35,
           36,
           37,
           38,
           39,
           40,
           41,
           42,
           43,
           44,
           45,
           46,
           47,
           48,
           49,
           50,
           51,
           52,
           53,
           54,
           55,
           56,
           57,
           58,
           59,
           60,
           61,
           62,
           63,
           64,
           65,
           66,
           67,
           68,
           69,
           70,
           71,
           72,
           73,
           74,
           75,
           76,
           77,
           78,
           79,
           80,
           81,
           82,
           83,
           84,
           85,
           86,
           87,
           88,
           89,
           90,
           91,
           92,
           93,
           94,
           95,
           96,
           97,
           98,
           99,
           100,
           101,
           102,
           103,
           104,
           105,
           106,
           107,
           108,
           109,
           110,
           111,
           112,
           113,
           114,
           115,
           116,
           117,
           118,
           119,
           120,
           121,
           122,
           123,
           124,
           125,
           126,
           127,
           128,
           129,
           130,
           131,
           132,
           133,
           134,
           135,
           136,
           137,
           138,
           139,
           140,
           141,
           142,
           143,
           144,
           145,
           146,
           147,
           148,
           149,
           150,
           151,
           152,
           153,
           154,
           155,
           156,
           157,
           158,
           159,
           160,
           161,
           162,
           163,
           164,
           165,
           166,
           167,
           168,
           169,
           170,
           171,
           172,
           173,
           174,
           175,
           176,
           177,
           178,
           179,
           180,
           181,
           182,
           183,
           184,
           185,
           186,
           187,
           188,
           189,
           190,
           191,
           192,
           193,
           194,
           195,
           196,
           197,
           198,
           199
          ],
          "colorbar": {
           "title": {
            "text": "#Trials"
           },
           "x": 1,
           "xpad": 40
          },
          "colorscale": [
           [
            0,
            "rgb(247,251,255)"
           ],
           [
            0.125,
            "rgb(222,235,247)"
           ],
           [
            0.25,
            "rgb(198,219,239)"
           ],
           [
            0.375,
            "rgb(158,202,225)"
           ],
           [
            0.5,
            "rgb(107,174,214)"
           ],
           [
            0.625,
            "rgb(66,146,198)"
           ],
           [
            0.75,
            "rgb(33,113,181)"
           ],
           [
            0.875,
            "rgb(8,81,156)"
           ],
           [
            1,
            "rgb(8,48,107)"
           ]
          ],
          "line": {
           "color": "Grey",
           "width": 0.5
          },
          "showscale": false
         },
         "mode": "markers",
         "showlegend": false,
         "type": "scatter",
         "x": [
          0.03,
          0.1,
          0.1,
          0.01,
          0.1,
          0.03,
          0.3,
          0.3,
          0.03,
          0.1,
          0.01,
          0.03,
          0.1,
          0.01,
          0.1,
          0.3,
          0.1,
          0.3,
          0.1,
          0.3,
          0.3,
          0.3,
          0.3,
          0.3,
          0.3,
          0.1,
          0.1,
          0.1,
          0.1,
          0.1,
          0.1,
          0.1,
          0.1,
          0.1,
          0.1,
          0.1,
          0.1,
          0.1,
          0.1,
          0.1,
          0.1,
          0.1,
          0.1,
          0.1,
          0.01,
          0.01,
          0.01,
          0.03,
          0.01,
          0.01,
          0.03,
          0.03,
          0.03,
          0.03,
          0.03,
          0.1,
          0.1,
          0.1,
          0.1,
          0.1,
          0.1,
          0.1,
          0.1,
          0.1,
          0.1,
          0.1,
          0.1,
          0.1,
          0.1,
          0.1,
          0.1,
          0.1,
          0.1,
          0.1,
          0.1,
          0.1,
          0.1,
          0.1,
          0.1,
          0.1,
          0.1,
          0.1,
          0.1,
          0.1,
          0.1,
          0.1,
          0.1,
          0.1,
          0.1,
          0.1,
          0.1,
          0.1,
          0.1,
          0.3,
          0.3,
          0.3,
          0.3,
          0.3,
          0.3,
          0.3,
          0.3,
          0.1,
          0.1,
          0.1,
          0.1,
          0.1,
          0.1,
          0.1,
          0.1,
          0.1,
          0.1,
          0.1,
          0.1,
          0.1,
          0.1,
          0.1,
          0.1,
          0.01,
          0.1,
          0.1,
          0.1,
          0.01,
          0.01,
          0.01,
          0.01,
          0.1,
          0.1,
          0.1,
          0.1,
          0.1,
          0.1,
          0.1,
          0.1,
          0.1,
          0.1,
          0.1,
          0.1,
          0.1,
          0.1,
          0.1,
          0.1,
          0.1,
          0.1,
          0.03,
          0.03,
          0.03,
          0.1,
          0.03,
          0.03,
          0.03,
          0.03,
          0.1,
          0.1,
          0.1,
          0.1,
          0.1,
          0.1,
          0.1,
          0.1,
          0.1,
          0.1,
          0.1,
          0.1,
          0.1,
          0.1,
          0.1,
          0.1,
          0.1,
          0.1,
          0.1,
          0.1,
          0.1,
          0.1,
          0.1,
          0.1,
          0.1,
          0.1,
          0.1,
          0.1,
          0.1,
          0.1,
          0.1,
          0.1,
          0.1,
          0.1,
          0.1,
          0.1,
          0.1,
          0.1,
          0.1,
          0.1,
          0.1,
          0.1,
          0.1,
          0.1,
          0.1,
          0.1,
          0.1,
          0.1,
          0.1
         ],
         "xaxis": "x3",
         "y": [
          0.47727483354604894,
          0.8832415595769108,
          0.8746506618051384,
          0.7766438142084142,
          0.857671174079298,
          0.7955679655932874,
          0.8506779022777762,
          0.7726552064040655,
          0.8569977416341464,
          0.890331220952454,
          0.7978506368531979,
          0.8492970864454519,
          0.8228926529593948,
          0.844150842008592,
          0.8636202571450827,
          0.7031503401841451,
          0.8881429347738232,
          0.8861041004352208,
          0.8918455125423155,
          0.8831168197566222,
          0.8841310860395989,
          0.8860253256327211,
          0.8853999184803509,
          0.8745376577491044,
          0.8746935312477419,
          0.8808981276289354,
          0.8908747997238722,
          0.8912445852622588,
          0.884922917803509,
          0.883860115023045,
          0.8841729092012637,
          0.8841979167966564,
          0.882350516804884,
          0.8595509758954307,
          0.8556880813857253,
          0.8559611141489846,
          0.8823869554435422,
          0.7234051422276903,
          0.8904171347850781,
          0.8913174353706086,
          0.8898710728924302,
          0.8898346805366779,
          0.8915702295256253,
          0.889554701752375,
          0.8358166888803465,
          0.8354115387421924,
          0.8295130952327441,
          0.838184524350077,
          0.8344420319828629,
          0.7993401488668992,
          0.8440330676182114,
          0.8406580751843563,
          0.8451800874278396,
          0.8426458839828712,
          0.88564480757954,
          0.8963729260356939,
          0.8941505293398079,
          0.8320465861510824,
          0.89589767689666,
          0.8945598124720094,
          0.8939169126188492,
          0.8954205671061205,
          0.8969601826703165,
          0.8946170649743598,
          0.8921397104918496,
          0.8971483340784314,
          0.891638623557205,
          0.8948822043124443,
          0.8924202840066078,
          0.8769429698489951,
          0.8668263143108422,
          0.8821139264533292,
          0.8880872084065331,
          0.8834457276242682,
          0.8907529830916566,
          0.8986889695161079,
          0.8987039297060264,
          0.8935936517105185,
          0.8938024198146474,
          0.898745541133759,
          0.8983479613516053,
          0.8943319470414789,
          0.8899538531250387,
          0.9007163639819613,
          0.8970960245145345,
          0.8994618207597537,
          0.8991522549376313,
          0.8996928019651975,
          0.8995040231772471,
          0.9002413419161732,
          0.9000421968864993,
          0.9025803734583245,
          0.9015985165595378,
          0.8917116647058766,
          0.8937023426953591,
          0.8915292059755021,
          0.8850497583392123,
          0.88923699506927,
          0.8840229896320997,
          0.8911411198119227,
          0.8899166190032897,
          0.9018688155371948,
          0.9011921556398667,
          0.8988779660357906,
          0.8624774289572523,
          0.8628338600561589,
          0.8628739109537232,
          0.898518969872066,
          0.8992784655016217,
          0.8954989510894812,
          0.8985722264187013,
          0.8978831071076119,
          0.8977303957034353,
          0.8999049463724539,
          0.8987884473283746,
          0.8987959493178155,
          0.8987774417319783,
          0.8856526258241176,
          0.9005419191807021,
          0.9024175045782513,
          0.8959455234101608,
          0.8834396056828767,
          0.8847930124535954,
          0.884237473316339,
          0.8824250724093046,
          0.8961923519646131,
          0.900502145415649,
          0.8987209872840088,
          0.8987683787250225,
          0.900832787698071,
          0.9000957011198608,
          0.901507616188997,
          0.9008620190134389,
          0.8873434148252848,
          0.8873243352642355,
          0.8875125488123196,
          0.896148770940637,
          0.896896461330614,
          0.8972589757085963,
          0.8996672185192794,
          0.9001856314249442,
          0.8996117107171129,
          0.8951498788494398,
          0.896401581612821,
          0.899344260555841,
          0.8997900624808481,
          0.9004963880732408,
          0.8996834903088372,
          0.8993916716436869,
          0.899614514177132,
          0.8996953113266872,
          0.9002543127595624,
          0.9004393615201224,
          0.9003729395305807,
          0.9006260272555575,
          0.8992091709722473,
          0.9003515638971654,
          0.9000817992696583,
          0.9003359928789724,
          0.9003351505914916,
          0.8995487337964786,
          0.9002445160030058,
          0.9009733777121669,
          0.9005639011215985,
          0.9004901784672462,
          0.8992249309762789,
          0.9006846975763023,
          0.8995134732174568,
          0.9017438937659126,
          0.9014109385206135,
          0.9014669955420018,
          0.8624638857939114,
          0.8620043448289987,
          0.8614549797907584,
          0.8617973649879659,
          0.9002239632157375,
          0.8967560642855519,
          0.8998203004797738,
          0.8892940571242957,
          0.8898956438348261,
          0.8996417329902382,
          0.9007565691184327,
          0.9002822721918134,
          0.8911231103840522,
          0.9004879225685251,
          0.9007916990733076,
          0.9005352766653439,
          0.9017460533937449,
          0.8989932619520905,
          0.8998882882348417,
          0.8997760637578385,
          0.9008946653846349,
          0.8997299964728143,
          0.887933529189685,
          0.8998034537782116,
          0.8985638478216005,
          0.9012850516608817,
          0.9003011869389649,
          0.8891352584458196,
          0.9001119619111924
         ],
         "yaxis": "y3"
        },
        {
         "marker": {
          "color": [
           0,
           1,
           2,
           3,
           4,
           5,
           6,
           7,
           8,
           9,
           10,
           11,
           12,
           13,
           14,
           15,
           16,
           17,
           18,
           19,
           20,
           21,
           22,
           23,
           24,
           25,
           26,
           27,
           28,
           29,
           30,
           31,
           32,
           33,
           34,
           35,
           36,
           37,
           38,
           39,
           40,
           41,
           42,
           43,
           44,
           45,
           46,
           47,
           48,
           49,
           50,
           51,
           52,
           53,
           54,
           55,
           56,
           57,
           58,
           59,
           60,
           61,
           62,
           63,
           64,
           65,
           66,
           67,
           68,
           69,
           70,
           71,
           72,
           73,
           74,
           75,
           76,
           77,
           78,
           79,
           80,
           81,
           82,
           83,
           84,
           85,
           86,
           87,
           88,
           89,
           90,
           91,
           92,
           93,
           94,
           95,
           96,
           97,
           98,
           99,
           100,
           101,
           102,
           103,
           104,
           105,
           106,
           107,
           108,
           109,
           110,
           111,
           112,
           113,
           114,
           115,
           116,
           117,
           118,
           119,
           120,
           121,
           122,
           123,
           124,
           125,
           126,
           127,
           128,
           129,
           130,
           131,
           132,
           133,
           134,
           135,
           136,
           137,
           138,
           139,
           140,
           141,
           142,
           143,
           144,
           145,
           146,
           147,
           148,
           149,
           150,
           151,
           152,
           153,
           154,
           155,
           156,
           157,
           158,
           159,
           160,
           161,
           162,
           163,
           164,
           165,
           166,
           167,
           168,
           169,
           170,
           171,
           172,
           173,
           174,
           175,
           176,
           177,
           178,
           179,
           180,
           181,
           182,
           183,
           184,
           185,
           186,
           187,
           188,
           189,
           190,
           191,
           192,
           193,
           194,
           195,
           196,
           197,
           198,
           199
          ],
          "colorbar": {
           "title": {
            "text": "#Trials"
           },
           "x": 1,
           "xpad": 40
          },
          "colorscale": [
           [
            0,
            "rgb(247,251,255)"
           ],
           [
            0.125,
            "rgb(222,235,247)"
           ],
           [
            0.25,
            "rgb(198,219,239)"
           ],
           [
            0.375,
            "rgb(158,202,225)"
           ],
           [
            0.5,
            "rgb(107,174,214)"
           ],
           [
            0.625,
            "rgb(66,146,198)"
           ],
           [
            0.75,
            "rgb(33,113,181)"
           ],
           [
            0.875,
            "rgb(8,81,156)"
           ],
           [
            1,
            "rgb(8,48,107)"
           ]
          ],
          "line": {
           "color": "Grey",
           "width": 0.5
          },
          "showscale": false
         },
         "mode": "markers",
         "showlegend": false,
         "type": "scatter",
         "x": [
          5,
          3,
          3,
          2,
          3,
          2,
          4,
          5,
          3,
          4,
          5,
          4,
          5,
          3,
          3,
          5,
          4,
          4,
          4,
          4,
          4,
          4,
          4,
          4,
          4,
          4,
          4,
          4,
          4,
          4,
          4,
          4,
          4,
          2,
          2,
          2,
          4,
          4,
          4,
          4,
          4,
          4,
          4,
          4,
          4,
          4,
          4,
          3,
          4,
          4,
          3,
          3,
          3,
          3,
          5,
          5,
          5,
          2,
          5,
          5,
          5,
          5,
          5,
          5,
          5,
          5,
          5,
          5,
          5,
          5,
          5,
          5,
          5,
          5,
          5,
          5,
          5,
          5,
          5,
          5,
          5,
          5,
          5,
          5,
          5,
          5,
          5,
          5,
          5,
          5,
          5,
          5,
          5,
          5,
          5,
          5,
          5,
          5,
          5,
          5,
          5,
          5,
          5,
          5,
          2,
          2,
          2,
          5,
          5,
          5,
          5,
          5,
          5,
          5,
          5,
          5,
          5,
          5,
          5,
          5,
          5,
          5,
          5,
          5,
          5,
          5,
          5,
          5,
          5,
          5,
          5,
          5,
          5,
          3,
          3,
          3,
          5,
          5,
          5,
          5,
          5,
          5,
          5,
          5,
          5,
          5,
          5,
          5,
          5,
          5,
          5,
          5,
          5,
          5,
          5,
          5,
          5,
          5,
          5,
          5,
          5,
          5,
          5,
          5,
          5,
          5,
          5,
          5,
          5,
          5,
          5,
          2,
          2,
          2,
          2,
          5,
          5,
          5,
          5,
          5,
          5,
          5,
          5,
          5,
          5,
          5,
          5,
          5,
          5,
          5,
          5,
          5,
          5,
          5,
          5,
          5,
          5,
          5,
          5,
          5
         ],
         "xaxis": "x4",
         "y": [
          0.47727483354604894,
          0.8832415595769108,
          0.8746506618051384,
          0.7766438142084142,
          0.857671174079298,
          0.7955679655932874,
          0.8506779022777762,
          0.7726552064040655,
          0.8569977416341464,
          0.890331220952454,
          0.7978506368531979,
          0.8492970864454519,
          0.8228926529593948,
          0.844150842008592,
          0.8636202571450827,
          0.7031503401841451,
          0.8881429347738232,
          0.8861041004352208,
          0.8918455125423155,
          0.8831168197566222,
          0.8841310860395989,
          0.8860253256327211,
          0.8853999184803509,
          0.8745376577491044,
          0.8746935312477419,
          0.8808981276289354,
          0.8908747997238722,
          0.8912445852622588,
          0.884922917803509,
          0.883860115023045,
          0.8841729092012637,
          0.8841979167966564,
          0.882350516804884,
          0.8595509758954307,
          0.8556880813857253,
          0.8559611141489846,
          0.8823869554435422,
          0.7234051422276903,
          0.8904171347850781,
          0.8913174353706086,
          0.8898710728924302,
          0.8898346805366779,
          0.8915702295256253,
          0.889554701752375,
          0.8358166888803465,
          0.8354115387421924,
          0.8295130952327441,
          0.838184524350077,
          0.8344420319828629,
          0.7993401488668992,
          0.8440330676182114,
          0.8406580751843563,
          0.8451800874278396,
          0.8426458839828712,
          0.88564480757954,
          0.8963729260356939,
          0.8941505293398079,
          0.8320465861510824,
          0.89589767689666,
          0.8945598124720094,
          0.8939169126188492,
          0.8954205671061205,
          0.8969601826703165,
          0.8946170649743598,
          0.8921397104918496,
          0.8971483340784314,
          0.891638623557205,
          0.8948822043124443,
          0.8924202840066078,
          0.8769429698489951,
          0.8668263143108422,
          0.8821139264533292,
          0.8880872084065331,
          0.8834457276242682,
          0.8907529830916566,
          0.8986889695161079,
          0.8987039297060264,
          0.8935936517105185,
          0.8938024198146474,
          0.898745541133759,
          0.8983479613516053,
          0.8943319470414789,
          0.8899538531250387,
          0.9007163639819613,
          0.8970960245145345,
          0.8994618207597537,
          0.8991522549376313,
          0.8996928019651975,
          0.8995040231772471,
          0.9002413419161732,
          0.9000421968864993,
          0.9025803734583245,
          0.9015985165595378,
          0.8917116647058766,
          0.8937023426953591,
          0.8915292059755021,
          0.8850497583392123,
          0.88923699506927,
          0.8840229896320997,
          0.8911411198119227,
          0.8899166190032897,
          0.9018688155371948,
          0.9011921556398667,
          0.8988779660357906,
          0.8624774289572523,
          0.8628338600561589,
          0.8628739109537232,
          0.898518969872066,
          0.8992784655016217,
          0.8954989510894812,
          0.8985722264187013,
          0.8978831071076119,
          0.8977303957034353,
          0.8999049463724539,
          0.8987884473283746,
          0.8987959493178155,
          0.8987774417319783,
          0.8856526258241176,
          0.9005419191807021,
          0.9024175045782513,
          0.8959455234101608,
          0.8834396056828767,
          0.8847930124535954,
          0.884237473316339,
          0.8824250724093046,
          0.8961923519646131,
          0.900502145415649,
          0.8987209872840088,
          0.8987683787250225,
          0.900832787698071,
          0.9000957011198608,
          0.901507616188997,
          0.9008620190134389,
          0.8873434148252848,
          0.8873243352642355,
          0.8875125488123196,
          0.896148770940637,
          0.896896461330614,
          0.8972589757085963,
          0.8996672185192794,
          0.9001856314249442,
          0.8996117107171129,
          0.8951498788494398,
          0.896401581612821,
          0.899344260555841,
          0.8997900624808481,
          0.9004963880732408,
          0.8996834903088372,
          0.8993916716436869,
          0.899614514177132,
          0.8996953113266872,
          0.9002543127595624,
          0.9004393615201224,
          0.9003729395305807,
          0.9006260272555575,
          0.8992091709722473,
          0.9003515638971654,
          0.9000817992696583,
          0.9003359928789724,
          0.9003351505914916,
          0.8995487337964786,
          0.9002445160030058,
          0.9009733777121669,
          0.9005639011215985,
          0.9004901784672462,
          0.8992249309762789,
          0.9006846975763023,
          0.8995134732174568,
          0.9017438937659126,
          0.9014109385206135,
          0.9014669955420018,
          0.8624638857939114,
          0.8620043448289987,
          0.8614549797907584,
          0.8617973649879659,
          0.9002239632157375,
          0.8967560642855519,
          0.8998203004797738,
          0.8892940571242957,
          0.8898956438348261,
          0.8996417329902382,
          0.9007565691184327,
          0.9002822721918134,
          0.8911231103840522,
          0.9004879225685251,
          0.9007916990733076,
          0.9005352766653439,
          0.9017460533937449,
          0.8989932619520905,
          0.8998882882348417,
          0.8997760637578385,
          0.9008946653846349,
          0.8997299964728143,
          0.887933529189685,
          0.8998034537782116,
          0.8985638478216005,
          0.9012850516608817,
          0.9003011869389649,
          0.8891352584458196,
          0.9001119619111924
         ],
         "yaxis": "y4"
        },
        {
         "marker": {
          "color": [
           0,
           1,
           2,
           3,
           4,
           5,
           6,
           7,
           8,
           9,
           10,
           11,
           12,
           13,
           14,
           15,
           16,
           17,
           18,
           19,
           20,
           21,
           22,
           23,
           24,
           25,
           26,
           27,
           28,
           29,
           30,
           31,
           32,
           33,
           34,
           35,
           36,
           37,
           38,
           39,
           40,
           41,
           42,
           43,
           44,
           45,
           46,
           47,
           48,
           49,
           50,
           51,
           52,
           53,
           54,
           55,
           56,
           57,
           58,
           59,
           60,
           61,
           62,
           63,
           64,
           65,
           66,
           67,
           68,
           69,
           70,
           71,
           72,
           73,
           74,
           75,
           76,
           77,
           78,
           79,
           80,
           81,
           82,
           83,
           84,
           85,
           86,
           87,
           88,
           89,
           90,
           91,
           92,
           93,
           94,
           95,
           96,
           97,
           98,
           99,
           100,
           101,
           102,
           103,
           104,
           105,
           106,
           107,
           108,
           109,
           110,
           111,
           112,
           113,
           114,
           115,
           116,
           117,
           118,
           119,
           120,
           121,
           122,
           123,
           124,
           125,
           126,
           127,
           128,
           129,
           130,
           131,
           132,
           133,
           134,
           135,
           136,
           137,
           138,
           139,
           140,
           141,
           142,
           143,
           144,
           145,
           146,
           147,
           148,
           149,
           150,
           151,
           152,
           153,
           154,
           155,
           156,
           157,
           158,
           159,
           160,
           161,
           162,
           163,
           164,
           165,
           166,
           167,
           168,
           169,
           170,
           171,
           172,
           173,
           174,
           175,
           176,
           177,
           178,
           179,
           180,
           181,
           182,
           183,
           184,
           185,
           186,
           187,
           188,
           189,
           190,
           191,
           192,
           193,
           194,
           195,
           196,
           197,
           198,
           199
          ],
          "colorbar": {
           "title": {
            "text": "#Trials"
           },
           "x": 1,
           "xpad": 40
          },
          "colorscale": [
           [
            0,
            "rgb(247,251,255)"
           ],
           [
            0.125,
            "rgb(222,235,247)"
           ],
           [
            0.25,
            "rgb(198,219,239)"
           ],
           [
            0.375,
            "rgb(158,202,225)"
           ],
           [
            0.5,
            "rgb(107,174,214)"
           ],
           [
            0.625,
            "rgb(66,146,198)"
           ],
           [
            0.75,
            "rgb(33,113,181)"
           ],
           [
            0.875,
            "rgb(8,81,156)"
           ],
           [
            1,
            "rgb(8,48,107)"
           ]
          ],
          "line": {
           "color": "Grey",
           "width": 0.5
          },
          "showscale": false
         },
         "mode": "markers",
         "showlegend": false,
         "type": "scatter",
         "x": [
          9,
          5,
          7,
          6,
          9,
          9,
          6,
          9,
          7,
          8,
          6,
          10,
          7,
          6,
          5,
          5,
          9,
          8,
          5,
          8,
          8,
          8,
          8,
          8,
          8,
          10,
          10,
          8,
          10,
          10,
          10,
          10,
          10,
          10,
          10,
          10,
          10,
          7,
          7,
          7,
          7,
          7,
          9,
          9,
          9,
          9,
          5,
          5,
          7,
          6,
          9,
          9,
          9,
          5,
          6,
          6,
          6,
          6,
          6,
          6,
          7,
          7,
          6,
          6,
          6,
          6,
          6,
          6,
          6,
          6,
          6,
          6,
          6,
          6,
          6,
          6,
          6,
          6,
          6,
          6,
          7,
          5,
          5,
          5,
          5,
          5,
          5,
          7,
          7,
          7,
          7,
          5,
          5,
          5,
          5,
          5,
          5,
          5,
          5,
          5,
          5,
          5,
          5,
          5,
          5,
          5,
          7,
          7,
          7,
          7,
          7,
          7,
          7,
          5,
          7,
          5,
          7,
          7,
          5,
          5,
          8,
          8,
          8,
          8,
          8,
          8,
          5,
          5,
          5,
          5,
          5,
          5,
          5,
          5,
          5,
          5,
          5,
          5,
          5,
          5,
          5,
          5,
          5,
          5,
          5,
          5,
          5,
          5,
          5,
          5,
          5,
          5,
          5,
          5,
          5,
          5,
          5,
          5,
          5,
          5,
          5,
          5,
          5,
          5,
          5,
          5,
          5,
          5,
          5,
          5,
          5,
          5,
          5,
          5,
          5,
          5,
          5,
          5,
          5,
          5,
          5,
          5,
          5,
          5,
          5,
          5,
          5,
          5,
          5,
          5,
          5,
          5,
          5,
          5,
          5,
          5,
          5,
          5,
          5,
          5
         ],
         "xaxis": "x5",
         "y": [
          0.47727483354604894,
          0.8832415595769108,
          0.8746506618051384,
          0.7766438142084142,
          0.857671174079298,
          0.7955679655932874,
          0.8506779022777762,
          0.7726552064040655,
          0.8569977416341464,
          0.890331220952454,
          0.7978506368531979,
          0.8492970864454519,
          0.8228926529593948,
          0.844150842008592,
          0.8636202571450827,
          0.7031503401841451,
          0.8881429347738232,
          0.8861041004352208,
          0.8918455125423155,
          0.8831168197566222,
          0.8841310860395989,
          0.8860253256327211,
          0.8853999184803509,
          0.8745376577491044,
          0.8746935312477419,
          0.8808981276289354,
          0.8908747997238722,
          0.8912445852622588,
          0.884922917803509,
          0.883860115023045,
          0.8841729092012637,
          0.8841979167966564,
          0.882350516804884,
          0.8595509758954307,
          0.8556880813857253,
          0.8559611141489846,
          0.8823869554435422,
          0.7234051422276903,
          0.8904171347850781,
          0.8913174353706086,
          0.8898710728924302,
          0.8898346805366779,
          0.8915702295256253,
          0.889554701752375,
          0.8358166888803465,
          0.8354115387421924,
          0.8295130952327441,
          0.838184524350077,
          0.8344420319828629,
          0.7993401488668992,
          0.8440330676182114,
          0.8406580751843563,
          0.8451800874278396,
          0.8426458839828712,
          0.88564480757954,
          0.8963729260356939,
          0.8941505293398079,
          0.8320465861510824,
          0.89589767689666,
          0.8945598124720094,
          0.8939169126188492,
          0.8954205671061205,
          0.8969601826703165,
          0.8946170649743598,
          0.8921397104918496,
          0.8971483340784314,
          0.891638623557205,
          0.8948822043124443,
          0.8924202840066078,
          0.8769429698489951,
          0.8668263143108422,
          0.8821139264533292,
          0.8880872084065331,
          0.8834457276242682,
          0.8907529830916566,
          0.8986889695161079,
          0.8987039297060264,
          0.8935936517105185,
          0.8938024198146474,
          0.898745541133759,
          0.8983479613516053,
          0.8943319470414789,
          0.8899538531250387,
          0.9007163639819613,
          0.8970960245145345,
          0.8994618207597537,
          0.8991522549376313,
          0.8996928019651975,
          0.8995040231772471,
          0.9002413419161732,
          0.9000421968864993,
          0.9025803734583245,
          0.9015985165595378,
          0.8917116647058766,
          0.8937023426953591,
          0.8915292059755021,
          0.8850497583392123,
          0.88923699506927,
          0.8840229896320997,
          0.8911411198119227,
          0.8899166190032897,
          0.9018688155371948,
          0.9011921556398667,
          0.8988779660357906,
          0.8624774289572523,
          0.8628338600561589,
          0.8628739109537232,
          0.898518969872066,
          0.8992784655016217,
          0.8954989510894812,
          0.8985722264187013,
          0.8978831071076119,
          0.8977303957034353,
          0.8999049463724539,
          0.8987884473283746,
          0.8987959493178155,
          0.8987774417319783,
          0.8856526258241176,
          0.9005419191807021,
          0.9024175045782513,
          0.8959455234101608,
          0.8834396056828767,
          0.8847930124535954,
          0.884237473316339,
          0.8824250724093046,
          0.8961923519646131,
          0.900502145415649,
          0.8987209872840088,
          0.8987683787250225,
          0.900832787698071,
          0.9000957011198608,
          0.901507616188997,
          0.9008620190134389,
          0.8873434148252848,
          0.8873243352642355,
          0.8875125488123196,
          0.896148770940637,
          0.896896461330614,
          0.8972589757085963,
          0.8996672185192794,
          0.9001856314249442,
          0.8996117107171129,
          0.8951498788494398,
          0.896401581612821,
          0.899344260555841,
          0.8997900624808481,
          0.9004963880732408,
          0.8996834903088372,
          0.8993916716436869,
          0.899614514177132,
          0.8996953113266872,
          0.9002543127595624,
          0.9004393615201224,
          0.9003729395305807,
          0.9006260272555575,
          0.8992091709722473,
          0.9003515638971654,
          0.9000817992696583,
          0.9003359928789724,
          0.9003351505914916,
          0.8995487337964786,
          0.9002445160030058,
          0.9009733777121669,
          0.9005639011215985,
          0.9004901784672462,
          0.8992249309762789,
          0.9006846975763023,
          0.8995134732174568,
          0.9017438937659126,
          0.9014109385206135,
          0.9014669955420018,
          0.8624638857939114,
          0.8620043448289987,
          0.8614549797907584,
          0.8617973649879659,
          0.9002239632157375,
          0.8967560642855519,
          0.8998203004797738,
          0.8892940571242957,
          0.8898956438348261,
          0.8996417329902382,
          0.9007565691184327,
          0.9002822721918134,
          0.8911231103840522,
          0.9004879225685251,
          0.9007916990733076,
          0.9005352766653439,
          0.9017460533937449,
          0.8989932619520905,
          0.8998882882348417,
          0.8997760637578385,
          0.9008946653846349,
          0.8997299964728143,
          0.887933529189685,
          0.8998034537782116,
          0.8985638478216005,
          0.9012850516608817,
          0.9003011869389649,
          0.8891352584458196,
          0.9001119619111924
         ],
         "yaxis": "y5"
        },
        {
         "marker": {
          "color": [
           0,
           1,
           2,
           3,
           4,
           5,
           6,
           7,
           8,
           9,
           10,
           11,
           12,
           13,
           14,
           15,
           16,
           17,
           18,
           19,
           20,
           21,
           22,
           23,
           24,
           25,
           26,
           27,
           28,
           29,
           30,
           31,
           32,
           33,
           34,
           35,
           36,
           37,
           38,
           39,
           40,
           41,
           42,
           43,
           44,
           45,
           46,
           47,
           48,
           49,
           50,
           51,
           52,
           53,
           54,
           55,
           56,
           57,
           58,
           59,
           60,
           61,
           62,
           63,
           64,
           65,
           66,
           67,
           68,
           69,
           70,
           71,
           72,
           73,
           74,
           75,
           76,
           77,
           78,
           79,
           80,
           81,
           82,
           83,
           84,
           85,
           86,
           87,
           88,
           89,
           90,
           91,
           92,
           93,
           94,
           95,
           96,
           97,
           98,
           99,
           100,
           101,
           102,
           103,
           104,
           105,
           106,
           107,
           108,
           109,
           110,
           111,
           112,
           113,
           114,
           115,
           116,
           117,
           118,
           119,
           120,
           121,
           122,
           123,
           124,
           125,
           126,
           127,
           128,
           129,
           130,
           131,
           132,
           133,
           134,
           135,
           136,
           137,
           138,
           139,
           140,
           141,
           142,
           143,
           144,
           145,
           146,
           147,
           148,
           149,
           150,
           151,
           152,
           153,
           154,
           155,
           156,
           157,
           158,
           159,
           160,
           161,
           162,
           163,
           164,
           165,
           166,
           167,
           168,
           169,
           170,
           171,
           172,
           173,
           174,
           175,
           176,
           177,
           178,
           179,
           180,
           181,
           182,
           183,
           184,
           185,
           186,
           187,
           188,
           189,
           190,
           191,
           192,
           193,
           194,
           195,
           196,
           197,
           198,
           199
          ],
          "colorbar": {
           "title": {
            "text": "#Trials"
           },
           "x": 1,
           "xpad": 40
          },
          "colorscale": [
           [
            0,
            "rgb(247,251,255)"
           ],
           [
            0.125,
            "rgb(222,235,247)"
           ],
           [
            0.25,
            "rgb(198,219,239)"
           ],
           [
            0.375,
            "rgb(158,202,225)"
           ],
           [
            0.5,
            "rgb(107,174,214)"
           ],
           [
            0.625,
            "rgb(66,146,198)"
           ],
           [
            0.75,
            "rgb(33,113,181)"
           ],
           [
            0.875,
            "rgb(8,81,156)"
           ],
           [
            1,
            "rgb(8,48,107)"
           ]
          ],
          "line": {
           "color": "Grey",
           "width": 0.5
          },
          "showscale": false
         },
         "mode": "markers",
         "showlegend": false,
         "type": "scatter",
         "x": [
          67,
          635,
          733,
          749,
          918,
          287,
          966,
          964,
          339,
          485,
          894,
          269,
          98,
          871,
          758,
          550,
          812,
          481,
          546,
          474,
          473,
          487,
          480,
          431,
          434,
          447,
          431,
          374,
          611,
          611,
          623,
          614,
          608,
          633,
          573,
          631,
          146,
          151,
          371,
          378,
          394,
          388,
          373,
          356,
          365,
          370,
          337,
          248,
          370,
          259,
          298,
          277,
          312,
          289,
          310,
          686,
          216,
          214,
          236,
          220,
          220,
          529,
          522,
          699,
          221,
          679,
          190,
          189,
          215,
          63,
          62,
          108,
          119,
          108,
          128,
          691,
          686,
          672,
          689,
          708,
          671,
          690,
          686,
          780,
          804,
          824,
          772,
          771,
          778,
          778,
          790,
          787,
          793,
          818,
          790,
          782,
          774,
          774,
          776,
          781,
          789,
          856,
          854,
          849,
          866,
          845,
          860,
          727,
          735,
          735,
          730,
          725,
          926,
          895,
          934,
          909,
          908,
          920,
          920,
          959,
          916,
          899,
          897,
          828,
          823,
          822,
          995,
          949,
          1000,
          994,
          974,
          990,
          965,
          995,
          977,
          983,
          987,
          969,
          969,
          972,
          971,
          978,
          965,
          956,
          964,
          954,
          952,
          948,
          949,
          937,
          947,
          939,
          938,
          939,
          877,
          881,
          934,
          938,
          867,
          994,
          882,
          876,
          874,
          878,
          878,
          880,
          845,
          882,
          841,
          857,
          923,
          841,
          848,
          849,
          838,
          849,
          835,
          909,
          805,
          801,
          812,
          915,
          798,
          909,
          801,
          912,
          912,
          752,
          898,
          862,
          914,
          916,
          751,
          861,
          865,
          895,
          870,
          755,
          756,
          859
         ],
         "xaxis": "x6",
         "y": [
          0.47727483354604894,
          0.8832415595769108,
          0.8746506618051384,
          0.7766438142084142,
          0.857671174079298,
          0.7955679655932874,
          0.8506779022777762,
          0.7726552064040655,
          0.8569977416341464,
          0.890331220952454,
          0.7978506368531979,
          0.8492970864454519,
          0.8228926529593948,
          0.844150842008592,
          0.8636202571450827,
          0.7031503401841451,
          0.8881429347738232,
          0.8861041004352208,
          0.8918455125423155,
          0.8831168197566222,
          0.8841310860395989,
          0.8860253256327211,
          0.8853999184803509,
          0.8745376577491044,
          0.8746935312477419,
          0.8808981276289354,
          0.8908747997238722,
          0.8912445852622588,
          0.884922917803509,
          0.883860115023045,
          0.8841729092012637,
          0.8841979167966564,
          0.882350516804884,
          0.8595509758954307,
          0.8556880813857253,
          0.8559611141489846,
          0.8823869554435422,
          0.7234051422276903,
          0.8904171347850781,
          0.8913174353706086,
          0.8898710728924302,
          0.8898346805366779,
          0.8915702295256253,
          0.889554701752375,
          0.8358166888803465,
          0.8354115387421924,
          0.8295130952327441,
          0.838184524350077,
          0.8344420319828629,
          0.7993401488668992,
          0.8440330676182114,
          0.8406580751843563,
          0.8451800874278396,
          0.8426458839828712,
          0.88564480757954,
          0.8963729260356939,
          0.8941505293398079,
          0.8320465861510824,
          0.89589767689666,
          0.8945598124720094,
          0.8939169126188492,
          0.8954205671061205,
          0.8969601826703165,
          0.8946170649743598,
          0.8921397104918496,
          0.8971483340784314,
          0.891638623557205,
          0.8948822043124443,
          0.8924202840066078,
          0.8769429698489951,
          0.8668263143108422,
          0.8821139264533292,
          0.8880872084065331,
          0.8834457276242682,
          0.8907529830916566,
          0.8986889695161079,
          0.8987039297060264,
          0.8935936517105185,
          0.8938024198146474,
          0.898745541133759,
          0.8983479613516053,
          0.8943319470414789,
          0.8899538531250387,
          0.9007163639819613,
          0.8970960245145345,
          0.8994618207597537,
          0.8991522549376313,
          0.8996928019651975,
          0.8995040231772471,
          0.9002413419161732,
          0.9000421968864993,
          0.9025803734583245,
          0.9015985165595378,
          0.8917116647058766,
          0.8937023426953591,
          0.8915292059755021,
          0.8850497583392123,
          0.88923699506927,
          0.8840229896320997,
          0.8911411198119227,
          0.8899166190032897,
          0.9018688155371948,
          0.9011921556398667,
          0.8988779660357906,
          0.8624774289572523,
          0.8628338600561589,
          0.8628739109537232,
          0.898518969872066,
          0.8992784655016217,
          0.8954989510894812,
          0.8985722264187013,
          0.8978831071076119,
          0.8977303957034353,
          0.8999049463724539,
          0.8987884473283746,
          0.8987959493178155,
          0.8987774417319783,
          0.8856526258241176,
          0.9005419191807021,
          0.9024175045782513,
          0.8959455234101608,
          0.8834396056828767,
          0.8847930124535954,
          0.884237473316339,
          0.8824250724093046,
          0.8961923519646131,
          0.900502145415649,
          0.8987209872840088,
          0.8987683787250225,
          0.900832787698071,
          0.9000957011198608,
          0.901507616188997,
          0.9008620190134389,
          0.8873434148252848,
          0.8873243352642355,
          0.8875125488123196,
          0.896148770940637,
          0.896896461330614,
          0.8972589757085963,
          0.8996672185192794,
          0.9001856314249442,
          0.8996117107171129,
          0.8951498788494398,
          0.896401581612821,
          0.899344260555841,
          0.8997900624808481,
          0.9004963880732408,
          0.8996834903088372,
          0.8993916716436869,
          0.899614514177132,
          0.8996953113266872,
          0.9002543127595624,
          0.9004393615201224,
          0.9003729395305807,
          0.9006260272555575,
          0.8992091709722473,
          0.9003515638971654,
          0.9000817992696583,
          0.9003359928789724,
          0.9003351505914916,
          0.8995487337964786,
          0.9002445160030058,
          0.9009733777121669,
          0.9005639011215985,
          0.9004901784672462,
          0.8992249309762789,
          0.9006846975763023,
          0.8995134732174568,
          0.9017438937659126,
          0.9014109385206135,
          0.9014669955420018,
          0.8624638857939114,
          0.8620043448289987,
          0.8614549797907584,
          0.8617973649879659,
          0.9002239632157375,
          0.8967560642855519,
          0.8998203004797738,
          0.8892940571242957,
          0.8898956438348261,
          0.8996417329902382,
          0.9007565691184327,
          0.9002822721918134,
          0.8911231103840522,
          0.9004879225685251,
          0.9007916990733076,
          0.9005352766653439,
          0.9017460533937449,
          0.8989932619520905,
          0.8998882882348417,
          0.8997760637578385,
          0.9008946653846349,
          0.8997299964728143,
          0.887933529189685,
          0.8998034537782116,
          0.8985638478216005,
          0.9012850516608817,
          0.9003011869389649,
          0.8891352584458196,
          0.9001119619111924
         ],
         "yaxis": "y6"
        },
        {
         "marker": {
          "color": [
           0,
           1,
           2,
           3,
           4,
           5,
           6,
           7,
           8,
           9,
           10,
           11,
           12,
           13,
           14,
           15,
           16,
           17,
           18,
           19,
           20,
           21,
           22,
           23,
           24,
           25,
           26,
           27,
           28,
           29,
           30,
           31,
           32,
           33,
           34,
           35,
           36,
           37,
           38,
           39,
           40,
           41,
           42,
           43,
           44,
           45,
           46,
           47,
           48,
           49,
           50,
           51,
           52,
           53,
           54,
           55,
           56,
           57,
           58,
           59,
           60,
           61,
           62,
           63,
           64,
           65,
           66,
           67,
           68,
           69,
           70,
           71,
           72,
           73,
           74,
           75,
           76,
           77,
           78,
           79,
           80,
           81,
           82,
           83,
           84,
           85,
           86,
           87,
           88,
           89,
           90,
           91,
           92,
           93,
           94,
           95,
           96,
           97,
           98,
           99,
           100,
           101,
           102,
           103,
           104,
           105,
           106,
           107,
           108,
           109,
           110,
           111,
           112,
           113,
           114,
           115,
           116,
           117,
           118,
           119,
           120,
           121,
           122,
           123,
           124,
           125,
           126,
           127,
           128,
           129,
           130,
           131,
           132,
           133,
           134,
           135,
           136,
           137,
           138,
           139,
           140,
           141,
           142,
           143,
           144,
           145,
           146,
           147,
           148,
           149,
           150,
           151,
           152,
           153,
           154,
           155,
           156,
           157,
           158,
           159,
           160,
           161,
           162,
           163,
           164,
           165,
           166,
           167,
           168,
           169,
           170,
           171,
           172,
           173,
           174,
           175,
           176,
           177,
           178,
           179,
           180,
           181,
           182,
           183,
           184,
           185,
           186,
           187,
           188,
           189,
           190,
           191,
           192,
           193,
           194,
           195,
           196,
           197,
           198,
           199
          ],
          "colorbar": {
           "title": {
            "text": "#Trials"
           },
           "x": 1,
           "xpad": 40
          },
          "colorscale": [
           [
            0,
            "rgb(247,251,255)"
           ],
           [
            0.125,
            "rgb(222,235,247)"
           ],
           [
            0.25,
            "rgb(198,219,239)"
           ],
           [
            0.375,
            "rgb(158,202,225)"
           ],
           [
            0.5,
            "rgb(107,174,214)"
           ],
           [
            0.625,
            "rgb(66,146,198)"
           ],
           [
            0.75,
            "rgb(33,113,181)"
           ],
           [
            0.875,
            "rgb(8,81,156)"
           ],
           [
            1,
            "rgb(8,48,107)"
           ]
          ],
          "line": {
           "color": "Grey",
           "width": 0.5
          },
          "showscale": false
         },
         "mode": "markers",
         "showlegend": false,
         "type": "scatter",
         "x": [
          0.03540807447183764,
          0.04948524661765664,
          0.14443125739027735,
          2.8179502815226734,
          8.407304018459044,
          0.13595708710546603,
          0.19609829330496786,
          0.08690460192228551,
          0.33212807400481903,
          0.024677959455498978,
          0.1700240566133417,
          0.10681562098959536,
          0.9816966728019452,
          0.36883944014663517,
          0.11509883495948495,
          0.020427760415267126,
          0.2933237458383083,
          0.010073848625081488,
          0.011329897819534794,
          0.010474055869350967,
          0.011428334078177883,
          0.013877828136286468,
          0.01213624641849352,
          0.01068600258989653,
          0.010281704538907714,
          0.865916943003615,
          0.010289677283790878,
          0.019393463146501828,
          0.023910265237174096,
          0.031959877469872076,
          0.03334803437973532,
          0.03438306808119283,
          0.02872472453597066,
          0.032024726634331785,
          0.029525247978440167,
          0.055105847068088076,
          0.0548338774975445,
          0.05215254407603785,
          0.0419760884333439,
          0.05511255593550682,
          0.0510149309406279,
          0.020339060396979556,
          0.01807410744109226,
          0.017855085783769438,
          0.016452959163086773,
          0.0167709879415097,
          0.01640168195131329,
          0.01864937240519527,
          0.017848327881731206,
          0.016742213729209733,
          0.016549489478199057,
          0.016389893538295543,
          0.07379182729230718,
          0.07651845454570265,
          0.07995468070086928,
          0.0800196291855976,
          0.0695276472727946,
          0.06747723204503045,
          7.289352317099125,
          0.04347210494410244,
          0.04075670022536787,
          0.03898040460117607,
          0.04149302207187171,
          0.2160688793014658,
          0.10659702609049085,
          0.10690208722316306,
          9.943346972839596,
          3.944984120324401,
          6.439044535687626,
          9.69373037289487,
          5.661061848441314,
          6.413006012096386,
          3.3964505997476855,
          4.1233072542977665,
          5.676460961950426,
          2.215968078764281,
          0.9440630299363847,
          0.23080564004572038,
          0.1588183611441317,
          0.2400597260717848,
          1.8873699937250084,
          0.2220551990395246,
          0.1805883534140198,
          0.6738663643593709,
          0.4863367748328688,
          1.5483961005220375,
          1.7269528666673275,
          1.3895979787831172,
          1.8069403888980646,
          1.2683335194847496,
          1.6689342684361492,
          1.6530229293439203,
          1.3019247127460623,
          1.1766265139715995,
          1.5239577272947258,
          1.8494764210218733,
          1.856114416340737,
          1.5844696703567454,
          1.6523935448581835,
          1.3057707287582576,
          1.4185631416667608,
          1.2697548648858876,
          1.2495363703874405,
          0.631405436810869,
          0.6992396870770603,
          0.7411210986771767,
          0.6638938852853298,
          1.2752641920723156,
          1.2026208986769362,
          1.1923574996367141,
          1.0356887494501235,
          1.0599935869467636,
          2.335105197330958,
          1.1209907161397024,
          2.530969496802245,
          2.395165715433908,
          2.410410239981752,
          1.0603850885821438,
          2.3231017833498364,
          2.5539587644591104,
          2.66090604717055,
          0.8432124412059016,
          0.8194101598267806,
          0.8209807103113417,
          0.8524879925373327,
          0.8446828199197502,
          0.8105967154712831,
          2.9967144421623435,
          2.8822623628150077,
          1.4109791434047785,
          2.0130694620939917,
          2.084057738413437,
          2.0743139576261203,
          2.0126803035768415,
          3.1578509171061184,
          1.3975994690133684,
          0.5475436928875943,
          0.5492637947230186,
          1.362160673618022,
          0.5037891321029615,
          3.3732851684317375,
          0.48351708180678643,
          3.797440615619641,
          0.5569396885513124,
          2.1079596492572836,
          2.1001865596520455,
          2.0663448565366282,
          2.066325814414549,
          2.143645379303441,
          2.0667642097316494,
          2.0564091616144324,
          2.163943236699162,
          2.062387062173379,
          4.708047839482061,
          3.555484524579198,
          3.3770961978426595,
          3.5100970559716154,
          4.90119395876887,
          4.684822748188709,
          3.458099620022629,
          4.601318259457925,
          2.7800075878552053,
          4.906081400632683,
          4.6667616548026984,
          4.776705456196418,
          4.831881848956776,
          2.7882473699546777,
          2.8077994436630958,
          4.707605506138693,
          1.6799512926164824,
          4.255093893094937,
          4.270546106102759,
          1.6138468308985054,
          0.3816233352406982,
          5.823743588177629,
          6.12099655594582,
          1.6092098386202274,
          5.313995253742776,
          7.232890953901583,
          2.531167794849895,
          6.981659788176666,
          7.410438079733279,
          6.732819817832106,
          7.360730796594587,
          7.948050276783856,
          4.066854137966988,
          3.8531326915874744,
          0.9973554494488976,
          4.011658538253732,
          3.81137867654209,
          3.9464055110265783,
          4.015628721226547,
          0.9882536615723083,
          3.7671442951072684,
          3.9289502377523253,
          0.9850714896118635,
          0.9859686122282525,
          1.0156859565629417,
          3.0026096923491057,
          1.446232966973769
         ],
         "xaxis": "x7",
         "y": [
          0.47727483354604894,
          0.8832415595769108,
          0.8746506618051384,
          0.7766438142084142,
          0.857671174079298,
          0.7955679655932874,
          0.8506779022777762,
          0.7726552064040655,
          0.8569977416341464,
          0.890331220952454,
          0.7978506368531979,
          0.8492970864454519,
          0.8228926529593948,
          0.844150842008592,
          0.8636202571450827,
          0.7031503401841451,
          0.8881429347738232,
          0.8861041004352208,
          0.8918455125423155,
          0.8831168197566222,
          0.8841310860395989,
          0.8860253256327211,
          0.8853999184803509,
          0.8745376577491044,
          0.8746935312477419,
          0.8808981276289354,
          0.8908747997238722,
          0.8912445852622588,
          0.884922917803509,
          0.883860115023045,
          0.8841729092012637,
          0.8841979167966564,
          0.882350516804884,
          0.8595509758954307,
          0.8556880813857253,
          0.8559611141489846,
          0.8823869554435422,
          0.7234051422276903,
          0.8904171347850781,
          0.8913174353706086,
          0.8898710728924302,
          0.8898346805366779,
          0.8915702295256253,
          0.889554701752375,
          0.8358166888803465,
          0.8354115387421924,
          0.8295130952327441,
          0.838184524350077,
          0.8344420319828629,
          0.7993401488668992,
          0.8440330676182114,
          0.8406580751843563,
          0.8451800874278396,
          0.8426458839828712,
          0.88564480757954,
          0.8963729260356939,
          0.8941505293398079,
          0.8320465861510824,
          0.89589767689666,
          0.8945598124720094,
          0.8939169126188492,
          0.8954205671061205,
          0.8969601826703165,
          0.8946170649743598,
          0.8921397104918496,
          0.8971483340784314,
          0.891638623557205,
          0.8948822043124443,
          0.8924202840066078,
          0.8769429698489951,
          0.8668263143108422,
          0.8821139264533292,
          0.8880872084065331,
          0.8834457276242682,
          0.8907529830916566,
          0.8986889695161079,
          0.8987039297060264,
          0.8935936517105185,
          0.8938024198146474,
          0.898745541133759,
          0.8983479613516053,
          0.8943319470414789,
          0.8899538531250387,
          0.9007163639819613,
          0.8970960245145345,
          0.8994618207597537,
          0.8991522549376313,
          0.8996928019651975,
          0.8995040231772471,
          0.9002413419161732,
          0.9000421968864993,
          0.9025803734583245,
          0.9015985165595378,
          0.8917116647058766,
          0.8937023426953591,
          0.8915292059755021,
          0.8850497583392123,
          0.88923699506927,
          0.8840229896320997,
          0.8911411198119227,
          0.8899166190032897,
          0.9018688155371948,
          0.9011921556398667,
          0.8988779660357906,
          0.8624774289572523,
          0.8628338600561589,
          0.8628739109537232,
          0.898518969872066,
          0.8992784655016217,
          0.8954989510894812,
          0.8985722264187013,
          0.8978831071076119,
          0.8977303957034353,
          0.8999049463724539,
          0.8987884473283746,
          0.8987959493178155,
          0.8987774417319783,
          0.8856526258241176,
          0.9005419191807021,
          0.9024175045782513,
          0.8959455234101608,
          0.8834396056828767,
          0.8847930124535954,
          0.884237473316339,
          0.8824250724093046,
          0.8961923519646131,
          0.900502145415649,
          0.8987209872840088,
          0.8987683787250225,
          0.900832787698071,
          0.9000957011198608,
          0.901507616188997,
          0.9008620190134389,
          0.8873434148252848,
          0.8873243352642355,
          0.8875125488123196,
          0.896148770940637,
          0.896896461330614,
          0.8972589757085963,
          0.8996672185192794,
          0.9001856314249442,
          0.8996117107171129,
          0.8951498788494398,
          0.896401581612821,
          0.899344260555841,
          0.8997900624808481,
          0.9004963880732408,
          0.8996834903088372,
          0.8993916716436869,
          0.899614514177132,
          0.8996953113266872,
          0.9002543127595624,
          0.9004393615201224,
          0.9003729395305807,
          0.9006260272555575,
          0.8992091709722473,
          0.9003515638971654,
          0.9000817992696583,
          0.9003359928789724,
          0.9003351505914916,
          0.8995487337964786,
          0.9002445160030058,
          0.9009733777121669,
          0.9005639011215985,
          0.9004901784672462,
          0.8992249309762789,
          0.9006846975763023,
          0.8995134732174568,
          0.9017438937659126,
          0.9014109385206135,
          0.9014669955420018,
          0.8624638857939114,
          0.8620043448289987,
          0.8614549797907584,
          0.8617973649879659,
          0.9002239632157375,
          0.8967560642855519,
          0.8998203004797738,
          0.8892940571242957,
          0.8898956438348261,
          0.8996417329902382,
          0.9007565691184327,
          0.9002822721918134,
          0.8911231103840522,
          0.9004879225685251,
          0.9007916990733076,
          0.9005352766653439,
          0.9017460533937449,
          0.8989932619520905,
          0.8998882882348417,
          0.8997760637578385,
          0.9008946653846349,
          0.8997299964728143,
          0.887933529189685,
          0.8998034537782116,
          0.8985638478216005,
          0.9012850516608817,
          0.9003011869389649,
          0.8891352584458196,
          0.9001119619111924
         ],
         "yaxis": "y7"
        },
        {
         "marker": {
          "color": [
           0,
           1,
           2,
           3,
           4,
           5,
           6,
           7,
           8,
           9,
           10,
           11,
           12,
           13,
           14,
           15,
           16,
           17,
           18,
           19,
           20,
           21,
           22,
           23,
           24,
           25,
           26,
           27,
           28,
           29,
           30,
           31,
           32,
           33,
           34,
           35,
           36,
           37,
           38,
           39,
           40,
           41,
           42,
           43,
           44,
           45,
           46,
           47,
           48,
           49,
           50,
           51,
           52,
           53,
           54,
           55,
           56,
           57,
           58,
           59,
           60,
           61,
           62,
           63,
           64,
           65,
           66,
           67,
           68,
           69,
           70,
           71,
           72,
           73,
           74,
           75,
           76,
           77,
           78,
           79,
           80,
           81,
           82,
           83,
           84,
           85,
           86,
           87,
           88,
           89,
           90,
           91,
           92,
           93,
           94,
           95,
           96,
           97,
           98,
           99,
           100,
           101,
           102,
           103,
           104,
           105,
           106,
           107,
           108,
           109,
           110,
           111,
           112,
           113,
           114,
           115,
           116,
           117,
           118,
           119,
           120,
           121,
           122,
           123,
           124,
           125,
           126,
           127,
           128,
           129,
           130,
           131,
           132,
           133,
           134,
           135,
           136,
           137,
           138,
           139,
           140,
           141,
           142,
           143,
           144,
           145,
           146,
           147,
           148,
           149,
           150,
           151,
           152,
           153,
           154,
           155,
           156,
           157,
           158,
           159,
           160,
           161,
           162,
           163,
           164,
           165,
           166,
           167,
           168,
           169,
           170,
           171,
           172,
           173,
           174,
           175,
           176,
           177,
           178,
           179,
           180,
           181,
           182,
           183,
           184,
           185,
           186,
           187,
           188,
           189,
           190,
           191,
           192,
           193,
           194,
           195,
           196,
           197,
           198,
           199
          ],
          "colorbar": {
           "title": {
            "text": "#Trials"
           },
           "x": 1,
           "xpad": 40
          },
          "colorscale": [
           [
            0,
            "rgb(247,251,255)"
           ],
           [
            0.125,
            "rgb(222,235,247)"
           ],
           [
            0.25,
            "rgb(198,219,239)"
           ],
           [
            0.375,
            "rgb(158,202,225)"
           ],
           [
            0.5,
            "rgb(107,174,214)"
           ],
           [
            0.625,
            "rgb(66,146,198)"
           ],
           [
            0.75,
            "rgb(33,113,181)"
           ],
           [
            0.875,
            "rgb(8,81,156)"
           ],
           [
            1,
            "rgb(8,48,107)"
           ]
          ],
          "line": {
           "color": "Grey",
           "width": 0.5
          },
          "showscale": false
         },
         "mode": "markers",
         "showlegend": false,
         "type": "scatter",
         "x": [
          0.6800649514156517,
          0.24463554380288638,
          0.06654085547737175,
          9.263369574950609,
          0.37136737017504945,
          2.366123803922429,
          3.8815706447924465,
          1.1497312533887223,
          0.015534297173891968,
          0.28441420379353166,
          1.0184932921994208,
          5.853225531993987,
          0.20477545133834021,
          1.3110641804576488,
          0.5386008239745997,
          0.07414395858451968,
          1.5444325147861826,
          0.033902410881105786,
          0.10362858986026682,
          0.010933474608416878,
          0.017509357609185573,
          0.04504309894381117,
          0.050394512670279626,
          0.016042495271585598,
          0.017949383710078422,
          0.15350404011300842,
          0.13045547527988405,
          0.11144862416499482,
          0.1274039744739205,
          0.17627736198074936,
          0.13443715661161845,
          0.13633674885020922,
          0.13368129150942484,
          0.13290619202724804,
          0.12103537825793237,
          0.12442499783447131,
          0.10406947802561503,
          0.09045304295299557,
          0.42204953721637134,
          0.32820853376570935,
          0.2749078412002454,
          0.3035109504472567,
          0.45399701138885734,
          0.29477609454545267,
          0.31585026476302475,
          0.30410513525749705,
          0.5844439625654361,
          0.27949569013752235,
          0.42476630496932344,
          0.5150536141654554,
          0.7098760195799424,
          0.737159637933628,
          0.6057594008116599,
          0.6961940041482049,
          0.5932403667454825,
          0.6992378162907533,
          0.4964320237866658,
          0.45197649801863,
          0.44225695310804636,
          0.19757456818597893,
          0.44614835721044016,
          0.06908620482860522,
          0.20079280600745888,
          0.20731566804299412,
          0.20632528641600054,
          0.2019908356509564,
          0.21748823089179628,
          1.7003731302655416,
          0.217605760404465,
          0.20198499312821705,
          1.7948385647453413,
          3.630914320991033,
          3.12483891007012,
          0.8353404053840023,
          0.961697401189447,
          1.0197252957152678,
          1.0769873075175143,
          0.9879381590076741,
          0.9580842969458637,
          0.9999825103321109,
          1.2685030568773898,
          1.8924430895276354,
          0.06351234219539587,
          5.942329711644473,
          0.07619476245643374,
          1.5206556634926558,
          1.356187114526211,
          1.2966324692185203,
          1.2818356047918953,
          1.2806087048297592,
          1.393620234550832,
          7.590389730740774,
          7.861664529930142,
          6.218117356503381,
          7.257273963008284,
          6.887165377613458,
          1.2997364922143124,
          2.437559171745559,
          2.314916863591252,
          7.3034269241879235,
          9.536096222971068,
          8.074247589384887,
          9.93544511747606,
          2.3526751154646712,
          2.2648505075790184,
          5.149372386315921,
          9.120751673518535,
          4.878771130039152,
          8.613054978254498,
          1.5142852692596678,
          1.4976948268585202,
          1.4130596826192257,
          4.425150421739882,
          4.774119523554963,
          4.944499340578034,
          8.14633788194511,
          8.346042103032206,
          4.909003523926575,
          8.2100659589527,
          8.247541794781334,
          8.500191066940653,
          8.510237300568015,
          8.210478756438969,
          5.794167722320468,
          6.086669123277008,
          2.842386495477484,
          6.1786203780942905,
          6.095103082396589,
          5.9221358688489705,
          5.778006448231355,
          5.94748267520927,
          3.6392486698869924,
          3.9730832490439227,
          3.449121144531329,
          6.53356911736236,
          3.8349129165618003,
          4.105945913139039,
          9.820824837780883,
          6.824291099419233,
          4.204195222925176,
          9.824837035057921,
          3.948279970050445,
          4.036541904969101,
          9.873810183120488,
          9.947779642681088,
          7.442476158312371,
          5.517218277452385,
          5.348507592278766,
          7.56361511979369,
          9.918387613778654,
          7.445497306864343,
          7.342554372772864,
          7.361748733428764,
          7.558179134611518,
          5.6445287056260085,
          7.637030896880806,
          6.757252983104539,
          5.37509569596164,
          5.476006595111552,
          5.531927262375187,
          6.751286933319621,
          5.418579850273127,
          5.407921593337987,
          5.541143409127919,
          5.686307162435713,
          6.592647229940732,
          6.638247681326679,
          6.646277097632298,
          6.572380278821641,
          6.562416576947547,
          4.469015379326725,
          3.2900236171362995,
          4.554736702697992,
          4.636121826203693,
          4.537674926451744,
          4.518300630205935,
          4.454849922851235,
          4.705683422697678,
          8.417445292048761,
          8.290020716306124,
          2.8980475887414276,
          8.538461136700738,
          2.981028059260347,
          8.297126926096228,
          8.535577380925087,
          2.938671573597013,
          3.511660906232014,
          6.0853408799082995,
          6.300847659965957,
          6.1816020117450075,
          6.367686739954251,
          6.261038124839863,
          6.525550586673599,
          6.281516481245643,
          3.7069059951891212,
          0.026965496332115584,
          3.589795191192589,
          3.9039382285254485,
          8.966104007157965,
          5.299469984239216
         ],
         "xaxis": "x8",
         "y": [
          0.47727483354604894,
          0.8832415595769108,
          0.8746506618051384,
          0.7766438142084142,
          0.857671174079298,
          0.7955679655932874,
          0.8506779022777762,
          0.7726552064040655,
          0.8569977416341464,
          0.890331220952454,
          0.7978506368531979,
          0.8492970864454519,
          0.8228926529593948,
          0.844150842008592,
          0.8636202571450827,
          0.7031503401841451,
          0.8881429347738232,
          0.8861041004352208,
          0.8918455125423155,
          0.8831168197566222,
          0.8841310860395989,
          0.8860253256327211,
          0.8853999184803509,
          0.8745376577491044,
          0.8746935312477419,
          0.8808981276289354,
          0.8908747997238722,
          0.8912445852622588,
          0.884922917803509,
          0.883860115023045,
          0.8841729092012637,
          0.8841979167966564,
          0.882350516804884,
          0.8595509758954307,
          0.8556880813857253,
          0.8559611141489846,
          0.8823869554435422,
          0.7234051422276903,
          0.8904171347850781,
          0.8913174353706086,
          0.8898710728924302,
          0.8898346805366779,
          0.8915702295256253,
          0.889554701752375,
          0.8358166888803465,
          0.8354115387421924,
          0.8295130952327441,
          0.838184524350077,
          0.8344420319828629,
          0.7993401488668992,
          0.8440330676182114,
          0.8406580751843563,
          0.8451800874278396,
          0.8426458839828712,
          0.88564480757954,
          0.8963729260356939,
          0.8941505293398079,
          0.8320465861510824,
          0.89589767689666,
          0.8945598124720094,
          0.8939169126188492,
          0.8954205671061205,
          0.8969601826703165,
          0.8946170649743598,
          0.8921397104918496,
          0.8971483340784314,
          0.891638623557205,
          0.8948822043124443,
          0.8924202840066078,
          0.8769429698489951,
          0.8668263143108422,
          0.8821139264533292,
          0.8880872084065331,
          0.8834457276242682,
          0.8907529830916566,
          0.8986889695161079,
          0.8987039297060264,
          0.8935936517105185,
          0.8938024198146474,
          0.898745541133759,
          0.8983479613516053,
          0.8943319470414789,
          0.8899538531250387,
          0.9007163639819613,
          0.8970960245145345,
          0.8994618207597537,
          0.8991522549376313,
          0.8996928019651975,
          0.8995040231772471,
          0.9002413419161732,
          0.9000421968864993,
          0.9025803734583245,
          0.9015985165595378,
          0.8917116647058766,
          0.8937023426953591,
          0.8915292059755021,
          0.8850497583392123,
          0.88923699506927,
          0.8840229896320997,
          0.8911411198119227,
          0.8899166190032897,
          0.9018688155371948,
          0.9011921556398667,
          0.8988779660357906,
          0.8624774289572523,
          0.8628338600561589,
          0.8628739109537232,
          0.898518969872066,
          0.8992784655016217,
          0.8954989510894812,
          0.8985722264187013,
          0.8978831071076119,
          0.8977303957034353,
          0.8999049463724539,
          0.8987884473283746,
          0.8987959493178155,
          0.8987774417319783,
          0.8856526258241176,
          0.9005419191807021,
          0.9024175045782513,
          0.8959455234101608,
          0.8834396056828767,
          0.8847930124535954,
          0.884237473316339,
          0.8824250724093046,
          0.8961923519646131,
          0.900502145415649,
          0.8987209872840088,
          0.8987683787250225,
          0.900832787698071,
          0.9000957011198608,
          0.901507616188997,
          0.9008620190134389,
          0.8873434148252848,
          0.8873243352642355,
          0.8875125488123196,
          0.896148770940637,
          0.896896461330614,
          0.8972589757085963,
          0.8996672185192794,
          0.9001856314249442,
          0.8996117107171129,
          0.8951498788494398,
          0.896401581612821,
          0.899344260555841,
          0.8997900624808481,
          0.9004963880732408,
          0.8996834903088372,
          0.8993916716436869,
          0.899614514177132,
          0.8996953113266872,
          0.9002543127595624,
          0.9004393615201224,
          0.9003729395305807,
          0.9006260272555575,
          0.8992091709722473,
          0.9003515638971654,
          0.9000817992696583,
          0.9003359928789724,
          0.9003351505914916,
          0.8995487337964786,
          0.9002445160030058,
          0.9009733777121669,
          0.9005639011215985,
          0.9004901784672462,
          0.8992249309762789,
          0.9006846975763023,
          0.8995134732174568,
          0.9017438937659126,
          0.9014109385206135,
          0.9014669955420018,
          0.8624638857939114,
          0.8620043448289987,
          0.8614549797907584,
          0.8617973649879659,
          0.9002239632157375,
          0.8967560642855519,
          0.8998203004797738,
          0.8892940571242957,
          0.8898956438348261,
          0.8996417329902382,
          0.9007565691184327,
          0.9002822721918134,
          0.8911231103840522,
          0.9004879225685251,
          0.9007916990733076,
          0.9005352766653439,
          0.9017460533937449,
          0.8989932619520905,
          0.8998882882348417,
          0.8997760637578385,
          0.9008946653846349,
          0.8997299964728143,
          0.887933529189685,
          0.8998034537782116,
          0.8985638478216005,
          0.9012850516608817,
          0.9003011869389649,
          0.8891352584458196,
          0.9001119619111924
         ],
         "yaxis": "y8"
        },
        {
         "marker": {
          "color": [
           0,
           1,
           2,
           3,
           4,
           5,
           6,
           7,
           8,
           9,
           10,
           11,
           12,
           13,
           14,
           15,
           16,
           17,
           18,
           19,
           20,
           21,
           22,
           23,
           24,
           25,
           26,
           27,
           28,
           29,
           30,
           31,
           32,
           33,
           34,
           35,
           36,
           37,
           38,
           39,
           40,
           41,
           42,
           43,
           44,
           45,
           46,
           47,
           48,
           49,
           50,
           51,
           52,
           53,
           54,
           55,
           56,
           57,
           58,
           59,
           60,
           61,
           62,
           63,
           64,
           65,
           66,
           67,
           68,
           69,
           70,
           71,
           72,
           73,
           74,
           75,
           76,
           77,
           78,
           79,
           80,
           81,
           82,
           83,
           84,
           85,
           86,
           87,
           88,
           89,
           90,
           91,
           92,
           93,
           94,
           95,
           96,
           97,
           98,
           99,
           100,
           101,
           102,
           103,
           104,
           105,
           106,
           107,
           108,
           109,
           110,
           111,
           112,
           113,
           114,
           115,
           116,
           117,
           118,
           119,
           120,
           121,
           122,
           123,
           124,
           125,
           126,
           127,
           128,
           129,
           130,
           131,
           132,
           133,
           134,
           135,
           136,
           137,
           138,
           139,
           140,
           141,
           142,
           143,
           144,
           145,
           146,
           147,
           148,
           149,
           150,
           151,
           152,
           153,
           154,
           155,
           156,
           157,
           158,
           159,
           160,
           161,
           162,
           163,
           164,
           165,
           166,
           167,
           168,
           169,
           170,
           171,
           172,
           173,
           174,
           175,
           176,
           177,
           178,
           179,
           180,
           181,
           182,
           183,
           184,
           185,
           186,
           187,
           188,
           189,
           190,
           191,
           192,
           193,
           194,
           195,
           196,
           197,
           198,
           199
          ],
          "colorbar": {
           "title": {
            "text": "#Trials"
           },
           "x": 1,
           "xpad": 40
          },
          "colorscale": [
           [
            0,
            "rgb(247,251,255)"
           ],
           [
            0.125,
            "rgb(222,235,247)"
           ],
           [
            0.25,
            "rgb(198,219,239)"
           ],
           [
            0.375,
            "rgb(158,202,225)"
           ],
           [
            0.5,
            "rgb(107,174,214)"
           ],
           [
            0.625,
            "rgb(66,146,198)"
           ],
           [
            0.75,
            "rgb(33,113,181)"
           ],
           [
            0.875,
            "rgb(8,81,156)"
           ],
           [
            1,
            "rgb(8,48,107)"
           ]
          ],
          "line": {
           "color": "Grey",
           "width": 0.5
          },
          "showscale": false
         },
         "mode": "markers",
         "showlegend": false,
         "type": "scatter",
         "x": [
          0.28597737602408035,
          0.9333565811733708,
          0.25200153246866597,
          0.472180350761116,
          0.22720791867310472,
          0.19281878838698566,
          0.4038410677579203,
          0.16897438586751418,
          0.33029175985086573,
          0.5480985854619821,
          0.7382392024919774,
          0.5503359846941008,
          0.34607599140044293,
          0.6850746322499022,
          0.12410301730326156,
          0.14461879340608907,
          0.5354240461506818,
          0.7698891782823315,
          0.8264442391369028,
          0.6997144894966697,
          0.708661875439065,
          0.7661822872859798,
          0.7564621779354752,
          0.7425056439642539,
          0.8544960242298785,
          0.5859814474541395,
          0.988509677204951,
          0.9523419104975899,
          0.5926482022013281,
          0.588676788653857,
          0.6061792878481511,
          0.5931057300850355,
          0.5803992621002864,
          0.613217073325414,
          0.964927683624962,
          0.9967145471866833,
          0.8821391773643213,
          0.8823418356714503,
          0.8776239222626174,
          0.8897066604639089,
          0.894369709605591,
          0.907670822580842,
          0.8328182700407056,
          0.8187454609842392,
          0.825317808155626,
          0.8188407064364183,
          0.83233778204157,
          0.8137886046765405,
          0.9423382480912825,
          0.9402055484146957,
          0.9359471437463357,
          0.9465926330403074,
          0.9504685299504975,
          0.9466725598590234,
          0.9439765258323276,
          0.9999899392282461,
          0.9855112338296218,
          0.9843887408573834,
          0.9118010460529758,
          0.9968226007626547,
          0.9904844537824479,
          0.6542204664886315,
          0.8595346758633834,
          0.9984344227745832,
          0.9075236054714382,
          0.6570761247392833,
          0.45947957529798417,
          0.7878480988619645,
          0.4078697377860047,
          0.48318425658989994,
          0.912623240277451,
          0.7879936615500327,
          0.7913195888710182,
          0.8580250476850318,
          0.7827536448629042,
          0.6531877021571784,
          0.6465238246411033,
          0.650657339297839,
          0.6573786472529148,
          0.6389302130148375,
          0.977070133542883,
          0.9732520088573249,
          0.6364788377945485,
          0.6695139262925309,
          0.7009212865060692,
          0.7259207026708496,
          0.7199415359205459,
          0.7060620674642512,
          0.7129679887286341,
          0.7170698083370435,
          0.7122482535736545,
          0.708766316415159,
          0.690621336239148,
          0.6855047488740813,
          0.7251121356617638,
          0.7259111282847112,
          0.7250626933268137,
          0.7252089132800118,
          0.7345755265665947,
          0.7322557373904656,
          0.7299949482201866,
          0.6823416116535594,
          0.6778536692157356,
          0.738910053627987,
          0.7509094303220735,
          0.7538904772217166,
          0.7566692383534754,
          0.6750801415235823,
          0.6886984705619412,
          0.685217554241811,
          0.6780033352767647,
          0.620383190562486,
          0.6741634375129549,
          0.6736644398788114,
          0.6766266849670497,
          0.6196824235399185,
          0.681884648914835,
          0.5637951184147553,
          0.7124024873112508,
          0.7084270995052365,
          0.5652483160795145,
          0.5682607666626875,
          0.7055262702378231,
          0.5640628276340511,
          0.7045601820092523,
          0.6976428957609258,
          0.7711840618503989,
          0.7063584809244073,
          0.7138822284186093,
          0.7100779502203651,
          0.7710858516502797,
          0.7719362512226072,
          0.7709153662073857,
          0.7750504000727931,
          0.7641375149474617,
          0.7641746861220609,
          0.609657695744577,
          0.62874558719871,
          0.6666146005062672,
          0.766506106990733,
          0.7659245103281378,
          0.7652999089181555,
          0.7619841048753417,
          0.7830743940154469,
          0.7974846901048044,
          0.7986697961657608,
          0.794607713442311,
          0.7998009911797229,
          0.7907194782260111,
          0.8078314153344659,
          0.7832140672523681,
          0.8037018302015706,
          0.8016040357487155,
          0.8129875534163571,
          0.8074012744635234,
          0.7468952853829427,
          0.8342941213945237,
          0.8408030149026061,
          0.7437151000453256,
          0.8363293049027686,
          0.849332364916944,
          0.8424969995405508,
          0.8405298722212132,
          0.7459825042203387,
          0.838769032826597,
          0.8405247125952264,
          0.83780473799573,
          0.8567432003636004,
          0.8254981089774609,
          0.8160312587779976,
          0.8166465395668923,
          0.8104757597735575,
          0.8678442498031069,
          0.873208624413916,
          0.8729832357482029,
          0.8616858927951183,
          0.8743905032594136,
          0.8761891824350679,
          0.22864758072406655,
          0.2699388777277991,
          0.822534111687051,
          0.8244017854694495,
          0.8204711185256638,
          0.2961931201811885,
          0.820237101096638,
          0.8223915792166646,
          0.8225237252184112,
          0.8172688189146019,
          0.5172773143897283,
          0.7393146488974526,
          0.7381093007934182,
          0.6913672927808758,
          0.6917866049915607,
          0.8916254613002805,
          0.896990075137301,
          0.7480262530117239,
          0.7432282837293113,
          0.8497433485882282,
          0.6979087240062939,
          0.663701327458787
         ],
         "xaxis": "x9",
         "y": [
          0.47727483354604894,
          0.8832415595769108,
          0.8746506618051384,
          0.7766438142084142,
          0.857671174079298,
          0.7955679655932874,
          0.8506779022777762,
          0.7726552064040655,
          0.8569977416341464,
          0.890331220952454,
          0.7978506368531979,
          0.8492970864454519,
          0.8228926529593948,
          0.844150842008592,
          0.8636202571450827,
          0.7031503401841451,
          0.8881429347738232,
          0.8861041004352208,
          0.8918455125423155,
          0.8831168197566222,
          0.8841310860395989,
          0.8860253256327211,
          0.8853999184803509,
          0.8745376577491044,
          0.8746935312477419,
          0.8808981276289354,
          0.8908747997238722,
          0.8912445852622588,
          0.884922917803509,
          0.883860115023045,
          0.8841729092012637,
          0.8841979167966564,
          0.882350516804884,
          0.8595509758954307,
          0.8556880813857253,
          0.8559611141489846,
          0.8823869554435422,
          0.7234051422276903,
          0.8904171347850781,
          0.8913174353706086,
          0.8898710728924302,
          0.8898346805366779,
          0.8915702295256253,
          0.889554701752375,
          0.8358166888803465,
          0.8354115387421924,
          0.8295130952327441,
          0.838184524350077,
          0.8344420319828629,
          0.7993401488668992,
          0.8440330676182114,
          0.8406580751843563,
          0.8451800874278396,
          0.8426458839828712,
          0.88564480757954,
          0.8963729260356939,
          0.8941505293398079,
          0.8320465861510824,
          0.89589767689666,
          0.8945598124720094,
          0.8939169126188492,
          0.8954205671061205,
          0.8969601826703165,
          0.8946170649743598,
          0.8921397104918496,
          0.8971483340784314,
          0.891638623557205,
          0.8948822043124443,
          0.8924202840066078,
          0.8769429698489951,
          0.8668263143108422,
          0.8821139264533292,
          0.8880872084065331,
          0.8834457276242682,
          0.8907529830916566,
          0.8986889695161079,
          0.8987039297060264,
          0.8935936517105185,
          0.8938024198146474,
          0.898745541133759,
          0.8983479613516053,
          0.8943319470414789,
          0.8899538531250387,
          0.9007163639819613,
          0.8970960245145345,
          0.8994618207597537,
          0.8991522549376313,
          0.8996928019651975,
          0.8995040231772471,
          0.9002413419161732,
          0.9000421968864993,
          0.9025803734583245,
          0.9015985165595378,
          0.8917116647058766,
          0.8937023426953591,
          0.8915292059755021,
          0.8850497583392123,
          0.88923699506927,
          0.8840229896320997,
          0.8911411198119227,
          0.8899166190032897,
          0.9018688155371948,
          0.9011921556398667,
          0.8988779660357906,
          0.8624774289572523,
          0.8628338600561589,
          0.8628739109537232,
          0.898518969872066,
          0.8992784655016217,
          0.8954989510894812,
          0.8985722264187013,
          0.8978831071076119,
          0.8977303957034353,
          0.8999049463724539,
          0.8987884473283746,
          0.8987959493178155,
          0.8987774417319783,
          0.8856526258241176,
          0.9005419191807021,
          0.9024175045782513,
          0.8959455234101608,
          0.8834396056828767,
          0.8847930124535954,
          0.884237473316339,
          0.8824250724093046,
          0.8961923519646131,
          0.900502145415649,
          0.8987209872840088,
          0.8987683787250225,
          0.900832787698071,
          0.9000957011198608,
          0.901507616188997,
          0.9008620190134389,
          0.8873434148252848,
          0.8873243352642355,
          0.8875125488123196,
          0.896148770940637,
          0.896896461330614,
          0.8972589757085963,
          0.8996672185192794,
          0.9001856314249442,
          0.8996117107171129,
          0.8951498788494398,
          0.896401581612821,
          0.899344260555841,
          0.8997900624808481,
          0.9004963880732408,
          0.8996834903088372,
          0.8993916716436869,
          0.899614514177132,
          0.8996953113266872,
          0.9002543127595624,
          0.9004393615201224,
          0.9003729395305807,
          0.9006260272555575,
          0.8992091709722473,
          0.9003515638971654,
          0.9000817992696583,
          0.9003359928789724,
          0.9003351505914916,
          0.8995487337964786,
          0.9002445160030058,
          0.9009733777121669,
          0.9005639011215985,
          0.9004901784672462,
          0.8992249309762789,
          0.9006846975763023,
          0.8995134732174568,
          0.9017438937659126,
          0.9014109385206135,
          0.9014669955420018,
          0.8624638857939114,
          0.8620043448289987,
          0.8614549797907584,
          0.8617973649879659,
          0.9002239632157375,
          0.8967560642855519,
          0.8998203004797738,
          0.8892940571242957,
          0.8898956438348261,
          0.8996417329902382,
          0.9007565691184327,
          0.9002822721918134,
          0.8911231103840522,
          0.9004879225685251,
          0.9007916990733076,
          0.9005352766653439,
          0.9017460533937449,
          0.8989932619520905,
          0.8998882882348417,
          0.8997760637578385,
          0.9008946653846349,
          0.8997299964728143,
          0.887933529189685,
          0.8998034537782116,
          0.8985638478216005,
          0.9012850516608817,
          0.9003011869389649,
          0.8891352584458196,
          0.9001119619111924
         ],
         "yaxis": "y9"
        }
       ],
       "layout": {
        "template": {
         "data": {
          "bar": [
           {
            "error_x": {
             "color": "#2a3f5f"
            },
            "error_y": {
             "color": "#2a3f5f"
            },
            "marker": {
             "line": {
              "color": "#E5ECF6",
              "width": 0.5
             },
             "pattern": {
              "fillmode": "overlay",
              "size": 10,
              "solidity": 0.2
             }
            },
            "type": "bar"
           }
          ],
          "barpolar": [
           {
            "marker": {
             "line": {
              "color": "#E5ECF6",
              "width": 0.5
             },
             "pattern": {
              "fillmode": "overlay",
              "size": 10,
              "solidity": 0.2
             }
            },
            "type": "barpolar"
           }
          ],
          "carpet": [
           {
            "aaxis": {
             "endlinecolor": "#2a3f5f",
             "gridcolor": "white",
             "linecolor": "white",
             "minorgridcolor": "white",
             "startlinecolor": "#2a3f5f"
            },
            "baxis": {
             "endlinecolor": "#2a3f5f",
             "gridcolor": "white",
             "linecolor": "white",
             "minorgridcolor": "white",
             "startlinecolor": "#2a3f5f"
            },
            "type": "carpet"
           }
          ],
          "choropleth": [
           {
            "colorbar": {
             "outlinewidth": 0,
             "ticks": ""
            },
            "type": "choropleth"
           }
          ],
          "contour": [
           {
            "colorbar": {
             "outlinewidth": 0,
             "ticks": ""
            },
            "colorscale": [
             [
              0,
              "#0d0887"
             ],
             [
              0.1111111111111111,
              "#46039f"
             ],
             [
              0.2222222222222222,
              "#7201a8"
             ],
             [
              0.3333333333333333,
              "#9c179e"
             ],
             [
              0.4444444444444444,
              "#bd3786"
             ],
             [
              0.5555555555555556,
              "#d8576b"
             ],
             [
              0.6666666666666666,
              "#ed7953"
             ],
             [
              0.7777777777777778,
              "#fb9f3a"
             ],
             [
              0.8888888888888888,
              "#fdca26"
             ],
             [
              1,
              "#f0f921"
             ]
            ],
            "type": "contour"
           }
          ],
          "contourcarpet": [
           {
            "colorbar": {
             "outlinewidth": 0,
             "ticks": ""
            },
            "type": "contourcarpet"
           }
          ],
          "heatmap": [
           {
            "colorbar": {
             "outlinewidth": 0,
             "ticks": ""
            },
            "colorscale": [
             [
              0,
              "#0d0887"
             ],
             [
              0.1111111111111111,
              "#46039f"
             ],
             [
              0.2222222222222222,
              "#7201a8"
             ],
             [
              0.3333333333333333,
              "#9c179e"
             ],
             [
              0.4444444444444444,
              "#bd3786"
             ],
             [
              0.5555555555555556,
              "#d8576b"
             ],
             [
              0.6666666666666666,
              "#ed7953"
             ],
             [
              0.7777777777777778,
              "#fb9f3a"
             ],
             [
              0.8888888888888888,
              "#fdca26"
             ],
             [
              1,
              "#f0f921"
             ]
            ],
            "type": "heatmap"
           }
          ],
          "heatmapgl": [
           {
            "colorbar": {
             "outlinewidth": 0,
             "ticks": ""
            },
            "colorscale": [
             [
              0,
              "#0d0887"
             ],
             [
              0.1111111111111111,
              "#46039f"
             ],
             [
              0.2222222222222222,
              "#7201a8"
             ],
             [
              0.3333333333333333,
              "#9c179e"
             ],
             [
              0.4444444444444444,
              "#bd3786"
             ],
             [
              0.5555555555555556,
              "#d8576b"
             ],
             [
              0.6666666666666666,
              "#ed7953"
             ],
             [
              0.7777777777777778,
              "#fb9f3a"
             ],
             [
              0.8888888888888888,
              "#fdca26"
             ],
             [
              1,
              "#f0f921"
             ]
            ],
            "type": "heatmapgl"
           }
          ],
          "histogram": [
           {
            "marker": {
             "pattern": {
              "fillmode": "overlay",
              "size": 10,
              "solidity": 0.2
             }
            },
            "type": "histogram"
           }
          ],
          "histogram2d": [
           {
            "colorbar": {
             "outlinewidth": 0,
             "ticks": ""
            },
            "colorscale": [
             [
              0,
              "#0d0887"
             ],
             [
              0.1111111111111111,
              "#46039f"
             ],
             [
              0.2222222222222222,
              "#7201a8"
             ],
             [
              0.3333333333333333,
              "#9c179e"
             ],
             [
              0.4444444444444444,
              "#bd3786"
             ],
             [
              0.5555555555555556,
              "#d8576b"
             ],
             [
              0.6666666666666666,
              "#ed7953"
             ],
             [
              0.7777777777777778,
              "#fb9f3a"
             ],
             [
              0.8888888888888888,
              "#fdca26"
             ],
             [
              1,
              "#f0f921"
             ]
            ],
            "type": "histogram2d"
           }
          ],
          "histogram2dcontour": [
           {
            "colorbar": {
             "outlinewidth": 0,
             "ticks": ""
            },
            "colorscale": [
             [
              0,
              "#0d0887"
             ],
             [
              0.1111111111111111,
              "#46039f"
             ],
             [
              0.2222222222222222,
              "#7201a8"
             ],
             [
              0.3333333333333333,
              "#9c179e"
             ],
             [
              0.4444444444444444,
              "#bd3786"
             ],
             [
              0.5555555555555556,
              "#d8576b"
             ],
             [
              0.6666666666666666,
              "#ed7953"
             ],
             [
              0.7777777777777778,
              "#fb9f3a"
             ],
             [
              0.8888888888888888,
              "#fdca26"
             ],
             [
              1,
              "#f0f921"
             ]
            ],
            "type": "histogram2dcontour"
           }
          ],
          "mesh3d": [
           {
            "colorbar": {
             "outlinewidth": 0,
             "ticks": ""
            },
            "type": "mesh3d"
           }
          ],
          "parcoords": [
           {
            "line": {
             "colorbar": {
              "outlinewidth": 0,
              "ticks": ""
             }
            },
            "type": "parcoords"
           }
          ],
          "pie": [
           {
            "automargin": true,
            "type": "pie"
           }
          ],
          "scatter": [
           {
            "marker": {
             "colorbar": {
              "outlinewidth": 0,
              "ticks": ""
             }
            },
            "type": "scatter"
           }
          ],
          "scatter3d": [
           {
            "line": {
             "colorbar": {
              "outlinewidth": 0,
              "ticks": ""
             }
            },
            "marker": {
             "colorbar": {
              "outlinewidth": 0,
              "ticks": ""
             }
            },
            "type": "scatter3d"
           }
          ],
          "scattercarpet": [
           {
            "marker": {
             "colorbar": {
              "outlinewidth": 0,
              "ticks": ""
             }
            },
            "type": "scattercarpet"
           }
          ],
          "scattergeo": [
           {
            "marker": {
             "colorbar": {
              "outlinewidth": 0,
              "ticks": ""
             }
            },
            "type": "scattergeo"
           }
          ],
          "scattergl": [
           {
            "marker": {
             "colorbar": {
              "outlinewidth": 0,
              "ticks": ""
             }
            },
            "type": "scattergl"
           }
          ],
          "scattermapbox": [
           {
            "marker": {
             "colorbar": {
              "outlinewidth": 0,
              "ticks": ""
             }
            },
            "type": "scattermapbox"
           }
          ],
          "scatterpolar": [
           {
            "marker": {
             "colorbar": {
              "outlinewidth": 0,
              "ticks": ""
             }
            },
            "type": "scatterpolar"
           }
          ],
          "scatterpolargl": [
           {
            "marker": {
             "colorbar": {
              "outlinewidth": 0,
              "ticks": ""
             }
            },
            "type": "scatterpolargl"
           }
          ],
          "scatterternary": [
           {
            "marker": {
             "colorbar": {
              "outlinewidth": 0,
              "ticks": ""
             }
            },
            "type": "scatterternary"
           }
          ],
          "surface": [
           {
            "colorbar": {
             "outlinewidth": 0,
             "ticks": ""
            },
            "colorscale": [
             [
              0,
              "#0d0887"
             ],
             [
              0.1111111111111111,
              "#46039f"
             ],
             [
              0.2222222222222222,
              "#7201a8"
             ],
             [
              0.3333333333333333,
              "#9c179e"
             ],
             [
              0.4444444444444444,
              "#bd3786"
             ],
             [
              0.5555555555555556,
              "#d8576b"
             ],
             [
              0.6666666666666666,
              "#ed7953"
             ],
             [
              0.7777777777777778,
              "#fb9f3a"
             ],
             [
              0.8888888888888888,
              "#fdca26"
             ],
             [
              1,
              "#f0f921"
             ]
            ],
            "type": "surface"
           }
          ],
          "table": [
           {
            "cells": {
             "fill": {
              "color": "#EBF0F8"
             },
             "line": {
              "color": "white"
             }
            },
            "header": {
             "fill": {
              "color": "#C8D4E3"
             },
             "line": {
              "color": "white"
             }
            },
            "type": "table"
           }
          ]
         },
         "layout": {
          "annotationdefaults": {
           "arrowcolor": "#2a3f5f",
           "arrowhead": 0,
           "arrowwidth": 1
          },
          "autotypenumbers": "strict",
          "coloraxis": {
           "colorbar": {
            "outlinewidth": 0,
            "ticks": ""
           }
          },
          "colorscale": {
           "diverging": [
            [
             0,
             "#8e0152"
            ],
            [
             0.1,
             "#c51b7d"
            ],
            [
             0.2,
             "#de77ae"
            ],
            [
             0.3,
             "#f1b6da"
            ],
            [
             0.4,
             "#fde0ef"
            ],
            [
             0.5,
             "#f7f7f7"
            ],
            [
             0.6,
             "#e6f5d0"
            ],
            [
             0.7,
             "#b8e186"
            ],
            [
             0.8,
             "#7fbc41"
            ],
            [
             0.9,
             "#4d9221"
            ],
            [
             1,
             "#276419"
            ]
           ],
           "sequential": [
            [
             0,
             "#0d0887"
            ],
            [
             0.1111111111111111,
             "#46039f"
            ],
            [
             0.2222222222222222,
             "#7201a8"
            ],
            [
             0.3333333333333333,
             "#9c179e"
            ],
            [
             0.4444444444444444,
             "#bd3786"
            ],
            [
             0.5555555555555556,
             "#d8576b"
            ],
            [
             0.6666666666666666,
             "#ed7953"
            ],
            [
             0.7777777777777778,
             "#fb9f3a"
            ],
            [
             0.8888888888888888,
             "#fdca26"
            ],
            [
             1,
             "#f0f921"
            ]
           ],
           "sequentialminus": [
            [
             0,
             "#0d0887"
            ],
            [
             0.1111111111111111,
             "#46039f"
            ],
            [
             0.2222222222222222,
             "#7201a8"
            ],
            [
             0.3333333333333333,
             "#9c179e"
            ],
            [
             0.4444444444444444,
             "#bd3786"
            ],
            [
             0.5555555555555556,
             "#d8576b"
            ],
            [
             0.6666666666666666,
             "#ed7953"
            ],
            [
             0.7777777777777778,
             "#fb9f3a"
            ],
            [
             0.8888888888888888,
             "#fdca26"
            ],
            [
             1,
             "#f0f921"
            ]
           ]
          },
          "colorway": [
           "#636efa",
           "#EF553B",
           "#00cc96",
           "#ab63fa",
           "#FFA15A",
           "#19d3f3",
           "#FF6692",
           "#B6E880",
           "#FF97FF",
           "#FECB52"
          ],
          "font": {
           "color": "#2a3f5f"
          },
          "geo": {
           "bgcolor": "white",
           "lakecolor": "white",
           "landcolor": "#E5ECF6",
           "showlakes": true,
           "showland": true,
           "subunitcolor": "white"
          },
          "hoverlabel": {
           "align": "left"
          },
          "hovermode": "closest",
          "mapbox": {
           "style": "light"
          },
          "paper_bgcolor": "white",
          "plot_bgcolor": "#E5ECF6",
          "polar": {
           "angularaxis": {
            "gridcolor": "white",
            "linecolor": "white",
            "ticks": ""
           },
           "bgcolor": "#E5ECF6",
           "radialaxis": {
            "gridcolor": "white",
            "linecolor": "white",
            "ticks": ""
           }
          },
          "scene": {
           "xaxis": {
            "backgroundcolor": "#E5ECF6",
            "gridcolor": "white",
            "gridwidth": 2,
            "linecolor": "white",
            "showbackground": true,
            "ticks": "",
            "zerolinecolor": "white"
           },
           "yaxis": {
            "backgroundcolor": "#E5ECF6",
            "gridcolor": "white",
            "gridwidth": 2,
            "linecolor": "white",
            "showbackground": true,
            "ticks": "",
            "zerolinecolor": "white"
           },
           "zaxis": {
            "backgroundcolor": "#E5ECF6",
            "gridcolor": "white",
            "gridwidth": 2,
            "linecolor": "white",
            "showbackground": true,
            "ticks": "",
            "zerolinecolor": "white"
           }
          },
          "shapedefaults": {
           "line": {
            "color": "#2a3f5f"
           }
          },
          "ternary": {
           "aaxis": {
            "gridcolor": "white",
            "linecolor": "white",
            "ticks": ""
           },
           "baxis": {
            "gridcolor": "white",
            "linecolor": "white",
            "ticks": ""
           },
           "bgcolor": "#E5ECF6",
           "caxis": {
            "gridcolor": "white",
            "linecolor": "white",
            "ticks": ""
           }
          },
          "title": {
           "x": 0.05
          },
          "xaxis": {
           "automargin": true,
           "gridcolor": "white",
           "linecolor": "white",
           "ticks": "",
           "title": {
            "standoff": 15
           },
           "zerolinecolor": "white",
           "zerolinewidth": 2
          },
          "yaxis": {
           "automargin": true,
           "gridcolor": "white",
           "linecolor": "white",
           "ticks": "",
           "title": {
            "standoff": 15
           },
           "zerolinecolor": "white",
           "zerolinewidth": 2
          }
         }
        },
        "title": {
         "text": "Slice Plot"
        },
        "width": 2700,
        "xaxis": {
         "anchor": "y",
         "domain": [
          0,
          0.09135802469135802
         ],
         "title": {
          "text": "colsample_bytree"
         }
        },
        "xaxis2": {
         "anchor": "y2",
         "domain": [
          0.11358024691358025,
          0.20493827160493827
         ],
         "title": {
          "text": "gamma"
         },
         "type": "log"
        },
        "xaxis3": {
         "anchor": "y3",
         "domain": [
          0.2271604938271605,
          0.31851851851851853
         ],
         "title": {
          "text": "learning_rate"
         }
        },
        "xaxis4": {
         "anchor": "y4",
         "domain": [
          0.34074074074074073,
          0.43209876543209874
         ],
         "title": {
          "text": "max_depth"
         }
        },
        "xaxis5": {
         "anchor": "y5",
         "domain": [
          0.454320987654321,
          0.5456790123456791
         ],
         "title": {
          "text": "min_child_weight"
         }
        },
        "xaxis6": {
         "anchor": "y6",
         "domain": [
          0.5679012345679012,
          0.6592592592592592
         ],
         "title": {
          "text": "n_estimators"
         }
        },
        "xaxis7": {
         "anchor": "y7",
         "domain": [
          0.6814814814814815,
          0.7728395061728395
         ],
         "title": {
          "text": "reg_alpha"
         },
         "type": "log"
        },
        "xaxis8": {
         "anchor": "y8",
         "domain": [
          0.7950617283950617,
          0.8864197530864197
         ],
         "title": {
          "text": "reg_lambda"
         },
         "type": "log"
        },
        "xaxis9": {
         "anchor": "y9",
         "domain": [
          0.908641975308642,
          1
         ],
         "title": {
          "text": "subsample"
         }
        },
        "yaxis": {
         "anchor": "x",
         "domain": [
          0,
          1
         ],
         "title": {
          "text": "Objective Value"
         }
        },
        "yaxis2": {
         "anchor": "x2",
         "domain": [
          0,
          1
         ],
         "matches": "y",
         "showticklabels": false
        },
        "yaxis3": {
         "anchor": "x3",
         "domain": [
          0,
          1
         ],
         "matches": "y",
         "showticklabels": false
        },
        "yaxis4": {
         "anchor": "x4",
         "domain": [
          0,
          1
         ],
         "matches": "y",
         "showticklabels": false
        },
        "yaxis5": {
         "anchor": "x5",
         "domain": [
          0,
          1
         ],
         "matches": "y",
         "showticklabels": false
        },
        "yaxis6": {
         "anchor": "x6",
         "domain": [
          0,
          1
         ],
         "matches": "y",
         "showticklabels": false
        },
        "yaxis7": {
         "anchor": "x7",
         "domain": [
          0,
          1
         ],
         "matches": "y",
         "showticklabels": false
        },
        "yaxis8": {
         "anchor": "x8",
         "domain": [
          0,
          1
         ],
         "matches": "y",
         "showticklabels": false
        },
        "yaxis9": {
         "anchor": "x9",
         "domain": [
          0,
          1
         ],
         "matches": "y",
         "showticklabels": false
        }
       }
      }
     },
     "metadata": {},
     "output_type": "display_data"
    }
   ],
   "source": [
    "def make_optuna_visualizations(study: optuna.Study): \n",
    "\n",
    "    fig = optuna.visualization.plot_optimization_history(study)\n",
    "    fig.show()\n",
    "\n",
    "    fig = optuna.visualization.plot_param_importances(study)\n",
    "    fig.show()\n",
    "\n",
    "    fig = optuna.visualization.plot_slice(study)\n",
    "    fig.show()\n",
    "\n",
    "make_optuna_visualizations(xgb_study)"
   ]
  },
  {
   "cell_type": "code",
   "execution_count": 23,
   "metadata": {},
   "outputs": [],
   "source": [
    "xgb_tuned = xgb_oscv.best_estimator_"
   ]
  },
  {
   "cell_type": "code",
   "execution_count": 24,
   "metadata": {},
   "outputs": [
    {
     "name": "stdout",
     "output_type": "stream",
     "text": [
      "Train R2: 0.987649\n",
      "Test R2: 0.908359\n"
     ]
    }
   ],
   "source": [
    "model = xgb_tuned\n",
    "\n",
    "train_r2 = f.evaluate_model(model, metric = 'r2', **train_data)\n",
    "test_r2 = f.evaluate_model(model, metric = 'r2', **test_data)\n",
    "\n",
    "print('Train R2:', train_r2)\n",
    "print('Test R2:', test_r2)"
   ]
  },
  {
   "cell_type": "markdown",
   "metadata": {},
   "source": [
    "a little overfit so will do some manual adjustments"
   ]
  },
  {
   "cell_type": "markdown",
   "metadata": {},
   "source": [
    "### Manual Hyperparameter Adjustments"
   ]
  },
  {
   "cell_type": "code",
   "execution_count": 41,
   "metadata": {},
   "outputs": [
    {
     "data": {
      "text/html": [
       "<div>\n",
       "<style scoped>\n",
       "    .dataframe tbody tr th:only-of-type {\n",
       "        vertical-align: middle;\n",
       "    }\n",
       "\n",
       "    .dataframe tbody tr th {\n",
       "        vertical-align: top;\n",
       "    }\n",
       "\n",
       "    .dataframe thead th {\n",
       "        text-align: right;\n",
       "    }\n",
       "</style>\n",
       "<table border=\"1\" class=\"dataframe\">\n",
       "  <thead>\n",
       "    <tr style=\"text-align: right;\">\n",
       "      <th></th>\n",
       "      <th></th>\n",
       "      <th>Train R2 Score</th>\n",
       "      <th>Test R2 Score</th>\n",
       "      <th>Difference</th>\n",
       "    </tr>\n",
       "    <tr>\n",
       "      <th>max_depth</th>\n",
       "      <th>learning_rate</th>\n",
       "      <th></th>\n",
       "      <th></th>\n",
       "      <th></th>\n",
       "    </tr>\n",
       "  </thead>\n",
       "  <tbody>\n",
       "    <tr>\n",
       "      <th rowspan=\"2\" valign=\"top\">2</th>\n",
       "      <th>0.01</th>\n",
       "      <td>0.787679</td>\n",
       "      <td>0.767657</td>\n",
       "      <td>0.020022</td>\n",
       "    </tr>\n",
       "    <tr>\n",
       "      <th>0.03</th>\n",
       "      <td>0.853452</td>\n",
       "      <td>0.832502</td>\n",
       "      <td>0.020950</td>\n",
       "    </tr>\n",
       "    <tr>\n",
       "      <th>3</th>\n",
       "      <th>0.01</th>\n",
       "      <td>0.853665</td>\n",
       "      <td>0.832012</td>\n",
       "      <td>0.021653</td>\n",
       "    </tr>\n",
       "    <tr>\n",
       "      <th>4</th>\n",
       "      <th>0.01</th>\n",
       "      <td>0.890772</td>\n",
       "      <td>0.865678</td>\n",
       "      <td>0.025094</td>\n",
       "    </tr>\n",
       "    <tr>\n",
       "      <th>3</th>\n",
       "      <th>0.03</th>\n",
       "      <td>0.899845</td>\n",
       "      <td>0.872024</td>\n",
       "      <td>0.027821</td>\n",
       "    </tr>\n",
       "    <tr>\n",
       "      <th>5</th>\n",
       "      <th>0.01</th>\n",
       "      <td>0.917122</td>\n",
       "      <td>0.886529</td>\n",
       "      <td>0.030593</td>\n",
       "    </tr>\n",
       "    <tr>\n",
       "      <th>2</th>\n",
       "      <th>0.10</th>\n",
       "      <td>0.890250</td>\n",
       "      <td>0.855470</td>\n",
       "      <td>0.034780</td>\n",
       "    </tr>\n",
       "    <tr>\n",
       "      <th>4</th>\n",
       "      <th>0.03</th>\n",
       "      <td>0.931508</td>\n",
       "      <td>0.892944</td>\n",
       "      <td>0.038564</td>\n",
       "    </tr>\n",
       "  </tbody>\n",
       "</table>\n",
       "</div>"
      ],
      "text/plain": [
       "                         Train R2 Score  Test R2 Score  Difference\n",
       "max_depth learning_rate                                           \n",
       "2         0.01                 0.787679       0.767657    0.020022\n",
       "          0.03                 0.853452       0.832502    0.020950\n",
       "3         0.01                 0.853665       0.832012    0.021653\n",
       "4         0.01                 0.890772       0.865678    0.025094\n",
       "3         0.03                 0.899845       0.872024    0.027821\n",
       "5         0.01                 0.917122       0.886529    0.030593\n",
       "2         0.10                 0.890250       0.855470    0.034780\n",
       "4         0.03                 0.931508       0.892944    0.038564"
      ]
     },
     "execution_count": 41,
     "metadata": {},
     "output_type": "execute_result"
    }
   ],
   "source": [
    "oscv_params = xgb_oscv.best_params_\n",
    "\n",
    "max_depth_params  = [2,3,4,5,6]\n",
    "learning_rate_params = [0.01, 0.03, 0.1]\n",
    "\n",
    "param_perms = product(max_depth_params, learning_rate_params)\n",
    "\n",
    "results_record = {\n",
    "    'max_depth' : [],\n",
    "    'learning_rate' : [],\n",
    "    'Train R2 Score' : [],\n",
    "    'Test R2 Score' : []}\n",
    "\n",
    "for md, learnr in param_perms:\n",
    "\n",
    "    model_params = {\n",
    "        **base_params,\n",
    "        **oscv_params,\n",
    "        'max_depth' : md,\n",
    "        'learning_rate' : learnr\n",
    "        }\n",
    "\n",
    "\n",
    "    fn_model = XGBRegressor(**model_params).fit(**train_data)\n",
    "\n",
    "    train_r2 = f.evaluate_model(fn_model, metric = 'r2', **train_data)\n",
    "    test_r2 = f.evaluate_model(fn_model, metric = 'r2', **test_data)\n",
    "\n",
    "    results_record['max_depth'].append(md)\n",
    "    results_record['learning_rate'].append(learnr)\n",
    "    results_record['Train R2 Score'].append(train_r2)\n",
    "    results_record['Test R2 Score'].append(test_r2)\n",
    "\n",
    "pd_results_record = pd.DataFrame(results_record)\n",
    "\n",
    "pd_results_record['Difference'] = pd_results_record['Train R2 Score'] - pd_results_record['Test R2 Score']\n",
    "\n",
    "pd_results_record_out = pd_results_record.nsmallest(8, 'Difference').set_index(['max_depth', 'learning_rate'])\n",
    "\n",
    "pd_results_record_out"
   ]
  },
  {
   "cell_type": "code",
   "execution_count": 28,
   "metadata": {},
   "outputs": [
    {
     "name": "stderr",
     "output_type": "stream",
     "text": [
      "objc[88356]: Class WebSwapCGLLayer is implemented in both /System/Library/Frameworks/WebKit.framework/Versions/A/Frameworks/WebCore.framework/Versions/A/Frameworks/libANGLE-shared.dylib (0x7ffa4ca86318) and /Applications/Google Chrome.app/Contents/Frameworks/Google Chrome Framework.framework/Versions/100.0.4896.88/Libraries/libGLESv2.dylib (0x10ffaff48). One of the two will be used. Which one is undefined.\n",
      "[0418/094704.904119:INFO:headless_shell.cc(659)] Written to file /var/folders/2f/cwgmhyzx4fn5cwp5j_dpmsd00000gn/T/tmpdt_s1vkl/temp.png.\n"
     ]
    }
   ],
   "source": [
    "dfi.export(pd_results_record_out, p.OUTPUTS_PATH + 'tweaking_df.png')"
   ]
  },
  {
   "cell_type": "code",
   "execution_count": 19,
   "metadata": {},
   "outputs": [],
   "source": [
    "xgb_final_params = {**base_params, **oscv_params}\n",
    "xgb_final_params['max_depth'] = 4\n",
    "xgb_final_params['learning_rate'] = 0.01\n",
    "final_xgb_tuned = XGBRegressor(**xgb_final_params).fit(**train_data)"
   ]
  },
  {
   "cell_type": "markdown",
   "metadata": {},
   "source": [
    "#### Optuna-Tuned XGB Model"
   ]
  },
  {
   "cell_type": "code",
   "execution_count": 30,
   "metadata": {},
   "outputs": [
    {
     "name": "stdout",
     "output_type": "stream",
     "text": [
      "Train R2: 0.890772\n",
      "Test R2: 0.865678\n"
     ]
    }
   ],
   "source": [
    "model = final_xgb_tuned\n",
    "\n",
    "train_r2 = f.evaluate_model(model, metric = 'r2', **train_data)\n",
    "test_r2 = f.evaluate_model(model, metric = 'r2', **test_data)\n",
    "\n",
    "print('Train R2:', train_r2)\n",
    "print('Test R2:', test_r2)"
   ]
  },
  {
   "cell_type": "code",
   "execution_count": 31,
   "metadata": {},
   "outputs": [
    {
     "data": {
      "text/plain": [
       "['./outputs/final_xgb_model.pkl']"
      ]
     },
     "execution_count": 31,
     "metadata": {},
     "output_type": "execute_result"
    }
   ],
   "source": [
    "joblib.dump(final_xgb_tuned, p.OUTPUTS_PATH + 'final_xgb_model.pkl')"
   ]
  },
  {
   "cell_type": "markdown",
   "metadata": {},
   "source": [
    "### RandomForest Model Tuning\n",
    "\n",
    "As mentioned, since the RandomForest hyperparameters are tree-based, we can tune them all with a single study. The parameters we will be tuning are the following: `max_depth`, `max_features`, `n_estimators`, `bootstrap`, `min_samples_leaf` and `min_samples_split`."
   ]
  },
  {
   "cell_type": "code",
   "execution_count": 32,
   "metadata": {},
   "outputs": [
    {
     "name": "stdout",
     "output_type": "stream",
     "text": [
      "Train R2: 0.98325\n",
      "Test R2: 0.883622\n"
     ]
    }
   ],
   "source": [
    "model = rf_optuna_base.fit(**train_data)\n",
    "\n",
    "train_r2 = f.evaluate_model(model, metric = 'r2', **train_data)\n",
    "test_r2 = f.evaluate_model(model, metric = 'r2', **test_data)\n",
    "\n",
    "\n",
    "print('Train R2:', train_r2)\n",
    "print('Test R2:', test_r2)"
   ]
  },
  {
   "cell_type": "code",
   "execution_count": 33,
   "metadata": {},
   "outputs": [
    {
     "name": "stderr",
     "output_type": "stream",
     "text": [
      "\u001b[32m[I 2022-04-18 09:49:25,115]\u001b[0m A new study created in memory with name: RF_HyperParam_CV\u001b[0m\n",
      "/var/folders/2f/cwgmhyzx4fn5cwp5j_dpmsd00000gn/T/ipykernel_82761/548707989.py:12: ExperimentalWarning:\n",
      "\n",
      "OptunaSearchCV is experimental (supported from v0.17.0). The interface can change in the future.\n",
      "\n",
      "\u001b[32m[I 2022-04-18 09:49:25,148]\u001b[0m Searching the best hyperparameters using 5083 samples...\u001b[0m\n",
      "\u001b[32m[I 2022-04-18 09:49:46,443]\u001b[0m Trial 1 finished with value: -0.001350677712977566 and parameters: {'max_depth': 10, 'max_features': 'sqrt', 'n_estimators': 153, 'bootstrap': True, 'min_samples_leaf': 0.4909921182468571, 'min_samples_split': 0.3183033220201854}. Best is trial 1 with value: -0.001350677712977566.\u001b[0m\n",
      "\u001b[32m[I 2022-04-18 09:49:46,978]\u001b[0m Trial 2 finished with value: 0.5590920430451592 and parameters: {'max_depth': 12, 'max_features': 'auto', 'n_estimators': 187, 'bootstrap': False, 'min_samples_leaf': 0.06343109689991772, 'min_samples_split': 0.23633070744623347}. Best is trial 2 with value: 0.5590920430451592.\u001b[0m\n",
      "\u001b[32m[I 2022-04-18 09:49:55,816]\u001b[0m Trial 4 finished with value: 0.5202923054492462 and parameters: {'max_depth': 14, 'max_features': 'auto', 'n_estimators': 297, 'bootstrap': True, 'min_samples_leaf': 0.019263691268072924, 'min_samples_split': 0.2319426295438558}. Best is trial 2 with value: 0.5590920430451592.\u001b[0m\n",
      "\u001b[32m[I 2022-04-18 09:49:57,161]\u001b[0m Trial 0 finished with value: 0.14448197791226186 and parameters: {'max_depth': 7, 'max_features': 'log2', 'n_estimators': 367, 'bootstrap': True, 'min_samples_leaf': 0.22775826775910019, 'min_samples_split': 0.04122306872229908}. Best is trial 2 with value: 0.5590920430451592.\u001b[0m\n",
      "\u001b[32m[I 2022-04-18 09:49:57,738]\u001b[0m Trial 3 finished with value: 0.276776497910051 and parameters: {'max_depth': 7, 'max_features': 'auto', 'n_estimators': 458, 'bootstrap': False, 'min_samples_leaf': 0.3602432921488864, 'min_samples_split': 0.15748573865886129}. Best is trial 2 with value: 0.5590920430451592.\u001b[0m\n",
      "\u001b[32m[I 2022-04-18 09:49:59,225]\u001b[0m Trial 6 finished with value: 0.6157413616120907 and parameters: {'max_depth': 9, 'max_features': 'sqrt', 'n_estimators': 407, 'bootstrap': False, 'min_samples_leaf': 0.005286072423585753, 'min_samples_split': 0.1956316399042708}. Best is trial 6 with value: 0.6157413616120907.\u001b[0m\n",
      "\u001b[32m[I 2022-04-18 09:50:08,484]\u001b[0m Trial 5 finished with value: 0.2770638011168892 and parameters: {'max_depth': 13, 'max_features': 'auto', 'n_estimators': 637, 'bootstrap': True, 'min_samples_leaf': 0.3119348407855834, 'min_samples_split': 0.3220189396908989}. Best is trial 6 with value: 0.6157413616120907.\u001b[0m\n",
      "\u001b[32m[I 2022-04-18 09:50:13,180]\u001b[0m Trial 8 finished with value: -0.0013453205284774893 and parameters: {'max_depth': 14, 'max_features': 'auto', 'n_estimators': 435, 'bootstrap': True, 'min_samples_leaf': 0.3613871913496152, 'min_samples_split': 0.3479694167337789}. Best is trial 6 with value: 0.6157413616120907.\u001b[0m\n",
      "\u001b[32m[I 2022-04-18 09:50:15,054]\u001b[0m Trial 7 finished with value: 0.4646907228085505 and parameters: {'max_depth': 10, 'max_features': 'auto', 'n_estimators': 961, 'bootstrap': False, 'min_samples_leaf': 0.2289384187959153, 'min_samples_split': 0.29063124694028375}. Best is trial 6 with value: 0.6157413616120907.\u001b[0m\n",
      "\u001b[32m[I 2022-04-18 09:50:28,807]\u001b[0m Trial 13 finished with value: 0.39174083725643527 and parameters: {'max_depth': 10, 'max_features': 'log2', 'n_estimators': 449, 'bootstrap': True, 'min_samples_leaf': 0.007188169341337869, 'min_samples_split': 0.3712362935616709}. Best is trial 6 with value: 0.6157413616120907.\u001b[0m\n",
      "\u001b[32m[I 2022-04-18 09:50:30,591]\u001b[0m Trial 16 finished with value: 0.27589243182517426 and parameters: {'max_depth': 15, 'max_features': 'auto', 'n_estimators': 161, 'bootstrap': False, 'min_samples_leaf': 0.47414705131994583, 'min_samples_split': 0.26247766712148485}. Best is trial 6 with value: 0.6157413616120907.\u001b[0m\n",
      "\u001b[32m[I 2022-04-18 09:50:32,721]\u001b[0m Trial 9 finished with value: 0.4013371699979317 and parameters: {'max_depth': 15, 'max_features': 'log2', 'n_estimators': 974, 'bootstrap': True, 'min_samples_leaf': 0.05800570552593737, 'min_samples_split': 0.25446100926478404}. Best is trial 6 with value: 0.6157413616120907.\u001b[0m\n",
      "\u001b[32m[I 2022-04-18 09:50:35,036]\u001b[0m Trial 12 finished with value: 0.17778149161910622 and parameters: {'max_depth': 12, 'max_features': 'log2', 'n_estimators': 754, 'bootstrap': True, 'min_samples_leaf': 0.2012576255885305, 'min_samples_split': 0.29486197233480627}. Best is trial 6 with value: 0.6157413616120907.\u001b[0m\n",
      "\u001b[32m[I 2022-04-18 09:50:42,253]\u001b[0m Trial 10 finished with value: 0.4635684804382681 and parameters: {'max_depth': 8, 'max_features': 'log2', 'n_estimators': 925, 'bootstrap': False, 'min_samples_leaf': 0.023174250816653752, 'min_samples_split': 0.45365473964823966}. Best is trial 6 with value: 0.6157413616120907.\u001b[0m\n",
      "\u001b[32m[I 2022-04-18 09:50:43,938]\u001b[0m Trial 11 finished with value: 0.2549841006984951 and parameters: {'max_depth': 9, 'max_features': 'sqrt', 'n_estimators': 969, 'bootstrap': True, 'min_samples_leaf': 0.16414891783598168, 'min_samples_split': 0.17229425834917195}. Best is trial 6 with value: 0.6157413616120907.\u001b[0m\n",
      "\u001b[32m[I 2022-04-18 09:50:44,951]\u001b[0m Trial 20 finished with value: 0.40404634580274496 and parameters: {'max_depth': 8, 'max_features': 'sqrt', 'n_estimators': 67, 'bootstrap': False, 'min_samples_leaf': 0.10606118542671182, 'min_samples_split': 0.4612709367246545}. Best is trial 6 with value: 0.6157413616120907.\u001b[0m\n",
      "\u001b[32m[I 2022-04-18 09:50:46,963]\u001b[0m Trial 14 finished with value: 0.276776497910051 and parameters: {'max_depth': 9, 'max_features': 'auto', 'n_estimators': 729, 'bootstrap': False, 'min_samples_leaf': 0.354859746653362, 'min_samples_split': 0.40112642661113007}. Best is trial 6 with value: 0.6157413616120907.\u001b[0m\n",
      "\u001b[32m[I 2022-04-18 09:50:47,428]\u001b[0m Trial 15 finished with value: 0.34621561892268315 and parameters: {'max_depth': 15, 'max_features': 'sqrt', 'n_estimators': 672, 'bootstrap': True, 'min_samples_leaf': 0.1415240871070349, 'min_samples_split': 0.07359050515071702}. Best is trial 6 with value: 0.6157413616120907.\u001b[0m\n",
      "\u001b[32m[I 2022-04-18 09:50:53,460]\u001b[0m Trial 22 finished with value: 0.47309681062000913 and parameters: {'max_depth': 12, 'max_features': 'sqrt', 'n_estimators': 76, 'bootstrap': False, 'min_samples_leaf': 0.11363307060928819, 'min_samples_split': 0.0653462335412962}. Best is trial 6 with value: 0.6157413616120907.\u001b[0m\n",
      "\u001b[32m[I 2022-04-18 09:50:59,836]\u001b[0m Trial 21 finished with value: 0.4683503916670214 and parameters: {'max_depth': 12, 'max_features': 'sqrt', 'n_estimators': 277, 'bootstrap': False, 'min_samples_leaf': 0.1232498652463059, 'min_samples_split': 0.1450596518684077}. Best is trial 6 with value: 0.6157413616120907.\u001b[0m\n",
      "\u001b[32m[I 2022-04-18 09:51:02,784]\u001b[0m Trial 17 finished with value: 0.40586653058947214 and parameters: {'max_depth': 6, 'max_features': 'sqrt', 'n_estimators': 710, 'bootstrap': False, 'min_samples_leaf': 0.1291268418183863, 'min_samples_split': 0.46798777228484156}. Best is trial 6 with value: 0.6157413616120907.\u001b[0m\n",
      "\u001b[32m[I 2022-04-18 09:51:03,192]\u001b[0m Trial 18 finished with value: 0.48251442618211476 and parameters: {'max_depth': 12, 'max_features': 'sqrt', 'n_estimators': 653, 'bootstrap': False, 'min_samples_leaf': 0.10892677699729947, 'min_samples_split': 0.14927727001041274}. Best is trial 6 with value: 0.6157413616120907.\u001b[0m\n",
      "\u001b[32m[I 2022-04-18 09:51:04,137]\u001b[0m Trial 23 finished with value: 0.47708854170373083 and parameters: {'max_depth': 12, 'max_features': 'sqrt', 'n_estimators': 252, 'bootstrap': False, 'min_samples_leaf': 0.11177881688499755, 'min_samples_split': 0.07389617191091166}. Best is trial 6 with value: 0.6157413616120907.\u001b[0m\n",
      "\u001b[32m[I 2022-04-18 09:51:05,329]\u001b[0m Trial 19 finished with value: 0.4122844040511329 and parameters: {'max_depth': 12, 'max_features': 'sqrt', 'n_estimators': 676, 'bootstrap': False, 'min_samples_leaf': 0.11279574898760664, 'min_samples_split': 0.4598061649678188}. Best is trial 6 with value: 0.6157413616120907.\u001b[0m\n",
      "\u001b[32m[I 2022-04-18 09:51:06,146]\u001b[0m Trial 25 finished with value: 0.5084884949796973 and parameters: {'max_depth': 12, 'max_features': 'sqrt', 'n_estimators': 270, 'bootstrap': False, 'min_samples_leaf': 0.09327966063356963, 'min_samples_split': 0.17414249331893578}. Best is trial 6 with value: 0.6157413616120907.\u001b[0m\n",
      "\u001b[32m[I 2022-04-18 09:51:07,074]\u001b[0m Trial 24 finished with value: 0.4675713525105906 and parameters: {'max_depth': 11, 'max_features': 'sqrt', 'n_estimators': 235, 'bootstrap': False, 'min_samples_leaf': 0.11759020038942283, 'min_samples_split': 0.07351805341151893}. Best is trial 6 with value: 0.6157413616120907.\u001b[0m\n",
      "\u001b[32m[I 2022-04-18 09:51:14,050]\u001b[0m Trial 26 finished with value: 0.5452542359904633 and parameters: {'max_depth': 12, 'max_features': 'sqrt', 'n_estimators': 266, 'bootstrap': False, 'min_samples_leaf': 0.07374598425913406, 'min_samples_split': 0.15635245273361678}. Best is trial 6 with value: 0.6157413616120907.\u001b[0m\n",
      "\u001b[32m[I 2022-04-18 09:51:22,704]\u001b[0m Trial 27 finished with value: 0.531435640118221 and parameters: {'max_depth': 11, 'max_features': 'sqrt', 'n_estimators': 259, 'bootstrap': False, 'min_samples_leaf': 0.07002628478614606, 'min_samples_split': 0.21760818024293743}. Best is trial 6 with value: 0.6157413616120907.\u001b[0m\n",
      "\u001b[32m[I 2022-04-18 09:51:36,166]\u001b[0m Trial 28 finished with value: 0.5949209455429021 and parameters: {'max_depth': 13, 'max_features': 'auto', 'n_estimators': 287, 'bootstrap': False, 'min_samples_leaf': 0.06310961171226595, 'min_samples_split': 0.19780993849324888}. Best is trial 6 with value: 0.6157413616120907.\u001b[0m\n",
      "\u001b[32m[I 2022-04-18 09:51:36,439]\u001b[0m Trial 29 finished with value: 0.5671979157786226 and parameters: {'max_depth': 13, 'max_features': 'auto', 'n_estimators': 281, 'bootstrap': False, 'min_samples_leaf': 0.05640244640582643, 'min_samples_split': 0.21073226086046562}. Best is trial 6 with value: 0.6157413616120907.\u001b[0m\n",
      "\u001b[32m[I 2022-04-18 09:51:38,547]\u001b[0m Trial 30 finished with value: 0.6012272094031813 and parameters: {'max_depth': 13, 'max_features': 'auto', 'n_estimators': 314, 'bootstrap': False, 'min_samples_leaf': 0.046881614321400894, 'min_samples_split': 0.1988228833537181}. Best is trial 6 with value: 0.6157413616120907.\u001b[0m\n",
      "\u001b[32m[I 2022-04-18 09:51:41,103]\u001b[0m Trial 32 finished with value: 0.5669716914518222 and parameters: {'max_depth': 14, 'max_features': 'auto', 'n_estimators': 324, 'bootstrap': False, 'min_samples_leaf': 0.05845975472399877, 'min_samples_split': 0.21478562626908304}. Best is trial 6 with value: 0.6157413616120907.\u001b[0m\n",
      "\u001b[32m[I 2022-04-18 09:51:42,964]\u001b[0m Trial 31 finished with value: 0.5664648304766844 and parameters: {'max_depth': 14, 'max_features': 'auto', 'n_estimators': 321, 'bootstrap': False, 'min_samples_leaf': 0.0640709337932103, 'min_samples_split': 0.20776607925459514}. Best is trial 6 with value: 0.6157413616120907.\u001b[0m\n",
      "\u001b[32m[I 2022-04-18 09:51:48,344]\u001b[0m Trial 33 finished with value: 0.5630250235733987 and parameters: {'max_depth': 14, 'max_features': 'auto', 'n_estimators': 359, 'bootstrap': True, 'min_samples_leaf': 0.049388426007753006, 'min_samples_split': 0.20799204805306268}. Best is trial 6 with value: 0.6157413616120907.\u001b[0m\n",
      "\u001b[32m[I 2022-04-18 09:51:56,331]\u001b[0m Trial 34 finished with value: 0.5672657399379543 and parameters: {'max_depth': 11, 'max_features': 'auto', 'n_estimators': 356, 'bootstrap': False, 'min_samples_leaf': 0.05368150811928363, 'min_samples_split': 0.2147422267358272}. Best is trial 6 with value: 0.6157413616120907.\u001b[0m\n",
      "\u001b[32m[I 2022-04-18 09:52:09,887]\u001b[0m Trial 35 finished with value: 0.5685511600479516 and parameters: {'max_depth': 13, 'max_features': 'auto', 'n_estimators': 353, 'bootstrap': False, 'min_samples_leaf': 0.045307746714105146, 'min_samples_split': 0.21443301719062044}. Best is trial 6 with value: 0.6157413616120907.\u001b[0m\n",
      "\u001b[32m[I 2022-04-18 09:52:32,705]\u001b[0m Trial 38 finished with value: 0.5690292413199549 and parameters: {'max_depth': 14, 'max_features': 'auto', 'n_estimators': 363, 'bootstrap': False, 'min_samples_leaf': 0.04163208967283713, 'min_samples_split': 0.20768191994510612}. Best is trial 6 with value: 0.6157413616120907.\u001b[0m\n",
      "\u001b[32m[I 2022-04-18 09:52:34,506]\u001b[0m Trial 40 finished with value: 0.6975071766200845 and parameters: {'max_depth': 13, 'max_features': 'auto', 'n_estimators': 390, 'bootstrap': False, 'min_samples_leaf': 0.03885838974716673, 'min_samples_split': 0.0020610222706246017}. Best is trial 40 with value: 0.6975071766200845.\u001b[0m\n",
      "\u001b[32m[I 2022-04-18 09:52:43,465]\u001b[0m Trial 39 finished with value: 0.621888397340422 and parameters: {'max_depth': 13, 'max_features': 'auto', 'n_estimators': 387, 'bootstrap': False, 'min_samples_leaf': 0.033410166886158284, 'min_samples_split': 0.19354178436160832}. Best is trial 40 with value: 0.6975071766200845.\u001b[0m\n",
      "\u001b[32m[I 2022-04-18 09:52:44,334]\u001b[0m Trial 36 finished with value: 0.5764635485508187 and parameters: {'max_depth': 13, 'max_features': 'auto', 'n_estimators': 374, 'bootstrap': False, 'min_samples_leaf': 0.044329398813786516, 'min_samples_split': 0.20205140220423598}. Best is trial 40 with value: 0.6975071766200845.\u001b[0m\n",
      "\u001b[32m[I 2022-04-18 09:53:04,342]\u001b[0m Trial 37 finished with value: 0.4905238076966064 and parameters: {'max_depth': 14, 'max_features': 'auto', 'n_estimators': 550, 'bootstrap': False, 'min_samples_leaf': 0.18855335655536826, 'min_samples_split': 0.11638440141966924}. Best is trial 40 with value: 0.6975071766200845.\u001b[0m\n",
      "\u001b[32m[I 2022-04-18 09:53:14,778]\u001b[0m Trial 42 finished with value: 0.716452110439685 and parameters: {'max_depth': 9, 'max_features': 'auto', 'n_estimators': 535, 'bootstrap': False, 'min_samples_leaf': 0.001981186415474283, 'min_samples_split': 0.11750310578562953}. Best is trial 42 with value: 0.716452110439685.\u001b[0m\n",
      "\u001b[32m[I 2022-04-18 09:53:15,735]\u001b[0m Trial 41 finished with value: 0.716717931651789 and parameters: {'max_depth': 13, 'max_features': 'auto', 'n_estimators': 547, 'bootstrap': False, 'min_samples_leaf': 0.002411774385872076, 'min_samples_split': 0.1161787272931866}. Best is trial 41 with value: 0.716717931651789.\u001b[0m\n",
      "\u001b[32m[I 2022-04-18 09:53:32,147]\u001b[0m Trial 43 finished with value: 0.6568069958720949 and parameters: {'max_depth': 13, 'max_features': 'auto', 'n_estimators': 552, 'bootstrap': False, 'min_samples_leaf': 0.004925260910619143, 'min_samples_split': 0.18186395732939098}. Best is trial 41 with value: 0.716717931651789.\u001b[0m\n",
      "\u001b[32m[I 2022-04-18 09:54:29,981]\u001b[0m Trial 44 finished with value: 0.7167135003091348 and parameters: {'max_depth': 13, 'max_features': 'auto', 'n_estimators': 561, 'bootstrap': False, 'min_samples_leaf': 0.0069619003837515315, 'min_samples_split': 0.11542736335471201}. Best is trial 41 with value: 0.716717931651789.\u001b[0m\n",
      "\u001b[32m[I 2022-04-18 09:54:34,914]\u001b[0m Trial 45 finished with value: 0.8073691650579027 and parameters: {'max_depth': 13, 'max_features': 'auto', 'n_estimators': 554, 'bootstrap': False, 'min_samples_leaf': 0.0010889842659849783, 'min_samples_split': 0.018649826398910385}. Best is trial 45 with value: 0.8073691650579027.\u001b[0m\n",
      "\u001b[32m[I 2022-04-18 09:54:46,006]\u001b[0m Trial 47 finished with value: 0.8071023086001695 and parameters: {'max_depth': 9, 'max_features': 'auto', 'n_estimators': 536, 'bootstrap': False, 'min_samples_leaf': 0.006371547944600396, 'min_samples_split': 0.013582619695060924}. Best is trial 45 with value: 0.8073691650579027.\u001b[0m\n",
      "\u001b[32m[I 2022-04-18 09:54:52,804]\u001b[0m Trial 46 finished with value: 0.8099890430214879 and parameters: {'max_depth': 9, 'max_features': 'auto', 'n_estimators': 571, 'bootstrap': False, 'min_samples_leaf': 0.003384809553809354, 'min_samples_split': 0.009108350295272155}. Best is trial 46 with value: 0.8099890430214879.\u001b[0m\n",
      "\u001b[32m[I 2022-04-18 09:54:59,917]\u001b[0m Trial 48 finished with value: 0.7772187242354853 and parameters: {'max_depth': 13, 'max_features': 'auto', 'n_estimators': 518, 'bootstrap': False, 'min_samples_leaf': 0.010583932822258196, 'min_samples_split': 0.008586806700694283}. Best is trial 46 with value: 0.8099890430214879.\u001b[0m\n",
      "\u001b[32m[I 2022-04-18 09:55:09,838]\u001b[0m Trial 49 finished with value: 0.8045786431680728 and parameters: {'max_depth': 9, 'max_features': 'auto', 'n_estimators': 517, 'bootstrap': False, 'min_samples_leaf': 0.00242149408943778, 'min_samples_split': 0.01778563968887749}. Best is trial 46 with value: 0.8099890430214879.\u001b[0m\n",
      "\u001b[32m[I 2022-04-18 09:55:16,949]\u001b[0m Trial 50 finished with value: 0.7908439979191 and parameters: {'max_depth': 9, 'max_features': 'auto', 'n_estimators': 532, 'bootstrap': False, 'min_samples_leaf': 0.0053826019686139094, 'min_samples_split': 0.025034602687025204}. Best is trial 46 with value: 0.8099890430214879.\u001b[0m\n",
      "\u001b[32m[I 2022-04-18 09:55:25,683]\u001b[0m Trial 51 finished with value: 0.7302691371851233 and parameters: {'max_depth': 8, 'max_features': 'auto', 'n_estimators': 518, 'bootstrap': False, 'min_samples_leaf': 0.028894566172830215, 'min_samples_split': 0.02978548734515098}. Best is trial 46 with value: 0.8099890430214879.\u001b[0m\n",
      "\u001b[32m[I 2022-04-18 09:55:46,183]\u001b[0m Trial 52 finished with value: 0.801120716061891 and parameters: {'max_depth': 8, 'max_features': 'auto', 'n_estimators': 517, 'bootstrap': False, 'min_samples_leaf': 0.0008388804765215624, 'min_samples_split': 0.002713428206344901}. Best is trial 46 with value: 0.8099890430214879.\u001b[0m\n",
      "\u001b[32m[I 2022-04-18 09:55:53,112]\u001b[0m Trial 53 finished with value: 0.8062235244555975 and parameters: {'max_depth': 8, 'max_features': 'auto', 'n_estimators': 500, 'bootstrap': False, 'min_samples_leaf': 0.001555725900327508, 'min_samples_split': 0.002776032059922611}. Best is trial 46 with value: 0.8099890430214879.\u001b[0m\n",
      "\u001b[32m[I 2022-04-18 09:55:55,059]\u001b[0m Trial 54 finished with value: 0.7180652786179886 and parameters: {'max_depth': 8, 'max_features': 'log2', 'n_estimators': 604, 'bootstrap': False, 'min_samples_leaf': 0.001665434341995115, 'min_samples_split': 0.0195211401267504}. Best is trial 46 with value: 0.8099890430214879.\u001b[0m\n",
      "\u001b[32m[I 2022-04-18 09:55:56,850]\u001b[0m Trial 57 finished with value: 0.14158180152249172 and parameters: {'max_depth': 7, 'max_features': 'log2', 'n_estimators': 600, 'bootstrap': True, 'min_samples_leaf': 0.2725237837872056, 'min_samples_split': 0.005566884350040003}. Best is trial 46 with value: 0.8099890430214879.\u001b[0m\n",
      "\u001b[32m[I 2022-04-18 09:55:57,803]\u001b[0m Trial 55 finished with value: 0.18965492912400603 and parameters: {'max_depth': 8, 'max_features': 'log2', 'n_estimators': 599, 'bootstrap': False, 'min_samples_leaf': 0.2756521911611263, 'min_samples_split': 0.004239388160884469}. Best is trial 46 with value: 0.8099890430214879.\u001b[0m\n",
      "\u001b[32m[I 2022-04-18 09:55:58,540]\u001b[0m Trial 56 finished with value: 0.13433855028698724 and parameters: {'max_depth': 8, 'max_features': 'log2', 'n_estimators': 603, 'bootstrap': True, 'min_samples_leaf': 0.3074035495898172, 'min_samples_split': 0.00269530596978906}. Best is trial 46 with value: 0.8099890430214879.\u001b[0m\n",
      "\u001b[32m[I 2022-04-18 09:56:01,557]\u001b[0m Trial 58 finished with value: 0.19252824817470576 and parameters: {'max_depth': 8, 'max_features': 'log2', 'n_estimators': 485, 'bootstrap': False, 'min_samples_leaf': 0.26559950316320496, 'min_samples_split': 0.007013208345629816}. Best is trial 46 with value: 0.8099890430214879.\u001b[0m\n",
      "\u001b[32m[I 2022-04-18 09:56:10,295]\u001b[0m Trial 59 finished with value: 0.3842748516404768 and parameters: {'max_depth': 9, 'max_features': 'log2', 'n_estimators': 610, 'bootstrap': True, 'min_samples_leaf': 0.08534797346554597, 'min_samples_split': 0.0011303390350230098}. Best is trial 46 with value: 0.8099890430214879.\u001b[0m\n",
      "\u001b[32m[I 2022-04-18 09:56:30,170]\u001b[0m Trial 60 finished with value: 0.4005873764729827 and parameters: {'max_depth': 9, 'max_features': 'log2', 'n_estimators': 607, 'bootstrap': True, 'min_samples_leaf': 0.07967532415359499, 'min_samples_split': 0.03358295820908767}. Best is trial 46 with value: 0.8099890430214879.\u001b[0m\n",
      "\u001b[32m[I 2022-04-18 09:56:31,239]\u001b[0m Trial 62 finished with value: 0.13901463386958252 and parameters: {'max_depth': 7, 'max_features': 'log2', 'n_estimators': 478, 'bootstrap': True, 'min_samples_leaf': 0.2677620668972638, 'min_samples_split': 0.05016030822075484}. Best is trial 46 with value: 0.8099890430214879.\u001b[0m\n",
      "\u001b[32m[I 2022-04-18 09:56:37,163]\u001b[0m Trial 63 finished with value: 0.5710901418541638 and parameters: {'max_depth': 7, 'max_features': 'auto', 'n_estimators': 471, 'bootstrap': True, 'min_samples_leaf': 0.08622527165761548, 'min_samples_split': 0.04815845222099652}. Best is trial 46 with value: 0.8099890430214879.\u001b[0m\n",
      "\u001b[32m[I 2022-04-18 09:56:38,969]\u001b[0m Trial 66 finished with value: 0.6038837243476853 and parameters: {'max_depth': 6, 'max_features': 'auto', 'n_estimators': 472, 'bootstrap': False, 'min_samples_leaf': 0.08591611923431008, 'min_samples_split': 0.053192755857839634}. Best is trial 46 with value: 0.8099890430214879.\u001b[0m\n",
      "\u001b[32m[I 2022-04-18 09:56:39,568]\u001b[0m Trial 65 finished with value: 0.5940514179185359 and parameters: {'max_depth': 10, 'max_features': 'auto', 'n_estimators': 472, 'bootstrap': False, 'min_samples_leaf': 0.08986816341297793, 'min_samples_split': 0.05053223427090903}. Best is trial 46 with value: 0.8099890430214879.\u001b[0m\n",
      "\u001b[32m[I 2022-04-18 09:56:40,574]\u001b[0m Trial 64 finished with value: -0.0013500046959557422 and parameters: {'max_depth': 10, 'max_features': 'auto', 'n_estimators': 477, 'bootstrap': True, 'min_samples_leaf': 0.42856218739910334, 'min_samples_split': 0.05097908164318653}. Best is trial 46 with value: 0.8099890430214879.\u001b[0m\n",
      "\u001b[32m[I 2022-04-18 09:56:41,188]\u001b[0m Trial 61 finished with value: 0.3863529967261522 and parameters: {'max_depth': 7, 'max_features': 'log2', 'n_estimators': 615, 'bootstrap': True, 'min_samples_leaf': 0.08498262168221407, 'min_samples_split': 0.052035640748375064}. Best is trial 46 with value: 0.8099890430214879.\u001b[0m\n",
      "\u001b[32m[I 2022-04-18 09:57:07,713]\u001b[0m Trial 67 finished with value: 0.739149571502588 and parameters: {'max_depth': 10, 'max_features': 'auto', 'n_estimators': 484, 'bootstrap': False, 'min_samples_leaf': 0.02471105991614947, 'min_samples_split': 0.046664849223332756}. Best is trial 46 with value: 0.8099890430214879.\u001b[0m\n",
      "\u001b[32m[I 2022-04-18 09:58:00,289]\u001b[0m Trial 69 finished with value: 0.7391945530937161 and parameters: {'max_depth': 10, 'max_features': 'auto', 'n_estimators': 431, 'bootstrap': False, 'min_samples_leaf': 0.022916344459369214, 'min_samples_split': 0.051508070971851866}. Best is trial 46 with value: 0.8099890430214879.\u001b[0m\n",
      "\u001b[32m[I 2022-04-18 09:58:11,808]\u001b[0m Trial 71 finished with value: 0.710245406573231 and parameters: {'max_depth': 10, 'max_features': 'auto', 'n_estimators': 427, 'bootstrap': False, 'min_samples_leaf': 0.02611289394339241, 'min_samples_split': 0.09158935446818889}. Best is trial 46 with value: 0.8099890430214879.\u001b[0m\n",
      "\u001b[32m[I 2022-04-18 09:58:14,715]\u001b[0m Trial 70 finished with value: 0.7188975284850133 and parameters: {'max_depth': 10, 'max_features': 'auto', 'n_estimators': 439, 'bootstrap': False, 'min_samples_leaf': 0.021191814718619514, 'min_samples_split': 0.09525301329207839}. Best is trial 46 with value: 0.8099890430214879.\u001b[0m\n",
      "\u001b[32m[I 2022-04-18 09:58:16,086]\u001b[0m Trial 68 finished with value: 0.7429002379222851 and parameters: {'max_depth': 10, 'max_features': 'auto', 'n_estimators': 480, 'bootstrap': False, 'min_samples_leaf': 0.019083157303639558, 'min_samples_split': 0.0525405081226082}. Best is trial 46 with value: 0.8099890430214879.\u001b[0m\n",
      "\u001b[32m[I 2022-04-18 09:58:18,707]\u001b[0m Trial 72 finished with value: 0.7094172065264209 and parameters: {'max_depth': 10, 'max_features': 'auto', 'n_estimators': 422, 'bootstrap': False, 'min_samples_leaf': 0.026713667649704443, 'min_samples_split': 0.09377565673284818}. Best is trial 46 with value: 0.8099890430214879.\u001b[0m\n",
      "\u001b[32m[I 2022-04-18 09:58:24,951]\u001b[0m Trial 74 finished with value: 0.7182903979457882 and parameters: {'max_depth': 9, 'max_features': 'auto', 'n_estimators': 427, 'bootstrap': False, 'min_samples_leaf': 0.02297999805384165, 'min_samples_split': 0.09121733939879054}. Best is trial 46 with value: 0.8099890430214879.\u001b[0m\n",
      "\u001b[32m[I 2022-04-18 09:58:59,143]\u001b[0m Trial 75 finished with value: 0.7191035478693178 and parameters: {'max_depth': 9, 'max_features': 'auto', 'n_estimators': 435, 'bootstrap': False, 'min_samples_leaf': 0.021611140184007456, 'min_samples_split': 0.09206670943495066}. Best is trial 46 with value: 0.8099890430214879.\u001b[0m\n",
      "\u001b[32m[I 2022-04-18 09:59:11,638]\u001b[0m Trial 73 finished with value: 0.7190296439664019 and parameters: {'max_depth': 9, 'max_features': 'auto', 'n_estimators': 771, 'bootstrap': False, 'min_samples_leaf': 0.023117325217561713, 'min_samples_split': 0.08665512933654411}. Best is trial 46 with value: 0.8099890430214879.\u001b[0m\n",
      "\u001b[32m[I 2022-04-18 09:59:31,451]\u001b[0m Trial 79 finished with value: 0.7611441827552956 and parameters: {'max_depth': 9, 'max_features': 'auto', 'n_estimators': 515, 'bootstrap': False, 'min_samples_leaf': 0.015959600686738434, 'min_samples_split': 0.024698149884674173}. Best is trial 46 with value: 0.8099890430214879.\u001b[0m\n",
      "\u001b[32m[I 2022-04-18 09:59:57,244]\u001b[0m Trial 78 finished with value: 0.7604655519450876 and parameters: {'max_depth': 9, 'max_features': 'auto', 'n_estimators': 573, 'bootstrap': False, 'min_samples_leaf': 0.016480681757920616, 'min_samples_split': 0.022970022953617213}. Best is trial 46 with value: 0.8099890430214879.\u001b[0m\n",
      "\u001b[32m[I 2022-04-18 09:59:58,566]\u001b[0m Trial 80 finished with value: 0.7639671402427799 and parameters: {'max_depth': 9, 'max_features': 'auto', 'n_estimators': 511, 'bootstrap': False, 'min_samples_leaf': 0.015167578583910893, 'min_samples_split': 0.02263708024673577}. Best is trial 46 with value: 0.8099890430214879.\u001b[0m\n",
      "\u001b[32m[I 2022-04-18 10:00:04,521]\u001b[0m Trial 77 finished with value: 0.5553386540957125 and parameters: {'max_depth': 9, 'max_features': 'auto', 'n_estimators': 681, 'bootstrap': False, 'min_samples_leaf': 0.1462994794128294, 'min_samples_split': 0.022569499665709127}. Best is trial 46 with value: 0.8099890430214879.\u001b[0m\n",
      "\u001b[32m[I 2022-04-18 10:00:08,494]\u001b[0m Trial 76 finished with value: 0.715771906973679 and parameters: {'max_depth': 9, 'max_features': 'auto', 'n_estimators': 788, 'bootstrap': False, 'min_samples_leaf': 0.02398794332712379, 'min_samples_split': 0.09006290344327805}. Best is trial 46 with value: 0.8099890430214879.\u001b[0m\n",
      "\u001b[32m[I 2022-04-18 10:01:07,626]\u001b[0m Trial 82 finished with value: 0.7691975058961676 and parameters: {'max_depth': 9, 'max_features': 'auto', 'n_estimators': 516, 'bootstrap': False, 'min_samples_leaf': 0.013387365791994009, 'min_samples_split': 0.02160227799640936}. Best is trial 46 with value: 0.8099890430214879.\u001b[0m\n",
      "\u001b[32m[I 2022-04-18 10:01:11,610]\u001b[0m Trial 83 finished with value: 0.7713520309949784 and parameters: {'max_depth': 8, 'max_features': 'auto', 'n_estimators': 515, 'bootstrap': False, 'min_samples_leaf': 0.01213124113034654, 'min_samples_split': 0.017550577388221508}. Best is trial 46 with value: 0.8099890430214879.\u001b[0m\n",
      "\u001b[32m[I 2022-04-18 10:01:16,665]\u001b[0m Trial 81 finished with value: 0.7699737578039852 and parameters: {'max_depth': 9, 'max_features': 'auto', 'n_estimators': 815, 'bootstrap': False, 'min_samples_leaf': 0.013236650054572766, 'min_samples_split': 0.022347715219310338}. Best is trial 46 with value: 0.8099890430214879.\u001b[0m\n",
      "\u001b[32m[I 2022-04-18 10:01:32,721]\u001b[0m Trial 84 finished with value: 0.5553386540957125 and parameters: {'max_depth': 8, 'max_features': 'auto', 'n_estimators': 572, 'bootstrap': False, 'min_samples_leaf': 0.1451112138278963, 'min_samples_split': 0.01687725843556891}. Best is trial 46 with value: 0.8099890430214879.\u001b[0m\n",
      "\u001b[32m[I 2022-04-18 10:02:11,684]\u001b[0m Trial 88 finished with value: 0.6934457735345554 and parameters: {'max_depth': 8, 'max_features': 'auto', 'n_estimators': 509, 'bootstrap': False, 'min_samples_leaf': 0.03951923106835943, 'min_samples_split': 0.03628012225904842}. Best is trial 46 with value: 0.8099890430214879.\u001b[0m\n",
      "\u001b[32m[I 2022-04-18 10:02:19,620]\u001b[0m Trial 86 finished with value: 0.5553386540957126 and parameters: {'max_depth': 8, 'max_features': 'auto', 'n_estimators': 659, 'bootstrap': False, 'min_samples_leaf': 0.14425992521201864, 'min_samples_split': 0.03399965761648674}. Best is trial 46 with value: 0.8099890430214879.\u001b[0m\n",
      "\u001b[32m[I 2022-04-18 10:02:19,633]\u001b[0m Trial 85 finished with value: 0.5550047903399986 and parameters: {'max_depth': 8, 'max_features': 'auto', 'n_estimators': 652, 'bootstrap': False, 'min_samples_leaf': 0.16051850945887677, 'min_samples_split': 0.017014194170137404}. Best is trial 46 with value: 0.8099890430214879.\u001b[0m\n",
      "\u001b[32m[I 2022-04-18 10:02:24,463]\u001b[0m Trial 87 finished with value: 0.6892791894150925 and parameters: {'max_depth': 8, 'max_features': 'auto', 'n_estimators': 638, 'bootstrap': False, 'min_samples_leaf': 0.041116207197793804, 'min_samples_split': 0.038341444760051725}. Best is trial 46 with value: 0.8099890430214879.\u001b[0m\n",
      "\u001b[32m[I 2022-04-18 10:02:34,593]\u001b[0m Trial 89 finished with value: 0.748565602661617 and parameters: {'max_depth': 8, 'max_features': 'auto', 'n_estimators': 514, 'bootstrap': False, 'min_samples_leaf': 0.00021478775628099803, 'min_samples_split': 0.06712564914909945}. Best is trial 46 with value: 0.8099890430214879.\u001b[0m\n",
      "\u001b[32m[I 2022-04-18 10:02:37,314]\u001b[0m Trial 91 finished with value: 0.6996598511145253 and parameters: {'max_depth': 8, 'max_features': 'auto', 'n_estimators': 641, 'bootstrap': False, 'min_samples_leaf': 0.03865123183467384, 'min_samples_split': 0.06831183035782257}. Best is trial 46 with value: 0.8099890430214879.\u001b[0m\n",
      "\u001b[32m[I 2022-04-18 10:02:45,833]\u001b[0m Trial 90 finished with value: 0.6908450542828634 and parameters: {'max_depth': 8, 'max_features': 'auto', 'n_estimators': 652, 'bootstrap': False, 'min_samples_leaf': 0.04026288723637409, 'min_samples_split': 0.03698284243788234}. Best is trial 46 with value: 0.8099890430214879.\u001b[0m\n",
      "\u001b[32m[I 2022-04-18 10:03:18,518]\u001b[0m Trial 92 finished with value: 0.7059101076041339 and parameters: {'max_depth': 8, 'max_features': 'auto', 'n_estimators': 638, 'bootstrap': False, 'min_samples_leaf': 0.03784963098845964, 'min_samples_split': 0.038135915508888646}. Best is trial 46 with value: 0.8099890430214879.\u001b[0m\n",
      "\u001b[32m[I 2022-04-18 10:03:26,810]\u001b[0m Trial 93 finished with value: 0.7712074724813601 and parameters: {'max_depth': 8, 'max_features': 'auto', 'n_estimators': 533, 'bootstrap': False, 'min_samples_leaf': 0.0015988215079115267, 'min_samples_split': 0.03800009150924795}. Best is trial 46 with value: 0.8099890430214879.\u001b[0m\n",
      "\u001b[32m[I 2022-04-18 10:03:48,921]\u001b[0m Trial 95 finished with value: 0.4929543078104035 and parameters: {'max_depth': 7, 'max_features': 'auto', 'n_estimators': 570, 'bootstrap': False, 'min_samples_leaf': 0.06268223373634299, 'min_samples_split': 0.4363340711047612}. Best is trial 46 with value: 0.8099890430214879.\u001b[0m\n",
      "\u001b[32m[I 2022-04-18 10:03:50,785]\u001b[0m Trial 96 finished with value: 0.4929543078104035 and parameters: {'max_depth': 11, 'max_features': 'auto', 'n_estimators': 580, 'bootstrap': False, 'min_samples_leaf': 0.0005750255738222855, 'min_samples_split': 0.3783511902808798}. Best is trial 46 with value: 0.8099890430214879.\u001b[0m\n",
      "\u001b[32m[I 2022-04-18 10:03:59,212]\u001b[0m Trial 94 finished with value: 0.6313498056167979 and parameters: {'max_depth': 11, 'max_features': 'auto', 'n_estimators': 638, 'bootstrap': False, 'min_samples_leaf': 0.06672621943619764, 'min_samples_split': 0.06699332948855002}. Best is trial 46 with value: 0.8099890430214879.\u001b[0m\n",
      "\u001b[32m[I 2022-04-18 10:04:10,573]\u001b[0m Trial 97 finished with value: 0.6418603612411686 and parameters: {'max_depth': 7, 'max_features': 'auto', 'n_estimators': 569, 'bootstrap': False, 'min_samples_leaf': 0.06195146453077495, 'min_samples_split': 0.06384618498056176}. Best is trial 46 with value: 0.8099890430214879.\u001b[0m\n",
      "\u001b[32m[I 2022-04-18 10:04:59,161]\u001b[0m Trial 100 finished with value: 0.6294661265220316 and parameters: {'max_depth': 11, 'max_features': 'auto', 'n_estimators': 540, 'bootstrap': False, 'min_samples_leaf': 0.06733459781674918, 'min_samples_split': 0.009137685857009858}. Best is trial 46 with value: 0.8099890430214879.\u001b[0m\n",
      "\u001b[32m[I 2022-04-18 10:05:05,587]\u001b[0m Trial 99 finished with value: 0.635951346247821 and parameters: {'max_depth': 7, 'max_features': 'auto', 'n_estimators': 916, 'bootstrap': False, 'min_samples_leaf': 0.06429612169481616, 'min_samples_split': 0.016542371120693004}. Best is trial 46 with value: 0.8099890430214879.\u001b[0m\n",
      "\u001b[32m[I 2022-04-18 10:05:06,153]\u001b[0m Trial 101 finished with value: 0.6333763668449677 and parameters: {'max_depth': 7, 'max_features': 'auto', 'n_estimators': 577, 'bootstrap': False, 'min_samples_leaf': 0.06514487710437186, 'min_samples_split': 0.01173264728226905}. Best is trial 46 with value: 0.8099890430214879.\u001b[0m\n",
      "\u001b[32m[I 2022-04-18 10:05:14,772]\u001b[0m Trial 98 finished with value: 0.6487212786192974 and parameters: {'max_depth': 11, 'max_features': 'auto', 'n_estimators': 949, 'bootstrap': False, 'min_samples_leaf': 0.058137378932247505, 'min_samples_split': 0.015651984980739875}. Best is trial 46 with value: 0.8099890430214879.\u001b[0m\n",
      "\u001b[32m[I 2022-04-18 10:05:22,113]\u001b[0m Trial 102 finished with value: 0.46728380231373395 and parameters: {'max_depth': 11, 'max_features': 'auto', 'n_estimators': 531, 'bootstrap': False, 'min_samples_leaf': 0.053676365595564435, 'min_samples_split': 0.4956384636429106}. Best is trial 46 with value: 0.8099890430214879.\u001b[0m\n",
      "\u001b[32m[I 2022-04-18 10:05:24,988]\u001b[0m Trial 105 finished with value: 0.6637349147469915 and parameters: {'max_depth': 7, 'max_features': 'auto', 'n_estimators': 538, 'bootstrap': False, 'min_samples_leaf': 0.053066372167894275, 'min_samples_split': 0.01129118320207435}. Best is trial 46 with value: 0.8099890430214879.\u001b[0m\n",
      "\u001b[32m[I 2022-04-18 10:05:26,901]\u001b[0m Trial 103 finished with value: 0.6557812730601335 and parameters: {'max_depth': 15, 'max_features': 'auto', 'n_estimators': 536, 'bootstrap': False, 'min_samples_leaf': 0.054962709310045856, 'min_samples_split': 0.011220422086413445}. Best is trial 46 with value: 0.8099890430214879.\u001b[0m\n",
      "\u001b[32m[I 2022-04-18 10:05:30,224]\u001b[0m Trial 104 finished with value: 0.6683302038116914 and parameters: {'max_depth': 6, 'max_features': 'auto', 'n_estimators': 453, 'bootstrap': False, 'min_samples_leaf': 0.05244454551144998, 'min_samples_split': 0.014069499821245095}. Best is trial 46 with value: 0.8099890430214879.\u001b[0m\n",
      "\u001b[32m[I 2022-04-18 10:06:08,112]\u001b[0m Trial 107 finished with value: 0.5284277648645427 and parameters: {'max_depth': 6, 'max_features': 'sqrt', 'n_estimators': 532, 'bootstrap': False, 'min_samples_leaf': 0.05185486221530807, 'min_samples_split': 0.2955068154181428}. Best is trial 46 with value: 0.8099890430214879.\u001b[0m\n",
      "\u001b[32m[I 2022-04-18 10:06:15,107]\u001b[0m Trial 108 finished with value: 0.4672838023137339 and parameters: {'max_depth': 6, 'max_features': 'auto', 'n_estimators': 545, 'bootstrap': False, 'min_samples_leaf': 0.010732498711100822, 'min_samples_split': 0.49847473952396426}. Best is trial 46 with value: 0.8099890430214879.\u001b[0m\n",
      "\u001b[32m[I 2022-04-18 10:06:24,905]\u001b[0m Trial 110 finished with value: 0.5553386540957126 and parameters: {'max_depth': 9, 'max_features': 'auto', 'n_estimators': 449, 'bootstrap': False, 'min_samples_leaf': 0.010280120997257306, 'min_samples_split': 0.29858594723001286}. Best is trial 46 with value: 0.8099890430214879.\u001b[0m\n",
      "\u001b[32m[I 2022-04-18 10:06:26,286]\u001b[0m Trial 106 finished with value: 0.6628995275569859 and parameters: {'max_depth': 7, 'max_features': 'auto', 'n_estimators': 498, 'bootstrap': False, 'min_samples_leaf': 0.053547888042020424, 'min_samples_split': 0.012855460611918702}. Best is trial 46 with value: 0.8099890430214879.\u001b[0m\n",
      "\u001b[32m[I 2022-04-18 10:06:28,341]\u001b[0m Trial 109 finished with value: 0.5553386540957124 and parameters: {'max_depth': 15, 'max_features': 'auto', 'n_estimators': 534, 'bootstrap': False, 'min_samples_leaf': 0.010037284089863995, 'min_samples_split': 0.2783412160798157}. Best is trial 46 with value: 0.8099890430214879.\u001b[0m\n",
      "\u001b[32m[I 2022-04-18 10:07:05,959]\u001b[0m Trial 113 finished with value: 0.7297692494621617 and parameters: {'max_depth': 9, 'max_features': 'sqrt', 'n_estimators': 876, 'bootstrap': False, 'min_samples_leaf': 0.012118895445652526, 'min_samples_split': 0.0007080526322586003}. Best is trial 46 with value: 0.8099890430214879.\u001b[0m\n",
      "\u001b[32m[I 2022-04-18 10:07:12,897]\u001b[0m Trial 111 finished with value: 0.5696497642573167 and parameters: {'max_depth': 9, 'max_features': 'sqrt', 'n_estimators': 823, 'bootstrap': False, 'min_samples_leaf': 0.012209477319312101, 'min_samples_split': 0.27095297147522185}. Best is trial 46 with value: 0.8099890430214879.\u001b[0m\n",
      "\u001b[32m[I 2022-04-18 10:07:14,778]\u001b[0m Trial 112 finished with value: 0.7424534901698412 and parameters: {'max_depth': 9, 'max_features': 'sqrt', 'n_estimators': 856, 'bootstrap': False, 'min_samples_leaf': 0.00913858859292914, 'min_samples_split': 0.000803158378280145}. Best is trial 46 with value: 0.8099890430214879.\u001b[0m\n",
      "\u001b[32m[I 2022-04-18 10:07:44,504]\u001b[0m Trial 114 finished with value: 0.7810480908505151 and parameters: {'max_depth': 9, 'max_features': 'auto', 'n_estimators': 498, 'bootstrap': False, 'min_samples_leaf': 0.010039609990226791, 'min_samples_split': 6.844872130947963e-05}. Best is trial 46 with value: 0.8099890430214879.\u001b[0m\n",
      "\u001b[32m[I 2022-04-18 10:07:51,164]\u001b[0m Trial 117 finished with value: 0.7245459985987404 and parameters: {'max_depth': 9, 'max_features': 'auto', 'n_estimators': 404, 'bootstrap': False, 'min_samples_leaf': 0.03182149978248938, 'min_samples_split': 0.030580778320927454}. Best is trial 46 with value: 0.8099890430214879.\u001b[0m\n",
      "\u001b[32m[I 2022-04-18 10:08:12,297]\u001b[0m Trial 118 finished with value: 0.771873681512903 and parameters: {'max_depth': 9, 'max_features': 'auto', 'n_estimators': 500, 'bootstrap': False, 'min_samples_leaf': 0.012362386452714383, 'min_samples_split': 0.024666722490334952}. Best is trial 46 with value: 0.8099890430214879.\u001b[0m\n",
      "\u001b[32m[I 2022-04-18 10:08:51,894]\u001b[0m Trial 119 finished with value: 0.7237773136235699 and parameters: {'max_depth': 9, 'max_features': 'auto', 'n_estimators': 500, 'bootstrap': False, 'min_samples_leaf': 0.03224187790430197, 'min_samples_split': 0.031314594036421506}. Best is trial 46 with value: 0.8099890430214879.\u001b[0m\n",
      "\u001b[32m[I 2022-04-18 10:08:57,628]\u001b[0m Trial 121 finished with value: 0.7094348108701395 and parameters: {'max_depth': 8, 'max_features': 'auto', 'n_estimators': 497, 'bootstrap': False, 'min_samples_leaf': 0.03653490292993543, 'min_samples_split': 0.029523506101107887}. Best is trial 46 with value: 0.8099890430214879.\u001b[0m\n",
      "\u001b[32m[I 2022-04-18 10:08:58,902]\u001b[0m Trial 120 finished with value: 0.725072124560149 and parameters: {'max_depth': 9, 'max_features': 'auto', 'n_estimators': 488, 'bootstrap': False, 'min_samples_leaf': 0.03132353928374164, 'min_samples_split': 0.03111174643886851}. Best is trial 46 with value: 0.8099890430214879.\u001b[0m\n",
      "\u001b[32m[I 2022-04-18 10:08:59,329]\u001b[0m Trial 115 finished with value: 0.7733145683798881 and parameters: {'max_depth': 9, 'max_features': 'auto', 'n_estimators': 898, 'bootstrap': False, 'min_samples_leaf': 0.012008801781646473, 'min_samples_split': 0.0027031324231468166}. Best is trial 46 with value: 0.8099890430214879.\u001b[0m\n",
      "\u001b[32m[I 2022-04-18 10:09:17,881]\u001b[0m Trial 123 finished with value: 0.72346248952217 and parameters: {'max_depth': 8, 'max_features': 'auto', 'n_estimators': 491, 'bootstrap': False, 'min_samples_leaf': 0.032431523922055276, 'min_samples_split': 0.029543522028339465}. Best is trial 46 with value: 0.8099890430214879.\u001b[0m\n",
      "\u001b[32m[I 2022-04-18 10:09:23,042]\u001b[0m Trial 122 finished with value: 0.728632679726955 and parameters: {'max_depth': 8, 'max_features': 'auto', 'n_estimators': 495, 'bootstrap': False, 'min_samples_leaf': 0.02940513205440512, 'min_samples_split': 0.028938972241265612}. Best is trial 46 with value: 0.8099890430214879.\u001b[0m\n",
      "\u001b[32m[I 2022-04-18 10:09:25,636]\u001b[0m Trial 116 finished with value: 0.7235281305151877 and parameters: {'max_depth': 9, 'max_features': 'auto', 'n_estimators': 870, 'bootstrap': False, 'min_samples_leaf': 0.032642950203333, 'min_samples_split': 0.030098040214273786}. Best is trial 46 with value: 0.8099890430214879.\u001b[0m\n",
      "\u001b[32m[I 2022-04-18 10:09:43,572]\u001b[0m Trial 124 finished with value: 0.7231858132324377 and parameters: {'max_depth': 8, 'max_features': 'auto', 'n_estimators': 497, 'bootstrap': False, 'min_samples_leaf': 0.03293195707500246, 'min_samples_split': 0.0415978269098624}. Best is trial 46 with value: 0.8099890430214879.\u001b[0m\n",
      "\u001b[32m[I 2022-04-18 10:10:08,124]\u001b[0m Trial 130 finished with value: 0.7721395018497015 and parameters: {'max_depth': 10, 'max_features': 'auto', 'n_estimators': 219, 'bootstrap': False, 'min_samples_leaf': 0.005566730675734967, 'min_samples_split': 0.043858168855162916}. Best is trial 46 with value: 0.8099890430214879.\u001b[0m\n",
      "\u001b[32m[I 2022-04-18 10:10:23,439]\u001b[0m Trial 125 finished with value: 0.5590920430451586 and parameters: {'max_depth': 8, 'max_features': 'auto', 'n_estimators': 493, 'bootstrap': False, 'min_samples_leaf': 0.00041933257678218594, 'min_samples_split': 0.22994459947394735}. Best is trial 46 with value: 0.8099890430214879.\u001b[0m\n",
      "\u001b[32m[I 2022-04-18 10:10:30,290]\u001b[0m Trial 127 finished with value: 0.7569679822930586 and parameters: {'max_depth': 8, 'max_features': 'auto', 'n_estimators': 461, 'bootstrap': False, 'min_samples_leaf': 0.00019600882155874542, 'min_samples_split': 0.05796294182914734}. Best is trial 46 with value: 0.8099890430214879.\u001b[0m\n",
      "\u001b[32m[I 2022-04-18 10:10:31,737]\u001b[0m Trial 128 finished with value: 0.4901632208198704 and parameters: {'max_depth': 8, 'max_features': 'auto', 'n_estimators': 462, 'bootstrap': False, 'min_samples_leaf': 0.2057929318977041, 'min_samples_split': 0.043323973247615215}. Best is trial 46 with value: 0.8099890430214879.\u001b[0m\n",
      "\u001b[32m[I 2022-04-18 10:10:34,465]\u001b[0m Trial 129 finished with value: 0.7554922533431125 and parameters: {'max_depth': 10, 'max_features': 'auto', 'n_estimators': 460, 'bootstrap': False, 'min_samples_leaf': 0.001556167812425251, 'min_samples_split': 0.059386524008571875}. Best is trial 46 with value: 0.8099890430214879.\u001b[0m\n",
      "\u001b[32m[I 2022-04-18 10:10:39,890]\u001b[0m Trial 126 finished with value: 0.7554000035876531 and parameters: {'max_depth': 8, 'max_features': 'auto', 'n_estimators': 587, 'bootstrap': False, 'min_samples_leaf': 0.0034536121266513266, 'min_samples_split': 0.05927485753670695}. Best is trial 46 with value: 0.8099890430214879.\u001b[0m\n",
      "\u001b[32m[I 2022-04-18 10:10:42,594]\u001b[0m Trial 133 finished with value: 0.276776497910051 and parameters: {'max_depth': 10, 'max_features': 'auto', 'n_estimators': 179, 'bootstrap': False, 'min_samples_leaf': 0.39158277894319105, 'min_samples_split': 0.0018464209462809647}. Best is trial 46 with value: 0.8099890430214879.\u001b[0m\n",
      "\u001b[32m[I 2022-04-18 10:10:45,184]\u001b[0m Trial 137 finished with value: 0.276776497910051 and parameters: {'max_depth': 10, 'max_features': 'auto', 'n_estimators': 54, 'bootstrap': False, 'min_samples_leaf': 0.37443823473454246, 'min_samples_split': 0.006858581358396744}. Best is trial 46 with value: 0.8099890430214879.\u001b[0m\n",
      "\u001b[32m[I 2022-04-18 10:10:57,092]\u001b[0m Trial 134 finished with value: 0.7412865701831574 and parameters: {'max_depth': 10, 'max_features': 'auto', 'n_estimators': 187, 'bootstrap': False, 'min_samples_leaf': 0.01932426080833177, 'min_samples_split': 0.0601801692957447}. Best is trial 46 with value: 0.8099890430214879.\u001b[0m\n",
      "\u001b[32m[I 2022-04-18 10:11:00,914]\u001b[0m Trial 132 finished with value: 0.8115461631188687 and parameters: {'max_depth': 10, 'max_features': 'auto', 'n_estimators': 462, 'bootstrap': False, 'min_samples_leaf': 0.001930795068948481, 'min_samples_split': 0.002572443047513133}. Best is trial 132 with value: 0.8115461631188687.\u001b[0m\n",
      "\u001b[32m[I 2022-04-18 10:11:03,987]\u001b[0m Trial 136 finished with value: 0.747978435901399 and parameters: {'max_depth': 10, 'max_features': 'auto', 'n_estimators': 213, 'bootstrap': False, 'min_samples_leaf': 0.020322259352844558, 'min_samples_split': 0.00017527435295942037}. Best is trial 132 with value: 0.8115461631188687.\u001b[0m\n",
      "\u001b[32m[I 2022-04-18 10:11:04,599]\u001b[0m Trial 139 finished with value: 0.7316069080963923 and parameters: {'max_depth': 10, 'max_features': 'auto', 'n_estimators': 100, 'bootstrap': False, 'min_samples_leaf': 0.01842087603629925, 'min_samples_split': 0.07596171535514956}. Best is trial 132 with value: 0.8115461631188687.\u001b[0m\n",
      "\u001b[32m[I 2022-04-18 10:11:09,241]\u001b[0m Trial 135 finished with value: 0.462975441587011 and parameters: {'max_depth': 10, 'max_features': 'auto', 'n_estimators': 212, 'bootstrap': False, 'min_samples_leaf': 0.23114139959883168, 'min_samples_split': 0.0025935893419198677}. Best is trial 132 with value: 0.8115461631188687.\u001b[0m\n",
      "\u001b[32m[I 2022-04-18 10:11:17,187]\u001b[0m Trial 131 finished with value: 0.7702864737899324 and parameters: {'max_depth': 10, 'max_features': 'auto', 'n_estimators': 587, 'bootstrap': False, 'min_samples_leaf': 0.0029128107229061256, 'min_samples_split': 0.04314571147786139}. Best is trial 132 with value: 0.8115461631188687.\u001b[0m\n",
      "\u001b[32m[I 2022-04-18 10:11:42,633]\u001b[0m Trial 146 finished with value: 0.7777858187132323 and parameters: {'max_depth': 9, 'max_features': 'auto', 'n_estimators': 131, 'bootstrap': True, 'min_samples_leaf': 0.013943572675218945, 'min_samples_split': 0.019445613440927052}. Best is trial 132 with value: 0.8115461631188687.\u001b[0m\n",
      "\u001b[32m[I 2022-04-18 10:12:12,877]\u001b[0m Trial 147 finished with value: 0.7470039646400155 and parameters: {'max_depth': 9, 'max_features': 'auto', 'n_estimators': 149, 'bootstrap': True, 'min_samples_leaf': 0.02111925653902832, 'min_samples_split': 0.020548738895883864}. Best is trial 132 with value: 0.8115461631188687.\u001b[0m\n",
      "\u001b[32m[I 2022-04-18 10:12:14,261]\u001b[0m Trial 138 finished with value: 0.276776497910051 and parameters: {'max_depth': 10, 'max_features': 'auto', 'n_estimators': 554, 'bootstrap': False, 'min_samples_leaf': 0.38625155378950005, 'min_samples_split': 0.08042185018957312}. Best is trial 132 with value: 0.8115461631188687.\u001b[0m\n",
      "\u001b[32m[I 2022-04-18 10:12:19,156]\u001b[0m Trial 143 finished with value: 0.7610379562994918 and parameters: {'max_depth': 9, 'max_features': 'auto', 'n_estimators': 563, 'bootstrap': False, 'min_samples_leaf': 0.01624037265296783, 'min_samples_split': 0.01837201058418422}. Best is trial 132 with value: 0.8115461631188687.\u001b[0m\n",
      "\u001b[32m[I 2022-04-18 10:12:29,320]\u001b[0m Trial 145 finished with value: 0.7912888594762879 and parameters: {'max_depth': 9, 'max_features': 'auto', 'n_estimators': 552, 'bootstrap': True, 'min_samples_leaf': 0.011796663885018021, 'min_samples_split': 0.01838627967703167}. Best is trial 132 with value: 0.8115461631188687.\u001b[0m\n",
      "\u001b[32m[I 2022-04-18 10:12:31,680]\u001b[0m Trial 148 finished with value: 0.7811697013518503 and parameters: {'max_depth': 9, 'max_features': 'auto', 'n_estimators': 107, 'bootstrap': True, 'min_samples_leaf': 0.013494455647938816, 'min_samples_split': 0.017757854169595695}. Best is trial 132 with value: 0.8115461631188687.\u001b[0m\n",
      "\u001b[32m[I 2022-04-18 10:12:35,448]\u001b[0m Trial 140 finished with value: 0.7251969366354905 and parameters: {'max_depth': 9, 'max_features': 'auto', 'n_estimators': 704, 'bootstrap': False, 'min_samples_leaf': 0.0219616220441047, 'min_samples_split': 0.07771215372613288}. Best is trial 132 with value: 0.8115461631188687.\u001b[0m\n",
      "\u001b[32m[I 2022-04-18 10:12:36,518]\u001b[0m Trial 149 finished with value: 0.7874572832434364 and parameters: {'max_depth': 9, 'max_features': 'auto', 'n_estimators': 123, 'bootstrap': True, 'min_samples_leaf': 0.012364361736771152, 'min_samples_split': 0.012993643746790077}. Best is trial 132 with value: 0.8115461631188687.\u001b[0m\n",
      "\u001b[32m[I 2022-04-18 10:12:40,542]\u001b[0m Trial 141 finished with value: 0.743171560232317 and parameters: {'max_depth': 9, 'max_features': 'auto', 'n_estimators': 555, 'bootstrap': False, 'min_samples_leaf': 0.02137636514803684, 'min_samples_split': 0.043455811364515706}. Best is trial 132 with value: 0.8115461631188687.\u001b[0m\n",
      "\u001b[32m[I 2022-04-18 10:12:41,392]\u001b[0m Trial 144 finished with value: 0.7899409233040007 and parameters: {'max_depth': 9, 'max_features': 'auto', 'n_estimators': 701, 'bootstrap': True, 'min_samples_leaf': 0.011895025529084766, 'min_samples_split': 0.020760844326784687}. Best is trial 132 with value: 0.8115461631188687.\u001b[0m\n",
      "\u001b[32m[I 2022-04-18 10:12:46,868]\u001b[0m Trial 151 finished with value: 0.7889952865412273 and parameters: {'max_depth': 9, 'max_features': 'auto', 'n_estimators': 113, 'bootstrap': True, 'min_samples_leaf': 0.012030242527282336, 'min_samples_split': 0.012236328400425302}. Best is trial 132 with value: 0.8115461631188687.\u001b[0m\n",
      "\u001b[32m[I 2022-04-18 10:12:48,896]\u001b[0m Trial 152 finished with value: 0.7330248801041568 and parameters: {'max_depth': 9, 'max_features': 'auto', 'n_estimators': 120, 'bootstrap': True, 'min_samples_leaf': 0.024124171490393885, 'min_samples_split': 0.012675301517268407}. Best is trial 132 with value: 0.8115461631188687.\u001b[0m\n",
      "\u001b[32m[I 2022-04-18 10:12:50,608]\u001b[0m Trial 154 finished with value: 0.6519775575768827 and parameters: {'max_depth': 9, 'max_features': 'auto', 'n_estimators': 104, 'bootstrap': True, 'min_samples_leaf': 0.04282572179684187, 'min_samples_split': 0.009327339550659489}. Best is trial 132 with value: 0.8115461631188687.\u001b[0m\n",
      "\u001b[32m[I 2022-04-18 10:12:51,901]\u001b[0m Trial 153 finished with value: 0.6418300358441789 and parameters: {'max_depth': 9, 'max_features': 'auto', 'n_estimators': 120, 'bootstrap': True, 'min_samples_leaf': 0.04639107074430829, 'min_samples_split': 0.011152998212710426}. Best is trial 132 with value: 0.8115461631188687.\u001b[0m\n",
      "\u001b[32m[I 2022-04-18 10:12:52,750]\u001b[0m Trial 155 finished with value: 0.5290984709407104 and parameters: {'max_depth': 9, 'max_features': 'log2', 'n_estimators': 101, 'bootstrap': True, 'min_samples_leaf': 0.041193813518783276, 'min_samples_split': 0.009651016641021722}. Best is trial 132 with value: 0.8115461631188687.\u001b[0m\n",
      "\u001b[32m[I 2022-04-18 10:12:56,681]\u001b[0m Trial 156 finished with value: 0.5307575509278062 and parameters: {'max_depth': 9, 'max_features': 'log2', 'n_estimators': 124, 'bootstrap': True, 'min_samples_leaf': 0.042658823613266415, 'min_samples_split': 0.013741563863566808}. Best is trial 132 with value: 0.8115461631188687.\u001b[0m\n",
      "\u001b[32m[I 2022-04-18 10:13:01,182]\u001b[0m Trial 158 finished with value: 0.6475339389548286 and parameters: {'max_depth': 9, 'max_features': 'auto', 'n_estimators': 87, 'bootstrap': True, 'min_samples_leaf': 0.044127361140484406, 'min_samples_split': 0.014084965728427414}. Best is trial 132 with value: 0.8115461631188687.\u001b[0m\n",
      "\u001b[32m[I 2022-04-18 10:13:05,010]\u001b[0m Trial 157 finished with value: 0.5289150217880596 and parameters: {'max_depth': 9, 'max_features': 'log2', 'n_estimators': 125, 'bootstrap': True, 'min_samples_leaf': 0.043310754527054504, 'min_samples_split': 0.012632491353687872}. Best is trial 132 with value: 0.8115461631188687.\u001b[0m\n",
      "\u001b[32m[I 2022-04-18 10:13:06,436]\u001b[0m Trial 161 finished with value: 0.7980411699378309 and parameters: {'max_depth': 12, 'max_features': 'auto', 'n_estimators': 79, 'bootstrap': True, 'min_samples_leaf': 0.01054684044349799, 'min_samples_split': 0.021361452311839647}. Best is trial 132 with value: 0.8115461631188687.\u001b[0m\n",
      "\u001b[32m[I 2022-04-18 10:13:07,739]\u001b[0m Trial 159 finished with value: 0.8275214589164588 and parameters: {'max_depth': 9, 'max_features': 'auto', 'n_estimators': 155, 'bootstrap': True, 'min_samples_leaf': 0.0003146183198687877, 'min_samples_split': 0.019375238652375424}. Best is trial 159 with value: 0.8275214589164588.\u001b[0m\n",
      "\u001b[32m[I 2022-04-18 10:13:07,873]\u001b[0m Trial 142 finished with value: 0.7452041264378693 and parameters: {'max_depth': 10, 'max_features': 'auto', 'n_estimators': 996, 'bootstrap': False, 'min_samples_leaf': 0.02046280544877403, 'min_samples_split': 0.000566088025038269}. Best is trial 159 with value: 0.8275214589164588.\u001b[0m\n",
      "\u001b[32m[I 2022-04-18 10:13:10,340]\u001b[0m Trial 162 finished with value: 0.8125855451227867 and parameters: {'max_depth': 12, 'max_features': 'auto', 'n_estimators': 75, 'bootstrap': True, 'min_samples_leaf': 0.007211483286630712, 'min_samples_split': 0.021594367173209915}. Best is trial 159 with value: 0.8275214589164588.\u001b[0m\n",
      "\u001b[32m[I 2022-04-18 10:13:10,842]\u001b[0m Trial 160 finished with value: -0.0013542355154249285 and parameters: {'max_depth': 9, 'max_features': 'log2', 'n_estimators': 144, 'bootstrap': True, 'min_samples_leaf': 0.4941712110541334, 'min_samples_split': 0.019330087387562447}. Best is trial 159 with value: 0.8275214589164588.\u001b[0m\n",
      "\u001b[32m[I 2022-04-18 10:13:11,740]\u001b[0m Trial 150 finished with value: -0.0013516458731589686 and parameters: {'max_depth': 9, 'max_features': 'auto', 'n_estimators': 519, 'bootstrap': True, 'min_samples_leaf': 0.4894374736322175, 'min_samples_split': 0.011205424294877427}. Best is trial 159 with value: 0.8275214589164588.\u001b[0m\n",
      "\u001b[32m[I 2022-04-18 10:13:18,793]\u001b[0m Trial 167 finished with value: 0.8128113226876044 and parameters: {'max_depth': 12, 'max_features': 'auto', 'n_estimators': 68, 'bootstrap': True, 'min_samples_leaf': 0.0005528808147370039, 'min_samples_split': 0.027425886364402935}. Best is trial 159 with value: 0.8275214589164588.\u001b[0m\n",
      "\u001b[32m[I 2022-04-18 10:13:23,270]\u001b[0m Trial 169 finished with value: 0.8053304249975497 and parameters: {'max_depth': 12, 'max_features': 'auto', 'n_estimators': 67, 'bootstrap': True, 'min_samples_leaf': 0.007951537806956694, 'min_samples_split': 0.025587291751400277}. Best is trial 159 with value: 0.8275214589164588.\u001b[0m\n",
      "\u001b[32m[I 2022-04-18 10:13:25,605]\u001b[0m Trial 170 finished with value: 0.8147414571585351 and parameters: {'max_depth': 12, 'max_features': 'auto', 'n_estimators': 77, 'bootstrap': True, 'min_samples_leaf': 0.0005226024754451169, 'min_samples_split': 0.026721773850130495}. Best is trial 159 with value: 0.8275214589164588.\u001b[0m\n",
      "\u001b[32m[I 2022-04-18 10:13:26,333]\u001b[0m Trial 163 finished with value: 0.7886735450887787 and parameters: {'max_depth': 12, 'max_features': 'auto', 'n_estimators': 153, 'bootstrap': True, 'min_samples_leaf': 0.012152650055802796, 'min_samples_split': 0.020652665735807287}. Best is trial 159 with value: 0.8275214589164588.\u001b[0m\n",
      "\u001b[32m[I 2022-04-18 10:13:26,480]\u001b[0m Trial 164 finished with value: 0.7967893616419247 and parameters: {'max_depth': 12, 'max_features': 'auto', 'n_estimators': 150, 'bootstrap': True, 'min_samples_leaf': 0.01027850826866961, 'min_samples_split': 0.02425421434412559}. Best is trial 159 with value: 0.8275214589164588.\u001b[0m\n",
      "\u001b[32m[I 2022-04-18 10:13:26,687]\u001b[0m Trial 168 finished with value: 0.8200122708887851 and parameters: {'max_depth': 12, 'max_features': 'auto', 'n_estimators': 82, 'bootstrap': True, 'min_samples_leaf': 0.0005534646316913243, 'min_samples_split': 0.02390951654509379}. Best is trial 159 with value: 0.8275214589164588.\u001b[0m\n",
      "\u001b[32m[I 2022-04-18 10:13:27,931]\u001b[0m Trial 166 finished with value: 0.8146102832616441 and parameters: {'max_depth': 9, 'max_features': 'auto', 'n_estimators': 144, 'bootstrap': True, 'min_samples_leaf': 0.0006134729212797889, 'min_samples_split': 0.026491350450981745}. Best is trial 159 with value: 0.8275214589164588.\u001b[0m\n",
      "\u001b[32m[I 2022-04-18 10:13:30,790]\u001b[0m Trial 165 finished with value: 0.8189302710112785 and parameters: {'max_depth': 9, 'max_features': 'auto', 'n_estimators': 151, 'bootstrap': True, 'min_samples_leaf': 0.0001385171374382601, 'min_samples_split': 0.02433177552864852}. Best is trial 159 with value: 0.8275214589164588.\u001b[0m\n",
      "\u001b[32m[I 2022-04-18 10:13:31,515]\u001b[0m Trial 171 finished with value: 0.8156288385131697 and parameters: {'max_depth': 12, 'max_features': 'auto', 'n_estimators': 80, 'bootstrap': True, 'min_samples_leaf': 0.001208933592330692, 'min_samples_split': 0.025836914033834514}. Best is trial 159 with value: 0.8275214589164588.\u001b[0m\n",
      "\u001b[32m[I 2022-04-18 10:13:36,020]\u001b[0m Trial 172 finished with value: 0.8141550733721296 and parameters: {'max_depth': 12, 'max_features': 'auto', 'n_estimators': 70, 'bootstrap': True, 'min_samples_leaf': 0.0017081407205493601, 'min_samples_split': 0.02655652415127134}. Best is trial 159 with value: 0.8275214589164588.\u001b[0m\n",
      "\u001b[32m[I 2022-04-18 10:13:36,738]\u001b[0m Trial 175 finished with value: 0.799892826115433 and parameters: {'max_depth': 12, 'max_features': 'auto', 'n_estimators': 60, 'bootstrap': True, 'min_samples_leaf': 0.0011808160405691209, 'min_samples_split': 0.03617983120105693}. Best is trial 159 with value: 0.8275214589164588.\u001b[0m\n",
      "\u001b[32m[I 2022-04-18 10:13:38,476]\u001b[0m Trial 173 finished with value: 0.809221769490307 and parameters: {'max_depth': 12, 'max_features': 'auto', 'n_estimators': 69, 'bootstrap': True, 'min_samples_leaf': 0.003983533804144776, 'min_samples_split': 0.029058461908165887}. Best is trial 159 with value: 0.8275214589164588.\u001b[0m\n",
      "\u001b[32m[I 2022-04-18 10:13:38,870]\u001b[0m Trial 176 finished with value: 0.7997464979621816 and parameters: {'max_depth': 12, 'max_features': 'auto', 'n_estimators': 73, 'bootstrap': True, 'min_samples_leaf': 0.001997691442005611, 'min_samples_split': 0.036929164591270214}. Best is trial 159 with value: 0.8275214589164588.\u001b[0m\n",
      "\u001b[32m[I 2022-04-18 10:13:39,031]\u001b[0m Trial 177 finished with value: 0.8037777245368831 and parameters: {'max_depth': 12, 'max_features': 'auto', 'n_estimators': 70, 'bootstrap': True, 'min_samples_leaf': 4.633299094142728e-05, 'min_samples_split': 0.033687176024281805}. Best is trial 159 with value: 0.8275214589164588.\u001b[0m\n",
      "\u001b[32m[I 2022-04-18 10:13:39,166]\u001b[0m Trial 174 finished with value: 0.8036653566927907 and parameters: {'max_depth': 12, 'max_features': 'auto', 'n_estimators': 73, 'bootstrap': True, 'min_samples_leaf': 0.0038938486594210005, 'min_samples_split': 0.03343504601362792}. Best is trial 159 with value: 0.8275214589164588.\u001b[0m\n",
      "\u001b[32m[I 2022-04-18 10:13:43,463]\u001b[0m Trial 178 finished with value: 0.8009287728923242 and parameters: {'max_depth': 12, 'max_features': 'auto', 'n_estimators': 73, 'bootstrap': True, 'min_samples_leaf': 0.00081628420236457, 'min_samples_split': 0.03609219581713505}. Best is trial 159 with value: 0.8275214589164588.\u001b[0m\n",
      "\u001b[32m[I 2022-04-18 10:13:44,060]\u001b[0m Trial 179 finished with value: 0.8017744661951312 and parameters: {'max_depth': 12, 'max_features': 'auto', 'n_estimators': 75, 'bootstrap': True, 'min_samples_leaf': 0.0011993252995923735, 'min_samples_split': 0.035578504330465915}. Best is trial 159 with value: 0.8275214589164588.\u001b[0m\n",
      "\u001b[32m[I 2022-04-18 10:13:46,447]\u001b[0m Trial 180 finished with value: 0.7999070233262838 and parameters: {'max_depth': 12, 'max_features': 'auto', 'n_estimators': 72, 'bootstrap': True, 'min_samples_leaf': 0.00013994734386349288, 'min_samples_split': 0.03714566633555698}. Best is trial 159 with value: 0.8275214589164588.\u001b[0m\n",
      "\u001b[32m[I 2022-04-18 10:13:46,903]\u001b[0m Trial 181 finished with value: 0.8017058062014758 and parameters: {'max_depth': 12, 'max_features': 'auto', 'n_estimators': 51, 'bootstrap': True, 'min_samples_leaf': 0.00013901643563250798, 'min_samples_split': 0.035261393046981546}. Best is trial 159 with value: 0.8275214589164588.\u001b[0m\n",
      "\u001b[32m[I 2022-04-18 10:13:48,317]\u001b[0m Trial 185 finished with value: 0.7863500223412997 and parameters: {'max_depth': 12, 'max_features': 'auto', 'n_estimators': 57, 'bootstrap': True, 'min_samples_leaf': 0.0007566409437003114, 'min_samples_split': 0.05032713335555999}. Best is trial 159 with value: 0.8275214589164588.\u001b[0m\n",
      "\u001b[32m[I 2022-04-18 10:13:48,504]\u001b[0m Trial 183 finished with value: 0.7868316530604942 and parameters: {'max_depth': 12, 'max_features': 'auto', 'n_estimators': 51, 'bootstrap': True, 'min_samples_leaf': 0.0008497054109170205, 'min_samples_split': 0.04965229514244828}. Best is trial 159 with value: 0.8275214589164588.\u001b[0m\n",
      "\u001b[32m[I 2022-04-18 10:13:50,956]\u001b[0m Trial 184 finished with value: 0.7860505348421385 and parameters: {'max_depth': 12, 'max_features': 'auto', 'n_estimators': 83, 'bootstrap': True, 'min_samples_leaf': 0.000837310661571891, 'min_samples_split': 0.05154235272282558}. Best is trial 159 with value: 0.8275214589164588.\u001b[0m\n",
      "\u001b[32m[I 2022-04-18 10:13:51,380]\u001b[0m Trial 182 finished with value: 0.7214410438573833 and parameters: {'max_depth': 12, 'max_features': 'auto', 'n_estimators': 81, 'bootstrap': True, 'min_samples_leaf': 0.02660374365955675, 'min_samples_split': 0.046382714156997976}. Best is trial 159 with value: 0.8275214589164588.\u001b[0m\n",
      "\u001b[32m[I 2022-04-18 10:13:52,565]\u001b[0m Trial 186 finished with value: 0.695270359437488 and parameters: {'max_depth': 12, 'max_features': 'auto', 'n_estimators': 50, 'bootstrap': True, 'min_samples_leaf': 0.031699765715069134, 'min_samples_split': 0.04624564368128518}. Best is trial 159 with value: 0.8275214589164588.\u001b[0m\n",
      "\u001b[32m[I 2022-04-18 10:13:54,825]\u001b[0m Trial 188 finished with value: 0.7134330424307063 and parameters: {'max_depth': 12, 'max_features': 'auto', 'n_estimators': 55, 'bootstrap': True, 'min_samples_leaf': 0.028089977296403695, 'min_samples_split': 0.0463101852976566}. Best is trial 159 with value: 0.8275214589164588.\u001b[0m\n",
      "\u001b[32m[I 2022-04-18 10:13:56,153]\u001b[0m Trial 187 finished with value: 0.7170627109166993 and parameters: {'max_depth': 12, 'max_features': 'auto', 'n_estimators': 85, 'bootstrap': True, 'min_samples_leaf': 0.02742108287169493, 'min_samples_split': 0.05342939398361359}. Best is trial 159 with value: 0.8275214589164588.\u001b[0m\n",
      "\u001b[32m[I 2022-04-18 10:13:58,432]\u001b[0m Trial 189 finished with value: 0.7163447797080448 and parameters: {'max_depth': 12, 'max_features': 'auto', 'n_estimators': 90, 'bootstrap': True, 'min_samples_leaf': 0.027737591987914038, 'min_samples_split': 0.053096935469912426}. Best is trial 159 with value: 0.8275214589164588.\u001b[0m\n",
      "\u001b[32m[I 2022-04-18 10:14:00,761]\u001b[0m Trial 191 finished with value: 0.7173446539678578 and parameters: {'max_depth': 12, 'max_features': 'auto', 'n_estimators': 87, 'bootstrap': True, 'min_samples_leaf': 0.027381972802738373, 'min_samples_split': 0.028131742158883095}. Best is trial 159 with value: 0.8275214589164588.\u001b[0m\n",
      "\u001b[32m[I 2022-04-18 10:14:00,934]\u001b[0m Trial 190 finished with value: 0.7235424241101701 and parameters: {'max_depth': 12, 'max_features': 'auto', 'n_estimators': 91, 'bootstrap': True, 'min_samples_leaf': 0.026130093532103597, 'min_samples_split': 0.04680887713218276}. Best is trial 159 with value: 0.8275214589164588.\u001b[0m\n",
      "\u001b[32m[I 2022-04-18 10:14:01,434]\u001b[0m Trial 192 finished with value: 0.4593291915356999 and parameters: {'max_depth': 13, 'max_features': 'auto', 'n_estimators': 82, 'bootstrap': True, 'min_samples_leaf': 0.027619815174961405, 'min_samples_split': 0.34053795362662465}. Best is trial 159 with value: 0.8275214589164588.\u001b[0m\n",
      "\u001b[32m[I 2022-04-18 10:14:02,201]\u001b[0m Trial 193 finished with value: 0.7184441054360695 and parameters: {'max_depth': 13, 'max_features': 'auto', 'n_estimators': 88, 'bootstrap': True, 'min_samples_leaf': 0.0271959755518508, 'min_samples_split': 0.026896520235262532}. Best is trial 159 with value: 0.8275214589164588.\u001b[0m\n",
      "\u001b[32m[I 2022-04-18 10:14:04,374]\u001b[0m Trial 194 finished with value: 0.6143154846936096 and parameters: {'max_depth': 13, 'max_features': 'auto', 'n_estimators': 95, 'bootstrap': True, 'min_samples_leaf': 0.025855855361964532, 'min_samples_split': 0.13526849104181052}. Best is trial 159 with value: 0.8275214589164588.\u001b[0m\n",
      "\u001b[32m[I 2022-04-18 10:14:04,681]\u001b[0m Trial 195 finished with value: 0.435123209063953 and parameters: {'max_depth': 13, 'max_features': 'auto', 'n_estimators': 95, 'bootstrap': True, 'min_samples_leaf': 0.024717051695794925, 'min_samples_split': 0.3458182265272557}. Best is trial 159 with value: 0.8275214589164588.\u001b[0m\n",
      "\u001b[32m[I 2022-04-18 10:14:08,836]\u001b[0m Trial 198 finished with value: -0.0013716578796751477 and parameters: {'max_depth': 13, 'max_features': 'auto', 'n_estimators': 102, 'bootstrap': True, 'min_samples_leaf': 0.33710242958152276, 'min_samples_split': 0.027308559310944454}. Best is trial 159 with value: 0.8275214589164588.\u001b[0m\n",
      "\u001b[32m[I 2022-04-18 10:14:09,795]\u001b[0m Trial 199 finished with value: 0.7619553787396631 and parameters: {'max_depth': 13, 'max_features': 'auto', 'n_estimators': 108, 'bootstrap': True, 'min_samples_leaf': 0.01711635050382593, 'min_samples_split': 0.028504335901976634}. Best is trial 159 with value: 0.8275214589164588.\u001b[0m\n",
      "\u001b[32m[I 2022-04-18 10:14:10,497]\u001b[0m Trial 197 finished with value: 0.7540126467889381 and parameters: {'max_depth': 13, 'max_features': 'auto', 'n_estimators': 167, 'bootstrap': True, 'min_samples_leaf': 0.019130755469888527, 'min_samples_split': 0.02652812523626678}. Best is trial 159 with value: 0.8275214589164588.\u001b[0m\n",
      "\u001b[32m[I 2022-04-18 10:14:10,500]\u001b[0m Trial 196 finished with value: 0.747044585952591 and parameters: {'max_depth': 13, 'max_features': 'auto', 'n_estimators': 175, 'bootstrap': True, 'min_samples_leaf': 0.02108437755088128, 'min_samples_split': 0.03033606691190172}. Best is trial 159 with value: 0.8275214589164588.\u001b[0m\n",
      "\u001b[32m[I 2022-04-18 10:14:10,502]\u001b[0m Finished hyperparemeter search!\u001b[0m\n",
      "\u001b[32m[I 2022-04-18 10:14:10,504]\u001b[0m Refitting the estimator using 5083 samples...\u001b[0m\n",
      "\u001b[32m[I 2022-04-18 10:14:10,914]\u001b[0m Finished refitting! (elapsed time: 0.410 sec.)\u001b[0m\n"
     ]
    },
    {
     "data": {
      "text/plain": [
       "OptunaSearchCV(cv=10,\n",
       "               estimator=RandomForestRegressor(n_jobs=-1, random_state=73),\n",
       "               n_jobs=-1, n_trials=200,\n",
       "               param_distributions={'bootstrap': CategoricalDistribution(choices=(True, False)),\n",
       "                                    'max_depth': IntUniformDistribution(high=15, low=6, step=1),\n",
       "                                    'max_features': CategoricalDistribution(choices=('auto', 'sqrt', 'log2')),\n",
       "                                    'min_samples_leaf': UniformDistribution(high=0.5, low=0.0),\n",
       "                                    'min_samples_split': UniformDistribution(high=0.5, low=0.0),\n",
       "                                    'n_estimators': IntUniformDistribution(high=1000, low=50, step=1)},\n",
       "               random_state=73, scoring='r2',\n",
       "               study=<optuna.study.study.Study object at 0x173b18d90>,\n",
       "               verbose=1)"
      ]
     },
     "execution_count": 33,
     "metadata": {},
     "output_type": "execute_result"
    }
   ],
   "source": [
    "rf_oscv_params = {\n",
    "    'max_depth' : IntUniformDistribution(6, 15),\n",
    "    'max_features' : CategoricalDistribution(['auto', 'sqrt', 'log2']),\n",
    "    'n_estimators' : IntUniformDistribution(50, 1000),\n",
    "    'bootstrap' : CategoricalDistribution([True, False]),\n",
    "    'min_samples_leaf' : UniformDistribution(0, 0.5),\n",
    "    'min_samples_split' : UniformDistribution(0, 0.5),\n",
    "    }\n",
    "\n",
    "rf_study = optuna.create_study(sampler = sampler, direction = 'maximize', study_name = 'RF_HyperParam_CV')\n",
    "\n",
    "rf_oscv = OptunaSearchCV(\n",
    "    study = rf_study,\n",
    "    estimator = rf_optuna_base,\n",
    "    param_distributions = rf_oscv_params,\n",
    "    cv = 10,\n",
    "    n_jobs = -1,\n",
    "    n_trials = 200,\n",
    "    random_state = p.RANDOM_STATE,\n",
    "    refit = True,\n",
    "    scoring = 'r2',\n",
    "    verbose = 1\n",
    ")\n",
    "\n",
    "rf_oscv.fit(X_train, y_train)"
   ]
  },
  {
   "cell_type": "code",
   "execution_count": null,
   "metadata": {},
   "outputs": [
    {
     "data": {
      "application/vnd.plotly.v1+json": {
       "config": {
        "plotlyServerURL": "https://plot.ly"
       },
       "data": [
        {
         "mode": "markers",
         "name": "Objective Value",
         "type": "scatter",
         "x": [
          0,
          1,
          2,
          3,
          4,
          5,
          6,
          7,
          8,
          9,
          10,
          11,
          12,
          13,
          14,
          15,
          16,
          17,
          18,
          19,
          20,
          21,
          22,
          23,
          24,
          25,
          26,
          27,
          28,
          29,
          30,
          31,
          32,
          33,
          34,
          35,
          36,
          37,
          38,
          39,
          40,
          41,
          42,
          43,
          44,
          45,
          46,
          47,
          48,
          49,
          50,
          51,
          52,
          53,
          54,
          55,
          56,
          57,
          58,
          59,
          60,
          61,
          62,
          63,
          64,
          65,
          66,
          67,
          68,
          69,
          70,
          71,
          72,
          73,
          74,
          75,
          76,
          77,
          78,
          79,
          80,
          81,
          82,
          83,
          84,
          85,
          86,
          87,
          88,
          89,
          90,
          91,
          92,
          93,
          94,
          95,
          96,
          97,
          98,
          99,
          100,
          101,
          102,
          103,
          104,
          105,
          106,
          107,
          108,
          109,
          110,
          111,
          112,
          113,
          114,
          115,
          116,
          117,
          118,
          119,
          120,
          121,
          122,
          123,
          124,
          125,
          126,
          127,
          128,
          129,
          130,
          131,
          132,
          133,
          134,
          135,
          136,
          137,
          138,
          139,
          140,
          141,
          142,
          143,
          144,
          145,
          146,
          147,
          148,
          149,
          150,
          151,
          152,
          153,
          154,
          155,
          156,
          157,
          158,
          159,
          160,
          161,
          162,
          163,
          164,
          165,
          166,
          167,
          168,
          169,
          170,
          171,
          172,
          173,
          174,
          175,
          176,
          177,
          178,
          179,
          180,
          181,
          182,
          183,
          184,
          185,
          186,
          187,
          188,
          189,
          190,
          191,
          192,
          193,
          194,
          195,
          196,
          197,
          198,
          199
         ],
         "y": [
          0.18690593873684422,
          0.7522673268920743,
          0.2338431710328644,
          -0.0013301517740015312,
          0.6137062265008765,
          0.16194840218469625,
          0.13681908824762234,
          0.4710324668464513,
          0.2792255974921575,
          -0.0013407015385649812,
          0.18549388628374747,
          0.14621986898935171,
          0.287850853481464,
          0.5432540668498562,
          0.17957788238346523,
          0.15647704144636831,
          -0.0013486097333834878,
          0.6594943271582097,
          0.6901633680981666,
          0.6835395710052412,
          0.6886971884126672,
          0.6828614593522937,
          0.5605276126268232,
          0.5663139578781541,
          0.5607584265811723,
          0.6126688229076873,
          0.5628379118774742,
          0.5576325343064334,
          0.5630941315908998,
          0.5576325343064336,
          0.653480348098505,
          0.6379948785980425,
          0.5570053871047312,
          0.6858518839261715,
          0.6860724919210556,
          0.6870054511467084,
          0.6950688655989212,
          0.5553386540957125,
          0.6949326892297025,
          0.6950930233655775,
          0.5553386540957129,
          0.718676985422443,
          0.7172600934728091,
          0.5553386540957129,
          0.15767743222805325,
          0.6214135905320622,
          -0.00135714017519184,
          0.33851622267835724,
          0.626955353821885,
          0.610164278961931,
          0.6087245962772553,
          0.5499946982775368,
          0.5877982918861344,
          0.37614939216238275,
          0.41047493143166697,
          0.3837824681178251,
          0.26015491839110383,
          0.3903963725964843,
          0.4775600380717894,
          0.6013310131344685,
          0.5553386540957125,
          0.276776497910051,
          0.46710358843979316,
          0.6491075677693376,
          0.2767764979100509,
          0.2767764979100509,
          0.2767764979100509,
          0.276776497910051,
          0.5553386540957126,
          0.6606320414735215,
          0.6475831284792585,
          0.6655656046285479,
          0.6518340948531478,
          0.6571542601731999,
          0.6397795308981464,
          0.6555326829452285,
          0.690950530534683,
          0.7680289237637512,
          0.6915273976217292,
          0.6637349147469912,
          0.6538036704729315,
          0.6470613731700471,
          0.6703632052004993,
          0.6702600565360733,
          0.6551232583120037,
          0.7640901942143159,
          0.7315875468222939,
          0.7611838901230149,
          0.7318340831996496,
          0.7295248504935363,
          0.7405707983346546,
          0.7158068478786274,
          0.7340797321423719,
          0.7314651983168573,
          0.7094348108701394,
          0.6333763668449677,
          0.62679211233717,
          0.7640901942143159,
          0.7604856718983701,
          0.7640800764271862,
          0.7640968977884672,
          0.7641945027507793,
          0.7407293759974392,
          0.8045064724109745,
          0.7413925128912054,
          0.7405684438078757,
          0.7387771095768633,
          0.7402253940312354,
          0.738278072369529,
          0.7406301293268995,
          0.7381043593228078,
          0.7452230356567233,
          0.738329981688482,
          0.7450317598031518,
          0.7248887373228079,
          0.7305169391814497,
          0.7328186426171636,
          0.6569214830441115,
          0.7631075109650769,
          0.7889356330561504,
          0.6524693930095609,
          0.6518612152185985,
          0.7756434619130571,
          0.7699737578039858,
          0.6863336219547045,
          0.6945951674794443,
          0.7597930655743859,
          0.7037481181971675,
          0.7864324099024311,
          0.773680154205061,
          0.6673533782032244,
          0.7500346422985703,
          0.6958810788876797,
          0.7633984973247443,
          0.7490917498010707,
          0.7513947070374134,
          0.7773658196168031,
          0.7635008180024723,
          0.7679382841896228,
          0.6805608928619818,
          0.6168940313174689,
          0.28867997972289167,
          0.6822214439626304,
          0.6155771211910969,
          0.28828533709912896,
          0.6751330236776419,
          0.6827618617150206,
          0.28818186775559085,
          -0.0013532522743284537,
          0.28833948773706586,
          0.30438704600927535,
          0.6893511654481038,
          0.7014820669556446,
          0.28833367885402295,
          0.2877652972653057,
          0.6401212821087714,
          0.13485919725590811,
          0.6063032132101815,
          0.7577980097256408,
          0.7597516694842644,
          0.765500458016292,
          0.65620637945693,
          0.6323124514770251,
          0.8022959599253798,
          0.80496470814667,
          0.7487789079922418,
          0.7945559316721974,
          0.8013298142652836,
          0.7974224158087133,
          0.7990456239882577,
          0.7962888946328358,
          0.7926745081685078,
          0.819910803885185,
          0.8335693392470791,
          0.839683216273141,
          0.829797002372674,
          0.826899759260949,
          0.8064011262350576,
          0.8107511900675576,
          0.7960693101984285,
          0.807976415711899,
          0.8035836178559619,
          0.8137723616929206,
          0.8195621058809544,
          0.8391529852939745,
          0.8391185526190927,
          0.83829013567705,
          0.838863045899861,
          0.8387348579718571,
          0.8418801047907072,
          0.7216046503743596,
          0.7183760137770276,
          0.8427969255387874,
          0.7330792781753115,
          0.7207844970739719,
          0.71604363067367,
          0.7269314959387774,
          0.7298565133525451,
          0.7463931302733944,
          0.7396877563011249
         ]
        },
        {
         "name": "Best Value",
         "type": "scatter",
         "x": [
          0,
          1,
          2,
          3,
          4,
          5,
          6,
          7,
          8,
          9,
          10,
          11,
          12,
          13,
          14,
          15,
          16,
          17,
          18,
          19,
          20,
          21,
          22,
          23,
          24,
          25,
          26,
          27,
          28,
          29,
          30,
          31,
          32,
          33,
          34,
          35,
          36,
          37,
          38,
          39,
          40,
          41,
          42,
          43,
          44,
          45,
          46,
          47,
          48,
          49,
          50,
          51,
          52,
          53,
          54,
          55,
          56,
          57,
          58,
          59,
          60,
          61,
          62,
          63,
          64,
          65,
          66,
          67,
          68,
          69,
          70,
          71,
          72,
          73,
          74,
          75,
          76,
          77,
          78,
          79,
          80,
          81,
          82,
          83,
          84,
          85,
          86,
          87,
          88,
          89,
          90,
          91,
          92,
          93,
          94,
          95,
          96,
          97,
          98,
          99,
          100,
          101,
          102,
          103,
          104,
          105,
          106,
          107,
          108,
          109,
          110,
          111,
          112,
          113,
          114,
          115,
          116,
          117,
          118,
          119,
          120,
          121,
          122,
          123,
          124,
          125,
          126,
          127,
          128,
          129,
          130,
          131,
          132,
          133,
          134,
          135,
          136,
          137,
          138,
          139,
          140,
          141,
          142,
          143,
          144,
          145,
          146,
          147,
          148,
          149,
          150,
          151,
          152,
          153,
          154,
          155,
          156,
          157,
          158,
          159,
          160,
          161,
          162,
          163,
          164,
          165,
          166,
          167,
          168,
          169,
          170,
          171,
          172,
          173,
          174,
          175,
          176,
          177,
          178,
          179,
          180,
          181,
          182,
          183,
          184,
          185,
          186,
          187,
          188,
          189,
          190,
          191,
          192,
          193,
          194,
          195,
          196,
          197,
          198,
          199
         ],
         "y": [
          0.18690593873684422,
          0.7522673268920743,
          0.7522673268920743,
          0.7522673268920743,
          0.7522673268920743,
          0.7522673268920743,
          0.7522673268920743,
          0.7522673268920743,
          0.7522673268920743,
          0.7522673268920743,
          0.7522673268920743,
          0.7522673268920743,
          0.7522673268920743,
          0.7522673268920743,
          0.7522673268920743,
          0.7522673268920743,
          0.7522673268920743,
          0.7522673268920743,
          0.7522673268920743,
          0.7522673268920743,
          0.7522673268920743,
          0.7522673268920743,
          0.7522673268920743,
          0.7522673268920743,
          0.7522673268920743,
          0.7522673268920743,
          0.7522673268920743,
          0.7522673268920743,
          0.7522673268920743,
          0.7522673268920743,
          0.7522673268920743,
          0.7522673268920743,
          0.7522673268920743,
          0.7522673268920743,
          0.7522673268920743,
          0.7522673268920743,
          0.7522673268920743,
          0.7522673268920743,
          0.7522673268920743,
          0.7522673268920743,
          0.7522673268920743,
          0.7522673268920743,
          0.7522673268920743,
          0.7522673268920743,
          0.7522673268920743,
          0.7522673268920743,
          0.7522673268920743,
          0.7522673268920743,
          0.7522673268920743,
          0.7522673268920743,
          0.7522673268920743,
          0.7522673268920743,
          0.7522673268920743,
          0.7522673268920743,
          0.7522673268920743,
          0.7522673268920743,
          0.7522673268920743,
          0.7522673268920743,
          0.7522673268920743,
          0.7522673268920743,
          0.7522673268920743,
          0.7522673268920743,
          0.7522673268920743,
          0.7522673268920743,
          0.7522673268920743,
          0.7522673268920743,
          0.7522673268920743,
          0.7522673268920743,
          0.7522673268920743,
          0.7522673268920743,
          0.7522673268920743,
          0.7522673268920743,
          0.7522673268920743,
          0.7522673268920743,
          0.7522673268920743,
          0.7522673268920743,
          0.7522673268920743,
          0.7680289237637512,
          0.7680289237637512,
          0.7680289237637512,
          0.7680289237637512,
          0.7680289237637512,
          0.7680289237637512,
          0.7680289237637512,
          0.7680289237637512,
          0.7680289237637512,
          0.7680289237637512,
          0.7680289237637512,
          0.7680289237637512,
          0.7680289237637512,
          0.7680289237637512,
          0.7680289237637512,
          0.7680289237637512,
          0.7680289237637512,
          0.7680289237637512,
          0.7680289237637512,
          0.7680289237637512,
          0.7680289237637512,
          0.7680289237637512,
          0.7680289237637512,
          0.7680289237637512,
          0.7680289237637512,
          0.7680289237637512,
          0.8045064724109745,
          0.8045064724109745,
          0.8045064724109745,
          0.8045064724109745,
          0.8045064724109745,
          0.8045064724109745,
          0.8045064724109745,
          0.8045064724109745,
          0.8045064724109745,
          0.8045064724109745,
          0.8045064724109745,
          0.8045064724109745,
          0.8045064724109745,
          0.8045064724109745,
          0.8045064724109745,
          0.8045064724109745,
          0.8045064724109745,
          0.8045064724109745,
          0.8045064724109745,
          0.8045064724109745,
          0.8045064724109745,
          0.8045064724109745,
          0.8045064724109745,
          0.8045064724109745,
          0.8045064724109745,
          0.8045064724109745,
          0.8045064724109745,
          0.8045064724109745,
          0.8045064724109745,
          0.8045064724109745,
          0.8045064724109745,
          0.8045064724109745,
          0.8045064724109745,
          0.8045064724109745,
          0.8045064724109745,
          0.8045064724109745,
          0.8045064724109745,
          0.8045064724109745,
          0.8045064724109745,
          0.8045064724109745,
          0.8045064724109745,
          0.8045064724109745,
          0.8045064724109745,
          0.8045064724109745,
          0.8045064724109745,
          0.8045064724109745,
          0.8045064724109745,
          0.8045064724109745,
          0.8045064724109745,
          0.8045064724109745,
          0.8045064724109745,
          0.8045064724109745,
          0.8045064724109745,
          0.8045064724109745,
          0.8045064724109745,
          0.8045064724109745,
          0.8045064724109745,
          0.8045064724109745,
          0.8045064724109745,
          0.8045064724109745,
          0.8045064724109745,
          0.80496470814667,
          0.80496470814667,
          0.80496470814667,
          0.80496470814667,
          0.80496470814667,
          0.80496470814667,
          0.80496470814667,
          0.80496470814667,
          0.819910803885185,
          0.8335693392470791,
          0.839683216273141,
          0.839683216273141,
          0.839683216273141,
          0.839683216273141,
          0.839683216273141,
          0.839683216273141,
          0.839683216273141,
          0.839683216273141,
          0.839683216273141,
          0.839683216273141,
          0.839683216273141,
          0.839683216273141,
          0.839683216273141,
          0.839683216273141,
          0.839683216273141,
          0.8418801047907072,
          0.8418801047907072,
          0.8418801047907072,
          0.8427969255387874,
          0.8427969255387874,
          0.8427969255387874,
          0.8427969255387874,
          0.8427969255387874,
          0.8427969255387874,
          0.8427969255387874,
          0.8427969255387874
         ]
        }
       ],
       "layout": {
        "template": {
         "data": {
          "bar": [
           {
            "error_x": {
             "color": "#2a3f5f"
            },
            "error_y": {
             "color": "#2a3f5f"
            },
            "marker": {
             "line": {
              "color": "#E5ECF6",
              "width": 0.5
             },
             "pattern": {
              "fillmode": "overlay",
              "size": 10,
              "solidity": 0.2
             }
            },
            "type": "bar"
           }
          ],
          "barpolar": [
           {
            "marker": {
             "line": {
              "color": "#E5ECF6",
              "width": 0.5
             },
             "pattern": {
              "fillmode": "overlay",
              "size": 10,
              "solidity": 0.2
             }
            },
            "type": "barpolar"
           }
          ],
          "carpet": [
           {
            "aaxis": {
             "endlinecolor": "#2a3f5f",
             "gridcolor": "white",
             "linecolor": "white",
             "minorgridcolor": "white",
             "startlinecolor": "#2a3f5f"
            },
            "baxis": {
             "endlinecolor": "#2a3f5f",
             "gridcolor": "white",
             "linecolor": "white",
             "minorgridcolor": "white",
             "startlinecolor": "#2a3f5f"
            },
            "type": "carpet"
           }
          ],
          "choropleth": [
           {
            "colorbar": {
             "outlinewidth": 0,
             "ticks": ""
            },
            "type": "choropleth"
           }
          ],
          "contour": [
           {
            "colorbar": {
             "outlinewidth": 0,
             "ticks": ""
            },
            "colorscale": [
             [
              0,
              "#0d0887"
             ],
             [
              0.1111111111111111,
              "#46039f"
             ],
             [
              0.2222222222222222,
              "#7201a8"
             ],
             [
              0.3333333333333333,
              "#9c179e"
             ],
             [
              0.4444444444444444,
              "#bd3786"
             ],
             [
              0.5555555555555556,
              "#d8576b"
             ],
             [
              0.6666666666666666,
              "#ed7953"
             ],
             [
              0.7777777777777778,
              "#fb9f3a"
             ],
             [
              0.8888888888888888,
              "#fdca26"
             ],
             [
              1,
              "#f0f921"
             ]
            ],
            "type": "contour"
           }
          ],
          "contourcarpet": [
           {
            "colorbar": {
             "outlinewidth": 0,
             "ticks": ""
            },
            "type": "contourcarpet"
           }
          ],
          "heatmap": [
           {
            "colorbar": {
             "outlinewidth": 0,
             "ticks": ""
            },
            "colorscale": [
             [
              0,
              "#0d0887"
             ],
             [
              0.1111111111111111,
              "#46039f"
             ],
             [
              0.2222222222222222,
              "#7201a8"
             ],
             [
              0.3333333333333333,
              "#9c179e"
             ],
             [
              0.4444444444444444,
              "#bd3786"
             ],
             [
              0.5555555555555556,
              "#d8576b"
             ],
             [
              0.6666666666666666,
              "#ed7953"
             ],
             [
              0.7777777777777778,
              "#fb9f3a"
             ],
             [
              0.8888888888888888,
              "#fdca26"
             ],
             [
              1,
              "#f0f921"
             ]
            ],
            "type": "heatmap"
           }
          ],
          "heatmapgl": [
           {
            "colorbar": {
             "outlinewidth": 0,
             "ticks": ""
            },
            "colorscale": [
             [
              0,
              "#0d0887"
             ],
             [
              0.1111111111111111,
              "#46039f"
             ],
             [
              0.2222222222222222,
              "#7201a8"
             ],
             [
              0.3333333333333333,
              "#9c179e"
             ],
             [
              0.4444444444444444,
              "#bd3786"
             ],
             [
              0.5555555555555556,
              "#d8576b"
             ],
             [
              0.6666666666666666,
              "#ed7953"
             ],
             [
              0.7777777777777778,
              "#fb9f3a"
             ],
             [
              0.8888888888888888,
              "#fdca26"
             ],
             [
              1,
              "#f0f921"
             ]
            ],
            "type": "heatmapgl"
           }
          ],
          "histogram": [
           {
            "marker": {
             "pattern": {
              "fillmode": "overlay",
              "size": 10,
              "solidity": 0.2
             }
            },
            "type": "histogram"
           }
          ],
          "histogram2d": [
           {
            "colorbar": {
             "outlinewidth": 0,
             "ticks": ""
            },
            "colorscale": [
             [
              0,
              "#0d0887"
             ],
             [
              0.1111111111111111,
              "#46039f"
             ],
             [
              0.2222222222222222,
              "#7201a8"
             ],
             [
              0.3333333333333333,
              "#9c179e"
             ],
             [
              0.4444444444444444,
              "#bd3786"
             ],
             [
              0.5555555555555556,
              "#d8576b"
             ],
             [
              0.6666666666666666,
              "#ed7953"
             ],
             [
              0.7777777777777778,
              "#fb9f3a"
             ],
             [
              0.8888888888888888,
              "#fdca26"
             ],
             [
              1,
              "#f0f921"
             ]
            ],
            "type": "histogram2d"
           }
          ],
          "histogram2dcontour": [
           {
            "colorbar": {
             "outlinewidth": 0,
             "ticks": ""
            },
            "colorscale": [
             [
              0,
              "#0d0887"
             ],
             [
              0.1111111111111111,
              "#46039f"
             ],
             [
              0.2222222222222222,
              "#7201a8"
             ],
             [
              0.3333333333333333,
              "#9c179e"
             ],
             [
              0.4444444444444444,
              "#bd3786"
             ],
             [
              0.5555555555555556,
              "#d8576b"
             ],
             [
              0.6666666666666666,
              "#ed7953"
             ],
             [
              0.7777777777777778,
              "#fb9f3a"
             ],
             [
              0.8888888888888888,
              "#fdca26"
             ],
             [
              1,
              "#f0f921"
             ]
            ],
            "type": "histogram2dcontour"
           }
          ],
          "mesh3d": [
           {
            "colorbar": {
             "outlinewidth": 0,
             "ticks": ""
            },
            "type": "mesh3d"
           }
          ],
          "parcoords": [
           {
            "line": {
             "colorbar": {
              "outlinewidth": 0,
              "ticks": ""
             }
            },
            "type": "parcoords"
           }
          ],
          "pie": [
           {
            "automargin": true,
            "type": "pie"
           }
          ],
          "scatter": [
           {
            "marker": {
             "colorbar": {
              "outlinewidth": 0,
              "ticks": ""
             }
            },
            "type": "scatter"
           }
          ],
          "scatter3d": [
           {
            "line": {
             "colorbar": {
              "outlinewidth": 0,
              "ticks": ""
             }
            },
            "marker": {
             "colorbar": {
              "outlinewidth": 0,
              "ticks": ""
             }
            },
            "type": "scatter3d"
           }
          ],
          "scattercarpet": [
           {
            "marker": {
             "colorbar": {
              "outlinewidth": 0,
              "ticks": ""
             }
            },
            "type": "scattercarpet"
           }
          ],
          "scattergeo": [
           {
            "marker": {
             "colorbar": {
              "outlinewidth": 0,
              "ticks": ""
             }
            },
            "type": "scattergeo"
           }
          ],
          "scattergl": [
           {
            "marker": {
             "colorbar": {
              "outlinewidth": 0,
              "ticks": ""
             }
            },
            "type": "scattergl"
           }
          ],
          "scattermapbox": [
           {
            "marker": {
             "colorbar": {
              "outlinewidth": 0,
              "ticks": ""
             }
            },
            "type": "scattermapbox"
           }
          ],
          "scatterpolar": [
           {
            "marker": {
             "colorbar": {
              "outlinewidth": 0,
              "ticks": ""
             }
            },
            "type": "scatterpolar"
           }
          ],
          "scatterpolargl": [
           {
            "marker": {
             "colorbar": {
              "outlinewidth": 0,
              "ticks": ""
             }
            },
            "type": "scatterpolargl"
           }
          ],
          "scatterternary": [
           {
            "marker": {
             "colorbar": {
              "outlinewidth": 0,
              "ticks": ""
             }
            },
            "type": "scatterternary"
           }
          ],
          "surface": [
           {
            "colorbar": {
             "outlinewidth": 0,
             "ticks": ""
            },
            "colorscale": [
             [
              0,
              "#0d0887"
             ],
             [
              0.1111111111111111,
              "#46039f"
             ],
             [
              0.2222222222222222,
              "#7201a8"
             ],
             [
              0.3333333333333333,
              "#9c179e"
             ],
             [
              0.4444444444444444,
              "#bd3786"
             ],
             [
              0.5555555555555556,
              "#d8576b"
             ],
             [
              0.6666666666666666,
              "#ed7953"
             ],
             [
              0.7777777777777778,
              "#fb9f3a"
             ],
             [
              0.8888888888888888,
              "#fdca26"
             ],
             [
              1,
              "#f0f921"
             ]
            ],
            "type": "surface"
           }
          ],
          "table": [
           {
            "cells": {
             "fill": {
              "color": "#EBF0F8"
             },
             "line": {
              "color": "white"
             }
            },
            "header": {
             "fill": {
              "color": "#C8D4E3"
             },
             "line": {
              "color": "white"
             }
            },
            "type": "table"
           }
          ]
         },
         "layout": {
          "annotationdefaults": {
           "arrowcolor": "#2a3f5f",
           "arrowhead": 0,
           "arrowwidth": 1
          },
          "autotypenumbers": "strict",
          "coloraxis": {
           "colorbar": {
            "outlinewidth": 0,
            "ticks": ""
           }
          },
          "colorscale": {
           "diverging": [
            [
             0,
             "#8e0152"
            ],
            [
             0.1,
             "#c51b7d"
            ],
            [
             0.2,
             "#de77ae"
            ],
            [
             0.3,
             "#f1b6da"
            ],
            [
             0.4,
             "#fde0ef"
            ],
            [
             0.5,
             "#f7f7f7"
            ],
            [
             0.6,
             "#e6f5d0"
            ],
            [
             0.7,
             "#b8e186"
            ],
            [
             0.8,
             "#7fbc41"
            ],
            [
             0.9,
             "#4d9221"
            ],
            [
             1,
             "#276419"
            ]
           ],
           "sequential": [
            [
             0,
             "#0d0887"
            ],
            [
             0.1111111111111111,
             "#46039f"
            ],
            [
             0.2222222222222222,
             "#7201a8"
            ],
            [
             0.3333333333333333,
             "#9c179e"
            ],
            [
             0.4444444444444444,
             "#bd3786"
            ],
            [
             0.5555555555555556,
             "#d8576b"
            ],
            [
             0.6666666666666666,
             "#ed7953"
            ],
            [
             0.7777777777777778,
             "#fb9f3a"
            ],
            [
             0.8888888888888888,
             "#fdca26"
            ],
            [
             1,
             "#f0f921"
            ]
           ],
           "sequentialminus": [
            [
             0,
             "#0d0887"
            ],
            [
             0.1111111111111111,
             "#46039f"
            ],
            [
             0.2222222222222222,
             "#7201a8"
            ],
            [
             0.3333333333333333,
             "#9c179e"
            ],
            [
             0.4444444444444444,
             "#bd3786"
            ],
            [
             0.5555555555555556,
             "#d8576b"
            ],
            [
             0.6666666666666666,
             "#ed7953"
            ],
            [
             0.7777777777777778,
             "#fb9f3a"
            ],
            [
             0.8888888888888888,
             "#fdca26"
            ],
            [
             1,
             "#f0f921"
            ]
           ]
          },
          "colorway": [
           "#636efa",
           "#EF553B",
           "#00cc96",
           "#ab63fa",
           "#FFA15A",
           "#19d3f3",
           "#FF6692",
           "#B6E880",
           "#FF97FF",
           "#FECB52"
          ],
          "font": {
           "color": "#2a3f5f"
          },
          "geo": {
           "bgcolor": "white",
           "lakecolor": "white",
           "landcolor": "#E5ECF6",
           "showlakes": true,
           "showland": true,
           "subunitcolor": "white"
          },
          "hoverlabel": {
           "align": "left"
          },
          "hovermode": "closest",
          "mapbox": {
           "style": "light"
          },
          "paper_bgcolor": "white",
          "plot_bgcolor": "#E5ECF6",
          "polar": {
           "angularaxis": {
            "gridcolor": "white",
            "linecolor": "white",
            "ticks": ""
           },
           "bgcolor": "#E5ECF6",
           "radialaxis": {
            "gridcolor": "white",
            "linecolor": "white",
            "ticks": ""
           }
          },
          "scene": {
           "xaxis": {
            "backgroundcolor": "#E5ECF6",
            "gridcolor": "white",
            "gridwidth": 2,
            "linecolor": "white",
            "showbackground": true,
            "ticks": "",
            "zerolinecolor": "white"
           },
           "yaxis": {
            "backgroundcolor": "#E5ECF6",
            "gridcolor": "white",
            "gridwidth": 2,
            "linecolor": "white",
            "showbackground": true,
            "ticks": "",
            "zerolinecolor": "white"
           },
           "zaxis": {
            "backgroundcolor": "#E5ECF6",
            "gridcolor": "white",
            "gridwidth": 2,
            "linecolor": "white",
            "showbackground": true,
            "ticks": "",
            "zerolinecolor": "white"
           }
          },
          "shapedefaults": {
           "line": {
            "color": "#2a3f5f"
           }
          },
          "ternary": {
           "aaxis": {
            "gridcolor": "white",
            "linecolor": "white",
            "ticks": ""
           },
           "baxis": {
            "gridcolor": "white",
            "linecolor": "white",
            "ticks": ""
           },
           "bgcolor": "#E5ECF6",
           "caxis": {
            "gridcolor": "white",
            "linecolor": "white",
            "ticks": ""
           }
          },
          "title": {
           "x": 0.05
          },
          "xaxis": {
           "automargin": true,
           "gridcolor": "white",
           "linecolor": "white",
           "ticks": "",
           "title": {
            "standoff": 15
           },
           "zerolinecolor": "white",
           "zerolinewidth": 2
          },
          "yaxis": {
           "automargin": true,
           "gridcolor": "white",
           "linecolor": "white",
           "ticks": "",
           "title": {
            "standoff": 15
           },
           "zerolinecolor": "white",
           "zerolinewidth": 2
          }
         }
        },
        "title": {
         "text": "Optimization History Plot"
        },
        "xaxis": {
         "title": {
          "text": "#Trials"
         }
        },
        "yaxis": {
         "title": {
          "text": "Objective Value"
         }
        }
       }
      }
     },
     "metadata": {},
     "output_type": "display_data"
    },
    {
     "data": {
      "application/vnd.plotly.v1+json": {
       "config": {
        "plotlyServerURL": "https://plot.ly"
       },
       "data": [
        {
         "cliponaxis": false,
         "hovertemplate": [
          "max_depth (IntUniformDistribution): 0.001482964933233775<extra></extra>",
          "n_estimators (IntUniformDistribution): 0.004061178656596264<extra></extra>",
          "bootstrap (CategoricalDistribution): 0.012866729593342388<extra></extra>",
          "min_samples_split (UniformDistribution): 0.04274029010615676<extra></extra>",
          "max_features (CategoricalDistribution): 0.06221469067021597<extra></extra>",
          "min_samples_leaf (UniformDistribution): 0.8766341460404549<extra></extra>"
         ],
         "marker": {
          "color": "rgb(66,146,198)"
         },
         "orientation": "h",
         "text": [
          "0.001482964933233775",
          "0.004061178656596264",
          "0.012866729593342388",
          "0.04274029010615676",
          "0.06221469067021597",
          "0.8766341460404549"
         ],
         "textposition": "outside",
         "texttemplate": "%{text:.2f}",
         "type": "bar",
         "x": [
          0.001482964933233775,
          0.004061178656596264,
          0.012866729593342388,
          0.04274029010615676,
          0.06221469067021597,
          0.8766341460404549
         ],
         "y": [
          "max_depth",
          "n_estimators",
          "bootstrap",
          "min_samples_split",
          "max_features",
          "min_samples_leaf"
         ]
        }
       ],
       "layout": {
        "showlegend": false,
        "template": {
         "data": {
          "bar": [
           {
            "error_x": {
             "color": "#2a3f5f"
            },
            "error_y": {
             "color": "#2a3f5f"
            },
            "marker": {
             "line": {
              "color": "#E5ECF6",
              "width": 0.5
             },
             "pattern": {
              "fillmode": "overlay",
              "size": 10,
              "solidity": 0.2
             }
            },
            "type": "bar"
           }
          ],
          "barpolar": [
           {
            "marker": {
             "line": {
              "color": "#E5ECF6",
              "width": 0.5
             },
             "pattern": {
              "fillmode": "overlay",
              "size": 10,
              "solidity": 0.2
             }
            },
            "type": "barpolar"
           }
          ],
          "carpet": [
           {
            "aaxis": {
             "endlinecolor": "#2a3f5f",
             "gridcolor": "white",
             "linecolor": "white",
             "minorgridcolor": "white",
             "startlinecolor": "#2a3f5f"
            },
            "baxis": {
             "endlinecolor": "#2a3f5f",
             "gridcolor": "white",
             "linecolor": "white",
             "minorgridcolor": "white",
             "startlinecolor": "#2a3f5f"
            },
            "type": "carpet"
           }
          ],
          "choropleth": [
           {
            "colorbar": {
             "outlinewidth": 0,
             "ticks": ""
            },
            "type": "choropleth"
           }
          ],
          "contour": [
           {
            "colorbar": {
             "outlinewidth": 0,
             "ticks": ""
            },
            "colorscale": [
             [
              0,
              "#0d0887"
             ],
             [
              0.1111111111111111,
              "#46039f"
             ],
             [
              0.2222222222222222,
              "#7201a8"
             ],
             [
              0.3333333333333333,
              "#9c179e"
             ],
             [
              0.4444444444444444,
              "#bd3786"
             ],
             [
              0.5555555555555556,
              "#d8576b"
             ],
             [
              0.6666666666666666,
              "#ed7953"
             ],
             [
              0.7777777777777778,
              "#fb9f3a"
             ],
             [
              0.8888888888888888,
              "#fdca26"
             ],
             [
              1,
              "#f0f921"
             ]
            ],
            "type": "contour"
           }
          ],
          "contourcarpet": [
           {
            "colorbar": {
             "outlinewidth": 0,
             "ticks": ""
            },
            "type": "contourcarpet"
           }
          ],
          "heatmap": [
           {
            "colorbar": {
             "outlinewidth": 0,
             "ticks": ""
            },
            "colorscale": [
             [
              0,
              "#0d0887"
             ],
             [
              0.1111111111111111,
              "#46039f"
             ],
             [
              0.2222222222222222,
              "#7201a8"
             ],
             [
              0.3333333333333333,
              "#9c179e"
             ],
             [
              0.4444444444444444,
              "#bd3786"
             ],
             [
              0.5555555555555556,
              "#d8576b"
             ],
             [
              0.6666666666666666,
              "#ed7953"
             ],
             [
              0.7777777777777778,
              "#fb9f3a"
             ],
             [
              0.8888888888888888,
              "#fdca26"
             ],
             [
              1,
              "#f0f921"
             ]
            ],
            "type": "heatmap"
           }
          ],
          "heatmapgl": [
           {
            "colorbar": {
             "outlinewidth": 0,
             "ticks": ""
            },
            "colorscale": [
             [
              0,
              "#0d0887"
             ],
             [
              0.1111111111111111,
              "#46039f"
             ],
             [
              0.2222222222222222,
              "#7201a8"
             ],
             [
              0.3333333333333333,
              "#9c179e"
             ],
             [
              0.4444444444444444,
              "#bd3786"
             ],
             [
              0.5555555555555556,
              "#d8576b"
             ],
             [
              0.6666666666666666,
              "#ed7953"
             ],
             [
              0.7777777777777778,
              "#fb9f3a"
             ],
             [
              0.8888888888888888,
              "#fdca26"
             ],
             [
              1,
              "#f0f921"
             ]
            ],
            "type": "heatmapgl"
           }
          ],
          "histogram": [
           {
            "marker": {
             "pattern": {
              "fillmode": "overlay",
              "size": 10,
              "solidity": 0.2
             }
            },
            "type": "histogram"
           }
          ],
          "histogram2d": [
           {
            "colorbar": {
             "outlinewidth": 0,
             "ticks": ""
            },
            "colorscale": [
             [
              0,
              "#0d0887"
             ],
             [
              0.1111111111111111,
              "#46039f"
             ],
             [
              0.2222222222222222,
              "#7201a8"
             ],
             [
              0.3333333333333333,
              "#9c179e"
             ],
             [
              0.4444444444444444,
              "#bd3786"
             ],
             [
              0.5555555555555556,
              "#d8576b"
             ],
             [
              0.6666666666666666,
              "#ed7953"
             ],
             [
              0.7777777777777778,
              "#fb9f3a"
             ],
             [
              0.8888888888888888,
              "#fdca26"
             ],
             [
              1,
              "#f0f921"
             ]
            ],
            "type": "histogram2d"
           }
          ],
          "histogram2dcontour": [
           {
            "colorbar": {
             "outlinewidth": 0,
             "ticks": ""
            },
            "colorscale": [
             [
              0,
              "#0d0887"
             ],
             [
              0.1111111111111111,
              "#46039f"
             ],
             [
              0.2222222222222222,
              "#7201a8"
             ],
             [
              0.3333333333333333,
              "#9c179e"
             ],
             [
              0.4444444444444444,
              "#bd3786"
             ],
             [
              0.5555555555555556,
              "#d8576b"
             ],
             [
              0.6666666666666666,
              "#ed7953"
             ],
             [
              0.7777777777777778,
              "#fb9f3a"
             ],
             [
              0.8888888888888888,
              "#fdca26"
             ],
             [
              1,
              "#f0f921"
             ]
            ],
            "type": "histogram2dcontour"
           }
          ],
          "mesh3d": [
           {
            "colorbar": {
             "outlinewidth": 0,
             "ticks": ""
            },
            "type": "mesh3d"
           }
          ],
          "parcoords": [
           {
            "line": {
             "colorbar": {
              "outlinewidth": 0,
              "ticks": ""
             }
            },
            "type": "parcoords"
           }
          ],
          "pie": [
           {
            "automargin": true,
            "type": "pie"
           }
          ],
          "scatter": [
           {
            "marker": {
             "colorbar": {
              "outlinewidth": 0,
              "ticks": ""
             }
            },
            "type": "scatter"
           }
          ],
          "scatter3d": [
           {
            "line": {
             "colorbar": {
              "outlinewidth": 0,
              "ticks": ""
             }
            },
            "marker": {
             "colorbar": {
              "outlinewidth": 0,
              "ticks": ""
             }
            },
            "type": "scatter3d"
           }
          ],
          "scattercarpet": [
           {
            "marker": {
             "colorbar": {
              "outlinewidth": 0,
              "ticks": ""
             }
            },
            "type": "scattercarpet"
           }
          ],
          "scattergeo": [
           {
            "marker": {
             "colorbar": {
              "outlinewidth": 0,
              "ticks": ""
             }
            },
            "type": "scattergeo"
           }
          ],
          "scattergl": [
           {
            "marker": {
             "colorbar": {
              "outlinewidth": 0,
              "ticks": ""
             }
            },
            "type": "scattergl"
           }
          ],
          "scattermapbox": [
           {
            "marker": {
             "colorbar": {
              "outlinewidth": 0,
              "ticks": ""
             }
            },
            "type": "scattermapbox"
           }
          ],
          "scatterpolar": [
           {
            "marker": {
             "colorbar": {
              "outlinewidth": 0,
              "ticks": ""
             }
            },
            "type": "scatterpolar"
           }
          ],
          "scatterpolargl": [
           {
            "marker": {
             "colorbar": {
              "outlinewidth": 0,
              "ticks": ""
             }
            },
            "type": "scatterpolargl"
           }
          ],
          "scatterternary": [
           {
            "marker": {
             "colorbar": {
              "outlinewidth": 0,
              "ticks": ""
             }
            },
            "type": "scatterternary"
           }
          ],
          "surface": [
           {
            "colorbar": {
             "outlinewidth": 0,
             "ticks": ""
            },
            "colorscale": [
             [
              0,
              "#0d0887"
             ],
             [
              0.1111111111111111,
              "#46039f"
             ],
             [
              0.2222222222222222,
              "#7201a8"
             ],
             [
              0.3333333333333333,
              "#9c179e"
             ],
             [
              0.4444444444444444,
              "#bd3786"
             ],
             [
              0.5555555555555556,
              "#d8576b"
             ],
             [
              0.6666666666666666,
              "#ed7953"
             ],
             [
              0.7777777777777778,
              "#fb9f3a"
             ],
             [
              0.8888888888888888,
              "#fdca26"
             ],
             [
              1,
              "#f0f921"
             ]
            ],
            "type": "surface"
           }
          ],
          "table": [
           {
            "cells": {
             "fill": {
              "color": "#EBF0F8"
             },
             "line": {
              "color": "white"
             }
            },
            "header": {
             "fill": {
              "color": "#C8D4E3"
             },
             "line": {
              "color": "white"
             }
            },
            "type": "table"
           }
          ]
         },
         "layout": {
          "annotationdefaults": {
           "arrowcolor": "#2a3f5f",
           "arrowhead": 0,
           "arrowwidth": 1
          },
          "autotypenumbers": "strict",
          "coloraxis": {
           "colorbar": {
            "outlinewidth": 0,
            "ticks": ""
           }
          },
          "colorscale": {
           "diverging": [
            [
             0,
             "#8e0152"
            ],
            [
             0.1,
             "#c51b7d"
            ],
            [
             0.2,
             "#de77ae"
            ],
            [
             0.3,
             "#f1b6da"
            ],
            [
             0.4,
             "#fde0ef"
            ],
            [
             0.5,
             "#f7f7f7"
            ],
            [
             0.6,
             "#e6f5d0"
            ],
            [
             0.7,
             "#b8e186"
            ],
            [
             0.8,
             "#7fbc41"
            ],
            [
             0.9,
             "#4d9221"
            ],
            [
             1,
             "#276419"
            ]
           ],
           "sequential": [
            [
             0,
             "#0d0887"
            ],
            [
             0.1111111111111111,
             "#46039f"
            ],
            [
             0.2222222222222222,
             "#7201a8"
            ],
            [
             0.3333333333333333,
             "#9c179e"
            ],
            [
             0.4444444444444444,
             "#bd3786"
            ],
            [
             0.5555555555555556,
             "#d8576b"
            ],
            [
             0.6666666666666666,
             "#ed7953"
            ],
            [
             0.7777777777777778,
             "#fb9f3a"
            ],
            [
             0.8888888888888888,
             "#fdca26"
            ],
            [
             1,
             "#f0f921"
            ]
           ],
           "sequentialminus": [
            [
             0,
             "#0d0887"
            ],
            [
             0.1111111111111111,
             "#46039f"
            ],
            [
             0.2222222222222222,
             "#7201a8"
            ],
            [
             0.3333333333333333,
             "#9c179e"
            ],
            [
             0.4444444444444444,
             "#bd3786"
            ],
            [
             0.5555555555555556,
             "#d8576b"
            ],
            [
             0.6666666666666666,
             "#ed7953"
            ],
            [
             0.7777777777777778,
             "#fb9f3a"
            ],
            [
             0.8888888888888888,
             "#fdca26"
            ],
            [
             1,
             "#f0f921"
            ]
           ]
          },
          "colorway": [
           "#636efa",
           "#EF553B",
           "#00cc96",
           "#ab63fa",
           "#FFA15A",
           "#19d3f3",
           "#FF6692",
           "#B6E880",
           "#FF97FF",
           "#FECB52"
          ],
          "font": {
           "color": "#2a3f5f"
          },
          "geo": {
           "bgcolor": "white",
           "lakecolor": "white",
           "landcolor": "#E5ECF6",
           "showlakes": true,
           "showland": true,
           "subunitcolor": "white"
          },
          "hoverlabel": {
           "align": "left"
          },
          "hovermode": "closest",
          "mapbox": {
           "style": "light"
          },
          "paper_bgcolor": "white",
          "plot_bgcolor": "#E5ECF6",
          "polar": {
           "angularaxis": {
            "gridcolor": "white",
            "linecolor": "white",
            "ticks": ""
           },
           "bgcolor": "#E5ECF6",
           "radialaxis": {
            "gridcolor": "white",
            "linecolor": "white",
            "ticks": ""
           }
          },
          "scene": {
           "xaxis": {
            "backgroundcolor": "#E5ECF6",
            "gridcolor": "white",
            "gridwidth": 2,
            "linecolor": "white",
            "showbackground": true,
            "ticks": "",
            "zerolinecolor": "white"
           },
           "yaxis": {
            "backgroundcolor": "#E5ECF6",
            "gridcolor": "white",
            "gridwidth": 2,
            "linecolor": "white",
            "showbackground": true,
            "ticks": "",
            "zerolinecolor": "white"
           },
           "zaxis": {
            "backgroundcolor": "#E5ECF6",
            "gridcolor": "white",
            "gridwidth": 2,
            "linecolor": "white",
            "showbackground": true,
            "ticks": "",
            "zerolinecolor": "white"
           }
          },
          "shapedefaults": {
           "line": {
            "color": "#2a3f5f"
           }
          },
          "ternary": {
           "aaxis": {
            "gridcolor": "white",
            "linecolor": "white",
            "ticks": ""
           },
           "baxis": {
            "gridcolor": "white",
            "linecolor": "white",
            "ticks": ""
           },
           "bgcolor": "#E5ECF6",
           "caxis": {
            "gridcolor": "white",
            "linecolor": "white",
            "ticks": ""
           }
          },
          "title": {
           "x": 0.05
          },
          "xaxis": {
           "automargin": true,
           "gridcolor": "white",
           "linecolor": "white",
           "ticks": "",
           "title": {
            "standoff": 15
           },
           "zerolinecolor": "white",
           "zerolinewidth": 2
          },
          "yaxis": {
           "automargin": true,
           "gridcolor": "white",
           "linecolor": "white",
           "ticks": "",
           "title": {
            "standoff": 15
           },
           "zerolinecolor": "white",
           "zerolinewidth": 2
          }
         }
        },
        "title": {
         "text": "Hyperparameter Importances"
        },
        "xaxis": {
         "title": {
          "text": "Importance for Objective Value"
         }
        },
        "yaxis": {
         "title": {
          "text": "Hyperparameter"
         }
        }
       }
      }
     },
     "metadata": {},
     "output_type": "display_data"
    },
    {
     "data": {
      "application/vnd.plotly.v1+json": {
       "config": {
        "plotlyServerURL": "https://plot.ly"
       },
       "data": [
        {
         "marker": {
          "color": [
           0,
           1,
           2,
           3,
           4,
           5,
           6,
           7,
           8,
           9,
           10,
           11,
           12,
           13,
           14,
           15,
           16,
           17,
           18,
           19,
           20,
           21,
           22,
           23,
           24,
           25,
           26,
           27,
           28,
           29,
           30,
           31,
           32,
           33,
           34,
           35,
           36,
           37,
           38,
           39,
           40,
           41,
           42,
           43,
           44,
           45,
           46,
           47,
           48,
           49,
           50,
           51,
           52,
           53,
           54,
           55,
           56,
           57,
           58,
           59,
           60,
           61,
           62,
           63,
           64,
           65,
           66,
           67,
           68,
           69,
           70,
           71,
           72,
           73,
           74,
           75,
           76,
           77,
           78,
           79,
           80,
           81,
           82,
           83,
           84,
           85,
           86,
           87,
           88,
           89,
           90,
           91,
           92,
           93,
           94,
           95,
           96,
           97,
           98,
           99,
           100,
           101,
           102,
           103,
           104,
           105,
           106,
           107,
           108,
           109,
           110,
           111,
           112,
           113,
           114,
           115,
           116,
           117,
           118,
           119,
           120,
           121,
           122,
           123,
           124,
           125,
           126,
           127,
           128,
           129,
           130,
           131,
           132,
           133,
           134,
           135,
           136,
           137,
           138,
           139,
           140,
           141,
           142,
           143,
           144,
           145,
           146,
           147,
           148,
           149,
           150,
           151,
           152,
           153,
           154,
           155,
           156,
           157,
           158,
           159,
           160,
           161,
           162,
           163,
           164,
           165,
           166,
           167,
           168,
           169,
           170,
           171,
           172,
           173,
           174,
           175,
           176,
           177,
           178,
           179,
           180,
           181,
           182,
           183,
           184,
           185,
           186,
           187,
           188,
           189,
           190,
           191,
           192,
           193,
           194,
           195,
           196,
           197,
           198,
           199
          ],
          "colorbar": {
           "title": {
            "text": "#Trials"
           },
           "x": 1,
           "xpad": 40
          },
          "colorscale": [
           [
            0,
            "rgb(247,251,255)"
           ],
           [
            0.125,
            "rgb(222,235,247)"
           ],
           [
            0.25,
            "rgb(198,219,239)"
           ],
           [
            0.375,
            "rgb(158,202,225)"
           ],
           [
            0.5,
            "rgb(107,174,214)"
           ],
           [
            0.625,
            "rgb(66,146,198)"
           ],
           [
            0.75,
            "rgb(33,113,181)"
           ],
           [
            0.875,
            "rgb(8,81,156)"
           ],
           [
            1,
            "rgb(8,48,107)"
           ]
          ],
          "line": {
           "color": "Grey",
           "width": 0.5
          },
          "showscale": true
         },
         "mode": "markers",
         "showlegend": false,
         "type": "scatter",
         "x": [
          true,
          true,
          false,
          true,
          true,
          true,
          false,
          true,
          true,
          true,
          true,
          true,
          true,
          false,
          true,
          true,
          true,
          false,
          false,
          false,
          false,
          false,
          false,
          false,
          false,
          false,
          false,
          false,
          false,
          false,
          false,
          false,
          false,
          false,
          false,
          false,
          false,
          false,
          false,
          false,
          false,
          false,
          false,
          false,
          false,
          true,
          true,
          true,
          true,
          true,
          true,
          true,
          true,
          true,
          true,
          true,
          true,
          false,
          false,
          false,
          false,
          false,
          false,
          false,
          false,
          false,
          false,
          false,
          false,
          false,
          false,
          false,
          false,
          false,
          false,
          false,
          false,
          false,
          false,
          false,
          false,
          false,
          false,
          false,
          false,
          false,
          false,
          false,
          false,
          false,
          false,
          false,
          false,
          false,
          false,
          false,
          false,
          false,
          false,
          false,
          false,
          false,
          false,
          false,
          false,
          false,
          false,
          false,
          false,
          false,
          false,
          false,
          false,
          false,
          true,
          true,
          true,
          true,
          false,
          true,
          true,
          true,
          false,
          false,
          false,
          false,
          false,
          false,
          true,
          true,
          true,
          false,
          false,
          false,
          false,
          false,
          true,
          true,
          true,
          true,
          true,
          true,
          true,
          true,
          true,
          true,
          true,
          true,
          true,
          true,
          true,
          true,
          true,
          true,
          true,
          true,
          true,
          true,
          true,
          true,
          true,
          true,
          true,
          true,
          true,
          true,
          true,
          true,
          true,
          true,
          true,
          true,
          true,
          true,
          true,
          true,
          true,
          true,
          true,
          true,
          true,
          true,
          true,
          true,
          true,
          true,
          true,
          true,
          true,
          true,
          true,
          true,
          true,
          true,
          true,
          true,
          true,
          true,
          true,
          true
         ],
         "xaxis": "x",
         "y": [
          0.18690593873684422,
          0.7522673268920743,
          0.2338431710328644,
          -0.0013301517740015312,
          0.6137062265008765,
          0.16194840218469625,
          0.13681908824762234,
          0.4710324668464513,
          0.2792255974921575,
          -0.0013407015385649812,
          0.18549388628374747,
          0.14621986898935171,
          0.287850853481464,
          0.5432540668498562,
          0.17957788238346523,
          0.15647704144636831,
          -0.0013486097333834878,
          0.6594943271582097,
          0.6901633680981666,
          0.6835395710052412,
          0.6886971884126672,
          0.6828614593522937,
          0.5605276126268232,
          0.5663139578781541,
          0.5607584265811723,
          0.6126688229076873,
          0.5628379118774742,
          0.5576325343064334,
          0.5630941315908998,
          0.5576325343064336,
          0.653480348098505,
          0.6379948785980425,
          0.5570053871047312,
          0.6858518839261715,
          0.6860724919210556,
          0.6870054511467084,
          0.6950688655989212,
          0.5553386540957125,
          0.6949326892297025,
          0.6950930233655775,
          0.5553386540957129,
          0.718676985422443,
          0.7172600934728091,
          0.5553386540957129,
          0.15767743222805325,
          0.6214135905320622,
          -0.00135714017519184,
          0.33851622267835724,
          0.626955353821885,
          0.610164278961931,
          0.6087245962772553,
          0.5499946982775368,
          0.5877982918861344,
          0.37614939216238275,
          0.41047493143166697,
          0.3837824681178251,
          0.26015491839110383,
          0.3903963725964843,
          0.4775600380717894,
          0.6013310131344685,
          0.5553386540957125,
          0.276776497910051,
          0.46710358843979316,
          0.6491075677693376,
          0.2767764979100509,
          0.2767764979100509,
          0.2767764979100509,
          0.276776497910051,
          0.5553386540957126,
          0.6606320414735215,
          0.6475831284792585,
          0.6655656046285479,
          0.6518340948531478,
          0.6571542601731999,
          0.6397795308981464,
          0.6555326829452285,
          0.690950530534683,
          0.7680289237637512,
          0.6915273976217292,
          0.6637349147469912,
          0.6538036704729315,
          0.6470613731700471,
          0.6703632052004993,
          0.6702600565360733,
          0.6551232583120037,
          0.7640901942143159,
          0.7315875468222939,
          0.7611838901230149,
          0.7318340831996496,
          0.7295248504935363,
          0.7405707983346546,
          0.7158068478786274,
          0.7340797321423719,
          0.7314651983168573,
          0.7094348108701394,
          0.6333763668449677,
          0.62679211233717,
          0.7640901942143159,
          0.7604856718983701,
          0.7640800764271862,
          0.7640968977884672,
          0.7641945027507793,
          0.7407293759974392,
          0.8045064724109745,
          0.7413925128912054,
          0.7405684438078757,
          0.7387771095768633,
          0.7402253940312354,
          0.738278072369529,
          0.7406301293268995,
          0.7381043593228078,
          0.7452230356567233,
          0.738329981688482,
          0.7450317598031518,
          0.7248887373228079,
          0.7305169391814497,
          0.7328186426171636,
          0.6569214830441115,
          0.7631075109650769,
          0.7889356330561504,
          0.6524693930095609,
          0.6518612152185985,
          0.7756434619130571,
          0.7699737578039858,
          0.6863336219547045,
          0.6945951674794443,
          0.7597930655743859,
          0.7037481181971675,
          0.7864324099024311,
          0.773680154205061,
          0.6673533782032244,
          0.7500346422985703,
          0.6958810788876797,
          0.7633984973247443,
          0.7490917498010707,
          0.7513947070374134,
          0.7773658196168031,
          0.7635008180024723,
          0.7679382841896228,
          0.6805608928619818,
          0.6168940313174689,
          0.28867997972289167,
          0.6822214439626304,
          0.6155771211910969,
          0.28828533709912896,
          0.6751330236776419,
          0.6827618617150206,
          0.28818186775559085,
          -0.0013532522743284537,
          0.28833948773706586,
          0.30438704600927535,
          0.6893511654481038,
          0.7014820669556446,
          0.28833367885402295,
          0.2877652972653057,
          0.6401212821087714,
          0.13485919725590811,
          0.6063032132101815,
          0.7577980097256408,
          0.7597516694842644,
          0.765500458016292,
          0.65620637945693,
          0.6323124514770251,
          0.8022959599253798,
          0.80496470814667,
          0.7487789079922418,
          0.7945559316721974,
          0.8013298142652836,
          0.7974224158087133,
          0.7990456239882577,
          0.7962888946328358,
          0.7926745081685078,
          0.819910803885185,
          0.8335693392470791,
          0.839683216273141,
          0.829797002372674,
          0.826899759260949,
          0.8064011262350576,
          0.8107511900675576,
          0.7960693101984285,
          0.807976415711899,
          0.8035836178559619,
          0.8137723616929206,
          0.8195621058809544,
          0.8391529852939745,
          0.8391185526190927,
          0.83829013567705,
          0.838863045899861,
          0.8387348579718571,
          0.8418801047907072,
          0.7216046503743596,
          0.7183760137770276,
          0.8427969255387874,
          0.7330792781753115,
          0.7207844970739719,
          0.71604363067367,
          0.7269314959387774,
          0.7298565133525451,
          0.7463931302733944,
          0.7396877563011249
         ],
         "yaxis": "y"
        },
        {
         "marker": {
          "color": [
           0,
           1,
           2,
           3,
           4,
           5,
           6,
           7,
           8,
           9,
           10,
           11,
           12,
           13,
           14,
           15,
           16,
           17,
           18,
           19,
           20,
           21,
           22,
           23,
           24,
           25,
           26,
           27,
           28,
           29,
           30,
           31,
           32,
           33,
           34,
           35,
           36,
           37,
           38,
           39,
           40,
           41,
           42,
           43,
           44,
           45,
           46,
           47,
           48,
           49,
           50,
           51,
           52,
           53,
           54,
           55,
           56,
           57,
           58,
           59,
           60,
           61,
           62,
           63,
           64,
           65,
           66,
           67,
           68,
           69,
           70,
           71,
           72,
           73,
           74,
           75,
           76,
           77,
           78,
           79,
           80,
           81,
           82,
           83,
           84,
           85,
           86,
           87,
           88,
           89,
           90,
           91,
           92,
           93,
           94,
           95,
           96,
           97,
           98,
           99,
           100,
           101,
           102,
           103,
           104,
           105,
           106,
           107,
           108,
           109,
           110,
           111,
           112,
           113,
           114,
           115,
           116,
           117,
           118,
           119,
           120,
           121,
           122,
           123,
           124,
           125,
           126,
           127,
           128,
           129,
           130,
           131,
           132,
           133,
           134,
           135,
           136,
           137,
           138,
           139,
           140,
           141,
           142,
           143,
           144,
           145,
           146,
           147,
           148,
           149,
           150,
           151,
           152,
           153,
           154,
           155,
           156,
           157,
           158,
           159,
           160,
           161,
           162,
           163,
           164,
           165,
           166,
           167,
           168,
           169,
           170,
           171,
           172,
           173,
           174,
           175,
           176,
           177,
           178,
           179,
           180,
           181,
           182,
           183,
           184,
           185,
           186,
           187,
           188,
           189,
           190,
           191,
           192,
           193,
           194,
           195,
           196,
           197,
           198,
           199
          ],
          "colorbar": {
           "title": {
            "text": "#Trials"
           },
           "x": 1,
           "xpad": 40
          },
          "colorscale": [
           [
            0,
            "rgb(247,251,255)"
           ],
           [
            0.125,
            "rgb(222,235,247)"
           ],
           [
            0.25,
            "rgb(198,219,239)"
           ],
           [
            0.375,
            "rgb(158,202,225)"
           ],
           [
            0.5,
            "rgb(107,174,214)"
           ],
           [
            0.625,
            "rgb(66,146,198)"
           ],
           [
            0.75,
            "rgb(33,113,181)"
           ],
           [
            0.875,
            "rgb(8,81,156)"
           ],
           [
            1,
            "rgb(8,48,107)"
           ]
          ],
          "line": {
           "color": "Grey",
           "width": 0.5
          },
          "showscale": false
         },
         "mode": "markers",
         "showlegend": false,
         "type": "scatter",
         "x": [
          11,
          15,
          15,
          8,
          15,
          15,
          8,
          15,
          12,
          14,
          13,
          15,
          7,
          14,
          12,
          13,
          15,
          12,
          6,
          6,
          10,
          10,
          6,
          9,
          9,
          9,
          9,
          9,
          6,
          6,
          6,
          10,
          10,
          10,
          10,
          10,
          11,
          11,
          7,
          11,
          11,
          11,
          11,
          7,
          7,
          11,
          11,
          8,
          7,
          13,
          12,
          12,
          13,
          13,
          13,
          12,
          13,
          12,
          12,
          14,
          14,
          14,
          12,
          14,
          14,
          14,
          14,
          11,
          11,
          11,
          11,
          11,
          11,
          8,
          8,
          8,
          6,
          8,
          6,
          6,
          6,
          6,
          6,
          6,
          7,
          7,
          7,
          7,
          7,
          7,
          7,
          15,
          7,
          7,
          7,
          7,
          7,
          7,
          7,
          7,
          7,
          7,
          7,
          8,
          8,
          8,
          8,
          8,
          8,
          8,
          8,
          8,
          8,
          8,
          8,
          9,
          9,
          9,
          7,
          9,
          9,
          9,
          9,
          9,
          7,
          7,
          7,
          7,
          7,
          7,
          7,
          7,
          7,
          9,
          7,
          7,
          10,
          10,
          7,
          9,
          9,
          10,
          10,
          10,
          10,
          10,
          10,
          10,
          10,
          10,
          10,
          9,
          10,
          9,
          9,
          9,
          6,
          6,
          9,
          9,
          9,
          9,
          9,
          8,
          9,
          8,
          7,
          8,
          8,
          8,
          7,
          7,
          7,
          8,
          8,
          8,
          8,
          8,
          8,
          8,
          8,
          8,
          8,
          8,
          8,
          8,
          8,
          8,
          8,
          8,
          8,
          8,
          8,
          8,
          8,
          8,
          8,
          8,
          8,
          8
         ],
         "xaxis": "x2",
         "y": [
          0.18690593873684422,
          0.7522673268920743,
          0.2338431710328644,
          -0.0013301517740015312,
          0.6137062265008765,
          0.16194840218469625,
          0.13681908824762234,
          0.4710324668464513,
          0.2792255974921575,
          -0.0013407015385649812,
          0.18549388628374747,
          0.14621986898935171,
          0.287850853481464,
          0.5432540668498562,
          0.17957788238346523,
          0.15647704144636831,
          -0.0013486097333834878,
          0.6594943271582097,
          0.6901633680981666,
          0.6835395710052412,
          0.6886971884126672,
          0.6828614593522937,
          0.5605276126268232,
          0.5663139578781541,
          0.5607584265811723,
          0.6126688229076873,
          0.5628379118774742,
          0.5576325343064334,
          0.5630941315908998,
          0.5576325343064336,
          0.653480348098505,
          0.6379948785980425,
          0.5570053871047312,
          0.6858518839261715,
          0.6860724919210556,
          0.6870054511467084,
          0.6950688655989212,
          0.5553386540957125,
          0.6949326892297025,
          0.6950930233655775,
          0.5553386540957129,
          0.718676985422443,
          0.7172600934728091,
          0.5553386540957129,
          0.15767743222805325,
          0.6214135905320622,
          -0.00135714017519184,
          0.33851622267835724,
          0.626955353821885,
          0.610164278961931,
          0.6087245962772553,
          0.5499946982775368,
          0.5877982918861344,
          0.37614939216238275,
          0.41047493143166697,
          0.3837824681178251,
          0.26015491839110383,
          0.3903963725964843,
          0.4775600380717894,
          0.6013310131344685,
          0.5553386540957125,
          0.276776497910051,
          0.46710358843979316,
          0.6491075677693376,
          0.2767764979100509,
          0.2767764979100509,
          0.2767764979100509,
          0.276776497910051,
          0.5553386540957126,
          0.6606320414735215,
          0.6475831284792585,
          0.6655656046285479,
          0.6518340948531478,
          0.6571542601731999,
          0.6397795308981464,
          0.6555326829452285,
          0.690950530534683,
          0.7680289237637512,
          0.6915273976217292,
          0.6637349147469912,
          0.6538036704729315,
          0.6470613731700471,
          0.6703632052004993,
          0.6702600565360733,
          0.6551232583120037,
          0.7640901942143159,
          0.7315875468222939,
          0.7611838901230149,
          0.7318340831996496,
          0.7295248504935363,
          0.7405707983346546,
          0.7158068478786274,
          0.7340797321423719,
          0.7314651983168573,
          0.7094348108701394,
          0.6333763668449677,
          0.62679211233717,
          0.7640901942143159,
          0.7604856718983701,
          0.7640800764271862,
          0.7640968977884672,
          0.7641945027507793,
          0.7407293759974392,
          0.8045064724109745,
          0.7413925128912054,
          0.7405684438078757,
          0.7387771095768633,
          0.7402253940312354,
          0.738278072369529,
          0.7406301293268995,
          0.7381043593228078,
          0.7452230356567233,
          0.738329981688482,
          0.7450317598031518,
          0.7248887373228079,
          0.7305169391814497,
          0.7328186426171636,
          0.6569214830441115,
          0.7631075109650769,
          0.7889356330561504,
          0.6524693930095609,
          0.6518612152185985,
          0.7756434619130571,
          0.7699737578039858,
          0.6863336219547045,
          0.6945951674794443,
          0.7597930655743859,
          0.7037481181971675,
          0.7864324099024311,
          0.773680154205061,
          0.6673533782032244,
          0.7500346422985703,
          0.6958810788876797,
          0.7633984973247443,
          0.7490917498010707,
          0.7513947070374134,
          0.7773658196168031,
          0.7635008180024723,
          0.7679382841896228,
          0.6805608928619818,
          0.6168940313174689,
          0.28867997972289167,
          0.6822214439626304,
          0.6155771211910969,
          0.28828533709912896,
          0.6751330236776419,
          0.6827618617150206,
          0.28818186775559085,
          -0.0013532522743284537,
          0.28833948773706586,
          0.30438704600927535,
          0.6893511654481038,
          0.7014820669556446,
          0.28833367885402295,
          0.2877652972653057,
          0.6401212821087714,
          0.13485919725590811,
          0.6063032132101815,
          0.7577980097256408,
          0.7597516694842644,
          0.765500458016292,
          0.65620637945693,
          0.6323124514770251,
          0.8022959599253798,
          0.80496470814667,
          0.7487789079922418,
          0.7945559316721974,
          0.8013298142652836,
          0.7974224158087133,
          0.7990456239882577,
          0.7962888946328358,
          0.7926745081685078,
          0.819910803885185,
          0.8335693392470791,
          0.839683216273141,
          0.829797002372674,
          0.826899759260949,
          0.8064011262350576,
          0.8107511900675576,
          0.7960693101984285,
          0.807976415711899,
          0.8035836178559619,
          0.8137723616929206,
          0.8195621058809544,
          0.8391529852939745,
          0.8391185526190927,
          0.83829013567705,
          0.838863045899861,
          0.8387348579718571,
          0.8418801047907072,
          0.7216046503743596,
          0.7183760137770276,
          0.8427969255387874,
          0.7330792781753115,
          0.7207844970739719,
          0.71604363067367,
          0.7269314959387774,
          0.7298565133525451,
          0.7463931302733944,
          0.7396877563011249
         ],
         "yaxis": "y2"
        },
        {
         "marker": {
          "color": [
           0,
           1,
           2,
           3,
           4,
           5,
           6,
           7,
           8,
           9,
           10,
           11,
           12,
           13,
           14,
           15,
           16,
           17,
           18,
           19,
           20,
           21,
           22,
           23,
           24,
           25,
           26,
           27,
           28,
           29,
           30,
           31,
           32,
           33,
           34,
           35,
           36,
           37,
           38,
           39,
           40,
           41,
           42,
           43,
           44,
           45,
           46,
           47,
           48,
           49,
           50,
           51,
           52,
           53,
           54,
           55,
           56,
           57,
           58,
           59,
           60,
           61,
           62,
           63,
           64,
           65,
           66,
           67,
           68,
           69,
           70,
           71,
           72,
           73,
           74,
           75,
           76,
           77,
           78,
           79,
           80,
           81,
           82,
           83,
           84,
           85,
           86,
           87,
           88,
           89,
           90,
           91,
           92,
           93,
           94,
           95,
           96,
           97,
           98,
           99,
           100,
           101,
           102,
           103,
           104,
           105,
           106,
           107,
           108,
           109,
           110,
           111,
           112,
           113,
           114,
           115,
           116,
           117,
           118,
           119,
           120,
           121,
           122,
           123,
           124,
           125,
           126,
           127,
           128,
           129,
           130,
           131,
           132,
           133,
           134,
           135,
           136,
           137,
           138,
           139,
           140,
           141,
           142,
           143,
           144,
           145,
           146,
           147,
           148,
           149,
           150,
           151,
           152,
           153,
           154,
           155,
           156,
           157,
           158,
           159,
           160,
           161,
           162,
           163,
           164,
           165,
           166,
           167,
           168,
           169,
           170,
           171,
           172,
           173,
           174,
           175,
           176,
           177,
           178,
           179,
           180,
           181,
           182,
           183,
           184,
           185,
           186,
           187,
           188,
           189,
           190,
           191,
           192,
           193,
           194,
           195,
           196,
           197,
           198,
           199
          ],
          "colorbar": {
           "title": {
            "text": "#Trials"
           },
           "x": 1,
           "xpad": 40
          },
          "colorscale": [
           [
            0,
            "rgb(247,251,255)"
           ],
           [
            0.125,
            "rgb(222,235,247)"
           ],
           [
            0.25,
            "rgb(198,219,239)"
           ],
           [
            0.375,
            "rgb(158,202,225)"
           ],
           [
            0.5,
            "rgb(107,174,214)"
           ],
           [
            0.625,
            "rgb(66,146,198)"
           ],
           [
            0.75,
            "rgb(33,113,181)"
           ],
           [
            0.875,
            "rgb(8,81,156)"
           ],
           [
            1,
            "rgb(8,48,107)"
           ]
          ],
          "line": {
           "color": "Grey",
           "width": 0.5
          },
          "showscale": false
         },
         "mode": "markers",
         "showlegend": false,
         "type": "scatter",
         "x": [
          "log2",
          "auto",
          "sqrt",
          "sqrt",
          "auto",
          "sqrt",
          "log2",
          "sqrt",
          "auto",
          "log2",
          "log2",
          "log2",
          "auto",
          "auto",
          "log2",
          "sqrt",
          "sqrt",
          "auto",
          "auto",
          "auto",
          "auto",
          "auto",
          "auto",
          "auto",
          "auto",
          "auto",
          "auto",
          "auto",
          "auto",
          "auto",
          "auto",
          "auto",
          "auto",
          "auto",
          "auto",
          "auto",
          "auto",
          "auto",
          "auto",
          "auto",
          "auto",
          "auto",
          "auto",
          "auto",
          "sqrt",
          "sqrt",
          "sqrt",
          "sqrt",
          "sqrt",
          "sqrt",
          "sqrt",
          "log2",
          "log2",
          "log2",
          "log2",
          "log2",
          "log2",
          "log2",
          "log2",
          "auto",
          "auto",
          "auto",
          "auto",
          "auto",
          "auto",
          "auto",
          "auto",
          "auto",
          "auto",
          "auto",
          "auto",
          "auto",
          "auto",
          "auto",
          "auto",
          "auto",
          "auto",
          "auto",
          "auto",
          "auto",
          "auto",
          "auto",
          "auto",
          "auto",
          "auto",
          "auto",
          "auto",
          "auto",
          "auto",
          "auto",
          "auto",
          "auto",
          "auto",
          "auto",
          "auto",
          "auto",
          "auto",
          "auto",
          "auto",
          "auto",
          "auto",
          "auto",
          "auto",
          "auto",
          "auto",
          "auto",
          "auto",
          "auto",
          "auto",
          "auto",
          "auto",
          "auto",
          "auto",
          "auto",
          "auto",
          "auto",
          "auto",
          "auto",
          "auto",
          "auto",
          "auto",
          "auto",
          "auto",
          "auto",
          "auto",
          "sqrt",
          "auto",
          "sqrt",
          "auto",
          "auto",
          "sqrt",
          "auto",
          "sqrt",
          "auto",
          "auto",
          "auto",
          "auto",
          "auto",
          "auto",
          "auto",
          "auto",
          "auto",
          "auto",
          "auto",
          "auto",
          "auto",
          "auto",
          "auto",
          "auto",
          "auto",
          "auto",
          "auto",
          "auto",
          "auto",
          "auto",
          "log2",
          "log2",
          "log2",
          "auto",
          "auto",
          "auto",
          "log2",
          "log2",
          "auto",
          "auto",
          "auto",
          "auto",
          "auto",
          "auto",
          "auto",
          "auto",
          "auto",
          "auto",
          "auto",
          "auto",
          "auto",
          "auto",
          "auto",
          "auto",
          "auto",
          "auto",
          "auto",
          "auto",
          "auto",
          "auto",
          "auto",
          "auto",
          "auto",
          "auto",
          "auto",
          "auto",
          "auto",
          "auto",
          "auto",
          "auto",
          "auto",
          "auto",
          "auto",
          "auto",
          "auto"
         ],
         "xaxis": "x3",
         "y": [
          0.18690593873684422,
          0.7522673268920743,
          0.2338431710328644,
          -0.0013301517740015312,
          0.6137062265008765,
          0.16194840218469625,
          0.13681908824762234,
          0.4710324668464513,
          0.2792255974921575,
          -0.0013407015385649812,
          0.18549388628374747,
          0.14621986898935171,
          0.287850853481464,
          0.5432540668498562,
          0.17957788238346523,
          0.15647704144636831,
          -0.0013486097333834878,
          0.6594943271582097,
          0.6901633680981666,
          0.6835395710052412,
          0.6886971884126672,
          0.6828614593522937,
          0.5605276126268232,
          0.5663139578781541,
          0.5607584265811723,
          0.6126688229076873,
          0.5628379118774742,
          0.5576325343064334,
          0.5630941315908998,
          0.5576325343064336,
          0.653480348098505,
          0.6379948785980425,
          0.5570053871047312,
          0.6858518839261715,
          0.6860724919210556,
          0.6870054511467084,
          0.6950688655989212,
          0.5553386540957125,
          0.6949326892297025,
          0.6950930233655775,
          0.5553386540957129,
          0.718676985422443,
          0.7172600934728091,
          0.5553386540957129,
          0.15767743222805325,
          0.6214135905320622,
          -0.00135714017519184,
          0.33851622267835724,
          0.626955353821885,
          0.610164278961931,
          0.6087245962772553,
          0.5499946982775368,
          0.5877982918861344,
          0.37614939216238275,
          0.41047493143166697,
          0.3837824681178251,
          0.26015491839110383,
          0.3903963725964843,
          0.4775600380717894,
          0.6013310131344685,
          0.5553386540957125,
          0.276776497910051,
          0.46710358843979316,
          0.6491075677693376,
          0.2767764979100509,
          0.2767764979100509,
          0.2767764979100509,
          0.276776497910051,
          0.5553386540957126,
          0.6606320414735215,
          0.6475831284792585,
          0.6655656046285479,
          0.6518340948531478,
          0.6571542601731999,
          0.6397795308981464,
          0.6555326829452285,
          0.690950530534683,
          0.7680289237637512,
          0.6915273976217292,
          0.6637349147469912,
          0.6538036704729315,
          0.6470613731700471,
          0.6703632052004993,
          0.6702600565360733,
          0.6551232583120037,
          0.7640901942143159,
          0.7315875468222939,
          0.7611838901230149,
          0.7318340831996496,
          0.7295248504935363,
          0.7405707983346546,
          0.7158068478786274,
          0.7340797321423719,
          0.7314651983168573,
          0.7094348108701394,
          0.6333763668449677,
          0.62679211233717,
          0.7640901942143159,
          0.7604856718983701,
          0.7640800764271862,
          0.7640968977884672,
          0.7641945027507793,
          0.7407293759974392,
          0.8045064724109745,
          0.7413925128912054,
          0.7405684438078757,
          0.7387771095768633,
          0.7402253940312354,
          0.738278072369529,
          0.7406301293268995,
          0.7381043593228078,
          0.7452230356567233,
          0.738329981688482,
          0.7450317598031518,
          0.7248887373228079,
          0.7305169391814497,
          0.7328186426171636,
          0.6569214830441115,
          0.7631075109650769,
          0.7889356330561504,
          0.6524693930095609,
          0.6518612152185985,
          0.7756434619130571,
          0.7699737578039858,
          0.6863336219547045,
          0.6945951674794443,
          0.7597930655743859,
          0.7037481181971675,
          0.7864324099024311,
          0.773680154205061,
          0.6673533782032244,
          0.7500346422985703,
          0.6958810788876797,
          0.7633984973247443,
          0.7490917498010707,
          0.7513947070374134,
          0.7773658196168031,
          0.7635008180024723,
          0.7679382841896228,
          0.6805608928619818,
          0.6168940313174689,
          0.28867997972289167,
          0.6822214439626304,
          0.6155771211910969,
          0.28828533709912896,
          0.6751330236776419,
          0.6827618617150206,
          0.28818186775559085,
          -0.0013532522743284537,
          0.28833948773706586,
          0.30438704600927535,
          0.6893511654481038,
          0.7014820669556446,
          0.28833367885402295,
          0.2877652972653057,
          0.6401212821087714,
          0.13485919725590811,
          0.6063032132101815,
          0.7577980097256408,
          0.7597516694842644,
          0.765500458016292,
          0.65620637945693,
          0.6323124514770251,
          0.8022959599253798,
          0.80496470814667,
          0.7487789079922418,
          0.7945559316721974,
          0.8013298142652836,
          0.7974224158087133,
          0.7990456239882577,
          0.7962888946328358,
          0.7926745081685078,
          0.819910803885185,
          0.8335693392470791,
          0.839683216273141,
          0.829797002372674,
          0.826899759260949,
          0.8064011262350576,
          0.8107511900675576,
          0.7960693101984285,
          0.807976415711899,
          0.8035836178559619,
          0.8137723616929206,
          0.8195621058809544,
          0.8391529852939745,
          0.8391185526190927,
          0.83829013567705,
          0.838863045899861,
          0.8387348579718571,
          0.8418801047907072,
          0.7216046503743596,
          0.7183760137770276,
          0.8427969255387874,
          0.7330792781753115,
          0.7207844970739719,
          0.71604363067367,
          0.7269314959387774,
          0.7298565133525451,
          0.7463931302733944,
          0.7396877563011249
         ],
         "yaxis": "y3"
        },
        {
         "marker": {
          "color": [
           0,
           1,
           2,
           3,
           4,
           5,
           6,
           7,
           8,
           9,
           10,
           11,
           12,
           13,
           14,
           15,
           16,
           17,
           18,
           19,
           20,
           21,
           22,
           23,
           24,
           25,
           26,
           27,
           28,
           29,
           30,
           31,
           32,
           33,
           34,
           35,
           36,
           37,
           38,
           39,
           40,
           41,
           42,
           43,
           44,
           45,
           46,
           47,
           48,
           49,
           50,
           51,
           52,
           53,
           54,
           55,
           56,
           57,
           58,
           59,
           60,
           61,
           62,
           63,
           64,
           65,
           66,
           67,
           68,
           69,
           70,
           71,
           72,
           73,
           74,
           75,
           76,
           77,
           78,
           79,
           80,
           81,
           82,
           83,
           84,
           85,
           86,
           87,
           88,
           89,
           90,
           91,
           92,
           93,
           94,
           95,
           96,
           97,
           98,
           99,
           100,
           101,
           102,
           103,
           104,
           105,
           106,
           107,
           108,
           109,
           110,
           111,
           112,
           113,
           114,
           115,
           116,
           117,
           118,
           119,
           120,
           121,
           122,
           123,
           124,
           125,
           126,
           127,
           128,
           129,
           130,
           131,
           132,
           133,
           134,
           135,
           136,
           137,
           138,
           139,
           140,
           141,
           142,
           143,
           144,
           145,
           146,
           147,
           148,
           149,
           150,
           151,
           152,
           153,
           154,
           155,
           156,
           157,
           158,
           159,
           160,
           161,
           162,
           163,
           164,
           165,
           166,
           167,
           168,
           169,
           170,
           171,
           172,
           173,
           174,
           175,
           176,
           177,
           178,
           179,
           180,
           181,
           182,
           183,
           184,
           185,
           186,
           187,
           188,
           189,
           190,
           191,
           192,
           193,
           194,
           195,
           196,
           197,
           198,
           199
          ],
          "colorbar": {
           "title": {
            "text": "#Trials"
           },
           "x": 1,
           "xpad": 40
          },
          "colorscale": [
           [
            0,
            "rgb(247,251,255)"
           ],
           [
            0.125,
            "rgb(222,235,247)"
           ],
           [
            0.25,
            "rgb(198,219,239)"
           ],
           [
            0.375,
            "rgb(158,202,225)"
           ],
           [
            0.5,
            "rgb(107,174,214)"
           ],
           [
            0.625,
            "rgb(66,146,198)"
           ],
           [
            0.75,
            "rgb(33,113,181)"
           ],
           [
            0.875,
            "rgb(8,81,156)"
           ],
           [
            1,
            "rgb(8,48,107)"
           ]
          ],
          "line": {
           "color": "Grey",
           "width": 0.5
          },
          "showscale": false
         },
         "mode": "markers",
         "showlegend": false,
         "type": "scatter",
         "x": [
          0.17204775510112613,
          0.017181695448103884,
          0.26802740222814764,
          0.4279713144036647,
          0.060166070898208635,
          0.2626674826548199,
          0.44375912202875684,
          0.07159992852737507,
          0.3046005167827022,
          0.3976637495685989,
          0.18258081993715308,
          0.2323636786536133,
          0.007828599701337258,
          0.1715067822175001,
          0.1980287142352667,
          0.3022718919097856,
          0.4122873854534638,
          0.0032442887990777637,
          0.005317078552072314,
          0.005206342139455564,
          0.0045777097400891646,
          0.00006004929382387447,
          0.11090926161781776,
          0.10077194254718519,
          0.1085332207694239,
          0.07856533982776015,
          0.06835727335601133,
          0.11098907197121083,
          0.10270129116797054,
          0.10647488629100677,
          0.055550950137549904,
          0.06399569867449537,
          0.12425747190429548,
          0.04398031250875409,
          0.04322886757262399,
          0.04325321770300016,
          0.03786811593983498,
          0.14962469339046258,
          0.037371513273540616,
          0.03547557360371261,
          0.14794936868648365,
          0.03286579573536778,
          0.03417546641294051,
          0.1475667855468104,
          0.48294385463081,
          0.028679753699777842,
          0.4990962083837638,
          0.14291853327852216,
          0.025219442330883197,
          0.03141020838120578,
          0.031437222194043976,
          0.038112492289653147,
          0.0289309172845661,
          0.08743200769444777,
          0.07570168393632407,
          0.08630659456875253,
          0.08481571903696392,
          0.08149446192599281,
          0.08568448723017447,
          0.08821481126719524,
          0.07671519212646091,
          0.33806362938022116,
          0.22568431128120486,
          0.05696257412348597,
          0.35515351418361957,
          0.32650069200337056,
          0.30206546771552034,
          0.37054363710979643,
          0.017951051996786413,
          0.016890485459029853,
          0.01919918807487357,
          0.01586272671695469,
          0.015718411840206083,
          0.01912196526879015,
          0.010568832599334811,
          0.013663338481224864,
          0.013787844333747919,
          0.012570158370508653,
          0.0016446774969754718,
          0.0529311063316671,
          0.04968250959034489,
          0.05347981557353182,
          0.05115364292912368,
          0.0509794484355153,
          0.04746487662715819,
          0.00000646649730672022,
          0.0007316714043598474,
          0.0004150670413262808,
          0.005921740535385399,
          0.000015233298646339126,
          0.003242783348467823,
          0.03474391523078901,
          0.0025061417928216295,
          0.001354610908353697,
          0.03665635081224217,
          0.06514772846008181,
          0.0685899950821631,
          0.000012248018243182757,
          0.0007798165737998195,
          0.00010272562217991058,
          0.001505945734072065,
          0.0005698164880036791,
          0.004199625344598726,
          0.00039287370647132953,
          0.0003866992381618767,
          0.0010156990783258702,
          0.02559499993312761,
          0.022478729847520015,
          0.026466265428546257,
          0.02174362629823978,
          0.025926831124814656,
          0.020684099462720037,
          0.025556034561219132,
          0.021150513524120722,
          0.025787622948613316,
          0.024635488927510635,
          0.024250090927954732,
          0.04138257938830779,
          0.011196890827512455,
          0.012110386878968371,
          0.042537737583206225,
          0.042632903419312286,
          0.011092809770353878,
          0.013164432720871621,
          0.04291707364734187,
          0.012438582420577491,
          0.013371250876660329,
          0.009696766102094563,
          0.012207134522142532,
          0.01289469844376816,
          0.012014401141402186,
          0.014149199818979741,
          0.011606631016352323,
          0.010438529799360592,
          0.01199394454757884,
          0.011521918748599477,
          0.011354971519137764,
          0.011418254216592854,
          0.009260743781514487,
          0.035094499165583014,
          0.05923887773090718,
          0.19676698594315745,
          0.03462264318042246,
          0.05951558476110915,
          0.20462098548890256,
          0.0364052398835389,
          0.03474994558055566,
          0.030144902306769576,
          0.4430911441956179,
          0.24568658732153928,
          0.03476196385241771,
          0.03322258319263129,
          0.030491661903715387,
          0.24726260434605563,
          0.26167951159986047,
          0.014698941344337963,
          0.2760008100717691,
          0.01858243802216037,
          0.018135524217017734,
          0.017564635447772044,
          0.016209716370500005,
          0.01502594149361736,
          0.018917673952468985,
          0.0004039362841664028,
          0.0006119369704621594,
          0.02071219245159441,
          0.006610329818698836,
          0.002318649407456523,
          0.006031683525252933,
          0.000834904429066768,
          0.0009700872033669063,
          0.0007709290921736532,
          0.003448313259146431,
          0.002958537460624439,
          0.0013840038076106823,
          0.005407423584086745,
          0.00589596837307965,
          0.009026267885635066,
          0.008432395742033767,
          0.01078625038395446,
          0.008779539329279723,
          0.009402318280533449,
          0.008057336971694607,
          0.0068715458835421845,
          0.0008585812637419161,
          0.0009738899426474639,
          0.0013103580507592006,
          0.001838131265518717,
          0.0017147202339010924,
          0.000645313853931336,
          0.02658247601016875,
          0.02719711984322601,
          0.001251727201890422,
          0.024246341270254965,
          0.026838342741540934,
          0.02766215977123684,
          0.025355228746287532,
          0.024843354548884672,
          0.02122700608689499,
          0.022823081934192975
         ],
         "xaxis": "x4",
         "y": [
          0.18690593873684422,
          0.7522673268920743,
          0.2338431710328644,
          -0.0013301517740015312,
          0.6137062265008765,
          0.16194840218469625,
          0.13681908824762234,
          0.4710324668464513,
          0.2792255974921575,
          -0.0013407015385649812,
          0.18549388628374747,
          0.14621986898935171,
          0.287850853481464,
          0.5432540668498562,
          0.17957788238346523,
          0.15647704144636831,
          -0.0013486097333834878,
          0.6594943271582097,
          0.6901633680981666,
          0.6835395710052412,
          0.6886971884126672,
          0.6828614593522937,
          0.5605276126268232,
          0.5663139578781541,
          0.5607584265811723,
          0.6126688229076873,
          0.5628379118774742,
          0.5576325343064334,
          0.5630941315908998,
          0.5576325343064336,
          0.653480348098505,
          0.6379948785980425,
          0.5570053871047312,
          0.6858518839261715,
          0.6860724919210556,
          0.6870054511467084,
          0.6950688655989212,
          0.5553386540957125,
          0.6949326892297025,
          0.6950930233655775,
          0.5553386540957129,
          0.718676985422443,
          0.7172600934728091,
          0.5553386540957129,
          0.15767743222805325,
          0.6214135905320622,
          -0.00135714017519184,
          0.33851622267835724,
          0.626955353821885,
          0.610164278961931,
          0.6087245962772553,
          0.5499946982775368,
          0.5877982918861344,
          0.37614939216238275,
          0.41047493143166697,
          0.3837824681178251,
          0.26015491839110383,
          0.3903963725964843,
          0.4775600380717894,
          0.6013310131344685,
          0.5553386540957125,
          0.276776497910051,
          0.46710358843979316,
          0.6491075677693376,
          0.2767764979100509,
          0.2767764979100509,
          0.2767764979100509,
          0.276776497910051,
          0.5553386540957126,
          0.6606320414735215,
          0.6475831284792585,
          0.6655656046285479,
          0.6518340948531478,
          0.6571542601731999,
          0.6397795308981464,
          0.6555326829452285,
          0.690950530534683,
          0.7680289237637512,
          0.6915273976217292,
          0.6637349147469912,
          0.6538036704729315,
          0.6470613731700471,
          0.6703632052004993,
          0.6702600565360733,
          0.6551232583120037,
          0.7640901942143159,
          0.7315875468222939,
          0.7611838901230149,
          0.7318340831996496,
          0.7295248504935363,
          0.7405707983346546,
          0.7158068478786274,
          0.7340797321423719,
          0.7314651983168573,
          0.7094348108701394,
          0.6333763668449677,
          0.62679211233717,
          0.7640901942143159,
          0.7604856718983701,
          0.7640800764271862,
          0.7640968977884672,
          0.7641945027507793,
          0.7407293759974392,
          0.8045064724109745,
          0.7413925128912054,
          0.7405684438078757,
          0.7387771095768633,
          0.7402253940312354,
          0.738278072369529,
          0.7406301293268995,
          0.7381043593228078,
          0.7452230356567233,
          0.738329981688482,
          0.7450317598031518,
          0.7248887373228079,
          0.7305169391814497,
          0.7328186426171636,
          0.6569214830441115,
          0.7631075109650769,
          0.7889356330561504,
          0.6524693930095609,
          0.6518612152185985,
          0.7756434619130571,
          0.7699737578039858,
          0.6863336219547045,
          0.6945951674794443,
          0.7597930655743859,
          0.7037481181971675,
          0.7864324099024311,
          0.773680154205061,
          0.6673533782032244,
          0.7500346422985703,
          0.6958810788876797,
          0.7633984973247443,
          0.7490917498010707,
          0.7513947070374134,
          0.7773658196168031,
          0.7635008180024723,
          0.7679382841896228,
          0.6805608928619818,
          0.6168940313174689,
          0.28867997972289167,
          0.6822214439626304,
          0.6155771211910969,
          0.28828533709912896,
          0.6751330236776419,
          0.6827618617150206,
          0.28818186775559085,
          -0.0013532522743284537,
          0.28833948773706586,
          0.30438704600927535,
          0.6893511654481038,
          0.7014820669556446,
          0.28833367885402295,
          0.2877652972653057,
          0.6401212821087714,
          0.13485919725590811,
          0.6063032132101815,
          0.7577980097256408,
          0.7597516694842644,
          0.765500458016292,
          0.65620637945693,
          0.6323124514770251,
          0.8022959599253798,
          0.80496470814667,
          0.7487789079922418,
          0.7945559316721974,
          0.8013298142652836,
          0.7974224158087133,
          0.7990456239882577,
          0.7962888946328358,
          0.7926745081685078,
          0.819910803885185,
          0.8335693392470791,
          0.839683216273141,
          0.829797002372674,
          0.826899759260949,
          0.8064011262350576,
          0.8107511900675576,
          0.7960693101984285,
          0.807976415711899,
          0.8035836178559619,
          0.8137723616929206,
          0.8195621058809544,
          0.8391529852939745,
          0.8391185526190927,
          0.83829013567705,
          0.838863045899861,
          0.8387348579718571,
          0.8418801047907072,
          0.7216046503743596,
          0.7183760137770276,
          0.8427969255387874,
          0.7330792781753115,
          0.7207844970739719,
          0.71604363067367,
          0.7269314959387774,
          0.7298565133525451,
          0.7463931302733944,
          0.7396877563011249
         ],
         "yaxis": "y4"
        },
        {
         "marker": {
          "color": [
           0,
           1,
           2,
           3,
           4,
           5,
           6,
           7,
           8,
           9,
           10,
           11,
           12,
           13,
           14,
           15,
           16,
           17,
           18,
           19,
           20,
           21,
           22,
           23,
           24,
           25,
           26,
           27,
           28,
           29,
           30,
           31,
           32,
           33,
           34,
           35,
           36,
           37,
           38,
           39,
           40,
           41,
           42,
           43,
           44,
           45,
           46,
           47,
           48,
           49,
           50,
           51,
           52,
           53,
           54,
           55,
           56,
           57,
           58,
           59,
           60,
           61,
           62,
           63,
           64,
           65,
           66,
           67,
           68,
           69,
           70,
           71,
           72,
           73,
           74,
           75,
           76,
           77,
           78,
           79,
           80,
           81,
           82,
           83,
           84,
           85,
           86,
           87,
           88,
           89,
           90,
           91,
           92,
           93,
           94,
           95,
           96,
           97,
           98,
           99,
           100,
           101,
           102,
           103,
           104,
           105,
           106,
           107,
           108,
           109,
           110,
           111,
           112,
           113,
           114,
           115,
           116,
           117,
           118,
           119,
           120,
           121,
           122,
           123,
           124,
           125,
           126,
           127,
           128,
           129,
           130,
           131,
           132,
           133,
           134,
           135,
           136,
           137,
           138,
           139,
           140,
           141,
           142,
           143,
           144,
           145,
           146,
           147,
           148,
           149,
           150,
           151,
           152,
           153,
           154,
           155,
           156,
           157,
           158,
           159,
           160,
           161,
           162,
           163,
           164,
           165,
           166,
           167,
           168,
           169,
           170,
           171,
           172,
           173,
           174,
           175,
           176,
           177,
           178,
           179,
           180,
           181,
           182,
           183,
           184,
           185,
           186,
           187,
           188,
           189,
           190,
           191,
           192,
           193,
           194,
           195,
           196,
           197,
           198,
           199
          ],
          "colorbar": {
           "title": {
            "text": "#Trials"
           },
           "x": 1,
           "xpad": 40
          },
          "colorscale": [
           [
            0,
            "rgb(247,251,255)"
           ],
           [
            0.125,
            "rgb(222,235,247)"
           ],
           [
            0.25,
            "rgb(198,219,239)"
           ],
           [
            0.375,
            "rgb(158,202,225)"
           ],
           [
            0.5,
            "rgb(107,174,214)"
           ],
           [
            0.625,
            "rgb(66,146,198)"
           ],
           [
            0.75,
            "rgb(33,113,181)"
           ],
           [
            0.875,
            "rgb(8,81,156)"
           ],
           [
            1,
            "rgb(8,48,107)"
           ]
          ],
          "line": {
           "color": "Grey",
           "width": 0.5
          },
          "showscale": false
         },
         "mode": "markers",
         "showlegend": false,
         "type": "scatter",
         "x": [
          0.3697025525816216,
          0.05319322831321632,
          0.087271842469209,
          0.4459173739887941,
          0.040124401852104696,
          0.4067807161915308,
          0.024750205717561924,
          0.020910169320308647,
          0.33963235819013593,
          0.4538646050009887,
          0.3242418736432747,
          0.3417587276713087,
          0.42053287606133033,
          0.13663128704892447,
          0.27649164468138676,
          0.0020894146502621336,
          0.46039404261432,
          0.18045506467092345,
          0.15412880343991264,
          0.16452798960631426,
          0.1554223126233168,
          0.1664771791699784,
          0.16585350093867957,
          0.15948193158340596,
          0.13486286980911943,
          0.14745577187551326,
          0.22132289689644002,
          0.2333284784403594,
          0.2086217051231689,
          0.22614730632119823,
          0.07017856517045246,
          0.09959180999644991,
          0.22767659782510877,
          0.09729111588914323,
          0.09432932844004034,
          0.08367765936714318,
          0.09704327774351959,
          0.1047947497158731,
          0.10426730923165675,
          0.10128154791235527,
          0.0972479056104926,
          0.0716610339833938,
          0.05005419458274468,
          0.04812619323545231,
          0.05918815099724162,
          0.0533726464128737,
          0.053841763962607085,
          0.045847610792703115,
          0.05993785220989492,
          0.05603023656230216,
          0.047486433525552714,
          0.006494079157155913,
          0.02263143139044449,
          0.01448937103993924,
          0.02046644417488048,
          0.020053818296254057,
          0.49401176204352026,
          0.4956222876737432,
          0.11685386185330156,
          0.12681173013694896,
          0.2805271714514166,
          0.07832696072927248,
          0.11933063956378762,
          0.12304058211455803,
          0.12162425872169742,
          0.11972996499657451,
          0.1283061389761307,
          0.07932405054233624,
          0.271048504090842,
          0.18072033965204476,
          0.18702519633671527,
          0.17804577879899983,
          0.18443087305795236,
          0.18225431762821678,
          0.18943015212678233,
          0.18322860701797639,
          0.14807004024513198,
          0.03057351606988342,
          0.14686627443746647,
          0.0707046899035839,
          0.1437763180082405,
          0.14392451909974016,
          0.03515241311684893,
          0.0693300429977942,
          0.14504935126298227,
          0.03233242906914374,
          0.10693613284787144,
          0.035738455922688636,
          0.1059818742109655,
          0.1094134991360989,
          0.08890653068526488,
          0.035858803916603475,
          0.10347938914558111,
          0.1071786929779884,
          0.034995150484444064,
          0.03747941497764508,
          0.031076333755579725,
          0.032799549846082424,
          0.03618439977423302,
          0.03409040940420516,
          0.03256794487849265,
          0.033982283930962594,
          0.08628422740771083,
          0.0046827997339177856,
          0.08532414147302234,
          0.09004182555218815,
          0.000873809676141972,
          0.007780819351340382,
          0.0043187839102318965,
          0.002423544347662572,
          0.0012033845591241238,
          0.003984707696109993,
          0.00027208695875811234,
          0.0006115163504294072,
          0.02521809945761194,
          0.027132854309613257,
          0.026553433932874987,
          0.0280468689018849,
          0.017538028703992174,
          0.017474674600127627,
          0.026289565236616564,
          0.016109407687967654,
          0.02045589746052802,
          0.013981169361093494,
          0.015432531631062207,
          0.014010764360311578,
          0.0138699800512654,
          0.013116118197937614,
          0.01565638669416361,
          0.04301793032789328,
          0.047825478932541396,
          0.044291746451754856,
          0.04122821896353395,
          0.04305369151797579,
          0.04651775990595488,
          0.042466039676190205,
          0.0459147066674456,
          0.06186739393427821,
          0.0650850352853238,
          0.06596108583625906,
          0.06292367702916236,
          0.06396081763965546,
          0.05929592412687863,
          0.06162983135058398,
          0.06433389470488052,
          0.06300098269836267,
          0.05877837272255099,
          0.40102022790748704,
          0.052144050783643904,
          0.07449597492624965,
          0.3655524043671772,
          0.05179714448461842,
          0.053069835984254805,
          0.31562174810424365,
          0.022979872717902625,
          0.05303584271665249,
          0.05245043920602789,
          0.025543784621156477,
          0.026978331437284474,
          0.02594405518985032,
          0.02292653345765559,
          0.02375968834548281,
          0.03425033146376605,
          0.03422599480414586,
          0.03342431169131685,
          0.031599302375466425,
          0.03587341625059398,
          0.03471201496587374,
          0.0378154443869952,
          0.037711508937647346,
          0.035538835654092625,
          0.040372693928982836,
          0.014190434916178902,
          0.012270819665095006,
          0.0091248562148541,
          0.011344224526463536,
          0.012276625677936859,
          0.01227471400529484,
          0.012460679769816706,
          0.011711901146346616,
          0.01541281100550465,
          0.011915539438467886,
          0.014829536401131261,
          0.014890995042712716,
          0.009968226615422966,
          0.009927967922684267,
          0.010427776092154227,
          0.00945440395334909,
          0.009622664150346788,
          0.007917264933774489,
          0.008933302757094582,
          0.010843047238449168,
          0.006936218198727797,
          0.00847335950426941,
          0.00833774977114579,
          0.011733008719187121,
          0.008576564776847729,
          0.007103230733424179,
          0.008009764182041718,
          0.0007893409569662219
         ],
         "xaxis": "x5",
         "y": [
          0.18690593873684422,
          0.7522673268920743,
          0.2338431710328644,
          -0.0013301517740015312,
          0.6137062265008765,
          0.16194840218469625,
          0.13681908824762234,
          0.4710324668464513,
          0.2792255974921575,
          -0.0013407015385649812,
          0.18549388628374747,
          0.14621986898935171,
          0.287850853481464,
          0.5432540668498562,
          0.17957788238346523,
          0.15647704144636831,
          -0.0013486097333834878,
          0.6594943271582097,
          0.6901633680981666,
          0.6835395710052412,
          0.6886971884126672,
          0.6828614593522937,
          0.5605276126268232,
          0.5663139578781541,
          0.5607584265811723,
          0.6126688229076873,
          0.5628379118774742,
          0.5576325343064334,
          0.5630941315908998,
          0.5576325343064336,
          0.653480348098505,
          0.6379948785980425,
          0.5570053871047312,
          0.6858518839261715,
          0.6860724919210556,
          0.6870054511467084,
          0.6950688655989212,
          0.5553386540957125,
          0.6949326892297025,
          0.6950930233655775,
          0.5553386540957129,
          0.718676985422443,
          0.7172600934728091,
          0.5553386540957129,
          0.15767743222805325,
          0.6214135905320622,
          -0.00135714017519184,
          0.33851622267835724,
          0.626955353821885,
          0.610164278961931,
          0.6087245962772553,
          0.5499946982775368,
          0.5877982918861344,
          0.37614939216238275,
          0.41047493143166697,
          0.3837824681178251,
          0.26015491839110383,
          0.3903963725964843,
          0.4775600380717894,
          0.6013310131344685,
          0.5553386540957125,
          0.276776497910051,
          0.46710358843979316,
          0.6491075677693376,
          0.2767764979100509,
          0.2767764979100509,
          0.2767764979100509,
          0.276776497910051,
          0.5553386540957126,
          0.6606320414735215,
          0.6475831284792585,
          0.6655656046285479,
          0.6518340948531478,
          0.6571542601731999,
          0.6397795308981464,
          0.6555326829452285,
          0.690950530534683,
          0.7680289237637512,
          0.6915273976217292,
          0.6637349147469912,
          0.6538036704729315,
          0.6470613731700471,
          0.6703632052004993,
          0.6702600565360733,
          0.6551232583120037,
          0.7640901942143159,
          0.7315875468222939,
          0.7611838901230149,
          0.7318340831996496,
          0.7295248504935363,
          0.7405707983346546,
          0.7158068478786274,
          0.7340797321423719,
          0.7314651983168573,
          0.7094348108701394,
          0.6333763668449677,
          0.62679211233717,
          0.7640901942143159,
          0.7604856718983701,
          0.7640800764271862,
          0.7640968977884672,
          0.7641945027507793,
          0.7407293759974392,
          0.8045064724109745,
          0.7413925128912054,
          0.7405684438078757,
          0.7387771095768633,
          0.7402253940312354,
          0.738278072369529,
          0.7406301293268995,
          0.7381043593228078,
          0.7452230356567233,
          0.738329981688482,
          0.7450317598031518,
          0.7248887373228079,
          0.7305169391814497,
          0.7328186426171636,
          0.6569214830441115,
          0.7631075109650769,
          0.7889356330561504,
          0.6524693930095609,
          0.6518612152185985,
          0.7756434619130571,
          0.7699737578039858,
          0.6863336219547045,
          0.6945951674794443,
          0.7597930655743859,
          0.7037481181971675,
          0.7864324099024311,
          0.773680154205061,
          0.6673533782032244,
          0.7500346422985703,
          0.6958810788876797,
          0.7633984973247443,
          0.7490917498010707,
          0.7513947070374134,
          0.7773658196168031,
          0.7635008180024723,
          0.7679382841896228,
          0.6805608928619818,
          0.6168940313174689,
          0.28867997972289167,
          0.6822214439626304,
          0.6155771211910969,
          0.28828533709912896,
          0.6751330236776419,
          0.6827618617150206,
          0.28818186775559085,
          -0.0013532522743284537,
          0.28833948773706586,
          0.30438704600927535,
          0.6893511654481038,
          0.7014820669556446,
          0.28833367885402295,
          0.2877652972653057,
          0.6401212821087714,
          0.13485919725590811,
          0.6063032132101815,
          0.7577980097256408,
          0.7597516694842644,
          0.765500458016292,
          0.65620637945693,
          0.6323124514770251,
          0.8022959599253798,
          0.80496470814667,
          0.7487789079922418,
          0.7945559316721974,
          0.8013298142652836,
          0.7974224158087133,
          0.7990456239882577,
          0.7962888946328358,
          0.7926745081685078,
          0.819910803885185,
          0.8335693392470791,
          0.839683216273141,
          0.829797002372674,
          0.826899759260949,
          0.8064011262350576,
          0.8107511900675576,
          0.7960693101984285,
          0.807976415711899,
          0.8035836178559619,
          0.8137723616929206,
          0.8195621058809544,
          0.8391529852939745,
          0.8391185526190927,
          0.83829013567705,
          0.838863045899861,
          0.8387348579718571,
          0.8418801047907072,
          0.7216046503743596,
          0.7183760137770276,
          0.8427969255387874,
          0.7330792781753115,
          0.7207844970739719,
          0.71604363067367,
          0.7269314959387774,
          0.7298565133525451,
          0.7463931302733944,
          0.7396877563011249
         ],
         "yaxis": "y5"
        },
        {
         "marker": {
          "color": [
           0,
           1,
           2,
           3,
           4,
           5,
           6,
           7,
           8,
           9,
           10,
           11,
           12,
           13,
           14,
           15,
           16,
           17,
           18,
           19,
           20,
           21,
           22,
           23,
           24,
           25,
           26,
           27,
           28,
           29,
           30,
           31,
           32,
           33,
           34,
           35,
           36,
           37,
           38,
           39,
           40,
           41,
           42,
           43,
           44,
           45,
           46,
           47,
           48,
           49,
           50,
           51,
           52,
           53,
           54,
           55,
           56,
           57,
           58,
           59,
           60,
           61,
           62,
           63,
           64,
           65,
           66,
           67,
           68,
           69,
           70,
           71,
           72,
           73,
           74,
           75,
           76,
           77,
           78,
           79,
           80,
           81,
           82,
           83,
           84,
           85,
           86,
           87,
           88,
           89,
           90,
           91,
           92,
           93,
           94,
           95,
           96,
           97,
           98,
           99,
           100,
           101,
           102,
           103,
           104,
           105,
           106,
           107,
           108,
           109,
           110,
           111,
           112,
           113,
           114,
           115,
           116,
           117,
           118,
           119,
           120,
           121,
           122,
           123,
           124,
           125,
           126,
           127,
           128,
           129,
           130,
           131,
           132,
           133,
           134,
           135,
           136,
           137,
           138,
           139,
           140,
           141,
           142,
           143,
           144,
           145,
           146,
           147,
           148,
           149,
           150,
           151,
           152,
           153,
           154,
           155,
           156,
           157,
           158,
           159,
           160,
           161,
           162,
           163,
           164,
           165,
           166,
           167,
           168,
           169,
           170,
           171,
           172,
           173,
           174,
           175,
           176,
           177,
           178,
           179,
           180,
           181,
           182,
           183,
           184,
           185,
           186,
           187,
           188,
           189,
           190,
           191,
           192,
           193,
           194,
           195,
           196,
           197,
           198,
           199
          ],
          "colorbar": {
           "title": {
            "text": "#Trials"
           },
           "x": 1,
           "xpad": 40
          },
          "colorscale": [
           [
            0,
            "rgb(247,251,255)"
           ],
           [
            0.125,
            "rgb(222,235,247)"
           ],
           [
            0.25,
            "rgb(198,219,239)"
           ],
           [
            0.375,
            "rgb(158,202,225)"
           ],
           [
            0.5,
            "rgb(107,174,214)"
           ],
           [
            0.625,
            "rgb(66,146,198)"
           ],
           [
            0.75,
            "rgb(33,113,181)"
           ],
           [
            0.875,
            "rgb(8,81,156)"
           ],
           [
            1,
            "rgb(8,48,107)"
           ]
          ],
          "line": {
           "color": "Grey",
           "width": 0.5
          },
          "showscale": false
         },
         "mode": "markers",
         "showlegend": false,
         "type": "scatter",
         "x": [
          694,
          639,
          792,
          803,
          598,
          346,
          276,
          841,
          849,
          614,
          427,
          689,
          718,
          803,
          847,
          421,
          576,
          57,
          85,
          72,
          980,
          73,
          992,
          974,
          168,
          958,
          988,
          987,
          961,
          179,
          195,
          948,
          981,
          991,
          468,
          461,
          496,
          493,
          474,
          368,
          332,
          699,
          331,
          365,
          333,
          340,
          336,
          319,
          523,
          374,
          564,
          535,
          554,
          551,
          646,
          674,
          660,
          655,
          659,
          629,
          703,
          644,
          695,
          732,
          716,
          731,
          745,
          275,
          740,
          740,
          401,
          762,
          406,
          593,
          413,
          602,
          132,
          590,
          132,
          123,
          109,
          124,
          130,
          117,
          282,
          287,
          237,
          231,
          234,
          225,
          242,
          227,
          203,
          224,
          214,
          232,
          222,
          239,
          226,
          219,
          218,
          222,
          253,
          265,
          255,
          267,
          256,
          164,
          161,
          164,
          166,
          169,
          298,
          304,
          303,
          304,
          300,
          299,
          283,
          303,
          189,
          295,
          182,
          189,
          189,
          187,
          192,
          200,
          198,
          203,
          201,
          206,
          271,
          209,
          275,
          270,
          270,
          94,
          143,
          271,
          96,
          61,
          82,
          147,
          82,
          153,
          151,
          135,
          146,
          148,
          146,
          153,
          154,
          144,
          249,
          249,
          249,
          244,
          252,
          252,
          178,
          178,
          210,
          212,
          212,
          105,
          180,
          178,
          176,
          212,
          212,
          177,
          187,
          176,
          176,
          177,
          191,
          179,
          179,
          179,
          190,
          173,
          182,
          187,
          179,
          173,
          177,
          171,
          175,
          177,
          170,
          169,
          170,
          165,
          115,
          120,
          127,
          120,
          125,
          118
         ],
         "xaxis": "x6",
         "y": [
          0.18690593873684422,
          0.7522673268920743,
          0.2338431710328644,
          -0.0013301517740015312,
          0.6137062265008765,
          0.16194840218469625,
          0.13681908824762234,
          0.4710324668464513,
          0.2792255974921575,
          -0.0013407015385649812,
          0.18549388628374747,
          0.14621986898935171,
          0.287850853481464,
          0.5432540668498562,
          0.17957788238346523,
          0.15647704144636831,
          -0.0013486097333834878,
          0.6594943271582097,
          0.6901633680981666,
          0.6835395710052412,
          0.6886971884126672,
          0.6828614593522937,
          0.5605276126268232,
          0.5663139578781541,
          0.5607584265811723,
          0.6126688229076873,
          0.5628379118774742,
          0.5576325343064334,
          0.5630941315908998,
          0.5576325343064336,
          0.653480348098505,
          0.6379948785980425,
          0.5570053871047312,
          0.6858518839261715,
          0.6860724919210556,
          0.6870054511467084,
          0.6950688655989212,
          0.5553386540957125,
          0.6949326892297025,
          0.6950930233655775,
          0.5553386540957129,
          0.718676985422443,
          0.7172600934728091,
          0.5553386540957129,
          0.15767743222805325,
          0.6214135905320622,
          -0.00135714017519184,
          0.33851622267835724,
          0.626955353821885,
          0.610164278961931,
          0.6087245962772553,
          0.5499946982775368,
          0.5877982918861344,
          0.37614939216238275,
          0.41047493143166697,
          0.3837824681178251,
          0.26015491839110383,
          0.3903963725964843,
          0.4775600380717894,
          0.6013310131344685,
          0.5553386540957125,
          0.276776497910051,
          0.46710358843979316,
          0.6491075677693376,
          0.2767764979100509,
          0.2767764979100509,
          0.2767764979100509,
          0.276776497910051,
          0.5553386540957126,
          0.6606320414735215,
          0.6475831284792585,
          0.6655656046285479,
          0.6518340948531478,
          0.6571542601731999,
          0.6397795308981464,
          0.6555326829452285,
          0.690950530534683,
          0.7680289237637512,
          0.6915273976217292,
          0.6637349147469912,
          0.6538036704729315,
          0.6470613731700471,
          0.6703632052004993,
          0.6702600565360733,
          0.6551232583120037,
          0.7640901942143159,
          0.7315875468222939,
          0.7611838901230149,
          0.7318340831996496,
          0.7295248504935363,
          0.7405707983346546,
          0.7158068478786274,
          0.7340797321423719,
          0.7314651983168573,
          0.7094348108701394,
          0.6333763668449677,
          0.62679211233717,
          0.7640901942143159,
          0.7604856718983701,
          0.7640800764271862,
          0.7640968977884672,
          0.7641945027507793,
          0.7407293759974392,
          0.8045064724109745,
          0.7413925128912054,
          0.7405684438078757,
          0.7387771095768633,
          0.7402253940312354,
          0.738278072369529,
          0.7406301293268995,
          0.7381043593228078,
          0.7452230356567233,
          0.738329981688482,
          0.7450317598031518,
          0.7248887373228079,
          0.7305169391814497,
          0.7328186426171636,
          0.6569214830441115,
          0.7631075109650769,
          0.7889356330561504,
          0.6524693930095609,
          0.6518612152185985,
          0.7756434619130571,
          0.7699737578039858,
          0.6863336219547045,
          0.6945951674794443,
          0.7597930655743859,
          0.7037481181971675,
          0.7864324099024311,
          0.773680154205061,
          0.6673533782032244,
          0.7500346422985703,
          0.6958810788876797,
          0.7633984973247443,
          0.7490917498010707,
          0.7513947070374134,
          0.7773658196168031,
          0.7635008180024723,
          0.7679382841896228,
          0.6805608928619818,
          0.6168940313174689,
          0.28867997972289167,
          0.6822214439626304,
          0.6155771211910969,
          0.28828533709912896,
          0.6751330236776419,
          0.6827618617150206,
          0.28818186775559085,
          -0.0013532522743284537,
          0.28833948773706586,
          0.30438704600927535,
          0.6893511654481038,
          0.7014820669556446,
          0.28833367885402295,
          0.2877652972653057,
          0.6401212821087714,
          0.13485919725590811,
          0.6063032132101815,
          0.7577980097256408,
          0.7597516694842644,
          0.765500458016292,
          0.65620637945693,
          0.6323124514770251,
          0.8022959599253798,
          0.80496470814667,
          0.7487789079922418,
          0.7945559316721974,
          0.8013298142652836,
          0.7974224158087133,
          0.7990456239882577,
          0.7962888946328358,
          0.7926745081685078,
          0.819910803885185,
          0.8335693392470791,
          0.839683216273141,
          0.829797002372674,
          0.826899759260949,
          0.8064011262350576,
          0.8107511900675576,
          0.7960693101984285,
          0.807976415711899,
          0.8035836178559619,
          0.8137723616929206,
          0.8195621058809544,
          0.8391529852939745,
          0.8391185526190927,
          0.83829013567705,
          0.838863045899861,
          0.8387348579718571,
          0.8418801047907072,
          0.7216046503743596,
          0.7183760137770276,
          0.8427969255387874,
          0.7330792781753115,
          0.7207844970739719,
          0.71604363067367,
          0.7269314959387774,
          0.7298565133525451,
          0.7463931302733944,
          0.7396877563011249
         ],
         "yaxis": "y6"
        }
       ],
       "layout": {
        "template": {
         "data": {
          "bar": [
           {
            "error_x": {
             "color": "#2a3f5f"
            },
            "error_y": {
             "color": "#2a3f5f"
            },
            "marker": {
             "line": {
              "color": "#E5ECF6",
              "width": 0.5
             },
             "pattern": {
              "fillmode": "overlay",
              "size": 10,
              "solidity": 0.2
             }
            },
            "type": "bar"
           }
          ],
          "barpolar": [
           {
            "marker": {
             "line": {
              "color": "#E5ECF6",
              "width": 0.5
             },
             "pattern": {
              "fillmode": "overlay",
              "size": 10,
              "solidity": 0.2
             }
            },
            "type": "barpolar"
           }
          ],
          "carpet": [
           {
            "aaxis": {
             "endlinecolor": "#2a3f5f",
             "gridcolor": "white",
             "linecolor": "white",
             "minorgridcolor": "white",
             "startlinecolor": "#2a3f5f"
            },
            "baxis": {
             "endlinecolor": "#2a3f5f",
             "gridcolor": "white",
             "linecolor": "white",
             "minorgridcolor": "white",
             "startlinecolor": "#2a3f5f"
            },
            "type": "carpet"
           }
          ],
          "choropleth": [
           {
            "colorbar": {
             "outlinewidth": 0,
             "ticks": ""
            },
            "type": "choropleth"
           }
          ],
          "contour": [
           {
            "colorbar": {
             "outlinewidth": 0,
             "ticks": ""
            },
            "colorscale": [
             [
              0,
              "#0d0887"
             ],
             [
              0.1111111111111111,
              "#46039f"
             ],
             [
              0.2222222222222222,
              "#7201a8"
             ],
             [
              0.3333333333333333,
              "#9c179e"
             ],
             [
              0.4444444444444444,
              "#bd3786"
             ],
             [
              0.5555555555555556,
              "#d8576b"
             ],
             [
              0.6666666666666666,
              "#ed7953"
             ],
             [
              0.7777777777777778,
              "#fb9f3a"
             ],
             [
              0.8888888888888888,
              "#fdca26"
             ],
             [
              1,
              "#f0f921"
             ]
            ],
            "type": "contour"
           }
          ],
          "contourcarpet": [
           {
            "colorbar": {
             "outlinewidth": 0,
             "ticks": ""
            },
            "type": "contourcarpet"
           }
          ],
          "heatmap": [
           {
            "colorbar": {
             "outlinewidth": 0,
             "ticks": ""
            },
            "colorscale": [
             [
              0,
              "#0d0887"
             ],
             [
              0.1111111111111111,
              "#46039f"
             ],
             [
              0.2222222222222222,
              "#7201a8"
             ],
             [
              0.3333333333333333,
              "#9c179e"
             ],
             [
              0.4444444444444444,
              "#bd3786"
             ],
             [
              0.5555555555555556,
              "#d8576b"
             ],
             [
              0.6666666666666666,
              "#ed7953"
             ],
             [
              0.7777777777777778,
              "#fb9f3a"
             ],
             [
              0.8888888888888888,
              "#fdca26"
             ],
             [
              1,
              "#f0f921"
             ]
            ],
            "type": "heatmap"
           }
          ],
          "heatmapgl": [
           {
            "colorbar": {
             "outlinewidth": 0,
             "ticks": ""
            },
            "colorscale": [
             [
              0,
              "#0d0887"
             ],
             [
              0.1111111111111111,
              "#46039f"
             ],
             [
              0.2222222222222222,
              "#7201a8"
             ],
             [
              0.3333333333333333,
              "#9c179e"
             ],
             [
              0.4444444444444444,
              "#bd3786"
             ],
             [
              0.5555555555555556,
              "#d8576b"
             ],
             [
              0.6666666666666666,
              "#ed7953"
             ],
             [
              0.7777777777777778,
              "#fb9f3a"
             ],
             [
              0.8888888888888888,
              "#fdca26"
             ],
             [
              1,
              "#f0f921"
             ]
            ],
            "type": "heatmapgl"
           }
          ],
          "histogram": [
           {
            "marker": {
             "pattern": {
              "fillmode": "overlay",
              "size": 10,
              "solidity": 0.2
             }
            },
            "type": "histogram"
           }
          ],
          "histogram2d": [
           {
            "colorbar": {
             "outlinewidth": 0,
             "ticks": ""
            },
            "colorscale": [
             [
              0,
              "#0d0887"
             ],
             [
              0.1111111111111111,
              "#46039f"
             ],
             [
              0.2222222222222222,
              "#7201a8"
             ],
             [
              0.3333333333333333,
              "#9c179e"
             ],
             [
              0.4444444444444444,
              "#bd3786"
             ],
             [
              0.5555555555555556,
              "#d8576b"
             ],
             [
              0.6666666666666666,
              "#ed7953"
             ],
             [
              0.7777777777777778,
              "#fb9f3a"
             ],
             [
              0.8888888888888888,
              "#fdca26"
             ],
             [
              1,
              "#f0f921"
             ]
            ],
            "type": "histogram2d"
           }
          ],
          "histogram2dcontour": [
           {
            "colorbar": {
             "outlinewidth": 0,
             "ticks": ""
            },
            "colorscale": [
             [
              0,
              "#0d0887"
             ],
             [
              0.1111111111111111,
              "#46039f"
             ],
             [
              0.2222222222222222,
              "#7201a8"
             ],
             [
              0.3333333333333333,
              "#9c179e"
             ],
             [
              0.4444444444444444,
              "#bd3786"
             ],
             [
              0.5555555555555556,
              "#d8576b"
             ],
             [
              0.6666666666666666,
              "#ed7953"
             ],
             [
              0.7777777777777778,
              "#fb9f3a"
             ],
             [
              0.8888888888888888,
              "#fdca26"
             ],
             [
              1,
              "#f0f921"
             ]
            ],
            "type": "histogram2dcontour"
           }
          ],
          "mesh3d": [
           {
            "colorbar": {
             "outlinewidth": 0,
             "ticks": ""
            },
            "type": "mesh3d"
           }
          ],
          "parcoords": [
           {
            "line": {
             "colorbar": {
              "outlinewidth": 0,
              "ticks": ""
             }
            },
            "type": "parcoords"
           }
          ],
          "pie": [
           {
            "automargin": true,
            "type": "pie"
           }
          ],
          "scatter": [
           {
            "marker": {
             "colorbar": {
              "outlinewidth": 0,
              "ticks": ""
             }
            },
            "type": "scatter"
           }
          ],
          "scatter3d": [
           {
            "line": {
             "colorbar": {
              "outlinewidth": 0,
              "ticks": ""
             }
            },
            "marker": {
             "colorbar": {
              "outlinewidth": 0,
              "ticks": ""
             }
            },
            "type": "scatter3d"
           }
          ],
          "scattercarpet": [
           {
            "marker": {
             "colorbar": {
              "outlinewidth": 0,
              "ticks": ""
             }
            },
            "type": "scattercarpet"
           }
          ],
          "scattergeo": [
           {
            "marker": {
             "colorbar": {
              "outlinewidth": 0,
              "ticks": ""
             }
            },
            "type": "scattergeo"
           }
          ],
          "scattergl": [
           {
            "marker": {
             "colorbar": {
              "outlinewidth": 0,
              "ticks": ""
             }
            },
            "type": "scattergl"
           }
          ],
          "scattermapbox": [
           {
            "marker": {
             "colorbar": {
              "outlinewidth": 0,
              "ticks": ""
             }
            },
            "type": "scattermapbox"
           }
          ],
          "scatterpolar": [
           {
            "marker": {
             "colorbar": {
              "outlinewidth": 0,
              "ticks": ""
             }
            },
            "type": "scatterpolar"
           }
          ],
          "scatterpolargl": [
           {
            "marker": {
             "colorbar": {
              "outlinewidth": 0,
              "ticks": ""
             }
            },
            "type": "scatterpolargl"
           }
          ],
          "scatterternary": [
           {
            "marker": {
             "colorbar": {
              "outlinewidth": 0,
              "ticks": ""
             }
            },
            "type": "scatterternary"
           }
          ],
          "surface": [
           {
            "colorbar": {
             "outlinewidth": 0,
             "ticks": ""
            },
            "colorscale": [
             [
              0,
              "#0d0887"
             ],
             [
              0.1111111111111111,
              "#46039f"
             ],
             [
              0.2222222222222222,
              "#7201a8"
             ],
             [
              0.3333333333333333,
              "#9c179e"
             ],
             [
              0.4444444444444444,
              "#bd3786"
             ],
             [
              0.5555555555555556,
              "#d8576b"
             ],
             [
              0.6666666666666666,
              "#ed7953"
             ],
             [
              0.7777777777777778,
              "#fb9f3a"
             ],
             [
              0.8888888888888888,
              "#fdca26"
             ],
             [
              1,
              "#f0f921"
             ]
            ],
            "type": "surface"
           }
          ],
          "table": [
           {
            "cells": {
             "fill": {
              "color": "#EBF0F8"
             },
             "line": {
              "color": "white"
             }
            },
            "header": {
             "fill": {
              "color": "#C8D4E3"
             },
             "line": {
              "color": "white"
             }
            },
            "type": "table"
           }
          ]
         },
         "layout": {
          "annotationdefaults": {
           "arrowcolor": "#2a3f5f",
           "arrowhead": 0,
           "arrowwidth": 1
          },
          "autotypenumbers": "strict",
          "coloraxis": {
           "colorbar": {
            "outlinewidth": 0,
            "ticks": ""
           }
          },
          "colorscale": {
           "diverging": [
            [
             0,
             "#8e0152"
            ],
            [
             0.1,
             "#c51b7d"
            ],
            [
             0.2,
             "#de77ae"
            ],
            [
             0.3,
             "#f1b6da"
            ],
            [
             0.4,
             "#fde0ef"
            ],
            [
             0.5,
             "#f7f7f7"
            ],
            [
             0.6,
             "#e6f5d0"
            ],
            [
             0.7,
             "#b8e186"
            ],
            [
             0.8,
             "#7fbc41"
            ],
            [
             0.9,
             "#4d9221"
            ],
            [
             1,
             "#276419"
            ]
           ],
           "sequential": [
            [
             0,
             "#0d0887"
            ],
            [
             0.1111111111111111,
             "#46039f"
            ],
            [
             0.2222222222222222,
             "#7201a8"
            ],
            [
             0.3333333333333333,
             "#9c179e"
            ],
            [
             0.4444444444444444,
             "#bd3786"
            ],
            [
             0.5555555555555556,
             "#d8576b"
            ],
            [
             0.6666666666666666,
             "#ed7953"
            ],
            [
             0.7777777777777778,
             "#fb9f3a"
            ],
            [
             0.8888888888888888,
             "#fdca26"
            ],
            [
             1,
             "#f0f921"
            ]
           ],
           "sequentialminus": [
            [
             0,
             "#0d0887"
            ],
            [
             0.1111111111111111,
             "#46039f"
            ],
            [
             0.2222222222222222,
             "#7201a8"
            ],
            [
             0.3333333333333333,
             "#9c179e"
            ],
            [
             0.4444444444444444,
             "#bd3786"
            ],
            [
             0.5555555555555556,
             "#d8576b"
            ],
            [
             0.6666666666666666,
             "#ed7953"
            ],
            [
             0.7777777777777778,
             "#fb9f3a"
            ],
            [
             0.8888888888888888,
             "#fdca26"
            ],
            [
             1,
             "#f0f921"
            ]
           ]
          },
          "colorway": [
           "#636efa",
           "#EF553B",
           "#00cc96",
           "#ab63fa",
           "#FFA15A",
           "#19d3f3",
           "#FF6692",
           "#B6E880",
           "#FF97FF",
           "#FECB52"
          ],
          "font": {
           "color": "#2a3f5f"
          },
          "geo": {
           "bgcolor": "white",
           "lakecolor": "white",
           "landcolor": "#E5ECF6",
           "showlakes": true,
           "showland": true,
           "subunitcolor": "white"
          },
          "hoverlabel": {
           "align": "left"
          },
          "hovermode": "closest",
          "mapbox": {
           "style": "light"
          },
          "paper_bgcolor": "white",
          "plot_bgcolor": "#E5ECF6",
          "polar": {
           "angularaxis": {
            "gridcolor": "white",
            "linecolor": "white",
            "ticks": ""
           },
           "bgcolor": "#E5ECF6",
           "radialaxis": {
            "gridcolor": "white",
            "linecolor": "white",
            "ticks": ""
           }
          },
          "scene": {
           "xaxis": {
            "backgroundcolor": "#E5ECF6",
            "gridcolor": "white",
            "gridwidth": 2,
            "linecolor": "white",
            "showbackground": true,
            "ticks": "",
            "zerolinecolor": "white"
           },
           "yaxis": {
            "backgroundcolor": "#E5ECF6",
            "gridcolor": "white",
            "gridwidth": 2,
            "linecolor": "white",
            "showbackground": true,
            "ticks": "",
            "zerolinecolor": "white"
           },
           "zaxis": {
            "backgroundcolor": "#E5ECF6",
            "gridcolor": "white",
            "gridwidth": 2,
            "linecolor": "white",
            "showbackground": true,
            "ticks": "",
            "zerolinecolor": "white"
           }
          },
          "shapedefaults": {
           "line": {
            "color": "#2a3f5f"
           }
          },
          "ternary": {
           "aaxis": {
            "gridcolor": "white",
            "linecolor": "white",
            "ticks": ""
           },
           "baxis": {
            "gridcolor": "white",
            "linecolor": "white",
            "ticks": ""
           },
           "bgcolor": "#E5ECF6",
           "caxis": {
            "gridcolor": "white",
            "linecolor": "white",
            "ticks": ""
           }
          },
          "title": {
           "x": 0.05
          },
          "xaxis": {
           "automargin": true,
           "gridcolor": "white",
           "linecolor": "white",
           "ticks": "",
           "title": {
            "standoff": 15
           },
           "zerolinecolor": "white",
           "zerolinewidth": 2
          },
          "yaxis": {
           "automargin": true,
           "gridcolor": "white",
           "linecolor": "white",
           "ticks": "",
           "title": {
            "standoff": 15
           },
           "zerolinecolor": "white",
           "zerolinewidth": 2
          }
         }
        },
        "title": {
         "text": "Slice Plot"
        },
        "width": 1800,
        "xaxis": {
         "anchor": "y",
         "domain": [
          0,
          0.1388888888888889
         ],
         "title": {
          "text": "bootstrap"
         }
        },
        "xaxis2": {
         "anchor": "y2",
         "domain": [
          0.17222222222222222,
          0.3111111111111111
         ],
         "title": {
          "text": "max_depth"
         }
        },
        "xaxis3": {
         "anchor": "y3",
         "domain": [
          0.34444444444444444,
          0.48333333333333334
         ],
         "title": {
          "text": "max_features"
         }
        },
        "xaxis4": {
         "anchor": "y4",
         "domain": [
          0.5166666666666667,
          0.6555555555555557
         ],
         "title": {
          "text": "min_samples_leaf"
         }
        },
        "xaxis5": {
         "anchor": "y5",
         "domain": [
          0.6888888888888889,
          0.8277777777777777
         ],
         "title": {
          "text": "min_samples_split"
         }
        },
        "xaxis6": {
         "anchor": "y6",
         "domain": [
          0.861111111111111,
          1
         ],
         "title": {
          "text": "n_estimators"
         }
        },
        "yaxis": {
         "anchor": "x",
         "domain": [
          0,
          1
         ],
         "title": {
          "text": "Objective Value"
         }
        },
        "yaxis2": {
         "anchor": "x2",
         "domain": [
          0,
          1
         ],
         "matches": "y",
         "showticklabels": false
        },
        "yaxis3": {
         "anchor": "x3",
         "domain": [
          0,
          1
         ],
         "matches": "y",
         "showticklabels": false
        },
        "yaxis4": {
         "anchor": "x4",
         "domain": [
          0,
          1
         ],
         "matches": "y",
         "showticklabels": false
        },
        "yaxis5": {
         "anchor": "x5",
         "domain": [
          0,
          1
         ],
         "matches": "y",
         "showticklabels": false
        },
        "yaxis6": {
         "anchor": "x6",
         "domain": [
          0,
          1
         ],
         "matches": "y",
         "showticklabels": false
        }
       }
      }
     },
     "metadata": {},
     "output_type": "display_data"
    }
   ],
   "source": [
    "make_optuna_visualizations(rf_study)"
   ]
  },
  {
   "cell_type": "code",
   "execution_count": 38,
   "metadata": {},
   "outputs": [],
   "source": [
    "rf_tuned = rf_oscv.best_estimator_"
   ]
  },
  {
   "cell_type": "code",
   "execution_count": 39,
   "metadata": {},
   "outputs": [
    {
     "name": "stdout",
     "output_type": "stream",
     "text": [
      "Train R2: 0.849384\n",
      "Test R2: 0.806394\n"
     ]
    }
   ],
   "source": [
    "print('Train R2:', f.evaluate_model(rf_tuned, metric = 'r2', **train_data))\n",
    "print('Test R2:', f.evaluate_model(rf_tuned, metric = 'r2', **test_data))"
   ]
  },
  {
   "cell_type": "code",
   "execution_count": 44,
   "metadata": {},
   "outputs": [
    {
     "data": {
      "text/plain": [
       "['./outputs/rf_model.pkl']"
      ]
     },
     "execution_count": 44,
     "metadata": {},
     "output_type": "execute_result"
    }
   ],
   "source": [
    "joblib.dump(rf_tuned, p.OUTPUTS_PATH + 'rf_model.pkl')"
   ]
  },
  {
   "cell_type": "markdown",
   "metadata": {},
   "source": [
    "R2 scores of 0.797747 and 0.756056 on our train and test data respectively. This is a substantial change to our initial RandomForest model; however, we have eliminated the massive over fitting that was being performed at the initial modelling stage. We will look at how our model performs on our validation data and compare it to other models."
   ]
  }
 ],
 "metadata": {
  "interpreter": {
   "hash": "d4d0be0daef6eafac08144bde7256d0240e3dc154c04f6176bdf38ffbf1040ae"
  },
  "kernelspec": {
   "display_name": "Python 3.10.0 ('itai-dev')",
   "language": "python",
   "name": "python3"
  },
  "language_info": {
   "codemirror_mode": {
    "name": "ipython",
    "version": 3
   },
   "file_extension": ".py",
   "mimetype": "text/x-python",
   "name": "python",
   "nbconvert_exporter": "python",
   "pygments_lexer": "ipython3",
   "version": "3.9.10"
  },
  "orig_nbformat": 4
 },
 "nbformat": 4,
 "nbformat_minor": 2
}
