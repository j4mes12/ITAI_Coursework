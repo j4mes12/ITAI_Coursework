{
 "cells": [
  {
   "cell_type": "markdown",
   "metadata": {},
   "source": [
    "# Model Tuning\n",
    "---"
   ]
  },
  {
   "cell_type": "markdown",
   "metadata": {},
   "source": [
    "### Import Packages"
   ]
  },
  {
   "cell_type": "code",
   "execution_count": 1,
   "metadata": {},
   "outputs": [
    {
     "name": "stderr",
     "output_type": "stream",
     "text": [
      "/opt/anaconda3/envs/data_analytics/lib/python3.9/site-packages/xgboost/compat.py:36: FutureWarning: pandas.Int64Index is deprecated and will be removed from pandas in a future version. Use pandas.Index with the appropriate dtype instead.\n",
      "  from pandas import MultiIndex, Int64Index\n"
     ]
    }
   ],
   "source": [
    "import pandas as pd\n",
    "import numpy as np\n",
    "import seaborn as sns\n",
    "import matplotlib.pyplot as plt\n",
    "\n",
    "import warnings\n",
    "\n",
    "import params as p\n",
    "import functions as f\n",
    "\n",
    "from xgboost import XGBRegressor\n",
    "\n",
    "from sklearn.model_selection import cross_val_score\n",
    "from sklearn.linear_model import LinearRegression\n",
    "from sklearn.ensemble import RandomForestRegressor\n",
    "from sklearn.naive_bayes import GaussianNB\n",
    "from sklearn.metrics import r2_score\n",
    "\n",
    "import optuna\n",
    "from optuna.integration import OptunaSearchCV\n",
    "from optuna.distributions import IntUniformDistribution, UniformDistribution, LogUniformDistribution, CategoricalDistribution\n",
    "from optuna.samplers import TPESampler"
   ]
  },
  {
   "cell_type": "markdown",
   "metadata": {},
   "source": [
    "### Settings"
   ]
  },
  {
   "cell_type": "code",
   "execution_count": 2,
   "metadata": {},
   "outputs": [],
   "source": [
    "warnings.simplefilter(action='ignore', category = FutureWarning)"
   ]
  },
  {
   "cell_type": "markdown",
   "metadata": {},
   "source": [
    "### Import Data"
   ]
  },
  {
   "cell_type": "code",
   "execution_count": 3,
   "metadata": {},
   "outputs": [],
   "source": [
    "# Load train, test and validation datasets\n",
    "train, test, val = f.load_split_datasets(part = '03')"
   ]
  },
  {
   "cell_type": "code",
   "execution_count": 4,
   "metadata": {},
   "outputs": [],
   "source": [
    "# Split datasets into X and y components\n",
    "X_train, y_train = f.split_data_X_y(train)\n",
    "X_test, y_test = f.split_data_X_y(test)\n",
    "X_val, y_val = f.split_data_X_y(val)"
   ]
  },
  {
   "cell_type": "code",
   "execution_count": 5,
   "metadata": {},
   "outputs": [],
   "source": [
    "# Define train/test/validation dictionaries to make fitting and evaluation arguments cleaner\n",
    "train_data = {'X' : X_train, 'y' : y_train}\n",
    "test_data = {'X' : X_test, 'y' : y_test}\n",
    "val_data = {'X' : X_val, 'y' : y_val}"
   ]
  },
  {
   "cell_type": "markdown",
   "metadata": {},
   "source": [
    "### Create Baseline Model"
   ]
  },
  {
   "cell_type": "code",
   "execution_count": 6,
   "metadata": {},
   "outputs": [
    {
     "name": "stdout",
     "output_type": "stream",
     "text": [
      "lr model... trained\n"
     ]
    }
   ],
   "source": [
    "print('lr model...', end = ' ')\n",
    "lr = LinearRegression().fit(**train_data)\n",
    "print('trained')\n",
    "\n",
    "# print('xgb model...', end = ' ')\n",
    "# xgb = XGBRegressor(random_state = p.RANDOM_STATE).fit(**train_data)\n",
    "# print('trained')\n",
    "\n",
    "# print('rf model...', end = ' ')\n",
    "# rf = RandomForestRegressor(random_state=p.RANDOM_STATE).fit(**train_data)\n",
    "# print('trained')"
   ]
  },
  {
   "cell_type": "markdown",
   "metadata": {},
   "source": [
    "### Evaluate Initial Models on Train and Test Data"
   ]
  },
  {
   "cell_type": "code",
   "execution_count": 7,
   "metadata": {},
   "outputs": [
    {
     "data": {
      "text/html": [
       "<div>\n",
       "<style scoped>\n",
       "    .dataframe tbody tr th:only-of-type {\n",
       "        vertical-align: middle;\n",
       "    }\n",
       "\n",
       "    .dataframe tbody tr th {\n",
       "        vertical-align: top;\n",
       "    }\n",
       "\n",
       "    .dataframe thead th {\n",
       "        text-align: right;\n",
       "    }\n",
       "</style>\n",
       "<table border=\"1\" class=\"dataframe\">\n",
       "  <thead>\n",
       "    <tr style=\"text-align: right;\">\n",
       "      <th></th>\n",
       "      <th>0</th>\n",
       "    </tr>\n",
       "  </thead>\n",
       "  <tbody>\n",
       "    <tr>\n",
       "      <th>R2 Train</th>\n",
       "      <td>0.567670</td>\n",
       "    </tr>\n",
       "    <tr>\n",
       "      <th>R2 Test</th>\n",
       "      <td>0.551524</td>\n",
       "    </tr>\n",
       "  </tbody>\n",
       "</table>\n",
       "</div>"
      ],
      "text/plain": [
       "                 0\n",
       "R2 Train  0.567670\n",
       "R2 Test   0.551524"
      ]
     },
     "execution_count": 7,
     "metadata": {},
     "output_type": "execute_result"
    }
   ],
   "source": [
    "models = [lr]\n",
    "\n",
    "rmse_initial_results = {\n",
    "    'Model' : ['Linear Regresssion (Baseline)'],\n",
    "    'R2 Train' : [f.evaluate_model(model, metric = 'r2', **train_data) for model in models],\n",
    "    'R2 Test' : [f.evaluate_model(model, metric = 'r2', **test_data) for model in models]\n",
    "    }\n",
    "initial_results = pd.DataFrame(rmse_initial_results)\n",
    "initial_results[['R2 Train', 'R2 Test']].T"
   ]
  },
  {
   "cell_type": "markdown",
   "metadata": {},
   "source": [
    "### Initial Models for xgb/rf"
   ]
  },
  {
   "cell_type": "code",
   "execution_count": 8,
   "metadata": {},
   "outputs": [],
   "source": [
    "base_params = {\n",
    "    'n_jobs' : -1,\n",
    "    'random_state' : p.RANDOM_STATE,\n",
    "    }"
   ]
  },
  {
   "cell_type": "code",
   "execution_count": 9,
   "metadata": {},
   "outputs": [],
   "source": [
    "xgb_optuna_base = XGBRegressor(**base_params)"
   ]
  },
  {
   "cell_type": "code",
   "execution_count": 10,
   "metadata": {},
   "outputs": [],
   "source": [
    "rf_optuna_base = RandomForestRegressor(**base_params)"
   ]
  },
  {
   "cell_type": "code",
   "execution_count": 11,
   "metadata": {},
   "outputs": [
    {
     "data": {
      "text/html": [
       "<div>\n",
       "<style scoped>\n",
       "    .dataframe tbody tr th:only-of-type {\n",
       "        vertical-align: middle;\n",
       "    }\n",
       "\n",
       "    .dataframe tbody tr th {\n",
       "        vertical-align: top;\n",
       "    }\n",
       "\n",
       "    .dataframe thead th {\n",
       "        text-align: right;\n",
       "    }\n",
       "</style>\n",
       "<table border=\"1\" class=\"dataframe\">\n",
       "  <thead>\n",
       "    <tr style=\"text-align: right;\">\n",
       "      <th></th>\n",
       "      <th>Model</th>\n",
       "      <th>R2 Train</th>\n",
       "      <th>R2 Test</th>\n",
       "    </tr>\n",
       "  </thead>\n",
       "  <tbody>\n",
       "    <tr>\n",
       "      <th>0</th>\n",
       "      <td>Linear Regresssion (Baseline)</td>\n",
       "      <td>0.567670</td>\n",
       "      <td>0.551524</td>\n",
       "    </tr>\n",
       "    <tr>\n",
       "      <th>1</th>\n",
       "      <td>Initial XGBoost</td>\n",
       "      <td>0.986061</td>\n",
       "      <td>0.910505</td>\n",
       "    </tr>\n",
       "    <tr>\n",
       "      <th>2</th>\n",
       "      <td>Initial Random Forest</td>\n",
       "      <td>0.983250</td>\n",
       "      <td>0.883622</td>\n",
       "    </tr>\n",
       "  </tbody>\n",
       "</table>\n",
       "</div>"
      ],
      "text/plain": [
       "                           Model  R2 Train   R2 Test\n",
       "0  Linear Regresssion (Baseline)  0.567670  0.551524\n",
       "1                Initial XGBoost  0.986061  0.910505\n",
       "2          Initial Random Forest  0.983250  0.883622"
      ]
     },
     "execution_count": 11,
     "metadata": {},
     "output_type": "execute_result"
    }
   ],
   "source": [
    "models = [lr, xgb_optuna_base, rf_optuna_base]\n",
    "\n",
    "rmse_initial_results = {\n",
    "    'Model' : ['Linear Regresssion (Baseline)', 'Initial XGBoost', 'Initial Random Forest'],\n",
    "    'R2 Train' : [f.evaluate_model(model.fit(**train_data), metric = 'r2', **train_data) for model in models],\n",
    "    'R2 Test' : [f.evaluate_model(model.fit(**train_data), metric = 'r2', **test_data) for model in models]\n",
    "    }\n",
    "initial_results = pd.DataFrame(rmse_initial_results)\n",
    "initial_results"
   ]
  },
  {
   "cell_type": "code",
   "execution_count": 30,
   "metadata": {},
   "outputs": [
    {
     "data": {
      "image/png": "[encoded data removed]",
      "text/plain": [
       "<Figure size 1080x576 with 1 Axes>"
      ]
     },
     "metadata": {
      "needs_background": "light"
     },
     "output_type": "display_data"
    }
   ],
   "source": [
    "fig, ax = plt.subplots(1, 1, figsize = (15, 8))\n",
    "\n",
    "melt_data = initial_results.melt(id_vars = 'Model')\n",
    "\n",
    "sns.barplot(\n",
    "    ax = ax,\n",
    "    data = melt_data,\n",
    "    x = 'Model',\n",
    "    y = 'value',\n",
    "    hue = 'variable').set(title = 'Bar Chart of R2 Scores of Train and Test Data')\n",
    "\n",
    "plt.ylabel('R2 Score')\n",
    "plt.legend()\n",
    "plt.savefig(p.OUTPUTS_PATH + 'initial_models.png')\n",
    "plt.show()"
   ]
  },
  {
   "cell_type": "markdown",
   "metadata": {},
   "source": [
    "1. The Linear Regression model does show a reasonable performance and, since we cannot tune it, will provide a good baseline to compare our initial results against.\n",
    "\n",
    "1. We can see that the XGBoost model does seem to have the best performance currently with R2 scores of 0.986061 and 0.910505 from train and test respectively. However, the RandomForest model does show similar R2, albeit slightly lower. Since these are the two models that are more open to extensive tuning, initial results show that the most appropriate model will be one of these. Comparing these models to our baseline, we can see that we have already got more value out changing the model before tuning."
   ]
  },
  {
   "cell_type": "markdown",
   "metadata": {},
   "source": [
    "### Model Tuning - Optuna"
   ]
  },
  {
   "cell_type": "markdown",
   "metadata": {},
   "source": [
    "We will be using the optuna framework to train our models due to the improved performance on sklearn's `RandomizedSearchCV` and the nice structure optuna brings.\n",
    "\n",
    "1. We start with the XGBoost tuning, breaking it down into three sections: Tree-based parameters, Regularization Parameters and Learning Rate. We will use a separate optuna study for each section to effectively tune the model and avoid over fitting. Tree-based parameters include `max_depth`, `min_child_weight`, `n_estimators`, `subsample`, `gamma` and `colsample_by_tree`; Regularization parameters include `alpha` and `lambda` to focus on over fitting control; and the final section just looks at finding the optimal `learning_rate` based on the other optimal parameters.\n",
    "\n",
    "1. Since all the RandomForest parameters fall into the same category, we can use a single optuna study to tune this model. The parameters that we will be tuning are the following: `max_depth`, `max_features`, `n_estimators`, `bootstrap`, `min_samples_leaf` and `min_samples_split`.\n",
    "\n",
    "1. The final model to tune is the Naive Bayes model which only requires tuning of `var_smoothing` which helps control over fitting."
   ]
  },
  {
   "cell_type": "code",
   "execution_count": 13,
   "metadata": {},
   "outputs": [],
   "source": [
    "sampler = TPESampler(seed = p.RANDOM_STATE)"
   ]
  },
  {
   "cell_type": "code",
   "execution_count": 14,
   "metadata": {},
   "outputs": [],
   "source": [
    "def test_hyperparameter_on_model(model, param, param_values):\n",
    "\n",
    "    base_params = {\n",
    "        'n_jobs' : -1,\n",
    "        'random_state' : p.RANDOM_STATE,\n",
    "        }\n",
    "\n",
    "    results_record = {'Train R2 Score' : [], 'Test R2 Score' : []}\n",
    "\n",
    "    for pv in param_values:\n",
    "\n",
    "        model_params = {**base_params, param : pv}\n",
    "\n",
    "\n",
    "        if model == 'xgb':\n",
    "\n",
    "            fn_model = XGBRegressor(**model_params).fit(**train_data)\n",
    "\n",
    "        elif model == 'rf':\n",
    "\n",
    "            fn_model = RandomForestRegressor(**model_params).fit(**train_data)\n",
    "\n",
    "        train_r2 = f.evaluate_model(fn_model, metric = 'r2', **train_data)\n",
    "        test_r2 = f.evaluate_model(fn_model, metric = 'r2', **test_data)\n",
    "\n",
    "        results_record['Train R2 Score'].append(train_r2)\n",
    "        results_record['Test R2 Score'].append(test_r2)\n",
    "\n",
    "    fig, ax = plt.subplots(1,1,figsize = (15,8))\n",
    "\n",
    "    sns.lineplot(ax=ax, data = pd.DataFrame(results_record), x = param_values, y = 'Train R2 Score')\n",
    "    sns.lineplot(ax=ax, data = pd.DataFrame(results_record), x = param_values, y = 'Test R2 Score')\n",
    "\n",
    "    plt.show()"
   ]
  },
  {
   "cell_type": "markdown",
   "metadata": {},
   "source": [
    "### XGB Tuning"
   ]
  },
  {
   "cell_type": "code",
   "execution_count": 15,
   "metadata": {},
   "outputs": [],
   "source": [
    "xgb_results_record = {\n",
    "    'Models' : ['Base', 'Tuned with Optuna'],\n",
    "    'Train R2 Score' :[],\n",
    "    'Test R2 Score' : []\n",
    "    }"
   ]
  },
  {
   "cell_type": "code",
   "execution_count": 56,
   "metadata": {},
   "outputs": [],
   "source": [
    "xgb_optuna_base = XGBRegressor(**base_params, max_depth = 3, learning_rate = 0.01)"
   ]
  },
  {
   "cell_type": "code",
   "execution_count": 17,
   "metadata": {},
   "outputs": [
    {
     "name": "stderr",
     "output_type": "stream",
     "text": [
      "\u001b[32m[I 2022-04-07 14:29:23,386]\u001b[0m A new study created in memory with name: XGB_HyperParam_CV\u001b[0m\n",
      "/var/folders/2f/cwgmhyzx4fn5cwp5j_dpmsd00000gn/T/ipykernel_67318/3095617847.py:14: ExperimentalWarning: OptunaSearchCV is experimental (supported from v0.17.0). The interface can change in the future.\n",
      "  xgb_oscv = OptunaSearchCV(\n",
      "\u001b[32m[I 2022-04-07 14:29:23,396]\u001b[0m Searching the best hyperparameters using 5083 samples...\u001b[0m\n",
      "\u001b[32m[I 2022-04-07 14:30:06,992]\u001b[0m Trial 3 finished with value: 0.5421425900176836 and parameters: {'min_child_weight': 8, 'n_estimators': 259, 'subsample': 0.3384038205943115, 'gamma': 3.926503885250751, 'colsample_bytree': 0.5483045432016561, 'reg_lambda': 0.24917781422244695, 'reg_alpha': 1.286926925179098, 'learning_rate': 1}. Best is trial 3 with value: 0.5421425900176836.\u001b[0m\n",
      "\u001b[32m[I 2022-04-07 14:30:42,381]\u001b[0m Trial 7 finished with value: 0.8219417689895435 and parameters: {'min_child_weight': 9, 'n_estimators': 500, 'subsample': 0.16034676547348375, 'gamma': 6.870658777039842, 'colsample_bytree': 0.1722392013418706, 'reg_lambda': 0.06481172710518068, 'reg_alpha': 1.5835083839634394, 'learning_rate': 0.1}. Best is trial 7 with value: 0.8219417689895435.\u001b[0m\n",
      "\u001b[32m[I 2022-04-07 14:30:48,349]\u001b[0m Trial 8 finished with value: 0.8720312624873483 and parameters: {'min_child_weight': 8, 'n_estimators': 247, 'subsample': 0.8526467875756427, 'gamma': 3.884199268048938, 'colsample_bytree': 0.5020889656554407, 'reg_lambda': 0.1374475945917013, 'reg_alpha': 6.825507052199246, 'learning_rate': 0.3}. Best is trial 8 with value: 0.8720312624873483.\u001b[0m\n",
      "\u001b[32m[I 2022-04-07 14:31:00,354]\u001b[0m Trial 5 finished with value: 0.8401930410804924 and parameters: {'min_child_weight': 10, 'n_estimators': 593, 'subsample': 0.1760454600102569, 'gamma': 0.021424205883397458, 'colsample_bytree': 0.2867977060186342, 'reg_lambda': 1.0962957596188978, 'reg_alpha': 0.01742396782502586, 'learning_rate': 0.03}. Best is trial 8 with value: 0.8720312624873483.\u001b[0m\n",
      "\u001b[32m[I 2022-04-07 14:31:06,534]\u001b[0m Trial 4 finished with value: 0.8680947950974799 and parameters: {'min_child_weight': 5, 'n_estimators': 607, 'subsample': 0.357824608194552, 'gamma': 3.999630024546603, 'colsample_bytree': 0.6840382884573712, 'reg_lambda': 5.864445310039165, 'reg_alpha': 2.9587221286216816, 'learning_rate': 0.03}. Best is trial 8 with value: 0.8720312624873483.\u001b[0m\n",
      "\u001b[32m[I 2022-04-07 14:31:12,520]\u001b[0m Trial 6 finished with value: 0.8175974064828434 and parameters: {'min_child_weight': 7, 'n_estimators': 668, 'subsample': 0.8289476730111291, 'gamma': 0.5773304693331669, 'colsample_bytree': 0.18952792742855962, 'reg_lambda': 0.6760409141192699, 'reg_alpha': 0.015561459599771801, 'learning_rate': 0.03}. Best is trial 8 with value: 0.8720312624873483.\u001b[0m\n",
      "\u001b[32m[I 2022-04-07 14:31:17,305]\u001b[0m Trial 10 finished with value: 0.8167171132248802 and parameters: {'min_child_weight': 8, 'n_estimators': 170, 'subsample': 0.6090849805968039, 'gamma': 0.5508985162835037, 'colsample_bytree': 0.6540004038235985, 'reg_lambda': 1.7856491306400508, 'reg_alpha': 0.03643510025184454, 'learning_rate': 0.03}. Best is trial 8 with value: 0.8720312624873483.\u001b[0m\n",
      "\u001b[32m[I 2022-04-07 14:31:25,701]\u001b[0m Trial 1 finished with value: 0.8365032204726122 and parameters: {'min_child_weight': 8, 'n_estimators': 720, 'subsample': 0.804475102638367, 'gamma': 1.4134091223883558, 'colsample_bytree': 0.9160210823475374, 'reg_lambda': 0.07221779408250295, 'reg_alpha': 0.016937082927052458, 'learning_rate': 0.01}. Best is trial 8 with value: 0.8720312624873483.\u001b[0m\n",
      "\u001b[32m[I 2022-04-07 14:31:26,423]\u001b[0m Trial 9 finished with value: 0.8383868130731944 and parameters: {'min_child_weight': 5, 'n_estimators': 258, 'subsample': 0.11020640547560401, 'gamma': 0.018301229171370524, 'colsample_bytree': 0.6254173442229198, 'reg_lambda': 1.2756060582388897, 'reg_alpha': 0.01973254098305875, 'learning_rate': 0.03}. Best is trial 8 with value: 0.8720312624873483.\u001b[0m\n",
      "\u001b[32m[I 2022-04-07 14:31:47,906]\u001b[0m Trial 2 finished with value: 0.8762662835937027 and parameters: {'min_child_weight': 5, 'n_estimators': 862, 'subsample': 0.8714409173266188, 'gamma': 0.012290433325882946, 'colsample_bytree': 0.881588569311872, 'reg_lambda': 0.02259293239568173, 'reg_alpha': 0.027416760888231202, 'learning_rate': 0.03}. Best is trial 2 with value: 0.8762662835937027.\u001b[0m\n",
      "\u001b[32m[I 2022-04-07 14:31:53,034]\u001b[0m Trial 15 finished with value: 0.7985674491024556 and parameters: {'min_child_weight': 10, 'n_estimators': 172, 'subsample': 0.6284132386289262, 'gamma': 0.6813363949838621, 'colsample_bytree': 0.4301075868683413, 'reg_lambda': 0.5956029499453043, 'reg_alpha': 0.017565182664569197, 'learning_rate': 0.03}. Best is trial 2 with value: 0.8762662835937027.\u001b[0m\n",
      "\u001b[32m[I 2022-04-07 14:31:59,261]\u001b[0m Trial 0 finished with value: 0.7922048283955464 and parameters: {'min_child_weight': 9, 'n_estimators': 943, 'subsample': 0.7908805136338741, 'gamma': 0.01886770030158268, 'colsample_bytree': 0.4525514654340016, 'reg_lambda': 0.15781410781679117, 'reg_alpha': 1.0861713791842977, 'learning_rate': 1}. Best is trial 2 with value: 0.8762662835937027.\u001b[0m\n",
      "\u001b[32m[I 2022-04-07 14:32:28,352]\u001b[0m Trial 11 finished with value: 0.8757138236703833 and parameters: {'min_child_weight': 10, 'n_estimators': 526, 'subsample': 0.7431460113431752, 'gamma': 0.036038611601003676, 'colsample_bytree': 0.4007505499149171, 'reg_lambda': 0.41030573405778575, 'reg_alpha': 0.03929832818716709, 'learning_rate': 0.3}. Best is trial 2 with value: 0.8762662835937027.\u001b[0m\n",
      "\u001b[32m[I 2022-04-07 14:32:36,329]\u001b[0m Trial 14 finished with value: 0.8773072600188565 and parameters: {'min_child_weight': 6, 'n_estimators': 458, 'subsample': 0.48676634298112065, 'gamma': 0.6275270881088901, 'colsample_bytree': 0.6534052883399025, 'reg_lambda': 3.75699612814287, 'reg_alpha': 1.4400664786402788, 'learning_rate': 0.3}. Best is trial 14 with value: 0.8773072600188565.\u001b[0m\n",
      "\u001b[32m[I 2022-04-07 14:32:57,520]\u001b[0m Trial 13 finished with value: 0.8741332432906539 and parameters: {'min_child_weight': 10, 'n_estimators': 605, 'subsample': 0.7688227405910805, 'gamma': 0.04959175716071403, 'colsample_bytree': 0.33699620486060344, 'reg_lambda': 0.027133691047700012, 'reg_alpha': 1.6168427428771999, 'learning_rate': 0.3}. Best is trial 14 with value: 0.8773072600188565.\u001b[0m\n",
      "\u001b[32m[I 2022-04-07 14:33:29,926]\u001b[0m Trial 16 finished with value: 0.7699717032995019 and parameters: {'min_child_weight': 7, 'n_estimators': 699, 'subsample': 0.12055685100644409, 'gamma': 0.26850258022553, 'colsample_bytree': 0.2570378700954963, 'reg_lambda': 3.227556594434638, 'reg_alpha': 0.05983766014021994, 'learning_rate': 0.01}. Best is trial 14 with value: 0.8773072600188565.\u001b[0m\n",
      "\u001b[32m[I 2022-04-07 14:33:59,362]\u001b[0m Trial 12 finished with value: 0.8342141791083517 and parameters: {'min_child_weight': 8, 'n_estimators': 927, 'subsample': 0.9559243184281441, 'gamma': 4.302617027696656, 'colsample_bytree': 0.9962441823541816, 'reg_lambda': 1.4457610876866103, 'reg_alpha': 0.026234988355353307, 'learning_rate': 1}. Best is trial 14 with value: 0.8773072600188565.\u001b[0m\n",
      "\u001b[32m[I 2022-04-07 14:34:43,016]\u001b[0m Trial 18 finished with value: 0.8810356930332517 and parameters: {'min_child_weight': 6, 'n_estimators': 863, 'subsample': 0.9981966522931912, 'gamma': 0.10324854541315018, 'colsample_bytree': 0.9697111761949674, 'reg_lambda': 0.013952926309405282, 'reg_alpha': 0.17291815945793218, 'learning_rate': 0.3}. Best is trial 18 with value: 0.8810356930332517.\u001b[0m\n",
      "\u001b[32m[I 2022-04-07 14:34:58,085]\u001b[0m Trial 17 finished with value: 0.8804368347013412 and parameters: {'min_child_weight': 6, 'n_estimators': 973, 'subsample': 0.9969323712035637, 'gamma': 0.10502303536866646, 'colsample_bytree': 0.9992811687535803, 'reg_lambda': 0.010486498556492935, 'reg_alpha': 0.13065144606806675, 'learning_rate': 0.3}. Best is trial 18 with value: 0.8810356930332517.\u001b[0m\n",
      "\u001b[32m[I 2022-04-07 14:35:16,658]\u001b[0m Trial 19 finished with value: 0.8808337351202346 and parameters: {'min_child_weight': 6, 'n_estimators': 991, 'subsample': 0.9091599543771093, 'gamma': 0.07425033844446083, 'colsample_bytree': 0.9925046113648964, 'reg_lambda': 0.01146213839572096, 'reg_alpha': 8.913162521328465, 'learning_rate': 0.3}. Best is trial 18 with value: 0.8810356930332517.\u001b[0m\n",
      "\u001b[32m[I 2022-04-07 14:35:26,084]\u001b[0m Trial 24 finished with value: 0.8702061883578558 and parameters: {'min_child_weight': 6, 'n_estimators': 425, 'subsample': 0.4413930210599192, 'gamma': 0.10518757986651243, 'colsample_bytree': 0.7837721803008979, 'reg_lambda': 0.01859438783615171, 'reg_alpha': 0.19680812004579834, 'learning_rate': 0.3}. Best is trial 18 with value: 0.8810356930332517.\u001b[0m\n",
      "\u001b[32m[I 2022-04-07 14:35:44,464]\u001b[0m Trial 20 finished with value: 0.8791766414344737 and parameters: {'min_child_weight': 6, 'n_estimators': 971, 'subsample': 0.9967144400522694, 'gamma': 0.05432448651394656, 'colsample_bytree': 0.9910828194553067, 'reg_lambda': 0.0132845202984465, 'reg_alpha': 0.1188662453386549, 'learning_rate': 0.3}. Best is trial 18 with value: 0.8810356930332517.\u001b[0m\n",
      "\u001b[32m[I 2022-04-07 14:35:55,628]\u001b[0m Trial 21 finished with value: 0.878427173424759 and parameters: {'min_child_weight': 6, 'n_estimators': 985, 'subsample': 0.9998399406442948, 'gamma': 0.11078330826475868, 'colsample_bytree': 0.8781459997275987, 'reg_lambda': 0.012686175419469061, 'reg_alpha': 0.2083400442311373, 'learning_rate': 0.3}. Best is trial 18 with value: 0.8810356930332517.\u001b[0m\n",
      "\u001b[32m[I 2022-04-07 14:36:06,435]\u001b[0m Trial 25 finished with value: 0.8743841793840085 and parameters: {'min_child_weight': 6, 'n_estimators': 410, 'subsample': 0.44554778572827924, 'gamma': 0.1227461417541184, 'colsample_bytree': 0.8039354325890931, 'reg_lambda': 6.060858148802819, 'reg_alpha': 0.19150970616046767, 'learning_rate': 0.3}. Best is trial 18 with value: 0.8810356930332517.\u001b[0m\n",
      "\u001b[32m[I 2022-04-07 14:36:10,540]\u001b[0m Trial 22 finished with value: 0.8846788404178071 and parameters: {'min_child_weight': 6, 'n_estimators': 946, 'subsample': 0.9988759363003554, 'gamma': 0.08473617605435434, 'colsample_bytree': 0.8710458116676255, 'reg_lambda': 0.010655868443254024, 'reg_alpha': 0.17867394693086391, 'learning_rate': 0.1}. Best is trial 22 with value: 0.8846788404178071.\u001b[0m\n",
      "\u001b[32m[I 2022-04-07 14:36:43,032]\u001b[0m Trial 23 finished with value: 0.885883027726495 and parameters: {'min_child_weight': 6, 'n_estimators': 944, 'subsample': 0.9668183547333185, 'gamma': 0.12475437344496913, 'colsample_bytree': 0.8538346779321826, 'reg_lambda': 0.010735504497925964, 'reg_alpha': 0.2168730851709515, 'learning_rate': 0.1}. Best is trial 23 with value: 0.885883027726495.\u001b[0m\n",
      "\u001b[32m[I 2022-04-07 14:37:38,514]\u001b[0m Trial 26 finished with value: 0.8814593398378758 and parameters: {'min_child_weight': 6, 'n_estimators': 800, 'subsample': 0.9671814888877576, 'gamma': 0.13254739532935683, 'colsample_bytree': 0.7878291438705876, 'reg_lambda': 0.015283084079691466, 'reg_alpha': 0.15380903763588522, 'learning_rate': 0.3}. Best is trial 23 with value: 0.885883027726495.\u001b[0m\n",
      "\u001b[32m[I 2022-04-07 14:38:02,251]\u001b[0m Trial 27 finished with value: 0.8853503859712186 and parameters: {'min_child_weight': 6, 'n_estimators': 817, 'subsample': 0.9083381776257505, 'gamma': 0.14217521133763625, 'colsample_bytree': 0.8012727923018472, 'reg_lambda': 0.010526276904131705, 'reg_alpha': 0.4108494016933876, 'learning_rate': 0.1}. Best is trial 23 with value: 0.885883027726495.\u001b[0m\n",
      "\u001b[32m[I 2022-04-07 14:38:13,389]\u001b[0m Trial 28 finished with value: 0.8796442308112089 and parameters: {'min_child_weight': 6, 'n_estimators': 825, 'subsample': 0.9691792468888744, 'gamma': 0.1160616826865848, 'colsample_bytree': 0.988019411012396, 'reg_lambda': 0.011002242993063169, 'reg_alpha': 0.21638612398944473, 'learning_rate': 0.3}. Best is trial 23 with value: 0.885883027726495.\u001b[0m\n",
      "\u001b[32m[I 2022-04-07 14:38:30,548]\u001b[0m Trial 29 finished with value: 0.8795616880522872 and parameters: {'min_child_weight': 6, 'n_estimators': 821, 'subsample': 0.9245276569897456, 'gamma': 0.13574102470844188, 'colsample_bytree': 0.8207022567397884, 'reg_lambda': 0.011274641922748926, 'reg_alpha': 0.452372066207776, 'learning_rate': 0.3}. Best is trial 23 with value: 0.885883027726495.\u001b[0m\n",
      "\u001b[32m[I 2022-04-07 14:38:43,544]\u001b[0m Trial 30 finished with value: 0.885640731491409 and parameters: {'min_child_weight': 7, 'n_estimators': 825, 'subsample': 0.915015851858959, 'gamma': 0.1725739711368666, 'colsample_bytree': 0.7904458824865341, 'reg_lambda': 0.040916143796632345, 'reg_alpha': 0.5072790861550374, 'learning_rate': 0.1}. Best is trial 23 with value: 0.885883027726495.\u001b[0m\n",
      "\u001b[32m[I 2022-04-07 14:38:52,146]\u001b[0m Trial 31 finished with value: 0.8852852224031491 and parameters: {'min_child_weight': 7, 'n_estimators': 814, 'subsample': 0.9200480304097238, 'gamma': 0.24554955571065307, 'colsample_bytree': 0.7788294694202833, 'reg_lambda': 0.04568222705664956, 'reg_alpha': 0.6223407632106612, 'learning_rate': 0.1}. Best is trial 23 with value: 0.885883027726495.\u001b[0m\n",
      "\u001b[32m[I 2022-04-07 14:38:54,848]\u001b[0m Trial 32 finished with value: 0.8859273867435509 and parameters: {'min_child_weight': 7, 'n_estimators': 812, 'subsample': 0.9020530935376221, 'gamma': 0.2673266966382197, 'colsample_bytree': 0.7847752147566323, 'reg_lambda': 0.02996181038447863, 'reg_alpha': 0.427793028613239, 'learning_rate': 0.1}. Best is trial 32 with value: 0.8859273867435509.\u001b[0m\n",
      "\u001b[32m[I 2022-04-07 14:39:35,991]\u001b[0m Trial 33 finished with value: 0.8863695137827264 and parameters: {'min_child_weight': 7, 'n_estimators': 858, 'subsample': 0.6993176671658559, 'gamma': 0.21499333466394496, 'colsample_bytree': 0.7590016095898277, 'reg_lambda': 0.049465410510380045, 'reg_alpha': 0.49600084207747397, 'learning_rate': 0.1}. Best is trial 33 with value: 0.8863695137827264.\u001b[0m\n",
      "\u001b[32m[I 2022-04-07 14:40:21,673]\u001b[0m Trial 34 finished with value: 0.8858500896795265 and parameters: {'min_child_weight': 7, 'n_estimators': 811, 'subsample': 0.7019360574953711, 'gamma': 0.18827015385269302, 'colsample_bytree': 0.7747431749110771, 'reg_lambda': 0.04042741349027271, 'reg_alpha': 0.4366058998598634, 'learning_rate': 0.1}. Best is trial 33 with value: 0.8863695137827264.\u001b[0m\n",
      "\u001b[32m[I 2022-04-07 14:40:41,754]\u001b[0m Trial 35 finished with value: 0.8845473650602701 and parameters: {'min_child_weight': 7, 'n_estimators': 796, 'subsample': 0.6898413225306484, 'gamma': 0.18244164656158623, 'colsample_bytree': 0.7100286986733301, 'reg_lambda': 0.033943707978132176, 'reg_alpha': 0.4615382631627668, 'learning_rate': 0.1}. Best is trial 33 with value: 0.8863695137827264.\u001b[0m\n",
      "\u001b[32m[I 2022-04-07 14:41:19,462]\u001b[0m Trial 36 finished with value: 0.8850819328956593 and parameters: {'min_child_weight': 7, 'n_estimators': 901, 'subsample': 0.6927497455155811, 'gamma': 0.253312896258828, 'colsample_bytree': 0.7394813228603793, 'reg_lambda': 0.03610311888735569, 'reg_alpha': 0.5224515182222611, 'learning_rate': 0.1}. Best is trial 33 with value: 0.8863695137827264.\u001b[0m\n",
      "\u001b[32m[I 2022-04-07 14:41:30,515]\u001b[0m Trial 39 finished with value: 0.8854897423775018 and parameters: {'min_child_weight': 7, 'n_estimators': 755, 'subsample': 0.6714561336370949, 'gamma': 0.24379252294341577, 'colsample_bytree': 0.7257185697337375, 'reg_lambda': 0.04056516708131173, 'reg_alpha': 0.518870651065952, 'learning_rate': 0.1}. Best is trial 33 with value: 0.8863695137827264.\u001b[0m\n",
      "\u001b[32m[I 2022-04-07 14:41:31,961]\u001b[0m Trial 40 finished with value: 0.88410659214747 and parameters: {'min_child_weight': 7, 'n_estimators': 746, 'subsample': 0.7340273746449155, 'gamma': 0.21868646495873792, 'colsample_bytree': 0.7287114849649835, 'reg_lambda': 0.03357419492908576, 'reg_alpha': 0.756559326213338, 'learning_rate': 0.1}. Best is trial 33 with value: 0.8863695137827264.\u001b[0m\n",
      "\u001b[32m[I 2022-04-07 14:41:39,118]\u001b[0m Trial 37 finished with value: 0.88515678893692 and parameters: {'min_child_weight': 7, 'n_estimators': 904, 'subsample': 0.7099324811636119, 'gamma': 0.25518472899011585, 'colsample_bytree': 0.7389255288691363, 'reg_lambda': 0.038371601422932056, 'reg_alpha': 0.4649775260645655, 'learning_rate': 0.1}. Best is trial 33 with value: 0.8863695137827264.\u001b[0m\n",
      "\u001b[32m[I 2022-04-07 14:41:51,782]\u001b[0m Trial 38 finished with value: 0.8851843542761475 and parameters: {'min_child_weight': 7, 'n_estimators': 910, 'subsample': 0.7060102836199461, 'gamma': 0.24239924402128663, 'colsample_bytree': 0.7254822327993977, 'reg_lambda': 0.04617466585700342, 'reg_alpha': 0.5771802515206055, 'learning_rate': 0.1}. Best is trial 33 with value: 0.8863695137827264.\u001b[0m\n",
      "\u001b[32m[I 2022-04-07 14:42:12,223]\u001b[0m Trial 41 finished with value: 0.8836660802127492 and parameters: {'min_child_weight': 7, 'n_estimators': 752, 'subsample': 0.6967116991719323, 'gamma': 0.20522934610908303, 'colsample_bytree': 0.7239285999787086, 'reg_lambda': 0.036973100316483834, 'reg_alpha': 0.8854854006293523, 'learning_rate': 0.1}. Best is trial 33 with value: 0.8863695137827264.\u001b[0m\n",
      "\u001b[32m[I 2022-04-07 14:43:04,616]\u001b[0m Trial 42 finished with value: 0.8842708556212324 and parameters: {'min_child_weight': 7, 'n_estimators': 746, 'subsample': 0.7113306658894505, 'gamma': 0.3715156597381666, 'colsample_bytree': 0.7280639283307446, 'reg_lambda': 0.1260395406396059, 'reg_alpha': 0.7827497352716061, 'learning_rate': 0.1}. Best is trial 33 with value: 0.8863695137827264.\u001b[0m\n",
      "\u001b[32m[I 2022-04-07 14:43:55,221]\u001b[0m Trial 44 finished with value: 0.8867984554551566 and parameters: {'min_child_weight': 9, 'n_estimators': 709, 'subsample': 0.7824675874240603, 'gamma': 0.419546604954393, 'colsample_bytree': 0.8993683275982953, 'reg_lambda': 0.11461706444707288, 'reg_alpha': 0.8270047140447262, 'learning_rate': 0.1}. Best is trial 44 with value: 0.8867984554551566.\u001b[0m\n",
      "\u001b[32m[I 2022-04-07 14:43:59,868]\u001b[0m Trial 43 finished with value: 0.8840718487101311 and parameters: {'min_child_weight': 7, 'n_estimators': 900, 'subsample': 0.716680237865887, 'gamma': 0.35345347446598196, 'colsample_bytree': 0.5645362676122784, 'reg_lambda': 0.0967154961366809, 'reg_alpha': 0.9946160046916219, 'learning_rate': 0.1}. Best is trial 44 with value: 0.8867984554551566.\u001b[0m\n",
      "\u001b[32m[I 2022-04-07 14:44:24,457]\u001b[0m Trial 48 finished with value: 0.885450056773833 and parameters: {'min_child_weight': 9, 'n_estimators': 675, 'subsample': 0.7958535151791506, 'gamma': 0.40898018472691566, 'colsample_bytree': 0.9229101918818392, 'reg_lambda': 0.11491268056366787, 'reg_alpha': 0.29524220063407564, 'learning_rate': 0.1}. Best is trial 44 with value: 0.8867984554551566.\u001b[0m\n",
      "\u001b[32m[I 2022-04-07 14:44:45,095]\u001b[0m Trial 49 finished with value: 0.8293103628093041 and parameters: {'min_child_weight': 5, 'n_estimators': 659, 'subsample': 0.8266153979755347, 'gamma': 0.45442076007368853, 'colsample_bytree': 0.6019054335214176, 'reg_lambda': 0.13975076843141412, 'reg_alpha': 0.07931612773228175, 'learning_rate': 0.01}. Best is trial 44 with value: 0.8867984554551566.\u001b[0m\n",
      "\u001b[32m[I 2022-04-07 14:44:46,350]\u001b[0m Trial 45 finished with value: 0.8848478501750897 and parameters: {'min_child_weight': 9, 'n_estimators': 893, 'subsample': 0.780368960860581, 'gamma': 0.441270598276862, 'colsample_bytree': 0.5859635080080833, 'reg_lambda': 0.15248757279441466, 'reg_alpha': 0.8014253310477362, 'learning_rate': 0.1}. Best is trial 44 with value: 0.8867984554551566.\u001b[0m\n",
      "\u001b[32m[I 2022-04-07 14:44:46,753]\u001b[0m Trial 46 finished with value: 0.8413995021114287 and parameters: {'min_child_weight': 9, 'n_estimators': 879, 'subsample': 0.8145931029235551, 'gamma': 0.3956763117459639, 'colsample_bytree': 0.5647028386442229, 'reg_lambda': 0.1261348946573978, 'reg_alpha': 0.29092166450278856, 'learning_rate': 0.01}. Best is trial 44 with value: 0.8867984554551566.\u001b[0m\n",
      "\u001b[32m[I 2022-04-07 14:44:54,869]\u001b[0m Trial 47 finished with value: 0.8415915233976488 and parameters: {'min_child_weight': 9, 'n_estimators': 876, 'subsample': 0.7945393494650054, 'gamma': 0.3679448492352688, 'colsample_bytree': 0.5728307558953079, 'reg_lambda': 0.1176642153988479, 'reg_alpha': 0.9113697264190685, 'learning_rate': 0.01}. Best is trial 44 with value: 0.8867984554551566.\u001b[0m\n",
      "\u001b[32m[I 2022-04-07 14:45:38,850]\u001b[0m Trial 50 finished with value: 0.8284569152175958 and parameters: {'min_child_weight': 5, 'n_estimators': 654, 'subsample': 0.8138424433079879, 'gamma': 0.9820469779509688, 'colsample_bytree': 0.5698870360244299, 'reg_lambda': 0.0850667398281052, 'reg_alpha': 0.28934445156577954, 'learning_rate': 0.01}. Best is trial 44 with value: 0.8867984554551566.\u001b[0m\n",
      "\u001b[32m[I 2022-04-07 14:46:38,910]\u001b[0m Trial 52 finished with value: 0.8317622346908868 and parameters: {'min_child_weight': 9, 'n_estimators': 648, 'subsample': 0.7958930886740291, 'gamma': 1.0022810736372385, 'colsample_bytree': 0.9342022221373715, 'reg_lambda': 0.2441416067437605, 'reg_alpha': 0.30474080740660586, 'learning_rate': 0.01}. Best is trial 44 with value: 0.8867984554551566.\u001b[0m\n",
      "\u001b[32m[I 2022-04-07 14:46:45,585]\u001b[0m Trial 51 finished with value: 0.8348826756977333 and parameters: {'min_child_weight': 9, 'n_estimators': 696, 'subsample': 0.8067486007265773, 'gamma': 1.0985021269517707, 'colsample_bytree': 0.9250120533092676, 'reg_lambda': 0.08496712596666661, 'reg_alpha': 0.32180148728572083, 'learning_rate': 0.01}. Best is trial 44 with value: 0.8867984554551566.\u001b[0m\n",
      "\u001b[32m[I 2022-04-07 14:46:59,190]\u001b[0m Trial 56 finished with value: 0.8198789049821709 and parameters: {'min_child_weight': 8, 'n_estimators': 534, 'subsample': 0.8668476076037983, 'gamma': 0.920530093461866, 'colsample_bytree': 0.844739160816961, 'reg_lambda': 0.06280864485726441, 'reg_alpha': 3.0209138192305196, 'learning_rate': 1}. Best is trial 44 with value: 0.8867984554551566.\u001b[0m\n",
      "\u001b[32m[I 2022-04-07 14:47:05,043]\u001b[0m Trial 53 finished with value: 0.8161502690035942 and parameters: {'min_child_weight': 8, 'n_estimators': 654, 'subsample': 0.8448998128311725, 'gamma': 0.7806855765412921, 'colsample_bytree': 0.9220981463309833, 'reg_lambda': 0.24129110439316434, 'reg_alpha': 2.4981541078348304, 'learning_rate': 1}. Best is trial 44 with value: 0.8867984554551566.\u001b[0m\n",
      "\u001b[32m[I 2022-04-07 14:47:24,168]\u001b[0m Trial 55 finished with value: 0.8212412346248193 and parameters: {'min_child_weight': 8, 'n_estimators': 640, 'subsample': 0.868000228052741, 'gamma': 1.1220767186930989, 'colsample_bytree': 0.8461487297119407, 'reg_lambda': 0.07034525351378389, 'reg_alpha': 2.60759781859355, 'learning_rate': 1}. Best is trial 44 with value: 0.8867984554551566.\u001b[0m\n",
      "\u001b[32m[I 2022-04-07 14:47:30,374]\u001b[0m Trial 57 finished with value: 0.823062258923003 and parameters: {'min_child_weight': 8, 'n_estimators': 630, 'subsample': 0.8609710660076628, 'gamma': 0.9979627674185981, 'colsample_bytree': 0.839646622930689, 'reg_lambda': 0.0753084866926222, 'reg_alpha': 3.1750135761199583, 'learning_rate': 1}. Best is trial 44 with value: 0.8867984554551566.\u001b[0m\n",
      "\u001b[32m[I 2022-04-07 14:47:56,236]\u001b[0m Trial 58 finished with value: 0.8143839431546345 and parameters: {'min_child_weight': 8, 'n_estimators': 560, 'subsample': 0.8680534403769866, 'gamma': 1.4280387022171617, 'colsample_bytree': 0.9178280585299943, 'reg_lambda': 0.06052038271596256, 'reg_alpha': 1.2405222289011455, 'learning_rate': 1}. Best is trial 44 with value: 0.8867984554551566.\u001b[0m\n",
      "\u001b[32m[I 2022-04-07 14:48:14,548]\u001b[0m Trial 54 finished with value: 0.8224724544972319 and parameters: {'min_child_weight': 8, 'n_estimators': 859, 'subsample': 0.8645205369164669, 'gamma': 0.9695833330165345, 'colsample_bytree': 0.8449558725665649, 'reg_lambda': 0.20872311466194216, 'reg_alpha': 2.0190786904105504, 'learning_rate': 1}. Best is trial 44 with value: 0.8867984554551566.\u001b[0m\n",
      "\u001b[32m[I 2022-04-07 14:48:57,369]\u001b[0m Trial 60 finished with value: 0.8216942663190643 and parameters: {'min_child_weight': 8, 'n_estimators': 554, 'subsample': 0.8607706801184091, 'gamma': 2.007181283581087, 'colsample_bytree': 0.847217307278335, 'reg_lambda': 0.061107865492323846, 'reg_alpha': 2.4354087408771785, 'learning_rate': 1}. Best is trial 44 with value: 0.8867984554551566.\u001b[0m\n",
      "\u001b[32m[I 2022-04-07 14:49:56,038]\u001b[0m Trial 59 finished with value: 0.824343939684779 and parameters: {'min_child_weight': 8, 'n_estimators': 845, 'subsample': 0.8709415492272728, 'gamma': 2.1803465257975803, 'colsample_bytree': 0.8320200858162217, 'reg_lambda': 0.05782305475578939, 'reg_alpha': 1.6876154973344624, 'learning_rate': 1}. Best is trial 44 with value: 0.8867984554551566.\u001b[0m\n",
      "\u001b[32m[I 2022-04-07 14:50:15,491]\u001b[0m Trial 61 finished with value: 0.8854604892376777 and parameters: {'min_child_weight': 8, 'n_estimators': 848, 'subsample': 0.5885909480998347, 'gamma': 2.296763827079265, 'colsample_bytree': 0.8499263594278108, 'reg_lambda': 0.01956279681883697, 'reg_alpha': 2.09018665102118, 'learning_rate': 0.1}. Best is trial 44 with value: 0.8867984554551566.\u001b[0m\n",
      "\u001b[32m[I 2022-04-07 14:50:20,259]\u001b[0m Trial 62 finished with value: 0.8818044779081063 and parameters: {'min_child_weight': 8, 'n_estimators': 858, 'subsample': 0.5930885732820712, 'gamma': 0.1679002941136349, 'colsample_bytree': 0.5092094200385049, 'reg_lambda': 0.023433704775911314, 'reg_alpha': 0.08542631471051126, 'learning_rate': 0.1}. Best is trial 44 with value: 0.8867984554551566.\u001b[0m\n",
      "\u001b[32m[I 2022-04-07 14:50:37,548]\u001b[0m Trial 63 finished with value: 0.8839584447261174 and parameters: {'min_child_weight': 8, 'n_estimators': 844, 'subsample': 0.5851122098013917, 'gamma': 2.0068831070928166, 'colsample_bytree': 0.6766574845965324, 'reg_lambda': 0.022574347275671366, 'reg_alpha': 2.0195821336281212, 'learning_rate': 0.1}. Best is trial 44 with value: 0.8867984554551566.\u001b[0m\n",
      "\u001b[32m[I 2022-04-07 14:50:42,448]\u001b[0m Trial 64 finished with value: 0.8828176620838649 and parameters: {'min_child_weight': 8, 'n_estimators': 849, 'subsample': 0.6155808585988235, 'gamma': 0.0639899112220206, 'colsample_bytree': 0.5096877434649985, 'reg_lambda': 0.02040762294369849, 'reg_alpha': 1.1788152481255403, 'learning_rate': 0.1}. Best is trial 44 with value: 0.8867984554551566.\u001b[0m\n",
      "\u001b[32m[I 2022-04-07 14:51:11,527]\u001b[0m Trial 65 finished with value: 0.8846620513168183 and parameters: {'min_child_weight': 7, 'n_estimators': 848, 'subsample': 0.5690521991630062, 'gamma': 0.17139359553197572, 'colsample_bytree': 0.6855808492889638, 'reg_lambda': 0.023305822669045358, 'reg_alpha': 0.09811551851192296, 'learning_rate': 0.1}. Best is trial 44 with value: 0.8867984554551566.\u001b[0m\n",
      "\u001b[32m[I 2022-04-07 14:52:01,369]\u001b[0m Trial 66 finished with value: 0.8840521814286687 and parameters: {'min_child_weight': 7, 'n_estimators': 955, 'subsample': 0.6507745342835307, 'gamma': 0.16324364218171863, 'colsample_bytree': 0.48558810779142736, 'reg_lambda': 0.025560982915883778, 'reg_alpha': 0.09697984471913755, 'learning_rate': 0.1}. Best is trial 44 with value: 0.8867984554551566.\u001b[0m\n",
      "\u001b[32m[I 2022-04-07 14:52:52,376]\u001b[0m Trial 67 finished with value: 0.8842449309697947 and parameters: {'min_child_weight': 7, 'n_estimators': 949, 'subsample': 0.5800064635090069, 'gamma': 0.06344076293006645, 'colsample_bytree': 0.6853829045376758, 'reg_lambda': 0.023898302313931787, 'reg_alpha': 0.09652128186849407, 'learning_rate': 0.1}. Best is trial 44 with value: 0.8867984554551566.\u001b[0m\n",
      "\u001b[32m[I 2022-04-07 14:53:14,721]\u001b[0m Trial 68 finished with value: 0.8848521835327343 and parameters: {'min_child_weight': 7, 'n_estimators': 779, 'subsample': 0.6418917769900304, 'gamma': 0.17014464058162126, 'colsample_bytree': 0.6544150996721879, 'reg_lambda': 0.023381932054204385, 'reg_alpha': 0.6920718929697015, 'learning_rate': 0.1}. Best is trial 44 with value: 0.8867984554551566.\u001b[0m\n",
      "\u001b[32m[I 2022-04-07 14:53:34,486]\u001b[0m Trial 69 finished with value: 0.8846985456104873 and parameters: {'min_child_weight': 7, 'n_estimators': 777, 'subsample': 0.6565732235393871, 'gamma': 0.1721981511583945, 'colsample_bytree': 0.677079106620389, 'reg_lambda': 0.02200474441298859, 'reg_alpha': 0.37498620523923276, 'learning_rate': 0.1}. Best is trial 44 with value: 0.8867984554551566.\u001b[0m\n",
      "\u001b[32m[I 2022-04-07 14:53:40,051]\u001b[0m Trial 70 finished with value: 0.8855157901792785 and parameters: {'min_child_weight': 7, 'n_estimators': 781, 'subsample': 0.6272766688103418, 'gamma': 0.07081612385318792, 'colsample_bytree': 0.6735371505227313, 'reg_lambda': 0.026226193103963957, 'reg_alpha': 0.23831652526440206, 'learning_rate': 0.1}. Best is trial 44 with value: 0.8867984554551566.\u001b[0m\n",
      "\u001b[32m[I 2022-04-07 14:53:57,735]\u001b[0m Trial 71 finished with value: 0.8866317267413775 and parameters: {'min_child_weight': 7, 'n_estimators': 780, 'subsample': 0.6664917259414928, 'gamma': 0.06988952188284593, 'colsample_bytree': 0.7673593617638652, 'reg_lambda': 0.017237561042890235, 'reg_alpha': 0.6292051554703312, 'learning_rate': 0.1}. Best is trial 44 with value: 0.8867984554551566.\u001b[0m\n",
      "\u001b[32m[I 2022-04-07 14:54:00,783]\u001b[0m Trial 72 finished with value: 0.8860289695977647 and parameters: {'min_child_weight': 7, 'n_estimators': 770, 'subsample': 0.6484998652581073, 'gamma': 0.03346411778286054, 'colsample_bytree': 0.7715887546700841, 'reg_lambda': 0.030103955166725774, 'reg_alpha': 0.38581103923430865, 'learning_rate': 0.1}. Best is trial 44 with value: 0.8867984554551566.\u001b[0m\n",
      "\u001b[32m[I 2022-04-07 14:54:13,960]\u001b[0m Trial 73 finished with value: 0.7712469908762034 and parameters: {'min_child_weight': 7, 'n_estimators': 772, 'subsample': 0.656878036418389, 'gamma': 0.3195309584274874, 'colsample_bytree': 0.1183835701951938, 'reg_lambda': 0.02968030258480257, 'reg_alpha': 0.3724535367928411, 'learning_rate': 0.03}. Best is trial 44 with value: 0.8867984554551566.\u001b[0m\n",
      "\u001b[32m[I 2022-04-07 14:55:12,793]\u001b[0m Trial 74 finished with value: 0.8749691218194681 and parameters: {'min_child_weight': 7, 'n_estimators': 773, 'subsample': 0.666318767263282, 'gamma': 0.03684008944873268, 'colsample_bytree': 0.7706840051435078, 'reg_lambda': 0.047442778279478376, 'reg_alpha': 0.38548660596671813, 'learning_rate': 0.03}. Best is trial 44 with value: 0.8867984554551566.\u001b[0m\n",
      "\u001b[32m[I 2022-04-07 14:55:59,474]\u001b[0m Trial 75 finished with value: 0.8746618126706502 and parameters: {'min_child_weight': 7, 'n_estimators': 771, 'subsample': 0.6495943782691752, 'gamma': 0.027175515397395766, 'colsample_bytree': 0.7642516935668737, 'reg_lambda': 0.048738179837976105, 'reg_alpha': 0.6697981608411652, 'learning_rate': 0.03}. Best is trial 44 with value: 0.8867984554551566.\u001b[0m\n",
      "\u001b[32m[I 2022-04-07 14:56:14,845]\u001b[0m Trial 76 finished with value: 0.8829486621767529 and parameters: {'min_child_weight': 10, 'n_estimators': 728, 'subsample': 0.5097872625334501, 'gamma': 0.030435564104056734, 'colsample_bytree': 0.7600768673157696, 'reg_lambda': 0.04904329789197724, 'reg_alpha': 0.37719886952504306, 'learning_rate': 0.1}. Best is trial 44 with value: 0.8867984554551566.\u001b[0m\n",
      "\u001b[32m[I 2022-04-07 14:56:38,229]\u001b[0m Trial 77 finished with value: 0.8723263169199397 and parameters: {'min_child_weight': 10, 'n_estimators': 734, 'subsample': 0.940869159705301, 'gamma': 0.03662177226409094, 'colsample_bytree': 0.885716647029196, 'reg_lambda': 0.047794100968564825, 'reg_alpha': 0.011195104816913728, 'learning_rate': 0.03}. Best is trial 44 with value: 0.8867984554551566.\u001b[0m\n",
      "\u001b[32m[I 2022-04-07 14:56:40,369]\u001b[0m Trial 78 finished with value: 0.8731907902562617 and parameters: {'min_child_weight': 7, 'n_estimators': 717, 'subsample': 0.7549970194838505, 'gamma': 0.029338934098433574, 'colsample_bytree': 0.7648627477296448, 'reg_lambda': 0.04905924843088196, 'reg_alpha': 0.24159115330935985, 'learning_rate': 0.03}. Best is trial 44 with value: 0.8867984554551566.\u001b[0m\n",
      "\u001b[32m[I 2022-04-07 14:56:57,217]\u001b[0m Trial 79 finished with value: 0.8730772221872918 and parameters: {'min_child_weight': 7, 'n_estimators': 708, 'subsample': 0.7583066192382326, 'gamma': 0.03617458249093439, 'colsample_bytree': 0.7648365611700273, 'reg_lambda': 0.01793050509415734, 'reg_alpha': 0.22218613857599423, 'learning_rate': 0.03}. Best is trial 44 with value: 0.8867984554551566.\u001b[0m\n",
      "\u001b[32m[I 2022-04-07 14:57:05,235]\u001b[0m Trial 80 finished with value: 0.873749461655582 and parameters: {'min_child_weight': 10, 'n_estimators': 726, 'subsample': 0.5485874551575041, 'gamma': 0.027977547431947896, 'colsample_bytree': 0.7627298563213954, 'reg_lambda': 0.01610733788223202, 'reg_alpha': 0.38191527229306943, 'learning_rate': 0.03}. Best is trial 44 with value: 0.8867984554551566.\u001b[0m\n",
      "\u001b[32m[I 2022-04-07 14:57:20,637]\u001b[0m Trial 81 finished with value: 0.8856862825834393 and parameters: {'min_child_weight': 10, 'n_estimators': 735, 'subsample': 0.7663682171159445, 'gamma': 0.02891575987630957, 'colsample_bytree': 0.760149882712247, 'reg_lambda': 0.04970195331267388, 'reg_alpha': 0.6213472889252389, 'learning_rate': 0.1}. Best is trial 44 with value: 0.8867984554551566.\u001b[0m\n",
      "\u001b[32m[I 2022-04-07 14:58:02,882]\u001b[0m Trial 86 finished with value: 0.8775706481323203 and parameters: {'min_child_weight': 6, 'n_estimators': 328, 'subsample': 0.9045913081657486, 'gamma': 0.08708762778346306, 'colsample_bytree': 0.8038550500685869, 'reg_lambda': 0.015401857941525285, 'reg_alpha': 0.14917070207484795, 'learning_rate': 0.1}. Best is trial 44 with value: 0.8867984554551566.\u001b[0m\n",
      "\u001b[32m[I 2022-04-07 14:58:18,074]\u001b[0m Trial 82 finished with value: 0.8852781079150656 and parameters: {'min_child_weight': 6, 'n_estimators': 721, 'subsample': 0.7410425142931014, 'gamma': 0.01885674611122802, 'colsample_bytree': 0.8832461104252771, 'reg_lambda': 0.014852827279917376, 'reg_alpha': 0.01069067572968335, 'learning_rate': 0.1}. Best is trial 44 with value: 0.8867984554551566.\u001b[0m\n",
      "\u001b[32m[I 2022-04-07 14:58:59,712]\u001b[0m Trial 83 finished with value: 0.88601728873048 and parameters: {'min_child_weight': 10, 'n_estimators': 698, 'subsample': 0.7386823874445535, 'gamma': 0.08825015210110422, 'colsample_bytree': 0.8859591792649926, 'reg_lambda': 0.01583174426864742, 'reg_alpha': 0.24214965332481098, 'learning_rate': 0.1}. Best is trial 44 with value: 0.8867984554551566.\u001b[0m\n",
      "\u001b[32m[I 2022-04-07 14:59:14,977]\u001b[0m Trial 84 finished with value: 0.8847217727757549 and parameters: {'min_child_weight': 6, 'n_estimators': 709, 'subsample': 0.7544416327771943, 'gamma': 0.04252706268044247, 'colsample_bytree': 0.8760134198850572, 'reg_lambda': 0.016286138272662634, 'reg_alpha': 0.24164583747569227, 'learning_rate': 0.1}. Best is trial 44 with value: 0.8867984554551566.\u001b[0m\n",
      "\u001b[32m[I 2022-04-07 14:59:25,815]\u001b[0m Trial 92 finished with value: 0.8512931393950446 and parameters: {'min_child_weight': 10, 'n_estimators': 100, 'subsample': 0.3004468280446556, 'gamma': 0.012943634856898633, 'colsample_bytree': 0.8129964909684709, 'reg_lambda': 0.012202031563309318, 'reg_alpha': 0.5649113966747403, 'learning_rate': 0.1}. Best is trial 44 with value: 0.8867984554551566.\u001b[0m\n",
      "\u001b[32m[I 2022-04-07 14:59:38,783]\u001b[0m Trial 85 finished with value: 0.8854628586028344 and parameters: {'min_child_weight': 6, 'n_estimators': 708, 'subsample': 0.762908904334343, 'gamma': 0.01131830491528548, 'colsample_bytree': 0.8888507511189262, 'reg_lambda': 0.4149348865287702, 'reg_alpha': 0.24219947361015748, 'learning_rate': 0.1}. Best is trial 44 with value: 0.8867984554551566.\u001b[0m\n",
      "\u001b[32m[I 2022-04-07 15:00:36,276]\u001b[0m Trial 88 finished with value: 0.8850708927014821 and parameters: {'min_child_weight': 6, 'n_estimators': 817, 'subsample': 0.8960219442661213, 'gamma': 0.07859669879053702, 'colsample_bytree': 0.8879311215079289, 'reg_lambda': 0.028159617229266718, 'reg_alpha': 0.5504908658329376, 'learning_rate': 0.1}. Best is trial 44 with value: 0.8867984554551566.\u001b[0m\n",
      "\u001b[32m[I 2022-04-07 15:00:53,127]\u001b[0m Trial 89 finished with value: 0.8853759740564925 and parameters: {'min_child_weight': 6, 'n_estimators': 815, 'subsample': 0.8922122863561885, 'gamma': 0.018588795511562527, 'colsample_bytree': 0.8083448382523881, 'reg_lambda': 9.867146319364123, 'reg_alpha': 0.5311086931075668, 'learning_rate': 0.1}. Best is trial 44 with value: 0.8867984554551566.\u001b[0m\n",
      "\u001b[32m[I 2022-04-07 15:00:55,357]\u001b[0m Trial 87 finished with value: 0.8853720380901166 and parameters: {'min_child_weight': 6, 'n_estimators': 924, 'subsample': 0.89473624809619, 'gamma': 0.011695133725940846, 'colsample_bytree': 0.8869911042531863, 'reg_lambda': 0.016981334328489545, 'reg_alpha': 0.15705469354418752, 'learning_rate': 0.1}. Best is trial 44 with value: 0.8867984554551566.\u001b[0m\n",
      "\u001b[32m[I 2022-04-07 15:01:51,696]\u001b[0m Trial 91 finished with value: 0.8768401152441306 and parameters: {'min_child_weight': 10, 'n_estimators': 807, 'subsample': 0.28095393483399705, 'gamma': 0.013550715330571651, 'colsample_bytree': 0.955215581103303, 'reg_lambda': 0.03178092535915655, 'reg_alpha': 0.5584098531469035, 'learning_rate': 0.1}. Best is trial 44 with value: 0.8867984554551566.\u001b[0m\n",
      "\u001b[32m[I 2022-04-07 15:02:10,142]\u001b[0m Trial 90 finished with value: 0.8869636403375768 and parameters: {'min_child_weight': 6, 'n_estimators': 931, 'subsample': 0.731268435806189, 'gamma': 0.017037215575272692, 'colsample_bytree': 0.88110316745002, 'reg_lambda': 8.960347308090975, 'reg_alpha': 0.5658261024500987, 'learning_rate': 0.1}. Best is trial 90 with value: 0.8869636403375768.\u001b[0m\n",
      "\u001b[32m[I 2022-04-07 15:02:16,864]\u001b[0m Trial 93 finished with value: 0.8854307925886719 and parameters: {'min_child_weight': 10, 'n_estimators': 683, 'subsample': 0.6791566690092038, 'gamma': 0.012636528381284947, 'colsample_bytree': 0.9630989467202636, 'reg_lambda': 0.031984984393962114, 'reg_alpha': 0.5875281240945511, 'learning_rate': 0.1}. Best is trial 90 with value: 0.8869636403375768.\u001b[0m\n",
      "\u001b[32m[I 2022-04-07 15:02:27,416]\u001b[0m Trial 94 finished with value: 0.8853586065471118 and parameters: {'min_child_weight': 10, 'n_estimators': 682, 'subsample': 0.7238953285254038, 'gamma': 0.050527081222284866, 'colsample_bytree': 0.9671754299287021, 'reg_lambda': 0.035355612160138036, 'reg_alpha': 0.46001922296233283, 'learning_rate': 0.1}. Best is trial 90 with value: 0.8869636403375768.\u001b[0m\n",
      "\u001b[32m[I 2022-04-07 15:03:26,350]\u001b[0m Trial 97 finished with value: 0.8847850092330309 and parameters: {'min_child_weight': 10, 'n_estimators': 592, 'subsample': 0.7222044565522162, 'gamma': 0.015101554104269707, 'colsample_bytree': 0.9648867319612843, 'reg_lambda': 0.030973239513944536, 'reg_alpha': 0.44926115288496876, 'learning_rate': 0.1}. Best is trial 90 with value: 0.8869636403375768.\u001b[0m\n",
      "\u001b[32m[I 2022-04-07 15:03:30,811]\u001b[0m Trial 96 finished with value: 0.8849567678266157 and parameters: {'min_child_weight': 10, 'n_estimators': 678, 'subsample': 0.9550602129898608, 'gamma': 0.09957928965836642, 'colsample_bytree': 0.9463509897144524, 'reg_lambda': 0.03367440041853818, 'reg_alpha': 1.0125367161666738, 'learning_rate': 0.1}. Best is trial 90 with value: 0.8869636403375768.\u001b[0m\n",
      "\u001b[32m[I 2022-04-07 15:03:40,820]\u001b[0m Trial 95 finished with value: 0.887016075028726 and parameters: {'min_child_weight': 10, 'n_estimators': 925, 'subsample': 0.7199211349433067, 'gamma': 0.0898280718112945, 'colsample_bytree': 0.9583888571220968, 'reg_lambda': 0.0315773284753895, 'reg_alpha': 1.0005938458358845, 'learning_rate': 0.1}. Best is trial 95 with value: 0.887016075028726.\u001b[0m\n",
      "\u001b[32m[I 2022-04-07 15:03:49,999]\u001b[0m Trial 98 finished with value: 0.8856893396804318 and parameters: {'min_child_weight': 10, 'n_estimators': 677, 'subsample': 0.7275833183312344, 'gamma': 0.09726080010441844, 'colsample_bytree': 0.9446704034465805, 'reg_lambda': 0.030859912665818348, 'reg_alpha': 1.0123872541515189, 'learning_rate': 0.1}. Best is trial 95 with value: 0.887016075028726.\u001b[0m\n",
      "\u001b[32m[I 2022-04-07 15:04:41,138]\u001b[0m Trial 99 finished with value: 0.8838314714064334 and parameters: {'min_child_weight': 10, 'n_estimators': 680, 'subsample': 0.966069033698234, 'gamma': 0.49439887179501846, 'colsample_bytree': 0.706822280804609, 'reg_lambda': 0.04000808713545548, 'reg_alpha': 0.45596958178960706, 'learning_rate': 0.1}. Best is trial 95 with value: 0.887016075028726.\u001b[0m\n",
      "\u001b[32m[I 2022-04-07 15:05:02,710]\u001b[0m Trial 100 finished with value: 0.8840815352101515 and parameters: {'min_child_weight': 5, 'n_estimators': 684, 'subsample': 0.6896833828386498, 'gamma': 0.015325168554248628, 'colsample_bytree': 0.8212297375777965, 'reg_lambda': 0.19441269969907135, 'reg_alpha': 1.0092564937773363, 'learning_rate': 0.1}. Best is trial 95 with value: 0.887016075028726.\u001b[0m\n",
      "\u001b[32m[I 2022-04-07 15:05:59,225]\u001b[0m Trial 101 finished with value: 0.8876695766274025 and parameters: {'min_child_weight': 5, 'n_estimators': 930, 'subsample': 0.7187139570759429, 'gamma': 0.048900521484987663, 'colsample_bytree': 0.8237053982554041, 'reg_lambda': 1.5905364366550165, 'reg_alpha': 1.0391203900903738, 'learning_rate': 0.1}. Best is trial 101 with value: 0.8876695766274025.\u001b[0m\n",
      "\u001b[32m[I 2022-04-07 15:06:06,353]\u001b[0m Trial 102 finished with value: 0.8867693906811123 and parameters: {'min_child_weight': 5, 'n_estimators': 925, 'subsample': 0.833289191005969, 'gamma': 0.021871236734419392, 'colsample_bytree': 0.8592543954710111, 'reg_lambda': 1.9929910938496553, 'reg_alpha': 1.0169288850771558, 'learning_rate': 0.1}. Best is trial 101 with value: 0.8876695766274025.\u001b[0m\n",
      "\u001b[32m[I 2022-04-07 15:06:58,637]\u001b[0m Trial 103 finished with value: 0.8863927304986768 and parameters: {'min_child_weight': 5, 'n_estimators': 930, 'subsample': 0.7759394922200853, 'gamma': 0.023134468042421925, 'colsample_bytree': 0.7048207235694788, 'reg_lambda': 2.7889406386567774, 'reg_alpha': 1.0527957751033832, 'learning_rate': 0.1}. Best is trial 101 with value: 0.8876695766274025.\u001b[0m\n",
      "\u001b[32m[I 2022-04-07 15:07:01,350]\u001b[0m Trial 104 finished with value: 0.8869966100868008 and parameters: {'min_child_weight': 5, 'n_estimators': 921, 'subsample': 0.7801542861399378, 'gamma': 0.022852905275390512, 'colsample_bytree': 0.9062492347525646, 'reg_lambda': 0.7131724947707024, 'reg_alpha': 0.8247864125618799, 'learning_rate': 0.1}. Best is trial 101 with value: 0.8876695766274025.\u001b[0m\n",
      "\u001b[32m[I 2022-04-07 15:07:26,439]\u001b[0m Trial 105 finished with value: 0.8866927819210728 and parameters: {'min_child_weight': 5, 'n_estimators': 997, 'subsample': 0.6918929661975548, 'gamma': 0.5229048155083461, 'colsample_bytree': 0.9019499776619007, 'reg_lambda': 0.8458736131219143, 'reg_alpha': 1.4023691757147894, 'learning_rate': 0.1}. Best is trial 101 with value: 0.8876695766274025.\u001b[0m\n",
      "\u001b[32m[I 2022-04-07 15:07:30,900]\u001b[0m Trial 106 finished with value: 0.8868064050066959 and parameters: {'min_child_weight': 9, 'n_estimators': 992, 'subsample': 0.8311445973019244, 'gamma': 0.5345280015815986, 'colsample_bytree': 0.9008469403835424, 'reg_lambda': 0.01915752136581233, 'reg_alpha': 1.3372045109365678, 'learning_rate': 0.1}. Best is trial 101 with value: 0.8876695766274025.\u001b[0m\n",
      "\u001b[32m[I 2022-04-07 15:08:19,030]\u001b[0m Trial 107 finished with value: 0.8870740885934267 and parameters: {'min_child_weight': 5, 'n_estimators': 1000, 'subsample': 0.7799168484071188, 'gamma': 0.3022422834461914, 'colsample_bytree': 0.9031515373339912, 'reg_lambda': 2.057561283067448, 'reg_alpha': 0.8419409012276976, 'learning_rate': 0.1}. Best is trial 101 with value: 0.8876695766274025.\u001b[0m\n",
      "\u001b[32m[I 2022-04-07 15:08:31,424]\u001b[0m Trial 108 finished with value: 0.8878069297408185 and parameters: {'min_child_weight': 9, 'n_estimators': 983, 'subsample': 0.7847816926999615, 'gamma': 0.2844968684680576, 'colsample_bytree': 0.9060990996073054, 'reg_lambda': 0.01917599170198216, 'reg_alpha': 0.769473356335339, 'learning_rate': 0.1}. Best is trial 108 with value: 0.8878069297408185.\u001b[0m\n",
      "\u001b[32m[I 2022-04-07 15:09:18,627]\u001b[0m Trial 109 finished with value: 0.8869893548677323 and parameters: {'min_child_weight': 5, 'n_estimators': 932, 'subsample': 0.7822174817558439, 'gamma': 0.02369198875153078, 'colsample_bytree': 0.9071557473428558, 'reg_lambda': 3.4201316351943687, 'reg_alpha': 0.8312998350942136, 'learning_rate': 0.1}. Best is trial 108 with value: 0.8878069297408185.\u001b[0m\n",
      "\u001b[32m[I 2022-04-07 15:09:38,154]\u001b[0m Trial 110 finished with value: 0.8866194060627688 and parameters: {'min_child_weight': 5, 'n_estimators': 994, 'subsample': 0.8370222734456493, 'gamma': 0.02279766493796417, 'colsample_bytree': 0.9005166884970026, 'reg_lambda': 1.5750105778407764, 'reg_alpha': 1.558916452739315, 'learning_rate': 0.1}. Best is trial 108 with value: 0.8878069297408185.\u001b[0m\n",
      "\u001b[32m[I 2022-04-07 15:10:14,211]\u001b[0m Trial 111 finished with value: 0.8871477179642919 and parameters: {'min_child_weight': 5, 'n_estimators': 923, 'subsample': 0.8419251174620395, 'gamma': 0.022755593579623104, 'colsample_bytree': 0.8635502445991698, 'reg_lambda': 2.103328077264563, 'reg_alpha': 1.3775076403011894, 'learning_rate': 0.1}. Best is trial 108 with value: 0.8878069297408185.\u001b[0m\n",
      "\u001b[32m[I 2022-04-07 15:10:28,791]\u001b[0m Trial 112 finished with value: 0.8874084336793289 and parameters: {'min_child_weight': 5, 'n_estimators': 977, 'subsample': 0.8370811875444685, 'gamma': 0.043341967296645155, 'colsample_bytree': 0.8633511840377351, 'reg_lambda': 2.798882253230939, 'reg_alpha': 1.4005509411262997, 'learning_rate': 0.1}. Best is trial 108 with value: 0.8878069297408185.\u001b[0m\n",
      "\u001b[32m[I 2022-04-07 15:10:55,538]\u001b[0m Trial 113 finished with value: 0.8866989214901752 and parameters: {'min_child_weight': 5, 'n_estimators': 977, 'subsample': 0.8451773568722263, 'gamma': 0.0249805147733, 'colsample_bytree': 0.9066839475324554, 'reg_lambda': 0.9377943081128999, 'reg_alpha': 1.4049996990207565, 'learning_rate': 0.1}. Best is trial 108 with value: 0.8878069297408185.\u001b[0m\n",
      "\u001b[32m[I 2022-04-07 15:11:04,469]\u001b[0m Trial 114 finished with value: 0.886276815448741 and parameters: {'min_child_weight': 5, 'n_estimators': 994, 'subsample': 0.8365296429961877, 'gamma': 0.024148297273004982, 'colsample_bytree': 0.9071268671464618, 'reg_lambda': 2.0218218700576784, 'reg_alpha': 1.4127368964666611, 'learning_rate': 0.1}. Best is trial 108 with value: 0.8878069297408185.\u001b[0m\n",
      "\u001b[32m[I 2022-04-07 15:11:52,844]\u001b[0m Trial 115 finished with value: 0.8871953261415072 and parameters: {'min_child_weight': 5, 'n_estimators': 990, 'subsample': 0.8369025817624499, 'gamma': 0.02428738842040325, 'colsample_bytree': 0.9070731930191647, 'reg_lambda': 1.9637536572250534, 'reg_alpha': 1.3958683649382582, 'learning_rate': 0.1}. Best is trial 108 with value: 0.8878069297408185.\u001b[0m\n",
      "\u001b[32m[I 2022-04-07 15:12:01,554]\u001b[0m Trial 116 finished with value: 0.8863681741889021 and parameters: {'min_child_weight': 5, 'n_estimators': 974, 'subsample': 0.8282690224557926, 'gamma': 0.541373221111969, 'colsample_bytree': 0.9088655693334572, 'reg_lambda': 0.8913140728719426, 'reg_alpha': 1.3556777046947408, 'learning_rate': 0.1}. Best is trial 108 with value: 0.8878069297408185.\u001b[0m\n",
      "\u001b[32m[I 2022-04-07 15:12:54,868]\u001b[0m Trial 117 finished with value: 0.8867709421820196 and parameters: {'min_child_weight': 5, 'n_estimators': 993, 'subsample': 0.8447446780990662, 'gamma': 0.6119403055523819, 'colsample_bytree': 0.9012867015892501, 'reg_lambda': 1.000621535396158, 'reg_alpha': 1.4875849247508277, 'learning_rate': 0.1}. Best is trial 108 with value: 0.8878069297408185.\u001b[0m\n",
      "\u001b[32m[I 2022-04-07 15:13:09,476]\u001b[0m Trial 118 finished with value: 0.8863682898210146 and parameters: {'min_child_weight': 5, 'n_estimators': 970, 'subsample': 0.8191682386281007, 'gamma': 0.5895501489532348, 'colsample_bytree': 0.90894793373258, 'reg_lambda': 0.993635783497682, 'reg_alpha': 1.4199097660523725, 'learning_rate': 0.1}. Best is trial 108 with value: 0.8878069297408185.\u001b[0m\n",
      "\u001b[32m[I 2022-04-07 15:13:43,401]\u001b[0m Trial 119 finished with value: 0.8865068473644081 and parameters: {'min_child_weight': 5, 'n_estimators': 966, 'subsample': 0.8152960659043094, 'gamma': 0.5224734064364396, 'colsample_bytree': 0.9058760582010914, 'reg_lambda': 0.9339647602559106, 'reg_alpha': 1.3497778370458005, 'learning_rate': 0.1}. Best is trial 108 with value: 0.8878069297408185.\u001b[0m\n",
      "\u001b[32m[I 2022-04-07 15:13:58,405]\u001b[0m Trial 120 finished with value: 0.8859954981478232 and parameters: {'min_child_weight': 5, 'n_estimators': 969, 'subsample': 0.8254468259942566, 'gamma': 0.6095135713031472, 'colsample_bytree': 0.8629140660727681, 'reg_lambda': 2.218748944761625, 'reg_alpha': 0.7807164866612579, 'learning_rate': 0.1}. Best is trial 108 with value: 0.8878069297408185.\u001b[0m\n",
      "\u001b[32m[I 2022-04-07 15:14:14,387]\u001b[0m Trial 121 finished with value: 0.8869734795268702 and parameters: {'min_child_weight': 5, 'n_estimators': 928, 'subsample': 0.8218252400220466, 'gamma': 0.6756766837899225, 'colsample_bytree': 0.8607367207575616, 'reg_lambda': 2.3530619122488385, 'reg_alpha': 0.8484249515955231, 'learning_rate': 0.1}. Best is trial 108 with value: 0.8878069297408185.\u001b[0m\n",
      "\u001b[32m[I 2022-04-07 15:14:30,566]\u001b[0m Trial 122 finished with value: 0.8878487388308921 and parameters: {'min_child_weight': 5, 'n_estimators': 963, 'subsample': 0.7876369187749248, 'gamma': 0.016122205521566284, 'colsample_bytree': 0.9800212490885067, 'reg_lambda': 2.2979687027578466, 'reg_alpha': 0.8548710656888828, 'learning_rate': 0.1}. Best is trial 122 with value: 0.8878487388308921.\u001b[0m\n",
      "\u001b[32m[I 2022-04-07 15:15:17,654]\u001b[0m Trial 123 finished with value: 0.8875424419002982 and parameters: {'min_child_weight': 5, 'n_estimators': 962, 'subsample': 0.8170576395093281, 'gamma': 0.6794443445139977, 'colsample_bytree': 0.9874843881897766, 'reg_lambda': 2.7276598636037472, 'reg_alpha': 1.7342015995866833, 'learning_rate': 0.1}. Best is trial 122 with value: 0.8878487388308921.\u001b[0m\n",
      "\u001b[32m[I 2022-04-07 15:15:28,699]\u001b[0m Trial 124 finished with value: 0.888388179550541 and parameters: {'min_child_weight': 5, 'n_estimators': 959, 'subsample': 0.7805630041337368, 'gamma': 0.015818258525313166, 'colsample_bytree': 0.9821278183384986, 'reg_lambda': 4.315752285668966, 'reg_alpha': 1.7263977753780035, 'learning_rate': 0.1}. Best is trial 124 with value: 0.888388179550541.\u001b[0m\n",
      "\u001b[32m[I 2022-04-07 15:16:19,598]\u001b[0m Trial 125 finished with value: 0.8881742033758382 and parameters: {'min_child_weight': 5, 'n_estimators': 959, 'subsample': 0.7880813186117787, 'gamma': 0.016466179340055315, 'colsample_bytree': 0.9855849834914345, 'reg_lambda': 2.719657305810225, 'reg_alpha': 0.8129791799808441, 'learning_rate': 0.1}. Best is trial 124 with value: 0.888388179550541.\u001b[0m\n",
      "\u001b[32m[I 2022-04-07 15:16:33,218]\u001b[0m Trial 126 finished with value: 0.886996069371549 and parameters: {'min_child_weight': 5, 'n_estimators': 956, 'subsample': 0.7929311022123947, 'gamma': 0.0434979372899452, 'colsample_bytree': 0.8623932885596506, 'reg_lambda': 4.268725525801657, 'reg_alpha': 0.8302430091895767, 'learning_rate': 0.1}. Best is trial 124 with value: 0.888388179550541.\u001b[0m\n",
      "\u001b[32m[I 2022-04-07 15:17:07,036]\u001b[0m Trial 127 finished with value: 0.8859989683066256 and parameters: {'min_child_weight': 9, 'n_estimators': 940, 'subsample': 0.7819462145943574, 'gamma': 0.01655269552100482, 'colsample_bytree': 0.9816302824579192, 'reg_lambda': 4.469558730352816, 'reg_alpha': 0.8131940611767542, 'learning_rate': 0.3}. Best is trial 124 with value: 0.888388179550541.\u001b[0m\n",
      "\u001b[32m[I 2022-04-07 15:17:10,098]\u001b[0m Trial 128 finished with value: 0.8872276920142049 and parameters: {'min_child_weight': 5, 'n_estimators': 884, 'subsample': 0.7745476917156606, 'gamma': 0.7270438240354319, 'colsample_bytree': 0.9358458830922295, 'reg_lambda': 3.700193525617011, 'reg_alpha': 1.689757819058535, 'learning_rate': 0.1}. Best is trial 124 with value: 0.888388179550541.\u001b[0m\n",
      "\u001b[32m[I 2022-04-07 15:17:25,489]\u001b[0m Trial 129 finished with value: 0.8879343045055578 and parameters: {'min_child_weight': 9, 'n_estimators': 882, 'subsample': 0.792178204613254, 'gamma': 0.721023086911234, 'colsample_bytree': 0.9827554960877793, 'reg_lambda': 4.303833874716446, 'reg_alpha': 0.823692032620169, 'learning_rate': 0.1}. Best is trial 124 with value: 0.888388179550541.\u001b[0m\n",
      "\u001b[32m[I 2022-04-07 15:17:53,099]\u001b[0m Trial 130 finished with value: 0.8883524963240864 and parameters: {'min_child_weight': 5, 'n_estimators': 936, 'subsample': 0.801504936176244, 'gamma': 0.01643417133551739, 'colsample_bytree': 0.9805231500393465, 'reg_lambda': 4.3433002066107145, 'reg_alpha': 1.828457874454573, 'learning_rate': 0.1}. Best is trial 124 with value: 0.888388179550541.\u001b[0m\n",
      "\u001b[32m[I 2022-04-07 15:18:28,245]\u001b[0m Trial 131 finished with value: 0.8822195925025256 and parameters: {'min_child_weight': 5, 'n_estimators': 885, 'subsample': 0.7973070036240536, 'gamma': 0.010139955684823506, 'colsample_bytree': 0.9999726903108422, 'reg_lambda': 3.667998870563657, 'reg_alpha': 1.7745558959552363, 'learning_rate': 0.3}. Best is trial 124 with value: 0.888388179550541.\u001b[0m\n",
      "\u001b[32m[I 2022-04-07 15:18:36,987]\u001b[0m Trial 132 finished with value: 0.8879008219544501 and parameters: {'min_child_weight': 5, 'n_estimators': 888, 'subsample': 0.7940857362571278, 'gamma': 0.04031655272620758, 'colsample_bytree': 0.9883126955430122, 'reg_lambda': 4.195796704243079, 'reg_alpha': 1.7919629163874913, 'learning_rate': 0.1}. Best is trial 124 with value: 0.888388179550541.\u001b[0m\n",
      "\u001b[32m[I 2022-04-07 15:19:42,641]\u001b[0m Trial 133 finished with value: 0.8840330755754374 and parameters: {'min_child_weight': 5, 'n_estimators': 951, 'subsample': 0.7889761195187268, 'gamma': 0.010171710701710794, 'colsample_bytree': 0.9991490791809466, 'reg_lambda': 3.9614600127824744, 'reg_alpha': 1.7819453536677985, 'learning_rate': 0.3}. Best is trial 124 with value: 0.888388179550541.\u001b[0m\n",
      "\u001b[32m[I 2022-04-07 15:19:55,680]\u001b[0m Trial 134 finished with value: 0.8884547544366794 and parameters: {'min_child_weight': 5, 'n_estimators': 951, 'subsample': 0.8024381433560974, 'gamma': 0.0467601005833936, 'colsample_bytree': 0.9824364977276525, 'reg_lambda': 4.757146839373969, 'reg_alpha': 1.793910906109578, 'learning_rate': 0.1}. Best is trial 134 with value: 0.8884547544366794.\u001b[0m\n",
      "\u001b[32m[I 2022-04-07 15:20:16,769]\u001b[0m Trial 135 finished with value: 0.8873913218089042 and parameters: {'min_child_weight': 5, 'n_estimators': 906, 'subsample': 0.7984969083421576, 'gamma': 0.04400152276112866, 'colsample_bytree': 0.9368625197656489, 'reg_lambda': 4.827489425942679, 'reg_alpha': 1.7735151246412153, 'learning_rate': 0.1}. Best is trial 134 with value: 0.8884547544366794.\u001b[0m\n",
      "\u001b[32m[I 2022-04-07 15:20:19,723]\u001b[0m Trial 136 finished with value: 0.8465039136689001 and parameters: {'min_child_weight': 5, 'n_estimators': 906, 'subsample': 0.8007117245052081, 'gamma': 0.019489364167983626, 'colsample_bytree': 0.9855375254946587, 'reg_lambda': 1.2853859361239648, 'reg_alpha': 3.986009338688486, 'learning_rate': 0.01}. Best is trial 134 with value: 0.8884547544366794.\u001b[0m\n",
      "\u001b[32m[I 2022-04-07 15:20:35,199]\u001b[0m Trial 137 finished with value: 0.8459413524054427 and parameters: {'min_child_weight': 5, 'n_estimators': 908, 'subsample': 0.8001037290813523, 'gamma': 0.3120525211945689, 'colsample_bytree': 0.9945788515993933, 'reg_lambda': 2.776801916387835, 'reg_alpha': 1.7813741933099358, 'learning_rate': 0.01}. Best is trial 134 with value: 0.8884547544366794.\u001b[0m\n",
      "\u001b[32m[I 2022-04-07 15:21:03,504]\u001b[0m Trial 138 finished with value: 0.8869499560960389 and parameters: {'min_child_weight': 5, 'n_estimators': 888, 'subsample': 0.8035697853635555, 'gamma': 7.493274757476541, 'colsample_bytree': 0.992050638789071, 'reg_lambda': 1.2676286276077282, 'reg_alpha': 3.5372258098416967, 'learning_rate': 0.1}. Best is trial 134 with value: 0.8884547544366794.\u001b[0m\n",
      "\u001b[32m[I 2022-04-07 15:21:51,599]\u001b[0m Trial 139 finished with value: 0.8883543122843449 and parameters: {'min_child_weight': 5, 'n_estimators': 902, 'subsample': 0.8035854971461486, 'gamma': 1.3997999357616466, 'colsample_bytree': 0.9812407156116735, 'reg_lambda': 2.764924843249841, 'reg_alpha': 1.1709617375032049, 'learning_rate': 0.1}. Best is trial 134 with value: 0.8884547544366794.\u001b[0m\n",
      "\u001b[32m[I 2022-04-07 15:22:02,610]\u001b[0m Trial 140 finished with value: 0.8876932093507435 and parameters: {'min_child_weight': 5, 'n_estimators': 900, 'subsample': 0.8066744024824786, 'gamma': 0.8281379469139329, 'colsample_bytree': 0.9805460693926775, 'reg_lambda': 5.456727708618581, 'reg_alpha': 3.9390880863211897, 'learning_rate': 0.1}. Best is trial 134 with value: 0.8884547544366794.\u001b[0m\n",
      "\u001b[32m[I 2022-04-07 15:23:44,584]\u001b[0m Trial 141 finished with value: 0.8451489440237687 and parameters: {'min_child_weight': 5, 'n_estimators': 903, 'subsample': 0.8024400369247192, 'gamma': 1.395855331980286, 'colsample_bytree': 0.9806241121494665, 'reg_lambda': 5.150880814817833, 'reg_alpha': 2.254170288958749, 'learning_rate': 0.01}. Best is trial 134 with value: 0.8884547544366794.\u001b[0m\n",
      "\u001b[32m[I 2022-04-07 15:24:03,013]\u001b[0m Trial 142 finished with value: 0.8454784599374813 and parameters: {'min_child_weight': 5, 'n_estimators': 908, 'subsample': 0.8048121143008214, 'gamma': 1.3987109334937071, 'colsample_bytree': 0.9813480770402362, 'reg_lambda': 5.070892628865495, 'reg_alpha': 4.413014678535207, 'learning_rate': 0.01}. Best is trial 134 with value: 0.8884547544366794.\u001b[0m\n",
      "\u001b[32m[I 2022-04-07 15:24:23,965]\u001b[0m Trial 143 finished with value: 0.8446029862494872 and parameters: {'min_child_weight': 5, 'n_estimators': 877, 'subsample': 0.8090673713025076, 'gamma': 0.7841667808283698, 'colsample_bytree': 0.9794498523374767, 'reg_lambda': 2.754381223969178, 'reg_alpha': 3.760577139203111, 'learning_rate': 0.01}. Best is trial 134 with value: 0.8884547544366794.\u001b[0m\n",
      "\u001b[32m[I 2022-04-07 15:24:29,563]\u001b[0m Trial 144 finished with value: 0.8871727092144287 and parameters: {'min_child_weight': 5, 'n_estimators': 878, 'subsample': 0.7447073120637231, 'gamma': 0.040905384701112886, 'colsample_bytree': 0.9384162723161728, 'reg_lambda': 6.977495237521343, 'reg_alpha': 3.507899347394889, 'learning_rate': 0.1}. Best is trial 134 with value: 0.8884547544366794.\u001b[0m\n",
      "\u001b[32m[I 2022-04-07 15:24:45,366]\u001b[0m Trial 145 finished with value: 0.887243396554584 and parameters: {'min_child_weight': 5, 'n_estimators': 879, 'subsample': 0.7513240528552004, 'gamma': 0.060284676895002574, 'colsample_bytree': 0.9379634601014337, 'reg_lambda': 5.440264323266968, 'reg_alpha': 2.271964916704737, 'learning_rate': 0.1}. Best is trial 134 with value: 0.8884547544366794.\u001b[0m\n",
      "\u001b[32m[I 2022-04-07 15:25:27,559]\u001b[0m Trial 146 finished with value: 0.8885381739620117 and parameters: {'min_child_weight': 5, 'n_estimators': 955, 'subsample': 0.7541271093694343, 'gamma': 0.04394023385500643, 'colsample_bytree': 0.9365552231902684, 'reg_lambda': 5.404643947122216, 'reg_alpha': 2.222380918349641, 'learning_rate': 0.1}. Best is trial 146 with value: 0.8885381739620117.\u001b[0m\n",
      "\u001b[32m[I 2022-04-07 15:26:41,186]\u001b[0m Trial 147 finished with value: 0.8869585103861837 and parameters: {'min_child_weight': 5, 'n_estimators': 871, 'subsample': 0.7497243852404764, 'gamma': 4.638130027416736, 'colsample_bytree': 0.9342286853772298, 'reg_lambda': 5.311097532365704, 'reg_alpha': 2.272169121209337, 'learning_rate': 0.1}. Best is trial 146 with value: 0.8885381739620117.\u001b[0m\n",
      "\u001b[32m[I 2022-04-07 15:34:30,251]\u001b[0m Trial 148 finished with value: 0.8870316830451657 and parameters: {'min_child_weight': 5, 'n_estimators': 877, 'subsample': 0.7502035341369744, 'gamma': 0.05718736251756279, 'colsample_bytree': 0.9364866088618401, 'reg_lambda': 5.549116856771587, 'reg_alpha': 4.7257317515902155, 'learning_rate': 0.1}. Best is trial 146 with value: 0.8885381739620117.\u001b[0m\n",
      "\u001b[32m[I 2022-04-07 15:35:36,438]\u001b[0m Trial 149 finished with value: 0.8878297156077346 and parameters: {'min_child_weight': 5, 'n_estimators': 872, 'subsample': 0.7476730940116251, 'gamma': 0.8190365337441965, 'colsample_bytree': 0.9370617061709051, 'reg_lambda': 6.896235320731764, 'reg_alpha': 1.206405243184908, 'learning_rate': 0.1}. Best is trial 146 with value: 0.8885381739620117.\u001b[0m\n",
      "\u001b[32m[I 2022-04-07 15:35:53,004]\u001b[0m Trial 150 finished with value: 0.8873024188497686 and parameters: {'min_child_weight': 5, 'n_estimators': 882, 'subsample': 0.754876102829, 'gamma': 0.8079216317173368, 'colsample_bytree': 0.9353857746868376, 'reg_lambda': 6.086110050173309, 'reg_alpha': 1.1522658853282002, 'learning_rate': 0.1}. Best is trial 146 with value: 0.8885381739620117.\u001b[0m\n",
      "\u001b[32m[I 2022-04-07 15:36:24,738]\u001b[0m Trial 151 finished with value: 0.888525575667962 and parameters: {'min_child_weight': 5, 'n_estimators': 951, 'subsample': 0.7548142812665517, 'gamma': 0.04572193543109633, 'colsample_bytree': 0.9387453352135595, 'reg_lambda': 6.7400858726445305, 'reg_alpha': 2.001493071275414, 'learning_rate': 0.1}. Best is trial 146 with value: 0.8885381739620117.\u001b[0m\n",
      "\u001b[32m[I 2022-04-07 15:36:31,225]\u001b[0m Trial 152 finished with value: 0.8877107849907168 and parameters: {'min_child_weight': 5, 'n_estimators': 966, 'subsample': 0.7643914924674712, 'gamma': 0.06032678088589601, 'colsample_bytree': 0.938833020110424, 'reg_lambda': 6.5771785448117805, 'reg_alpha': 5.337814176404465, 'learning_rate': 0.1}. Best is trial 146 with value: 0.8885381739620117.\u001b[0m\n",
      "\u001b[32m[I 2022-04-07 15:36:41,977]\u001b[0m Trial 153 finished with value: 0.887275909358503 and parameters: {'min_child_weight': 5, 'n_estimators': 948, 'subsample': 0.756338160378578, 'gamma': 0.059209266077397835, 'colsample_bytree': 0.949733883095335, 'reg_lambda': 6.1217899441247505, 'reg_alpha': 2.731395717215152, 'learning_rate': 0.1}. Best is trial 146 with value: 0.8885381739620117.\u001b[0m\n",
      "\u001b[32m[I 2022-04-07 15:37:21,690]\u001b[0m Trial 154 finished with value: 0.8868439144108986 and parameters: {'min_child_weight': 5, 'n_estimators': 955, 'subsample': 0.8667434433878786, 'gamma': 0.05213439967261689, 'colsample_bytree': 0.9577444389871395, 'reg_lambda': 6.282808225559948, 'reg_alpha': 6.679755191474002, 'learning_rate': 0.1}. Best is trial 146 with value: 0.8885381739620117.\u001b[0m\n",
      "\u001b[32m[I 2022-04-07 15:37:42,272]\u001b[0m Trial 155 finished with value: 0.8868429560729408 and parameters: {'min_child_weight': 5, 'n_estimators': 952, 'subsample': 0.8750081487047153, 'gamma': 0.05540139010781337, 'colsample_bytree': 0.9608924019048837, 'reg_lambda': 7.340567825616362, 'reg_alpha': 5.714850838900543, 'learning_rate': 0.1}. Best is trial 146 with value: 0.8885381739620117.\u001b[0m\n",
      "\u001b[32m[I 2022-04-07 15:37:53,444]\u001b[0m Trial 156 finished with value: 0.8874049156425627 and parameters: {'min_child_weight': 5, 'n_estimators': 950, 'subsample': 0.7700873130549855, 'gamma': 0.04943313169923911, 'colsample_bytree': 0.9564915090853818, 'reg_lambda': 7.267495314903409, 'reg_alpha': 2.7562872245196655, 'learning_rate': 0.1}. Best is trial 146 with value: 0.8885381739620117.\u001b[0m\n",
      "\u001b[32m[I 2022-04-07 15:39:00,307]\u001b[0m Trial 157 finished with value: 0.8868103075018865 and parameters: {'min_child_weight': 5, 'n_estimators': 948, 'subsample': 0.8854858964634706, 'gamma': 0.8418923721226211, 'colsample_bytree': 0.9632816535943728, 'reg_lambda': 6.507707074637565, 'reg_alpha': 6.274423150413106, 'learning_rate': 0.1}. Best is trial 146 with value: 0.8885381739620117.\u001b[0m\n",
      "\u001b[32m[I 2022-04-07 15:39:16,330]\u001b[0m Trial 158 finished with value: 0.8867437930674378 and parameters: {'min_child_weight': 5, 'n_estimators': 947, 'subsample': 0.880288230042542, 'gamma': 0.04753721597313903, 'colsample_bytree': 0.9597495021500629, 'reg_lambda': 8.053919369993622, 'reg_alpha': 2.8118640549905054, 'learning_rate': 0.1}. Best is trial 146 with value: 0.8885381739620117.\u001b[0m\n",
      "\u001b[32m[I 2022-04-07 15:39:49,641]\u001b[0m Trial 159 finished with value: 0.8875928795697583 and parameters: {'min_child_weight': 5, 'n_estimators': 953, 'subsample': 0.7724023430395264, 'gamma': 2.625261581906292, 'colsample_bytree': 0.9590520809520934, 'reg_lambda': 6.718605352818849, 'reg_alpha': 2.7315438769996714, 'learning_rate': 0.1}. Best is trial 146 with value: 0.8885381739620117.\u001b[0m\n",
      "\u001b[32m[I 2022-04-07 15:39:55,719]\u001b[0m Trial 160 finished with value: 0.8884074530140385 and parameters: {'min_child_weight': 5, 'n_estimators': 952, 'subsample': 0.7707743729630617, 'gamma': 1.1640849801017241, 'colsample_bytree': 0.9586821383899785, 'reg_lambda': 7.374581693611168, 'reg_alpha': 9.56765766125533, 'learning_rate': 0.1}. Best is trial 146 with value: 0.8885381739620117.\u001b[0m\n",
      "\u001b[32m[I 2022-04-07 15:40:08,102]\u001b[0m Trial 161 finished with value: 0.8879386207757237 and parameters: {'min_child_weight': 5, 'n_estimators': 958, 'subsample': 0.7707852548517479, 'gamma': 1.1302200472433572, 'colsample_bytree': 0.9662640442384909, 'reg_lambda': 8.1588300137057, 'reg_alpha': 6.9948757436251245, 'learning_rate': 0.1}. Best is trial 146 with value: 0.8885381739620117.\u001b[0m\n",
      "\u001b[32m[I 2022-04-07 15:40:45,734]\u001b[0m Trial 162 finished with value: 0.8876035875836126 and parameters: {'min_child_weight': 5, 'n_estimators': 948, 'subsample': 0.7702869421916475, 'gamma': 1.2103192520029626, 'colsample_bytree': 0.9662544912700759, 'reg_lambda': 8.16566367120377, 'reg_alpha': 5.671339068353649, 'learning_rate': 0.1}. Best is trial 146 with value: 0.8885381739620117.\u001b[0m\n",
      "\u001b[32m[I 2022-04-07 15:41:06,433]\u001b[0m Trial 163 finished with value: 0.8886450347658064 and parameters: {'min_child_weight': 5, 'n_estimators': 947, 'subsample': 0.7685983198018781, 'gamma': 0.0327788416792881, 'colsample_bytree': 0.9715258840923064, 'reg_lambda': 7.409789466986423, 'reg_alpha': 2.935006899970953, 'learning_rate': 0.1}. Best is trial 163 with value: 0.8886450347658064.\u001b[0m\n",
      "\u001b[32m[I 2022-04-07 15:41:20,904]\u001b[0m Trial 164 finished with value: 0.8889615719316584 and parameters: {'min_child_weight': 5, 'n_estimators': 967, 'subsample': 0.766387990196497, 'gamma': 1.6950721948115286, 'colsample_bytree': 0.9761079033773842, 'reg_lambda': 8.476518603808442, 'reg_alpha': 1.1432555381439145, 'learning_rate': 0.1}. Best is trial 164 with value: 0.8889615719316584.\u001b[0m\n",
      "\u001b[32m[I 2022-04-07 15:41:32,854]\u001b[0m Trial 168 finished with value: 0.8836317780642414 and parameters: {'min_child_weight': 5, 'n_estimators': 473, 'subsample': 0.7645956899267815, 'gamma': 2.807390938642706, 'colsample_bytree': 0.9739175261247638, 'reg_lambda': 4.5373282973087665, 'reg_alpha': 5.207243147981581, 'learning_rate': 0.1}. Best is trial 164 with value: 0.8889615719316584.\u001b[0m\n",
      "\u001b[32m[I 2022-04-07 15:42:19,745]\u001b[0m Trial 165 finished with value: 0.8879531169819999 and parameters: {'min_child_weight': 5, 'n_estimators': 971, 'subsample': 0.7696644056690983, 'gamma': 1.104625823444996, 'colsample_bytree': 0.9777732863944717, 'reg_lambda': 3.1382633739493233, 'reg_alpha': 1.184445690474057, 'learning_rate': 0.1}. Best is trial 164 with value: 0.8889615719316584.\u001b[0m\n",
      "\u001b[32m[I 2022-04-07 15:42:34,379]\u001b[0m Trial 166 finished with value: 0.888839941557084 and parameters: {'min_child_weight': 9, 'n_estimators': 969, 'subsample': 0.7096650812474844, 'gamma': 1.7715357142817598, 'colsample_bytree': 0.9745191020076227, 'reg_lambda': 3.2775806131790493, 'reg_alpha': 9.199831681196825, 'learning_rate': 0.1}. Best is trial 164 with value: 0.8889615719316584.\u001b[0m\n",
      "\u001b[32m[I 2022-04-07 15:43:04,932]\u001b[0m Trial 167 finished with value: 0.8887323849712756 and parameters: {'min_child_weight': 9, 'n_estimators': 976, 'subsample': 0.7688684460988602, 'gamma': 2.9525953153912003, 'colsample_bytree': 0.974804060691007, 'reg_lambda': 4.528021834977148, 'reg_alpha': 1.989784947139671, 'learning_rate': 0.1}. Best is trial 164 with value: 0.8889615719316584.\u001b[0m\n",
      "\u001b[32m[I 2022-04-07 15:43:21,528]\u001b[0m Trial 169 finished with value: 0.8874100113456361 and parameters: {'min_child_weight': 9, 'n_estimators': 974, 'subsample': 0.7324763816905758, 'gamma': 1.3303183157353466, 'colsample_bytree': 0.9806048836136867, 'reg_lambda': 8.559398202458329, 'reg_alpha': 9.812315314353954, 'learning_rate': 0.1}. Best is trial 164 with value: 0.8889615719316584.\u001b[0m\n",
      "\u001b[32m[I 2022-04-07 15:43:53,660]\u001b[0m Trial 170 finished with value: 0.8881485491019543 and parameters: {'min_child_weight': 9, 'n_estimators': 971, 'subsample': 0.7077898665491882, 'gamma': 1.7950725804488925, 'colsample_bytree': 0.975007366685179, 'reg_lambda': 4.295253245434373, 'reg_alpha': 9.705926282200611, 'learning_rate': 0.1}. Best is trial 164 with value: 0.8889615719316584.\u001b[0m\n",
      "\u001b[32m[I 2022-04-07 15:44:09,056]\u001b[0m Trial 171 finished with value: 0.8808439482554972 and parameters: {'min_child_weight': 9, 'n_estimators': 980, 'subsample': 0.7359241945715056, 'gamma': 1.2012417617439743, 'colsample_bytree': 0.366500628876419, 'reg_lambda': 9.637324477875241, 'reg_alpha': 8.214272429317552, 'learning_rate': 0.1}. Best is trial 164 with value: 0.8889615719316584.\u001b[0m\n",
      "\u001b[32m[I 2022-04-07 15:44:19,780]\u001b[0m Trial 172 finished with value: 0.8759633570568186 and parameters: {'min_child_weight': 9, 'n_estimators': 972, 'subsample': 0.7338731517122301, 'gamma': 1.5526687994903077, 'colsample_bytree': 0.2759846007756591, 'reg_lambda': 9.562701390236713, 'reg_alpha': 2.0340678831123564, 'learning_rate': 0.1}. Best is trial 164 with value: 0.8889615719316584.\u001b[0m\n",
      "\u001b[32m[I 2022-04-07 15:44:39,749]\u001b[0m Trial 173 finished with value: 0.8877956757411317 and parameters: {'min_child_weight': 9, 'n_estimators': 977, 'subsample': 0.7340926315644691, 'gamma': 1.1905308279120848, 'colsample_bytree': 0.9762341363095177, 'reg_lambda': 9.385935423045145, 'reg_alpha': 9.770580399717739, 'learning_rate': 0.1}. Best is trial 164 with value: 0.8889615719316584.\u001b[0m\n",
      "\u001b[32m[I 2022-04-07 15:45:21,631]\u001b[0m Trial 174 finished with value: 0.8820085082209539 and parameters: {'min_child_weight': 9, 'n_estimators': 980, 'subsample': 0.7349512675721511, 'gamma': 1.2779728244901054, 'colsample_bytree': 0.38065163074544284, 'reg_lambda': 9.292429331572174, 'reg_alpha': 9.84338046575558, 'learning_rate': 0.1}. Best is trial 164 with value: 0.8889615719316584.\u001b[0m\n",
      "\u001b[32m[I 2022-04-07 15:45:25,064]\u001b[0m Trial 175 finished with value: 0.8801861958980671 and parameters: {'min_child_weight': 5, 'n_estimators': 922, 'subsample': 0.7040597181662355, 'gamma': 1.50635207405593, 'colsample_bytree': 0.373811259434202, 'reg_lambda': 9.977764883150993, 'reg_alpha': 9.338382203659558, 'learning_rate': 0.1}. Best is trial 164 with value: 0.8889615719316584.\u001b[0m\n",
      "\u001b[32m[I 2022-04-07 15:46:15,271]\u001b[0m Trial 176 finished with value: 0.8880729556297282 and parameters: {'min_child_weight': 9, 'n_estimators': 974, 'subsample': 0.7083871084880599, 'gamma': 1.7591633712315842, 'colsample_bytree': 0.9996244273507274, 'reg_lambda': 3.276547546842211, 'reg_alpha': 7.5720894018521365, 'learning_rate': 0.1}. Best is trial 164 with value: 0.8889615719316584.\u001b[0m\n",
      "\u001b[32m[I 2022-04-07 15:46:35,054]\u001b[0m Trial 177 finished with value: 0.8883135801755213 and parameters: {'min_child_weight': 9, 'n_estimators': 976, 'subsample': 0.7064306120826656, 'gamma': 1.6876156892105212, 'colsample_bytree': 0.9949061546567186, 'reg_lambda': 3.1607846310410466, 'reg_alpha': 9.99359231497836, 'learning_rate': 0.1}. Best is trial 164 with value: 0.8889615719316584.\u001b[0m\n",
      "\u001b[32m[I 2022-04-07 15:47:06,064]\u001b[0m Trial 178 finished with value: 0.8807148724777119 and parameters: {'min_child_weight': 9, 'n_estimators': 976, 'subsample': 0.7042889066315193, 'gamma': 1.7221784617098477, 'colsample_bytree': 0.35450495512914537, 'reg_lambda': 3.3790655528764226, 'reg_alpha': 7.954447510807629, 'learning_rate': 0.1}. Best is trial 164 with value: 0.8889615719316584.\u001b[0m\n",
      "\u001b[32m[I 2022-04-07 15:47:18,359]\u001b[0m Trial 179 finished with value: 0.8863652118917674 and parameters: {'min_child_weight': 9, 'n_estimators': 924, 'subsample': 0.717680396519484, 'gamma': 2.014264409849279, 'colsample_bytree': 0.9967719806731508, 'reg_lambda': 3.2589062605755243, 'reg_alpha': 8.139015283160218, 'learning_rate': 0.1}. Best is trial 164 with value: 0.8889615719316584.\u001b[0m\n",
      "\u001b[32m[I 2022-04-07 15:47:32,977]\u001b[0m Trial 180 finished with value: 0.8879838440676846 and parameters: {'min_child_weight': 9, 'n_estimators': 932, 'subsample': 0.711293198909409, 'gamma': 3.717330384250664, 'colsample_bytree': 0.9960280219990272, 'reg_lambda': 3.1208011820229298, 'reg_alpha': 7.804270239934696, 'learning_rate': 0.1}. Best is trial 164 with value: 0.8889615719316584.\u001b[0m\n",
      "\u001b[32m[I 2022-04-07 15:47:58,364]\u001b[0m Trial 181 finished with value: 0.8098770079080937 and parameters: {'min_child_weight': 9, 'n_estimators': 936, 'subsample': 0.6997607361631717, 'gamma': 1.751219362135709, 'colsample_bytree': 0.9985154830478511, 'reg_lambda': 3.2231501709646486, 'reg_alpha': 8.006457272338837, 'learning_rate': 1}. Best is trial 164 with value: 0.8889615719316584.\u001b[0m\n",
      "\u001b[32m[I 2022-04-07 15:48:47,039]\u001b[0m Trial 182 finished with value: 0.8127626144453626 and parameters: {'min_child_weight': 9, 'n_estimators': 933, 'subsample': 0.7161912654157353, 'gamma': 1.819113381542653, 'colsample_bytree': 0.9994388203154045, 'reg_lambda': 3.306415911234961, 'reg_alpha': 7.999281140786213, 'learning_rate': 1}. Best is trial 164 with value: 0.8889615719316584.\u001b[0m\n",
      "\u001b[32m[I 2022-04-07 15:48:53,080]\u001b[0m Trial 183 finished with value: 0.8143751518230105 and parameters: {'min_child_weight': 9, 'n_estimators': 940, 'subsample': 0.7061986764626813, 'gamma': 1.7328892704505678, 'colsample_bytree': 0.9998354895073405, 'reg_lambda': 3.231803514489246, 'reg_alpha': 7.921974790539249, 'learning_rate': 1}. Best is trial 164 with value: 0.8889615719316584.\u001b[0m\n",
      "\u001b[32m[I 2022-04-07 15:49:40,096]\u001b[0m Trial 184 finished with value: 0.888278104071456 and parameters: {'min_child_weight': 9, 'n_estimators': 934, 'subsample': 0.7013698679663943, 'gamma': 1.7141479447761485, 'colsample_bytree': 0.999962272838694, 'reg_lambda': 3.4001137359146973, 'reg_alpha': 8.270520644920264, 'learning_rate': 0.1}. Best is trial 164 with value: 0.8889615719316584.\u001b[0m\n",
      "\u001b[32m[I 2022-04-07 15:50:02,333]\u001b[0m Trial 185 finished with value: 0.8267434705488416 and parameters: {'min_child_weight': 9, 'n_estimators': 932, 'subsample': 0.7663559682138765, 'gamma': 1.858990634922516, 'colsample_bytree': 0.9992331151168912, 'reg_lambda': 3.2189510964634493, 'reg_alpha': 7.854876142734572, 'learning_rate': 1}. Best is trial 164 with value: 0.8889615719316584.\u001b[0m\n",
      "\u001b[32m[I 2022-04-07 15:50:34,632]\u001b[0m Trial 186 finished with value: 0.8884866175322266 and parameters: {'min_child_weight': 9, 'n_estimators': 936, 'subsample': 0.7163522816657004, 'gamma': 1.7234308779568424, 'colsample_bytree': 0.9681902064965099, 'reg_lambda': 3.17960061144226, 'reg_alpha': 8.030904607914927, 'learning_rate': 0.1}. Best is trial 164 with value: 0.8889615719316584.\u001b[0m\n",
      "\u001b[32m[I 2022-04-07 15:51:02,148]\u001b[0m Trial 187 finished with value: 0.8882502397116735 and parameters: {'min_child_weight': 9, 'n_estimators': 999, 'subsample': 0.6847788127161667, 'gamma': 1.7336559097051547, 'colsample_bytree': 0.9998706823536615, 'reg_lambda': 3.187389839288456, 'reg_alpha': 7.1537039222103465, 'learning_rate': 0.1}. Best is trial 164 with value: 0.8889615719316584.\u001b[0m\n",
      "\u001b[32m[I 2022-04-07 15:51:04,266]\u001b[0m Trial 188 finished with value: 0.8107410492145186 and parameters: {'min_child_weight': 9, 'n_estimators': 936, 'subsample': 0.6786392668743503, 'gamma': 3.4138342762989526, 'colsample_bytree': 0.9949789226197648, 'reg_lambda': 3.09069066849599, 'reg_alpha': 7.029244987401956, 'learning_rate': 1}. Best is trial 164 with value: 0.8889615719316584.\u001b[0m\n",
      "\u001b[32m[I 2022-04-07 15:51:44,067]\u001b[0m Trial 189 finished with value: 0.8885717930065569 and parameters: {'min_child_weight': 9, 'n_estimators': 996, 'subsample': 0.668573607789548, 'gamma': 3.4127615861191916, 'colsample_bytree': 0.9744001798675083, 'reg_lambda': 4.014247210206503, 'reg_alpha': 6.77253867169121, 'learning_rate': 0.1}. Best is trial 164 with value: 0.8889615719316584.\u001b[0m\n",
      "\u001b[32m[I 2022-04-07 15:52:22,012]\u001b[0m Trial 190 finished with value: 0.8873172374742639 and parameters: {'min_child_weight': 9, 'n_estimators': 940, 'subsample': 0.6860429142404935, 'gamma': 5.421308800646388, 'colsample_bytree': 0.9681884365820181, 'reg_lambda': 4.019344359863659, 'reg_alpha': 6.557143973736263, 'learning_rate': 0.1}. Best is trial 164 with value: 0.8889615719316584.\u001b[0m\n",
      "\u001b[32m[I 2022-04-07 15:52:40,463]\u001b[0m Trial 191 finished with value: 0.8877041375660124 and parameters: {'min_child_weight': 9, 'n_estimators': 995, 'subsample': 0.6809851922561769, 'gamma': 5.254530698533883, 'colsample_bytree': 0.9698510099529845, 'reg_lambda': 3.8574900547778657, 'reg_alpha': 8.5502882520554, 'learning_rate': 0.1}. Best is trial 164 with value: 0.8889615719316584.\u001b[0m\n",
      "\u001b[32m[I 2022-04-07 15:53:31,034]\u001b[0m Trial 192 finished with value: 0.888517354951557 and parameters: {'min_child_weight': 9, 'n_estimators': 1000, 'subsample': 0.675041631949549, 'gamma': 3.9280934582625573, 'colsample_bytree': 0.9706110532453806, 'reg_lambda': 3.898224913490457, 'reg_alpha': 7.451676541215461, 'learning_rate': 0.1}. Best is trial 164 with value: 0.8889615719316584.\u001b[0m\n",
      "\u001b[32m[I 2022-04-07 15:53:47,758]\u001b[0m Trial 193 finished with value: 0.8888611754356365 and parameters: {'min_child_weight': 9, 'n_estimators': 999, 'subsample': 0.669802753763122, 'gamma': 3.2769445218213913, 'colsample_bytree': 0.9650416493526213, 'reg_lambda': 4.127397347774424, 'reg_alpha': 6.7191526389250065, 'learning_rate': 0.1}. Best is trial 164 with value: 0.8889615719316584.\u001b[0m\n",
      "\u001b[32m[I 2022-04-07 15:54:09,308]\u001b[0m Trial 194 finished with value: 0.8884693107915774 and parameters: {'min_child_weight': 9, 'n_estimators': 996, 'subsample': 0.6950123624226919, 'gamma': 3.360974089066115, 'colsample_bytree': 0.9524874518236234, 'reg_lambda': 3.909236534531171, 'reg_alpha': 7.00131032510043, 'learning_rate': 0.1}. Best is trial 164 with value: 0.8889615719316584.\u001b[0m\n",
      "\u001b[32m[I 2022-04-07 15:54:26,533]\u001b[0m Trial 195 finished with value: 0.8874924013901897 and parameters: {'min_child_weight': 9, 'n_estimators': 999, 'subsample': 0.6815525216492225, 'gamma': 2.9612733848819395, 'colsample_bytree': 0.9503036429619967, 'reg_lambda': 2.468116589288265, 'reg_alpha': 6.478997088368513, 'learning_rate': 0.1}. Best is trial 164 with value: 0.8889615719316584.\u001b[0m\n",
      "\u001b[32m[I 2022-04-07 15:54:26,937]\u001b[0m Trial 196 finished with value: 0.8878811522146002 and parameters: {'min_child_weight': 9, 'n_estimators': 993, 'subsample': 0.6868592084873095, 'gamma': 4.908203824832097, 'colsample_bytree': 0.9511038878063867, 'reg_lambda': 2.503492259570688, 'reg_alpha': 6.396807368224236, 'learning_rate': 0.1}. Best is trial 164 with value: 0.8889615719316584.\u001b[0m\n",
      "\u001b[32m[I 2022-04-07 15:54:40,034]\u001b[0m Trial 197 finished with value: 0.8877307658512006 and parameters: {'min_child_weight': 9, 'n_estimators': 994, 'subsample': 0.6801244346019762, 'gamma': 5.144418861616307, 'colsample_bytree': 0.9508495412295879, 'reg_lambda': 2.5107460415020135, 'reg_alpha': 6.125816900409857, 'learning_rate': 0.1}. Best is trial 164 with value: 0.8889615719316584.\u001b[0m\n",
      "\u001b[32m[I 2022-04-07 15:54:47,520]\u001b[0m Trial 198 finished with value: 0.8880602345296852 and parameters: {'min_child_weight': 9, 'n_estimators': 990, 'subsample': 0.6690905751032636, 'gamma': 2.3767576948623206, 'colsample_bytree': 0.9525009485736745, 'reg_lambda': 4.015445147102145, 'reg_alpha': 8.80550082290572, 'learning_rate': 0.1}. Best is trial 164 with value: 0.8889615719316584.\u001b[0m\n",
      "\u001b[32m[I 2022-04-07 15:54:49,193]\u001b[0m Trial 199 finished with value: 0.8876478756462403 and parameters: {'min_child_weight': 9, 'n_estimators': 991, 'subsample': 0.6705408784342527, 'gamma': 3.358695118121216, 'colsample_bytree': 0.9515063150226087, 'reg_lambda': 4.689320652709515, 'reg_alpha': 7.055863413614991, 'learning_rate': 0.1}. Best is trial 164 with value: 0.8889615719316584.\u001b[0m\n",
      "\u001b[32m[I 2022-04-07 15:54:49,196]\u001b[0m Finished hyperparemeter search!\u001b[0m\n",
      "\u001b[32m[I 2022-04-07 15:54:49,200]\u001b[0m Refitting the estimator using 5083 samples...\u001b[0m\n",
      "\u001b[32m[I 2022-04-07 15:54:51,308]\u001b[0m Finished refitting! (elapsed time: 2.106 sec.)\u001b[0m\n"
     ]
    },
    {
     "data": {
      "text/plain": [
       "OptunaSearchCV(cv=10,\n",
       "               estimator=XGBRegressor(base_score=None, booster=None,\n",
       "                                      colsample_bylevel=None,\n",
       "                                      colsample_bynode=None,\n",
       "                                      colsample_bytree=None,\n",
       "                                      enable_categorical=False, gamma=None,\n",
       "                                      gpu_id=None, importance_type=None,\n",
       "                                      interaction_constraints=None,\n",
       "                                      learning_rate=None, max_delta_step=None,\n",
       "                                      max_depth=3, min_child_weight=None,\n",
       "                                      missing=nan, monotone_constraints=None,\n",
       "                                      n...\n",
       "                                    'min_child_weight': IntUniformDistribution(high=10, low=5, step=1),\n",
       "                                    'n_estimators': IntUniformDistribution(high=1000, low=50, step=1),\n",
       "                                    'reg_alpha': LogUniformDistribution(high=10.0, low=0.01),\n",
       "                                    'reg_lambda': LogUniformDistribution(high=10.0, low=0.01),\n",
       "                                    'subsample': UniformDistribution(high=1.0, low=0.1)},\n",
       "               random_state=73, scoring='r2',\n",
       "               study=<optuna.study.study.Study object at 0x1743b06a0>,\n",
       "               verbose=1)"
      ]
     },
     "execution_count": 17,
     "metadata": {},
     "output_type": "execute_result"
    }
   ],
   "source": [
    "xgb_oscv_params = {\n",
    "    'min_child_weight' : IntUniformDistribution(5, 10),\n",
    "    'n_estimators' : IntUniformDistribution(50, 1000),\n",
    "    'subsample' : UniformDistribution(0.1, 1),\n",
    "    'gamma' : LogUniformDistribution(1e-2, 10.0),\n",
    "    'colsample_bytree' : UniformDistribution(0.1, 1),\n",
    "    'reg_lambda' : LogUniformDistribution(1e-2, 10.0),\n",
    "    'reg_alpha' : LogUniformDistribution(1e-2, 10.0)\n",
    "    }\n",
    "\n",
    "xgb_study = optuna.create_study(sampler = sampler, direction = 'maximize', study_name = 'XGB_HyperParam_CV')\n",
    "\n",
    "xgb_oscv = OptunaSearchCV(\n",
    "    study = xgb_study,\n",
    "    estimator = xgb_optuna_base,\n",
    "    param_distributions = xgb_oscv_params,\n",
    "    cv = 10,\n",
    "    n_jobs = -1,\n",
    "    n_trials = 200,\n",
    "    random_state = p.RANDOM_STATE,\n",
    "    refit = True,\n",
    "    scoring = 'r2',\n",
    "    verbose = 1,\n",
    ")\n",
    "\n",
    "xgb_oscv.fit(X_train, y_train, verbose = 0)"
   ]
  },
  {
   "cell_type": "code",
   "execution_count": 18,
   "metadata": {},
   "outputs": [
    {
     "data": {
      "application/vnd.plotly.v1+json": {
       "config": {
        "plotlyServerURL": "https://plot.ly"
       },
       "data": [
        {
         "mode": "markers",
         "name": "Objective Value",
         "type": "scatter",
         "x": [
          0,
          1,
          2,
          3,
          4,
          5,
          6,
          7,
          8,
          9,
          10,
          11,
          12,
          13,
          14,
          15,
          16,
          17,
          18,
          19,
          20,
          21,
          22,
          23,
          24,
          25,
          26,
          27,
          28,
          29,
          30,
          31,
          32,
          33,
          34,
          35,
          36,
          37,
          38,
          39,
          40,
          41,
          42,
          43,
          44,
          45,
          46,
          47,
          48,
          49,
          50,
          51,
          52,
          53,
          54,
          55,
          56,
          57,
          58,
          59,
          60,
          61,
          62,
          63,
          64,
          65,
          66,
          67,
          68,
          69,
          70,
          71,
          72,
          73,
          74,
          75,
          76,
          77,
          78,
          79,
          80,
          81,
          82,
          83,
          84,
          85,
          86,
          87,
          88,
          89,
          90,
          91,
          92,
          93,
          94,
          95,
          96,
          97,
          98,
          99,
          100,
          101,
          102,
          103,
          104,
          105,
          106,
          107,
          108,
          109,
          110,
          111,
          112,
          113,
          114,
          115,
          116,
          117,
          118,
          119,
          120,
          121,
          122,
          123,
          124,
          125,
          126,
          127,
          128,
          129,
          130,
          131,
          132,
          133,
          134,
          135,
          136,
          137,
          138,
          139,
          140,
          141,
          142,
          143,
          144,
          145,
          146,
          147,
          148,
          149,
          150,
          151,
          152,
          153,
          154,
          155,
          156,
          157,
          158,
          159,
          160,
          161,
          162,
          163,
          164,
          165,
          166,
          167,
          168,
          169,
          170,
          171,
          172,
          173,
          174,
          175,
          176,
          177,
          178,
          179,
          180,
          181,
          182,
          183,
          184,
          185,
          186,
          187,
          188,
          189,
          190,
          191,
          192,
          193,
          194,
          195,
          196,
          197,
          198,
          199
         ],
         "y": [
          0.7922048283955464,
          0.8365032204726122,
          0.8762662835937027,
          0.5421425900176836,
          0.8680947950974799,
          0.8401930410804924,
          0.8175974064828434,
          0.8219417689895435,
          0.8720312624873483,
          0.8383868130731944,
          0.8167171132248802,
          0.8757138236703833,
          0.8342141791083517,
          0.8741332432906539,
          0.8773072600188565,
          0.7985674491024556,
          0.7699717032995019,
          0.8804368347013412,
          0.8810356930332517,
          0.8808337351202346,
          0.8791766414344737,
          0.878427173424759,
          0.8846788404178071,
          0.885883027726495,
          0.8702061883578558,
          0.8743841793840085,
          0.8814593398378758,
          0.8853503859712186,
          0.8796442308112089,
          0.8795616880522872,
          0.885640731491409,
          0.8852852224031491,
          0.8859273867435509,
          0.8863695137827264,
          0.8858500896795265,
          0.8845473650602701,
          0.8850819328956593,
          0.88515678893692,
          0.8851843542761475,
          0.8854897423775018,
          0.88410659214747,
          0.8836660802127492,
          0.8842708556212324,
          0.8840718487101311,
          0.8867984554551566,
          0.8848478501750897,
          0.8413995021114287,
          0.8415915233976488,
          0.885450056773833,
          0.8293103628093041,
          0.8284569152175958,
          0.8348826756977333,
          0.8317622346908868,
          0.8161502690035942,
          0.8224724544972319,
          0.8212412346248193,
          0.8198789049821709,
          0.823062258923003,
          0.8143839431546345,
          0.824343939684779,
          0.8216942663190643,
          0.8854604892376777,
          0.8818044779081063,
          0.8839584447261174,
          0.8828176620838649,
          0.8846620513168183,
          0.8840521814286687,
          0.8842449309697947,
          0.8848521835327343,
          0.8846985456104873,
          0.8855157901792785,
          0.8866317267413775,
          0.8860289695977647,
          0.7712469908762034,
          0.8749691218194681,
          0.8746618126706502,
          0.8829486621767529,
          0.8723263169199397,
          0.8731907902562617,
          0.8730772221872918,
          0.873749461655582,
          0.8856862825834393,
          0.8852781079150656,
          0.88601728873048,
          0.8847217727757549,
          0.8854628586028344,
          0.8775706481323203,
          0.8853720380901166,
          0.8850708927014821,
          0.8853759740564925,
          0.8869636403375768,
          0.8768401152441306,
          0.8512931393950446,
          0.8854307925886719,
          0.8853586065471118,
          0.887016075028726,
          0.8849567678266157,
          0.8847850092330309,
          0.8856893396804318,
          0.8838314714064334,
          0.8840815352101515,
          0.8876695766274025,
          0.8867693906811123,
          0.8863927304986768,
          0.8869966100868008,
          0.8866927819210728,
          0.8868064050066959,
          0.8870740885934267,
          0.8878069297408185,
          0.8869893548677323,
          0.8866194060627688,
          0.8871477179642919,
          0.8874084336793289,
          0.8866989214901752,
          0.886276815448741,
          0.8871953261415072,
          0.8863681741889021,
          0.8867709421820196,
          0.8863682898210146,
          0.8865068473644081,
          0.8859954981478232,
          0.8869734795268702,
          0.8878487388308921,
          0.8875424419002982,
          0.888388179550541,
          0.8881742033758382,
          0.886996069371549,
          0.8859989683066256,
          0.8872276920142049,
          0.8879343045055578,
          0.8883524963240864,
          0.8822195925025256,
          0.8879008219544501,
          0.8840330755754374,
          0.8884547544366794,
          0.8873913218089042,
          0.8465039136689001,
          0.8459413524054427,
          0.8869499560960389,
          0.8883543122843449,
          0.8876932093507435,
          0.8451489440237687,
          0.8454784599374813,
          0.8446029862494872,
          0.8871727092144287,
          0.887243396554584,
          0.8885381739620117,
          0.8869585103861837,
          0.8870316830451657,
          0.8878297156077346,
          0.8873024188497686,
          0.888525575667962,
          0.8877107849907168,
          0.887275909358503,
          0.8868439144108986,
          0.8868429560729408,
          0.8874049156425627,
          0.8868103075018865,
          0.8867437930674378,
          0.8875928795697583,
          0.8884074530140385,
          0.8879386207757237,
          0.8876035875836126,
          0.8886450347658064,
          0.8889615719316584,
          0.8879531169819999,
          0.888839941557084,
          0.8887323849712756,
          0.8836317780642414,
          0.8874100113456361,
          0.8881485491019543,
          0.8808439482554972,
          0.8759633570568186,
          0.8877956757411317,
          0.8820085082209539,
          0.8801861958980671,
          0.8880729556297282,
          0.8883135801755213,
          0.8807148724777119,
          0.8863652118917674,
          0.8879838440676846,
          0.8098770079080937,
          0.8127626144453626,
          0.8143751518230105,
          0.888278104071456,
          0.8267434705488416,
          0.8884866175322266,
          0.8882502397116735,
          0.8107410492145186,
          0.8885717930065569,
          0.8873172374742639,
          0.8877041375660124,
          0.888517354951557,
          0.8888611754356365,
          0.8884693107915774,
          0.8874924013901897,
          0.8878811522146002,
          0.8877307658512006,
          0.8880602345296852,
          0.8876478756462403
         ]
        },
        {
         "name": "Best Value",
         "type": "scatter",
         "x": [
          0,
          1,
          2,
          3,
          4,
          5,
          6,
          7,
          8,
          9,
          10,
          11,
          12,
          13,
          14,
          15,
          16,
          17,
          18,
          19,
          20,
          21,
          22,
          23,
          24,
          25,
          26,
          27,
          28,
          29,
          30,
          31,
          32,
          33,
          34,
          35,
          36,
          37,
          38,
          39,
          40,
          41,
          42,
          43,
          44,
          45,
          46,
          47,
          48,
          49,
          50,
          51,
          52,
          53,
          54,
          55,
          56,
          57,
          58,
          59,
          60,
          61,
          62,
          63,
          64,
          65,
          66,
          67,
          68,
          69,
          70,
          71,
          72,
          73,
          74,
          75,
          76,
          77,
          78,
          79,
          80,
          81,
          82,
          83,
          84,
          85,
          86,
          87,
          88,
          89,
          90,
          91,
          92,
          93,
          94,
          95,
          96,
          97,
          98,
          99,
          100,
          101,
          102,
          103,
          104,
          105,
          106,
          107,
          108,
          109,
          110,
          111,
          112,
          113,
          114,
          115,
          116,
          117,
          118,
          119,
          120,
          121,
          122,
          123,
          124,
          125,
          126,
          127,
          128,
          129,
          130,
          131,
          132,
          133,
          134,
          135,
          136,
          137,
          138,
          139,
          140,
          141,
          142,
          143,
          144,
          145,
          146,
          147,
          148,
          149,
          150,
          151,
          152,
          153,
          154,
          155,
          156,
          157,
          158,
          159,
          160,
          161,
          162,
          163,
          164,
          165,
          166,
          167,
          168,
          169,
          170,
          171,
          172,
          173,
          174,
          175,
          176,
          177,
          178,
          179,
          180,
          181,
          182,
          183,
          184,
          185,
          186,
          187,
          188,
          189,
          190,
          191,
          192,
          193,
          194,
          195,
          196,
          197,
          198,
          199
         ],
         "y": [
          0.7922048283955464,
          0.8365032204726122,
          0.8762662835937027,
          0.8762662835937027,
          0.8762662835937027,
          0.8762662835937027,
          0.8762662835937027,
          0.8762662835937027,
          0.8762662835937027,
          0.8762662835937027,
          0.8762662835937027,
          0.8762662835937027,
          0.8762662835937027,
          0.8762662835937027,
          0.8773072600188565,
          0.8773072600188565,
          0.8773072600188565,
          0.8804368347013412,
          0.8810356930332517,
          0.8810356930332517,
          0.8810356930332517,
          0.8810356930332517,
          0.8846788404178071,
          0.885883027726495,
          0.885883027726495,
          0.885883027726495,
          0.885883027726495,
          0.885883027726495,
          0.885883027726495,
          0.885883027726495,
          0.885883027726495,
          0.885883027726495,
          0.8859273867435509,
          0.8863695137827264,
          0.8863695137827264,
          0.8863695137827264,
          0.8863695137827264,
          0.8863695137827264,
          0.8863695137827264,
          0.8863695137827264,
          0.8863695137827264,
          0.8863695137827264,
          0.8863695137827264,
          0.8863695137827264,
          0.8867984554551566,
          0.8867984554551566,
          0.8867984554551566,
          0.8867984554551566,
          0.8867984554551566,
          0.8867984554551566,
          0.8867984554551566,
          0.8867984554551566,
          0.8867984554551566,
          0.8867984554551566,
          0.8867984554551566,
          0.8867984554551566,
          0.8867984554551566,
          0.8867984554551566,
          0.8867984554551566,
          0.8867984554551566,
          0.8867984554551566,
          0.8867984554551566,
          0.8867984554551566,
          0.8867984554551566,
          0.8867984554551566,
          0.8867984554551566,
          0.8867984554551566,
          0.8867984554551566,
          0.8867984554551566,
          0.8867984554551566,
          0.8867984554551566,
          0.8867984554551566,
          0.8867984554551566,
          0.8867984554551566,
          0.8867984554551566,
          0.8867984554551566,
          0.8867984554551566,
          0.8867984554551566,
          0.8867984554551566,
          0.8867984554551566,
          0.8867984554551566,
          0.8867984554551566,
          0.8867984554551566,
          0.8867984554551566,
          0.8867984554551566,
          0.8867984554551566,
          0.8867984554551566,
          0.8867984554551566,
          0.8867984554551566,
          0.8867984554551566,
          0.8869636403375768,
          0.8869636403375768,
          0.8869636403375768,
          0.8869636403375768,
          0.8869636403375768,
          0.887016075028726,
          0.887016075028726,
          0.887016075028726,
          0.887016075028726,
          0.887016075028726,
          0.887016075028726,
          0.8876695766274025,
          0.8876695766274025,
          0.8876695766274025,
          0.8876695766274025,
          0.8876695766274025,
          0.8876695766274025,
          0.8876695766274025,
          0.8878069297408185,
          0.8878069297408185,
          0.8878069297408185,
          0.8878069297408185,
          0.8878069297408185,
          0.8878069297408185,
          0.8878069297408185,
          0.8878069297408185,
          0.8878069297408185,
          0.8878069297408185,
          0.8878069297408185,
          0.8878069297408185,
          0.8878069297408185,
          0.8878069297408185,
          0.8878487388308921,
          0.8878487388308921,
          0.888388179550541,
          0.888388179550541,
          0.888388179550541,
          0.888388179550541,
          0.888388179550541,
          0.888388179550541,
          0.888388179550541,
          0.888388179550541,
          0.888388179550541,
          0.888388179550541,
          0.8884547544366794,
          0.8884547544366794,
          0.8884547544366794,
          0.8884547544366794,
          0.8884547544366794,
          0.8884547544366794,
          0.8884547544366794,
          0.8884547544366794,
          0.8884547544366794,
          0.8884547544366794,
          0.8884547544366794,
          0.8884547544366794,
          0.8885381739620117,
          0.8885381739620117,
          0.8885381739620117,
          0.8885381739620117,
          0.8885381739620117,
          0.8885381739620117,
          0.8885381739620117,
          0.8885381739620117,
          0.8885381739620117,
          0.8885381739620117,
          0.8885381739620117,
          0.8885381739620117,
          0.8885381739620117,
          0.8885381739620117,
          0.8885381739620117,
          0.8885381739620117,
          0.8885381739620117,
          0.8886450347658064,
          0.8889615719316584,
          0.8889615719316584,
          0.8889615719316584,
          0.8889615719316584,
          0.8889615719316584,
          0.8889615719316584,
          0.8889615719316584,
          0.8889615719316584,
          0.8889615719316584,
          0.8889615719316584,
          0.8889615719316584,
          0.8889615719316584,
          0.8889615719316584,
          0.8889615719316584,
          0.8889615719316584,
          0.8889615719316584,
          0.8889615719316584,
          0.8889615719316584,
          0.8889615719316584,
          0.8889615719316584,
          0.8889615719316584,
          0.8889615719316584,
          0.8889615719316584,
          0.8889615719316584,
          0.8889615719316584,
          0.8889615719316584,
          0.8889615719316584,
          0.8889615719316584,
          0.8889615719316584,
          0.8889615719316584,
          0.8889615719316584,
          0.8889615719316584,
          0.8889615719316584,
          0.8889615719316584,
          0.8889615719316584,
          0.8889615719316584
         ]
        }
       ],
       "layout": {
        "template": {
         "data": {
          "bar": [
           {
            "error_x": {
             "color": "#2a3f5f"
            },
            "error_y": {
             "color": "#2a3f5f"
            },
            "marker": {
             "line": {
              "color": "#E5ECF6",
              "width": 0.5
             },
             "pattern": {
              "fillmode": "overlay",
              "size": 10,
              "solidity": 0.2
             }
            },
            "type": "bar"
           }
          ],
          "barpolar": [
           {
            "marker": {
             "line": {
              "color": "#E5ECF6",
              "width": 0.5
             },
             "pattern": {
              "fillmode": "overlay",
              "size": 10,
              "solidity": 0.2
             }
            },
            "type": "barpolar"
           }
          ],
          "carpet": [
           {
            "aaxis": {
             "endlinecolor": "#2a3f5f",
             "gridcolor": "white",
             "linecolor": "white",
             "minorgridcolor": "white",
             "startlinecolor": "#2a3f5f"
            },
            "baxis": {
             "endlinecolor": "#2a3f5f",
             "gridcolor": "white",
             "linecolor": "white",
             "minorgridcolor": "white",
             "startlinecolor": "#2a3f5f"
            },
            "type": "carpet"
           }
          ],
          "choropleth": [
           {
            "colorbar": {
             "outlinewidth": 0,
             "ticks": ""
            },
            "type": "choropleth"
           }
          ],
          "contour": [
           {
            "colorbar": {
             "outlinewidth": 0,
             "ticks": ""
            },
            "colorscale": [
             [
              0,
              "#0d0887"
             ],
             [
              0.1111111111111111,
              "#46039f"
             ],
             [
              0.2222222222222222,
              "#7201a8"
             ],
             [
              0.3333333333333333,
              "#9c179e"
             ],
             [
              0.4444444444444444,
              "#bd3786"
             ],
             [
              0.5555555555555556,
              "#d8576b"
             ],
             [
              0.6666666666666666,
              "#ed7953"
             ],
             [
              0.7777777777777778,
              "#fb9f3a"
             ],
             [
              0.8888888888888888,
              "#fdca26"
             ],
             [
              1,
              "#f0f921"
             ]
            ],
            "type": "contour"
           }
          ],
          "contourcarpet": [
           {
            "colorbar": {
             "outlinewidth": 0,
             "ticks": ""
            },
            "type": "contourcarpet"
           }
          ],
          "heatmap": [
           {
            "colorbar": {
             "outlinewidth": 0,
             "ticks": ""
            },
            "colorscale": [
             [
              0,
              "#0d0887"
             ],
             [
              0.1111111111111111,
              "#46039f"
             ],
             [
              0.2222222222222222,
              "#7201a8"
             ],
             [
              0.3333333333333333,
              "#9c179e"
             ],
             [
              0.4444444444444444,
              "#bd3786"
             ],
             [
              0.5555555555555556,
              "#d8576b"
             ],
             [
              0.6666666666666666,
              "#ed7953"
             ],
             [
              0.7777777777777778,
              "#fb9f3a"
             ],
             [
              0.8888888888888888,
              "#fdca26"
             ],
             [
              1,
              "#f0f921"
             ]
            ],
            "type": "heatmap"
           }
          ],
          "heatmapgl": [
           {
            "colorbar": {
             "outlinewidth": 0,
             "ticks": ""
            },
            "colorscale": [
             [
              0,
              "#0d0887"
             ],
             [
              0.1111111111111111,
              "#46039f"
             ],
             [
              0.2222222222222222,
              "#7201a8"
             ],
             [
              0.3333333333333333,
              "#9c179e"
             ],
             [
              0.4444444444444444,
              "#bd3786"
             ],
             [
              0.5555555555555556,
              "#d8576b"
             ],
             [
              0.6666666666666666,
              "#ed7953"
             ],
             [
              0.7777777777777778,
              "#fb9f3a"
             ],
             [
              0.8888888888888888,
              "#fdca26"
             ],
             [
              1,
              "#f0f921"
             ]
            ],
            "type": "heatmapgl"
           }
          ],
          "histogram": [
           {
            "marker": {
             "pattern": {
              "fillmode": "overlay",
              "size": 10,
              "solidity": 0.2
             }
            },
            "type": "histogram"
           }
          ],
          "histogram2d": [
           {
            "colorbar": {
             "outlinewidth": 0,
             "ticks": ""
            },
            "colorscale": [
             [
              0,
              "#0d0887"
             ],
             [
              0.1111111111111111,
              "#46039f"
             ],
             [
              0.2222222222222222,
              "#7201a8"
             ],
             [
              0.3333333333333333,
              "#9c179e"
             ],
             [
              0.4444444444444444,
              "#bd3786"
             ],
             [
              0.5555555555555556,
              "#d8576b"
             ],
             [
              0.6666666666666666,
              "#ed7953"
             ],
             [
              0.7777777777777778,
              "#fb9f3a"
             ],
             [
              0.8888888888888888,
              "#fdca26"
             ],
             [
              1,
              "#f0f921"
             ]
            ],
            "type": "histogram2d"
           }
          ],
          "histogram2dcontour": [
           {
            "colorbar": {
             "outlinewidth": 0,
             "ticks": ""
            },
            "colorscale": [
             [
              0,
              "#0d0887"
             ],
             [
              0.1111111111111111,
              "#46039f"
             ],
             [
              0.2222222222222222,
              "#7201a8"
             ],
             [
              0.3333333333333333,
              "#9c179e"
             ],
             [
              0.4444444444444444,
              "#bd3786"
             ],
             [
              0.5555555555555556,
              "#d8576b"
             ],
             [
              0.6666666666666666,
              "#ed7953"
             ],
             [
              0.7777777777777778,
              "#fb9f3a"
             ],
             [
              0.8888888888888888,
              "#fdca26"
             ],
             [
              1,
              "#f0f921"
             ]
            ],
            "type": "histogram2dcontour"
           }
          ],
          "mesh3d": [
           {
            "colorbar": {
             "outlinewidth": 0,
             "ticks": ""
            },
            "type": "mesh3d"
           }
          ],
          "parcoords": [
           {
            "line": {
             "colorbar": {
              "outlinewidth": 0,
              "ticks": ""
             }
            },
            "type": "parcoords"
           }
          ],
          "pie": [
           {
            "automargin": true,
            "type": "pie"
           }
          ],
          "scatter": [
           {
            "marker": {
             "colorbar": {
              "outlinewidth": 0,
              "ticks": ""
             }
            },
            "type": "scatter"
           }
          ],
          "scatter3d": [
           {
            "line": {
             "colorbar": {
              "outlinewidth": 0,
              "ticks": ""
             }
            },
            "marker": {
             "colorbar": {
              "outlinewidth": 0,
              "ticks": ""
             }
            },
            "type": "scatter3d"
           }
          ],
          "scattercarpet": [
           {
            "marker": {
             "colorbar": {
              "outlinewidth": 0,
              "ticks": ""
             }
            },
            "type": "scattercarpet"
           }
          ],
          "scattergeo": [
           {
            "marker": {
             "colorbar": {
              "outlinewidth": 0,
              "ticks": ""
             }
            },
            "type": "scattergeo"
           }
          ],
          "scattergl": [
           {
            "marker": {
             "colorbar": {
              "outlinewidth": 0,
              "ticks": ""
             }
            },
            "type": "scattergl"
           }
          ],
          "scattermapbox": [
           {
            "marker": {
             "colorbar": {
              "outlinewidth": 0,
              "ticks": ""
             }
            },
            "type": "scattermapbox"
           }
          ],
          "scatterpolar": [
           {
            "marker": {
             "colorbar": {
              "outlinewidth": 0,
              "ticks": ""
             }
            },
            "type": "scatterpolar"
           }
          ],
          "scatterpolargl": [
           {
            "marker": {
             "colorbar": {
              "outlinewidth": 0,
              "ticks": ""
             }
            },
            "type": "scatterpolargl"
           }
          ],
          "scatterternary": [
           {
            "marker": {
             "colorbar": {
              "outlinewidth": 0,
              "ticks": ""
             }
            },
            "type": "scatterternary"
           }
          ],
          "surface": [
           {
            "colorbar": {
             "outlinewidth": 0,
             "ticks": ""
            },
            "colorscale": [
             [
              0,
              "#0d0887"
             ],
             [
              0.1111111111111111,
              "#46039f"
             ],
             [
              0.2222222222222222,
              "#7201a8"
             ],
             [
              0.3333333333333333,
              "#9c179e"
             ],
             [
              0.4444444444444444,
              "#bd3786"
             ],
             [
              0.5555555555555556,
              "#d8576b"
             ],
             [
              0.6666666666666666,
              "#ed7953"
             ],
             [
              0.7777777777777778,
              "#fb9f3a"
             ],
             [
              0.8888888888888888,
              "#fdca26"
             ],
             [
              1,
              "#f0f921"
             ]
            ],
            "type": "surface"
           }
          ],
          "table": [
           {
            "cells": {
             "fill": {
              "color": "#EBF0F8"
             },
             "line": {
              "color": "white"
             }
            },
            "header": {
             "fill": {
              "color": "#C8D4E3"
             },
             "line": {
              "color": "white"
             }
            },
            "type": "table"
           }
          ]
         },
         "layout": {
          "annotationdefaults": {
           "arrowcolor": "#2a3f5f",
           "arrowhead": 0,
           "arrowwidth": 1
          },
          "autotypenumbers": "strict",
          "coloraxis": {
           "colorbar": {
            "outlinewidth": 0,
            "ticks": ""
           }
          },
          "colorscale": {
           "diverging": [
            [
             0,
             "#8e0152"
            ],
            [
             0.1,
             "#c51b7d"
            ],
            [
             0.2,
             "#de77ae"
            ],
            [
             0.3,
             "#f1b6da"
            ],
            [
             0.4,
             "#fde0ef"
            ],
            [
             0.5,
             "#f7f7f7"
            ],
            [
             0.6,
             "#e6f5d0"
            ],
            [
             0.7,
             "#b8e186"
            ],
            [
             0.8,
             "#7fbc41"
            ],
            [
             0.9,
             "#4d9221"
            ],
            [
             1,
             "#276419"
            ]
           ],
           "sequential": [
            [
             0,
             "#0d0887"
            ],
            [
             0.1111111111111111,
             "#46039f"
            ],
            [
             0.2222222222222222,
             "#7201a8"
            ],
            [
             0.3333333333333333,
             "#9c179e"
            ],
            [
             0.4444444444444444,
             "#bd3786"
            ],
            [
             0.5555555555555556,
             "#d8576b"
            ],
            [
             0.6666666666666666,
             "#ed7953"
            ],
            [
             0.7777777777777778,
             "#fb9f3a"
            ],
            [
             0.8888888888888888,
             "#fdca26"
            ],
            [
             1,
             "#f0f921"
            ]
           ],
           "sequentialminus": [
            [
             0,
             "#0d0887"
            ],
            [
             0.1111111111111111,
             "#46039f"
            ],
            [
             0.2222222222222222,
             "#7201a8"
            ],
            [
             0.3333333333333333,
             "#9c179e"
            ],
            [
             0.4444444444444444,
             "#bd3786"
            ],
            [
             0.5555555555555556,
             "#d8576b"
            ],
            [
             0.6666666666666666,
             "#ed7953"
            ],
            [
             0.7777777777777778,
             "#fb9f3a"
            ],
            [
             0.8888888888888888,
             "#fdca26"
            ],
            [
             1,
             "#f0f921"
            ]
           ]
          },
          "colorway": [
           "#636efa",
           "#EF553B",
           "#00cc96",
           "#ab63fa",
           "#FFA15A",
           "#19d3f3",
           "#FF6692",
           "#B6E880",
           "#FF97FF",
           "#FECB52"
          ],
          "font": {
           "color": "#2a3f5f"
          },
          "geo": {
           "bgcolor": "white",
           "lakecolor": "white",
           "landcolor": "#E5ECF6",
           "showlakes": true,
           "showland": true,
           "subunitcolor": "white"
          },
          "hoverlabel": {
           "align": "left"
          },
          "hovermode": "closest",
          "mapbox": {
           "style": "light"
          },
          "paper_bgcolor": "white",
          "plot_bgcolor": "#E5ECF6",
          "polar": {
           "angularaxis": {
            "gridcolor": "white",
            "linecolor": "white",
            "ticks": ""
           },
           "bgcolor": "#E5ECF6",
           "radialaxis": {
            "gridcolor": "white",
            "linecolor": "white",
            "ticks": ""
           }
          },
          "scene": {
           "xaxis": {
            "backgroundcolor": "#E5ECF6",
            "gridcolor": "white",
            "gridwidth": 2,
            "linecolor": "white",
            "showbackground": true,
            "ticks": "",
            "zerolinecolor": "white"
           },
           "yaxis": {
            "backgroundcolor": "#E5ECF6",
            "gridcolor": "white",
            "gridwidth": 2,
            "linecolor": "white",
            "showbackground": true,
            "ticks": "",
            "zerolinecolor": "white"
           },
           "zaxis": {
            "backgroundcolor": "#E5ECF6",
            "gridcolor": "white",
            "gridwidth": 2,
            "linecolor": "white",
            "showbackground": true,
            "ticks": "",
            "zerolinecolor": "white"
           }
          },
          "shapedefaults": {
           "line": {
            "color": "#2a3f5f"
           }
          },
          "ternary": {
           "aaxis": {
            "gridcolor": "white",
            "linecolor": "white",
            "ticks": ""
           },
           "baxis": {
            "gridcolor": "white",
            "linecolor": "white",
            "ticks": ""
           },
           "bgcolor": "#E5ECF6",
           "caxis": {
            "gridcolor": "white",
            "linecolor": "white",
            "ticks": ""
           }
          },
          "title": {
           "x": 0.05
          },
          "xaxis": {
           "automargin": true,
           "gridcolor": "white",
           "linecolor": "white",
           "ticks": "",
           "title": {
            "standoff": 15
           },
           "zerolinecolor": "white",
           "zerolinewidth": 2
          },
          "yaxis": {
           "automargin": true,
           "gridcolor": "white",
           "linecolor": "white",
           "ticks": "",
           "title": {
            "standoff": 15
           },
           "zerolinecolor": "white",
           "zerolinewidth": 2
          }
         }
        },
        "title": {
         "text": "Optimization History Plot"
        },
        "xaxis": {
         "title": {
          "text": "#Trials"
         }
        },
        "yaxis": {
         "title": {
          "text": "Objective Value"
         }
        }
       }
      }
     },
     "metadata": {},
     "output_type": "display_data"
    },
    {
     "data": {
      "application/vnd.plotly.v1+json": {
       "config": {
        "plotlyServerURL": "https://plot.ly"
       },
       "data": [
        {
         "cliponaxis": false,
         "hovertemplate": [
          "reg_alpha (LogUniformDistribution): 0.0014922629891680728<extra></extra>",
          "min_child_weight (IntUniformDistribution): 0.0018613814745620982<extra></extra>",
          "reg_lambda (LogUniformDistribution): 0.0071272633813085386<extra></extra>",
          "gamma (LogUniformDistribution): 0.033750493939731424<extra></extra>",
          "colsample_bytree (UniformDistribution): 0.06387594454221729<extra></extra>",
          "subsample (UniformDistribution): 0.13436205025457865<extra></extra>",
          "n_estimators (IntUniformDistribution): 0.15933105674366418<extra></extra>",
          "learning_rate (CategoricalDistribution): 0.5981995466747696<extra></extra>"
         ],
         "marker": {
          "color": "rgb(66,146,198)"
         },
         "orientation": "h",
         "text": [
          "0.0014922629891680728",
          "0.0018613814745620982",
          "0.0071272633813085386",
          "0.033750493939731424",
          "0.06387594454221729",
          "0.13436205025457865",
          "0.15933105674366418",
          "0.5981995466747696"
         ],
         "textposition": "outside",
         "texttemplate": "%{text:.2f}",
         "type": "bar",
         "x": [
          0.0014922629891680728,
          0.0018613814745620982,
          0.0071272633813085386,
          0.033750493939731424,
          0.06387594454221729,
          0.13436205025457865,
          0.15933105674366418,
          0.5981995466747696
         ],
         "y": [
          "reg_alpha",
          "min_child_weight",
          "reg_lambda",
          "gamma",
          "colsample_bytree",
          "subsample",
          "n_estimators",
          "learning_rate"
         ]
        }
       ],
       "layout": {
        "showlegend": false,
        "template": {
         "data": {
          "bar": [
           {
            "error_x": {
             "color": "#2a3f5f"
            },
            "error_y": {
             "color": "#2a3f5f"
            },
            "marker": {
             "line": {
              "color": "#E5ECF6",
              "width": 0.5
             },
             "pattern": {
              "fillmode": "overlay",
              "size": 10,
              "solidity": 0.2
             }
            },
            "type": "bar"
           }
          ],
          "barpolar": [
           {
            "marker": {
             "line": {
              "color": "#E5ECF6",
              "width": 0.5
             },
             "pattern": {
              "fillmode": "overlay",
              "size": 10,
              "solidity": 0.2
             }
            },
            "type": "barpolar"
           }
          ],
          "carpet": [
           {
            "aaxis": {
             "endlinecolor": "#2a3f5f",
             "gridcolor": "white",
             "linecolor": "white",
             "minorgridcolor": "white",
             "startlinecolor": "#2a3f5f"
            },
            "baxis": {
             "endlinecolor": "#2a3f5f",
             "gridcolor": "white",
             "linecolor": "white",
             "minorgridcolor": "white",
             "startlinecolor": "#2a3f5f"
            },
            "type": "carpet"
           }
          ],
          "choropleth": [
           {
            "colorbar": {
             "outlinewidth": 0,
             "ticks": ""
            },
            "type": "choropleth"
           }
          ],
          "contour": [
           {
            "colorbar": {
             "outlinewidth": 0,
             "ticks": ""
            },
            "colorscale": [
             [
              0,
              "#0d0887"
             ],
             [
              0.1111111111111111,
              "#46039f"
             ],
             [
              0.2222222222222222,
              "#7201a8"
             ],
             [
              0.3333333333333333,
              "#9c179e"
             ],
             [
              0.4444444444444444,
              "#bd3786"
             ],
             [
              0.5555555555555556,
              "#d8576b"
             ],
             [
              0.6666666666666666,
              "#ed7953"
             ],
             [
              0.7777777777777778,
              "#fb9f3a"
             ],
             [
              0.8888888888888888,
              "#fdca26"
             ],
             [
              1,
              "#f0f921"
             ]
            ],
            "type": "contour"
           }
          ],
          "contourcarpet": [
           {
            "colorbar": {
             "outlinewidth": 0,
             "ticks": ""
            },
            "type": "contourcarpet"
           }
          ],
          "heatmap": [
           {
            "colorbar": {
             "outlinewidth": 0,
             "ticks": ""
            },
            "colorscale": [
             [
              0,
              "#0d0887"
             ],
             [
              0.1111111111111111,
              "#46039f"
             ],
             [
              0.2222222222222222,
              "#7201a8"
             ],
             [
              0.3333333333333333,
              "#9c179e"
             ],
             [
              0.4444444444444444,
              "#bd3786"
             ],
             [
              0.5555555555555556,
              "#d8576b"
             ],
             [
              0.6666666666666666,
              "#ed7953"
             ],
             [
              0.7777777777777778,
              "#fb9f3a"
             ],
             [
              0.8888888888888888,
              "#fdca26"
             ],
             [
              1,
              "#f0f921"
             ]
            ],
            "type": "heatmap"
           }
          ],
          "heatmapgl": [
           {
            "colorbar": {
             "outlinewidth": 0,
             "ticks": ""
            },
            "colorscale": [
             [
              0,
              "#0d0887"
             ],
             [
              0.1111111111111111,
              "#46039f"
             ],
             [
              0.2222222222222222,
              "#7201a8"
             ],
             [
              0.3333333333333333,
              "#9c179e"
             ],
             [
              0.4444444444444444,
              "#bd3786"
             ],
             [
              0.5555555555555556,
              "#d8576b"
             ],
             [
              0.6666666666666666,
              "#ed7953"
             ],
             [
              0.7777777777777778,
              "#fb9f3a"
             ],
             [
              0.8888888888888888,
              "#fdca26"
             ],
             [
              1,
              "#f0f921"
             ]
            ],
            "type": "heatmapgl"
           }
          ],
          "histogram": [
           {
            "marker": {
             "pattern": {
              "fillmode": "overlay",
              "size": 10,
              "solidity": 0.2
             }
            },
            "type": "histogram"
           }
          ],
          "histogram2d": [
           {
            "colorbar": {
             "outlinewidth": 0,
             "ticks": ""
            },
            "colorscale": [
             [
              0,
              "#0d0887"
             ],
             [
              0.1111111111111111,
              "#46039f"
             ],
             [
              0.2222222222222222,
              "#7201a8"
             ],
             [
              0.3333333333333333,
              "#9c179e"
             ],
             [
              0.4444444444444444,
              "#bd3786"
             ],
             [
              0.5555555555555556,
              "#d8576b"
             ],
             [
              0.6666666666666666,
              "#ed7953"
             ],
             [
              0.7777777777777778,
              "#fb9f3a"
             ],
             [
              0.8888888888888888,
              "#fdca26"
             ],
             [
              1,
              "#f0f921"
             ]
            ],
            "type": "histogram2d"
           }
          ],
          "histogram2dcontour": [
           {
            "colorbar": {
             "outlinewidth": 0,
             "ticks": ""
            },
            "colorscale": [
             [
              0,
              "#0d0887"
             ],
             [
              0.1111111111111111,
              "#46039f"
             ],
             [
              0.2222222222222222,
              "#7201a8"
             ],
             [
              0.3333333333333333,
              "#9c179e"
             ],
             [
              0.4444444444444444,
              "#bd3786"
             ],
             [
              0.5555555555555556,
              "#d8576b"
             ],
             [
              0.6666666666666666,
              "#ed7953"
             ],
             [
              0.7777777777777778,
              "#fb9f3a"
             ],
             [
              0.8888888888888888,
              "#fdca26"
             ],
             [
              1,
              "#f0f921"
             ]
            ],
            "type": "histogram2dcontour"
           }
          ],
          "mesh3d": [
           {
            "colorbar": {
             "outlinewidth": 0,
             "ticks": ""
            },
            "type": "mesh3d"
           }
          ],
          "parcoords": [
           {
            "line": {
             "colorbar": {
              "outlinewidth": 0,
              "ticks": ""
             }
            },
            "type": "parcoords"
           }
          ],
          "pie": [
           {
            "automargin": true,
            "type": "pie"
           }
          ],
          "scatter": [
           {
            "marker": {
             "colorbar": {
              "outlinewidth": 0,
              "ticks": ""
             }
            },
            "type": "scatter"
           }
          ],
          "scatter3d": [
           {
            "line": {
             "colorbar": {
              "outlinewidth": 0,
              "ticks": ""
             }
            },
            "marker": {
             "colorbar": {
              "outlinewidth": 0,
              "ticks": ""
             }
            },
            "type": "scatter3d"
           }
          ],
          "scattercarpet": [
           {
            "marker": {
             "colorbar": {
              "outlinewidth": 0,
              "ticks": ""
             }
            },
            "type": "scattercarpet"
           }
          ],
          "scattergeo": [
           {
            "marker": {
             "colorbar": {
              "outlinewidth": 0,
              "ticks": ""
             }
            },
            "type": "scattergeo"
           }
          ],
          "scattergl": [
           {
            "marker": {
             "colorbar": {
              "outlinewidth": 0,
              "ticks": ""
             }
            },
            "type": "scattergl"
           }
          ],
          "scattermapbox": [
           {
            "marker": {
             "colorbar": {
              "outlinewidth": 0,
              "ticks": ""
             }
            },
            "type": "scattermapbox"
           }
          ],
          "scatterpolar": [
           {
            "marker": {
             "colorbar": {
              "outlinewidth": 0,
              "ticks": ""
             }
            },
            "type": "scatterpolar"
           }
          ],
          "scatterpolargl": [
           {
            "marker": {
             "colorbar": {
              "outlinewidth": 0,
              "ticks": ""
             }
            },
            "type": "scatterpolargl"
           }
          ],
          "scatterternary": [
           {
            "marker": {
             "colorbar": {
              "outlinewidth": 0,
              "ticks": ""
             }
            },
            "type": "scatterternary"
           }
          ],
          "surface": [
           {
            "colorbar": {
             "outlinewidth": 0,
             "ticks": ""
            },
            "colorscale": [
             [
              0,
              "#0d0887"
             ],
             [
              0.1111111111111111,
              "#46039f"
             ],
             [
              0.2222222222222222,
              "#7201a8"
             ],
             [
              0.3333333333333333,
              "#9c179e"
             ],
             [
              0.4444444444444444,
              "#bd3786"
             ],
             [
              0.5555555555555556,
              "#d8576b"
             ],
             [
              0.6666666666666666,
              "#ed7953"
             ],
             [
              0.7777777777777778,
              "#fb9f3a"
             ],
             [
              0.8888888888888888,
              "#fdca26"
             ],
             [
              1,
              "#f0f921"
             ]
            ],
            "type": "surface"
           }
          ],
          "table": [
           {
            "cells": {
             "fill": {
              "color": "#EBF0F8"
             },
             "line": {
              "color": "white"
             }
            },
            "header": {
             "fill": {
              "color": "#C8D4E3"
             },
             "line": {
              "color": "white"
             }
            },
            "type": "table"
           }
          ]
         },
         "layout": {
          "annotationdefaults": {
           "arrowcolor": "#2a3f5f",
           "arrowhead": 0,
           "arrowwidth": 1
          },
          "autotypenumbers": "strict",
          "coloraxis": {
           "colorbar": {
            "outlinewidth": 0,
            "ticks": ""
           }
          },
          "colorscale": {
           "diverging": [
            [
             0,
             "#8e0152"
            ],
            [
             0.1,
             "#c51b7d"
            ],
            [
             0.2,
             "#de77ae"
            ],
            [
             0.3,
             "#f1b6da"
            ],
            [
             0.4,
             "#fde0ef"
            ],
            [
             0.5,
             "#f7f7f7"
            ],
            [
             0.6,
             "#e6f5d0"
            ],
            [
             0.7,
             "#b8e186"
            ],
            [
             0.8,
             "#7fbc41"
            ],
            [
             0.9,
             "#4d9221"
            ],
            [
             1,
             "#276419"
            ]
           ],
           "sequential": [
            [
             0,
             "#0d0887"
            ],
            [
             0.1111111111111111,
             "#46039f"
            ],
            [
             0.2222222222222222,
             "#7201a8"
            ],
            [
             0.3333333333333333,
             "#9c179e"
            ],
            [
             0.4444444444444444,
             "#bd3786"
            ],
            [
             0.5555555555555556,
             "#d8576b"
            ],
            [
             0.6666666666666666,
             "#ed7953"
            ],
            [
             0.7777777777777778,
             "#fb9f3a"
            ],
            [
             0.8888888888888888,
             "#fdca26"
            ],
            [
             1,
             "#f0f921"
            ]
           ],
           "sequentialminus": [
            [
             0,
             "#0d0887"
            ],
            [
             0.1111111111111111,
             "#46039f"
            ],
            [
             0.2222222222222222,
             "#7201a8"
            ],
            [
             0.3333333333333333,
             "#9c179e"
            ],
            [
             0.4444444444444444,
             "#bd3786"
            ],
            [
             0.5555555555555556,
             "#d8576b"
            ],
            [
             0.6666666666666666,
             "#ed7953"
            ],
            [
             0.7777777777777778,
             "#fb9f3a"
            ],
            [
             0.8888888888888888,
             "#fdca26"
            ],
            [
             1,
             "#f0f921"
            ]
           ]
          },
          "colorway": [
           "#636efa",
           "#EF553B",
           "#00cc96",
           "#ab63fa",
           "#FFA15A",
           "#19d3f3",
           "#FF6692",
           "#B6E880",
           "#FF97FF",
           "#FECB52"
          ],
          "font": {
           "color": "#2a3f5f"
          },
          "geo": {
           "bgcolor": "white",
           "lakecolor": "white",
           "landcolor": "#E5ECF6",
           "showlakes": true,
           "showland": true,
           "subunitcolor": "white"
          },
          "hoverlabel": {
           "align": "left"
          },
          "hovermode": "closest",
          "mapbox": {
           "style": "light"
          },
          "paper_bgcolor": "white",
          "plot_bgcolor": "#E5ECF6",
          "polar": {
           "angularaxis": {
            "gridcolor": "white",
            "linecolor": "white",
            "ticks": ""
           },
           "bgcolor": "#E5ECF6",
           "radialaxis": {
            "gridcolor": "white",
            "linecolor": "white",
            "ticks": ""
           }
          },
          "scene": {
           "xaxis": {
            "backgroundcolor": "#E5ECF6",
            "gridcolor": "white",
            "gridwidth": 2,
            "linecolor": "white",
            "showbackground": true,
            "ticks": "",
            "zerolinecolor": "white"
           },
           "yaxis": {
            "backgroundcolor": "#E5ECF6",
            "gridcolor": "white",
            "gridwidth": 2,
            "linecolor": "white",
            "showbackground": true,
            "ticks": "",
            "zerolinecolor": "white"
           },
           "zaxis": {
            "backgroundcolor": "#E5ECF6",
            "gridcolor": "white",
            "gridwidth": 2,
            "linecolor": "white",
            "showbackground": true,
            "ticks": "",
            "zerolinecolor": "white"
           }
          },
          "shapedefaults": {
           "line": {
            "color": "#2a3f5f"
           }
          },
          "ternary": {
           "aaxis": {
            "gridcolor": "white",
            "linecolor": "white",
            "ticks": ""
           },
           "baxis": {
            "gridcolor": "white",
            "linecolor": "white",
            "ticks": ""
           },
           "bgcolor": "#E5ECF6",
           "caxis": {
            "gridcolor": "white",
            "linecolor": "white",
            "ticks": ""
           }
          },
          "title": {
           "x": 0.05
          },
          "xaxis": {
           "automargin": true,
           "gridcolor": "white",
           "linecolor": "white",
           "ticks": "",
           "title": {
            "standoff": 15
           },
           "zerolinecolor": "white",
           "zerolinewidth": 2
          },
          "yaxis": {
           "automargin": true,
           "gridcolor": "white",
           "linecolor": "white",
           "ticks": "",
           "title": {
            "standoff": 15
           },
           "zerolinecolor": "white",
           "zerolinewidth": 2
          }
         }
        },
        "title": {
         "text": "Hyperparameter Importances"
        },
        "xaxis": {
         "title": {
          "text": "Importance for Objective Value"
         }
        },
        "yaxis": {
         "title": {
          "text": "Hyperparameter"
         }
        }
       }
      }
     },
     "metadata": {},
     "output_type": "display_data"
    },
    {
     "data": {
      "application/vnd.plotly.v1+json": {
       "config": {
        "plotlyServerURL": "https://plot.ly"
       },
       "data": [
        {
         "marker": {
          "color": [
           0,
           1,
           2,
           3,
           4,
           5,
           6,
           7,
           8,
           9,
           10,
           11,
           12,
           13,
           14,
           15,
           16,
           17,
           18,
           19,
           20,
           21,
           22,
           23,
           24,
           25,
           26,
           27,
           28,
           29,
           30,
           31,
           32,
           33,
           34,
           35,
           36,
           37,
           38,
           39,
           40,
           41,
           42,
           43,
           44,
           45,
           46,
           47,
           48,
           49,
           50,
           51,
           52,
           53,
           54,
           55,
           56,
           57,
           58,
           59,
           60,
           61,
           62,
           63,
           64,
           65,
           66,
           67,
           68,
           69,
           70,
           71,
           72,
           73,
           74,
           75,
           76,
           77,
           78,
           79,
           80,
           81,
           82,
           83,
           84,
           85,
           86,
           87,
           88,
           89,
           90,
           91,
           92,
           93,
           94,
           95,
           96,
           97,
           98,
           99,
           100,
           101,
           102,
           103,
           104,
           105,
           106,
           107,
           108,
           109,
           110,
           111,
           112,
           113,
           114,
           115,
           116,
           117,
           118,
           119,
           120,
           121,
           122,
           123,
           124,
           125,
           126,
           127,
           128,
           129,
           130,
           131,
           132,
           133,
           134,
           135,
           136,
           137,
           138,
           139,
           140,
           141,
           142,
           143,
           144,
           145,
           146,
           147,
           148,
           149,
           150,
           151,
           152,
           153,
           154,
           155,
           156,
           157,
           158,
           159,
           160,
           161,
           162,
           163,
           164,
           165,
           166,
           167,
           168,
           169,
           170,
           171,
           172,
           173,
           174,
           175,
           176,
           177,
           178,
           179,
           180,
           181,
           182,
           183,
           184,
           185,
           186,
           187,
           188,
           189,
           190,
           191,
           192,
           193,
           194,
           195,
           196,
           197,
           198,
           199
          ],
          "colorbar": {
           "title": {
            "text": "#Trials"
           },
           "x": 1,
           "xpad": 40
          },
          "colorscale": [
           [
            0,
            "rgb(247,251,255)"
           ],
           [
            0.125,
            "rgb(222,235,247)"
           ],
           [
            0.25,
            "rgb(198,219,239)"
           ],
           [
            0.375,
            "rgb(158,202,225)"
           ],
           [
            0.5,
            "rgb(107,174,214)"
           ],
           [
            0.625,
            "rgb(66,146,198)"
           ],
           [
            0.75,
            "rgb(33,113,181)"
           ],
           [
            0.875,
            "rgb(8,81,156)"
           ],
           [
            1,
            "rgb(8,48,107)"
           ]
          ],
          "line": {
           "color": "Grey",
           "width": 0.5
          },
          "showscale": true
         },
         "mode": "markers",
         "showlegend": false,
         "type": "scatter",
         "x": [
          0.4525514654340016,
          0.9160210823475374,
          0.881588569311872,
          0.5483045432016561,
          0.6840382884573712,
          0.2867977060186342,
          0.18952792742855962,
          0.1722392013418706,
          0.5020889656554407,
          0.6254173442229198,
          0.6540004038235985,
          0.4007505499149171,
          0.9962441823541816,
          0.33699620486060344,
          0.6534052883399025,
          0.4301075868683413,
          0.2570378700954963,
          0.9992811687535803,
          0.9697111761949674,
          0.9925046113648964,
          0.9910828194553067,
          0.8781459997275987,
          0.8710458116676255,
          0.8538346779321826,
          0.7837721803008979,
          0.8039354325890931,
          0.7878291438705876,
          0.8012727923018472,
          0.988019411012396,
          0.8207022567397884,
          0.7904458824865341,
          0.7788294694202833,
          0.7847752147566323,
          0.7590016095898277,
          0.7747431749110771,
          0.7100286986733301,
          0.7394813228603793,
          0.7389255288691363,
          0.7254822327993977,
          0.7257185697337375,
          0.7287114849649835,
          0.7239285999787086,
          0.7280639283307446,
          0.5645362676122784,
          0.8993683275982953,
          0.5859635080080833,
          0.5647028386442229,
          0.5728307558953079,
          0.9229101918818392,
          0.6019054335214176,
          0.5698870360244299,
          0.9250120533092676,
          0.9342022221373715,
          0.9220981463309833,
          0.8449558725665649,
          0.8461487297119407,
          0.844739160816961,
          0.839646622930689,
          0.9178280585299943,
          0.8320200858162217,
          0.847217307278335,
          0.8499263594278108,
          0.5092094200385049,
          0.6766574845965324,
          0.5096877434649985,
          0.6855808492889638,
          0.48558810779142736,
          0.6853829045376758,
          0.6544150996721879,
          0.677079106620389,
          0.6735371505227313,
          0.7673593617638652,
          0.7715887546700841,
          0.1183835701951938,
          0.7706840051435078,
          0.7642516935668737,
          0.7600768673157696,
          0.885716647029196,
          0.7648627477296448,
          0.7648365611700273,
          0.7627298563213954,
          0.760149882712247,
          0.8832461104252771,
          0.8859591792649926,
          0.8760134198850572,
          0.8888507511189262,
          0.8038550500685869,
          0.8869911042531863,
          0.8879311215079289,
          0.8083448382523881,
          0.88110316745002,
          0.955215581103303,
          0.8129964909684709,
          0.9630989467202636,
          0.9671754299287021,
          0.9583888571220968,
          0.9463509897144524,
          0.9648867319612843,
          0.9446704034465805,
          0.706822280804609,
          0.8212297375777965,
          0.8237053982554041,
          0.8592543954710111,
          0.7048207235694788,
          0.9062492347525646,
          0.9019499776619007,
          0.9008469403835424,
          0.9031515373339912,
          0.9060990996073054,
          0.9071557473428558,
          0.9005166884970026,
          0.8635502445991698,
          0.8633511840377351,
          0.9066839475324554,
          0.9071268671464618,
          0.9070731930191647,
          0.9088655693334572,
          0.9012867015892501,
          0.90894793373258,
          0.9058760582010914,
          0.8629140660727681,
          0.8607367207575616,
          0.9800212490885067,
          0.9874843881897766,
          0.9821278183384986,
          0.9855849834914345,
          0.8623932885596506,
          0.9816302824579192,
          0.9358458830922295,
          0.9827554960877793,
          0.9805231500393465,
          0.9999726903108422,
          0.9883126955430122,
          0.9991490791809466,
          0.9824364977276525,
          0.9368625197656489,
          0.9855375254946587,
          0.9945788515993933,
          0.992050638789071,
          0.9812407156116735,
          0.9805460693926775,
          0.9806241121494665,
          0.9813480770402362,
          0.9794498523374767,
          0.9384162723161728,
          0.9379634601014337,
          0.9365552231902684,
          0.9342286853772298,
          0.9364866088618401,
          0.9370617061709051,
          0.9353857746868376,
          0.9387453352135595,
          0.938833020110424,
          0.949733883095335,
          0.9577444389871395,
          0.9608924019048837,
          0.9564915090853818,
          0.9632816535943728,
          0.9597495021500629,
          0.9590520809520934,
          0.9586821383899785,
          0.9662640442384909,
          0.9662544912700759,
          0.9715258840923064,
          0.9761079033773842,
          0.9777732863944717,
          0.9745191020076227,
          0.974804060691007,
          0.9739175261247638,
          0.9806048836136867,
          0.975007366685179,
          0.366500628876419,
          0.2759846007756591,
          0.9762341363095177,
          0.38065163074544284,
          0.373811259434202,
          0.9996244273507274,
          0.9949061546567186,
          0.35450495512914537,
          0.9967719806731508,
          0.9960280219990272,
          0.9985154830478511,
          0.9994388203154045,
          0.9998354895073405,
          0.999962272838694,
          0.9992331151168912,
          0.9681902064965099,
          0.9998706823536615,
          0.9949789226197648,
          0.9744001798675083,
          0.9681884365820181,
          0.9698510099529845,
          0.9706110532453806,
          0.9650416493526213,
          0.9524874518236234,
          0.9503036429619967,
          0.9511038878063867,
          0.9508495412295879,
          0.9525009485736745,
          0.9515063150226087
         ],
         "xaxis": "x",
         "y": [
          0.7922048283955464,
          0.8365032204726122,
          0.8762662835937027,
          0.5421425900176836,
          0.8680947950974799,
          0.8401930410804924,
          0.8175974064828434,
          0.8219417689895435,
          0.8720312624873483,
          0.8383868130731944,
          0.8167171132248802,
          0.8757138236703833,
          0.8342141791083517,
          0.8741332432906539,
          0.8773072600188565,
          0.7985674491024556,
          0.7699717032995019,
          0.8804368347013412,
          0.8810356930332517,
          0.8808337351202346,
          0.8791766414344737,
          0.878427173424759,
          0.8846788404178071,
          0.885883027726495,
          0.8702061883578558,
          0.8743841793840085,
          0.8814593398378758,
          0.8853503859712186,
          0.8796442308112089,
          0.8795616880522872,
          0.885640731491409,
          0.8852852224031491,
          0.8859273867435509,
          0.8863695137827264,
          0.8858500896795265,
          0.8845473650602701,
          0.8850819328956593,
          0.88515678893692,
          0.8851843542761475,
          0.8854897423775018,
          0.88410659214747,
          0.8836660802127492,
          0.8842708556212324,
          0.8840718487101311,
          0.8867984554551566,
          0.8848478501750897,
          0.8413995021114287,
          0.8415915233976488,
          0.885450056773833,
          0.8293103628093041,
          0.8284569152175958,
          0.8348826756977333,
          0.8317622346908868,
          0.8161502690035942,
          0.8224724544972319,
          0.8212412346248193,
          0.8198789049821709,
          0.823062258923003,
          0.8143839431546345,
          0.824343939684779,
          0.8216942663190643,
          0.8854604892376777,
          0.8818044779081063,
          0.8839584447261174,
          0.8828176620838649,
          0.8846620513168183,
          0.8840521814286687,
          0.8842449309697947,
          0.8848521835327343,
          0.8846985456104873,
          0.8855157901792785,
          0.8866317267413775,
          0.8860289695977647,
          0.7712469908762034,
          0.8749691218194681,
          0.8746618126706502,
          0.8829486621767529,
          0.8723263169199397,
          0.8731907902562617,
          0.8730772221872918,
          0.873749461655582,
          0.8856862825834393,
          0.8852781079150656,
          0.88601728873048,
          0.8847217727757549,
          0.8854628586028344,
          0.8775706481323203,
          0.8853720380901166,
          0.8850708927014821,
          0.8853759740564925,
          0.8869636403375768,
          0.8768401152441306,
          0.8512931393950446,
          0.8854307925886719,
          0.8853586065471118,
          0.887016075028726,
          0.8849567678266157,
          0.8847850092330309,
          0.8856893396804318,
          0.8838314714064334,
          0.8840815352101515,
          0.8876695766274025,
          0.8867693906811123,
          0.8863927304986768,
          0.8869966100868008,
          0.8866927819210728,
          0.8868064050066959,
          0.8870740885934267,
          0.8878069297408185,
          0.8869893548677323,
          0.8866194060627688,
          0.8871477179642919,
          0.8874084336793289,
          0.8866989214901752,
          0.886276815448741,
          0.8871953261415072,
          0.8863681741889021,
          0.8867709421820196,
          0.8863682898210146,
          0.8865068473644081,
          0.8859954981478232,
          0.8869734795268702,
          0.8878487388308921,
          0.8875424419002982,
          0.888388179550541,
          0.8881742033758382,
          0.886996069371549,
          0.8859989683066256,
          0.8872276920142049,
          0.8879343045055578,
          0.8883524963240864,
          0.8822195925025256,
          0.8879008219544501,
          0.8840330755754374,
          0.8884547544366794,
          0.8873913218089042,
          0.8465039136689001,
          0.8459413524054427,
          0.8869499560960389,
          0.8883543122843449,
          0.8876932093507435,
          0.8451489440237687,
          0.8454784599374813,
          0.8446029862494872,
          0.8871727092144287,
          0.887243396554584,
          0.8885381739620117,
          0.8869585103861837,
          0.8870316830451657,
          0.8878297156077346,
          0.8873024188497686,
          0.888525575667962,
          0.8877107849907168,
          0.887275909358503,
          0.8868439144108986,
          0.8868429560729408,
          0.8874049156425627,
          0.8868103075018865,
          0.8867437930674378,
          0.8875928795697583,
          0.8884074530140385,
          0.8879386207757237,
          0.8876035875836126,
          0.8886450347658064,
          0.8889615719316584,
          0.8879531169819999,
          0.888839941557084,
          0.8887323849712756,
          0.8836317780642414,
          0.8874100113456361,
          0.8881485491019543,
          0.8808439482554972,
          0.8759633570568186,
          0.8877956757411317,
          0.8820085082209539,
          0.8801861958980671,
          0.8880729556297282,
          0.8883135801755213,
          0.8807148724777119,
          0.8863652118917674,
          0.8879838440676846,
          0.8098770079080937,
          0.8127626144453626,
          0.8143751518230105,
          0.888278104071456,
          0.8267434705488416,
          0.8884866175322266,
          0.8882502397116735,
          0.8107410492145186,
          0.8885717930065569,
          0.8873172374742639,
          0.8877041375660124,
          0.888517354951557,
          0.8888611754356365,
          0.8884693107915774,
          0.8874924013901897,
          0.8878811522146002,
          0.8877307658512006,
          0.8880602345296852,
          0.8876478756462403
         ],
         "yaxis": "y"
        },
        {
         "marker": {
          "color": [
           0,
           1,
           2,
           3,
           4,
           5,
           6,
           7,
           8,
           9,
           10,
           11,
           12,
           13,
           14,
           15,
           16,
           17,
           18,
           19,
           20,
           21,
           22,
           23,
           24,
           25,
           26,
           27,
           28,
           29,
           30,
           31,
           32,
           33,
           34,
           35,
           36,
           37,
           38,
           39,
           40,
           41,
           42,
           43,
           44,
           45,
           46,
           47,
           48,
           49,
           50,
           51,
           52,
           53,
           54,
           55,
           56,
           57,
           58,
           59,
           60,
           61,
           62,
           63,
           64,
           65,
           66,
           67,
           68,
           69,
           70,
           71,
           72,
           73,
           74,
           75,
           76,
           77,
           78,
           79,
           80,
           81,
           82,
           83,
           84,
           85,
           86,
           87,
           88,
           89,
           90,
           91,
           92,
           93,
           94,
           95,
           96,
           97,
           98,
           99,
           100,
           101,
           102,
           103,
           104,
           105,
           106,
           107,
           108,
           109,
           110,
           111,
           112,
           113,
           114,
           115,
           116,
           117,
           118,
           119,
           120,
           121,
           122,
           123,
           124,
           125,
           126,
           127,
           128,
           129,
           130,
           131,
           132,
           133,
           134,
           135,
           136,
           137,
           138,
           139,
           140,
           141,
           142,
           143,
           144,
           145,
           146,
           147,
           148,
           149,
           150,
           151,
           152,
           153,
           154,
           155,
           156,
           157,
           158,
           159,
           160,
           161,
           162,
           163,
           164,
           165,
           166,
           167,
           168,
           169,
           170,
           171,
           172,
           173,
           174,
           175,
           176,
           177,
           178,
           179,
           180,
           181,
           182,
           183,
           184,
           185,
           186,
           187,
           188,
           189,
           190,
           191,
           192,
           193,
           194,
           195,
           196,
           197,
           198,
           199
          ],
          "colorbar": {
           "title": {
            "text": "#Trials"
           },
           "x": 1,
           "xpad": 40
          },
          "colorscale": [
           [
            0,
            "rgb(247,251,255)"
           ],
           [
            0.125,
            "rgb(222,235,247)"
           ],
           [
            0.25,
            "rgb(198,219,239)"
           ],
           [
            0.375,
            "rgb(158,202,225)"
           ],
           [
            0.5,
            "rgb(107,174,214)"
           ],
           [
            0.625,
            "rgb(66,146,198)"
           ],
           [
            0.75,
            "rgb(33,113,181)"
           ],
           [
            0.875,
            "rgb(8,81,156)"
           ],
           [
            1,
            "rgb(8,48,107)"
           ]
          ],
          "line": {
           "color": "Grey",
           "width": 0.5
          },
          "showscale": false
         },
         "mode": "markers",
         "showlegend": false,
         "type": "scatter",
         "x": [
          0.01886770030158268,
          1.4134091223883558,
          0.012290433325882946,
          3.926503885250751,
          3.999630024546603,
          0.021424205883397458,
          0.5773304693331669,
          6.870658777039842,
          3.884199268048938,
          0.018301229171370524,
          0.5508985162835037,
          0.036038611601003676,
          4.302617027696656,
          0.04959175716071403,
          0.6275270881088901,
          0.6813363949838621,
          0.26850258022553,
          0.10502303536866646,
          0.10324854541315018,
          0.07425033844446083,
          0.05432448651394656,
          0.11078330826475868,
          0.08473617605435434,
          0.12475437344496913,
          0.10518757986651243,
          0.1227461417541184,
          0.13254739532935683,
          0.14217521133763625,
          0.1160616826865848,
          0.13574102470844188,
          0.1725739711368666,
          0.24554955571065307,
          0.2673266966382197,
          0.21499333466394496,
          0.18827015385269302,
          0.18244164656158623,
          0.253312896258828,
          0.25518472899011585,
          0.24239924402128663,
          0.24379252294341577,
          0.21868646495873792,
          0.20522934610908303,
          0.3715156597381666,
          0.35345347446598196,
          0.419546604954393,
          0.441270598276862,
          0.3956763117459639,
          0.3679448492352688,
          0.40898018472691566,
          0.45442076007368853,
          0.9820469779509688,
          1.0985021269517707,
          1.0022810736372385,
          0.7806855765412921,
          0.9695833330165345,
          1.1220767186930989,
          0.920530093461866,
          0.9979627674185981,
          1.4280387022171617,
          2.1803465257975803,
          2.007181283581087,
          2.296763827079265,
          0.1679002941136349,
          2.0068831070928166,
          0.0639899112220206,
          0.17139359553197572,
          0.16324364218171863,
          0.06344076293006645,
          0.17014464058162126,
          0.1721981511583945,
          0.07081612385318792,
          0.06988952188284593,
          0.03346411778286054,
          0.3195309584274874,
          0.03684008944873268,
          0.027175515397395766,
          0.030435564104056734,
          0.03662177226409094,
          0.029338934098433574,
          0.03617458249093439,
          0.027977547431947896,
          0.02891575987630957,
          0.01885674611122802,
          0.08825015210110422,
          0.04252706268044247,
          0.01131830491528548,
          0.08708762778346306,
          0.011695133725940846,
          0.07859669879053702,
          0.018588795511562527,
          0.017037215575272692,
          0.013550715330571651,
          0.012943634856898633,
          0.012636528381284947,
          0.050527081222284866,
          0.0898280718112945,
          0.09957928965836642,
          0.015101554104269707,
          0.09726080010441844,
          0.49439887179501846,
          0.015325168554248628,
          0.048900521484987663,
          0.021871236734419392,
          0.023134468042421925,
          0.022852905275390512,
          0.5229048155083461,
          0.5345280015815986,
          0.3022422834461914,
          0.2844968684680576,
          0.02369198875153078,
          0.02279766493796417,
          0.022755593579623104,
          0.043341967296645155,
          0.0249805147733,
          0.024148297273004982,
          0.02428738842040325,
          0.541373221111969,
          0.6119403055523819,
          0.5895501489532348,
          0.5224734064364396,
          0.6095135713031472,
          0.6756766837899225,
          0.016122205521566284,
          0.6794443445139977,
          0.015818258525313166,
          0.016466179340055315,
          0.0434979372899452,
          0.01655269552100482,
          0.7270438240354319,
          0.721023086911234,
          0.01643417133551739,
          0.010139955684823506,
          0.04031655272620758,
          0.010171710701710794,
          0.0467601005833936,
          0.04400152276112866,
          0.019489364167983626,
          0.3120525211945689,
          7.493274757476541,
          1.3997999357616466,
          0.8281379469139329,
          1.395855331980286,
          1.3987109334937071,
          0.7841667808283698,
          0.040905384701112886,
          0.060284676895002574,
          0.04394023385500643,
          4.638130027416736,
          0.05718736251756279,
          0.8190365337441965,
          0.8079216317173368,
          0.04572193543109633,
          0.06032678088589601,
          0.059209266077397835,
          0.05213439967261689,
          0.05540139010781337,
          0.04943313169923911,
          0.8418923721226211,
          0.04753721597313903,
          2.625261581906292,
          1.1640849801017241,
          1.1302200472433572,
          1.2103192520029626,
          0.0327788416792881,
          1.6950721948115286,
          1.104625823444996,
          1.7715357142817598,
          2.9525953153912003,
          2.807390938642706,
          1.3303183157353466,
          1.7950725804488925,
          1.2012417617439743,
          1.5526687994903077,
          1.1905308279120848,
          1.2779728244901054,
          1.50635207405593,
          1.7591633712315842,
          1.6876156892105212,
          1.7221784617098477,
          2.014264409849279,
          3.717330384250664,
          1.751219362135709,
          1.819113381542653,
          1.7328892704505678,
          1.7141479447761485,
          1.858990634922516,
          1.7234308779568424,
          1.7336559097051547,
          3.4138342762989526,
          3.4127615861191916,
          5.421308800646388,
          5.254530698533883,
          3.9280934582625573,
          3.2769445218213913,
          3.360974089066115,
          2.9612733848819395,
          4.908203824832097,
          5.144418861616307,
          2.3767576948623206,
          3.358695118121216
         ],
         "xaxis": "x2",
         "y": [
          0.7922048283955464,
          0.8365032204726122,
          0.8762662835937027,
          0.5421425900176836,
          0.8680947950974799,
          0.8401930410804924,
          0.8175974064828434,
          0.8219417689895435,
          0.8720312624873483,
          0.8383868130731944,
          0.8167171132248802,
          0.8757138236703833,
          0.8342141791083517,
          0.8741332432906539,
          0.8773072600188565,
          0.7985674491024556,
          0.7699717032995019,
          0.8804368347013412,
          0.8810356930332517,
          0.8808337351202346,
          0.8791766414344737,
          0.878427173424759,
          0.8846788404178071,
          0.885883027726495,
          0.8702061883578558,
          0.8743841793840085,
          0.8814593398378758,
          0.8853503859712186,
          0.8796442308112089,
          0.8795616880522872,
          0.885640731491409,
          0.8852852224031491,
          0.8859273867435509,
          0.8863695137827264,
          0.8858500896795265,
          0.8845473650602701,
          0.8850819328956593,
          0.88515678893692,
          0.8851843542761475,
          0.8854897423775018,
          0.88410659214747,
          0.8836660802127492,
          0.8842708556212324,
          0.8840718487101311,
          0.8867984554551566,
          0.8848478501750897,
          0.8413995021114287,
          0.8415915233976488,
          0.885450056773833,
          0.8293103628093041,
          0.8284569152175958,
          0.8348826756977333,
          0.8317622346908868,
          0.8161502690035942,
          0.8224724544972319,
          0.8212412346248193,
          0.8198789049821709,
          0.823062258923003,
          0.8143839431546345,
          0.824343939684779,
          0.8216942663190643,
          0.8854604892376777,
          0.8818044779081063,
          0.8839584447261174,
          0.8828176620838649,
          0.8846620513168183,
          0.8840521814286687,
          0.8842449309697947,
          0.8848521835327343,
          0.8846985456104873,
          0.8855157901792785,
          0.8866317267413775,
          0.8860289695977647,
          0.7712469908762034,
          0.8749691218194681,
          0.8746618126706502,
          0.8829486621767529,
          0.8723263169199397,
          0.8731907902562617,
          0.8730772221872918,
          0.873749461655582,
          0.8856862825834393,
          0.8852781079150656,
          0.88601728873048,
          0.8847217727757549,
          0.8854628586028344,
          0.8775706481323203,
          0.8853720380901166,
          0.8850708927014821,
          0.8853759740564925,
          0.8869636403375768,
          0.8768401152441306,
          0.8512931393950446,
          0.8854307925886719,
          0.8853586065471118,
          0.887016075028726,
          0.8849567678266157,
          0.8847850092330309,
          0.8856893396804318,
          0.8838314714064334,
          0.8840815352101515,
          0.8876695766274025,
          0.8867693906811123,
          0.8863927304986768,
          0.8869966100868008,
          0.8866927819210728,
          0.8868064050066959,
          0.8870740885934267,
          0.8878069297408185,
          0.8869893548677323,
          0.8866194060627688,
          0.8871477179642919,
          0.8874084336793289,
          0.8866989214901752,
          0.886276815448741,
          0.8871953261415072,
          0.8863681741889021,
          0.8867709421820196,
          0.8863682898210146,
          0.8865068473644081,
          0.8859954981478232,
          0.8869734795268702,
          0.8878487388308921,
          0.8875424419002982,
          0.888388179550541,
          0.8881742033758382,
          0.886996069371549,
          0.8859989683066256,
          0.8872276920142049,
          0.8879343045055578,
          0.8883524963240864,
          0.8822195925025256,
          0.8879008219544501,
          0.8840330755754374,
          0.8884547544366794,
          0.8873913218089042,
          0.8465039136689001,
          0.8459413524054427,
          0.8869499560960389,
          0.8883543122843449,
          0.8876932093507435,
          0.8451489440237687,
          0.8454784599374813,
          0.8446029862494872,
          0.8871727092144287,
          0.887243396554584,
          0.8885381739620117,
          0.8869585103861837,
          0.8870316830451657,
          0.8878297156077346,
          0.8873024188497686,
          0.888525575667962,
          0.8877107849907168,
          0.887275909358503,
          0.8868439144108986,
          0.8868429560729408,
          0.8874049156425627,
          0.8868103075018865,
          0.8867437930674378,
          0.8875928795697583,
          0.8884074530140385,
          0.8879386207757237,
          0.8876035875836126,
          0.8886450347658064,
          0.8889615719316584,
          0.8879531169819999,
          0.888839941557084,
          0.8887323849712756,
          0.8836317780642414,
          0.8874100113456361,
          0.8881485491019543,
          0.8808439482554972,
          0.8759633570568186,
          0.8877956757411317,
          0.8820085082209539,
          0.8801861958980671,
          0.8880729556297282,
          0.8883135801755213,
          0.8807148724777119,
          0.8863652118917674,
          0.8879838440676846,
          0.8098770079080937,
          0.8127626144453626,
          0.8143751518230105,
          0.888278104071456,
          0.8267434705488416,
          0.8884866175322266,
          0.8882502397116735,
          0.8107410492145186,
          0.8885717930065569,
          0.8873172374742639,
          0.8877041375660124,
          0.888517354951557,
          0.8888611754356365,
          0.8884693107915774,
          0.8874924013901897,
          0.8878811522146002,
          0.8877307658512006,
          0.8880602345296852,
          0.8876478756462403
         ],
         "yaxis": "y2"
        },
        {
         "marker": {
          "color": [
           0,
           1,
           2,
           3,
           4,
           5,
           6,
           7,
           8,
           9,
           10,
           11,
           12,
           13,
           14,
           15,
           16,
           17,
           18,
           19,
           20,
           21,
           22,
           23,
           24,
           25,
           26,
           27,
           28,
           29,
           30,
           31,
           32,
           33,
           34,
           35,
           36,
           37,
           38,
           39,
           40,
           41,
           42,
           43,
           44,
           45,
           46,
           47,
           48,
           49,
           50,
           51,
           52,
           53,
           54,
           55,
           56,
           57,
           58,
           59,
           60,
           61,
           62,
           63,
           64,
           65,
           66,
           67,
           68,
           69,
           70,
           71,
           72,
           73,
           74,
           75,
           76,
           77,
           78,
           79,
           80,
           81,
           82,
           83,
           84,
           85,
           86,
           87,
           88,
           89,
           90,
           91,
           92,
           93,
           94,
           95,
           96,
           97,
           98,
           99,
           100,
           101,
           102,
           103,
           104,
           105,
           106,
           107,
           108,
           109,
           110,
           111,
           112,
           113,
           114,
           115,
           116,
           117,
           118,
           119,
           120,
           121,
           122,
           123,
           124,
           125,
           126,
           127,
           128,
           129,
           130,
           131,
           132,
           133,
           134,
           135,
           136,
           137,
           138,
           139,
           140,
           141,
           142,
           143,
           144,
           145,
           146,
           147,
           148,
           149,
           150,
           151,
           152,
           153,
           154,
           155,
           156,
           157,
           158,
           159,
           160,
           161,
           162,
           163,
           164,
           165,
           166,
           167,
           168,
           169,
           170,
           171,
           172,
           173,
           174,
           175,
           176,
           177,
           178,
           179,
           180,
           181,
           182,
           183,
           184,
           185,
           186,
           187,
           188,
           189,
           190,
           191,
           192,
           193,
           194,
           195,
           196,
           197,
           198,
           199
          ],
          "colorbar": {
           "title": {
            "text": "#Trials"
           },
           "x": 1,
           "xpad": 40
          },
          "colorscale": [
           [
            0,
            "rgb(247,251,255)"
           ],
           [
            0.125,
            "rgb(222,235,247)"
           ],
           [
            0.25,
            "rgb(198,219,239)"
           ],
           [
            0.375,
            "rgb(158,202,225)"
           ],
           [
            0.5,
            "rgb(107,174,214)"
           ],
           [
            0.625,
            "rgb(66,146,198)"
           ],
           [
            0.75,
            "rgb(33,113,181)"
           ],
           [
            0.875,
            "rgb(8,81,156)"
           ],
           [
            1,
            "rgb(8,48,107)"
           ]
          ],
          "line": {
           "color": "Grey",
           "width": 0.5
          },
          "showscale": false
         },
         "mode": "markers",
         "showlegend": false,
         "type": "scatter",
         "x": [
          1,
          0.01,
          0.03,
          1,
          0.03,
          0.03,
          0.03,
          0.1,
          0.3,
          0.03,
          0.03,
          0.3,
          1,
          0.3,
          0.3,
          0.03,
          0.01,
          0.3,
          0.3,
          0.3,
          0.3,
          0.3,
          0.1,
          0.1,
          0.3,
          0.3,
          0.3,
          0.1,
          0.3,
          0.3,
          0.1,
          0.1,
          0.1,
          0.1,
          0.1,
          0.1,
          0.1,
          0.1,
          0.1,
          0.1,
          0.1,
          0.1,
          0.1,
          0.1,
          0.1,
          0.1,
          0.01,
          0.01,
          0.1,
          0.01,
          0.01,
          0.01,
          0.01,
          1,
          1,
          1,
          1,
          1,
          1,
          1,
          1,
          0.1,
          0.1,
          0.1,
          0.1,
          0.1,
          0.1,
          0.1,
          0.1,
          0.1,
          0.1,
          0.1,
          0.1,
          0.03,
          0.03,
          0.03,
          0.1,
          0.03,
          0.03,
          0.03,
          0.03,
          0.1,
          0.1,
          0.1,
          0.1,
          0.1,
          0.1,
          0.1,
          0.1,
          0.1,
          0.1,
          0.1,
          0.1,
          0.1,
          0.1,
          0.1,
          0.1,
          0.1,
          0.1,
          0.1,
          0.1,
          0.1,
          0.1,
          0.1,
          0.1,
          0.1,
          0.1,
          0.1,
          0.1,
          0.1,
          0.1,
          0.1,
          0.1,
          0.1,
          0.1,
          0.1,
          0.1,
          0.1,
          0.1,
          0.1,
          0.1,
          0.1,
          0.1,
          0.1,
          0.1,
          0.1,
          0.1,
          0.3,
          0.1,
          0.1,
          0.1,
          0.3,
          0.1,
          0.3,
          0.1,
          0.1,
          0.01,
          0.01,
          0.1,
          0.1,
          0.1,
          0.01,
          0.01,
          0.01,
          0.1,
          0.1,
          0.1,
          0.1,
          0.1,
          0.1,
          0.1,
          0.1,
          0.1,
          0.1,
          0.1,
          0.1,
          0.1,
          0.1,
          0.1,
          0.1,
          0.1,
          0.1,
          0.1,
          0.1,
          0.1,
          0.1,
          0.1,
          0.1,
          0.1,
          0.1,
          0.1,
          0.1,
          0.1,
          0.1,
          0.1,
          0.1,
          0.1,
          0.1,
          0.1,
          0.1,
          0.1,
          1,
          1,
          1,
          0.1,
          1,
          0.1,
          0.1,
          1,
          0.1,
          0.1,
          0.1,
          0.1,
          0.1,
          0.1,
          0.1,
          0.1,
          0.1,
          0.1,
          0.1
         ],
         "xaxis": "x3",
         "y": [
          0.7922048283955464,
          0.8365032204726122,
          0.8762662835937027,
          0.5421425900176836,
          0.8680947950974799,
          0.8401930410804924,
          0.8175974064828434,
          0.8219417689895435,
          0.8720312624873483,
          0.8383868130731944,
          0.8167171132248802,
          0.8757138236703833,
          0.8342141791083517,
          0.8741332432906539,
          0.8773072600188565,
          0.7985674491024556,
          0.7699717032995019,
          0.8804368347013412,
          0.8810356930332517,
          0.8808337351202346,
          0.8791766414344737,
          0.878427173424759,
          0.8846788404178071,
          0.885883027726495,
          0.8702061883578558,
          0.8743841793840085,
          0.8814593398378758,
          0.8853503859712186,
          0.8796442308112089,
          0.8795616880522872,
          0.885640731491409,
          0.8852852224031491,
          0.8859273867435509,
          0.8863695137827264,
          0.8858500896795265,
          0.8845473650602701,
          0.8850819328956593,
          0.88515678893692,
          0.8851843542761475,
          0.8854897423775018,
          0.88410659214747,
          0.8836660802127492,
          0.8842708556212324,
          0.8840718487101311,
          0.8867984554551566,
          0.8848478501750897,
          0.8413995021114287,
          0.8415915233976488,
          0.885450056773833,
          0.8293103628093041,
          0.8284569152175958,
          0.8348826756977333,
          0.8317622346908868,
          0.8161502690035942,
          0.8224724544972319,
          0.8212412346248193,
          0.8198789049821709,
          0.823062258923003,
          0.8143839431546345,
          0.824343939684779,
          0.8216942663190643,
          0.8854604892376777,
          0.8818044779081063,
          0.8839584447261174,
          0.8828176620838649,
          0.8846620513168183,
          0.8840521814286687,
          0.8842449309697947,
          0.8848521835327343,
          0.8846985456104873,
          0.8855157901792785,
          0.8866317267413775,
          0.8860289695977647,
          0.7712469908762034,
          0.8749691218194681,
          0.8746618126706502,
          0.8829486621767529,
          0.8723263169199397,
          0.8731907902562617,
          0.8730772221872918,
          0.873749461655582,
          0.8856862825834393,
          0.8852781079150656,
          0.88601728873048,
          0.8847217727757549,
          0.8854628586028344,
          0.8775706481323203,
          0.8853720380901166,
          0.8850708927014821,
          0.8853759740564925,
          0.8869636403375768,
          0.8768401152441306,
          0.8512931393950446,
          0.8854307925886719,
          0.8853586065471118,
          0.887016075028726,
          0.8849567678266157,
          0.8847850092330309,
          0.8856893396804318,
          0.8838314714064334,
          0.8840815352101515,
          0.8876695766274025,
          0.8867693906811123,
          0.8863927304986768,
          0.8869966100868008,
          0.8866927819210728,
          0.8868064050066959,
          0.8870740885934267,
          0.8878069297408185,
          0.8869893548677323,
          0.8866194060627688,
          0.8871477179642919,
          0.8874084336793289,
          0.8866989214901752,
          0.886276815448741,
          0.8871953261415072,
          0.8863681741889021,
          0.8867709421820196,
          0.8863682898210146,
          0.8865068473644081,
          0.8859954981478232,
          0.8869734795268702,
          0.8878487388308921,
          0.8875424419002982,
          0.888388179550541,
          0.8881742033758382,
          0.886996069371549,
          0.8859989683066256,
          0.8872276920142049,
          0.8879343045055578,
          0.8883524963240864,
          0.8822195925025256,
          0.8879008219544501,
          0.8840330755754374,
          0.8884547544366794,
          0.8873913218089042,
          0.8465039136689001,
          0.8459413524054427,
          0.8869499560960389,
          0.8883543122843449,
          0.8876932093507435,
          0.8451489440237687,
          0.8454784599374813,
          0.8446029862494872,
          0.8871727092144287,
          0.887243396554584,
          0.8885381739620117,
          0.8869585103861837,
          0.8870316830451657,
          0.8878297156077346,
          0.8873024188497686,
          0.888525575667962,
          0.8877107849907168,
          0.887275909358503,
          0.8868439144108986,
          0.8868429560729408,
          0.8874049156425627,
          0.8868103075018865,
          0.8867437930674378,
          0.8875928795697583,
          0.8884074530140385,
          0.8879386207757237,
          0.8876035875836126,
          0.8886450347658064,
          0.8889615719316584,
          0.8879531169819999,
          0.888839941557084,
          0.8887323849712756,
          0.8836317780642414,
          0.8874100113456361,
          0.8881485491019543,
          0.8808439482554972,
          0.8759633570568186,
          0.8877956757411317,
          0.8820085082209539,
          0.8801861958980671,
          0.8880729556297282,
          0.8883135801755213,
          0.8807148724777119,
          0.8863652118917674,
          0.8879838440676846,
          0.8098770079080937,
          0.8127626144453626,
          0.8143751518230105,
          0.888278104071456,
          0.8267434705488416,
          0.8884866175322266,
          0.8882502397116735,
          0.8107410492145186,
          0.8885717930065569,
          0.8873172374742639,
          0.8877041375660124,
          0.888517354951557,
          0.8888611754356365,
          0.8884693107915774,
          0.8874924013901897,
          0.8878811522146002,
          0.8877307658512006,
          0.8880602345296852,
          0.8876478756462403
         ],
         "yaxis": "y3"
        },
        {
         "marker": {
          "color": [
           0,
           1,
           2,
           3,
           4,
           5,
           6,
           7,
           8,
           9,
           10,
           11,
           12,
           13,
           14,
           15,
           16,
           17,
           18,
           19,
           20,
           21,
           22,
           23,
           24,
           25,
           26,
           27,
           28,
           29,
           30,
           31,
           32,
           33,
           34,
           35,
           36,
           37,
           38,
           39,
           40,
           41,
           42,
           43,
           44,
           45,
           46,
           47,
           48,
           49,
           50,
           51,
           52,
           53,
           54,
           55,
           56,
           57,
           58,
           59,
           60,
           61,
           62,
           63,
           64,
           65,
           66,
           67,
           68,
           69,
           70,
           71,
           72,
           73,
           74,
           75,
           76,
           77,
           78,
           79,
           80,
           81,
           82,
           83,
           84,
           85,
           86,
           87,
           88,
           89,
           90,
           91,
           92,
           93,
           94,
           95,
           96,
           97,
           98,
           99,
           100,
           101,
           102,
           103,
           104,
           105,
           106,
           107,
           108,
           109,
           110,
           111,
           112,
           113,
           114,
           115,
           116,
           117,
           118,
           119,
           120,
           121,
           122,
           123,
           124,
           125,
           126,
           127,
           128,
           129,
           130,
           131,
           132,
           133,
           134,
           135,
           136,
           137,
           138,
           139,
           140,
           141,
           142,
           143,
           144,
           145,
           146,
           147,
           148,
           149,
           150,
           151,
           152,
           153,
           154,
           155,
           156,
           157,
           158,
           159,
           160,
           161,
           162,
           163,
           164,
           165,
           166,
           167,
           168,
           169,
           170,
           171,
           172,
           173,
           174,
           175,
           176,
           177,
           178,
           179,
           180,
           181,
           182,
           183,
           184,
           185,
           186,
           187,
           188,
           189,
           190,
           191,
           192,
           193,
           194,
           195,
           196,
           197,
           198,
           199
          ],
          "colorbar": {
           "title": {
            "text": "#Trials"
           },
           "x": 1,
           "xpad": 40
          },
          "colorscale": [
           [
            0,
            "rgb(247,251,255)"
           ],
           [
            0.125,
            "rgb(222,235,247)"
           ],
           [
            0.25,
            "rgb(198,219,239)"
           ],
           [
            0.375,
            "rgb(158,202,225)"
           ],
           [
            0.5,
            "rgb(107,174,214)"
           ],
           [
            0.625,
            "rgb(66,146,198)"
           ],
           [
            0.75,
            "rgb(33,113,181)"
           ],
           [
            0.875,
            "rgb(8,81,156)"
           ],
           [
            1,
            "rgb(8,48,107)"
           ]
          ],
          "line": {
           "color": "Grey",
           "width": 0.5
          },
          "showscale": false
         },
         "mode": "markers",
         "showlegend": false,
         "type": "scatter",
         "x": [
          9,
          8,
          5,
          8,
          5,
          10,
          7,
          9,
          8,
          5,
          8,
          10,
          8,
          10,
          6,
          10,
          7,
          6,
          6,
          6,
          6,
          6,
          6,
          6,
          6,
          6,
          6,
          6,
          6,
          6,
          7,
          7,
          7,
          7,
          7,
          7,
          7,
          7,
          7,
          7,
          7,
          7,
          7,
          7,
          9,
          9,
          9,
          9,
          9,
          5,
          5,
          9,
          9,
          8,
          8,
          8,
          8,
          8,
          8,
          8,
          8,
          8,
          8,
          8,
          8,
          7,
          7,
          7,
          7,
          7,
          7,
          7,
          7,
          7,
          7,
          7,
          10,
          10,
          7,
          7,
          10,
          10,
          6,
          10,
          6,
          6,
          6,
          6,
          6,
          6,
          6,
          10,
          10,
          10,
          10,
          10,
          10,
          10,
          10,
          10,
          5,
          5,
          5,
          5,
          5,
          5,
          9,
          5,
          9,
          5,
          5,
          5,
          5,
          5,
          5,
          5,
          5,
          5,
          5,
          5,
          5,
          5,
          5,
          5,
          5,
          5,
          5,
          9,
          5,
          9,
          5,
          5,
          5,
          5,
          5,
          5,
          5,
          5,
          5,
          5,
          5,
          5,
          5,
          5,
          5,
          5,
          5,
          5,
          5,
          5,
          5,
          5,
          5,
          5,
          5,
          5,
          5,
          5,
          5,
          5,
          5,
          5,
          5,
          5,
          5,
          5,
          9,
          9,
          5,
          9,
          9,
          9,
          9,
          9,
          9,
          5,
          9,
          9,
          9,
          9,
          9,
          9,
          9,
          9,
          9,
          9,
          9,
          9,
          9,
          9,
          9,
          9,
          9,
          9,
          9,
          9,
          9,
          9,
          9,
          9
         ],
         "xaxis": "x4",
         "y": [
          0.7922048283955464,
          0.8365032204726122,
          0.8762662835937027,
          0.5421425900176836,
          0.8680947950974799,
          0.8401930410804924,
          0.8175974064828434,
          0.8219417689895435,
          0.8720312624873483,
          0.8383868130731944,
          0.8167171132248802,
          0.8757138236703833,
          0.8342141791083517,
          0.8741332432906539,
          0.8773072600188565,
          0.7985674491024556,
          0.7699717032995019,
          0.8804368347013412,
          0.8810356930332517,
          0.8808337351202346,
          0.8791766414344737,
          0.878427173424759,
          0.8846788404178071,
          0.885883027726495,
          0.8702061883578558,
          0.8743841793840085,
          0.8814593398378758,
          0.8853503859712186,
          0.8796442308112089,
          0.8795616880522872,
          0.885640731491409,
          0.8852852224031491,
          0.8859273867435509,
          0.8863695137827264,
          0.8858500896795265,
          0.8845473650602701,
          0.8850819328956593,
          0.88515678893692,
          0.8851843542761475,
          0.8854897423775018,
          0.88410659214747,
          0.8836660802127492,
          0.8842708556212324,
          0.8840718487101311,
          0.8867984554551566,
          0.8848478501750897,
          0.8413995021114287,
          0.8415915233976488,
          0.885450056773833,
          0.8293103628093041,
          0.8284569152175958,
          0.8348826756977333,
          0.8317622346908868,
          0.8161502690035942,
          0.8224724544972319,
          0.8212412346248193,
          0.8198789049821709,
          0.823062258923003,
          0.8143839431546345,
          0.824343939684779,
          0.8216942663190643,
          0.8854604892376777,
          0.8818044779081063,
          0.8839584447261174,
          0.8828176620838649,
          0.8846620513168183,
          0.8840521814286687,
          0.8842449309697947,
          0.8848521835327343,
          0.8846985456104873,
          0.8855157901792785,
          0.8866317267413775,
          0.8860289695977647,
          0.7712469908762034,
          0.8749691218194681,
          0.8746618126706502,
          0.8829486621767529,
          0.8723263169199397,
          0.8731907902562617,
          0.8730772221872918,
          0.873749461655582,
          0.8856862825834393,
          0.8852781079150656,
          0.88601728873048,
          0.8847217727757549,
          0.8854628586028344,
          0.8775706481323203,
          0.8853720380901166,
          0.8850708927014821,
          0.8853759740564925,
          0.8869636403375768,
          0.8768401152441306,
          0.8512931393950446,
          0.8854307925886719,
          0.8853586065471118,
          0.887016075028726,
          0.8849567678266157,
          0.8847850092330309,
          0.8856893396804318,
          0.8838314714064334,
          0.8840815352101515,
          0.8876695766274025,
          0.8867693906811123,
          0.8863927304986768,
          0.8869966100868008,
          0.8866927819210728,
          0.8868064050066959,
          0.8870740885934267,
          0.8878069297408185,
          0.8869893548677323,
          0.8866194060627688,
          0.8871477179642919,
          0.8874084336793289,
          0.8866989214901752,
          0.886276815448741,
          0.8871953261415072,
          0.8863681741889021,
          0.8867709421820196,
          0.8863682898210146,
          0.8865068473644081,
          0.8859954981478232,
          0.8869734795268702,
          0.8878487388308921,
          0.8875424419002982,
          0.888388179550541,
          0.8881742033758382,
          0.886996069371549,
          0.8859989683066256,
          0.8872276920142049,
          0.8879343045055578,
          0.8883524963240864,
          0.8822195925025256,
          0.8879008219544501,
          0.8840330755754374,
          0.8884547544366794,
          0.8873913218089042,
          0.8465039136689001,
          0.8459413524054427,
          0.8869499560960389,
          0.8883543122843449,
          0.8876932093507435,
          0.8451489440237687,
          0.8454784599374813,
          0.8446029862494872,
          0.8871727092144287,
          0.887243396554584,
          0.8885381739620117,
          0.8869585103861837,
          0.8870316830451657,
          0.8878297156077346,
          0.8873024188497686,
          0.888525575667962,
          0.8877107849907168,
          0.887275909358503,
          0.8868439144108986,
          0.8868429560729408,
          0.8874049156425627,
          0.8868103075018865,
          0.8867437930674378,
          0.8875928795697583,
          0.8884074530140385,
          0.8879386207757237,
          0.8876035875836126,
          0.8886450347658064,
          0.8889615719316584,
          0.8879531169819999,
          0.888839941557084,
          0.8887323849712756,
          0.8836317780642414,
          0.8874100113456361,
          0.8881485491019543,
          0.8808439482554972,
          0.8759633570568186,
          0.8877956757411317,
          0.8820085082209539,
          0.8801861958980671,
          0.8880729556297282,
          0.8883135801755213,
          0.8807148724777119,
          0.8863652118917674,
          0.8879838440676846,
          0.8098770079080937,
          0.8127626144453626,
          0.8143751518230105,
          0.888278104071456,
          0.8267434705488416,
          0.8884866175322266,
          0.8882502397116735,
          0.8107410492145186,
          0.8885717930065569,
          0.8873172374742639,
          0.8877041375660124,
          0.888517354951557,
          0.8888611754356365,
          0.8884693107915774,
          0.8874924013901897,
          0.8878811522146002,
          0.8877307658512006,
          0.8880602345296852,
          0.8876478756462403
         ],
         "yaxis": "y4"
        },
        {
         "marker": {
          "color": [
           0,
           1,
           2,
           3,
           4,
           5,
           6,
           7,
           8,
           9,
           10,
           11,
           12,
           13,
           14,
           15,
           16,
           17,
           18,
           19,
           20,
           21,
           22,
           23,
           24,
           25,
           26,
           27,
           28,
           29,
           30,
           31,
           32,
           33,
           34,
           35,
           36,
           37,
           38,
           39,
           40,
           41,
           42,
           43,
           44,
           45,
           46,
           47,
           48,
           49,
           50,
           51,
           52,
           53,
           54,
           55,
           56,
           57,
           58,
           59,
           60,
           61,
           62,
           63,
           64,
           65,
           66,
           67,
           68,
           69,
           70,
           71,
           72,
           73,
           74,
           75,
           76,
           77,
           78,
           79,
           80,
           81,
           82,
           83,
           84,
           85,
           86,
           87,
           88,
           89,
           90,
           91,
           92,
           93,
           94,
           95,
           96,
           97,
           98,
           99,
           100,
           101,
           102,
           103,
           104,
           105,
           106,
           107,
           108,
           109,
           110,
           111,
           112,
           113,
           114,
           115,
           116,
           117,
           118,
           119,
           120,
           121,
           122,
           123,
           124,
           125,
           126,
           127,
           128,
           129,
           130,
           131,
           132,
           133,
           134,
           135,
           136,
           137,
           138,
           139,
           140,
           141,
           142,
           143,
           144,
           145,
           146,
           147,
           148,
           149,
           150,
           151,
           152,
           153,
           154,
           155,
           156,
           157,
           158,
           159,
           160,
           161,
           162,
           163,
           164,
           165,
           166,
           167,
           168,
           169,
           170,
           171,
           172,
           173,
           174,
           175,
           176,
           177,
           178,
           179,
           180,
           181,
           182,
           183,
           184,
           185,
           186,
           187,
           188,
           189,
           190,
           191,
           192,
           193,
           194,
           195,
           196,
           197,
           198,
           199
          ],
          "colorbar": {
           "title": {
            "text": "#Trials"
           },
           "x": 1,
           "xpad": 40
          },
          "colorscale": [
           [
            0,
            "rgb(247,251,255)"
           ],
           [
            0.125,
            "rgb(222,235,247)"
           ],
           [
            0.25,
            "rgb(198,219,239)"
           ],
           [
            0.375,
            "rgb(158,202,225)"
           ],
           [
            0.5,
            "rgb(107,174,214)"
           ],
           [
            0.625,
            "rgb(66,146,198)"
           ],
           [
            0.75,
            "rgb(33,113,181)"
           ],
           [
            0.875,
            "rgb(8,81,156)"
           ],
           [
            1,
            "rgb(8,48,107)"
           ]
          ],
          "line": {
           "color": "Grey",
           "width": 0.5
          },
          "showscale": false
         },
         "mode": "markers",
         "showlegend": false,
         "type": "scatter",
         "x": [
          943,
          720,
          862,
          259,
          607,
          593,
          668,
          500,
          247,
          258,
          170,
          526,
          927,
          605,
          458,
          172,
          699,
          973,
          863,
          991,
          971,
          985,
          946,
          944,
          425,
          410,
          800,
          817,
          825,
          821,
          825,
          814,
          812,
          858,
          811,
          796,
          901,
          904,
          910,
          755,
          746,
          752,
          746,
          900,
          709,
          893,
          879,
          876,
          675,
          659,
          654,
          696,
          648,
          654,
          859,
          640,
          534,
          630,
          560,
          845,
          554,
          848,
          858,
          844,
          849,
          848,
          955,
          949,
          779,
          777,
          781,
          780,
          770,
          772,
          773,
          771,
          728,
          734,
          717,
          708,
          726,
          735,
          721,
          698,
          709,
          708,
          328,
          924,
          817,
          815,
          931,
          807,
          100,
          683,
          682,
          925,
          678,
          592,
          677,
          680,
          684,
          930,
          925,
          930,
          921,
          997,
          992,
          1000,
          983,
          932,
          994,
          923,
          977,
          977,
          994,
          990,
          974,
          993,
          970,
          966,
          969,
          928,
          963,
          962,
          959,
          959,
          956,
          940,
          884,
          882,
          936,
          885,
          888,
          951,
          951,
          906,
          906,
          908,
          888,
          902,
          900,
          903,
          908,
          877,
          878,
          879,
          955,
          871,
          877,
          872,
          882,
          951,
          966,
          948,
          955,
          952,
          950,
          948,
          947,
          953,
          952,
          958,
          948,
          947,
          967,
          971,
          969,
          976,
          473,
          974,
          971,
          980,
          972,
          977,
          980,
          922,
          974,
          976,
          976,
          924,
          932,
          936,
          933,
          940,
          934,
          932,
          936,
          999,
          936,
          996,
          940,
          995,
          1000,
          999,
          996,
          999,
          993,
          994,
          990,
          991
         ],
         "xaxis": "x5",
         "y": [
          0.7922048283955464,
          0.8365032204726122,
          0.8762662835937027,
          0.5421425900176836,
          0.8680947950974799,
          0.8401930410804924,
          0.8175974064828434,
          0.8219417689895435,
          0.8720312624873483,
          0.8383868130731944,
          0.8167171132248802,
          0.8757138236703833,
          0.8342141791083517,
          0.8741332432906539,
          0.8773072600188565,
          0.7985674491024556,
          0.7699717032995019,
          0.8804368347013412,
          0.8810356930332517,
          0.8808337351202346,
          0.8791766414344737,
          0.878427173424759,
          0.8846788404178071,
          0.885883027726495,
          0.8702061883578558,
          0.8743841793840085,
          0.8814593398378758,
          0.8853503859712186,
          0.8796442308112089,
          0.8795616880522872,
          0.885640731491409,
          0.8852852224031491,
          0.8859273867435509,
          0.8863695137827264,
          0.8858500896795265,
          0.8845473650602701,
          0.8850819328956593,
          0.88515678893692,
          0.8851843542761475,
          0.8854897423775018,
          0.88410659214747,
          0.8836660802127492,
          0.8842708556212324,
          0.8840718487101311,
          0.8867984554551566,
          0.8848478501750897,
          0.8413995021114287,
          0.8415915233976488,
          0.885450056773833,
          0.8293103628093041,
          0.8284569152175958,
          0.8348826756977333,
          0.8317622346908868,
          0.8161502690035942,
          0.8224724544972319,
          0.8212412346248193,
          0.8198789049821709,
          0.823062258923003,
          0.8143839431546345,
          0.824343939684779,
          0.8216942663190643,
          0.8854604892376777,
          0.8818044779081063,
          0.8839584447261174,
          0.8828176620838649,
          0.8846620513168183,
          0.8840521814286687,
          0.8842449309697947,
          0.8848521835327343,
          0.8846985456104873,
          0.8855157901792785,
          0.8866317267413775,
          0.8860289695977647,
          0.7712469908762034,
          0.8749691218194681,
          0.8746618126706502,
          0.8829486621767529,
          0.8723263169199397,
          0.8731907902562617,
          0.8730772221872918,
          0.873749461655582,
          0.8856862825834393,
          0.8852781079150656,
          0.88601728873048,
          0.8847217727757549,
          0.8854628586028344,
          0.8775706481323203,
          0.8853720380901166,
          0.8850708927014821,
          0.8853759740564925,
          0.8869636403375768,
          0.8768401152441306,
          0.8512931393950446,
          0.8854307925886719,
          0.8853586065471118,
          0.887016075028726,
          0.8849567678266157,
          0.8847850092330309,
          0.8856893396804318,
          0.8838314714064334,
          0.8840815352101515,
          0.8876695766274025,
          0.8867693906811123,
          0.8863927304986768,
          0.8869966100868008,
          0.8866927819210728,
          0.8868064050066959,
          0.8870740885934267,
          0.8878069297408185,
          0.8869893548677323,
          0.8866194060627688,
          0.8871477179642919,
          0.8874084336793289,
          0.8866989214901752,
          0.886276815448741,
          0.8871953261415072,
          0.8863681741889021,
          0.8867709421820196,
          0.8863682898210146,
          0.8865068473644081,
          0.8859954981478232,
          0.8869734795268702,
          0.8878487388308921,
          0.8875424419002982,
          0.888388179550541,
          0.8881742033758382,
          0.886996069371549,
          0.8859989683066256,
          0.8872276920142049,
          0.8879343045055578,
          0.8883524963240864,
          0.8822195925025256,
          0.8879008219544501,
          0.8840330755754374,
          0.8884547544366794,
          0.8873913218089042,
          0.8465039136689001,
          0.8459413524054427,
          0.8869499560960389,
          0.8883543122843449,
          0.8876932093507435,
          0.8451489440237687,
          0.8454784599374813,
          0.8446029862494872,
          0.8871727092144287,
          0.887243396554584,
          0.8885381739620117,
          0.8869585103861837,
          0.8870316830451657,
          0.8878297156077346,
          0.8873024188497686,
          0.888525575667962,
          0.8877107849907168,
          0.887275909358503,
          0.8868439144108986,
          0.8868429560729408,
          0.8874049156425627,
          0.8868103075018865,
          0.8867437930674378,
          0.8875928795697583,
          0.8884074530140385,
          0.8879386207757237,
          0.8876035875836126,
          0.8886450347658064,
          0.8889615719316584,
          0.8879531169819999,
          0.888839941557084,
          0.8887323849712756,
          0.8836317780642414,
          0.8874100113456361,
          0.8881485491019543,
          0.8808439482554972,
          0.8759633570568186,
          0.8877956757411317,
          0.8820085082209539,
          0.8801861958980671,
          0.8880729556297282,
          0.8883135801755213,
          0.8807148724777119,
          0.8863652118917674,
          0.8879838440676846,
          0.8098770079080937,
          0.8127626144453626,
          0.8143751518230105,
          0.888278104071456,
          0.8267434705488416,
          0.8884866175322266,
          0.8882502397116735,
          0.8107410492145186,
          0.8885717930065569,
          0.8873172374742639,
          0.8877041375660124,
          0.888517354951557,
          0.8888611754356365,
          0.8884693107915774,
          0.8874924013901897,
          0.8878811522146002,
          0.8877307658512006,
          0.8880602345296852,
          0.8876478756462403
         ],
         "yaxis": "y5"
        },
        {
         "marker": {
          "color": [
           0,
           1,
           2,
           3,
           4,
           5,
           6,
           7,
           8,
           9,
           10,
           11,
           12,
           13,
           14,
           15,
           16,
           17,
           18,
           19,
           20,
           21,
           22,
           23,
           24,
           25,
           26,
           27,
           28,
           29,
           30,
           31,
           32,
           33,
           34,
           35,
           36,
           37,
           38,
           39,
           40,
           41,
           42,
           43,
           44,
           45,
           46,
           47,
           48,
           49,
           50,
           51,
           52,
           53,
           54,
           55,
           56,
           57,
           58,
           59,
           60,
           61,
           62,
           63,
           64,
           65,
           66,
           67,
           68,
           69,
           70,
           71,
           72,
           73,
           74,
           75,
           76,
           77,
           78,
           79,
           80,
           81,
           82,
           83,
           84,
           85,
           86,
           87,
           88,
           89,
           90,
           91,
           92,
           93,
           94,
           95,
           96,
           97,
           98,
           99,
           100,
           101,
           102,
           103,
           104,
           105,
           106,
           107,
           108,
           109,
           110,
           111,
           112,
           113,
           114,
           115,
           116,
           117,
           118,
           119,
           120,
           121,
           122,
           123,
           124,
           125,
           126,
           127,
           128,
           129,
           130,
           131,
           132,
           133,
           134,
           135,
           136,
           137,
           138,
           139,
           140,
           141,
           142,
           143,
           144,
           145,
           146,
           147,
           148,
           149,
           150,
           151,
           152,
           153,
           154,
           155,
           156,
           157,
           158,
           159,
           160,
           161,
           162,
           163,
           164,
           165,
           166,
           167,
           168,
           169,
           170,
           171,
           172,
           173,
           174,
           175,
           176,
           177,
           178,
           179,
           180,
           181,
           182,
           183,
           184,
           185,
           186,
           187,
           188,
           189,
           190,
           191,
           192,
           193,
           194,
           195,
           196,
           197,
           198,
           199
          ],
          "colorbar": {
           "title": {
            "text": "#Trials"
           },
           "x": 1,
           "xpad": 40
          },
          "colorscale": [
           [
            0,
            "rgb(247,251,255)"
           ],
           [
            0.125,
            "rgb(222,235,247)"
           ],
           [
            0.25,
            "rgb(198,219,239)"
           ],
           [
            0.375,
            "rgb(158,202,225)"
           ],
           [
            0.5,
            "rgb(107,174,214)"
           ],
           [
            0.625,
            "rgb(66,146,198)"
           ],
           [
            0.75,
            "rgb(33,113,181)"
           ],
           [
            0.875,
            "rgb(8,81,156)"
           ],
           [
            1,
            "rgb(8,48,107)"
           ]
          ],
          "line": {
           "color": "Grey",
           "width": 0.5
          },
          "showscale": false
         },
         "mode": "markers",
         "showlegend": false,
         "type": "scatter",
         "x": [
          1.0861713791842977,
          0.016937082927052458,
          0.027416760888231202,
          1.286926925179098,
          2.9587221286216816,
          0.01742396782502586,
          0.015561459599771801,
          1.5835083839634394,
          6.825507052199246,
          0.01973254098305875,
          0.03643510025184454,
          0.03929832818716709,
          0.026234988355353307,
          1.6168427428771999,
          1.4400664786402788,
          0.017565182664569197,
          0.05983766014021994,
          0.13065144606806675,
          0.17291815945793218,
          8.913162521328465,
          0.1188662453386549,
          0.2083400442311373,
          0.17867394693086391,
          0.2168730851709515,
          0.19680812004579834,
          0.19150970616046767,
          0.15380903763588522,
          0.4108494016933876,
          0.21638612398944473,
          0.452372066207776,
          0.5072790861550374,
          0.6223407632106612,
          0.427793028613239,
          0.49600084207747397,
          0.4366058998598634,
          0.4615382631627668,
          0.5224515182222611,
          0.4649775260645655,
          0.5771802515206055,
          0.518870651065952,
          0.756559326213338,
          0.8854854006293523,
          0.7827497352716061,
          0.9946160046916219,
          0.8270047140447262,
          0.8014253310477362,
          0.29092166450278856,
          0.9113697264190685,
          0.29524220063407564,
          0.07931612773228175,
          0.28934445156577954,
          0.32180148728572083,
          0.30474080740660586,
          2.4981541078348304,
          2.0190786904105504,
          2.60759781859355,
          3.0209138192305196,
          3.1750135761199583,
          1.2405222289011455,
          1.6876154973344624,
          2.4354087408771785,
          2.09018665102118,
          0.08542631471051126,
          2.0195821336281212,
          1.1788152481255403,
          0.09811551851192296,
          0.09697984471913755,
          0.09652128186849407,
          0.6920718929697015,
          0.37498620523923276,
          0.23831652526440206,
          0.6292051554703312,
          0.38581103923430865,
          0.3724535367928411,
          0.38548660596671813,
          0.6697981608411652,
          0.37719886952504306,
          0.011195104816913728,
          0.24159115330935985,
          0.22218613857599423,
          0.38191527229306943,
          0.6213472889252389,
          0.01069067572968335,
          0.24214965332481098,
          0.24164583747569227,
          0.24219947361015748,
          0.14917070207484795,
          0.15705469354418752,
          0.5504908658329376,
          0.5311086931075668,
          0.5658261024500987,
          0.5584098531469035,
          0.5649113966747403,
          0.5875281240945511,
          0.46001922296233283,
          1.0005938458358845,
          1.0125367161666738,
          0.44926115288496876,
          1.0123872541515189,
          0.45596958178960706,
          1.0092564937773363,
          1.0391203900903738,
          1.0169288850771558,
          1.0527957751033832,
          0.8247864125618799,
          1.4023691757147894,
          1.3372045109365678,
          0.8419409012276976,
          0.769473356335339,
          0.8312998350942136,
          1.558916452739315,
          1.3775076403011894,
          1.4005509411262997,
          1.4049996990207565,
          1.4127368964666611,
          1.3958683649382582,
          1.3556777046947408,
          1.4875849247508277,
          1.4199097660523725,
          1.3497778370458005,
          0.7807164866612579,
          0.8484249515955231,
          0.8548710656888828,
          1.7342015995866833,
          1.7263977753780035,
          0.8129791799808441,
          0.8302430091895767,
          0.8131940611767542,
          1.689757819058535,
          0.823692032620169,
          1.828457874454573,
          1.7745558959552363,
          1.7919629163874913,
          1.7819453536677985,
          1.793910906109578,
          1.7735151246412153,
          3.986009338688486,
          1.7813741933099358,
          3.5372258098416967,
          1.1709617375032049,
          3.9390880863211897,
          2.254170288958749,
          4.413014678535207,
          3.760577139203111,
          3.507899347394889,
          2.271964916704737,
          2.222380918349641,
          2.272169121209337,
          4.7257317515902155,
          1.206405243184908,
          1.1522658853282002,
          2.001493071275414,
          5.337814176404465,
          2.731395717215152,
          6.679755191474002,
          5.714850838900543,
          2.7562872245196655,
          6.274423150413106,
          2.8118640549905054,
          2.7315438769996714,
          9.56765766125533,
          6.9948757436251245,
          5.671339068353649,
          2.935006899970953,
          1.1432555381439145,
          1.184445690474057,
          9.199831681196825,
          1.989784947139671,
          5.207243147981581,
          9.812315314353954,
          9.705926282200611,
          8.214272429317552,
          2.0340678831123564,
          9.770580399717739,
          9.84338046575558,
          9.338382203659558,
          7.5720894018521365,
          9.99359231497836,
          7.954447510807629,
          8.139015283160218,
          7.804270239934696,
          8.006457272338837,
          7.999281140786213,
          7.921974790539249,
          8.270520644920264,
          7.854876142734572,
          8.030904607914927,
          7.1537039222103465,
          7.029244987401956,
          6.77253867169121,
          6.557143973736263,
          8.5502882520554,
          7.451676541215461,
          6.7191526389250065,
          7.00131032510043,
          6.478997088368513,
          6.396807368224236,
          6.125816900409857,
          8.80550082290572,
          7.055863413614991
         ],
         "xaxis": "x6",
         "y": [
          0.7922048283955464,
          0.8365032204726122,
          0.8762662835937027,
          0.5421425900176836,
          0.8680947950974799,
          0.8401930410804924,
          0.8175974064828434,
          0.8219417689895435,
          0.8720312624873483,
          0.8383868130731944,
          0.8167171132248802,
          0.8757138236703833,
          0.8342141791083517,
          0.8741332432906539,
          0.8773072600188565,
          0.7985674491024556,
          0.7699717032995019,
          0.8804368347013412,
          0.8810356930332517,
          0.8808337351202346,
          0.8791766414344737,
          0.878427173424759,
          0.8846788404178071,
          0.885883027726495,
          0.8702061883578558,
          0.8743841793840085,
          0.8814593398378758,
          0.8853503859712186,
          0.8796442308112089,
          0.8795616880522872,
          0.885640731491409,
          0.8852852224031491,
          0.8859273867435509,
          0.8863695137827264,
          0.8858500896795265,
          0.8845473650602701,
          0.8850819328956593,
          0.88515678893692,
          0.8851843542761475,
          0.8854897423775018,
          0.88410659214747,
          0.8836660802127492,
          0.8842708556212324,
          0.8840718487101311,
          0.8867984554551566,
          0.8848478501750897,
          0.8413995021114287,
          0.8415915233976488,
          0.885450056773833,
          0.8293103628093041,
          0.8284569152175958,
          0.8348826756977333,
          0.8317622346908868,
          0.8161502690035942,
          0.8224724544972319,
          0.8212412346248193,
          0.8198789049821709,
          0.823062258923003,
          0.8143839431546345,
          0.824343939684779,
          0.8216942663190643,
          0.8854604892376777,
          0.8818044779081063,
          0.8839584447261174,
          0.8828176620838649,
          0.8846620513168183,
          0.8840521814286687,
          0.8842449309697947,
          0.8848521835327343,
          0.8846985456104873,
          0.8855157901792785,
          0.8866317267413775,
          0.8860289695977647,
          0.7712469908762034,
          0.8749691218194681,
          0.8746618126706502,
          0.8829486621767529,
          0.8723263169199397,
          0.8731907902562617,
          0.8730772221872918,
          0.873749461655582,
          0.8856862825834393,
          0.8852781079150656,
          0.88601728873048,
          0.8847217727757549,
          0.8854628586028344,
          0.8775706481323203,
          0.8853720380901166,
          0.8850708927014821,
          0.8853759740564925,
          0.8869636403375768,
          0.8768401152441306,
          0.8512931393950446,
          0.8854307925886719,
          0.8853586065471118,
          0.887016075028726,
          0.8849567678266157,
          0.8847850092330309,
          0.8856893396804318,
          0.8838314714064334,
          0.8840815352101515,
          0.8876695766274025,
          0.8867693906811123,
          0.8863927304986768,
          0.8869966100868008,
          0.8866927819210728,
          0.8868064050066959,
          0.8870740885934267,
          0.8878069297408185,
          0.8869893548677323,
          0.8866194060627688,
          0.8871477179642919,
          0.8874084336793289,
          0.8866989214901752,
          0.886276815448741,
          0.8871953261415072,
          0.8863681741889021,
          0.8867709421820196,
          0.8863682898210146,
          0.8865068473644081,
          0.8859954981478232,
          0.8869734795268702,
          0.8878487388308921,
          0.8875424419002982,
          0.888388179550541,
          0.8881742033758382,
          0.886996069371549,
          0.8859989683066256,
          0.8872276920142049,
          0.8879343045055578,
          0.8883524963240864,
          0.8822195925025256,
          0.8879008219544501,
          0.8840330755754374,
          0.8884547544366794,
          0.8873913218089042,
          0.8465039136689001,
          0.8459413524054427,
          0.8869499560960389,
          0.8883543122843449,
          0.8876932093507435,
          0.8451489440237687,
          0.8454784599374813,
          0.8446029862494872,
          0.8871727092144287,
          0.887243396554584,
          0.8885381739620117,
          0.8869585103861837,
          0.8870316830451657,
          0.8878297156077346,
          0.8873024188497686,
          0.888525575667962,
          0.8877107849907168,
          0.887275909358503,
          0.8868439144108986,
          0.8868429560729408,
          0.8874049156425627,
          0.8868103075018865,
          0.8867437930674378,
          0.8875928795697583,
          0.8884074530140385,
          0.8879386207757237,
          0.8876035875836126,
          0.8886450347658064,
          0.8889615719316584,
          0.8879531169819999,
          0.888839941557084,
          0.8887323849712756,
          0.8836317780642414,
          0.8874100113456361,
          0.8881485491019543,
          0.8808439482554972,
          0.8759633570568186,
          0.8877956757411317,
          0.8820085082209539,
          0.8801861958980671,
          0.8880729556297282,
          0.8883135801755213,
          0.8807148724777119,
          0.8863652118917674,
          0.8879838440676846,
          0.8098770079080937,
          0.8127626144453626,
          0.8143751518230105,
          0.888278104071456,
          0.8267434705488416,
          0.8884866175322266,
          0.8882502397116735,
          0.8107410492145186,
          0.8885717930065569,
          0.8873172374742639,
          0.8877041375660124,
          0.888517354951557,
          0.8888611754356365,
          0.8884693107915774,
          0.8874924013901897,
          0.8878811522146002,
          0.8877307658512006,
          0.8880602345296852,
          0.8876478756462403
         ],
         "yaxis": "y6"
        },
        {
         "marker": {
          "color": [
           0,
           1,
           2,
           3,
           4,
           5,
           6,
           7,
           8,
           9,
           10,
           11,
           12,
           13,
           14,
           15,
           16,
           17,
           18,
           19,
           20,
           21,
           22,
           23,
           24,
           25,
           26,
           27,
           28,
           29,
           30,
           31,
           32,
           33,
           34,
           35,
           36,
           37,
           38,
           39,
           40,
           41,
           42,
           43,
           44,
           45,
           46,
           47,
           48,
           49,
           50,
           51,
           52,
           53,
           54,
           55,
           56,
           57,
           58,
           59,
           60,
           61,
           62,
           63,
           64,
           65,
           66,
           67,
           68,
           69,
           70,
           71,
           72,
           73,
           74,
           75,
           76,
           77,
           78,
           79,
           80,
           81,
           82,
           83,
           84,
           85,
           86,
           87,
           88,
           89,
           90,
           91,
           92,
           93,
           94,
           95,
           96,
           97,
           98,
           99,
           100,
           101,
           102,
           103,
           104,
           105,
           106,
           107,
           108,
           109,
           110,
           111,
           112,
           113,
           114,
           115,
           116,
           117,
           118,
           119,
           120,
           121,
           122,
           123,
           124,
           125,
           126,
           127,
           128,
           129,
           130,
           131,
           132,
           133,
           134,
           135,
           136,
           137,
           138,
           139,
           140,
           141,
           142,
           143,
           144,
           145,
           146,
           147,
           148,
           149,
           150,
           151,
           152,
           153,
           154,
           155,
           156,
           157,
           158,
           159,
           160,
           161,
           162,
           163,
           164,
           165,
           166,
           167,
           168,
           169,
           170,
           171,
           172,
           173,
           174,
           175,
           176,
           177,
           178,
           179,
           180,
           181,
           182,
           183,
           184,
           185,
           186,
           187,
           188,
           189,
           190,
           191,
           192,
           193,
           194,
           195,
           196,
           197,
           198,
           199
          ],
          "colorbar": {
           "title": {
            "text": "#Trials"
           },
           "x": 1,
           "xpad": 40
          },
          "colorscale": [
           [
            0,
            "rgb(247,251,255)"
           ],
           [
            0.125,
            "rgb(222,235,247)"
           ],
           [
            0.25,
            "rgb(198,219,239)"
           ],
           [
            0.375,
            "rgb(158,202,225)"
           ],
           [
            0.5,
            "rgb(107,174,214)"
           ],
           [
            0.625,
            "rgb(66,146,198)"
           ],
           [
            0.75,
            "rgb(33,113,181)"
           ],
           [
            0.875,
            "rgb(8,81,156)"
           ],
           [
            1,
            "rgb(8,48,107)"
           ]
          ],
          "line": {
           "color": "Grey",
           "width": 0.5
          },
          "showscale": false
         },
         "mode": "markers",
         "showlegend": false,
         "type": "scatter",
         "x": [
          0.15781410781679117,
          0.07221779408250295,
          0.02259293239568173,
          0.24917781422244695,
          5.864445310039165,
          1.0962957596188978,
          0.6760409141192699,
          0.06481172710518068,
          0.1374475945917013,
          1.2756060582388897,
          1.7856491306400508,
          0.41030573405778575,
          1.4457610876866103,
          0.027133691047700012,
          3.75699612814287,
          0.5956029499453043,
          3.227556594434638,
          0.010486498556492935,
          0.013952926309405282,
          0.01146213839572096,
          0.0132845202984465,
          0.012686175419469061,
          0.010655868443254024,
          0.010735504497925964,
          0.01859438783615171,
          6.060858148802819,
          0.015283084079691466,
          0.010526276904131705,
          0.011002242993063169,
          0.011274641922748926,
          0.040916143796632345,
          0.04568222705664956,
          0.02996181038447863,
          0.049465410510380045,
          0.04042741349027271,
          0.033943707978132176,
          0.03610311888735569,
          0.038371601422932056,
          0.04617466585700342,
          0.04056516708131173,
          0.03357419492908576,
          0.036973100316483834,
          0.1260395406396059,
          0.0967154961366809,
          0.11461706444707288,
          0.15248757279441466,
          0.1261348946573978,
          0.1176642153988479,
          0.11491268056366787,
          0.13975076843141412,
          0.0850667398281052,
          0.08496712596666661,
          0.2441416067437605,
          0.24129110439316434,
          0.20872311466194216,
          0.07034525351378389,
          0.06280864485726441,
          0.0753084866926222,
          0.06052038271596256,
          0.05782305475578939,
          0.061107865492323846,
          0.01956279681883697,
          0.023433704775911314,
          0.022574347275671366,
          0.02040762294369849,
          0.023305822669045358,
          0.025560982915883778,
          0.023898302313931787,
          0.023381932054204385,
          0.02200474441298859,
          0.026226193103963957,
          0.017237561042890235,
          0.030103955166725774,
          0.02968030258480257,
          0.047442778279478376,
          0.048738179837976105,
          0.04904329789197724,
          0.047794100968564825,
          0.04905924843088196,
          0.01793050509415734,
          0.01610733788223202,
          0.04970195331267388,
          0.014852827279917376,
          0.01583174426864742,
          0.016286138272662634,
          0.4149348865287702,
          0.015401857941525285,
          0.016981334328489545,
          0.028159617229266718,
          9.867146319364123,
          8.960347308090975,
          0.03178092535915655,
          0.012202031563309318,
          0.031984984393962114,
          0.035355612160138036,
          0.0315773284753895,
          0.03367440041853818,
          0.030973239513944536,
          0.030859912665818348,
          0.04000808713545548,
          0.19441269969907135,
          1.5905364366550165,
          1.9929910938496553,
          2.7889406386567774,
          0.7131724947707024,
          0.8458736131219143,
          0.01915752136581233,
          2.057561283067448,
          0.01917599170198216,
          3.4201316351943687,
          1.5750105778407764,
          2.103328077264563,
          2.798882253230939,
          0.9377943081128999,
          2.0218218700576784,
          1.9637536572250534,
          0.8913140728719426,
          1.000621535396158,
          0.993635783497682,
          0.9339647602559106,
          2.218748944761625,
          2.3530619122488385,
          2.2979687027578466,
          2.7276598636037472,
          4.315752285668966,
          2.719657305810225,
          4.268725525801657,
          4.469558730352816,
          3.700193525617011,
          4.303833874716446,
          4.3433002066107145,
          3.667998870563657,
          4.195796704243079,
          3.9614600127824744,
          4.757146839373969,
          4.827489425942679,
          1.2853859361239648,
          2.776801916387835,
          1.2676286276077282,
          2.764924843249841,
          5.456727708618581,
          5.150880814817833,
          5.070892628865495,
          2.754381223969178,
          6.977495237521343,
          5.440264323266968,
          5.404643947122216,
          5.311097532365704,
          5.549116856771587,
          6.896235320731764,
          6.086110050173309,
          6.7400858726445305,
          6.5771785448117805,
          6.1217899441247505,
          6.282808225559948,
          7.340567825616362,
          7.267495314903409,
          6.507707074637565,
          8.053919369993622,
          6.718605352818849,
          7.374581693611168,
          8.1588300137057,
          8.16566367120377,
          7.409789466986423,
          8.476518603808442,
          3.1382633739493233,
          3.2775806131790493,
          4.528021834977148,
          4.5373282973087665,
          8.559398202458329,
          4.295253245434373,
          9.637324477875241,
          9.562701390236713,
          9.385935423045145,
          9.292429331572174,
          9.977764883150993,
          3.276547546842211,
          3.1607846310410466,
          3.3790655528764226,
          3.2589062605755243,
          3.1208011820229298,
          3.2231501709646486,
          3.306415911234961,
          3.231803514489246,
          3.4001137359146973,
          3.2189510964634493,
          3.17960061144226,
          3.187389839288456,
          3.09069066849599,
          4.014247210206503,
          4.019344359863659,
          3.8574900547778657,
          3.898224913490457,
          4.127397347774424,
          3.909236534531171,
          2.468116589288265,
          2.503492259570688,
          2.5107460415020135,
          4.015445147102145,
          4.689320652709515
         ],
         "xaxis": "x7",
         "y": [
          0.7922048283955464,
          0.8365032204726122,
          0.8762662835937027,
          0.5421425900176836,
          0.8680947950974799,
          0.8401930410804924,
          0.8175974064828434,
          0.8219417689895435,
          0.8720312624873483,
          0.8383868130731944,
          0.8167171132248802,
          0.8757138236703833,
          0.8342141791083517,
          0.8741332432906539,
          0.8773072600188565,
          0.7985674491024556,
          0.7699717032995019,
          0.8804368347013412,
          0.8810356930332517,
          0.8808337351202346,
          0.8791766414344737,
          0.878427173424759,
          0.8846788404178071,
          0.885883027726495,
          0.8702061883578558,
          0.8743841793840085,
          0.8814593398378758,
          0.8853503859712186,
          0.8796442308112089,
          0.8795616880522872,
          0.885640731491409,
          0.8852852224031491,
          0.8859273867435509,
          0.8863695137827264,
          0.8858500896795265,
          0.8845473650602701,
          0.8850819328956593,
          0.88515678893692,
          0.8851843542761475,
          0.8854897423775018,
          0.88410659214747,
          0.8836660802127492,
          0.8842708556212324,
          0.8840718487101311,
          0.8867984554551566,
          0.8848478501750897,
          0.8413995021114287,
          0.8415915233976488,
          0.885450056773833,
          0.8293103628093041,
          0.8284569152175958,
          0.8348826756977333,
          0.8317622346908868,
          0.8161502690035942,
          0.8224724544972319,
          0.8212412346248193,
          0.8198789049821709,
          0.823062258923003,
          0.8143839431546345,
          0.824343939684779,
          0.8216942663190643,
          0.8854604892376777,
          0.8818044779081063,
          0.8839584447261174,
          0.8828176620838649,
          0.8846620513168183,
          0.8840521814286687,
          0.8842449309697947,
          0.8848521835327343,
          0.8846985456104873,
          0.8855157901792785,
          0.8866317267413775,
          0.8860289695977647,
          0.7712469908762034,
          0.8749691218194681,
          0.8746618126706502,
          0.8829486621767529,
          0.8723263169199397,
          0.8731907902562617,
          0.8730772221872918,
          0.873749461655582,
          0.8856862825834393,
          0.8852781079150656,
          0.88601728873048,
          0.8847217727757549,
          0.8854628586028344,
          0.8775706481323203,
          0.8853720380901166,
          0.8850708927014821,
          0.8853759740564925,
          0.8869636403375768,
          0.8768401152441306,
          0.8512931393950446,
          0.8854307925886719,
          0.8853586065471118,
          0.887016075028726,
          0.8849567678266157,
          0.8847850092330309,
          0.8856893396804318,
          0.8838314714064334,
          0.8840815352101515,
          0.8876695766274025,
          0.8867693906811123,
          0.8863927304986768,
          0.8869966100868008,
          0.8866927819210728,
          0.8868064050066959,
          0.8870740885934267,
          0.8878069297408185,
          0.8869893548677323,
          0.8866194060627688,
          0.8871477179642919,
          0.8874084336793289,
          0.8866989214901752,
          0.886276815448741,
          0.8871953261415072,
          0.8863681741889021,
          0.8867709421820196,
          0.8863682898210146,
          0.8865068473644081,
          0.8859954981478232,
          0.8869734795268702,
          0.8878487388308921,
          0.8875424419002982,
          0.888388179550541,
          0.8881742033758382,
          0.886996069371549,
          0.8859989683066256,
          0.8872276920142049,
          0.8879343045055578,
          0.8883524963240864,
          0.8822195925025256,
          0.8879008219544501,
          0.8840330755754374,
          0.8884547544366794,
          0.8873913218089042,
          0.8465039136689001,
          0.8459413524054427,
          0.8869499560960389,
          0.8883543122843449,
          0.8876932093507435,
          0.8451489440237687,
          0.8454784599374813,
          0.8446029862494872,
          0.8871727092144287,
          0.887243396554584,
          0.8885381739620117,
          0.8869585103861837,
          0.8870316830451657,
          0.8878297156077346,
          0.8873024188497686,
          0.888525575667962,
          0.8877107849907168,
          0.887275909358503,
          0.8868439144108986,
          0.8868429560729408,
          0.8874049156425627,
          0.8868103075018865,
          0.8867437930674378,
          0.8875928795697583,
          0.8884074530140385,
          0.8879386207757237,
          0.8876035875836126,
          0.8886450347658064,
          0.8889615719316584,
          0.8879531169819999,
          0.888839941557084,
          0.8887323849712756,
          0.8836317780642414,
          0.8874100113456361,
          0.8881485491019543,
          0.8808439482554972,
          0.8759633570568186,
          0.8877956757411317,
          0.8820085082209539,
          0.8801861958980671,
          0.8880729556297282,
          0.8883135801755213,
          0.8807148724777119,
          0.8863652118917674,
          0.8879838440676846,
          0.8098770079080937,
          0.8127626144453626,
          0.8143751518230105,
          0.888278104071456,
          0.8267434705488416,
          0.8884866175322266,
          0.8882502397116735,
          0.8107410492145186,
          0.8885717930065569,
          0.8873172374742639,
          0.8877041375660124,
          0.888517354951557,
          0.8888611754356365,
          0.8884693107915774,
          0.8874924013901897,
          0.8878811522146002,
          0.8877307658512006,
          0.8880602345296852,
          0.8876478756462403
         ],
         "yaxis": "y7"
        },
        {
         "marker": {
          "color": [
           0,
           1,
           2,
           3,
           4,
           5,
           6,
           7,
           8,
           9,
           10,
           11,
           12,
           13,
           14,
           15,
           16,
           17,
           18,
           19,
           20,
           21,
           22,
           23,
           24,
           25,
           26,
           27,
           28,
           29,
           30,
           31,
           32,
           33,
           34,
           35,
           36,
           37,
           38,
           39,
           40,
           41,
           42,
           43,
           44,
           45,
           46,
           47,
           48,
           49,
           50,
           51,
           52,
           53,
           54,
           55,
           56,
           57,
           58,
           59,
           60,
           61,
           62,
           63,
           64,
           65,
           66,
           67,
           68,
           69,
           70,
           71,
           72,
           73,
           74,
           75,
           76,
           77,
           78,
           79,
           80,
           81,
           82,
           83,
           84,
           85,
           86,
           87,
           88,
           89,
           90,
           91,
           92,
           93,
           94,
           95,
           96,
           97,
           98,
           99,
           100,
           101,
           102,
           103,
           104,
           105,
           106,
           107,
           108,
           109,
           110,
           111,
           112,
           113,
           114,
           115,
           116,
           117,
           118,
           119,
           120,
           121,
           122,
           123,
           124,
           125,
           126,
           127,
           128,
           129,
           130,
           131,
           132,
           133,
           134,
           135,
           136,
           137,
           138,
           139,
           140,
           141,
           142,
           143,
           144,
           145,
           146,
           147,
           148,
           149,
           150,
           151,
           152,
           153,
           154,
           155,
           156,
           157,
           158,
           159,
           160,
           161,
           162,
           163,
           164,
           165,
           166,
           167,
           168,
           169,
           170,
           171,
           172,
           173,
           174,
           175,
           176,
           177,
           178,
           179,
           180,
           181,
           182,
           183,
           184,
           185,
           186,
           187,
           188,
           189,
           190,
           191,
           192,
           193,
           194,
           195,
           196,
           197,
           198,
           199
          ],
          "colorbar": {
           "title": {
            "text": "#Trials"
           },
           "x": 1,
           "xpad": 40
          },
          "colorscale": [
           [
            0,
            "rgb(247,251,255)"
           ],
           [
            0.125,
            "rgb(222,235,247)"
           ],
           [
            0.25,
            "rgb(198,219,239)"
           ],
           [
            0.375,
            "rgb(158,202,225)"
           ],
           [
            0.5,
            "rgb(107,174,214)"
           ],
           [
            0.625,
            "rgb(66,146,198)"
           ],
           [
            0.75,
            "rgb(33,113,181)"
           ],
           [
            0.875,
            "rgb(8,81,156)"
           ],
           [
            1,
            "rgb(8,48,107)"
           ]
          ],
          "line": {
           "color": "Grey",
           "width": 0.5
          },
          "showscale": false
         },
         "mode": "markers",
         "showlegend": false,
         "type": "scatter",
         "x": [
          0.7908805136338741,
          0.804475102638367,
          0.8714409173266188,
          0.3384038205943115,
          0.357824608194552,
          0.1760454600102569,
          0.8289476730111291,
          0.16034676547348375,
          0.8526467875756427,
          0.11020640547560401,
          0.6090849805968039,
          0.7431460113431752,
          0.9559243184281441,
          0.7688227405910805,
          0.48676634298112065,
          0.6284132386289262,
          0.12055685100644409,
          0.9969323712035637,
          0.9981966522931912,
          0.9091599543771093,
          0.9967144400522694,
          0.9998399406442948,
          0.9988759363003554,
          0.9668183547333185,
          0.4413930210599192,
          0.44554778572827924,
          0.9671814888877576,
          0.9083381776257505,
          0.9691792468888744,
          0.9245276569897456,
          0.915015851858959,
          0.9200480304097238,
          0.9020530935376221,
          0.6993176671658559,
          0.7019360574953711,
          0.6898413225306484,
          0.6927497455155811,
          0.7099324811636119,
          0.7060102836199461,
          0.6714561336370949,
          0.7340273746449155,
          0.6967116991719323,
          0.7113306658894505,
          0.716680237865887,
          0.7824675874240603,
          0.780368960860581,
          0.8145931029235551,
          0.7945393494650054,
          0.7958535151791506,
          0.8266153979755347,
          0.8138424433079879,
          0.8067486007265773,
          0.7958930886740291,
          0.8448998128311725,
          0.8645205369164669,
          0.868000228052741,
          0.8668476076037983,
          0.8609710660076628,
          0.8680534403769866,
          0.8709415492272728,
          0.8607706801184091,
          0.5885909480998347,
          0.5930885732820712,
          0.5851122098013917,
          0.6155808585988235,
          0.5690521991630062,
          0.6507745342835307,
          0.5800064635090069,
          0.6418917769900304,
          0.6565732235393871,
          0.6272766688103418,
          0.6664917259414928,
          0.6484998652581073,
          0.656878036418389,
          0.666318767263282,
          0.6495943782691752,
          0.5097872625334501,
          0.940869159705301,
          0.7549970194838505,
          0.7583066192382326,
          0.5485874551575041,
          0.7663682171159445,
          0.7410425142931014,
          0.7386823874445535,
          0.7544416327771943,
          0.762908904334343,
          0.9045913081657486,
          0.89473624809619,
          0.8960219442661213,
          0.8922122863561885,
          0.731268435806189,
          0.28095393483399705,
          0.3004468280446556,
          0.6791566690092038,
          0.7238953285254038,
          0.7199211349433067,
          0.9550602129898608,
          0.7222044565522162,
          0.7275833183312344,
          0.966069033698234,
          0.6896833828386498,
          0.7187139570759429,
          0.833289191005969,
          0.7759394922200853,
          0.7801542861399378,
          0.6918929661975548,
          0.8311445973019244,
          0.7799168484071188,
          0.7847816926999615,
          0.7822174817558439,
          0.8370222734456493,
          0.8419251174620395,
          0.8370811875444685,
          0.8451773568722263,
          0.8365296429961877,
          0.8369025817624499,
          0.8282690224557926,
          0.8447446780990662,
          0.8191682386281007,
          0.8152960659043094,
          0.8254468259942566,
          0.8218252400220466,
          0.7876369187749248,
          0.8170576395093281,
          0.7805630041337368,
          0.7880813186117787,
          0.7929311022123947,
          0.7819462145943574,
          0.7745476917156606,
          0.792178204613254,
          0.801504936176244,
          0.7973070036240536,
          0.7940857362571278,
          0.7889761195187268,
          0.8024381433560974,
          0.7984969083421576,
          0.8007117245052081,
          0.8001037290813523,
          0.8035697853635555,
          0.8035854971461486,
          0.8066744024824786,
          0.8024400369247192,
          0.8048121143008214,
          0.8090673713025076,
          0.7447073120637231,
          0.7513240528552004,
          0.7541271093694343,
          0.7497243852404764,
          0.7502035341369744,
          0.7476730940116251,
          0.754876102829,
          0.7548142812665517,
          0.7643914924674712,
          0.756338160378578,
          0.8667434433878786,
          0.8750081487047153,
          0.7700873130549855,
          0.8854858964634706,
          0.880288230042542,
          0.7724023430395264,
          0.7707743729630617,
          0.7707852548517479,
          0.7702869421916475,
          0.7685983198018781,
          0.766387990196497,
          0.7696644056690983,
          0.7096650812474844,
          0.7688684460988602,
          0.7645956899267815,
          0.7324763816905758,
          0.7077898665491882,
          0.7359241945715056,
          0.7338731517122301,
          0.7340926315644691,
          0.7349512675721511,
          0.7040597181662355,
          0.7083871084880599,
          0.7064306120826656,
          0.7042889066315193,
          0.717680396519484,
          0.711293198909409,
          0.6997607361631717,
          0.7161912654157353,
          0.7061986764626813,
          0.7013698679663943,
          0.7663559682138765,
          0.7163522816657004,
          0.6847788127161667,
          0.6786392668743503,
          0.668573607789548,
          0.6860429142404935,
          0.6809851922561769,
          0.675041631949549,
          0.669802753763122,
          0.6950123624226919,
          0.6815525216492225,
          0.6868592084873095,
          0.6801244346019762,
          0.6690905751032636,
          0.6705408784342527
         ],
         "xaxis": "x8",
         "y": [
          0.7922048283955464,
          0.8365032204726122,
          0.8762662835937027,
          0.5421425900176836,
          0.8680947950974799,
          0.8401930410804924,
          0.8175974064828434,
          0.8219417689895435,
          0.8720312624873483,
          0.8383868130731944,
          0.8167171132248802,
          0.8757138236703833,
          0.8342141791083517,
          0.8741332432906539,
          0.8773072600188565,
          0.7985674491024556,
          0.7699717032995019,
          0.8804368347013412,
          0.8810356930332517,
          0.8808337351202346,
          0.8791766414344737,
          0.878427173424759,
          0.8846788404178071,
          0.885883027726495,
          0.8702061883578558,
          0.8743841793840085,
          0.8814593398378758,
          0.8853503859712186,
          0.8796442308112089,
          0.8795616880522872,
          0.885640731491409,
          0.8852852224031491,
          0.8859273867435509,
          0.8863695137827264,
          0.8858500896795265,
          0.8845473650602701,
          0.8850819328956593,
          0.88515678893692,
          0.8851843542761475,
          0.8854897423775018,
          0.88410659214747,
          0.8836660802127492,
          0.8842708556212324,
          0.8840718487101311,
          0.8867984554551566,
          0.8848478501750897,
          0.8413995021114287,
          0.8415915233976488,
          0.885450056773833,
          0.8293103628093041,
          0.8284569152175958,
          0.8348826756977333,
          0.8317622346908868,
          0.8161502690035942,
          0.8224724544972319,
          0.8212412346248193,
          0.8198789049821709,
          0.823062258923003,
          0.8143839431546345,
          0.824343939684779,
          0.8216942663190643,
          0.8854604892376777,
          0.8818044779081063,
          0.8839584447261174,
          0.8828176620838649,
          0.8846620513168183,
          0.8840521814286687,
          0.8842449309697947,
          0.8848521835327343,
          0.8846985456104873,
          0.8855157901792785,
          0.8866317267413775,
          0.8860289695977647,
          0.7712469908762034,
          0.8749691218194681,
          0.8746618126706502,
          0.8829486621767529,
          0.8723263169199397,
          0.8731907902562617,
          0.8730772221872918,
          0.873749461655582,
          0.8856862825834393,
          0.8852781079150656,
          0.88601728873048,
          0.8847217727757549,
          0.8854628586028344,
          0.8775706481323203,
          0.8853720380901166,
          0.8850708927014821,
          0.8853759740564925,
          0.8869636403375768,
          0.8768401152441306,
          0.8512931393950446,
          0.8854307925886719,
          0.8853586065471118,
          0.887016075028726,
          0.8849567678266157,
          0.8847850092330309,
          0.8856893396804318,
          0.8838314714064334,
          0.8840815352101515,
          0.8876695766274025,
          0.8867693906811123,
          0.8863927304986768,
          0.8869966100868008,
          0.8866927819210728,
          0.8868064050066959,
          0.8870740885934267,
          0.8878069297408185,
          0.8869893548677323,
          0.8866194060627688,
          0.8871477179642919,
          0.8874084336793289,
          0.8866989214901752,
          0.886276815448741,
          0.8871953261415072,
          0.8863681741889021,
          0.8867709421820196,
          0.8863682898210146,
          0.8865068473644081,
          0.8859954981478232,
          0.8869734795268702,
          0.8878487388308921,
          0.8875424419002982,
          0.888388179550541,
          0.8881742033758382,
          0.886996069371549,
          0.8859989683066256,
          0.8872276920142049,
          0.8879343045055578,
          0.8883524963240864,
          0.8822195925025256,
          0.8879008219544501,
          0.8840330755754374,
          0.8884547544366794,
          0.8873913218089042,
          0.8465039136689001,
          0.8459413524054427,
          0.8869499560960389,
          0.8883543122843449,
          0.8876932093507435,
          0.8451489440237687,
          0.8454784599374813,
          0.8446029862494872,
          0.8871727092144287,
          0.887243396554584,
          0.8885381739620117,
          0.8869585103861837,
          0.8870316830451657,
          0.8878297156077346,
          0.8873024188497686,
          0.888525575667962,
          0.8877107849907168,
          0.887275909358503,
          0.8868439144108986,
          0.8868429560729408,
          0.8874049156425627,
          0.8868103075018865,
          0.8867437930674378,
          0.8875928795697583,
          0.8884074530140385,
          0.8879386207757237,
          0.8876035875836126,
          0.8886450347658064,
          0.8889615719316584,
          0.8879531169819999,
          0.888839941557084,
          0.8887323849712756,
          0.8836317780642414,
          0.8874100113456361,
          0.8881485491019543,
          0.8808439482554972,
          0.8759633570568186,
          0.8877956757411317,
          0.8820085082209539,
          0.8801861958980671,
          0.8880729556297282,
          0.8883135801755213,
          0.8807148724777119,
          0.8863652118917674,
          0.8879838440676846,
          0.8098770079080937,
          0.8127626144453626,
          0.8143751518230105,
          0.888278104071456,
          0.8267434705488416,
          0.8884866175322266,
          0.8882502397116735,
          0.8107410492145186,
          0.8885717930065569,
          0.8873172374742639,
          0.8877041375660124,
          0.888517354951557,
          0.8888611754356365,
          0.8884693107915774,
          0.8874924013901897,
          0.8878811522146002,
          0.8877307658512006,
          0.8880602345296852,
          0.8876478756462403
         ],
         "yaxis": "y8"
        }
       ],
       "layout": {
        "template": {
         "data": {
          "bar": [
           {
            "error_x": {
             "color": "#2a3f5f"
            },
            "error_y": {
             "color": "#2a3f5f"
            },
            "marker": {
             "line": {
              "color": "#E5ECF6",
              "width": 0.5
             },
             "pattern": {
              "fillmode": "overlay",
              "size": 10,
              "solidity": 0.2
             }
            },
            "type": "bar"
           }
          ],
          "barpolar": [
           {
            "marker": {
             "line": {
              "color": "#E5ECF6",
              "width": 0.5
             },
             "pattern": {
              "fillmode": "overlay",
              "size": 10,
              "solidity": 0.2
             }
            },
            "type": "barpolar"
           }
          ],
          "carpet": [
           {
            "aaxis": {
             "endlinecolor": "#2a3f5f",
             "gridcolor": "white",
             "linecolor": "white",
             "minorgridcolor": "white",
             "startlinecolor": "#2a3f5f"
            },
            "baxis": {
             "endlinecolor": "#2a3f5f",
             "gridcolor": "white",
             "linecolor": "white",
             "minorgridcolor": "white",
             "startlinecolor": "#2a3f5f"
            },
            "type": "carpet"
           }
          ],
          "choropleth": [
           {
            "colorbar": {
             "outlinewidth": 0,
             "ticks": ""
            },
            "type": "choropleth"
           }
          ],
          "contour": [
           {
            "colorbar": {
             "outlinewidth": 0,
             "ticks": ""
            },
            "colorscale": [
             [
              0,
              "#0d0887"
             ],
             [
              0.1111111111111111,
              "#46039f"
             ],
             [
              0.2222222222222222,
              "#7201a8"
             ],
             [
              0.3333333333333333,
              "#9c179e"
             ],
             [
              0.4444444444444444,
              "#bd3786"
             ],
             [
              0.5555555555555556,
              "#d8576b"
             ],
             [
              0.6666666666666666,
              "#ed7953"
             ],
             [
              0.7777777777777778,
              "#fb9f3a"
             ],
             [
              0.8888888888888888,
              "#fdca26"
             ],
             [
              1,
              "#f0f921"
             ]
            ],
            "type": "contour"
           }
          ],
          "contourcarpet": [
           {
            "colorbar": {
             "outlinewidth": 0,
             "ticks": ""
            },
            "type": "contourcarpet"
           }
          ],
          "heatmap": [
           {
            "colorbar": {
             "outlinewidth": 0,
             "ticks": ""
            },
            "colorscale": [
             [
              0,
              "#0d0887"
             ],
             [
              0.1111111111111111,
              "#46039f"
             ],
             [
              0.2222222222222222,
              "#7201a8"
             ],
             [
              0.3333333333333333,
              "#9c179e"
             ],
             [
              0.4444444444444444,
              "#bd3786"
             ],
             [
              0.5555555555555556,
              "#d8576b"
             ],
             [
              0.6666666666666666,
              "#ed7953"
             ],
             [
              0.7777777777777778,
              "#fb9f3a"
             ],
             [
              0.8888888888888888,
              "#fdca26"
             ],
             [
              1,
              "#f0f921"
             ]
            ],
            "type": "heatmap"
           }
          ],
          "heatmapgl": [
           {
            "colorbar": {
             "outlinewidth": 0,
             "ticks": ""
            },
            "colorscale": [
             [
              0,
              "#0d0887"
             ],
             [
              0.1111111111111111,
              "#46039f"
             ],
             [
              0.2222222222222222,
              "#7201a8"
             ],
             [
              0.3333333333333333,
              "#9c179e"
             ],
             [
              0.4444444444444444,
              "#bd3786"
             ],
             [
              0.5555555555555556,
              "#d8576b"
             ],
             [
              0.6666666666666666,
              "#ed7953"
             ],
             [
              0.7777777777777778,
              "#fb9f3a"
             ],
             [
              0.8888888888888888,
              "#fdca26"
             ],
             [
              1,
              "#f0f921"
             ]
            ],
            "type": "heatmapgl"
           }
          ],
          "histogram": [
           {
            "marker": {
             "pattern": {
              "fillmode": "overlay",
              "size": 10,
              "solidity": 0.2
             }
            },
            "type": "histogram"
           }
          ],
          "histogram2d": [
           {
            "colorbar": {
             "outlinewidth": 0,
             "ticks": ""
            },
            "colorscale": [
             [
              0,
              "#0d0887"
             ],
             [
              0.1111111111111111,
              "#46039f"
             ],
             [
              0.2222222222222222,
              "#7201a8"
             ],
             [
              0.3333333333333333,
              "#9c179e"
             ],
             [
              0.4444444444444444,
              "#bd3786"
             ],
             [
              0.5555555555555556,
              "#d8576b"
             ],
             [
              0.6666666666666666,
              "#ed7953"
             ],
             [
              0.7777777777777778,
              "#fb9f3a"
             ],
             [
              0.8888888888888888,
              "#fdca26"
             ],
             [
              1,
              "#f0f921"
             ]
            ],
            "type": "histogram2d"
           }
          ],
          "histogram2dcontour": [
           {
            "colorbar": {
             "outlinewidth": 0,
             "ticks": ""
            },
            "colorscale": [
             [
              0,
              "#0d0887"
             ],
             [
              0.1111111111111111,
              "#46039f"
             ],
             [
              0.2222222222222222,
              "#7201a8"
             ],
             [
              0.3333333333333333,
              "#9c179e"
             ],
             [
              0.4444444444444444,
              "#bd3786"
             ],
             [
              0.5555555555555556,
              "#d8576b"
             ],
             [
              0.6666666666666666,
              "#ed7953"
             ],
             [
              0.7777777777777778,
              "#fb9f3a"
             ],
             [
              0.8888888888888888,
              "#fdca26"
             ],
             [
              1,
              "#f0f921"
             ]
            ],
            "type": "histogram2dcontour"
           }
          ],
          "mesh3d": [
           {
            "colorbar": {
             "outlinewidth": 0,
             "ticks": ""
            },
            "type": "mesh3d"
           }
          ],
          "parcoords": [
           {
            "line": {
             "colorbar": {
              "outlinewidth": 0,
              "ticks": ""
             }
            },
            "type": "parcoords"
           }
          ],
          "pie": [
           {
            "automargin": true,
            "type": "pie"
           }
          ],
          "scatter": [
           {
            "marker": {
             "colorbar": {
              "outlinewidth": 0,
              "ticks": ""
             }
            },
            "type": "scatter"
           }
          ],
          "scatter3d": [
           {
            "line": {
             "colorbar": {
              "outlinewidth": 0,
              "ticks": ""
             }
            },
            "marker": {
             "colorbar": {
              "outlinewidth": 0,
              "ticks": ""
             }
            },
            "type": "scatter3d"
           }
          ],
          "scattercarpet": [
           {
            "marker": {
             "colorbar": {
              "outlinewidth": 0,
              "ticks": ""
             }
            },
            "type": "scattercarpet"
           }
          ],
          "scattergeo": [
           {
            "marker": {
             "colorbar": {
              "outlinewidth": 0,
              "ticks": ""
             }
            },
            "type": "scattergeo"
           }
          ],
          "scattergl": [
           {
            "marker": {
             "colorbar": {
              "outlinewidth": 0,
              "ticks": ""
             }
            },
            "type": "scattergl"
           }
          ],
          "scattermapbox": [
           {
            "marker": {
             "colorbar": {
              "outlinewidth": 0,
              "ticks": ""
             }
            },
            "type": "scattermapbox"
           }
          ],
          "scatterpolar": [
           {
            "marker": {
             "colorbar": {
              "outlinewidth": 0,
              "ticks": ""
             }
            },
            "type": "scatterpolar"
           }
          ],
          "scatterpolargl": [
           {
            "marker": {
             "colorbar": {
              "outlinewidth": 0,
              "ticks": ""
             }
            },
            "type": "scatterpolargl"
           }
          ],
          "scatterternary": [
           {
            "marker": {
             "colorbar": {
              "outlinewidth": 0,
              "ticks": ""
             }
            },
            "type": "scatterternary"
           }
          ],
          "surface": [
           {
            "colorbar": {
             "outlinewidth": 0,
             "ticks": ""
            },
            "colorscale": [
             [
              0,
              "#0d0887"
             ],
             [
              0.1111111111111111,
              "#46039f"
             ],
             [
              0.2222222222222222,
              "#7201a8"
             ],
             [
              0.3333333333333333,
              "#9c179e"
             ],
             [
              0.4444444444444444,
              "#bd3786"
             ],
             [
              0.5555555555555556,
              "#d8576b"
             ],
             [
              0.6666666666666666,
              "#ed7953"
             ],
             [
              0.7777777777777778,
              "#fb9f3a"
             ],
             [
              0.8888888888888888,
              "#fdca26"
             ],
             [
              1,
              "#f0f921"
             ]
            ],
            "type": "surface"
           }
          ],
          "table": [
           {
            "cells": {
             "fill": {
              "color": "#EBF0F8"
             },
             "line": {
              "color": "white"
             }
            },
            "header": {
             "fill": {
              "color": "#C8D4E3"
             },
             "line": {
              "color": "white"
             }
            },
            "type": "table"
           }
          ]
         },
         "layout": {
          "annotationdefaults": {
           "arrowcolor": "#2a3f5f",
           "arrowhead": 0,
           "arrowwidth": 1
          },
          "autotypenumbers": "strict",
          "coloraxis": {
           "colorbar": {
            "outlinewidth": 0,
            "ticks": ""
           }
          },
          "colorscale": {
           "diverging": [
            [
             0,
             "#8e0152"
            ],
            [
             0.1,
             "#c51b7d"
            ],
            [
             0.2,
             "#de77ae"
            ],
            [
             0.3,
             "#f1b6da"
            ],
            [
             0.4,
             "#fde0ef"
            ],
            [
             0.5,
             "#f7f7f7"
            ],
            [
             0.6,
             "#e6f5d0"
            ],
            [
             0.7,
             "#b8e186"
            ],
            [
             0.8,
             "#7fbc41"
            ],
            [
             0.9,
             "#4d9221"
            ],
            [
             1,
             "#276419"
            ]
           ],
           "sequential": [
            [
             0,
             "#0d0887"
            ],
            [
             0.1111111111111111,
             "#46039f"
            ],
            [
             0.2222222222222222,
             "#7201a8"
            ],
            [
             0.3333333333333333,
             "#9c179e"
            ],
            [
             0.4444444444444444,
             "#bd3786"
            ],
            [
             0.5555555555555556,
             "#d8576b"
            ],
            [
             0.6666666666666666,
             "#ed7953"
            ],
            [
             0.7777777777777778,
             "#fb9f3a"
            ],
            [
             0.8888888888888888,
             "#fdca26"
            ],
            [
             1,
             "#f0f921"
            ]
           ],
           "sequentialminus": [
            [
             0,
             "#0d0887"
            ],
            [
             0.1111111111111111,
             "#46039f"
            ],
            [
             0.2222222222222222,
             "#7201a8"
            ],
            [
             0.3333333333333333,
             "#9c179e"
            ],
            [
             0.4444444444444444,
             "#bd3786"
            ],
            [
             0.5555555555555556,
             "#d8576b"
            ],
            [
             0.6666666666666666,
             "#ed7953"
            ],
            [
             0.7777777777777778,
             "#fb9f3a"
            ],
            [
             0.8888888888888888,
             "#fdca26"
            ],
            [
             1,
             "#f0f921"
            ]
           ]
          },
          "colorway": [
           "#636efa",
           "#EF553B",
           "#00cc96",
           "#ab63fa",
           "#FFA15A",
           "#19d3f3",
           "#FF6692",
           "#B6E880",
           "#FF97FF",
           "#FECB52"
          ],
          "font": {
           "color": "#2a3f5f"
          },
          "geo": {
           "bgcolor": "white",
           "lakecolor": "white",
           "landcolor": "#E5ECF6",
           "showlakes": true,
           "showland": true,
           "subunitcolor": "white"
          },
          "hoverlabel": {
           "align": "left"
          },
          "hovermode": "closest",
          "mapbox": {
           "style": "light"
          },
          "paper_bgcolor": "white",
          "plot_bgcolor": "#E5ECF6",
          "polar": {
           "angularaxis": {
            "gridcolor": "white",
            "linecolor": "white",
            "ticks": ""
           },
           "bgcolor": "#E5ECF6",
           "radialaxis": {
            "gridcolor": "white",
            "linecolor": "white",
            "ticks": ""
           }
          },
          "scene": {
           "xaxis": {
            "backgroundcolor": "#E5ECF6",
            "gridcolor": "white",
            "gridwidth": 2,
            "linecolor": "white",
            "showbackground": true,
            "ticks": "",
            "zerolinecolor": "white"
           },
           "yaxis": {
            "backgroundcolor": "#E5ECF6",
            "gridcolor": "white",
            "gridwidth": 2,
            "linecolor": "white",
            "showbackground": true,
            "ticks": "",
            "zerolinecolor": "white"
           },
           "zaxis": {
            "backgroundcolor": "#E5ECF6",
            "gridcolor": "white",
            "gridwidth": 2,
            "linecolor": "white",
            "showbackground": true,
            "ticks": "",
            "zerolinecolor": "white"
           }
          },
          "shapedefaults": {
           "line": {
            "color": "#2a3f5f"
           }
          },
          "ternary": {
           "aaxis": {
            "gridcolor": "white",
            "linecolor": "white",
            "ticks": ""
           },
           "baxis": {
            "gridcolor": "white",
            "linecolor": "white",
            "ticks": ""
           },
           "bgcolor": "#E5ECF6",
           "caxis": {
            "gridcolor": "white",
            "linecolor": "white",
            "ticks": ""
           }
          },
          "title": {
           "x": 0.05
          },
          "xaxis": {
           "automargin": true,
           "gridcolor": "white",
           "linecolor": "white",
           "ticks": "",
           "title": {
            "standoff": 15
           },
           "zerolinecolor": "white",
           "zerolinewidth": 2
          },
          "yaxis": {
           "automargin": true,
           "gridcolor": "white",
           "linecolor": "white",
           "ticks": "",
           "title": {
            "standoff": 15
           },
           "zerolinecolor": "white",
           "zerolinewidth": 2
          }
         }
        },
        "title": {
         "text": "Slice Plot"
        },
        "width": 2400,
        "xaxis": {
         "anchor": "y",
         "domain": [
          0,
          0.103125
         ],
         "title": {
          "text": "colsample_bytree"
         }
        },
        "xaxis2": {
         "anchor": "y2",
         "domain": [
          0.128125,
          0.23124999999999998
         ],
         "title": {
          "text": "gamma"
         },
         "type": "log"
        },
        "xaxis3": {
         "anchor": "y3",
         "domain": [
          0.25625,
          0.359375
         ],
         "title": {
          "text": "learning_rate"
         }
        },
        "xaxis4": {
         "anchor": "y4",
         "domain": [
          0.38437499999999997,
          0.48749999999999993
         ],
         "title": {
          "text": "min_child_weight"
         }
        },
        "xaxis5": {
         "anchor": "y5",
         "domain": [
          0.5125,
          0.615625
         ],
         "title": {
          "text": "n_estimators"
         }
        },
        "xaxis6": {
         "anchor": "y6",
         "domain": [
          0.640625,
          0.74375
         ],
         "title": {
          "text": "reg_alpha"
         },
         "type": "log"
        },
        "xaxis7": {
         "anchor": "y7",
         "domain": [
          0.76875,
          0.8718750000000001
         ],
         "title": {
          "text": "reg_lambda"
         },
         "type": "log"
        },
        "xaxis8": {
         "anchor": "y8",
         "domain": [
          0.8968750000000001,
          1
         ],
         "title": {
          "text": "subsample"
         }
        },
        "yaxis": {
         "anchor": "x",
         "domain": [
          0,
          1
         ],
         "title": {
          "text": "Objective Value"
         }
        },
        "yaxis2": {
         "anchor": "x2",
         "domain": [
          0,
          1
         ],
         "matches": "y",
         "showticklabels": false
        },
        "yaxis3": {
         "anchor": "x3",
         "domain": [
          0,
          1
         ],
         "matches": "y",
         "showticklabels": false
        },
        "yaxis4": {
         "anchor": "x4",
         "domain": [
          0,
          1
         ],
         "matches": "y",
         "showticklabels": false
        },
        "yaxis5": {
         "anchor": "x5",
         "domain": [
          0,
          1
         ],
         "matches": "y",
         "showticklabels": false
        },
        "yaxis6": {
         "anchor": "x6",
         "domain": [
          0,
          1
         ],
         "matches": "y",
         "showticklabels": false
        },
        "yaxis7": {
         "anchor": "x7",
         "domain": [
          0,
          1
         ],
         "matches": "y",
         "showticklabels": false
        },
        "yaxis8": {
         "anchor": "x8",
         "domain": [
          0,
          1
         ],
         "matches": "y",
         "showticklabels": false
        }
       }
      }
     },
     "metadata": {},
     "output_type": "display_data"
    }
   ],
   "source": [
    "def make_optuna_visualizations(study: optuna.Study): \n",
    "\n",
    "    fig = optuna.visualization.plot_optimization_history(study)\n",
    "    fig.show()\n",
    "\n",
    "    fig = optuna.visualization.plot_param_importances(study)\n",
    "    fig.show()\n",
    "\n",
    "    fig = optuna.visualization.plot_slice(study)\n",
    "    fig.show()\n",
    "\n",
    "make_optuna_visualizations(xgb_study)"
   ]
  },
  {
   "cell_type": "code",
   "execution_count": 19,
   "metadata": {},
   "outputs": [],
   "source": [
    "xgb_tuned = xgb_oscv.best_estimator_"
   ]
  },
  {
   "cell_type": "markdown",
   "metadata": {},
   "source": [
    "#### Optuna-Tuned XGB Model"
   ]
  },
  {
   "cell_type": "code",
   "execution_count": 20,
   "metadata": {},
   "outputs": [
    {
     "name": "stdout",
     "output_type": "stream",
     "text": [
      "Train R2: 0.946409\n",
      "Test R2: 0.89225\n"
     ]
    }
   ],
   "source": [
    "model = xgb_tuned\n",
    "\n",
    "train_r2 = f.evaluate_model(model, metric = 'r2', **train_data)\n",
    "test_r2 = f.evaluate_model(model, metric = 'r2', **test_data)\n",
    "\n",
    "xgb_results_record['Train R2 Score'].append(train_r2)\n",
    "xgb_results_record['Test R2 Score'].append(test_r2)\n",
    "\n",
    "print('Train R2:', train_r2)\n",
    "print('Test R2:', test_r2)"
   ]
  },
  {
   "cell_type": "markdown",
   "metadata": {},
   "source": [
    "### Parameter Adjustments - Based on importance plot"
   ]
  },
  {
   "cell_type": "code",
   "execution_count": 57,
   "metadata": {},
   "outputs": [
    {
     "name": "stdout",
     "output_type": "stream",
     "text": [
      "0.427923\n",
      "0.409139\n"
     ]
    }
   ],
   "source": [
    "# test_params = xgb_oscv.best_params_\n",
    "# test_params['learning_rate'] = 0.01\n",
    "# test_params['max_depth'] = 3\n",
    "test_m = xgb_optuna_base.fit(**train_data)\n",
    "print(f.evaluate_model(test_m, metric = 'r2', **train_data))\n",
    "print(f.evaluate_model(test_m, metric = 'r2', **test_data))"
   ]
  },
  {
   "cell_type": "markdown",
   "metadata": {},
   "source": [
    "### RandomForest Model Tuning\n",
    "\n",
    "As mentioned, since the RandomForest hyperparameters are tree-based, we can tune them all with a single study. The parameters we will be tuning are the following: `max_depth`, `max_features`, `n_estimators`, `bootstrap`, `min_samples_leaf` and `min_samples_split`."
   ]
  },
  {
   "cell_type": "code",
   "execution_count": 21,
   "metadata": {},
   "outputs": [
    {
     "name": "stdout",
     "output_type": "stream",
     "text": [
      "Train R2: 0.98325\n",
      "Test R2: 0.883622\n"
     ]
    }
   ],
   "source": [
    "model = rf_optuna_base.fit(**train_data)\n",
    "\n",
    "train_r2 = f.evaluate_model(model, metric = 'r2', **train_data)\n",
    "test_r2 = f.evaluate_model(model, metric = 'r2', **test_data)\n",
    "\n",
    "xgb_results_record['Train R2 Score'].append(train_r2)\n",
    "xgb_results_record['Test R2 Score'].append(test_r2)\n",
    "\n",
    "print('Train R2:', train_r2)\n",
    "print('Test R2:', test_r2)"
   ]
  },
  {
   "cell_type": "code",
   "execution_count": 22,
   "metadata": {},
   "outputs": [
    {
     "name": "stderr",
     "output_type": "stream",
     "text": [
      "\u001b[32m[I 2022-04-07 15:54:58,463]\u001b[0m A new study created in memory with name: RF_HyperParam_CV\u001b[0m\n",
      "/var/folders/2f/cwgmhyzx4fn5cwp5j_dpmsd00000gn/T/ipykernel_67318/548707989.py:12: ExperimentalWarning:\n",
      "\n",
      "OptunaSearchCV is experimental (supported from v0.17.0). The interface can change in the future.\n",
      "\n",
      "\u001b[32m[I 2022-04-07 15:54:58,469]\u001b[0m Searching the best hyperparameters using 5083 samples...\u001b[0m\n",
      "\u001b[32m[I 2022-04-07 15:55:29,489]\u001b[0m Trial 6 finished with value: 0.13681908824762234 and parameters: {'max_depth': 8, 'max_features': 'log2', 'n_estimators': 276, 'bootstrap': False, 'min_samples_leaf': 0.44375912202875684, 'min_samples_split': 0.024750205717561924}. Best is trial 6 with value: 0.13681908824762234.\u001b[0m\n",
      "\u001b[32m[I 2022-04-07 15:55:35,066]\u001b[0m Trial 5 finished with value: 0.16194840218469625 and parameters: {'max_depth': 15, 'max_features': 'sqrt', 'n_estimators': 346, 'bootstrap': True, 'min_samples_leaf': 0.2626674826548199, 'min_samples_split': 0.4067807161915308}. Best is trial 5 with value: 0.16194840218469625.\u001b[0m\n",
      "\u001b[32m[I 2022-04-07 15:55:48,991]\u001b[0m Trial 4 finished with value: 0.6137062265008765 and parameters: {'max_depth': 15, 'max_features': 'auto', 'n_estimators': 598, 'bootstrap': True, 'min_samples_leaf': 0.060166070898208635, 'min_samples_split': 0.040124401852104696}. Best is trial 4 with value: 0.6137062265008765.\u001b[0m\n",
      "\u001b[32m[I 2022-04-07 15:55:49,399]\u001b[0m Trial 0 finished with value: 0.18690593873684422 and parameters: {'max_depth': 11, 'max_features': 'log2', 'n_estimators': 694, 'bootstrap': True, 'min_samples_leaf': 0.17204775510112613, 'min_samples_split': 0.3697025525816216}. Best is trial 4 with value: 0.6137062265008765.\u001b[0m\n",
      "\u001b[32m[I 2022-04-07 15:55:51,032]\u001b[0m Trial 3 finished with value: -0.0013301517740015312 and parameters: {'max_depth': 8, 'max_features': 'sqrt', 'n_estimators': 803, 'bootstrap': True, 'min_samples_leaf': 0.4279713144036647, 'min_samples_split': 0.4459173739887941}. Best is trial 4 with value: 0.6137062265008765.\u001b[0m\n",
      "\u001b[32m[I 2022-04-07 15:55:51,278]\u001b[0m Trial 2 finished with value: 0.2338431710328644 and parameters: {'max_depth': 15, 'max_features': 'sqrt', 'n_estimators': 792, 'bootstrap': False, 'min_samples_leaf': 0.26802740222814764, 'min_samples_split': 0.087271842469209}. Best is trial 4 with value: 0.6137062265008765.\u001b[0m\n",
      "\u001b[32m[I 2022-04-07 15:55:58,015]\u001b[0m Trial 7 finished with value: 0.4710324668464513 and parameters: {'max_depth': 15, 'max_features': 'sqrt', 'n_estimators': 841, 'bootstrap': True, 'min_samples_leaf': 0.07159992852737507, 'min_samples_split': 0.020910169320308647}. Best is trial 4 with value: 0.6137062265008765.\u001b[0m\n",
      "\u001b[32m[I 2022-04-07 15:56:00,401]\u001b[0m Trial 1 finished with value: 0.7522673268920743 and parameters: {'max_depth': 15, 'max_features': 'auto', 'n_estimators': 639, 'bootstrap': True, 'min_samples_leaf': 0.017181695448103884, 'min_samples_split': 0.05319322831321632}. Best is trial 1 with value: 0.7522673268920743.\u001b[0m\n",
      "\u001b[32m[I 2022-04-07 15:56:22,457]\u001b[0m Trial 9 finished with value: -0.0013407015385649812 and parameters: {'max_depth': 14, 'max_features': 'log2', 'n_estimators': 614, 'bootstrap': True, 'min_samples_leaf': 0.3976637495685989, 'min_samples_split': 0.4538646050009887}. Best is trial 1 with value: 0.7522673268920743.\u001b[0m\n",
      "\u001b[32m[I 2022-04-07 15:56:25,728]\u001b[0m Trial 10 finished with value: 0.18549388628374747 and parameters: {'max_depth': 13, 'max_features': 'log2', 'n_estimators': 427, 'bootstrap': True, 'min_samples_leaf': 0.18258081993715308, 'min_samples_split': 0.3242418736432747}. Best is trial 1 with value: 0.7522673268920743.\u001b[0m\n",
      "\u001b[32m[I 2022-04-07 15:56:26,106]\u001b[0m Trial 8 finished with value: 0.2792255974921575 and parameters: {'max_depth': 12, 'max_features': 'auto', 'n_estimators': 849, 'bootstrap': True, 'min_samples_leaf': 0.3046005167827022, 'min_samples_split': 0.33963235819013593}. Best is trial 1 with value: 0.7522673268920743.\u001b[0m\n",
      "\u001b[32m[I 2022-04-07 15:56:33,902]\u001b[0m Trial 15 finished with value: 0.15647704144636831 and parameters: {'max_depth': 13, 'max_features': 'sqrt', 'n_estimators': 421, 'bootstrap': True, 'min_samples_leaf': 0.3022718919097856, 'min_samples_split': 0.0020894146502621336}. Best is trial 1 with value: 0.7522673268920743.\u001b[0m\n",
      "\u001b[32m[I 2022-04-07 15:56:35,592]\u001b[0m Trial 11 finished with value: 0.14621986898935171 and parameters: {'max_depth': 15, 'max_features': 'log2', 'n_estimators': 689, 'bootstrap': True, 'min_samples_leaf': 0.2323636786536133, 'min_samples_split': 0.3417587276713087}. Best is trial 1 with value: 0.7522673268920743.\u001b[0m\n",
      "\u001b[32m[I 2022-04-07 15:56:37,012]\u001b[0m Trial 17 finished with value: 0.6594943271582097 and parameters: {'max_depth': 12, 'max_features': 'auto', 'n_estimators': 57, 'bootstrap': False, 'min_samples_leaf': 0.0032442887990777637, 'min_samples_split': 0.18045506467092345}. Best is trial 1 with value: 0.7522673268920743.\u001b[0m\n",
      "\u001b[32m[I 2022-04-07 15:56:42,872]\u001b[0m Trial 18 finished with value: 0.6901633680981666 and parameters: {'max_depth': 6, 'max_features': 'auto', 'n_estimators': 85, 'bootstrap': False, 'min_samples_leaf': 0.005317078552072314, 'min_samples_split': 0.15412880343991264}. Best is trial 1 with value: 0.7522673268920743.\u001b[0m\n",
      "\u001b[32m[I 2022-04-07 15:56:46,326]\u001b[0m Trial 12 finished with value: 0.287850853481464 and parameters: {'max_depth': 7, 'max_features': 'auto', 'n_estimators': 718, 'bootstrap': True, 'min_samples_leaf': 0.007828599701337258, 'min_samples_split': 0.42053287606133033}. Best is trial 1 with value: 0.7522673268920743.\u001b[0m\n",
      "\u001b[32m[I 2022-04-07 15:56:47,546]\u001b[0m Trial 19 finished with value: 0.6835395710052412 and parameters: {'max_depth': 6, 'max_features': 'auto', 'n_estimators': 72, 'bootstrap': False, 'min_samples_leaf': 0.005206342139455564, 'min_samples_split': 0.16452798960631426}. Best is trial 1 with value: 0.7522673268920743.\u001b[0m\n",
      "\u001b[32m[I 2022-04-07 15:56:49,493]\u001b[0m Trial 14 finished with value: 0.17957788238346523 and parameters: {'max_depth': 12, 'max_features': 'log2', 'n_estimators': 847, 'bootstrap': True, 'min_samples_leaf': 0.1980287142352667, 'min_samples_split': 0.27649164468138676}. Best is trial 1 with value: 0.7522673268920743.\u001b[0m\n",
      "\u001b[32m[I 2022-04-07 15:56:50,257]\u001b[0m Trial 13 finished with value: 0.5432540668498562 and parameters: {'max_depth': 14, 'max_features': 'auto', 'n_estimators': 803, 'bootstrap': False, 'min_samples_leaf': 0.1715067822175001, 'min_samples_split': 0.13663128704892447}. Best is trial 1 with value: 0.7522673268920743.\u001b[0m\n",
      "\u001b[32m[I 2022-04-07 15:56:52,652]\u001b[0m Trial 21 finished with value: 0.6828614593522937 and parameters: {'max_depth': 10, 'max_features': 'auto', 'n_estimators': 73, 'bootstrap': False, 'min_samples_leaf': 6.004929382387447e-05, 'min_samples_split': 0.1664771791699784}. Best is trial 1 with value: 0.7522673268920743.\u001b[0m\n",
      "\u001b[32m[I 2022-04-07 15:57:26,349]\u001b[0m Trial 24 finished with value: 0.5607584265811723 and parameters: {'max_depth': 9, 'max_features': 'auto', 'n_estimators': 168, 'bootstrap': False, 'min_samples_leaf': 0.1085332207694239, 'min_samples_split': 0.13486286980911943}. Best is trial 1 with value: 0.7522673268920743.\u001b[0m\n",
      "\u001b[32m[I 2022-04-07 15:57:35,324]\u001b[0m Trial 16 finished with value: -0.0013486097333834878 and parameters: {'max_depth': 15, 'max_features': 'sqrt', 'n_estimators': 576, 'bootstrap': True, 'min_samples_leaf': 0.4122873854534638, 'min_samples_split': 0.46039404261432}. Best is trial 1 with value: 0.7522673268920743.\u001b[0m\n",
      "\u001b[32m[I 2022-04-07 15:58:09,062]\u001b[0m Trial 29 finished with value: 0.5576325343064336 and parameters: {'max_depth': 6, 'max_features': 'auto', 'n_estimators': 179, 'bootstrap': False, 'min_samples_leaf': 0.10647488629100677, 'min_samples_split': 0.22614730632119823}. Best is trial 1 with value: 0.7522673268920743.\u001b[0m\n",
      "\u001b[32m[I 2022-04-07 15:58:37,415]\u001b[0m Trial 20 finished with value: 0.6886971884126672 and parameters: {'max_depth': 10, 'max_features': 'auto', 'n_estimators': 980, 'bootstrap': False, 'min_samples_leaf': 0.0045777097400891646, 'min_samples_split': 0.1554223126233168}. Best is trial 1 with value: 0.7522673268920743.\u001b[0m\n",
      "\u001b[32m[I 2022-04-07 15:58:51,061]\u001b[0m Trial 30 finished with value: 0.653480348098505 and parameters: {'max_depth': 6, 'max_features': 'auto', 'n_estimators': 195, 'bootstrap': False, 'min_samples_leaf': 0.055550950137549904, 'min_samples_split': 0.07017856517045246}. Best is trial 1 with value: 0.7522673268920743.\u001b[0m\n",
      "\u001b[32m[I 2022-04-07 15:58:57,889]\u001b[0m Trial 23 finished with value: 0.5663139578781541 and parameters: {'max_depth': 9, 'max_features': 'auto', 'n_estimators': 974, 'bootstrap': False, 'min_samples_leaf': 0.10077194254718519, 'min_samples_split': 0.15948193158340596}. Best is trial 1 with value: 0.7522673268920743.\u001b[0m\n",
      "\u001b[32m[I 2022-04-07 15:59:04,506]\u001b[0m Trial 22 finished with value: 0.5605276126268232 and parameters: {'max_depth': 6, 'max_features': 'auto', 'n_estimators': 992, 'bootstrap': False, 'min_samples_leaf': 0.11090926161781776, 'min_samples_split': 0.16585350093867957}. Best is trial 1 with value: 0.7522673268920743.\u001b[0m\n",
      "\u001b[32m[I 2022-04-07 15:59:10,332]\u001b[0m Trial 27 finished with value: 0.5576325343064334 and parameters: {'max_depth': 9, 'max_features': 'auto', 'n_estimators': 987, 'bootstrap': False, 'min_samples_leaf': 0.11098907197121083, 'min_samples_split': 0.2333284784403594}. Best is trial 1 with value: 0.7522673268920743.\u001b[0m\n",
      "/opt/anaconda3/envs/data_analytics/lib/python3.9/site-packages/joblib/externals/loky/process_executor.py:702: UserWarning:\n",
      "\n",
      "A worker stopped while some jobs were given to the executor. This can be caused by a too short worker timeout or by a memory leak.\n",
      "\n",
      "\u001b[32m[I 2022-04-07 16:14:49,124]\u001b[0m Trial 25 finished with value: 0.6126688229076873 and parameters: {'max_depth': 9, 'max_features': 'auto', 'n_estimators': 958, 'bootstrap': False, 'min_samples_leaf': 0.07856533982776015, 'min_samples_split': 0.14745577187551326}. Best is trial 1 with value: 0.7522673268920743.\u001b[0m\n",
      "\u001b[32m[I 2022-04-07 16:18:19,665]\u001b[0m Trial 26 finished with value: 0.5628379118774742 and parameters: {'max_depth': 9, 'max_features': 'auto', 'n_estimators': 988, 'bootstrap': False, 'min_samples_leaf': 0.06835727335601133, 'min_samples_split': 0.22132289689644002}. Best is trial 1 with value: 0.7522673268920743.\u001b[0m\n",
      "\u001b[32m[I 2022-04-07 16:18:27,266]\u001b[0m Trial 28 finished with value: 0.5630941315908998 and parameters: {'max_depth': 6, 'max_features': 'auto', 'n_estimators': 961, 'bootstrap': False, 'min_samples_leaf': 0.10270129116797054, 'min_samples_split': 0.2086217051231689}. Best is trial 1 with value: 0.7522673268920743.\u001b[0m\n",
      "/opt/anaconda3/envs/data_analytics/lib/python3.9/site-packages/joblib/externals/loky/process_executor.py:702: UserWarning:\n",
      "\n",
      "A worker stopped while some jobs were given to the executor. This can be caused by a too short worker timeout or by a memory leak.\n",
      "\n",
      "\u001b[32m[I 2022-04-07 16:53:41,105]\u001b[0m Trial 34 finished with value: 0.6860724919210556 and parameters: {'max_depth': 10, 'max_features': 'auto', 'n_estimators': 468, 'bootstrap': False, 'min_samples_leaf': 0.04322886757262399, 'min_samples_split': 0.09432932844004034}. Best is trial 1 with value: 0.7522673268920743.\u001b[0m\n",
      "/opt/anaconda3/envs/data_analytics/lib/python3.9/site-packages/joblib/externals/loky/process_executor.py:702: UserWarning:\n",
      "\n",
      "A worker stopped while some jobs were given to the executor. This can be caused by a too short worker timeout or by a memory leak.\n",
      "\n",
      "\u001b[32m[I 2022-04-07 17:23:46,791]\u001b[0m Trial 35 finished with value: 0.6870054511467084 and parameters: {'max_depth': 10, 'max_features': 'auto', 'n_estimators': 461, 'bootstrap': False, 'min_samples_leaf': 0.04325321770300016, 'min_samples_split': 0.08367765936714318}. Best is trial 1 with value: 0.7522673268920743.\u001b[0m\n",
      "\u001b[32m[I 2022-04-07 17:23:51,212]\u001b[0m Trial 37 finished with value: 0.5553386540957125 and parameters: {'max_depth': 11, 'max_features': 'auto', 'n_estimators': 493, 'bootstrap': False, 'min_samples_leaf': 0.14962469339046258, 'min_samples_split': 0.1047947497158731}. Best is trial 1 with value: 0.7522673268920743.\u001b[0m\n",
      "\u001b[32m[I 2022-04-07 17:23:58,259]\u001b[0m Trial 36 finished with value: 0.6950688655989212 and parameters: {'max_depth': 11, 'max_features': 'auto', 'n_estimators': 496, 'bootstrap': False, 'min_samples_leaf': 0.03786811593983498, 'min_samples_split': 0.09704327774351959}. Best is trial 1 with value: 0.7522673268920743.\u001b[0m\n",
      "\u001b[32m[I 2022-04-07 17:23:59,931]\u001b[0m Trial 38 finished with value: 0.6949326892297025 and parameters: {'max_depth': 7, 'max_features': 'auto', 'n_estimators': 474, 'bootstrap': False, 'min_samples_leaf': 0.037371513273540616, 'min_samples_split': 0.10426730923165675}. Best is trial 1 with value: 0.7522673268920743.\u001b[0m\n",
      "\u001b[32m[I 2022-04-07 17:24:13,859]\u001b[0m Trial 31 finished with value: 0.6379948785980425 and parameters: {'max_depth': 10, 'max_features': 'auto', 'n_estimators': 948, 'bootstrap': False, 'min_samples_leaf': 0.06399569867449537, 'min_samples_split': 0.09959180999644991}. Best is trial 1 with value: 0.7522673268920743.\u001b[0m\n",
      "\u001b[32m[I 2022-04-07 17:24:19,235]\u001b[0m Trial 39 finished with value: 0.6950930233655775 and parameters: {'max_depth': 11, 'max_features': 'auto', 'n_estimators': 368, 'bootstrap': False, 'min_samples_leaf': 0.03547557360371261, 'min_samples_split': 0.10128154791235527}. Best is trial 1 with value: 0.7522673268920743.\u001b[0m\n",
      "\u001b[32m[I 2022-04-07 17:24:20,039]\u001b[0m Trial 32 finished with value: 0.5570053871047312 and parameters: {'max_depth': 10, 'max_features': 'auto', 'n_estimators': 981, 'bootstrap': False, 'min_samples_leaf': 0.12425747190429548, 'min_samples_split': 0.22767659782510877}. Best is trial 1 with value: 0.7522673268920743.\u001b[0m\n",
      "\u001b[32m[I 2022-04-07 17:24:28,077]\u001b[0m Trial 33 finished with value: 0.6858518839261715 and parameters: {'max_depth': 10, 'max_features': 'auto', 'n_estimators': 991, 'bootstrap': False, 'min_samples_leaf': 0.04398031250875409, 'min_samples_split': 0.09729111588914323}. Best is trial 1 with value: 0.7522673268920743.\u001b[0m\n",
      "\u001b[32m[I 2022-04-07 17:24:29,251]\u001b[0m Trial 40 finished with value: 0.5553386540957129 and parameters: {'max_depth': 11, 'max_features': 'auto', 'n_estimators': 332, 'bootstrap': False, 'min_samples_leaf': 0.14794936868648365, 'min_samples_split': 0.0972479056104926}. Best is trial 1 with value: 0.7522673268920743.\u001b[0m\n",
      "\u001b[32m[I 2022-04-07 17:24:36,431]\u001b[0m Trial 42 finished with value: 0.7172600934728091 and parameters: {'max_depth': 11, 'max_features': 'auto', 'n_estimators': 331, 'bootstrap': False, 'min_samples_leaf': 0.03417546641294051, 'min_samples_split': 0.05005419458274468}. Best is trial 1 with value: 0.7522673268920743.\u001b[0m\n",
      "\u001b[32m[I 2022-04-07 17:24:40,825]\u001b[0m Trial 43 finished with value: 0.5553386540957129 and parameters: {'max_depth': 7, 'max_features': 'auto', 'n_estimators': 365, 'bootstrap': False, 'min_samples_leaf': 0.1475667855468104, 'min_samples_split': 0.04812619323545231}. Best is trial 1 with value: 0.7522673268920743.\u001b[0m\n",
      "\u001b[32m[I 2022-04-07 17:24:42,428]\u001b[0m Trial 44 finished with value: 0.15767743222805325 and parameters: {'max_depth': 7, 'max_features': 'sqrt', 'n_estimators': 333, 'bootstrap': False, 'min_samples_leaf': 0.48294385463081, 'min_samples_split': 0.05918815099724162}. Best is trial 1 with value: 0.7522673268920743.\u001b[0m\n",
      "\u001b[32m[I 2022-04-07 17:24:48,568]\u001b[0m Trial 46 finished with value: -0.00135714017519184 and parameters: {'max_depth': 11, 'max_features': 'sqrt', 'n_estimators': 336, 'bootstrap': True, 'min_samples_leaf': 0.4990962083837638, 'min_samples_split': 0.053841763962607085}. Best is trial 1 with value: 0.7522673268920743.\u001b[0m\n",
      "\u001b[32m[I 2022-04-07 17:24:49,792]\u001b[0m Trial 45 finished with value: 0.6214135905320622 and parameters: {'max_depth': 11, 'max_features': 'sqrt', 'n_estimators': 340, 'bootstrap': True, 'min_samples_leaf': 0.028679753699777842, 'min_samples_split': 0.0533726464128737}. Best is trial 1 with value: 0.7522673268920743.\u001b[0m\n",
      "\u001b[32m[I 2022-04-07 17:24:50,445]\u001b[0m Trial 41 finished with value: 0.718676985422443 and parameters: {'max_depth': 11, 'max_features': 'auto', 'n_estimators': 699, 'bootstrap': False, 'min_samples_leaf': 0.03286579573536778, 'min_samples_split': 0.0716610339833938}. Best is trial 1 with value: 0.7522673268920743.\u001b[0m\n",
      "\u001b[32m[I 2022-04-07 17:24:52,977]\u001b[0m Trial 47 finished with value: 0.33851622267835724 and parameters: {'max_depth': 8, 'max_features': 'sqrt', 'n_estimators': 319, 'bootstrap': True, 'min_samples_leaf': 0.14291853327852216, 'min_samples_split': 0.045847610792703115}. Best is trial 1 with value: 0.7522673268920743.\u001b[0m\n",
      "\u001b[32m[I 2022-04-07 17:25:00,640]\u001b[0m Trial 48 finished with value: 0.626955353821885 and parameters: {'max_depth': 7, 'max_features': 'sqrt', 'n_estimators': 523, 'bootstrap': True, 'min_samples_leaf': 0.025219442330883197, 'min_samples_split': 0.05993785220989492}. Best is trial 1 with value: 0.7522673268920743.\u001b[0m\n",
      "\u001b[32m[I 2022-04-07 17:25:04,411]\u001b[0m Trial 49 finished with value: 0.610164278961931 and parameters: {'max_depth': 13, 'max_features': 'sqrt', 'n_estimators': 374, 'bootstrap': True, 'min_samples_leaf': 0.03141020838120578, 'min_samples_split': 0.05603023656230216}. Best is trial 1 with value: 0.7522673268920743.\u001b[0m\n",
      "\u001b[32m[I 2022-04-07 17:25:10,640]\u001b[0m Trial 50 finished with value: 0.6087245962772553 and parameters: {'max_depth': 12, 'max_features': 'sqrt', 'n_estimators': 564, 'bootstrap': True, 'min_samples_leaf': 0.031437222194043976, 'min_samples_split': 0.047486433525552714}. Best is trial 1 with value: 0.7522673268920743.\u001b[0m\n",
      "\u001b[32m[I 2022-04-07 17:25:13,279]\u001b[0m Trial 51 finished with value: 0.5499946982775368 and parameters: {'max_depth': 12, 'max_features': 'log2', 'n_estimators': 535, 'bootstrap': True, 'min_samples_leaf': 0.038112492289653147, 'min_samples_split': 0.006494079157155913}. Best is trial 1 with value: 0.7522673268920743.\u001b[0m\n",
      "\u001b[32m[I 2022-04-07 17:25:18,302]\u001b[0m Trial 52 finished with value: 0.5877982918861344 and parameters: {'max_depth': 13, 'max_features': 'log2', 'n_estimators': 554, 'bootstrap': True, 'min_samples_leaf': 0.0289309172845661, 'min_samples_split': 0.02263143139044449}. Best is trial 1 with value: 0.7522673268920743.\u001b[0m\n",
      "\u001b[32m[I 2022-04-07 17:25:21,087]\u001b[0m Trial 53 finished with value: 0.37614939216238275 and parameters: {'max_depth': 13, 'max_features': 'log2', 'n_estimators': 551, 'bootstrap': True, 'min_samples_leaf': 0.08743200769444777, 'min_samples_split': 0.01448937103993924}. Best is trial 1 with value: 0.7522673268920743.\u001b[0m\n",
      "\u001b[32m[I 2022-04-07 17:25:23,749]\u001b[0m Trial 54 finished with value: 0.41047493143166697 and parameters: {'max_depth': 13, 'max_features': 'log2', 'n_estimators': 646, 'bootstrap': True, 'min_samples_leaf': 0.07570168393632407, 'min_samples_split': 0.02046644417488048}. Best is trial 1 with value: 0.7522673268920743.\u001b[0m\n",
      "\u001b[32m[I 2022-04-07 17:25:25,716]\u001b[0m Trial 55 finished with value: 0.3837824681178251 and parameters: {'max_depth': 12, 'max_features': 'log2', 'n_estimators': 674, 'bootstrap': True, 'min_samples_leaf': 0.08630659456875253, 'min_samples_split': 0.020053818296254057}. Best is trial 1 with value: 0.7522673268920743.\u001b[0m\n",
      "\u001b[32m[I 2022-04-07 17:25:40,467]\u001b[0m Trial 56 finished with value: 0.26015491839110383 and parameters: {'max_depth': 13, 'max_features': 'log2', 'n_estimators': 660, 'bootstrap': True, 'min_samples_leaf': 0.08481571903696392, 'min_samples_split': 0.49401176204352026}. Best is trial 1 with value: 0.7522673268920743.\u001b[0m\n",
      "\u001b[32m[I 2022-04-07 17:25:50,105]\u001b[0m Trial 57 finished with value: 0.3903963725964843 and parameters: {'max_depth': 12, 'max_features': 'log2', 'n_estimators': 655, 'bootstrap': False, 'min_samples_leaf': 0.08149446192599281, 'min_samples_split': 0.4956222876737432}. Best is trial 1 with value: 0.7522673268920743.\u001b[0m\n",
      "\u001b[32m[I 2022-04-07 17:25:52,417]\u001b[0m Trial 58 finished with value: 0.4775600380717894 and parameters: {'max_depth': 12, 'max_features': 'log2', 'n_estimators': 659, 'bootstrap': False, 'min_samples_leaf': 0.08568448723017447, 'min_samples_split': 0.11685386185330156}. Best is trial 1 with value: 0.7522673268920743.\u001b[0m\n",
      "\u001b[32m[I 2022-04-07 17:26:02,177]\u001b[0m Trial 59 finished with value: 0.6013310131344685 and parameters: {'max_depth': 14, 'max_features': 'auto', 'n_estimators': 629, 'bootstrap': False, 'min_samples_leaf': 0.08821481126719524, 'min_samples_split': 0.12681173013694896}. Best is trial 1 with value: 0.7522673268920743.\u001b[0m\n",
      "\u001b[32m[I 2022-04-07 17:26:12,723]\u001b[0m Trial 61 finished with value: 0.276776497910051 and parameters: {'max_depth': 14, 'max_features': 'auto', 'n_estimators': 644, 'bootstrap': False, 'min_samples_leaf': 0.33806362938022116, 'min_samples_split': 0.07832696072927248}. Best is trial 1 with value: 0.7522673268920743.\u001b[0m\n",
      "\u001b[32m[I 2022-04-07 17:26:14,825]\u001b[0m Trial 62 finished with value: 0.46710358843979316 and parameters: {'max_depth': 12, 'max_features': 'auto', 'n_estimators': 695, 'bootstrap': False, 'min_samples_leaf': 0.22568431128120486, 'min_samples_split': 0.11933063956378762}. Best is trial 1 with value: 0.7522673268920743.\u001b[0m\n",
      "\u001b[32m[I 2022-04-07 17:26:17,652]\u001b[0m Trial 60 finished with value: 0.5553386540957125 and parameters: {'max_depth': 14, 'max_features': 'auto', 'n_estimators': 703, 'bootstrap': False, 'min_samples_leaf': 0.07671519212646091, 'min_samples_split': 0.2805271714514166}. Best is trial 1 with value: 0.7522673268920743.\u001b[0m\n",
      "\u001b[32m[I 2022-04-07 17:26:24,759]\u001b[0m Trial 63 finished with value: 0.6491075677693376 and parameters: {'max_depth': 14, 'max_features': 'auto', 'n_estimators': 732, 'bootstrap': False, 'min_samples_leaf': 0.05696257412348597, 'min_samples_split': 0.12304058211455803}. Best is trial 1 with value: 0.7522673268920743.\u001b[0m\n",
      "\u001b[32m[I 2022-04-07 17:26:33,670]\u001b[0m Trial 64 finished with value: 0.2767764979100509 and parameters: {'max_depth': 14, 'max_features': 'auto', 'n_estimators': 716, 'bootstrap': False, 'min_samples_leaf': 0.35515351418361957, 'min_samples_split': 0.12162425872169742}. Best is trial 1 with value: 0.7522673268920743.\u001b[0m\n",
      "\u001b[32m[I 2022-04-07 17:26:33,943]\u001b[0m Trial 67 finished with value: 0.276776497910051 and parameters: {'max_depth': 11, 'max_features': 'auto', 'n_estimators': 275, 'bootstrap': False, 'min_samples_leaf': 0.37054363710979643, 'min_samples_split': 0.07932405054233624}. Best is trial 1 with value: 0.7522673268920743.\u001b[0m\n",
      "\u001b[32m[I 2022-04-07 17:26:51,949]\u001b[0m Trial 65 finished with value: 0.2767764979100509 and parameters: {'max_depth': 14, 'max_features': 'auto', 'n_estimators': 731, 'bootstrap': False, 'min_samples_leaf': 0.32650069200337056, 'min_samples_split': 0.11972996499657451}. Best is trial 1 with value: 0.7522673268920743.\u001b[0m\n",
      "\u001b[32m[I 2022-04-07 17:26:59,225]\u001b[0m Trial 66 finished with value: 0.2767764979100509 and parameters: {'max_depth': 14, 'max_features': 'auto', 'n_estimators': 745, 'bootstrap': False, 'min_samples_leaf': 0.30206546771552034, 'min_samples_split': 0.1283061389761307}. Best is trial 1 with value: 0.7522673268920743.\u001b[0m\n",
      "\u001b[32m[I 2022-04-07 17:26:59,491]\u001b[0m Trial 70 finished with value: 0.6475831284792585 and parameters: {'max_depth': 11, 'max_features': 'auto', 'n_estimators': 401, 'bootstrap': False, 'min_samples_leaf': 0.01919918807487357, 'min_samples_split': 0.18702519633671527}. Best is trial 1 with value: 0.7522673268920743.\u001b[0m\n",
      "\u001b[32m[I 2022-04-07 17:27:17,494]\u001b[0m Trial 76 finished with value: 0.690950530534683 and parameters: {'max_depth': 6, 'max_features': 'auto', 'n_estimators': 132, 'bootstrap': False, 'min_samples_leaf': 0.013787844333747919, 'min_samples_split': 0.14807004024513198}. Best is trial 1 with value: 0.7522673268920743.\u001b[0m\n",
      "\u001b[32m[I 2022-04-07 17:27:22,571]\u001b[0m Trial 68 finished with value: 0.5553386540957126 and parameters: {'max_depth': 11, 'max_features': 'auto', 'n_estimators': 740, 'bootstrap': False, 'min_samples_leaf': 0.017951051996786413, 'min_samples_split': 0.271048504090842}. Best is trial 1 with value: 0.7522673268920743.\u001b[0m\n",
      "\u001b[32m[I 2022-04-07 17:27:33,597]\u001b[0m Trial 72 finished with value: 0.6518340948531478 and parameters: {'max_depth': 11, 'max_features': 'auto', 'n_estimators': 406, 'bootstrap': False, 'min_samples_leaf': 0.015718411840206083, 'min_samples_split': 0.18443087305795236}. Best is trial 1 with value: 0.7522673268920743.\u001b[0m\n",
      "\u001b[32m[I 2022-04-07 17:27:45,184]\u001b[0m Trial 69 finished with value: 0.6606320414735215 and parameters: {'max_depth': 11, 'max_features': 'auto', 'n_estimators': 740, 'bootstrap': False, 'min_samples_leaf': 0.016890485459029853, 'min_samples_split': 0.18072033965204476}. Best is trial 1 with value: 0.7522673268920743.\u001b[0m\n",
      "\u001b[32m[I 2022-04-07 17:27:45,372]\u001b[0m Trial 74 finished with value: 0.6397795308981464 and parameters: {'max_depth': 8, 'max_features': 'auto', 'n_estimators': 413, 'bootstrap': False, 'min_samples_leaf': 0.010568832599334811, 'min_samples_split': 0.18943015212678233}. Best is trial 1 with value: 0.7522673268920743.\u001b[0m\n",
      "\u001b[32m[I 2022-04-07 17:27:46,410]\u001b[0m Trial 78 finished with value: 0.6915273976217292 and parameters: {'max_depth': 6, 'max_features': 'auto', 'n_estimators': 132, 'bootstrap': False, 'min_samples_leaf': 0.0016446774969754718, 'min_samples_split': 0.14686627443746647}. Best is trial 1 with value: 0.7522673268920743.\u001b[0m\n",
      "\u001b[32m[I 2022-04-07 17:27:49,094]\u001b[0m Trial 73 finished with value: 0.6571542601731999 and parameters: {'max_depth': 8, 'max_features': 'auto', 'n_estimators': 593, 'bootstrap': False, 'min_samples_leaf': 0.01912196526879015, 'min_samples_split': 0.18225431762821678}. Best is trial 1 with value: 0.7522673268920743.\u001b[0m\n",
      "\u001b[32m[I 2022-04-07 17:27:54,494]\u001b[0m Trial 79 finished with value: 0.6637349147469912 and parameters: {'max_depth': 6, 'max_features': 'auto', 'n_estimators': 123, 'bootstrap': False, 'min_samples_leaf': 0.0529311063316671, 'min_samples_split': 0.0707046899035839}. Best is trial 1 with value: 0.7522673268920743.\u001b[0m\n",
      "\u001b[32m[I 2022-04-07 17:27:54,840]\u001b[0m Trial 71 finished with value: 0.6655656046285479 and parameters: {'max_depth': 11, 'max_features': 'auto', 'n_estimators': 762, 'bootstrap': False, 'min_samples_leaf': 0.01586272671695469, 'min_samples_split': 0.17804577879899983}. Best is trial 1 with value: 0.7522673268920743.\u001b[0m\n",
      "\u001b[32m[I 2022-04-07 17:28:04,476]\u001b[0m Trial 81 finished with value: 0.6470613731700471 and parameters: {'max_depth': 6, 'max_features': 'auto', 'n_estimators': 124, 'bootstrap': False, 'min_samples_leaf': 0.05347981557353182, 'min_samples_split': 0.14392451909974016}. Best is trial 1 with value: 0.7522673268920743.\u001b[0m\n",
      "\u001b[32m[I 2022-04-07 17:28:04,837]\u001b[0m Trial 80 finished with value: 0.6538036704729315 and parameters: {'max_depth': 6, 'max_features': 'auto', 'n_estimators': 109, 'bootstrap': False, 'min_samples_leaf': 0.04968250959034489, 'min_samples_split': 0.1437763180082405}. Best is trial 1 with value: 0.7522673268920743.\u001b[0m\n",
      "\u001b[32m[I 2022-04-07 17:28:10,227]\u001b[0m Trial 82 finished with value: 0.6703632052004993 and parameters: {'max_depth': 6, 'max_features': 'auto', 'n_estimators': 130, 'bootstrap': False, 'min_samples_leaf': 0.05115364292912368, 'min_samples_split': 0.03515241311684893}. Best is trial 1 with value: 0.7522673268920743.\u001b[0m\n",
      "\u001b[32m[I 2022-04-07 17:28:12,057]\u001b[0m Trial 83 finished with value: 0.6702600565360733 and parameters: {'max_depth': 6, 'max_features': 'auto', 'n_estimators': 117, 'bootstrap': False, 'min_samples_leaf': 0.0509794484355153, 'min_samples_split': 0.0693300429977942}. Best is trial 1 with value: 0.7522673268920743.\u001b[0m\n",
      "\u001b[32m[I 2022-04-07 17:28:26,889]\u001b[0m Trial 75 finished with value: 0.6555326829452285 and parameters: {'max_depth': 8, 'max_features': 'auto', 'n_estimators': 602, 'bootstrap': False, 'min_samples_leaf': 0.013663338481224864, 'min_samples_split': 0.18322860701797639}. Best is trial 1 with value: 0.7522673268920743.\u001b[0m\n",
      "\u001b[32m[I 2022-04-07 17:28:42,698]\u001b[0m Trial 84 finished with value: 0.6551232583120037 and parameters: {'max_depth': 7, 'max_features': 'auto', 'n_estimators': 282, 'bootstrap': False, 'min_samples_leaf': 0.04746487662715819, 'min_samples_split': 0.14504935126298227}. Best is trial 1 with value: 0.7522673268920743.\u001b[0m\n",
      "\u001b[32m[I 2022-04-07 17:28:43,982]\u001b[0m Trial 86 finished with value: 0.7315875468222939 and parameters: {'max_depth': 7, 'max_features': 'auto', 'n_estimators': 237, 'bootstrap': False, 'min_samples_leaf': 0.0007316714043598474, 'min_samples_split': 0.10693613284787144}. Best is trial 1 with value: 0.7522673268920743.\u001b[0m\n",
      "\u001b[32m[I 2022-04-07 17:28:44,168]\u001b[0m Trial 85 finished with value: 0.7640901942143159 and parameters: {'max_depth': 7, 'max_features': 'auto', 'n_estimators': 287, 'bootstrap': False, 'min_samples_leaf': 6.46649730672022e-06, 'min_samples_split': 0.03233242906914374}. Best is trial 85 with value: 0.7640901942143159.\u001b[0m\n",
      "\u001b[32m[I 2022-04-07 17:28:48,623]\u001b[0m Trial 87 finished with value: 0.7611838901230149 and parameters: {'max_depth': 7, 'max_features': 'auto', 'n_estimators': 231, 'bootstrap': False, 'min_samples_leaf': 0.0004150670413262808, 'min_samples_split': 0.035738455922688636}. Best is trial 85 with value: 0.7640901942143159.\u001b[0m\n",
      "\u001b[32m[I 2022-04-07 17:28:55,150]\u001b[0m Trial 89 finished with value: 0.7295248504935363 and parameters: {'max_depth': 7, 'max_features': 'auto', 'n_estimators': 225, 'bootstrap': False, 'min_samples_leaf': 1.5233298646339126e-05, 'min_samples_split': 0.1094134991360989}. Best is trial 85 with value: 0.7640901942143159.\u001b[0m\n",
      "\u001b[32m[I 2022-04-07 17:28:57,866]\u001b[0m Trial 88 finished with value: 0.7318340831996496 and parameters: {'max_depth': 7, 'max_features': 'auto', 'n_estimators': 234, 'bootstrap': False, 'min_samples_leaf': 0.005921740535385399, 'min_samples_split': 0.1059818742109655}. Best is trial 85 with value: 0.7640901942143159.\u001b[0m\n",
      "\u001b[32m[I 2022-04-07 17:29:06,383]\u001b[0m Trial 77 finished with value: 0.7680289237637512 and parameters: {'max_depth': 8, 'max_features': 'auto', 'n_estimators': 590, 'bootstrap': False, 'min_samples_leaf': 0.012570158370508653, 'min_samples_split': 0.03057351606988342}. Best is trial 77 with value: 0.7680289237637512.\u001b[0m\n",
      "\u001b[32m[I 2022-04-07 17:29:16,182]\u001b[0m Trial 90 finished with value: 0.7405707983346546 and parameters: {'max_depth': 7, 'max_features': 'auto', 'n_estimators': 242, 'bootstrap': False, 'min_samples_leaf': 0.003242783348467823, 'min_samples_split': 0.08890653068526488}. Best is trial 77 with value: 0.7680289237637512.\u001b[0m\n",
      "\u001b[32m[I 2022-04-07 17:29:22,554]\u001b[0m Trial 92 finished with value: 0.7340797321423719 and parameters: {'max_depth': 7, 'max_features': 'auto', 'n_estimators': 203, 'bootstrap': False, 'min_samples_leaf': 0.0025061417928216295, 'min_samples_split': 0.10347938914558111}. Best is trial 77 with value: 0.7680289237637512.\u001b[0m\n",
      "\u001b[32m[I 2022-04-07 17:29:24,931]\u001b[0m Trial 93 finished with value: 0.7314651983168573 and parameters: {'max_depth': 7, 'max_features': 'auto', 'n_estimators': 224, 'bootstrap': False, 'min_samples_leaf': 0.001354610908353697, 'min_samples_split': 0.1071786929779884}. Best is trial 77 with value: 0.7680289237637512.\u001b[0m\n",
      "\u001b[32m[I 2022-04-07 17:29:27,693]\u001b[0m Trial 91 finished with value: 0.7158068478786274 and parameters: {'max_depth': 15, 'max_features': 'auto', 'n_estimators': 227, 'bootstrap': False, 'min_samples_leaf': 0.03474391523078901, 'min_samples_split': 0.035858803916603475}. Best is trial 77 with value: 0.7680289237637512.\u001b[0m\n",
      "\u001b[32m[I 2022-04-07 17:29:32,240]\u001b[0m Trial 94 finished with value: 0.7094348108701394 and parameters: {'max_depth': 7, 'max_features': 'auto', 'n_estimators': 214, 'bootstrap': False, 'min_samples_leaf': 0.03665635081224217, 'min_samples_split': 0.034995150484444064}. Best is trial 77 with value: 0.7680289237637512.\u001b[0m\n",
      "\u001b[32m[I 2022-04-07 17:29:38,702]\u001b[0m Trial 96 finished with value: 0.62679211233717 and parameters: {'max_depth': 7, 'max_features': 'auto', 'n_estimators': 222, 'bootstrap': False, 'min_samples_leaf': 0.0685899950821631, 'min_samples_split': 0.031076333755579725}. Best is trial 77 with value: 0.7680289237637512.\u001b[0m\n",
      "\u001b[32m[I 2022-04-07 17:29:39,019]\u001b[0m Trial 95 finished with value: 0.6333763668449677 and parameters: {'max_depth': 7, 'max_features': 'auto', 'n_estimators': 232, 'bootstrap': False, 'min_samples_leaf': 0.06514772846008181, 'min_samples_split': 0.03747941497764508}. Best is trial 77 with value: 0.7680289237637512.\u001b[0m\n",
      "\u001b[32m[I 2022-04-07 17:29:55,785]\u001b[0m Trial 97 finished with value: 0.7640901942143159 and parameters: {'max_depth': 7, 'max_features': 'auto', 'n_estimators': 239, 'bootstrap': False, 'min_samples_leaf': 1.2248018243182757e-05, 'min_samples_split': 0.032799549846082424}. Best is trial 77 with value: 0.7680289237637512.\u001b[0m\n",
      "\u001b[32m[I 2022-04-07 17:30:03,254]\u001b[0m Trial 98 finished with value: 0.7604856718983701 and parameters: {'max_depth': 7, 'max_features': 'auto', 'n_estimators': 226, 'bootstrap': False, 'min_samples_leaf': 0.0007798165737998195, 'min_samples_split': 0.03618439977423302}. Best is trial 77 with value: 0.7680289237637512.\u001b[0m\n",
      "\u001b[32m[I 2022-04-07 17:30:09,041]\u001b[0m Trial 99 finished with value: 0.7640800764271862 and parameters: {'max_depth': 7, 'max_features': 'auto', 'n_estimators': 219, 'bootstrap': False, 'min_samples_leaf': 0.00010272562217991058, 'min_samples_split': 0.03409040940420516}. Best is trial 77 with value: 0.7680289237637512.\u001b[0m\n",
      "\u001b[32m[I 2022-04-07 17:30:10,264]\u001b[0m Trial 100 finished with value: 0.7640968977884672 and parameters: {'max_depth': 7, 'max_features': 'auto', 'n_estimators': 218, 'bootstrap': False, 'min_samples_leaf': 0.001505945734072065, 'min_samples_split': 0.03256794487849265}. Best is trial 77 with value: 0.7680289237637512.\u001b[0m\n",
      "\u001b[32m[I 2022-04-07 17:30:14,518]\u001b[0m Trial 101 finished with value: 0.7641945027507793 and parameters: {'max_depth': 7, 'max_features': 'auto', 'n_estimators': 222, 'bootstrap': False, 'min_samples_leaf': 0.0005698164880036791, 'min_samples_split': 0.033982283930962594}. Best is trial 77 with value: 0.7680289237637512.\u001b[0m\n",
      "\u001b[32m[I 2022-04-07 17:30:25,125]\u001b[0m Trial 102 finished with value: 0.7407293759974392 and parameters: {'max_depth': 7, 'max_features': 'auto', 'n_estimators': 253, 'bootstrap': False, 'min_samples_leaf': 0.004199625344598726, 'min_samples_split': 0.08628422740771083}. Best is trial 77 with value: 0.7680289237637512.\u001b[0m\n",
      "\u001b[32m[I 2022-04-07 17:30:31,654]\u001b[0m Trial 104 finished with value: 0.7413925128912054 and parameters: {'max_depth': 8, 'max_features': 'auto', 'n_estimators': 255, 'bootstrap': False, 'min_samples_leaf': 0.0003866992381618767, 'min_samples_split': 0.08532414147302234}. Best is trial 77 with value: 0.7680289237637512.\u001b[0m\n",
      "\u001b[32m[I 2022-04-07 17:30:35,075]\u001b[0m Trial 103 finished with value: 0.8045064724109745 and parameters: {'max_depth': 8, 'max_features': 'auto', 'n_estimators': 265, 'bootstrap': False, 'min_samples_leaf': 0.00039287370647132953, 'min_samples_split': 0.0046827997339177856}. Best is trial 103 with value: 0.8045064724109745.\u001b[0m\n",
      "\u001b[32m[I 2022-04-07 17:30:42,743]\u001b[0m Trial 108 finished with value: 0.738278072369529 and parameters: {'max_depth': 8, 'max_features': 'auto', 'n_estimators': 161, 'bootstrap': False, 'min_samples_leaf': 0.026466265428546257, 'min_samples_split': 0.0043187839102318965}. Best is trial 103 with value: 0.8045064724109745.\u001b[0m\n",
      "\u001b[32m[I 2022-04-07 17:30:43,950]\u001b[0m Trial 107 finished with value: 0.7402253940312354 and parameters: {'max_depth': 8, 'max_features': 'auto', 'n_estimators': 164, 'bootstrap': False, 'min_samples_leaf': 0.022478729847520015, 'min_samples_split': 0.007780819351340382}. Best is trial 103 with value: 0.8045064724109745.\u001b[0m\n",
      "\u001b[32m[I 2022-04-07 17:30:46,648]\u001b[0m Trial 109 finished with value: 0.7406301293268995 and parameters: {'max_depth': 8, 'max_features': 'auto', 'n_estimators': 164, 'bootstrap': False, 'min_samples_leaf': 0.02174362629823978, 'min_samples_split': 0.002423544347662572}. Best is trial 103 with value: 0.8045064724109745.\u001b[0m\n",
      "\u001b[32m[I 2022-04-07 17:30:48,897]\u001b[0m Trial 105 finished with value: 0.7405684438078757 and parameters: {'max_depth': 8, 'max_features': 'auto', 'n_estimators': 267, 'bootstrap': False, 'min_samples_leaf': 0.0010156990783258702, 'min_samples_split': 0.09004182555218815}. Best is trial 103 with value: 0.8045064724109745.\u001b[0m\n",
      "\u001b[32m[I 2022-04-07 17:30:53,175]\u001b[0m Trial 106 finished with value: 0.7387771095768633 and parameters: {'max_depth': 8, 'max_features': 'auto', 'n_estimators': 256, 'bootstrap': False, 'min_samples_leaf': 0.02559499993312761, 'min_samples_split': 0.000873809676141972}. Best is trial 103 with value: 0.8045064724109745.\u001b[0m\n",
      "\u001b[32m[I 2022-04-07 17:30:58,995]\u001b[0m Trial 110 finished with value: 0.7381043593228078 and parameters: {'max_depth': 8, 'max_features': 'auto', 'n_estimators': 166, 'bootstrap': False, 'min_samples_leaf': 0.025926831124814656, 'min_samples_split': 0.0012033845591241238}. Best is trial 103 with value: 0.8045064724109745.\u001b[0m\n",
      "\u001b[32m[I 2022-04-07 17:31:04,582]\u001b[0m Trial 111 finished with value: 0.7452230356567233 and parameters: {'max_depth': 8, 'max_features': 'auto', 'n_estimators': 169, 'bootstrap': False, 'min_samples_leaf': 0.020684099462720037, 'min_samples_split': 0.003984707696109993}. Best is trial 103 with value: 0.8045064724109745.\u001b[0m\n",
      "\u001b[32m[I 2022-04-07 17:31:24,433]\u001b[0m Trial 112 finished with value: 0.738329981688482 and parameters: {'max_depth': 8, 'max_features': 'auto', 'n_estimators': 298, 'bootstrap': False, 'min_samples_leaf': 0.025556034561219132, 'min_samples_split': 0.00027208695875811234}. Best is trial 103 with value: 0.8045064724109745.\u001b[0m\n",
      "\u001b[32m[I 2022-04-07 17:31:28,266]\u001b[0m Trial 113 finished with value: 0.7450317598031518 and parameters: {'max_depth': 8, 'max_features': 'auto', 'n_estimators': 304, 'bootstrap': False, 'min_samples_leaf': 0.021150513524120722, 'min_samples_split': 0.0006115163504294072}. Best is trial 103 with value: 0.8045064724109745.\u001b[0m\n",
      "\u001b[32m[I 2022-04-07 17:31:33,211]\u001b[0m Trial 114 finished with value: 0.7248887373228079 and parameters: {'max_depth': 8, 'max_features': 'auto', 'n_estimators': 303, 'bootstrap': True, 'min_samples_leaf': 0.025787622948613316, 'min_samples_split': 0.02521809945761194}. Best is trial 103 with value: 0.8045064724109745.\u001b[0m\n",
      "\u001b[32m[I 2022-04-07 17:31:33,617]\u001b[0m Trial 115 finished with value: 0.7305169391814497 and parameters: {'max_depth': 9, 'max_features': 'auto', 'n_estimators': 304, 'bootstrap': True, 'min_samples_leaf': 0.024635488927510635, 'min_samples_split': 0.027132854309613257}. Best is trial 103 with value: 0.8045064724109745.\u001b[0m\n",
      "\u001b[32m[I 2022-04-07 17:31:39,813]\u001b[0m Trial 116 finished with value: 0.7328186426171636 and parameters: {'max_depth': 9, 'max_features': 'auto', 'n_estimators': 300, 'bootstrap': True, 'min_samples_leaf': 0.024250090927954732, 'min_samples_split': 0.026553433932874987}. Best is trial 103 with value: 0.8045064724109745.\u001b[0m\n",
      "\u001b[32m[I 2022-04-07 17:31:40,567]\u001b[0m Trial 118 finished with value: 0.7631075109650769 and parameters: {'max_depth': 7, 'max_features': 'auto', 'n_estimators': 283, 'bootstrap': False, 'min_samples_leaf': 0.011196890827512455, 'min_samples_split': 0.017538028703992174}. Best is trial 103 with value: 0.8045064724109745.\u001b[0m\n",
      "\u001b[32m[I 2022-04-07 17:31:43,120]\u001b[0m Trial 117 finished with value: 0.6569214830441115 and parameters: {'max_depth': 9, 'max_features': 'auto', 'n_estimators': 299, 'bootstrap': True, 'min_samples_leaf': 0.04138257938830779, 'min_samples_split': 0.0280468689018849}. Best is trial 103 with value: 0.8045064724109745.\u001b[0m\n",
      "\u001b[32m[I 2022-04-07 17:31:55,840]\u001b[0m Trial 120 finished with value: 0.6524693930095609 and parameters: {'max_depth': 9, 'max_features': 'auto', 'n_estimators': 189, 'bootstrap': True, 'min_samples_leaf': 0.042537737583206225, 'min_samples_split': 0.026289565236616564}. Best is trial 103 with value: 0.8045064724109745.\u001b[0m\n",
      "\u001b[32m[I 2022-04-07 17:31:59,731]\u001b[0m Trial 119 finished with value: 0.7889356330561504 and parameters: {'max_depth': 9, 'max_features': 'auto', 'n_estimators': 303, 'bootstrap': True, 'min_samples_leaf': 0.012110386878968371, 'min_samples_split': 0.017474674600127627}. Best is trial 103 with value: 0.8045064724109745.\u001b[0m\n",
      "\u001b[32m[I 2022-04-07 17:32:02,724]\u001b[0m Trial 122 finished with value: 0.7756434619130571 and parameters: {'max_depth': 9, 'max_features': 'auto', 'n_estimators': 182, 'bootstrap': False, 'min_samples_leaf': 0.011092809770353878, 'min_samples_split': 0.02045589746052802}. Best is trial 103 with value: 0.8045064724109745.\u001b[0m\n",
      "\u001b[32m[I 2022-04-07 17:32:06,881]\u001b[0m Trial 124 finished with value: 0.6863336219547045 and parameters: {'max_depth': 7, 'max_features': 'auto', 'n_estimators': 189, 'bootstrap': False, 'min_samples_leaf': 0.04291707364734187, 'min_samples_split': 0.015432531631062207}. Best is trial 103 with value: 0.8045064724109745.\u001b[0m\n",
      "\u001b[32m[I 2022-04-07 17:32:07,197]\u001b[0m Trial 123 finished with value: 0.7699737578039858 and parameters: {'max_depth': 9, 'max_features': 'auto', 'n_estimators': 189, 'bootstrap': False, 'min_samples_leaf': 0.013164432720871621, 'min_samples_split': 0.013981169361093494}. Best is trial 103 with value: 0.8045064724109745.\u001b[0m\n",
      "\u001b[32m[I 2022-04-07 17:32:10,856]\u001b[0m Trial 126 finished with value: 0.7597930655743859 and parameters: {'max_depth': 7, 'max_features': 'auto', 'n_estimators': 192, 'bootstrap': False, 'min_samples_leaf': 0.013371250876660329, 'min_samples_split': 0.0138699800512654}. Best is trial 103 with value: 0.8045064724109745.\u001b[0m\n",
      "\u001b[32m[I 2022-04-07 17:32:11,130]\u001b[0m Trial 125 finished with value: 0.6945951674794443 and parameters: {'max_depth': 7, 'max_features': 'sqrt', 'n_estimators': 187, 'bootstrap': False, 'min_samples_leaf': 0.012438582420577491, 'min_samples_split': 0.014010764360311578}. Best is trial 103 with value: 0.8045064724109745.\u001b[0m\n",
      "\u001b[32m[I 2022-04-07 17:32:11,559]\u001b[0m Trial 121 finished with value: 0.6518612152185985 and parameters: {'max_depth': 9, 'max_features': 'auto', 'n_estimators': 295, 'bootstrap': True, 'min_samples_leaf': 0.042632903419312286, 'min_samples_split': 0.016109407687967654}. Best is trial 103 with value: 0.8045064724109745.\u001b[0m\n",
      "\u001b[32m[I 2022-04-07 17:32:26,272]\u001b[0m Trial 127 finished with value: 0.7037481181971675 and parameters: {'max_depth': 7, 'max_features': 'sqrt', 'n_estimators': 200, 'bootstrap': False, 'min_samples_leaf': 0.009696766102094563, 'min_samples_split': 0.013116118197937614}. Best is trial 103 with value: 0.8045064724109745.\u001b[0m\n",
      "\u001b[32m[I 2022-04-07 17:32:31,701]\u001b[0m Trial 129 finished with value: 0.773680154205061 and parameters: {'max_depth': 7, 'max_features': 'auto', 'n_estimators': 203, 'bootstrap': True, 'min_samples_leaf': 0.01289469844376816, 'min_samples_split': 0.04301793032789328}. Best is trial 103 with value: 0.8045064724109745.\u001b[0m\n",
      "\u001b[32m[I 2022-04-07 17:32:32,908]\u001b[0m Trial 128 finished with value: 0.7864324099024311 and parameters: {'max_depth': 7, 'max_features': 'auto', 'n_estimators': 198, 'bootstrap': True, 'min_samples_leaf': 0.012207134522142532, 'min_samples_split': 0.01565638669416361}. Best is trial 103 with value: 0.8045064724109745.\u001b[0m\n",
      "\u001b[32m[I 2022-04-07 17:32:33,251]\u001b[0m Trial 131 finished with value: 0.7500346422985703 and parameters: {'max_depth': 7, 'max_features': 'auto', 'n_estimators': 206, 'bootstrap': False, 'min_samples_leaf': 0.014149199818979741, 'min_samples_split': 0.044291746451754856}. Best is trial 103 with value: 0.8045064724109745.\u001b[0m\n",
      "\u001b[32m[I 2022-04-07 17:32:35,652]\u001b[0m Trial 130 finished with value: 0.6673533782032244 and parameters: {'max_depth': 7, 'max_features': 'sqrt', 'n_estimators': 201, 'bootstrap': True, 'min_samples_leaf': 0.012014401141402186, 'min_samples_split': 0.047825478932541396}. Best is trial 103 with value: 0.8045064724109745.\u001b[0m\n",
      "\u001b[32m[I 2022-04-07 17:32:43,285]\u001b[0m Trial 133 finished with value: 0.7633984973247443 and parameters: {'max_depth': 9, 'max_features': 'auto', 'n_estimators': 209, 'bootstrap': False, 'min_samples_leaf': 0.010438529799360592, 'min_samples_split': 0.04305369151797579}. Best is trial 103 with value: 0.8045064724109745.\u001b[0m\n",
      "\u001b[32m[I 2022-04-07 17:32:49,485]\u001b[0m Trial 137 finished with value: 0.7635008180024723 and parameters: {'max_depth': 10, 'max_features': 'auto', 'n_estimators': 94, 'bootstrap': True, 'min_samples_leaf': 0.011418254216592854, 'min_samples_split': 0.06186739393427821}. Best is trial 103 with value: 0.8045064724109745.\u001b[0m\n",
      "\u001b[32m[I 2022-04-07 17:32:50,245]\u001b[0m Trial 134 finished with value: 0.7490917498010707 and parameters: {'max_depth': 7, 'max_features': 'auto', 'n_estimators': 275, 'bootstrap': False, 'min_samples_leaf': 0.01199394454757884, 'min_samples_split': 0.04651775990595488}. Best is trial 103 with value: 0.8045064724109745.\u001b[0m\n",
      "\u001b[32m[I 2022-04-07 17:32:50,494]\u001b[0m Trial 132 finished with value: 0.6958810788876797 and parameters: {'max_depth': 7, 'max_features': 'sqrt', 'n_estimators': 271, 'bootstrap': False, 'min_samples_leaf': 0.011606631016352323, 'min_samples_split': 0.04122821896353395}. Best is trial 103 with value: 0.8045064724109745.\u001b[0m\n",
      "\u001b[32m[I 2022-04-07 17:32:54,667]\u001b[0m Trial 138 finished with value: 0.7679382841896228 and parameters: {'max_depth': 7, 'max_features': 'auto', 'n_estimators': 143, 'bootstrap': True, 'min_samples_leaf': 0.009260743781514487, 'min_samples_split': 0.0650850352853238}. Best is trial 103 with value: 0.8045064724109745.\u001b[0m\n",
      "\u001b[32m[I 2022-04-07 17:32:58,430]\u001b[0m Trial 140 finished with value: 0.6168940313174689 and parameters: {'max_depth': 9, 'max_features': 'auto', 'n_estimators': 96, 'bootstrap': True, 'min_samples_leaf': 0.05923887773090718, 'min_samples_split': 0.06292367702916236}. Best is trial 103 with value: 0.8045064724109745.\u001b[0m\n",
      "\u001b[32m[I 2022-04-07 17:32:59,016]\u001b[0m Trial 141 finished with value: 0.28867997972289167 and parameters: {'max_depth': 10, 'max_features': 'auto', 'n_estimators': 61, 'bootstrap': True, 'min_samples_leaf': 0.19676698594315745, 'min_samples_split': 0.06396081763965546}. Best is trial 103 with value: 0.8045064724109745.\u001b[0m\n",
      "\u001b[32m[I 2022-04-07 17:33:04,030]\u001b[0m Trial 142 finished with value: 0.6822214439626304 and parameters: {'max_depth': 10, 'max_features': 'auto', 'n_estimators': 82, 'bootstrap': True, 'min_samples_leaf': 0.03462264318042246, 'min_samples_split': 0.05929592412687863}. Best is trial 103 with value: 0.8045064724109745.\u001b[0m\n",
      "\u001b[32m[I 2022-04-07 17:33:06,826]\u001b[0m Trial 136 finished with value: 0.7773658196168031 and parameters: {'max_depth': 10, 'max_features': 'auto', 'n_estimators': 270, 'bootstrap': True, 'min_samples_leaf': 0.011354971519137764, 'min_samples_split': 0.0459147066674456}. Best is trial 103 with value: 0.8045064724109745.\u001b[0m\n",
      "\u001b[32m[I 2022-04-07 17:33:07,031]\u001b[0m Trial 135 finished with value: 0.7513947070374134 and parameters: {'max_depth': 7, 'max_features': 'auto', 'n_estimators': 270, 'bootstrap': False, 'min_samples_leaf': 0.011521918748599477, 'min_samples_split': 0.042466039676190205}. Best is trial 103 with value: 0.8045064724109745.\u001b[0m\n",
      "\u001b[32m[I 2022-04-07 17:33:07,605]\u001b[0m Trial 144 finished with value: 0.28828533709912896 and parameters: {'max_depth': 10, 'max_features': 'auto', 'n_estimators': 82, 'bootstrap': True, 'min_samples_leaf': 0.20462098548890256, 'min_samples_split': 0.06433389470488052}. Best is trial 103 with value: 0.8045064724109745.\u001b[0m\n",
      "\u001b[32m[I 2022-04-07 17:33:09,078]\u001b[0m Trial 143 finished with value: 0.6155771211910969 and parameters: {'max_depth': 10, 'max_features': 'auto', 'n_estimators': 147, 'bootstrap': True, 'min_samples_leaf': 0.05951558476110915, 'min_samples_split': 0.06162983135058398}. Best is trial 103 with value: 0.8045064724109745.\u001b[0m\n",
      "\u001b[32m[I 2022-04-07 17:33:10,156]\u001b[0m Trial 139 finished with value: 0.6805608928619818 and parameters: {'max_depth': 9, 'max_features': 'auto', 'n_estimators': 271, 'bootstrap': True, 'min_samples_leaf': 0.035094499165583014, 'min_samples_split': 0.06596108583625906}. Best is trial 103 with value: 0.8045064724109745.\u001b[0m\n",
      "\u001b[32m[I 2022-04-07 17:33:15,059]\u001b[0m Trial 146 finished with value: 0.6827618617150206 and parameters: {'max_depth': 10, 'max_features': 'auto', 'n_estimators': 151, 'bootstrap': True, 'min_samples_leaf': 0.03474994558055566, 'min_samples_split': 0.05877837272255099}. Best is trial 103 with value: 0.8045064724109745.\u001b[0m\n",
      "\u001b[32m[I 2022-04-07 17:33:16,880]\u001b[0m Trial 145 finished with value: 0.6751330236776419 and parameters: {'max_depth': 10, 'max_features': 'auto', 'n_estimators': 153, 'bootstrap': True, 'min_samples_leaf': 0.0364052398835389, 'min_samples_split': 0.06300098269836267}. Best is trial 103 with value: 0.8045064724109745.\u001b[0m\n",
      "\u001b[32m[I 2022-04-07 17:33:18,671]\u001b[0m Trial 147 finished with value: 0.28818186775559085 and parameters: {'max_depth': 10, 'max_features': 'auto', 'n_estimators': 135, 'bootstrap': True, 'min_samples_leaf': 0.030144902306769576, 'min_samples_split': 0.40102022790748704}. Best is trial 103 with value: 0.8045064724109745.\u001b[0m\n",
      "\u001b[32m[I 2022-04-07 17:33:20,788]\u001b[0m Trial 150 finished with value: 0.30438704600927535 and parameters: {'max_depth': 10, 'max_features': 'auto', 'n_estimators': 146, 'bootstrap': True, 'min_samples_leaf': 0.03476196385241771, 'min_samples_split': 0.3655524043671772}. Best is trial 103 with value: 0.8045064724109745.\u001b[0m\n",
      "\u001b[32m[I 2022-04-07 17:33:21,985]\u001b[0m Trial 149 finished with value: 0.28833948773706586 and parameters: {'max_depth': 10, 'max_features': 'auto', 'n_estimators': 148, 'bootstrap': True, 'min_samples_leaf': 0.24568658732153928, 'min_samples_split': 0.07449597492624965}. Best is trial 103 with value: 0.8045064724109745.\u001b[0m\n",
      "\u001b[32m[I 2022-04-07 17:33:23,426]\u001b[0m Trial 148 finished with value: -0.0013532522743284537 and parameters: {'max_depth': 10, 'max_features': 'auto', 'n_estimators': 146, 'bootstrap': True, 'min_samples_leaf': 0.4430911441956179, 'min_samples_split': 0.052144050783643904}. Best is trial 103 with value: 0.8045064724109745.\u001b[0m\n",
      "\u001b[32m[I 2022-04-07 17:33:24,708]\u001b[0m Trial 151 finished with value: 0.6893511654481038 and parameters: {'max_depth': 9, 'max_features': 'auto', 'n_estimators': 153, 'bootstrap': True, 'min_samples_leaf': 0.03322258319263129, 'min_samples_split': 0.05179714448461842}. Best is trial 103 with value: 0.8045064724109745.\u001b[0m\n",
      "\u001b[32m[I 2022-04-07 17:33:25,407]\u001b[0m Trial 152 finished with value: 0.7014820669556446 and parameters: {'max_depth': 10, 'max_features': 'auto', 'n_estimators': 154, 'bootstrap': True, 'min_samples_leaf': 0.030491661903715387, 'min_samples_split': 0.053069835984254805}. Best is trial 103 with value: 0.8045064724109745.\u001b[0m\n",
      "\u001b[32m[I 2022-04-07 17:33:29,127]\u001b[0m Trial 153 finished with value: 0.28833367885402295 and parameters: {'max_depth': 9, 'max_features': 'auto', 'n_estimators': 144, 'bootstrap': True, 'min_samples_leaf': 0.24726260434605563, 'min_samples_split': 0.31562174810424365}. Best is trial 103 with value: 0.8045064724109745.\u001b[0m\n",
      "\u001b[32m[I 2022-04-07 17:33:36,488]\u001b[0m Trial 154 finished with value: 0.2877652972653057 and parameters: {'max_depth': 9, 'max_features': 'auto', 'n_estimators': 249, 'bootstrap': True, 'min_samples_leaf': 0.26167951159986047, 'min_samples_split': 0.022979872717902625}. Best is trial 103 with value: 0.8045064724109745.\u001b[0m\n",
      "\u001b[32m[I 2022-04-07 17:33:39,405]\u001b[0m Trial 155 finished with value: 0.6401212821087714 and parameters: {'max_depth': 9, 'max_features': 'log2', 'n_estimators': 249, 'bootstrap': True, 'min_samples_leaf': 0.014698941344337963, 'min_samples_split': 0.05303584271665249}. Best is trial 103 with value: 0.8045064724109745.\u001b[0m\n",
      "\u001b[32m[I 2022-04-07 17:33:39,980]\u001b[0m Trial 156 finished with value: 0.13485919725590811 and parameters: {'max_depth': 6, 'max_features': 'log2', 'n_estimators': 249, 'bootstrap': True, 'min_samples_leaf': 0.2760008100717691, 'min_samples_split': 0.05245043920602789}. Best is trial 103 with value: 0.8045064724109745.\u001b[0m\n",
      "\u001b[32m[I 2022-04-07 17:33:44,318]\u001b[0m Trial 160 finished with value: 0.765500458016292 and parameters: {'max_depth': 9, 'max_features': 'auto', 'n_estimators': 178, 'bootstrap': True, 'min_samples_leaf': 0.016209716370500005, 'min_samples_split': 0.02292653345765559}. Best is trial 103 with value: 0.8045064724109745.\u001b[0m\n",
      "\u001b[32m[I 2022-04-07 17:33:46,564]\u001b[0m Trial 157 finished with value: 0.6063032132101815 and parameters: {'max_depth': 6, 'max_features': 'log2', 'n_estimators': 244, 'bootstrap': True, 'min_samples_leaf': 0.01858243802216037, 'min_samples_split': 0.025543784621156477}. Best is trial 103 with value: 0.8045064724109745.\u001b[0m\n",
      "\u001b[32m[I 2022-04-07 17:33:50,224]\u001b[0m Trial 159 finished with value: 0.7597516694842644 and parameters: {'max_depth': 9, 'max_features': 'auto', 'n_estimators': 252, 'bootstrap': True, 'min_samples_leaf': 0.017564635447772044, 'min_samples_split': 0.02594405518985032}. Best is trial 103 with value: 0.8045064724109745.\u001b[0m\n",
      "\u001b[32m[I 2022-04-07 17:33:51,113]\u001b[0m Trial 158 finished with value: 0.7577980097256408 and parameters: {'max_depth': 9, 'max_features': 'auto', 'n_estimators': 252, 'bootstrap': True, 'min_samples_leaf': 0.018135524217017734, 'min_samples_split': 0.026978331437284474}. Best is trial 103 with value: 0.8045064724109745.\u001b[0m\n",
      "\u001b[32m[I 2022-04-07 17:33:52,658]\u001b[0m Trial 161 finished with value: 0.65620637945693 and parameters: {'max_depth': 9, 'max_features': 'log2', 'n_estimators': 178, 'bootstrap': True, 'min_samples_leaf': 0.01502594149361736, 'min_samples_split': 0.02375968834548281}. Best is trial 103 with value: 0.8045064724109745.\u001b[0m\n",
      "\u001b[32m[I 2022-04-07 17:34:03,840]\u001b[0m Trial 165 finished with value: 0.7487789079922418 and parameters: {'max_depth': 8, 'max_features': 'auto', 'n_estimators': 105, 'bootstrap': True, 'min_samples_leaf': 0.02071219245159441, 'min_samples_split': 0.031599302375466425}. Best is trial 103 with value: 0.8045064724109745.\u001b[0m\n",
      "\u001b[32m[I 2022-04-07 17:34:04,780]\u001b[0m Trial 162 finished with value: 0.6323124514770251 and parameters: {'max_depth': 9, 'max_features': 'log2', 'n_estimators': 210, 'bootstrap': True, 'min_samples_leaf': 0.018917673952468985, 'min_samples_split': 0.03425033146376605}. Best is trial 103 with value: 0.8045064724109745.\u001b[0m\n",
      "\u001b[32m[I 2022-04-07 17:34:10,397]\u001b[0m Trial 164 finished with value: 0.80496470814667 and parameters: {'max_depth': 9, 'max_features': 'auto', 'n_estimators': 212, 'bootstrap': True, 'min_samples_leaf': 0.0006119369704621594, 'min_samples_split': 0.03342431169131685}. Best is trial 164 with value: 0.80496470814667.\u001b[0m\n",
      "\u001b[32m[I 2022-04-07 17:34:12,053]\u001b[0m Trial 163 finished with value: 0.8022959599253798 and parameters: {'max_depth': 8, 'max_features': 'auto', 'n_estimators': 212, 'bootstrap': True, 'min_samples_leaf': 0.0004039362841664028, 'min_samples_split': 0.03422599480414586}. Best is trial 164 with value: 0.80496470814667.\u001b[0m\n",
      "\u001b[32m[I 2022-04-07 17:34:14,475]\u001b[0m Trial 166 finished with value: 0.7945559316721974 and parameters: {'max_depth': 7, 'max_features': 'auto', 'n_estimators': 180, 'bootstrap': True, 'min_samples_leaf': 0.006610329818698836, 'min_samples_split': 0.03587341625059398}. Best is trial 164 with value: 0.80496470814667.\u001b[0m\n",
      "\u001b[32m[I 2022-04-07 17:34:17,411]\u001b[0m Trial 168 finished with value: 0.7974224158087133 and parameters: {'max_depth': 8, 'max_features': 'auto', 'n_estimators': 176, 'bootstrap': True, 'min_samples_leaf': 0.006031683525252933, 'min_samples_split': 0.0378154443869952}. Best is trial 164 with value: 0.80496470814667.\u001b[0m\n",
      "\u001b[32m[I 2022-04-07 17:34:23,452]\u001b[0m Trial 167 finished with value: 0.8013298142652836 and parameters: {'max_depth': 8, 'max_features': 'auto', 'n_estimators': 178, 'bootstrap': True, 'min_samples_leaf': 0.002318649407456523, 'min_samples_split': 0.03471201496587374}. Best is trial 164 with value: 0.80496470814667.\u001b[0m\n",
      "\u001b[32m[I 2022-04-07 17:34:29,932]\u001b[0m Trial 169 finished with value: 0.7990456239882577 and parameters: {'max_depth': 8, 'max_features': 'auto', 'n_estimators': 212, 'bootstrap': True, 'min_samples_leaf': 0.000834904429066768, 'min_samples_split': 0.037711508937647346}. Best is trial 164 with value: 0.80496470814667.\u001b[0m\n",
      "\u001b[32m[I 2022-04-07 17:34:39,325]\u001b[0m Trial 171 finished with value: 0.7926745081685078 and parameters: {'max_depth': 7, 'max_features': 'auto', 'n_estimators': 177, 'bootstrap': True, 'min_samples_leaf': 0.0007709290921736532, 'min_samples_split': 0.040372693928982836}. Best is trial 164 with value: 0.80496470814667.\u001b[0m\n",
      "\u001b[32m[I 2022-04-07 17:34:41,139]\u001b[0m Trial 173 finished with value: 0.8335693392470791 and parameters: {'max_depth': 8, 'max_features': 'auto', 'n_estimators': 176, 'bootstrap': True, 'min_samples_leaf': 0.002958537460624439, 'min_samples_split': 0.012270819665095006}. Best is trial 173 with value: 0.8335693392470791.\u001b[0m\n",
      "\u001b[32m[I 2022-04-07 17:34:43,916]\u001b[0m Trial 172 finished with value: 0.819910803885185 and parameters: {'max_depth': 7, 'max_features': 'auto', 'n_estimators': 187, 'bootstrap': True, 'min_samples_leaf': 0.003448313259146431, 'min_samples_split': 0.014190434916178902}. Best is trial 173 with value: 0.8335693392470791.\u001b[0m\n",
      "\u001b[32m[I 2022-04-07 17:34:44,863]\u001b[0m Trial 174 finished with value: 0.839683216273141 and parameters: {'max_depth': 8, 'max_features': 'auto', 'n_estimators': 176, 'bootstrap': True, 'min_samples_leaf': 0.0013840038076106823, 'min_samples_split': 0.0091248562148541}. Best is trial 174 with value: 0.839683216273141.\u001b[0m\n",
      "\u001b[32m[I 2022-04-07 17:34:45,197]\u001b[0m Trial 170 finished with value: 0.7962888946328358 and parameters: {'max_depth': 7, 'max_features': 'auto', 'n_estimators': 212, 'bootstrap': True, 'min_samples_leaf': 0.0009700872033669063, 'min_samples_split': 0.035538835654092625}. Best is trial 174 with value: 0.839683216273141.\u001b[0m\n",
      "\u001b[32m[I 2022-04-07 17:34:57,535]\u001b[0m Trial 175 finished with value: 0.829797002372674 and parameters: {'max_depth': 8, 'max_features': 'auto', 'n_estimators': 177, 'bootstrap': True, 'min_samples_leaf': 0.005407423584086745, 'min_samples_split': 0.011344224526463536}. Best is trial 174 with value: 0.839683216273141.\u001b[0m\n",
      "\u001b[32m[I 2022-04-07 17:35:02,643]\u001b[0m Trial 176 finished with value: 0.826899759260949 and parameters: {'max_depth': 8, 'max_features': 'auto', 'n_estimators': 191, 'bootstrap': True, 'min_samples_leaf': 0.00589596837307965, 'min_samples_split': 0.012276625677936859}. Best is trial 174 with value: 0.839683216273141.\u001b[0m\n",
      "\u001b[32m[I 2022-04-07 17:35:14,989]\u001b[0m Trial 177 finished with value: 0.8064011262350576 and parameters: {'max_depth': 8, 'max_features': 'auto', 'n_estimators': 179, 'bootstrap': True, 'min_samples_leaf': 0.009026267885635066, 'min_samples_split': 0.01227471400529484}. Best is trial 174 with value: 0.839683216273141.\u001b[0m\n",
      "\u001b[32m[I 2022-04-07 17:35:26,351]\u001b[0m Trial 178 finished with value: 0.8107511900675576 and parameters: {'max_depth': 8, 'max_features': 'auto', 'n_estimators': 179, 'bootstrap': True, 'min_samples_leaf': 0.008432395742033767, 'min_samples_split': 0.012460679769816706}. Best is trial 174 with value: 0.839683216273141.\u001b[0m\n",
      "\u001b[32m[I 2022-04-07 17:35:26,611]\u001b[0m Trial 179 finished with value: 0.7960693101984285 and parameters: {'max_depth': 8, 'max_features': 'auto', 'n_estimators': 179, 'bootstrap': True, 'min_samples_leaf': 0.01078625038395446, 'min_samples_split': 0.011711901146346616}. Best is trial 174 with value: 0.839683216273141.\u001b[0m\n",
      "\u001b[32m[I 2022-04-07 17:35:29,226]\u001b[0m Trial 181 finished with value: 0.8035836178559619 and parameters: {'max_depth': 8, 'max_features': 'auto', 'n_estimators': 173, 'bootstrap': True, 'min_samples_leaf': 0.009402318280533449, 'min_samples_split': 0.011915539438467886}. Best is trial 174 with value: 0.839683216273141.\u001b[0m\n",
      "\u001b[32m[I 2022-04-07 17:35:31,284]\u001b[0m Trial 180 finished with value: 0.807976415711899 and parameters: {'max_depth': 8, 'max_features': 'auto', 'n_estimators': 190, 'bootstrap': True, 'min_samples_leaf': 0.008779539329279723, 'min_samples_split': 0.01541281100550465}. Best is trial 174 with value: 0.839683216273141.\u001b[0m\n",
      "\u001b[32m[I 2022-04-07 17:35:32,219]\u001b[0m Trial 182 finished with value: 0.8137723616929206 and parameters: {'max_depth': 8, 'max_features': 'auto', 'n_estimators': 182, 'bootstrap': True, 'min_samples_leaf': 0.008057336971694607, 'min_samples_split': 0.014829536401131261}. Best is trial 174 with value: 0.839683216273141.\u001b[0m\n",
      "\u001b[32m[I 2022-04-07 17:35:41,041]\u001b[0m Trial 183 finished with value: 0.8195621058809544 and parameters: {'max_depth': 8, 'max_features': 'auto', 'n_estimators': 187, 'bootstrap': True, 'min_samples_leaf': 0.0068715458835421845, 'min_samples_split': 0.014890995042712716}. Best is trial 174 with value: 0.839683216273141.\u001b[0m\n",
      "\u001b[32m[I 2022-04-07 17:35:44,199]\u001b[0m Trial 184 finished with value: 0.8391529852939745 and parameters: {'max_depth': 8, 'max_features': 'auto', 'n_estimators': 179, 'bootstrap': True, 'min_samples_leaf': 0.0008585812637419161, 'min_samples_split': 0.009968226615422966}. Best is trial 174 with value: 0.839683216273141.\u001b[0m\n",
      "\u001b[32m[I 2022-04-07 17:35:49,710]\u001b[0m Trial 185 finished with value: 0.8391185526190927 and parameters: {'max_depth': 8, 'max_features': 'auto', 'n_estimators': 173, 'bootstrap': True, 'min_samples_leaf': 0.0009738899426474639, 'min_samples_split': 0.009927967922684267}. Best is trial 174 with value: 0.839683216273141.\u001b[0m\n",
      "\u001b[32m[I 2022-04-07 17:36:00,550]\u001b[0m Trial 187 finished with value: 0.838863045899861 and parameters: {'max_depth': 8, 'max_features': 'auto', 'n_estimators': 171, 'bootstrap': True, 'min_samples_leaf': 0.001838131265518717, 'min_samples_split': 0.00945440395334909}. Best is trial 174 with value: 0.839683216273141.\u001b[0m\n",
      "\u001b[32m[I 2022-04-07 17:36:03,360]\u001b[0m Trial 186 finished with value: 0.83829013567705 and parameters: {'max_depth': 8, 'max_features': 'auto', 'n_estimators': 177, 'bootstrap': True, 'min_samples_leaf': 0.0013103580507592006, 'min_samples_split': 0.010427776092154227}. Best is trial 174 with value: 0.839683216273141.\u001b[0m\n",
      "\u001b[32m[I 2022-04-07 17:36:03,963]\u001b[0m Trial 190 finished with value: 0.7216046503743596 and parameters: {'max_depth': 8, 'max_features': 'auto', 'n_estimators': 170, 'bootstrap': True, 'min_samples_leaf': 0.02658247601016875, 'min_samples_split': 0.008933302757094582}. Best is trial 174 with value: 0.839683216273141.\u001b[0m\n",
      "\u001b[32m[I 2022-04-07 17:36:04,332]\u001b[0m Trial 188 finished with value: 0.8387348579718571 and parameters: {'max_depth': 8, 'max_features': 'auto', 'n_estimators': 175, 'bootstrap': True, 'min_samples_leaf': 0.0017147202339010924, 'min_samples_split': 0.009622664150346788}. Best is trial 174 with value: 0.839683216273141.\u001b[0m\n",
      "\u001b[32m[I 2022-04-07 17:36:04,516]\u001b[0m Trial 189 finished with value: 0.8418801047907072 and parameters: {'max_depth': 8, 'max_features': 'auto', 'n_estimators': 177, 'bootstrap': True, 'min_samples_leaf': 0.000645313853931336, 'min_samples_split': 0.007917264933774489}. Best is trial 189 with value: 0.8418801047907072.\u001b[0m\n",
      "\u001b[32m[I 2022-04-07 17:36:11,527]\u001b[0m Trial 192 finished with value: 0.8427969255387874 and parameters: {'max_depth': 8, 'max_features': 'auto', 'n_estimators': 170, 'bootstrap': True, 'min_samples_leaf': 0.001251727201890422, 'min_samples_split': 0.006936218198727797}. Best is trial 192 with value: 0.8427969255387874.\u001b[0m\n",
      "\u001b[32m[I 2022-04-07 17:36:11,712]\u001b[0m Trial 191 finished with value: 0.7183760137770276 and parameters: {'max_depth': 8, 'max_features': 'auto', 'n_estimators': 169, 'bootstrap': True, 'min_samples_leaf': 0.02719711984322601, 'min_samples_split': 0.010843047238449168}. Best is trial 192 with value: 0.8427969255387874.\u001b[0m\n",
      "\u001b[32m[I 2022-04-07 17:36:15,589]\u001b[0m Trial 193 finished with value: 0.7330792781753115 and parameters: {'max_depth': 8, 'max_features': 'auto', 'n_estimators': 165, 'bootstrap': True, 'min_samples_leaf': 0.024246341270254965, 'min_samples_split': 0.00847335950426941}. Best is trial 192 with value: 0.8427969255387874.\u001b[0m\n",
      "\u001b[32m[I 2022-04-07 17:36:18,089]\u001b[0m Trial 194 finished with value: 0.7207844970739719 and parameters: {'max_depth': 8, 'max_features': 'auto', 'n_estimators': 115, 'bootstrap': True, 'min_samples_leaf': 0.026838342741540934, 'min_samples_split': 0.00833774977114579}. Best is trial 192 with value: 0.8427969255387874.\u001b[0m\n",
      "\u001b[32m[I 2022-04-07 17:36:19,354]\u001b[0m Trial 196 finished with value: 0.7269314959387774 and parameters: {'max_depth': 8, 'max_features': 'auto', 'n_estimators': 127, 'bootstrap': True, 'min_samples_leaf': 0.025355228746287532, 'min_samples_split': 0.008576564776847729}. Best is trial 192 with value: 0.8427969255387874.\u001b[0m\n",
      "\u001b[32m[I 2022-04-07 17:36:19,763]\u001b[0m Trial 197 finished with value: 0.7298565133525451 and parameters: {'max_depth': 8, 'max_features': 'auto', 'n_estimators': 120, 'bootstrap': True, 'min_samples_leaf': 0.024843354548884672, 'min_samples_split': 0.007103230733424179}. Best is trial 192 with value: 0.8427969255387874.\u001b[0m\n",
      "\u001b[32m[I 2022-04-07 17:36:20,041]\u001b[0m Trial 195 finished with value: 0.71604363067367 and parameters: {'max_depth': 8, 'max_features': 'auto', 'n_estimators': 120, 'bootstrap': True, 'min_samples_leaf': 0.02766215977123684, 'min_samples_split': 0.011733008719187121}. Best is trial 192 with value: 0.8427969255387874.\u001b[0m\n",
      "\u001b[32m[I 2022-04-07 17:36:20,475]\u001b[0m Trial 198 finished with value: 0.7463931302733944 and parameters: {'max_depth': 8, 'max_features': 'auto', 'n_estimators': 125, 'bootstrap': True, 'min_samples_leaf': 0.02122700608689499, 'min_samples_split': 0.008009764182041718}. Best is trial 192 with value: 0.8427969255387874.\u001b[0m\n",
      "\u001b[32m[I 2022-04-07 17:36:20,898]\u001b[0m Trial 199 finished with value: 0.7396877563011249 and parameters: {'max_depth': 8, 'max_features': 'auto', 'n_estimators': 118, 'bootstrap': True, 'min_samples_leaf': 0.022823081934192975, 'min_samples_split': 0.0007893409569662219}. Best is trial 192 with value: 0.8427969255387874.\u001b[0m\n",
      "\u001b[32m[I 2022-04-07 17:36:20,899]\u001b[0m Finished hyperparemeter search!\u001b[0m\n",
      "\u001b[32m[I 2022-04-07 17:36:20,901]\u001b[0m Refitting the estimator using 5083 samples...\u001b[0m\n",
      "\u001b[32m[I 2022-04-07 17:36:21,316]\u001b[0m Finished refitting! (elapsed time: 0.414 sec.)\u001b[0m\n"
     ]
    },
    {
     "data": {
      "text/plain": [
       "OptunaSearchCV(cv=10,\n",
       "               estimator=RandomForestRegressor(n_jobs=-1, random_state=73),\n",
       "               n_jobs=-1, n_trials=200,\n",
       "               param_distributions={'bootstrap': CategoricalDistribution(choices=(True, False)),\n",
       "                                    'max_depth': IntUniformDistribution(high=15, low=6, step=1),\n",
       "                                    'max_features': CategoricalDistribution(choices=('auto', 'sqrt', 'log2')),\n",
       "                                    'min_samples_leaf': UniformDistribution(high=0.5, low=0.0),\n",
       "                                    'min_samples_split': UniformDistribution(high=0.5, low=0.0),\n",
       "                                    'n_estimators': IntUniformDistribution(high=1000, low=50, step=1)},\n",
       "               random_state=73, scoring='r2',\n",
       "               study=<optuna.study.study.Study object at 0x174a39250>,\n",
       "               verbose=1)"
      ]
     },
     "execution_count": 22,
     "metadata": {},
     "output_type": "execute_result"
    }
   ],
   "source": [
    "rf_oscv_params = {\n",
    "    'max_depth' : IntUniformDistribution(6, 15),\n",
    "    'max_features' : CategoricalDistribution(['auto', 'sqrt', 'log2']),\n",
    "    'n_estimators' : IntUniformDistribution(50, 1000),\n",
    "    'bootstrap' : CategoricalDistribution([True, False]),\n",
    "    'min_samples_leaf' : UniformDistribution(0, 0.5),\n",
    "    'min_samples_split' : UniformDistribution(0, 0.5),\n",
    "    }\n",
    "\n",
    "rf_study = optuna.create_study(sampler = sampler, direction = 'maximize', study_name = 'RF_HyperParam_CV')\n",
    "\n",
    "rf_oscv = OptunaSearchCV(\n",
    "    study = rf_study,\n",
    "    estimator = rf_optuna_base,\n",
    "    param_distributions = rf_oscv_params,\n",
    "    cv = 10,\n",
    "    n_jobs = -1,\n",
    "    n_trials = 200,\n",
    "    random_state = p.RANDOM_STATE,\n",
    "    refit = True,\n",
    "    scoring = 'r2',\n",
    "    verbose = 1\n",
    ")\n",
    "\n",
    "rf_oscv.fit(X_train, y_train)"
   ]
  },
  {
   "cell_type": "code",
   "execution_count": 23,
   "metadata": {},
   "outputs": [
    {
     "data": {
      "application/vnd.plotly.v1+json": {
       "config": {
        "plotlyServerURL": "https://plot.ly"
       },
       "data": [
        {
         "mode": "markers",
         "name": "Objective Value",
         "type": "scatter",
         "x": [
          0,
          1,
          2,
          3,
          4,
          5,
          6,
          7,
          8,
          9,
          10,
          11,
          12,
          13,
          14,
          15,
          16,
          17,
          18,
          19,
          20,
          21,
          22,
          23,
          24,
          25,
          26,
          27,
          28,
          29,
          30,
          31,
          32,
          33,
          34,
          35,
          36,
          37,
          38,
          39,
          40,
          41,
          42,
          43,
          44,
          45,
          46,
          47,
          48,
          49,
          50,
          51,
          52,
          53,
          54,
          55,
          56,
          57,
          58,
          59,
          60,
          61,
          62,
          63,
          64,
          65,
          66,
          67,
          68,
          69,
          70,
          71,
          72,
          73,
          74,
          75,
          76,
          77,
          78,
          79,
          80,
          81,
          82,
          83,
          84,
          85,
          86,
          87,
          88,
          89,
          90,
          91,
          92,
          93,
          94,
          95,
          96,
          97,
          98,
          99,
          100,
          101,
          102,
          103,
          104,
          105,
          106,
          107,
          108,
          109,
          110,
          111,
          112,
          113,
          114,
          115,
          116,
          117,
          118,
          119,
          120,
          121,
          122,
          123,
          124,
          125,
          126,
          127,
          128,
          129,
          130,
          131,
          132,
          133,
          134,
          135,
          136,
          137,
          138,
          139,
          140,
          141,
          142,
          143,
          144,
          145,
          146,
          147,
          148,
          149,
          150,
          151,
          152,
          153,
          154,
          155,
          156,
          157,
          158,
          159,
          160,
          161,
          162,
          163,
          164,
          165,
          166,
          167,
          168,
          169,
          170,
          171,
          172,
          173,
          174,
          175,
          176,
          177,
          178,
          179,
          180,
          181,
          182,
          183,
          184,
          185,
          186,
          187,
          188,
          189,
          190,
          191,
          192,
          193,
          194,
          195,
          196,
          197,
          198,
          199
         ],
         "y": [
          0.18690593873684422,
          0.7522673268920743,
          0.2338431710328644,
          -0.0013301517740015312,
          0.6137062265008765,
          0.16194840218469625,
          0.13681908824762234,
          0.4710324668464513,
          0.2792255974921575,
          -0.0013407015385649812,
          0.18549388628374747,
          0.14621986898935171,
          0.287850853481464,
          0.5432540668498562,
          0.17957788238346523,
          0.15647704144636831,
          -0.0013486097333834878,
          0.6594943271582097,
          0.6901633680981666,
          0.6835395710052412,
          0.6886971884126672,
          0.6828614593522937,
          0.5605276126268232,
          0.5663139578781541,
          0.5607584265811723,
          0.6126688229076873,
          0.5628379118774742,
          0.5576325343064334,
          0.5630941315908998,
          0.5576325343064336,
          0.653480348098505,
          0.6379948785980425,
          0.5570053871047312,
          0.6858518839261715,
          0.6860724919210556,
          0.6870054511467084,
          0.6950688655989212,
          0.5553386540957125,
          0.6949326892297025,
          0.6950930233655775,
          0.5553386540957129,
          0.718676985422443,
          0.7172600934728091,
          0.5553386540957129,
          0.15767743222805325,
          0.6214135905320622,
          -0.00135714017519184,
          0.33851622267835724,
          0.626955353821885,
          0.610164278961931,
          0.6087245962772553,
          0.5499946982775368,
          0.5877982918861344,
          0.37614939216238275,
          0.41047493143166697,
          0.3837824681178251,
          0.26015491839110383,
          0.3903963725964843,
          0.4775600380717894,
          0.6013310131344685,
          0.5553386540957125,
          0.276776497910051,
          0.46710358843979316,
          0.6491075677693376,
          0.2767764979100509,
          0.2767764979100509,
          0.2767764979100509,
          0.276776497910051,
          0.5553386540957126,
          0.6606320414735215,
          0.6475831284792585,
          0.6655656046285479,
          0.6518340948531478,
          0.6571542601731999,
          0.6397795308981464,
          0.6555326829452285,
          0.690950530534683,
          0.7680289237637512,
          0.6915273976217292,
          0.6637349147469912,
          0.6538036704729315,
          0.6470613731700471,
          0.6703632052004993,
          0.6702600565360733,
          0.6551232583120037,
          0.7640901942143159,
          0.7315875468222939,
          0.7611838901230149,
          0.7318340831996496,
          0.7295248504935363,
          0.7405707983346546,
          0.7158068478786274,
          0.7340797321423719,
          0.7314651983168573,
          0.7094348108701394,
          0.6333763668449677,
          0.62679211233717,
          0.7640901942143159,
          0.7604856718983701,
          0.7640800764271862,
          0.7640968977884672,
          0.7641945027507793,
          0.7407293759974392,
          0.8045064724109745,
          0.7413925128912054,
          0.7405684438078757,
          0.7387771095768633,
          0.7402253940312354,
          0.738278072369529,
          0.7406301293268995,
          0.7381043593228078,
          0.7452230356567233,
          0.738329981688482,
          0.7450317598031518,
          0.7248887373228079,
          0.7305169391814497,
          0.7328186426171636,
          0.6569214830441115,
          0.7631075109650769,
          0.7889356330561504,
          0.6524693930095609,
          0.6518612152185985,
          0.7756434619130571,
          0.7699737578039858,
          0.6863336219547045,
          0.6945951674794443,
          0.7597930655743859,
          0.7037481181971675,
          0.7864324099024311,
          0.773680154205061,
          0.6673533782032244,
          0.7500346422985703,
          0.6958810788876797,
          0.7633984973247443,
          0.7490917498010707,
          0.7513947070374134,
          0.7773658196168031,
          0.7635008180024723,
          0.7679382841896228,
          0.6805608928619818,
          0.6168940313174689,
          0.28867997972289167,
          0.6822214439626304,
          0.6155771211910969,
          0.28828533709912896,
          0.6751330236776419,
          0.6827618617150206,
          0.28818186775559085,
          -0.0013532522743284537,
          0.28833948773706586,
          0.30438704600927535,
          0.6893511654481038,
          0.7014820669556446,
          0.28833367885402295,
          0.2877652972653057,
          0.6401212821087714,
          0.13485919725590811,
          0.6063032132101815,
          0.7577980097256408,
          0.7597516694842644,
          0.765500458016292,
          0.65620637945693,
          0.6323124514770251,
          0.8022959599253798,
          0.80496470814667,
          0.7487789079922418,
          0.7945559316721974,
          0.8013298142652836,
          0.7974224158087133,
          0.7990456239882577,
          0.7962888946328358,
          0.7926745081685078,
          0.819910803885185,
          0.8335693392470791,
          0.839683216273141,
          0.829797002372674,
          0.826899759260949,
          0.8064011262350576,
          0.8107511900675576,
          0.7960693101984285,
          0.807976415711899,
          0.8035836178559619,
          0.8137723616929206,
          0.8195621058809544,
          0.8391529852939745,
          0.8391185526190927,
          0.83829013567705,
          0.838863045899861,
          0.8387348579718571,
          0.8418801047907072,
          0.7216046503743596,
          0.7183760137770276,
          0.8427969255387874,
          0.7330792781753115,
          0.7207844970739719,
          0.71604363067367,
          0.7269314959387774,
          0.7298565133525451,
          0.7463931302733944,
          0.7396877563011249
         ]
        },
        {
         "name": "Best Value",
         "type": "scatter",
         "x": [
          0,
          1,
          2,
          3,
          4,
          5,
          6,
          7,
          8,
          9,
          10,
          11,
          12,
          13,
          14,
          15,
          16,
          17,
          18,
          19,
          20,
          21,
          22,
          23,
          24,
          25,
          26,
          27,
          28,
          29,
          30,
          31,
          32,
          33,
          34,
          35,
          36,
          37,
          38,
          39,
          40,
          41,
          42,
          43,
          44,
          45,
          46,
          47,
          48,
          49,
          50,
          51,
          52,
          53,
          54,
          55,
          56,
          57,
          58,
          59,
          60,
          61,
          62,
          63,
          64,
          65,
          66,
          67,
          68,
          69,
          70,
          71,
          72,
          73,
          74,
          75,
          76,
          77,
          78,
          79,
          80,
          81,
          82,
          83,
          84,
          85,
          86,
          87,
          88,
          89,
          90,
          91,
          92,
          93,
          94,
          95,
          96,
          97,
          98,
          99,
          100,
          101,
          102,
          103,
          104,
          105,
          106,
          107,
          108,
          109,
          110,
          111,
          112,
          113,
          114,
          115,
          116,
          117,
          118,
          119,
          120,
          121,
          122,
          123,
          124,
          125,
          126,
          127,
          128,
          129,
          130,
          131,
          132,
          133,
          134,
          135,
          136,
          137,
          138,
          139,
          140,
          141,
          142,
          143,
          144,
          145,
          146,
          147,
          148,
          149,
          150,
          151,
          152,
          153,
          154,
          155,
          156,
          157,
          158,
          159,
          160,
          161,
          162,
          163,
          164,
          165,
          166,
          167,
          168,
          169,
          170,
          171,
          172,
          173,
          174,
          175,
          176,
          177,
          178,
          179,
          180,
          181,
          182,
          183,
          184,
          185,
          186,
          187,
          188,
          189,
          190,
          191,
          192,
          193,
          194,
          195,
          196,
          197,
          198,
          199
         ],
         "y": [
          0.18690593873684422,
          0.7522673268920743,
          0.7522673268920743,
          0.7522673268920743,
          0.7522673268920743,
          0.7522673268920743,
          0.7522673268920743,
          0.7522673268920743,
          0.7522673268920743,
          0.7522673268920743,
          0.7522673268920743,
          0.7522673268920743,
          0.7522673268920743,
          0.7522673268920743,
          0.7522673268920743,
          0.7522673268920743,
          0.7522673268920743,
          0.7522673268920743,
          0.7522673268920743,
          0.7522673268920743,
          0.7522673268920743,
          0.7522673268920743,
          0.7522673268920743,
          0.7522673268920743,
          0.7522673268920743,
          0.7522673268920743,
          0.7522673268920743,
          0.7522673268920743,
          0.7522673268920743,
          0.7522673268920743,
          0.7522673268920743,
          0.7522673268920743,
          0.7522673268920743,
          0.7522673268920743,
          0.7522673268920743,
          0.7522673268920743,
          0.7522673268920743,
          0.7522673268920743,
          0.7522673268920743,
          0.7522673268920743,
          0.7522673268920743,
          0.7522673268920743,
          0.7522673268920743,
          0.7522673268920743,
          0.7522673268920743,
          0.7522673268920743,
          0.7522673268920743,
          0.7522673268920743,
          0.7522673268920743,
          0.7522673268920743,
          0.7522673268920743,
          0.7522673268920743,
          0.7522673268920743,
          0.7522673268920743,
          0.7522673268920743,
          0.7522673268920743,
          0.7522673268920743,
          0.7522673268920743,
          0.7522673268920743,
          0.7522673268920743,
          0.7522673268920743,
          0.7522673268920743,
          0.7522673268920743,
          0.7522673268920743,
          0.7522673268920743,
          0.7522673268920743,
          0.7522673268920743,
          0.7522673268920743,
          0.7522673268920743,
          0.7522673268920743,
          0.7522673268920743,
          0.7522673268920743,
          0.7522673268920743,
          0.7522673268920743,
          0.7522673268920743,
          0.7522673268920743,
          0.7522673268920743,
          0.7680289237637512,
          0.7680289237637512,
          0.7680289237637512,
          0.7680289237637512,
          0.7680289237637512,
          0.7680289237637512,
          0.7680289237637512,
          0.7680289237637512,
          0.7680289237637512,
          0.7680289237637512,
          0.7680289237637512,
          0.7680289237637512,
          0.7680289237637512,
          0.7680289237637512,
          0.7680289237637512,
          0.7680289237637512,
          0.7680289237637512,
          0.7680289237637512,
          0.7680289237637512,
          0.7680289237637512,
          0.7680289237637512,
          0.7680289237637512,
          0.7680289237637512,
          0.7680289237637512,
          0.7680289237637512,
          0.7680289237637512,
          0.8045064724109745,
          0.8045064724109745,
          0.8045064724109745,
          0.8045064724109745,
          0.8045064724109745,
          0.8045064724109745,
          0.8045064724109745,
          0.8045064724109745,
          0.8045064724109745,
          0.8045064724109745,
          0.8045064724109745,
          0.8045064724109745,
          0.8045064724109745,
          0.8045064724109745,
          0.8045064724109745,
          0.8045064724109745,
          0.8045064724109745,
          0.8045064724109745,
          0.8045064724109745,
          0.8045064724109745,
          0.8045064724109745,
          0.8045064724109745,
          0.8045064724109745,
          0.8045064724109745,
          0.8045064724109745,
          0.8045064724109745,
          0.8045064724109745,
          0.8045064724109745,
          0.8045064724109745,
          0.8045064724109745,
          0.8045064724109745,
          0.8045064724109745,
          0.8045064724109745,
          0.8045064724109745,
          0.8045064724109745,
          0.8045064724109745,
          0.8045064724109745,
          0.8045064724109745,
          0.8045064724109745,
          0.8045064724109745,
          0.8045064724109745,
          0.8045064724109745,
          0.8045064724109745,
          0.8045064724109745,
          0.8045064724109745,
          0.8045064724109745,
          0.8045064724109745,
          0.8045064724109745,
          0.8045064724109745,
          0.8045064724109745,
          0.8045064724109745,
          0.8045064724109745,
          0.8045064724109745,
          0.8045064724109745,
          0.8045064724109745,
          0.8045064724109745,
          0.8045064724109745,
          0.8045064724109745,
          0.8045064724109745,
          0.8045064724109745,
          0.8045064724109745,
          0.80496470814667,
          0.80496470814667,
          0.80496470814667,
          0.80496470814667,
          0.80496470814667,
          0.80496470814667,
          0.80496470814667,
          0.80496470814667,
          0.819910803885185,
          0.8335693392470791,
          0.839683216273141,
          0.839683216273141,
          0.839683216273141,
          0.839683216273141,
          0.839683216273141,
          0.839683216273141,
          0.839683216273141,
          0.839683216273141,
          0.839683216273141,
          0.839683216273141,
          0.839683216273141,
          0.839683216273141,
          0.839683216273141,
          0.839683216273141,
          0.839683216273141,
          0.8418801047907072,
          0.8418801047907072,
          0.8418801047907072,
          0.8427969255387874,
          0.8427969255387874,
          0.8427969255387874,
          0.8427969255387874,
          0.8427969255387874,
          0.8427969255387874,
          0.8427969255387874,
          0.8427969255387874
         ]
        }
       ],
       "layout": {
        "template": {
         "data": {
          "bar": [
           {
            "error_x": {
             "color": "#2a3f5f"
            },
            "error_y": {
             "color": "#2a3f5f"
            },
            "marker": {
             "line": {
              "color": "#E5ECF6",
              "width": 0.5
             },
             "pattern": {
              "fillmode": "overlay",
              "size": 10,
              "solidity": 0.2
             }
            },
            "type": "bar"
           }
          ],
          "barpolar": [
           {
            "marker": {
             "line": {
              "color": "#E5ECF6",
              "width": 0.5
             },
             "pattern": {
              "fillmode": "overlay",
              "size": 10,
              "solidity": 0.2
             }
            },
            "type": "barpolar"
           }
          ],
          "carpet": [
           {
            "aaxis": {
             "endlinecolor": "#2a3f5f",
             "gridcolor": "white",
             "linecolor": "white",
             "minorgridcolor": "white",
             "startlinecolor": "#2a3f5f"
            },
            "baxis": {
             "endlinecolor": "#2a3f5f",
             "gridcolor": "white",
             "linecolor": "white",
             "minorgridcolor": "white",
             "startlinecolor": "#2a3f5f"
            },
            "type": "carpet"
           }
          ],
          "choropleth": [
           {
            "colorbar": {
             "outlinewidth": 0,
             "ticks": ""
            },
            "type": "choropleth"
           }
          ],
          "contour": [
           {
            "colorbar": {
             "outlinewidth": 0,
             "ticks": ""
            },
            "colorscale": [
             [
              0,
              "#0d0887"
             ],
             [
              0.1111111111111111,
              "#46039f"
             ],
             [
              0.2222222222222222,
              "#7201a8"
             ],
             [
              0.3333333333333333,
              "#9c179e"
             ],
             [
              0.4444444444444444,
              "#bd3786"
             ],
             [
              0.5555555555555556,
              "#d8576b"
             ],
             [
              0.6666666666666666,
              "#ed7953"
             ],
             [
              0.7777777777777778,
              "#fb9f3a"
             ],
             [
              0.8888888888888888,
              "#fdca26"
             ],
             [
              1,
              "#f0f921"
             ]
            ],
            "type": "contour"
           }
          ],
          "contourcarpet": [
           {
            "colorbar": {
             "outlinewidth": 0,
             "ticks": ""
            },
            "type": "contourcarpet"
           }
          ],
          "heatmap": [
           {
            "colorbar": {
             "outlinewidth": 0,
             "ticks": ""
            },
            "colorscale": [
             [
              0,
              "#0d0887"
             ],
             [
              0.1111111111111111,
              "#46039f"
             ],
             [
              0.2222222222222222,
              "#7201a8"
             ],
             [
              0.3333333333333333,
              "#9c179e"
             ],
             [
              0.4444444444444444,
              "#bd3786"
             ],
             [
              0.5555555555555556,
              "#d8576b"
             ],
             [
              0.6666666666666666,
              "#ed7953"
             ],
             [
              0.7777777777777778,
              "#fb9f3a"
             ],
             [
              0.8888888888888888,
              "#fdca26"
             ],
             [
              1,
              "#f0f921"
             ]
            ],
            "type": "heatmap"
           }
          ],
          "heatmapgl": [
           {
            "colorbar": {
             "outlinewidth": 0,
             "ticks": ""
            },
            "colorscale": [
             [
              0,
              "#0d0887"
             ],
             [
              0.1111111111111111,
              "#46039f"
             ],
             [
              0.2222222222222222,
              "#7201a8"
             ],
             [
              0.3333333333333333,
              "#9c179e"
             ],
             [
              0.4444444444444444,
              "#bd3786"
             ],
             [
              0.5555555555555556,
              "#d8576b"
             ],
             [
              0.6666666666666666,
              "#ed7953"
             ],
             [
              0.7777777777777778,
              "#fb9f3a"
             ],
             [
              0.8888888888888888,
              "#fdca26"
             ],
             [
              1,
              "#f0f921"
             ]
            ],
            "type": "heatmapgl"
           }
          ],
          "histogram": [
           {
            "marker": {
             "pattern": {
              "fillmode": "overlay",
              "size": 10,
              "solidity": 0.2
             }
            },
            "type": "histogram"
           }
          ],
          "histogram2d": [
           {
            "colorbar": {
             "outlinewidth": 0,
             "ticks": ""
            },
            "colorscale": [
             [
              0,
              "#0d0887"
             ],
             [
              0.1111111111111111,
              "#46039f"
             ],
             [
              0.2222222222222222,
              "#7201a8"
             ],
             [
              0.3333333333333333,
              "#9c179e"
             ],
             [
              0.4444444444444444,
              "#bd3786"
             ],
             [
              0.5555555555555556,
              "#d8576b"
             ],
             [
              0.6666666666666666,
              "#ed7953"
             ],
             [
              0.7777777777777778,
              "#fb9f3a"
             ],
             [
              0.8888888888888888,
              "#fdca26"
             ],
             [
              1,
              "#f0f921"
             ]
            ],
            "type": "histogram2d"
           }
          ],
          "histogram2dcontour": [
           {
            "colorbar": {
             "outlinewidth": 0,
             "ticks": ""
            },
            "colorscale": [
             [
              0,
              "#0d0887"
             ],
             [
              0.1111111111111111,
              "#46039f"
             ],
             [
              0.2222222222222222,
              "#7201a8"
             ],
             [
              0.3333333333333333,
              "#9c179e"
             ],
             [
              0.4444444444444444,
              "#bd3786"
             ],
             [
              0.5555555555555556,
              "#d8576b"
             ],
             [
              0.6666666666666666,
              "#ed7953"
             ],
             [
              0.7777777777777778,
              "#fb9f3a"
             ],
             [
              0.8888888888888888,
              "#fdca26"
             ],
             [
              1,
              "#f0f921"
             ]
            ],
            "type": "histogram2dcontour"
           }
          ],
          "mesh3d": [
           {
            "colorbar": {
             "outlinewidth": 0,
             "ticks": ""
            },
            "type": "mesh3d"
           }
          ],
          "parcoords": [
           {
            "line": {
             "colorbar": {
              "outlinewidth": 0,
              "ticks": ""
             }
            },
            "type": "parcoords"
           }
          ],
          "pie": [
           {
            "automargin": true,
            "type": "pie"
           }
          ],
          "scatter": [
           {
            "marker": {
             "colorbar": {
              "outlinewidth": 0,
              "ticks": ""
             }
            },
            "type": "scatter"
           }
          ],
          "scatter3d": [
           {
            "line": {
             "colorbar": {
              "outlinewidth": 0,
              "ticks": ""
             }
            },
            "marker": {
             "colorbar": {
              "outlinewidth": 0,
              "ticks": ""
             }
            },
            "type": "scatter3d"
           }
          ],
          "scattercarpet": [
           {
            "marker": {
             "colorbar": {
              "outlinewidth": 0,
              "ticks": ""
             }
            },
            "type": "scattercarpet"
           }
          ],
          "scattergeo": [
           {
            "marker": {
             "colorbar": {
              "outlinewidth": 0,
              "ticks": ""
             }
            },
            "type": "scattergeo"
           }
          ],
          "scattergl": [
           {
            "marker": {
             "colorbar": {
              "outlinewidth": 0,
              "ticks": ""
             }
            },
            "type": "scattergl"
           }
          ],
          "scattermapbox": [
           {
            "marker": {
             "colorbar": {
              "outlinewidth": 0,
              "ticks": ""
             }
            },
            "type": "scattermapbox"
           }
          ],
          "scatterpolar": [
           {
            "marker": {
             "colorbar": {
              "outlinewidth": 0,
              "ticks": ""
             }
            },
            "type": "scatterpolar"
           }
          ],
          "scatterpolargl": [
           {
            "marker": {
             "colorbar": {
              "outlinewidth": 0,
              "ticks": ""
             }
            },
            "type": "scatterpolargl"
           }
          ],
          "scatterternary": [
           {
            "marker": {
             "colorbar": {
              "outlinewidth": 0,
              "ticks": ""
             }
            },
            "type": "scatterternary"
           }
          ],
          "surface": [
           {
            "colorbar": {
             "outlinewidth": 0,
             "ticks": ""
            },
            "colorscale": [
             [
              0,
              "#0d0887"
             ],
             [
              0.1111111111111111,
              "#46039f"
             ],
             [
              0.2222222222222222,
              "#7201a8"
             ],
             [
              0.3333333333333333,
              "#9c179e"
             ],
             [
              0.4444444444444444,
              "#bd3786"
             ],
             [
              0.5555555555555556,
              "#d8576b"
             ],
             [
              0.6666666666666666,
              "#ed7953"
             ],
             [
              0.7777777777777778,
              "#fb9f3a"
             ],
             [
              0.8888888888888888,
              "#fdca26"
             ],
             [
              1,
              "#f0f921"
             ]
            ],
            "type": "surface"
           }
          ],
          "table": [
           {
            "cells": {
             "fill": {
              "color": "#EBF0F8"
             },
             "line": {
              "color": "white"
             }
            },
            "header": {
             "fill": {
              "color": "#C8D4E3"
             },
             "line": {
              "color": "white"
             }
            },
            "type": "table"
           }
          ]
         },
         "layout": {
          "annotationdefaults": {
           "arrowcolor": "#2a3f5f",
           "arrowhead": 0,
           "arrowwidth": 1
          },
          "autotypenumbers": "strict",
          "coloraxis": {
           "colorbar": {
            "outlinewidth": 0,
            "ticks": ""
           }
          },
          "colorscale": {
           "diverging": [
            [
             0,
             "#8e0152"
            ],
            [
             0.1,
             "#c51b7d"
            ],
            [
             0.2,
             "#de77ae"
            ],
            [
             0.3,
             "#f1b6da"
            ],
            [
             0.4,
             "#fde0ef"
            ],
            [
             0.5,
             "#f7f7f7"
            ],
            [
             0.6,
             "#e6f5d0"
            ],
            [
             0.7,
             "#b8e186"
            ],
            [
             0.8,
             "#7fbc41"
            ],
            [
             0.9,
             "#4d9221"
            ],
            [
             1,
             "#276419"
            ]
           ],
           "sequential": [
            [
             0,
             "#0d0887"
            ],
            [
             0.1111111111111111,
             "#46039f"
            ],
            [
             0.2222222222222222,
             "#7201a8"
            ],
            [
             0.3333333333333333,
             "#9c179e"
            ],
            [
             0.4444444444444444,
             "#bd3786"
            ],
            [
             0.5555555555555556,
             "#d8576b"
            ],
            [
             0.6666666666666666,
             "#ed7953"
            ],
            [
             0.7777777777777778,
             "#fb9f3a"
            ],
            [
             0.8888888888888888,
             "#fdca26"
            ],
            [
             1,
             "#f0f921"
            ]
           ],
           "sequentialminus": [
            [
             0,
             "#0d0887"
            ],
            [
             0.1111111111111111,
             "#46039f"
            ],
            [
             0.2222222222222222,
             "#7201a8"
            ],
            [
             0.3333333333333333,
             "#9c179e"
            ],
            [
             0.4444444444444444,
             "#bd3786"
            ],
            [
             0.5555555555555556,
             "#d8576b"
            ],
            [
             0.6666666666666666,
             "#ed7953"
            ],
            [
             0.7777777777777778,
             "#fb9f3a"
            ],
            [
             0.8888888888888888,
             "#fdca26"
            ],
            [
             1,
             "#f0f921"
            ]
           ]
          },
          "colorway": [
           "#636efa",
           "#EF553B",
           "#00cc96",
           "#ab63fa",
           "#FFA15A",
           "#19d3f3",
           "#FF6692",
           "#B6E880",
           "#FF97FF",
           "#FECB52"
          ],
          "font": {
           "color": "#2a3f5f"
          },
          "geo": {
           "bgcolor": "white",
           "lakecolor": "white",
           "landcolor": "#E5ECF6",
           "showlakes": true,
           "showland": true,
           "subunitcolor": "white"
          },
          "hoverlabel": {
           "align": "left"
          },
          "hovermode": "closest",
          "mapbox": {
           "style": "light"
          },
          "paper_bgcolor": "white",
          "plot_bgcolor": "#E5ECF6",
          "polar": {
           "angularaxis": {
            "gridcolor": "white",
            "linecolor": "white",
            "ticks": ""
           },
           "bgcolor": "#E5ECF6",
           "radialaxis": {
            "gridcolor": "white",
            "linecolor": "white",
            "ticks": ""
           }
          },
          "scene": {
           "xaxis": {
            "backgroundcolor": "#E5ECF6",
            "gridcolor": "white",
            "gridwidth": 2,
            "linecolor": "white",
            "showbackground": true,
            "ticks": "",
            "zerolinecolor": "white"
           },
           "yaxis": {
            "backgroundcolor": "#E5ECF6",
            "gridcolor": "white",
            "gridwidth": 2,
            "linecolor": "white",
            "showbackground": true,
            "ticks": "",
            "zerolinecolor": "white"
           },
           "zaxis": {
            "backgroundcolor": "#E5ECF6",
            "gridcolor": "white",
            "gridwidth": 2,
            "linecolor": "white",
            "showbackground": true,
            "ticks": "",
            "zerolinecolor": "white"
           }
          },
          "shapedefaults": {
           "line": {
            "color": "#2a3f5f"
           }
          },
          "ternary": {
           "aaxis": {
            "gridcolor": "white",
            "linecolor": "white",
            "ticks": ""
           },
           "baxis": {
            "gridcolor": "white",
            "linecolor": "white",
            "ticks": ""
           },
           "bgcolor": "#E5ECF6",
           "caxis": {
            "gridcolor": "white",
            "linecolor": "white",
            "ticks": ""
           }
          },
          "title": {
           "x": 0.05
          },
          "xaxis": {
           "automargin": true,
           "gridcolor": "white",
           "linecolor": "white",
           "ticks": "",
           "title": {
            "standoff": 15
           },
           "zerolinecolor": "white",
           "zerolinewidth": 2
          },
          "yaxis": {
           "automargin": true,
           "gridcolor": "white",
           "linecolor": "white",
           "ticks": "",
           "title": {
            "standoff": 15
           },
           "zerolinecolor": "white",
           "zerolinewidth": 2
          }
         }
        },
        "title": {
         "text": "Optimization History Plot"
        },
        "xaxis": {
         "title": {
          "text": "#Trials"
         }
        },
        "yaxis": {
         "title": {
          "text": "Objective Value"
         }
        }
       }
      }
     },
     "metadata": {},
     "output_type": "display_data"
    },
    {
     "data": {
      "application/vnd.plotly.v1+json": {
       "config": {
        "plotlyServerURL": "https://plot.ly"
       },
       "data": [
        {
         "cliponaxis": false,
         "hovertemplate": [
          "max_depth (IntUniformDistribution): 0.001482964933233775<extra></extra>",
          "n_estimators (IntUniformDistribution): 0.004061178656596264<extra></extra>",
          "bootstrap (CategoricalDistribution): 0.012866729593342388<extra></extra>",
          "min_samples_split (UniformDistribution): 0.04274029010615676<extra></extra>",
          "max_features (CategoricalDistribution): 0.06221469067021597<extra></extra>",
          "min_samples_leaf (UniformDistribution): 0.8766341460404549<extra></extra>"
         ],
         "marker": {
          "color": "rgb(66,146,198)"
         },
         "orientation": "h",
         "text": [
          "0.001482964933233775",
          "0.004061178656596264",
          "0.012866729593342388",
          "0.04274029010615676",
          "0.06221469067021597",
          "0.8766341460404549"
         ],
         "textposition": "outside",
         "texttemplate": "%{text:.2f}",
         "type": "bar",
         "x": [
          0.001482964933233775,
          0.004061178656596264,
          0.012866729593342388,
          0.04274029010615676,
          0.06221469067021597,
          0.8766341460404549
         ],
         "y": [
          "max_depth",
          "n_estimators",
          "bootstrap",
          "min_samples_split",
          "max_features",
          "min_samples_leaf"
         ]
        }
       ],
       "layout": {
        "showlegend": false,
        "template": {
         "data": {
          "bar": [
           {
            "error_x": {
             "color": "#2a3f5f"
            },
            "error_y": {
             "color": "#2a3f5f"
            },
            "marker": {
             "line": {
              "color": "#E5ECF6",
              "width": 0.5
             },
             "pattern": {
              "fillmode": "overlay",
              "size": 10,
              "solidity": 0.2
             }
            },
            "type": "bar"
           }
          ],
          "barpolar": [
           {
            "marker": {
             "line": {
              "color": "#E5ECF6",
              "width": 0.5
             },
             "pattern": {
              "fillmode": "overlay",
              "size": 10,
              "solidity": 0.2
             }
            },
            "type": "barpolar"
           }
          ],
          "carpet": [
           {
            "aaxis": {
             "endlinecolor": "#2a3f5f",
             "gridcolor": "white",
             "linecolor": "white",
             "minorgridcolor": "white",
             "startlinecolor": "#2a3f5f"
            },
            "baxis": {
             "endlinecolor": "#2a3f5f",
             "gridcolor": "white",
             "linecolor": "white",
             "minorgridcolor": "white",
             "startlinecolor": "#2a3f5f"
            },
            "type": "carpet"
           }
          ],
          "choropleth": [
           {
            "colorbar": {
             "outlinewidth": 0,
             "ticks": ""
            },
            "type": "choropleth"
           }
          ],
          "contour": [
           {
            "colorbar": {
             "outlinewidth": 0,
             "ticks": ""
            },
            "colorscale": [
             [
              0,
              "#0d0887"
             ],
             [
              0.1111111111111111,
              "#46039f"
             ],
             [
              0.2222222222222222,
              "#7201a8"
             ],
             [
              0.3333333333333333,
              "#9c179e"
             ],
             [
              0.4444444444444444,
              "#bd3786"
             ],
             [
              0.5555555555555556,
              "#d8576b"
             ],
             [
              0.6666666666666666,
              "#ed7953"
             ],
             [
              0.7777777777777778,
              "#fb9f3a"
             ],
             [
              0.8888888888888888,
              "#fdca26"
             ],
             [
              1,
              "#f0f921"
             ]
            ],
            "type": "contour"
           }
          ],
          "contourcarpet": [
           {
            "colorbar": {
             "outlinewidth": 0,
             "ticks": ""
            },
            "type": "contourcarpet"
           }
          ],
          "heatmap": [
           {
            "colorbar": {
             "outlinewidth": 0,
             "ticks": ""
            },
            "colorscale": [
             [
              0,
              "#0d0887"
             ],
             [
              0.1111111111111111,
              "#46039f"
             ],
             [
              0.2222222222222222,
              "#7201a8"
             ],
             [
              0.3333333333333333,
              "#9c179e"
             ],
             [
              0.4444444444444444,
              "#bd3786"
             ],
             [
              0.5555555555555556,
              "#d8576b"
             ],
             [
              0.6666666666666666,
              "#ed7953"
             ],
             [
              0.7777777777777778,
              "#fb9f3a"
             ],
             [
              0.8888888888888888,
              "#fdca26"
             ],
             [
              1,
              "#f0f921"
             ]
            ],
            "type": "heatmap"
           }
          ],
          "heatmapgl": [
           {
            "colorbar": {
             "outlinewidth": 0,
             "ticks": ""
            },
            "colorscale": [
             [
              0,
              "#0d0887"
             ],
             [
              0.1111111111111111,
              "#46039f"
             ],
             [
              0.2222222222222222,
              "#7201a8"
             ],
             [
              0.3333333333333333,
              "#9c179e"
             ],
             [
              0.4444444444444444,
              "#bd3786"
             ],
             [
              0.5555555555555556,
              "#d8576b"
             ],
             [
              0.6666666666666666,
              "#ed7953"
             ],
             [
              0.7777777777777778,
              "#fb9f3a"
             ],
             [
              0.8888888888888888,
              "#fdca26"
             ],
             [
              1,
              "#f0f921"
             ]
            ],
            "type": "heatmapgl"
           }
          ],
          "histogram": [
           {
            "marker": {
             "pattern": {
              "fillmode": "overlay",
              "size": 10,
              "solidity": 0.2
             }
            },
            "type": "histogram"
           }
          ],
          "histogram2d": [
           {
            "colorbar": {
             "outlinewidth": 0,
             "ticks": ""
            },
            "colorscale": [
             [
              0,
              "#0d0887"
             ],
             [
              0.1111111111111111,
              "#46039f"
             ],
             [
              0.2222222222222222,
              "#7201a8"
             ],
             [
              0.3333333333333333,
              "#9c179e"
             ],
             [
              0.4444444444444444,
              "#bd3786"
             ],
             [
              0.5555555555555556,
              "#d8576b"
             ],
             [
              0.6666666666666666,
              "#ed7953"
             ],
             [
              0.7777777777777778,
              "#fb9f3a"
             ],
             [
              0.8888888888888888,
              "#fdca26"
             ],
             [
              1,
              "#f0f921"
             ]
            ],
            "type": "histogram2d"
           }
          ],
          "histogram2dcontour": [
           {
            "colorbar": {
             "outlinewidth": 0,
             "ticks": ""
            },
            "colorscale": [
             [
              0,
              "#0d0887"
             ],
             [
              0.1111111111111111,
              "#46039f"
             ],
             [
              0.2222222222222222,
              "#7201a8"
             ],
             [
              0.3333333333333333,
              "#9c179e"
             ],
             [
              0.4444444444444444,
              "#bd3786"
             ],
             [
              0.5555555555555556,
              "#d8576b"
             ],
             [
              0.6666666666666666,
              "#ed7953"
             ],
             [
              0.7777777777777778,
              "#fb9f3a"
             ],
             [
              0.8888888888888888,
              "#fdca26"
             ],
             [
              1,
              "#f0f921"
             ]
            ],
            "type": "histogram2dcontour"
           }
          ],
          "mesh3d": [
           {
            "colorbar": {
             "outlinewidth": 0,
             "ticks": ""
            },
            "type": "mesh3d"
           }
          ],
          "parcoords": [
           {
            "line": {
             "colorbar": {
              "outlinewidth": 0,
              "ticks": ""
             }
            },
            "type": "parcoords"
           }
          ],
          "pie": [
           {
            "automargin": true,
            "type": "pie"
           }
          ],
          "scatter": [
           {
            "marker": {
             "colorbar": {
              "outlinewidth": 0,
              "ticks": ""
             }
            },
            "type": "scatter"
           }
          ],
          "scatter3d": [
           {
            "line": {
             "colorbar": {
              "outlinewidth": 0,
              "ticks": ""
             }
            },
            "marker": {
             "colorbar": {
              "outlinewidth": 0,
              "ticks": ""
             }
            },
            "type": "scatter3d"
           }
          ],
          "scattercarpet": [
           {
            "marker": {
             "colorbar": {
              "outlinewidth": 0,
              "ticks": ""
             }
            },
            "type": "scattercarpet"
           }
          ],
          "scattergeo": [
           {
            "marker": {
             "colorbar": {
              "outlinewidth": 0,
              "ticks": ""
             }
            },
            "type": "scattergeo"
           }
          ],
          "scattergl": [
           {
            "marker": {
             "colorbar": {
              "outlinewidth": 0,
              "ticks": ""
             }
            },
            "type": "scattergl"
           }
          ],
          "scattermapbox": [
           {
            "marker": {
             "colorbar": {
              "outlinewidth": 0,
              "ticks": ""
             }
            },
            "type": "scattermapbox"
           }
          ],
          "scatterpolar": [
           {
            "marker": {
             "colorbar": {
              "outlinewidth": 0,
              "ticks": ""
             }
            },
            "type": "scatterpolar"
           }
          ],
          "scatterpolargl": [
           {
            "marker": {
             "colorbar": {
              "outlinewidth": 0,
              "ticks": ""
             }
            },
            "type": "scatterpolargl"
           }
          ],
          "scatterternary": [
           {
            "marker": {
             "colorbar": {
              "outlinewidth": 0,
              "ticks": ""
             }
            },
            "type": "scatterternary"
           }
          ],
          "surface": [
           {
            "colorbar": {
             "outlinewidth": 0,
             "ticks": ""
            },
            "colorscale": [
             [
              0,
              "#0d0887"
             ],
             [
              0.1111111111111111,
              "#46039f"
             ],
             [
              0.2222222222222222,
              "#7201a8"
             ],
             [
              0.3333333333333333,
              "#9c179e"
             ],
             [
              0.4444444444444444,
              "#bd3786"
             ],
             [
              0.5555555555555556,
              "#d8576b"
             ],
             [
              0.6666666666666666,
              "#ed7953"
             ],
             [
              0.7777777777777778,
              "#fb9f3a"
             ],
             [
              0.8888888888888888,
              "#fdca26"
             ],
             [
              1,
              "#f0f921"
             ]
            ],
            "type": "surface"
           }
          ],
          "table": [
           {
            "cells": {
             "fill": {
              "color": "#EBF0F8"
             },
             "line": {
              "color": "white"
             }
            },
            "header": {
             "fill": {
              "color": "#C8D4E3"
             },
             "line": {
              "color": "white"
             }
            },
            "type": "table"
           }
          ]
         },
         "layout": {
          "annotationdefaults": {
           "arrowcolor": "#2a3f5f",
           "arrowhead": 0,
           "arrowwidth": 1
          },
          "autotypenumbers": "strict",
          "coloraxis": {
           "colorbar": {
            "outlinewidth": 0,
            "ticks": ""
           }
          },
          "colorscale": {
           "diverging": [
            [
             0,
             "#8e0152"
            ],
            [
             0.1,
             "#c51b7d"
            ],
            [
             0.2,
             "#de77ae"
            ],
            [
             0.3,
             "#f1b6da"
            ],
            [
             0.4,
             "#fde0ef"
            ],
            [
             0.5,
             "#f7f7f7"
            ],
            [
             0.6,
             "#e6f5d0"
            ],
            [
             0.7,
             "#b8e186"
            ],
            [
             0.8,
             "#7fbc41"
            ],
            [
             0.9,
             "#4d9221"
            ],
            [
             1,
             "#276419"
            ]
           ],
           "sequential": [
            [
             0,
             "#0d0887"
            ],
            [
             0.1111111111111111,
             "#46039f"
            ],
            [
             0.2222222222222222,
             "#7201a8"
            ],
            [
             0.3333333333333333,
             "#9c179e"
            ],
            [
             0.4444444444444444,
             "#bd3786"
            ],
            [
             0.5555555555555556,
             "#d8576b"
            ],
            [
             0.6666666666666666,
             "#ed7953"
            ],
            [
             0.7777777777777778,
             "#fb9f3a"
            ],
            [
             0.8888888888888888,
             "#fdca26"
            ],
            [
             1,
             "#f0f921"
            ]
           ],
           "sequentialminus": [
            [
             0,
             "#0d0887"
            ],
            [
             0.1111111111111111,
             "#46039f"
            ],
            [
             0.2222222222222222,
             "#7201a8"
            ],
            [
             0.3333333333333333,
             "#9c179e"
            ],
            [
             0.4444444444444444,
             "#bd3786"
            ],
            [
             0.5555555555555556,
             "#d8576b"
            ],
            [
             0.6666666666666666,
             "#ed7953"
            ],
            [
             0.7777777777777778,
             "#fb9f3a"
            ],
            [
             0.8888888888888888,
             "#fdca26"
            ],
            [
             1,
             "#f0f921"
            ]
           ]
          },
          "colorway": [
           "#636efa",
           "#EF553B",
           "#00cc96",
           "#ab63fa",
           "#FFA15A",
           "#19d3f3",
           "#FF6692",
           "#B6E880",
           "#FF97FF",
           "#FECB52"
          ],
          "font": {
           "color": "#2a3f5f"
          },
          "geo": {
           "bgcolor": "white",
           "lakecolor": "white",
           "landcolor": "#E5ECF6",
           "showlakes": true,
           "showland": true,
           "subunitcolor": "white"
          },
          "hoverlabel": {
           "align": "left"
          },
          "hovermode": "closest",
          "mapbox": {
           "style": "light"
          },
          "paper_bgcolor": "white",
          "plot_bgcolor": "#E5ECF6",
          "polar": {
           "angularaxis": {
            "gridcolor": "white",
            "linecolor": "white",
            "ticks": ""
           },
           "bgcolor": "#E5ECF6",
           "radialaxis": {
            "gridcolor": "white",
            "linecolor": "white",
            "ticks": ""
           }
          },
          "scene": {
           "xaxis": {
            "backgroundcolor": "#E5ECF6",
            "gridcolor": "white",
            "gridwidth": 2,
            "linecolor": "white",
            "showbackground": true,
            "ticks": "",
            "zerolinecolor": "white"
           },
           "yaxis": {
            "backgroundcolor": "#E5ECF6",
            "gridcolor": "white",
            "gridwidth": 2,
            "linecolor": "white",
            "showbackground": true,
            "ticks": "",
            "zerolinecolor": "white"
           },
           "zaxis": {
            "backgroundcolor": "#E5ECF6",
            "gridcolor": "white",
            "gridwidth": 2,
            "linecolor": "white",
            "showbackground": true,
            "ticks": "",
            "zerolinecolor": "white"
           }
          },
          "shapedefaults": {
           "line": {
            "color": "#2a3f5f"
           }
          },
          "ternary": {
           "aaxis": {
            "gridcolor": "white",
            "linecolor": "white",
            "ticks": ""
           },
           "baxis": {
            "gridcolor": "white",
            "linecolor": "white",
            "ticks": ""
           },
           "bgcolor": "#E5ECF6",
           "caxis": {
            "gridcolor": "white",
            "linecolor": "white",
            "ticks": ""
           }
          },
          "title": {
           "x": 0.05
          },
          "xaxis": {
           "automargin": true,
           "gridcolor": "white",
           "linecolor": "white",
           "ticks": "",
           "title": {
            "standoff": 15
           },
           "zerolinecolor": "white",
           "zerolinewidth": 2
          },
          "yaxis": {
           "automargin": true,
           "gridcolor": "white",
           "linecolor": "white",
           "ticks": "",
           "title": {
            "standoff": 15
           },
           "zerolinecolor": "white",
           "zerolinewidth": 2
          }
         }
        },
        "title": {
         "text": "Hyperparameter Importances"
        },
        "xaxis": {
         "title": {
          "text": "Importance for Objective Value"
         }
        },
        "yaxis": {
         "title": {
          "text": "Hyperparameter"
         }
        }
       }
      }
     },
     "metadata": {},
     "output_type": "display_data"
    },
    {
     "data": {
      "application/vnd.plotly.v1+json": {
       "config": {
        "plotlyServerURL": "https://plot.ly"
       },
       "data": [
        {
         "marker": {
          "color": [
           0,
           1,
           2,
           3,
           4,
           5,
           6,
           7,
           8,
           9,
           10,
           11,
           12,
           13,
           14,
           15,
           16,
           17,
           18,
           19,
           20,
           21,
           22,
           23,
           24,
           25,
           26,
           27,
           28,
           29,
           30,
           31,
           32,
           33,
           34,
           35,
           36,
           37,
           38,
           39,
           40,
           41,
           42,
           43,
           44,
           45,
           46,
           47,
           48,
           49,
           50,
           51,
           52,
           53,
           54,
           55,
           56,
           57,
           58,
           59,
           60,
           61,
           62,
           63,
           64,
           65,
           66,
           67,
           68,
           69,
           70,
           71,
           72,
           73,
           74,
           75,
           76,
           77,
           78,
           79,
           80,
           81,
           82,
           83,
           84,
           85,
           86,
           87,
           88,
           89,
           90,
           91,
           92,
           93,
           94,
           95,
           96,
           97,
           98,
           99,
           100,
           101,
           102,
           103,
           104,
           105,
           106,
           107,
           108,
           109,
           110,
           111,
           112,
           113,
           114,
           115,
           116,
           117,
           118,
           119,
           120,
           121,
           122,
           123,
           124,
           125,
           126,
           127,
           128,
           129,
           130,
           131,
           132,
           133,
           134,
           135,
           136,
           137,
           138,
           139,
           140,
           141,
           142,
           143,
           144,
           145,
           146,
           147,
           148,
           149,
           150,
           151,
           152,
           153,
           154,
           155,
           156,
           157,
           158,
           159,
           160,
           161,
           162,
           163,
           164,
           165,
           166,
           167,
           168,
           169,
           170,
           171,
           172,
           173,
           174,
           175,
           176,
           177,
           178,
           179,
           180,
           181,
           182,
           183,
           184,
           185,
           186,
           187,
           188,
           189,
           190,
           191,
           192,
           193,
           194,
           195,
           196,
           197,
           198,
           199
          ],
          "colorbar": {
           "title": {
            "text": "#Trials"
           },
           "x": 1,
           "xpad": 40
          },
          "colorscale": [
           [
            0,
            "rgb(247,251,255)"
           ],
           [
            0.125,
            "rgb(222,235,247)"
           ],
           [
            0.25,
            "rgb(198,219,239)"
           ],
           [
            0.375,
            "rgb(158,202,225)"
           ],
           [
            0.5,
            "rgb(107,174,214)"
           ],
           [
            0.625,
            "rgb(66,146,198)"
           ],
           [
            0.75,
            "rgb(33,113,181)"
           ],
           [
            0.875,
            "rgb(8,81,156)"
           ],
           [
            1,
            "rgb(8,48,107)"
           ]
          ],
          "line": {
           "color": "Grey",
           "width": 0.5
          },
          "showscale": true
         },
         "mode": "markers",
         "showlegend": false,
         "type": "scatter",
         "x": [
          true,
          true,
          false,
          true,
          true,
          true,
          false,
          true,
          true,
          true,
          true,
          true,
          true,
          false,
          true,
          true,
          true,
          false,
          false,
          false,
          false,
          false,
          false,
          false,
          false,
          false,
          false,
          false,
          false,
          false,
          false,
          false,
          false,
          false,
          false,
          false,
          false,
          false,
          false,
          false,
          false,
          false,
          false,
          false,
          false,
          true,
          true,
          true,
          true,
          true,
          true,
          true,
          true,
          true,
          true,
          true,
          true,
          false,
          false,
          false,
          false,
          false,
          false,
          false,
          false,
          false,
          false,
          false,
          false,
          false,
          false,
          false,
          false,
          false,
          false,
          false,
          false,
          false,
          false,
          false,
          false,
          false,
          false,
          false,
          false,
          false,
          false,
          false,
          false,
          false,
          false,
          false,
          false,
          false,
          false,
          false,
          false,
          false,
          false,
          false,
          false,
          false,
          false,
          false,
          false,
          false,
          false,
          false,
          false,
          false,
          false,
          false,
          false,
          false,
          true,
          true,
          true,
          true,
          false,
          true,
          true,
          true,
          false,
          false,
          false,
          false,
          false,
          false,
          true,
          true,
          true,
          false,
          false,
          false,
          false,
          false,
          true,
          true,
          true,
          true,
          true,
          true,
          true,
          true,
          true,
          true,
          true,
          true,
          true,
          true,
          true,
          true,
          true,
          true,
          true,
          true,
          true,
          true,
          true,
          true,
          true,
          true,
          true,
          true,
          true,
          true,
          true,
          true,
          true,
          true,
          true,
          true,
          true,
          true,
          true,
          true,
          true,
          true,
          true,
          true,
          true,
          true,
          true,
          true,
          true,
          true,
          true,
          true,
          true,
          true,
          true,
          true,
          true,
          true,
          true,
          true,
          true,
          true,
          true,
          true
         ],
         "xaxis": "x",
         "y": [
          0.18690593873684422,
          0.7522673268920743,
          0.2338431710328644,
          -0.0013301517740015312,
          0.6137062265008765,
          0.16194840218469625,
          0.13681908824762234,
          0.4710324668464513,
          0.2792255974921575,
          -0.0013407015385649812,
          0.18549388628374747,
          0.14621986898935171,
          0.287850853481464,
          0.5432540668498562,
          0.17957788238346523,
          0.15647704144636831,
          -0.0013486097333834878,
          0.6594943271582097,
          0.6901633680981666,
          0.6835395710052412,
          0.6886971884126672,
          0.6828614593522937,
          0.5605276126268232,
          0.5663139578781541,
          0.5607584265811723,
          0.6126688229076873,
          0.5628379118774742,
          0.5576325343064334,
          0.5630941315908998,
          0.5576325343064336,
          0.653480348098505,
          0.6379948785980425,
          0.5570053871047312,
          0.6858518839261715,
          0.6860724919210556,
          0.6870054511467084,
          0.6950688655989212,
          0.5553386540957125,
          0.6949326892297025,
          0.6950930233655775,
          0.5553386540957129,
          0.718676985422443,
          0.7172600934728091,
          0.5553386540957129,
          0.15767743222805325,
          0.6214135905320622,
          -0.00135714017519184,
          0.33851622267835724,
          0.626955353821885,
          0.610164278961931,
          0.6087245962772553,
          0.5499946982775368,
          0.5877982918861344,
          0.37614939216238275,
          0.41047493143166697,
          0.3837824681178251,
          0.26015491839110383,
          0.3903963725964843,
          0.4775600380717894,
          0.6013310131344685,
          0.5553386540957125,
          0.276776497910051,
          0.46710358843979316,
          0.6491075677693376,
          0.2767764979100509,
          0.2767764979100509,
          0.2767764979100509,
          0.276776497910051,
          0.5553386540957126,
          0.6606320414735215,
          0.6475831284792585,
          0.6655656046285479,
          0.6518340948531478,
          0.6571542601731999,
          0.6397795308981464,
          0.6555326829452285,
          0.690950530534683,
          0.7680289237637512,
          0.6915273976217292,
          0.6637349147469912,
          0.6538036704729315,
          0.6470613731700471,
          0.6703632052004993,
          0.6702600565360733,
          0.6551232583120037,
          0.7640901942143159,
          0.7315875468222939,
          0.7611838901230149,
          0.7318340831996496,
          0.7295248504935363,
          0.7405707983346546,
          0.7158068478786274,
          0.7340797321423719,
          0.7314651983168573,
          0.7094348108701394,
          0.6333763668449677,
          0.62679211233717,
          0.7640901942143159,
          0.7604856718983701,
          0.7640800764271862,
          0.7640968977884672,
          0.7641945027507793,
          0.7407293759974392,
          0.8045064724109745,
          0.7413925128912054,
          0.7405684438078757,
          0.7387771095768633,
          0.7402253940312354,
          0.738278072369529,
          0.7406301293268995,
          0.7381043593228078,
          0.7452230356567233,
          0.738329981688482,
          0.7450317598031518,
          0.7248887373228079,
          0.7305169391814497,
          0.7328186426171636,
          0.6569214830441115,
          0.7631075109650769,
          0.7889356330561504,
          0.6524693930095609,
          0.6518612152185985,
          0.7756434619130571,
          0.7699737578039858,
          0.6863336219547045,
          0.6945951674794443,
          0.7597930655743859,
          0.7037481181971675,
          0.7864324099024311,
          0.773680154205061,
          0.6673533782032244,
          0.7500346422985703,
          0.6958810788876797,
          0.7633984973247443,
          0.7490917498010707,
          0.7513947070374134,
          0.7773658196168031,
          0.7635008180024723,
          0.7679382841896228,
          0.6805608928619818,
          0.6168940313174689,
          0.28867997972289167,
          0.6822214439626304,
          0.6155771211910969,
          0.28828533709912896,
          0.6751330236776419,
          0.6827618617150206,
          0.28818186775559085,
          -0.0013532522743284537,
          0.28833948773706586,
          0.30438704600927535,
          0.6893511654481038,
          0.7014820669556446,
          0.28833367885402295,
          0.2877652972653057,
          0.6401212821087714,
          0.13485919725590811,
          0.6063032132101815,
          0.7577980097256408,
          0.7597516694842644,
          0.765500458016292,
          0.65620637945693,
          0.6323124514770251,
          0.8022959599253798,
          0.80496470814667,
          0.7487789079922418,
          0.7945559316721974,
          0.8013298142652836,
          0.7974224158087133,
          0.7990456239882577,
          0.7962888946328358,
          0.7926745081685078,
          0.819910803885185,
          0.8335693392470791,
          0.839683216273141,
          0.829797002372674,
          0.826899759260949,
          0.8064011262350576,
          0.8107511900675576,
          0.7960693101984285,
          0.807976415711899,
          0.8035836178559619,
          0.8137723616929206,
          0.8195621058809544,
          0.8391529852939745,
          0.8391185526190927,
          0.83829013567705,
          0.838863045899861,
          0.8387348579718571,
          0.8418801047907072,
          0.7216046503743596,
          0.7183760137770276,
          0.8427969255387874,
          0.7330792781753115,
          0.7207844970739719,
          0.71604363067367,
          0.7269314959387774,
          0.7298565133525451,
          0.7463931302733944,
          0.7396877563011249
         ],
         "yaxis": "y"
        },
        {
         "marker": {
          "color": [
           0,
           1,
           2,
           3,
           4,
           5,
           6,
           7,
           8,
           9,
           10,
           11,
           12,
           13,
           14,
           15,
           16,
           17,
           18,
           19,
           20,
           21,
           22,
           23,
           24,
           25,
           26,
           27,
           28,
           29,
           30,
           31,
           32,
           33,
           34,
           35,
           36,
           37,
           38,
           39,
           40,
           41,
           42,
           43,
           44,
           45,
           46,
           47,
           48,
           49,
           50,
           51,
           52,
           53,
           54,
           55,
           56,
           57,
           58,
           59,
           60,
           61,
           62,
           63,
           64,
           65,
           66,
           67,
           68,
           69,
           70,
           71,
           72,
           73,
           74,
           75,
           76,
           77,
           78,
           79,
           80,
           81,
           82,
           83,
           84,
           85,
           86,
           87,
           88,
           89,
           90,
           91,
           92,
           93,
           94,
           95,
           96,
           97,
           98,
           99,
           100,
           101,
           102,
           103,
           104,
           105,
           106,
           107,
           108,
           109,
           110,
           111,
           112,
           113,
           114,
           115,
           116,
           117,
           118,
           119,
           120,
           121,
           122,
           123,
           124,
           125,
           126,
           127,
           128,
           129,
           130,
           131,
           132,
           133,
           134,
           135,
           136,
           137,
           138,
           139,
           140,
           141,
           142,
           143,
           144,
           145,
           146,
           147,
           148,
           149,
           150,
           151,
           152,
           153,
           154,
           155,
           156,
           157,
           158,
           159,
           160,
           161,
           162,
           163,
           164,
           165,
           166,
           167,
           168,
           169,
           170,
           171,
           172,
           173,
           174,
           175,
           176,
           177,
           178,
           179,
           180,
           181,
           182,
           183,
           184,
           185,
           186,
           187,
           188,
           189,
           190,
           191,
           192,
           193,
           194,
           195,
           196,
           197,
           198,
           199
          ],
          "colorbar": {
           "title": {
            "text": "#Trials"
           },
           "x": 1,
           "xpad": 40
          },
          "colorscale": [
           [
            0,
            "rgb(247,251,255)"
           ],
           [
            0.125,
            "rgb(222,235,247)"
           ],
           [
            0.25,
            "rgb(198,219,239)"
           ],
           [
            0.375,
            "rgb(158,202,225)"
           ],
           [
            0.5,
            "rgb(107,174,214)"
           ],
           [
            0.625,
            "rgb(66,146,198)"
           ],
           [
            0.75,
            "rgb(33,113,181)"
           ],
           [
            0.875,
            "rgb(8,81,156)"
           ],
           [
            1,
            "rgb(8,48,107)"
           ]
          ],
          "line": {
           "color": "Grey",
           "width": 0.5
          },
          "showscale": false
         },
         "mode": "markers",
         "showlegend": false,
         "type": "scatter",
         "x": [
          11,
          15,
          15,
          8,
          15,
          15,
          8,
          15,
          12,
          14,
          13,
          15,
          7,
          14,
          12,
          13,
          15,
          12,
          6,
          6,
          10,
          10,
          6,
          9,
          9,
          9,
          9,
          9,
          6,
          6,
          6,
          10,
          10,
          10,
          10,
          10,
          11,
          11,
          7,
          11,
          11,
          11,
          11,
          7,
          7,
          11,
          11,
          8,
          7,
          13,
          12,
          12,
          13,
          13,
          13,
          12,
          13,
          12,
          12,
          14,
          14,
          14,
          12,
          14,
          14,
          14,
          14,
          11,
          11,
          11,
          11,
          11,
          11,
          8,
          8,
          8,
          6,
          8,
          6,
          6,
          6,
          6,
          6,
          6,
          7,
          7,
          7,
          7,
          7,
          7,
          7,
          15,
          7,
          7,
          7,
          7,
          7,
          7,
          7,
          7,
          7,
          7,
          7,
          8,
          8,
          8,
          8,
          8,
          8,
          8,
          8,
          8,
          8,
          8,
          8,
          9,
          9,
          9,
          7,
          9,
          9,
          9,
          9,
          9,
          7,
          7,
          7,
          7,
          7,
          7,
          7,
          7,
          7,
          9,
          7,
          7,
          10,
          10,
          7,
          9,
          9,
          10,
          10,
          10,
          10,
          10,
          10,
          10,
          10,
          10,
          10,
          9,
          10,
          9,
          9,
          9,
          6,
          6,
          9,
          9,
          9,
          9,
          9,
          8,
          9,
          8,
          7,
          8,
          8,
          8,
          7,
          7,
          7,
          8,
          8,
          8,
          8,
          8,
          8,
          8,
          8,
          8,
          8,
          8,
          8,
          8,
          8,
          8,
          8,
          8,
          8,
          8,
          8,
          8,
          8,
          8,
          8,
          8,
          8,
          8
         ],
         "xaxis": "x2",
         "y": [
          0.18690593873684422,
          0.7522673268920743,
          0.2338431710328644,
          -0.0013301517740015312,
          0.6137062265008765,
          0.16194840218469625,
          0.13681908824762234,
          0.4710324668464513,
          0.2792255974921575,
          -0.0013407015385649812,
          0.18549388628374747,
          0.14621986898935171,
          0.287850853481464,
          0.5432540668498562,
          0.17957788238346523,
          0.15647704144636831,
          -0.0013486097333834878,
          0.6594943271582097,
          0.6901633680981666,
          0.6835395710052412,
          0.6886971884126672,
          0.6828614593522937,
          0.5605276126268232,
          0.5663139578781541,
          0.5607584265811723,
          0.6126688229076873,
          0.5628379118774742,
          0.5576325343064334,
          0.5630941315908998,
          0.5576325343064336,
          0.653480348098505,
          0.6379948785980425,
          0.5570053871047312,
          0.6858518839261715,
          0.6860724919210556,
          0.6870054511467084,
          0.6950688655989212,
          0.5553386540957125,
          0.6949326892297025,
          0.6950930233655775,
          0.5553386540957129,
          0.718676985422443,
          0.7172600934728091,
          0.5553386540957129,
          0.15767743222805325,
          0.6214135905320622,
          -0.00135714017519184,
          0.33851622267835724,
          0.626955353821885,
          0.610164278961931,
          0.6087245962772553,
          0.5499946982775368,
          0.5877982918861344,
          0.37614939216238275,
          0.41047493143166697,
          0.3837824681178251,
          0.26015491839110383,
          0.3903963725964843,
          0.4775600380717894,
          0.6013310131344685,
          0.5553386540957125,
          0.276776497910051,
          0.46710358843979316,
          0.6491075677693376,
          0.2767764979100509,
          0.2767764979100509,
          0.2767764979100509,
          0.276776497910051,
          0.5553386540957126,
          0.6606320414735215,
          0.6475831284792585,
          0.6655656046285479,
          0.6518340948531478,
          0.6571542601731999,
          0.6397795308981464,
          0.6555326829452285,
          0.690950530534683,
          0.7680289237637512,
          0.6915273976217292,
          0.6637349147469912,
          0.6538036704729315,
          0.6470613731700471,
          0.6703632052004993,
          0.6702600565360733,
          0.6551232583120037,
          0.7640901942143159,
          0.7315875468222939,
          0.7611838901230149,
          0.7318340831996496,
          0.7295248504935363,
          0.7405707983346546,
          0.7158068478786274,
          0.7340797321423719,
          0.7314651983168573,
          0.7094348108701394,
          0.6333763668449677,
          0.62679211233717,
          0.7640901942143159,
          0.7604856718983701,
          0.7640800764271862,
          0.7640968977884672,
          0.7641945027507793,
          0.7407293759974392,
          0.8045064724109745,
          0.7413925128912054,
          0.7405684438078757,
          0.7387771095768633,
          0.7402253940312354,
          0.738278072369529,
          0.7406301293268995,
          0.7381043593228078,
          0.7452230356567233,
          0.738329981688482,
          0.7450317598031518,
          0.7248887373228079,
          0.7305169391814497,
          0.7328186426171636,
          0.6569214830441115,
          0.7631075109650769,
          0.7889356330561504,
          0.6524693930095609,
          0.6518612152185985,
          0.7756434619130571,
          0.7699737578039858,
          0.6863336219547045,
          0.6945951674794443,
          0.7597930655743859,
          0.7037481181971675,
          0.7864324099024311,
          0.773680154205061,
          0.6673533782032244,
          0.7500346422985703,
          0.6958810788876797,
          0.7633984973247443,
          0.7490917498010707,
          0.7513947070374134,
          0.7773658196168031,
          0.7635008180024723,
          0.7679382841896228,
          0.6805608928619818,
          0.6168940313174689,
          0.28867997972289167,
          0.6822214439626304,
          0.6155771211910969,
          0.28828533709912896,
          0.6751330236776419,
          0.6827618617150206,
          0.28818186775559085,
          -0.0013532522743284537,
          0.28833948773706586,
          0.30438704600927535,
          0.6893511654481038,
          0.7014820669556446,
          0.28833367885402295,
          0.2877652972653057,
          0.6401212821087714,
          0.13485919725590811,
          0.6063032132101815,
          0.7577980097256408,
          0.7597516694842644,
          0.765500458016292,
          0.65620637945693,
          0.6323124514770251,
          0.8022959599253798,
          0.80496470814667,
          0.7487789079922418,
          0.7945559316721974,
          0.8013298142652836,
          0.7974224158087133,
          0.7990456239882577,
          0.7962888946328358,
          0.7926745081685078,
          0.819910803885185,
          0.8335693392470791,
          0.839683216273141,
          0.829797002372674,
          0.826899759260949,
          0.8064011262350576,
          0.8107511900675576,
          0.7960693101984285,
          0.807976415711899,
          0.8035836178559619,
          0.8137723616929206,
          0.8195621058809544,
          0.8391529852939745,
          0.8391185526190927,
          0.83829013567705,
          0.838863045899861,
          0.8387348579718571,
          0.8418801047907072,
          0.7216046503743596,
          0.7183760137770276,
          0.8427969255387874,
          0.7330792781753115,
          0.7207844970739719,
          0.71604363067367,
          0.7269314959387774,
          0.7298565133525451,
          0.7463931302733944,
          0.7396877563011249
         ],
         "yaxis": "y2"
        },
        {
         "marker": {
          "color": [
           0,
           1,
           2,
           3,
           4,
           5,
           6,
           7,
           8,
           9,
           10,
           11,
           12,
           13,
           14,
           15,
           16,
           17,
           18,
           19,
           20,
           21,
           22,
           23,
           24,
           25,
           26,
           27,
           28,
           29,
           30,
           31,
           32,
           33,
           34,
           35,
           36,
           37,
           38,
           39,
           40,
           41,
           42,
           43,
           44,
           45,
           46,
           47,
           48,
           49,
           50,
           51,
           52,
           53,
           54,
           55,
           56,
           57,
           58,
           59,
           60,
           61,
           62,
           63,
           64,
           65,
           66,
           67,
           68,
           69,
           70,
           71,
           72,
           73,
           74,
           75,
           76,
           77,
           78,
           79,
           80,
           81,
           82,
           83,
           84,
           85,
           86,
           87,
           88,
           89,
           90,
           91,
           92,
           93,
           94,
           95,
           96,
           97,
           98,
           99,
           100,
           101,
           102,
           103,
           104,
           105,
           106,
           107,
           108,
           109,
           110,
           111,
           112,
           113,
           114,
           115,
           116,
           117,
           118,
           119,
           120,
           121,
           122,
           123,
           124,
           125,
           126,
           127,
           128,
           129,
           130,
           131,
           132,
           133,
           134,
           135,
           136,
           137,
           138,
           139,
           140,
           141,
           142,
           143,
           144,
           145,
           146,
           147,
           148,
           149,
           150,
           151,
           152,
           153,
           154,
           155,
           156,
           157,
           158,
           159,
           160,
           161,
           162,
           163,
           164,
           165,
           166,
           167,
           168,
           169,
           170,
           171,
           172,
           173,
           174,
           175,
           176,
           177,
           178,
           179,
           180,
           181,
           182,
           183,
           184,
           185,
           186,
           187,
           188,
           189,
           190,
           191,
           192,
           193,
           194,
           195,
           196,
           197,
           198,
           199
          ],
          "colorbar": {
           "title": {
            "text": "#Trials"
           },
           "x": 1,
           "xpad": 40
          },
          "colorscale": [
           [
            0,
            "rgb(247,251,255)"
           ],
           [
            0.125,
            "rgb(222,235,247)"
           ],
           [
            0.25,
            "rgb(198,219,239)"
           ],
           [
            0.375,
            "rgb(158,202,225)"
           ],
           [
            0.5,
            "rgb(107,174,214)"
           ],
           [
            0.625,
            "rgb(66,146,198)"
           ],
           [
            0.75,
            "rgb(33,113,181)"
           ],
           [
            0.875,
            "rgb(8,81,156)"
           ],
           [
            1,
            "rgb(8,48,107)"
           ]
          ],
          "line": {
           "color": "Grey",
           "width": 0.5
          },
          "showscale": false
         },
         "mode": "markers",
         "showlegend": false,
         "type": "scatter",
         "x": [
          "log2",
          "auto",
          "sqrt",
          "sqrt",
          "auto",
          "sqrt",
          "log2",
          "sqrt",
          "auto",
          "log2",
          "log2",
          "log2",
          "auto",
          "auto",
          "log2",
          "sqrt",
          "sqrt",
          "auto",
          "auto",
          "auto",
          "auto",
          "auto",
          "auto",
          "auto",
          "auto",
          "auto",
          "auto",
          "auto",
          "auto",
          "auto",
          "auto",
          "auto",
          "auto",
          "auto",
          "auto",
          "auto",
          "auto",
          "auto",
          "auto",
          "auto",
          "auto",
          "auto",
          "auto",
          "auto",
          "sqrt",
          "sqrt",
          "sqrt",
          "sqrt",
          "sqrt",
          "sqrt",
          "sqrt",
          "log2",
          "log2",
          "log2",
          "log2",
          "log2",
          "log2",
          "log2",
          "log2",
          "auto",
          "auto",
          "auto",
          "auto",
          "auto",
          "auto",
          "auto",
          "auto",
          "auto",
          "auto",
          "auto",
          "auto",
          "auto",
          "auto",
          "auto",
          "auto",
          "auto",
          "auto",
          "auto",
          "auto",
          "auto",
          "auto",
          "auto",
          "auto",
          "auto",
          "auto",
          "auto",
          "auto",
          "auto",
          "auto",
          "auto",
          "auto",
          "auto",
          "auto",
          "auto",
          "auto",
          "auto",
          "auto",
          "auto",
          "auto",
          "auto",
          "auto",
          "auto",
          "auto",
          "auto",
          "auto",
          "auto",
          "auto",
          "auto",
          "auto",
          "auto",
          "auto",
          "auto",
          "auto",
          "auto",
          "auto",
          "auto",
          "auto",
          "auto",
          "auto",
          "auto",
          "auto",
          "auto",
          "auto",
          "auto",
          "auto",
          "sqrt",
          "auto",
          "sqrt",
          "auto",
          "auto",
          "sqrt",
          "auto",
          "sqrt",
          "auto",
          "auto",
          "auto",
          "auto",
          "auto",
          "auto",
          "auto",
          "auto",
          "auto",
          "auto",
          "auto",
          "auto",
          "auto",
          "auto",
          "auto",
          "auto",
          "auto",
          "auto",
          "auto",
          "auto",
          "auto",
          "auto",
          "log2",
          "log2",
          "log2",
          "auto",
          "auto",
          "auto",
          "log2",
          "log2",
          "auto",
          "auto",
          "auto",
          "auto",
          "auto",
          "auto",
          "auto",
          "auto",
          "auto",
          "auto",
          "auto",
          "auto",
          "auto",
          "auto",
          "auto",
          "auto",
          "auto",
          "auto",
          "auto",
          "auto",
          "auto",
          "auto",
          "auto",
          "auto",
          "auto",
          "auto",
          "auto",
          "auto",
          "auto",
          "auto",
          "auto",
          "auto",
          "auto",
          "auto",
          "auto",
          "auto",
          "auto"
         ],
         "xaxis": "x3",
         "y": [
          0.18690593873684422,
          0.7522673268920743,
          0.2338431710328644,
          -0.0013301517740015312,
          0.6137062265008765,
          0.16194840218469625,
          0.13681908824762234,
          0.4710324668464513,
          0.2792255974921575,
          -0.0013407015385649812,
          0.18549388628374747,
          0.14621986898935171,
          0.287850853481464,
          0.5432540668498562,
          0.17957788238346523,
          0.15647704144636831,
          -0.0013486097333834878,
          0.6594943271582097,
          0.6901633680981666,
          0.6835395710052412,
          0.6886971884126672,
          0.6828614593522937,
          0.5605276126268232,
          0.5663139578781541,
          0.5607584265811723,
          0.6126688229076873,
          0.5628379118774742,
          0.5576325343064334,
          0.5630941315908998,
          0.5576325343064336,
          0.653480348098505,
          0.6379948785980425,
          0.5570053871047312,
          0.6858518839261715,
          0.6860724919210556,
          0.6870054511467084,
          0.6950688655989212,
          0.5553386540957125,
          0.6949326892297025,
          0.6950930233655775,
          0.5553386540957129,
          0.718676985422443,
          0.7172600934728091,
          0.5553386540957129,
          0.15767743222805325,
          0.6214135905320622,
          -0.00135714017519184,
          0.33851622267835724,
          0.626955353821885,
          0.610164278961931,
          0.6087245962772553,
          0.5499946982775368,
          0.5877982918861344,
          0.37614939216238275,
          0.41047493143166697,
          0.3837824681178251,
          0.26015491839110383,
          0.3903963725964843,
          0.4775600380717894,
          0.6013310131344685,
          0.5553386540957125,
          0.276776497910051,
          0.46710358843979316,
          0.6491075677693376,
          0.2767764979100509,
          0.2767764979100509,
          0.2767764979100509,
          0.276776497910051,
          0.5553386540957126,
          0.6606320414735215,
          0.6475831284792585,
          0.6655656046285479,
          0.6518340948531478,
          0.6571542601731999,
          0.6397795308981464,
          0.6555326829452285,
          0.690950530534683,
          0.7680289237637512,
          0.6915273976217292,
          0.6637349147469912,
          0.6538036704729315,
          0.6470613731700471,
          0.6703632052004993,
          0.6702600565360733,
          0.6551232583120037,
          0.7640901942143159,
          0.7315875468222939,
          0.7611838901230149,
          0.7318340831996496,
          0.7295248504935363,
          0.7405707983346546,
          0.7158068478786274,
          0.7340797321423719,
          0.7314651983168573,
          0.7094348108701394,
          0.6333763668449677,
          0.62679211233717,
          0.7640901942143159,
          0.7604856718983701,
          0.7640800764271862,
          0.7640968977884672,
          0.7641945027507793,
          0.7407293759974392,
          0.8045064724109745,
          0.7413925128912054,
          0.7405684438078757,
          0.7387771095768633,
          0.7402253940312354,
          0.738278072369529,
          0.7406301293268995,
          0.7381043593228078,
          0.7452230356567233,
          0.738329981688482,
          0.7450317598031518,
          0.7248887373228079,
          0.7305169391814497,
          0.7328186426171636,
          0.6569214830441115,
          0.7631075109650769,
          0.7889356330561504,
          0.6524693930095609,
          0.6518612152185985,
          0.7756434619130571,
          0.7699737578039858,
          0.6863336219547045,
          0.6945951674794443,
          0.7597930655743859,
          0.7037481181971675,
          0.7864324099024311,
          0.773680154205061,
          0.6673533782032244,
          0.7500346422985703,
          0.6958810788876797,
          0.7633984973247443,
          0.7490917498010707,
          0.7513947070374134,
          0.7773658196168031,
          0.7635008180024723,
          0.7679382841896228,
          0.6805608928619818,
          0.6168940313174689,
          0.28867997972289167,
          0.6822214439626304,
          0.6155771211910969,
          0.28828533709912896,
          0.6751330236776419,
          0.6827618617150206,
          0.28818186775559085,
          -0.0013532522743284537,
          0.28833948773706586,
          0.30438704600927535,
          0.6893511654481038,
          0.7014820669556446,
          0.28833367885402295,
          0.2877652972653057,
          0.6401212821087714,
          0.13485919725590811,
          0.6063032132101815,
          0.7577980097256408,
          0.7597516694842644,
          0.765500458016292,
          0.65620637945693,
          0.6323124514770251,
          0.8022959599253798,
          0.80496470814667,
          0.7487789079922418,
          0.7945559316721974,
          0.8013298142652836,
          0.7974224158087133,
          0.7990456239882577,
          0.7962888946328358,
          0.7926745081685078,
          0.819910803885185,
          0.8335693392470791,
          0.839683216273141,
          0.829797002372674,
          0.826899759260949,
          0.8064011262350576,
          0.8107511900675576,
          0.7960693101984285,
          0.807976415711899,
          0.8035836178559619,
          0.8137723616929206,
          0.8195621058809544,
          0.8391529852939745,
          0.8391185526190927,
          0.83829013567705,
          0.838863045899861,
          0.8387348579718571,
          0.8418801047907072,
          0.7216046503743596,
          0.7183760137770276,
          0.8427969255387874,
          0.7330792781753115,
          0.7207844970739719,
          0.71604363067367,
          0.7269314959387774,
          0.7298565133525451,
          0.7463931302733944,
          0.7396877563011249
         ],
         "yaxis": "y3"
        },
        {
         "marker": {
          "color": [
           0,
           1,
           2,
           3,
           4,
           5,
           6,
           7,
           8,
           9,
           10,
           11,
           12,
           13,
           14,
           15,
           16,
           17,
           18,
           19,
           20,
           21,
           22,
           23,
           24,
           25,
           26,
           27,
           28,
           29,
           30,
           31,
           32,
           33,
           34,
           35,
           36,
           37,
           38,
           39,
           40,
           41,
           42,
           43,
           44,
           45,
           46,
           47,
           48,
           49,
           50,
           51,
           52,
           53,
           54,
           55,
           56,
           57,
           58,
           59,
           60,
           61,
           62,
           63,
           64,
           65,
           66,
           67,
           68,
           69,
           70,
           71,
           72,
           73,
           74,
           75,
           76,
           77,
           78,
           79,
           80,
           81,
           82,
           83,
           84,
           85,
           86,
           87,
           88,
           89,
           90,
           91,
           92,
           93,
           94,
           95,
           96,
           97,
           98,
           99,
           100,
           101,
           102,
           103,
           104,
           105,
           106,
           107,
           108,
           109,
           110,
           111,
           112,
           113,
           114,
           115,
           116,
           117,
           118,
           119,
           120,
           121,
           122,
           123,
           124,
           125,
           126,
           127,
           128,
           129,
           130,
           131,
           132,
           133,
           134,
           135,
           136,
           137,
           138,
           139,
           140,
           141,
           142,
           143,
           144,
           145,
           146,
           147,
           148,
           149,
           150,
           151,
           152,
           153,
           154,
           155,
           156,
           157,
           158,
           159,
           160,
           161,
           162,
           163,
           164,
           165,
           166,
           167,
           168,
           169,
           170,
           171,
           172,
           173,
           174,
           175,
           176,
           177,
           178,
           179,
           180,
           181,
           182,
           183,
           184,
           185,
           186,
           187,
           188,
           189,
           190,
           191,
           192,
           193,
           194,
           195,
           196,
           197,
           198,
           199
          ],
          "colorbar": {
           "title": {
            "text": "#Trials"
           },
           "x": 1,
           "xpad": 40
          },
          "colorscale": [
           [
            0,
            "rgb(247,251,255)"
           ],
           [
            0.125,
            "rgb(222,235,247)"
           ],
           [
            0.25,
            "rgb(198,219,239)"
           ],
           [
            0.375,
            "rgb(158,202,225)"
           ],
           [
            0.5,
            "rgb(107,174,214)"
           ],
           [
            0.625,
            "rgb(66,146,198)"
           ],
           [
            0.75,
            "rgb(33,113,181)"
           ],
           [
            0.875,
            "rgb(8,81,156)"
           ],
           [
            1,
            "rgb(8,48,107)"
           ]
          ],
          "line": {
           "color": "Grey",
           "width": 0.5
          },
          "showscale": false
         },
         "mode": "markers",
         "showlegend": false,
         "type": "scatter",
         "x": [
          0.17204775510112613,
          0.017181695448103884,
          0.26802740222814764,
          0.4279713144036647,
          0.060166070898208635,
          0.2626674826548199,
          0.44375912202875684,
          0.07159992852737507,
          0.3046005167827022,
          0.3976637495685989,
          0.18258081993715308,
          0.2323636786536133,
          0.007828599701337258,
          0.1715067822175001,
          0.1980287142352667,
          0.3022718919097856,
          0.4122873854534638,
          0.0032442887990777637,
          0.005317078552072314,
          0.005206342139455564,
          0.0045777097400891646,
          0.00006004929382387447,
          0.11090926161781776,
          0.10077194254718519,
          0.1085332207694239,
          0.07856533982776015,
          0.06835727335601133,
          0.11098907197121083,
          0.10270129116797054,
          0.10647488629100677,
          0.055550950137549904,
          0.06399569867449537,
          0.12425747190429548,
          0.04398031250875409,
          0.04322886757262399,
          0.04325321770300016,
          0.03786811593983498,
          0.14962469339046258,
          0.037371513273540616,
          0.03547557360371261,
          0.14794936868648365,
          0.03286579573536778,
          0.03417546641294051,
          0.1475667855468104,
          0.48294385463081,
          0.028679753699777842,
          0.4990962083837638,
          0.14291853327852216,
          0.025219442330883197,
          0.03141020838120578,
          0.031437222194043976,
          0.038112492289653147,
          0.0289309172845661,
          0.08743200769444777,
          0.07570168393632407,
          0.08630659456875253,
          0.08481571903696392,
          0.08149446192599281,
          0.08568448723017447,
          0.08821481126719524,
          0.07671519212646091,
          0.33806362938022116,
          0.22568431128120486,
          0.05696257412348597,
          0.35515351418361957,
          0.32650069200337056,
          0.30206546771552034,
          0.37054363710979643,
          0.017951051996786413,
          0.016890485459029853,
          0.01919918807487357,
          0.01586272671695469,
          0.015718411840206083,
          0.01912196526879015,
          0.010568832599334811,
          0.013663338481224864,
          0.013787844333747919,
          0.012570158370508653,
          0.0016446774969754718,
          0.0529311063316671,
          0.04968250959034489,
          0.05347981557353182,
          0.05115364292912368,
          0.0509794484355153,
          0.04746487662715819,
          0.00000646649730672022,
          0.0007316714043598474,
          0.0004150670413262808,
          0.005921740535385399,
          0.000015233298646339126,
          0.003242783348467823,
          0.03474391523078901,
          0.0025061417928216295,
          0.001354610908353697,
          0.03665635081224217,
          0.06514772846008181,
          0.0685899950821631,
          0.000012248018243182757,
          0.0007798165737998195,
          0.00010272562217991058,
          0.001505945734072065,
          0.0005698164880036791,
          0.004199625344598726,
          0.00039287370647132953,
          0.0003866992381618767,
          0.0010156990783258702,
          0.02559499993312761,
          0.022478729847520015,
          0.026466265428546257,
          0.02174362629823978,
          0.025926831124814656,
          0.020684099462720037,
          0.025556034561219132,
          0.021150513524120722,
          0.025787622948613316,
          0.024635488927510635,
          0.024250090927954732,
          0.04138257938830779,
          0.011196890827512455,
          0.012110386878968371,
          0.042537737583206225,
          0.042632903419312286,
          0.011092809770353878,
          0.013164432720871621,
          0.04291707364734187,
          0.012438582420577491,
          0.013371250876660329,
          0.009696766102094563,
          0.012207134522142532,
          0.01289469844376816,
          0.012014401141402186,
          0.014149199818979741,
          0.011606631016352323,
          0.010438529799360592,
          0.01199394454757884,
          0.011521918748599477,
          0.011354971519137764,
          0.011418254216592854,
          0.009260743781514487,
          0.035094499165583014,
          0.05923887773090718,
          0.19676698594315745,
          0.03462264318042246,
          0.05951558476110915,
          0.20462098548890256,
          0.0364052398835389,
          0.03474994558055566,
          0.030144902306769576,
          0.4430911441956179,
          0.24568658732153928,
          0.03476196385241771,
          0.03322258319263129,
          0.030491661903715387,
          0.24726260434605563,
          0.26167951159986047,
          0.014698941344337963,
          0.2760008100717691,
          0.01858243802216037,
          0.018135524217017734,
          0.017564635447772044,
          0.016209716370500005,
          0.01502594149361736,
          0.018917673952468985,
          0.0004039362841664028,
          0.0006119369704621594,
          0.02071219245159441,
          0.006610329818698836,
          0.002318649407456523,
          0.006031683525252933,
          0.000834904429066768,
          0.0009700872033669063,
          0.0007709290921736532,
          0.003448313259146431,
          0.002958537460624439,
          0.0013840038076106823,
          0.005407423584086745,
          0.00589596837307965,
          0.009026267885635066,
          0.008432395742033767,
          0.01078625038395446,
          0.008779539329279723,
          0.009402318280533449,
          0.008057336971694607,
          0.0068715458835421845,
          0.0008585812637419161,
          0.0009738899426474639,
          0.0013103580507592006,
          0.001838131265518717,
          0.0017147202339010924,
          0.000645313853931336,
          0.02658247601016875,
          0.02719711984322601,
          0.001251727201890422,
          0.024246341270254965,
          0.026838342741540934,
          0.02766215977123684,
          0.025355228746287532,
          0.024843354548884672,
          0.02122700608689499,
          0.022823081934192975
         ],
         "xaxis": "x4",
         "y": [
          0.18690593873684422,
          0.7522673268920743,
          0.2338431710328644,
          -0.0013301517740015312,
          0.6137062265008765,
          0.16194840218469625,
          0.13681908824762234,
          0.4710324668464513,
          0.2792255974921575,
          -0.0013407015385649812,
          0.18549388628374747,
          0.14621986898935171,
          0.287850853481464,
          0.5432540668498562,
          0.17957788238346523,
          0.15647704144636831,
          -0.0013486097333834878,
          0.6594943271582097,
          0.6901633680981666,
          0.6835395710052412,
          0.6886971884126672,
          0.6828614593522937,
          0.5605276126268232,
          0.5663139578781541,
          0.5607584265811723,
          0.6126688229076873,
          0.5628379118774742,
          0.5576325343064334,
          0.5630941315908998,
          0.5576325343064336,
          0.653480348098505,
          0.6379948785980425,
          0.5570053871047312,
          0.6858518839261715,
          0.6860724919210556,
          0.6870054511467084,
          0.6950688655989212,
          0.5553386540957125,
          0.6949326892297025,
          0.6950930233655775,
          0.5553386540957129,
          0.718676985422443,
          0.7172600934728091,
          0.5553386540957129,
          0.15767743222805325,
          0.6214135905320622,
          -0.00135714017519184,
          0.33851622267835724,
          0.626955353821885,
          0.610164278961931,
          0.6087245962772553,
          0.5499946982775368,
          0.5877982918861344,
          0.37614939216238275,
          0.41047493143166697,
          0.3837824681178251,
          0.26015491839110383,
          0.3903963725964843,
          0.4775600380717894,
          0.6013310131344685,
          0.5553386540957125,
          0.276776497910051,
          0.46710358843979316,
          0.6491075677693376,
          0.2767764979100509,
          0.2767764979100509,
          0.2767764979100509,
          0.276776497910051,
          0.5553386540957126,
          0.6606320414735215,
          0.6475831284792585,
          0.6655656046285479,
          0.6518340948531478,
          0.6571542601731999,
          0.6397795308981464,
          0.6555326829452285,
          0.690950530534683,
          0.7680289237637512,
          0.6915273976217292,
          0.6637349147469912,
          0.6538036704729315,
          0.6470613731700471,
          0.6703632052004993,
          0.6702600565360733,
          0.6551232583120037,
          0.7640901942143159,
          0.7315875468222939,
          0.7611838901230149,
          0.7318340831996496,
          0.7295248504935363,
          0.7405707983346546,
          0.7158068478786274,
          0.7340797321423719,
          0.7314651983168573,
          0.7094348108701394,
          0.6333763668449677,
          0.62679211233717,
          0.7640901942143159,
          0.7604856718983701,
          0.7640800764271862,
          0.7640968977884672,
          0.7641945027507793,
          0.7407293759974392,
          0.8045064724109745,
          0.7413925128912054,
          0.7405684438078757,
          0.7387771095768633,
          0.7402253940312354,
          0.738278072369529,
          0.7406301293268995,
          0.7381043593228078,
          0.7452230356567233,
          0.738329981688482,
          0.7450317598031518,
          0.7248887373228079,
          0.7305169391814497,
          0.7328186426171636,
          0.6569214830441115,
          0.7631075109650769,
          0.7889356330561504,
          0.6524693930095609,
          0.6518612152185985,
          0.7756434619130571,
          0.7699737578039858,
          0.6863336219547045,
          0.6945951674794443,
          0.7597930655743859,
          0.7037481181971675,
          0.7864324099024311,
          0.773680154205061,
          0.6673533782032244,
          0.7500346422985703,
          0.6958810788876797,
          0.7633984973247443,
          0.7490917498010707,
          0.7513947070374134,
          0.7773658196168031,
          0.7635008180024723,
          0.7679382841896228,
          0.6805608928619818,
          0.6168940313174689,
          0.28867997972289167,
          0.6822214439626304,
          0.6155771211910969,
          0.28828533709912896,
          0.6751330236776419,
          0.6827618617150206,
          0.28818186775559085,
          -0.0013532522743284537,
          0.28833948773706586,
          0.30438704600927535,
          0.6893511654481038,
          0.7014820669556446,
          0.28833367885402295,
          0.2877652972653057,
          0.6401212821087714,
          0.13485919725590811,
          0.6063032132101815,
          0.7577980097256408,
          0.7597516694842644,
          0.765500458016292,
          0.65620637945693,
          0.6323124514770251,
          0.8022959599253798,
          0.80496470814667,
          0.7487789079922418,
          0.7945559316721974,
          0.8013298142652836,
          0.7974224158087133,
          0.7990456239882577,
          0.7962888946328358,
          0.7926745081685078,
          0.819910803885185,
          0.8335693392470791,
          0.839683216273141,
          0.829797002372674,
          0.826899759260949,
          0.8064011262350576,
          0.8107511900675576,
          0.7960693101984285,
          0.807976415711899,
          0.8035836178559619,
          0.8137723616929206,
          0.8195621058809544,
          0.8391529852939745,
          0.8391185526190927,
          0.83829013567705,
          0.838863045899861,
          0.8387348579718571,
          0.8418801047907072,
          0.7216046503743596,
          0.7183760137770276,
          0.8427969255387874,
          0.7330792781753115,
          0.7207844970739719,
          0.71604363067367,
          0.7269314959387774,
          0.7298565133525451,
          0.7463931302733944,
          0.7396877563011249
         ],
         "yaxis": "y4"
        },
        {
         "marker": {
          "color": [
           0,
           1,
           2,
           3,
           4,
           5,
           6,
           7,
           8,
           9,
           10,
           11,
           12,
           13,
           14,
           15,
           16,
           17,
           18,
           19,
           20,
           21,
           22,
           23,
           24,
           25,
           26,
           27,
           28,
           29,
           30,
           31,
           32,
           33,
           34,
           35,
           36,
           37,
           38,
           39,
           40,
           41,
           42,
           43,
           44,
           45,
           46,
           47,
           48,
           49,
           50,
           51,
           52,
           53,
           54,
           55,
           56,
           57,
           58,
           59,
           60,
           61,
           62,
           63,
           64,
           65,
           66,
           67,
           68,
           69,
           70,
           71,
           72,
           73,
           74,
           75,
           76,
           77,
           78,
           79,
           80,
           81,
           82,
           83,
           84,
           85,
           86,
           87,
           88,
           89,
           90,
           91,
           92,
           93,
           94,
           95,
           96,
           97,
           98,
           99,
           100,
           101,
           102,
           103,
           104,
           105,
           106,
           107,
           108,
           109,
           110,
           111,
           112,
           113,
           114,
           115,
           116,
           117,
           118,
           119,
           120,
           121,
           122,
           123,
           124,
           125,
           126,
           127,
           128,
           129,
           130,
           131,
           132,
           133,
           134,
           135,
           136,
           137,
           138,
           139,
           140,
           141,
           142,
           143,
           144,
           145,
           146,
           147,
           148,
           149,
           150,
           151,
           152,
           153,
           154,
           155,
           156,
           157,
           158,
           159,
           160,
           161,
           162,
           163,
           164,
           165,
           166,
           167,
           168,
           169,
           170,
           171,
           172,
           173,
           174,
           175,
           176,
           177,
           178,
           179,
           180,
           181,
           182,
           183,
           184,
           185,
           186,
           187,
           188,
           189,
           190,
           191,
           192,
           193,
           194,
           195,
           196,
           197,
           198,
           199
          ],
          "colorbar": {
           "title": {
            "text": "#Trials"
           },
           "x": 1,
           "xpad": 40
          },
          "colorscale": [
           [
            0,
            "rgb(247,251,255)"
           ],
           [
            0.125,
            "rgb(222,235,247)"
           ],
           [
            0.25,
            "rgb(198,219,239)"
           ],
           [
            0.375,
            "rgb(158,202,225)"
           ],
           [
            0.5,
            "rgb(107,174,214)"
           ],
           [
            0.625,
            "rgb(66,146,198)"
           ],
           [
            0.75,
            "rgb(33,113,181)"
           ],
           [
            0.875,
            "rgb(8,81,156)"
           ],
           [
            1,
            "rgb(8,48,107)"
           ]
          ],
          "line": {
           "color": "Grey",
           "width": 0.5
          },
          "showscale": false
         },
         "mode": "markers",
         "showlegend": false,
         "type": "scatter",
         "x": [
          0.3697025525816216,
          0.05319322831321632,
          0.087271842469209,
          0.4459173739887941,
          0.040124401852104696,
          0.4067807161915308,
          0.024750205717561924,
          0.020910169320308647,
          0.33963235819013593,
          0.4538646050009887,
          0.3242418736432747,
          0.3417587276713087,
          0.42053287606133033,
          0.13663128704892447,
          0.27649164468138676,
          0.0020894146502621336,
          0.46039404261432,
          0.18045506467092345,
          0.15412880343991264,
          0.16452798960631426,
          0.1554223126233168,
          0.1664771791699784,
          0.16585350093867957,
          0.15948193158340596,
          0.13486286980911943,
          0.14745577187551326,
          0.22132289689644002,
          0.2333284784403594,
          0.2086217051231689,
          0.22614730632119823,
          0.07017856517045246,
          0.09959180999644991,
          0.22767659782510877,
          0.09729111588914323,
          0.09432932844004034,
          0.08367765936714318,
          0.09704327774351959,
          0.1047947497158731,
          0.10426730923165675,
          0.10128154791235527,
          0.0972479056104926,
          0.0716610339833938,
          0.05005419458274468,
          0.04812619323545231,
          0.05918815099724162,
          0.0533726464128737,
          0.053841763962607085,
          0.045847610792703115,
          0.05993785220989492,
          0.05603023656230216,
          0.047486433525552714,
          0.006494079157155913,
          0.02263143139044449,
          0.01448937103993924,
          0.02046644417488048,
          0.020053818296254057,
          0.49401176204352026,
          0.4956222876737432,
          0.11685386185330156,
          0.12681173013694896,
          0.2805271714514166,
          0.07832696072927248,
          0.11933063956378762,
          0.12304058211455803,
          0.12162425872169742,
          0.11972996499657451,
          0.1283061389761307,
          0.07932405054233624,
          0.271048504090842,
          0.18072033965204476,
          0.18702519633671527,
          0.17804577879899983,
          0.18443087305795236,
          0.18225431762821678,
          0.18943015212678233,
          0.18322860701797639,
          0.14807004024513198,
          0.03057351606988342,
          0.14686627443746647,
          0.0707046899035839,
          0.1437763180082405,
          0.14392451909974016,
          0.03515241311684893,
          0.0693300429977942,
          0.14504935126298227,
          0.03233242906914374,
          0.10693613284787144,
          0.035738455922688636,
          0.1059818742109655,
          0.1094134991360989,
          0.08890653068526488,
          0.035858803916603475,
          0.10347938914558111,
          0.1071786929779884,
          0.034995150484444064,
          0.03747941497764508,
          0.031076333755579725,
          0.032799549846082424,
          0.03618439977423302,
          0.03409040940420516,
          0.03256794487849265,
          0.033982283930962594,
          0.08628422740771083,
          0.0046827997339177856,
          0.08532414147302234,
          0.09004182555218815,
          0.000873809676141972,
          0.007780819351340382,
          0.0043187839102318965,
          0.002423544347662572,
          0.0012033845591241238,
          0.003984707696109993,
          0.00027208695875811234,
          0.0006115163504294072,
          0.02521809945761194,
          0.027132854309613257,
          0.026553433932874987,
          0.0280468689018849,
          0.017538028703992174,
          0.017474674600127627,
          0.026289565236616564,
          0.016109407687967654,
          0.02045589746052802,
          0.013981169361093494,
          0.015432531631062207,
          0.014010764360311578,
          0.0138699800512654,
          0.013116118197937614,
          0.01565638669416361,
          0.04301793032789328,
          0.047825478932541396,
          0.044291746451754856,
          0.04122821896353395,
          0.04305369151797579,
          0.04651775990595488,
          0.042466039676190205,
          0.0459147066674456,
          0.06186739393427821,
          0.0650850352853238,
          0.06596108583625906,
          0.06292367702916236,
          0.06396081763965546,
          0.05929592412687863,
          0.06162983135058398,
          0.06433389470488052,
          0.06300098269836267,
          0.05877837272255099,
          0.40102022790748704,
          0.052144050783643904,
          0.07449597492624965,
          0.3655524043671772,
          0.05179714448461842,
          0.053069835984254805,
          0.31562174810424365,
          0.022979872717902625,
          0.05303584271665249,
          0.05245043920602789,
          0.025543784621156477,
          0.026978331437284474,
          0.02594405518985032,
          0.02292653345765559,
          0.02375968834548281,
          0.03425033146376605,
          0.03422599480414586,
          0.03342431169131685,
          0.031599302375466425,
          0.03587341625059398,
          0.03471201496587374,
          0.0378154443869952,
          0.037711508937647346,
          0.035538835654092625,
          0.040372693928982836,
          0.014190434916178902,
          0.012270819665095006,
          0.0091248562148541,
          0.011344224526463536,
          0.012276625677936859,
          0.01227471400529484,
          0.012460679769816706,
          0.011711901146346616,
          0.01541281100550465,
          0.011915539438467886,
          0.014829536401131261,
          0.014890995042712716,
          0.009968226615422966,
          0.009927967922684267,
          0.010427776092154227,
          0.00945440395334909,
          0.009622664150346788,
          0.007917264933774489,
          0.008933302757094582,
          0.010843047238449168,
          0.006936218198727797,
          0.00847335950426941,
          0.00833774977114579,
          0.011733008719187121,
          0.008576564776847729,
          0.007103230733424179,
          0.008009764182041718,
          0.0007893409569662219
         ],
         "xaxis": "x5",
         "y": [
          0.18690593873684422,
          0.7522673268920743,
          0.2338431710328644,
          -0.0013301517740015312,
          0.6137062265008765,
          0.16194840218469625,
          0.13681908824762234,
          0.4710324668464513,
          0.2792255974921575,
          -0.0013407015385649812,
          0.18549388628374747,
          0.14621986898935171,
          0.287850853481464,
          0.5432540668498562,
          0.17957788238346523,
          0.15647704144636831,
          -0.0013486097333834878,
          0.6594943271582097,
          0.6901633680981666,
          0.6835395710052412,
          0.6886971884126672,
          0.6828614593522937,
          0.5605276126268232,
          0.5663139578781541,
          0.5607584265811723,
          0.6126688229076873,
          0.5628379118774742,
          0.5576325343064334,
          0.5630941315908998,
          0.5576325343064336,
          0.653480348098505,
          0.6379948785980425,
          0.5570053871047312,
          0.6858518839261715,
          0.6860724919210556,
          0.6870054511467084,
          0.6950688655989212,
          0.5553386540957125,
          0.6949326892297025,
          0.6950930233655775,
          0.5553386540957129,
          0.718676985422443,
          0.7172600934728091,
          0.5553386540957129,
          0.15767743222805325,
          0.6214135905320622,
          -0.00135714017519184,
          0.33851622267835724,
          0.626955353821885,
          0.610164278961931,
          0.6087245962772553,
          0.5499946982775368,
          0.5877982918861344,
          0.37614939216238275,
          0.41047493143166697,
          0.3837824681178251,
          0.26015491839110383,
          0.3903963725964843,
          0.4775600380717894,
          0.6013310131344685,
          0.5553386540957125,
          0.276776497910051,
          0.46710358843979316,
          0.6491075677693376,
          0.2767764979100509,
          0.2767764979100509,
          0.2767764979100509,
          0.276776497910051,
          0.5553386540957126,
          0.6606320414735215,
          0.6475831284792585,
          0.6655656046285479,
          0.6518340948531478,
          0.6571542601731999,
          0.6397795308981464,
          0.6555326829452285,
          0.690950530534683,
          0.7680289237637512,
          0.6915273976217292,
          0.6637349147469912,
          0.6538036704729315,
          0.6470613731700471,
          0.6703632052004993,
          0.6702600565360733,
          0.6551232583120037,
          0.7640901942143159,
          0.7315875468222939,
          0.7611838901230149,
          0.7318340831996496,
          0.7295248504935363,
          0.7405707983346546,
          0.7158068478786274,
          0.7340797321423719,
          0.7314651983168573,
          0.7094348108701394,
          0.6333763668449677,
          0.62679211233717,
          0.7640901942143159,
          0.7604856718983701,
          0.7640800764271862,
          0.7640968977884672,
          0.7641945027507793,
          0.7407293759974392,
          0.8045064724109745,
          0.7413925128912054,
          0.7405684438078757,
          0.7387771095768633,
          0.7402253940312354,
          0.738278072369529,
          0.7406301293268995,
          0.7381043593228078,
          0.7452230356567233,
          0.738329981688482,
          0.7450317598031518,
          0.7248887373228079,
          0.7305169391814497,
          0.7328186426171636,
          0.6569214830441115,
          0.7631075109650769,
          0.7889356330561504,
          0.6524693930095609,
          0.6518612152185985,
          0.7756434619130571,
          0.7699737578039858,
          0.6863336219547045,
          0.6945951674794443,
          0.7597930655743859,
          0.7037481181971675,
          0.7864324099024311,
          0.773680154205061,
          0.6673533782032244,
          0.7500346422985703,
          0.6958810788876797,
          0.7633984973247443,
          0.7490917498010707,
          0.7513947070374134,
          0.7773658196168031,
          0.7635008180024723,
          0.7679382841896228,
          0.6805608928619818,
          0.6168940313174689,
          0.28867997972289167,
          0.6822214439626304,
          0.6155771211910969,
          0.28828533709912896,
          0.6751330236776419,
          0.6827618617150206,
          0.28818186775559085,
          -0.0013532522743284537,
          0.28833948773706586,
          0.30438704600927535,
          0.6893511654481038,
          0.7014820669556446,
          0.28833367885402295,
          0.2877652972653057,
          0.6401212821087714,
          0.13485919725590811,
          0.6063032132101815,
          0.7577980097256408,
          0.7597516694842644,
          0.765500458016292,
          0.65620637945693,
          0.6323124514770251,
          0.8022959599253798,
          0.80496470814667,
          0.7487789079922418,
          0.7945559316721974,
          0.8013298142652836,
          0.7974224158087133,
          0.7990456239882577,
          0.7962888946328358,
          0.7926745081685078,
          0.819910803885185,
          0.8335693392470791,
          0.839683216273141,
          0.829797002372674,
          0.826899759260949,
          0.8064011262350576,
          0.8107511900675576,
          0.7960693101984285,
          0.807976415711899,
          0.8035836178559619,
          0.8137723616929206,
          0.8195621058809544,
          0.8391529852939745,
          0.8391185526190927,
          0.83829013567705,
          0.838863045899861,
          0.8387348579718571,
          0.8418801047907072,
          0.7216046503743596,
          0.7183760137770276,
          0.8427969255387874,
          0.7330792781753115,
          0.7207844970739719,
          0.71604363067367,
          0.7269314959387774,
          0.7298565133525451,
          0.7463931302733944,
          0.7396877563011249
         ],
         "yaxis": "y5"
        },
        {
         "marker": {
          "color": [
           0,
           1,
           2,
           3,
           4,
           5,
           6,
           7,
           8,
           9,
           10,
           11,
           12,
           13,
           14,
           15,
           16,
           17,
           18,
           19,
           20,
           21,
           22,
           23,
           24,
           25,
           26,
           27,
           28,
           29,
           30,
           31,
           32,
           33,
           34,
           35,
           36,
           37,
           38,
           39,
           40,
           41,
           42,
           43,
           44,
           45,
           46,
           47,
           48,
           49,
           50,
           51,
           52,
           53,
           54,
           55,
           56,
           57,
           58,
           59,
           60,
           61,
           62,
           63,
           64,
           65,
           66,
           67,
           68,
           69,
           70,
           71,
           72,
           73,
           74,
           75,
           76,
           77,
           78,
           79,
           80,
           81,
           82,
           83,
           84,
           85,
           86,
           87,
           88,
           89,
           90,
           91,
           92,
           93,
           94,
           95,
           96,
           97,
           98,
           99,
           100,
           101,
           102,
           103,
           104,
           105,
           106,
           107,
           108,
           109,
           110,
           111,
           112,
           113,
           114,
           115,
           116,
           117,
           118,
           119,
           120,
           121,
           122,
           123,
           124,
           125,
           126,
           127,
           128,
           129,
           130,
           131,
           132,
           133,
           134,
           135,
           136,
           137,
           138,
           139,
           140,
           141,
           142,
           143,
           144,
           145,
           146,
           147,
           148,
           149,
           150,
           151,
           152,
           153,
           154,
           155,
           156,
           157,
           158,
           159,
           160,
           161,
           162,
           163,
           164,
           165,
           166,
           167,
           168,
           169,
           170,
           171,
           172,
           173,
           174,
           175,
           176,
           177,
           178,
           179,
           180,
           181,
           182,
           183,
           184,
           185,
           186,
           187,
           188,
           189,
           190,
           191,
           192,
           193,
           194,
           195,
           196,
           197,
           198,
           199
          ],
          "colorbar": {
           "title": {
            "text": "#Trials"
           },
           "x": 1,
           "xpad": 40
          },
          "colorscale": [
           [
            0,
            "rgb(247,251,255)"
           ],
           [
            0.125,
            "rgb(222,235,247)"
           ],
           [
            0.25,
            "rgb(198,219,239)"
           ],
           [
            0.375,
            "rgb(158,202,225)"
           ],
           [
            0.5,
            "rgb(107,174,214)"
           ],
           [
            0.625,
            "rgb(66,146,198)"
           ],
           [
            0.75,
            "rgb(33,113,181)"
           ],
           [
            0.875,
            "rgb(8,81,156)"
           ],
           [
            1,
            "rgb(8,48,107)"
           ]
          ],
          "line": {
           "color": "Grey",
           "width": 0.5
          },
          "showscale": false
         },
         "mode": "markers",
         "showlegend": false,
         "type": "scatter",
         "x": [
          694,
          639,
          792,
          803,
          598,
          346,
          276,
          841,
          849,
          614,
          427,
          689,
          718,
          803,
          847,
          421,
          576,
          57,
          85,
          72,
          980,
          73,
          992,
          974,
          168,
          958,
          988,
          987,
          961,
          179,
          195,
          948,
          981,
          991,
          468,
          461,
          496,
          493,
          474,
          368,
          332,
          699,
          331,
          365,
          333,
          340,
          336,
          319,
          523,
          374,
          564,
          535,
          554,
          551,
          646,
          674,
          660,
          655,
          659,
          629,
          703,
          644,
          695,
          732,
          716,
          731,
          745,
          275,
          740,
          740,
          401,
          762,
          406,
          593,
          413,
          602,
          132,
          590,
          132,
          123,
          109,
          124,
          130,
          117,
          282,
          287,
          237,
          231,
          234,
          225,
          242,
          227,
          203,
          224,
          214,
          232,
          222,
          239,
          226,
          219,
          218,
          222,
          253,
          265,
          255,
          267,
          256,
          164,
          161,
          164,
          166,
          169,
          298,
          304,
          303,
          304,
          300,
          299,
          283,
          303,
          189,
          295,
          182,
          189,
          189,
          187,
          192,
          200,
          198,
          203,
          201,
          206,
          271,
          209,
          275,
          270,
          270,
          94,
          143,
          271,
          96,
          61,
          82,
          147,
          82,
          153,
          151,
          135,
          146,
          148,
          146,
          153,
          154,
          144,
          249,
          249,
          249,
          244,
          252,
          252,
          178,
          178,
          210,
          212,
          212,
          105,
          180,
          178,
          176,
          212,
          212,
          177,
          187,
          176,
          176,
          177,
          191,
          179,
          179,
          179,
          190,
          173,
          182,
          187,
          179,
          173,
          177,
          171,
          175,
          177,
          170,
          169,
          170,
          165,
          115,
          120,
          127,
          120,
          125,
          118
         ],
         "xaxis": "x6",
         "y": [
          0.18690593873684422,
          0.7522673268920743,
          0.2338431710328644,
          -0.0013301517740015312,
          0.6137062265008765,
          0.16194840218469625,
          0.13681908824762234,
          0.4710324668464513,
          0.2792255974921575,
          -0.0013407015385649812,
          0.18549388628374747,
          0.14621986898935171,
          0.287850853481464,
          0.5432540668498562,
          0.17957788238346523,
          0.15647704144636831,
          -0.0013486097333834878,
          0.6594943271582097,
          0.6901633680981666,
          0.6835395710052412,
          0.6886971884126672,
          0.6828614593522937,
          0.5605276126268232,
          0.5663139578781541,
          0.5607584265811723,
          0.6126688229076873,
          0.5628379118774742,
          0.5576325343064334,
          0.5630941315908998,
          0.5576325343064336,
          0.653480348098505,
          0.6379948785980425,
          0.5570053871047312,
          0.6858518839261715,
          0.6860724919210556,
          0.6870054511467084,
          0.6950688655989212,
          0.5553386540957125,
          0.6949326892297025,
          0.6950930233655775,
          0.5553386540957129,
          0.718676985422443,
          0.7172600934728091,
          0.5553386540957129,
          0.15767743222805325,
          0.6214135905320622,
          -0.00135714017519184,
          0.33851622267835724,
          0.626955353821885,
          0.610164278961931,
          0.6087245962772553,
          0.5499946982775368,
          0.5877982918861344,
          0.37614939216238275,
          0.41047493143166697,
          0.3837824681178251,
          0.26015491839110383,
          0.3903963725964843,
          0.4775600380717894,
          0.6013310131344685,
          0.5553386540957125,
          0.276776497910051,
          0.46710358843979316,
          0.6491075677693376,
          0.2767764979100509,
          0.2767764979100509,
          0.2767764979100509,
          0.276776497910051,
          0.5553386540957126,
          0.6606320414735215,
          0.6475831284792585,
          0.6655656046285479,
          0.6518340948531478,
          0.6571542601731999,
          0.6397795308981464,
          0.6555326829452285,
          0.690950530534683,
          0.7680289237637512,
          0.6915273976217292,
          0.6637349147469912,
          0.6538036704729315,
          0.6470613731700471,
          0.6703632052004993,
          0.6702600565360733,
          0.6551232583120037,
          0.7640901942143159,
          0.7315875468222939,
          0.7611838901230149,
          0.7318340831996496,
          0.7295248504935363,
          0.7405707983346546,
          0.7158068478786274,
          0.7340797321423719,
          0.7314651983168573,
          0.7094348108701394,
          0.6333763668449677,
          0.62679211233717,
          0.7640901942143159,
          0.7604856718983701,
          0.7640800764271862,
          0.7640968977884672,
          0.7641945027507793,
          0.7407293759974392,
          0.8045064724109745,
          0.7413925128912054,
          0.7405684438078757,
          0.7387771095768633,
          0.7402253940312354,
          0.738278072369529,
          0.7406301293268995,
          0.7381043593228078,
          0.7452230356567233,
          0.738329981688482,
          0.7450317598031518,
          0.7248887373228079,
          0.7305169391814497,
          0.7328186426171636,
          0.6569214830441115,
          0.7631075109650769,
          0.7889356330561504,
          0.6524693930095609,
          0.6518612152185985,
          0.7756434619130571,
          0.7699737578039858,
          0.6863336219547045,
          0.6945951674794443,
          0.7597930655743859,
          0.7037481181971675,
          0.7864324099024311,
          0.773680154205061,
          0.6673533782032244,
          0.7500346422985703,
          0.6958810788876797,
          0.7633984973247443,
          0.7490917498010707,
          0.7513947070374134,
          0.7773658196168031,
          0.7635008180024723,
          0.7679382841896228,
          0.6805608928619818,
          0.6168940313174689,
          0.28867997972289167,
          0.6822214439626304,
          0.6155771211910969,
          0.28828533709912896,
          0.6751330236776419,
          0.6827618617150206,
          0.28818186775559085,
          -0.0013532522743284537,
          0.28833948773706586,
          0.30438704600927535,
          0.6893511654481038,
          0.7014820669556446,
          0.28833367885402295,
          0.2877652972653057,
          0.6401212821087714,
          0.13485919725590811,
          0.6063032132101815,
          0.7577980097256408,
          0.7597516694842644,
          0.765500458016292,
          0.65620637945693,
          0.6323124514770251,
          0.8022959599253798,
          0.80496470814667,
          0.7487789079922418,
          0.7945559316721974,
          0.8013298142652836,
          0.7974224158087133,
          0.7990456239882577,
          0.7962888946328358,
          0.7926745081685078,
          0.819910803885185,
          0.8335693392470791,
          0.839683216273141,
          0.829797002372674,
          0.826899759260949,
          0.8064011262350576,
          0.8107511900675576,
          0.7960693101984285,
          0.807976415711899,
          0.8035836178559619,
          0.8137723616929206,
          0.8195621058809544,
          0.8391529852939745,
          0.8391185526190927,
          0.83829013567705,
          0.838863045899861,
          0.8387348579718571,
          0.8418801047907072,
          0.7216046503743596,
          0.7183760137770276,
          0.8427969255387874,
          0.7330792781753115,
          0.7207844970739719,
          0.71604363067367,
          0.7269314959387774,
          0.7298565133525451,
          0.7463931302733944,
          0.7396877563011249
         ],
         "yaxis": "y6"
        }
       ],
       "layout": {
        "template": {
         "data": {
          "bar": [
           {
            "error_x": {
             "color": "#2a3f5f"
            },
            "error_y": {
             "color": "#2a3f5f"
            },
            "marker": {
             "line": {
              "color": "#E5ECF6",
              "width": 0.5
             },
             "pattern": {
              "fillmode": "overlay",
              "size": 10,
              "solidity": 0.2
             }
            },
            "type": "bar"
           }
          ],
          "barpolar": [
           {
            "marker": {
             "line": {
              "color": "#E5ECF6",
              "width": 0.5
             },
             "pattern": {
              "fillmode": "overlay",
              "size": 10,
              "solidity": 0.2
             }
            },
            "type": "barpolar"
           }
          ],
          "carpet": [
           {
            "aaxis": {
             "endlinecolor": "#2a3f5f",
             "gridcolor": "white",
             "linecolor": "white",
             "minorgridcolor": "white",
             "startlinecolor": "#2a3f5f"
            },
            "baxis": {
             "endlinecolor": "#2a3f5f",
             "gridcolor": "white",
             "linecolor": "white",
             "minorgridcolor": "white",
             "startlinecolor": "#2a3f5f"
            },
            "type": "carpet"
           }
          ],
          "choropleth": [
           {
            "colorbar": {
             "outlinewidth": 0,
             "ticks": ""
            },
            "type": "choropleth"
           }
          ],
          "contour": [
           {
            "colorbar": {
             "outlinewidth": 0,
             "ticks": ""
            },
            "colorscale": [
             [
              0,
              "#0d0887"
             ],
             [
              0.1111111111111111,
              "#46039f"
             ],
             [
              0.2222222222222222,
              "#7201a8"
             ],
             [
              0.3333333333333333,
              "#9c179e"
             ],
             [
              0.4444444444444444,
              "#bd3786"
             ],
             [
              0.5555555555555556,
              "#d8576b"
             ],
             [
              0.6666666666666666,
              "#ed7953"
             ],
             [
              0.7777777777777778,
              "#fb9f3a"
             ],
             [
              0.8888888888888888,
              "#fdca26"
             ],
             [
              1,
              "#f0f921"
             ]
            ],
            "type": "contour"
           }
          ],
          "contourcarpet": [
           {
            "colorbar": {
             "outlinewidth": 0,
             "ticks": ""
            },
            "type": "contourcarpet"
           }
          ],
          "heatmap": [
           {
            "colorbar": {
             "outlinewidth": 0,
             "ticks": ""
            },
            "colorscale": [
             [
              0,
              "#0d0887"
             ],
             [
              0.1111111111111111,
              "#46039f"
             ],
             [
              0.2222222222222222,
              "#7201a8"
             ],
             [
              0.3333333333333333,
              "#9c179e"
             ],
             [
              0.4444444444444444,
              "#bd3786"
             ],
             [
              0.5555555555555556,
              "#d8576b"
             ],
             [
              0.6666666666666666,
              "#ed7953"
             ],
             [
              0.7777777777777778,
              "#fb9f3a"
             ],
             [
              0.8888888888888888,
              "#fdca26"
             ],
             [
              1,
              "#f0f921"
             ]
            ],
            "type": "heatmap"
           }
          ],
          "heatmapgl": [
           {
            "colorbar": {
             "outlinewidth": 0,
             "ticks": ""
            },
            "colorscale": [
             [
              0,
              "#0d0887"
             ],
             [
              0.1111111111111111,
              "#46039f"
             ],
             [
              0.2222222222222222,
              "#7201a8"
             ],
             [
              0.3333333333333333,
              "#9c179e"
             ],
             [
              0.4444444444444444,
              "#bd3786"
             ],
             [
              0.5555555555555556,
              "#d8576b"
             ],
             [
              0.6666666666666666,
              "#ed7953"
             ],
             [
              0.7777777777777778,
              "#fb9f3a"
             ],
             [
              0.8888888888888888,
              "#fdca26"
             ],
             [
              1,
              "#f0f921"
             ]
            ],
            "type": "heatmapgl"
           }
          ],
          "histogram": [
           {
            "marker": {
             "pattern": {
              "fillmode": "overlay",
              "size": 10,
              "solidity": 0.2
             }
            },
            "type": "histogram"
           }
          ],
          "histogram2d": [
           {
            "colorbar": {
             "outlinewidth": 0,
             "ticks": ""
            },
            "colorscale": [
             [
              0,
              "#0d0887"
             ],
             [
              0.1111111111111111,
              "#46039f"
             ],
             [
              0.2222222222222222,
              "#7201a8"
             ],
             [
              0.3333333333333333,
              "#9c179e"
             ],
             [
              0.4444444444444444,
              "#bd3786"
             ],
             [
              0.5555555555555556,
              "#d8576b"
             ],
             [
              0.6666666666666666,
              "#ed7953"
             ],
             [
              0.7777777777777778,
              "#fb9f3a"
             ],
             [
              0.8888888888888888,
              "#fdca26"
             ],
             [
              1,
              "#f0f921"
             ]
            ],
            "type": "histogram2d"
           }
          ],
          "histogram2dcontour": [
           {
            "colorbar": {
             "outlinewidth": 0,
             "ticks": ""
            },
            "colorscale": [
             [
              0,
              "#0d0887"
             ],
             [
              0.1111111111111111,
              "#46039f"
             ],
             [
              0.2222222222222222,
              "#7201a8"
             ],
             [
              0.3333333333333333,
              "#9c179e"
             ],
             [
              0.4444444444444444,
              "#bd3786"
             ],
             [
              0.5555555555555556,
              "#d8576b"
             ],
             [
              0.6666666666666666,
              "#ed7953"
             ],
             [
              0.7777777777777778,
              "#fb9f3a"
             ],
             [
              0.8888888888888888,
              "#fdca26"
             ],
             [
              1,
              "#f0f921"
             ]
            ],
            "type": "histogram2dcontour"
           }
          ],
          "mesh3d": [
           {
            "colorbar": {
             "outlinewidth": 0,
             "ticks": ""
            },
            "type": "mesh3d"
           }
          ],
          "parcoords": [
           {
            "line": {
             "colorbar": {
              "outlinewidth": 0,
              "ticks": ""
             }
            },
            "type": "parcoords"
           }
          ],
          "pie": [
           {
            "automargin": true,
            "type": "pie"
           }
          ],
          "scatter": [
           {
            "marker": {
             "colorbar": {
              "outlinewidth": 0,
              "ticks": ""
             }
            },
            "type": "scatter"
           }
          ],
          "scatter3d": [
           {
            "line": {
             "colorbar": {
              "outlinewidth": 0,
              "ticks": ""
             }
            },
            "marker": {
             "colorbar": {
              "outlinewidth": 0,
              "ticks": ""
             }
            },
            "type": "scatter3d"
           }
          ],
          "scattercarpet": [
           {
            "marker": {
             "colorbar": {
              "outlinewidth": 0,
              "ticks": ""
             }
            },
            "type": "scattercarpet"
           }
          ],
          "scattergeo": [
           {
            "marker": {
             "colorbar": {
              "outlinewidth": 0,
              "ticks": ""
             }
            },
            "type": "scattergeo"
           }
          ],
          "scattergl": [
           {
            "marker": {
             "colorbar": {
              "outlinewidth": 0,
              "ticks": ""
             }
            },
            "type": "scattergl"
           }
          ],
          "scattermapbox": [
           {
            "marker": {
             "colorbar": {
              "outlinewidth": 0,
              "ticks": ""
             }
            },
            "type": "scattermapbox"
           }
          ],
          "scatterpolar": [
           {
            "marker": {
             "colorbar": {
              "outlinewidth": 0,
              "ticks": ""
             }
            },
            "type": "scatterpolar"
           }
          ],
          "scatterpolargl": [
           {
            "marker": {
             "colorbar": {
              "outlinewidth": 0,
              "ticks": ""
             }
            },
            "type": "scatterpolargl"
           }
          ],
          "scatterternary": [
           {
            "marker": {
             "colorbar": {
              "outlinewidth": 0,
              "ticks": ""
             }
            },
            "type": "scatterternary"
           }
          ],
          "surface": [
           {
            "colorbar": {
             "outlinewidth": 0,
             "ticks": ""
            },
            "colorscale": [
             [
              0,
              "#0d0887"
             ],
             [
              0.1111111111111111,
              "#46039f"
             ],
             [
              0.2222222222222222,
              "#7201a8"
             ],
             [
              0.3333333333333333,
              "#9c179e"
             ],
             [
              0.4444444444444444,
              "#bd3786"
             ],
             [
              0.5555555555555556,
              "#d8576b"
             ],
             [
              0.6666666666666666,
              "#ed7953"
             ],
             [
              0.7777777777777778,
              "#fb9f3a"
             ],
             [
              0.8888888888888888,
              "#fdca26"
             ],
             [
              1,
              "#f0f921"
             ]
            ],
            "type": "surface"
           }
          ],
          "table": [
           {
            "cells": {
             "fill": {
              "color": "#EBF0F8"
             },
             "line": {
              "color": "white"
             }
            },
            "header": {
             "fill": {
              "color": "#C8D4E3"
             },
             "line": {
              "color": "white"
             }
            },
            "type": "table"
           }
          ]
         },
         "layout": {
          "annotationdefaults": {
           "arrowcolor": "#2a3f5f",
           "arrowhead": 0,
           "arrowwidth": 1
          },
          "autotypenumbers": "strict",
          "coloraxis": {
           "colorbar": {
            "outlinewidth": 0,
            "ticks": ""
           }
          },
          "colorscale": {
           "diverging": [
            [
             0,
             "#8e0152"
            ],
            [
             0.1,
             "#c51b7d"
            ],
            [
             0.2,
             "#de77ae"
            ],
            [
             0.3,
             "#f1b6da"
            ],
            [
             0.4,
             "#fde0ef"
            ],
            [
             0.5,
             "#f7f7f7"
            ],
            [
             0.6,
             "#e6f5d0"
            ],
            [
             0.7,
             "#b8e186"
            ],
            [
             0.8,
             "#7fbc41"
            ],
            [
             0.9,
             "#4d9221"
            ],
            [
             1,
             "#276419"
            ]
           ],
           "sequential": [
            [
             0,
             "#0d0887"
            ],
            [
             0.1111111111111111,
             "#46039f"
            ],
            [
             0.2222222222222222,
             "#7201a8"
            ],
            [
             0.3333333333333333,
             "#9c179e"
            ],
            [
             0.4444444444444444,
             "#bd3786"
            ],
            [
             0.5555555555555556,
             "#d8576b"
            ],
            [
             0.6666666666666666,
             "#ed7953"
            ],
            [
             0.7777777777777778,
             "#fb9f3a"
            ],
            [
             0.8888888888888888,
             "#fdca26"
            ],
            [
             1,
             "#f0f921"
            ]
           ],
           "sequentialminus": [
            [
             0,
             "#0d0887"
            ],
            [
             0.1111111111111111,
             "#46039f"
            ],
            [
             0.2222222222222222,
             "#7201a8"
            ],
            [
             0.3333333333333333,
             "#9c179e"
            ],
            [
             0.4444444444444444,
             "#bd3786"
            ],
            [
             0.5555555555555556,
             "#d8576b"
            ],
            [
             0.6666666666666666,
             "#ed7953"
            ],
            [
             0.7777777777777778,
             "#fb9f3a"
            ],
            [
             0.8888888888888888,
             "#fdca26"
            ],
            [
             1,
             "#f0f921"
            ]
           ]
          },
          "colorway": [
           "#636efa",
           "#EF553B",
           "#00cc96",
           "#ab63fa",
           "#FFA15A",
           "#19d3f3",
           "#FF6692",
           "#B6E880",
           "#FF97FF",
           "#FECB52"
          ],
          "font": {
           "color": "#2a3f5f"
          },
          "geo": {
           "bgcolor": "white",
           "lakecolor": "white",
           "landcolor": "#E5ECF6",
           "showlakes": true,
           "showland": true,
           "subunitcolor": "white"
          },
          "hoverlabel": {
           "align": "left"
          },
          "hovermode": "closest",
          "mapbox": {
           "style": "light"
          },
          "paper_bgcolor": "white",
          "plot_bgcolor": "#E5ECF6",
          "polar": {
           "angularaxis": {
            "gridcolor": "white",
            "linecolor": "white",
            "ticks": ""
           },
           "bgcolor": "#E5ECF6",
           "radialaxis": {
            "gridcolor": "white",
            "linecolor": "white",
            "ticks": ""
           }
          },
          "scene": {
           "xaxis": {
            "backgroundcolor": "#E5ECF6",
            "gridcolor": "white",
            "gridwidth": 2,
            "linecolor": "white",
            "showbackground": true,
            "ticks": "",
            "zerolinecolor": "white"
           },
           "yaxis": {
            "backgroundcolor": "#E5ECF6",
            "gridcolor": "white",
            "gridwidth": 2,
            "linecolor": "white",
            "showbackground": true,
            "ticks": "",
            "zerolinecolor": "white"
           },
           "zaxis": {
            "backgroundcolor": "#E5ECF6",
            "gridcolor": "white",
            "gridwidth": 2,
            "linecolor": "white",
            "showbackground": true,
            "ticks": "",
            "zerolinecolor": "white"
           }
          },
          "shapedefaults": {
           "line": {
            "color": "#2a3f5f"
           }
          },
          "ternary": {
           "aaxis": {
            "gridcolor": "white",
            "linecolor": "white",
            "ticks": ""
           },
           "baxis": {
            "gridcolor": "white",
            "linecolor": "white",
            "ticks": ""
           },
           "bgcolor": "#E5ECF6",
           "caxis": {
            "gridcolor": "white",
            "linecolor": "white",
            "ticks": ""
           }
          },
          "title": {
           "x": 0.05
          },
          "xaxis": {
           "automargin": true,
           "gridcolor": "white",
           "linecolor": "white",
           "ticks": "",
           "title": {
            "standoff": 15
           },
           "zerolinecolor": "white",
           "zerolinewidth": 2
          },
          "yaxis": {
           "automargin": true,
           "gridcolor": "white",
           "linecolor": "white",
           "ticks": "",
           "title": {
            "standoff": 15
           },
           "zerolinecolor": "white",
           "zerolinewidth": 2
          }
         }
        },
        "title": {
         "text": "Slice Plot"
        },
        "width": 1800,
        "xaxis": {
         "anchor": "y",
         "domain": [
          0,
          0.1388888888888889
         ],
         "title": {
          "text": "bootstrap"
         }
        },
        "xaxis2": {
         "anchor": "y2",
         "domain": [
          0.17222222222222222,
          0.3111111111111111
         ],
         "title": {
          "text": "max_depth"
         }
        },
        "xaxis3": {
         "anchor": "y3",
         "domain": [
          0.34444444444444444,
          0.48333333333333334
         ],
         "title": {
          "text": "max_features"
         }
        },
        "xaxis4": {
         "anchor": "y4",
         "domain": [
          0.5166666666666667,
          0.6555555555555557
         ],
         "title": {
          "text": "min_samples_leaf"
         }
        },
        "xaxis5": {
         "anchor": "y5",
         "domain": [
          0.6888888888888889,
          0.8277777777777777
         ],
         "title": {
          "text": "min_samples_split"
         }
        },
        "xaxis6": {
         "anchor": "y6",
         "domain": [
          0.861111111111111,
          1
         ],
         "title": {
          "text": "n_estimators"
         }
        },
        "yaxis": {
         "anchor": "x",
         "domain": [
          0,
          1
         ],
         "title": {
          "text": "Objective Value"
         }
        },
        "yaxis2": {
         "anchor": "x2",
         "domain": [
          0,
          1
         ],
         "matches": "y",
         "showticklabels": false
        },
        "yaxis3": {
         "anchor": "x3",
         "domain": [
          0,
          1
         ],
         "matches": "y",
         "showticklabels": false
        },
        "yaxis4": {
         "anchor": "x4",
         "domain": [
          0,
          1
         ],
         "matches": "y",
         "showticklabels": false
        },
        "yaxis5": {
         "anchor": "x5",
         "domain": [
          0,
          1
         ],
         "matches": "y",
         "showticklabels": false
        },
        "yaxis6": {
         "anchor": "x6",
         "domain": [
          0,
          1
         ],
         "matches": "y",
         "showticklabels": false
        }
       }
      }
     },
     "metadata": {},
     "output_type": "display_data"
    }
   ],
   "source": [
    "make_optuna_visualizations(rf_study)"
   ]
  },
  {
   "cell_type": "code",
   "execution_count": 24,
   "metadata": {},
   "outputs": [],
   "source": [
    "rf_tuned = rf_oscv.best_estimator_"
   ]
  },
  {
   "cell_type": "code",
   "execution_count": 25,
   "metadata": {},
   "outputs": [
    {
     "name": "stdout",
     "output_type": "stream",
     "text": [
      "Train R2: 0.871445\n",
      "Test R2: 0.828518\n"
     ]
    }
   ],
   "source": [
    "print('Train R2:', f.evaluate_model(rf_tuned, metric = 'r2', **train_data))\n",
    "print('Test R2:', f.evaluate_model(rf_tuned, metric = 'r2', **test_data))"
   ]
  },
  {
   "cell_type": "markdown",
   "metadata": {},
   "source": [
    "R2 scores of 0.797747 and 0.756056 on our train and test data respectively. This is a substantial change to our initial RandomForest model; however, we have eliminated the massive over fitting that was being performed at the initial modelling stage. We will look at how our model performs on our validation data and compare it to other models."
   ]
  },
  {
   "cell_type": "markdown",
   "metadata": {},
   "source": [
    "### Evaluate Final, Tuned Models on validation data"
   ]
  },
  {
   "cell_type": "code",
   "execution_count": 26,
   "metadata": {},
   "outputs": [
    {
     "data": {
      "text/html": [
       "<div>\n",
       "<style scoped>\n",
       "    .dataframe tbody tr th:only-of-type {\n",
       "        vertical-align: middle;\n",
       "    }\n",
       "\n",
       "    .dataframe tbody tr th {\n",
       "        vertical-align: top;\n",
       "    }\n",
       "\n",
       "    .dataframe thead th {\n",
       "        text-align: right;\n",
       "    }\n",
       "</style>\n",
       "<table border=\"1\" class=\"dataframe\">\n",
       "  <thead>\n",
       "    <tr style=\"text-align: right;\">\n",
       "      <th></th>\n",
       "      <th>R2 Train</th>\n",
       "      <th>R2 Test</th>\n",
       "      <th>R2 Validation</th>\n",
       "    </tr>\n",
       "  </thead>\n",
       "  <tbody>\n",
       "    <tr>\n",
       "      <th>Linear Regression</th>\n",
       "      <td>0.567670</td>\n",
       "      <td>0.551524</td>\n",
       "      <td>0.537439</td>\n",
       "    </tr>\n",
       "    <tr>\n",
       "      <th>Tuned XGBoost</th>\n",
       "      <td>0.946409</td>\n",
       "      <td>0.892250</td>\n",
       "      <td>0.887849</td>\n",
       "    </tr>\n",
       "    <tr>\n",
       "      <th>Tuned RandomForest</th>\n",
       "      <td>0.871445</td>\n",
       "      <td>0.828518</td>\n",
       "      <td>0.837286</td>\n",
       "    </tr>\n",
       "  </tbody>\n",
       "</table>\n",
       "</div>"
      ],
      "text/plain": [
       "                    R2 Train   R2 Test  R2 Validation\n",
       "Linear Regression   0.567670  0.551524       0.537439\n",
       "Tuned XGBoost       0.946409  0.892250       0.887849\n",
       "Tuned RandomForest  0.871445  0.828518       0.837286"
      ]
     },
     "execution_count": 26,
     "metadata": {},
     "output_type": "execute_result"
    }
   ],
   "source": [
    "tuned_models = [lr, xgb_tuned, rf_tuned]\n",
    "\n",
    "tuned_rmse = {\n",
    "    'R2 Train' : [f.evaluate_model(model, metric = 'r2', **train_data) for model in tuned_models],\n",
    "    'R2 Test' : [f.evaluate_model(model, metric = 'r2', **test_data) for model in tuned_models],\n",
    "    'R2 Validation' : [f.evaluate_model(model, metric = 'r2', **val_data) for model in tuned_models]\n",
    "    }\n",
    "    \n",
    "pd_rmse = pd.DataFrame(tuned_rmse, index = ['Linear Regression', 'Tuned XGBoost', 'Tuned RandomForest'])\n",
    "pd_rmse"
   ]
  },
  {
   "cell_type": "markdown",
   "metadata": {},
   "source": [
    "Looking at these R2 scores, it looks like the Tuned XGBoost model is the appropriate model for this problem due to it having the highest validation R2 score, close train and test R2 scores suggesting minimal over fitting, and high R2 scores in general for each dataset."
   ]
  },
  {
   "cell_type": "markdown",
   "metadata": {},
   "source": [
    "#### Make Plot to show Residuals for each model"
   ]
  },
  {
   "cell_type": "code",
   "execution_count": 27,
   "metadata": {},
   "outputs": [
    {
     "data": {
      "image/png": "[encoded data removed]",
      "text/plain": [
       "<Figure size 720x1728 with 3 Axes>"
      ]
     },
     "metadata": {
      "needs_background": "light"
     },
     "output_type": "display_data"
    }
   ],
   "source": [
    "def make_residual_plot():\n",
    "\n",
    "    fig, ax = plt.subplots(nrows = 3, ncols = 1, figsize=(10, 24))\n",
    "\n",
    "    for idx, model_info in enumerate([('Linear Regression (Baseline)', lr), ('Tuned XGBoost', xgb_tuned), ('Tuned Random Forest', rf_tuned)]):\n",
    "\n",
    "        model_name = model_info[0]\n",
    "        model = model_info[1]\n",
    "\n",
    "        sns.regplot(\n",
    "            ax = ax[idx],\n",
    "            x = model.predict(X_val),\n",
    "            y = y_val,\n",
    "            line_kws = {'color' : 'r'},\n",
    "        ).set(title = f'{model_name} - Model Residual Plot', ylabel = 'Actual rented_bike_count', xlabel = 'Predicted rental_bike_count')\n",
    "\n",
    "    plt.savefig(p.OUTPUTS_PATH + 'residuals1.png')\n",
    "    plt.show()\n",
    "\n",
    "make_residual_plot()"
   ]
  },
  {
   "cell_type": "markdown",
   "metadata": {},
   "source": [
    "As we can from the residual plots above, the Tuned XGBoost model has residuals closest to the y = 0 line. It looks like the residuals are larger at the extremities.... unexplained variance."
   ]
  },
  {
   "cell_type": "markdown",
   "metadata": {},
   "source": [
    "### Plot Histogram of Results"
   ]
  },
  {
   "cell_type": "code",
   "execution_count": 28,
   "metadata": {},
   "outputs": [
    {
     "data": {
      "image/png": "[encoded data removed]",
      "text/plain": [
       "<Figure size 1728x576 with 3 Axes>"
      ]
     },
     "metadata": {
      "needs_background": "light"
     },
     "output_type": "display_data"
    }
   ],
   "source": [
    "def display_dual_histograms():\n",
    "\n",
    "    fig, ax = plt.subplots(nrows = 1, ncols = 3, figsize = (24, 8))\n",
    "\n",
    "    for idx, model_info in enumerate([('Linear Regression (Baseline)', lr), ('Tuned XGBoost', xgb_tuned), ('Tuned Random Forest', rf_tuned)]):\n",
    "\n",
    "        model_name = model_info[0]\n",
    "        model = model_info[1]\n",
    "\n",
    "        for x in [y_val, model.predict(X_val)]:\n",
    "            sns.distplot(x, bins = 100, ax=ax[idx], kde = False).set(title = f'{model_name} Model - Histogram')\n",
    "\n",
    "    plt.show()\n",
    "\n",
    "display_dual_histograms()"
   ]
  },
  {
   "cell_type": "markdown",
   "metadata": {},
   "source": [
    "### Save the best model"
   ]
  },
  {
   "cell_type": "code",
   "execution_count": 29,
   "metadata": {},
   "outputs": [],
   "source": [
    "f.save_model_and_preds(xgb_tuned, model_name = 'best', X = X_val)"
   ]
  }
 ],
 "metadata": {
  "interpreter": {
   "hash": "d4d0be0daef6eafac08144bde7256d0240e3dc154c04f6176bdf38ffbf1040ae"
  },
  "kernelspec": {
   "display_name": "Python 3.10.0 ('itai-dev')",
   "language": "python",
   "name": "python3"
  },
  "language_info": {
   "codemirror_mode": {
    "name": "ipython",
    "version": 3
   },
   "file_extension": ".py",
   "mimetype": "text/x-python",
   "name": "python",
   "nbconvert_exporter": "python",
   "pygments_lexer": "ipython3",
   "version": "3.9.10"
  },
  "orig_nbformat": 4
 },
 "nbformat": 4,
 "nbformat_minor": 2
}
